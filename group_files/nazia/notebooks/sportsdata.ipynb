{
 "cells": [
  {
   "cell_type": "code",
   "execution_count": 1,
   "metadata": {
    "ExecuteTime": {
     "end_time": "2020-10-01T16:05:39.298774Z",
     "start_time": "2020-10-01T16:05:38.935907Z"
    }
   },
   "outputs": [],
   "source": [
    "# Dependencies\n",
    "import requests\n",
    "import json\n",
    "import requests\n",
    "import pandas as pd\n",
    "import numpy as np\n"
   ]
  },
  {
   "cell_type": "code",
   "execution_count": 2,
   "metadata": {
    "ExecuteTime": {
     "end_time": "2020-10-01T16:05:39.361500Z",
     "start_time": "2020-10-01T16:05:39.299772Z"
    }
   },
   "outputs": [
    {
     "ename": "ModuleNotFoundError",
     "evalue": "No module named 'config'",
     "output_type": "error",
     "traceback": [
      "\u001b[1;31m---------------------------------------------------------------------------\u001b[0m",
      "\u001b[1;31mModuleNotFoundError\u001b[0m                       Traceback (most recent call last)",
      "\u001b[1;32m<ipython-input-2-b26145076d22>\u001b[0m in \u001b[0;36m<module>\u001b[1;34m\u001b[0m\n\u001b[1;32m----> 1\u001b[1;33m \u001b[1;32mfrom\u001b[0m \u001b[0mconfig\u001b[0m \u001b[1;32mimport\u001b[0m \u001b[0mapi_key\u001b[0m\u001b[1;33m\u001b[0m\u001b[1;33m\u001b[0m\u001b[0m\n\u001b[0m",
      "\u001b[1;31mModuleNotFoundError\u001b[0m: No module named 'config'"
     ]
    }
   ],
   "source": [
    "from config import api_key"
   ]
  },
  {
   "cell_type": "code",
   "execution_count": null,
   "metadata": {
    "ExecuteTime": {
     "end_time": "2020-10-01T16:05:39.363513Z",
     "start_time": "2020-10-01T16:05:38.943Z"
    }
   },
   "outputs": [],
   "source": [
    "\n",
    "from pprint import pprint\n",
    "pprint(...)"
   ]
  },
  {
   "cell_type": "code",
   "execution_count": null,
   "metadata": {
    "ExecuteTime": {
     "end_time": "2020-10-01T16:05:39.364493Z",
     "start_time": "2020-10-01T16:05:38.947Z"
    }
   },
   "outputs": [],
   "source": [
    "url = \"https://api.sportsdata.io/v3/nba/scores/json/Players?\""
   ]
  },
  {
   "cell_type": "code",
   "execution_count": null,
   "metadata": {
    "ExecuteTime": {
     "end_time": "2020-10-01T16:05:39.366487Z",
     "start_time": "2020-10-01T16:05:38.949Z"
    }
   },
   "outputs": [],
   "source": [
    "query_url = f\"{url}key={api_key}\""
   ]
  },
  {
   "cell_type": "code",
   "execution_count": null,
   "metadata": {
    "ExecuteTime": {
     "end_time": "2020-10-01T16:05:39.366487Z",
     "start_time": "2020-10-01T16:05:38.958Z"
    }
   },
   "outputs": [],
   "source": [
    "response = requests.get(query_url)\n",
    "response_json = response.json()\n",
    "pprint(json.dumps(response_json,indent=4, sort_keys=True))\n"
   ]
  },
  {
   "cell_type": "code",
   "execution_count": null,
   "metadata": {
    "ExecuteTime": {
     "end_time": "2020-10-01T16:05:39.367484Z",
     "start_time": "2020-10-01T16:05:38.960Z"
    }
   },
   "outputs": [],
   "source": [
    "response_json[0]"
   ]
  },
  {
   "cell_type": "code",
   "execution_count": null,
   "metadata": {
    "ExecuteTime": {
     "end_time": "2020-10-01T16:05:39.368481Z",
     "start_time": "2020-10-01T16:05:38.963Z"
    }
   },
   "outputs": [],
   "source": [
    "players=pd.DataFrame(response_json)"
   ]
  },
  {
   "cell_type": "code",
   "execution_count": null,
   "metadata": {
    "ExecuteTime": {
     "end_time": "2020-10-01T16:05:39.369479Z",
     "start_time": "2020-10-01T16:05:38.966Z"
    }
   },
   "outputs": [],
   "source": [
    "players.to_pickle('players.pkl')\n",
    "players.to_csv('players.csv', index=False)"
   ]
  },
  {
   "cell_type": "code",
   "execution_count": null,
   "metadata": {
    "ExecuteTime": {
     "end_time": "2020-10-01T16:05:39.370476Z",
     "start_time": "2020-10-01T16:05:38.968Z"
    }
   },
   "outputs": [],
   "source": [
    "players = pd.read_pickle('players.pkl')"
   ]
  },
  {
   "cell_type": "code",
   "execution_count": null,
   "metadata": {
    "ExecuteTime": {
     "end_time": "2020-10-01T16:05:39.371474Z",
     "start_time": "2020-10-01T16:05:38.971Z"
    }
   },
   "outputs": [],
   "source": [
    "players.head()\n"
   ]
  },
  {
   "cell_type": "code",
   "execution_count": null,
   "metadata": {
    "ExecuteTime": {
     "end_time": "2020-10-01T16:05:39.372659Z",
     "start_time": "2020-10-01T16:05:38.973Z"
    }
   },
   "outputs": [],
   "source": [
    "players.columns"
   ]
  },
  {
   "cell_type": "code",
   "execution_count": null,
   "metadata": {
    "ExecuteTime": {
     "end_time": "2020-10-01T16:05:39.373469Z",
     "start_time": "2020-10-01T16:05:38.975Z"
    }
   },
   "outputs": [],
   "source": [
    "use_col = ['Team', 'PositionCategory','Position', 'FirstName', 'LastName', 'Height', 'Weight', 'BirthDate', 'BirthCity', 'BirthState', \n",
    "                        'BirthCountry', 'College', 'Salary', 'PhotoUrl', 'Experience']"
   ]
  },
  {
   "cell_type": "code",
   "execution_count": null,
   "metadata": {
    "ExecuteTime": {
     "end_time": "2020-10-01T16:05:39.374467Z",
     "start_time": "2020-10-01T16:05:38.977Z"
    }
   },
   "outputs": [],
   "source": [
    "healthinfo_df = players[use_col].copy()\n",
    "healthinfo_df"
   ]
  },
  {
   "cell_type": "code",
   "execution_count": null,
   "metadata": {
    "ExecuteTime": {
     "end_time": "2020-10-01T16:05:39.375464Z",
     "start_time": "2020-10-01T16:05:38.978Z"
    }
   },
   "outputs": [],
   "source": [
    "healthinfo_df['BMI'] = np.round((healthinfo_df['Weight']/healthinfo_df['Height']**2) * 703, decimals = 2)\n",
    "healthinfo_df.head()"
   ]
  },
  {
   "cell_type": "code",
   "execution_count": null,
   "metadata": {
    "ExecuteTime": {
     "end_time": "2020-10-01T16:05:39.375464Z",
     "start_time": "2020-10-01T16:05:38.980Z"
    }
   },
   "outputs": [],
   "source": [
    "healthinfo_df['PLAYER_NAME'] = healthinfo_df['FirstName'] + ' ' + healthinfo_df['LastName']"
   ]
  },
  {
   "cell_type": "code",
   "execution_count": null,
   "metadata": {
    "ExecuteTime": {
     "end_time": "2020-10-01T16:05:39.376461Z",
     "start_time": "2020-10-01T16:05:38.982Z"
    }
   },
   "outputs": [],
   "source": [
    "# Percentage of players\n",
    "with open('./_players_all_data.json') as json_file:\n",
    "    data = json.load(json_file)\n",
    "\n",
    "stats = pd.read_json(data)\n",
    "stats.head()\n"
   ]
  },
  {
   "cell_type": "code",
   "execution_count": null,
   "metadata": {},
   "outputs": [],
   "source": []
  },
  {
   "cell_type": "code",
   "execution_count": null,
   "metadata": {
    "ExecuteTime": {
     "end_time": "2020-10-01T16:05:39.377458Z",
     "start_time": "2020-10-01T16:05:38.985Z"
    }
   },
   "outputs": [],
   "source": [
    "stats.columns"
   ]
  },
  {
   "cell_type": "code",
   "execution_count": null,
   "metadata": {
    "ExecuteTime": {
     "end_time": "2020-10-01T16:05:39.378456Z",
     "start_time": "2020-10-01T16:05:38.987Z"
    }
   },
   "outputs": [],
   "source": [
    "def agg_stats(rows):\n",
    "    num_season = rows['SEASON_ID'].nunique()\n",
    "    num_games = rows['GP'].sum()\n",
    "    min_game = (rows['MIN']/rows['GP']).mean()\n",
    "    age = rows['PLAYER_AGE'].max()\n",
    "    return pd.Series({'age': age, 'num_season': num_season, 'num_games': num_games, 'min_game': min_game})"
   ]
  },
  {
   "cell_type": "code",
   "execution_count": null,
   "metadata": {
    "ExecuteTime": {
     "end_time": "2020-10-01T16:05:39.379452Z",
     "start_time": "2020-10-01T16:05:38.990Z"
    }
   },
   "outputs": [],
   "source": [
    "player_stats = stats.groupby('PLAYER_NAME').apply(agg_stats).reset_index()\n",
    "player_stats.head()"
   ]
  },
  {
   "cell_type": "code",
   "execution_count": null,
   "metadata": {
    "ExecuteTime": {
     "end_time": "2020-10-01T16:05:39.380450Z",
     "start_time": "2020-10-01T16:05:38.994Z"
    }
   },
   "outputs": [],
   "source": [
    "combined = healthinfo_df.merge(player_stats, on='PLAYER_NAME')"
   ]
  },
  {
   "cell_type": "code",
   "execution_count": null,
   "metadata": {
    "ExecuteTime": {
     "end_time": "2020-10-01T16:05:39.381447Z",
     "start_time": "2020-10-01T16:05:38.996Z"
    }
   },
   "outputs": [],
   "source": [
    "combined.corr()"
   ]
  },
  {
   "cell_type": "code",
   "execution_count": null,
   "metadata": {
    "ExecuteTime": {
     "end_time": "2020-10-01T16:05:39.381447Z",
     "start_time": "2020-10-01T16:05:38.998Z"
    }
   },
   "outputs": [],
   "source": [
    "combined.columns"
   ]
  },
  {
   "cell_type": "code",
   "execution_count": null,
   "metadata": {
    "ExecuteTime": {
     "end_time": "2020-10-01T16:05:39.382445Z",
     "start_time": "2020-10-01T16:05:38.999Z"
    }
   },
   "outputs": [],
   "source": [
    "combined "
   ]
  },
  {
   "cell_type": "code",
   "execution_count": null,
   "metadata": {
    "ExecuteTime": {
     "end_time": "2020-10-01T16:05:39.383442Z",
     "start_time": "2020-10-01T16:05:39.001Z"
    }
   },
   "outputs": [],
   "source": [
    "import seaborn as sns\n",
    "import matplotlib.pyplot as plt"
   ]
  },
  {
   "cell_type": "code",
   "execution_count": null,
   "metadata": {
    "ExecuteTime": {
     "end_time": "2020-10-01T16:05:39.384439Z",
     "start_time": "2020-10-01T16:05:39.003Z"
    }
   },
   "outputs": [],
   "source": [
    "sns.boxenplot(y='Position', x='BMI', data=combined)"
   ]
  },
  {
   "cell_type": "code",
   "execution_count": null,
   "metadata": {
    "ExecuteTime": {
     "end_time": "2020-10-01T16:05:39.385439Z",
     "start_time": "2020-10-01T16:05:39.004Z"
    }
   },
   "outputs": [],
   "source": [
    "sns.scatterplot(y='min_game', x='Experience', hue = 'BMI', data=combined)"
   ]
  },
  {
   "cell_type": "code",
   "execution_count": 20,
   "metadata": {},
   "outputs": [
    {
     "data": {
      "text/plain": [
       "<matplotlib.axes._subplots.AxesSubplot at 0x7f9f5b088bd0>"
      ]
     },
     "execution_count": 20,
     "metadata": {},
     "output_type": "execute_result"
    },
    {
     "data": {
      "image/png": "[encoded data removed]",
      "text/plain": [
       "<Figure size 1224x360 with 1 Axes>"
      ]
     },
     "metadata": {
      "needs_background": "light"
     },
     "output_type": "display_data"
    }
   ],
   "source": [
    "combined.groupby('BirthState')['BMI'].mean().sort_values().plot(kind='bar', figsize=(17,5))"
   ]
  },
  {
   "cell_type": "code",
   "execution_count": 21,
   "metadata": {},
   "outputs": [
    {
     "data": {
      "image/png": "[encoded data removed]",
      "text/plain": [
       "<Figure size 432x288 with 1 Axes>"
      ]
     },
     "metadata": {
      "needs_background": "light"
     },
     "output_type": "display_data"
    }
   ],
   "source": [
    "sns.scatterplot(y='Salary', x='BMI', data=combined, alpha=0.4)\n",
    "plt.yscale('log')"
   ]
  },
  {
   "cell_type": "code",
   "execution_count": null,
   "metadata": {},
   "outputs": [],
   "source": []
  },
  {
   "cell_type": "code",
   "execution_count": 22,
   "metadata": {},
   "outputs": [
    {
     "data": {
      "text/plain": [
       "<matplotlib.axes._subplots.AxesSubplot at 0x7f9f5b100850>"
      ]
     },
     "execution_count": 22,
     "metadata": {},
     "output_type": "execute_result"
    },
    {
     "data": {
      "image/png": "[encoded data removed]",
      "text/plain": [
       "<Figure size 432x288 with 1 Axes>"
      ]
     },
     "metadata": {
      "needs_background": "light"
     },
     "output_type": "display_data"
    }
   ],
   "source": [
    "sns.regplot(x='num_games', y='BMI', data=combined)"
   ]
  },
  {
   "cell_type": "code",
   "execution_count": 30,
   "metadata": {},
   "outputs": [],
   "source": [
    "import plotly.express as px"
   ]
  },
  {
   "cell_type": "code",
   "execution_count": 43,
   "metadata": {},
   "outputs": [],
   "source": [
    "fig.write_html('salary_bmi_player_name_scatter.html')"
   ]
  },
  {
   "cell_type": "code",
   "execution_count": 44,
   "metadata": {},
   "outputs": [
    {
     "data": {
      "application/vnd.plotly.v1+json": {
       "config": {
        "plotlyServerURL": "https://plot.ly"
       },
       "data": [
        {
         "customdata": [
          [
           "Bradley Beal"
          ],
          [
           "John Wall"
          ],
          [
           "Garrett Temple"
          ],
          [
           "Terrence Ross"
          ],
          [
           "Jonas Valanciunas"
          ],
          [
           "DeMar DeRozan"
          ],
          [
           "Kyle Lowry"
          ],
          [
           "Lou Williams"
          ],
          [
           "Patrick Patterson"
          ],
          [
           "James Johnson"
          ],
          [
           "Bruno Caboclo"
          ],
          [
           "Anthony Davis"
          ],
          [
           "Eric Gordon"
          ],
          [
           "Jrue Holiday"
          ],
          [
           "Draymond Green"
          ],
          [
           "Harrison Barnes"
          ],
          [
           "Stephen Curry"
          ],
          [
           "Klay Thompson"
          ],
          [
           "Andre Iguodala"
          ],
          [
           "Justin Holiday"
          ],
          [
           "Giannis Antetokounmpo"
          ],
          [
           "Ersan Ilyasova"
          ],
          [
           "Khris Middleton"
          ],
          [
           "Michael Carter-Williams"
          ],
          [
           "John Henson"
          ],
          [
           "Jared Dudley"
          ],
          [
           "Jabari Parker"
          ],
          [
           "Joakim Noah"
          ],
          [
           "Jimmy Butler"
          ],
          [
           "Derrick Rose"
          ],
          [
           "Taj Gibson"
          ],
          [
           "Tony Snell"
          ],
          [
           "Doug McDermott"
          ],
          [
           "E'Twaun Moore"
          ],
          [
           "Tyson Chandler"
          ],
          [
           "Rajon Rondo"
          ],
          [
           "J.J. Barea"
          ],
          [
           "Al-Farouq Aminu"
          ],
          [
           "Dwight Powell"
          ],
          [
           "Trevor Ariza"
          ],
          [
           "Dwight Howard"
          ],
          [
           "James Harden"
          ],
          [
           "Corey Brewer"
          ],
          [
           "Clint Capela"
          ],
          [
           "Patrick Beverley"
          ],
          [
           "Evan Turner"
          ],
          [
           "Tyler Zeller"
          ],
          [
           "Avery Bradley"
          ],
          [
           "Marcus Smart"
          ],
          [
           "Jae Crowder"
          ],
          [
           "Kelly Olynyk"
          ],
          [
           "LeBron James"
          ],
          [
           "Kevin Love"
          ],
          [
           "Kyrie Irving"
          ],
          [
           "Tristan Thompson"
          ],
          [
           "Matthew Dellavedova"
          ],
          [
           "Joe Harris"
          ],
          [
           "Thaddeus Young"
          ],
          [
           "Brook Lopez"
          ],
          [
           "Bojan Bogdanovic"
          ],
          [
           "Mason Plumlee"
          ],
          [
           "DeMarre Carroll"
          ],
          [
           "Paul Millsap"
          ],
          [
           "Al Horford"
          ],
          [
           "Kyle Korver"
          ],
          [
           "Jeff Teague"
          ],
          [
           "Dennis Schroder"
          ],
          [
           "Kent Bazemore"
          ],
          [
           "Mike Scott"
          ],
          [
           "Mike Muscala"
          ],
          [
           "Thabo Sefolosha"
          ],
          [
           "LaMarcus Aldridge"
          ],
          [
           "Nicolas Batum"
          ],
          [
           "Robin Lopez"
          ],
          [
           "Damian Lillard"
          ],
          [
           "Meyers Leonard"
          ],
          [
           "Wesley Matthews"
          ],
          [
           "Jeff Green"
          ],
          [
           "Marc Gasol"
          ],
          [
           "Courtney Lee"
          ],
          [
           "Mike Conley"
          ],
          [
           "Vince Carter"
          ],
          [
           "JaMychal Green"
          ],
          [
           "Kawhi Leonard"
          ],
          [
           "Danny Green"
          ],
          [
           "Aron Baynes"
          ],
          [
           "Marco Belinelli"
          ],
          [
           "Cory Joseph"
          ],
          [
           "Patty Mills"
          ],
          [
           "Kyle Anderson"
          ],
          [
           "Blake Griffin"
          ],
          [
           "DeAndre Jordan"
          ],
          [
           "Chris Paul"
          ],
          [
           "Jamal Crawford"
          ],
          [
           "Austin Rivers"
          ],
          [
           "Tobias Harris"
          ],
          [
           "Kyle O'Quinn"
          ],
          [
           "Nikola Vucevic"
          ],
          [
           "Evan Fournier"
          ],
          [
           "Elfrid Payton"
          ],
          [
           "Aaron Gordon"
          ],
          [
           "Dewayne Dedmon"
          ],
          [
           "Maurice Harkless"
          ],
          [
           "Victor Oladipo"
          ],
          [
           "Darius Miller"
          ],
          [
           "Troy Daniels"
          ],
          [
           "Ed Davis"
          ],
          [
           "Jordan Clarkson"
          ],
          [
           "Julius Randle"
          ],
          [
           "Wayne Ellington"
          ],
          [
           "Nerlens Noel"
          ],
          [
           "Joel Embiid"
          ],
          [
           "Jerami Grant"
          ],
          [
           "Solomon Hill"
          ],
          [
           "Ian Mahinmi"
          ],
          [
           "Paul George"
          ],
          [
           "George Hill"
          ],
          [
           "Brandon Knight"
          ],
          [
           "Michael Kidd-Gilchrist"
          ],
          [
           "Marvin Williams"
          ],
          [
           "Kemba Walker"
          ],
          [
           "Cody Zeller"
          ],
          [
           "Bismack Biyombo"
          ],
          [
           "Noah Vonleh"
          ],
          [
           "Shabazz Napier"
          ],
          [
           "Udonis Haslem"
          ],
          [
           "Carmelo Anthony"
          ],
          [
           "Tim Hardaway Jr."
          ],
          [
           "Andrew Wiggins"
          ],
          [
           "Ricky Rubio"
          ],
          [
           "Gorgui Dieng"
          ],
          [
           "Zach LaVine"
          ],
          [
           "Glenn Robinson III"
          ],
          [
           "Andre Drummond"
          ],
          [
           "Kentavious Caldwell-Pope"
          ],
          [
           "D.J. Augustin"
          ],
          [
           "Spencer Dinwiddie"
          ],
          [
           "Danilo Gallinari"
          ],
          [
           "Wilson Chandler"
          ],
          [
           "Jusuf Nurkic"
          ],
          [
           "JaVale McGee"
          ],
          [
           "Gary Harris"
          ],
          [
           "Gordon Hayward"
          ],
          [
           "Derrick Favors"
          ],
          [
           "Enes Kanter"
          ],
          [
           "Trey Burke"
          ],
          [
           "Alec Burks"
          ],
          [
           "Rodney Hood"
          ],
          [
           "Rudy Gobert"
          ],
          [
           "Dante Exum"
          ],
          [
           "Joe Ingles"
          ],
          [
           "Markieff Morris"
          ],
          [
           "Goran Dragic"
          ],
          [
           "Eric Bledsoe"
          ],
          [
           "Alex Len"
          ],
          [
           "Anthony Tolliver"
          ],
          [
           "P.J. Tucker"
          ],
          [
           "T.J. Warren"
          ],
          [
           "Rudy Gay"
          ],
          [
           "Ben McLemore"
          ],
          [
           "Serge Ibaka"
          ],
          [
           "Steven Adams"
          ],
          [
           "Andre Roberson"
          ],
          [
           "Russell Westbrook"
          ],
          [
           "Lance Thomas"
          ],
          [
           "Reggie Jackson"
          ],
          [
           "Jeremy Lamb"
          ],
          [
           "Kevin Durant"
          ],
          [
           "Will Barton"
          ],
          [
           "Dion Waiters"
          ],
          [
           "Reggie Bullock"
          ],
          [
           "Ish Smith"
          ],
          [
           "Robert Covington"
          ],
          [
           "Hassan Whiteside"
          ],
          [
           "Langston Galloway"
          ],
          [
           "Tyler Johnson"
          ],
          [
           "Seth Curry"
          ],
          [
           "Richaun Holmes"
          ],
          [
           "Jahlil Okafor"
          ],
          [
           "Kelly Oubre Jr."
          ],
          [
           "Frank Kaminsky"
          ],
          [
           "Josh Richardson"
          ],
          [
           "Justise Winslow"
          ],
          [
           "Mario Hezonja"
          ],
          [
           "Jerian Grant"
          ],
          [
           "Kristaps Porzingis"
          ],
          [
           "Rondae Hollis-Jefferson"
          ],
          [
           "Terry Rozier"
          ],
          [
           "Norman Powell"
          ],
          [
           "Delon Wright"
          ],
          [
           "Bobby Portis"
          ],
          [
           "Cedi Osman"
          ],
          [
           "Myles Turner"
          ],
          [
           "Stanley Johnson"
          ],
          [
           "Nemanja Bjelica"
          ],
          [
           "Tyus Jones"
          ],
          [
           "Karl-Anthony Towns"
          ],
          [
           "Trey Lyles"
          ],
          [
           "Raul Neto"
          ],
          [
           "Cameron Payne"
          ],
          [
           "Pat Connaughton"
          ],
          [
           "Nikola Jokic"
          ],
          [
           "Emmanuel Mudiay"
          ],
          [
           "Montrezl Harrell"
          ],
          [
           "Boban Marjanovic"
          ],
          [
           "Justin Anderson"
          ],
          [
           "Kevon Looney"
          ],
          [
           "Larry Nance Jr."
          ],
          [
           "D'Angelo Russell"
          ],
          [
           "Devin Booker"
          ],
          [
           "Willie Cauley-Stein"
          ],
          [
           "Treveon Graham"
          ],
          [
           "Brad Wanamaker"
          ],
          [
           "Thanasis Antetokounmpo"
          ],
          [
           "T.J. McConnell"
          ],
          [
           "Jordan McRae"
          ],
          [
           "Christian Wood"
          ],
          [
           "Malcolm Miller"
          ],
          [
           "Deonte Burton"
          ],
          [
           "Quinn Cook"
          ],
          [
           "Dario Saric"
          ],
          [
           "Rodney McGruder"
          ],
          [
           "Khem Birch"
          ],
          [
           "Ben Simmons"
          ],
          [
           "Jamal Murray"
          ],
          [
           "Thon Maker"
          ],
          [
           "Davis Bertans"
          ],
          [
           "Kris Dunn"
          ],
          [
           "Brandon Ingram"
          ],
          [
           "Jaylen Brown"
          ],
          [
           "Buddy Hield"
          ],
          [
           "Marquese Chriss"
          ],
          [
           "Skal Labissiere"
          ],
          [
           "Malik Beasley"
          ],
          [
           "Dejounte Murray"
          ],
          [
           "Taurean Prince"
          ],
          [
           "Patrick McCaw"
          ],
          [
           "Domantas Sabonis"
          ],
          [
           "Jakob Poeltl"
          ],
          [
           "Damian Jones"
          ],
          [
           "Denzel Valentine"
          ],
          [
           "Ivica Zubac"
          ],
          [
           "Ante Zizic"
          ],
          [
           "Cheick Diallo"
          ],
          [
           "Malcolm Brogdon"
          ],
          [
           "Jake Layman"
          ],
          [
           "Georges Niang"
          ],
          [
           "Pascal Siakam"
          ],
          [
           "Abdel Nader"
          ],
          [
           "Furkan Korkmaz"
          ],
          [
           "Gary Payton"
          ],
          [
           "Yogi Ferrell"
          ],
          [
           "Bogdan Bogdanovic"
          ],
          [
           "Ryan Arcidiacono"
          ],
          [
           "Tomas Satoransky"
          ],
          [
           "Dorian Finney-Smith"
          ],
          [
           "Bryn Forbes"
          ],
          [
           "Jarrod Uthoff"
          ],
          [
           "Damion Lee"
          ],
          [
           "Shaquille Harrison"
          ],
          [
           "Alex Caruso"
          ],
          [
           "David Nwaba"
          ],
          [
           "Hamidou Diallo"
          ],
          [
           "Lonzo Ball"
          ],
          [
           "De'Aaron Fox"
          ],
          [
           "Markelle Fultz"
          ],
          [
           "Dennis Smith Jr."
          ],
          [
           "Josh Jackson"
          ],
          [
           "Jayson Tatum"
          ],
          [
           "Jonathan Isaac"
          ],
          [
           "Lauri Markkanen"
          ],
          [
           "Frank Ntilikina"
          ],
          [
           "Malik Monk"
          ],
          [
           "Zach Collins"
          ],
          [
           "John Collins"
          ],
          [
           "Bam Adebayo"
          ],
          [
           "Jarrett Allen"
          ],
          [
           "OG Anunoby"
          ],
          [
           "TJ Leaf"
          ],
          [
           "Luke Kennard"
          ],
          [
           "D.J. Wilson"
          ],
          [
           "Justin Patton"
          ],
          [
           "Terrance Ferguson"
          ],
          [
           "Donovan Mitchell"
          ],
          [
           "Justin Jackson"
          ],
          [
           "Jordan Bell"
          ],
          [
           "Frank Jackson"
          ],
          [
           "Anzejs Pasecniks"
          ],
          [
           "Thomas Bryant"
          ],
          [
           "Josh Hart"
          ],
          [
           "Caleb Swanigan"
          ],
          [
           "Derrick White"
          ],
          [
           "Tony Bradley"
          ],
          [
           "Kyle Kuzma"
          ],
          [
           "Dwayne Bacon"
          ],
          [
           "Damyean Dotson"
          ],
          [
           "Sterling Brown"
          ],
          [
           "Semi Ojeleye"
          ],
          [
           "Sindarius Thornwell"
          ],
          [
           "Vlatko Cancar"
          ],
          [
           "Monte Morris"
          ],
          [
           "Dillon Brooks"
          ],
          [
           "Edmond Sumner"
          ],
          [
           "Nigel Williams-Goss"
          ],
          [
           "Chris Boucher"
          ],
          [
           "Luke Kornet"
          ],
          [
           "Kobi Simmons"
          ],
          [
           "Johnathan Motley"
          ],
          [
           "Daniel Theis"
          ],
          [
           "Alfonzo McKinnie"
          ],
          [
           "Torrey Craig"
          ],
          [
           "Royce O'Neale"
          ],
          [
           "Antonius Cleveland"
          ],
          [
           "Josh Gray"
          ],
          [
           "Luka Doncic"
          ],
          [
           "Grayson Allen"
          ],
          [
           "Michael Porter Jr."
          ],
          [
           "Trae Young"
          ],
          [
           "Deandre Ayton"
          ],
          [
           "Jaren Jackson Jr."
          ],
          [
           "Kevin Huerter"
          ],
          [
           "Wendell Carter Jr."
          ],
          [
           "Collin Sexton"
          ],
          [
           "Mikal Bridges"
          ],
          [
           "Shai Gilgeous-Alexander"
          ],
          [
           "Jerome Robinson"
          ],
          [
           "Zhaire Smith"
          ],
          [
           "Miles Bridges"
          ],
          [
           "Chandler Hutchison"
          ],
          [
           "Aaron Holiday"
          ],
          [
           "Josh Okogie"
          ],
          [
           "Anfernee Simons"
          ],
          [
           "Lonnie Walker IV"
          ],
          [
           "Devonte' Graham"
          ],
          [
           "Omari Spellman"
          ],
          [
           "Jarred Vanderbilt"
          ],
          [
           "Mitchell Robinson"
          ],
          [
           "Kostas Antetokounmpo"
          ],
          [
           "Isaac Bonga"
          ],
          [
           "Landry Shamet"
          ],
          [
           "Ray Spalding"
          ],
          [
           "Khyri Thomas"
          ],
          [
           "Rodions Kurucs"
          ],
          [
           "Dzanan Musa"
          ],
          [
           "Devon Hall"
          ],
          [
           "Gary Trent Jr."
          ],
          [
           "Jevon Carter"
          ],
          [
           "De'Anthony Melton"
          ],
          [
           "Chimezie Metu"
          ],
          [
           "Jalen Brunson"
          ],
          [
           "Shake Milton"
          ],
          [
           "Jacob Evans"
          ],
          [
           "Moritz Wagner"
          ],
          [
           "Elie Okobo"
          ],
          [
           "Alize Johnson"
          ],
          [
           "Keita Bates-Diop"
          ],
          [
           "Kevin Hervey"
          ],
          [
           "Drew Eubanks"
          ],
          [
           "Cameron Reynolds"
          ],
          [
           "Kenrich Williams"
          ],
          [
           "Duncan Robinson"
          ],
          [
           "Yuta Watanabe"
          ],
          [
           "Jaylen Adams"
          ],
          [
           "Johnathan Williams"
          ],
          [
           "Wenyen Gabriel"
          ],
          [
           "Kendrick Nunn"
          ],
          [
           "Gary Clark"
          ],
          [
           "Theo Pinson"
          ],
          [
           "Kelan Martin"
          ],
          [
           "Jordan McLaughlin"
          ],
          [
           "Brandon Goodwin"
          ],
          [
           "Paul Watson"
          ],
          [
           "Norvel Pelle"
          ],
          [
           "Javonte Green"
          ],
          [
           "Chris Chiozza"
          ],
          [
           "Ryan Broekhoff"
          ],
          [
           "Gabe Vincent"
          ],
          [
           "Ja Morant"
          ],
          [
           "De'Andre Hunter"
          ],
          [
           "Darius Garland"
          ],
          [
           "Zion Williamson"
          ],
          [
           "RJ Barrett"
          ],
          [
           "Jarrett Culver"
          ],
          [
           "Jaxson Hayes"
          ],
          [
           "Rui Hachimura"
          ],
          [
           "Cam Reddish"
          ],
          [
           "Romeo Langford"
          ],
          [
           "Grant Williams"
          ],
          [
           "Coby White"
          ],
          [
           "Sekou Doumbouya"
          ],
          [
           "Goga Bitadze"
          ],
          [
           "Brandon Clarke"
          ],
          [
           "Tyler Herro"
          ],
          [
           "Nickeil Alexander-Walker"
          ],
          [
           "Darius Bazley"
          ],
          [
           "Matisse Thybulle"
          ],
          [
           "Cameron Johnson"
          ],
          [
           "Luka Samanic"
          ],
          [
           "Bol Bol"
          ],
          [
           "Nicolas Claxton"
          ],
          [
           "Carsen Edwards"
          ],
          [
           "Cody Martin"
          ],
          [
           "Kevin Porter Jr."
          ],
          [
           "Isaiah Roby"
          ],
          [
           "Eric Paschall"
          ],
          [
           "Jordan Poole"
          ],
          [
           "Alen Smailagic"
          ],
          [
           "Mfiondu Kabengele"
          ],
          [
           "Talen Horton-Tucker"
          ],
          [
           "Bruno Fernando"
          ],
          [
           "Ty Jerome"
          ],
          [
           "Nassir Little"
          ],
          [
           "Keldon Johnson"
          ],
          [
           "Justin James"
          ],
          [
           "Admiral Schofield"
          ],
          [
           "Terance Mann"
          ],
          [
           "Ignas Brazdeikis"
          ],
          [
           "Tremont Waters"
          ],
          [
           "Jalen McDaniels"
          ],
          [
           "Jordan Bone"
          ],
          [
           "John Konchar"
          ],
          [
           "Jaylen Nowell"
          ],
          [
           "Zylan Cheatham"
          ],
          [
           "Marial Shayok"
          ],
          [
           "Jaylen Hoard"
          ],
          [
           "Quinndary Weatherspoon"
          ],
          [
           "Kyle Guy"
          ],
          [
           "Dewan Hernandez"
          ],
          [
           "Miye Oni"
          ],
          [
           "Justin Wright-Foreman"
          ],
          [
           "Daniel Gafford"
          ],
          [
           "Jarrell Brantley"
          ],
          [
           "Dean Wade"
          ],
          [
           "Naz Reid"
          ],
          [
           "Luguentz Dort"
          ],
          [
           "Jalen Lecque"
          ],
          [
           "Tacko Fall"
          ],
          [
           "Max Strus"
          ],
          [
           "Josh Reaves"
          ],
          [
           "Moses Brown"
          ],
          [
           "Chris Clemons"
          ],
          [
           "Oshae Brissett"
          ],
          [
           "Devontae Cacok"
          ],
          [
           "Kyle Alexander"
          ],
          [
           "Rayjon Tucker"
          ],
          [
           "Jared Harper"
          ],
          [
           "Amir Coffey"
          ],
          [
           "Jeremiah Martin"
          ],
          [
           "Tyler Cook"
          ],
          [
           "Louis King"
          ],
          [
           "Tariq Owens"
          ],
          [
           "Chris Silva"
          ],
          [
           "Vic Law"
          ],
          [
           "Ky Bowman"
          ],
          [
           "Juwan Morgan"
          ],
          [
           "William Howard"
          ],
          [
           "Nicolo Melli"
          ],
          [
           "Matt Thomas"
          ],
          [
           "Adam Mokoka"
          ],
          [
           "Vincent Poirier"
          ],
          [
           "Garrison Mathews"
          ],
          [
           "Caleb Martin"
          ],
          [
           "Terence Davis"
          ],
          [
           "Marko Guduric"
          ],
          [
           "Matt Mooney"
          ]
         ],
         "hovertemplate": "BMI=%{x}<br>Salary=%{y}<br>PLAYER_NAME=%{customdata[0]}<extra></extra>",
         "legendgroup": "",
         "marker": {
          "color": "#636efa",
          "symbol": "circle"
         },
         "mode": "markers",
         "name": "",
         "orientation": "v",
         "showlegend": false,
         "type": "scatter",
         "x": [
          25.87,
          25.56,
          23.12,
          23.8,
          27.04,
          25.42,
          26.58,
          23.09,
          25.81,
          27.03,
          23.36,
          26.45,
          26.87,
          25.62,
          26.58,
          24.71,
          23.12,
          24.84,
          24.84,
          20.8,
          24.7,
          25.18,
          25.01,
          22.53,
          23.47,
          27.39,
          26.91,
          23.47,
          25.91,
          25.68,
          24.86,
          24.61,
          25.34,
          23.87,
          23.41,
          23.75,
          25.82,
          24.17,
          25.09,
          23.62,
          27.71,
          26.09,
          19.93,
          25.09,
          23.75,
          25.42,
          25.41,
          22.5,
          27.5,
          27.15,
          24.49,
          26.79,
          27.57,
          25.03,
          27.22,
          25,
          25.42,
          25.81,
          28.1,
          24.82,
          25.92,
          24.84,
          28.95,
          25.72,
          23.88,
          24.37,
          22.69,
          23.73,
          26.7,
          25.09,
          24.84,
          25.51,
          24.64,
          28,
          25.03,
          25.9,
          26.78,
          25.81,
          26.02,
          25.49,
          23.09,
          25.42,
          24.93,
          25.34,
          24.84,
          27.18,
          26.09,
          25,
          23.75,
          24.64,
          26.79,
          27.04,
          23.09,
          21.94,
          25,
          24.82,
          26.79,
          26.53,
          23.09,
          24.37,
          25.81,
          24.41,
          24.78,
          25.92,
          26,
          24.95,
          23.36,
          23.37,
          27.46,
          25.19,
          23,
          27.9,
          23.07,
          26.11,
          26.74,
          24.17,
          23.5,
          23.36,
          26.58,
          26.03,
          24.95,
          23.91,
          28.01,
          26.87,
          23.73,
          25.81,
          26.14,
          24.31,
          22.19,
          23.75,
          26.35,
          23.11,
          25.65,
          29.17,
          24.19,
          25.52,
          25.49,
          24.36,
          25.81,
          28.89,
          26.9,
          25.56,
          25.34,
          28.39,
          26.14,
          25.09,
          24.73,
          22.85,
          25.1,
          25.37,
          24.78,
          26.91,
          23.75,
          28.23,
          24.91,
          26.36,
          29.05,
          24.17,
          27.46,
          24.37,
          23.41,
          27.04,
          23.65,
          25,
          25.81,
          26,
          21.34,
          25.09,
          21.46,
          26.25,
          23.69,
          23.73,
          23.54,
          26.4,
          26.38,
          23.12,
          23.75,
          24.57,
          28.23,
          22.87,
          23.91,
          23.71,
          25.65,
          24.17,
          24.83,
          22.29,
          25.07,
          25.06,
          26.87,
          21.94,
          26.14,
          25.91,
          25.51,
          27.96,
          24.46,
          26.58,
          25.31,
          25.07,
          23.75,
          23.75,
          24.78,
          28.3,
          25,
          27.03,
          26.33,
          27.39,
          23.79,
          27.6,
          23.49,
          24.43,
          23.91,
          25.97,
          26.25,
          25.31,
          25.06,
          21.22,
          22.37,
          23.65,
          29.21,
          23.75,
          23.52,
          24.95,
          24.97,
          25.09,
          26.17,
          22.02,
          23.52,
          25.62,
          21.4,
          25.77,
          26.78,
          25.72,
          24.57,
          22.76,
          21.91,
          24.56,
          20.39,
          24.49,
          23.84,
          25,
          26.78,
          23.91,
          27.81,
          24.06,
          27.15,
          22.96,
          25.91,
          24.64,
          26.68,
          22.75,
          24.37,
          24.14,
          25.42,
          24.37,
          23.65,
          24.78,
          26.32,
          23.68,
          24.9,
          21.4,
          22.05,
          25.97,
          23.95,
          21.95,
          23.12,
          26.12,
          26.32,
          22.74,
          23.07,
          23.47,
          23.91,
          24.34,
          25,
          25.51,
          25.18,
          27.32,
          24.8,
          26.13,
          23.21,
          24.43,
          24.15,
          24.59,
          21.95,
          28.36,
          24.78,
          23.73,
          25.62,
          21.41,
          25.93,
          25.49,
          27.86,
          23.12,
          25.93,
          24.28,
          25.54,
          24.9,
          25.97,
          27.73,
          26.17,
          25.92,
          23.49,
          25.34,
          23.86,
          24.39,
          21.43,
          23.76,
          21.34,
          25.26,
          26.91,
          24.22,
          24.89,
          27.51,
          23.12,
          24.41,
          25.91,
          24.1,
          22.79,
          23.75,
          25.51,
          24.7,
          21.4,
          28.93,
          25.06,
          24.15,
          21.34,
          23.12,
          25.62,
          26,
          23.65,
          25.09,
          25.92,
          22.62,
          24.19,
          25.72,
          26.91,
          22.93,
          23.91,
          20.91,
          19.77,
          23.12,
          22.48,
          26.25,
          24.43,
          23.25,
          27.6,
          24.78,
          26.38,
          25.68,
          24.11,
          25.06,
          24.31,
          25.56,
          25,
          23.75,
          23.88,
          25.15,
          24.64,
          26.25,
          25.34,
          24.27,
          24.22,
          23.62,
          24.39,
          24.43,
          21.97,
          24.39,
          26,
          25.14,
          27.27,
          25.8,
          24.41,
          24.27,
          24.15,
          24.95,
          24.54,
          24.84,
          25,
          21.75,
          25.34,
          25.33,
          32.82,
          24.73,
          22.53,
          22.45,
          25.26,
          23.95,
          26.29,
          27.27,
          23.73,
          25.26,
          25.51,
          23.62,
          23.12,
          24.31,
          22.85,
          23.83,
          23.07,
          23.73,
          20.91,
          21.94,
          27.89,
          24.31,
          24.71,
          25.26,
          29.46,
          23.61,
          22.48,
          26.79,
          28.48,
          25.72,
          23.12,
          26.09,
          26.09,
          21.4,
          28.58,
          25.49,
          25.54,
          25.11,
          21.43,
          22.5,
          24.9,
          24.46,
          26.09,
          23.48,
          23.73,
          25.62,
          22.03,
          24.57,
          24.43,
          25.77,
          24.46,
          29.64,
          24.43,
          28.29,
          26.87,
          22.52,
          27.6,
          25.49,
          26.05,
          23.29,
          26.58,
          23.65,
          26.36,
          22.45,
          26.12,
          24.4,
          23.65,
          23.75,
          28.01,
          23.09,
          21.43,
          25.7,
          22.53,
          24.67,
          26.13,
          22.74,
          25.29,
          23.12,
          22.53,
          23.41,
          25.49,
          24.31,
          24.46,
          23.23,
          25
         ],
         "xaxis": "x",
         "y": [
          27093019,
          38199000,
          4767000,
          12500000,
          16000000,
          27739975,
          34996296,
          8000000,
          1620564,
          15349400,
          1845301,
          27093018,
          14057730,
          26231111,
          18539130,
          24147727,
          40231758,
          32742000,
          17185185,
          4767000,
          25842697,
          7000000,
          30603448,
          1620564,
          9732396,
          1620564,
          6500000,
          null,
          32742000,
          7317073,
          9000000,
          11392857,
          7333333,
          8664928,
          1620564,
          2564753,
          1620564,
          9258000,
          10259375,
          12195122,
          1620564,
          38199000,
          null,
          14896552,
          12345680,
          18606556,
          245686,
          4767000,
          12553571,
          7815533,
          12667885,
          37436858,
          28942830,
          31742000,
          18539130,
          9607500,
          7666667,
          12900000,
          12093023,
          17000000,
          14041096,
          512721,
          30350000,
          28000000,
          1620564,
          19000000,
          15500000,
          19269662,
          4767000,
          2028594,
          1620564,
          26000000,
          25565217,
          4767000,
          29802321,
          11286516,
          2564753,
          439475,
          25595700,
          12759670,
          32511624,
          1620564,
          4767000,
          32742000,
          14634146,
          5453280,
          5846154,
          12000000,
          12428571,
          9073050,
          34449964,
          9881598,
          38506482,
          null,
          2147317,
          32742000,
          1620564,
          28000000,
          17150000,
          8000000,
          19863636,
          13333333,
          11011234,
          21000000,
          7000000,
          384541,
          4767000,
          13437500,
          18000000,
          8000000,
          1620564,
          27504630,
          9346153,
          12758781,
          15450051,
          30560700,
          9133907,
          15643750,
          595122,
          604278,
          32742000,
          14471910,
          17000000,
          2000000,
          1845301,
          1620564,
          1364204,
          20025127,
          27504630,
          16200000,
          16229213,
          19500000,
          1620564,
          27093019,
          8089282,
          7250000,
          10605600,
          22615559,
          1620564,
          13125000,
          4000000,
          17839286,
          32700690,
          17650000,
          4767000,
          1620564,
          1620564,
          5718000,
          23241573,
          9600000,
          11954546,
          1750000,
          19217900,
          15625000,
          4160000,
          183115,
          8349039,
          10810000,
          14500000,
          2028594,
          23271604,
          25842697,
          10740740,
          38506482,
          7119650,
          512721,
          10500000,
          38199000,
          12776786,
          375385,
          4000000,
          6000000,
          11301219,
          27093017,
          7333333,
          183115,
          7461380,
          4767000,
          1702486,
          15625000,
          4767000,
          10116576,
          13000000,
          1737145,
          null,
          27285000,
          2500000,
          19894737,
          10116576,
          9473684,
          15000000,
          2907143,
          18000000,
          3623000,
          6825000,
          9258000,
          27285000,
          5500000,
          1620564,
          1737145,
          1723050,
          27504630,
          1620564,
          6000000,
          3500000,
          null,
          4464226,
          12727273,
          27285000,
          27285000,
          2177483,
          1645357,
          1445697,
          1445697,
          3500000,
          1645357,
          1645357,
          1588231,
          1416852,
          3000000,
          3481986,
          4807693,
          3000000,
          8113930,
          4444746,
          3569643,
          7000000,
          5348007,
          7265485,
          6534829,
          4861208,
          654469,
          2338847,
          2731714,
          2321735,
          3481986,
          4000000,
          3529555,
          3754886,
          2305057,
          3377569,
          6481482,
          2281800,
          1678854,
          20000000,
          3581986,
          1645357,
          2351839,
          1618520,
          1620564,
          1052909,
          3150000,
          8529386,
          3000000,
          10000000,
          4000000,
          2875000,
          null,
          842327,
          1620564,
          2750000,
          903111,
          1416852,
          8719320,
          6392760,
          9745200,
          4463640,
          7059480,
          7830000,
          5806440,
          5300400,
          4855800,
          4028400,
          4240200,
          2686560,
          3454080,
          2376840,
          2281800,
          2813280,
          3827160,
          2961120,
          1620564,
          2475840,
          3635760,
          3280920,
          1620564,
          1618520,
          482144,
          8000000,
          1655160,
          2033160,
          1948080,
          1962360,
          1974600,
          1618520,
          1618520,
          1618520,
          1618520,
          null,
          898310,
          1588231,
          1618520,
          2000000,
          1500000,
          1588231,
          2250000,
          null,
          null,
          5000000,
          1500000,
          2000000,
          1618520,
          null,
          null,
          7683360,
          2429400,
          3389400,
          6273000,
          9562920,
          6927480,
          2636280,
          5201400,
          4764960,
          4161000,
          3952920,
          3567720,
          3058800,
          3755400,
          2332320,
          2329200,
          2530680,
          2149560,
          2689920,
          1416852,
          1897800,
          1416852,
          1599712,
          null,
          1416842,
          1995120,
          null,
          1416852,
          1699236,
          1911600,
          null,
          1416852,
          1416852,
          1416852,
          1416852,
          1416852,
          1455697,
          1925880,
          2063520,
          1416852,
          1416852,
          1416852,
          null,
          null,
          null,
          1416852,
          1416852,
          null,
          null,
          null,
          1445697,
          1416852,
          555409,
          1445697,
          null,
          null,
          522738,
          null,
          350189,
          898310,
          null,
          1416852,
          null,
          8730240,
          7068360,
          6400920,
          9757440,
          7839960,
          5813640,
          4862040,
          4469160,
          4245720,
          3458400,
          2379840,
          5307120,
          3285120,
          2816760,
          2478840,
          3640200,
          2964840,
          2284800,
          2582160,
          4033440,
          2689920,
          null,
          898310,
          1228026,
          1173310,
          1290960,
          1500000,
          898310,
          1964760,
          898310,
          1977000,
          898310,
          1400000,
          2193480,
          2105520,
          1950600,
          898310,
          1000000,
          1000000,
          898310,
          null,
          898310,
          null,
          null,
          1400000,
          null,
          null,
          null,
          null,
          null,
          898310,
          898310,
          null,
          898310,
          null,
          null,
          898310,
          155647,
          898310,
          null,
          898310,
          null,
          null,
          563347,
          null,
          null,
          null,
          578573,
          null,
          null,
          null,
          null,
          null,
          null,
          466918,
          null,
          350189,
          746054,
          null,
          4102564,
          898310,
          null,
          2505793,
          null,
          898310,
          898310,
          2625000,
          null
         ],
         "yaxis": "y"
        }
       ],
       "layout": {
        "legend": {
         "tracegroupgap": 0
        },
        "margin": {
         "t": 60
        },
        "template": {
         "data": {
          "bar": [
           {
            "error_x": {
             "color": "#2a3f5f"
            },
            "error_y": {
             "color": "#2a3f5f"
            },
            "marker": {
             "line": {
              "color": "#E5ECF6",
              "width": 0.5
             }
            },
            "type": "bar"
           }
          ],
          "barpolar": [
           {
            "marker": {
             "line": {
              "color": "#E5ECF6",
              "width": 0.5
             }
            },
            "type": "barpolar"
           }
          ],
          "carpet": [
           {
            "aaxis": {
             "endlinecolor": "#2a3f5f",
             "gridcolor": "white",
             "linecolor": "white",
             "minorgridcolor": "white",
             "startlinecolor": "#2a3f5f"
            },
            "baxis": {
             "endlinecolor": "#2a3f5f",
             "gridcolor": "white",
             "linecolor": "white",
             "minorgridcolor": "white",
             "startlinecolor": "#2a3f5f"
            },
            "type": "carpet"
           }
          ],
          "choropleth": [
           {
            "colorbar": {
             "outlinewidth": 0,
             "ticks": ""
            },
            "type": "choropleth"
           }
          ],
          "contour": [
           {
            "colorbar": {
             "outlinewidth": 0,
             "ticks": ""
            },
            "colorscale": [
             [
              0,
              "#0d0887"
             ],
             [
              0.1111111111111111,
              "#46039f"
             ],
             [
              0.2222222222222222,
              "#7201a8"
             ],
             [
              0.3333333333333333,
              "#9c179e"
             ],
             [
              0.4444444444444444,
              "#bd3786"
             ],
             [
              0.5555555555555556,
              "#d8576b"
             ],
             [
              0.6666666666666666,
              "#ed7953"
             ],
             [
              0.7777777777777778,
              "#fb9f3a"
             ],
             [
              0.8888888888888888,
              "#fdca26"
             ],
             [
              1,
              "#f0f921"
             ]
            ],
            "type": "contour"
           }
          ],
          "contourcarpet": [
           {
            "colorbar": {
             "outlinewidth": 0,
             "ticks": ""
            },
            "type": "contourcarpet"
           }
          ],
          "heatmap": [
           {
            "colorbar": {
             "outlinewidth": 0,
             "ticks": ""
            },
            "colorscale": [
             [
              0,
              "#0d0887"
             ],
             [
              0.1111111111111111,
              "#46039f"
             ],
             [
              0.2222222222222222,
              "#7201a8"
             ],
             [
              0.3333333333333333,
              "#9c179e"
             ],
             [
              0.4444444444444444,
              "#bd3786"
             ],
             [
              0.5555555555555556,
              "#d8576b"
             ],
             [
              0.6666666666666666,
              "#ed7953"
             ],
             [
              0.7777777777777778,
              "#fb9f3a"
             ],
             [
              0.8888888888888888,
              "#fdca26"
             ],
             [
              1,
              "#f0f921"
             ]
            ],
            "type": "heatmap"
           }
          ],
          "heatmapgl": [
           {
            "colorbar": {
             "outlinewidth": 0,
             "ticks": ""
            },
            "colorscale": [
             [
              0,
              "#0d0887"
             ],
             [
              0.1111111111111111,
              "#46039f"
             ],
             [
              0.2222222222222222,
              "#7201a8"
             ],
             [
              0.3333333333333333,
              "#9c179e"
             ],
             [
              0.4444444444444444,
              "#bd3786"
             ],
             [
              0.5555555555555556,
              "#d8576b"
             ],
             [
              0.6666666666666666,
              "#ed7953"
             ],
             [
              0.7777777777777778,
              "#fb9f3a"
             ],
             [
              0.8888888888888888,
              "#fdca26"
             ],
             [
              1,
              "#f0f921"
             ]
            ],
            "type": "heatmapgl"
           }
          ],
          "histogram": [
           {
            "marker": {
             "colorbar": {
              "outlinewidth": 0,
              "ticks": ""
             }
            },
            "type": "histogram"
           }
          ],
          "histogram2d": [
           {
            "colorbar": {
             "outlinewidth": 0,
             "ticks": ""
            },
            "colorscale": [
             [
              0,
              "#0d0887"
             ],
             [
              0.1111111111111111,
              "#46039f"
             ],
             [
              0.2222222222222222,
              "#7201a8"
             ],
             [
              0.3333333333333333,
              "#9c179e"
             ],
             [
              0.4444444444444444,
              "#bd3786"
             ],
             [
              0.5555555555555556,
              "#d8576b"
             ],
             [
              0.6666666666666666,
              "#ed7953"
             ],
             [
              0.7777777777777778,
              "#fb9f3a"
             ],
             [
              0.8888888888888888,
              "#fdca26"
             ],
             [
              1,
              "#f0f921"
             ]
            ],
            "type": "histogram2d"
           }
          ],
          "histogram2dcontour": [
           {
            "colorbar": {
             "outlinewidth": 0,
             "ticks": ""
            },
            "colorscale": [
             [
              0,
              "#0d0887"
             ],
             [
              0.1111111111111111,
              "#46039f"
             ],
             [
              0.2222222222222222,
              "#7201a8"
             ],
             [
              0.3333333333333333,
              "#9c179e"
             ],
             [
              0.4444444444444444,
              "#bd3786"
             ],
             [
              0.5555555555555556,
              "#d8576b"
             ],
             [
              0.6666666666666666,
              "#ed7953"
             ],
             [
              0.7777777777777778,
              "#fb9f3a"
             ],
             [
              0.8888888888888888,
              "#fdca26"
             ],
             [
              1,
              "#f0f921"
             ]
            ],
            "type": "histogram2dcontour"
           }
          ],
          "mesh3d": [
           {
            "colorbar": {
             "outlinewidth": 0,
             "ticks": ""
            },
            "type": "mesh3d"
           }
          ],
          "parcoords": [
           {
            "line": {
             "colorbar": {
              "outlinewidth": 0,
              "ticks": ""
             }
            },
            "type": "parcoords"
           }
          ],
          "pie": [
           {
            "automargin": true,
            "type": "pie"
           }
          ],
          "scatter": [
           {
            "marker": {
             "colorbar": {
              "outlinewidth": 0,
              "ticks": ""
             }
            },
            "type": "scatter"
           }
          ],
          "scatter3d": [
           {
            "line": {
             "colorbar": {
              "outlinewidth": 0,
              "ticks": ""
             }
            },
            "marker": {
             "colorbar": {
              "outlinewidth": 0,
              "ticks": ""
             }
            },
            "type": "scatter3d"
           }
          ],
          "scattercarpet": [
           {
            "marker": {
             "colorbar": {
              "outlinewidth": 0,
              "ticks": ""
             }
            },
            "type": "scattercarpet"
           }
          ],
          "scattergeo": [
           {
            "marker": {
             "colorbar": {
              "outlinewidth": 0,
              "ticks": ""
             }
            },
            "type": "scattergeo"
           }
          ],
          "scattergl": [
           {
            "marker": {
             "colorbar": {
              "outlinewidth": 0,
              "ticks": ""
             }
            },
            "type": "scattergl"
           }
          ],
          "scattermapbox": [
           {
            "marker": {
             "colorbar": {
              "outlinewidth": 0,
              "ticks": ""
             }
            },
            "type": "scattermapbox"
           }
          ],
          "scatterpolar": [
           {
            "marker": {
             "colorbar": {
              "outlinewidth": 0,
              "ticks": ""
             }
            },
            "type": "scatterpolar"
           }
          ],
          "scatterpolargl": [
           {
            "marker": {
             "colorbar": {
              "outlinewidth": 0,
              "ticks": ""
             }
            },
            "type": "scatterpolargl"
           }
          ],
          "scatterternary": [
           {
            "marker": {
             "colorbar": {
              "outlinewidth": 0,
              "ticks": ""
             }
            },
            "type": "scatterternary"
           }
          ],
          "surface": [
           {
            "colorbar": {
             "outlinewidth": 0,
             "ticks": ""
            },
            "colorscale": [
             [
              0,
              "#0d0887"
             ],
             [
              0.1111111111111111,
              "#46039f"
             ],
             [
              0.2222222222222222,
              "#7201a8"
             ],
             [
              0.3333333333333333,
              "#9c179e"
             ],
             [
              0.4444444444444444,
              "#bd3786"
             ],
             [
              0.5555555555555556,
              "#d8576b"
             ],
             [
              0.6666666666666666,
              "#ed7953"
             ],
             [
              0.7777777777777778,
              "#fb9f3a"
             ],
             [
              0.8888888888888888,
              "#fdca26"
             ],
             [
              1,
              "#f0f921"
             ]
            ],
            "type": "surface"
           }
          ],
          "table": [
           {
            "cells": {
             "fill": {
              "color": "#EBF0F8"
             },
             "line": {
              "color": "white"
             }
            },
            "header": {
             "fill": {
              "color": "#C8D4E3"
             },
             "line": {
              "color": "white"
             }
            },
            "type": "table"
           }
          ]
         },
         "layout": {
          "annotationdefaults": {
           "arrowcolor": "#2a3f5f",
           "arrowhead": 0,
           "arrowwidth": 1
          },
          "coloraxis": {
           "colorbar": {
            "outlinewidth": 0,
            "ticks": ""
           }
          },
          "colorscale": {
           "diverging": [
            [
             0,
             "#8e0152"
            ],
            [
             0.1,
             "#c51b7d"
            ],
            [
             0.2,
             "#de77ae"
            ],
            [
             0.3,
             "#f1b6da"
            ],
            [
             0.4,
             "#fde0ef"
            ],
            [
             0.5,
             "#f7f7f7"
            ],
            [
             0.6,
             "#e6f5d0"
            ],
            [
             0.7,
             "#b8e186"
            ],
            [
             0.8,
             "#7fbc41"
            ],
            [
             0.9,
             "#4d9221"
            ],
            [
             1,
             "#276419"
            ]
           ],
           "sequential": [
            [
             0,
             "#0d0887"
            ],
            [
             0.1111111111111111,
             "#46039f"
            ],
            [
             0.2222222222222222,
             "#7201a8"
            ],
            [
             0.3333333333333333,
             "#9c179e"
            ],
            [
             0.4444444444444444,
             "#bd3786"
            ],
            [
             0.5555555555555556,
             "#d8576b"
            ],
            [
             0.6666666666666666,
             "#ed7953"
            ],
            [
             0.7777777777777778,
             "#fb9f3a"
            ],
            [
             0.8888888888888888,
             "#fdca26"
            ],
            [
             1,
             "#f0f921"
            ]
           ],
           "sequentialminus": [
            [
             0,
             "#0d0887"
            ],
            [
             0.1111111111111111,
             "#46039f"
            ],
            [
             0.2222222222222222,
             "#7201a8"
            ],
            [
             0.3333333333333333,
             "#9c179e"
            ],
            [
             0.4444444444444444,
             "#bd3786"
            ],
            [
             0.5555555555555556,
             "#d8576b"
            ],
            [
             0.6666666666666666,
             "#ed7953"
            ],
            [
             0.7777777777777778,
             "#fb9f3a"
            ],
            [
             0.8888888888888888,
             "#fdca26"
            ],
            [
             1,
             "#f0f921"
            ]
           ]
          },
          "colorway": [
           "#636efa",
           "#EF553B",
           "#00cc96",
           "#ab63fa",
           "#FFA15A",
           "#19d3f3",
           "#FF6692",
           "#B6E880",
           "#FF97FF",
           "#FECB52"
          ],
          "font": {
           "color": "#2a3f5f"
          },
          "geo": {
           "bgcolor": "white",
           "lakecolor": "white",
           "landcolor": "#E5ECF6",
           "showlakes": true,
           "showland": true,
           "subunitcolor": "white"
          },
          "hoverlabel": {
           "align": "left"
          },
          "hovermode": "closest",
          "mapbox": {
           "style": "light"
          },
          "paper_bgcolor": "white",
          "plot_bgcolor": "#E5ECF6",
          "polar": {
           "angularaxis": {
            "gridcolor": "white",
            "linecolor": "white",
            "ticks": ""
           },
           "bgcolor": "#E5ECF6",
           "radialaxis": {
            "gridcolor": "white",
            "linecolor": "white",
            "ticks": ""
           }
          },
          "scene": {
           "xaxis": {
            "backgroundcolor": "#E5ECF6",
            "gridcolor": "white",
            "gridwidth": 2,
            "linecolor": "white",
            "showbackground": true,
            "ticks": "",
            "zerolinecolor": "white"
           },
           "yaxis": {
            "backgroundcolor": "#E5ECF6",
            "gridcolor": "white",
            "gridwidth": 2,
            "linecolor": "white",
            "showbackground": true,
            "ticks": "",
            "zerolinecolor": "white"
           },
           "zaxis": {
            "backgroundcolor": "#E5ECF6",
            "gridcolor": "white",
            "gridwidth": 2,
            "linecolor": "white",
            "showbackground": true,
            "ticks": "",
            "zerolinecolor": "white"
           }
          },
          "shapedefaults": {
           "line": {
            "color": "#2a3f5f"
           }
          },
          "ternary": {
           "aaxis": {
            "gridcolor": "white",
            "linecolor": "white",
            "ticks": ""
           },
           "baxis": {
            "gridcolor": "white",
            "linecolor": "white",
            "ticks": ""
           },
           "bgcolor": "#E5ECF6",
           "caxis": {
            "gridcolor": "white",
            "linecolor": "white",
            "ticks": ""
           }
          },
          "title": {
           "x": 0.05
          },
          "xaxis": {
           "automargin": true,
           "gridcolor": "white",
           "linecolor": "white",
           "ticks": "",
           "title": {
            "standoff": 15
           },
           "zerolinecolor": "white",
           "zerolinewidth": 2
          },
          "yaxis": {
           "automargin": true,
           "gridcolor": "white",
           "linecolor": "white",
           "ticks": "",
           "title": {
            "standoff": 15
           },
           "zerolinecolor": "white",
           "zerolinewidth": 2
          }
         }
        },
        "xaxis": {
         "anchor": "y",
         "domain": [
          0,
          1
         ],
         "title": {
          "text": "BMI"
         }
        },
        "yaxis": {
         "anchor": "x",
         "domain": [
          0,
          1
         ],
         "title": {
          "text": "Salary"
         }
        }
       }
      },
      "text/html": [
       "<div>\n",
       "        \n",
       "        \n",
       "            <div id=\"273db326-e91e-4e09-9ea8-2683078de059\" class=\"plotly-graph-div\" style=\"height:525px; width:100%;\"></div>\n",
       "            <script type=\"text/javascript\">\n",
       "                require([\"plotly\"], function(Plotly) {\n",
       "                    window.PLOTLYENV=window.PLOTLYENV || {};\n",
       "                    \n",
       "                if (document.getElementById(\"273db326-e91e-4e09-9ea8-2683078de059\")) {\n",
       "                    Plotly.newPlot(\n",
       "                        '273db326-e91e-4e09-9ea8-2683078de059',\n",
       "                        [{\"customdata\": [[\"Bradley Beal\"], [\"John Wall\"], [\"Garrett Temple\"], [\"Terrence Ross\"], [\"Jonas Valanciunas\"], [\"DeMar DeRozan\"], [\"Kyle Lowry\"], [\"Lou Williams\"], [\"Patrick Patterson\"], [\"James Johnson\"], [\"Bruno Caboclo\"], [\"Anthony Davis\"], [\"Eric Gordon\"], [\"Jrue Holiday\"], [\"Draymond Green\"], [\"Harrison Barnes\"], [\"Stephen Curry\"], [\"Klay Thompson\"], [\"Andre Iguodala\"], [\"Justin Holiday\"], [\"Giannis Antetokounmpo\"], [\"Ersan Ilyasova\"], [\"Khris Middleton\"], [\"Michael Carter-Williams\"], [\"John Henson\"], [\"Jared Dudley\"], [\"Jabari Parker\"], [\"Joakim Noah\"], [\"Jimmy Butler\"], [\"Derrick Rose\"], [\"Taj Gibson\"], [\"Tony Snell\"], [\"Doug McDermott\"], [\"E'Twaun Moore\"], [\"Tyson Chandler\"], [\"Rajon Rondo\"], [\"J.J. Barea\"], [\"Al-Farouq Aminu\"], [\"Dwight Powell\"], [\"Trevor Ariza\"], [\"Dwight Howard\"], [\"James Harden\"], [\"Corey Brewer\"], [\"Clint Capela\"], [\"Patrick Beverley\"], [\"Evan Turner\"], [\"Tyler Zeller\"], [\"Avery Bradley\"], [\"Marcus Smart\"], [\"Jae Crowder\"], [\"Kelly Olynyk\"], [\"LeBron James\"], [\"Kevin Love\"], [\"Kyrie Irving\"], [\"Tristan Thompson\"], [\"Matthew Dellavedova\"], [\"Joe Harris\"], [\"Thaddeus Young\"], [\"Brook Lopez\"], [\"Bojan Bogdanovic\"], [\"Mason Plumlee\"], [\"DeMarre Carroll\"], [\"Paul Millsap\"], [\"Al Horford\"], [\"Kyle Korver\"], [\"Jeff Teague\"], [\"Dennis Schroder\"], [\"Kent Bazemore\"], [\"Mike Scott\"], [\"Mike Muscala\"], [\"Thabo Sefolosha\"], [\"LaMarcus Aldridge\"], [\"Nicolas Batum\"], [\"Robin Lopez\"], [\"Damian Lillard\"], [\"Meyers Leonard\"], [\"Wesley Matthews\"], [\"Jeff Green\"], [\"Marc Gasol\"], [\"Courtney Lee\"], [\"Mike Conley\"], [\"Vince Carter\"], [\"JaMychal Green\"], [\"Kawhi Leonard\"], [\"Danny Green\"], [\"Aron Baynes\"], [\"Marco Belinelli\"], [\"Cory Joseph\"], [\"Patty Mills\"], [\"Kyle Anderson\"], [\"Blake Griffin\"], [\"DeAndre Jordan\"], [\"Chris Paul\"], [\"Jamal Crawford\"], [\"Austin Rivers\"], [\"Tobias Harris\"], [\"Kyle O'Quinn\"], [\"Nikola Vucevic\"], [\"Evan Fournier\"], [\"Elfrid Payton\"], [\"Aaron Gordon\"], [\"Dewayne Dedmon\"], [\"Maurice Harkless\"], [\"Victor Oladipo\"], [\"Darius Miller\"], [\"Troy Daniels\"], [\"Ed Davis\"], [\"Jordan Clarkson\"], [\"Julius Randle\"], [\"Wayne Ellington\"], [\"Nerlens Noel\"], [\"Joel Embiid\"], [\"Jerami Grant\"], [\"Solomon Hill\"], [\"Ian Mahinmi\"], [\"Paul George\"], [\"George Hill\"], [\"Brandon Knight\"], [\"Michael Kidd-Gilchrist\"], [\"Marvin Williams\"], [\"Kemba Walker\"], [\"Cody Zeller\"], [\"Bismack Biyombo\"], [\"Noah Vonleh\"], [\"Shabazz Napier\"], [\"Udonis Haslem\"], [\"Carmelo Anthony\"], [\"Tim Hardaway Jr.\"], [\"Andrew Wiggins\"], [\"Ricky Rubio\"], [\"Gorgui Dieng\"], [\"Zach LaVine\"], [\"Glenn Robinson III\"], [\"Andre Drummond\"], [\"Kentavious Caldwell-Pope\"], [\"D.J. Augustin\"], [\"Spencer Dinwiddie\"], [\"Danilo Gallinari\"], [\"Wilson Chandler\"], [\"Jusuf Nurkic\"], [\"JaVale McGee\"], [\"Gary Harris\"], [\"Gordon Hayward\"], [\"Derrick Favors\"], [\"Enes Kanter\"], [\"Trey Burke\"], [\"Alec Burks\"], [\"Rodney Hood\"], [\"Rudy Gobert\"], [\"Dante Exum\"], [\"Joe Ingles\"], [\"Markieff Morris\"], [\"Goran Dragic\"], [\"Eric Bledsoe\"], [\"Alex Len\"], [\"Anthony Tolliver\"], [\"P.J. Tucker\"], [\"T.J. Warren\"], [\"Rudy Gay\"], [\"Ben McLemore\"], [\"Serge Ibaka\"], [\"Steven Adams\"], [\"Andre Roberson\"], [\"Russell Westbrook\"], [\"Lance Thomas\"], [\"Reggie Jackson\"], [\"Jeremy Lamb\"], [\"Kevin Durant\"], [\"Will Barton\"], [\"Dion Waiters\"], [\"Reggie Bullock\"], [\"Ish Smith\"], [\"Robert Covington\"], [\"Hassan Whiteside\"], [\"Langston Galloway\"], [\"Tyler Johnson\"], [\"Seth Curry\"], [\"Richaun Holmes\"], [\"Jahlil Okafor\"], [\"Kelly Oubre Jr.\"], [\"Frank Kaminsky\"], [\"Josh Richardson\"], [\"Justise Winslow\"], [\"Mario Hezonja\"], [\"Jerian Grant\"], [\"Kristaps Porzingis\"], [\"Rondae Hollis-Jefferson\"], [\"Terry Rozier\"], [\"Norman Powell\"], [\"Delon Wright\"], [\"Bobby Portis\"], [\"Cedi Osman\"], [\"Myles Turner\"], [\"Stanley Johnson\"], [\"Nemanja Bjelica\"], [\"Tyus Jones\"], [\"Karl-Anthony Towns\"], [\"Trey Lyles\"], [\"Raul Neto\"], [\"Cameron Payne\"], [\"Pat Connaughton\"], [\"Nikola Jokic\"], [\"Emmanuel Mudiay\"], [\"Montrezl Harrell\"], [\"Boban Marjanovic\"], [\"Justin Anderson\"], [\"Kevon Looney\"], [\"Larry Nance Jr.\"], [\"D'Angelo Russell\"], [\"Devin Booker\"], [\"Willie Cauley-Stein\"], [\"Treveon Graham\"], [\"Brad Wanamaker\"], [\"Thanasis Antetokounmpo\"], [\"T.J. McConnell\"], [\"Jordan McRae\"], [\"Christian Wood\"], [\"Malcolm Miller\"], [\"Deonte Burton\"], [\"Quinn Cook\"], [\"Dario Saric\"], [\"Rodney McGruder\"], [\"Khem Birch\"], [\"Ben Simmons\"], [\"Jamal Murray\"], [\"Thon Maker\"], [\"Davis Bertans\"], [\"Kris Dunn\"], [\"Brandon Ingram\"], [\"Jaylen Brown\"], [\"Buddy Hield\"], [\"Marquese Chriss\"], [\"Skal Labissiere\"], [\"Malik Beasley\"], [\"Dejounte Murray\"], [\"Taurean Prince\"], [\"Patrick McCaw\"], [\"Domantas Sabonis\"], [\"Jakob Poeltl\"], [\"Damian Jones\"], [\"Denzel Valentine\"], [\"Ivica Zubac\"], [\"Ante Zizic\"], [\"Cheick Diallo\"], [\"Malcolm Brogdon\"], [\"Jake Layman\"], [\"Georges Niang\"], [\"Pascal Siakam\"], [\"Abdel Nader\"], [\"Furkan Korkmaz\"], [\"Gary Payton\"], [\"Yogi Ferrell\"], [\"Bogdan Bogdanovic\"], [\"Ryan Arcidiacono\"], [\"Tomas Satoransky\"], [\"Dorian Finney-Smith\"], [\"Bryn Forbes\"], [\"Jarrod Uthoff\"], [\"Damion Lee\"], [\"Shaquille Harrison\"], [\"Alex Caruso\"], [\"David Nwaba\"], [\"Hamidou Diallo\"], [\"Lonzo Ball\"], [\"De'Aaron Fox\"], [\"Markelle Fultz\"], [\"Dennis Smith Jr.\"], [\"Josh Jackson\"], [\"Jayson Tatum\"], [\"Jonathan Isaac\"], [\"Lauri Markkanen\"], [\"Frank Ntilikina\"], [\"Malik Monk\"], [\"Zach Collins\"], [\"John Collins\"], [\"Bam Adebayo\"], [\"Jarrett Allen\"], [\"OG Anunoby\"], [\"TJ Leaf\"], [\"Luke Kennard\"], [\"D.J. Wilson\"], [\"Justin Patton\"], [\"Terrance Ferguson\"], [\"Donovan Mitchell\"], [\"Justin Jackson\"], [\"Jordan Bell\"], [\"Frank Jackson\"], [\"Anzejs Pasecniks\"], [\"Thomas Bryant\"], [\"Josh Hart\"], [\"Caleb Swanigan\"], [\"Derrick White\"], [\"Tony Bradley\"], [\"Kyle Kuzma\"], [\"Dwayne Bacon\"], [\"Damyean Dotson\"], [\"Sterling Brown\"], [\"Semi Ojeleye\"], [\"Sindarius Thornwell\"], [\"Vlatko Cancar\"], [\"Monte Morris\"], [\"Dillon Brooks\"], [\"Edmond Sumner\"], [\"Nigel Williams-Goss\"], [\"Chris Boucher\"], [\"Luke Kornet\"], [\"Kobi Simmons\"], [\"Johnathan Motley\"], [\"Daniel Theis\"], [\"Alfonzo McKinnie\"], [\"Torrey Craig\"], [\"Royce O'Neale\"], [\"Antonius Cleveland\"], [\"Josh Gray\"], [\"Luka Doncic\"], [\"Grayson Allen\"], [\"Michael Porter Jr.\"], [\"Trae Young\"], [\"Deandre Ayton\"], [\"Jaren Jackson Jr.\"], [\"Kevin Huerter\"], [\"Wendell Carter Jr.\"], [\"Collin Sexton\"], [\"Mikal Bridges\"], [\"Shai Gilgeous-Alexander\"], [\"Jerome Robinson\"], [\"Zhaire Smith\"], [\"Miles Bridges\"], [\"Chandler Hutchison\"], [\"Aaron Holiday\"], [\"Josh Okogie\"], [\"Anfernee Simons\"], [\"Lonnie Walker IV\"], [\"Devonte' Graham\"], [\"Omari Spellman\"], [\"Jarred Vanderbilt\"], [\"Mitchell Robinson\"], [\"Kostas Antetokounmpo\"], [\"Isaac Bonga\"], [\"Landry Shamet\"], [\"Ray Spalding\"], [\"Khyri Thomas\"], [\"Rodions Kurucs\"], [\"Dzanan Musa\"], [\"Devon Hall\"], [\"Gary Trent Jr.\"], [\"Jevon Carter\"], [\"De'Anthony Melton\"], [\"Chimezie Metu\"], [\"Jalen Brunson\"], [\"Shake Milton\"], [\"Jacob Evans\"], [\"Moritz Wagner\"], [\"Elie Okobo\"], [\"Alize Johnson\"], [\"Keita Bates-Diop\"], [\"Kevin Hervey\"], [\"Drew Eubanks\"], [\"Cameron Reynolds\"], [\"Kenrich Williams\"], [\"Duncan Robinson\"], [\"Yuta Watanabe\"], [\"Jaylen Adams\"], [\"Johnathan Williams\"], [\"Wenyen Gabriel\"], [\"Kendrick Nunn\"], [\"Gary Clark\"], [\"Theo Pinson\"], [\"Kelan Martin\"], [\"Jordan McLaughlin\"], [\"Brandon Goodwin\"], [\"Paul Watson\"], [\"Norvel Pelle\"], [\"Javonte Green\"], [\"Chris Chiozza\"], [\"Ryan Broekhoff\"], [\"Gabe Vincent\"], [\"Ja Morant\"], [\"De'Andre Hunter\"], [\"Darius Garland\"], [\"Zion Williamson\"], [\"RJ Barrett\"], [\"Jarrett Culver\"], [\"Jaxson Hayes\"], [\"Rui Hachimura\"], [\"Cam Reddish\"], [\"Romeo Langford\"], [\"Grant Williams\"], [\"Coby White\"], [\"Sekou Doumbouya\"], [\"Goga Bitadze\"], [\"Brandon Clarke\"], [\"Tyler Herro\"], [\"Nickeil Alexander-Walker\"], [\"Darius Bazley\"], [\"Matisse Thybulle\"], [\"Cameron Johnson\"], [\"Luka Samanic\"], [\"Bol Bol\"], [\"Nicolas Claxton\"], [\"Carsen Edwards\"], [\"Cody Martin\"], [\"Kevin Porter Jr.\"], [\"Isaiah Roby\"], [\"Eric Paschall\"], [\"Jordan Poole\"], [\"Alen Smailagic\"], [\"Mfiondu Kabengele\"], [\"Talen Horton-Tucker\"], [\"Bruno Fernando\"], [\"Ty Jerome\"], [\"Nassir Little\"], [\"Keldon Johnson\"], [\"Justin James\"], [\"Admiral Schofield\"], [\"Terance Mann\"], [\"Ignas Brazdeikis\"], [\"Tremont Waters\"], [\"Jalen McDaniels\"], [\"Jordan Bone\"], [\"John Konchar\"], [\"Jaylen Nowell\"], [\"Zylan Cheatham\"], [\"Marial Shayok\"], [\"Jaylen Hoard\"], [\"Quinndary Weatherspoon\"], [\"Kyle Guy\"], [\"Dewan Hernandez\"], [\"Miye Oni\"], [\"Justin Wright-Foreman\"], [\"Daniel Gafford\"], [\"Jarrell Brantley\"], [\"Dean Wade\"], [\"Naz Reid\"], [\"Luguentz Dort\"], [\"Jalen Lecque\"], [\"Tacko Fall\"], [\"Max Strus\"], [\"Josh Reaves\"], [\"Moses Brown\"], [\"Chris Clemons\"], [\"Oshae Brissett\"], [\"Devontae Cacok\"], [\"Kyle Alexander\"], [\"Rayjon Tucker\"], [\"Jared Harper\"], [\"Amir Coffey\"], [\"Jeremiah Martin\"], [\"Tyler Cook\"], [\"Louis King\"], [\"Tariq Owens\"], [\"Chris Silva\"], [\"Vic Law\"], [\"Ky Bowman\"], [\"Juwan Morgan\"], [\"William Howard\"], [\"Nicolo Melli\"], [\"Matt Thomas\"], [\"Adam Mokoka\"], [\"Vincent Poirier\"], [\"Garrison Mathews\"], [\"Caleb Martin\"], [\"Terence Davis\"], [\"Marko Guduric\"], [\"Matt Mooney\"]], \"hovertemplate\": \"BMI=%{x}<br>Salary=%{y}<br>PLAYER_NAME=%{customdata[0]}<extra></extra>\", \"legendgroup\": \"\", \"marker\": {\"color\": \"#636efa\", \"symbol\": \"circle\"}, \"mode\": \"markers\", \"name\": \"\", \"orientation\": \"v\", \"showlegend\": false, \"type\": \"scatter\", \"x\": [25.87, 25.56, 23.12, 23.8, 27.04, 25.42, 26.58, 23.09, 25.81, 27.03, 23.36, 26.45, 26.87, 25.62, 26.58, 24.71, 23.12, 24.84, 24.84, 20.8, 24.7, 25.18, 25.01, 22.53, 23.47, 27.39, 26.91, 23.47, 25.91, 25.68, 24.86, 24.61, 25.34, 23.87, 23.41, 23.75, 25.82, 24.17, 25.09, 23.62, 27.71, 26.09, 19.93, 25.09, 23.75, 25.42, 25.41, 22.5, 27.5, 27.15, 24.49, 26.79, 27.57, 25.03, 27.22, 25.0, 25.42, 25.81, 28.1, 24.82, 25.92, 24.84, 28.95, 25.72, 23.88, 24.37, 22.69, 23.73, 26.7, 25.09, 24.84, 25.51, 24.64, 28.0, 25.03, 25.9, 26.78, 25.81, 26.02, 25.49, 23.09, 25.42, 24.93, 25.34, 24.84, 27.18, 26.09, 25.0, 23.75, 24.64, 26.79, 27.04, 23.09, 21.94, 25.0, 24.82, 26.79, 26.53, 23.09, 24.37, 25.81, 24.41, 24.78, 25.92, 26.0, 24.95, 23.36, 23.37, 27.46, 25.19, 23.0, 27.9, 23.07, 26.11, 26.74, 24.17, 23.5, 23.36, 26.58, 26.03, 24.95, 23.91, 28.01, 26.87, 23.73, 25.81, 26.14, 24.31, 22.19, 23.75, 26.35, 23.11, 25.65, 29.17, 24.19, 25.52, 25.49, 24.36, 25.81, 28.89, 26.9, 25.56, 25.34, 28.39, 26.14, 25.09, 24.73, 22.85, 25.1, 25.37, 24.78, 26.91, 23.75, 28.23, 24.91, 26.36, 29.05, 24.17, 27.46, 24.37, 23.41, 27.04, 23.65, 25.0, 25.81, 26.0, 21.34, 25.09, 21.46, 26.25, 23.69, 23.73, 23.54, 26.4, 26.38, 23.12, 23.75, 24.57, 28.23, 22.87, 23.91, 23.71, 25.65, 24.17, 24.83, 22.29, 25.07, 25.06, 26.87, 21.94, 26.14, 25.91, 25.51, 27.96, 24.46, 26.58, 25.31, 25.07, 23.75, 23.75, 24.78, 28.3, 25.0, 27.03, 26.33, 27.39, 23.79, 27.6, 23.49, 24.43, 23.91, 25.97, 26.25, 25.31, 25.06, 21.22, 22.37, 23.65, 29.21, 23.75, 23.52, 24.95, 24.97, 25.09, 26.17, 22.02, 23.52, 25.62, 21.4, 25.77, 26.78, 25.72, 24.57, 22.76, 21.91, 24.56, 20.39, 24.49, 23.84, 25.0, 26.78, 23.91, 27.81, 24.06, 27.15, 22.96, 25.91, 24.64, 26.68, 22.75, 24.37, 24.14, 25.42, 24.37, 23.65, 24.78, 26.32, 23.68, 24.9, 21.4, 22.05, 25.97, 23.95, 21.95, 23.12, 26.12, 26.32, 22.74, 23.07, 23.47, 23.91, 24.34, 25.0, 25.51, 25.18, 27.32, 24.8, 26.13, 23.21, 24.43, 24.15, 24.59, 21.95, 28.36, 24.78, 23.73, 25.62, 21.41, 25.93, 25.49, 27.86, 23.12, 25.93, 24.28, 25.54, 24.9, 25.97, 27.73, 26.17, 25.92, 23.49, 25.34, 23.86, 24.39, 21.43, 23.76, 21.34, 25.26, 26.91, 24.22, 24.89, 27.51, 23.12, 24.41, 25.91, 24.1, 22.79, 23.75, 25.51, 24.7, 21.4, 28.93, 25.06, 24.15, 21.34, 23.12, 25.62, 26.0, 23.65, 25.09, 25.92, 22.62, 24.19, 25.72, 26.91, 22.93, 23.91, 20.91, 19.77, 23.12, 22.48, 26.25, 24.43, 23.25, 27.6, 24.78, 26.38, 25.68, 24.11, 25.06, 24.31, 25.56, 25.0, 23.75, 23.88, 25.15, 24.64, 26.25, 25.34, 24.27, 24.22, 23.62, 24.39, 24.43, 21.97, 24.39, 26.0, 25.14, 27.27, 25.8, 24.41, 24.27, 24.15, 24.95, 24.54, 24.84, 25.0, 21.75, 25.34, 25.33, 32.82, 24.73, 22.53, 22.45, 25.26, 23.95, 26.29, 27.27, 23.73, 25.26, 25.51, 23.62, 23.12, 24.31, 22.85, 23.83, 23.07, 23.73, 20.91, 21.94, 27.89, 24.31, 24.71, 25.26, 29.46, 23.61, 22.48, 26.79, 28.48, 25.72, 23.12, 26.09, 26.09, 21.4, 28.58, 25.49, 25.54, 25.11, 21.43, 22.5, 24.9, 24.46, 26.09, 23.48, 23.73, 25.62, 22.03, 24.57, 24.43, 25.77, 24.46, 29.64, 24.43, 28.29, 26.87, 22.52, 27.6, 25.49, 26.05, 23.29, 26.58, 23.65, 26.36, 22.45, 26.12, 24.4, 23.65, 23.75, 28.01, 23.09, 21.43, 25.7, 22.53, 24.67, 26.13, 22.74, 25.29, 23.12, 22.53, 23.41, 25.49, 24.31, 24.46, 23.23, 25.0], \"xaxis\": \"x\", \"y\": [27093019.0, 38199000.0, 4767000.0, 12500000.0, 16000000.0, 27739975.0, 34996296.0, 8000000.0, 1620564.0, 15349400.0, 1845301.0, 27093018.0, 14057730.0, 26231111.0, 18539130.0, 24147727.0, 40231758.0, 32742000.0, 17185185.0, 4767000.0, 25842697.0, 7000000.0, 30603448.0, 1620564.0, 9732396.0, 1620564.0, 6500000.0, null, 32742000.0, 7317073.0, 9000000.0, 11392857.0, 7333333.0, 8664928.0, 1620564.0, 2564753.0, 1620564.0, 9258000.0, 10259375.0, 12195122.0, 1620564.0, 38199000.0, null, 14896552.0, 12345680.0, 18606556.0, 245686.0, 4767000.0, 12553571.0, 7815533.0, 12667885.0, 37436858.0, 28942830.0, 31742000.0, 18539130.0, 9607500.0, 7666667.0, 12900000.0, 12093023.0, 17000000.0, 14041096.0, 512721.0, 30350000.0, 28000000.0, 1620564.0, 19000000.0, 15500000.0, 19269662.0, 4767000.0, 2028594.0, 1620564.0, 26000000.0, 25565217.0, 4767000.0, 29802321.0, 11286516.0, 2564753.0, 439475.0, 25595700.0, 12759670.0, 32511624.0, 1620564.0, 4767000.0, 32742000.0, 14634146.0, 5453280.0, 5846154.0, 12000000.0, 12428571.0, 9073050.0, 34449964.0, 9881598.0, 38506482.0, null, 2147317.0, 32742000.0, 1620564.0, 28000000.0, 17150000.0, 8000000.0, 19863636.0, 13333333.0, 11011234.0, 21000000.0, 7000000.0, 384541.0, 4767000.0, 13437500.0, 18000000.0, 8000000.0, 1620564.0, 27504630.0, 9346153.0, 12758781.0, 15450051.0, 30560700.0, 9133907.0, 15643750.0, 595122.0, 604278.0, 32742000.0, 14471910.0, 17000000.0, 2000000.0, 1845301.0, 1620564.0, 1364204.0, 20025127.0, 27504630.0, 16200000.0, 16229213.0, 19500000.0, 1620564.0, 27093019.0, 8089282.0, 7250000.0, 10605600.0, 22615559.0, 1620564.0, 13125000.0, 4000000.0, 17839286.0, 32700690.0, 17650000.0, 4767000.0, 1620564.0, 1620564.0, 5718000.0, 23241573.0, 9600000.0, 11954546.0, 1750000.0, 19217900.0, 15625000.0, 4160000.0, 183115.0, 8349039.0, 10810000.0, 14500000.0, 2028594.0, 23271604.0, 25842697.0, 10740740.0, 38506482.0, 7119650.0, 512721.0, 10500000.0, 38199000.0, 12776786.0, 375385.0, 4000000.0, 6000000.0, 11301219.0, 27093017.0, 7333333.0, 183115.0, 7461380.0, 4767000.0, 1702486.0, 15625000.0, 4767000.0, 10116576.0, 13000000.0, 1737145.0, null, 27285000.0, 2500000.0, 19894737.0, 10116576.0, 9473684.0, 15000000.0, 2907143.0, 18000000.0, 3623000.0, 6825000.0, 9258000.0, 27285000.0, 5500000.0, 1620564.0, 1737145.0, 1723050.0, 27504630.0, 1620564.0, 6000000.0, 3500000.0, null, 4464226.0, 12727273.0, 27285000.0, 27285000.0, 2177483.0, 1645357.0, 1445697.0, 1445697.0, 3500000.0, 1645357.0, 1645357.0, 1588231.0, 1416852.0, 3000000.0, 3481986.0, 4807693.0, 3000000.0, 8113930.0, 4444746.0, 3569643.0, 7000000.0, 5348007.0, 7265485.0, 6534829.0, 4861208.0, 654469.0, 2338847.0, 2731714.0, 2321735.0, 3481986.0, 4000000.0, 3529555.0, 3754886.0, 2305057.0, 3377569.0, 6481482.0, 2281800.0, 1678854.0, 20000000.0, 3581986.0, 1645357.0, 2351839.0, 1618520.0, 1620564.0, 1052909.0, 3150000.0, 8529386.0, 3000000.0, 10000000.0, 4000000.0, 2875000.0, null, 842327.0, 1620564.0, 2750000.0, 903111.0, 1416852.0, 8719320.0, 6392760.0, 9745200.0, 4463640.0, 7059480.0, 7830000.0, 5806440.0, 5300400.0, 4855800.0, 4028400.0, 4240200.0, 2686560.0, 3454080.0, 2376840.0, 2281800.0, 2813280.0, 3827160.0, 2961120.0, 1620564.0, 2475840.0, 3635760.0, 3280920.0, 1620564.0, 1618520.0, 482144.0, 8000000.0, 1655160.0, 2033160.0, 1948080.0, 1962360.0, 1974600.0, 1618520.0, 1618520.0, 1618520.0, 1618520.0, null, 898310.0, 1588231.0, 1618520.0, 2000000.0, 1500000.0, 1588231.0, 2250000.0, null, null, 5000000.0, 1500000.0, 2000000.0, 1618520.0, null, null, 7683360.0, 2429400.0, 3389400.0, 6273000.0, 9562920.0, 6927480.0, 2636280.0, 5201400.0, 4764960.0, 4161000.0, 3952920.0, 3567720.0, 3058800.0, 3755400.0, 2332320.0, 2329200.0, 2530680.0, 2149560.0, 2689920.0, 1416852.0, 1897800.0, 1416852.0, 1599712.0, null, 1416842.0, 1995120.0, null, 1416852.0, 1699236.0, 1911600.0, null, 1416852.0, 1416852.0, 1416852.0, 1416852.0, 1416852.0, 1455697.0, 1925880.0, 2063520.0, 1416852.0, 1416852.0, 1416852.0, null, null, null, 1416852.0, 1416852.0, null, null, null, 1445697.0, 1416852.0, 555409.0, 1445697.0, null, null, 522738.0, null, 350189.0, 898310.0, null, 1416852.0, null, 8730240.0, 7068360.0, 6400920.0, 9757440.0, 7839960.0, 5813640.0, 4862040.0, 4469160.0, 4245720.0, 3458400.0, 2379840.0, 5307120.0, 3285120.0, 2816760.0, 2478840.0, 3640200.0, 2964840.0, 2284800.0, 2582160.0, 4033440.0, 2689920.0, null, 898310.0, 1228026.0, 1173310.0, 1290960.0, 1500000.0, 898310.0, 1964760.0, 898310.0, 1977000.0, 898310.0, 1400000.0, 2193480.0, 2105520.0, 1950600.0, 898310.0, 1000000.0, 1000000.0, 898310.0, null, 898310.0, null, null, 1400000.0, null, null, null, null, null, 898310.0, 898310.0, null, 898310.0, null, null, 898310.0, 155647.0, 898310.0, null, 898310.0, null, null, 563347.0, null, null, null, 578573.0, null, null, null, null, null, null, 466918.0, null, 350189.0, 746054.0, null, 4102564.0, 898310.0, null, 2505793.0, null, 898310.0, 898310.0, 2625000.0, null], \"yaxis\": \"y\"}],\n",
       "                        {\"legend\": {\"tracegroupgap\": 0}, \"margin\": {\"t\": 60}, \"template\": {\"data\": {\"bar\": [{\"error_x\": {\"color\": \"#2a3f5f\"}, \"error_y\": {\"color\": \"#2a3f5f\"}, \"marker\": {\"line\": {\"color\": \"#E5ECF6\", \"width\": 0.5}}, \"type\": \"bar\"}], \"barpolar\": [{\"marker\": {\"line\": {\"color\": \"#E5ECF6\", \"width\": 0.5}}, \"type\": \"barpolar\"}], \"carpet\": [{\"aaxis\": {\"endlinecolor\": \"#2a3f5f\", \"gridcolor\": \"white\", \"linecolor\": \"white\", \"minorgridcolor\": \"white\", \"startlinecolor\": \"#2a3f5f\"}, \"baxis\": {\"endlinecolor\": \"#2a3f5f\", \"gridcolor\": \"white\", \"linecolor\": \"white\", \"minorgridcolor\": \"white\", \"startlinecolor\": \"#2a3f5f\"}, \"type\": \"carpet\"}], \"choropleth\": [{\"colorbar\": {\"outlinewidth\": 0, \"ticks\": \"\"}, \"type\": \"choropleth\"}], \"contour\": [{\"colorbar\": {\"outlinewidth\": 0, \"ticks\": \"\"}, \"colorscale\": [[0.0, \"#0d0887\"], [0.1111111111111111, \"#46039f\"], [0.2222222222222222, \"#7201a8\"], [0.3333333333333333, \"#9c179e\"], [0.4444444444444444, \"#bd3786\"], [0.5555555555555556, \"#d8576b\"], [0.6666666666666666, \"#ed7953\"], [0.7777777777777778, \"#fb9f3a\"], [0.8888888888888888, \"#fdca26\"], [1.0, \"#f0f921\"]], \"type\": \"contour\"}], \"contourcarpet\": [{\"colorbar\": {\"outlinewidth\": 0, \"ticks\": \"\"}, \"type\": \"contourcarpet\"}], \"heatmap\": [{\"colorbar\": {\"outlinewidth\": 0, \"ticks\": \"\"}, \"colorscale\": [[0.0, \"#0d0887\"], [0.1111111111111111, \"#46039f\"], [0.2222222222222222, \"#7201a8\"], [0.3333333333333333, \"#9c179e\"], [0.4444444444444444, \"#bd3786\"], [0.5555555555555556, \"#d8576b\"], [0.6666666666666666, \"#ed7953\"], [0.7777777777777778, \"#fb9f3a\"], [0.8888888888888888, \"#fdca26\"], [1.0, \"#f0f921\"]], \"type\": \"heatmap\"}], \"heatmapgl\": [{\"colorbar\": {\"outlinewidth\": 0, \"ticks\": \"\"}, \"colorscale\": [[0.0, \"#0d0887\"], [0.1111111111111111, \"#46039f\"], [0.2222222222222222, \"#7201a8\"], [0.3333333333333333, \"#9c179e\"], [0.4444444444444444, \"#bd3786\"], [0.5555555555555556, \"#d8576b\"], [0.6666666666666666, \"#ed7953\"], [0.7777777777777778, \"#fb9f3a\"], [0.8888888888888888, \"#fdca26\"], [1.0, \"#f0f921\"]], \"type\": \"heatmapgl\"}], \"histogram\": [{\"marker\": {\"colorbar\": {\"outlinewidth\": 0, \"ticks\": \"\"}}, \"type\": \"histogram\"}], \"histogram2d\": [{\"colorbar\": {\"outlinewidth\": 0, \"ticks\": \"\"}, \"colorscale\": [[0.0, \"#0d0887\"], [0.1111111111111111, \"#46039f\"], [0.2222222222222222, \"#7201a8\"], [0.3333333333333333, \"#9c179e\"], [0.4444444444444444, \"#bd3786\"], [0.5555555555555556, \"#d8576b\"], [0.6666666666666666, \"#ed7953\"], [0.7777777777777778, \"#fb9f3a\"], [0.8888888888888888, \"#fdca26\"], [1.0, \"#f0f921\"]], \"type\": \"histogram2d\"}], \"histogram2dcontour\": [{\"colorbar\": {\"outlinewidth\": 0, \"ticks\": \"\"}, \"colorscale\": [[0.0, \"#0d0887\"], [0.1111111111111111, \"#46039f\"], [0.2222222222222222, \"#7201a8\"], [0.3333333333333333, \"#9c179e\"], [0.4444444444444444, \"#bd3786\"], [0.5555555555555556, \"#d8576b\"], [0.6666666666666666, \"#ed7953\"], [0.7777777777777778, \"#fb9f3a\"], [0.8888888888888888, \"#fdca26\"], [1.0, \"#f0f921\"]], \"type\": \"histogram2dcontour\"}], \"mesh3d\": [{\"colorbar\": {\"outlinewidth\": 0, \"ticks\": \"\"}, \"type\": \"mesh3d\"}], \"parcoords\": [{\"line\": {\"colorbar\": {\"outlinewidth\": 0, \"ticks\": \"\"}}, \"type\": \"parcoords\"}], \"pie\": [{\"automargin\": true, \"type\": \"pie\"}], \"scatter\": [{\"marker\": {\"colorbar\": {\"outlinewidth\": 0, \"ticks\": \"\"}}, \"type\": \"scatter\"}], \"scatter3d\": [{\"line\": {\"colorbar\": {\"outlinewidth\": 0, \"ticks\": \"\"}}, \"marker\": {\"colorbar\": {\"outlinewidth\": 0, \"ticks\": \"\"}}, \"type\": \"scatter3d\"}], \"scattercarpet\": [{\"marker\": {\"colorbar\": {\"outlinewidth\": 0, \"ticks\": \"\"}}, \"type\": \"scattercarpet\"}], \"scattergeo\": [{\"marker\": {\"colorbar\": {\"outlinewidth\": 0, \"ticks\": \"\"}}, \"type\": \"scattergeo\"}], \"scattergl\": [{\"marker\": {\"colorbar\": {\"outlinewidth\": 0, \"ticks\": \"\"}}, \"type\": \"scattergl\"}], \"scattermapbox\": [{\"marker\": {\"colorbar\": {\"outlinewidth\": 0, \"ticks\": \"\"}}, \"type\": \"scattermapbox\"}], \"scatterpolar\": [{\"marker\": {\"colorbar\": {\"outlinewidth\": 0, \"ticks\": \"\"}}, \"type\": \"scatterpolar\"}], \"scatterpolargl\": [{\"marker\": {\"colorbar\": {\"outlinewidth\": 0, \"ticks\": \"\"}}, \"type\": \"scatterpolargl\"}], \"scatterternary\": [{\"marker\": {\"colorbar\": {\"outlinewidth\": 0, \"ticks\": \"\"}}, \"type\": \"scatterternary\"}], \"surface\": [{\"colorbar\": {\"outlinewidth\": 0, \"ticks\": \"\"}, \"colorscale\": [[0.0, \"#0d0887\"], [0.1111111111111111, \"#46039f\"], [0.2222222222222222, \"#7201a8\"], [0.3333333333333333, \"#9c179e\"], [0.4444444444444444, \"#bd3786\"], [0.5555555555555556, \"#d8576b\"], [0.6666666666666666, \"#ed7953\"], [0.7777777777777778, \"#fb9f3a\"], [0.8888888888888888, \"#fdca26\"], [1.0, \"#f0f921\"]], \"type\": \"surface\"}], \"table\": [{\"cells\": {\"fill\": {\"color\": \"#EBF0F8\"}, \"line\": {\"color\": \"white\"}}, \"header\": {\"fill\": {\"color\": \"#C8D4E3\"}, \"line\": {\"color\": \"white\"}}, \"type\": \"table\"}]}, \"layout\": {\"annotationdefaults\": {\"arrowcolor\": \"#2a3f5f\", \"arrowhead\": 0, \"arrowwidth\": 1}, \"coloraxis\": {\"colorbar\": {\"outlinewidth\": 0, \"ticks\": \"\"}}, \"colorscale\": {\"diverging\": [[0, \"#8e0152\"], [0.1, \"#c51b7d\"], [0.2, \"#de77ae\"], [0.3, \"#f1b6da\"], [0.4, \"#fde0ef\"], [0.5, \"#f7f7f7\"], [0.6, \"#e6f5d0\"], [0.7, \"#b8e186\"], [0.8, \"#7fbc41\"], [0.9, \"#4d9221\"], [1, \"#276419\"]], \"sequential\": [[0.0, \"#0d0887\"], [0.1111111111111111, \"#46039f\"], [0.2222222222222222, \"#7201a8\"], [0.3333333333333333, \"#9c179e\"], [0.4444444444444444, \"#bd3786\"], [0.5555555555555556, \"#d8576b\"], [0.6666666666666666, \"#ed7953\"], [0.7777777777777778, \"#fb9f3a\"], [0.8888888888888888, \"#fdca26\"], [1.0, \"#f0f921\"]], \"sequentialminus\": [[0.0, \"#0d0887\"], [0.1111111111111111, \"#46039f\"], [0.2222222222222222, \"#7201a8\"], [0.3333333333333333, \"#9c179e\"], [0.4444444444444444, \"#bd3786\"], [0.5555555555555556, \"#d8576b\"], [0.6666666666666666, \"#ed7953\"], [0.7777777777777778, \"#fb9f3a\"], [0.8888888888888888, \"#fdca26\"], [1.0, \"#f0f921\"]]}, \"colorway\": [\"#636efa\", \"#EF553B\", \"#00cc96\", \"#ab63fa\", \"#FFA15A\", \"#19d3f3\", \"#FF6692\", \"#B6E880\", \"#FF97FF\", \"#FECB52\"], \"font\": {\"color\": \"#2a3f5f\"}, \"geo\": {\"bgcolor\": \"white\", \"lakecolor\": \"white\", \"landcolor\": \"#E5ECF6\", \"showlakes\": true, \"showland\": true, \"subunitcolor\": \"white\"}, \"hoverlabel\": {\"align\": \"left\"}, \"hovermode\": \"closest\", \"mapbox\": {\"style\": \"light\"}, \"paper_bgcolor\": \"white\", \"plot_bgcolor\": \"#E5ECF6\", \"polar\": {\"angularaxis\": {\"gridcolor\": \"white\", \"linecolor\": \"white\", \"ticks\": \"\"}, \"bgcolor\": \"#E5ECF6\", \"radialaxis\": {\"gridcolor\": \"white\", \"linecolor\": \"white\", \"ticks\": \"\"}}, \"scene\": {\"xaxis\": {\"backgroundcolor\": \"#E5ECF6\", \"gridcolor\": \"white\", \"gridwidth\": 2, \"linecolor\": \"white\", \"showbackground\": true, \"ticks\": \"\", \"zerolinecolor\": \"white\"}, \"yaxis\": {\"backgroundcolor\": \"#E5ECF6\", \"gridcolor\": \"white\", \"gridwidth\": 2, \"linecolor\": \"white\", \"showbackground\": true, \"ticks\": \"\", \"zerolinecolor\": \"white\"}, \"zaxis\": {\"backgroundcolor\": \"#E5ECF6\", \"gridcolor\": \"white\", \"gridwidth\": 2, \"linecolor\": \"white\", \"showbackground\": true, \"ticks\": \"\", \"zerolinecolor\": \"white\"}}, \"shapedefaults\": {\"line\": {\"color\": \"#2a3f5f\"}}, \"ternary\": {\"aaxis\": {\"gridcolor\": \"white\", \"linecolor\": \"white\", \"ticks\": \"\"}, \"baxis\": {\"gridcolor\": \"white\", \"linecolor\": \"white\", \"ticks\": \"\"}, \"bgcolor\": \"#E5ECF6\", \"caxis\": {\"gridcolor\": \"white\", \"linecolor\": \"white\", \"ticks\": \"\"}}, \"title\": {\"x\": 0.05}, \"xaxis\": {\"automargin\": true, \"gridcolor\": \"white\", \"linecolor\": \"white\", \"ticks\": \"\", \"title\": {\"standoff\": 15}, \"zerolinecolor\": \"white\", \"zerolinewidth\": 2}, \"yaxis\": {\"automargin\": true, \"gridcolor\": \"white\", \"linecolor\": \"white\", \"ticks\": \"\", \"title\": {\"standoff\": 15}, \"zerolinecolor\": \"white\", \"zerolinewidth\": 2}}}, \"xaxis\": {\"anchor\": \"y\", \"domain\": [0.0, 1.0], \"title\": {\"text\": \"BMI\"}}, \"yaxis\": {\"anchor\": \"x\", \"domain\": [0.0, 1.0], \"title\": {\"text\": \"Salary\"}}},\n",
       "                        {\"responsive\": true}\n",
       "                    ).then(function(){\n",
       "                            \n",
       "var gd = document.getElementById('273db326-e91e-4e09-9ea8-2683078de059');\n",
       "var x = new MutationObserver(function (mutations, observer) {{\n",
       "        var display = window.getComputedStyle(gd).display;\n",
       "        if (!display || display === 'none') {{\n",
       "            console.log([gd, 'removed!']);\n",
       "            Plotly.purge(gd);\n",
       "            observer.disconnect();\n",
       "        }}\n",
       "}});\n",
       "\n",
       "// Listen for the removal of the full notebook cells\n",
       "var notebookContainer = gd.closest('#notebook-container');\n",
       "if (notebookContainer) {{\n",
       "    x.observe(notebookContainer, {childList: true});\n",
       "}}\n",
       "\n",
       "// Listen for the clearing of the current output cell\n",
       "var outputEl = gd.closest('.output');\n",
       "if (outputEl) {{\n",
       "    x.observe(outputEl, {childList: true});\n",
       "}}\n",
       "\n",
       "                        })\n",
       "                };\n",
       "                });\n",
       "            </script>\n",
       "        </div>"
      ]
     },
     "metadata": {},
     "output_type": "display_data"
    }
   ],
   "source": [
    "fig = px.scatter(combined, y='Salary', x='BMI', hover_data=['PLAYER_NAME'])\n",
    "fig.show()"
   ]
  },
  {
   "cell_type": "code",
   "execution_count": 41,
   "metadata": {},
   "outputs": [],
   "source": [
    "fig.write_html('min_game_experience_bmi_scatter.html')"
   ]
  },
  {
   "cell_type": "code",
   "execution_count": 42,
   "metadata": {},
   "outputs": [
    {
     "data": {
      "application/vnd.plotly.v1+json": {
       "config": {
        "plotlyServerURL": "https://plot.ly"
       },
       "data": [
        {
         "customdata": [
          [
           "Bradley Beal"
          ],
          [
           "John Wall"
          ],
          [
           "Garrett Temple"
          ],
          [
           "Terrence Ross"
          ],
          [
           "Jonas Valanciunas"
          ],
          [
           "DeMar DeRozan"
          ],
          [
           "Kyle Lowry"
          ],
          [
           "Lou Williams"
          ],
          [
           "Patrick Patterson"
          ],
          [
           "James Johnson"
          ],
          [
           "Bruno Caboclo"
          ],
          [
           "Anthony Davis"
          ],
          [
           "Eric Gordon"
          ],
          [
           "Jrue Holiday"
          ],
          [
           "Draymond Green"
          ],
          [
           "Harrison Barnes"
          ],
          [
           "Stephen Curry"
          ],
          [
           "Klay Thompson"
          ],
          [
           "Andre Iguodala"
          ],
          [
           "Justin Holiday"
          ],
          [
           "Giannis Antetokounmpo"
          ],
          [
           "Ersan Ilyasova"
          ],
          [
           "Khris Middleton"
          ],
          [
           "Michael Carter-Williams"
          ],
          [
           "John Henson"
          ],
          [
           "Jared Dudley"
          ],
          [
           "Jabari Parker"
          ],
          [
           "Joakim Noah"
          ],
          [
           "Jimmy Butler"
          ],
          [
           "Derrick Rose"
          ],
          [
           "Taj Gibson"
          ],
          [
           "Tony Snell"
          ],
          [
           "Doug McDermott"
          ],
          [
           "E'Twaun Moore"
          ],
          [
           "Tyson Chandler"
          ],
          [
           "Rajon Rondo"
          ],
          [
           "J.J. Barea"
          ],
          [
           "Al-Farouq Aminu"
          ],
          [
           "Dwight Powell"
          ],
          [
           "Trevor Ariza"
          ],
          [
           "Dwight Howard"
          ],
          [
           "James Harden"
          ],
          [
           "Corey Brewer"
          ],
          [
           "Clint Capela"
          ],
          [
           "Patrick Beverley"
          ],
          [
           "Evan Turner"
          ],
          [
           "Tyler Zeller"
          ],
          [
           "Avery Bradley"
          ],
          [
           "Marcus Smart"
          ],
          [
           "Jae Crowder"
          ],
          [
           "Kelly Olynyk"
          ],
          [
           "LeBron James"
          ],
          [
           "Kevin Love"
          ],
          [
           "Kyrie Irving"
          ],
          [
           "Tristan Thompson"
          ],
          [
           "Matthew Dellavedova"
          ],
          [
           "Joe Harris"
          ],
          [
           "Thaddeus Young"
          ],
          [
           "Brook Lopez"
          ],
          [
           "Bojan Bogdanovic"
          ],
          [
           "Mason Plumlee"
          ],
          [
           "DeMarre Carroll"
          ],
          [
           "Paul Millsap"
          ],
          [
           "Al Horford"
          ],
          [
           "Kyle Korver"
          ],
          [
           "Jeff Teague"
          ],
          [
           "Dennis Schroder"
          ],
          [
           "Kent Bazemore"
          ],
          [
           "Mike Scott"
          ],
          [
           "Mike Muscala"
          ],
          [
           "Thabo Sefolosha"
          ],
          [
           "LaMarcus Aldridge"
          ],
          [
           "Nicolas Batum"
          ],
          [
           "Robin Lopez"
          ],
          [
           "Damian Lillard"
          ],
          [
           "Meyers Leonard"
          ],
          [
           "Wesley Matthews"
          ],
          [
           "Jeff Green"
          ],
          [
           "Marc Gasol"
          ],
          [
           "Courtney Lee"
          ],
          [
           "Mike Conley"
          ],
          [
           "Vince Carter"
          ],
          [
           "JaMychal Green"
          ],
          [
           "Kawhi Leonard"
          ],
          [
           "Danny Green"
          ],
          [
           "Aron Baynes"
          ],
          [
           "Marco Belinelli"
          ],
          [
           "Cory Joseph"
          ],
          [
           "Patty Mills"
          ],
          [
           "Kyle Anderson"
          ],
          [
           "Blake Griffin"
          ],
          [
           "DeAndre Jordan"
          ],
          [
           "Chris Paul"
          ],
          [
           "Jamal Crawford"
          ],
          [
           "Austin Rivers"
          ],
          [
           "Tobias Harris"
          ],
          [
           "Kyle O'Quinn"
          ],
          [
           "Nikola Vucevic"
          ],
          [
           "Evan Fournier"
          ],
          [
           "Elfrid Payton"
          ],
          [
           "Aaron Gordon"
          ],
          [
           "Dewayne Dedmon"
          ],
          [
           "Maurice Harkless"
          ],
          [
           "Victor Oladipo"
          ],
          [
           "Darius Miller"
          ],
          [
           "Troy Daniels"
          ],
          [
           "Ed Davis"
          ],
          [
           "Jordan Clarkson"
          ],
          [
           "Julius Randle"
          ],
          [
           "Wayne Ellington"
          ],
          [
           "Nerlens Noel"
          ],
          [
           "Joel Embiid"
          ],
          [
           "Jerami Grant"
          ],
          [
           "Solomon Hill"
          ],
          [
           "Ian Mahinmi"
          ],
          [
           "Paul George"
          ],
          [
           "George Hill"
          ],
          [
           "Brandon Knight"
          ],
          [
           "Michael Kidd-Gilchrist"
          ],
          [
           "Marvin Williams"
          ],
          [
           "Kemba Walker"
          ],
          [
           "Cody Zeller"
          ],
          [
           "Bismack Biyombo"
          ],
          [
           "Noah Vonleh"
          ],
          [
           "Shabazz Napier"
          ],
          [
           "Udonis Haslem"
          ],
          [
           "Carmelo Anthony"
          ],
          [
           "Tim Hardaway Jr."
          ],
          [
           "Andrew Wiggins"
          ],
          [
           "Ricky Rubio"
          ],
          [
           "Gorgui Dieng"
          ],
          [
           "Zach LaVine"
          ],
          [
           "Glenn Robinson III"
          ],
          [
           "Andre Drummond"
          ],
          [
           "Kentavious Caldwell-Pope"
          ],
          [
           "D.J. Augustin"
          ],
          [
           "Spencer Dinwiddie"
          ],
          [
           "Danilo Gallinari"
          ],
          [
           "Wilson Chandler"
          ],
          [
           "Jusuf Nurkic"
          ],
          [
           "JaVale McGee"
          ],
          [
           "Gary Harris"
          ],
          [
           "Gordon Hayward"
          ],
          [
           "Derrick Favors"
          ],
          [
           "Enes Kanter"
          ],
          [
           "Trey Burke"
          ],
          [
           "Alec Burks"
          ],
          [
           "Rodney Hood"
          ],
          [
           "Rudy Gobert"
          ],
          [
           "Dante Exum"
          ],
          [
           "Joe Ingles"
          ],
          [
           "Markieff Morris"
          ],
          [
           "Goran Dragic"
          ],
          [
           "Eric Bledsoe"
          ],
          [
           "Alex Len"
          ],
          [
           "Anthony Tolliver"
          ],
          [
           "P.J. Tucker"
          ],
          [
           "T.J. Warren"
          ],
          [
           "Rudy Gay"
          ],
          [
           "Ben McLemore"
          ],
          [
           "Serge Ibaka"
          ],
          [
           "Steven Adams"
          ],
          [
           "Andre Roberson"
          ],
          [
           "Russell Westbrook"
          ],
          [
           "Lance Thomas"
          ],
          [
           "Reggie Jackson"
          ],
          [
           "Jeremy Lamb"
          ],
          [
           "Kevin Durant"
          ],
          [
           "Will Barton"
          ],
          [
           "Dion Waiters"
          ],
          [
           "Reggie Bullock"
          ],
          [
           "Ish Smith"
          ],
          [
           "Robert Covington"
          ],
          [
           "Hassan Whiteside"
          ],
          [
           "Langston Galloway"
          ],
          [
           "Tyler Johnson"
          ],
          [
           "Seth Curry"
          ],
          [
           "Richaun Holmes"
          ],
          [
           "Jahlil Okafor"
          ],
          [
           "Kelly Oubre Jr."
          ],
          [
           "Frank Kaminsky"
          ],
          [
           "Josh Richardson"
          ],
          [
           "Justise Winslow"
          ],
          [
           "Mario Hezonja"
          ],
          [
           "Jerian Grant"
          ],
          [
           "Kristaps Porzingis"
          ],
          [
           "Rondae Hollis-Jefferson"
          ],
          [
           "Terry Rozier"
          ],
          [
           "Norman Powell"
          ],
          [
           "Delon Wright"
          ],
          [
           "Bobby Portis"
          ],
          [
           "Cedi Osman"
          ],
          [
           "Myles Turner"
          ],
          [
           "Stanley Johnson"
          ],
          [
           "Nemanja Bjelica"
          ],
          [
           "Tyus Jones"
          ],
          [
           "Karl-Anthony Towns"
          ],
          [
           "Trey Lyles"
          ],
          [
           "Raul Neto"
          ],
          [
           "Cameron Payne"
          ],
          [
           "Pat Connaughton"
          ],
          [
           "Nikola Jokic"
          ],
          [
           "Emmanuel Mudiay"
          ],
          [
           "Montrezl Harrell"
          ],
          [
           "Boban Marjanovic"
          ],
          [
           "Justin Anderson"
          ],
          [
           "Kevon Looney"
          ],
          [
           "Larry Nance Jr."
          ],
          [
           "D'Angelo Russell"
          ],
          [
           "Devin Booker"
          ],
          [
           "Willie Cauley-Stein"
          ],
          [
           "Treveon Graham"
          ],
          [
           "Brad Wanamaker"
          ],
          [
           "Thanasis Antetokounmpo"
          ],
          [
           "T.J. McConnell"
          ],
          [
           "Jordan McRae"
          ],
          [
           "Christian Wood"
          ],
          [
           "Malcolm Miller"
          ],
          [
           "Deonte Burton"
          ],
          [
           "Quinn Cook"
          ],
          [
           "Dario Saric"
          ],
          [
           "Rodney McGruder"
          ],
          [
           "Khem Birch"
          ],
          [
           "Ben Simmons"
          ],
          [
           "Jamal Murray"
          ],
          [
           "Thon Maker"
          ],
          [
           "Davis Bertans"
          ],
          [
           "Kris Dunn"
          ],
          [
           "Brandon Ingram"
          ],
          [
           "Jaylen Brown"
          ],
          [
           "Buddy Hield"
          ],
          [
           "Marquese Chriss"
          ],
          [
           "Skal Labissiere"
          ],
          [
           "Malik Beasley"
          ],
          [
           "Dejounte Murray"
          ],
          [
           "Taurean Prince"
          ],
          [
           "Patrick McCaw"
          ],
          [
           "Domantas Sabonis"
          ],
          [
           "Jakob Poeltl"
          ],
          [
           "Damian Jones"
          ],
          [
           "Denzel Valentine"
          ],
          [
           "Ivica Zubac"
          ],
          [
           "Ante Zizic"
          ],
          [
           "Cheick Diallo"
          ],
          [
           "Malcolm Brogdon"
          ],
          [
           "Jake Layman"
          ],
          [
           "Georges Niang"
          ],
          [
           "Pascal Siakam"
          ],
          [
           "Abdel Nader"
          ],
          [
           "Furkan Korkmaz"
          ],
          [
           "Gary Payton"
          ],
          [
           "Yogi Ferrell"
          ],
          [
           "Bogdan Bogdanovic"
          ],
          [
           "Ryan Arcidiacono"
          ],
          [
           "Tomas Satoransky"
          ],
          [
           "Dorian Finney-Smith"
          ],
          [
           "Bryn Forbes"
          ],
          [
           "Jarrod Uthoff"
          ],
          [
           "Damion Lee"
          ],
          [
           "Shaquille Harrison"
          ],
          [
           "Alex Caruso"
          ],
          [
           "David Nwaba"
          ],
          [
           "Hamidou Diallo"
          ],
          [
           "Lonzo Ball"
          ],
          [
           "De'Aaron Fox"
          ],
          [
           "Markelle Fultz"
          ],
          [
           "Dennis Smith Jr."
          ],
          [
           "Josh Jackson"
          ],
          [
           "Jayson Tatum"
          ],
          [
           "Jonathan Isaac"
          ],
          [
           "Lauri Markkanen"
          ],
          [
           "Frank Ntilikina"
          ],
          [
           "Malik Monk"
          ],
          [
           "Zach Collins"
          ],
          [
           "John Collins"
          ],
          [
           "Bam Adebayo"
          ],
          [
           "Jarrett Allen"
          ],
          [
           "OG Anunoby"
          ],
          [
           "TJ Leaf"
          ],
          [
           "Luke Kennard"
          ],
          [
           "D.J. Wilson"
          ],
          [
           "Justin Patton"
          ],
          [
           "Terrance Ferguson"
          ],
          [
           "Donovan Mitchell"
          ],
          [
           "Justin Jackson"
          ],
          [
           "Jordan Bell"
          ],
          [
           "Frank Jackson"
          ],
          [
           "Anzejs Pasecniks"
          ],
          [
           "Thomas Bryant"
          ],
          [
           "Josh Hart"
          ],
          [
           "Caleb Swanigan"
          ],
          [
           "Derrick White"
          ],
          [
           "Tony Bradley"
          ],
          [
           "Kyle Kuzma"
          ],
          [
           "Dwayne Bacon"
          ],
          [
           "Damyean Dotson"
          ],
          [
           "Sterling Brown"
          ],
          [
           "Semi Ojeleye"
          ],
          [
           "Sindarius Thornwell"
          ],
          [
           "Vlatko Cancar"
          ],
          [
           "Monte Morris"
          ],
          [
           "Dillon Brooks"
          ],
          [
           "Edmond Sumner"
          ],
          [
           "Nigel Williams-Goss"
          ],
          [
           "Chris Boucher"
          ],
          [
           "Luke Kornet"
          ],
          [
           "Kobi Simmons"
          ],
          [
           "Johnathan Motley"
          ],
          [
           "Daniel Theis"
          ],
          [
           "Alfonzo McKinnie"
          ],
          [
           "Torrey Craig"
          ],
          [
           "Royce O'Neale"
          ],
          [
           "Antonius Cleveland"
          ],
          [
           "Josh Gray"
          ],
          [
           "Luka Doncic"
          ],
          [
           "Grayson Allen"
          ],
          [
           "Michael Porter Jr."
          ],
          [
           "Trae Young"
          ],
          [
           "Deandre Ayton"
          ],
          [
           "Jaren Jackson Jr."
          ],
          [
           "Kevin Huerter"
          ],
          [
           "Wendell Carter Jr."
          ],
          [
           "Collin Sexton"
          ],
          [
           "Mikal Bridges"
          ],
          [
           "Shai Gilgeous-Alexander"
          ],
          [
           "Jerome Robinson"
          ],
          [
           "Zhaire Smith"
          ],
          [
           "Miles Bridges"
          ],
          [
           "Chandler Hutchison"
          ],
          [
           "Aaron Holiday"
          ],
          [
           "Josh Okogie"
          ],
          [
           "Anfernee Simons"
          ],
          [
           "Lonnie Walker IV"
          ],
          [
           "Devonte' Graham"
          ],
          [
           "Omari Spellman"
          ],
          [
           "Jarred Vanderbilt"
          ],
          [
           "Mitchell Robinson"
          ],
          [
           "Kostas Antetokounmpo"
          ],
          [
           "Isaac Bonga"
          ],
          [
           "Landry Shamet"
          ],
          [
           "Ray Spalding"
          ],
          [
           "Khyri Thomas"
          ],
          [
           "Rodions Kurucs"
          ],
          [
           "Dzanan Musa"
          ],
          [
           "Devon Hall"
          ],
          [
           "Gary Trent Jr."
          ],
          [
           "Jevon Carter"
          ],
          [
           "De'Anthony Melton"
          ],
          [
           "Chimezie Metu"
          ],
          [
           "Jalen Brunson"
          ],
          [
           "Shake Milton"
          ],
          [
           "Jacob Evans"
          ],
          [
           "Moritz Wagner"
          ],
          [
           "Elie Okobo"
          ],
          [
           "Alize Johnson"
          ],
          [
           "Keita Bates-Diop"
          ],
          [
           "Kevin Hervey"
          ],
          [
           "Drew Eubanks"
          ],
          [
           "Cameron Reynolds"
          ],
          [
           "Kenrich Williams"
          ],
          [
           "Duncan Robinson"
          ],
          [
           "Yuta Watanabe"
          ],
          [
           "Jaylen Adams"
          ],
          [
           "Johnathan Williams"
          ],
          [
           "Wenyen Gabriel"
          ],
          [
           "Kendrick Nunn"
          ],
          [
           "Gary Clark"
          ],
          [
           "Theo Pinson"
          ],
          [
           "Kelan Martin"
          ],
          [
           "Jordan McLaughlin"
          ],
          [
           "Brandon Goodwin"
          ],
          [
           "Paul Watson"
          ],
          [
           "Norvel Pelle"
          ],
          [
           "Javonte Green"
          ],
          [
           "Chris Chiozza"
          ],
          [
           "Ryan Broekhoff"
          ],
          [
           "Gabe Vincent"
          ],
          [
           "Ja Morant"
          ],
          [
           "De'Andre Hunter"
          ],
          [
           "Darius Garland"
          ],
          [
           "Zion Williamson"
          ],
          [
           "RJ Barrett"
          ],
          [
           "Jarrett Culver"
          ],
          [
           "Jaxson Hayes"
          ],
          [
           "Rui Hachimura"
          ],
          [
           "Cam Reddish"
          ],
          [
           "Romeo Langford"
          ],
          [
           "Grant Williams"
          ],
          [
           "Coby White"
          ],
          [
           "Sekou Doumbouya"
          ],
          [
           "Goga Bitadze"
          ],
          [
           "Brandon Clarke"
          ],
          [
           "Tyler Herro"
          ],
          [
           "Nickeil Alexander-Walker"
          ],
          [
           "Darius Bazley"
          ],
          [
           "Matisse Thybulle"
          ],
          [
           "Cameron Johnson"
          ],
          [
           "Luka Samanic"
          ],
          [
           "Bol Bol"
          ],
          [
           "Nicolas Claxton"
          ],
          [
           "Carsen Edwards"
          ],
          [
           "Cody Martin"
          ],
          [
           "Kevin Porter Jr."
          ],
          [
           "Isaiah Roby"
          ],
          [
           "Eric Paschall"
          ],
          [
           "Jordan Poole"
          ],
          [
           "Alen Smailagic"
          ],
          [
           "Mfiondu Kabengele"
          ],
          [
           "Talen Horton-Tucker"
          ],
          [
           "Bruno Fernando"
          ],
          [
           "Ty Jerome"
          ],
          [
           "Nassir Little"
          ],
          [
           "Keldon Johnson"
          ],
          [
           "Justin James"
          ],
          [
           "Admiral Schofield"
          ],
          [
           "Terance Mann"
          ],
          [
           "Ignas Brazdeikis"
          ],
          [
           "Tremont Waters"
          ],
          [
           "Jalen McDaniels"
          ],
          [
           "Jordan Bone"
          ],
          [
           "John Konchar"
          ],
          [
           "Jaylen Nowell"
          ],
          [
           "Zylan Cheatham"
          ],
          [
           "Marial Shayok"
          ],
          [
           "Jaylen Hoard"
          ],
          [
           "Quinndary Weatherspoon"
          ],
          [
           "Kyle Guy"
          ],
          [
           "Dewan Hernandez"
          ],
          [
           "Miye Oni"
          ],
          [
           "Justin Wright-Foreman"
          ],
          [
           "Daniel Gafford"
          ],
          [
           "Jarrell Brantley"
          ],
          [
           "Dean Wade"
          ],
          [
           "Naz Reid"
          ],
          [
           "Luguentz Dort"
          ],
          [
           "Jalen Lecque"
          ],
          [
           "Tacko Fall"
          ],
          [
           "Max Strus"
          ],
          [
           "Josh Reaves"
          ],
          [
           "Moses Brown"
          ],
          [
           "Chris Clemons"
          ],
          [
           "Oshae Brissett"
          ],
          [
           "Devontae Cacok"
          ],
          [
           "Kyle Alexander"
          ],
          [
           "Rayjon Tucker"
          ],
          [
           "Jared Harper"
          ],
          [
           "Amir Coffey"
          ],
          [
           "Jeremiah Martin"
          ],
          [
           "Tyler Cook"
          ],
          [
           "Louis King"
          ],
          [
           "Tariq Owens"
          ],
          [
           "Chris Silva"
          ],
          [
           "Vic Law"
          ],
          [
           "Ky Bowman"
          ],
          [
           "Juwan Morgan"
          ],
          [
           "William Howard"
          ],
          [
           "Nicolo Melli"
          ],
          [
           "Matt Thomas"
          ],
          [
           "Adam Mokoka"
          ],
          [
           "Vincent Poirier"
          ],
          [
           "Garrison Mathews"
          ],
          [
           "Caleb Martin"
          ],
          [
           "Terence Davis"
          ],
          [
           "Marko Guduric"
          ],
          [
           "Matt Mooney"
          ]
         ],
         "hovertemplate": "Experience=%{x}<br>min_game=%{y}<br>PLAYER_NAME=%{customdata[0]}<br>BMI=%{marker.color}<extra></extra>",
         "legendgroup": "",
         "marker": {
          "color": [
           25.87,
           25.56,
           23.12,
           23.8,
           27.04,
           25.42,
           26.58,
           23.09,
           25.81,
           27.03,
           23.36,
           26.45,
           26.87,
           25.62,
           26.58,
           24.71,
           23.12,
           24.84,
           24.84,
           20.8,
           24.7,
           25.18,
           25.01,
           22.53,
           23.47,
           27.39,
           26.91,
           23.47,
           25.91,
           25.68,
           24.86,
           24.61,
           25.34,
           23.87,
           23.41,
           23.75,
           25.82,
           24.17,
           25.09,
           23.62,
           27.71,
           26.09,
           19.93,
           25.09,
           23.75,
           25.42,
           25.41,
           22.5,
           27.5,
           27.15,
           24.49,
           26.79,
           27.57,
           25.03,
           27.22,
           25,
           25.42,
           25.81,
           28.1,
           24.82,
           25.92,
           24.84,
           28.95,
           25.72,
           23.88,
           24.37,
           22.69,
           23.73,
           26.7,
           25.09,
           24.84,
           25.51,
           24.64,
           28,
           25.03,
           25.9,
           26.78,
           25.81,
           26.02,
           25.49,
           23.09,
           25.42,
           24.93,
           25.34,
           24.84,
           27.18,
           26.09,
           25,
           23.75,
           24.64,
           26.79,
           27.04,
           23.09,
           21.94,
           25,
           24.82,
           26.79,
           26.53,
           23.09,
           24.37,
           25.81,
           24.41,
           24.78,
           25.92,
           26,
           24.95,
           23.36,
           23.37,
           27.46,
           25.19,
           23,
           27.9,
           23.07,
           26.11,
           26.74,
           24.17,
           23.5,
           23.36,
           26.58,
           26.03,
           24.95,
           23.91,
           28.01,
           26.87,
           23.73,
           25.81,
           26.14,
           24.31,
           22.19,
           23.75,
           26.35,
           23.11,
           25.65,
           29.17,
           24.19,
           25.52,
           25.49,
           24.36,
           25.81,
           28.89,
           26.9,
           25.56,
           25.34,
           28.39,
           26.14,
           25.09,
           24.73,
           22.85,
           25.1,
           25.37,
           24.78,
           26.91,
           23.75,
           28.23,
           24.91,
           26.36,
           29.05,
           24.17,
           27.46,
           24.37,
           23.41,
           27.04,
           23.65,
           25,
           25.81,
           26,
           21.34,
           25.09,
           21.46,
           26.25,
           23.69,
           23.73,
           23.54,
           26.4,
           26.38,
           23.12,
           23.75,
           24.57,
           28.23,
           22.87,
           23.91,
           23.71,
           25.65,
           24.17,
           24.83,
           22.29,
           25.07,
           25.06,
           26.87,
           21.94,
           26.14,
           25.91,
           25.51,
           27.96,
           24.46,
           26.58,
           25.31,
           25.07,
           23.75,
           23.75,
           24.78,
           28.3,
           25,
           27.03,
           26.33,
           27.39,
           23.79,
           27.6,
           23.49,
           24.43,
           23.91,
           25.97,
           26.25,
           25.31,
           25.06,
           21.22,
           22.37,
           23.65,
           29.21,
           23.75,
           23.52,
           24.95,
           24.97,
           25.09,
           26.17,
           22.02,
           23.52,
           25.62,
           21.4,
           25.77,
           26.78,
           25.72,
           24.57,
           22.76,
           21.91,
           24.56,
           20.39,
           24.49,
           23.84,
           25,
           26.78,
           23.91,
           27.81,
           24.06,
           27.15,
           22.96,
           25.91,
           24.64,
           26.68,
           22.75,
           24.37,
           24.14,
           25.42,
           24.37,
           23.65,
           24.78,
           26.32,
           23.68,
           24.9,
           21.4,
           22.05,
           25.97,
           23.95,
           21.95,
           23.12,
           26.12,
           26.32,
           22.74,
           23.07,
           23.47,
           23.91,
           24.34,
           25,
           25.51,
           25.18,
           27.32,
           24.8,
           26.13,
           23.21,
           24.43,
           24.15,
           24.59,
           21.95,
           28.36,
           24.78,
           23.73,
           25.62,
           21.41,
           25.93,
           25.49,
           27.86,
           23.12,
           25.93,
           24.28,
           25.54,
           24.9,
           25.97,
           27.73,
           26.17,
           25.92,
           23.49,
           25.34,
           23.86,
           24.39,
           21.43,
           23.76,
           21.34,
           25.26,
           26.91,
           24.22,
           24.89,
           27.51,
           23.12,
           24.41,
           25.91,
           24.1,
           22.79,
           23.75,
           25.51,
           24.7,
           21.4,
           28.93,
           25.06,
           24.15,
           21.34,
           23.12,
           25.62,
           26,
           23.65,
           25.09,
           25.92,
           22.62,
           24.19,
           25.72,
           26.91,
           22.93,
           23.91,
           20.91,
           19.77,
           23.12,
           22.48,
           26.25,
           24.43,
           23.25,
           27.6,
           24.78,
           26.38,
           25.68,
           24.11,
           25.06,
           24.31,
           25.56,
           25,
           23.75,
           23.88,
           25.15,
           24.64,
           26.25,
           25.34,
           24.27,
           24.22,
           23.62,
           24.39,
           24.43,
           21.97,
           24.39,
           26,
           25.14,
           27.27,
           25.8,
           24.41,
           24.27,
           24.15,
           24.95,
           24.54,
           24.84,
           25,
           21.75,
           25.34,
           25.33,
           32.82,
           24.73,
           22.53,
           22.45,
           25.26,
           23.95,
           26.29,
           27.27,
           23.73,
           25.26,
           25.51,
           23.62,
           23.12,
           24.31,
           22.85,
           23.83,
           23.07,
           23.73,
           20.91,
           21.94,
           27.89,
           24.31,
           24.71,
           25.26,
           29.46,
           23.61,
           22.48,
           26.79,
           28.48,
           25.72,
           23.12,
           26.09,
           26.09,
           21.4,
           28.58,
           25.49,
           25.54,
           25.11,
           21.43,
           22.5,
           24.9,
           24.46,
           26.09,
           23.48,
           23.73,
           25.62,
           22.03,
           24.57,
           24.43,
           25.77,
           24.46,
           29.64,
           24.43,
           28.29,
           26.87,
           22.52,
           27.6,
           25.49,
           26.05,
           23.29,
           26.58,
           23.65,
           26.36,
           22.45,
           26.12,
           24.4,
           23.65,
           23.75,
           28.01,
           23.09,
           21.43,
           25.7,
           22.53,
           24.67,
           26.13,
           22.74,
           25.29,
           23.12,
           22.53,
           23.41,
           25.49,
           24.31,
           24.46,
           23.23,
           25
          ],
          "coloraxis": "coloraxis",
          "symbol": "circle"
         },
         "mode": "markers",
         "name": "",
         "orientation": "v",
         "showlegend": false,
         "type": "scatter",
         "x": [
          6,
          8,
          8,
          6,
          6,
          9,
          12,
          13,
          8,
          9,
          4,
          6,
          10,
          9,
          6,
          6,
          9,
          7,
          14,
          5,
          5,
          10,
          6,
          5,
          6,
          11,
          4,
          11,
          7,
          9,
          9,
          5,
          4,
          7,
          17,
          12,
          12,
          8,
          4,
          14,
          14,
          9,
          11,
          4,
          6,
          8,
          6,
          8,
          4,
          6,
          5,
          15,
          10,
          7,
          7,
          5,
          4,
          11,
          10,
          4,
          5,
          9,
          12,
          11,
          15,
          9,
          5,
          6,
          6,
          5,
          12,
          12,
          10,
          10,
          6,
          6,
          9,
          10,
          10,
          10,
          11,
          20,
          4,
          7,
          9,
          6,
          11,
          7,
          9,
          4,
          8,
          10,
          13,
          18,
          6,
          7,
          6,
          7,
          6,
          4,
          4,
          5,
          6,
          5,
          4,
          5,
          8,
          4,
          4,
          9,
          4,
          2,
          4,
          5,
          10,
          8,
          10,
          6,
          6,
          13,
          7,
          5,
          7,
          4,
          4,
          15,
          15,
          5,
          4,
          7,
          5,
          4,
          4,
          6,
          5,
          10,
          4,
          9,
          10,
          4,
          10,
          4,
          8,
          8,
          7,
          5,
          7,
          4,
          5,
          3,
          4,
          7,
          10,
          8,
          5,
          10,
          7,
          4,
          12,
          5,
          9,
          5,
          5,
          10,
          7,
          7,
          6,
          11,
          6,
          6,
          5,
          8,
          5,
          6,
          4,
          4,
          4,
          3,
          3,
          3,
          3,
          3,
          3,
          3,
          3,
          3,
          3,
          3,
          3,
          3,
          3,
          1,
          3,
          3,
          3,
          3,
          3,
          3,
          3,
          3,
          3,
          3,
          3,
          3,
          3,
          3,
          3,
          3,
          3,
          3,
          3,
          2,
          1,
          1,
          3,
          2,
          2,
          1,
          0,
          2,
          2,
          2,
          1,
          1,
          2,
          2,
          2,
          2,
          2,
          2,
          2,
          2,
          2,
          2,
          2,
          2,
          2,
          2,
          2,
          2,
          2,
          2,
          1,
          2,
          2,
          2,
          2,
          2,
          1,
          1,
          2,
          2,
          1,
          1,
          2,
          2,
          2,
          1,
          1,
          1,
          1,
          2,
          0,
          1,
          1,
          1,
          1,
          1,
          1,
          1,
          1,
          1,
          1,
          1,
          1,
          1,
          1,
          1,
          1,
          1,
          1,
          1,
          1,
          1,
          1,
          1,
          0,
          0,
          1,
          1,
          1,
          1,
          1,
          1,
          1,
          1,
          1,
          1,
          1,
          0,
          1,
          1,
          1,
          0,
          1,
          1,
          1,
          1,
          1,
          1,
          1,
          1,
          1,
          0,
          0,
          0,
          0,
          0,
          0,
          0,
          0,
          0,
          0,
          0,
          0,
          0,
          0,
          0,
          0,
          0,
          0,
          0,
          0,
          0,
          0,
          0,
          0,
          0,
          0,
          0,
          0,
          0,
          0,
          0,
          0,
          0,
          0,
          0,
          0,
          0,
          0,
          0,
          0,
          0,
          0,
          0,
          0,
          0,
          0,
          0,
          0,
          0,
          0,
          0,
          0,
          0,
          0,
          0,
          0,
          0,
          0,
          0,
          0,
          0,
          0,
          0,
          0,
          0,
          0,
          0,
          0,
          0,
          0,
          0,
          0,
          0,
          0,
          0,
          0,
          0,
          0,
          0,
          0,
          0,
          0,
          0,
          0,
          0,
          0,
          0,
          0,
          0,
          0,
          0,
          0,
          0,
          0,
          0,
          0,
          0,
          0,
          0,
          0,
          0,
          0,
          0,
          0,
          0,
          0,
          0,
          0,
          0,
          0,
          0,
          0,
          0,
          0,
          0,
          0,
          0,
          0,
          0,
          0,
          0,
          0,
          0,
          0,
          0,
          0,
          0,
          0,
          0,
          0,
          0,
          0,
          0,
          0,
          0,
          0,
          0,
          0,
          0,
          0,
          0,
          0,
          0,
          0,
          0,
          0,
          0,
          0,
          0,
          0,
          0,
          0
         ],
         "xaxis": "x",
         "y": [
          33.03487625768447,
          35.77327289285239,
          10.385527065527066,
          23.084495510099696,
          26.01021306252489,
          33.26566623318707,
          21.670446626544184,
          18.590675976522967,
          22.793403914348065,
          19.170074964085153,
          5.597222222222222,
          34.344559505989814,
          34.505218795541374,
          32.8997222377604,
          26.808765159270514,
          29.673035034442876,
          34.5439501039501,
          32.156807740588235,
          38.02130937098845,
          14.100510032553524,
          32.72068013468014,
          23.680566702027885,
          28.89005933039106,
          32.36906763336032,
          18.83476045578004,
          19.35121171622675,
          29.15445082418497,
          27.651362612612616,
          29.766112535686613,
          35.511832858499524,
          24.03017734298222,
          22.49991648629149,
          19.757182940516273,
          16.12145275654272,
          24.107016296088766,
          32.03788450837471,
          15.384207978300804,
          22.302176758097808,
          10.21695285474146,
          18.152767335004178,
          35.92957702994751,
          31.452193287537277,
          21.852757623152804,
          22.303817046205104,
          27.79205670865382,
          28.14693488986172,
          16.925103753252962,
          23.54998813014942,
          28.413784195161703,
          17.670811362364635,
          21.27639054157132,
          41.12908211619604,
          32.59021478099104,
          33.65372875615337,
          28.21252032520325,
          21.542063803788075,
          18.011201079622133,
          28.261730719226172,
          32.05845748187211,
          25.263654242304035,
          23.273299780616856,
          5.677055667337358,
          26.17670089858793,
          33.33948296037848,
          26.579665128543184,
          24.397375237230825,
          23.100613183407777,
          13.934965653814775,
          14.110607843137254,
          14.077619047619047,
          20.67250247817758,
          34.22808695527994,
          28.709772219972088,
          16.87817338611819,
          36.339284552845534,
          16.023846679894433,
          32.16307400623413,
          32.53697345917729,
          33.97279510442819,
          27.016369235666627,
          31.855155175946493,
          37.40159954622802,
          13.171501831501832,
          29.82663814872867,
          18.42050356506239,
          12.966822252171307,
          19.907651515151514,
          16.129548709051495,
          12.50181433588761,
          19.50407463895836,
          35.524064571819395,
          21.626429263710673,
          37.37444978632478,
          27.31273164647185,
          20.913462799689974,
          22.60640590132393,
          14.375608936949765,
          29.291789151912987,
          25.004903289625712,
          29.34400722898885,
          27.24745311059691,
          11.332808539191808,
          22.57521580758423,
          33.41420978441128,
          17.436781140386653,
          10.03554802354618,
          21.45820944487611,
          26.564399143389142,
          25.663138514391438,
          19.831679483338327,
          24.414784924721772,
          29.722426705897416,
          21.351169663669666,
          19.408862674462092,
          10.818180808262778,
          27.883258283184613,
          26.777967155651368,
          32.226247086247085,
          27.46552093068222,
          31.61976939435977,
          33.524058258717986,
          22.477661856158996,
          21.16259430102418,
          15.186023814023812,
          15.744586741562324,
          31.28620683875988,
          36.54714814859936,
          24.887921711285745,
          35.93327806033007,
          31.62032714824756,
          23.994935242711193,
          30.336665041698772,
          11.80943823326432,
          29.24330322192111,
          30.905236182909476,
          24.797372700042793,
          21.24291625124626,
          29.660884252147696,
          30.735803890036316,
          20.683481182795695,
          21.419492230112176,
          27.917072294032227,
          29.496039340776186,
          20.746658341658343,
          22.70880666952096,
          23.58043755221387,
          24.160447513664778,
          26.71455241804609,
          26.78775268023302,
          16.18105796642382,
          24.663055202985223,
          24.943653990808464,
          16.781017316017316,
          24.452147876150324,
          18.88846660585791,
          19.45712038533549,
          24.26544013583405,
          26.745602721540376,
          36.16328167261712,
          23.842625386820064,
          27.257554662712813,
          25.567792397660817,
          21.604087418658548,
          34.35388026607539,
          16.160739599383668,
          22.792753968253965,
          15.320746226806923,
          38.1221924021924,
          14.608794823389221,
          28.012077242603926,
          9.50619352544934,
          9.72248062015504,
          24.893470149253734,
          18.71863497993635,
          23.49202567253915,
          25.33212346063373,
          7.845454545454546,
          19.07555111039631,
          18.084279079411154,
          22.808988396432017,
          21.270901579599304,
          30.102761673995417,
          29.948091777503542,
          18.3951411528716,
          16.945862855336536,
          31.349290603402448,
          22.32981477318707,
          21.585578396591053,
          19.035264259549976,
          18.984078447432484,
          21.497320585678132,
          24.191765668901127,
          28.097321117643702,
          20.42142295283302,
          21.56767606357159,
          17.63435060267198,
          34.30788089958822,
          18.06285137001614,
          12.896739096820397,
          15.86758615012605,
          13.935831574486206,
          29.087988584474886,
          23.145350776674302,
          19.830982426305784,
          8.759100529100529,
          15.457286612252556,
          11.606868210405946,
          21.451695526695527,
          29.007059884559887,
          33.640732788167,
          23.722562645424436,
          15.255411255411255,
          14.404733959311425,
          4.725,
          21.32783634882721,
          10.173684333684333,
          11.411834733893556,
          6.961904761904762,
          8.326923076923077,
          15.57116649116649,
          27.050061449081056,
          20.21366480741481,
          15.276746031746029,
          34.4305250546275,
          29.522227504478437,
          14.575277248339862,
          19.238024155443636,
          25.373667945439045,
          32.52685424777588,
          26.929085186979925,
          25.932611039794608,
          15.039742337345853,
          12.580885780885783,
          18.273461438659446,
          18.517602929883633,
          25.977426487513622,
          15.314700151207399,
          26.0639201028986,
          16.113212555285724,
          11.910984848484848,
          19.301232880180248,
          15.792315758427828,
          11.690645865434,
          11.767612159430056,
          28.955046296296295,
          13.083094217478784,
          7.582411253284504,
          25.84081088664422,
          12.67189518132141,
          13.837632275132277,
          32.36211984342066,
          22.606946398551553,
          28.216573590344083,
          17.637008656165744,
          22.765798023773872,
          23.992566510172143,
          19.976518341076268,
          9.212301587301587,
          22.564299886621317,
          15.846835741097275,
          18.262854729729728,
          19.014600840336136,
          14.895993179880648,
          32.21674070610241,
          30.40824636974695,
          22.755778334725704,
          26.177805716215936,
          22.64143240725519,
          31.97721039509014,
          25.08389251997095,
          30.630678733031672,
          21.239870696419043,
          17.34765924080993,
          19.935786435786436,
          29.11091239180003,
          25.574933231216367,
          24.223677248677248,
          23.378215658877565,
          8.529649595687331,
          25.259730376168733,
          10.471027846027846,
          5.266666666666667,
          20.349739962444882,
          33.79784478958942,
          19.454966010375074,
          10.762501532171651,
          16.33620450125035,
          16.185185185185187,
          16.837520128824476,
          25.26249703861644,
          7.563492063492063,
          19.543093356745683,
          8.88441890166028,
          29.751784827194665,
          16.23979253158718,
          18.5471495779715,
          15.649318859088973,
          13.670913809240195,
          12.742080479452055,
          3.2142857142857144,
          18.26079370382745,
          25.30779225600475,
          8.516596540439458,
          5,
          6.677035330261137,
          16.290418679549116,
          11.046875,
          8.748251748251748,
          17.56900876900877,
          10.847089947089946,
          18.21698791629826,
          21.96795679224398,
          7.036970382558618,
          14.35,
          32.87591074681238,
          14.921052631578949,
          16.418181818181818,
          33.117283950617285,
          31.636397331356562,
          27.288415003024802,
          29.374285714285712,
          27.218287526427062,
          32.3687617260788,
          28.724106247911795,
          30.598954703832753,
          15.138167388167389,
          11.535714285714285,
          25.953846153846154,
          19.58116883116883,
          18.71,
          24.347428073234525,
          13.875,
          11.568948891031823,
          24.895445134575567,
          17.79081632653061,
          3.846776589423648,
          21.87680079483358,
          4.75,
          12.196969696969695,
          24.621217878972836,
          7.626373626373627,
          7.5625,
          17.54643701452212,
          8.254166666666666,
          7.363636363636363,
          14.618032786885244,
          15.531167108753316,
          19.564999999999998,
          5.416666666666666,
          19.86217255467436,
          16.7625,
          9.636781609195403,
          14.463824289405686,
          15.574099485420241,
          5.756302521008403,
          16.28380425880426,
          5.2,
          8.638339920948617,
          13.631578947368421,
          22.394927536231883,
          20.20228310502283,
          8.716666666666667,
          12.588235294117647,
          13.75,
          7.512227538543328,
          29.28358208955224,
          13.153565592903828,
          11.391414141414142,
          15.96774193548387,
          19.666666666666668,
          8.104779411764707,
          8.816666666666666,
          9.666666666666666,
          9.75,
          11.695039682539683,
          10.698879551820728,
          9.222222222222221,
          30.955223880597014,
          32.03174603174603,
          30.915254237288135,
          27.833333333333332,
          30.428571428571427,
          23.904761904761905,
          16.875,
          30.083333333333332,
          26.74137931034483,
          11.5625,
          15.115942028985508,
          25.753846153846155,
          19.842105263157894,
          8.722222222222221,
          22.413793103448278,
          27.418181818181818,
          12.574468085106384,
          18.508196721311474,
          19.8,
          22.017543859649123,
          16,
          12.428571428571429,
          12.466666666666667,
          9.486486486486486,
          18.8125,
          23.24,
          3.6666666666666665,
          27.566666666666666,
          22.350877192982455,
          9.928571428571429,
          5.333333333333333,
          13.5,
          12.732142857142858,
          10.580645161290322,
          11.916666666666666,
          17.705882352941178,
          6.444444444444445,
          11.151515151515152,
          8.829268292682928,
          5.888888888888889,
          10.818181818181818,
          18.3125,
          5.3,
          9.526315789473685,
          10.066666666666666,
          12.75,
          7,
          7.923076923076923,
          7.090909090909091,
          3.3333333333333335,
          4.666666666666667,
          10.9,
          11.25,
          14.162790697674419,
          10.666666666666666,
          5.916666666666667,
          16.5,
          22.77777777777778,
          6.4,
          4.714285714285714,
          3,
          7,
          3.6666666666666665,
          8.818181818181818,
          7.105263157894737,
          9,
          6.5,
          8.05,
          2.6666666666666665,
          8.833333333333334,
          11,
          5.6118881118881125,
          6.2,
          5,
          7.863636363636363,
          7.75,
          22.555555555555557,
          6.380952380952381,
          6.5,
          17.366666666666667,
          10.731707317073171,
          10.181818181818182,
          5.909090909090909,
          12.61111111111111,
          17.61111111111111,
          16.791666666666668,
          11,
          4.75
         ],
         "yaxis": "y"
        }
       ],
       "layout": {
        "coloraxis": {
         "colorbar": {
          "title": {
           "text": "BMI"
          }
         },
         "colorscale": [
          [
           0,
           "#0d0887"
          ],
          [
           0.1111111111111111,
           "#46039f"
          ],
          [
           0.2222222222222222,
           "#7201a8"
          ],
          [
           0.3333333333333333,
           "#9c179e"
          ],
          [
           0.4444444444444444,
           "#bd3786"
          ],
          [
           0.5555555555555556,
           "#d8576b"
          ],
          [
           0.6666666666666666,
           "#ed7953"
          ],
          [
           0.7777777777777778,
           "#fb9f3a"
          ],
          [
           0.8888888888888888,
           "#fdca26"
          ],
          [
           1,
           "#f0f921"
          ]
         ]
        },
        "legend": {
         "tracegroupgap": 0
        },
        "margin": {
         "t": 60
        },
        "template": {
         "data": {
          "bar": [
           {
            "error_x": {
             "color": "#2a3f5f"
            },
            "error_y": {
             "color": "#2a3f5f"
            },
            "marker": {
             "line": {
              "color": "#E5ECF6",
              "width": 0.5
             }
            },
            "type": "bar"
           }
          ],
          "barpolar": [
           {
            "marker": {
             "line": {
              "color": "#E5ECF6",
              "width": 0.5
             }
            },
            "type": "barpolar"
           }
          ],
          "carpet": [
           {
            "aaxis": {
             "endlinecolor": "#2a3f5f",
             "gridcolor": "white",
             "linecolor": "white",
             "minorgridcolor": "white",
             "startlinecolor": "#2a3f5f"
            },
            "baxis": {
             "endlinecolor": "#2a3f5f",
             "gridcolor": "white",
             "linecolor": "white",
             "minorgridcolor": "white",
             "startlinecolor": "#2a3f5f"
            },
            "type": "carpet"
           }
          ],
          "choropleth": [
           {
            "colorbar": {
             "outlinewidth": 0,
             "ticks": ""
            },
            "type": "choropleth"
           }
          ],
          "contour": [
           {
            "colorbar": {
             "outlinewidth": 0,
             "ticks": ""
            },
            "colorscale": [
             [
              0,
              "#0d0887"
             ],
             [
              0.1111111111111111,
              "#46039f"
             ],
             [
              0.2222222222222222,
              "#7201a8"
             ],
             [
              0.3333333333333333,
              "#9c179e"
             ],
             [
              0.4444444444444444,
              "#bd3786"
             ],
             [
              0.5555555555555556,
              "#d8576b"
             ],
             [
              0.6666666666666666,
              "#ed7953"
             ],
             [
              0.7777777777777778,
              "#fb9f3a"
             ],
             [
              0.8888888888888888,
              "#fdca26"
             ],
             [
              1,
              "#f0f921"
             ]
            ],
            "type": "contour"
           }
          ],
          "contourcarpet": [
           {
            "colorbar": {
             "outlinewidth": 0,
             "ticks": ""
            },
            "type": "contourcarpet"
           }
          ],
          "heatmap": [
           {
            "colorbar": {
             "outlinewidth": 0,
             "ticks": ""
            },
            "colorscale": [
             [
              0,
              "#0d0887"
             ],
             [
              0.1111111111111111,
              "#46039f"
             ],
             [
              0.2222222222222222,
              "#7201a8"
             ],
             [
              0.3333333333333333,
              "#9c179e"
             ],
             [
              0.4444444444444444,
              "#bd3786"
             ],
             [
              0.5555555555555556,
              "#d8576b"
             ],
             [
              0.6666666666666666,
              "#ed7953"
             ],
             [
              0.7777777777777778,
              "#fb9f3a"
             ],
             [
              0.8888888888888888,
              "#fdca26"
             ],
             [
              1,
              "#f0f921"
             ]
            ],
            "type": "heatmap"
           }
          ],
          "heatmapgl": [
           {
            "colorbar": {
             "outlinewidth": 0,
             "ticks": ""
            },
            "colorscale": [
             [
              0,
              "#0d0887"
             ],
             [
              0.1111111111111111,
              "#46039f"
             ],
             [
              0.2222222222222222,
              "#7201a8"
             ],
             [
              0.3333333333333333,
              "#9c179e"
             ],
             [
              0.4444444444444444,
              "#bd3786"
             ],
             [
              0.5555555555555556,
              "#d8576b"
             ],
             [
              0.6666666666666666,
              "#ed7953"
             ],
             [
              0.7777777777777778,
              "#fb9f3a"
             ],
             [
              0.8888888888888888,
              "#fdca26"
             ],
             [
              1,
              "#f0f921"
             ]
            ],
            "type": "heatmapgl"
           }
          ],
          "histogram": [
           {
            "marker": {
             "colorbar": {
              "outlinewidth": 0,
              "ticks": ""
             }
            },
            "type": "histogram"
           }
          ],
          "histogram2d": [
           {
            "colorbar": {
             "outlinewidth": 0,
             "ticks": ""
            },
            "colorscale": [
             [
              0,
              "#0d0887"
             ],
             [
              0.1111111111111111,
              "#46039f"
             ],
             [
              0.2222222222222222,
              "#7201a8"
             ],
             [
              0.3333333333333333,
              "#9c179e"
             ],
             [
              0.4444444444444444,
              "#bd3786"
             ],
             [
              0.5555555555555556,
              "#d8576b"
             ],
             [
              0.6666666666666666,
              "#ed7953"
             ],
             [
              0.7777777777777778,
              "#fb9f3a"
             ],
             [
              0.8888888888888888,
              "#fdca26"
             ],
             [
              1,
              "#f0f921"
             ]
            ],
            "type": "histogram2d"
           }
          ],
          "histogram2dcontour": [
           {
            "colorbar": {
             "outlinewidth": 0,
             "ticks": ""
            },
            "colorscale": [
             [
              0,
              "#0d0887"
             ],
             [
              0.1111111111111111,
              "#46039f"
             ],
             [
              0.2222222222222222,
              "#7201a8"
             ],
             [
              0.3333333333333333,
              "#9c179e"
             ],
             [
              0.4444444444444444,
              "#bd3786"
             ],
             [
              0.5555555555555556,
              "#d8576b"
             ],
             [
              0.6666666666666666,
              "#ed7953"
             ],
             [
              0.7777777777777778,
              "#fb9f3a"
             ],
             [
              0.8888888888888888,
              "#fdca26"
             ],
             [
              1,
              "#f0f921"
             ]
            ],
            "type": "histogram2dcontour"
           }
          ],
          "mesh3d": [
           {
            "colorbar": {
             "outlinewidth": 0,
             "ticks": ""
            },
            "type": "mesh3d"
           }
          ],
          "parcoords": [
           {
            "line": {
             "colorbar": {
              "outlinewidth": 0,
              "ticks": ""
             }
            },
            "type": "parcoords"
           }
          ],
          "pie": [
           {
            "automargin": true,
            "type": "pie"
           }
          ],
          "scatter": [
           {
            "marker": {
             "colorbar": {
              "outlinewidth": 0,
              "ticks": ""
             }
            },
            "type": "scatter"
           }
          ],
          "scatter3d": [
           {
            "line": {
             "colorbar": {
              "outlinewidth": 0,
              "ticks": ""
             }
            },
            "marker": {
             "colorbar": {
              "outlinewidth": 0,
              "ticks": ""
             }
            },
            "type": "scatter3d"
           }
          ],
          "scattercarpet": [
           {
            "marker": {
             "colorbar": {
              "outlinewidth": 0,
              "ticks": ""
             }
            },
            "type": "scattercarpet"
           }
          ],
          "scattergeo": [
           {
            "marker": {
             "colorbar": {
              "outlinewidth": 0,
              "ticks": ""
             }
            },
            "type": "scattergeo"
           }
          ],
          "scattergl": [
           {
            "marker": {
             "colorbar": {
              "outlinewidth": 0,
              "ticks": ""
             }
            },
            "type": "scattergl"
           }
          ],
          "scattermapbox": [
           {
            "marker": {
             "colorbar": {
              "outlinewidth": 0,
              "ticks": ""
             }
            },
            "type": "scattermapbox"
           }
          ],
          "scatterpolar": [
           {
            "marker": {
             "colorbar": {
              "outlinewidth": 0,
              "ticks": ""
             }
            },
            "type": "scatterpolar"
           }
          ],
          "scatterpolargl": [
           {
            "marker": {
             "colorbar": {
              "outlinewidth": 0,
              "ticks": ""
             }
            },
            "type": "scatterpolargl"
           }
          ],
          "scatterternary": [
           {
            "marker": {
             "colorbar": {
              "outlinewidth": 0,
              "ticks": ""
             }
            },
            "type": "scatterternary"
           }
          ],
          "surface": [
           {
            "colorbar": {
             "outlinewidth": 0,
             "ticks": ""
            },
            "colorscale": [
             [
              0,
              "#0d0887"
             ],
             [
              0.1111111111111111,
              "#46039f"
             ],
             [
              0.2222222222222222,
              "#7201a8"
             ],
             [
              0.3333333333333333,
              "#9c179e"
             ],
             [
              0.4444444444444444,
              "#bd3786"
             ],
             [
              0.5555555555555556,
              "#d8576b"
             ],
             [
              0.6666666666666666,
              "#ed7953"
             ],
             [
              0.7777777777777778,
              "#fb9f3a"
             ],
             [
              0.8888888888888888,
              "#fdca26"
             ],
             [
              1,
              "#f0f921"
             ]
            ],
            "type": "surface"
           }
          ],
          "table": [
           {
            "cells": {
             "fill": {
              "color": "#EBF0F8"
             },
             "line": {
              "color": "white"
             }
            },
            "header": {
             "fill": {
              "color": "#C8D4E3"
             },
             "line": {
              "color": "white"
             }
            },
            "type": "table"
           }
          ]
         },
         "layout": {
          "annotationdefaults": {
           "arrowcolor": "#2a3f5f",
           "arrowhead": 0,
           "arrowwidth": 1
          },
          "coloraxis": {
           "colorbar": {
            "outlinewidth": 0,
            "ticks": ""
           }
          },
          "colorscale": {
           "diverging": [
            [
             0,
             "#8e0152"
            ],
            [
             0.1,
             "#c51b7d"
            ],
            [
             0.2,
             "#de77ae"
            ],
            [
             0.3,
             "#f1b6da"
            ],
            [
             0.4,
             "#fde0ef"
            ],
            [
             0.5,
             "#f7f7f7"
            ],
            [
             0.6,
             "#e6f5d0"
            ],
            [
             0.7,
             "#b8e186"
            ],
            [
             0.8,
             "#7fbc41"
            ],
            [
             0.9,
             "#4d9221"
            ],
            [
             1,
             "#276419"
            ]
           ],
           "sequential": [
            [
             0,
             "#0d0887"
            ],
            [
             0.1111111111111111,
             "#46039f"
            ],
            [
             0.2222222222222222,
             "#7201a8"
            ],
            [
             0.3333333333333333,
             "#9c179e"
            ],
            [
             0.4444444444444444,
             "#bd3786"
            ],
            [
             0.5555555555555556,
             "#d8576b"
            ],
            [
             0.6666666666666666,
             "#ed7953"
            ],
            [
             0.7777777777777778,
             "#fb9f3a"
            ],
            [
             0.8888888888888888,
             "#fdca26"
            ],
            [
             1,
             "#f0f921"
            ]
           ],
           "sequentialminus": [
            [
             0,
             "#0d0887"
            ],
            [
             0.1111111111111111,
             "#46039f"
            ],
            [
             0.2222222222222222,
             "#7201a8"
            ],
            [
             0.3333333333333333,
             "#9c179e"
            ],
            [
             0.4444444444444444,
             "#bd3786"
            ],
            [
             0.5555555555555556,
             "#d8576b"
            ],
            [
             0.6666666666666666,
             "#ed7953"
            ],
            [
             0.7777777777777778,
             "#fb9f3a"
            ],
            [
             0.8888888888888888,
             "#fdca26"
            ],
            [
             1,
             "#f0f921"
            ]
           ]
          },
          "colorway": [
           "#636efa",
           "#EF553B",
           "#00cc96",
           "#ab63fa",
           "#FFA15A",
           "#19d3f3",
           "#FF6692",
           "#B6E880",
           "#FF97FF",
           "#FECB52"
          ],
          "font": {
           "color": "#2a3f5f"
          },
          "geo": {
           "bgcolor": "white",
           "lakecolor": "white",
           "landcolor": "#E5ECF6",
           "showlakes": true,
           "showland": true,
           "subunitcolor": "white"
          },
          "hoverlabel": {
           "align": "left"
          },
          "hovermode": "closest",
          "mapbox": {
           "style": "light"
          },
          "paper_bgcolor": "white",
          "plot_bgcolor": "#E5ECF6",
          "polar": {
           "angularaxis": {
            "gridcolor": "white",
            "linecolor": "white",
            "ticks": ""
           },
           "bgcolor": "#E5ECF6",
           "radialaxis": {
            "gridcolor": "white",
            "linecolor": "white",
            "ticks": ""
           }
          },
          "scene": {
           "xaxis": {
            "backgroundcolor": "#E5ECF6",
            "gridcolor": "white",
            "gridwidth": 2,
            "linecolor": "white",
            "showbackground": true,
            "ticks": "",
            "zerolinecolor": "white"
           },
           "yaxis": {
            "backgroundcolor": "#E5ECF6",
            "gridcolor": "white",
            "gridwidth": 2,
            "linecolor": "white",
            "showbackground": true,
            "ticks": "",
            "zerolinecolor": "white"
           },
           "zaxis": {
            "backgroundcolor": "#E5ECF6",
            "gridcolor": "white",
            "gridwidth": 2,
            "linecolor": "white",
            "showbackground": true,
            "ticks": "",
            "zerolinecolor": "white"
           }
          },
          "shapedefaults": {
           "line": {
            "color": "#2a3f5f"
           }
          },
          "ternary": {
           "aaxis": {
            "gridcolor": "white",
            "linecolor": "white",
            "ticks": ""
           },
           "baxis": {
            "gridcolor": "white",
            "linecolor": "white",
            "ticks": ""
           },
           "bgcolor": "#E5ECF6",
           "caxis": {
            "gridcolor": "white",
            "linecolor": "white",
            "ticks": ""
           }
          },
          "title": {
           "x": 0.05
          },
          "xaxis": {
           "automargin": true,
           "gridcolor": "white",
           "linecolor": "white",
           "ticks": "",
           "title": {
            "standoff": 15
           },
           "zerolinecolor": "white",
           "zerolinewidth": 2
          },
          "yaxis": {
           "automargin": true,
           "gridcolor": "white",
           "linecolor": "white",
           "ticks": "",
           "title": {
            "standoff": 15
           },
           "zerolinecolor": "white",
           "zerolinewidth": 2
          }
         }
        },
        "xaxis": {
         "anchor": "y",
         "domain": [
          0,
          1
         ],
         "title": {
          "text": "Experience"
         }
        },
        "yaxis": {
         "anchor": "x",
         "domain": [
          0,
          1
         ],
         "title": {
          "text": "min_game"
         }
        }
       }
      },
      "text/html": [
       "<div>\n",
       "        \n",
       "        \n",
       "            <div id=\"dff6a619-9b33-4d14-a900-5ff33c4eb388\" class=\"plotly-graph-div\" style=\"height:525px; width:100%;\"></div>\n",
       "            <script type=\"text/javascript\">\n",
       "                require([\"plotly\"], function(Plotly) {\n",
       "                    window.PLOTLYENV=window.PLOTLYENV || {};\n",
       "                    \n",
       "                if (document.getElementById(\"dff6a619-9b33-4d14-a900-5ff33c4eb388\")) {\n",
       "                    Plotly.newPlot(\n",
       "                        'dff6a619-9b33-4d14-a900-5ff33c4eb388',\n",
       "                        [{\"customdata\": [[\"Bradley Beal\"], [\"John Wall\"], [\"Garrett Temple\"], [\"Terrence Ross\"], [\"Jonas Valanciunas\"], [\"DeMar DeRozan\"], [\"Kyle Lowry\"], [\"Lou Williams\"], [\"Patrick Patterson\"], [\"James Johnson\"], [\"Bruno Caboclo\"], [\"Anthony Davis\"], [\"Eric Gordon\"], [\"Jrue Holiday\"], [\"Draymond Green\"], [\"Harrison Barnes\"], [\"Stephen Curry\"], [\"Klay Thompson\"], [\"Andre Iguodala\"], [\"Justin Holiday\"], [\"Giannis Antetokounmpo\"], [\"Ersan Ilyasova\"], [\"Khris Middleton\"], [\"Michael Carter-Williams\"], [\"John Henson\"], [\"Jared Dudley\"], [\"Jabari Parker\"], [\"Joakim Noah\"], [\"Jimmy Butler\"], [\"Derrick Rose\"], [\"Taj Gibson\"], [\"Tony Snell\"], [\"Doug McDermott\"], [\"E'Twaun Moore\"], [\"Tyson Chandler\"], [\"Rajon Rondo\"], [\"J.J. Barea\"], [\"Al-Farouq Aminu\"], [\"Dwight Powell\"], [\"Trevor Ariza\"], [\"Dwight Howard\"], [\"James Harden\"], [\"Corey Brewer\"], [\"Clint Capela\"], [\"Patrick Beverley\"], [\"Evan Turner\"], [\"Tyler Zeller\"], [\"Avery Bradley\"], [\"Marcus Smart\"], [\"Jae Crowder\"], [\"Kelly Olynyk\"], [\"LeBron James\"], [\"Kevin Love\"], [\"Kyrie Irving\"], [\"Tristan Thompson\"], [\"Matthew Dellavedova\"], [\"Joe Harris\"], [\"Thaddeus Young\"], [\"Brook Lopez\"], [\"Bojan Bogdanovic\"], [\"Mason Plumlee\"], [\"DeMarre Carroll\"], [\"Paul Millsap\"], [\"Al Horford\"], [\"Kyle Korver\"], [\"Jeff Teague\"], [\"Dennis Schroder\"], [\"Kent Bazemore\"], [\"Mike Scott\"], [\"Mike Muscala\"], [\"Thabo Sefolosha\"], [\"LaMarcus Aldridge\"], [\"Nicolas Batum\"], [\"Robin Lopez\"], [\"Damian Lillard\"], [\"Meyers Leonard\"], [\"Wesley Matthews\"], [\"Jeff Green\"], [\"Marc Gasol\"], [\"Courtney Lee\"], [\"Mike Conley\"], [\"Vince Carter\"], [\"JaMychal Green\"], [\"Kawhi Leonard\"], [\"Danny Green\"], [\"Aron Baynes\"], [\"Marco Belinelli\"], [\"Cory Joseph\"], [\"Patty Mills\"], [\"Kyle Anderson\"], [\"Blake Griffin\"], [\"DeAndre Jordan\"], [\"Chris Paul\"], [\"Jamal Crawford\"], [\"Austin Rivers\"], [\"Tobias Harris\"], [\"Kyle O'Quinn\"], [\"Nikola Vucevic\"], [\"Evan Fournier\"], [\"Elfrid Payton\"], [\"Aaron Gordon\"], [\"Dewayne Dedmon\"], [\"Maurice Harkless\"], [\"Victor Oladipo\"], [\"Darius Miller\"], [\"Troy Daniels\"], [\"Ed Davis\"], [\"Jordan Clarkson\"], [\"Julius Randle\"], [\"Wayne Ellington\"], [\"Nerlens Noel\"], [\"Joel Embiid\"], [\"Jerami Grant\"], [\"Solomon Hill\"], [\"Ian Mahinmi\"], [\"Paul George\"], [\"George Hill\"], [\"Brandon Knight\"], [\"Michael Kidd-Gilchrist\"], [\"Marvin Williams\"], [\"Kemba Walker\"], [\"Cody Zeller\"], [\"Bismack Biyombo\"], [\"Noah Vonleh\"], [\"Shabazz Napier\"], [\"Udonis Haslem\"], [\"Carmelo Anthony\"], [\"Tim Hardaway Jr.\"], [\"Andrew Wiggins\"], [\"Ricky Rubio\"], [\"Gorgui Dieng\"], [\"Zach LaVine\"], [\"Glenn Robinson III\"], [\"Andre Drummond\"], [\"Kentavious Caldwell-Pope\"], [\"D.J. Augustin\"], [\"Spencer Dinwiddie\"], [\"Danilo Gallinari\"], [\"Wilson Chandler\"], [\"Jusuf Nurkic\"], [\"JaVale McGee\"], [\"Gary Harris\"], [\"Gordon Hayward\"], [\"Derrick Favors\"], [\"Enes Kanter\"], [\"Trey Burke\"], [\"Alec Burks\"], [\"Rodney Hood\"], [\"Rudy Gobert\"], [\"Dante Exum\"], [\"Joe Ingles\"], [\"Markieff Morris\"], [\"Goran Dragic\"], [\"Eric Bledsoe\"], [\"Alex Len\"], [\"Anthony Tolliver\"], [\"P.J. Tucker\"], [\"T.J. Warren\"], [\"Rudy Gay\"], [\"Ben McLemore\"], [\"Serge Ibaka\"], [\"Steven Adams\"], [\"Andre Roberson\"], [\"Russell Westbrook\"], [\"Lance Thomas\"], [\"Reggie Jackson\"], [\"Jeremy Lamb\"], [\"Kevin Durant\"], [\"Will Barton\"], [\"Dion Waiters\"], [\"Reggie Bullock\"], [\"Ish Smith\"], [\"Robert Covington\"], [\"Hassan Whiteside\"], [\"Langston Galloway\"], [\"Tyler Johnson\"], [\"Seth Curry\"], [\"Richaun Holmes\"], [\"Jahlil Okafor\"], [\"Kelly Oubre Jr.\"], [\"Frank Kaminsky\"], [\"Josh Richardson\"], [\"Justise Winslow\"], [\"Mario Hezonja\"], [\"Jerian Grant\"], [\"Kristaps Porzingis\"], [\"Rondae Hollis-Jefferson\"], [\"Terry Rozier\"], [\"Norman Powell\"], [\"Delon Wright\"], [\"Bobby Portis\"], [\"Cedi Osman\"], [\"Myles Turner\"], [\"Stanley Johnson\"], [\"Nemanja Bjelica\"], [\"Tyus Jones\"], [\"Karl-Anthony Towns\"], [\"Trey Lyles\"], [\"Raul Neto\"], [\"Cameron Payne\"], [\"Pat Connaughton\"], [\"Nikola Jokic\"], [\"Emmanuel Mudiay\"], [\"Montrezl Harrell\"], [\"Boban Marjanovic\"], [\"Justin Anderson\"], [\"Kevon Looney\"], [\"Larry Nance Jr.\"], [\"D'Angelo Russell\"], [\"Devin Booker\"], [\"Willie Cauley-Stein\"], [\"Treveon Graham\"], [\"Brad Wanamaker\"], [\"Thanasis Antetokounmpo\"], [\"T.J. McConnell\"], [\"Jordan McRae\"], [\"Christian Wood\"], [\"Malcolm Miller\"], [\"Deonte Burton\"], [\"Quinn Cook\"], [\"Dario Saric\"], [\"Rodney McGruder\"], [\"Khem Birch\"], [\"Ben Simmons\"], [\"Jamal Murray\"], [\"Thon Maker\"], [\"Davis Bertans\"], [\"Kris Dunn\"], [\"Brandon Ingram\"], [\"Jaylen Brown\"], [\"Buddy Hield\"], [\"Marquese Chriss\"], [\"Skal Labissiere\"], [\"Malik Beasley\"], [\"Dejounte Murray\"], [\"Taurean Prince\"], [\"Patrick McCaw\"], [\"Domantas Sabonis\"], [\"Jakob Poeltl\"], [\"Damian Jones\"], [\"Denzel Valentine\"], [\"Ivica Zubac\"], [\"Ante Zizic\"], [\"Cheick Diallo\"], [\"Malcolm Brogdon\"], [\"Jake Layman\"], [\"Georges Niang\"], [\"Pascal Siakam\"], [\"Abdel Nader\"], [\"Furkan Korkmaz\"], [\"Gary Payton\"], [\"Yogi Ferrell\"], [\"Bogdan Bogdanovic\"], [\"Ryan Arcidiacono\"], [\"Tomas Satoransky\"], [\"Dorian Finney-Smith\"], [\"Bryn Forbes\"], [\"Jarrod Uthoff\"], [\"Damion Lee\"], [\"Shaquille Harrison\"], [\"Alex Caruso\"], [\"David Nwaba\"], [\"Hamidou Diallo\"], [\"Lonzo Ball\"], [\"De'Aaron Fox\"], [\"Markelle Fultz\"], [\"Dennis Smith Jr.\"], [\"Josh Jackson\"], [\"Jayson Tatum\"], [\"Jonathan Isaac\"], [\"Lauri Markkanen\"], [\"Frank Ntilikina\"], [\"Malik Monk\"], [\"Zach Collins\"], [\"John Collins\"], [\"Bam Adebayo\"], [\"Jarrett Allen\"], [\"OG Anunoby\"], [\"TJ Leaf\"], [\"Luke Kennard\"], [\"D.J. Wilson\"], [\"Justin Patton\"], [\"Terrance Ferguson\"], [\"Donovan Mitchell\"], [\"Justin Jackson\"], [\"Jordan Bell\"], [\"Frank Jackson\"], [\"Anzejs Pasecniks\"], [\"Thomas Bryant\"], [\"Josh Hart\"], [\"Caleb Swanigan\"], [\"Derrick White\"], [\"Tony Bradley\"], [\"Kyle Kuzma\"], [\"Dwayne Bacon\"], [\"Damyean Dotson\"], [\"Sterling Brown\"], [\"Semi Ojeleye\"], [\"Sindarius Thornwell\"], [\"Vlatko Cancar\"], [\"Monte Morris\"], [\"Dillon Brooks\"], [\"Edmond Sumner\"], [\"Nigel Williams-Goss\"], [\"Chris Boucher\"], [\"Luke Kornet\"], [\"Kobi Simmons\"], [\"Johnathan Motley\"], [\"Daniel Theis\"], [\"Alfonzo McKinnie\"], [\"Torrey Craig\"], [\"Royce O'Neale\"], [\"Antonius Cleveland\"], [\"Josh Gray\"], [\"Luka Doncic\"], [\"Grayson Allen\"], [\"Michael Porter Jr.\"], [\"Trae Young\"], [\"Deandre Ayton\"], [\"Jaren Jackson Jr.\"], [\"Kevin Huerter\"], [\"Wendell Carter Jr.\"], [\"Collin Sexton\"], [\"Mikal Bridges\"], [\"Shai Gilgeous-Alexander\"], [\"Jerome Robinson\"], [\"Zhaire Smith\"], [\"Miles Bridges\"], [\"Chandler Hutchison\"], [\"Aaron Holiday\"], [\"Josh Okogie\"], [\"Anfernee Simons\"], [\"Lonnie Walker IV\"], [\"Devonte' Graham\"], [\"Omari Spellman\"], [\"Jarred Vanderbilt\"], [\"Mitchell Robinson\"], [\"Kostas Antetokounmpo\"], [\"Isaac Bonga\"], [\"Landry Shamet\"], [\"Ray Spalding\"], [\"Khyri Thomas\"], [\"Rodions Kurucs\"], [\"Dzanan Musa\"], [\"Devon Hall\"], [\"Gary Trent Jr.\"], [\"Jevon Carter\"], [\"De'Anthony Melton\"], [\"Chimezie Metu\"], [\"Jalen Brunson\"], [\"Shake Milton\"], [\"Jacob Evans\"], [\"Moritz Wagner\"], [\"Elie Okobo\"], [\"Alize Johnson\"], [\"Keita Bates-Diop\"], [\"Kevin Hervey\"], [\"Drew Eubanks\"], [\"Cameron Reynolds\"], [\"Kenrich Williams\"], [\"Duncan Robinson\"], [\"Yuta Watanabe\"], [\"Jaylen Adams\"], [\"Johnathan Williams\"], [\"Wenyen Gabriel\"], [\"Kendrick Nunn\"], [\"Gary Clark\"], [\"Theo Pinson\"], [\"Kelan Martin\"], [\"Jordan McLaughlin\"], [\"Brandon Goodwin\"], [\"Paul Watson\"], [\"Norvel Pelle\"], [\"Javonte Green\"], [\"Chris Chiozza\"], [\"Ryan Broekhoff\"], [\"Gabe Vincent\"], [\"Ja Morant\"], [\"De'Andre Hunter\"], [\"Darius Garland\"], [\"Zion Williamson\"], [\"RJ Barrett\"], [\"Jarrett Culver\"], [\"Jaxson Hayes\"], [\"Rui Hachimura\"], [\"Cam Reddish\"], [\"Romeo Langford\"], [\"Grant Williams\"], [\"Coby White\"], [\"Sekou Doumbouya\"], [\"Goga Bitadze\"], [\"Brandon Clarke\"], [\"Tyler Herro\"], [\"Nickeil Alexander-Walker\"], [\"Darius Bazley\"], [\"Matisse Thybulle\"], [\"Cameron Johnson\"], [\"Luka Samanic\"], [\"Bol Bol\"], [\"Nicolas Claxton\"], [\"Carsen Edwards\"], [\"Cody Martin\"], [\"Kevin Porter Jr.\"], [\"Isaiah Roby\"], [\"Eric Paschall\"], [\"Jordan Poole\"], [\"Alen Smailagic\"], [\"Mfiondu Kabengele\"], [\"Talen Horton-Tucker\"], [\"Bruno Fernando\"], [\"Ty Jerome\"], [\"Nassir Little\"], [\"Keldon Johnson\"], [\"Justin James\"], [\"Admiral Schofield\"], [\"Terance Mann\"], [\"Ignas Brazdeikis\"], [\"Tremont Waters\"], [\"Jalen McDaniels\"], [\"Jordan Bone\"], [\"John Konchar\"], [\"Jaylen Nowell\"], [\"Zylan Cheatham\"], [\"Marial Shayok\"], [\"Jaylen Hoard\"], [\"Quinndary Weatherspoon\"], [\"Kyle Guy\"], [\"Dewan Hernandez\"], [\"Miye Oni\"], [\"Justin Wright-Foreman\"], [\"Daniel Gafford\"], [\"Jarrell Brantley\"], [\"Dean Wade\"], [\"Naz Reid\"], [\"Luguentz Dort\"], [\"Jalen Lecque\"], [\"Tacko Fall\"], [\"Max Strus\"], [\"Josh Reaves\"], [\"Moses Brown\"], [\"Chris Clemons\"], [\"Oshae Brissett\"], [\"Devontae Cacok\"], [\"Kyle Alexander\"], [\"Rayjon Tucker\"], [\"Jared Harper\"], [\"Amir Coffey\"], [\"Jeremiah Martin\"], [\"Tyler Cook\"], [\"Louis King\"], [\"Tariq Owens\"], [\"Chris Silva\"], [\"Vic Law\"], [\"Ky Bowman\"], [\"Juwan Morgan\"], [\"William Howard\"], [\"Nicolo Melli\"], [\"Matt Thomas\"], [\"Adam Mokoka\"], [\"Vincent Poirier\"], [\"Garrison Mathews\"], [\"Caleb Martin\"], [\"Terence Davis\"], [\"Marko Guduric\"], [\"Matt Mooney\"]], \"hovertemplate\": \"Experience=%{x}<br>min_game=%{y}<br>PLAYER_NAME=%{customdata[0]}<br>BMI=%{marker.color}<extra></extra>\", \"legendgroup\": \"\", \"marker\": {\"color\": [25.87, 25.56, 23.12, 23.8, 27.04, 25.42, 26.58, 23.09, 25.81, 27.03, 23.36, 26.45, 26.87, 25.62, 26.58, 24.71, 23.12, 24.84, 24.84, 20.8, 24.7, 25.18, 25.01, 22.53, 23.47, 27.39, 26.91, 23.47, 25.91, 25.68, 24.86, 24.61, 25.34, 23.87, 23.41, 23.75, 25.82, 24.17, 25.09, 23.62, 27.71, 26.09, 19.93, 25.09, 23.75, 25.42, 25.41, 22.5, 27.5, 27.15, 24.49, 26.79, 27.57, 25.03, 27.22, 25.0, 25.42, 25.81, 28.1, 24.82, 25.92, 24.84, 28.95, 25.72, 23.88, 24.37, 22.69, 23.73, 26.7, 25.09, 24.84, 25.51, 24.64, 28.0, 25.03, 25.9, 26.78, 25.81, 26.02, 25.49, 23.09, 25.42, 24.93, 25.34, 24.84, 27.18, 26.09, 25.0, 23.75, 24.64, 26.79, 27.04, 23.09, 21.94, 25.0, 24.82, 26.79, 26.53, 23.09, 24.37, 25.81, 24.41, 24.78, 25.92, 26.0, 24.95, 23.36, 23.37, 27.46, 25.19, 23.0, 27.9, 23.07, 26.11, 26.74, 24.17, 23.5, 23.36, 26.58, 26.03, 24.95, 23.91, 28.01, 26.87, 23.73, 25.81, 26.14, 24.31, 22.19, 23.75, 26.35, 23.11, 25.65, 29.17, 24.19, 25.52, 25.49, 24.36, 25.81, 28.89, 26.9, 25.56, 25.34, 28.39, 26.14, 25.09, 24.73, 22.85, 25.1, 25.37, 24.78, 26.91, 23.75, 28.23, 24.91, 26.36, 29.05, 24.17, 27.46, 24.37, 23.41, 27.04, 23.65, 25.0, 25.81, 26.0, 21.34, 25.09, 21.46, 26.25, 23.69, 23.73, 23.54, 26.4, 26.38, 23.12, 23.75, 24.57, 28.23, 22.87, 23.91, 23.71, 25.65, 24.17, 24.83, 22.29, 25.07, 25.06, 26.87, 21.94, 26.14, 25.91, 25.51, 27.96, 24.46, 26.58, 25.31, 25.07, 23.75, 23.75, 24.78, 28.3, 25.0, 27.03, 26.33, 27.39, 23.79, 27.6, 23.49, 24.43, 23.91, 25.97, 26.25, 25.31, 25.06, 21.22, 22.37, 23.65, 29.21, 23.75, 23.52, 24.95, 24.97, 25.09, 26.17, 22.02, 23.52, 25.62, 21.4, 25.77, 26.78, 25.72, 24.57, 22.76, 21.91, 24.56, 20.39, 24.49, 23.84, 25.0, 26.78, 23.91, 27.81, 24.06, 27.15, 22.96, 25.91, 24.64, 26.68, 22.75, 24.37, 24.14, 25.42, 24.37, 23.65, 24.78, 26.32, 23.68, 24.9, 21.4, 22.05, 25.97, 23.95, 21.95, 23.12, 26.12, 26.32, 22.74, 23.07, 23.47, 23.91, 24.34, 25.0, 25.51, 25.18, 27.32, 24.8, 26.13, 23.21, 24.43, 24.15, 24.59, 21.95, 28.36, 24.78, 23.73, 25.62, 21.41, 25.93, 25.49, 27.86, 23.12, 25.93, 24.28, 25.54, 24.9, 25.97, 27.73, 26.17, 25.92, 23.49, 25.34, 23.86, 24.39, 21.43, 23.76, 21.34, 25.26, 26.91, 24.22, 24.89, 27.51, 23.12, 24.41, 25.91, 24.1, 22.79, 23.75, 25.51, 24.7, 21.4, 28.93, 25.06, 24.15, 21.34, 23.12, 25.62, 26.0, 23.65, 25.09, 25.92, 22.62, 24.19, 25.72, 26.91, 22.93, 23.91, 20.91, 19.77, 23.12, 22.48, 26.25, 24.43, 23.25, 27.6, 24.78, 26.38, 25.68, 24.11, 25.06, 24.31, 25.56, 25.0, 23.75, 23.88, 25.15, 24.64, 26.25, 25.34, 24.27, 24.22, 23.62, 24.39, 24.43, 21.97, 24.39, 26.0, 25.14, 27.27, 25.8, 24.41, 24.27, 24.15, 24.95, 24.54, 24.84, 25.0, 21.75, 25.34, 25.33, 32.82, 24.73, 22.53, 22.45, 25.26, 23.95, 26.29, 27.27, 23.73, 25.26, 25.51, 23.62, 23.12, 24.31, 22.85, 23.83, 23.07, 23.73, 20.91, 21.94, 27.89, 24.31, 24.71, 25.26, 29.46, 23.61, 22.48, 26.79, 28.48, 25.72, 23.12, 26.09, 26.09, 21.4, 28.58, 25.49, 25.54, 25.11, 21.43, 22.5, 24.9, 24.46, 26.09, 23.48, 23.73, 25.62, 22.03, 24.57, 24.43, 25.77, 24.46, 29.64, 24.43, 28.29, 26.87, 22.52, 27.6, 25.49, 26.05, 23.29, 26.58, 23.65, 26.36, 22.45, 26.12, 24.4, 23.65, 23.75, 28.01, 23.09, 21.43, 25.7, 22.53, 24.67, 26.13, 22.74, 25.29, 23.12, 22.53, 23.41, 25.49, 24.31, 24.46, 23.23, 25.0], \"coloraxis\": \"coloraxis\", \"symbol\": \"circle\"}, \"mode\": \"markers\", \"name\": \"\", \"orientation\": \"v\", \"showlegend\": false, \"type\": \"scatter\", \"x\": [6, 8, 8, 6, 6, 9, 12, 13, 8, 9, 4, 6, 10, 9, 6, 6, 9, 7, 14, 5, 5, 10, 6, 5, 6, 11, 4, 11, 7, 9, 9, 5, 4, 7, 17, 12, 12, 8, 4, 14, 14, 9, 11, 4, 6, 8, 6, 8, 4, 6, 5, 15, 10, 7, 7, 5, 4, 11, 10, 4, 5, 9, 12, 11, 15, 9, 5, 6, 6, 5, 12, 12, 10, 10, 6, 6, 9, 10, 10, 10, 11, 20, 4, 7, 9, 6, 11, 7, 9, 4, 8, 10, 13, 18, 6, 7, 6, 7, 6, 4, 4, 5, 6, 5, 4, 5, 8, 4, 4, 9, 4, 2, 4, 5, 10, 8, 10, 6, 6, 13, 7, 5, 7, 4, 4, 15, 15, 5, 4, 7, 5, 4, 4, 6, 5, 10, 4, 9, 10, 4, 10, 4, 8, 8, 7, 5, 7, 4, 5, 3, 4, 7, 10, 8, 5, 10, 7, 4, 12, 5, 9, 5, 5, 10, 7, 7, 6, 11, 6, 6, 5, 8, 5, 6, 4, 4, 4, 3, 3, 3, 3, 3, 3, 3, 3, 3, 3, 3, 3, 3, 3, 1, 3, 3, 3, 3, 3, 3, 3, 3, 3, 3, 3, 3, 3, 3, 3, 3, 3, 3, 3, 2, 1, 1, 3, 2, 2, 1, 0, 2, 2, 2, 1, 1, 2, 2, 2, 2, 2, 2, 2, 2, 2, 2, 2, 2, 2, 2, 2, 2, 2, 2, 1, 2, 2, 2, 2, 2, 1, 1, 2, 2, 1, 1, 2, 2, 2, 1, 1, 1, 1, 2, 0, 1, 1, 1, 1, 1, 1, 1, 1, 1, 1, 1, 1, 1, 1, 1, 1, 1, 1, 1, 1, 1, 1, 1, 0, 0, 1, 1, 1, 1, 1, 1, 1, 1, 1, 1, 1, 0, 1, 1, 1, 0, 1, 1, 1, 1, 1, 1, 1, 1, 1, 0, 0, 0, 0, 0, 0, 0, 0, 0, 0, 0, 0, 0, 0, 0, 0, 0, 0, 0, 0, 0, 0, 0, 0, 0, 0, 0, 0, 0, 0, 0, 0, 0, 0, 0, 0, 0, 0, 0, 0, 0, 0, 0, 0, 0, 0, 0, 0, 0, 0, 0, 0, 0, 0, 0, 0, 0, 0, 0, 0, 0, 0, 0, 0, 0, 0, 0, 0, 0, 0, 0, 0, 0, 0, 0, 0, 0, 0, 0, 0, 0, 0, 0, 0, 0, 0, 0, 0, 0, 0, 0, 0, 0, 0, 0, 0, 0, 0, 0, 0, 0, 0, 0, 0, 0, 0, 0, 0, 0, 0, 0, 0, 0, 0, 0, 0, 0, 0, 0, 0, 0, 0, 0, 0, 0, 0, 0, 0, 0, 0, 0, 0, 0, 0, 0, 0, 0, 0, 0, 0, 0, 0, 0, 0, 0, 0, 0, 0, 0, 0, 0, 0], \"xaxis\": \"x\", \"y\": [33.03487625768447, 35.77327289285239, 10.385527065527066, 23.084495510099696, 26.01021306252489, 33.26566623318707, 21.670446626544184, 18.590675976522967, 22.793403914348065, 19.170074964085153, 5.597222222222222, 34.344559505989814, 34.505218795541374, 32.8997222377604, 26.808765159270514, 29.673035034442876, 34.5439501039501, 32.156807740588235, 38.02130937098845, 14.100510032553524, 32.72068013468014, 23.680566702027885, 28.89005933039106, 32.36906763336032, 18.83476045578004, 19.35121171622675, 29.15445082418497, 27.651362612612616, 29.766112535686613, 35.511832858499524, 24.03017734298222, 22.49991648629149, 19.757182940516273, 16.12145275654272, 24.107016296088766, 32.03788450837471, 15.384207978300804, 22.302176758097808, 10.21695285474146, 18.152767335004178, 35.92957702994751, 31.452193287537277, 21.852757623152804, 22.303817046205104, 27.79205670865382, 28.14693488986172, 16.925103753252962, 23.54998813014942, 28.413784195161703, 17.670811362364635, 21.27639054157132, 41.12908211619604, 32.59021478099104, 33.65372875615337, 28.21252032520325, 21.542063803788075, 18.011201079622133, 28.261730719226172, 32.05845748187211, 25.263654242304035, 23.273299780616856, 5.677055667337358, 26.17670089858793, 33.33948296037848, 26.579665128543184, 24.397375237230825, 23.100613183407777, 13.934965653814775, 14.110607843137254, 14.077619047619047, 20.67250247817758, 34.22808695527994, 28.709772219972088, 16.87817338611819, 36.339284552845534, 16.023846679894433, 32.16307400623413, 32.53697345917729, 33.97279510442819, 27.016369235666627, 31.855155175946493, 37.40159954622802, 13.171501831501832, 29.82663814872867, 18.42050356506239, 12.966822252171307, 19.907651515151514, 16.129548709051495, 12.50181433588761, 19.50407463895836, 35.524064571819395, 21.626429263710673, 37.37444978632478, 27.31273164647185, 20.913462799689974, 22.60640590132393, 14.375608936949765, 29.291789151912987, 25.004903289625712, 29.34400722898885, 27.24745311059691, 11.332808539191808, 22.57521580758423, 33.41420978441128, 17.436781140386653, 10.03554802354618, 21.45820944487611, 26.564399143389142, 25.663138514391438, 19.831679483338327, 24.414784924721772, 29.722426705897416, 21.351169663669666, 19.408862674462092, 10.818180808262778, 27.883258283184613, 26.777967155651368, 32.226247086247085, 27.46552093068222, 31.61976939435977, 33.524058258717986, 22.477661856158996, 21.16259430102418, 15.186023814023812, 15.744586741562324, 31.28620683875988, 36.54714814859936, 24.887921711285745, 35.93327806033007, 31.62032714824756, 23.994935242711193, 30.336665041698772, 11.80943823326432, 29.24330322192111, 30.905236182909476, 24.797372700042793, 21.24291625124626, 29.660884252147696, 30.735803890036316, 20.683481182795695, 21.419492230112176, 27.917072294032227, 29.496039340776186, 20.746658341658343, 22.70880666952096, 23.58043755221387, 24.160447513664778, 26.71455241804609, 26.78775268023302, 16.18105796642382, 24.663055202985223, 24.943653990808464, 16.781017316017316, 24.452147876150324, 18.88846660585791, 19.45712038533549, 24.26544013583405, 26.745602721540376, 36.16328167261712, 23.842625386820064, 27.257554662712813, 25.567792397660817, 21.604087418658548, 34.35388026607539, 16.160739599383668, 22.792753968253965, 15.320746226806923, 38.1221924021924, 14.608794823389221, 28.012077242603926, 9.50619352544934, 9.72248062015504, 24.893470149253734, 18.71863497993635, 23.49202567253915, 25.33212346063373, 7.845454545454546, 19.07555111039631, 18.084279079411154, 22.808988396432017, 21.270901579599304, 30.102761673995417, 29.948091777503542, 18.3951411528716, 16.945862855336536, 31.349290603402448, 22.32981477318707, 21.585578396591053, 19.035264259549976, 18.984078447432484, 21.497320585678132, 24.191765668901127, 28.097321117643702, 20.42142295283302, 21.56767606357159, 17.63435060267198, 34.30788089958822, 18.06285137001614, 12.896739096820397, 15.86758615012605, 13.935831574486206, 29.087988584474886, 23.145350776674302, 19.830982426305784, 8.759100529100529, 15.457286612252556, 11.606868210405946, 21.451695526695527, 29.007059884559887, 33.640732788167, 23.722562645424436, 15.255411255411255, 14.404733959311425, 4.725, 21.32783634882721, 10.173684333684333, 11.411834733893556, 6.961904761904762, 8.326923076923077, 15.57116649116649, 27.050061449081056, 20.21366480741481, 15.276746031746029, 34.4305250546275, 29.522227504478437, 14.575277248339862, 19.238024155443636, 25.373667945439045, 32.52685424777588, 26.929085186979925, 25.932611039794608, 15.039742337345853, 12.580885780885783, 18.273461438659446, 18.517602929883633, 25.977426487513622, 15.314700151207399, 26.0639201028986, 16.113212555285724, 11.910984848484848, 19.301232880180248, 15.792315758427828, 11.690645865434, 11.767612159430056, 28.955046296296295, 13.083094217478784, 7.582411253284504, 25.84081088664422, 12.67189518132141, 13.837632275132277, 32.36211984342066, 22.606946398551553, 28.216573590344083, 17.637008656165744, 22.765798023773872, 23.992566510172143, 19.976518341076268, 9.212301587301587, 22.564299886621317, 15.846835741097275, 18.262854729729728, 19.014600840336136, 14.895993179880648, 32.21674070610241, 30.40824636974695, 22.755778334725704, 26.177805716215936, 22.64143240725519, 31.97721039509014, 25.08389251997095, 30.630678733031672, 21.239870696419043, 17.34765924080993, 19.935786435786436, 29.11091239180003, 25.574933231216367, 24.223677248677248, 23.378215658877565, 8.529649595687331, 25.259730376168733, 10.471027846027846, 5.266666666666667, 20.349739962444882, 33.79784478958942, 19.454966010375074, 10.762501532171651, 16.33620450125035, 16.185185185185187, 16.837520128824476, 25.26249703861644, 7.563492063492063, 19.543093356745683, 8.88441890166028, 29.751784827194665, 16.23979253158718, 18.5471495779715, 15.649318859088973, 13.670913809240195, 12.742080479452055, 3.2142857142857144, 18.26079370382745, 25.30779225600475, 8.516596540439458, 5.0, 6.677035330261137, 16.290418679549116, 11.046875, 8.748251748251748, 17.56900876900877, 10.847089947089946, 18.21698791629826, 21.96795679224398, 7.036970382558618, 14.35, 32.87591074681238, 14.921052631578949, 16.418181818181818, 33.117283950617285, 31.636397331356562, 27.288415003024802, 29.374285714285712, 27.218287526427062, 32.3687617260788, 28.724106247911795, 30.598954703832753, 15.138167388167389, 11.535714285714285, 25.953846153846154, 19.58116883116883, 18.71, 24.347428073234525, 13.875, 11.568948891031823, 24.895445134575567, 17.79081632653061, 3.846776589423648, 21.87680079483358, 4.75, 12.196969696969695, 24.621217878972836, 7.626373626373627, 7.5625, 17.54643701452212, 8.254166666666666, 7.363636363636363, 14.618032786885244, 15.531167108753316, 19.564999999999998, 5.416666666666666, 19.86217255467436, 16.7625, 9.636781609195403, 14.463824289405686, 15.574099485420241, 5.756302521008403, 16.28380425880426, 5.2, 8.638339920948617, 13.631578947368421, 22.394927536231883, 20.20228310502283, 8.716666666666667, 12.588235294117647, 13.75, 7.512227538543328, 29.28358208955224, 13.153565592903828, 11.391414141414142, 15.96774193548387, 19.666666666666668, 8.104779411764707, 8.816666666666666, 9.666666666666666, 9.75, 11.695039682539683, 10.698879551820728, 9.222222222222221, 30.955223880597014, 32.03174603174603, 30.915254237288135, 27.833333333333332, 30.428571428571427, 23.904761904761905, 16.875, 30.083333333333332, 26.74137931034483, 11.5625, 15.115942028985508, 25.753846153846155, 19.842105263157894, 8.722222222222221, 22.413793103448278, 27.418181818181818, 12.574468085106384, 18.508196721311474, 19.8, 22.017543859649123, 16.0, 12.428571428571429, 12.466666666666667, 9.486486486486486, 18.8125, 23.24, 3.6666666666666665, 27.566666666666666, 22.350877192982455, 9.928571428571429, 5.333333333333333, 13.5, 12.732142857142858, 10.580645161290322, 11.916666666666666, 17.705882352941178, 6.444444444444445, 11.151515151515152, 8.829268292682928, 5.888888888888889, 10.818181818181818, 18.3125, 5.3, 9.526315789473685, 10.066666666666666, 12.75, 7.0, 7.923076923076923, 7.090909090909091, 3.3333333333333335, 4.666666666666667, 10.9, 11.25, 14.162790697674419, 10.666666666666666, 5.916666666666667, 16.5, 22.77777777777778, 6.4, 4.714285714285714, 3.0, 7.0, 3.6666666666666665, 8.818181818181818, 7.105263157894737, 9.0, 6.5, 8.05, 2.6666666666666665, 8.833333333333334, 11.0, 5.6118881118881125, 6.2, 5.0, 7.863636363636363, 7.75, 22.555555555555557, 6.380952380952381, 6.5, 17.366666666666667, 10.731707317073171, 10.181818181818182, 5.909090909090909, 12.61111111111111, 17.61111111111111, 16.791666666666668, 11.0, 4.75], \"yaxis\": \"y\"}],\n",
       "                        {\"coloraxis\": {\"colorbar\": {\"title\": {\"text\": \"BMI\"}}, \"colorscale\": [[0.0, \"#0d0887\"], [0.1111111111111111, \"#46039f\"], [0.2222222222222222, \"#7201a8\"], [0.3333333333333333, \"#9c179e\"], [0.4444444444444444, \"#bd3786\"], [0.5555555555555556, \"#d8576b\"], [0.6666666666666666, \"#ed7953\"], [0.7777777777777778, \"#fb9f3a\"], [0.8888888888888888, \"#fdca26\"], [1.0, \"#f0f921\"]]}, \"legend\": {\"tracegroupgap\": 0}, \"margin\": {\"t\": 60}, \"template\": {\"data\": {\"bar\": [{\"error_x\": {\"color\": \"#2a3f5f\"}, \"error_y\": {\"color\": \"#2a3f5f\"}, \"marker\": {\"line\": {\"color\": \"#E5ECF6\", \"width\": 0.5}}, \"type\": \"bar\"}], \"barpolar\": [{\"marker\": {\"line\": {\"color\": \"#E5ECF6\", \"width\": 0.5}}, \"type\": \"barpolar\"}], \"carpet\": [{\"aaxis\": {\"endlinecolor\": \"#2a3f5f\", \"gridcolor\": \"white\", \"linecolor\": \"white\", \"minorgridcolor\": \"white\", \"startlinecolor\": \"#2a3f5f\"}, \"baxis\": {\"endlinecolor\": \"#2a3f5f\", \"gridcolor\": \"white\", \"linecolor\": \"white\", \"minorgridcolor\": \"white\", \"startlinecolor\": \"#2a3f5f\"}, \"type\": \"carpet\"}], \"choropleth\": [{\"colorbar\": {\"outlinewidth\": 0, \"ticks\": \"\"}, \"type\": \"choropleth\"}], \"contour\": [{\"colorbar\": {\"outlinewidth\": 0, \"ticks\": \"\"}, \"colorscale\": [[0.0, \"#0d0887\"], [0.1111111111111111, \"#46039f\"], [0.2222222222222222, \"#7201a8\"], [0.3333333333333333, \"#9c179e\"], [0.4444444444444444, \"#bd3786\"], [0.5555555555555556, \"#d8576b\"], [0.6666666666666666, \"#ed7953\"], [0.7777777777777778, \"#fb9f3a\"], [0.8888888888888888, \"#fdca26\"], [1.0, \"#f0f921\"]], \"type\": \"contour\"}], \"contourcarpet\": [{\"colorbar\": {\"outlinewidth\": 0, \"ticks\": \"\"}, \"type\": \"contourcarpet\"}], \"heatmap\": [{\"colorbar\": {\"outlinewidth\": 0, \"ticks\": \"\"}, \"colorscale\": [[0.0, \"#0d0887\"], [0.1111111111111111, \"#46039f\"], [0.2222222222222222, \"#7201a8\"], [0.3333333333333333, \"#9c179e\"], [0.4444444444444444, \"#bd3786\"], [0.5555555555555556, \"#d8576b\"], [0.6666666666666666, \"#ed7953\"], [0.7777777777777778, \"#fb9f3a\"], [0.8888888888888888, \"#fdca26\"], [1.0, \"#f0f921\"]], \"type\": \"heatmap\"}], \"heatmapgl\": [{\"colorbar\": {\"outlinewidth\": 0, \"ticks\": \"\"}, \"colorscale\": [[0.0, \"#0d0887\"], [0.1111111111111111, \"#46039f\"], [0.2222222222222222, \"#7201a8\"], [0.3333333333333333, \"#9c179e\"], [0.4444444444444444, \"#bd3786\"], [0.5555555555555556, \"#d8576b\"], [0.6666666666666666, \"#ed7953\"], [0.7777777777777778, \"#fb9f3a\"], [0.8888888888888888, \"#fdca26\"], [1.0, \"#f0f921\"]], \"type\": \"heatmapgl\"}], \"histogram\": [{\"marker\": {\"colorbar\": {\"outlinewidth\": 0, \"ticks\": \"\"}}, \"type\": \"histogram\"}], \"histogram2d\": [{\"colorbar\": {\"outlinewidth\": 0, \"ticks\": \"\"}, \"colorscale\": [[0.0, \"#0d0887\"], [0.1111111111111111, \"#46039f\"], [0.2222222222222222, \"#7201a8\"], [0.3333333333333333, \"#9c179e\"], [0.4444444444444444, \"#bd3786\"], [0.5555555555555556, \"#d8576b\"], [0.6666666666666666, \"#ed7953\"], [0.7777777777777778, \"#fb9f3a\"], [0.8888888888888888, \"#fdca26\"], [1.0, \"#f0f921\"]], \"type\": \"histogram2d\"}], \"histogram2dcontour\": [{\"colorbar\": {\"outlinewidth\": 0, \"ticks\": \"\"}, \"colorscale\": [[0.0, \"#0d0887\"], [0.1111111111111111, \"#46039f\"], [0.2222222222222222, \"#7201a8\"], [0.3333333333333333, \"#9c179e\"], [0.4444444444444444, \"#bd3786\"], [0.5555555555555556, \"#d8576b\"], [0.6666666666666666, \"#ed7953\"], [0.7777777777777778, \"#fb9f3a\"], [0.8888888888888888, \"#fdca26\"], [1.0, \"#f0f921\"]], \"type\": \"histogram2dcontour\"}], \"mesh3d\": [{\"colorbar\": {\"outlinewidth\": 0, \"ticks\": \"\"}, \"type\": \"mesh3d\"}], \"parcoords\": [{\"line\": {\"colorbar\": {\"outlinewidth\": 0, \"ticks\": \"\"}}, \"type\": \"parcoords\"}], \"pie\": [{\"automargin\": true, \"type\": \"pie\"}], \"scatter\": [{\"marker\": {\"colorbar\": {\"outlinewidth\": 0, \"ticks\": \"\"}}, \"type\": \"scatter\"}], \"scatter3d\": [{\"line\": {\"colorbar\": {\"outlinewidth\": 0, \"ticks\": \"\"}}, \"marker\": {\"colorbar\": {\"outlinewidth\": 0, \"ticks\": \"\"}}, \"type\": \"scatter3d\"}], \"scattercarpet\": [{\"marker\": {\"colorbar\": {\"outlinewidth\": 0, \"ticks\": \"\"}}, \"type\": \"scattercarpet\"}], \"scattergeo\": [{\"marker\": {\"colorbar\": {\"outlinewidth\": 0, \"ticks\": \"\"}}, \"type\": \"scattergeo\"}], \"scattergl\": [{\"marker\": {\"colorbar\": {\"outlinewidth\": 0, \"ticks\": \"\"}}, \"type\": \"scattergl\"}], \"scattermapbox\": [{\"marker\": {\"colorbar\": {\"outlinewidth\": 0, \"ticks\": \"\"}}, \"type\": \"scattermapbox\"}], \"scatterpolar\": [{\"marker\": {\"colorbar\": {\"outlinewidth\": 0, \"ticks\": \"\"}}, \"type\": \"scatterpolar\"}], \"scatterpolargl\": [{\"marker\": {\"colorbar\": {\"outlinewidth\": 0, \"ticks\": \"\"}}, \"type\": \"scatterpolargl\"}], \"scatterternary\": [{\"marker\": {\"colorbar\": {\"outlinewidth\": 0, \"ticks\": \"\"}}, \"type\": \"scatterternary\"}], \"surface\": [{\"colorbar\": {\"outlinewidth\": 0, \"ticks\": \"\"}, \"colorscale\": [[0.0, \"#0d0887\"], [0.1111111111111111, \"#46039f\"], [0.2222222222222222, \"#7201a8\"], [0.3333333333333333, \"#9c179e\"], [0.4444444444444444, \"#bd3786\"], [0.5555555555555556, \"#d8576b\"], [0.6666666666666666, \"#ed7953\"], [0.7777777777777778, \"#fb9f3a\"], [0.8888888888888888, \"#fdca26\"], [1.0, \"#f0f921\"]], \"type\": \"surface\"}], \"table\": [{\"cells\": {\"fill\": {\"color\": \"#EBF0F8\"}, \"line\": {\"color\": \"white\"}}, \"header\": {\"fill\": {\"color\": \"#C8D4E3\"}, \"line\": {\"color\": \"white\"}}, \"type\": \"table\"}]}, \"layout\": {\"annotationdefaults\": {\"arrowcolor\": \"#2a3f5f\", \"arrowhead\": 0, \"arrowwidth\": 1}, \"coloraxis\": {\"colorbar\": {\"outlinewidth\": 0, \"ticks\": \"\"}}, \"colorscale\": {\"diverging\": [[0, \"#8e0152\"], [0.1, \"#c51b7d\"], [0.2, \"#de77ae\"], [0.3, \"#f1b6da\"], [0.4, \"#fde0ef\"], [0.5, \"#f7f7f7\"], [0.6, \"#e6f5d0\"], [0.7, \"#b8e186\"], [0.8, \"#7fbc41\"], [0.9, \"#4d9221\"], [1, \"#276419\"]], \"sequential\": [[0.0, \"#0d0887\"], [0.1111111111111111, \"#46039f\"], [0.2222222222222222, \"#7201a8\"], [0.3333333333333333, \"#9c179e\"], [0.4444444444444444, \"#bd3786\"], [0.5555555555555556, \"#d8576b\"], [0.6666666666666666, \"#ed7953\"], [0.7777777777777778, \"#fb9f3a\"], [0.8888888888888888, \"#fdca26\"], [1.0, \"#f0f921\"]], \"sequentialminus\": [[0.0, \"#0d0887\"], [0.1111111111111111, \"#46039f\"], [0.2222222222222222, \"#7201a8\"], [0.3333333333333333, \"#9c179e\"], [0.4444444444444444, \"#bd3786\"], [0.5555555555555556, \"#d8576b\"], [0.6666666666666666, \"#ed7953\"], [0.7777777777777778, \"#fb9f3a\"], [0.8888888888888888, \"#fdca26\"], [1.0, \"#f0f921\"]]}, \"colorway\": [\"#636efa\", \"#EF553B\", \"#00cc96\", \"#ab63fa\", \"#FFA15A\", \"#19d3f3\", \"#FF6692\", \"#B6E880\", \"#FF97FF\", \"#FECB52\"], \"font\": {\"color\": \"#2a3f5f\"}, \"geo\": {\"bgcolor\": \"white\", \"lakecolor\": \"white\", \"landcolor\": \"#E5ECF6\", \"showlakes\": true, \"showland\": true, \"subunitcolor\": \"white\"}, \"hoverlabel\": {\"align\": \"left\"}, \"hovermode\": \"closest\", \"mapbox\": {\"style\": \"light\"}, \"paper_bgcolor\": \"white\", \"plot_bgcolor\": \"#E5ECF6\", \"polar\": {\"angularaxis\": {\"gridcolor\": \"white\", \"linecolor\": \"white\", \"ticks\": \"\"}, \"bgcolor\": \"#E5ECF6\", \"radialaxis\": {\"gridcolor\": \"white\", \"linecolor\": \"white\", \"ticks\": \"\"}}, \"scene\": {\"xaxis\": {\"backgroundcolor\": \"#E5ECF6\", \"gridcolor\": \"white\", \"gridwidth\": 2, \"linecolor\": \"white\", \"showbackground\": true, \"ticks\": \"\", \"zerolinecolor\": \"white\"}, \"yaxis\": {\"backgroundcolor\": \"#E5ECF6\", \"gridcolor\": \"white\", \"gridwidth\": 2, \"linecolor\": \"white\", \"showbackground\": true, \"ticks\": \"\", \"zerolinecolor\": \"white\"}, \"zaxis\": {\"backgroundcolor\": \"#E5ECF6\", \"gridcolor\": \"white\", \"gridwidth\": 2, \"linecolor\": \"white\", \"showbackground\": true, \"ticks\": \"\", \"zerolinecolor\": \"white\"}}, \"shapedefaults\": {\"line\": {\"color\": \"#2a3f5f\"}}, \"ternary\": {\"aaxis\": {\"gridcolor\": \"white\", \"linecolor\": \"white\", \"ticks\": \"\"}, \"baxis\": {\"gridcolor\": \"white\", \"linecolor\": \"white\", \"ticks\": \"\"}, \"bgcolor\": \"#E5ECF6\", \"caxis\": {\"gridcolor\": \"white\", \"linecolor\": \"white\", \"ticks\": \"\"}}, \"title\": {\"x\": 0.05}, \"xaxis\": {\"automargin\": true, \"gridcolor\": \"white\", \"linecolor\": \"white\", \"ticks\": \"\", \"title\": {\"standoff\": 15}, \"zerolinecolor\": \"white\", \"zerolinewidth\": 2}, \"yaxis\": {\"automargin\": true, \"gridcolor\": \"white\", \"linecolor\": \"white\", \"ticks\": \"\", \"title\": {\"standoff\": 15}, \"zerolinecolor\": \"white\", \"zerolinewidth\": 2}}}, \"xaxis\": {\"anchor\": \"y\", \"domain\": [0.0, 1.0], \"title\": {\"text\": \"Experience\"}}, \"yaxis\": {\"anchor\": \"x\", \"domain\": [0.0, 1.0], \"title\": {\"text\": \"min_game\"}}},\n",
       "                        {\"responsive\": true}\n",
       "                    ).then(function(){\n",
       "                            \n",
       "var gd = document.getElementById('dff6a619-9b33-4d14-a900-5ff33c4eb388');\n",
       "var x = new MutationObserver(function (mutations, observer) {{\n",
       "        var display = window.getComputedStyle(gd).display;\n",
       "        if (!display || display === 'none') {{\n",
       "            console.log([gd, 'removed!']);\n",
       "            Plotly.purge(gd);\n",
       "            observer.disconnect();\n",
       "        }}\n",
       "}});\n",
       "\n",
       "// Listen for the removal of the full notebook cells\n",
       "var notebookContainer = gd.closest('#notebook-container');\n",
       "if (notebookContainer) {{\n",
       "    x.observe(notebookContainer, {childList: true});\n",
       "}}\n",
       "\n",
       "// Listen for the clearing of the current output cell\n",
       "var outputEl = gd.closest('.output');\n",
       "if (outputEl) {{\n",
       "    x.observe(outputEl, {childList: true});\n",
       "}}\n",
       "\n",
       "                        })\n",
       "                };\n",
       "                });\n",
       "            </script>\n",
       "        </div>"
      ]
     },
     "metadata": {},
     "output_type": "display_data"
    }
   ],
   "source": [
    "fig = px.scatter(combined, y='min_game', x='Experience',color='BMI', hover_data=['PLAYER_NAME'])\n",
    "fig.show()"
   ]
  },
  {
   "cell_type": "code",
   "execution_count": 39,
   "metadata": {},
   "outputs": [],
   "source": [
    "fig.write_html('Position_BMI_box.html')"
   ]
  },
  {
   "cell_type": "code",
   "execution_count": 40,
   "metadata": {},
   "outputs": [
    {
     "data": {
      "application/vnd.plotly.v1+json": {
       "config": {
        "plotlyServerURL": "https://plot.ly"
       },
       "data": [
        {
         "alignmentgroup": "True",
         "hovertemplate": "Position=%{y}<br>BMI=%{x}<extra></extra>",
         "legendgroup": "SG",
         "marker": {
          "color": "#636efa"
         },
         "name": "SG",
         "notched": false,
         "offsetgroup": "SG",
         "orientation": "h",
         "showlegend": true,
         "type": "box",
         "x": [
          25.87,
          23.12,
          23.8,
          25.42,
          23.09,
          26.87,
          24.84,
          20.8,
          25.91,
          24.61,
          23.87,
          25.42,
          22.5,
          23.88,
          23.73,
          24.64,
          26.78,
          25.49,
          25.42,
          24.84,
          26.09,
          21.94,
          25.92,
          24.95,
          25.19,
          25.65,
          24.19,
          25.56,
          24.73,
          22.85,
          24.37,
          23.65,
          21.34,
          21.46,
          26.25,
          26.38,
          23.12,
          23.75,
          24.17,
          24.78,
          27.39,
          24.43,
          21.22,
          24.95,
          25.77,
          26.78,
          22.76,
          20.39,
          22.75,
          25.42,
          26.32,
          24.9,
          22.05,
          25.97,
          23.95,
          25,
          24.43,
          21.95,
          28.36,
          25.49,
          24.9,
          25.97,
          26.17,
          24.89,
          23.12,
          24.1,
          21.4,
          21.34,
          23.12,
          25.62,
          25.92,
          22.62,
          24.19,
          23.12,
          26.25,
          23.25,
          27.6,
          24.78,
          24.31,
          25.56,
          22.53
         ],
         "x0": " ",
         "xaxis": "x",
         "y": [
          "SG",
          "SG",
          "SG",
          "SG",
          "SG",
          "SG",
          "SG",
          "SG",
          "SG",
          "SG",
          "SG",
          "SG",
          "SG",
          "SG",
          "SG",
          "SG",
          "SG",
          "SG",
          "SG",
          "SG",
          "SG",
          "SG",
          "SG",
          "SG",
          "SG",
          "SG",
          "SG",
          "SG",
          "SG",
          "SG",
          "SG",
          "SG",
          "SG",
          "SG",
          "SG",
          "SG",
          "SG",
          "SG",
          "SG",
          "SG",
          "SG",
          "SG",
          "SG",
          "SG",
          "SG",
          "SG",
          "SG",
          "SG",
          "SG",
          "SG",
          "SG",
          "SG",
          "SG",
          "SG",
          "SG",
          "SG",
          "SG",
          "SG",
          "SG",
          "SG",
          "SG",
          "SG",
          "SG",
          "SG",
          "SG",
          "SG",
          "SG",
          "SG",
          "SG",
          "SG",
          "SG",
          "SG",
          "SG",
          "SG",
          "SG",
          "SG",
          "SG",
          "SG",
          "SG",
          "SG",
          "SG"
         ],
         "y0": " ",
         "yaxis": "y"
        },
        {
         "alignmentgroup": "True",
         "hovertemplate": "Position=%{y}<br>BMI=%{x}<extra></extra>",
         "legendgroup": "PG",
         "marker": {
          "color": "#EF553B"
         },
         "name": "PG",
         "notched": false,
         "offsetgroup": "PG",
         "orientation": "h",
         "showlegend": true,
         "type": "box",
         "x": [
          25.56,
          26.58,
          25.62,
          23.12,
          22.53,
          25.68,
          23.75,
          25.82,
          26.09,
          23.75,
          27.5,
          25.03,
          25,
          24.37,
          22.69,
          25.03,
          23.09,
          25,
          23.75,
          23.09,
          25,
          24.37,
          23.37,
          23.5,
          23.36,
          24.95,
          23.73,
          23.75,
          23.11,
          25.52,
          25.49,
          25.09,
          25.37,
          23.75,
          28.23,
          25,
          26,
          23.73,
          24.83,
          25.06,
          21.94,
          26.58,
          23.75,
          23.75,
          25,
          23.49,
          26.25,
          25.06,
          29.21,
          23.75,
          25.09,
          26.17,
          25.62,
          21.91,
          27.15,
          24.37,
          24.14,
          24.37,
          23.65,
          21.4,
          21.95,
          23.12,
          26.12,
          26.32,
          24.34,
          25.62,
          23.12,
          23.49,
          23.86,
          24.39,
          21.34,
          24.41,
          25.91,
          23.75,
          25.06,
          25.09,
          25.72,
          19.77,
          26.38,
          25.68,
          25.06,
          23.75,
          25.34,
          24.22,
          23.62,
          24.39,
          24.39,
          25.14,
          25.8,
          24.41,
          24.27,
          24.54,
          24.84,
          25,
          21.75,
          25.34,
          25.33,
          22.53,
          26.29,
          23.73,
          23.12,
          24.31,
          23.83,
          23.07,
          27.89,
          24.71,
          23.61,
          28.48,
          23.12,
          26.09,
          21.4,
          28.58,
          25.49,
          25.11,
          22.5,
          24.9,
          24.46,
          23.48,
          25.62,
          22.03,
          24.43,
          25.77,
          26.87,
          22.52,
          25.49,
          26.05,
          26.58,
          26.12,
          24.4,
          23.75,
          24.67,
          23.12,
          25.49,
          24.31,
          23.23,
          25
         ],
         "x0": " ",
         "xaxis": "x",
         "y": [
          "PG",
          "PG",
          "PG",
          "PG",
          "PG",
          "PG",
          "PG",
          "PG",
          "PG",
          "PG",
          "PG",
          "PG",
          "PG",
          "PG",
          "PG",
          "PG",
          "PG",
          "PG",
          "PG",
          "PG",
          "PG",
          "PG",
          "PG",
          "PG",
          "PG",
          "PG",
          "PG",
          "PG",
          "PG",
          "PG",
          "PG",
          "PG",
          "PG",
          "PG",
          "PG",
          "PG",
          "PG",
          "PG",
          "PG",
          "PG",
          "PG",
          "PG",
          "PG",
          "PG",
          "PG",
          "PG",
          "PG",
          "PG",
          "PG",
          "PG",
          "PG",
          "PG",
          "PG",
          "PG",
          "PG",
          "PG",
          "PG",
          "PG",
          "PG",
          "PG",
          "PG",
          "PG",
          "PG",
          "PG",
          "PG",
          "PG",
          "PG",
          "PG",
          "PG",
          "PG",
          "PG",
          "PG",
          "PG",
          "PG",
          "PG",
          "PG",
          "PG",
          "PG",
          "PG",
          "PG",
          "PG",
          "PG",
          "PG",
          "PG",
          "PG",
          "PG",
          "PG",
          "PG",
          "PG",
          "PG",
          "PG",
          "PG",
          "PG",
          "PG",
          "PG",
          "PG",
          "PG",
          "PG",
          "PG",
          "PG",
          "PG",
          "PG",
          "PG",
          "PG",
          "PG",
          "PG",
          "PG",
          "PG",
          "PG",
          "PG",
          "PG",
          "PG",
          "PG",
          "PG",
          "PG",
          "PG",
          "PG",
          "PG",
          "PG",
          "PG",
          "PG",
          "PG",
          "PG",
          "PG",
          "PG",
          "PG",
          "PG",
          "PG",
          "PG",
          "PG",
          "PG",
          "PG",
          "PG",
          "PG",
          "PG",
          "PG"
         ],
         "y0": " ",
         "yaxis": "y"
        },
        {
         "alignmentgroup": "True",
         "hovertemplate": "Position=%{y}<br>BMI=%{x}<extra></extra>",
         "legendgroup": "C",
         "marker": {
          "color": "#00cc96"
         },
         "name": "C",
         "notched": false,
         "offsetgroup": "C",
         "orientation": "h",
         "showlegend": true,
         "type": "box",
         "x": [
          27.04,
          23.47,
          23.41,
          27.71,
          25.09,
          25.41,
          24.49,
          27.22,
          28.1,
          25.92,
          28,
          25.9,
          26.02,
          27.18,
          27.04,
          26.79,
          26.53,
          24.41,
          23,
          27.9,
          26.74,
          23.91,
          28.01,
          26.35,
          29.17,
          28.89,
          26.9,
          26.14,
          25.1,
          24.91,
          27.04,
          26.4,
          28.23,
          25.51,
          25.31,
          28.3,
          26.33,
          23.91,
          24.97,
          22.02,
          24.49,
          23.84,
          25,
          23.91,
          25.51,
          27.32,
          24.8,
          24.59,
          21.41,
          25.93,
          25.93,
          25.51,
          23.91,
          26.25,
          24.15,
          25.51,
          20.91,
          28.29,
          27.6,
          23.29,
          22.45,
          21.43,
          25.7,
          23.41
         ],
         "x0": " ",
         "xaxis": "x",
         "y": [
          "C",
          "C",
          "C",
          "C",
          "C",
          "C",
          "C",
          "C",
          "C",
          "C",
          "C",
          "C",
          "C",
          "C",
          "C",
          "C",
          "C",
          "C",
          "C",
          "C",
          "C",
          "C",
          "C",
          "C",
          "C",
          "C",
          "C",
          "C",
          "C",
          "C",
          "C",
          "C",
          "C",
          "C",
          "C",
          "C",
          "C",
          "C",
          "C",
          "C",
          "C",
          "C",
          "C",
          "C",
          "C",
          "C",
          "C",
          "C",
          "C",
          "C",
          "C",
          "C",
          "C",
          "C",
          "C",
          "C",
          "C",
          "C",
          "C",
          "C",
          "C",
          "C",
          "C",
          "C"
         ],
         "y0": " ",
         "yaxis": "y"
        },
        {
         "alignmentgroup": "True",
         "hovertemplate": "Position=%{y}<br>BMI=%{x}<extra></extra>",
         "legendgroup": "PF",
         "marker": {
          "color": "#ab63fa"
         },
         "name": "PF",
         "notched": false,
         "offsetgroup": "PF",
         "orientation": "h",
         "showlegend": true,
         "type": "box",
         "x": [
          25.81,
          27.03,
          26.45,
          26.58,
          24.7,
          25.18,
          23.47,
          26.91,
          24.86,
          24.17,
          25.09,
          27.15,
          27.57,
          25.81,
          28.95,
          25.72,
          26.7,
          25.09,
          25.51,
          24.93,
          26.79,
          25.81,
          23.36,
          27.46,
          26.03,
          26.87,
          25.81,
          26.14,
          28.39,
          26.91,
          26.36,
          23.41,
          24.57,
          23.91,
          22.29,
          26.14,
          24.46,
          25.07,
          27.03,
          27.6,
          22.37,
          23.52,
          25.72,
          24.57,
          27.81,
          24.06,
          24.64,
          23.47,
          23.91,
          25.18,
          23.21,
          24.15,
          23.73,
          27.86,
          24.28,
          27.73,
          21.43,
          23.76,
          25.26,
          26.91,
          22.79,
          24.7,
          28.93,
          26.91,
          22.93,
          20.91,
          22.48,
          24.43,
          24.11,
          25,
          23.88,
          24.64,
          24.27,
          24.43,
          21.97,
          26,
          27.27,
          24.95,
          32.82,
          24.73,
          22.45,
          25.26,
          23.95,
          27.27,
          25.26,
          23.62,
          22.85,
          23.73,
          21.94,
          24.31,
          25.26,
          29.46,
          22.48,
          26.79,
          25.72,
          26.09,
          25.54,
          21.43,
          26.09,
          23.73,
          24.57,
          24.46,
          29.64,
          24.43,
          23.65,
          26.36,
          23.65,
          28.01,
          23.09,
          22.53,
          26.13,
          22.74,
          25.29,
          24.46
         ],
         "x0": " ",
         "xaxis": "x",
         "y": [
          "PF",
          "PF",
          "PF",
          "PF",
          "PF",
          "PF",
          "PF",
          "PF",
          "PF",
          "PF",
          "PF",
          "PF",
          "PF",
          "PF",
          "PF",
          "PF",
          "PF",
          "PF",
          "PF",
          "PF",
          "PF",
          "PF",
          "PF",
          "PF",
          "PF",
          "PF",
          "PF",
          "PF",
          "PF",
          "PF",
          "PF",
          "PF",
          "PF",
          "PF",
          "PF",
          "PF",
          "PF",
          "PF",
          "PF",
          "PF",
          "PF",
          "PF",
          "PF",
          "PF",
          "PF",
          "PF",
          "PF",
          "PF",
          "PF",
          "PF",
          "PF",
          "PF",
          "PF",
          "PF",
          "PF",
          "PF",
          "PF",
          "PF",
          "PF",
          "PF",
          "PF",
          "PF",
          "PF",
          "PF",
          "PF",
          "PF",
          "PF",
          "PF",
          "PF",
          "PF",
          "PF",
          "PF",
          "PF",
          "PF",
          "PF",
          "PF",
          "PF",
          "PF",
          "PF",
          "PF",
          "PF",
          "PF",
          "PF",
          "PF",
          "PF",
          "PF",
          "PF",
          "PF",
          "PF",
          "PF",
          "PF",
          "PF",
          "PF",
          "PF",
          "PF",
          "PF",
          "PF",
          "PF",
          "PF",
          "PF",
          "PF",
          "PF",
          "PF",
          "PF",
          "PF",
          "PF",
          "PF",
          "PF",
          "PF",
          "PF",
          "PF",
          "PF",
          "PF",
          "PF"
         ],
         "y0": " ",
         "yaxis": "y"
        },
        {
         "alignmentgroup": "True",
         "hovertemplate": "Position=%{y}<br>BMI=%{x}<extra></extra>",
         "legendgroup": "SF",
         "marker": {
          "color": "#FFA15A"
         },
         "name": "SF",
         "notched": false,
         "offsetgroup": "SF",
         "orientation": "h",
         "showlegend": true,
         "type": "box",
         "x": [
          23.36,
          24.71,
          24.84,
          25.01,
          27.39,
          25.34,
          23.62,
          19.93,
          26.79,
          25.42,
          24.82,
          24.84,
          24.84,
          25.81,
          25.34,
          24.64,
          24.82,
          23.09,
          24.78,
          26,
          23.07,
          26.11,
          24.17,
          26.58,
          24.31,
          22.19,
          24.36,
          25.81,
          25.34,
          24.78,
          29.05,
          24.17,
          27.46,
          25.81,
          25.09,
          23.69,
          23.54,
          22.87,
          23.71,
          25.65,
          25.07,
          26.87,
          25.91,
          27.96,
          23.79,
          25.97,
          25.31,
          23.65,
          23.52,
          21.4,
          24.56,
          26.78,
          22.96,
          25.91,
          26.68,
          24.78,
          23.68,
          22.74,
          23.07,
          26.13,
          24.78,
          25.54,
          25.92,
          25.34,
          24.22,
          27.51,
          24.15,
          26,
          23.65,
          25.15
         ],
         "x0": " ",
         "xaxis": "x",
         "y": [
          "SF",
          "SF",
          "SF",
          "SF",
          "SF",
          "SF",
          "SF",
          "SF",
          "SF",
          "SF",
          "SF",
          "SF",
          "SF",
          "SF",
          "SF",
          "SF",
          "SF",
          "SF",
          "SF",
          "SF",
          "SF",
          "SF",
          "SF",
          "SF",
          "SF",
          "SF",
          "SF",
          "SF",
          "SF",
          "SF",
          "SF",
          "SF",
          "SF",
          "SF",
          "SF",
          "SF",
          "SF",
          "SF",
          "SF",
          "SF",
          "SF",
          "SF",
          "SF",
          "SF",
          "SF",
          "SF",
          "SF",
          "SF",
          "SF",
          "SF",
          "SF",
          "SF",
          "SF",
          "SF",
          "SF",
          "SF",
          "SF",
          "SF",
          "SF",
          "SF",
          "SF",
          "SF",
          "SF",
          "SF",
          "SF",
          "SF",
          "SF",
          "SF",
          "SF",
          "SF"
         ],
         "y0": " ",
         "yaxis": "y"
        }
       ],
       "layout": {
        "boxmode": "overlay",
        "legend": {
         "title": {
          "text": "Position"
         },
         "tracegroupgap": 0
        },
        "margin": {
         "t": 60
        },
        "template": {
         "data": {
          "bar": [
           {
            "error_x": {
             "color": "#2a3f5f"
            },
            "error_y": {
             "color": "#2a3f5f"
            },
            "marker": {
             "line": {
              "color": "#E5ECF6",
              "width": 0.5
             }
            },
            "type": "bar"
           }
          ],
          "barpolar": [
           {
            "marker": {
             "line": {
              "color": "#E5ECF6",
              "width": 0.5
             }
            },
            "type": "barpolar"
           }
          ],
          "carpet": [
           {
            "aaxis": {
             "endlinecolor": "#2a3f5f",
             "gridcolor": "white",
             "linecolor": "white",
             "minorgridcolor": "white",
             "startlinecolor": "#2a3f5f"
            },
            "baxis": {
             "endlinecolor": "#2a3f5f",
             "gridcolor": "white",
             "linecolor": "white",
             "minorgridcolor": "white",
             "startlinecolor": "#2a3f5f"
            },
            "type": "carpet"
           }
          ],
          "choropleth": [
           {
            "colorbar": {
             "outlinewidth": 0,
             "ticks": ""
            },
            "type": "choropleth"
           }
          ],
          "contour": [
           {
            "colorbar": {
             "outlinewidth": 0,
             "ticks": ""
            },
            "colorscale": [
             [
              0,
              "#0d0887"
             ],
             [
              0.1111111111111111,
              "#46039f"
             ],
             [
              0.2222222222222222,
              "#7201a8"
             ],
             [
              0.3333333333333333,
              "#9c179e"
             ],
             [
              0.4444444444444444,
              "#bd3786"
             ],
             [
              0.5555555555555556,
              "#d8576b"
             ],
             [
              0.6666666666666666,
              "#ed7953"
             ],
             [
              0.7777777777777778,
              "#fb9f3a"
             ],
             [
              0.8888888888888888,
              "#fdca26"
             ],
             [
              1,
              "#f0f921"
             ]
            ],
            "type": "contour"
           }
          ],
          "contourcarpet": [
           {
            "colorbar": {
             "outlinewidth": 0,
             "ticks": ""
            },
            "type": "contourcarpet"
           }
          ],
          "heatmap": [
           {
            "colorbar": {
             "outlinewidth": 0,
             "ticks": ""
            },
            "colorscale": [
             [
              0,
              "#0d0887"
             ],
             [
              0.1111111111111111,
              "#46039f"
             ],
             [
              0.2222222222222222,
              "#7201a8"
             ],
             [
              0.3333333333333333,
              "#9c179e"
             ],
             [
              0.4444444444444444,
              "#bd3786"
             ],
             [
              0.5555555555555556,
              "#d8576b"
             ],
             [
              0.6666666666666666,
              "#ed7953"
             ],
             [
              0.7777777777777778,
              "#fb9f3a"
             ],
             [
              0.8888888888888888,
              "#fdca26"
             ],
             [
              1,
              "#f0f921"
             ]
            ],
            "type": "heatmap"
           }
          ],
          "heatmapgl": [
           {
            "colorbar": {
             "outlinewidth": 0,
             "ticks": ""
            },
            "colorscale": [
             [
              0,
              "#0d0887"
             ],
             [
              0.1111111111111111,
              "#46039f"
             ],
             [
              0.2222222222222222,
              "#7201a8"
             ],
             [
              0.3333333333333333,
              "#9c179e"
             ],
             [
              0.4444444444444444,
              "#bd3786"
             ],
             [
              0.5555555555555556,
              "#d8576b"
             ],
             [
              0.6666666666666666,
              "#ed7953"
             ],
             [
              0.7777777777777778,
              "#fb9f3a"
             ],
             [
              0.8888888888888888,
              "#fdca26"
             ],
             [
              1,
              "#f0f921"
             ]
            ],
            "type": "heatmapgl"
           }
          ],
          "histogram": [
           {
            "marker": {
             "colorbar": {
              "outlinewidth": 0,
              "ticks": ""
             }
            },
            "type": "histogram"
           }
          ],
          "histogram2d": [
           {
            "colorbar": {
             "outlinewidth": 0,
             "ticks": ""
            },
            "colorscale": [
             [
              0,
              "#0d0887"
             ],
             [
              0.1111111111111111,
              "#46039f"
             ],
             [
              0.2222222222222222,
              "#7201a8"
             ],
             [
              0.3333333333333333,
              "#9c179e"
             ],
             [
              0.4444444444444444,
              "#bd3786"
             ],
             [
              0.5555555555555556,
              "#d8576b"
             ],
             [
              0.6666666666666666,
              "#ed7953"
             ],
             [
              0.7777777777777778,
              "#fb9f3a"
             ],
             [
              0.8888888888888888,
              "#fdca26"
             ],
             [
              1,
              "#f0f921"
             ]
            ],
            "type": "histogram2d"
           }
          ],
          "histogram2dcontour": [
           {
            "colorbar": {
             "outlinewidth": 0,
             "ticks": ""
            },
            "colorscale": [
             [
              0,
              "#0d0887"
             ],
             [
              0.1111111111111111,
              "#46039f"
             ],
             [
              0.2222222222222222,
              "#7201a8"
             ],
             [
              0.3333333333333333,
              "#9c179e"
             ],
             [
              0.4444444444444444,
              "#bd3786"
             ],
             [
              0.5555555555555556,
              "#d8576b"
             ],
             [
              0.6666666666666666,
              "#ed7953"
             ],
             [
              0.7777777777777778,
              "#fb9f3a"
             ],
             [
              0.8888888888888888,
              "#fdca26"
             ],
             [
              1,
              "#f0f921"
             ]
            ],
            "type": "histogram2dcontour"
           }
          ],
          "mesh3d": [
           {
            "colorbar": {
             "outlinewidth": 0,
             "ticks": ""
            },
            "type": "mesh3d"
           }
          ],
          "parcoords": [
           {
            "line": {
             "colorbar": {
              "outlinewidth": 0,
              "ticks": ""
             }
            },
            "type": "parcoords"
           }
          ],
          "pie": [
           {
            "automargin": true,
            "type": "pie"
           }
          ],
          "scatter": [
           {
            "marker": {
             "colorbar": {
              "outlinewidth": 0,
              "ticks": ""
             }
            },
            "type": "scatter"
           }
          ],
          "scatter3d": [
           {
            "line": {
             "colorbar": {
              "outlinewidth": 0,
              "ticks": ""
             }
            },
            "marker": {
             "colorbar": {
              "outlinewidth": 0,
              "ticks": ""
             }
            },
            "type": "scatter3d"
           }
          ],
          "scattercarpet": [
           {
            "marker": {
             "colorbar": {
              "outlinewidth": 0,
              "ticks": ""
             }
            },
            "type": "scattercarpet"
           }
          ],
          "scattergeo": [
           {
            "marker": {
             "colorbar": {
              "outlinewidth": 0,
              "ticks": ""
             }
            },
            "type": "scattergeo"
           }
          ],
          "scattergl": [
           {
            "marker": {
             "colorbar": {
              "outlinewidth": 0,
              "ticks": ""
             }
            },
            "type": "scattergl"
           }
          ],
          "scattermapbox": [
           {
            "marker": {
             "colorbar": {
              "outlinewidth": 0,
              "ticks": ""
             }
            },
            "type": "scattermapbox"
           }
          ],
          "scatterpolar": [
           {
            "marker": {
             "colorbar": {
              "outlinewidth": 0,
              "ticks": ""
             }
            },
            "type": "scatterpolar"
           }
          ],
          "scatterpolargl": [
           {
            "marker": {
             "colorbar": {
              "outlinewidth": 0,
              "ticks": ""
             }
            },
            "type": "scatterpolargl"
           }
          ],
          "scatterternary": [
           {
            "marker": {
             "colorbar": {
              "outlinewidth": 0,
              "ticks": ""
             }
            },
            "type": "scatterternary"
           }
          ],
          "surface": [
           {
            "colorbar": {
             "outlinewidth": 0,
             "ticks": ""
            },
            "colorscale": [
             [
              0,
              "#0d0887"
             ],
             [
              0.1111111111111111,
              "#46039f"
             ],
             [
              0.2222222222222222,
              "#7201a8"
             ],
             [
              0.3333333333333333,
              "#9c179e"
             ],
             [
              0.4444444444444444,
              "#bd3786"
             ],
             [
              0.5555555555555556,
              "#d8576b"
             ],
             [
              0.6666666666666666,
              "#ed7953"
             ],
             [
              0.7777777777777778,
              "#fb9f3a"
             ],
             [
              0.8888888888888888,
              "#fdca26"
             ],
             [
              1,
              "#f0f921"
             ]
            ],
            "type": "surface"
           }
          ],
          "table": [
           {
            "cells": {
             "fill": {
              "color": "#EBF0F8"
             },
             "line": {
              "color": "white"
             }
            },
            "header": {
             "fill": {
              "color": "#C8D4E3"
             },
             "line": {
              "color": "white"
             }
            },
            "type": "table"
           }
          ]
         },
         "layout": {
          "annotationdefaults": {
           "arrowcolor": "#2a3f5f",
           "arrowhead": 0,
           "arrowwidth": 1
          },
          "coloraxis": {
           "colorbar": {
            "outlinewidth": 0,
            "ticks": ""
           }
          },
          "colorscale": {
           "diverging": [
            [
             0,
             "#8e0152"
            ],
            [
             0.1,
             "#c51b7d"
            ],
            [
             0.2,
             "#de77ae"
            ],
            [
             0.3,
             "#f1b6da"
            ],
            [
             0.4,
             "#fde0ef"
            ],
            [
             0.5,
             "#f7f7f7"
            ],
            [
             0.6,
             "#e6f5d0"
            ],
            [
             0.7,
             "#b8e186"
            ],
            [
             0.8,
             "#7fbc41"
            ],
            [
             0.9,
             "#4d9221"
            ],
            [
             1,
             "#276419"
            ]
           ],
           "sequential": [
            [
             0,
             "#0d0887"
            ],
            [
             0.1111111111111111,
             "#46039f"
            ],
            [
             0.2222222222222222,
             "#7201a8"
            ],
            [
             0.3333333333333333,
             "#9c179e"
            ],
            [
             0.4444444444444444,
             "#bd3786"
            ],
            [
             0.5555555555555556,
             "#d8576b"
            ],
            [
             0.6666666666666666,
             "#ed7953"
            ],
            [
             0.7777777777777778,
             "#fb9f3a"
            ],
            [
             0.8888888888888888,
             "#fdca26"
            ],
            [
             1,
             "#f0f921"
            ]
           ],
           "sequentialminus": [
            [
             0,
             "#0d0887"
            ],
            [
             0.1111111111111111,
             "#46039f"
            ],
            [
             0.2222222222222222,
             "#7201a8"
            ],
            [
             0.3333333333333333,
             "#9c179e"
            ],
            [
             0.4444444444444444,
             "#bd3786"
            ],
            [
             0.5555555555555556,
             "#d8576b"
            ],
            [
             0.6666666666666666,
             "#ed7953"
            ],
            [
             0.7777777777777778,
             "#fb9f3a"
            ],
            [
             0.8888888888888888,
             "#fdca26"
            ],
            [
             1,
             "#f0f921"
            ]
           ]
          },
          "colorway": [
           "#636efa",
           "#EF553B",
           "#00cc96",
           "#ab63fa",
           "#FFA15A",
           "#19d3f3",
           "#FF6692",
           "#B6E880",
           "#FF97FF",
           "#FECB52"
          ],
          "font": {
           "color": "#2a3f5f"
          },
          "geo": {
           "bgcolor": "white",
           "lakecolor": "white",
           "landcolor": "#E5ECF6",
           "showlakes": true,
           "showland": true,
           "subunitcolor": "white"
          },
          "hoverlabel": {
           "align": "left"
          },
          "hovermode": "closest",
          "mapbox": {
           "style": "light"
          },
          "paper_bgcolor": "white",
          "plot_bgcolor": "#E5ECF6",
          "polar": {
           "angularaxis": {
            "gridcolor": "white",
            "linecolor": "white",
            "ticks": ""
           },
           "bgcolor": "#E5ECF6",
           "radialaxis": {
            "gridcolor": "white",
            "linecolor": "white",
            "ticks": ""
           }
          },
          "scene": {
           "xaxis": {
            "backgroundcolor": "#E5ECF6",
            "gridcolor": "white",
            "gridwidth": 2,
            "linecolor": "white",
            "showbackground": true,
            "ticks": "",
            "zerolinecolor": "white"
           },
           "yaxis": {
            "backgroundcolor": "#E5ECF6",
            "gridcolor": "white",
            "gridwidth": 2,
            "linecolor": "white",
            "showbackground": true,
            "ticks": "",
            "zerolinecolor": "white"
           },
           "zaxis": {
            "backgroundcolor": "#E5ECF6",
            "gridcolor": "white",
            "gridwidth": 2,
            "linecolor": "white",
            "showbackground": true,
            "ticks": "",
            "zerolinecolor": "white"
           }
          },
          "shapedefaults": {
           "line": {
            "color": "#2a3f5f"
           }
          },
          "ternary": {
           "aaxis": {
            "gridcolor": "white",
            "linecolor": "white",
            "ticks": ""
           },
           "baxis": {
            "gridcolor": "white",
            "linecolor": "white",
            "ticks": ""
           },
           "bgcolor": "#E5ECF6",
           "caxis": {
            "gridcolor": "white",
            "linecolor": "white",
            "ticks": ""
           }
          },
          "title": {
           "x": 0.05
          },
          "xaxis": {
           "automargin": true,
           "gridcolor": "white",
           "linecolor": "white",
           "ticks": "",
           "title": {
            "standoff": 15
           },
           "zerolinecolor": "white",
           "zerolinewidth": 2
          },
          "yaxis": {
           "automargin": true,
           "gridcolor": "white",
           "linecolor": "white",
           "ticks": "",
           "title": {
            "standoff": 15
           },
           "zerolinecolor": "white",
           "zerolinewidth": 2
          }
         }
        },
        "xaxis": {
         "anchor": "y",
         "domain": [
          0,
          1
         ],
         "title": {
          "text": "BMI"
         }
        },
        "yaxis": {
         "anchor": "x",
         "categoryarray": [
          "SF",
          "PF",
          "C",
          "PG",
          "SG"
         ],
         "categoryorder": "array",
         "domain": [
          0,
          1
         ],
         "title": {
          "text": "Position"
         }
        }
       }
      },
      "text/html": [
       "<div>\n",
       "        \n",
       "        \n",
       "            <div id=\"4229bf3d-6614-4686-8e1c-21b74d8e5da3\" class=\"plotly-graph-div\" style=\"height:525px; width:100%;\"></div>\n",
       "            <script type=\"text/javascript\">\n",
       "                require([\"plotly\"], function(Plotly) {\n",
       "                    window.PLOTLYENV=window.PLOTLYENV || {};\n",
       "                    \n",
       "                if (document.getElementById(\"4229bf3d-6614-4686-8e1c-21b74d8e5da3\")) {\n",
       "                    Plotly.newPlot(\n",
       "                        '4229bf3d-6614-4686-8e1c-21b74d8e5da3',\n",
       "                        [{\"alignmentgroup\": \"True\", \"hovertemplate\": \"Position=%{y}<br>BMI=%{x}<extra></extra>\", \"legendgroup\": \"SG\", \"marker\": {\"color\": \"#636efa\"}, \"name\": \"SG\", \"notched\": false, \"offsetgroup\": \"SG\", \"orientation\": \"h\", \"showlegend\": true, \"type\": \"box\", \"x\": [25.87, 23.12, 23.8, 25.42, 23.09, 26.87, 24.84, 20.8, 25.91, 24.61, 23.87, 25.42, 22.5, 23.88, 23.73, 24.64, 26.78, 25.49, 25.42, 24.84, 26.09, 21.94, 25.92, 24.95, 25.19, 25.65, 24.19, 25.56, 24.73, 22.85, 24.37, 23.65, 21.34, 21.46, 26.25, 26.38, 23.12, 23.75, 24.17, 24.78, 27.39, 24.43, 21.22, 24.95, 25.77, 26.78, 22.76, 20.39, 22.75, 25.42, 26.32, 24.9, 22.05, 25.97, 23.95, 25.0, 24.43, 21.95, 28.36, 25.49, 24.9, 25.97, 26.17, 24.89, 23.12, 24.1, 21.4, 21.34, 23.12, 25.62, 25.92, 22.62, 24.19, 23.12, 26.25, 23.25, 27.6, 24.78, 24.31, 25.56, 22.53], \"x0\": \" \", \"xaxis\": \"x\", \"y\": [\"SG\", \"SG\", \"SG\", \"SG\", \"SG\", \"SG\", \"SG\", \"SG\", \"SG\", \"SG\", \"SG\", \"SG\", \"SG\", \"SG\", \"SG\", \"SG\", \"SG\", \"SG\", \"SG\", \"SG\", \"SG\", \"SG\", \"SG\", \"SG\", \"SG\", \"SG\", \"SG\", \"SG\", \"SG\", \"SG\", \"SG\", \"SG\", \"SG\", \"SG\", \"SG\", \"SG\", \"SG\", \"SG\", \"SG\", \"SG\", \"SG\", \"SG\", \"SG\", \"SG\", \"SG\", \"SG\", \"SG\", \"SG\", \"SG\", \"SG\", \"SG\", \"SG\", \"SG\", \"SG\", \"SG\", \"SG\", \"SG\", \"SG\", \"SG\", \"SG\", \"SG\", \"SG\", \"SG\", \"SG\", \"SG\", \"SG\", \"SG\", \"SG\", \"SG\", \"SG\", \"SG\", \"SG\", \"SG\", \"SG\", \"SG\", \"SG\", \"SG\", \"SG\", \"SG\", \"SG\", \"SG\"], \"y0\": \" \", \"yaxis\": \"y\"}, {\"alignmentgroup\": \"True\", \"hovertemplate\": \"Position=%{y}<br>BMI=%{x}<extra></extra>\", \"legendgroup\": \"PG\", \"marker\": {\"color\": \"#EF553B\"}, \"name\": \"PG\", \"notched\": false, \"offsetgroup\": \"PG\", \"orientation\": \"h\", \"showlegend\": true, \"type\": \"box\", \"x\": [25.56, 26.58, 25.62, 23.12, 22.53, 25.68, 23.75, 25.82, 26.09, 23.75, 27.5, 25.03, 25.0, 24.37, 22.69, 25.03, 23.09, 25.0, 23.75, 23.09, 25.0, 24.37, 23.37, 23.5, 23.36, 24.95, 23.73, 23.75, 23.11, 25.52, 25.49, 25.09, 25.37, 23.75, 28.23, 25.0, 26.0, 23.73, 24.83, 25.06, 21.94, 26.58, 23.75, 23.75, 25.0, 23.49, 26.25, 25.06, 29.21, 23.75, 25.09, 26.17, 25.62, 21.91, 27.15, 24.37, 24.14, 24.37, 23.65, 21.4, 21.95, 23.12, 26.12, 26.32, 24.34, 25.62, 23.12, 23.49, 23.86, 24.39, 21.34, 24.41, 25.91, 23.75, 25.06, 25.09, 25.72, 19.77, 26.38, 25.68, 25.06, 23.75, 25.34, 24.22, 23.62, 24.39, 24.39, 25.14, 25.8, 24.41, 24.27, 24.54, 24.84, 25.0, 21.75, 25.34, 25.33, 22.53, 26.29, 23.73, 23.12, 24.31, 23.83, 23.07, 27.89, 24.71, 23.61, 28.48, 23.12, 26.09, 21.4, 28.58, 25.49, 25.11, 22.5, 24.9, 24.46, 23.48, 25.62, 22.03, 24.43, 25.77, 26.87, 22.52, 25.49, 26.05, 26.58, 26.12, 24.4, 23.75, 24.67, 23.12, 25.49, 24.31, 23.23, 25.0], \"x0\": \" \", \"xaxis\": \"x\", \"y\": [\"PG\", \"PG\", \"PG\", \"PG\", \"PG\", \"PG\", \"PG\", \"PG\", \"PG\", \"PG\", \"PG\", \"PG\", \"PG\", \"PG\", \"PG\", \"PG\", \"PG\", \"PG\", \"PG\", \"PG\", \"PG\", \"PG\", \"PG\", \"PG\", \"PG\", \"PG\", \"PG\", \"PG\", \"PG\", \"PG\", \"PG\", \"PG\", \"PG\", \"PG\", \"PG\", \"PG\", \"PG\", \"PG\", \"PG\", \"PG\", \"PG\", \"PG\", \"PG\", \"PG\", \"PG\", \"PG\", \"PG\", \"PG\", \"PG\", \"PG\", \"PG\", \"PG\", \"PG\", \"PG\", \"PG\", \"PG\", \"PG\", \"PG\", \"PG\", \"PG\", \"PG\", \"PG\", \"PG\", \"PG\", \"PG\", \"PG\", \"PG\", \"PG\", \"PG\", \"PG\", \"PG\", \"PG\", \"PG\", \"PG\", \"PG\", \"PG\", \"PG\", \"PG\", \"PG\", \"PG\", \"PG\", \"PG\", \"PG\", \"PG\", \"PG\", \"PG\", \"PG\", \"PG\", \"PG\", \"PG\", \"PG\", \"PG\", \"PG\", \"PG\", \"PG\", \"PG\", \"PG\", \"PG\", \"PG\", \"PG\", \"PG\", \"PG\", \"PG\", \"PG\", \"PG\", \"PG\", \"PG\", \"PG\", \"PG\", \"PG\", \"PG\", \"PG\", \"PG\", \"PG\", \"PG\", \"PG\", \"PG\", \"PG\", \"PG\", \"PG\", \"PG\", \"PG\", \"PG\", \"PG\", \"PG\", \"PG\", \"PG\", \"PG\", \"PG\", \"PG\", \"PG\", \"PG\", \"PG\", \"PG\", \"PG\", \"PG\"], \"y0\": \" \", \"yaxis\": \"y\"}, {\"alignmentgroup\": \"True\", \"hovertemplate\": \"Position=%{y}<br>BMI=%{x}<extra></extra>\", \"legendgroup\": \"C\", \"marker\": {\"color\": \"#00cc96\"}, \"name\": \"C\", \"notched\": false, \"offsetgroup\": \"C\", \"orientation\": \"h\", \"showlegend\": true, \"type\": \"box\", \"x\": [27.04, 23.47, 23.41, 27.71, 25.09, 25.41, 24.49, 27.22, 28.1, 25.92, 28.0, 25.9, 26.02, 27.18, 27.04, 26.79, 26.53, 24.41, 23.0, 27.9, 26.74, 23.91, 28.01, 26.35, 29.17, 28.89, 26.9, 26.14, 25.1, 24.91, 27.04, 26.4, 28.23, 25.51, 25.31, 28.3, 26.33, 23.91, 24.97, 22.02, 24.49, 23.84, 25.0, 23.91, 25.51, 27.32, 24.8, 24.59, 21.41, 25.93, 25.93, 25.51, 23.91, 26.25, 24.15, 25.51, 20.91, 28.29, 27.6, 23.29, 22.45, 21.43, 25.7, 23.41], \"x0\": \" \", \"xaxis\": \"x\", \"y\": [\"C\", \"C\", \"C\", \"C\", \"C\", \"C\", \"C\", \"C\", \"C\", \"C\", \"C\", \"C\", \"C\", \"C\", \"C\", \"C\", \"C\", \"C\", \"C\", \"C\", \"C\", \"C\", \"C\", \"C\", \"C\", \"C\", \"C\", \"C\", \"C\", \"C\", \"C\", \"C\", \"C\", \"C\", \"C\", \"C\", \"C\", \"C\", \"C\", \"C\", \"C\", \"C\", \"C\", \"C\", \"C\", \"C\", \"C\", \"C\", \"C\", \"C\", \"C\", \"C\", \"C\", \"C\", \"C\", \"C\", \"C\", \"C\", \"C\", \"C\", \"C\", \"C\", \"C\", \"C\"], \"y0\": \" \", \"yaxis\": \"y\"}, {\"alignmentgroup\": \"True\", \"hovertemplate\": \"Position=%{y}<br>BMI=%{x}<extra></extra>\", \"legendgroup\": \"PF\", \"marker\": {\"color\": \"#ab63fa\"}, \"name\": \"PF\", \"notched\": false, \"offsetgroup\": \"PF\", \"orientation\": \"h\", \"showlegend\": true, \"type\": \"box\", \"x\": [25.81, 27.03, 26.45, 26.58, 24.7, 25.18, 23.47, 26.91, 24.86, 24.17, 25.09, 27.15, 27.57, 25.81, 28.95, 25.72, 26.7, 25.09, 25.51, 24.93, 26.79, 25.81, 23.36, 27.46, 26.03, 26.87, 25.81, 26.14, 28.39, 26.91, 26.36, 23.41, 24.57, 23.91, 22.29, 26.14, 24.46, 25.07, 27.03, 27.6, 22.37, 23.52, 25.72, 24.57, 27.81, 24.06, 24.64, 23.47, 23.91, 25.18, 23.21, 24.15, 23.73, 27.86, 24.28, 27.73, 21.43, 23.76, 25.26, 26.91, 22.79, 24.7, 28.93, 26.91, 22.93, 20.91, 22.48, 24.43, 24.11, 25.0, 23.88, 24.64, 24.27, 24.43, 21.97, 26.0, 27.27, 24.95, 32.82, 24.73, 22.45, 25.26, 23.95, 27.27, 25.26, 23.62, 22.85, 23.73, 21.94, 24.31, 25.26, 29.46, 22.48, 26.79, 25.72, 26.09, 25.54, 21.43, 26.09, 23.73, 24.57, 24.46, 29.64, 24.43, 23.65, 26.36, 23.65, 28.01, 23.09, 22.53, 26.13, 22.74, 25.29, 24.46], \"x0\": \" \", \"xaxis\": \"x\", \"y\": [\"PF\", \"PF\", \"PF\", \"PF\", \"PF\", \"PF\", \"PF\", \"PF\", \"PF\", \"PF\", \"PF\", \"PF\", \"PF\", \"PF\", \"PF\", \"PF\", \"PF\", \"PF\", \"PF\", \"PF\", \"PF\", \"PF\", \"PF\", \"PF\", \"PF\", \"PF\", \"PF\", \"PF\", \"PF\", \"PF\", \"PF\", \"PF\", \"PF\", \"PF\", \"PF\", \"PF\", \"PF\", \"PF\", \"PF\", \"PF\", \"PF\", \"PF\", \"PF\", \"PF\", \"PF\", \"PF\", \"PF\", \"PF\", \"PF\", \"PF\", \"PF\", \"PF\", \"PF\", \"PF\", \"PF\", \"PF\", \"PF\", \"PF\", \"PF\", \"PF\", \"PF\", \"PF\", \"PF\", \"PF\", \"PF\", \"PF\", \"PF\", \"PF\", \"PF\", \"PF\", \"PF\", \"PF\", \"PF\", \"PF\", \"PF\", \"PF\", \"PF\", \"PF\", \"PF\", \"PF\", \"PF\", \"PF\", \"PF\", \"PF\", \"PF\", \"PF\", \"PF\", \"PF\", \"PF\", \"PF\", \"PF\", \"PF\", \"PF\", \"PF\", \"PF\", \"PF\", \"PF\", \"PF\", \"PF\", \"PF\", \"PF\", \"PF\", \"PF\", \"PF\", \"PF\", \"PF\", \"PF\", \"PF\", \"PF\", \"PF\", \"PF\", \"PF\", \"PF\", \"PF\"], \"y0\": \" \", \"yaxis\": \"y\"}, {\"alignmentgroup\": \"True\", \"hovertemplate\": \"Position=%{y}<br>BMI=%{x}<extra></extra>\", \"legendgroup\": \"SF\", \"marker\": {\"color\": \"#FFA15A\"}, \"name\": \"SF\", \"notched\": false, \"offsetgroup\": \"SF\", \"orientation\": \"h\", \"showlegend\": true, \"type\": \"box\", \"x\": [23.36, 24.71, 24.84, 25.01, 27.39, 25.34, 23.62, 19.93, 26.79, 25.42, 24.82, 24.84, 24.84, 25.81, 25.34, 24.64, 24.82, 23.09, 24.78, 26.0, 23.07, 26.11, 24.17, 26.58, 24.31, 22.19, 24.36, 25.81, 25.34, 24.78, 29.05, 24.17, 27.46, 25.81, 25.09, 23.69, 23.54, 22.87, 23.71, 25.65, 25.07, 26.87, 25.91, 27.96, 23.79, 25.97, 25.31, 23.65, 23.52, 21.4, 24.56, 26.78, 22.96, 25.91, 26.68, 24.78, 23.68, 22.74, 23.07, 26.13, 24.78, 25.54, 25.92, 25.34, 24.22, 27.51, 24.15, 26.0, 23.65, 25.15], \"x0\": \" \", \"xaxis\": \"x\", \"y\": [\"SF\", \"SF\", \"SF\", \"SF\", \"SF\", \"SF\", \"SF\", \"SF\", \"SF\", \"SF\", \"SF\", \"SF\", \"SF\", \"SF\", \"SF\", \"SF\", \"SF\", \"SF\", \"SF\", \"SF\", \"SF\", \"SF\", \"SF\", \"SF\", \"SF\", \"SF\", \"SF\", \"SF\", \"SF\", \"SF\", \"SF\", \"SF\", \"SF\", \"SF\", \"SF\", \"SF\", \"SF\", \"SF\", \"SF\", \"SF\", \"SF\", \"SF\", \"SF\", \"SF\", \"SF\", \"SF\", \"SF\", \"SF\", \"SF\", \"SF\", \"SF\", \"SF\", \"SF\", \"SF\", \"SF\", \"SF\", \"SF\", \"SF\", \"SF\", \"SF\", \"SF\", \"SF\", \"SF\", \"SF\", \"SF\", \"SF\", \"SF\", \"SF\", \"SF\", \"SF\"], \"y0\": \" \", \"yaxis\": \"y\"}],\n",
       "                        {\"boxmode\": \"overlay\", \"legend\": {\"title\": {\"text\": \"Position\"}, \"tracegroupgap\": 0}, \"margin\": {\"t\": 60}, \"template\": {\"data\": {\"bar\": [{\"error_x\": {\"color\": \"#2a3f5f\"}, \"error_y\": {\"color\": \"#2a3f5f\"}, \"marker\": {\"line\": {\"color\": \"#E5ECF6\", \"width\": 0.5}}, \"type\": \"bar\"}], \"barpolar\": [{\"marker\": {\"line\": {\"color\": \"#E5ECF6\", \"width\": 0.5}}, \"type\": \"barpolar\"}], \"carpet\": [{\"aaxis\": {\"endlinecolor\": \"#2a3f5f\", \"gridcolor\": \"white\", \"linecolor\": \"white\", \"minorgridcolor\": \"white\", \"startlinecolor\": \"#2a3f5f\"}, \"baxis\": {\"endlinecolor\": \"#2a3f5f\", \"gridcolor\": \"white\", \"linecolor\": \"white\", \"minorgridcolor\": \"white\", \"startlinecolor\": \"#2a3f5f\"}, \"type\": \"carpet\"}], \"choropleth\": [{\"colorbar\": {\"outlinewidth\": 0, \"ticks\": \"\"}, \"type\": \"choropleth\"}], \"contour\": [{\"colorbar\": {\"outlinewidth\": 0, \"ticks\": \"\"}, \"colorscale\": [[0.0, \"#0d0887\"], [0.1111111111111111, \"#46039f\"], [0.2222222222222222, \"#7201a8\"], [0.3333333333333333, \"#9c179e\"], [0.4444444444444444, \"#bd3786\"], [0.5555555555555556, \"#d8576b\"], [0.6666666666666666, \"#ed7953\"], [0.7777777777777778, \"#fb9f3a\"], [0.8888888888888888, \"#fdca26\"], [1.0, \"#f0f921\"]], \"type\": \"contour\"}], \"contourcarpet\": [{\"colorbar\": {\"outlinewidth\": 0, \"ticks\": \"\"}, \"type\": \"contourcarpet\"}], \"heatmap\": [{\"colorbar\": {\"outlinewidth\": 0, \"ticks\": \"\"}, \"colorscale\": [[0.0, \"#0d0887\"], [0.1111111111111111, \"#46039f\"], [0.2222222222222222, \"#7201a8\"], [0.3333333333333333, \"#9c179e\"], [0.4444444444444444, \"#bd3786\"], [0.5555555555555556, \"#d8576b\"], [0.6666666666666666, \"#ed7953\"], [0.7777777777777778, \"#fb9f3a\"], [0.8888888888888888, \"#fdca26\"], [1.0, \"#f0f921\"]], \"type\": \"heatmap\"}], \"heatmapgl\": [{\"colorbar\": {\"outlinewidth\": 0, \"ticks\": \"\"}, \"colorscale\": [[0.0, \"#0d0887\"], [0.1111111111111111, \"#46039f\"], [0.2222222222222222, \"#7201a8\"], [0.3333333333333333, \"#9c179e\"], [0.4444444444444444, \"#bd3786\"], [0.5555555555555556, \"#d8576b\"], [0.6666666666666666, \"#ed7953\"], [0.7777777777777778, \"#fb9f3a\"], [0.8888888888888888, \"#fdca26\"], [1.0, \"#f0f921\"]], \"type\": \"heatmapgl\"}], \"histogram\": [{\"marker\": {\"colorbar\": {\"outlinewidth\": 0, \"ticks\": \"\"}}, \"type\": \"histogram\"}], \"histogram2d\": [{\"colorbar\": {\"outlinewidth\": 0, \"ticks\": \"\"}, \"colorscale\": [[0.0, \"#0d0887\"], [0.1111111111111111, \"#46039f\"], [0.2222222222222222, \"#7201a8\"], [0.3333333333333333, \"#9c179e\"], [0.4444444444444444, \"#bd3786\"], [0.5555555555555556, \"#d8576b\"], [0.6666666666666666, \"#ed7953\"], [0.7777777777777778, \"#fb9f3a\"], [0.8888888888888888, \"#fdca26\"], [1.0, \"#f0f921\"]], \"type\": \"histogram2d\"}], \"histogram2dcontour\": [{\"colorbar\": {\"outlinewidth\": 0, \"ticks\": \"\"}, \"colorscale\": [[0.0, \"#0d0887\"], [0.1111111111111111, \"#46039f\"], [0.2222222222222222, \"#7201a8\"], [0.3333333333333333, \"#9c179e\"], [0.4444444444444444, \"#bd3786\"], [0.5555555555555556, \"#d8576b\"], [0.6666666666666666, \"#ed7953\"], [0.7777777777777778, \"#fb9f3a\"], [0.8888888888888888, \"#fdca26\"], [1.0, \"#f0f921\"]], \"type\": \"histogram2dcontour\"}], \"mesh3d\": [{\"colorbar\": {\"outlinewidth\": 0, \"ticks\": \"\"}, \"type\": \"mesh3d\"}], \"parcoords\": [{\"line\": {\"colorbar\": {\"outlinewidth\": 0, \"ticks\": \"\"}}, \"type\": \"parcoords\"}], \"pie\": [{\"automargin\": true, \"type\": \"pie\"}], \"scatter\": [{\"marker\": {\"colorbar\": {\"outlinewidth\": 0, \"ticks\": \"\"}}, \"type\": \"scatter\"}], \"scatter3d\": [{\"line\": {\"colorbar\": {\"outlinewidth\": 0, \"ticks\": \"\"}}, \"marker\": {\"colorbar\": {\"outlinewidth\": 0, \"ticks\": \"\"}}, \"type\": \"scatter3d\"}], \"scattercarpet\": [{\"marker\": {\"colorbar\": {\"outlinewidth\": 0, \"ticks\": \"\"}}, \"type\": \"scattercarpet\"}], \"scattergeo\": [{\"marker\": {\"colorbar\": {\"outlinewidth\": 0, \"ticks\": \"\"}}, \"type\": \"scattergeo\"}], \"scattergl\": [{\"marker\": {\"colorbar\": {\"outlinewidth\": 0, \"ticks\": \"\"}}, \"type\": \"scattergl\"}], \"scattermapbox\": [{\"marker\": {\"colorbar\": {\"outlinewidth\": 0, \"ticks\": \"\"}}, \"type\": \"scattermapbox\"}], \"scatterpolar\": [{\"marker\": {\"colorbar\": {\"outlinewidth\": 0, \"ticks\": \"\"}}, \"type\": \"scatterpolar\"}], \"scatterpolargl\": [{\"marker\": {\"colorbar\": {\"outlinewidth\": 0, \"ticks\": \"\"}}, \"type\": \"scatterpolargl\"}], \"scatterternary\": [{\"marker\": {\"colorbar\": {\"outlinewidth\": 0, \"ticks\": \"\"}}, \"type\": \"scatterternary\"}], \"surface\": [{\"colorbar\": {\"outlinewidth\": 0, \"ticks\": \"\"}, \"colorscale\": [[0.0, \"#0d0887\"], [0.1111111111111111, \"#46039f\"], [0.2222222222222222, \"#7201a8\"], [0.3333333333333333, \"#9c179e\"], [0.4444444444444444, \"#bd3786\"], [0.5555555555555556, \"#d8576b\"], [0.6666666666666666, \"#ed7953\"], [0.7777777777777778, \"#fb9f3a\"], [0.8888888888888888, \"#fdca26\"], [1.0, \"#f0f921\"]], \"type\": \"surface\"}], \"table\": [{\"cells\": {\"fill\": {\"color\": \"#EBF0F8\"}, \"line\": {\"color\": \"white\"}}, \"header\": {\"fill\": {\"color\": \"#C8D4E3\"}, \"line\": {\"color\": \"white\"}}, \"type\": \"table\"}]}, \"layout\": {\"annotationdefaults\": {\"arrowcolor\": \"#2a3f5f\", \"arrowhead\": 0, \"arrowwidth\": 1}, \"coloraxis\": {\"colorbar\": {\"outlinewidth\": 0, \"ticks\": \"\"}}, \"colorscale\": {\"diverging\": [[0, \"#8e0152\"], [0.1, \"#c51b7d\"], [0.2, \"#de77ae\"], [0.3, \"#f1b6da\"], [0.4, \"#fde0ef\"], [0.5, \"#f7f7f7\"], [0.6, \"#e6f5d0\"], [0.7, \"#b8e186\"], [0.8, \"#7fbc41\"], [0.9, \"#4d9221\"], [1, \"#276419\"]], \"sequential\": [[0.0, \"#0d0887\"], [0.1111111111111111, \"#46039f\"], [0.2222222222222222, \"#7201a8\"], [0.3333333333333333, \"#9c179e\"], [0.4444444444444444, \"#bd3786\"], [0.5555555555555556, \"#d8576b\"], [0.6666666666666666, \"#ed7953\"], [0.7777777777777778, \"#fb9f3a\"], [0.8888888888888888, \"#fdca26\"], [1.0, \"#f0f921\"]], \"sequentialminus\": [[0.0, \"#0d0887\"], [0.1111111111111111, \"#46039f\"], [0.2222222222222222, \"#7201a8\"], [0.3333333333333333, \"#9c179e\"], [0.4444444444444444, \"#bd3786\"], [0.5555555555555556, \"#d8576b\"], [0.6666666666666666, \"#ed7953\"], [0.7777777777777778, \"#fb9f3a\"], [0.8888888888888888, \"#fdca26\"], [1.0, \"#f0f921\"]]}, \"colorway\": [\"#636efa\", \"#EF553B\", \"#00cc96\", \"#ab63fa\", \"#FFA15A\", \"#19d3f3\", \"#FF6692\", \"#B6E880\", \"#FF97FF\", \"#FECB52\"], \"font\": {\"color\": \"#2a3f5f\"}, \"geo\": {\"bgcolor\": \"white\", \"lakecolor\": \"white\", \"landcolor\": \"#E5ECF6\", \"showlakes\": true, \"showland\": true, \"subunitcolor\": \"white\"}, \"hoverlabel\": {\"align\": \"left\"}, \"hovermode\": \"closest\", \"mapbox\": {\"style\": \"light\"}, \"paper_bgcolor\": \"white\", \"plot_bgcolor\": \"#E5ECF6\", \"polar\": {\"angularaxis\": {\"gridcolor\": \"white\", \"linecolor\": \"white\", \"ticks\": \"\"}, \"bgcolor\": \"#E5ECF6\", \"radialaxis\": {\"gridcolor\": \"white\", \"linecolor\": \"white\", \"ticks\": \"\"}}, \"scene\": {\"xaxis\": {\"backgroundcolor\": \"#E5ECF6\", \"gridcolor\": \"white\", \"gridwidth\": 2, \"linecolor\": \"white\", \"showbackground\": true, \"ticks\": \"\", \"zerolinecolor\": \"white\"}, \"yaxis\": {\"backgroundcolor\": \"#E5ECF6\", \"gridcolor\": \"white\", \"gridwidth\": 2, \"linecolor\": \"white\", \"showbackground\": true, \"ticks\": \"\", \"zerolinecolor\": \"white\"}, \"zaxis\": {\"backgroundcolor\": \"#E5ECF6\", \"gridcolor\": \"white\", \"gridwidth\": 2, \"linecolor\": \"white\", \"showbackground\": true, \"ticks\": \"\", \"zerolinecolor\": \"white\"}}, \"shapedefaults\": {\"line\": {\"color\": \"#2a3f5f\"}}, \"ternary\": {\"aaxis\": {\"gridcolor\": \"white\", \"linecolor\": \"white\", \"ticks\": \"\"}, \"baxis\": {\"gridcolor\": \"white\", \"linecolor\": \"white\", \"ticks\": \"\"}, \"bgcolor\": \"#E5ECF6\", \"caxis\": {\"gridcolor\": \"white\", \"linecolor\": \"white\", \"ticks\": \"\"}}, \"title\": {\"x\": 0.05}, \"xaxis\": {\"automargin\": true, \"gridcolor\": \"white\", \"linecolor\": \"white\", \"ticks\": \"\", \"title\": {\"standoff\": 15}, \"zerolinecolor\": \"white\", \"zerolinewidth\": 2}, \"yaxis\": {\"automargin\": true, \"gridcolor\": \"white\", \"linecolor\": \"white\", \"ticks\": \"\", \"title\": {\"standoff\": 15}, \"zerolinecolor\": \"white\", \"zerolinewidth\": 2}}}, \"xaxis\": {\"anchor\": \"y\", \"domain\": [0.0, 1.0], \"title\": {\"text\": \"BMI\"}}, \"yaxis\": {\"anchor\": \"x\", \"categoryarray\": [\"SF\", \"PF\", \"C\", \"PG\", \"SG\"], \"categoryorder\": \"array\", \"domain\": [0.0, 1.0], \"title\": {\"text\": \"Position\"}}},\n",
       "                        {\"responsive\": true}\n",
       "                    ).then(function(){\n",
       "                            \n",
       "var gd = document.getElementById('4229bf3d-6614-4686-8e1c-21b74d8e5da3');\n",
       "var x = new MutationObserver(function (mutations, observer) {{\n",
       "        var display = window.getComputedStyle(gd).display;\n",
       "        if (!display || display === 'none') {{\n",
       "            console.log([gd, 'removed!']);\n",
       "            Plotly.purge(gd);\n",
       "            observer.disconnect();\n",
       "        }}\n",
       "}});\n",
       "\n",
       "// Listen for the removal of the full notebook cells\n",
       "var notebookContainer = gd.closest('#notebook-container');\n",
       "if (notebookContainer) {{\n",
       "    x.observe(notebookContainer, {childList: true});\n",
       "}}\n",
       "\n",
       "// Listen for the clearing of the current output cell\n",
       "var outputEl = gd.closest('.output');\n",
       "if (outputEl) {{\n",
       "    x.observe(outputEl, {childList: true});\n",
       "}}\n",
       "\n",
       "                        })\n",
       "                };\n",
       "                });\n",
       "            </script>\n",
       "        </div>"
      ]
     },
     "metadata": {},
     "output_type": "display_data"
    }
   ],
   "source": [
    "px.box(combined, y='Position', x='BMI', color='Position')"
   ]
  },
  {
   "cell_type": "code",
   "execution_count": 47,
   "metadata": {},
   "outputs": [],
   "source": [
    "fig.write_html('PositionCategory_BMI_violinbox.html')"
   ]
  },
  {
   "cell_type": "code",
   "execution_count": 48,
   "metadata": {},
   "outputs": [
    {
     "data": {
      "application/vnd.plotly.v1+json": {
       "config": {
        "plotlyServerURL": "https://plot.ly"
       },
       "data": [
        {
         "alignmentgroup": "True",
         "box": {
          "visible": true
         },
         "hovertemplate": "PositionCategory=%{y}<br>BMI=%{x}<extra></extra>",
         "legendgroup": "G",
         "marker": {
          "color": "#636efa"
         },
         "name": "G",
         "offsetgroup": "G",
         "orientation": "h",
         "scalegroup": "True",
         "showlegend": true,
         "type": "violin",
         "x": [
          25.87,
          25.56,
          23.12,
          23.8,
          25.42,
          26.58,
          23.09,
          26.87,
          25.62,
          23.12,
          24.84,
          20.8,
          22.53,
          25.91,
          25.68,
          24.61,
          23.87,
          23.75,
          25.82,
          26.09,
          23.75,
          25.42,
          22.5,
          27.5,
          25.03,
          25,
          23.88,
          24.37,
          22.69,
          23.73,
          24.64,
          25.03,
          26.78,
          25.49,
          23.09,
          25.42,
          24.84,
          26.09,
          25,
          23.75,
          23.09,
          21.94,
          25,
          24.37,
          25.92,
          24.95,
          23.37,
          25.19,
          23.5,
          23.36,
          24.95,
          23.73,
          23.75,
          23.11,
          25.65,
          24.19,
          25.52,
          25.49,
          25.56,
          25.09,
          24.73,
          22.85,
          25.37,
          23.75,
          28.23,
          24.37,
          23.65,
          25,
          26,
          21.34,
          21.46,
          26.25,
          23.73,
          26.38,
          23.12,
          23.75,
          24.17,
          24.83,
          25.06,
          21.94,
          26.58,
          23.75,
          23.75,
          24.78,
          25,
          27.39,
          23.49,
          24.43,
          26.25,
          25.06,
          21.22,
          29.21,
          23.75,
          24.95,
          25.09,
          26.17,
          25.62,
          25.77,
          26.78,
          22.76,
          21.91,
          20.39,
          27.15,
          22.75,
          24.37,
          24.14,
          25.42,
          24.37,
          23.65,
          26.32,
          24.9,
          21.4,
          22.05,
          25.97,
          23.95,
          21.95,
          23.12,
          26.12,
          26.32,
          24.34,
          25,
          24.43,
          21.95,
          28.36,
          25.62,
          25.49,
          23.12,
          24.9,
          25.97,
          26.17,
          23.49,
          23.86,
          24.39,
          21.34,
          24.89,
          23.12,
          24.41,
          25.91,
          24.1,
          23.75,
          21.4,
          25.06,
          21.34,
          23.12,
          25.62,
          25.09,
          25.92,
          22.62,
          24.19,
          25.72,
          19.77,
          23.12,
          26.25,
          23.25,
          27.6,
          24.78,
          26.38,
          25.68,
          25.06,
          24.31,
          25.56,
          23.75,
          25.34,
          24.22,
          23.62,
          24.39,
          24.39,
          25.14,
          25.8,
          24.41,
          24.27,
          24.54,
          24.84,
          25,
          21.75,
          25.34,
          25.33,
          22.53,
          26.29,
          23.73,
          23.12,
          24.31,
          23.83,
          23.07,
          27.89,
          24.71,
          23.61,
          28.48,
          23.12,
          26.09,
          21.4,
          28.58,
          25.49,
          25.11,
          22.5,
          24.9,
          24.46,
          23.48,
          25.62,
          22.03,
          24.43,
          25.77,
          26.87,
          22.52,
          25.49,
          26.05,
          26.58,
          26.12,
          24.4,
          23.75,
          24.67,
          23.12,
          22.53,
          25.49,
          24.31,
          23.23,
          25
         ],
         "x0": " ",
         "xaxis": "x",
         "y": [
          "G",
          "G",
          "G",
          "G",
          "G",
          "G",
          "G",
          "G",
          "G",
          "G",
          "G",
          "G",
          "G",
          "G",
          "G",
          "G",
          "G",
          "G",
          "G",
          "G",
          "G",
          "G",
          "G",
          "G",
          "G",
          "G",
          "G",
          "G",
          "G",
          "G",
          "G",
          "G",
          "G",
          "G",
          "G",
          "G",
          "G",
          "G",
          "G",
          "G",
          "G",
          "G",
          "G",
          "G",
          "G",
          "G",
          "G",
          "G",
          "G",
          "G",
          "G",
          "G",
          "G",
          "G",
          "G",
          "G",
          "G",
          "G",
          "G",
          "G",
          "G",
          "G",
          "G",
          "G",
          "G",
          "G",
          "G",
          "G",
          "G",
          "G",
          "G",
          "G",
          "G",
          "G",
          "G",
          "G",
          "G",
          "G",
          "G",
          "G",
          "G",
          "G",
          "G",
          "G",
          "G",
          "G",
          "G",
          "G",
          "G",
          "G",
          "G",
          "G",
          "G",
          "G",
          "G",
          "G",
          "G",
          "G",
          "G",
          "G",
          "G",
          "G",
          "G",
          "G",
          "G",
          "G",
          "G",
          "G",
          "G",
          "G",
          "G",
          "G",
          "G",
          "G",
          "G",
          "G",
          "G",
          "G",
          "G",
          "G",
          "G",
          "G",
          "G",
          "G",
          "G",
          "G",
          "G",
          "G",
          "G",
          "G",
          "G",
          "G",
          "G",
          "G",
          "G",
          "G",
          "G",
          "G",
          "G",
          "G",
          "G",
          "G",
          "G",
          "G",
          "G",
          "G",
          "G",
          "G",
          "G",
          "G",
          "G",
          "G",
          "G",
          "G",
          "G",
          "G",
          "G",
          "G",
          "G",
          "G",
          "G",
          "G",
          "G",
          "G",
          "G",
          "G",
          "G",
          "G",
          "G",
          "G",
          "G",
          "G",
          "G",
          "G",
          "G",
          "G",
          "G",
          "G",
          "G",
          "G",
          "G",
          "G",
          "G",
          "G",
          "G",
          "G",
          "G",
          "G",
          "G",
          "G",
          "G",
          "G",
          "G",
          "G",
          "G",
          "G",
          "G",
          "G",
          "G",
          "G",
          "G",
          "G",
          "G",
          "G",
          "G",
          "G",
          "G",
          "G",
          "G",
          "G",
          "G",
          "G",
          "G",
          "G",
          "G",
          "G",
          "G"
         ],
         "y0": " ",
         "yaxis": "y"
        },
        {
         "alignmentgroup": "True",
         "box": {
          "visible": true
         },
         "hovertemplate": "PositionCategory=%{y}<br>BMI=%{x}<extra></extra>",
         "legendgroup": "C",
         "marker": {
          "color": "#EF553B"
         },
         "name": "C",
         "offsetgroup": "C",
         "orientation": "h",
         "scalegroup": "True",
         "showlegend": true,
         "type": "violin",
         "x": [
          27.04,
          23.47,
          23.41,
          27.71,
          25.09,
          25.41,
          24.49,
          27.22,
          28.1,
          25.92,
          28,
          25.9,
          26.02,
          27.18,
          27.04,
          26.79,
          26.53,
          24.41,
          23,
          27.9,
          26.74,
          23.91,
          28.01,
          26.35,
          29.17,
          28.89,
          26.9,
          26.14,
          25.1,
          24.91,
          27.04,
          26.4,
          28.23,
          25.51,
          25.31,
          28.3,
          26.33,
          23.91,
          24.97,
          22.02,
          24.49,
          23.84,
          25,
          23.91,
          25.51,
          27.32,
          24.8,
          24.59,
          21.41,
          25.93,
          25.93,
          25.51,
          23.91,
          26.25,
          24.15,
          25.51,
          20.91,
          28.29,
          27.6,
          23.29,
          22.45,
          21.43,
          25.7,
          23.41
         ],
         "x0": " ",
         "xaxis": "x",
         "y": [
          "C",
          "C",
          "C",
          "C",
          "C",
          "C",
          "C",
          "C",
          "C",
          "C",
          "C",
          "C",
          "C",
          "C",
          "C",
          "C",
          "C",
          "C",
          "C",
          "C",
          "C",
          "C",
          "C",
          "C",
          "C",
          "C",
          "C",
          "C",
          "C",
          "C",
          "C",
          "C",
          "C",
          "C",
          "C",
          "C",
          "C",
          "C",
          "C",
          "C",
          "C",
          "C",
          "C",
          "C",
          "C",
          "C",
          "C",
          "C",
          "C",
          "C",
          "C",
          "C",
          "C",
          "C",
          "C",
          "C",
          "C",
          "C",
          "C",
          "C",
          "C",
          "C",
          "C",
          "C"
         ],
         "y0": " ",
         "yaxis": "y"
        },
        {
         "alignmentgroup": "True",
         "box": {
          "visible": true
         },
         "hovertemplate": "PositionCategory=%{y}<br>BMI=%{x}<extra></extra>",
         "legendgroup": "F",
         "marker": {
          "color": "#00cc96"
         },
         "name": "F",
         "offsetgroup": "F",
         "orientation": "h",
         "scalegroup": "True",
         "showlegend": true,
         "type": "violin",
         "x": [
          25.81,
          27.03,
          23.36,
          26.45,
          26.58,
          24.71,
          24.84,
          24.7,
          25.18,
          25.01,
          23.47,
          27.39,
          26.91,
          24.86,
          25.34,
          24.17,
          25.09,
          23.62,
          19.93,
          27.15,
          26.79,
          27.57,
          25.42,
          25.81,
          24.82,
          24.84,
          28.95,
          25.72,
          26.7,
          25.09,
          24.84,
          25.51,
          25.81,
          24.93,
          25.34,
          24.64,
          26.79,
          24.82,
          23.09,
          25.81,
          24.78,
          26,
          23.36,
          27.46,
          23.07,
          26.11,
          24.17,
          26.58,
          26.03,
          26.87,
          25.81,
          26.14,
          24.31,
          22.19,
          24.36,
          25.81,
          25.34,
          28.39,
          24.78,
          26.91,
          26.36,
          29.05,
          24.17,
          27.46,
          23.41,
          25.81,
          25.09,
          23.69,
          23.54,
          24.57,
          22.87,
          23.91,
          23.71,
          25.65,
          22.29,
          25.07,
          26.87,
          26.14,
          25.91,
          27.96,
          24.46,
          25.07,
          27.03,
          23.79,
          27.6,
          25.97,
          25.31,
          22.37,
          23.65,
          23.52,
          23.52,
          21.4,
          25.72,
          24.57,
          24.56,
          26.78,
          27.81,
          24.06,
          22.96,
          25.91,
          24.64,
          26.68,
          24.78,
          23.68,
          22.74,
          23.07,
          23.47,
          23.91,
          25.18,
          26.13,
          23.21,
          24.15,
          24.78,
          23.73,
          27.86,
          24.28,
          25.54,
          27.73,
          25.92,
          25.34,
          21.43,
          23.76,
          25.26,
          26.91,
          24.22,
          27.51,
          22.79,
          24.7,
          28.93,
          24.15,
          26,
          23.65,
          26.91,
          22.93,
          20.91,
          22.48,
          24.43,
          24.11,
          25,
          23.88,
          25.15,
          24.64,
          24.27,
          24.43,
          21.97,
          26,
          27.27,
          24.95,
          32.82,
          24.73,
          22.45,
          25.26,
          23.95,
          27.27,
          25.26,
          23.62,
          22.85,
          23.73,
          21.94,
          24.31,
          25.26,
          29.46,
          22.48,
          26.79,
          25.72,
          26.09,
          25.54,
          21.43,
          26.09,
          23.73,
          24.57,
          24.46,
          29.64,
          24.43,
          23.65,
          26.36,
          23.65,
          28.01,
          23.09,
          22.53,
          26.13,
          22.74,
          25.29,
          24.46
         ],
         "x0": " ",
         "xaxis": "x",
         "y": [
          "F",
          "F",
          "F",
          "F",
          "F",
          "F",
          "F",
          "F",
          "F",
          "F",
          "F",
          "F",
          "F",
          "F",
          "F",
          "F",
          "F",
          "F",
          "F",
          "F",
          "F",
          "F",
          "F",
          "F",
          "F",
          "F",
          "F",
          "F",
          "F",
          "F",
          "F",
          "F",
          "F",
          "F",
          "F",
          "F",
          "F",
          "F",
          "F",
          "F",
          "F",
          "F",
          "F",
          "F",
          "F",
          "F",
          "F",
          "F",
          "F",
          "F",
          "F",
          "F",
          "F",
          "F",
          "F",
          "F",
          "F",
          "F",
          "F",
          "F",
          "F",
          "F",
          "F",
          "F",
          "F",
          "F",
          "F",
          "F",
          "F",
          "F",
          "F",
          "F",
          "F",
          "F",
          "F",
          "F",
          "F",
          "F",
          "F",
          "F",
          "F",
          "F",
          "F",
          "F",
          "F",
          "F",
          "F",
          "F",
          "F",
          "F",
          "F",
          "F",
          "F",
          "F",
          "F",
          "F",
          "F",
          "F",
          "F",
          "F",
          "F",
          "F",
          "F",
          "F",
          "F",
          "F",
          "F",
          "F",
          "F",
          "F",
          "F",
          "F",
          "F",
          "F",
          "F",
          "F",
          "F",
          "F",
          "F",
          "F",
          "F",
          "F",
          "F",
          "F",
          "F",
          "F",
          "F",
          "F",
          "F",
          "F",
          "F",
          "F",
          "F",
          "F",
          "F",
          "F",
          "F",
          "F",
          "F",
          "F",
          "F",
          "F",
          "F",
          "F",
          "F",
          "F",
          "F",
          "F",
          "F",
          "F",
          "F",
          "F",
          "F",
          "F",
          "F",
          "F",
          "F",
          "F",
          "F",
          "F",
          "F",
          "F",
          "F",
          "F",
          "F",
          "F",
          "F",
          "F",
          "F",
          "F",
          "F",
          "F",
          "F",
          "F",
          "F",
          "F",
          "F",
          "F",
          "F",
          "F",
          "F",
          "F",
          "F",
          "F"
         ],
         "y0": " ",
         "yaxis": "y"
        }
       ],
       "layout": {
        "legend": {
         "title": {
          "text": "PositionCategory"
         },
         "tracegroupgap": 0
        },
        "margin": {
         "t": 60
        },
        "template": {
         "data": {
          "bar": [
           {
            "error_x": {
             "color": "#2a3f5f"
            },
            "error_y": {
             "color": "#2a3f5f"
            },
            "marker": {
             "line": {
              "color": "#E5ECF6",
              "width": 0.5
             }
            },
            "type": "bar"
           }
          ],
          "barpolar": [
           {
            "marker": {
             "line": {
              "color": "#E5ECF6",
              "width": 0.5
             }
            },
            "type": "barpolar"
           }
          ],
          "carpet": [
           {
            "aaxis": {
             "endlinecolor": "#2a3f5f",
             "gridcolor": "white",
             "linecolor": "white",
             "minorgridcolor": "white",
             "startlinecolor": "#2a3f5f"
            },
            "baxis": {
             "endlinecolor": "#2a3f5f",
             "gridcolor": "white",
             "linecolor": "white",
             "minorgridcolor": "white",
             "startlinecolor": "#2a3f5f"
            },
            "type": "carpet"
           }
          ],
          "choropleth": [
           {
            "colorbar": {
             "outlinewidth": 0,
             "ticks": ""
            },
            "type": "choropleth"
           }
          ],
          "contour": [
           {
            "colorbar": {
             "outlinewidth": 0,
             "ticks": ""
            },
            "colorscale": [
             [
              0,
              "#0d0887"
             ],
             [
              0.1111111111111111,
              "#46039f"
             ],
             [
              0.2222222222222222,
              "#7201a8"
             ],
             [
              0.3333333333333333,
              "#9c179e"
             ],
             [
              0.4444444444444444,
              "#bd3786"
             ],
             [
              0.5555555555555556,
              "#d8576b"
             ],
             [
              0.6666666666666666,
              "#ed7953"
             ],
             [
              0.7777777777777778,
              "#fb9f3a"
             ],
             [
              0.8888888888888888,
              "#fdca26"
             ],
             [
              1,
              "#f0f921"
             ]
            ],
            "type": "contour"
           }
          ],
          "contourcarpet": [
           {
            "colorbar": {
             "outlinewidth": 0,
             "ticks": ""
            },
            "type": "contourcarpet"
           }
          ],
          "heatmap": [
           {
            "colorbar": {
             "outlinewidth": 0,
             "ticks": ""
            },
            "colorscale": [
             [
              0,
              "#0d0887"
             ],
             [
              0.1111111111111111,
              "#46039f"
             ],
             [
              0.2222222222222222,
              "#7201a8"
             ],
             [
              0.3333333333333333,
              "#9c179e"
             ],
             [
              0.4444444444444444,
              "#bd3786"
             ],
             [
              0.5555555555555556,
              "#d8576b"
             ],
             [
              0.6666666666666666,
              "#ed7953"
             ],
             [
              0.7777777777777778,
              "#fb9f3a"
             ],
             [
              0.8888888888888888,
              "#fdca26"
             ],
             [
              1,
              "#f0f921"
             ]
            ],
            "type": "heatmap"
           }
          ],
          "heatmapgl": [
           {
            "colorbar": {
             "outlinewidth": 0,
             "ticks": ""
            },
            "colorscale": [
             [
              0,
              "#0d0887"
             ],
             [
              0.1111111111111111,
              "#46039f"
             ],
             [
              0.2222222222222222,
              "#7201a8"
             ],
             [
              0.3333333333333333,
              "#9c179e"
             ],
             [
              0.4444444444444444,
              "#bd3786"
             ],
             [
              0.5555555555555556,
              "#d8576b"
             ],
             [
              0.6666666666666666,
              "#ed7953"
             ],
             [
              0.7777777777777778,
              "#fb9f3a"
             ],
             [
              0.8888888888888888,
              "#fdca26"
             ],
             [
              1,
              "#f0f921"
             ]
            ],
            "type": "heatmapgl"
           }
          ],
          "histogram": [
           {
            "marker": {
             "colorbar": {
              "outlinewidth": 0,
              "ticks": ""
             }
            },
            "type": "histogram"
           }
          ],
          "histogram2d": [
           {
            "colorbar": {
             "outlinewidth": 0,
             "ticks": ""
            },
            "colorscale": [
             [
              0,
              "#0d0887"
             ],
             [
              0.1111111111111111,
              "#46039f"
             ],
             [
              0.2222222222222222,
              "#7201a8"
             ],
             [
              0.3333333333333333,
              "#9c179e"
             ],
             [
              0.4444444444444444,
              "#bd3786"
             ],
             [
              0.5555555555555556,
              "#d8576b"
             ],
             [
              0.6666666666666666,
              "#ed7953"
             ],
             [
              0.7777777777777778,
              "#fb9f3a"
             ],
             [
              0.8888888888888888,
              "#fdca26"
             ],
             [
              1,
              "#f0f921"
             ]
            ],
            "type": "histogram2d"
           }
          ],
          "histogram2dcontour": [
           {
            "colorbar": {
             "outlinewidth": 0,
             "ticks": ""
            },
            "colorscale": [
             [
              0,
              "#0d0887"
             ],
             [
              0.1111111111111111,
              "#46039f"
             ],
             [
              0.2222222222222222,
              "#7201a8"
             ],
             [
              0.3333333333333333,
              "#9c179e"
             ],
             [
              0.4444444444444444,
              "#bd3786"
             ],
             [
              0.5555555555555556,
              "#d8576b"
             ],
             [
              0.6666666666666666,
              "#ed7953"
             ],
             [
              0.7777777777777778,
              "#fb9f3a"
             ],
             [
              0.8888888888888888,
              "#fdca26"
             ],
             [
              1,
              "#f0f921"
             ]
            ],
            "type": "histogram2dcontour"
           }
          ],
          "mesh3d": [
           {
            "colorbar": {
             "outlinewidth": 0,
             "ticks": ""
            },
            "type": "mesh3d"
           }
          ],
          "parcoords": [
           {
            "line": {
             "colorbar": {
              "outlinewidth": 0,
              "ticks": ""
             }
            },
            "type": "parcoords"
           }
          ],
          "pie": [
           {
            "automargin": true,
            "type": "pie"
           }
          ],
          "scatter": [
           {
            "marker": {
             "colorbar": {
              "outlinewidth": 0,
              "ticks": ""
             }
            },
            "type": "scatter"
           }
          ],
          "scatter3d": [
           {
            "line": {
             "colorbar": {
              "outlinewidth": 0,
              "ticks": ""
             }
            },
            "marker": {
             "colorbar": {
              "outlinewidth": 0,
              "ticks": ""
             }
            },
            "type": "scatter3d"
           }
          ],
          "scattercarpet": [
           {
            "marker": {
             "colorbar": {
              "outlinewidth": 0,
              "ticks": ""
             }
            },
            "type": "scattercarpet"
           }
          ],
          "scattergeo": [
           {
            "marker": {
             "colorbar": {
              "outlinewidth": 0,
              "ticks": ""
             }
            },
            "type": "scattergeo"
           }
          ],
          "scattergl": [
           {
            "marker": {
             "colorbar": {
              "outlinewidth": 0,
              "ticks": ""
             }
            },
            "type": "scattergl"
           }
          ],
          "scattermapbox": [
           {
            "marker": {
             "colorbar": {
              "outlinewidth": 0,
              "ticks": ""
             }
            },
            "type": "scattermapbox"
           }
          ],
          "scatterpolar": [
           {
            "marker": {
             "colorbar": {
              "outlinewidth": 0,
              "ticks": ""
             }
            },
            "type": "scatterpolar"
           }
          ],
          "scatterpolargl": [
           {
            "marker": {
             "colorbar": {
              "outlinewidth": 0,
              "ticks": ""
             }
            },
            "type": "scatterpolargl"
           }
          ],
          "scatterternary": [
           {
            "marker": {
             "colorbar": {
              "outlinewidth": 0,
              "ticks": ""
             }
            },
            "type": "scatterternary"
           }
          ],
          "surface": [
           {
            "colorbar": {
             "outlinewidth": 0,
             "ticks": ""
            },
            "colorscale": [
             [
              0,
              "#0d0887"
             ],
             [
              0.1111111111111111,
              "#46039f"
             ],
             [
              0.2222222222222222,
              "#7201a8"
             ],
             [
              0.3333333333333333,
              "#9c179e"
             ],
             [
              0.4444444444444444,
              "#bd3786"
             ],
             [
              0.5555555555555556,
              "#d8576b"
             ],
             [
              0.6666666666666666,
              "#ed7953"
             ],
             [
              0.7777777777777778,
              "#fb9f3a"
             ],
             [
              0.8888888888888888,
              "#fdca26"
             ],
             [
              1,
              "#f0f921"
             ]
            ],
            "type": "surface"
           }
          ],
          "table": [
           {
            "cells": {
             "fill": {
              "color": "#EBF0F8"
             },
             "line": {
              "color": "white"
             }
            },
            "header": {
             "fill": {
              "color": "#C8D4E3"
             },
             "line": {
              "color": "white"
             }
            },
            "type": "table"
           }
          ]
         },
         "layout": {
          "annotationdefaults": {
           "arrowcolor": "#2a3f5f",
           "arrowhead": 0,
           "arrowwidth": 1
          },
          "coloraxis": {
           "colorbar": {
            "outlinewidth": 0,
            "ticks": ""
           }
          },
          "colorscale": {
           "diverging": [
            [
             0,
             "#8e0152"
            ],
            [
             0.1,
             "#c51b7d"
            ],
            [
             0.2,
             "#de77ae"
            ],
            [
             0.3,
             "#f1b6da"
            ],
            [
             0.4,
             "#fde0ef"
            ],
            [
             0.5,
             "#f7f7f7"
            ],
            [
             0.6,
             "#e6f5d0"
            ],
            [
             0.7,
             "#b8e186"
            ],
            [
             0.8,
             "#7fbc41"
            ],
            [
             0.9,
             "#4d9221"
            ],
            [
             1,
             "#276419"
            ]
           ],
           "sequential": [
            [
             0,
             "#0d0887"
            ],
            [
             0.1111111111111111,
             "#46039f"
            ],
            [
             0.2222222222222222,
             "#7201a8"
            ],
            [
             0.3333333333333333,
             "#9c179e"
            ],
            [
             0.4444444444444444,
             "#bd3786"
            ],
            [
             0.5555555555555556,
             "#d8576b"
            ],
            [
             0.6666666666666666,
             "#ed7953"
            ],
            [
             0.7777777777777778,
             "#fb9f3a"
            ],
            [
             0.8888888888888888,
             "#fdca26"
            ],
            [
             1,
             "#f0f921"
            ]
           ],
           "sequentialminus": [
            [
             0,
             "#0d0887"
            ],
            [
             0.1111111111111111,
             "#46039f"
            ],
            [
             0.2222222222222222,
             "#7201a8"
            ],
            [
             0.3333333333333333,
             "#9c179e"
            ],
            [
             0.4444444444444444,
             "#bd3786"
            ],
            [
             0.5555555555555556,
             "#d8576b"
            ],
            [
             0.6666666666666666,
             "#ed7953"
            ],
            [
             0.7777777777777778,
             "#fb9f3a"
            ],
            [
             0.8888888888888888,
             "#fdca26"
            ],
            [
             1,
             "#f0f921"
            ]
           ]
          },
          "colorway": [
           "#636efa",
           "#EF553B",
           "#00cc96",
           "#ab63fa",
           "#FFA15A",
           "#19d3f3",
           "#FF6692",
           "#B6E880",
           "#FF97FF",
           "#FECB52"
          ],
          "font": {
           "color": "#2a3f5f"
          },
          "geo": {
           "bgcolor": "white",
           "lakecolor": "white",
           "landcolor": "#E5ECF6",
           "showlakes": true,
           "showland": true,
           "subunitcolor": "white"
          },
          "hoverlabel": {
           "align": "left"
          },
          "hovermode": "closest",
          "mapbox": {
           "style": "light"
          },
          "paper_bgcolor": "white",
          "plot_bgcolor": "#E5ECF6",
          "polar": {
           "angularaxis": {
            "gridcolor": "white",
            "linecolor": "white",
            "ticks": ""
           },
           "bgcolor": "#E5ECF6",
           "radialaxis": {
            "gridcolor": "white",
            "linecolor": "white",
            "ticks": ""
           }
          },
          "scene": {
           "xaxis": {
            "backgroundcolor": "#E5ECF6",
            "gridcolor": "white",
            "gridwidth": 2,
            "linecolor": "white",
            "showbackground": true,
            "ticks": "",
            "zerolinecolor": "white"
           },
           "yaxis": {
            "backgroundcolor": "#E5ECF6",
            "gridcolor": "white",
            "gridwidth": 2,
            "linecolor": "white",
            "showbackground": true,
            "ticks": "",
            "zerolinecolor": "white"
           },
           "zaxis": {
            "backgroundcolor": "#E5ECF6",
            "gridcolor": "white",
            "gridwidth": 2,
            "linecolor": "white",
            "showbackground": true,
            "ticks": "",
            "zerolinecolor": "white"
           }
          },
          "shapedefaults": {
           "line": {
            "color": "#2a3f5f"
           }
          },
          "ternary": {
           "aaxis": {
            "gridcolor": "white",
            "linecolor": "white",
            "ticks": ""
           },
           "baxis": {
            "gridcolor": "white",
            "linecolor": "white",
            "ticks": ""
           },
           "bgcolor": "#E5ECF6",
           "caxis": {
            "gridcolor": "white",
            "linecolor": "white",
            "ticks": ""
           }
          },
          "title": {
           "x": 0.05
          },
          "xaxis": {
           "automargin": true,
           "gridcolor": "white",
           "linecolor": "white",
           "ticks": "",
           "title": {
            "standoff": 15
           },
           "zerolinecolor": "white",
           "zerolinewidth": 2
          },
          "yaxis": {
           "automargin": true,
           "gridcolor": "white",
           "linecolor": "white",
           "ticks": "",
           "title": {
            "standoff": 15
           },
           "zerolinecolor": "white",
           "zerolinewidth": 2
          }
         }
        },
        "violinmode": "overlay",
        "xaxis": {
         "anchor": "y",
         "domain": [
          0,
          1
         ],
         "title": {
          "text": "BMI"
         }
        },
        "yaxis": {
         "anchor": "x",
         "categoryarray": [
          "F",
          "C",
          "G"
         ],
         "categoryorder": "array",
         "domain": [
          0,
          1
         ],
         "title": {
          "text": "PositionCategory"
         }
        }
       }
      },
      "text/html": [
       "<div>\n",
       "        \n",
       "        \n",
       "            <div id=\"dd823d6f-26bf-47dc-ad7f-29aaa7f217c0\" class=\"plotly-graph-div\" style=\"height:525px; width:100%;\"></div>\n",
       "            <script type=\"text/javascript\">\n",
       "                require([\"plotly\"], function(Plotly) {\n",
       "                    window.PLOTLYENV=window.PLOTLYENV || {};\n",
       "                    \n",
       "                if (document.getElementById(\"dd823d6f-26bf-47dc-ad7f-29aaa7f217c0\")) {\n",
       "                    Plotly.newPlot(\n",
       "                        'dd823d6f-26bf-47dc-ad7f-29aaa7f217c0',\n",
       "                        [{\"alignmentgroup\": \"True\", \"box\": {\"visible\": true}, \"hovertemplate\": \"PositionCategory=%{y}<br>BMI=%{x}<extra></extra>\", \"legendgroup\": \"G\", \"marker\": {\"color\": \"#636efa\"}, \"name\": \"G\", \"offsetgroup\": \"G\", \"orientation\": \"h\", \"scalegroup\": \"True\", \"showlegend\": true, \"type\": \"violin\", \"x\": [25.87, 25.56, 23.12, 23.8, 25.42, 26.58, 23.09, 26.87, 25.62, 23.12, 24.84, 20.8, 22.53, 25.91, 25.68, 24.61, 23.87, 23.75, 25.82, 26.09, 23.75, 25.42, 22.5, 27.5, 25.03, 25.0, 23.88, 24.37, 22.69, 23.73, 24.64, 25.03, 26.78, 25.49, 23.09, 25.42, 24.84, 26.09, 25.0, 23.75, 23.09, 21.94, 25.0, 24.37, 25.92, 24.95, 23.37, 25.19, 23.5, 23.36, 24.95, 23.73, 23.75, 23.11, 25.65, 24.19, 25.52, 25.49, 25.56, 25.09, 24.73, 22.85, 25.37, 23.75, 28.23, 24.37, 23.65, 25.0, 26.0, 21.34, 21.46, 26.25, 23.73, 26.38, 23.12, 23.75, 24.17, 24.83, 25.06, 21.94, 26.58, 23.75, 23.75, 24.78, 25.0, 27.39, 23.49, 24.43, 26.25, 25.06, 21.22, 29.21, 23.75, 24.95, 25.09, 26.17, 25.62, 25.77, 26.78, 22.76, 21.91, 20.39, 27.15, 22.75, 24.37, 24.14, 25.42, 24.37, 23.65, 26.32, 24.9, 21.4, 22.05, 25.97, 23.95, 21.95, 23.12, 26.12, 26.32, 24.34, 25.0, 24.43, 21.95, 28.36, 25.62, 25.49, 23.12, 24.9, 25.97, 26.17, 23.49, 23.86, 24.39, 21.34, 24.89, 23.12, 24.41, 25.91, 24.1, 23.75, 21.4, 25.06, 21.34, 23.12, 25.62, 25.09, 25.92, 22.62, 24.19, 25.72, 19.77, 23.12, 26.25, 23.25, 27.6, 24.78, 26.38, 25.68, 25.06, 24.31, 25.56, 23.75, 25.34, 24.22, 23.62, 24.39, 24.39, 25.14, 25.8, 24.41, 24.27, 24.54, 24.84, 25.0, 21.75, 25.34, 25.33, 22.53, 26.29, 23.73, 23.12, 24.31, 23.83, 23.07, 27.89, 24.71, 23.61, 28.48, 23.12, 26.09, 21.4, 28.58, 25.49, 25.11, 22.5, 24.9, 24.46, 23.48, 25.62, 22.03, 24.43, 25.77, 26.87, 22.52, 25.49, 26.05, 26.58, 26.12, 24.4, 23.75, 24.67, 23.12, 22.53, 25.49, 24.31, 23.23, 25.0], \"x0\": \" \", \"xaxis\": \"x\", \"y\": [\"G\", \"G\", \"G\", \"G\", \"G\", \"G\", \"G\", \"G\", \"G\", \"G\", \"G\", \"G\", \"G\", \"G\", \"G\", \"G\", \"G\", \"G\", \"G\", \"G\", \"G\", \"G\", \"G\", \"G\", \"G\", \"G\", \"G\", \"G\", \"G\", \"G\", \"G\", \"G\", \"G\", \"G\", \"G\", \"G\", \"G\", \"G\", \"G\", \"G\", \"G\", \"G\", \"G\", \"G\", \"G\", \"G\", \"G\", \"G\", \"G\", \"G\", \"G\", \"G\", \"G\", \"G\", \"G\", \"G\", \"G\", \"G\", \"G\", \"G\", \"G\", \"G\", \"G\", \"G\", \"G\", \"G\", \"G\", \"G\", \"G\", \"G\", \"G\", \"G\", \"G\", \"G\", \"G\", \"G\", \"G\", \"G\", \"G\", \"G\", \"G\", \"G\", \"G\", \"G\", \"G\", \"G\", \"G\", \"G\", \"G\", \"G\", \"G\", \"G\", \"G\", \"G\", \"G\", \"G\", \"G\", \"G\", \"G\", \"G\", \"G\", \"G\", \"G\", \"G\", \"G\", \"G\", \"G\", \"G\", \"G\", \"G\", \"G\", \"G\", \"G\", \"G\", \"G\", \"G\", \"G\", \"G\", \"G\", \"G\", \"G\", \"G\", \"G\", \"G\", \"G\", \"G\", \"G\", \"G\", \"G\", \"G\", \"G\", \"G\", \"G\", \"G\", \"G\", \"G\", \"G\", \"G\", \"G\", \"G\", \"G\", \"G\", \"G\", \"G\", \"G\", \"G\", \"G\", \"G\", \"G\", \"G\", \"G\", \"G\", \"G\", \"G\", \"G\", \"G\", \"G\", \"G\", \"G\", \"G\", \"G\", \"G\", \"G\", \"G\", \"G\", \"G\", \"G\", \"G\", \"G\", \"G\", \"G\", \"G\", \"G\", \"G\", \"G\", \"G\", \"G\", \"G\", \"G\", \"G\", \"G\", \"G\", \"G\", \"G\", \"G\", \"G\", \"G\", \"G\", \"G\", \"G\", \"G\", \"G\", \"G\", \"G\", \"G\", \"G\", \"G\", \"G\", \"G\", \"G\", \"G\", \"G\", \"G\", \"G\", \"G\", \"G\", \"G\", \"G\", \"G\", \"G\", \"G\", \"G\", \"G\", \"G\", \"G\", \"G\", \"G\"], \"y0\": \" \", \"yaxis\": \"y\"}, {\"alignmentgroup\": \"True\", \"box\": {\"visible\": true}, \"hovertemplate\": \"PositionCategory=%{y}<br>BMI=%{x}<extra></extra>\", \"legendgroup\": \"C\", \"marker\": {\"color\": \"#EF553B\"}, \"name\": \"C\", \"offsetgroup\": \"C\", \"orientation\": \"h\", \"scalegroup\": \"True\", \"showlegend\": true, \"type\": \"violin\", \"x\": [27.04, 23.47, 23.41, 27.71, 25.09, 25.41, 24.49, 27.22, 28.1, 25.92, 28.0, 25.9, 26.02, 27.18, 27.04, 26.79, 26.53, 24.41, 23.0, 27.9, 26.74, 23.91, 28.01, 26.35, 29.17, 28.89, 26.9, 26.14, 25.1, 24.91, 27.04, 26.4, 28.23, 25.51, 25.31, 28.3, 26.33, 23.91, 24.97, 22.02, 24.49, 23.84, 25.0, 23.91, 25.51, 27.32, 24.8, 24.59, 21.41, 25.93, 25.93, 25.51, 23.91, 26.25, 24.15, 25.51, 20.91, 28.29, 27.6, 23.29, 22.45, 21.43, 25.7, 23.41], \"x0\": \" \", \"xaxis\": \"x\", \"y\": [\"C\", \"C\", \"C\", \"C\", \"C\", \"C\", \"C\", \"C\", \"C\", \"C\", \"C\", \"C\", \"C\", \"C\", \"C\", \"C\", \"C\", \"C\", \"C\", \"C\", \"C\", \"C\", \"C\", \"C\", \"C\", \"C\", \"C\", \"C\", \"C\", \"C\", \"C\", \"C\", \"C\", \"C\", \"C\", \"C\", \"C\", \"C\", \"C\", \"C\", \"C\", \"C\", \"C\", \"C\", \"C\", \"C\", \"C\", \"C\", \"C\", \"C\", \"C\", \"C\", \"C\", \"C\", \"C\", \"C\", \"C\", \"C\", \"C\", \"C\", \"C\", \"C\", \"C\", \"C\"], \"y0\": \" \", \"yaxis\": \"y\"}, {\"alignmentgroup\": \"True\", \"box\": {\"visible\": true}, \"hovertemplate\": \"PositionCategory=%{y}<br>BMI=%{x}<extra></extra>\", \"legendgroup\": \"F\", \"marker\": {\"color\": \"#00cc96\"}, \"name\": \"F\", \"offsetgroup\": \"F\", \"orientation\": \"h\", \"scalegroup\": \"True\", \"showlegend\": true, \"type\": \"violin\", \"x\": [25.81, 27.03, 23.36, 26.45, 26.58, 24.71, 24.84, 24.7, 25.18, 25.01, 23.47, 27.39, 26.91, 24.86, 25.34, 24.17, 25.09, 23.62, 19.93, 27.15, 26.79, 27.57, 25.42, 25.81, 24.82, 24.84, 28.95, 25.72, 26.7, 25.09, 24.84, 25.51, 25.81, 24.93, 25.34, 24.64, 26.79, 24.82, 23.09, 25.81, 24.78, 26.0, 23.36, 27.46, 23.07, 26.11, 24.17, 26.58, 26.03, 26.87, 25.81, 26.14, 24.31, 22.19, 24.36, 25.81, 25.34, 28.39, 24.78, 26.91, 26.36, 29.05, 24.17, 27.46, 23.41, 25.81, 25.09, 23.69, 23.54, 24.57, 22.87, 23.91, 23.71, 25.65, 22.29, 25.07, 26.87, 26.14, 25.91, 27.96, 24.46, 25.07, 27.03, 23.79, 27.6, 25.97, 25.31, 22.37, 23.65, 23.52, 23.52, 21.4, 25.72, 24.57, 24.56, 26.78, 27.81, 24.06, 22.96, 25.91, 24.64, 26.68, 24.78, 23.68, 22.74, 23.07, 23.47, 23.91, 25.18, 26.13, 23.21, 24.15, 24.78, 23.73, 27.86, 24.28, 25.54, 27.73, 25.92, 25.34, 21.43, 23.76, 25.26, 26.91, 24.22, 27.51, 22.79, 24.7, 28.93, 24.15, 26.0, 23.65, 26.91, 22.93, 20.91, 22.48, 24.43, 24.11, 25.0, 23.88, 25.15, 24.64, 24.27, 24.43, 21.97, 26.0, 27.27, 24.95, 32.82, 24.73, 22.45, 25.26, 23.95, 27.27, 25.26, 23.62, 22.85, 23.73, 21.94, 24.31, 25.26, 29.46, 22.48, 26.79, 25.72, 26.09, 25.54, 21.43, 26.09, 23.73, 24.57, 24.46, 29.64, 24.43, 23.65, 26.36, 23.65, 28.01, 23.09, 22.53, 26.13, 22.74, 25.29, 24.46], \"x0\": \" \", \"xaxis\": \"x\", \"y\": [\"F\", \"F\", \"F\", \"F\", \"F\", \"F\", \"F\", \"F\", \"F\", \"F\", \"F\", \"F\", \"F\", \"F\", \"F\", \"F\", \"F\", \"F\", \"F\", \"F\", \"F\", \"F\", \"F\", \"F\", \"F\", \"F\", \"F\", \"F\", \"F\", \"F\", \"F\", \"F\", \"F\", \"F\", \"F\", \"F\", \"F\", \"F\", \"F\", \"F\", \"F\", \"F\", \"F\", \"F\", \"F\", \"F\", \"F\", \"F\", \"F\", \"F\", \"F\", \"F\", \"F\", \"F\", \"F\", \"F\", \"F\", \"F\", \"F\", \"F\", \"F\", \"F\", \"F\", \"F\", \"F\", \"F\", \"F\", \"F\", \"F\", \"F\", \"F\", \"F\", \"F\", \"F\", \"F\", \"F\", \"F\", \"F\", \"F\", \"F\", \"F\", \"F\", \"F\", \"F\", \"F\", \"F\", \"F\", \"F\", \"F\", \"F\", \"F\", \"F\", \"F\", \"F\", \"F\", \"F\", \"F\", \"F\", \"F\", \"F\", \"F\", \"F\", \"F\", \"F\", \"F\", \"F\", \"F\", \"F\", \"F\", \"F\", \"F\", \"F\", \"F\", \"F\", \"F\", \"F\", \"F\", \"F\", \"F\", \"F\", \"F\", \"F\", \"F\", \"F\", \"F\", \"F\", \"F\", \"F\", \"F\", \"F\", \"F\", \"F\", \"F\", \"F\", \"F\", \"F\", \"F\", \"F\", \"F\", \"F\", \"F\", \"F\", \"F\", \"F\", \"F\", \"F\", \"F\", \"F\", \"F\", \"F\", \"F\", \"F\", \"F\", \"F\", \"F\", \"F\", \"F\", \"F\", \"F\", \"F\", \"F\", \"F\", \"F\", \"F\", \"F\", \"F\", \"F\", \"F\", \"F\", \"F\", \"F\", \"F\", \"F\", \"F\", \"F\", \"F\", \"F\", \"F\", \"F\", \"F\", \"F\", \"F\", \"F\", \"F\"], \"y0\": \" \", \"yaxis\": \"y\"}],\n",
       "                        {\"legend\": {\"title\": {\"text\": \"PositionCategory\"}, \"tracegroupgap\": 0}, \"margin\": {\"t\": 60}, \"template\": {\"data\": {\"bar\": [{\"error_x\": {\"color\": \"#2a3f5f\"}, \"error_y\": {\"color\": \"#2a3f5f\"}, \"marker\": {\"line\": {\"color\": \"#E5ECF6\", \"width\": 0.5}}, \"type\": \"bar\"}], \"barpolar\": [{\"marker\": {\"line\": {\"color\": \"#E5ECF6\", \"width\": 0.5}}, \"type\": \"barpolar\"}], \"carpet\": [{\"aaxis\": {\"endlinecolor\": \"#2a3f5f\", \"gridcolor\": \"white\", \"linecolor\": \"white\", \"minorgridcolor\": \"white\", \"startlinecolor\": \"#2a3f5f\"}, \"baxis\": {\"endlinecolor\": \"#2a3f5f\", \"gridcolor\": \"white\", \"linecolor\": \"white\", \"minorgridcolor\": \"white\", \"startlinecolor\": \"#2a3f5f\"}, \"type\": \"carpet\"}], \"choropleth\": [{\"colorbar\": {\"outlinewidth\": 0, \"ticks\": \"\"}, \"type\": \"choropleth\"}], \"contour\": [{\"colorbar\": {\"outlinewidth\": 0, \"ticks\": \"\"}, \"colorscale\": [[0.0, \"#0d0887\"], [0.1111111111111111, \"#46039f\"], [0.2222222222222222, \"#7201a8\"], [0.3333333333333333, \"#9c179e\"], [0.4444444444444444, \"#bd3786\"], [0.5555555555555556, \"#d8576b\"], [0.6666666666666666, \"#ed7953\"], [0.7777777777777778, \"#fb9f3a\"], [0.8888888888888888, \"#fdca26\"], [1.0, \"#f0f921\"]], \"type\": \"contour\"}], \"contourcarpet\": [{\"colorbar\": {\"outlinewidth\": 0, \"ticks\": \"\"}, \"type\": \"contourcarpet\"}], \"heatmap\": [{\"colorbar\": {\"outlinewidth\": 0, \"ticks\": \"\"}, \"colorscale\": [[0.0, \"#0d0887\"], [0.1111111111111111, \"#46039f\"], [0.2222222222222222, \"#7201a8\"], [0.3333333333333333, \"#9c179e\"], [0.4444444444444444, \"#bd3786\"], [0.5555555555555556, \"#d8576b\"], [0.6666666666666666, \"#ed7953\"], [0.7777777777777778, \"#fb9f3a\"], [0.8888888888888888, \"#fdca26\"], [1.0, \"#f0f921\"]], \"type\": \"heatmap\"}], \"heatmapgl\": [{\"colorbar\": {\"outlinewidth\": 0, \"ticks\": \"\"}, \"colorscale\": [[0.0, \"#0d0887\"], [0.1111111111111111, \"#46039f\"], [0.2222222222222222, \"#7201a8\"], [0.3333333333333333, \"#9c179e\"], [0.4444444444444444, \"#bd3786\"], [0.5555555555555556, \"#d8576b\"], [0.6666666666666666, \"#ed7953\"], [0.7777777777777778, \"#fb9f3a\"], [0.8888888888888888, \"#fdca26\"], [1.0, \"#f0f921\"]], \"type\": \"heatmapgl\"}], \"histogram\": [{\"marker\": {\"colorbar\": {\"outlinewidth\": 0, \"ticks\": \"\"}}, \"type\": \"histogram\"}], \"histogram2d\": [{\"colorbar\": {\"outlinewidth\": 0, \"ticks\": \"\"}, \"colorscale\": [[0.0, \"#0d0887\"], [0.1111111111111111, \"#46039f\"], [0.2222222222222222, \"#7201a8\"], [0.3333333333333333, \"#9c179e\"], [0.4444444444444444, \"#bd3786\"], [0.5555555555555556, \"#d8576b\"], [0.6666666666666666, \"#ed7953\"], [0.7777777777777778, \"#fb9f3a\"], [0.8888888888888888, \"#fdca26\"], [1.0, \"#f0f921\"]], \"type\": \"histogram2d\"}], \"histogram2dcontour\": [{\"colorbar\": {\"outlinewidth\": 0, \"ticks\": \"\"}, \"colorscale\": [[0.0, \"#0d0887\"], [0.1111111111111111, \"#46039f\"], [0.2222222222222222, \"#7201a8\"], [0.3333333333333333, \"#9c179e\"], [0.4444444444444444, \"#bd3786\"], [0.5555555555555556, \"#d8576b\"], [0.6666666666666666, \"#ed7953\"], [0.7777777777777778, \"#fb9f3a\"], [0.8888888888888888, \"#fdca26\"], [1.0, \"#f0f921\"]], \"type\": \"histogram2dcontour\"}], \"mesh3d\": [{\"colorbar\": {\"outlinewidth\": 0, \"ticks\": \"\"}, \"type\": \"mesh3d\"}], \"parcoords\": [{\"line\": {\"colorbar\": {\"outlinewidth\": 0, \"ticks\": \"\"}}, \"type\": \"parcoords\"}], \"pie\": [{\"automargin\": true, \"type\": \"pie\"}], \"scatter\": [{\"marker\": {\"colorbar\": {\"outlinewidth\": 0, \"ticks\": \"\"}}, \"type\": \"scatter\"}], \"scatter3d\": [{\"line\": {\"colorbar\": {\"outlinewidth\": 0, \"ticks\": \"\"}}, \"marker\": {\"colorbar\": {\"outlinewidth\": 0, \"ticks\": \"\"}}, \"type\": \"scatter3d\"}], \"scattercarpet\": [{\"marker\": {\"colorbar\": {\"outlinewidth\": 0, \"ticks\": \"\"}}, \"type\": \"scattercarpet\"}], \"scattergeo\": [{\"marker\": {\"colorbar\": {\"outlinewidth\": 0, \"ticks\": \"\"}}, \"type\": \"scattergeo\"}], \"scattergl\": [{\"marker\": {\"colorbar\": {\"outlinewidth\": 0, \"ticks\": \"\"}}, \"type\": \"scattergl\"}], \"scattermapbox\": [{\"marker\": {\"colorbar\": {\"outlinewidth\": 0, \"ticks\": \"\"}}, \"type\": \"scattermapbox\"}], \"scatterpolar\": [{\"marker\": {\"colorbar\": {\"outlinewidth\": 0, \"ticks\": \"\"}}, \"type\": \"scatterpolar\"}], \"scatterpolargl\": [{\"marker\": {\"colorbar\": {\"outlinewidth\": 0, \"ticks\": \"\"}}, \"type\": \"scatterpolargl\"}], \"scatterternary\": [{\"marker\": {\"colorbar\": {\"outlinewidth\": 0, \"ticks\": \"\"}}, \"type\": \"scatterternary\"}], \"surface\": [{\"colorbar\": {\"outlinewidth\": 0, \"ticks\": \"\"}, \"colorscale\": [[0.0, \"#0d0887\"], [0.1111111111111111, \"#46039f\"], [0.2222222222222222, \"#7201a8\"], [0.3333333333333333, \"#9c179e\"], [0.4444444444444444, \"#bd3786\"], [0.5555555555555556, \"#d8576b\"], [0.6666666666666666, \"#ed7953\"], [0.7777777777777778, \"#fb9f3a\"], [0.8888888888888888, \"#fdca26\"], [1.0, \"#f0f921\"]], \"type\": \"surface\"}], \"table\": [{\"cells\": {\"fill\": {\"color\": \"#EBF0F8\"}, \"line\": {\"color\": \"white\"}}, \"header\": {\"fill\": {\"color\": \"#C8D4E3\"}, \"line\": {\"color\": \"white\"}}, \"type\": \"table\"}]}, \"layout\": {\"annotationdefaults\": {\"arrowcolor\": \"#2a3f5f\", \"arrowhead\": 0, \"arrowwidth\": 1}, \"coloraxis\": {\"colorbar\": {\"outlinewidth\": 0, \"ticks\": \"\"}}, \"colorscale\": {\"diverging\": [[0, \"#8e0152\"], [0.1, \"#c51b7d\"], [0.2, \"#de77ae\"], [0.3, \"#f1b6da\"], [0.4, \"#fde0ef\"], [0.5, \"#f7f7f7\"], [0.6, \"#e6f5d0\"], [0.7, \"#b8e186\"], [0.8, \"#7fbc41\"], [0.9, \"#4d9221\"], [1, \"#276419\"]], \"sequential\": [[0.0, \"#0d0887\"], [0.1111111111111111, \"#46039f\"], [0.2222222222222222, \"#7201a8\"], [0.3333333333333333, \"#9c179e\"], [0.4444444444444444, \"#bd3786\"], [0.5555555555555556, \"#d8576b\"], [0.6666666666666666, \"#ed7953\"], [0.7777777777777778, \"#fb9f3a\"], [0.8888888888888888, \"#fdca26\"], [1.0, \"#f0f921\"]], \"sequentialminus\": [[0.0, \"#0d0887\"], [0.1111111111111111, \"#46039f\"], [0.2222222222222222, \"#7201a8\"], [0.3333333333333333, \"#9c179e\"], [0.4444444444444444, \"#bd3786\"], [0.5555555555555556, \"#d8576b\"], [0.6666666666666666, \"#ed7953\"], [0.7777777777777778, \"#fb9f3a\"], [0.8888888888888888, \"#fdca26\"], [1.0, \"#f0f921\"]]}, \"colorway\": [\"#636efa\", \"#EF553B\", \"#00cc96\", \"#ab63fa\", \"#FFA15A\", \"#19d3f3\", \"#FF6692\", \"#B6E880\", \"#FF97FF\", \"#FECB52\"], \"font\": {\"color\": \"#2a3f5f\"}, \"geo\": {\"bgcolor\": \"white\", \"lakecolor\": \"white\", \"landcolor\": \"#E5ECF6\", \"showlakes\": true, \"showland\": true, \"subunitcolor\": \"white\"}, \"hoverlabel\": {\"align\": \"left\"}, \"hovermode\": \"closest\", \"mapbox\": {\"style\": \"light\"}, \"paper_bgcolor\": \"white\", \"plot_bgcolor\": \"#E5ECF6\", \"polar\": {\"angularaxis\": {\"gridcolor\": \"white\", \"linecolor\": \"white\", \"ticks\": \"\"}, \"bgcolor\": \"#E5ECF6\", \"radialaxis\": {\"gridcolor\": \"white\", \"linecolor\": \"white\", \"ticks\": \"\"}}, \"scene\": {\"xaxis\": {\"backgroundcolor\": \"#E5ECF6\", \"gridcolor\": \"white\", \"gridwidth\": 2, \"linecolor\": \"white\", \"showbackground\": true, \"ticks\": \"\", \"zerolinecolor\": \"white\"}, \"yaxis\": {\"backgroundcolor\": \"#E5ECF6\", \"gridcolor\": \"white\", \"gridwidth\": 2, \"linecolor\": \"white\", \"showbackground\": true, \"ticks\": \"\", \"zerolinecolor\": \"white\"}, \"zaxis\": {\"backgroundcolor\": \"#E5ECF6\", \"gridcolor\": \"white\", \"gridwidth\": 2, \"linecolor\": \"white\", \"showbackground\": true, \"ticks\": \"\", \"zerolinecolor\": \"white\"}}, \"shapedefaults\": {\"line\": {\"color\": \"#2a3f5f\"}}, \"ternary\": {\"aaxis\": {\"gridcolor\": \"white\", \"linecolor\": \"white\", \"ticks\": \"\"}, \"baxis\": {\"gridcolor\": \"white\", \"linecolor\": \"white\", \"ticks\": \"\"}, \"bgcolor\": \"#E5ECF6\", \"caxis\": {\"gridcolor\": \"white\", \"linecolor\": \"white\", \"ticks\": \"\"}}, \"title\": {\"x\": 0.05}, \"xaxis\": {\"automargin\": true, \"gridcolor\": \"white\", \"linecolor\": \"white\", \"ticks\": \"\", \"title\": {\"standoff\": 15}, \"zerolinecolor\": \"white\", \"zerolinewidth\": 2}, \"yaxis\": {\"automargin\": true, \"gridcolor\": \"white\", \"linecolor\": \"white\", \"ticks\": \"\", \"title\": {\"standoff\": 15}, \"zerolinecolor\": \"white\", \"zerolinewidth\": 2}}}, \"violinmode\": \"overlay\", \"xaxis\": {\"anchor\": \"y\", \"domain\": [0.0, 1.0], \"title\": {\"text\": \"BMI\"}}, \"yaxis\": {\"anchor\": \"x\", \"categoryarray\": [\"F\", \"C\", \"G\"], \"categoryorder\": \"array\", \"domain\": [0.0, 1.0], \"title\": {\"text\": \"PositionCategory\"}}},\n",
       "                        {\"responsive\": true}\n",
       "                    ).then(function(){\n",
       "                            \n",
       "var gd = document.getElementById('dd823d6f-26bf-47dc-ad7f-29aaa7f217c0');\n",
       "var x = new MutationObserver(function (mutations, observer) {{\n",
       "        var display = window.getComputedStyle(gd).display;\n",
       "        if (!display || display === 'none') {{\n",
       "            console.log([gd, 'removed!']);\n",
       "            Plotly.purge(gd);\n",
       "            observer.disconnect();\n",
       "        }}\n",
       "}});\n",
       "\n",
       "// Listen for the removal of the full notebook cells\n",
       "var notebookContainer = gd.closest('#notebook-container');\n",
       "if (notebookContainer) {{\n",
       "    x.observe(notebookContainer, {childList: true});\n",
       "}}\n",
       "\n",
       "// Listen for the clearing of the current output cell\n",
       "var outputEl = gd.closest('.output');\n",
       "if (outputEl) {{\n",
       "    x.observe(outputEl, {childList: true});\n",
       "}}\n",
       "\n",
       "                        })\n",
       "                };\n",
       "                });\n",
       "            </script>\n",
       "        </div>"
      ]
     },
     "metadata": {},
     "output_type": "display_data"
    }
   ],
   "source": [
    "px.violin(combined, y='PositionCategory', x='BMI', color='PositionCategory', box=True)"
   ]
  },
  {
   "cell_type": "code",
   "execution_count": null,
   "metadata": {},
   "outputs": [],
   "source": []
  },
  {
   "cell_type": "code",
   "execution_count": null,
   "metadata": {},
   "outputs": [],
   "source": []
  }
 ],
 "metadata": {
  "kernelspec": {
   "display_name": "Python 3",
   "language": "python",
   "name": "python3"
  },
  "language_info": {
   "codemirror_mode": {
    "name": "ipython",
    "version": 3
   },
   "file_extension": ".py",
   "mimetype": "text/x-python",
   "name": "python",
   "nbconvert_exporter": "python",
   "pygments_lexer": "ipython3",
   "version": "3.7.1"
  }
 },
 "nbformat": 4,
 "nbformat_minor": 4
}
