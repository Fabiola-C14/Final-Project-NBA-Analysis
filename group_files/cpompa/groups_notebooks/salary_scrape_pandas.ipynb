{
 "cells": [
  {
   "cell_type": "code",
   "execution_count": 1,
   "metadata": {
    "ExecuteTime": {
     "end_time": "2020-09-23T06:20:40.322971Z",
     "start_time": "2020-09-23T06:20:39.975761Z"
    }
   },
   "outputs": [],
   "source": [
    "# Import libraries\n",
    "import pandas as pd"
   ]
  },
  {
   "cell_type": "markdown",
   "metadata": {},
   "source": [
    "### Scrape 2020 Player Salaries"
   ]
  },
  {
   "cell_type": "code",
   "execution_count": 2,
   "metadata": {
    "ExecuteTime": {
     "end_time": "2020-09-23T06:20:43.244077Z",
     "start_time": "2020-09-23T06:20:40.726683Z"
    }
   },
   "outputs": [],
   "source": [
    "# Loop through all pages for URL and scrape tables\n",
    "\n",
    "# Set range for pages\n",
    "pages = []\n",
    "\n",
    "for i in range(2, 19):\n",
    "    pages.append(i)\n",
    "\n",
    "# Scrape tables for 2020 page 1\n",
    "url_2020 = 'http://www.espn.com/nba/salaries/_/seasontype/3'\n",
    "tables_2020 = pd.read_html(url_2020)[0]\n",
    "tables_2020['year'] = '2020'\n",
    "\n",
    "# # Set variable for dataframe\n",
    "tables_2020_pgs_df = pd.DataFrame()\n",
    "\n",
    "# # Set URL variable for all other pages\n",
    "for page in pages:\n",
    "    url_2020_pgs = f'http://www.espn.com/nba/salaries/_/page/{page}/seasontype/3'\n",
    "    tables_2020_pgs = pd.read_html(url_2020_pgs)[0]\n",
    "    tables_2020_pgs['year'] = '2020'\n",
    "    tables_2020_pgs_df = pd.concat(axis = 0, objs=[tables_2020_pgs, tables_2020_pgs_df])\n",
    "    "
   ]
  },
  {
   "cell_type": "code",
   "execution_count": 3,
   "metadata": {
    "ExecuteTime": {
     "end_time": "2020-09-23T06:20:43.259952Z",
     "start_time": "2020-09-23T06:20:43.244963Z"
    }
   },
   "outputs": [
    {
     "data": {
      "text/plain": [
       "44"
      ]
     },
     "execution_count": 3,
     "metadata": {},
     "output_type": "execute_result"
    }
   ],
   "source": [
    "len(tables_2020)"
   ]
  },
  {
   "cell_type": "code",
   "execution_count": 4,
   "metadata": {
    "ExecuteTime": {
     "end_time": "2020-09-23T06:20:43.274906Z",
     "start_time": "2020-09-23T06:20:43.261917Z"
    }
   },
   "outputs": [
    {
     "data": {
      "text/plain": [
       "541"
      ]
     },
     "execution_count": 4,
     "metadata": {},
     "output_type": "execute_result"
    }
   ],
   "source": [
    "len(tables_2020_pgs_df)"
   ]
  },
  {
   "cell_type": "markdown",
   "metadata": {},
   "source": [
    "### Scrape all other years"
   ]
  },
  {
   "cell_type": "code",
   "execution_count": 5,
   "metadata": {
    "ExecuteTime": {
     "end_time": "2020-09-23T06:20:44.945355Z",
     "start_time": "2020-09-23T06:20:44.936402Z"
    }
   },
   "outputs": [
    {
     "data": {
      "text/plain": [
       "[2000,\n",
       " 2001,\n",
       " 2002,\n",
       " 2003,\n",
       " 2004,\n",
       " 2005,\n",
       " 2006,\n",
       " 2007,\n",
       " 2008,\n",
       " 2009,\n",
       " 2010,\n",
       " 2011,\n",
       " 2012,\n",
       " 2013,\n",
       " 2014,\n",
       " 2015,\n",
       " 2016,\n",
       " 2017,\n",
       " 2018,\n",
       " 2019]"
      ]
     },
     "execution_count": 5,
     "metadata": {},
     "output_type": "execute_result"
    }
   ],
   "source": [
    "years = []\n",
    "\n",
    "for i in range(2000, 2020):\n",
    "    years.append(i)\n",
    "years"
   ]
  },
  {
   "cell_type": "code",
   "execution_count": 6,
   "metadata": {
    "ExecuteTime": {
     "end_time": "2020-09-23T06:21:00.965673Z",
     "start_time": "2020-09-23T06:20:47.236254Z"
    }
   },
   "outputs": [],
   "source": [
    "# tables_all_others = []\n",
    "tables_all_others_df = pd.DataFrame()\n",
    "\n",
    "# Scrape tables for all other years - page 1\n",
    "for year in years:\n",
    "    url_all_others = f'http://www.espn.com/nba/salaries/_/year/{year}/seasontype/3'\n",
    "    tables_all_others = pd.read_html(url_all_others)[0]\n",
    "    tables_all_others['year'] = year\n",
    "    tables_all_others_df = pd.concat(axis = 0, objs=[tables_all_others, tables_all_others_df])\n",
    "\n"
   ]
  },
  {
   "cell_type": "code",
   "execution_count": 8,
   "metadata": {
    "ExecuteTime": {
     "end_time": "2020-09-23T06:22:08.817023Z",
     "start_time": "2020-09-23T06:22:08.800081Z"
    }
   },
   "outputs": [
    {
     "data": {
      "text/plain": [
       "880"
      ]
     },
     "execution_count": 8,
     "metadata": {},
     "output_type": "execute_result"
    }
   ],
   "source": [
    "len(tables_all_others_df)"
   ]
  },
  {
   "cell_type": "code",
   "execution_count": 9,
   "metadata": {
    "ExecuteTime": {
     "end_time": "2020-09-23T06:23:44.774584Z",
     "start_time": "2020-09-23T06:22:09.029681Z"
    }
   },
   "outputs": [],
   "source": [
    "years = []\n",
    "\n",
    "for i in range(2000, 2020):\n",
    "    years.append(i)\n",
    "\n",
    "tables_all_others_pgs_df = pd.DataFrame()\n",
    "\n",
    "# Scrape tables for all other years - all other pages\n",
    "for year in years:\n",
    "    for page in pages:\n",
    "        url_all_others_pgs = f'http://www.espn.com/nba/salaries/_/year/{year}/page/{page}/seasontype/3'\n",
    "        tables_all_others_pgs = pd.read_html(url_all_others_pgs)[0]\n",
    "        tables_all_others_pgs['year'] = year\n",
    "        tables_all_others_pgs_df = pd.concat(axis = 0, objs=[tables_all_others_pgs, tables_all_others_pgs_df])\n"
   ]
  },
  {
   "cell_type": "code",
   "execution_count": 10,
   "metadata": {
    "ExecuteTime": {
     "end_time": "2020-09-23T06:23:44.790454Z",
     "start_time": "2020-09-23T06:23:44.775493Z"
    }
   },
   "outputs": [
    {
     "data": {
      "text/plain": [
       "9077"
      ]
     },
     "execution_count": 10,
     "metadata": {},
     "output_type": "execute_result"
    }
   ],
   "source": [
    "len(tables_all_others_pgs_df)"
   ]
  },
  {
   "cell_type": "code",
   "execution_count": 11,
   "metadata": {
    "ExecuteTime": {
     "end_time": "2020-09-23T06:23:44.806383Z",
     "start_time": "2020-09-23T06:23:44.791439Z"
    }
   },
   "outputs": [
    {
     "data": {
      "text/plain": [
       "10542"
      ]
     },
     "execution_count": 11,
     "metadata": {},
     "output_type": "execute_result"
    }
   ],
   "source": [
    "# Concat all dataframes\n",
    "all_salaries_df = pd.concat(axis = 0, objs=[tables_2020, tables_2020_pgs_df, tables_all_others_df, tables_all_others_pgs_df])\n",
    "len(all_salaries_df)"
   ]
  },
  {
   "cell_type": "code",
   "execution_count": 14,
   "metadata": {
    "ExecuteTime": {
     "end_time": "2020-09-23T06:24:43.944137Z",
     "start_time": "2020-09-23T06:24:43.874764Z"
    }
   },
   "outputs": [
    {
     "name": "stderr",
     "output_type": "stream",
     "text": [
      "C:\\Users\\pompa\\anaconda3\\envs\\usc_bootcamp\\lib\\site-packages\\ipykernel_launcher.py:14: FutureWarning: Columnar iteration over characters will be deprecated in future releases.\n",
      "  \n"
     ]
    }
   ],
   "source": [
    "# Clean dataframe\n",
    "\n",
    "# Add column headers\n",
    "all_salaries_df.columns = ['Rank', 'Player_Position', 'Team', 'Salary', 'Year']\n",
    "\n",
    "# Drop na\n",
    "all_salaries_df = all_salaries_df.dropna()\n",
    "\n",
    "# Drop extra rows\n",
    "drop_row = all_salaries_df[ (all_salaries_df['Rank'] == 'RK') & (all_salaries_df['Player_Position'] == 'NAME') & (all_salaries_df['Team'] == 'TEAM') & (all_salaries_df['Salary'] == 'SALARY')].index\n",
    "all_salaries_df.drop(drop_row, inplace=True)\n",
    "\n",
    "# Split Player_Position into 2 columns\n",
    "all_salaries_df['Player'], all_salaries_df['Position'] = all_salaries_df['Player_Position'].str.split(',', 1).str\n",
    "\n",
    "\n",
    "\n",
    "# Convert salary to interger\n",
    "all_salaries_df['Salary'] = all_salaries_df['Salary'].replace('[\\$,]','',regex=True).astype(int)\n",
    "all_salaries_df['Rank'] = all_salaries_df['Rank'].astype(int)\n",
    "all_salaries_df['Year'] = all_salaries_df['Year'].astype(int)"
   ]
  },
  {
   "cell_type": "code",
   "execution_count": 18,
   "metadata": {
    "ExecuteTime": {
     "end_time": "2020-09-23T06:25:14.183164Z",
     "start_time": "2020-09-23T06:25:14.167207Z"
    }
   },
   "outputs": [
    {
     "data": {
      "text/plain": [
       "9456"
      ]
     },
     "execution_count": 18,
     "metadata": {},
     "output_type": "execute_result"
    }
   ],
   "source": [
    "len(all_salaries_df)"
   ]
  },
  {
   "cell_type": "code",
   "execution_count": 19,
   "metadata": {
    "ExecuteTime": {
     "end_time": "2020-09-23T06:25:14.647691Z",
     "start_time": "2020-09-23T06:25:14.590812Z"
    },
    "collapsed": true
   },
   "outputs": [
    {
     "ename": "KeyError",
     "evalue": "\"['Player_Position'] not found in axis\"",
     "output_type": "error",
     "traceback": [
      "\u001b[1;31m---------------------------------------------------------------------------\u001b[0m",
      "\u001b[1;31mKeyError\u001b[0m                                  Traceback (most recent call last)",
      "\u001b[1;32m<ipython-input-19-d319a789ad85>\u001b[0m in \u001b[0;36m<module>\u001b[1;34m\u001b[0m\n\u001b[0;32m      1\u001b[0m \u001b[1;31m# Drop Player_Position column\u001b[0m\u001b[1;33m\u001b[0m\u001b[1;33m\u001b[0m\u001b[1;33m\u001b[0m\u001b[0m\n\u001b[1;32m----> 2\u001b[1;33m \u001b[0mall_salaries_df\u001b[0m \u001b[1;33m=\u001b[0m \u001b[0mall_salaries_df\u001b[0m\u001b[1;33m.\u001b[0m\u001b[0mdrop\u001b[0m\u001b[1;33m(\u001b[0m\u001b[1;34m'Player_Position'\u001b[0m\u001b[1;33m,\u001b[0m \u001b[0maxis\u001b[0m \u001b[1;33m=\u001b[0m \u001b[1;36m1\u001b[0m\u001b[1;33m)\u001b[0m\u001b[1;33m\u001b[0m\u001b[1;33m\u001b[0m\u001b[0m\n\u001b[0m",
      "\u001b[1;32m~\\anaconda3\\envs\\usc_bootcamp\\lib\\site-packages\\pandas\\core\\frame.py\u001b[0m in \u001b[0;36mdrop\u001b[1;34m(self, labels, axis, index, columns, level, inplace, errors)\u001b[0m\n\u001b[0;32m   4165\u001b[0m             \u001b[0mlevel\u001b[0m\u001b[1;33m=\u001b[0m\u001b[0mlevel\u001b[0m\u001b[1;33m,\u001b[0m\u001b[1;33m\u001b[0m\u001b[1;33m\u001b[0m\u001b[0m\n\u001b[0;32m   4166\u001b[0m             \u001b[0minplace\u001b[0m\u001b[1;33m=\u001b[0m\u001b[0minplace\u001b[0m\u001b[1;33m,\u001b[0m\u001b[1;33m\u001b[0m\u001b[1;33m\u001b[0m\u001b[0m\n\u001b[1;32m-> 4167\u001b[1;33m             \u001b[0merrors\u001b[0m\u001b[1;33m=\u001b[0m\u001b[0merrors\u001b[0m\u001b[1;33m,\u001b[0m\u001b[1;33m\u001b[0m\u001b[1;33m\u001b[0m\u001b[0m\n\u001b[0m\u001b[0;32m   4168\u001b[0m         )\n\u001b[0;32m   4169\u001b[0m \u001b[1;33m\u001b[0m\u001b[0m\n",
      "\u001b[1;32m~\\anaconda3\\envs\\usc_bootcamp\\lib\\site-packages\\pandas\\core\\generic.py\u001b[0m in \u001b[0;36mdrop\u001b[1;34m(self, labels, axis, index, columns, level, inplace, errors)\u001b[0m\n\u001b[0;32m   3876\u001b[0m         \u001b[1;32mfor\u001b[0m \u001b[0maxis\u001b[0m\u001b[1;33m,\u001b[0m \u001b[0mlabels\u001b[0m \u001b[1;32min\u001b[0m \u001b[0maxes\u001b[0m\u001b[1;33m.\u001b[0m\u001b[0mitems\u001b[0m\u001b[1;33m(\u001b[0m\u001b[1;33m)\u001b[0m\u001b[1;33m:\u001b[0m\u001b[1;33m\u001b[0m\u001b[1;33m\u001b[0m\u001b[0m\n\u001b[0;32m   3877\u001b[0m             \u001b[1;32mif\u001b[0m \u001b[0mlabels\u001b[0m \u001b[1;32mis\u001b[0m \u001b[1;32mnot\u001b[0m \u001b[1;32mNone\u001b[0m\u001b[1;33m:\u001b[0m\u001b[1;33m\u001b[0m\u001b[1;33m\u001b[0m\u001b[0m\n\u001b[1;32m-> 3878\u001b[1;33m                 \u001b[0mobj\u001b[0m \u001b[1;33m=\u001b[0m \u001b[0mobj\u001b[0m\u001b[1;33m.\u001b[0m\u001b[0m_drop_axis\u001b[0m\u001b[1;33m(\u001b[0m\u001b[0mlabels\u001b[0m\u001b[1;33m,\u001b[0m \u001b[0maxis\u001b[0m\u001b[1;33m,\u001b[0m \u001b[0mlevel\u001b[0m\u001b[1;33m=\u001b[0m\u001b[0mlevel\u001b[0m\u001b[1;33m,\u001b[0m \u001b[0merrors\u001b[0m\u001b[1;33m=\u001b[0m\u001b[0merrors\u001b[0m\u001b[1;33m)\u001b[0m\u001b[1;33m\u001b[0m\u001b[1;33m\u001b[0m\u001b[0m\n\u001b[0m\u001b[0;32m   3879\u001b[0m \u001b[1;33m\u001b[0m\u001b[0m\n\u001b[0;32m   3880\u001b[0m         \u001b[1;32mif\u001b[0m \u001b[0minplace\u001b[0m\u001b[1;33m:\u001b[0m\u001b[1;33m\u001b[0m\u001b[1;33m\u001b[0m\u001b[0m\n",
      "\u001b[1;32m~\\anaconda3\\envs\\usc_bootcamp\\lib\\site-packages\\pandas\\core\\generic.py\u001b[0m in \u001b[0;36m_drop_axis\u001b[1;34m(self, labels, axis, level, errors)\u001b[0m\n\u001b[0;32m   3910\u001b[0m                 \u001b[0mnew_axis\u001b[0m \u001b[1;33m=\u001b[0m \u001b[0maxis\u001b[0m\u001b[1;33m.\u001b[0m\u001b[0mdrop\u001b[0m\u001b[1;33m(\u001b[0m\u001b[0mlabels\u001b[0m\u001b[1;33m,\u001b[0m \u001b[0mlevel\u001b[0m\u001b[1;33m=\u001b[0m\u001b[0mlevel\u001b[0m\u001b[1;33m,\u001b[0m \u001b[0merrors\u001b[0m\u001b[1;33m=\u001b[0m\u001b[0merrors\u001b[0m\u001b[1;33m)\u001b[0m\u001b[1;33m\u001b[0m\u001b[1;33m\u001b[0m\u001b[0m\n\u001b[0;32m   3911\u001b[0m             \u001b[1;32melse\u001b[0m\u001b[1;33m:\u001b[0m\u001b[1;33m\u001b[0m\u001b[1;33m\u001b[0m\u001b[0m\n\u001b[1;32m-> 3912\u001b[1;33m                 \u001b[0mnew_axis\u001b[0m \u001b[1;33m=\u001b[0m \u001b[0maxis\u001b[0m\u001b[1;33m.\u001b[0m\u001b[0mdrop\u001b[0m\u001b[1;33m(\u001b[0m\u001b[0mlabels\u001b[0m\u001b[1;33m,\u001b[0m \u001b[0merrors\u001b[0m\u001b[1;33m=\u001b[0m\u001b[0merrors\u001b[0m\u001b[1;33m)\u001b[0m\u001b[1;33m\u001b[0m\u001b[1;33m\u001b[0m\u001b[0m\n\u001b[0m\u001b[0;32m   3913\u001b[0m             \u001b[0mresult\u001b[0m \u001b[1;33m=\u001b[0m \u001b[0mself\u001b[0m\u001b[1;33m.\u001b[0m\u001b[0mreindex\u001b[0m\u001b[1;33m(\u001b[0m\u001b[1;33m**\u001b[0m\u001b[1;33m{\u001b[0m\u001b[0maxis_name\u001b[0m\u001b[1;33m:\u001b[0m \u001b[0mnew_axis\u001b[0m\u001b[1;33m}\u001b[0m\u001b[1;33m)\u001b[0m\u001b[1;33m\u001b[0m\u001b[1;33m\u001b[0m\u001b[0m\n\u001b[0;32m   3914\u001b[0m \u001b[1;33m\u001b[0m\u001b[0m\n",
      "\u001b[1;32m~\\anaconda3\\envs\\usc_bootcamp\\lib\\site-packages\\pandas\\core\\indexes\\base.py\u001b[0m in \u001b[0;36mdrop\u001b[1;34m(self, labels, errors)\u001b[0m\n\u001b[0;32m   5274\u001b[0m         \u001b[1;32mif\u001b[0m \u001b[0mmask\u001b[0m\u001b[1;33m.\u001b[0m\u001b[0many\u001b[0m\u001b[1;33m(\u001b[0m\u001b[1;33m)\u001b[0m\u001b[1;33m:\u001b[0m\u001b[1;33m\u001b[0m\u001b[1;33m\u001b[0m\u001b[0m\n\u001b[0;32m   5275\u001b[0m             \u001b[1;32mif\u001b[0m \u001b[0merrors\u001b[0m \u001b[1;33m!=\u001b[0m \u001b[1;34m\"ignore\"\u001b[0m\u001b[1;33m:\u001b[0m\u001b[1;33m\u001b[0m\u001b[1;33m\u001b[0m\u001b[0m\n\u001b[1;32m-> 5276\u001b[1;33m                 \u001b[1;32mraise\u001b[0m \u001b[0mKeyError\u001b[0m\u001b[1;33m(\u001b[0m\u001b[1;34mf\"{labels[mask]} not found in axis\"\u001b[0m\u001b[1;33m)\u001b[0m\u001b[1;33m\u001b[0m\u001b[1;33m\u001b[0m\u001b[0m\n\u001b[0m\u001b[0;32m   5277\u001b[0m             \u001b[0mindexer\u001b[0m \u001b[1;33m=\u001b[0m \u001b[0mindexer\u001b[0m\u001b[1;33m[\u001b[0m\u001b[1;33m~\u001b[0m\u001b[0mmask\u001b[0m\u001b[1;33m]\u001b[0m\u001b[1;33m\u001b[0m\u001b[1;33m\u001b[0m\u001b[0m\n\u001b[0;32m   5278\u001b[0m         \u001b[1;32mreturn\u001b[0m \u001b[0mself\u001b[0m\u001b[1;33m.\u001b[0m\u001b[0mdelete\u001b[0m\u001b[1;33m(\u001b[0m\u001b[0mindexer\u001b[0m\u001b[1;33m)\u001b[0m\u001b[1;33m\u001b[0m\u001b[1;33m\u001b[0m\u001b[0m\n",
      "\u001b[1;31mKeyError\u001b[0m: \"['Player_Position'] not found in axis\""
     ]
    }
   ],
   "source": [
    "# Drop Player_Position column\n",
    "all_salaries_df = all_salaries_df.drop('Player_Position', axis = 1)\n"
   ]
  },
  {
   "cell_type": "code",
   "execution_count": 20,
   "metadata": {
    "ExecuteTime": {
     "end_time": "2020-09-23T06:25:18.301546Z",
     "start_time": "2020-09-23T06:25:18.282619Z"
    }
   },
   "outputs": [],
   "source": [
    "all_salaries_df = all_salaries_df.sort_values(['Year', 'Rank'], ascending = (False, True))\n",
    "                                              "
   ]
  },
  {
   "cell_type": "markdown",
   "metadata": {},
   "source": [
    "## Adjust salary for inflation"
   ]
  },
  {
   "cell_type": "code",
   "execution_count": 21,
   "metadata": {
    "ExecuteTime": {
     "end_time": "2020-09-23T06:27:16.381243Z",
     "start_time": "2020-09-23T06:27:16.364261Z"
    }
   },
   "outputs": [],
   "source": [
    "# !pip install cpi"
   ]
  },
  {
   "cell_type": "code",
   "execution_count": 22,
   "metadata": {
    "ExecuteTime": {
     "end_time": "2020-09-23T06:27:35.487558Z",
     "start_time": "2020-09-23T06:27:19.137768Z"
    }
   },
   "outputs": [
    {
     "name": "stderr",
     "output_type": "stream",
     "text": [
      "C:\\Users\\pompa\\anaconda3\\envs\\usc_bootcamp\\lib\\site-packages\\cpi\\__init__.py:46: StaleDataWarning: CPI data is out of date. To accurately inflate to today's dollars, you must run `cpi.update()`.\n",
      "  warnings.warn(StaleDataWarning())\n"
     ]
    }
   ],
   "source": [
    "import cpi\n"
   ]
  },
  {
   "cell_type": "code",
   "execution_count": 23,
   "metadata": {
    "ExecuteTime": {
     "end_time": "2020-09-23T06:27:35.502805Z",
     "start_time": "2020-09-23T06:27:35.488517Z"
    }
   },
   "outputs": [],
   "source": [
    "adjusted_salaries_df = all_salaries_df.loc[(all_salaries_df['Year'] != 2020)&(all_salaries_df['Year'] != 2019)]\n"
   ]
  },
  {
   "cell_type": "code",
   "execution_count": 24,
   "metadata": {
    "ExecuteTime": {
     "end_time": "2020-09-23T06:27:35.723465Z",
     "start_time": "2020-09-23T06:27:35.503713Z"
    }
   },
   "outputs": [
    {
     "name": "stderr",
     "output_type": "stream",
     "text": [
      "C:\\Users\\pompa\\anaconda3\\envs\\usc_bootcamp\\lib\\site-packages\\ipykernel_launcher.py:1: SettingWithCopyWarning: \n",
      "A value is trying to be set on a copy of a slice from a DataFrame.\n",
      "Try using .loc[row_indexer,col_indexer] = value instead\n",
      "\n",
      "See the caveats in the documentation: https://pandas.pydata.org/pandas-docs/stable/user_guide/indexing.html#returning-a-view-versus-a-copy\n",
      "  \"\"\"Entry point for launching an IPython kernel.\n"
     ]
    }
   ],
   "source": [
    "adjusted_salaries_df['Inflation'] = adjusted_salaries_df.apply(lambda x: cpi.inflate(x.Salary, x.Year), axis=1)\n"
   ]
  },
  {
   "cell_type": "code",
   "execution_count": 25,
   "metadata": {
    "ExecuteTime": {
     "end_time": "2020-09-23T06:27:39.979826Z",
     "start_time": "2020-09-23T06:27:39.961886Z"
    }
   },
   "outputs": [
    {
     "name": "stderr",
     "output_type": "stream",
     "text": [
      "C:\\Users\\pompa\\anaconda3\\envs\\usc_bootcamp\\lib\\site-packages\\ipykernel_launcher.py:1: SettingWithCopyWarning: \n",
      "A value is trying to be set on a copy of a slice from a DataFrame.\n",
      "Try using .loc[row_indexer,col_indexer] = value instead\n",
      "\n",
      "See the caveats in the documentation: https://pandas.pydata.org/pandas-docs/stable/user_guide/indexing.html#returning-a-view-versus-a-copy\n",
      "  \"\"\"Entry point for launching an IPython kernel.\n"
     ]
    },
    {
     "data": {
      "text/html": [
       "<div>\n",
       "<style scoped>\n",
       "    .dataframe tbody tr th:only-of-type {\n",
       "        vertical-align: middle;\n",
       "    }\n",
       "\n",
       "    .dataframe tbody tr th {\n",
       "        vertical-align: top;\n",
       "    }\n",
       "\n",
       "    .dataframe thead th {\n",
       "        text-align: right;\n",
       "    }\n",
       "</style>\n",
       "<table border=\"1\" class=\"dataframe\">\n",
       "  <thead>\n",
       "    <tr style=\"text-align: right;\">\n",
       "      <th></th>\n",
       "      <th>Rank</th>\n",
       "      <th>Team</th>\n",
       "      <th>Salary</th>\n",
       "      <th>Year</th>\n",
       "      <th>Player</th>\n",
       "      <th>Position</th>\n",
       "      <th>Inflation</th>\n",
       "    </tr>\n",
       "  </thead>\n",
       "  <tbody>\n",
       "    <tr>\n",
       "      <th>36</th>\n",
       "      <td>153</td>\n",
       "      <td>Indiana Pacers</td>\n",
       "      <td>745000</td>\n",
       "      <td>2000</td>\n",
       "      <td>Al Harrington</td>\n",
       "      <td>PF</td>\n",
       "      <td>1086380</td>\n",
       "    </tr>\n",
       "    <tr>\n",
       "      <th>37</th>\n",
       "      <td>154</td>\n",
       "      <td>Miami Heat</td>\n",
       "      <td>728000</td>\n",
       "      <td>2000</td>\n",
       "      <td>Tim James</td>\n",
       "      <td>F</td>\n",
       "      <td>1061590</td>\n",
       "    </tr>\n",
       "    <tr>\n",
       "      <th>38</th>\n",
       "      <td>155</td>\n",
       "      <td>Philadelphia 76ers</td>\n",
       "      <td>684000</td>\n",
       "      <td>2000</td>\n",
       "      <td>Jumaine Jones</td>\n",
       "      <td>SF</td>\n",
       "      <td>997428</td>\n",
       "    </tr>\n",
       "    <tr>\n",
       "      <th>39</th>\n",
       "      <td>156</td>\n",
       "      <td>Utah Jazz</td>\n",
       "      <td>679000</td>\n",
       "      <td>2000</td>\n",
       "      <td>Scott Padgett</td>\n",
       "      <td>PF</td>\n",
       "      <td>990137</td>\n",
       "    </tr>\n",
       "    <tr>\n",
       "      <th>40</th>\n",
       "      <td>157</td>\n",
       "      <td>Milwaukee Bucks</td>\n",
       "      <td>301000</td>\n",
       "      <td>2000</td>\n",
       "      <td>Rafer Alston</td>\n",
       "      <td>PG</td>\n",
       "      <td>438926</td>\n",
       "    </tr>\n",
       "  </tbody>\n",
       "</table>\n",
       "</div>"
      ],
      "text/plain": [
       "    Rank                Team  Salary  Year         Player Position  Inflation\n",
       "36   153      Indiana Pacers  745000  2000  Al Harrington       PF    1086380\n",
       "37   154          Miami Heat  728000  2000      Tim James        F    1061590\n",
       "38   155  Philadelphia 76ers  684000  2000  Jumaine Jones       SF     997428\n",
       "39   156           Utah Jazz  679000  2000  Scott Padgett       PF     990137\n",
       "40   157     Milwaukee Bucks  301000  2000   Rafer Alston       PG     438926"
      ]
     },
     "execution_count": 25,
     "metadata": {},
     "output_type": "execute_result"
    }
   ],
   "source": [
    "adjusted_salaries_df['Inflation'] = adjusted_salaries_df['Inflation'].astype(int)\n",
    "adjusted_salaries_df.tail()"
   ]
  },
  {
   "cell_type": "code",
   "execution_count": 26,
   "metadata": {
    "ExecuteTime": {
     "end_time": "2020-09-23T06:28:04.339185Z",
     "start_time": "2020-09-23T06:28:04.321202Z"
    }
   },
   "outputs": [
    {
     "name": "stderr",
     "output_type": "stream",
     "text": [
      "C:\\Users\\pompa\\anaconda3\\envs\\usc_bootcamp\\lib\\site-packages\\ipykernel_launcher.py:2: SettingWithCopyWarning: \n",
      "A value is trying to be set on a copy of a slice from a DataFrame.\n",
      "Try using .loc[row_indexer,col_indexer] = value instead\n",
      "\n",
      "See the caveats in the documentation: https://pandas.pydata.org/pandas-docs/stable/user_guide/indexing.html#returning-a-view-versus-a-copy\n",
      "  \n"
     ]
    }
   ],
   "source": [
    "current_salaries_df = all_salaries_df.loc[(all_salaries_df['Year'] == 2020)|(all_salaries_df['Year'] == 2019)]\n",
    "current_salaries_df['Inflation'] = current_salaries_df['Salary']\n"
   ]
  },
  {
   "cell_type": "code",
   "execution_count": 30,
   "metadata": {
    "ExecuteTime": {
     "end_time": "2020-09-23T06:28:49.973382Z",
     "start_time": "2020-09-23T06:28:49.959393Z"
    }
   },
   "outputs": [],
   "source": [
    "final_salaries_df = pd.concat([current_salaries_df, adjusted_salaries_df], axis=0).reset_index(drop=True)"
   ]
  },
  {
   "cell_type": "code",
   "execution_count": 31,
   "metadata": {
    "ExecuteTime": {
     "end_time": "2020-09-23T06:28:51.414743Z",
     "start_time": "2020-09-23T06:28:51.389809Z"
    }
   },
   "outputs": [
    {
     "data": {
      "text/html": [
       "<div>\n",
       "<style scoped>\n",
       "    .dataframe tbody tr th:only-of-type {\n",
       "        vertical-align: middle;\n",
       "    }\n",
       "\n",
       "    .dataframe tbody tr th {\n",
       "        vertical-align: top;\n",
       "    }\n",
       "\n",
       "    .dataframe thead th {\n",
       "        text-align: right;\n",
       "    }\n",
       "</style>\n",
       "<table border=\"1\" class=\"dataframe\">\n",
       "  <thead>\n",
       "    <tr style=\"text-align: right;\">\n",
       "      <th></th>\n",
       "      <th>Rank</th>\n",
       "      <th>Team</th>\n",
       "      <th>Salary</th>\n",
       "      <th>Year</th>\n",
       "      <th>Player</th>\n",
       "      <th>Position</th>\n",
       "      <th>Inflation</th>\n",
       "    </tr>\n",
       "  </thead>\n",
       "  <tbody>\n",
       "    <tr>\n",
       "      <th>0</th>\n",
       "      <td>1</td>\n",
       "      <td>Golden State Warriors</td>\n",
       "      <td>40231758</td>\n",
       "      <td>2020</td>\n",
       "      <td>Stephen Curry</td>\n",
       "      <td>PG</td>\n",
       "      <td>40231758</td>\n",
       "    </tr>\n",
       "    <tr>\n",
       "      <th>1</th>\n",
       "      <td>2</td>\n",
       "      <td>Oklahoma City Thunder</td>\n",
       "      <td>38506482</td>\n",
       "      <td>2020</td>\n",
       "      <td>Chris Paul</td>\n",
       "      <td>PG</td>\n",
       "      <td>38506482</td>\n",
       "    </tr>\n",
       "    <tr>\n",
       "      <th>2</th>\n",
       "      <td>3</td>\n",
       "      <td>Houston Rockets</td>\n",
       "      <td>38506482</td>\n",
       "      <td>2020</td>\n",
       "      <td>Russell Westbrook</td>\n",
       "      <td>PG</td>\n",
       "      <td>38506482</td>\n",
       "    </tr>\n",
       "    <tr>\n",
       "      <th>3</th>\n",
       "      <td>4</td>\n",
       "      <td>Washington Wizards</td>\n",
       "      <td>38199000</td>\n",
       "      <td>2020</td>\n",
       "      <td>John Wall</td>\n",
       "      <td>PG</td>\n",
       "      <td>38199000</td>\n",
       "    </tr>\n",
       "    <tr>\n",
       "      <th>4</th>\n",
       "      <td>5</td>\n",
       "      <td>Brooklyn Nets</td>\n",
       "      <td>38199000</td>\n",
       "      <td>2020</td>\n",
       "      <td>Kevin Durant</td>\n",
       "      <td>SF</td>\n",
       "      <td>38199000</td>\n",
       "    </tr>\n",
       "    <tr>\n",
       "      <th>...</th>\n",
       "      <td>...</td>\n",
       "      <td>...</td>\n",
       "      <td>...</td>\n",
       "      <td>...</td>\n",
       "      <td>...</td>\n",
       "      <td>...</td>\n",
       "      <td>...</td>\n",
       "    </tr>\n",
       "    <tr>\n",
       "      <th>9451</th>\n",
       "      <td>153</td>\n",
       "      <td>Indiana Pacers</td>\n",
       "      <td>745000</td>\n",
       "      <td>2000</td>\n",
       "      <td>Al Harrington</td>\n",
       "      <td>PF</td>\n",
       "      <td>1086380</td>\n",
       "    </tr>\n",
       "    <tr>\n",
       "      <th>9452</th>\n",
       "      <td>154</td>\n",
       "      <td>Miami Heat</td>\n",
       "      <td>728000</td>\n",
       "      <td>2000</td>\n",
       "      <td>Tim James</td>\n",
       "      <td>F</td>\n",
       "      <td>1061590</td>\n",
       "    </tr>\n",
       "    <tr>\n",
       "      <th>9453</th>\n",
       "      <td>155</td>\n",
       "      <td>Philadelphia 76ers</td>\n",
       "      <td>684000</td>\n",
       "      <td>2000</td>\n",
       "      <td>Jumaine Jones</td>\n",
       "      <td>SF</td>\n",
       "      <td>997428</td>\n",
       "    </tr>\n",
       "    <tr>\n",
       "      <th>9454</th>\n",
       "      <td>156</td>\n",
       "      <td>Utah Jazz</td>\n",
       "      <td>679000</td>\n",
       "      <td>2000</td>\n",
       "      <td>Scott Padgett</td>\n",
       "      <td>PF</td>\n",
       "      <td>990137</td>\n",
       "    </tr>\n",
       "    <tr>\n",
       "      <th>9455</th>\n",
       "      <td>157</td>\n",
       "      <td>Milwaukee Bucks</td>\n",
       "      <td>301000</td>\n",
       "      <td>2000</td>\n",
       "      <td>Rafer Alston</td>\n",
       "      <td>PG</td>\n",
       "      <td>438926</td>\n",
       "    </tr>\n",
       "  </tbody>\n",
       "</table>\n",
       "<p>9456 rows × 7 columns</p>\n",
       "</div>"
      ],
      "text/plain": [
       "      Rank                   Team    Salary  Year             Player Position  \\\n",
       "0        1  Golden State Warriors  40231758  2020      Stephen Curry       PG   \n",
       "1        2  Oklahoma City Thunder  38506482  2020         Chris Paul       PG   \n",
       "2        3        Houston Rockets  38506482  2020  Russell Westbrook       PG   \n",
       "3        4     Washington Wizards  38199000  2020          John Wall       PG   \n",
       "4        5          Brooklyn Nets  38199000  2020       Kevin Durant       SF   \n",
       "...    ...                    ...       ...   ...                ...      ...   \n",
       "9451   153         Indiana Pacers    745000  2000      Al Harrington       PF   \n",
       "9452   154             Miami Heat    728000  2000          Tim James        F   \n",
       "9453   155     Philadelphia 76ers    684000  2000      Jumaine Jones       SF   \n",
       "9454   156              Utah Jazz    679000  2000      Scott Padgett       PF   \n",
       "9455   157        Milwaukee Bucks    301000  2000       Rafer Alston       PG   \n",
       "\n",
       "      Inflation  \n",
       "0      40231758  \n",
       "1      38506482  \n",
       "2      38506482  \n",
       "3      38199000  \n",
       "4      38199000  \n",
       "...         ...  \n",
       "9451    1086380  \n",
       "9452    1061590  \n",
       "9453     997428  \n",
       "9454     990137  \n",
       "9455     438926  \n",
       "\n",
       "[9456 rows x 7 columns]"
      ]
     },
     "execution_count": 31,
     "metadata": {},
     "output_type": "execute_result"
    }
   ],
   "source": [
    "final_salaries_df"
   ]
  },
  {
   "cell_type": "code",
   "execution_count": 34,
   "metadata": {
    "ExecuteTime": {
     "end_time": "2020-09-23T06:30:16.664588Z",
     "start_time": "2020-09-23T06:30:16.644645Z"
    }
   },
   "outputs": [
    {
     "data": {
      "text/html": [
       "<div>\n",
       "<style scoped>\n",
       "    .dataframe tbody tr th:only-of-type {\n",
       "        vertical-align: middle;\n",
       "    }\n",
       "\n",
       "    .dataframe tbody tr th {\n",
       "        vertical-align: top;\n",
       "    }\n",
       "\n",
       "    .dataframe thead th {\n",
       "        text-align: right;\n",
       "    }\n",
       "</style>\n",
       "<table border=\"1\" class=\"dataframe\">\n",
       "  <thead>\n",
       "    <tr style=\"text-align: right;\">\n",
       "      <th></th>\n",
       "      <th>Year</th>\n",
       "      <th>Rank</th>\n",
       "      <th>Player</th>\n",
       "      <th>Position</th>\n",
       "      <th>Salary</th>\n",
       "      <th>Inflation</th>\n",
       "    </tr>\n",
       "  </thead>\n",
       "  <tbody>\n",
       "    <tr>\n",
       "      <th>0</th>\n",
       "      <td>2020</td>\n",
       "      <td>1</td>\n",
       "      <td>Stephen Curry</td>\n",
       "      <td>PG</td>\n",
       "      <td>40231758</td>\n",
       "      <td>40231758</td>\n",
       "    </tr>\n",
       "    <tr>\n",
       "      <th>1</th>\n",
       "      <td>2020</td>\n",
       "      <td>2</td>\n",
       "      <td>Chris Paul</td>\n",
       "      <td>PG</td>\n",
       "      <td>38506482</td>\n",
       "      <td>38506482</td>\n",
       "    </tr>\n",
       "    <tr>\n",
       "      <th>2</th>\n",
       "      <td>2020</td>\n",
       "      <td>3</td>\n",
       "      <td>Russell Westbrook</td>\n",
       "      <td>PG</td>\n",
       "      <td>38506482</td>\n",
       "      <td>38506482</td>\n",
       "    </tr>\n",
       "    <tr>\n",
       "      <th>3</th>\n",
       "      <td>2020</td>\n",
       "      <td>4</td>\n",
       "      <td>John Wall</td>\n",
       "      <td>PG</td>\n",
       "      <td>38199000</td>\n",
       "      <td>38199000</td>\n",
       "    </tr>\n",
       "    <tr>\n",
       "      <th>4</th>\n",
       "      <td>2020</td>\n",
       "      <td>5</td>\n",
       "      <td>Kevin Durant</td>\n",
       "      <td>SF</td>\n",
       "      <td>38199000</td>\n",
       "      <td>38199000</td>\n",
       "    </tr>\n",
       "    <tr>\n",
       "      <th>...</th>\n",
       "      <td>...</td>\n",
       "      <td>...</td>\n",
       "      <td>...</td>\n",
       "      <td>...</td>\n",
       "      <td>...</td>\n",
       "      <td>...</td>\n",
       "    </tr>\n",
       "    <tr>\n",
       "      <th>9451</th>\n",
       "      <td>2000</td>\n",
       "      <td>153</td>\n",
       "      <td>Al Harrington</td>\n",
       "      <td>PF</td>\n",
       "      <td>745000</td>\n",
       "      <td>1086380</td>\n",
       "    </tr>\n",
       "    <tr>\n",
       "      <th>9452</th>\n",
       "      <td>2000</td>\n",
       "      <td>154</td>\n",
       "      <td>Tim James</td>\n",
       "      <td>F</td>\n",
       "      <td>728000</td>\n",
       "      <td>1061590</td>\n",
       "    </tr>\n",
       "    <tr>\n",
       "      <th>9453</th>\n",
       "      <td>2000</td>\n",
       "      <td>155</td>\n",
       "      <td>Jumaine Jones</td>\n",
       "      <td>SF</td>\n",
       "      <td>684000</td>\n",
       "      <td>997428</td>\n",
       "    </tr>\n",
       "    <tr>\n",
       "      <th>9454</th>\n",
       "      <td>2000</td>\n",
       "      <td>156</td>\n",
       "      <td>Scott Padgett</td>\n",
       "      <td>PF</td>\n",
       "      <td>679000</td>\n",
       "      <td>990137</td>\n",
       "    </tr>\n",
       "    <tr>\n",
       "      <th>9455</th>\n",
       "      <td>2000</td>\n",
       "      <td>157</td>\n",
       "      <td>Rafer Alston</td>\n",
       "      <td>PG</td>\n",
       "      <td>301000</td>\n",
       "      <td>438926</td>\n",
       "    </tr>\n",
       "  </tbody>\n",
       "</table>\n",
       "<p>9456 rows × 6 columns</p>\n",
       "</div>"
      ],
      "text/plain": [
       "      Year  Rank             Player Position    Salary  Inflation\n",
       "0     2020     1      Stephen Curry       PG  40231758   40231758\n",
       "1     2020     2         Chris Paul       PG  38506482   38506482\n",
       "2     2020     3  Russell Westbrook       PG  38506482   38506482\n",
       "3     2020     4          John Wall       PG  38199000   38199000\n",
       "4     2020     5       Kevin Durant       SF  38199000   38199000\n",
       "...    ...   ...                ...      ...       ...        ...\n",
       "9451  2000   153      Al Harrington       PF    745000    1086380\n",
       "9452  2000   154          Tim James        F    728000    1061590\n",
       "9453  2000   155      Jumaine Jones       SF    684000     997428\n",
       "9454  2000   156      Scott Padgett       PF    679000     990137\n",
       "9455  2000   157       Rafer Alston       PG    301000     438926\n",
       "\n",
       "[9456 rows x 6 columns]"
      ]
     },
     "execution_count": 34,
     "metadata": {},
     "output_type": "execute_result"
    }
   ],
   "source": [
    "final_salaries_df = final_salaries_df[['Year', 'Rank', 'Player', 'Position', 'Salary', 'Inflation']]\n",
    "final_salaries_df"
   ]
  },
  {
   "cell_type": "markdown",
   "metadata": {},
   "source": [
    "## Save to csv"
   ]
  },
  {
   "cell_type": "code",
   "execution_count": 35,
   "metadata": {
    "ExecuteTime": {
     "end_time": "2020-09-23T06:30:20.097461Z",
     "start_time": "2020-09-23T06:30:20.074514Z"
    }
   },
   "outputs": [],
   "source": [
    "final_salaries_df.to_csv('nba_salaries.csv', index=False)"
   ]
  },
  {
   "cell_type": "code",
   "execution_count": 36,
   "metadata": {
    "ExecuteTime": {
     "end_time": "2020-09-23T06:30:50.204108Z",
     "start_time": "2020-09-23T06:30:50.194108Z"
    }
   },
   "outputs": [
    {
     "data": {
      "text/html": [
       "<div>\n",
       "<style scoped>\n",
       "    .dataframe tbody tr th:only-of-type {\n",
       "        vertical-align: middle;\n",
       "    }\n",
       "\n",
       "    .dataframe tbody tr th {\n",
       "        vertical-align: top;\n",
       "    }\n",
       "\n",
       "    .dataframe thead th {\n",
       "        text-align: right;\n",
       "    }\n",
       "</style>\n",
       "<table border=\"1\" class=\"dataframe\">\n",
       "  <thead>\n",
       "    <tr style=\"text-align: right;\">\n",
       "      <th></th>\n",
       "      <th>Year</th>\n",
       "      <th>Rank</th>\n",
       "      <th>Player</th>\n",
       "      <th>Position</th>\n",
       "      <th>Salary</th>\n",
       "      <th>Inflation</th>\n",
       "    </tr>\n",
       "  </thead>\n",
       "  <tbody>\n",
       "    <tr>\n",
       "      <th>0</th>\n",
       "      <td>2020</td>\n",
       "      <td>1</td>\n",
       "      <td>Stephen Curry</td>\n",
       "      <td>PG</td>\n",
       "      <td>40231758</td>\n",
       "      <td>40231758</td>\n",
       "    </tr>\n",
       "    <tr>\n",
       "      <th>1</th>\n",
       "      <td>2020</td>\n",
       "      <td>2</td>\n",
       "      <td>Chris Paul</td>\n",
       "      <td>PG</td>\n",
       "      <td>38506482</td>\n",
       "      <td>38506482</td>\n",
       "    </tr>\n",
       "    <tr>\n",
       "      <th>2</th>\n",
       "      <td>2020</td>\n",
       "      <td>3</td>\n",
       "      <td>Russell Westbrook</td>\n",
       "      <td>PG</td>\n",
       "      <td>38506482</td>\n",
       "      <td>38506482</td>\n",
       "    </tr>\n",
       "    <tr>\n",
       "      <th>3</th>\n",
       "      <td>2020</td>\n",
       "      <td>4</td>\n",
       "      <td>John Wall</td>\n",
       "      <td>PG</td>\n",
       "      <td>38199000</td>\n",
       "      <td>38199000</td>\n",
       "    </tr>\n",
       "    <tr>\n",
       "      <th>4</th>\n",
       "      <td>2020</td>\n",
       "      <td>5</td>\n",
       "      <td>Kevin Durant</td>\n",
       "      <td>SF</td>\n",
       "      <td>38199000</td>\n",
       "      <td>38199000</td>\n",
       "    </tr>\n",
       "    <tr>\n",
       "      <th>...</th>\n",
       "      <td>...</td>\n",
       "      <td>...</td>\n",
       "      <td>...</td>\n",
       "      <td>...</td>\n",
       "      <td>...</td>\n",
       "      <td>...</td>\n",
       "    </tr>\n",
       "    <tr>\n",
       "      <th>9451</th>\n",
       "      <td>2000</td>\n",
       "      <td>153</td>\n",
       "      <td>Al Harrington</td>\n",
       "      <td>PF</td>\n",
       "      <td>745000</td>\n",
       "      <td>1086380</td>\n",
       "    </tr>\n",
       "    <tr>\n",
       "      <th>9452</th>\n",
       "      <td>2000</td>\n",
       "      <td>154</td>\n",
       "      <td>Tim James</td>\n",
       "      <td>F</td>\n",
       "      <td>728000</td>\n",
       "      <td>1061590</td>\n",
       "    </tr>\n",
       "    <tr>\n",
       "      <th>9453</th>\n",
       "      <td>2000</td>\n",
       "      <td>155</td>\n",
       "      <td>Jumaine Jones</td>\n",
       "      <td>SF</td>\n",
       "      <td>684000</td>\n",
       "      <td>997428</td>\n",
       "    </tr>\n",
       "    <tr>\n",
       "      <th>9454</th>\n",
       "      <td>2000</td>\n",
       "      <td>156</td>\n",
       "      <td>Scott Padgett</td>\n",
       "      <td>PF</td>\n",
       "      <td>679000</td>\n",
       "      <td>990137</td>\n",
       "    </tr>\n",
       "    <tr>\n",
       "      <th>9455</th>\n",
       "      <td>2000</td>\n",
       "      <td>157</td>\n",
       "      <td>Rafer Alston</td>\n",
       "      <td>PG</td>\n",
       "      <td>301000</td>\n",
       "      <td>438926</td>\n",
       "    </tr>\n",
       "  </tbody>\n",
       "</table>\n",
       "<p>9456 rows × 6 columns</p>\n",
       "</div>"
      ],
      "text/plain": [
       "      Year  Rank             Player Position    Salary  Inflation\n",
       "0     2020     1      Stephen Curry       PG  40231758   40231758\n",
       "1     2020     2         Chris Paul       PG  38506482   38506482\n",
       "2     2020     3  Russell Westbrook       PG  38506482   38506482\n",
       "3     2020     4          John Wall       PG  38199000   38199000\n",
       "4     2020     5       Kevin Durant       SF  38199000   38199000\n",
       "...    ...   ...                ...      ...       ...        ...\n",
       "9451  2000   153      Al Harrington       PF    745000    1086380\n",
       "9452  2000   154          Tim James        F    728000    1061590\n",
       "9453  2000   155      Jumaine Jones       SF    684000     997428\n",
       "9454  2000   156      Scott Padgett       PF    679000     990137\n",
       "9455  2000   157       Rafer Alston       PG    301000     438926\n",
       "\n",
       "[9456 rows x 6 columns]"
      ]
     },
     "execution_count": 36,
     "metadata": {},
     "output_type": "execute_result"
    }
   ],
   "source": [
    "final_salaries_df"
   ]
  },
  {
   "cell_type": "code",
   "execution_count": null,
   "metadata": {},
   "outputs": [],
   "source": []
  }
 ],
 "metadata": {
  "kernelspec": {
   "display_name": "Python 3",
   "language": "python",
   "name": "python3"
  },
  "language_info": {
   "codemirror_mode": {
    "name": "ipython",
    "version": 3
   },
   "file_extension": ".py",
   "mimetype": "text/x-python",
   "name": "python",
   "nbconvert_exporter": "python",
   "pygments_lexer": "ipython3",
   "version": "3.7.1"
  }
 },
 "nbformat": 4,
 "nbformat_minor": 4
}
