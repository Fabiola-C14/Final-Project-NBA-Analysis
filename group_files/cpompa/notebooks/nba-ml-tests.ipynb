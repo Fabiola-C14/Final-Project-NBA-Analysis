{
 "cells": [
  {
   "cell_type": "code",
   "execution_count": 8,
   "metadata": {
    "ExecuteTime": {
     "end_time": "2020-09-19T19:24:28.132937Z",
     "start_time": "2020-09-19T19:24:27.898256Z"
    }
   },
   "outputs": [],
   "source": [
    "%matplotlib inline\n",
    "import matplotlib.pyplot as plt\n",
    "import numpy as np\n",
    "import pandas as pd\n",
    "\n",
    "# Dependencies and Setup\n",
    "import time\n",
    "from pprint import pprint\n",
    "import requests\n",
    "from datetime import date, timedelta, datetime\n",
    "import json\n",
    "from pprint import pprint\n",
    "from tqdm import tqdm\n",
    "from tqdm import tqdm_notebook\n",
    "# sqlite Dependencies\n",
    "# ----------------------------------\n",
    "# Imports the method used for connecting to DBs\n",
    "from sqlalchemy import create_engine\n",
    "# Allow us to declare column types\n",
    "from sqlalchemy import Column, Integer, String, Text, DateTime, Float, Boolean, ForeignKey\n",
    "from sqlalchemy.orm import relationship\n",
    "from sqlalchemy.ext.declarative import declarative_base\n",
    "from sqlalchemy.orm import Session"
   ]
  },
  {
   "cell_type": "code",
   "execution_count": 9,
   "metadata": {
    "ExecuteTime": {
     "end_time": "2020-09-19T19:24:28.179743Z",
     "start_time": "2020-09-19T19:24:28.163787Z"
    }
   },
   "outputs": [],
   "source": [
    "from nba_api.stats.endpoints import playercareerstats, drafthistory, commonplayerinfo, playerawards"
   ]
  },
  {
   "cell_type": "code",
   "execution_count": 10,
   "metadata": {
    "ExecuteTime": {
     "end_time": "2020-09-19T19:24:28.678873Z",
     "start_time": "2020-09-19T19:24:28.667880Z"
    }
   },
   "outputs": [],
   "source": [
    "# Not used\n",
    "# cumestatsplayer,draftcombinedrillresults,playerdashboardbyteamperformance, leagueleaders, leaguedashplayerstats, draftcombinenonstationaryshooting, draftcombinestats, commonallplayers,"
   ]
  },
  {
   "cell_type": "markdown",
   "metadata": {},
   "source": [
    "-------------"
   ]
  },
  {
   "cell_type": "markdown",
   "metadata": {},
   "source": [
    "# Open Saved JSON"
   ]
  },
  {
   "cell_type": "code",
   "execution_count": 11,
   "metadata": {
    "ExecuteTime": {
     "end_time": "2020-09-19T19:24:28.909643Z",
     "start_time": "2020-09-19T19:24:28.776837Z"
    }
   },
   "outputs": [],
   "source": [
    "with open('./_players_all_data.json') as json_file:\n",
    "    data = json.load(json_file)"
   ]
  },
  {
   "cell_type": "code",
   "execution_count": 32,
   "metadata": {
    "ExecuteTime": {
     "end_time": "2020-09-19T19:29:12.146524Z",
     "start_time": "2020-09-19T19:29:12.132508Z"
    }
   },
   "outputs": [],
   "source": [
    "#  Player positions\n",
    "player_positions = pd.read_csv('../../datasets/nba_positions_no_team.csv') "
   ]
  },
  {
   "cell_type": "code",
   "execution_count": 33,
   "metadata": {
    "ExecuteTime": {
     "end_time": "2020-09-19T19:29:12.832073Z",
     "start_time": "2020-09-19T19:29:12.521744Z"
    }
   },
   "outputs": [
    {
     "data": {
      "text/html": [
       "<div>\n",
       "<style scoped>\n",
       "    .dataframe tbody tr th:only-of-type {\n",
       "        vertical-align: middle;\n",
       "    }\n",
       "\n",
       "    .dataframe tbody tr th {\n",
       "        vertical-align: top;\n",
       "    }\n",
       "\n",
       "    .dataframe thead th {\n",
       "        text-align: right;\n",
       "    }\n",
       "</style>\n",
       "<table border=\"1\" class=\"dataframe\">\n",
       "  <thead>\n",
       "    <tr style=\"text-align: right;\">\n",
       "      <th></th>\n",
       "      <th>PLAYER_ID</th>\n",
       "      <th>SEASON_ID</th>\n",
       "      <th>LEAGUE_ID</th>\n",
       "      <th>TEAM_ID</th>\n",
       "      <th>TEAM_ABBREVIATION</th>\n",
       "      <th>PLAYER_AGE</th>\n",
       "      <th>GP</th>\n",
       "      <th>GS</th>\n",
       "      <th>MIN</th>\n",
       "      <th>FGM</th>\n",
       "      <th>...</th>\n",
       "      <th>AST</th>\n",
       "      <th>STL</th>\n",
       "      <th>BLK</th>\n",
       "      <th>TOV</th>\n",
       "      <th>PF</th>\n",
       "      <th>PTS</th>\n",
       "      <th>YIL</th>\n",
       "      <th>PLAYER_NAME</th>\n",
       "      <th>POSITION</th>\n",
       "      <th>PPGP</th>\n",
       "    </tr>\n",
       "  </thead>\n",
       "  <tbody>\n",
       "    <tr>\n",
       "      <th>0</th>\n",
       "      <td>2544</td>\n",
       "      <td>2005-06</td>\n",
       "      <td>0</td>\n",
       "      <td>1610612739</td>\n",
       "      <td>CLE</td>\n",
       "      <td>21</td>\n",
       "      <td>79</td>\n",
       "      <td>79.0</td>\n",
       "      <td>3361.0</td>\n",
       "      <td>875</td>\n",
       "      <td>...</td>\n",
       "      <td>521</td>\n",
       "      <td>123.0</td>\n",
       "      <td>66.0</td>\n",
       "      <td>260.0</td>\n",
       "      <td>181</td>\n",
       "      <td>2478</td>\n",
       "      <td>3</td>\n",
       "      <td>LeBron James</td>\n",
       "      <td>SF</td>\n",
       "      <td>31.37</td>\n",
       "    </tr>\n",
       "    <tr>\n",
       "      <th>1</th>\n",
       "      <td>201142</td>\n",
       "      <td>2009-10</td>\n",
       "      <td>0</td>\n",
       "      <td>1610612760</td>\n",
       "      <td>OKC</td>\n",
       "      <td>21</td>\n",
       "      <td>82</td>\n",
       "      <td>82.0</td>\n",
       "      <td>3239.0</td>\n",
       "      <td>794</td>\n",
       "      <td>...</td>\n",
       "      <td>231</td>\n",
       "      <td>112.0</td>\n",
       "      <td>84.0</td>\n",
       "      <td>271.0</td>\n",
       "      <td>171</td>\n",
       "      <td>2472</td>\n",
       "      <td>3</td>\n",
       "      <td>Kevin Durant</td>\n",
       "      <td>SF</td>\n",
       "      <td>30.15</td>\n",
       "    </tr>\n",
       "    <tr>\n",
       "      <th>2</th>\n",
       "      <td>2240</td>\n",
       "      <td>2005-06</td>\n",
       "      <td>0</td>\n",
       "      <td>1610612764</td>\n",
       "      <td>WAS</td>\n",
       "      <td>24</td>\n",
       "      <td>80</td>\n",
       "      <td>80.0</td>\n",
       "      <td>3384.0</td>\n",
       "      <td>746</td>\n",
       "      <td>...</td>\n",
       "      <td>484</td>\n",
       "      <td>161.0</td>\n",
       "      <td>25.0</td>\n",
       "      <td>297.0</td>\n",
       "      <td>286</td>\n",
       "      <td>2346</td>\n",
       "      <td>5</td>\n",
       "      <td>Gilbert Arenas</td>\n",
       "      <td>PG</td>\n",
       "      <td>29.32</td>\n",
       "    </tr>\n",
       "    <tr>\n",
       "      <th>3</th>\n",
       "      <td>2544</td>\n",
       "      <td>2007-08</td>\n",
       "      <td>0</td>\n",
       "      <td>1610612739</td>\n",
       "      <td>CLE</td>\n",
       "      <td>23</td>\n",
       "      <td>75</td>\n",
       "      <td>74.0</td>\n",
       "      <td>3027.0</td>\n",
       "      <td>794</td>\n",
       "      <td>...</td>\n",
       "      <td>539</td>\n",
       "      <td>138.0</td>\n",
       "      <td>81.0</td>\n",
       "      <td>255.0</td>\n",
       "      <td>165</td>\n",
       "      <td>2250</td>\n",
       "      <td>5</td>\n",
       "      <td>LeBron James</td>\n",
       "      <td>SF</td>\n",
       "      <td>30.00</td>\n",
       "    </tr>\n",
       "    <tr>\n",
       "      <th>4</th>\n",
       "      <td>947</td>\n",
       "      <td>2000-01</td>\n",
       "      <td>0</td>\n",
       "      <td>1610612755</td>\n",
       "      <td>PHI</td>\n",
       "      <td>26</td>\n",
       "      <td>71</td>\n",
       "      <td>71.0</td>\n",
       "      <td>2976.0</td>\n",
       "      <td>762</td>\n",
       "      <td>...</td>\n",
       "      <td>325</td>\n",
       "      <td>178.0</td>\n",
       "      <td>20.0</td>\n",
       "      <td>237.0</td>\n",
       "      <td>147</td>\n",
       "      <td>2207</td>\n",
       "      <td>5</td>\n",
       "      <td>Allen Iverson</td>\n",
       "      <td>SG</td>\n",
       "      <td>31.08</td>\n",
       "    </tr>\n",
       "    <tr>\n",
       "      <th>...</th>\n",
       "      <td>...</td>\n",
       "      <td>...</td>\n",
       "      <td>...</td>\n",
       "      <td>...</td>\n",
       "      <td>...</td>\n",
       "      <td>...</td>\n",
       "      <td>...</td>\n",
       "      <td>...</td>\n",
       "      <td>...</td>\n",
       "      <td>...</td>\n",
       "      <td>...</td>\n",
       "      <td>...</td>\n",
       "      <td>...</td>\n",
       "      <td>...</td>\n",
       "      <td>...</td>\n",
       "      <td>...</td>\n",
       "      <td>...</td>\n",
       "      <td>...</td>\n",
       "      <td>...</td>\n",
       "      <td>...</td>\n",
       "      <td>...</td>\n",
       "    </tr>\n",
       "    <tr>\n",
       "      <th>5322</th>\n",
       "      <td>202918</td>\n",
       "      <td>2017-18</td>\n",
       "      <td>0</td>\n",
       "      <td>1610612738</td>\n",
       "      <td>BOS</td>\n",
       "      <td>30</td>\n",
       "      <td>2</td>\n",
       "      <td>0.0</td>\n",
       "      <td>8.0</td>\n",
       "      <td>0</td>\n",
       "      <td>...</td>\n",
       "      <td>0</td>\n",
       "      <td>1.0</td>\n",
       "      <td>0.0</td>\n",
       "      <td>0.0</td>\n",
       "      <td>1</td>\n",
       "      <td>0</td>\n",
       "      <td>2</td>\n",
       "      <td>Xavier Silas</td>\n",
       "      <td>G</td>\n",
       "      <td>0.00</td>\n",
       "    </tr>\n",
       "    <tr>\n",
       "      <th>5323</th>\n",
       "      <td>204067</td>\n",
       "      <td>2017-18</td>\n",
       "      <td>0</td>\n",
       "      <td>1610612738</td>\n",
       "      <td>BOS</td>\n",
       "      <td>26</td>\n",
       "      <td>2</td>\n",
       "      <td>0.0</td>\n",
       "      <td>6.0</td>\n",
       "      <td>0</td>\n",
       "      <td>...</td>\n",
       "      <td>0</td>\n",
       "      <td>1.0</td>\n",
       "      <td>0.0</td>\n",
       "      <td>0.0</td>\n",
       "      <td>0</td>\n",
       "      <td>0</td>\n",
       "      <td>3</td>\n",
       "      <td>Jarell Eddie</td>\n",
       "      <td>F</td>\n",
       "      <td>0.00</td>\n",
       "    </tr>\n",
       "    <tr>\n",
       "      <th>5324</th>\n",
       "      <td>2062</td>\n",
       "      <td>2002-03</td>\n",
       "      <td>0</td>\n",
       "      <td>1610612744</td>\n",
       "      <td>GSW</td>\n",
       "      <td>25</td>\n",
       "      <td>2</td>\n",
       "      <td>0.0</td>\n",
       "      <td>9.0</td>\n",
       "      <td>0</td>\n",
       "      <td>...</td>\n",
       "      <td>2</td>\n",
       "      <td>1.0</td>\n",
       "      <td>0.0</td>\n",
       "      <td>1.0</td>\n",
       "      <td>0</td>\n",
       "      <td>0</td>\n",
       "      <td>3</td>\n",
       "      <td>A.J. Guyton</td>\n",
       "      <td>G</td>\n",
       "      <td>0.00</td>\n",
       "    </tr>\n",
       "    <tr>\n",
       "      <th>5325</th>\n",
       "      <td>204067</td>\n",
       "      <td>2017-18</td>\n",
       "      <td>0</td>\n",
       "      <td>1610612741</td>\n",
       "      <td>CHI</td>\n",
       "      <td>26</td>\n",
       "      <td>1</td>\n",
       "      <td>0.0</td>\n",
       "      <td>3.0</td>\n",
       "      <td>0</td>\n",
       "      <td>...</td>\n",
       "      <td>0</td>\n",
       "      <td>0.0</td>\n",
       "      <td>0.0</td>\n",
       "      <td>0.0</td>\n",
       "      <td>0</td>\n",
       "      <td>0</td>\n",
       "      <td>3</td>\n",
       "      <td>Jarell Eddie</td>\n",
       "      <td>F</td>\n",
       "      <td>0.00</td>\n",
       "    </tr>\n",
       "    <tr>\n",
       "      <th>5326</th>\n",
       "      <td>204067</td>\n",
       "      <td>2017-18</td>\n",
       "      <td>0</td>\n",
       "      <td>0</td>\n",
       "      <td>TOT</td>\n",
       "      <td>26</td>\n",
       "      <td>3</td>\n",
       "      <td>0.0</td>\n",
       "      <td>9.0</td>\n",
       "      <td>0</td>\n",
       "      <td>...</td>\n",
       "      <td>0</td>\n",
       "      <td>1.0</td>\n",
       "      <td>0.0</td>\n",
       "      <td>0.0</td>\n",
       "      <td>0</td>\n",
       "      <td>0</td>\n",
       "      <td>3</td>\n",
       "      <td>Jarell Eddie</td>\n",
       "      <td>F</td>\n",
       "      <td>0.00</td>\n",
       "    </tr>\n",
       "  </tbody>\n",
       "</table>\n",
       "<p>5327 rows × 31 columns</p>\n",
       "</div>"
      ],
      "text/plain": [
       "      PLAYER_ID SEASON_ID  LEAGUE_ID     TEAM_ID TEAM_ABBREVIATION  \\\n",
       "0          2544   2005-06          0  1610612739               CLE   \n",
       "1        201142   2009-10          0  1610612760               OKC   \n",
       "2          2240   2005-06          0  1610612764               WAS   \n",
       "3          2544   2007-08          0  1610612739               CLE   \n",
       "4           947   2000-01          0  1610612755               PHI   \n",
       "...         ...       ...        ...         ...               ...   \n",
       "5322     202918   2017-18          0  1610612738               BOS   \n",
       "5323     204067   2017-18          0  1610612738               BOS   \n",
       "5324       2062   2002-03          0  1610612744               GSW   \n",
       "5325     204067   2017-18          0  1610612741               CHI   \n",
       "5326     204067   2017-18          0           0               TOT   \n",
       "\n",
       "      PLAYER_AGE  GP    GS     MIN  FGM  ...  AST    STL   BLK    TOV   PF  \\\n",
       "0             21  79  79.0  3361.0  875  ...  521  123.0  66.0  260.0  181   \n",
       "1             21  82  82.0  3239.0  794  ...  231  112.0  84.0  271.0  171   \n",
       "2             24  80  80.0  3384.0  746  ...  484  161.0  25.0  297.0  286   \n",
       "3             23  75  74.0  3027.0  794  ...  539  138.0  81.0  255.0  165   \n",
       "4             26  71  71.0  2976.0  762  ...  325  178.0  20.0  237.0  147   \n",
       "...          ...  ..   ...     ...  ...  ...  ...    ...   ...    ...  ...   \n",
       "5322          30   2   0.0     8.0    0  ...    0    1.0   0.0    0.0    1   \n",
       "5323          26   2   0.0     6.0    0  ...    0    1.0   0.0    0.0    0   \n",
       "5324          25   2   0.0     9.0    0  ...    2    1.0   0.0    1.0    0   \n",
       "5325          26   1   0.0     3.0    0  ...    0    0.0   0.0    0.0    0   \n",
       "5326          26   3   0.0     9.0    0  ...    0    1.0   0.0    0.0    0   \n",
       "\n",
       "       PTS  YIL     PLAYER_NAME  POSITION   PPGP  \n",
       "0     2478    3    LeBron James        SF  31.37  \n",
       "1     2472    3    Kevin Durant        SF  30.15  \n",
       "2     2346    5  Gilbert Arenas        PG  29.32  \n",
       "3     2250    5    LeBron James        SF  30.00  \n",
       "4     2207    5   Allen Iverson        SG  31.08  \n",
       "...    ...  ...             ...       ...    ...  \n",
       "5322     0    2    Xavier Silas         G   0.00  \n",
       "5323     0    3    Jarell Eddie         F   0.00  \n",
       "5324     0    3     A.J. Guyton         G   0.00  \n",
       "5325     0    3    Jarell Eddie         F   0.00  \n",
       "5326     0    3    Jarell Eddie         F   0.00  \n",
       "\n",
       "[5327 rows x 31 columns]"
      ]
     },
     "execution_count": 33,
     "metadata": {},
     "output_type": "execute_result"
    }
   ],
   "source": [
    "five_year_all_players = pd.read_json(data)\n",
    "twenty_years_all_players_raw = five_year_all_players[five_year_all_players['SEASON_ID'] > '1999-00']\n",
    "twenty_years_all_players_raw = twenty_years_all_players_raw.join(player_positions.set_index('PLAYER_NAME'), on='PLAYER_NAME')\n",
    "twenty_years_all_players_raw = twenty_years_all_players_raw.dropna(how='any').sort_values(by=['PTS'], ascending=False).drop_duplicates( keep='first').reset_index(drop=True)\n",
    "twenty_years_all_players_raw['PPGP'] = round(twenty_years_all_players_raw['PTS'] / twenty_years_all_players_raw['GP'], 2)\n",
    "twenty_years_all_players = twenty_years_all_players_raw.copy()\n",
    "twenty_years_all_players"
   ]
  },
  {
   "cell_type": "code",
   "execution_count": null,
   "metadata": {},
   "outputs": [],
   "source": []
  },
  {
   "cell_type": "code",
   "execution_count": 34,
   "metadata": {
    "ExecuteTime": {
     "end_time": "2020-09-19T19:29:13.718911Z",
     "start_time": "2020-09-19T19:29:13.711930Z"
    }
   },
   "outputs": [
    {
     "name": "stdout",
     "output_type": "stream",
     "text": [
      "(5327, 2) (5327, 1)\n"
     ]
    }
   ],
   "source": [
    "# Assign the data to X and y\n",
    "\n",
    "X = twenty_years_all_players[[\"MIN\", \"GP\"]]\n",
    "y = twenty_years_all_players[\"PTS\"].values.reshape(-1, 1)\n",
    "print(X.shape, y.shape)"
   ]
  },
  {
   "cell_type": "code",
   "execution_count": 35,
   "metadata": {
    "ExecuteTime": {
     "end_time": "2020-09-19T19:29:13.948468Z",
     "start_time": "2020-09-19T19:29:13.934500Z"
    }
   },
   "outputs": [],
   "source": [
    "# Use train_test_split to create training and testing data\n",
    "\n",
    "from sklearn.model_selection import train_test_split\n",
    "\n",
    "X_train, X_test, y_train, y_test = train_test_split(X, y, random_state=42)\n",
    "\n",
    "# Create the model using LinearRegression\n",
    "\n",
    "from sklearn.linear_model import LinearRegression\n",
    "model = LinearRegression()"
   ]
  },
  {
   "cell_type": "code",
   "execution_count": 36,
   "metadata": {
    "ExecuteTime": {
     "end_time": "2020-09-19T19:29:14.382758Z",
     "start_time": "2020-09-19T19:29:14.363367Z"
    }
   },
   "outputs": [
    {
     "name": "stdout",
     "output_type": "stream",
     "text": [
      "Training Score: 0.897967846399868\n",
      "Testing Score: 0.9121004829830615\n"
     ]
    }
   ],
   "source": [
    "# Fit the model to the training data and calculate the scores for the training and testing data\n",
    "\n",
    "model.fit(X_train, y_train)\n",
    "training_score = model.score(X_train, y_train)\n",
    "testing_score = model.score(X_test, y_test)\n",
    "\n",
    "\n",
    "\n",
    "print(f\"Training Score: {training_score}\")\n",
    "print(f\"Testing Score: {testing_score}\")"
   ]
  },
  {
   "cell_type": "code",
   "execution_count": 37,
   "metadata": {
    "ExecuteTime": {
     "end_time": "2020-09-19T19:29:36.076930Z",
     "start_time": "2020-09-19T19:29:35.927647Z"
    }
   },
   "outputs": [
    {
     "data": {
      "text/plain": [
       "Text(0.5, 1.0, 'Residual Plot')"
      ]
     },
     "execution_count": 37,
     "metadata": {},
     "output_type": "execute_result"
    },
    {
     "data": {
      "image/png": "[encoded data removed]",
      "text/plain": [
       "<Figure size 432x288 with 1 Axes>"
      ]
     },
     "metadata": {
      "needs_background": "light"
     },
     "output_type": "display_data"
    }
   ],
   "source": [
    "# Plot the Residuals for the Training and Testing data\n",
    "\n",
    "# Use `model.predict()` to get a prediction array from X_train and X_test\n",
    "y_train_prediction = model.predict(X_train)\n",
    "y_test_prediction = model.predict(X_test)\n",
    "\n",
    "# Plot the residual\n",
    "plt.scatter(y_train_prediction, y_train_prediction - y_train, c=\"blue\", label=\"Training Data (Points)\")\n",
    "plt.scatter(y_test_prediction, y_test_prediction - y_test, c=\"orange\", label=\"Testing Data (MIN, GP)\")\n",
    "plt.legend()\n",
    "plt.hlines(y=0, xmin=y.min(), xmax=y.max())\n",
    "plt.title(\"Residual Plot\")\n"
   ]
  },
  {
   "cell_type": "code",
   "execution_count": null,
   "metadata": {},
   "outputs": [],
   "source": []
  },
  {
   "cell_type": "markdown",
   "metadata": {},
   "source": [
    "--------------------------"
   ]
  },
  {
   "cell_type": "code",
   "execution_count": 43,
   "metadata": {
    "ExecuteTime": {
     "end_time": "2020-09-19T19:30:39.732864Z",
     "start_time": "2020-09-19T19:30:39.721768Z"
    }
   },
   "outputs": [],
   "source": [
    "# twenty_years_all_players"
   ]
  },
  {
   "cell_type": "code",
   "execution_count": 44,
   "metadata": {
    "ExecuteTime": {
     "end_time": "2020-09-19T19:30:40.013241Z",
     "start_time": "2020-09-19T19:30:39.999669Z"
    }
   },
   "outputs": [],
   "source": [
    "ml_test = twenty_years_all_players.drop(columns=['PLAYER_NAME','TEAM_ABBREVIATION','SEASON_ID'])"
   ]
  },
  {
   "cell_type": "code",
   "execution_count": 45,
   "metadata": {
    "ExecuteTime": {
     "end_time": "2020-09-19T19:30:40.319759Z",
     "start_time": "2020-09-19T19:30:40.290837Z"
    }
   },
   "outputs": [
    {
     "data": {
      "text/html": [
       "<div>\n",
       "<style scoped>\n",
       "    .dataframe tbody tr th:only-of-type {\n",
       "        vertical-align: middle;\n",
       "    }\n",
       "\n",
       "    .dataframe tbody tr th {\n",
       "        vertical-align: top;\n",
       "    }\n",
       "\n",
       "    .dataframe thead th {\n",
       "        text-align: right;\n",
       "    }\n",
       "</style>\n",
       "<table border=\"1\" class=\"dataframe\">\n",
       "  <thead>\n",
       "    <tr style=\"text-align: right;\">\n",
       "      <th></th>\n",
       "      <th>PLAYER_ID</th>\n",
       "      <th>LEAGUE_ID</th>\n",
       "      <th>TEAM_ID</th>\n",
       "      <th>PLAYER_AGE</th>\n",
       "      <th>GP</th>\n",
       "      <th>GS</th>\n",
       "      <th>MIN</th>\n",
       "      <th>FGM</th>\n",
       "      <th>FGA</th>\n",
       "      <th>FG_PCT</th>\n",
       "      <th>...</th>\n",
       "      <th>PPGP</th>\n",
       "      <th>POSITION_ C</th>\n",
       "      <th>POSITION_ F</th>\n",
       "      <th>POSITION_ G</th>\n",
       "      <th>POSITION_ GF</th>\n",
       "      <th>POSITION_ NA</th>\n",
       "      <th>POSITION_ PF</th>\n",
       "      <th>POSITION_ PG</th>\n",
       "      <th>POSITION_ SF</th>\n",
       "      <th>POSITION_ SG</th>\n",
       "    </tr>\n",
       "  </thead>\n",
       "  <tbody>\n",
       "    <tr>\n",
       "      <th>0</th>\n",
       "      <td>2544</td>\n",
       "      <td>0</td>\n",
       "      <td>1610612739</td>\n",
       "      <td>21</td>\n",
       "      <td>79</td>\n",
       "      <td>79.0</td>\n",
       "      <td>3361.0</td>\n",
       "      <td>875</td>\n",
       "      <td>1823</td>\n",
       "      <td>0.480</td>\n",
       "      <td>...</td>\n",
       "      <td>31.37</td>\n",
       "      <td>0</td>\n",
       "      <td>0</td>\n",
       "      <td>0</td>\n",
       "      <td>0</td>\n",
       "      <td>0</td>\n",
       "      <td>0</td>\n",
       "      <td>0</td>\n",
       "      <td>1</td>\n",
       "      <td>0</td>\n",
       "    </tr>\n",
       "    <tr>\n",
       "      <th>1</th>\n",
       "      <td>201142</td>\n",
       "      <td>0</td>\n",
       "      <td>1610612760</td>\n",
       "      <td>21</td>\n",
       "      <td>82</td>\n",
       "      <td>82.0</td>\n",
       "      <td>3239.0</td>\n",
       "      <td>794</td>\n",
       "      <td>1668</td>\n",
       "      <td>0.476</td>\n",
       "      <td>...</td>\n",
       "      <td>30.15</td>\n",
       "      <td>0</td>\n",
       "      <td>0</td>\n",
       "      <td>0</td>\n",
       "      <td>0</td>\n",
       "      <td>0</td>\n",
       "      <td>0</td>\n",
       "      <td>0</td>\n",
       "      <td>1</td>\n",
       "      <td>0</td>\n",
       "    </tr>\n",
       "    <tr>\n",
       "      <th>2</th>\n",
       "      <td>2240</td>\n",
       "      <td>0</td>\n",
       "      <td>1610612764</td>\n",
       "      <td>24</td>\n",
       "      <td>80</td>\n",
       "      <td>80.0</td>\n",
       "      <td>3384.0</td>\n",
       "      <td>746</td>\n",
       "      <td>1668</td>\n",
       "      <td>0.447</td>\n",
       "      <td>...</td>\n",
       "      <td>29.32</td>\n",
       "      <td>0</td>\n",
       "      <td>0</td>\n",
       "      <td>0</td>\n",
       "      <td>0</td>\n",
       "      <td>0</td>\n",
       "      <td>0</td>\n",
       "      <td>1</td>\n",
       "      <td>0</td>\n",
       "      <td>0</td>\n",
       "    </tr>\n",
       "    <tr>\n",
       "      <th>3</th>\n",
       "      <td>2544</td>\n",
       "      <td>0</td>\n",
       "      <td>1610612739</td>\n",
       "      <td>23</td>\n",
       "      <td>75</td>\n",
       "      <td>74.0</td>\n",
       "      <td>3027.0</td>\n",
       "      <td>794</td>\n",
       "      <td>1642</td>\n",
       "      <td>0.484</td>\n",
       "      <td>...</td>\n",
       "      <td>30.00</td>\n",
       "      <td>0</td>\n",
       "      <td>0</td>\n",
       "      <td>0</td>\n",
       "      <td>0</td>\n",
       "      <td>0</td>\n",
       "      <td>0</td>\n",
       "      <td>0</td>\n",
       "      <td>1</td>\n",
       "      <td>0</td>\n",
       "    </tr>\n",
       "    <tr>\n",
       "      <th>4</th>\n",
       "      <td>947</td>\n",
       "      <td>0</td>\n",
       "      <td>1610612755</td>\n",
       "      <td>26</td>\n",
       "      <td>71</td>\n",
       "      <td>71.0</td>\n",
       "      <td>2976.0</td>\n",
       "      <td>762</td>\n",
       "      <td>1813</td>\n",
       "      <td>0.420</td>\n",
       "      <td>...</td>\n",
       "      <td>31.08</td>\n",
       "      <td>0</td>\n",
       "      <td>0</td>\n",
       "      <td>0</td>\n",
       "      <td>0</td>\n",
       "      <td>0</td>\n",
       "      <td>0</td>\n",
       "      <td>0</td>\n",
       "      <td>0</td>\n",
       "      <td>1</td>\n",
       "    </tr>\n",
       "  </tbody>\n",
       "</table>\n",
       "<p>5 rows × 36 columns</p>\n",
       "</div>"
      ],
      "text/plain": [
       "   PLAYER_ID  LEAGUE_ID     TEAM_ID  PLAYER_AGE  GP    GS     MIN  FGM   FGA  \\\n",
       "0       2544          0  1610612739          21  79  79.0  3361.0  875  1823   \n",
       "1     201142          0  1610612760          21  82  82.0  3239.0  794  1668   \n",
       "2       2240          0  1610612764          24  80  80.0  3384.0  746  1668   \n",
       "3       2544          0  1610612739          23  75  74.0  3027.0  794  1642   \n",
       "4        947          0  1610612755          26  71  71.0  2976.0  762  1813   \n",
       "\n",
       "   FG_PCT  ...   PPGP  POSITION_ C  POSITION_ F  POSITION_ G  POSITION_ GF  \\\n",
       "0   0.480  ...  31.37            0            0            0             0   \n",
       "1   0.476  ...  30.15            0            0            0             0   \n",
       "2   0.447  ...  29.32            0            0            0             0   \n",
       "3   0.484  ...  30.00            0            0            0             0   \n",
       "4   0.420  ...  31.08            0            0            0             0   \n",
       "\n",
       "   POSITION_ NA  POSITION_ PF  POSITION_ PG  POSITION_ SF  POSITION_ SG  \n",
       "0             0             0             0             1             0  \n",
       "1             0             0             0             1             0  \n",
       "2             0             0             1             0             0  \n",
       "3             0             0             0             1             0  \n",
       "4             0             0             0             0             1  \n",
       "\n",
       "[5 rows x 36 columns]"
      ]
     },
     "execution_count": 45,
     "metadata": {},
     "output_type": "execute_result"
    }
   ],
   "source": [
    "ml_test2 = pd.get_dummies(ml_test)\n",
    "ml_test2.head()"
   ]
  },
  {
   "cell_type": "markdown",
   "metadata": {
    "ExecuteTime": {
     "end_time": "2020-09-19T19:25:58.248942Z",
     "start_time": "2020-09-19T19:25:58.229846Z"
    }
   },
   "source": [
    "OREB: Offensive Rebounds  \n",
    "DREB: Defensive Rebounds   \n",
    "REB: Rebounds  \n",
    "AST: Assists  \n",
    "TOV: Turnovers  \n",
    "STL: Steals  \n",
    "BLK: Blocks  "
   ]
  },
  {
   "cell_type": "code",
   "execution_count": 46,
   "metadata": {
    "ExecuteTime": {
     "end_time": "2020-09-19T19:30:44.120641Z",
     "start_time": "2020-09-19T19:30:44.114657Z"
    }
   },
   "outputs": [],
   "source": [
    "X = twenty_years_all_players[[\"MIN\", \"GP\"]]\n",
    "# Select the 'FEV' column for y, and then use values.reshape() to reshape it to a 2d array\n",
    "y = twenty_years_all_players[\"PPGP\"].values.reshape(-1, 1)"
   ]
  },
  {
   "cell_type": "code",
   "execution_count": 47,
   "metadata": {
    "ExecuteTime": {
     "end_time": "2020-09-19T19:30:44.306782Z",
     "start_time": "2020-09-19T19:30:44.294814Z"
    }
   },
   "outputs": [],
   "source": [
    "# Split the data into training and testing\n",
    "\n",
    "from sklearn.model_selection import train_test_split\n",
    "\n",
    "X_train, X_test, y_train, y_test = train_test_split(X, y, random_state=42)"
   ]
  },
  {
   "cell_type": "code",
   "execution_count": 48,
   "metadata": {
    "ExecuteTime": {
     "end_time": "2020-09-19T19:30:44.493319Z",
     "start_time": "2020-09-19T19:30:44.473083Z"
    }
   },
   "outputs": [],
   "source": [
    "from sklearn.preprocessing import StandardScaler\n",
    "\n",
    "# Create a StandardScater model and fit it to the training data\n",
    "\n",
    "X_scaler = StandardScaler().fit(X_train)\n",
    "y_scaler = StandardScaler().fit(y_train)\n"
   ]
  },
  {
   "cell_type": "code",
   "execution_count": 49,
   "metadata": {
    "ExecuteTime": {
     "end_time": "2020-09-19T19:30:45.206363Z",
     "start_time": "2020-09-19T19:30:45.191187Z"
    }
   },
   "outputs": [],
   "source": [
    "# Transform the training and testing data using the X_scaler and y_scaler models\n",
    "\n",
    "X_train_scaled = X_scaler.transform(X_train)\n",
    "X_test_scaled = X_scaler.transform(X_test)\n",
    "y_train_scaled = y_scaler.transform(y_train)\n",
    "y_test_scaled = y_scaler.transform(y_test)"
   ]
  },
  {
   "cell_type": "code",
   "execution_count": 50,
   "metadata": {
    "ExecuteTime": {
     "end_time": "2020-09-19T19:30:45.483062Z",
     "start_time": "2020-09-19T19:30:45.473062Z"
    }
   },
   "outputs": [
    {
     "data": {
      "text/plain": [
       "LinearRegression()"
      ]
     },
     "execution_count": 50,
     "metadata": {},
     "output_type": "execute_result"
    }
   ],
   "source": [
    "# Create a LinearRegression model and fit it to the scaled training data\n",
    "\n",
    "from sklearn.linear_model import LinearRegression\n",
    "\n",
    "model = LinearRegression()\n",
    "model.fit(X_train_scaled, y_train_scaled)\n"
   ]
  },
  {
   "cell_type": "code",
   "execution_count": 51,
   "metadata": {
    "ExecuteTime": {
     "end_time": "2020-09-19T19:30:46.664884Z",
     "start_time": "2020-09-19T19:30:46.510148Z"
    }
   },
   "outputs": [
    {
     "data": {
      "image/png": "[encoded data removed]",
      "text/plain": [
       "<Figure size 432x288 with 1 Axes>"
      ]
     },
     "metadata": {
      "needs_background": "light"
     },
     "output_type": "display_data"
    }
   ],
   "source": [
    "# Make predictions using a fitted model\n",
    "# Plot the difference between the model predicted values and actual y values, versus the model predicted values\n",
    "# Hint: You can predict values of X training and testing data using the model.predict() method on a fitted model\n",
    "y_test_prediction = model.predict(X_test_scaled)\n",
    "y_train_prediction = model.predict(X_train_scaled)\n",
    "\n",
    "\n",
    "plt.scatter(y_train_prediction, y_train_prediction - y_train_scaled, c=\"blue\", label=\"Training Data\")\n",
    "plt.scatter(y_test_prediction, y_test_prediction - y_test_scaled, c=\"orange\", label=\"Testing Data\")\n",
    "plt.legend()\n",
    "plt.hlines(y=0, xmin=y_test_scaled.min(), xmax=y_test_scaled.max())\n",
    "plt.title(\"Residual Plot\")\n",
    "plt.show()"
   ]
  },
  {
   "cell_type": "code",
   "execution_count": null,
   "metadata": {},
   "outputs": [],
   "source": []
  },
  {
   "cell_type": "markdown",
   "metadata": {},
   "source": [
    "--------"
   ]
  },
  {
   "cell_type": "markdown",
   "metadata": {},
   "source": [
    "### Mean Square Error"
   ]
  },
  {
   "cell_type": "code",
   "execution_count": 52,
   "metadata": {
    "ExecuteTime": {
     "end_time": "2020-09-19T19:30:48.288939Z",
     "start_time": "2020-09-19T19:30:48.279783Z"
    }
   },
   "outputs": [
    {
     "name": "stdout",
     "output_type": "stream",
     "text": [
      "MSE: 0.2544318207940628, R2: 0.7698238497482489\n"
     ]
    }
   ],
   "source": [
    "# Used X_test_scaled, y_test_scaled, and model.predict(X_test_scaled) to calculate MSE and R2\n",
    "\n",
    "from sklearn.metrics import mean_squared_error\n",
    "\n",
    "MSE = mean_squared_error(y_test_scaled, y_test_prediction)\n",
    "r2 = model.score(X_test_scaled, y_test_scaled)\n",
    "\n",
    "print(f\"MSE: {MSE}, R2: {r2}\")"
   ]
  },
  {
   "cell_type": "code",
   "execution_count": 53,
   "metadata": {
    "ExecuteTime": {
     "end_time": "2020-09-19T19:30:48.536805Z",
     "start_time": "2020-09-19T19:30:48.525772Z"
    }
   },
   "outputs": [
    {
     "name": "stdout",
     "output_type": "stream",
     "text": [
      "MSE: 0.2563257276311836, R2: 0.768110494149317\n"
     ]
    }
   ],
   "source": [
    "# LASSO model\n",
    "# Note: Use an alpha of .01 when creating the model for this activity\n",
    "from sklearn.linear_model import Lasso\n",
    "\n",
    "lasso = Lasso(alpha=.01)\n",
    "\n",
    "lasso.fit(X_train_scaled, y_train_scaled)\n",
    "\n",
    "predictions = lasso.predict(X_test_scaled)\n",
    "\n",
    "MSE = mean_squared_error(y_test_scaled, predictions)\n",
    "r2 = lasso.score(X_test_scaled, y_test_scaled)\n",
    "\n",
    "print(f\"MSE: {MSE}, R2: {r2}\")"
   ]
  },
  {
   "cell_type": "code",
   "execution_count": 54,
   "metadata": {
    "ExecuteTime": {
     "end_time": "2020-09-19T19:30:49.602112Z",
     "start_time": "2020-09-19T19:30:49.578792Z"
    }
   },
   "outputs": [
    {
     "name": "stdout",
     "output_type": "stream",
     "text": [
      "MSE: 0.2544318999751175, R2: 0.7698237781157373\n"
     ]
    }
   ],
   "source": [
    "# Ridge model\n",
    "# Note: Use an alpha of .01 when creating the model for this activity\n",
    "from sklearn.linear_model import Ridge\n",
    "\n",
    "### BEGIN SOLUTION\n",
    "ridge = Ridge(alpha=.01)\n",
    "ridge.fit(X_train_scaled, y_train_scaled)\n",
    "\n",
    "predictions = ridge.predict(X_test_scaled)\n",
    "\n",
    "MSE = mean_squared_error(y_test_scaled, predictions)\n",
    "r2 = ridge.score(X_test_scaled, y_test_scaled)\n",
    "### END SOLUTION\n",
    "\n",
    "print(f\"MSE: {MSE}, R2: {r2}\")"
   ]
  },
  {
   "cell_type": "code",
   "execution_count": 55,
   "metadata": {
    "ExecuteTime": {
     "end_time": "2020-09-19T19:30:50.034739Z",
     "start_time": "2020-09-19T19:30:50.025765Z"
    }
   },
   "outputs": [
    {
     "name": "stdout",
     "output_type": "stream",
     "text": [
      "MSE: 0.2562312632741197, R2: 0.7681959529648736\n"
     ]
    }
   ],
   "source": [
    "# ElasticNet model\n",
    "# Note: Use an alpha of .01 when creating the model for this activity\n",
    "from sklearn.linear_model import ElasticNet\n",
    "\n",
    "### BEGIN SOLUTION\n",
    "elasticnet = ElasticNet(alpha=.01)\n",
    "elasticnet.fit(X_train_scaled, y_train_scaled)\n",
    "\n",
    "predictions = elasticnet.predict(X_test_scaled)\n",
    "\n",
    "MSE = mean_squared_error(y_test_scaled, predictions)\n",
    "r2 = elasticnet.score(X_test_scaled, y_test_scaled)\n",
    "### END SOLUTION\n",
    "\n",
    "print(f\"MSE: {MSE}, R2: {r2}\")\n"
   ]
  },
  {
   "cell_type": "markdown",
   "metadata": {},
   "source": [
    "---------------"
   ]
  },
  {
   "cell_type": "code",
   "execution_count": null,
   "metadata": {},
   "outputs": [],
   "source": []
  },
  {
   "cell_type": "code",
   "execution_count": null,
   "metadata": {},
   "outputs": [],
   "source": []
  },
  {
   "cell_type": "code",
   "execution_count": null,
   "metadata": {
    "ExecuteTime": {
     "end_time": "2020-09-19T06:31:49.227821Z",
     "start_time": "2020-09-19T06:31:49.217848Z"
    }
   },
   "outputs": [],
   "source": [
    "X = twenty_years_all_players[[\"MIN\", \"YIL\"]]\n",
    "y = twenty_years_all_players[\"PTS\"].values.reshape(-1, 1)\n",
    "print(X.shape, y.shape)"
   ]
  },
  {
   "cell_type": "code",
   "execution_count": null,
   "metadata": {
    "ExecuteTime": {
     "end_time": "2020-09-19T06:31:40.710134Z",
     "start_time": "2020-09-19T06:31:40.660217Z"
    }
   },
   "outputs": [],
   "source": [
    "from sklearn.datasets import make_blobs\n",
    "\n",
    "X, y = make_blobs(centers=2, random_state=42)\n",
    "\n",
    "print(f\"Labels: {y[:10]}\")\n",
    "print(f\"Data: {X[:10]}\")"
   ]
  },
  {
   "cell_type": "code",
   "execution_count": null,
   "metadata": {
    "ExecuteTime": {
     "end_time": "2020-09-19T06:31:40.986391Z",
     "start_time": "2020-09-19T06:31:40.909656Z"
    }
   },
   "outputs": [],
   "source": [
    "# Visualizing both classes\n",
    "plt.scatter(X[:, 0], X[:, 1], c=y)"
   ]
  },
  {
   "cell_type": "code",
   "execution_count": null,
   "metadata": {
    "ExecuteTime": {
     "end_time": "2020-09-19T06:31:51.594103Z",
     "start_time": "2020-09-19T06:31:51.578119Z"
    }
   },
   "outputs": [],
   "source": [
    "from sklearn.model_selection import train_test_split\n",
    "\n",
    "X_train, X_test, y_train, y_test = train_test_split(X, y, random_state=1)"
   ]
  },
  {
   "cell_type": "code",
   "execution_count": null,
   "metadata": {
    "ExecuteTime": {
     "end_time": "2020-09-19T06:31:51.885410Z",
     "start_time": "2020-09-19T06:31:51.875407Z"
    }
   },
   "outputs": [],
   "source": [
    "from sklearn.linear_model import LogisticRegression\n",
    "classifier = LogisticRegression()\n",
    "classifier"
   ]
  },
  {
   "cell_type": "code",
   "execution_count": null,
   "metadata": {
    "ExecuteTime": {
     "end_time": "2020-09-19T06:32:20.938228Z",
     "start_time": "2020-09-19T06:32:04.275425Z"
    }
   },
   "outputs": [],
   "source": [
    "classifier.fit(X_train, y_train)\n",
    "print(f\"Training Data Score: {classifier.score(X_train, y_train)}\")\n",
    "print(f\"Testing Data Score: {classifier.score(X_test, y_test)}\")"
   ]
  },
  {
   "cell_type": "code",
   "execution_count": null,
   "metadata": {},
   "outputs": [],
   "source": []
  },
  {
   "cell_type": "code",
   "execution_count": null,
   "metadata": {},
   "outputs": [],
   "source": []
  },
  {
   "cell_type": "code",
   "execution_count": null,
   "metadata": {
    "ExecuteTime": {
     "end_time": "2020-09-19T05:04:33.178768Z",
     "start_time": "2020-09-19T05:04:33.164362Z"
    }
   },
   "outputs": [],
   "source": [
    "### DF for each year. decending\n",
    "first_year = twenty_years_all_players[twenty_years_all_players['YIL'] == 1]\n",
    "second_year = twenty_years_all_players[twenty_years_all_players['YIL'] == 2]\n",
    "third_year = twenty_years_all_players[twenty_years_all_players['YIL'] == 3]\n",
    "fourth_year = twenty_years_all_players[twenty_years_all_players['YIL'] == 4]\n",
    "fifth_year = twenty_years_all_players[twenty_years_all_players['YIL'] == 5]"
   ]
  },
  {
   "cell_type": "markdown",
   "metadata": {
    "ExecuteTime": {
     "end_time": "2020-09-19T00:17:15.961383Z",
     "start_time": "2020-09-19T00:17:15.930465Z"
    }
   },
   "source": [
    "## Plot YIL to Total Points"
   ]
  },
  {
   "cell_type": "markdown",
   "metadata": {},
   "source": [
    "First Year Total Points per Position"
   ]
  },
  {
   "cell_type": "code",
   "execution_count": null,
   "metadata": {
    "ExecuteTime": {
     "end_time": "2020-09-19T05:03:47.882702Z",
     "start_time": "2020-09-19T05:03:47.811861Z"
    }
   },
   "outputs": [],
   "source": []
  },
  {
   "cell_type": "code",
   "execution_count": null,
   "metadata": {
    "ExecuteTime": {
     "end_time": "2020-09-19T05:37:39.697044Z",
     "start_time": "2020-09-19T05:37:38.830390Z"
    }
   },
   "outputs": [],
   "source": [
    "import plotly.express as px\n",
    "\n",
    "fig = px.scatter(twenty_years_all_players, x=\"MIN\", y=\"PTS\", log_x=True, hover_name=\"PLAYER_NAME\", hover_data=[\"PTS\", 'SEASON_ID', 'TEAM_ABBREVIATION'], color=\"YIL\",\n",
    "                 size='PTS', title=\"First Year Total Points per Position\")\n",
    "fig.show()"
   ]
  },
  {
   "cell_type": "markdown",
   "metadata": {},
   "source": [
    "Second Year Total Points per Position"
   ]
  },
  {
   "cell_type": "code",
   "execution_count": null,
   "metadata": {
    "ExecuteTime": {
     "end_time": "2020-09-19T05:06:26.652830Z",
     "start_time": "2020-09-19T05:06:26.570695Z"
    }
   },
   "outputs": [],
   "source": [
    "import plotly.express as px\n",
    "\n",
    "fig = px.scatter(second_year, x=\"PTS\", y=\"POSITION\", log_x=True, hover_name=\"PLAYER_NAME\", hover_data=[\"PTS\"], color=\"PTS\",\n",
    "                 size='PTS', title=\"Second Year Total Points per Position\")\n",
    "fig.show()"
   ]
  },
  {
   "cell_type": "code",
   "execution_count": null,
   "metadata": {
    "ExecuteTime": {
     "end_time": "2020-09-19T05:06:28.137080Z",
     "start_time": "2020-09-19T05:06:28.123960Z"
    }
   },
   "outputs": [],
   "source": [
    "## Remove NaN . Will sway values greatly\n",
    "# first_year = first_year.dropna().sort_values(by=['PTS'], ascending=False).drop_duplicates( keep='first')\n",
    "# first_year"
   ]
  },
  {
   "cell_type": "code",
   "execution_count": null,
   "metadata": {
    "ExecuteTime": {
     "end_time": "2020-09-19T05:06:28.522252Z",
     "start_time": "2020-09-19T05:06:28.518261Z"
    }
   },
   "outputs": [],
   "source": [
    "test = list(first_year.columns.values)"
   ]
  },
  {
   "cell_type": "code",
   "execution_count": null,
   "metadata": {
    "ExecuteTime": {
     "end_time": "2020-09-19T05:06:28.812252Z",
     "start_time": "2020-09-19T05:06:28.745405Z"
    }
   },
   "outputs": [],
   "source": [
    "fig = px.scatter_polar(first_year, r=\"PTS\", theta=\"POSITION\", color=\"PTS\",\n",
    "                    template=\"plotly_dark\", title=\"First Year Total Points per Position\")\n",
    "fig.show()"
   ]
  },
  {
   "cell_type": "code",
   "execution_count": null,
   "metadata": {
    "ExecuteTime": {
     "end_time": "2020-09-19T05:06:37.205329Z",
     "start_time": "2020-09-19T05:06:37.187376Z"
    }
   },
   "outputs": [],
   "source": [
    "twenty_years_all_players[['YIL','PTS','STL','BLK','REB','MIN','AST','TOV']].columns"
   ]
  },
  {
   "cell_type": "code",
   "execution_count": null,
   "metadata": {
    "ExecuteTime": {
     "end_time": "2020-09-19T05:08:48.186470Z",
     "start_time": "2020-09-19T05:08:47.406843Z"
    }
   },
   "outputs": [],
   "source": [
    "import plotly.express as px\n",
    "df = px.data.stocks()\n",
    "fig = px.line(twenty_years_all_players, x=\"MIN\", y=twenty_years_all_players[['YIL','PTS','STL','BLK','REB','MIN','AST','TOV']].columns,\n",
    "              hover_data={\"PLAYER_NAME\"},\n",
    "              title='custom tick labels',\n",
    "             color=\"YIL\")\n",
    "# fig.update_xaxes(\n",
    "#     dtick=\"M1\",\n",
    "#     tickformat=\"%b\\n%Y\")\n",
    "fig.show()"
   ]
  },
  {
   "cell_type": "markdown",
   "metadata": {},
   "source": [
    "https://plotly.com/python/polar-chart/"
   ]
  },
  {
   "cell_type": "code",
   "execution_count": null,
   "metadata": {
    "ExecuteTime": {
     "end_time": "2020-09-19T00:40:28.281920Z",
     "start_time": "2020-09-19T00:40:28.266961Z"
    }
   },
   "outputs": [],
   "source": [
    "# import plotly.express as px\n",
    "# df = px.data.wind()\n",
    "# fig = px.line_polar(twenty_years_all_players, r=\"PTS\", theta=\"POSITION\", color=\"YIL\", line_close=True,\n",
    "#                     color_discrete_sequence=px.colors.sequential.Plasma_r,\n",
    "#                     template=\"plotly_dark\",)\n",
    "# fig.show()"
   ]
  },
  {
   "cell_type": "code",
   "execution_count": null,
   "metadata": {
    "ExecuteTime": {
     "end_time": "2020-09-19T00:40:31.232732Z",
     "start_time": "2020-09-19T00:40:31.220765Z"
    }
   },
   "outputs": [],
   "source": [
    "# df = px.data.wind()\n",
    "# df"
   ]
  },
  {
   "cell_type": "code",
   "execution_count": null,
   "metadata": {},
   "outputs": [],
   "source": []
  },
  {
   "cell_type": "code",
   "execution_count": null,
   "metadata": {},
   "outputs": [],
   "source": []
  },
  {
   "cell_type": "code",
   "execution_count": null,
   "metadata": {},
   "outputs": [],
   "source": []
  },
  {
   "cell_type": "code",
   "execution_count": null,
   "metadata": {},
   "outputs": [],
   "source": []
  }
 ],
 "metadata": {
  "kernelspec": {
   "display_name": "Python 3",
   "language": "python",
   "name": "python3"
  },
  "language_info": {
   "codemirror_mode": {
    "name": "ipython",
    "version": 3
   },
   "file_extension": ".py",
   "mimetype": "text/x-python",
   "name": "python",
   "nbconvert_exporter": "python",
   "pygments_lexer": "ipython3",
   "version": "3.7.1"
  }
 },
 "nbformat": 4,
 "nbformat_minor": 4
}
