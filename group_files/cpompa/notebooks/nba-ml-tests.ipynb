{
 "cells": [
  {
   "cell_type": "code",
   "execution_count": 1,
   "metadata": {
    "ExecuteTime": {
     "end_time": "2020-09-23T01:29:38.660753Z",
     "start_time": "2020-09-23T01:29:37.651119Z"
    }
   },
   "outputs": [],
   "source": [
    "%matplotlib inline\n",
    "import matplotlib.pyplot as plt\n",
    "import numpy as np\n",
    "import pandas as pd\n",
    "\n",
    "# Dependencies and Setup\n",
    "import time\n",
    "from pprint import pprint\n",
    "import requests\n",
    "from datetime import date, timedelta, datetime\n",
    "import json\n",
    "from pprint import pprint\n",
    "from tqdm import tqdm\n",
    "from tqdm import tqdm_notebook\n",
    "# sqlite Dependencies\n",
    "# ----------------------------------\n",
    "# Imports the method used for connecting to DBs\n",
    "from sqlalchemy import create_engine\n",
    "# Allow us to declare column types\n",
    "from sqlalchemy import Column, Integer, String, Text, DateTime, Float, Boolean, ForeignKey\n",
    "from sqlalchemy.orm import relationship\n",
    "from sqlalchemy.ext.declarative import declarative_base\n",
    "from sqlalchemy.orm import Session"
   ]
  },
  {
   "cell_type": "code",
   "execution_count": 2,
   "metadata": {
    "ExecuteTime": {
     "end_time": "2020-09-23T01:29:38.754071Z",
     "start_time": "2020-09-23T01:29:38.662704Z"
    }
   },
   "outputs": [],
   "source": [
    "from nba_api.stats.endpoints import playercareerstats, drafthistory, commonplayerinfo, playerawards"
   ]
  },
  {
   "cell_type": "code",
   "execution_count": 3,
   "metadata": {
    "ExecuteTime": {
     "end_time": "2020-09-20T01:43:02.263798Z",
     "start_time": "2020-09-20T01:43:02.248812Z"
    }
   },
   "outputs": [],
   "source": [
    "# Not used\n",
    "# cumestatsplayer,draftcombinedrillresults,playerdashboardbyteamperformance, leagueleaders, leaguedashplayerstats, draftcombinenonstationaryshooting, draftcombinestats, commonallplayers,"
   ]
  },
  {
   "cell_type": "markdown",
   "metadata": {},
   "source": [
    "-------------"
   ]
  },
  {
   "cell_type": "markdown",
   "metadata": {},
   "source": [
    "# Open Saved JSON"
   ]
  },
  {
   "cell_type": "code",
   "execution_count": 3,
   "metadata": {
    "ExecuteTime": {
     "end_time": "2020-09-22T01:27:49.807730Z",
     "start_time": "2020-09-22T01:27:49.673756Z"
    }
   },
   "outputs": [],
   "source": [
    "with open('./_players_all_data.json') as json_file:\n",
    "    data = json.load(json_file)"
   ]
  },
  {
   "cell_type": "code",
   "execution_count": 4,
   "metadata": {
    "ExecuteTime": {
     "end_time": "2020-09-22T01:27:49.900605Z",
     "start_time": "2020-09-22T01:27:49.886642Z"
    }
   },
   "outputs": [],
   "source": [
    "#  Player positions\n",
    "player_positions = pd.read_csv('../../datasets/nba_positions_no_team.csv') "
   ]
  },
  {
   "cell_type": "markdown",
   "metadata": {},
   "source": [
    "--------------"
   ]
  },
  {
   "cell_type": "markdown",
   "metadata": {},
   "source": [
    "#### Key: \n",
    "\n",
    "* GP: Games Played\n",
    "* MIN: Minutes Played\n",
    "* FGM: Field Goals Made\n",
    "* FGA: Field Goals Attempted\n",
    "* FG%: Field Goal Percentage\n",
    "* 3PM: 3 Point Field Goals Made\n",
    "* 3PA: 3 Point Field Goals Attempted\n",
    "* 3P%: 3 Point Field Goals Percentage\n",
    "* FTM: Free Throws Made\n",
    "* FTA: Free Throws Attempted\n",
    "* FT%: Free Throw Percentage\n",
    "* OREB: Offensive Rebounds\n",
    "* DREB: Defensive Rebounds\n",
    "* REB: Rebounds\n",
    "* AST: Assists\n",
    "* TOV: Turnovers\n",
    "* STL: Steals\n",
    "* BLK: Blocks\n",
    "* PF: Personal Fouls\n",
    "* DD2: Double Doubles\n",
    "* TD3: Trible Doubles\n",
    "* PTS: Points\n",
    "* YIL: Year in League\n",
    "\n",
    "\n"
   ]
  },
  {
   "cell_type": "markdown",
   "metadata": {},
   "source": [
    "## Clean df and add columns"
   ]
  },
  {
   "cell_type": "markdown",
   "metadata": {},
   "source": [
    "add Points Per Games Played (PPGP), add position"
   ]
  },
  {
   "cell_type": "code",
   "execution_count": 5,
   "metadata": {
    "ExecuteTime": {
     "end_time": "2020-09-22T01:41:43.368868Z",
     "start_time": "2020-09-22T01:41:43.059892Z"
    }
   },
   "outputs": [
    {
     "data": {
      "text/html": [
       "<div>\n",
       "<style scoped>\n",
       "    .dataframe tbody tr th:only-of-type {\n",
       "        vertical-align: middle;\n",
       "    }\n",
       "\n",
       "    .dataframe tbody tr th {\n",
       "        vertical-align: top;\n",
       "    }\n",
       "\n",
       "    .dataframe thead th {\n",
       "        text-align: right;\n",
       "    }\n",
       "</style>\n",
       "<table border=\"1\" class=\"dataframe\">\n",
       "  <thead>\n",
       "    <tr style=\"text-align: right;\">\n",
       "      <th></th>\n",
       "      <th>PLAYER_ID</th>\n",
       "      <th>SEASON_ID</th>\n",
       "      <th>LEAGUE_ID</th>\n",
       "      <th>TEAM_ID</th>\n",
       "      <th>TEAM_ABBREVIATION</th>\n",
       "      <th>PLAYER_AGE</th>\n",
       "      <th>GP</th>\n",
       "      <th>GS</th>\n",
       "      <th>MIN</th>\n",
       "      <th>FGM</th>\n",
       "      <th>...</th>\n",
       "      <th>AST</th>\n",
       "      <th>STL</th>\n",
       "      <th>BLK</th>\n",
       "      <th>TOV</th>\n",
       "      <th>PF</th>\n",
       "      <th>PTS</th>\n",
       "      <th>YIL</th>\n",
       "      <th>PLAYER_NAME</th>\n",
       "      <th>POSITION</th>\n",
       "      <th>PPGP</th>\n",
       "    </tr>\n",
       "  </thead>\n",
       "  <tbody>\n",
       "    <tr>\n",
       "      <th>0</th>\n",
       "      <td>2043</td>\n",
       "      <td>2000-01</td>\n",
       "      <td>0</td>\n",
       "      <td>1610612765</td>\n",
       "      <td>DET</td>\n",
       "      <td>23</td>\n",
       "      <td>78</td>\n",
       "      <td>8.0</td>\n",
       "      <td>1266.0</td>\n",
       "      <td>160</td>\n",
       "      <td>...</td>\n",
       "      <td>207</td>\n",
       "      <td>49.0</td>\n",
       "      <td>1.0</td>\n",
       "      <td>139.0</td>\n",
       "      <td>153</td>\n",
       "      <td>422</td>\n",
       "      <td>1</td>\n",
       "      <td>Mateen Cleaves</td>\n",
       "      <td>PG</td>\n",
       "      <td>5.41</td>\n",
       "    </tr>\n",
       "    <tr>\n",
       "      <th>1</th>\n",
       "      <td>2738</td>\n",
       "      <td>2004-05</td>\n",
       "      <td>0</td>\n",
       "      <td>1610612755</td>\n",
       "      <td>PHI</td>\n",
       "      <td>21</td>\n",
       "      <td>82</td>\n",
       "      <td>82.0</td>\n",
       "      <td>2688.0</td>\n",
       "      <td>269</td>\n",
       "      <td>...</td>\n",
       "      <td>246</td>\n",
       "      <td>138.0</td>\n",
       "      <td>48.0</td>\n",
       "      <td>139.0</td>\n",
       "      <td>204</td>\n",
       "      <td>741</td>\n",
       "      <td>1</td>\n",
       "      <td>Andre Iguodala</td>\n",
       "      <td>SG</td>\n",
       "      <td>9.04</td>\n",
       "    </tr>\n",
       "    <tr>\n",
       "      <th>2</th>\n",
       "      <td>203096</td>\n",
       "      <td>2012-13</td>\n",
       "      <td>0</td>\n",
       "      <td>1610612738</td>\n",
       "      <td>BOS</td>\n",
       "      <td>21</td>\n",
       "      <td>45</td>\n",
       "      <td>5.0</td>\n",
       "      <td>892.0</td>\n",
       "      <td>111</td>\n",
       "      <td>...</td>\n",
       "      <td>35</td>\n",
       "      <td>22.0</td>\n",
       "      <td>22.0</td>\n",
       "      <td>29.0</td>\n",
       "      <td>154</td>\n",
       "      <td>270</td>\n",
       "      <td>1</td>\n",
       "      <td>Jared Sullinger</td>\n",
       "      <td>C</td>\n",
       "      <td>6.00</td>\n",
       "    </tr>\n",
       "    <tr>\n",
       "      <th>3</th>\n",
       "      <td>203094</td>\n",
       "      <td>2012-13</td>\n",
       "      <td>0</td>\n",
       "      <td>1610612753</td>\n",
       "      <td>ORL</td>\n",
       "      <td>23</td>\n",
       "      <td>75</td>\n",
       "      <td>28.0</td>\n",
       "      <td>1249.0</td>\n",
       "      <td>256</td>\n",
       "      <td>...</td>\n",
       "      <td>44</td>\n",
       "      <td>24.0</td>\n",
       "      <td>32.0</td>\n",
       "      <td>79.0</td>\n",
       "      <td>133</td>\n",
       "      <td>587</td>\n",
       "      <td>1</td>\n",
       "      <td>Andrew Nicholson</td>\n",
       "      <td>F</td>\n",
       "      <td>7.83</td>\n",
       "    </tr>\n",
       "    <tr>\n",
       "      <th>4</th>\n",
       "      <td>203081</td>\n",
       "      <td>2012-13</td>\n",
       "      <td>0</td>\n",
       "      <td>1610612757</td>\n",
       "      <td>POR</td>\n",
       "      <td>22</td>\n",
       "      <td>82</td>\n",
       "      <td>82.0</td>\n",
       "      <td>3167.0</td>\n",
       "      <td>553</td>\n",
       "      <td>...</td>\n",
       "      <td>531</td>\n",
       "      <td>74.0</td>\n",
       "      <td>19.0</td>\n",
       "      <td>243.0</td>\n",
       "      <td>172</td>\n",
       "      <td>1562</td>\n",
       "      <td>1</td>\n",
       "      <td>Damian Lillard</td>\n",
       "      <td>PG</td>\n",
       "      <td>19.05</td>\n",
       "    </tr>\n",
       "    <tr>\n",
       "      <th>...</th>\n",
       "      <td>...</td>\n",
       "      <td>...</td>\n",
       "      <td>...</td>\n",
       "      <td>...</td>\n",
       "      <td>...</td>\n",
       "      <td>...</td>\n",
       "      <td>...</td>\n",
       "      <td>...</td>\n",
       "      <td>...</td>\n",
       "      <td>...</td>\n",
       "      <td>...</td>\n",
       "      <td>...</td>\n",
       "      <td>...</td>\n",
       "      <td>...</td>\n",
       "      <td>...</td>\n",
       "      <td>...</td>\n",
       "      <td>...</td>\n",
       "      <td>...</td>\n",
       "      <td>...</td>\n",
       "      <td>...</td>\n",
       "      <td>...</td>\n",
       "    </tr>\n",
       "    <tr>\n",
       "      <th>5322</th>\n",
       "      <td>2211</td>\n",
       "      <td>2005-06</td>\n",
       "      <td>0</td>\n",
       "      <td>1610612744</td>\n",
       "      <td>GSW</td>\n",
       "      <td>26</td>\n",
       "      <td>74</td>\n",
       "      <td>74.0</td>\n",
       "      <td>2516.0</td>\n",
       "      <td>363</td>\n",
       "      <td>...</td>\n",
       "      <td>101</td>\n",
       "      <td>47.0</td>\n",
       "      <td>26.0</td>\n",
       "      <td>108.0</td>\n",
       "      <td>191</td>\n",
       "      <td>1035</td>\n",
       "      <td>5</td>\n",
       "      <td>Troy Murphy</td>\n",
       "      <td>PF</td>\n",
       "      <td>13.99</td>\n",
       "    </tr>\n",
       "    <tr>\n",
       "      <th>5323</th>\n",
       "      <td>200746</td>\n",
       "      <td>2010-11</td>\n",
       "      <td>0</td>\n",
       "      <td>1610612757</td>\n",
       "      <td>POR</td>\n",
       "      <td>25</td>\n",
       "      <td>81</td>\n",
       "      <td>81.0</td>\n",
       "      <td>3211.0</td>\n",
       "      <td>707</td>\n",
       "      <td>...</td>\n",
       "      <td>170</td>\n",
       "      <td>82.0</td>\n",
       "      <td>94.0</td>\n",
       "      <td>153.0</td>\n",
       "      <td>220</td>\n",
       "      <td>1769</td>\n",
       "      <td>5</td>\n",
       "      <td>LaMarcus Aldridge</td>\n",
       "      <td>PF</td>\n",
       "      <td>21.84</td>\n",
       "    </tr>\n",
       "    <tr>\n",
       "      <th>5324</th>\n",
       "      <td>200751</td>\n",
       "      <td>2010-11</td>\n",
       "      <td>0</td>\n",
       "      <td>1610612746</td>\n",
       "      <td>LAC</td>\n",
       "      <td>27</td>\n",
       "      <td>63</td>\n",
       "      <td>24.0</td>\n",
       "      <td>1551.0</td>\n",
       "      <td>206</td>\n",
       "      <td>...</td>\n",
       "      <td>170</td>\n",
       "      <td>47.0</td>\n",
       "      <td>21.0</td>\n",
       "      <td>95.0</td>\n",
       "      <td>122</td>\n",
       "      <td>616</td>\n",
       "      <td>5</td>\n",
       "      <td>Randy Foye</td>\n",
       "      <td>SG</td>\n",
       "      <td>9.78</td>\n",
       "    </tr>\n",
       "    <tr>\n",
       "      <th>5325</th>\n",
       "      <td>202339</td>\n",
       "      <td>2014-15</td>\n",
       "      <td>0</td>\n",
       "      <td>1610612756</td>\n",
       "      <td>PHX</td>\n",
       "      <td>25</td>\n",
       "      <td>81</td>\n",
       "      <td>81.0</td>\n",
       "      <td>2800.0</td>\n",
       "      <td>468</td>\n",
       "      <td>...</td>\n",
       "      <td>493</td>\n",
       "      <td>127.0</td>\n",
       "      <td>45.0</td>\n",
       "      <td>274.0</td>\n",
       "      <td>189</td>\n",
       "      <td>1377</td>\n",
       "      <td>5</td>\n",
       "      <td>Eric Bledsoe</td>\n",
       "      <td>PG</td>\n",
       "      <td>17.00</td>\n",
       "    </tr>\n",
       "    <tr>\n",
       "      <th>5326</th>\n",
       "      <td>2200</td>\n",
       "      <td>2005-06</td>\n",
       "      <td>0</td>\n",
       "      <td>1610612763</td>\n",
       "      <td>MEM</td>\n",
       "      <td>25</td>\n",
       "      <td>80</td>\n",
       "      <td>80.0</td>\n",
       "      <td>3135.0</td>\n",
       "      <td>600</td>\n",
       "      <td>...</td>\n",
       "      <td>371</td>\n",
       "      <td>46.0</td>\n",
       "      <td>153.0</td>\n",
       "      <td>235.0</td>\n",
       "      <td>184</td>\n",
       "      <td>1628</td>\n",
       "      <td>5</td>\n",
       "      <td>Pau Gasol</td>\n",
       "      <td>PF</td>\n",
       "      <td>20.35</td>\n",
       "    </tr>\n",
       "  </tbody>\n",
       "</table>\n",
       "<p>5327 rows × 31 columns</p>\n",
       "</div>"
      ],
      "text/plain": [
       "      PLAYER_ID SEASON_ID  LEAGUE_ID     TEAM_ID TEAM_ABBREVIATION  \\\n",
       "0          2043   2000-01          0  1610612765               DET   \n",
       "1          2738   2004-05          0  1610612755               PHI   \n",
       "2        203096   2012-13          0  1610612738               BOS   \n",
       "3        203094   2012-13          0  1610612753               ORL   \n",
       "4        203081   2012-13          0  1610612757               POR   \n",
       "...         ...       ...        ...         ...               ...   \n",
       "5322       2211   2005-06          0  1610612744               GSW   \n",
       "5323     200746   2010-11          0  1610612757               POR   \n",
       "5324     200751   2010-11          0  1610612746               LAC   \n",
       "5325     202339   2014-15          0  1610612756               PHX   \n",
       "5326       2200   2005-06          0  1610612763               MEM   \n",
       "\n",
       "      PLAYER_AGE  GP    GS     MIN  FGM  ...  AST    STL    BLK    TOV   PF  \\\n",
       "0             23  78   8.0  1266.0  160  ...  207   49.0    1.0  139.0  153   \n",
       "1             21  82  82.0  2688.0  269  ...  246  138.0   48.0  139.0  204   \n",
       "2             21  45   5.0   892.0  111  ...   35   22.0   22.0   29.0  154   \n",
       "3             23  75  28.0  1249.0  256  ...   44   24.0   32.0   79.0  133   \n",
       "4             22  82  82.0  3167.0  553  ...  531   74.0   19.0  243.0  172   \n",
       "...          ...  ..   ...     ...  ...  ...  ...    ...    ...    ...  ...   \n",
       "5322          26  74  74.0  2516.0  363  ...  101   47.0   26.0  108.0  191   \n",
       "5323          25  81  81.0  3211.0  707  ...  170   82.0   94.0  153.0  220   \n",
       "5324          27  63  24.0  1551.0  206  ...  170   47.0   21.0   95.0  122   \n",
       "5325          25  81  81.0  2800.0  468  ...  493  127.0   45.0  274.0  189   \n",
       "5326          25  80  80.0  3135.0  600  ...  371   46.0  153.0  235.0  184   \n",
       "\n",
       "       PTS  YIL        PLAYER_NAME  POSITION   PPGP  \n",
       "0      422    1     Mateen Cleaves        PG   5.41  \n",
       "1      741    1     Andre Iguodala        SG   9.04  \n",
       "2      270    1    Jared Sullinger         C   6.00  \n",
       "3      587    1   Andrew Nicholson         F   7.83  \n",
       "4     1562    1     Damian Lillard        PG  19.05  \n",
       "...    ...  ...                ...       ...    ...  \n",
       "5322  1035    5        Troy Murphy        PF  13.99  \n",
       "5323  1769    5  LaMarcus Aldridge        PF  21.84  \n",
       "5324   616    5         Randy Foye        SG   9.78  \n",
       "5325  1377    5       Eric Bledsoe        PG  17.00  \n",
       "5326  1628    5          Pau Gasol        PF  20.35  \n",
       "\n",
       "[5327 rows x 31 columns]"
      ]
     },
     "execution_count": 5,
     "metadata": {},
     "output_type": "execute_result"
    }
   ],
   "source": [
    "five_year_all_players = pd.read_json(data)\n",
    "twenty_years_all_players_raw = five_year_all_players[five_year_all_players['SEASON_ID'] > '1999-00']\n",
    "twenty_years_all_players_raw = twenty_years_all_players_raw.join(player_positions.set_index('PLAYER_NAME'), on='PLAYER_NAME')\n",
    "twenty_years_all_players_raw = twenty_years_all_players_raw.dropna(how='any').sort_values(by=['YIL'], ascending=True).drop_duplicates( keep='first').reset_index(drop=True)\n",
    "twenty_years_all_players_raw['PPGP'] = round(twenty_years_all_players_raw['PTS'] / twenty_years_all_players_raw['GP'], 2)\n",
    "twenty_years_all_players = twenty_years_all_players_raw.copy()\n",
    "twenty_years_all_players"
   ]
  },
  {
   "cell_type": "markdown",
   "metadata": {},
   "source": [
    "--------------------"
   ]
  },
  {
   "cell_type": "markdown",
   "metadata": {},
   "source": [
    "## Linear Regression "
   ]
  },
  {
   "cell_type": "code",
   "execution_count": 55,
   "metadata": {
    "ExecuteTime": {
     "end_time": "2020-09-20T02:05:25.177228Z",
     "start_time": "2020-09-20T02:05:25.138144Z"
    }
   },
   "outputs": [
    {
     "data": {
      "text/html": [
       "<div>\n",
       "<style scoped>\n",
       "    .dataframe tbody tr th:only-of-type {\n",
       "        vertical-align: middle;\n",
       "    }\n",
       "\n",
       "    .dataframe tbody tr th {\n",
       "        vertical-align: top;\n",
       "    }\n",
       "\n",
       "    .dataframe thead th {\n",
       "        text-align: right;\n",
       "    }\n",
       "</style>\n",
       "<table border=\"1\" class=\"dataframe\">\n",
       "  <thead>\n",
       "    <tr style=\"text-align: right;\">\n",
       "      <th></th>\n",
       "      <th>PLAYER_ID</th>\n",
       "      <th>SEASON_ID</th>\n",
       "      <th>LEAGUE_ID</th>\n",
       "      <th>TEAM_ID</th>\n",
       "      <th>TEAM_ABBREVIATION</th>\n",
       "      <th>PLAYER_AGE</th>\n",
       "      <th>GP</th>\n",
       "      <th>GS</th>\n",
       "      <th>MIN</th>\n",
       "      <th>FGM</th>\n",
       "      <th>...</th>\n",
       "      <th>AST</th>\n",
       "      <th>STL</th>\n",
       "      <th>BLK</th>\n",
       "      <th>TOV</th>\n",
       "      <th>PF</th>\n",
       "      <th>PTS</th>\n",
       "      <th>YIL</th>\n",
       "      <th>PLAYER_NAME</th>\n",
       "      <th>POSITION</th>\n",
       "      <th>PPGP</th>\n",
       "    </tr>\n",
       "  </thead>\n",
       "  <tbody>\n",
       "    <tr>\n",
       "      <th>0</th>\n",
       "      <td>2544</td>\n",
       "      <td>2005-06</td>\n",
       "      <td>0</td>\n",
       "      <td>1610612739</td>\n",
       "      <td>CLE</td>\n",
       "      <td>21</td>\n",
       "      <td>79</td>\n",
       "      <td>79.0</td>\n",
       "      <td>3361.0</td>\n",
       "      <td>875</td>\n",
       "      <td>...</td>\n",
       "      <td>521</td>\n",
       "      <td>123.0</td>\n",
       "      <td>66.0</td>\n",
       "      <td>260.0</td>\n",
       "      <td>181</td>\n",
       "      <td>2478</td>\n",
       "      <td>3</td>\n",
       "      <td>LeBron James</td>\n",
       "      <td>SF</td>\n",
       "      <td>31.37</td>\n",
       "    </tr>\n",
       "    <tr>\n",
       "      <th>1</th>\n",
       "      <td>201142</td>\n",
       "      <td>2009-10</td>\n",
       "      <td>0</td>\n",
       "      <td>1610612760</td>\n",
       "      <td>OKC</td>\n",
       "      <td>21</td>\n",
       "      <td>82</td>\n",
       "      <td>82.0</td>\n",
       "      <td>3239.0</td>\n",
       "      <td>794</td>\n",
       "      <td>...</td>\n",
       "      <td>231</td>\n",
       "      <td>112.0</td>\n",
       "      <td>84.0</td>\n",
       "      <td>271.0</td>\n",
       "      <td>171</td>\n",
       "      <td>2472</td>\n",
       "      <td>3</td>\n",
       "      <td>Kevin Durant</td>\n",
       "      <td>SF</td>\n",
       "      <td>30.15</td>\n",
       "    </tr>\n",
       "    <tr>\n",
       "      <th>2</th>\n",
       "      <td>2240</td>\n",
       "      <td>2005-06</td>\n",
       "      <td>0</td>\n",
       "      <td>1610612764</td>\n",
       "      <td>WAS</td>\n",
       "      <td>24</td>\n",
       "      <td>80</td>\n",
       "      <td>80.0</td>\n",
       "      <td>3384.0</td>\n",
       "      <td>746</td>\n",
       "      <td>...</td>\n",
       "      <td>484</td>\n",
       "      <td>161.0</td>\n",
       "      <td>25.0</td>\n",
       "      <td>297.0</td>\n",
       "      <td>286</td>\n",
       "      <td>2346</td>\n",
       "      <td>5</td>\n",
       "      <td>Gilbert Arenas</td>\n",
       "      <td>PG</td>\n",
       "      <td>29.32</td>\n",
       "    </tr>\n",
       "    <tr>\n",
       "      <th>3</th>\n",
       "      <td>2544</td>\n",
       "      <td>2007-08</td>\n",
       "      <td>0</td>\n",
       "      <td>1610612739</td>\n",
       "      <td>CLE</td>\n",
       "      <td>23</td>\n",
       "      <td>75</td>\n",
       "      <td>74.0</td>\n",
       "      <td>3027.0</td>\n",
       "      <td>794</td>\n",
       "      <td>...</td>\n",
       "      <td>539</td>\n",
       "      <td>138.0</td>\n",
       "      <td>81.0</td>\n",
       "      <td>255.0</td>\n",
       "      <td>165</td>\n",
       "      <td>2250</td>\n",
       "      <td>5</td>\n",
       "      <td>LeBron James</td>\n",
       "      <td>SF</td>\n",
       "      <td>30.00</td>\n",
       "    </tr>\n",
       "    <tr>\n",
       "      <th>4</th>\n",
       "      <td>947</td>\n",
       "      <td>2000-01</td>\n",
       "      <td>0</td>\n",
       "      <td>1610612755</td>\n",
       "      <td>PHI</td>\n",
       "      <td>26</td>\n",
       "      <td>71</td>\n",
       "      <td>71.0</td>\n",
       "      <td>2976.0</td>\n",
       "      <td>762</td>\n",
       "      <td>...</td>\n",
       "      <td>325</td>\n",
       "      <td>178.0</td>\n",
       "      <td>20.0</td>\n",
       "      <td>237.0</td>\n",
       "      <td>147</td>\n",
       "      <td>2207</td>\n",
       "      <td>5</td>\n",
       "      <td>Allen Iverson</td>\n",
       "      <td>SG</td>\n",
       "      <td>31.08</td>\n",
       "    </tr>\n",
       "    <tr>\n",
       "      <th>...</th>\n",
       "      <td>...</td>\n",
       "      <td>...</td>\n",
       "      <td>...</td>\n",
       "      <td>...</td>\n",
       "      <td>...</td>\n",
       "      <td>...</td>\n",
       "      <td>...</td>\n",
       "      <td>...</td>\n",
       "      <td>...</td>\n",
       "      <td>...</td>\n",
       "      <td>...</td>\n",
       "      <td>...</td>\n",
       "      <td>...</td>\n",
       "      <td>...</td>\n",
       "      <td>...</td>\n",
       "      <td>...</td>\n",
       "      <td>...</td>\n",
       "      <td>...</td>\n",
       "      <td>...</td>\n",
       "      <td>...</td>\n",
       "      <td>...</td>\n",
       "    </tr>\n",
       "    <tr>\n",
       "      <th>5322</th>\n",
       "      <td>202918</td>\n",
       "      <td>2017-18</td>\n",
       "      <td>0</td>\n",
       "      <td>1610612738</td>\n",
       "      <td>BOS</td>\n",
       "      <td>30</td>\n",
       "      <td>2</td>\n",
       "      <td>0.0</td>\n",
       "      <td>8.0</td>\n",
       "      <td>0</td>\n",
       "      <td>...</td>\n",
       "      <td>0</td>\n",
       "      <td>1.0</td>\n",
       "      <td>0.0</td>\n",
       "      <td>0.0</td>\n",
       "      <td>1</td>\n",
       "      <td>0</td>\n",
       "      <td>2</td>\n",
       "      <td>Xavier Silas</td>\n",
       "      <td>G</td>\n",
       "      <td>0.00</td>\n",
       "    </tr>\n",
       "    <tr>\n",
       "      <th>5323</th>\n",
       "      <td>204067</td>\n",
       "      <td>2017-18</td>\n",
       "      <td>0</td>\n",
       "      <td>1610612738</td>\n",
       "      <td>BOS</td>\n",
       "      <td>26</td>\n",
       "      <td>2</td>\n",
       "      <td>0.0</td>\n",
       "      <td>6.0</td>\n",
       "      <td>0</td>\n",
       "      <td>...</td>\n",
       "      <td>0</td>\n",
       "      <td>1.0</td>\n",
       "      <td>0.0</td>\n",
       "      <td>0.0</td>\n",
       "      <td>0</td>\n",
       "      <td>0</td>\n",
       "      <td>3</td>\n",
       "      <td>Jarell Eddie</td>\n",
       "      <td>F</td>\n",
       "      <td>0.00</td>\n",
       "    </tr>\n",
       "    <tr>\n",
       "      <th>5324</th>\n",
       "      <td>2062</td>\n",
       "      <td>2002-03</td>\n",
       "      <td>0</td>\n",
       "      <td>1610612744</td>\n",
       "      <td>GSW</td>\n",
       "      <td>25</td>\n",
       "      <td>2</td>\n",
       "      <td>0.0</td>\n",
       "      <td>9.0</td>\n",
       "      <td>0</td>\n",
       "      <td>...</td>\n",
       "      <td>2</td>\n",
       "      <td>1.0</td>\n",
       "      <td>0.0</td>\n",
       "      <td>1.0</td>\n",
       "      <td>0</td>\n",
       "      <td>0</td>\n",
       "      <td>3</td>\n",
       "      <td>A.J. Guyton</td>\n",
       "      <td>G</td>\n",
       "      <td>0.00</td>\n",
       "    </tr>\n",
       "    <tr>\n",
       "      <th>5325</th>\n",
       "      <td>204067</td>\n",
       "      <td>2017-18</td>\n",
       "      <td>0</td>\n",
       "      <td>1610612741</td>\n",
       "      <td>CHI</td>\n",
       "      <td>26</td>\n",
       "      <td>1</td>\n",
       "      <td>0.0</td>\n",
       "      <td>3.0</td>\n",
       "      <td>0</td>\n",
       "      <td>...</td>\n",
       "      <td>0</td>\n",
       "      <td>0.0</td>\n",
       "      <td>0.0</td>\n",
       "      <td>0.0</td>\n",
       "      <td>0</td>\n",
       "      <td>0</td>\n",
       "      <td>3</td>\n",
       "      <td>Jarell Eddie</td>\n",
       "      <td>F</td>\n",
       "      <td>0.00</td>\n",
       "    </tr>\n",
       "    <tr>\n",
       "      <th>5326</th>\n",
       "      <td>204067</td>\n",
       "      <td>2017-18</td>\n",
       "      <td>0</td>\n",
       "      <td>0</td>\n",
       "      <td>TOT</td>\n",
       "      <td>26</td>\n",
       "      <td>3</td>\n",
       "      <td>0.0</td>\n",
       "      <td>9.0</td>\n",
       "      <td>0</td>\n",
       "      <td>...</td>\n",
       "      <td>0</td>\n",
       "      <td>1.0</td>\n",
       "      <td>0.0</td>\n",
       "      <td>0.0</td>\n",
       "      <td>0</td>\n",
       "      <td>0</td>\n",
       "      <td>3</td>\n",
       "      <td>Jarell Eddie</td>\n",
       "      <td>F</td>\n",
       "      <td>0.00</td>\n",
       "    </tr>\n",
       "  </tbody>\n",
       "</table>\n",
       "<p>5327 rows × 31 columns</p>\n",
       "</div>"
      ],
      "text/plain": [
       "      PLAYER_ID SEASON_ID  LEAGUE_ID     TEAM_ID TEAM_ABBREVIATION  \\\n",
       "0          2544   2005-06          0  1610612739               CLE   \n",
       "1        201142   2009-10          0  1610612760               OKC   \n",
       "2          2240   2005-06          0  1610612764               WAS   \n",
       "3          2544   2007-08          0  1610612739               CLE   \n",
       "4           947   2000-01          0  1610612755               PHI   \n",
       "...         ...       ...        ...         ...               ...   \n",
       "5322     202918   2017-18          0  1610612738               BOS   \n",
       "5323     204067   2017-18          0  1610612738               BOS   \n",
       "5324       2062   2002-03          0  1610612744               GSW   \n",
       "5325     204067   2017-18          0  1610612741               CHI   \n",
       "5326     204067   2017-18          0           0               TOT   \n",
       "\n",
       "      PLAYER_AGE  GP    GS     MIN  FGM  ...  AST    STL   BLK    TOV   PF  \\\n",
       "0             21  79  79.0  3361.0  875  ...  521  123.0  66.0  260.0  181   \n",
       "1             21  82  82.0  3239.0  794  ...  231  112.0  84.0  271.0  171   \n",
       "2             24  80  80.0  3384.0  746  ...  484  161.0  25.0  297.0  286   \n",
       "3             23  75  74.0  3027.0  794  ...  539  138.0  81.0  255.0  165   \n",
       "4             26  71  71.0  2976.0  762  ...  325  178.0  20.0  237.0  147   \n",
       "...          ...  ..   ...     ...  ...  ...  ...    ...   ...    ...  ...   \n",
       "5322          30   2   0.0     8.0    0  ...    0    1.0   0.0    0.0    1   \n",
       "5323          26   2   0.0     6.0    0  ...    0    1.0   0.0    0.0    0   \n",
       "5324          25   2   0.0     9.0    0  ...    2    1.0   0.0    1.0    0   \n",
       "5325          26   1   0.0     3.0    0  ...    0    0.0   0.0    0.0    0   \n",
       "5326          26   3   0.0     9.0    0  ...    0    1.0   0.0    0.0    0   \n",
       "\n",
       "       PTS  YIL     PLAYER_NAME  POSITION   PPGP  \n",
       "0     2478    3    LeBron James        SF  31.37  \n",
       "1     2472    3    Kevin Durant        SF  30.15  \n",
       "2     2346    5  Gilbert Arenas        PG  29.32  \n",
       "3     2250    5    LeBron James        SF  30.00  \n",
       "4     2207    5   Allen Iverson        SG  31.08  \n",
       "...    ...  ...             ...       ...    ...  \n",
       "5322     0    2    Xavier Silas         G   0.00  \n",
       "5323     0    3    Jarell Eddie         F   0.00  \n",
       "5324     0    3     A.J. Guyton         G   0.00  \n",
       "5325     0    3    Jarell Eddie         F   0.00  \n",
       "5326     0    3    Jarell Eddie         F   0.00  \n",
       "\n",
       "[5327 rows x 31 columns]"
      ]
     },
     "execution_count": 55,
     "metadata": {},
     "output_type": "execute_result"
    }
   ],
   "source": [
    "twenty_years_all_players"
   ]
  },
  {
   "cell_type": "code",
   "execution_count": 56,
   "metadata": {
    "ExecuteTime": {
     "end_time": "2020-09-20T02:05:25.427805Z",
     "start_time": "2020-09-20T02:05:25.414839Z"
    }
   },
   "outputs": [
    {
     "name": "stdout",
     "output_type": "stream",
     "text": [
      "(5327, 2) (5327, 1)\n"
     ]
    }
   ],
   "source": [
    "# Assign the data to X and y\n",
    "\n",
    "X = twenty_years_all_players[[\"MIN\", \"GP\"]]\n",
    "y = twenty_years_all_players[\"PPGP\"].values.reshape(-1, 1)\n",
    "print(X.shape, y.shape)"
   ]
  },
  {
   "cell_type": "code",
   "execution_count": 57,
   "metadata": {
    "ExecuteTime": {
     "end_time": "2020-09-20T02:05:25.756797Z",
     "start_time": "2020-09-20T02:05:25.693279Z"
    }
   },
   "outputs": [],
   "source": [
    "# Use train_test_split to create training and testing data\n",
    "\n",
    "from sklearn.model_selection import train_test_split\n",
    "\n",
    "X_train, X_test, y_train, y_test = train_test_split(X, y, random_state=42)\n",
    "\n",
    "# Create the model using LinearRegression\n",
    "\n",
    "from sklearn.linear_model import LinearRegression\n",
    "model = LinearRegression()"
   ]
  },
  {
   "cell_type": "code",
   "execution_count": 58,
   "metadata": {
    "ExecuteTime": {
     "end_time": "2020-09-20T02:05:25.898248Z",
     "start_time": "2020-09-20T02:05:25.875304Z"
    }
   },
   "outputs": [
    {
     "name": "stdout",
     "output_type": "stream",
     "text": [
      "Training Score: 0.7590783486450451\n",
      "Testing Score: 0.7698238497482489\n"
     ]
    }
   ],
   "source": [
    "# Fit the model to the training data and calculate the scores for the training and testing data\n",
    "\n",
    "model.fit(X_train, y_train)\n",
    "training_score = model.score(X_train, y_train)\n",
    "testing_score = model.score(X_test, y_test)\n",
    "\n",
    "\n",
    "print(f\"Training Score: {training_score}\")\n",
    "print(f\"Testing Score: {testing_score}\")"
   ]
  },
  {
   "cell_type": "code",
   "execution_count": 59,
   "metadata": {
    "ExecuteTime": {
     "end_time": "2020-09-20T02:05:26.288096Z",
     "start_time": "2020-09-20T02:05:26.075648Z"
    }
   },
   "outputs": [
    {
     "data": {
      "text/plain": [
       "Text(0.5, 1.0, 'Residual Plot')"
      ]
     },
     "execution_count": 59,
     "metadata": {},
     "output_type": "execute_result"
    },
    {
     "data": {
      "image/png": "[encoded data removed]",
      "text/plain": [
       "<Figure size 432x288 with 1 Axes>"
      ]
     },
     "metadata": {
      "needs_background": "light"
     },
     "output_type": "display_data"
    }
   ],
   "source": [
    "# Plot the Residuals for the Training and Testing data\n",
    "\n",
    "# Use `model.predict()` to get a prediction array from X_train and X_test\n",
    "y_train_prediction = model.predict(X_train)\n",
    "y_test_prediction = model.predict(X_test)\n",
    "\n",
    "# Plot the residual\n",
    "plt.scatter(y_train_prediction, y_train_prediction - y_train, c=\"blue\", label=\"Training Data (Points)\")\n",
    "plt.scatter(y_test_prediction, y_test_prediction - y_test, c=\"orange\", label=\"Testing Data (MIN, GP)\")\n",
    "plt.legend()\n",
    "plt.hlines(y=0, xmin=y.min(), xmax=y.max())\n",
    "plt.title(\"Residual Plot\")\n"
   ]
  },
  {
   "cell_type": "code",
   "execution_count": null,
   "metadata": {},
   "outputs": [],
   "source": []
  },
  {
   "cell_type": "markdown",
   "metadata": {},
   "source": [
    "--------------------------"
   ]
  },
  {
   "cell_type": "markdown",
   "metadata": {
    "ExecuteTime": {
     "end_time": "2020-09-20T00:24:04.790213Z",
     "start_time": "2020-09-20T00:24:04.776250Z"
    }
   },
   "source": [
    "## Logistic Regression\n",
    "* Assiging 'dummies'.        \n",
    "Creating columns for logistic regression out of categorical data in specific columns. ex: positon of player"
   ]
  },
  {
   "cell_type": "code",
   "execution_count": 7,
   "metadata": {
    "ExecuteTime": {
     "end_time": "2020-09-20T01:43:10.940508Z",
     "start_time": "2020-09-20T01:43:10.924529Z"
    }
   },
   "outputs": [],
   "source": [
    "# twenty_years_all_players"
   ]
  },
  {
   "cell_type": "code",
   "execution_count": 8,
   "metadata": {
    "ExecuteTime": {
     "end_time": "2020-09-20T01:43:11.109219Z",
     "start_time": "2020-09-20T01:43:11.096254Z"
    }
   },
   "outputs": [],
   "source": [
    "ml_test = twenty_years_all_players.drop(columns=['PLAYER_NAME','TEAM_ABBREVIATION','SEASON_ID'])"
   ]
  },
  {
   "cell_type": "code",
   "execution_count": 60,
   "metadata": {
    "ExecuteTime": {
     "end_time": "2020-09-20T02:05:37.914808Z",
     "start_time": "2020-09-20T02:05:37.891885Z"
    }
   },
   "outputs": [
    {
     "data": {
      "text/html": [
       "<div>\n",
       "<style scoped>\n",
       "    .dataframe tbody tr th:only-of-type {\n",
       "        vertical-align: middle;\n",
       "    }\n",
       "\n",
       "    .dataframe tbody tr th {\n",
       "        vertical-align: top;\n",
       "    }\n",
       "\n",
       "    .dataframe thead th {\n",
       "        text-align: right;\n",
       "    }\n",
       "</style>\n",
       "<table border=\"1\" class=\"dataframe\">\n",
       "  <thead>\n",
       "    <tr style=\"text-align: right;\">\n",
       "      <th></th>\n",
       "      <th>PLAYER_ID</th>\n",
       "      <th>LEAGUE_ID</th>\n",
       "      <th>TEAM_ID</th>\n",
       "      <th>PLAYER_AGE</th>\n",
       "      <th>GP</th>\n",
       "      <th>GS</th>\n",
       "      <th>MIN</th>\n",
       "      <th>FGM</th>\n",
       "      <th>FGA</th>\n",
       "      <th>FG_PCT</th>\n",
       "      <th>...</th>\n",
       "      <th>PPGP</th>\n",
       "      <th>POSITION_C</th>\n",
       "      <th>POSITION_F</th>\n",
       "      <th>POSITION_G</th>\n",
       "      <th>POSITION_GF</th>\n",
       "      <th>POSITION_NA</th>\n",
       "      <th>POSITION_PF</th>\n",
       "      <th>POSITION_PG</th>\n",
       "      <th>POSITION_SF</th>\n",
       "      <th>POSITION_SG</th>\n",
       "    </tr>\n",
       "  </thead>\n",
       "  <tbody>\n",
       "    <tr>\n",
       "      <th>0</th>\n",
       "      <td>2544</td>\n",
       "      <td>0</td>\n",
       "      <td>1610612739</td>\n",
       "      <td>21</td>\n",
       "      <td>79</td>\n",
       "      <td>79.0</td>\n",
       "      <td>3361.0</td>\n",
       "      <td>875</td>\n",
       "      <td>1823</td>\n",
       "      <td>0.480</td>\n",
       "      <td>...</td>\n",
       "      <td>31.37</td>\n",
       "      <td>0</td>\n",
       "      <td>0</td>\n",
       "      <td>0</td>\n",
       "      <td>0</td>\n",
       "      <td>0</td>\n",
       "      <td>0</td>\n",
       "      <td>0</td>\n",
       "      <td>1</td>\n",
       "      <td>0</td>\n",
       "    </tr>\n",
       "    <tr>\n",
       "      <th>1</th>\n",
       "      <td>201142</td>\n",
       "      <td>0</td>\n",
       "      <td>1610612760</td>\n",
       "      <td>21</td>\n",
       "      <td>82</td>\n",
       "      <td>82.0</td>\n",
       "      <td>3239.0</td>\n",
       "      <td>794</td>\n",
       "      <td>1668</td>\n",
       "      <td>0.476</td>\n",
       "      <td>...</td>\n",
       "      <td>30.15</td>\n",
       "      <td>0</td>\n",
       "      <td>0</td>\n",
       "      <td>0</td>\n",
       "      <td>0</td>\n",
       "      <td>0</td>\n",
       "      <td>0</td>\n",
       "      <td>0</td>\n",
       "      <td>1</td>\n",
       "      <td>0</td>\n",
       "    </tr>\n",
       "    <tr>\n",
       "      <th>2</th>\n",
       "      <td>2240</td>\n",
       "      <td>0</td>\n",
       "      <td>1610612764</td>\n",
       "      <td>24</td>\n",
       "      <td>80</td>\n",
       "      <td>80.0</td>\n",
       "      <td>3384.0</td>\n",
       "      <td>746</td>\n",
       "      <td>1668</td>\n",
       "      <td>0.447</td>\n",
       "      <td>...</td>\n",
       "      <td>29.32</td>\n",
       "      <td>0</td>\n",
       "      <td>0</td>\n",
       "      <td>0</td>\n",
       "      <td>0</td>\n",
       "      <td>0</td>\n",
       "      <td>0</td>\n",
       "      <td>1</td>\n",
       "      <td>0</td>\n",
       "      <td>0</td>\n",
       "    </tr>\n",
       "    <tr>\n",
       "      <th>3</th>\n",
       "      <td>2544</td>\n",
       "      <td>0</td>\n",
       "      <td>1610612739</td>\n",
       "      <td>23</td>\n",
       "      <td>75</td>\n",
       "      <td>74.0</td>\n",
       "      <td>3027.0</td>\n",
       "      <td>794</td>\n",
       "      <td>1642</td>\n",
       "      <td>0.484</td>\n",
       "      <td>...</td>\n",
       "      <td>30.00</td>\n",
       "      <td>0</td>\n",
       "      <td>0</td>\n",
       "      <td>0</td>\n",
       "      <td>0</td>\n",
       "      <td>0</td>\n",
       "      <td>0</td>\n",
       "      <td>0</td>\n",
       "      <td>1</td>\n",
       "      <td>0</td>\n",
       "    </tr>\n",
       "    <tr>\n",
       "      <th>4</th>\n",
       "      <td>947</td>\n",
       "      <td>0</td>\n",
       "      <td>1610612755</td>\n",
       "      <td>26</td>\n",
       "      <td>71</td>\n",
       "      <td>71.0</td>\n",
       "      <td>2976.0</td>\n",
       "      <td>762</td>\n",
       "      <td>1813</td>\n",
       "      <td>0.420</td>\n",
       "      <td>...</td>\n",
       "      <td>31.08</td>\n",
       "      <td>0</td>\n",
       "      <td>0</td>\n",
       "      <td>0</td>\n",
       "      <td>0</td>\n",
       "      <td>0</td>\n",
       "      <td>0</td>\n",
       "      <td>0</td>\n",
       "      <td>0</td>\n",
       "      <td>1</td>\n",
       "    </tr>\n",
       "  </tbody>\n",
       "</table>\n",
       "<p>5 rows × 36 columns</p>\n",
       "</div>"
      ],
      "text/plain": [
       "   PLAYER_ID  LEAGUE_ID     TEAM_ID  PLAYER_AGE  GP    GS     MIN  FGM   FGA  \\\n",
       "0       2544          0  1610612739          21  79  79.0  3361.0  875  1823   \n",
       "1     201142          0  1610612760          21  82  82.0  3239.0  794  1668   \n",
       "2       2240          0  1610612764          24  80  80.0  3384.0  746  1668   \n",
       "3       2544          0  1610612739          23  75  74.0  3027.0  794  1642   \n",
       "4        947          0  1610612755          26  71  71.0  2976.0  762  1813   \n",
       "\n",
       "   FG_PCT  ...   PPGP  POSITION_C  POSITION_F  POSITION_G  POSITION_GF  \\\n",
       "0   0.480  ...  31.37           0           0           0            0   \n",
       "1   0.476  ...  30.15           0           0           0            0   \n",
       "2   0.447  ...  29.32           0           0           0            0   \n",
       "3   0.484  ...  30.00           0           0           0            0   \n",
       "4   0.420  ...  31.08           0           0           0            0   \n",
       "\n",
       "   POSITION_NA  POSITION_PF  POSITION_PG  POSITION_SF  POSITION_SG  \n",
       "0            0            0            0            1            0  \n",
       "1            0            0            0            1            0  \n",
       "2            0            0            1            0            0  \n",
       "3            0            0            0            1            0  \n",
       "4            0            0            0            0            1  \n",
       "\n",
       "[5 rows x 36 columns]"
      ]
     },
     "execution_count": 60,
     "metadata": {},
     "output_type": "execute_result"
    }
   ],
   "source": [
    "ml_test2 = pd.get_dummies(ml_test)\n",
    "ml_test2.columns = ml_test2.columns.str.replace(' ','')\n",
    "ml_test2.head()"
   ]
  },
  {
   "cell_type": "markdown",
   "metadata": {
    "ExecuteTime": {
     "end_time": "2020-09-19T19:25:58.248942Z",
     "start_time": "2020-09-19T19:25:58.229846Z"
    }
   },
   "source": [
    "OREB: Offensive Rebounds  \n",
    "DREB: Defensive Rebounds   \n",
    "REB: Rebounds  \n",
    "AST: Assists  \n",
    "TOV: Turnovers  \n",
    "STL: Steals  \n",
    "BLK: Blocks  "
   ]
  },
  {
   "cell_type": "code",
   "execution_count": 61,
   "metadata": {
    "ExecuteTime": {
     "end_time": "2020-09-20T02:05:38.658891Z",
     "start_time": "2020-09-20T02:05:38.643931Z"
    }
   },
   "outputs": [],
   "source": [
    "X = ml_test2[[\"MIN\", \"GP\"]]\n",
    "# Select the 'FEV' column for y, and then use values.reshape() to reshape it to a 2d array\n",
    "y = ml_test2[\"POSITION_C\"].values.reshape(-1, 1)"
   ]
  },
  {
   "cell_type": "code",
   "execution_count": 62,
   "metadata": {
    "ExecuteTime": {
     "end_time": "2020-09-20T02:05:38.860484Z",
     "start_time": "2020-09-20T02:05:38.840538Z"
    }
   },
   "outputs": [],
   "source": [
    "from sklearn.model_selection import train_test_split\n",
    "\n",
    "X_train, X_test, y_train, y_test = train_test_split(X, y, random_state=1, test_size=0.33,)\n",
    "\n"
   ]
  },
  {
   "cell_type": "code",
   "execution_count": 63,
   "metadata": {
    "ExecuteTime": {
     "end_time": "2020-09-20T02:05:39.063519Z",
     "start_time": "2020-09-20T02:05:39.049557Z"
    }
   },
   "outputs": [
    {
     "data": {
      "text/plain": [
       "LogisticRegression()"
      ]
     },
     "execution_count": 63,
     "metadata": {},
     "output_type": "execute_result"
    }
   ],
   "source": [
    "from sklearn.linear_model import LogisticRegression\n",
    "classifier = LogisticRegression()\n",
    "classifier"
   ]
  },
  {
   "cell_type": "code",
   "execution_count": 64,
   "metadata": {
    "ExecuteTime": {
     "end_time": "2020-09-20T02:05:39.452773Z",
     "start_time": "2020-09-20T02:05:39.418844Z"
    }
   },
   "outputs": [
    {
     "name": "stderr",
     "output_type": "stream",
     "text": [
      "C:\\Users\\pompa\\anaconda3\\envs\\usc_bootcamp\\lib\\site-packages\\sklearn\\utils\\validation.py:72: DataConversionWarning: A column-vector y was passed when a 1d array was expected. Please change the shape of y to (n_samples, ), for example using ravel().\n",
      "  return f(**kwargs)\n"
     ]
    },
    {
     "data": {
      "text/plain": [
       "LogisticRegression()"
      ]
     },
     "execution_count": 64,
     "metadata": {},
     "output_type": "execute_result"
    }
   ],
   "source": [
    "classifier.fit(X_train, y_train)"
   ]
  },
  {
   "cell_type": "code",
   "execution_count": 65,
   "metadata": {
    "ExecuteTime": {
     "end_time": "2020-09-20T02:05:40.989846Z",
     "start_time": "2020-09-20T02:05:40.970871Z"
    }
   },
   "outputs": [
    {
     "name": "stdout",
     "output_type": "stream",
     "text": [
      "Training Data Score: 0.8119921546651723\n",
      "Testing Data Score: 0.8213879408418657\n"
     ]
    }
   ],
   "source": [
    "print(f\"Training Data Score: {classifier.score(X_train, y_train)}\")\n",
    "print(f\"Testing Data Score: {classifier.score(X_test, y_test)}\")"
   ]
  },
  {
   "cell_type": "code",
   "execution_count": null,
   "metadata": {
    "ExecuteTime": {
     "end_time": "2020-09-20T02:05:41.253726Z",
     "start_time": "2020-09-20T02:05:41.245774Z"
    }
   },
   "outputs": [],
   "source": []
  },
  {
   "cell_type": "code",
   "execution_count": 67,
   "metadata": {
    "ExecuteTime": {
     "end_time": "2020-09-20T02:05:44.843679Z",
     "start_time": "2020-09-20T02:05:44.685611Z"
    }
   },
   "outputs": [
    {
     "data": {
      "text/plain": [
       "<matplotlib.collections.PathCollection at 0x2c74162f4a8>"
      ]
     },
     "execution_count": 67,
     "metadata": {},
     "output_type": "execute_result"
    },
    {
     "data": {
      "image/png": "[encoded data removed]",
      "text/plain": [
       "<Figure size 432x288 with 1 Axes>"
      ]
     },
     "metadata": {
      "needs_background": "light"
     },
     "output_type": "display_data"
    }
   ],
   "source": [
    "# Generate a new data point (the red circle)\n",
    "import numpy as np\n",
    "new_data = np.array([[800, 36]])\n",
    "plt.scatter(X.iloc[:, 0], X.iloc[:, 1], c=y) \n",
    "plt.scatter(new_data[0, 0], new_data[0, 1], c=\"r\", marker=\"o\", s=100)"
   ]
  },
  {
   "cell_type": "code",
   "execution_count": 68,
   "metadata": {
    "ExecuteTime": {
     "end_time": "2020-09-20T02:05:47.575286Z",
     "start_time": "2020-09-20T02:05:47.559325Z"
    }
   },
   "outputs": [
    {
     "name": "stdout",
     "output_type": "stream",
     "text": [
      "Classes are either 0 (purple) or 1 (yellow)\n",
      "The new point was classified as: [0]\n"
     ]
    }
   ],
   "source": [
    "# Predict the class (purple or yellow) of the new data point\n",
    "predictions = classifier.predict(new_data)\n",
    "print(\"Classes are either 0 (purple) or 1 (yellow)\")\n",
    "print(f\"The new point was classified as: {predictions}\")"
   ]
  },
  {
   "cell_type": "code",
   "execution_count": null,
   "metadata": {
    "ExecuteTime": {
     "end_time": "2020-09-20T00:10:44.418749Z",
     "start_time": "2020-09-20T00:10:44.413446Z"
    }
   },
   "outputs": [],
   "source": []
  },
  {
   "cell_type": "code",
   "execution_count": 69,
   "metadata": {
    "ExecuteTime": {
     "end_time": "2020-09-20T02:05:50.508968Z",
     "start_time": "2020-09-20T02:05:50.480023Z"
    },
    "scrolled": true
   },
   "outputs": [
    {
     "ename": "Exception",
     "evalue": "Data must be 1-dimensional",
     "output_type": "error",
     "traceback": [
      "\u001b[1;31m---------------------------------------------------------------------------\u001b[0m",
      "\u001b[1;31mException\u001b[0m                                 Traceback (most recent call last)",
      "\u001b[1;32m<ipython-input-69-88c0079011b5>\u001b[0m in \u001b[0;36m<module>\u001b[1;34m\u001b[0m\n\u001b[0;32m      1\u001b[0m \u001b[0mpredictions\u001b[0m \u001b[1;33m=\u001b[0m \u001b[0mclassifier\u001b[0m\u001b[1;33m.\u001b[0m\u001b[0mpredict\u001b[0m\u001b[1;33m(\u001b[0m\u001b[0mX_test\u001b[0m\u001b[1;33m)\u001b[0m\u001b[1;33m\u001b[0m\u001b[1;33m\u001b[0m\u001b[0m\n\u001b[1;32m----> 2\u001b[1;33m \u001b[0mpd\u001b[0m\u001b[1;33m.\u001b[0m\u001b[0mDataFrame\u001b[0m\u001b[1;33m(\u001b[0m\u001b[1;33m{\u001b[0m\u001b[1;34m\"Prediction\"\u001b[0m\u001b[1;33m:\u001b[0m \u001b[0mpredictions\u001b[0m\u001b[1;33m,\u001b[0m \u001b[1;34m\"Actual\"\u001b[0m\u001b[1;33m:\u001b[0m \u001b[0my_test\u001b[0m\u001b[1;33m}\u001b[0m\u001b[1;33m)\u001b[0m\u001b[1;33m\u001b[0m\u001b[1;33m\u001b[0m\u001b[0m\n\u001b[0m",
      "\u001b[1;32m~\\anaconda3\\envs\\usc_bootcamp\\lib\\site-packages\\pandas\\core\\frame.py\u001b[0m in \u001b[0;36m__init__\u001b[1;34m(self, data, index, columns, dtype, copy)\u001b[0m\n\u001b[0;32m    466\u001b[0m \u001b[1;33m\u001b[0m\u001b[0m\n\u001b[0;32m    467\u001b[0m         \u001b[1;32melif\u001b[0m \u001b[0misinstance\u001b[0m\u001b[1;33m(\u001b[0m\u001b[0mdata\u001b[0m\u001b[1;33m,\u001b[0m \u001b[0mdict\u001b[0m\u001b[1;33m)\u001b[0m\u001b[1;33m:\u001b[0m\u001b[1;33m\u001b[0m\u001b[1;33m\u001b[0m\u001b[0m\n\u001b[1;32m--> 468\u001b[1;33m             \u001b[0mmgr\u001b[0m \u001b[1;33m=\u001b[0m \u001b[0minit_dict\u001b[0m\u001b[1;33m(\u001b[0m\u001b[0mdata\u001b[0m\u001b[1;33m,\u001b[0m \u001b[0mindex\u001b[0m\u001b[1;33m,\u001b[0m \u001b[0mcolumns\u001b[0m\u001b[1;33m,\u001b[0m \u001b[0mdtype\u001b[0m\u001b[1;33m=\u001b[0m\u001b[0mdtype\u001b[0m\u001b[1;33m)\u001b[0m\u001b[1;33m\u001b[0m\u001b[1;33m\u001b[0m\u001b[0m\n\u001b[0m\u001b[0;32m    469\u001b[0m         \u001b[1;32melif\u001b[0m \u001b[0misinstance\u001b[0m\u001b[1;33m(\u001b[0m\u001b[0mdata\u001b[0m\u001b[1;33m,\u001b[0m \u001b[0mma\u001b[0m\u001b[1;33m.\u001b[0m\u001b[0mMaskedArray\u001b[0m\u001b[1;33m)\u001b[0m\u001b[1;33m:\u001b[0m\u001b[1;33m\u001b[0m\u001b[1;33m\u001b[0m\u001b[0m\n\u001b[0;32m    470\u001b[0m             \u001b[1;32mimport\u001b[0m \u001b[0mnumpy\u001b[0m\u001b[1;33m.\u001b[0m\u001b[0mma\u001b[0m\u001b[1;33m.\u001b[0m\u001b[0mmrecords\u001b[0m \u001b[1;32mas\u001b[0m \u001b[0mmrecords\u001b[0m\u001b[1;33m\u001b[0m\u001b[1;33m\u001b[0m\u001b[0m\n",
      "\u001b[1;32m~\\anaconda3\\envs\\usc_bootcamp\\lib\\site-packages\\pandas\\core\\internals\\construction.py\u001b[0m in \u001b[0;36minit_dict\u001b[1;34m(data, index, columns, dtype)\u001b[0m\n\u001b[0;32m    281\u001b[0m             \u001b[0marr\u001b[0m \u001b[1;32mif\u001b[0m \u001b[1;32mnot\u001b[0m \u001b[0mis_datetime64tz_dtype\u001b[0m\u001b[1;33m(\u001b[0m\u001b[0marr\u001b[0m\u001b[1;33m)\u001b[0m \u001b[1;32melse\u001b[0m \u001b[0marr\u001b[0m\u001b[1;33m.\u001b[0m\u001b[0mcopy\u001b[0m\u001b[1;33m(\u001b[0m\u001b[1;33m)\u001b[0m \u001b[1;32mfor\u001b[0m \u001b[0marr\u001b[0m \u001b[1;32min\u001b[0m \u001b[0marrays\u001b[0m\u001b[1;33m\u001b[0m\u001b[1;33m\u001b[0m\u001b[0m\n\u001b[0;32m    282\u001b[0m         ]\n\u001b[1;32m--> 283\u001b[1;33m     \u001b[1;32mreturn\u001b[0m \u001b[0marrays_to_mgr\u001b[0m\u001b[1;33m(\u001b[0m\u001b[0marrays\u001b[0m\u001b[1;33m,\u001b[0m \u001b[0mdata_names\u001b[0m\u001b[1;33m,\u001b[0m \u001b[0mindex\u001b[0m\u001b[1;33m,\u001b[0m \u001b[0mcolumns\u001b[0m\u001b[1;33m,\u001b[0m \u001b[0mdtype\u001b[0m\u001b[1;33m=\u001b[0m\u001b[0mdtype\u001b[0m\u001b[1;33m)\u001b[0m\u001b[1;33m\u001b[0m\u001b[1;33m\u001b[0m\u001b[0m\n\u001b[0m\u001b[0;32m    284\u001b[0m \u001b[1;33m\u001b[0m\u001b[0m\n\u001b[0;32m    285\u001b[0m \u001b[1;33m\u001b[0m\u001b[0m\n",
      "\u001b[1;32m~\\anaconda3\\envs\\usc_bootcamp\\lib\\site-packages\\pandas\\core\\internals\\construction.py\u001b[0m in \u001b[0;36marrays_to_mgr\u001b[1;34m(arrays, arr_names, index, columns, dtype, verify_integrity)\u001b[0m\n\u001b[0;32m     81\u001b[0m \u001b[1;33m\u001b[0m\u001b[0m\n\u001b[0;32m     82\u001b[0m         \u001b[1;31m# don't force copy because getting jammed in an ndarray anyway\u001b[0m\u001b[1;33m\u001b[0m\u001b[1;33m\u001b[0m\u001b[1;33m\u001b[0m\u001b[0m\n\u001b[1;32m---> 83\u001b[1;33m         \u001b[0marrays\u001b[0m \u001b[1;33m=\u001b[0m \u001b[0m_homogenize\u001b[0m\u001b[1;33m(\u001b[0m\u001b[0marrays\u001b[0m\u001b[1;33m,\u001b[0m \u001b[0mindex\u001b[0m\u001b[1;33m,\u001b[0m \u001b[0mdtype\u001b[0m\u001b[1;33m)\u001b[0m\u001b[1;33m\u001b[0m\u001b[1;33m\u001b[0m\u001b[0m\n\u001b[0m\u001b[0;32m     84\u001b[0m \u001b[1;33m\u001b[0m\u001b[0m\n\u001b[0;32m     85\u001b[0m         \u001b[0mcolumns\u001b[0m \u001b[1;33m=\u001b[0m \u001b[0mensure_index\u001b[0m\u001b[1;33m(\u001b[0m\u001b[0mcolumns\u001b[0m\u001b[1;33m)\u001b[0m\u001b[1;33m\u001b[0m\u001b[1;33m\u001b[0m\u001b[0m\n",
      "\u001b[1;32m~\\anaconda3\\envs\\usc_bootcamp\\lib\\site-packages\\pandas\\core\\internals\\construction.py\u001b[0m in \u001b[0;36m_homogenize\u001b[1;34m(data, index, dtype)\u001b[0m\n\u001b[0;32m    350\u001b[0m                 \u001b[0mval\u001b[0m \u001b[1;33m=\u001b[0m \u001b[0mlib\u001b[0m\u001b[1;33m.\u001b[0m\u001b[0mfast_multiget\u001b[0m\u001b[1;33m(\u001b[0m\u001b[0mval\u001b[0m\u001b[1;33m,\u001b[0m \u001b[0moindex\u001b[0m\u001b[1;33m.\u001b[0m\u001b[0m_values\u001b[0m\u001b[1;33m,\u001b[0m \u001b[0mdefault\u001b[0m\u001b[1;33m=\u001b[0m\u001b[0mnp\u001b[0m\u001b[1;33m.\u001b[0m\u001b[0mnan\u001b[0m\u001b[1;33m)\u001b[0m\u001b[1;33m\u001b[0m\u001b[1;33m\u001b[0m\u001b[0m\n\u001b[0;32m    351\u001b[0m             val = sanitize_array(\n\u001b[1;32m--> 352\u001b[1;33m                 \u001b[0mval\u001b[0m\u001b[1;33m,\u001b[0m \u001b[0mindex\u001b[0m\u001b[1;33m,\u001b[0m \u001b[0mdtype\u001b[0m\u001b[1;33m=\u001b[0m\u001b[0mdtype\u001b[0m\u001b[1;33m,\u001b[0m \u001b[0mcopy\u001b[0m\u001b[1;33m=\u001b[0m\u001b[1;32mFalse\u001b[0m\u001b[1;33m,\u001b[0m \u001b[0mraise_cast_failure\u001b[0m\u001b[1;33m=\u001b[0m\u001b[1;32mFalse\u001b[0m\u001b[1;33m\u001b[0m\u001b[1;33m\u001b[0m\u001b[0m\n\u001b[0m\u001b[0;32m    353\u001b[0m             )\n\u001b[0;32m    354\u001b[0m \u001b[1;33m\u001b[0m\u001b[0m\n",
      "\u001b[1;32m~\\anaconda3\\envs\\usc_bootcamp\\lib\\site-packages\\pandas\\core\\construction.py\u001b[0m in \u001b[0;36msanitize_array\u001b[1;34m(data, index, dtype, copy, raise_cast_failure)\u001b[0m\n\u001b[0;32m    490\u001b[0m     \u001b[1;32melif\u001b[0m \u001b[0msubarr\u001b[0m\u001b[1;33m.\u001b[0m\u001b[0mndim\u001b[0m \u001b[1;33m>\u001b[0m \u001b[1;36m1\u001b[0m\u001b[1;33m:\u001b[0m\u001b[1;33m\u001b[0m\u001b[1;33m\u001b[0m\u001b[0m\n\u001b[0;32m    491\u001b[0m         \u001b[1;32mif\u001b[0m \u001b[0misinstance\u001b[0m\u001b[1;33m(\u001b[0m\u001b[0mdata\u001b[0m\u001b[1;33m,\u001b[0m \u001b[0mnp\u001b[0m\u001b[1;33m.\u001b[0m\u001b[0mndarray\u001b[0m\u001b[1;33m)\u001b[0m\u001b[1;33m:\u001b[0m\u001b[1;33m\u001b[0m\u001b[1;33m\u001b[0m\u001b[0m\n\u001b[1;32m--> 492\u001b[1;33m             \u001b[1;32mraise\u001b[0m \u001b[0mException\u001b[0m\u001b[1;33m(\u001b[0m\u001b[1;34m\"Data must be 1-dimensional\"\u001b[0m\u001b[1;33m)\u001b[0m\u001b[1;33m\u001b[0m\u001b[1;33m\u001b[0m\u001b[0m\n\u001b[0m\u001b[0;32m    493\u001b[0m         \u001b[1;32melse\u001b[0m\u001b[1;33m:\u001b[0m\u001b[1;33m\u001b[0m\u001b[1;33m\u001b[0m\u001b[0m\n\u001b[0;32m    494\u001b[0m             \u001b[0msubarr\u001b[0m \u001b[1;33m=\u001b[0m \u001b[0mcom\u001b[0m\u001b[1;33m.\u001b[0m\u001b[0masarray_tuplesafe\u001b[0m\u001b[1;33m(\u001b[0m\u001b[0mdata\u001b[0m\u001b[1;33m,\u001b[0m \u001b[0mdtype\u001b[0m\u001b[1;33m=\u001b[0m\u001b[0mdtype\u001b[0m\u001b[1;33m)\u001b[0m\u001b[1;33m\u001b[0m\u001b[1;33m\u001b[0m\u001b[0m\n",
      "\u001b[1;31mException\u001b[0m: Data must be 1-dimensional"
     ]
    }
   ],
   "source": [
    "predictions = classifier.predict(X_test)\n",
    "pd.DataFrame({\"Prediction\": predictions, \"Actual\": y_test})"
   ]
  },
  {
   "cell_type": "markdown",
   "metadata": {},
   "source": [
    "----------"
   ]
  },
  {
   "cell_type": "markdown",
   "metadata": {},
   "source": [
    "## TEST: DNN for regression    \n",
    "https://towardsdatascience.com/deep-neural-networks-for-regression-problems-81321897ca33"
   ]
  },
  {
   "cell_type": "code",
   "execution_count": 74,
   "metadata": {
    "ExecuteTime": {
     "end_time": "2020-09-20T02:07:07.529202Z",
     "start_time": "2020-09-20T02:07:07.511246Z"
    }
   },
   "outputs": [],
   "source": [
    "X = ml_test2[[\"MIN\", \"GP\"]]\n",
    "# Select the 'FEV' column for y, and then use values.reshape() to reshape it to a 2d array\n",
    "y = ml_test2[\"POSITION_C\"].values.reshape(-1, 1)"
   ]
  },
  {
   "cell_type": "code",
   "execution_count": 75,
   "metadata": {
    "ExecuteTime": {
     "end_time": "2020-09-20T02:07:07.810487Z",
     "start_time": "2020-09-20T02:07:07.796525Z"
    }
   },
   "outputs": [],
   "source": [
    "from sklearn.model_selection import train_test_split\n",
    "\n",
    "X_train, X_test, y_train, y_test = train_test_split(X, y, random_state=101, test_size=0.33)"
   ]
  },
  {
   "cell_type": "code",
   "execution_count": null,
   "metadata": {},
   "outputs": [],
   "source": []
  },
  {
   "cell_type": "code",
   "execution_count": 78,
   "metadata": {
    "ExecuteTime": {
     "end_time": "2020-09-20T02:07:17.896210Z",
     "start_time": "2020-09-20T02:07:17.882215Z"
    }
   },
   "outputs": [],
   "source": [
    "def get_cols_with_no_nans(df,col_type):\n",
    "    '''\n",
    "    Arguments :\n",
    "    df : The dataframe to process\n",
    "    col_type : \n",
    "          num : to only get numerical columns with no nans\n",
    "          no_num : to only get nun-numerical columns with no nans\n",
    "          all : to get any columns with no nans    \n",
    "    '''\n",
    "    if (col_type == 'num'):\n",
    "        predictors = df.select_dtypes(exclude=['object'])\n",
    "    elif (col_type == 'no_num'):\n",
    "        predictors = df.select_dtypes(include=['object'])\n",
    "    elif (col_type == 'all'):\n",
    "        predictors = df\n",
    "    else :\n",
    "        print('Error : choose a type (num, no_num, all)')\n",
    "        return 0\n",
    "    cols_with_no_nans = []\n",
    "    for col in predictors.columns:\n",
    "        if not df[col].isnull().any():\n",
    "            cols_with_no_nans.append(col)\n",
    "    return cols_with_no_nans"
   ]
  },
  {
   "cell_type": "code",
   "execution_count": 79,
   "metadata": {
    "ExecuteTime": {
     "end_time": "2020-09-20T02:07:18.224444Z",
     "start_time": "2020-09-20T02:07:18.207490Z"
    }
   },
   "outputs": [],
   "source": [
    "# define a function to get the columns that don’t have any missing values\n",
    "num_cols = get_cols_with_no_nans(ml_test2 , 'num')\n",
    "cat_cols = get_cols_with_no_nans(ml_test2 , 'no_num')"
   ]
  },
  {
   "cell_type": "code",
   "execution_count": 80,
   "metadata": {
    "ExecuteTime": {
     "end_time": "2020-09-20T02:07:18.583850Z",
     "start_time": "2020-09-20T02:07:18.565874Z"
    }
   },
   "outputs": [
    {
     "name": "stdout",
     "output_type": "stream",
     "text": [
      "Number of numerical columns with no nan values : 36\n",
      "Number of nun-numerical columns with no nan values : 0\n"
     ]
    }
   ],
   "source": [
    "print ('Number of numerical columns with no nan values :',len(num_cols))\n",
    "print ('Number of nun-numerical columns with no nan values :',len(cat_cols))"
   ]
  },
  {
   "cell_type": "code",
   "execution_count": 81,
   "metadata": {
    "ExecuteTime": {
     "end_time": "2020-09-20T02:07:21.627215Z",
     "start_time": "2020-09-20T02:07:19.703953Z"
    }
   },
   "outputs": [
    {
     "data": {
      "image/png": "[encoded data removed]",
      "text/plain": [
       "<Figure size 864x720 with 36 Axes>"
      ]
     },
     "metadata": {
      "needs_background": "light"
     },
     "output_type": "display_data"
    }
   ],
   "source": [
    "combined = ml_test2[num_cols + cat_cols]\n",
    "combined.hist(figsize = (12,10))\n",
    "plt.show()"
   ]
  },
  {
   "cell_type": "code",
   "execution_count": 82,
   "metadata": {
    "ExecuteTime": {
     "end_time": "2020-09-20T02:07:23.871714Z",
     "start_time": "2020-09-20T02:07:23.817869Z"
    }
   },
   "outputs": [],
   "source": [
    "import seaborn as sb"
   ]
  },
  {
   "cell_type": "code",
   "execution_count": 90,
   "metadata": {
    "ExecuteTime": {
     "end_time": "2020-09-20T02:10:33.892373Z",
     "start_time": "2020-09-20T02:10:33.401686Z"
    }
   },
   "outputs": [
    {
     "data": {
      "image/png": "[encoded data removed]",
      "text/plain": [
       "<Figure size 1080x1080 with 2 Axes>"
      ]
     },
     "metadata": {
      "needs_background": "light"
     },
     "output_type": "display_data"
    }
   ],
   "source": [
    "train_data = combined[num_cols + cat_cols]\n",
    "train_data['POSITION_C'] = y \n",
    "\n",
    "C_mat = train_data.corr()\n",
    "fig = plt.figure(figsize = (15,15))\n",
    "\n",
    "sb.heatmap(C_mat, vmax = .8, square = True)\n",
    "plt.show()"
   ]
  },
  {
   "cell_type": "code",
   "execution_count": 91,
   "metadata": {
    "ExecuteTime": {
     "end_time": "2020-09-20T02:10:47.160493Z",
     "start_time": "2020-09-20T02:10:47.140547Z"
    }
   },
   "outputs": [
    {
     "name": "stdout",
     "output_type": "stream",
     "text": [
      "There were 36 columns before encoding categorical features\n",
      "There are 36 columns after encoding categorical features\n"
     ]
    }
   ],
   "source": [
    "def oneHotEncode(df,colNames):\n",
    "    for col in colNames:\n",
    "        if( df[col].dtype == np.dtype('object')):\n",
    "            dummies = pd.get_dummies(df[col],prefix=col)\n",
    "            df = pd.concat([df,dummies],axis=1)\n",
    "\n",
    "            #drop the encoded column\n",
    "            df.drop([col],axis = 1 , inplace=True)\n",
    "    return df\n",
    "    \n",
    "\n",
    "print('There were {} columns before encoding categorical features'.format(combined.shape[1]))\n",
    "combined = oneHotEncode(combined, cat_cols)\n",
    "print('There are {} columns after encoding categorical features'.format(combined.shape[1]))"
   ]
  },
  {
   "cell_type": "code",
   "execution_count": 92,
   "metadata": {
    "ExecuteTime": {
     "end_time": "2020-09-20T02:10:51.274663Z",
     "start_time": "2020-09-20T02:10:51.256738Z"
    }
   },
   "outputs": [],
   "source": [
    "def split_combined():\n",
    "    global combined\n",
    "    train = combined[:1460]\n",
    "    test = combined[1460:]\n",
    "\n",
    "    return train , test \n",
    "  \n",
    "train, test = split_combined()"
   ]
  },
  {
   "cell_type": "markdown",
   "metadata": {
    "ExecuteTime": {
     "end_time": "2020-09-20T00:55:15.851761Z",
     "start_time": "2020-09-20T00:55:15.821811Z"
    }
   },
   "source": [
    "-----------"
   ]
  },
  {
   "cell_type": "markdown",
   "metadata": {},
   "source": [
    "## TEST: DNN.\n",
    "Sequential model, dense layers, relu as activation function for hidden layers, normal initializer as kernel_initializer. Mean absolute error as loss function. Linear as activation function for output"
   ]
  },
  {
   "cell_type": "code",
   "execution_count": 35,
   "metadata": {
    "ExecuteTime": {
     "end_time": "2020-09-20T01:47:15.096641Z",
     "start_time": "2020-09-20T01:47:15.080691Z"
    }
   },
   "outputs": [],
   "source": [
    "# first, create a normal neural network with 2 inputs, 6 hidden nodes, and 2 outputs\n",
    "from tensorflow.keras.models import Sequential\n",
    "from tensorflow.keras.layers import Dense\n",
    "\n",
    "from tensorflow.keras.utils import to_categorical"
   ]
  },
  {
   "cell_type": "code",
   "execution_count": 36,
   "metadata": {
    "ExecuteTime": {
     "end_time": "2020-09-20T01:47:15.774795Z",
     "start_time": "2020-09-20T01:47:15.760802Z"
    }
   },
   "outputs": [],
   "source": [
    "from sklearn.preprocessing import StandardScaler\n",
    "\n",
    "# Create a StandardScater model and fit it to the training data\n",
    "X_scaler = StandardScaler().fit(X_train)"
   ]
  },
  {
   "cell_type": "code",
   "execution_count": 37,
   "metadata": {
    "ExecuteTime": {
     "end_time": "2020-09-20T01:47:15.961575Z",
     "start_time": "2020-09-20T01:47:15.954571Z"
    }
   },
   "outputs": [],
   "source": [
    "# Transform the training and testing data using the X_scaler\n",
    "\n",
    "X_train_scaled = X_scaler.transform(X_train)\n",
    "X_test_scaled = X_scaler.transform(X_test)"
   ]
  },
  {
   "cell_type": "code",
   "execution_count": 38,
   "metadata": {
    "ExecuteTime": {
     "end_time": "2020-09-20T01:47:16.133274Z",
     "start_time": "2020-09-20T01:47:16.121318Z"
    }
   },
   "outputs": [],
   "source": [
    "# One-hot encoding\n",
    "y_train_categorical = to_categorical(y_train)\n",
    "y_test_categorical = to_categorical(y_test)"
   ]
  },
  {
   "cell_type": "code",
   "execution_count": 39,
   "metadata": {
    "ExecuteTime": {
     "end_time": "2020-09-20T01:47:16.322028Z",
     "start_time": "2020-09-20T01:47:16.295136Z"
    }
   },
   "outputs": [],
   "source": [
    "# first, create a normal neural network with 2 inputs, 6 hidden nodes, and 2 outputs\n",
    "from tensorflow.keras.models import Sequential\n",
    "from tensorflow.keras.layers import Dense\n",
    "import tensorflow as tf\n",
    "\n",
    "model = Sequential()\n",
    "model.add(Dense(units=6, activation='relu', input_dim=2, name='hidden'))\n",
    "model.add(Dense(units=2, activation='softmax', name='output'))"
   ]
  },
  {
   "cell_type": "code",
   "execution_count": 40,
   "metadata": {
    "ExecuteTime": {
     "end_time": "2020-09-20T01:47:16.522875Z",
     "start_time": "2020-09-20T01:47:16.511904Z"
    }
   },
   "outputs": [
    {
     "name": "stdout",
     "output_type": "stream",
     "text": [
      "Model: \"sequential_2\"\n",
      "_________________________________________________________________\n",
      "Layer (type)                 Output Shape              Param #   \n",
      "=================================================================\n",
      "hidden (Dense)               (None, 6)                 18        \n",
      "_________________________________________________________________\n",
      "output (Dense)               (None, 2)                 14        \n",
      "=================================================================\n",
      "Total params: 32\n",
      "Trainable params: 32\n",
      "Non-trainable params: 0\n",
      "_________________________________________________________________\n"
     ]
    }
   ],
   "source": [
    "model.summary()"
   ]
  },
  {
   "cell_type": "code",
   "execution_count": 41,
   "metadata": {
    "ExecuteTime": {
     "end_time": "2020-09-20T01:47:19.237242Z",
     "start_time": "2020-09-20T01:47:19.216296Z"
    }
   },
   "outputs": [],
   "source": [
    "# Compile the model\n",
    "model.compile(optimizer='adam',\n",
    "              loss='categorical_crossentropy',\n",
    "              metrics=['accuracy'])"
   ]
  },
  {
   "cell_type": "code",
   "execution_count": 42,
   "metadata": {
    "ExecuteTime": {
     "end_time": "2020-09-20T01:47:19.531603Z",
     "start_time": "2020-09-20T01:47:19.519635Z"
    }
   },
   "outputs": [],
   "source": [
    "config = tf.compat.v1.ConfigProto()\n",
    "config.gpu_options.allow_growth = True\n",
    "session = tf.compat.v1.Session(config=config)"
   ]
  },
  {
   "cell_type": "code",
   "execution_count": 43,
   "metadata": {
    "ExecuteTime": {
     "end_time": "2020-09-20T01:47:31.638205Z",
     "start_time": "2020-09-20T01:47:19.976941Z"
    },
    "scrolled": true
   },
   "outputs": [
    {
     "name": "stdout",
     "output_type": "stream",
     "text": [
      "Epoch 1/60\n",
      "112/112 - 0s - loss: 0.8997 - accuracy: 0.5310 - val_loss: 0.7358 - val_accuracy: 0.5745\n",
      "Epoch 2/60\n",
      "112/112 - 0s - loss: 0.6525 - accuracy: 0.6307 - val_loss: 0.5601 - val_accuracy: 0.7514\n",
      "Epoch 3/60\n",
      "112/112 - 0s - loss: 0.5334 - accuracy: 0.7955 - val_loss: 0.4912 - val_accuracy: 0.8259\n",
      "Epoch 4/60\n",
      "112/112 - 0s - loss: 0.4957 - accuracy: 0.8098 - val_loss: 0.4732 - val_accuracy: 0.8259\n",
      "Epoch 5/60\n",
      "112/112 - 0s - loss: 0.4873 - accuracy: 0.8098 - val_loss: 0.4691 - val_accuracy: 0.8259\n",
      "Epoch 6/60\n",
      "112/112 - 0s - loss: 0.4855 - accuracy: 0.8098 - val_loss: 0.4678 - val_accuracy: 0.8259\n",
      "Epoch 7/60\n",
      "112/112 - 0s - loss: 0.4850 - accuracy: 0.8098 - val_loss: 0.4669 - val_accuracy: 0.8259\n",
      "Epoch 8/60\n",
      "112/112 - 0s - loss: 0.4846 - accuracy: 0.8098 - val_loss: 0.4661 - val_accuracy: 0.8259\n",
      "Epoch 9/60\n",
      "112/112 - 0s - loss: 0.4843 - accuracy: 0.8098 - val_loss: 0.4657 - val_accuracy: 0.8259\n",
      "Epoch 10/60\n",
      "112/112 - 0s - loss: 0.4840 - accuracy: 0.8098 - val_loss: 0.4650 - val_accuracy: 0.8259\n",
      "Epoch 11/60\n",
      "112/112 - 0s - loss: 0.4837 - accuracy: 0.8098 - val_loss: 0.4643 - val_accuracy: 0.8259\n",
      "Epoch 12/60\n",
      "112/112 - 0s - loss: 0.4833 - accuracy: 0.8098 - val_loss: 0.4640 - val_accuracy: 0.8259\n",
      "Epoch 13/60\n",
      "112/112 - 0s - loss: 0.4832 - accuracy: 0.8098 - val_loss: 0.4637 - val_accuracy: 0.8259\n",
      "Epoch 14/60\n",
      "112/112 - 0s - loss: 0.4827 - accuracy: 0.8098 - val_loss: 0.4634 - val_accuracy: 0.8259\n",
      "Epoch 15/60\n",
      "112/112 - 0s - loss: 0.4827 - accuracy: 0.8098 - val_loss: 0.4630 - val_accuracy: 0.8259\n",
      "Epoch 16/60\n",
      "112/112 - 0s - loss: 0.4826 - accuracy: 0.8098 - val_loss: 0.4630 - val_accuracy: 0.8259\n",
      "Epoch 17/60\n",
      "112/112 - 0s - loss: 0.4825 - accuracy: 0.8098 - val_loss: 0.4628 - val_accuracy: 0.8259\n",
      "Epoch 18/60\n",
      "112/112 - 0s - loss: 0.4825 - accuracy: 0.8098 - val_loss: 0.4625 - val_accuracy: 0.8259\n",
      "Epoch 19/60\n",
      "112/112 - 0s - loss: 0.4822 - accuracy: 0.8098 - val_loss: 0.4625 - val_accuracy: 0.8259\n",
      "Epoch 20/60\n",
      "112/112 - 0s - loss: 0.4821 - accuracy: 0.8098 - val_loss: 0.4625 - val_accuracy: 0.8259\n",
      "Epoch 21/60\n",
      "112/112 - 0s - loss: 0.4820 - accuracy: 0.8098 - val_loss: 0.4621 - val_accuracy: 0.8259\n",
      "Epoch 22/60\n",
      "112/112 - 0s - loss: 0.4821 - accuracy: 0.8098 - val_loss: 0.4618 - val_accuracy: 0.8259\n",
      "Epoch 23/60\n",
      "112/112 - 0s - loss: 0.4820 - accuracy: 0.8098 - val_loss: 0.4619 - val_accuracy: 0.8259\n",
      "Epoch 24/60\n",
      "112/112 - 0s - loss: 0.4819 - accuracy: 0.8098 - val_loss: 0.4619 - val_accuracy: 0.8259\n",
      "Epoch 25/60\n",
      "112/112 - 0s - loss: 0.4819 - accuracy: 0.8098 - val_loss: 0.4616 - val_accuracy: 0.8259\n",
      "Epoch 26/60\n",
      "112/112 - 0s - loss: 0.4816 - accuracy: 0.8098 - val_loss: 0.4617 - val_accuracy: 0.8259\n",
      "Epoch 27/60\n",
      "112/112 - 0s - loss: 0.4815 - accuracy: 0.8098 - val_loss: 0.4614 - val_accuracy: 0.8259\n",
      "Epoch 28/60\n",
      "112/112 - 0s - loss: 0.4816 - accuracy: 0.8098 - val_loss: 0.4610 - val_accuracy: 0.8259\n",
      "Epoch 29/60\n",
      "112/112 - 0s - loss: 0.4815 - accuracy: 0.8098 - val_loss: 0.4610 - val_accuracy: 0.8259\n",
      "Epoch 30/60\n",
      "112/112 - 0s - loss: 0.4818 - accuracy: 0.8098 - val_loss: 0.4612 - val_accuracy: 0.8259\n",
      "Epoch 31/60\n",
      "112/112 - 0s - loss: 0.4817 - accuracy: 0.8098 - val_loss: 0.4613 - val_accuracy: 0.8259\n",
      "Epoch 32/60\n",
      "112/112 - 0s - loss: 0.4815 - accuracy: 0.8098 - val_loss: 0.4608 - val_accuracy: 0.8259\n",
      "Epoch 33/60\n",
      "112/112 - 0s - loss: 0.4816 - accuracy: 0.8098 - val_loss: 0.4610 - val_accuracy: 0.8259\n",
      "Epoch 34/60\n",
      "112/112 - 0s - loss: 0.4814 - accuracy: 0.8098 - val_loss: 0.4606 - val_accuracy: 0.8259\n",
      "Epoch 35/60\n",
      "112/112 - 0s - loss: 0.4815 - accuracy: 0.8098 - val_loss: 0.4610 - val_accuracy: 0.8259\n",
      "Epoch 36/60\n",
      "112/112 - 0s - loss: 0.4814 - accuracy: 0.8098 - val_loss: 0.4612 - val_accuracy: 0.8259\n",
      "Epoch 37/60\n",
      "112/112 - 0s - loss: 0.4814 - accuracy: 0.8098 - val_loss: 0.4606 - val_accuracy: 0.8259\n",
      "Epoch 38/60\n",
      "112/112 - 0s - loss: 0.4814 - accuracy: 0.8098 - val_loss: 0.4604 - val_accuracy: 0.8259\n",
      "Epoch 39/60\n",
      "112/112 - 0s - loss: 0.4815 - accuracy: 0.8098 - val_loss: 0.4610 - val_accuracy: 0.8259\n",
      "Epoch 40/60\n",
      "112/112 - 0s - loss: 0.4815 - accuracy: 0.8098 - val_loss: 0.4604 - val_accuracy: 0.8259\n",
      "Epoch 41/60\n",
      "112/112 - 0s - loss: 0.4814 - accuracy: 0.8098 - val_loss: 0.4610 - val_accuracy: 0.8259\n",
      "Epoch 42/60\n",
      "112/112 - 0s - loss: 0.4813 - accuracy: 0.8098 - val_loss: 0.4607 - val_accuracy: 0.8259\n",
      "Epoch 43/60\n",
      "112/112 - 0s - loss: 0.4813 - accuracy: 0.8098 - val_loss: 0.4603 - val_accuracy: 0.8259\n",
      "Epoch 44/60\n",
      "112/112 - 0s - loss: 0.4814 - accuracy: 0.8098 - val_loss: 0.4603 - val_accuracy: 0.8259\n",
      "Epoch 45/60\n",
      "112/112 - 0s - loss: 0.4813 - accuracy: 0.8098 - val_loss: 0.4605 - val_accuracy: 0.8259\n",
      "Epoch 46/60\n",
      "112/112 - 0s - loss: 0.4814 - accuracy: 0.8098 - val_loss: 0.4611 - val_accuracy: 0.8259\n",
      "Epoch 47/60\n",
      "112/112 - 0s - loss: 0.4815 - accuracy: 0.8098 - val_loss: 0.4605 - val_accuracy: 0.8259\n",
      "Epoch 48/60\n",
      "112/112 - 0s - loss: 0.4813 - accuracy: 0.8098 - val_loss: 0.4607 - val_accuracy: 0.8259\n",
      "Epoch 49/60\n",
      "112/112 - 0s - loss: 0.4813 - accuracy: 0.8098 - val_loss: 0.4610 - val_accuracy: 0.8259\n",
      "Epoch 50/60\n",
      "112/112 - 0s - loss: 0.4813 - accuracy: 0.8098 - val_loss: 0.4604 - val_accuracy: 0.8259\n",
      "Epoch 51/60\n",
      "112/112 - 0s - loss: 0.4815 - accuracy: 0.8098 - val_loss: 0.4608 - val_accuracy: 0.8259\n",
      "Epoch 52/60\n",
      "112/112 - 0s - loss: 0.4813 - accuracy: 0.8098 - val_loss: 0.4603 - val_accuracy: 0.8259\n",
      "Epoch 53/60\n",
      "112/112 - 0s - loss: 0.4813 - accuracy: 0.8098 - val_loss: 0.4606 - val_accuracy: 0.8259\n",
      "Epoch 54/60\n",
      "112/112 - 0s - loss: 0.4814 - accuracy: 0.8098 - val_loss: 0.4605 - val_accuracy: 0.8259\n",
      "Epoch 55/60\n",
      "112/112 - 0s - loss: 0.4813 - accuracy: 0.8098 - val_loss: 0.4606 - val_accuracy: 0.8259\n",
      "Epoch 56/60\n",
      "112/112 - 0s - loss: 0.4812 - accuracy: 0.8098 - val_loss: 0.4603 - val_accuracy: 0.8259\n",
      "Epoch 57/60\n",
      "112/112 - 0s - loss: 0.4811 - accuracy: 0.8098 - val_loss: 0.4605 - val_accuracy: 0.8259\n",
      "Epoch 58/60\n",
      "112/112 - 0s - loss: 0.4812 - accuracy: 0.8098 - val_loss: 0.4604 - val_accuracy: 0.8259\n",
      "Epoch 59/60\n",
      "112/112 - 0s - loss: 0.4812 - accuracy: 0.8098 - val_loss: 0.4602 - val_accuracy: 0.8259\n",
      "Epoch 60/60\n",
      "112/112 - 0s - loss: 0.4812 - accuracy: 0.8098 - val_loss: 0.4607 - val_accuracy: 0.8259\n"
     ]
    },
    {
     "data": {
      "text/plain": [
       "<tensorflow.python.keras.callbacks.History at 0x2c741510a90>"
      ]
     },
     "execution_count": 43,
     "metadata": {},
     "output_type": "execute_result"
    }
   ],
   "source": [
    "# Fit the model to the training data\n",
    "model.fit(\n",
    "    X_train_scaled,\n",
    "    y_train_categorical,\n",
    "    validation_data=(X_test_scaled, y_test_categorical),\n",
    "    epochs=60,\n",
    "    shuffle=True,\n",
    "    verbose=2\n",
    ")"
   ]
  },
  {
   "cell_type": "code",
   "execution_count": null,
   "metadata": {},
   "outputs": [],
   "source": []
  },
  {
   "cell_type": "markdown",
   "metadata": {},
   "source": [
    "### TEST: Deep Learning"
   ]
  },
  {
   "cell_type": "code",
   "execution_count": 50,
   "metadata": {
    "ExecuteTime": {
     "end_time": "2020-09-20T01:50:01.730245Z",
     "start_time": "2020-09-20T01:50:01.700325Z"
    }
   },
   "outputs": [],
   "source": [
    "deep_model = Sequential(name='deep_model')\n",
    "deep_model.add(Dense(units=6, activation='relu', input_dim=2, name='hidden'))\n",
    "deep_model.add(Dense(units=6, activation='relu', name='hidden_2'))\n",
    "deep_model.add(Dense(units=2, activation='softmax', name='output'))"
   ]
  },
  {
   "cell_type": "code",
   "execution_count": 51,
   "metadata": {
    "ExecuteTime": {
     "end_time": "2020-09-20T01:50:01.947967Z",
     "start_time": "2020-09-20T01:50:01.941983Z"
    }
   },
   "outputs": [
    {
     "name": "stdout",
     "output_type": "stream",
     "text": [
      "Model: \"deep_model\"\n",
      "_________________________________________________________________\n",
      "Layer (type)                 Output Shape              Param #   \n",
      "=================================================================\n",
      "hidden (Dense)               (None, 6)                 18        \n",
      "_________________________________________________________________\n",
      "hidden_2 (Dense)             (None, 6)                 42        \n",
      "_________________________________________________________________\n",
      "output (Dense)               (None, 2)                 14        \n",
      "=================================================================\n",
      "Total params: 74\n",
      "Trainable params: 74\n",
      "Non-trainable params: 0\n",
      "_________________________________________________________________\n"
     ]
    }
   ],
   "source": [
    "deep_model.summary()"
   ]
  },
  {
   "cell_type": "code",
   "execution_count": 52,
   "metadata": {
    "ExecuteTime": {
     "end_time": "2020-09-20T01:50:03.424741Z",
     "start_time": "2020-09-20T01:50:03.413739Z"
    }
   },
   "outputs": [],
   "source": [
    "# deep_model.compile(optimizer='adam',\n",
    "#                    loss='categorical_crossentropy',\n",
    "#                    metrics=['accuracy'])\n",
    "\n",
    "# deep_model.compile(optimizer='adam',\n",
    "#                    loss='mean_absolute_error',\n",
    "#                    metrics=['mean_absolute_error'])\n",
    "# deep_model.fit(\n",
    "#     X_train_scaled,\n",
    "#     y_train_categorical,\n",
    "#     validation_data=(X_test_scaled, y_test_categorical),\n",
    "#     epochs=100,\n",
    "#     shuffle=True,\n",
    "#     verbose=2\n",
    "# )"
   ]
  },
  {
   "cell_type": "code",
   "execution_count": 54,
   "metadata": {
    "ExecuteTime": {
     "end_time": "2020-09-20T01:50:42.531947Z",
     "start_time": "2020-09-20T01:50:22.741762Z"
    },
    "scrolled": true
   },
   "outputs": [
    {
     "name": "stdout",
     "output_type": "stream",
     "text": [
      "Epoch 1/100\n",
      "112/112 - 0s - loss: 0.5802 - accuracy: 0.7674 - val_loss: 0.4847 - val_accuracy: 0.8259\n",
      "Epoch 2/100\n",
      "112/112 - 0s - loss: 0.4915 - accuracy: 0.8098 - val_loss: 0.4724 - val_accuracy: 0.8259\n",
      "Epoch 3/100\n",
      "112/112 - 0s - loss: 0.4896 - accuracy: 0.8098 - val_loss: 0.4717 - val_accuracy: 0.8259\n",
      "Epoch 4/100\n",
      "112/112 - 0s - loss: 0.4890 - accuracy: 0.8098 - val_loss: 0.4714 - val_accuracy: 0.8259\n",
      "Epoch 5/100\n",
      "112/112 - 0s - loss: 0.4884 - accuracy: 0.8098 - val_loss: 0.4699 - val_accuracy: 0.8259\n",
      "Epoch 6/100\n",
      "112/112 - 0s - loss: 0.4881 - accuracy: 0.8098 - val_loss: 0.4702 - val_accuracy: 0.8259\n",
      "Epoch 7/100\n",
      "112/112 - 0s - loss: 0.4875 - accuracy: 0.8098 - val_loss: 0.4699 - val_accuracy: 0.8259\n",
      "Epoch 8/100\n",
      "112/112 - 0s - loss: 0.4872 - accuracy: 0.8098 - val_loss: 0.4689 - val_accuracy: 0.8259\n",
      "Epoch 9/100\n",
      "112/112 - 0s - loss: 0.4868 - accuracy: 0.8098 - val_loss: 0.4684 - val_accuracy: 0.8259\n",
      "Epoch 10/100\n",
      "112/112 - 0s - loss: 0.4864 - accuracy: 0.8098 - val_loss: 0.4681 - val_accuracy: 0.8259\n",
      "Epoch 11/100\n",
      "112/112 - 0s - loss: 0.4857 - accuracy: 0.8098 - val_loss: 0.4668 - val_accuracy: 0.8259\n",
      "Epoch 12/100\n",
      "112/112 - 0s - loss: 0.4856 - accuracy: 0.8098 - val_loss: 0.4668 - val_accuracy: 0.8259\n",
      "Epoch 13/100\n",
      "112/112 - 0s - loss: 0.4855 - accuracy: 0.8098 - val_loss: 0.4661 - val_accuracy: 0.8259\n",
      "Epoch 14/100\n",
      "112/112 - 0s - loss: 0.4853 - accuracy: 0.8098 - val_loss: 0.4655 - val_accuracy: 0.8259\n",
      "Epoch 15/100\n",
      "112/112 - 0s - loss: 0.4848 - accuracy: 0.8098 - val_loss: 0.4671 - val_accuracy: 0.8259\n",
      "Epoch 16/100\n",
      "112/112 - 0s - loss: 0.4846 - accuracy: 0.8098 - val_loss: 0.4652 - val_accuracy: 0.8259\n",
      "Epoch 17/100\n",
      "112/112 - 0s - loss: 0.4842 - accuracy: 0.8098 - val_loss: 0.4652 - val_accuracy: 0.8259\n",
      "Epoch 18/100\n",
      "112/112 - 0s - loss: 0.4840 - accuracy: 0.8098 - val_loss: 0.4643 - val_accuracy: 0.8259\n",
      "Epoch 19/100\n",
      "112/112 - 0s - loss: 0.4836 - accuracy: 0.8098 - val_loss: 0.4666 - val_accuracy: 0.8259\n",
      "Epoch 20/100\n",
      "112/112 - 0s - loss: 0.4838 - accuracy: 0.8098 - val_loss: 0.4645 - val_accuracy: 0.8259\n",
      "Epoch 21/100\n",
      "112/112 - 0s - loss: 0.4838 - accuracy: 0.8098 - val_loss: 0.4636 - val_accuracy: 0.8259\n",
      "Epoch 22/100\n",
      "112/112 - 0s - loss: 0.4837 - accuracy: 0.8098 - val_loss: 0.4639 - val_accuracy: 0.8259\n",
      "Epoch 23/100\n",
      "112/112 - 0s - loss: 0.4832 - accuracy: 0.8098 - val_loss: 0.4654 - val_accuracy: 0.8259\n",
      "Epoch 24/100\n",
      "112/112 - 0s - loss: 0.4832 - accuracy: 0.8098 - val_loss: 0.4641 - val_accuracy: 0.8259\n",
      "Epoch 25/100\n",
      "112/112 - 0s - loss: 0.4833 - accuracy: 0.8098 - val_loss: 0.4633 - val_accuracy: 0.8259\n",
      "Epoch 26/100\n",
      "112/112 - 0s - loss: 0.4835 - accuracy: 0.8098 - val_loss: 0.4634 - val_accuracy: 0.8259\n",
      "Epoch 27/100\n",
      "112/112 - 0s - loss: 0.4830 - accuracy: 0.8098 - val_loss: 0.4632 - val_accuracy: 0.8259\n",
      "Epoch 28/100\n",
      "112/112 - 0s - loss: 0.4829 - accuracy: 0.8098 - val_loss: 0.4635 - val_accuracy: 0.8259\n",
      "Epoch 29/100\n",
      "112/112 - 0s - loss: 0.4829 - accuracy: 0.8098 - val_loss: 0.4637 - val_accuracy: 0.8259\n",
      "Epoch 30/100\n",
      "112/112 - 0s - loss: 0.4829 - accuracy: 0.8098 - val_loss: 0.4634 - val_accuracy: 0.8259\n",
      "Epoch 31/100\n",
      "112/112 - 0s - loss: 0.4829 - accuracy: 0.8098 - val_loss: 0.4634 - val_accuracy: 0.8259\n",
      "Epoch 32/100\n",
      "112/112 - 0s - loss: 0.4828 - accuracy: 0.8098 - val_loss: 0.4625 - val_accuracy: 0.8259\n",
      "Epoch 33/100\n",
      "112/112 - 0s - loss: 0.4827 - accuracy: 0.8098 - val_loss: 0.4620 - val_accuracy: 0.8259\n",
      "Epoch 34/100\n",
      "112/112 - 0s - loss: 0.4828 - accuracy: 0.8098 - val_loss: 0.4624 - val_accuracy: 0.8259\n",
      "Epoch 35/100\n",
      "112/112 - 0s - loss: 0.4829 - accuracy: 0.8098 - val_loss: 0.4623 - val_accuracy: 0.8259\n",
      "Epoch 36/100\n",
      "112/112 - 0s - loss: 0.4827 - accuracy: 0.8098 - val_loss: 0.4621 - val_accuracy: 0.8259\n",
      "Epoch 37/100\n",
      "112/112 - 0s - loss: 0.4830 - accuracy: 0.8098 - val_loss: 0.4619 - val_accuracy: 0.8259\n",
      "Epoch 38/100\n",
      "112/112 - 0s - loss: 0.4827 - accuracy: 0.8098 - val_loss: 0.4632 - val_accuracy: 0.8259\n",
      "Epoch 39/100\n",
      "112/112 - 0s - loss: 0.4827 - accuracy: 0.8098 - val_loss: 0.4629 - val_accuracy: 0.8259\n",
      "Epoch 40/100\n",
      "112/112 - 0s - loss: 0.4827 - accuracy: 0.8098 - val_loss: 0.4625 - val_accuracy: 0.8259\n",
      "Epoch 41/100\n",
      "112/112 - 0s - loss: 0.4826 - accuracy: 0.8098 - val_loss: 0.4620 - val_accuracy: 0.8259\n",
      "Epoch 42/100\n",
      "112/112 - 0s - loss: 0.4823 - accuracy: 0.8098 - val_loss: 0.4617 - val_accuracy: 0.8259\n",
      "Epoch 43/100\n",
      "112/112 - 0s - loss: 0.4826 - accuracy: 0.8098 - val_loss: 0.4624 - val_accuracy: 0.8259\n",
      "Epoch 44/100\n",
      "112/112 - 0s - loss: 0.4823 - accuracy: 0.8098 - val_loss: 0.4617 - val_accuracy: 0.8259\n",
      "Epoch 45/100\n",
      "112/112 - 0s - loss: 0.4826 - accuracy: 0.8098 - val_loss: 0.4616 - val_accuracy: 0.8259\n",
      "Epoch 46/100\n",
      "112/112 - 0s - loss: 0.4823 - accuracy: 0.8098 - val_loss: 0.4617 - val_accuracy: 0.8259\n",
      "Epoch 47/100\n",
      "112/112 - 0s - loss: 0.4823 - accuracy: 0.8098 - val_loss: 0.4640 - val_accuracy: 0.8259\n",
      "Epoch 48/100\n",
      "112/112 - 0s - loss: 0.4825 - accuracy: 0.8098 - val_loss: 0.4626 - val_accuracy: 0.8259\n",
      "Epoch 49/100\n",
      "112/112 - 0s - loss: 0.4825 - accuracy: 0.8098 - val_loss: 0.4621 - val_accuracy: 0.8259\n",
      "Epoch 50/100\n",
      "112/112 - 0s - loss: 0.4822 - accuracy: 0.8098 - val_loss: 0.4614 - val_accuracy: 0.8259\n",
      "Epoch 51/100\n",
      "112/112 - 0s - loss: 0.4822 - accuracy: 0.8098 - val_loss: 0.4616 - val_accuracy: 0.8259\n",
      "Epoch 52/100\n",
      "112/112 - 0s - loss: 0.4822 - accuracy: 0.8098 - val_loss: 0.4617 - val_accuracy: 0.8259\n",
      "Epoch 53/100\n",
      "112/112 - 0s - loss: 0.4822 - accuracy: 0.8098 - val_loss: 0.4612 - val_accuracy: 0.8259\n",
      "Epoch 54/100\n",
      "112/112 - 0s - loss: 0.4824 - accuracy: 0.8098 - val_loss: 0.4611 - val_accuracy: 0.8259\n",
      "Epoch 55/100\n",
      "112/112 - 0s - loss: 0.4825 - accuracy: 0.8098 - val_loss: 0.4611 - val_accuracy: 0.8259\n",
      "Epoch 56/100\n",
      "112/112 - 0s - loss: 0.4822 - accuracy: 0.8098 - val_loss: 0.4614 - val_accuracy: 0.8259\n",
      "Epoch 57/100\n",
      "112/112 - 0s - loss: 0.4821 - accuracy: 0.8098 - val_loss: 0.4613 - val_accuracy: 0.8259\n",
      "Epoch 58/100\n",
      "112/112 - 0s - loss: 0.4822 - accuracy: 0.8098 - val_loss: 0.4614 - val_accuracy: 0.8259\n",
      "Epoch 59/100\n",
      "112/112 - 0s - loss: 0.4820 - accuracy: 0.8098 - val_loss: 0.4622 - val_accuracy: 0.8259\n",
      "Epoch 60/100\n",
      "112/112 - 0s - loss: 0.4820 - accuracy: 0.8098 - val_loss: 0.4617 - val_accuracy: 0.8259\n",
      "Epoch 61/100\n",
      "112/112 - 0s - loss: 0.4823 - accuracy: 0.8098 - val_loss: 0.4608 - val_accuracy: 0.8259\n",
      "Epoch 62/100\n",
      "112/112 - 0s - loss: 0.4819 - accuracy: 0.8098 - val_loss: 0.4621 - val_accuracy: 0.8259\n",
      "Epoch 63/100\n",
      "112/112 - 0s - loss: 0.4821 - accuracy: 0.8098 - val_loss: 0.4613 - val_accuracy: 0.8259\n",
      "Epoch 64/100\n",
      "112/112 - 0s - loss: 0.4823 - accuracy: 0.8098 - val_loss: 0.4607 - val_accuracy: 0.8259\n",
      "Epoch 65/100\n",
      "112/112 - 0s - loss: 0.4819 - accuracy: 0.8098 - val_loss: 0.4618 - val_accuracy: 0.8259\n",
      "Epoch 66/100\n",
      "112/112 - 0s - loss: 0.4817 - accuracy: 0.8098 - val_loss: 0.4609 - val_accuracy: 0.8259\n",
      "Epoch 67/100\n",
      "112/112 - 0s - loss: 0.4818 - accuracy: 0.8098 - val_loss: 0.4607 - val_accuracy: 0.8259\n",
      "Epoch 68/100\n",
      "112/112 - 0s - loss: 0.4817 - accuracy: 0.8098 - val_loss: 0.4611 - val_accuracy: 0.8259\n",
      "Epoch 69/100\n",
      "112/112 - 0s - loss: 0.4818 - accuracy: 0.8098 - val_loss: 0.4607 - val_accuracy: 0.8259\n",
      "Epoch 70/100\n",
      "112/112 - 0s - loss: 0.4818 - accuracy: 0.8098 - val_loss: 0.4602 - val_accuracy: 0.8259\n",
      "Epoch 71/100\n",
      "112/112 - 0s - loss: 0.4818 - accuracy: 0.8098 - val_loss: 0.4607 - val_accuracy: 0.8259\n",
      "Epoch 72/100\n",
      "112/112 - 0s - loss: 0.4817 - accuracy: 0.8098 - val_loss: 0.4605 - val_accuracy: 0.8259\n",
      "Epoch 73/100\n",
      "112/112 - 0s - loss: 0.4817 - accuracy: 0.8098 - val_loss: 0.4610 - val_accuracy: 0.8259\n",
      "Epoch 74/100\n",
      "112/112 - 0s - loss: 0.4815 - accuracy: 0.8098 - val_loss: 0.4603 - val_accuracy: 0.8259\n",
      "Epoch 75/100\n",
      "112/112 - 0s - loss: 0.4818 - accuracy: 0.8098 - val_loss: 0.4609 - val_accuracy: 0.8259\n",
      "Epoch 76/100\n",
      "112/112 - 0s - loss: 0.4817 - accuracy: 0.8098 - val_loss: 0.4604 - val_accuracy: 0.8259\n",
      "Epoch 77/100\n",
      "112/112 - 0s - loss: 0.4815 - accuracy: 0.8098 - val_loss: 0.4601 - val_accuracy: 0.8259\n",
      "Epoch 78/100\n",
      "112/112 - 0s - loss: 0.4814 - accuracy: 0.8098 - val_loss: 0.4616 - val_accuracy: 0.8259\n",
      "Epoch 79/100\n",
      "112/112 - 0s - loss: 0.4817 - accuracy: 0.8098 - val_loss: 0.4610 - val_accuracy: 0.8259\n",
      "Epoch 80/100\n",
      "112/112 - 0s - loss: 0.4815 - accuracy: 0.8098 - val_loss: 0.4598 - val_accuracy: 0.8259\n",
      "Epoch 81/100\n",
      "112/112 - 0s - loss: 0.4813 - accuracy: 0.8098 - val_loss: 0.4610 - val_accuracy: 0.8259\n"
     ]
    },
    {
     "name": "stdout",
     "output_type": "stream",
     "text": [
      "Epoch 82/100\n",
      "112/112 - 0s - loss: 0.4814 - accuracy: 0.8098 - val_loss: 0.4607 - val_accuracy: 0.8259\n",
      "Epoch 83/100\n",
      "112/112 - 0s - loss: 0.4815 - accuracy: 0.8098 - val_loss: 0.4612 - val_accuracy: 0.8259\n",
      "Epoch 84/100\n",
      "112/112 - 0s - loss: 0.4813 - accuracy: 0.8098 - val_loss: 0.4607 - val_accuracy: 0.8259\n",
      "Epoch 85/100\n",
      "112/112 - 0s - loss: 0.4813 - accuracy: 0.8098 - val_loss: 0.4600 - val_accuracy: 0.8259\n",
      "Epoch 86/100\n",
      "112/112 - 0s - loss: 0.4813 - accuracy: 0.8098 - val_loss: 0.4606 - val_accuracy: 0.8259\n",
      "Epoch 87/100\n",
      "112/112 - 0s - loss: 0.4815 - accuracy: 0.8098 - val_loss: 0.4603 - val_accuracy: 0.8259\n",
      "Epoch 88/100\n",
      "112/112 - 0s - loss: 0.4813 - accuracy: 0.8098 - val_loss: 0.4606 - val_accuracy: 0.8259\n",
      "Epoch 89/100\n",
      "112/112 - 0s - loss: 0.4814 - accuracy: 0.8098 - val_loss: 0.4604 - val_accuracy: 0.8259\n",
      "Epoch 90/100\n",
      "112/112 - 0s - loss: 0.4811 - accuracy: 0.8098 - val_loss: 0.4608 - val_accuracy: 0.8259\n",
      "Epoch 91/100\n",
      "112/112 - 0s - loss: 0.4810 - accuracy: 0.8098 - val_loss: 0.4600 - val_accuracy: 0.8259\n",
      "Epoch 92/100\n",
      "112/112 - 0s - loss: 0.4812 - accuracy: 0.8098 - val_loss: 0.4609 - val_accuracy: 0.8259\n",
      "Epoch 93/100\n",
      "112/112 - 0s - loss: 0.4814 - accuracy: 0.8098 - val_loss: 0.4608 - val_accuracy: 0.8259\n",
      "Epoch 94/100\n",
      "112/112 - 0s - loss: 0.4814 - accuracy: 0.8098 - val_loss: 0.4610 - val_accuracy: 0.8259\n",
      "Epoch 95/100\n",
      "112/112 - 0s - loss: 0.4816 - accuracy: 0.8098 - val_loss: 0.4598 - val_accuracy: 0.8259\n",
      "Epoch 96/100\n",
      "112/112 - 0s - loss: 0.4813 - accuracy: 0.8098 - val_loss: 0.4602 - val_accuracy: 0.8259\n",
      "Epoch 97/100\n",
      "112/112 - 0s - loss: 0.4813 - accuracy: 0.8098 - val_loss: 0.4600 - val_accuracy: 0.8259\n",
      "Epoch 98/100\n",
      "112/112 - 0s - loss: 0.4812 - accuracy: 0.8098 - val_loss: 0.4608 - val_accuracy: 0.8259\n",
      "Epoch 99/100\n",
      "112/112 - 0s - loss: 0.4815 - accuracy: 0.8098 - val_loss: 0.4607 - val_accuracy: 0.8259\n",
      "Epoch 100/100\n",
      "112/112 - 0s - loss: 0.4813 - accuracy: 0.8098 - val_loss: 0.4598 - val_accuracy: 0.8259\n"
     ]
    },
    {
     "data": {
      "text/plain": [
       "<tensorflow.python.keras.callbacks.History at 0x2c7415bd898>"
      ]
     },
     "execution_count": 54,
     "metadata": {},
     "output_type": "execute_result"
    }
   ],
   "source": [
    "deep_model.compile(optimizer='adam',\n",
    "                   loss='categorical_crossentropy',\n",
    "                   metrics=['accuracy'])\n",
    "deep_model.fit(\n",
    "    X_train_scaled,\n",
    "    y_train_categorical,\n",
    "    validation_data=(X_test_scaled, y_test_categorical),\n",
    "    epochs=100,\n",
    "    shuffle=True,\n",
    "    verbose=2\n",
    ")"
   ]
  },
  {
   "cell_type": "markdown",
   "metadata": {},
   "source": [
    "### Compare the models below"
   ]
  },
  {
   "cell_type": "code",
   "execution_count": 48,
   "metadata": {
    "ExecuteTime": {
     "end_time": "2020-09-20T01:48:24.740507Z",
     "start_time": "2020-09-20T01:48:24.648287Z"
    }
   },
   "outputs": [
    {
     "name": "stdout",
     "output_type": "stream",
     "text": [
      "55/55 - 0s - loss: 0.4607 - accuracy: 0.8259\n",
      "Normal Neural Network - Loss: 0.46072763204574585, Accuracy: 0.8259385824203491\n"
     ]
    }
   ],
   "source": [
    "model_loss, model_accuracy = model.evaluate(\n",
    "    X_test_scaled, y_test_categorical, verbose=2)\n",
    "print(\n",
    "    f\"Normal Neural Network - Loss: {model_loss}, Accuracy: {model_accuracy}\")"
   ]
  },
  {
   "cell_type": "code",
   "execution_count": 49,
   "metadata": {
    "ExecuteTime": {
     "end_time": "2020-09-20T01:48:24.881784Z",
     "start_time": "2020-09-20T01:48:24.741487Z"
    }
   },
   "outputs": [
    {
     "name": "stdout",
     "output_type": "stream",
     "text": [
      "WARNING:tensorflow:Callbacks method `on_test_batch_end` is slow compared to the batch time (batch time: 0.0000s vs `on_test_batch_end` time: 0.0010s). Check your callbacks.\n",
      "55/55 - 0s - loss: 0.4600 - accuracy: 0.8259\n",
      "Deep Neural Network - Loss: 0.46001899242401123, Accuracy: 0.8259385824203491\n"
     ]
    }
   ],
   "source": [
    "model_loss, model_accuracy = deep_model.evaluate(\n",
    "    X_test_scaled, y_test_categorical, verbose=2)\n",
    "print(f\"Deep Neural Network - Loss: {model_loss}, Accuracy: {model_accuracy}\")"
   ]
  },
  {
   "cell_type": "code",
   "execution_count": null,
   "metadata": {
    "ExecuteTime": {
     "end_time": "2020-09-20T02:12:34.334234Z",
     "start_time": "2020-09-20T02:12:34.207491Z"
    }
   },
   "outputs": [],
   "source": []
  },
  {
   "cell_type": "markdown",
   "metadata": {},
   "source": [
    "-----------------"
   ]
  },
  {
   "cell_type": "code",
   "execution_count": 103,
   "metadata": {
    "ExecuteTime": {
     "end_time": "2020-09-20T02:14:48.898501Z",
     "start_time": "2020-09-20T02:14:48.894484Z"
    }
   },
   "outputs": [],
   "source": [
    "import tensorflow.keras as keras"
   ]
  },
  {
   "cell_type": "code",
   "execution_count": 107,
   "metadata": {
    "ExecuteTime": {
     "end_time": "2020-09-20T02:15:13.726325Z",
     "start_time": "2020-09-20T02:15:13.710318Z"
    }
   },
   "outputs": [],
   "source": [
    "checkpoint_name = 'Weights-{epoch:03d}--{val_loss:.5f}.hdf5' \n",
    "checkpoint = ModelCheckpoint(checkpoint_name, monitor='val_loss', verbose = 1, save_best_only = True, mode ='auto')\n",
    "callbacks_list = [checkpoint]"
   ]
  },
  {
   "cell_type": "code",
   "execution_count": null,
   "metadata": {
    "ExecuteTime": {
     "end_time": "2020-09-20T02:18:56.123465Z",
     "start_time": "2020-09-20T02:18:56.102530Z"
    }
   },
   "outputs": [],
   "source": []
  },
  {
   "cell_type": "code",
   "execution_count": null,
   "metadata": {},
   "outputs": [],
   "source": []
  },
  {
   "cell_type": "code",
   "execution_count": null,
   "metadata": {},
   "outputs": [],
   "source": []
  },
  {
   "cell_type": "code",
   "execution_count": null,
   "metadata": {},
   "outputs": [],
   "source": []
  },
  {
   "cell_type": "code",
   "execution_count": null,
   "metadata": {},
   "outputs": [],
   "source": []
  },
  {
   "cell_type": "markdown",
   "metadata": {},
   "source": [
    "--------"
   ]
  },
  {
   "cell_type": "markdown",
   "metadata": {},
   "source": [
    "### Mean Square Error"
   ]
  },
  {
   "cell_type": "code",
   "execution_count": 70,
   "metadata": {
    "ExecuteTime": {
     "end_time": "2020-09-20T02:06:18.905944Z",
     "start_time": "2020-09-20T02:06:18.888963Z"
    }
   },
   "outputs": [
    {
     "ename": "NameError",
     "evalue": "name 'y_test_scaled' is not defined",
     "output_type": "error",
     "traceback": [
      "\u001b[1;31m---------------------------------------------------------------------------\u001b[0m",
      "\u001b[1;31mNameError\u001b[0m                                 Traceback (most recent call last)",
      "\u001b[1;32m<ipython-input-70-867d3838020c>\u001b[0m in \u001b[0;36m<module>\u001b[1;34m\u001b[0m\n\u001b[0;32m      3\u001b[0m \u001b[1;32mfrom\u001b[0m \u001b[0msklearn\u001b[0m\u001b[1;33m.\u001b[0m\u001b[0mmetrics\u001b[0m \u001b[1;32mimport\u001b[0m \u001b[0mmean_squared_error\u001b[0m\u001b[1;33m\u001b[0m\u001b[1;33m\u001b[0m\u001b[0m\n\u001b[0;32m      4\u001b[0m \u001b[1;33m\u001b[0m\u001b[0m\n\u001b[1;32m----> 5\u001b[1;33m \u001b[0mMSE\u001b[0m \u001b[1;33m=\u001b[0m \u001b[0mmean_squared_error\u001b[0m\u001b[1;33m(\u001b[0m\u001b[0my_test_scaled\u001b[0m\u001b[1;33m,\u001b[0m \u001b[0my_test_prediction\u001b[0m\u001b[1;33m)\u001b[0m\u001b[1;33m\u001b[0m\u001b[1;33m\u001b[0m\u001b[0m\n\u001b[0m\u001b[0;32m      6\u001b[0m \u001b[0mr2\u001b[0m \u001b[1;33m=\u001b[0m \u001b[0mmodel\u001b[0m\u001b[1;33m.\u001b[0m\u001b[0mscore\u001b[0m\u001b[1;33m(\u001b[0m\u001b[0mX_test_scaled\u001b[0m\u001b[1;33m,\u001b[0m \u001b[0my_test_scaled\u001b[0m\u001b[1;33m)\u001b[0m\u001b[1;33m\u001b[0m\u001b[1;33m\u001b[0m\u001b[0m\n\u001b[0;32m      7\u001b[0m \u001b[1;33m\u001b[0m\u001b[0m\n",
      "\u001b[1;31mNameError\u001b[0m: name 'y_test_scaled' is not defined"
     ]
    }
   ],
   "source": [
    "# Used X_test_scaled, y_test_scaled, and model.predict(X_test_scaled) to calculate MSE and R2\n",
    "\n",
    "from sklearn.metrics import mean_squared_error\n",
    "\n",
    "MSE = mean_squared_error(y_test_scaled, y_test_prediction)\n",
    "r2 = model.score(X_test_scaled, y_test_scaled)\n",
    "\n",
    "print(f\"MSE: {MSE}, R2: {r2}\")"
   ]
  },
  {
   "cell_type": "code",
   "execution_count": 71,
   "metadata": {
    "ExecuteTime": {
     "end_time": "2020-09-20T02:06:19.419698Z",
     "start_time": "2020-09-20T02:06:19.395763Z"
    }
   },
   "outputs": [
    {
     "ename": "NameError",
     "evalue": "name 'y_train_scaled' is not defined",
     "output_type": "error",
     "traceback": [
      "\u001b[1;31m---------------------------------------------------------------------------\u001b[0m",
      "\u001b[1;31mNameError\u001b[0m                                 Traceback (most recent call last)",
      "\u001b[1;32m<ipython-input-71-8e84bd516c3b>\u001b[0m in \u001b[0;36m<module>\u001b[1;34m\u001b[0m\n\u001b[0;32m      5\u001b[0m \u001b[0mlasso\u001b[0m \u001b[1;33m=\u001b[0m \u001b[0mLasso\u001b[0m\u001b[1;33m(\u001b[0m\u001b[0malpha\u001b[0m\u001b[1;33m=\u001b[0m\u001b[1;36m.01\u001b[0m\u001b[1;33m)\u001b[0m\u001b[1;33m\u001b[0m\u001b[1;33m\u001b[0m\u001b[0m\n\u001b[0;32m      6\u001b[0m \u001b[1;33m\u001b[0m\u001b[0m\n\u001b[1;32m----> 7\u001b[1;33m \u001b[0mlasso\u001b[0m\u001b[1;33m.\u001b[0m\u001b[0mfit\u001b[0m\u001b[1;33m(\u001b[0m\u001b[0mX_train_scaled\u001b[0m\u001b[1;33m,\u001b[0m \u001b[0my_train_scaled\u001b[0m\u001b[1;33m)\u001b[0m\u001b[1;33m\u001b[0m\u001b[1;33m\u001b[0m\u001b[0m\n\u001b[0m\u001b[0;32m      8\u001b[0m \u001b[1;33m\u001b[0m\u001b[0m\n\u001b[0;32m      9\u001b[0m \u001b[0mpredictions\u001b[0m \u001b[1;33m=\u001b[0m \u001b[0mlasso\u001b[0m\u001b[1;33m.\u001b[0m\u001b[0mpredict\u001b[0m\u001b[1;33m(\u001b[0m\u001b[0mX_test_scaled\u001b[0m\u001b[1;33m)\u001b[0m\u001b[1;33m\u001b[0m\u001b[1;33m\u001b[0m\u001b[0m\n",
      "\u001b[1;31mNameError\u001b[0m: name 'y_train_scaled' is not defined"
     ]
    }
   ],
   "source": [
    "# LASSO model\n",
    "# Note: Use an alpha of .01 when creating the model for this activity\n",
    "from sklearn.linear_model import Lasso\n",
    "\n",
    "lasso = Lasso(alpha=.01)\n",
    "\n",
    "lasso.fit(X_train_scaled, y_train_scaled)\n",
    "\n",
    "predictions = lasso.predict(X_test_scaled)\n",
    "\n",
    "MSE = mean_squared_error(y_test_scaled, predictions)\n",
    "r2 = lasso.score(X_test_scaled, y_test_scaled)\n",
    "\n",
    "print(f\"MSE: {MSE}, R2: {r2}\")"
   ]
  },
  {
   "cell_type": "code",
   "execution_count": 72,
   "metadata": {
    "ExecuteTime": {
     "end_time": "2020-09-20T02:06:19.528953Z",
     "start_time": "2020-09-20T02:06:19.513107Z"
    }
   },
   "outputs": [
    {
     "ename": "NameError",
     "evalue": "name 'y_train_scaled' is not defined",
     "output_type": "error",
     "traceback": [
      "\u001b[1;31m---------------------------------------------------------------------------\u001b[0m",
      "\u001b[1;31mNameError\u001b[0m                                 Traceback (most recent call last)",
      "\u001b[1;32m<ipython-input-72-708c740ae284>\u001b[0m in \u001b[0;36m<module>\u001b[1;34m\u001b[0m\n\u001b[0;32m      5\u001b[0m \u001b[1;31m### BEGIN SOLUTION\u001b[0m\u001b[1;33m\u001b[0m\u001b[1;33m\u001b[0m\u001b[1;33m\u001b[0m\u001b[0m\n\u001b[0;32m      6\u001b[0m \u001b[0mridge\u001b[0m \u001b[1;33m=\u001b[0m \u001b[0mRidge\u001b[0m\u001b[1;33m(\u001b[0m\u001b[0malpha\u001b[0m\u001b[1;33m=\u001b[0m\u001b[1;36m.01\u001b[0m\u001b[1;33m)\u001b[0m\u001b[1;33m\u001b[0m\u001b[1;33m\u001b[0m\u001b[0m\n\u001b[1;32m----> 7\u001b[1;33m \u001b[0mridge\u001b[0m\u001b[1;33m.\u001b[0m\u001b[0mfit\u001b[0m\u001b[1;33m(\u001b[0m\u001b[0mX_train_scaled\u001b[0m\u001b[1;33m,\u001b[0m \u001b[0my_train_scaled\u001b[0m\u001b[1;33m)\u001b[0m\u001b[1;33m\u001b[0m\u001b[1;33m\u001b[0m\u001b[0m\n\u001b[0m\u001b[0;32m      8\u001b[0m \u001b[1;33m\u001b[0m\u001b[0m\n\u001b[0;32m      9\u001b[0m \u001b[0mpredictions\u001b[0m \u001b[1;33m=\u001b[0m \u001b[0mridge\u001b[0m\u001b[1;33m.\u001b[0m\u001b[0mpredict\u001b[0m\u001b[1;33m(\u001b[0m\u001b[0mX_test_scaled\u001b[0m\u001b[1;33m)\u001b[0m\u001b[1;33m\u001b[0m\u001b[1;33m\u001b[0m\u001b[0m\n",
      "\u001b[1;31mNameError\u001b[0m: name 'y_train_scaled' is not defined"
     ]
    }
   ],
   "source": [
    "# Ridge model\n",
    "# Note: Use an alpha of .01 when creating the model for this activity\n",
    "from sklearn.linear_model import Ridge\n",
    "\n",
    "### BEGIN SOLUTION\n",
    "ridge = Ridge(alpha=.01)\n",
    "ridge.fit(X_train_scaled, y_train_scaled)\n",
    "\n",
    "predictions = ridge.predict(X_test_scaled)\n",
    "\n",
    "MSE = mean_squared_error(y_test_scaled, predictions)\n",
    "r2 = ridge.score(X_test_scaled, y_test_scaled)\n",
    "### END SOLUTION\n",
    "\n",
    "print(f\"MSE: {MSE}, R2: {r2}\")"
   ]
  },
  {
   "cell_type": "code",
   "execution_count": null,
   "metadata": {
    "ExecuteTime": {
     "end_time": "2020-09-19T19:30:50.034739Z",
     "start_time": "2020-09-19T19:30:50.025765Z"
    }
   },
   "outputs": [],
   "source": [
    "# ElasticNet model\n",
    "# Note: Use an alpha of .01 when creating the model for this activity\n",
    "from sklearn.linear_model import ElasticNet\n",
    "\n",
    "### BEGIN SOLUTION\n",
    "elasticnet = ElasticNet(alpha=.01)\n",
    "elasticnet.fit(X_train_scaled, y_train_scaled)\n",
    "\n",
    "predictions = elasticnet.predict(X_test_scaled)\n",
    "\n",
    "MSE = mean_squared_error(y_test_scaled, predictions)\n",
    "r2 = elasticnet.score(X_test_scaled, y_test_scaled)\n",
    "### END SOLUTION\n",
    "\n",
    "print(f\"MSE: {MSE}, R2: {r2}\")\n"
   ]
  },
  {
   "cell_type": "markdown",
   "metadata": {},
   "source": [
    "---------------"
   ]
  },
  {
   "cell_type": "markdown",
   "metadata": {},
   "source": [
    "## YIL variables"
   ]
  },
  {
   "cell_type": "code",
   "execution_count": 73,
   "metadata": {
    "ExecuteTime": {
     "end_time": "2020-09-20T02:06:26.224140Z",
     "start_time": "2020-09-20T02:06:26.202225Z"
    }
   },
   "outputs": [],
   "source": [
    "### DF for each year. decending\n",
    "first_year = twenty_years_all_players[twenty_years_all_players['YIL'] == 1]\n",
    "second_year = twenty_years_all_players[twenty_years_all_players['YIL'] == 2]\n",
    "third_year = twenty_years_all_players[twenty_years_all_players['YIL'] == 3]\n",
    "fourth_year = twenty_years_all_players[twenty_years_all_players['YIL'] == 4]\n",
    "fifth_year = twenty_years_all_players[twenty_years_all_players['YIL'] == 5]"
   ]
  },
  {
   "cell_type": "markdown",
   "metadata": {
    "ExecuteTime": {
     "end_time": "2020-09-19T00:17:15.961383Z",
     "start_time": "2020-09-19T00:17:15.930465Z"
    }
   },
   "source": [
    "## Plot YIL to Total Points"
   ]
  },
  {
   "cell_type": "markdown",
   "metadata": {},
   "source": [
    "First Year Total Points per Position"
   ]
  },
  {
   "cell_type": "code",
   "execution_count": null,
   "metadata": {
    "ExecuteTime": {
     "end_time": "2020-09-19T05:03:47.882702Z",
     "start_time": "2020-09-19T05:03:47.811861Z"
    }
   },
   "outputs": [],
   "source": []
  },
  {
   "cell_type": "code",
   "execution_count": null,
   "metadata": {
    "ExecuteTime": {
     "end_time": "2020-09-20T00:56:21.920370Z",
     "start_time": "2020-09-20T00:56:21.715883Z"
    }
   },
   "outputs": [],
   "source": [
    "import plotly.express as px\n",
    "\n",
    "fig = px.scatter(twenty_years_all_players, x=\"MIN\", y=\"PTS\", log_x=True, hover_name=\"PLAYER_NAME\", hover_data=[\"PTS\", 'SEASON_ID', 'TEAM_ABBREVIATION'], color=\"YIL\",\n",
    "                 size='PTS', title=\"First Year Total Points per Position\")\n",
    "fig.show()"
   ]
  },
  {
   "cell_type": "markdown",
   "metadata": {},
   "source": [
    "Second Year Total Points per Position"
   ]
  },
  {
   "cell_type": "code",
   "execution_count": null,
   "metadata": {
    "ExecuteTime": {
     "end_time": "2020-09-20T00:56:30.150076Z",
     "start_time": "2020-09-20T00:56:30.074485Z"
    }
   },
   "outputs": [],
   "source": [
    "import plotly.express as px\n",
    "\n",
    "fig = px.scatter(second_year, x=\"PTS\", y=\"POSITION\", log_x=True, hover_name=\"PLAYER_NAME\", hover_data=[\"PTS\"], color=\"PTS\",\n",
    "                 size='PTS', title=\"Second Year Total Points per Position\")\n",
    "fig.show()"
   ]
  },
  {
   "cell_type": "code",
   "execution_count": null,
   "metadata": {
    "ExecuteTime": {
     "end_time": "2020-09-20T00:56:35.385535Z",
     "start_time": "2020-09-20T00:56:35.370574Z"
    }
   },
   "outputs": [],
   "source": [
    "test = list(first_year.columns.values)"
   ]
  },
  {
   "cell_type": "code",
   "execution_count": null,
   "metadata": {
    "ExecuteTime": {
     "end_time": "2020-09-20T00:56:35.665638Z",
     "start_time": "2020-09-20T00:56:35.570518Z"
    }
   },
   "outputs": [],
   "source": [
    "fig = px.scatter_polar(first_year, r=\"PTS\", theta=\"POSITION\", color=\"PTS\",\n",
    "                    template=\"plotly_dark\", title=\"First Year Total Points per Position\")\n",
    "fig.show()"
   ]
  },
  {
   "cell_type": "code",
   "execution_count": null,
   "metadata": {
    "ExecuteTime": {
     "end_time": "2020-09-20T00:56:35.869794Z",
     "start_time": "2020-09-20T00:56:35.859821Z"
    }
   },
   "outputs": [],
   "source": [
    "twenty_years_all_players[['YIL','PTS','STL','BLK','REB','MIN','AST','TOV']].columns"
   ]
  },
  {
   "cell_type": "markdown",
   "metadata": {},
   "source": [
    "https://plotly.com/python/polar-chart/"
   ]
  },
  {
   "cell_type": "code",
   "execution_count": null,
   "metadata": {
    "ExecuteTime": {
     "end_time": "2020-09-20T00:02:37.169654Z",
     "start_time": "2020-09-20T00:02:37.154696Z"
    }
   },
   "outputs": [],
   "source": [
    "# import plotly.express as px\n",
    "# df = px.data.wind()\n",
    "# fig = px.line_polar(twenty_years_all_players, r=\"PTS\", theta=\"POSITION\", color=\"YIL\", line_close=True,\n",
    "#                     color_discrete_sequence=px.colors.sequential.Plasma_r,\n",
    "#                     template=\"plotly_dark\",)\n",
    "# fig.show()"
   ]
  },
  {
   "cell_type": "code",
   "execution_count": null,
   "metadata": {
    "ExecuteTime": {
     "end_time": "2020-09-19T00:40:31.232732Z",
     "start_time": "2020-09-19T00:40:31.220765Z"
    }
   },
   "outputs": [],
   "source": [
    "# df = px.data.wind()\n",
    "# df"
   ]
  },
  {
   "cell_type": "code",
   "execution_count": null,
   "metadata": {},
   "outputs": [],
   "source": []
  },
  {
   "cell_type": "code",
   "execution_count": null,
   "metadata": {},
   "outputs": [],
   "source": []
  },
  {
   "cell_type": "code",
   "execution_count": null,
   "metadata": {},
   "outputs": [],
   "source": []
  },
  {
   "cell_type": "code",
   "execution_count": null,
   "metadata": {},
   "outputs": [],
   "source": []
  }
 ],
 "metadata": {
  "kernelspec": {
   "display_name": "Python 3",
   "language": "python",
   "name": "python3"
  },
  "language_info": {
   "codemirror_mode": {
    "name": "ipython",
    "version": 3
   },
   "file_extension": ".py",
   "mimetype": "text/x-python",
   "name": "python",
   "nbconvert_exporter": "python",
   "pygments_lexer": "ipython3",
   "version": "3.7.1"
  }
 },
 "nbformat": 4,
 "nbformat_minor": 4
}
