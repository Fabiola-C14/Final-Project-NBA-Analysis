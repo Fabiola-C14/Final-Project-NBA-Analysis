{
 "cells": [
  {
   "cell_type": "code",
   "execution_count": null,
   "metadata": {
    "ExecuteTime": {
     "end_time": "2020-09-19T18:48:38.357533Z",
     "start_time": "2020-09-19T18:48:37.830778Z"
    }
   },
   "outputs": [],
   "source": [
    "# Dependencies and Setup\n",
    "import pandas as pd\n",
    "import numpy as np\n",
    "import time\n",
    "from pprint import pprint\n",
    "import requests\n",
    "from datetime import date, timedelta, datetime\n",
    "import json\n",
    "from pprint import pprint\n",
    "from tqdm import tqdm\n",
    "from tqdm import tqdm_notebook\n",
    "# sqlite Dependencies\n",
    "# ----------------------------------\n",
    "# Imports the method used for connecting to DBs\n",
    "from sqlalchemy import create_engine\n",
    "# Allow us to declare column types\n",
    "from sqlalchemy import Column, Integer, String, Text, DateTime, Float, Boolean, ForeignKey\n",
    "from sqlalchemy.orm import relationship\n",
    "from sqlalchemy.ext.declarative import declarative_base\n",
    "from sqlalchemy.orm import Session"
   ]
  },
  {
   "cell_type": "code",
   "execution_count": null,
   "metadata": {
    "ExecuteTime": {
     "end_time": "2020-09-19T18:48:38.435632Z",
     "start_time": "2020-09-19T18:48:38.358530Z"
    }
   },
   "outputs": [],
   "source": [
    "from nba_api.stats.endpoints import playercareerstats, drafthistory, commonplayerinfo, playerawards"
   ]
  },
  {
   "cell_type": "code",
   "execution_count": null,
   "metadata": {
    "ExecuteTime": {
     "end_time": "2020-09-19T18:48:38.450966Z",
     "start_time": "2020-09-19T18:48:38.436630Z"
    }
   },
   "outputs": [],
   "source": [
    "# Not used\n",
    "# cumestatsplayer,draftcombinedrillresults,playerdashboardbyteamperformance, leagueleaders, leaguedashplayerstats, draftcombinenonstationaryshooting, draftcombinestats, commonallplayers,"
   ]
  },
  {
   "cell_type": "code",
   "execution_count": null,
   "metadata": {
    "ExecuteTime": {
     "end_time": "2020-09-19T18:48:39.324557Z",
     "start_time": "2020-09-19T18:48:39.309173Z"
    }
   },
   "outputs": [],
   "source": [
    "headers = {'Host': 'stats.nba.com', \n",
    "           'User-Agent': 'Mozilla/5.0 (Windows NT 10.0; Win64; x64; rv:72.0) Gecko/20100101 Firefox/72.0',\n",
    "           'Accept': 'application/json, text/plain, */*',\n",
    "           'Accept-Language': 'en-US,en;q=0.5',\n",
    "           'Accept-Encoding': 'gzip, deflate, br',\n",
    "           'x-nba-stats-origin': 'stats',\n",
    "           'x-nba-stats-token': 'true',\n",
    "           'Connection': 'keep-alive',\n",
    "           'Referer': 'https://stats.nba.com/',\n",
    "           'Pragma': 'no-cache',\n",
    "           'Cache-Control': 'no-cache'}"
   ]
  },
  {
   "cell_type": "code",
   "execution_count": null,
   "metadata": {
    "ExecuteTime": {
     "end_time": "2020-09-18T20:18:32.553776Z",
     "start_time": "2020-09-18T20:18:32.549787Z"
    }
   },
   "outputs": [],
   "source": [
    "# pd.show_versions()"
   ]
  },
  {
   "cell_type": "markdown",
   "metadata": {
    "collapsed": "true"
   },
   "source": [
    "## Static Examples"
   ]
  },
  {
   "cell_type": "code",
   "execution_count": null,
   "metadata": {
    "ExecuteTime": {
     "end_time": "2020-09-19T18:48:52.351854Z",
     "start_time": "2020-09-19T18:48:52.327535Z"
    },
    "scrolled": true
   },
   "outputs": [],
   "source": [
    "from nba_api.stats.static import players\n",
    "# Find players by full name.\n",
    "players.find_players_by_full_name('Stromile Swift')\n",
    "\n",
    "# # Find players by first name.\n",
    "# players.find_players_by_first_name('lebron')\n",
    "\n",
    "# # Find players by last name.\n",
    "# players.find_players_by_last_name('^(james|love)$')\n",
    "\n",
    "# Get all players.\n",
    "# players.get_players()"
   ]
  },
  {
   "cell_type": "code",
   "execution_count": null,
   "metadata": {
    "ExecuteTime": {
     "end_time": "2020-09-19T00:12:13.496530Z",
     "start_time": "2020-09-19T00:12:13.373417Z"
    }
   },
   "outputs": [],
   "source": []
  },
  {
   "cell_type": "markdown",
   "metadata": {
    "collapsed": "true",
    "heading_collapsed": true
   },
   "source": [
    "## Begin Database Connection (sqlite)"
   ]
  },
  {
   "cell_type": "code",
   "execution_count": null,
   "metadata": {
    "hidden": true
   },
   "outputs": [],
   "source": []
  },
  {
   "cell_type": "code",
   "execution_count": null,
   "metadata": {
    "hidden": true
   },
   "outputs": [],
   "source": [
    "# Base = declarative_base()\n",
    "# engine = create_engine('sqlite:///db.sqlite', echo=False)\n",
    "# conn = engine.connect()\n",
    "# Create (if not already in existence) the tables associated with our classes.\n",
    "# Base.metadata.create_all(engine)\n",
    "# # Create a Session Object to Connect to DB\n",
    "# # ----------------------------------\n",
    "# session = Session(bind=engine)"
   ]
  },
  {
   "cell_type": "code",
   "execution_count": null,
   "metadata": {
    "hidden": true
   },
   "outputs": [],
   "source": [
    "# Use this to clear out the db\n",
    "# ----------------------------------\n",
    "# Session.rollback(self)\n",
    "# Base.metadata.drop_all(engine)\n",
    "# session.commit()"
   ]
  },
  {
   "cell_type": "markdown",
   "metadata": {
    "collapsed": "true"
   },
   "source": [
    "## List of all players\n",
    "find specific player"
   ]
  },
  {
   "cell_type": "code",
   "execution_count": null,
   "metadata": {
    "ExecuteTime": {
     "end_time": "2020-09-19T18:48:59.230581Z",
     "start_time": "2020-09-19T18:48:59.205634Z"
    }
   },
   "outputs": [],
   "source": [
    "## NEED\n",
    "from nba_api.stats.static import players\n",
    "# get_players returns a list of dictionaries, each representing a player.\n",
    "nba_players = players.get_players()\n",
    "print('Number of players fetched: {}'.format(len(nba_players)))\n",
    "nba_players[:10]\n",
    "all_players = pd.DataFrame(nba_players)\n",
    "all_players = all_players.copy()\n",
    "all_players"
   ]
  },
  {
   "cell_type": "code",
   "execution_count": null,
   "metadata": {
    "ExecuteTime": {
     "end_time": "2020-09-19T18:48:59.386626Z",
     "start_time": "2020-09-19T18:48:59.367886Z"
    }
   },
   "outputs": [],
   "source": [
    "all_players_clean = all_players.rename(columns={\"id\": \"PLAYER_ID\", 'full_name': 'PLAYER_NAME'})\n",
    "all_players_clean = all_players_clean.drop(columns=['first_name','last_name','is_active'])\n",
    "all_players_clean"
   ]
  },
  {
   "cell_type": "markdown",
   "metadata": {
    "heading_collapsed": true
   },
   "source": [
    "### Find specific player"
   ]
  },
  {
   "cell_type": "code",
   "execution_count": null,
   "metadata": {
    "ExecuteTime": {
     "end_time": "2020-09-18T07:28:24.668579Z",
     "start_time": "2020-09-18T07:28:24.660579Z"
    },
    "hidden": true
   },
   "outputs": [],
   "source": [
    "## loop to find player\n",
    "player_name = [player for player in nba_players\n",
    "                   if player['full_name'] == 'Tim Duncan'][0]\n",
    "player_name"
   ]
  },
  {
   "cell_type": "markdown",
   "metadata": {},
   "source": [
    "## Get Career Stats by player id number\n",
    "Get player_id number from get_players above"
   ]
  },
  {
   "cell_type": "markdown",
   "metadata": {},
   "source": [
    "#### Key: \n",
    "\n",
    "* GP: Games Played\n",
    "* MIN: Minutes Played\n",
    "* FGM: Field Goals Made\n",
    "* FGA: Field Goals Attempted\n",
    "* FG%: Field Goal Percentage\n",
    "* 3PM: 3 Point Field Goals Made\n",
    "* 3PA: 3 Point Field Goals Attempted\n",
    "* 3P%: 3 Point Field Goals Percentage\n",
    "* FTM: Free Throws Made\n",
    "* FTA: Free Throws Attempted\n",
    "* FT%: Free Throw Percentage\n",
    "* OREB: Offensive Rebounds\n",
    "* DREB: Defensive Rebounds\n",
    "* REB: Rebounds\n",
    "* AST: Assists\n",
    "* TOV: Turnovers\n",
    "* STL: Steals\n",
    "* BLK: Blocks\n",
    "* PF: Personal Fouls\n",
    "* DD2: Double Doubles\n",
    "* TD3: Trible Doubles\n",
    "* PTS: Points\n",
    "* YIL: Year in League\n",
    "\n",
    "\n"
   ]
  },
  {
   "cell_type": "markdown",
   "metadata": {},
   "source": [
    "example"
   ]
  },
  {
   "cell_type": "code",
   "execution_count": null,
   "metadata": {
    "ExecuteTime": {
     "end_time": "2020-09-19T19:48:45.467930Z",
     "start_time": "2020-09-19T19:48:44.943676Z"
    }
   },
   "outputs": [],
   "source": [
    "# Display all columns\n",
    "pd.set_option('display.max_columns', 500)\n",
    "# Anthony Davis\n",
    "career = playercareerstats.PlayerCareerStats(player_id='76001')\n",
    "career_df = career.get_data_frames()[0]\n",
    "\n",
    "career_dict = career_df.to_dict('records')\n",
    "first_5_years = career_df[0:5]\n",
    "first_5_years"
   ]
  },
  {
   "cell_type": "code",
   "execution_count": null,
   "metadata": {
    "ExecuteTime": {
     "end_time": "2020-09-19T18:50:25.569813Z",
     "start_time": "2020-09-19T18:50:25.561833Z"
    },
    "code_folding": [
     0
    ],
    "scrolled": true
   },
   "outputs": [],
   "source": [
    "# main_df = pd.DataFrame()\n",
    "# yil = 1\n",
    "\n",
    "# def addYil(first_5_years, yil):\n",
    "#     ## List all season_id column values found\n",
    "#     season_ids = list(first_5_years['SEASON_ID'].values)\n",
    "    \n",
    "#     ## Create list to add to dataframe\n",
    "#     ## Scans values in SEASON_ID. If change in year is found, adds 1 int to new column 'YIL' (Years in League). \n",
    "#     ## We are scanning for 5, 8, and 10 year milestones.\n",
    "#     ## Changes are scanned due to players under milestones. New rows will add duplicate SEASON_ID if the player changed teams during the season.\n",
    "#     previous = ''\n",
    "#     new_yills_add = []\n",
    "#     for i, value in enumerate(season_ids):\n",
    "#         print(type(value))\n",
    "        \n",
    "#         if value != previous:\n",
    "#             new_yills_add.append(yil)\n",
    "#             yil+=1\n",
    "#     #         print(i)        \n",
    "#         else:\n",
    "#             new_yills_add.append(yil - 1)\n",
    "#             continue\n",
    "\n",
    "#         previous = season_ids[i]\n",
    "#     first_5_years_yil = first_5_years.assign(YIL=new_yills_add)  \n",
    "\n",
    "#     return first_5_years_yil\n",
    "# first_5_years_yil = addYil(first_5_years, yil)\n",
    "\n",
    "\n",
    "# main_df = main_df.append( first_5_years_yil, ignore_index = True)\n"
   ]
  },
  {
   "cell_type": "code",
   "execution_count": null,
   "metadata": {
    "ExecuteTime": {
     "end_time": "2020-09-19T18:50:25.788231Z",
     "start_time": "2020-09-19T18:50:25.785211Z"
    },
    "code_folding": [
     0
    ]
   },
   "outputs": [],
   "source": [
    "# ## List all season_id column values found\n",
    "# season_ids = list(first_5_years['SEASON_ID'].values)\n",
    "\n",
    "# ## Create list to add to dataframe\n",
    "# ## Scans values in SEASON_ID. If change in year is found, adds 1 int to new column 'YIL' (Years in League). \n",
    "# ## We are scanning for 5, 8, and 10 year milestones.\n",
    "# ## Changes are scanned due to players under milestones. New rows will add duplicate SEASON_ID if the player changed teams during the season.\n",
    "\n",
    "# yil = 1\n",
    "# new_yills_add = []\n",
    "# previous = ''\n",
    "# for i, value in enumerate(season_ids):\n",
    "    \n",
    "#     if value != previous:\n",
    "#         new_yills_add.append(yil)\n",
    "#         yil+=1\n",
    "# #         print(i)        \n",
    "#     else:\n",
    "#         new_yills_add.append(yil - 1)\n",
    "#         continue\n",
    "    \n",
    "#     previous = season_ids[i]\n",
    "    \n",
    "# # New dataframe with YIL column\n",
    "# first_5_years_yil = first_5_years.assign(YIL=new_yills_add)  \n",
    "# first_5_years_yil"
   ]
  },
  {
   "cell_type": "code",
   "execution_count": null,
   "metadata": {
    "ExecuteTime": {
     "end_time": "2020-09-19T18:50:25.959577Z",
     "start_time": "2020-09-19T18:50:25.942615Z"
    }
   },
   "outputs": [],
   "source": [
    "career_df.columns"
   ]
  },
  {
   "cell_type": "markdown",
   "metadata": {},
   "source": [
    "-----------"
   ]
  },
  {
   "cell_type": "markdown",
   "metadata": {
    "collapsed": "true"
   },
   "source": [
    "#### PySpark databases \n",
    "testing"
   ]
  },
  {
   "cell_type": "code",
   "execution_count": null,
   "metadata": {
    "ExecuteTime": {
     "end_time": "2020-09-19T18:50:26.491718Z",
     "start_time": "2020-09-19T18:50:26.481724Z"
    }
   },
   "outputs": [],
   "source": [
    "# import os\n",
    "# import findspark\n",
    "# findspark.init()"
   ]
  },
  {
   "cell_type": "code",
   "execution_count": null,
   "metadata": {
    "ExecuteTime": {
     "end_time": "2020-09-19T18:50:26.692990Z",
     "start_time": "2020-09-19T18:50:26.677045Z"
    }
   },
   "outputs": [],
   "source": [
    "# # Start Spark session\n",
    "# from pyspark.sql import SparkSession\n",
    "# from pyspark import SparkFiles\n",
    "# spark = SparkSession.builder.appName(\"nbaStats\").getOrCreate()"
   ]
  },
  {
   "cell_type": "code",
   "execution_count": null,
   "metadata": {
    "ExecuteTime": {
     "end_time": "2020-09-19T18:50:26.897770Z",
     "start_time": "2020-09-19T18:50:26.887809Z"
    }
   },
   "outputs": [],
   "source": [
    "# with open(\"sample.json\", \"w\") as outfile:  \n",
    "#     json.dump(career_dict, outfile) "
   ]
  },
  {
   "cell_type": "code",
   "execution_count": null,
   "metadata": {
    "ExecuteTime": {
     "end_time": "2020-09-19T18:50:27.255951Z",
     "start_time": "2020-09-19T18:50:27.240955Z"
    }
   },
   "outputs": [],
   "source": [
    "# sc = spark.sparkContext\n",
    "# path = \"./sample.json\"\n",
    "# players_json_spark = spark.read.json(path)"
   ]
  },
  {
   "cell_type": "code",
   "execution_count": null,
   "metadata": {},
   "outputs": [],
   "source": [
    "# players_json_spark.printSchema()"
   ]
  },
  {
   "cell_type": "code",
   "execution_count": null,
   "metadata": {},
   "outputs": [],
   "source": [
    "# Creates a temporary view using the DataFrame\n",
    "# players_json_spark.createOrReplaceTempView(\"people\")"
   ]
  },
  {
   "cell_type": "code",
   "execution_count": null,
   "metadata": {},
   "outputs": [],
   "source": [
    "# players_json_spark.show()"
   ]
  },
  {
   "cell_type": "code",
   "execution_count": null,
   "metadata": {},
   "outputs": [],
   "source": [
    "# # playersDF_spark = spark.range(3).toDF(\"myCol\")\n",
    "# newRow = players_json_spark\n",
    "# appended = players_json_spark.union(newRow)\n",
    "# display(appended)"
   ]
  },
  {
   "cell_type": "code",
   "execution_count": null,
   "metadata": {},
   "outputs": [],
   "source": [
    "# appended.count()"
   ]
  },
  {
   "cell_type": "code",
   "execution_count": null,
   "metadata": {},
   "outputs": [],
   "source": [
    "# def customFunction(row):\n",
    "\n",
    "#    return (row)\n",
    "\n",
    "# sample2 = appended.rdd.map(customFunction)\n",
    "# sample2"
   ]
  },
  {
   "cell_type": "code",
   "execution_count": null,
   "metadata": {},
   "outputs": [],
   "source": [
    "# for ids in all_players_ids: \n",
    "#     player_to_pass = ids"
   ]
  },
  {
   "cell_type": "code",
   "execution_count": null,
   "metadata": {},
   "outputs": [],
   "source": [
    "# for f in appended.collect(): \n",
    "#         print (f)"
   ]
  },
  {
   "cell_type": "code",
   "execution_count": null,
   "metadata": {},
   "outputs": [],
   "source": [
    "# playersDF_spark.withColumn('newprice', dataframe]).show()"
   ]
  },
  {
   "cell_type": "code",
   "execution_count": null,
   "metadata": {},
   "outputs": [],
   "source": [
    "# otherPeople = spark.read.json(path)\n",
    "# otherPeople.show()\n",
    "# otherPeople.select(otherPeople[\"AST\"]).show()"
   ]
  },
  {
   "cell_type": "code",
   "execution_count": null,
   "metadata": {},
   "outputs": [],
   "source": [
    "# Create DataFrame manually\n",
    "# dataframe = spark.createDataFrame(path, schema=main_df_columns)\n",
    "# dataframe.show()"
   ]
  },
  {
   "cell_type": "code",
   "execution_count": null,
   "metadata": {},
   "outputs": [],
   "source": []
  },
  {
   "cell_type": "markdown",
   "metadata": {},
   "source": [
    "------------"
   ]
  },
  {
   "cell_type": "markdown",
   "metadata": {
    "collapsed": "true"
   },
   "source": [
    "## Get first 5 years of each player id."
   ]
  },
  {
   "cell_type": "code",
   "execution_count": null,
   "metadata": {
    "ExecuteTime": {
     "end_time": "2020-09-18T20:59:59.146211Z",
     "start_time": "2020-09-18T20:59:59.128139Z"
    }
   },
   "outputs": [],
   "source": [
    "all_players_ids = list(all_players['id'].values.astype(str))\n",
    "len(all_players_ids)"
   ]
  },
  {
   "cell_type": "code",
   "execution_count": null,
   "metadata": {
    "ExecuteTime": {
     "end_time": "2020-09-18T20:59:59.458539Z",
     "start_time": "2020-09-18T20:59:59.445992Z"
    }
   },
   "outputs": [],
   "source": [
    "all_players_col = ['PLAYER_ID', 'SEASON_ID', 'LEAGUE_ID', 'TEAM_ID', 'TEAM_ABBREVIATION',\n",
    "       'PLAYER_AGE', 'GP', 'GS', 'MIN', 'FGM', 'FGA', 'FG_PCT', 'FG3M', 'FG3A',\n",
    "       'FG3_PCT', 'FTM', 'FTA', 'FT_PCT', 'OREB', 'DREB', 'REB', 'AST', 'STL',\n",
    "       'BLK', 'TOV', 'PF', 'PTS', 'YIL']\n",
    "len(all_players_col)"
   ]
  },
  {
   "cell_type": "code",
   "execution_count": null,
   "metadata": {
    "ExecuteTime": {
     "end_time": "2020-09-18T22:55:52.182647Z",
     "start_time": "2020-09-18T21:00:03.420898Z"
    },
    "scrolled": true
   },
   "outputs": [],
   "source": [
    "pbar = tqdm(total=len(all_players_ids))\n",
    "main_df = pd.DataFrame()\n",
    "yil = 1\n",
    "\n",
    "def addYil(first_5_years, yil):\n",
    "    ## List all season_id column values found\n",
    "    season_ids = list(first_5_years['SEASON_ID'].values)\n",
    "    \n",
    "    ## Create list to add to dataframe\n",
    "    ## Scans values in SEASON_ID. If change in year is found, adds 1 int to new column 'YIL' (Years in League). \n",
    "    ## We are scanning for 5, 8, and 10 year milestones.\n",
    "    ## Changes are scanned due to players under milestones. New rows will add duplicate SEASON_ID if the player changed teams during the season.\n",
    "    previous = ''\n",
    "    new_yills_add = []\n",
    "    \n",
    "    for i, value in enumerate(season_ids):\n",
    "#         print(type(value))\n",
    "        if value != previous:\n",
    "            new_yills_add.append(yil)\n",
    "            yil+=1       \n",
    "        else:\n",
    "            new_yills_add.append(yil - 1)\n",
    "            continue\n",
    "\n",
    "        previous = season_ids[i]\n",
    "        \n",
    "    first_5_years_yil = first_5_years.assign(YIL=new_yills_add)  \n",
    "    return first_5_years_yil\n",
    "\n",
    "\n",
    "for ids in all_players_ids: \n",
    "    player_to_pass = ids\n",
    "\n",
    "    career = playercareerstats.PlayerCareerStats(player_id=player_to_pass, headers=headers, timeout=100)\n",
    "    career_df = career.get_data_frames()[0]\n",
    "    career_df['YIL'] = 0\n",
    "    first_5_years = career_df[0:5]\n",
    "    first_5_years_yil = addYil(first_5_years, yil)\n",
    "\n",
    "    main_df = main_df.append( first_5_years_yil, ignore_index = True)\n",
    "    time.sleep(1)\n",
    "    pbar.update(1)\n",
    "    \n",
    "pbar.close()\n"
   ]
  },
  {
   "cell_type": "code",
   "execution_count": null,
   "metadata": {
    "ExecuteTime": {
     "end_time": "2020-09-18T23:55:48.215850Z",
     "start_time": "2020-09-18T23:55:48.204879Z"
    }
   },
   "outputs": [],
   "source": [
    "main_df_pass = main_df.copy()"
   ]
  },
  {
   "cell_type": "code",
   "execution_count": null,
   "metadata": {
    "ExecuteTime": {
     "end_time": "2020-09-18T23:57:36.276607Z",
     "start_time": "2020-09-18T23:57:36.258647Z"
    }
   },
   "outputs": [],
   "source": [
    "#  Player positions\n",
    "player_positions = pd.read_csv('../../datasets/nba_positions.csv') \n",
    "player_positions"
   ]
  },
  {
   "cell_type": "code",
   "execution_count": null,
   "metadata": {
    "ExecuteTime": {
     "end_time": "2020-09-18T23:57:36.992136Z",
     "start_time": "2020-09-18T23:57:36.919330Z"
    }
   },
   "outputs": [],
   "source": [
    "five_year_all_players = main_df_pass.sort_values(by='SEASON_ID', ascending=False).copy()\n",
    "five_year_all_players = five_year_all_players.reset_index(drop=True)\n",
    "five_year_all_players = five_year_all_players.join(all_players_clean.set_index('PLAYER_ID'), on='PLAYER_ID')\n",
    "# five_year_all_players = players_with_names.join(player_positions.set_index('PLAYER_NAME'), on='PLAYER_NAME')\n",
    "five_year_all_players"
   ]
  },
  {
   "cell_type": "code",
   "execution_count": null,
   "metadata": {
    "ExecuteTime": {
     "end_time": "2020-09-18T23:57:39.588352Z",
     "start_time": "2020-09-18T23:57:39.528512Z"
    }
   },
   "outputs": [],
   "source": [
    "five_year_all_players_to_json = five_year_all_players.to_json(orient='records')"
   ]
  },
  {
   "cell_type": "code",
   "execution_count": null,
   "metadata": {
    "ExecuteTime": {
     "end_time": "2020-09-18T23:57:40.178723Z",
     "start_time": "2020-09-18T23:57:40.103542Z"
    }
   },
   "outputs": [],
   "source": [
    "# SAVE: Player_position\n",
    "with open(f'./_players_all_data.json', 'w') as fp:\n",
    "    json.dump(five_year_all_players_to_json, fp)"
   ]
  },
  {
   "cell_type": "markdown",
   "metadata": {},
   "source": [
    "-------------"
   ]
  },
  {
   "cell_type": "markdown",
   "metadata": {},
   "source": [
    "# Open Saved JSON"
   ]
  },
  {
   "cell_type": "code",
   "execution_count": null,
   "metadata": {
    "ExecuteTime": {
     "end_time": "2020-09-19T19:44:52.896650Z",
     "start_time": "2020-09-19T19:44:52.748816Z"
    }
   },
   "outputs": [],
   "source": [
    "with open('./_players_all_data.json') as json_file:\n",
    "    data = json.load(json_file)"
   ]
  },
  {
   "cell_type": "code",
   "execution_count": null,
   "metadata": {
    "ExecuteTime": {
     "end_time": "2020-09-19T19:44:54.761781Z",
     "start_time": "2020-09-19T19:44:54.743762Z"
    }
   },
   "outputs": [],
   "source": [
    "#  Player positions\n",
    "player_positions = pd.read_csv('../../datasets/nba_positions_no_team.csv') \n",
    "player_positions = player_positions.drop_duplicates( keep='first').reset_index(drop=True)\n",
    "player_positions"
   ]
  },
  {
   "cell_type": "code",
   "execution_count": null,
   "metadata": {
    "ExecuteTime": {
     "end_time": "2020-09-19T19:45:04.905844Z",
     "start_time": "2020-09-19T19:45:04.636432Z"
    }
   },
   "outputs": [],
   "source": [
    "five_year_all_players = pd.read_json(data)\n",
    "twenty_years_all_players = five_year_all_players[five_year_all_players['SEASON_ID'] > '2000-99']\n",
    "twenty_years_all_players"
   ]
  },
  {
   "cell_type": "markdown",
   "metadata": {},
   "source": [
    "#### Merge with position\n"
   ]
  },
  {
   "cell_type": "code",
   "execution_count": null,
   "metadata": {
    "ExecuteTime": {
     "end_time": "2020-09-19T19:45:12.861086Z",
     "start_time": "2020-09-19T19:45:12.799642Z"
    }
   },
   "outputs": [],
   "source": [
    "twenty_years_all_players = twenty_years_all_players.join(player_positions.set_index('PLAYER_NAME'), on='PLAYER_NAME')\n",
    "twenty_years_all_players = twenty_years_all_players.dropna()\n",
    "twenty_years_all_players"
   ]
  },
  {
   "cell_type": "code",
   "execution_count": null,
   "metadata": {
    "ExecuteTime": {
     "end_time": "2020-09-19T00:17:15.961383Z",
     "start_time": "2020-09-19T00:17:15.930465Z"
    }
   },
   "outputs": [],
   "source": []
  },
  {
   "cell_type": "code",
   "execution_count": null,
   "metadata": {
    "ExecuteTime": {
     "end_time": "2020-09-19T18:50:59.657310Z",
     "start_time": "2020-09-19T18:50:58.778390Z"
    }
   },
   "outputs": [],
   "source": [
    "import plotly.express as px\n",
    "\n",
    "\n",
    "fig = px.scatter(twenty_years_all_players, x=\"YIL\", y=\"PTS\", color=\"PTS\", log_x=True, hover_name=\"PLAYER_NAME\", hover_data=[\"PTS\"])\n",
    "\n",
    "fig.show()"
   ]
  },
  {
   "cell_type": "code",
   "execution_count": null,
   "metadata": {},
   "outputs": [],
   "source": []
  },
  {
   "cell_type": "code",
   "execution_count": null,
   "metadata": {},
   "outputs": [],
   "source": []
  },
  {
   "cell_type": "code",
   "execution_count": null,
   "metadata": {
    "ExecuteTime": {
     "end_time": "2020-09-17T08:50:28.863905Z",
     "start_time": "2020-09-17T08:50:28.821308Z"
    }
   },
   "outputs": [],
   "source": [
    "# five_year_all_players.set_index('SEASON_ID')"
   ]
  },
  {
   "cell_type": "code",
   "execution_count": null,
   "metadata": {},
   "outputs": [],
   "source": [
    "## Save all players data to sqlite db 'all_players'\n",
    "# all_players.to_sql('all_players', con=engine)\n",
    "\n",
    "## Retreive all players from sqlite db\n",
    "# engine.execute(\"SELECT * FROM all_players\").fetchall()"
   ]
  },
  {
   "cell_type": "code",
   "execution_count": null,
   "metadata": {
    "ExecuteTime": {
     "end_time": "2020-09-18T07:45:48.743162Z",
     "start_time": "2020-09-18T07:45:48.726235Z"
    }
   },
   "outputs": [],
   "source": []
  },
  {
   "cell_type": "markdown",
   "metadata": {},
   "source": [
    "https://plotly.com/python/polar-chart/"
   ]
  },
  {
   "cell_type": "code",
   "execution_count": null,
   "metadata": {
    "ExecuteTime": {
     "end_time": "2020-09-19T00:25:23.963763Z",
     "start_time": "2020-09-19T00:25:23.862006Z"
    }
   },
   "outputs": [],
   "source": [
    "import plotly.express as px\n",
    "df = px.data.wind()\n",
    "fig = px.line_polar(twenty_years_all_players, r=\"PTS\", theta=\"POSITION\", color=\"YIL\", line_close=True,\n",
    "                    color_discrete_sequence=px.colors.sequential.Plasma_r,\n",
    "                    template=\"plotly_dark\",)\n",
    "fig.show()"
   ]
  },
  {
   "cell_type": "code",
   "execution_count": null,
   "metadata": {
    "ExecuteTime": {
     "end_time": "2020-09-19T00:24:04.614054Z",
     "start_time": "2020-09-19T00:24:04.591088Z"
    }
   },
   "outputs": [],
   "source": [
    "df = px.data.wind()\n",
    "df"
   ]
  },
  {
   "cell_type": "code",
   "execution_count": null,
   "metadata": {},
   "outputs": [],
   "source": []
  },
  {
   "cell_type": "code",
   "execution_count": null,
   "metadata": {},
   "outputs": [],
   "source": []
  },
  {
   "cell_type": "code",
   "execution_count": null,
   "metadata": {},
   "outputs": [],
   "source": []
  },
  {
   "cell_type": "code",
   "execution_count": null,
   "metadata": {},
   "outputs": [],
   "source": []
  }
 ],
 "metadata": {
  "kernelspec": {
   "display_name": "Python 3",
   "language": "python",
   "name": "python3"
  },
  "language_info": {
   "codemirror_mode": {
    "name": "ipython",
    "version": 3
   },
   "file_extension": ".py",
   "mimetype": "text/x-python",
   "name": "python",
   "nbconvert_exporter": "python",
   "pygments_lexer": "ipython3",
   "version": "3.7.1"
  }
 },
 "nbformat": 4,
 "nbformat_minor": 4
}
