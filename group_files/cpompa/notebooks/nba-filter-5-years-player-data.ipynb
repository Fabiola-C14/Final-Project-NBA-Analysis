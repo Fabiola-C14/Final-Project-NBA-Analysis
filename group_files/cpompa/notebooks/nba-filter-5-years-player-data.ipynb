{
 "cells": [
  {
   "cell_type": "code",
   "execution_count": null,
   "metadata": {
    "ExecuteTime": {
     "end_time": "2020-09-18T00:14:32.472573Z",
     "start_time": "2020-09-18T00:14:31.739526Z"
    }
   },
   "outputs": [],
   "source": []
  },
  {
   "cell_type": "code",
   "execution_count": 1,
   "metadata": {
    "ExecuteTime": {
     "end_time": "2020-09-18T04:07:20.638702Z",
     "start_time": "2020-09-18T04:07:20.100290Z"
    }
   },
   "outputs": [],
   "source": [
    "# Dependencies and Setup\n",
    "import pandas as pd\n",
    "import numpy as np\n",
    "import time\n",
    "from pprint import pprint\n",
    "import requests\n",
    "from datetime import date, timedelta, datetime\n",
    "import json\n",
    "from pprint import pprint\n",
    "from tqdm import tqdm\n",
    "from tqdm import tqdm_notebook\n",
    "# sqlite Dependencies\n",
    "# ----------------------------------\n",
    "# Imports the method used for connecting to DBs\n",
    "from sqlalchemy import create_engine\n",
    "# Allow us to declare column types\n",
    "from sqlalchemy import Column, Integer, String, Text, DateTime, Float, Boolean, ForeignKey\n",
    "from sqlalchemy.orm import relationship\n",
    "from sqlalchemy.ext.declarative import declarative_base\n",
    "from sqlalchemy.orm import Session"
   ]
  },
  {
   "cell_type": "code",
   "execution_count": 2,
   "metadata": {
    "ExecuteTime": {
     "end_time": "2020-09-18T04:07:20.732398Z",
     "start_time": "2020-09-18T04:07:20.640696Z"
    }
   },
   "outputs": [],
   "source": [
    "from nba_api.stats.endpoints import playercareerstats, drafthistory, commonplayerinfo, playerawards"
   ]
  },
  {
   "cell_type": "code",
   "execution_count": null,
   "metadata": {
    "ExecuteTime": {
     "end_time": "2020-09-18T00:03:32.506677Z",
     "start_time": "2020-09-18T00:03:32.500834Z"
    }
   },
   "outputs": [],
   "source": [
    "# Not used\n",
    "# cumestatsplayer,draftcombinedrillresults,playerdashboardbyteamperformance, leagueleaders, leaguedashplayerstats, draftcombinenonstationaryshooting, draftcombinestats, commonallplayers,"
   ]
  },
  {
   "cell_type": "code",
   "execution_count": null,
   "metadata": {
    "ExecuteTime": {
     "end_time": "2020-09-17T07:16:04.287832Z",
     "start_time": "2020-09-17T07:16:04.277859Z"
    }
   },
   "outputs": [],
   "source": [
    "# pd.show_versions()"
   ]
  },
  {
   "cell_type": "markdown",
   "metadata": {
    "collapsed": "true"
   },
   "source": [
    "## Static Examples"
   ]
  },
  {
   "cell_type": "code",
   "execution_count": 4,
   "metadata": {
    "ExecuteTime": {
     "end_time": "2020-09-18T04:07:45.058098Z",
     "start_time": "2020-09-18T04:07:45.021161Z"
    },
    "scrolled": true
   },
   "outputs": [
    {
     "data": {
      "text/plain": [
       "[{'id': 77115,\n",
       "  'full_name': 'Aaron James',\n",
       "  'first_name': 'Aaron',\n",
       "  'last_name': 'James',\n",
       "  'is_active': False},\n",
       " {'id': 203108,\n",
       "  'full_name': 'Bernard James',\n",
       "  'first_name': 'Bernard',\n",
       "  'last_name': 'James',\n",
       "  'is_active': False},\n",
       " {'id': 202345,\n",
       "  'full_name': 'Damion James',\n",
       "  'first_name': 'Damion',\n",
       "  'last_name': 'James',\n",
       "  'is_active': False},\n",
       " {'id': 77116,\n",
       "  'full_name': 'Gene James',\n",
       "  'first_name': 'Gene',\n",
       "  'last_name': 'James',\n",
       "  'is_active': False},\n",
       " {'id': 1080,\n",
       "  'full_name': 'Henry James',\n",
       "  'first_name': 'Henry',\n",
       "  'last_name': 'James',\n",
       "  'is_active': False},\n",
       " {'id': 1744,\n",
       "  'full_name': 'Jerome James',\n",
       "  'first_name': 'Jerome',\n",
       "  'last_name': 'James',\n",
       "  'is_active': False},\n",
       " {'id': 1629713,\n",
       "  'full_name': 'Justin James',\n",
       "  'first_name': 'Justin',\n",
       "  'last_name': 'James',\n",
       "  'is_active': True},\n",
       " {'id': 2544,\n",
       "  'full_name': 'LeBron James',\n",
       "  'first_name': 'LeBron',\n",
       "  'last_name': 'James',\n",
       "  'is_active': True},\n",
       " {'id': 2229,\n",
       "  'full_name': 'Mike James',\n",
       "  'first_name': 'Mike',\n",
       "  'last_name': 'James',\n",
       "  'is_active': False},\n",
       " {'id': 1628455,\n",
       "  'full_name': 'Mike James',\n",
       "  'first_name': 'Mike',\n",
       "  'last_name': 'James',\n",
       "  'is_active': False},\n",
       " {'id': 1906,\n",
       "  'full_name': 'Tim James',\n",
       "  'first_name': 'Tim',\n",
       "  'last_name': 'James',\n",
       "  'is_active': False},\n",
       " {'id': 77412,\n",
       "  'full_name': 'Bob Love',\n",
       "  'first_name': 'Bob',\n",
       "  'last_name': 'Love',\n",
       "  'is_active': False},\n",
       " {'id': 201567,\n",
       "  'full_name': 'Kevin Love',\n",
       "  'first_name': 'Kevin',\n",
       "  'last_name': 'Love',\n",
       "  'is_active': True},\n",
       " {'id': 77413,\n",
       "  'full_name': 'Stan Love',\n",
       "  'first_name': 'Stan',\n",
       "  'last_name': 'Love',\n",
       "  'is_active': False}]"
      ]
     },
     "execution_count": 4,
     "metadata": {},
     "output_type": "execute_result"
    }
   ],
   "source": [
    "from nba_api.stats.static import players\n",
    "# Find players by full name.\n",
    "players.find_players_by_full_name('james')\n",
    "\n",
    "# Find players by first name.\n",
    "players.find_players_by_first_name('lebron')\n",
    "\n",
    "# Find players by last name.\n",
    "players.find_players_by_last_name('^(james|love)$')\n",
    "\n",
    "# Get all players.\n",
    "# players.get_players()"
   ]
  },
  {
   "cell_type": "code",
   "execution_count": null,
   "metadata": {},
   "outputs": [],
   "source": []
  },
  {
   "cell_type": "markdown",
   "metadata": {
    "collapsed": "true",
    "heading_collapsed": true
   },
   "source": [
    "## Begin Database Connection (sqlite)"
   ]
  },
  {
   "cell_type": "code",
   "execution_count": null,
   "metadata": {
    "hidden": true
   },
   "outputs": [],
   "source": []
  },
  {
   "cell_type": "code",
   "execution_count": null,
   "metadata": {
    "hidden": true
   },
   "outputs": [],
   "source": [
    "# Base = declarative_base()\n",
    "# engine = create_engine('sqlite:///db.sqlite', echo=False)\n",
    "# conn = engine.connect()\n",
    "# Create (if not already in existence) the tables associated with our classes.\n",
    "# Base.metadata.create_all(engine)\n",
    "# # Create a Session Object to Connect to DB\n",
    "# # ----------------------------------\n",
    "# session = Session(bind=engine)"
   ]
  },
  {
   "cell_type": "code",
   "execution_count": null,
   "metadata": {
    "hidden": true
   },
   "outputs": [],
   "source": [
    "# Use this to clear out the db\n",
    "# ----------------------------------\n",
    "# Session.rollback(self)\n",
    "# Base.metadata.drop_all(engine)\n",
    "# session.commit()"
   ]
  },
  {
   "cell_type": "markdown",
   "metadata": {
    "collapsed": "true"
   },
   "source": [
    "## List of all players\n",
    "find specific player"
   ]
  },
  {
   "cell_type": "code",
   "execution_count": 11,
   "metadata": {
    "ExecuteTime": {
     "end_time": "2020-09-18T04:19:23.906142Z",
     "start_time": "2020-09-18T04:19:23.852265Z"
    }
   },
   "outputs": [
    {
     "name": "stdout",
     "output_type": "stream",
     "text": [
      "Number of players fetched: 4501\n"
     ]
    }
   ],
   "source": [
    "from nba_api.stats.static import players\n",
    "# get_players returns a list of dictionaries, each representing a player.\n",
    "nba_players = players.get_players()\n",
    "print('Number of players fetched: {}'.format(len(nba_players)))\n",
    "nba_players[:]\n",
    "all_players = pd.DataFrame(nba_players)"
   ]
  },
  {
   "cell_type": "code",
   "execution_count": null,
   "metadata": {},
   "outputs": [],
   "source": []
  },
  {
   "cell_type": "markdown",
   "metadata": {},
   "source": [
    "### Find specific player"
   ]
  },
  {
   "cell_type": "code",
   "execution_count": 12,
   "metadata": {
    "ExecuteTime": {
     "end_time": "2020-09-18T04:19:24.481179Z",
     "start_time": "2020-09-18T04:19:24.472527Z"
    }
   },
   "outputs": [
    {
     "data": {
      "text/plain": [
       "{'id': 1495,\n",
       " 'full_name': 'Tim Duncan',\n",
       " 'first_name': 'Tim',\n",
       " 'last_name': 'Duncan',\n",
       " 'is_active': False}"
      ]
     },
     "execution_count": 12,
     "metadata": {},
     "output_type": "execute_result"
    }
   ],
   "source": [
    "## loop to find player\n",
    "player_name = [player for player in nba_players\n",
    "                   if player['full_name'] == 'Tim Duncan'][0]\n",
    "player_name"
   ]
  },
  {
   "cell_type": "markdown",
   "metadata": {},
   "source": [
    "## Get Career Stats by player id number\n",
    "Get player_id number from get_players above"
   ]
  },
  {
   "cell_type": "markdown",
   "metadata": {},
   "source": [
    "#### Key: \n",
    "\n",
    "* GP: Games Played\n",
    "* MIN: Minutes Played\n",
    "* FGM: Field Goals Made\n",
    "* FGA: Field Goals Attempted\n",
    "* FG%: Field Goal Percentage\n",
    "* 3PM: 3 Point Field Goals Made\n",
    "* 3PA: 3 Point Field Goals Attempted\n",
    "* 3P%: 3 Point Field Goals Percentage\n",
    "* FTM: Free Throws Made\n",
    "* FTA: Free Throws Attempted\n",
    "* FT%: Free Throw Percentage\n",
    "* OREB: Offensive Rebounds\n",
    "* DREB: Defensive Rebounds\n",
    "* REB: Rebounds\n",
    "* AST: Assists\n",
    "* TOV: Turnovers\n",
    "* STL: Steals\n",
    "* BLK: Blocks\n",
    "* PF: Personal Fouls\n",
    "* DD2: Double Doubles\n",
    "* TD3: Trible Doubles\n",
    "* PTS: Points\n",
    "* YIL: Year in League\n",
    "\n",
    "\n"
   ]
  },
  {
   "cell_type": "markdown",
   "metadata": {},
   "source": [
    "example"
   ]
  },
  {
   "cell_type": "code",
   "execution_count": 21,
   "metadata": {
    "ExecuteTime": {
     "end_time": "2020-09-18T04:22:29.565538Z",
     "start_time": "2020-09-18T04:22:29.012470Z"
    }
   },
   "outputs": [
    {
     "data": {
      "text/html": [
       "<div>\n",
       "<style scoped>\n",
       "    .dataframe tbody tr th:only-of-type {\n",
       "        vertical-align: middle;\n",
       "    }\n",
       "\n",
       "    .dataframe tbody tr th {\n",
       "        vertical-align: top;\n",
       "    }\n",
       "\n",
       "    .dataframe thead th {\n",
       "        text-align: right;\n",
       "    }\n",
       "</style>\n",
       "<table border=\"1\" class=\"dataframe\">\n",
       "  <thead>\n",
       "    <tr style=\"text-align: right;\">\n",
       "      <th></th>\n",
       "      <th>PLAYER_ID</th>\n",
       "      <th>SEASON_ID</th>\n",
       "      <th>LEAGUE_ID</th>\n",
       "      <th>TEAM_ID</th>\n",
       "      <th>TEAM_ABBREVIATION</th>\n",
       "      <th>PLAYER_AGE</th>\n",
       "      <th>GP</th>\n",
       "      <th>GS</th>\n",
       "      <th>MIN</th>\n",
       "      <th>FGM</th>\n",
       "      <th>FGA</th>\n",
       "      <th>FG_PCT</th>\n",
       "      <th>FG3M</th>\n",
       "      <th>FG3A</th>\n",
       "      <th>FG3_PCT</th>\n",
       "      <th>FTM</th>\n",
       "      <th>FTA</th>\n",
       "      <th>FT_PCT</th>\n",
       "      <th>OREB</th>\n",
       "      <th>DREB</th>\n",
       "      <th>REB</th>\n",
       "      <th>AST</th>\n",
       "      <th>STL</th>\n",
       "      <th>BLK</th>\n",
       "      <th>TOV</th>\n",
       "      <th>PF</th>\n",
       "      <th>PTS</th>\n",
       "    </tr>\n",
       "  </thead>\n",
       "  <tbody>\n",
       "    <tr>\n",
       "      <th>0</th>\n",
       "      <td>1495</td>\n",
       "      <td>1997-98</td>\n",
       "      <td>00</td>\n",
       "      <td>1610612759</td>\n",
       "      <td>SAS</td>\n",
       "      <td>22.0</td>\n",
       "      <td>82</td>\n",
       "      <td>82</td>\n",
       "      <td>3204.0</td>\n",
       "      <td>706</td>\n",
       "      <td>1287</td>\n",
       "      <td>0.549</td>\n",
       "      <td>0</td>\n",
       "      <td>10</td>\n",
       "      <td>0.000</td>\n",
       "      <td>319</td>\n",
       "      <td>482</td>\n",
       "      <td>0.662</td>\n",
       "      <td>274</td>\n",
       "      <td>703</td>\n",
       "      <td>977</td>\n",
       "      <td>224</td>\n",
       "      <td>55</td>\n",
       "      <td>206</td>\n",
       "      <td>279</td>\n",
       "      <td>254</td>\n",
       "      <td>1731</td>\n",
       "    </tr>\n",
       "    <tr>\n",
       "      <th>1</th>\n",
       "      <td>1495</td>\n",
       "      <td>1998-99</td>\n",
       "      <td>00</td>\n",
       "      <td>1610612759</td>\n",
       "      <td>SAS</td>\n",
       "      <td>23.0</td>\n",
       "      <td>50</td>\n",
       "      <td>50</td>\n",
       "      <td>1963.0</td>\n",
       "      <td>418</td>\n",
       "      <td>845</td>\n",
       "      <td>0.495</td>\n",
       "      <td>1</td>\n",
       "      <td>7</td>\n",
       "      <td>0.143</td>\n",
       "      <td>247</td>\n",
       "      <td>358</td>\n",
       "      <td>0.690</td>\n",
       "      <td>159</td>\n",
       "      <td>412</td>\n",
       "      <td>571</td>\n",
       "      <td>121</td>\n",
       "      <td>45</td>\n",
       "      <td>126</td>\n",
       "      <td>146</td>\n",
       "      <td>147</td>\n",
       "      <td>1084</td>\n",
       "    </tr>\n",
       "    <tr>\n",
       "      <th>2</th>\n",
       "      <td>1495</td>\n",
       "      <td>1999-00</td>\n",
       "      <td>00</td>\n",
       "      <td>1610612759</td>\n",
       "      <td>SAS</td>\n",
       "      <td>24.0</td>\n",
       "      <td>74</td>\n",
       "      <td>74</td>\n",
       "      <td>2875.0</td>\n",
       "      <td>628</td>\n",
       "      <td>1281</td>\n",
       "      <td>0.490</td>\n",
       "      <td>1</td>\n",
       "      <td>11</td>\n",
       "      <td>0.091</td>\n",
       "      <td>459</td>\n",
       "      <td>603</td>\n",
       "      <td>0.761</td>\n",
       "      <td>262</td>\n",
       "      <td>656</td>\n",
       "      <td>918</td>\n",
       "      <td>234</td>\n",
       "      <td>66</td>\n",
       "      <td>165</td>\n",
       "      <td>242</td>\n",
       "      <td>210</td>\n",
       "      <td>1716</td>\n",
       "    </tr>\n",
       "    <tr>\n",
       "      <th>3</th>\n",
       "      <td>1495</td>\n",
       "      <td>2000-01</td>\n",
       "      <td>00</td>\n",
       "      <td>1610612759</td>\n",
       "      <td>SAS</td>\n",
       "      <td>25.0</td>\n",
       "      <td>82</td>\n",
       "      <td>82</td>\n",
       "      <td>3174.0</td>\n",
       "      <td>702</td>\n",
       "      <td>1406</td>\n",
       "      <td>0.499</td>\n",
       "      <td>7</td>\n",
       "      <td>27</td>\n",
       "      <td>0.259</td>\n",
       "      <td>409</td>\n",
       "      <td>662</td>\n",
       "      <td>0.618</td>\n",
       "      <td>259</td>\n",
       "      <td>738</td>\n",
       "      <td>997</td>\n",
       "      <td>245</td>\n",
       "      <td>70</td>\n",
       "      <td>192</td>\n",
       "      <td>242</td>\n",
       "      <td>247</td>\n",
       "      <td>1820</td>\n",
       "    </tr>\n",
       "    <tr>\n",
       "      <th>4</th>\n",
       "      <td>1495</td>\n",
       "      <td>2001-02</td>\n",
       "      <td>00</td>\n",
       "      <td>1610612759</td>\n",
       "      <td>SAS</td>\n",
       "      <td>26.0</td>\n",
       "      <td>82</td>\n",
       "      <td>82</td>\n",
       "      <td>3329.0</td>\n",
       "      <td>764</td>\n",
       "      <td>1504</td>\n",
       "      <td>0.508</td>\n",
       "      <td>1</td>\n",
       "      <td>10</td>\n",
       "      <td>0.100</td>\n",
       "      <td>560</td>\n",
       "      <td>701</td>\n",
       "      <td>0.799</td>\n",
       "      <td>268</td>\n",
       "      <td>774</td>\n",
       "      <td>1042</td>\n",
       "      <td>307</td>\n",
       "      <td>61</td>\n",
       "      <td>203</td>\n",
       "      <td>263</td>\n",
       "      <td>217</td>\n",
       "      <td>2089</td>\n",
       "    </tr>\n",
       "  </tbody>\n",
       "</table>\n",
       "</div>"
      ],
      "text/plain": [
       "   PLAYER_ID SEASON_ID LEAGUE_ID     TEAM_ID TEAM_ABBREVIATION  PLAYER_AGE  \\\n",
       "0       1495   1997-98        00  1610612759               SAS        22.0   \n",
       "1       1495   1998-99        00  1610612759               SAS        23.0   \n",
       "2       1495   1999-00        00  1610612759               SAS        24.0   \n",
       "3       1495   2000-01        00  1610612759               SAS        25.0   \n",
       "4       1495   2001-02        00  1610612759               SAS        26.0   \n",
       "\n",
       "   GP  GS     MIN  FGM   FGA  FG_PCT  FG3M  FG3A  FG3_PCT  FTM  FTA  FT_PCT  \\\n",
       "0  82  82  3204.0  706  1287   0.549     0    10    0.000  319  482   0.662   \n",
       "1  50  50  1963.0  418   845   0.495     1     7    0.143  247  358   0.690   \n",
       "2  74  74  2875.0  628  1281   0.490     1    11    0.091  459  603   0.761   \n",
       "3  82  82  3174.0  702  1406   0.499     7    27    0.259  409  662   0.618   \n",
       "4  82  82  3329.0  764  1504   0.508     1    10    0.100  560  701   0.799   \n",
       "\n",
       "   OREB  DREB   REB  AST  STL  BLK  TOV   PF   PTS  \n",
       "0   274   703   977  224   55  206  279  254  1731  \n",
       "1   159   412   571  121   45  126  146  147  1084  \n",
       "2   262   656   918  234   66  165  242  210  1716  \n",
       "3   259   738   997  245   70  192  242  247  1820  \n",
       "4   268   774  1042  307   61  203  263  217  2089  "
      ]
     },
     "execution_count": 21,
     "metadata": {},
     "output_type": "execute_result"
    }
   ],
   "source": [
    "# Display all columns\n",
    "pd.set_option('display.max_columns', 500)\n",
    "# Anthony Davis\n",
    "career = playercareerstats.PlayerCareerStats(player_id='1495')\n",
    "career_df = career.get_data_frames()[0]\n",
    "\n",
    "career_dict = career_df.to_dict('records')\n",
    "first_5_years = career_df[0:5]\n",
    "first_5_years"
   ]
  },
  {
   "cell_type": "code",
   "execution_count": 24,
   "metadata": {
    "ExecuteTime": {
     "end_time": "2020-09-18T04:26:13.146911Z",
     "start_time": "2020-09-18T04:26:13.117488Z"
    }
   },
   "outputs": [],
   "source": [
    "from sklearn import preprocessing"
   ]
  },
  {
   "cell_type": "code",
   "execution_count": null,
   "metadata": {
    "ExecuteTime": {
     "end_time": "2020-09-18T04:23:17.548397Z",
     "start_time": "2020-09-18T04:23:17.518473Z"
    }
   },
   "outputs": [],
   "source": []
  },
  {
   "cell_type": "code",
   "execution_count": null,
   "metadata": {},
   "outputs": [],
   "source": []
  },
  {
   "cell_type": "code",
   "execution_count": 5,
   "metadata": {
    "ExecuteTime": {
     "end_time": "2020-09-18T00:29:02.189400Z",
     "start_time": "2020-09-18T00:29:02.176861Z"
    }
   },
   "outputs": [
    {
     "data": {
      "text/plain": [
       "Index(['PLAYER_ID', 'SEASON_ID', 'LEAGUE_ID', 'TEAM_ID', 'TEAM_ABBREVIATION',\n",
       "       'PLAYER_AGE', 'GP', 'GS', 'MIN', 'FGM', 'FGA', 'FG_PCT', 'FG3M', 'FG3A',\n",
       "       'FG3_PCT', 'FTM', 'FTA', 'FT_PCT', 'OREB', 'DREB', 'REB', 'AST', 'STL',\n",
       "       'BLK', 'TOV', 'PF', 'PTS'],\n",
       "      dtype='object')"
      ]
     },
     "execution_count": 5,
     "metadata": {},
     "output_type": "execute_result"
    }
   ],
   "source": [
    "career_df.columns"
   ]
  },
  {
   "cell_type": "markdown",
   "metadata": {},
   "source": [
    "-----------"
   ]
  },
  {
   "cell_type": "markdown",
   "metadata": {
    "collapsed": "true",
    "heading_collapsed": true
   },
   "source": [
    "#### PySpark databases \n",
    "testing"
   ]
  },
  {
   "cell_type": "code",
   "execution_count": null,
   "metadata": {
    "hidden": true
   },
   "outputs": [],
   "source": [
    "# import os\n",
    "# import findspark\n",
    "# findspark.init()"
   ]
  },
  {
   "cell_type": "code",
   "execution_count": null,
   "metadata": {
    "hidden": true
   },
   "outputs": [],
   "source": [
    "# # Start Spark session\n",
    "# from pyspark.sql import SparkSession\n",
    "# from pyspark import SparkFiles\n",
    "# spark = SparkSession.builder.appName(\"nbaStats\").getOrCreate()"
   ]
  },
  {
   "cell_type": "code",
   "execution_count": null,
   "metadata": {
    "hidden": true
   },
   "outputs": [],
   "source": [
    "# with open(\"sample.json\", \"w\") as outfile:  \n",
    "#     json.dump(career_dict, outfile) "
   ]
  },
  {
   "cell_type": "code",
   "execution_count": null,
   "metadata": {
    "hidden": true
   },
   "outputs": [],
   "source": [
    "# sc = spark.sparkContext\n",
    "# path = \"./sample.json\"\n",
    "# players_json_spark = spark.read.json(path)"
   ]
  },
  {
   "cell_type": "code",
   "execution_count": null,
   "metadata": {
    "hidden": true
   },
   "outputs": [],
   "source": [
    "# players_json_spark.printSchema()"
   ]
  },
  {
   "cell_type": "code",
   "execution_count": null,
   "metadata": {
    "hidden": true
   },
   "outputs": [],
   "source": [
    "# Creates a temporary view using the DataFrame\n",
    "# players_json_spark.createOrReplaceTempView(\"people\")"
   ]
  },
  {
   "cell_type": "code",
   "execution_count": null,
   "metadata": {
    "hidden": true
   },
   "outputs": [],
   "source": [
    "# players_json_spark.show()"
   ]
  },
  {
   "cell_type": "code",
   "execution_count": null,
   "metadata": {
    "hidden": true
   },
   "outputs": [],
   "source": [
    "# # playersDF_spark = spark.range(3).toDF(\"myCol\")\n",
    "# newRow = players_json_spark\n",
    "# appended = players_json_spark.union(newRow)\n",
    "# display(appended)"
   ]
  },
  {
   "cell_type": "code",
   "execution_count": null,
   "metadata": {
    "hidden": true
   },
   "outputs": [],
   "source": [
    "# appended.count()"
   ]
  },
  {
   "cell_type": "code",
   "execution_count": null,
   "metadata": {
    "hidden": true
   },
   "outputs": [],
   "source": [
    "# def customFunction(row):\n",
    "\n",
    "#    return (row)\n",
    "\n",
    "# sample2 = appended.rdd.map(customFunction)\n",
    "# sample2"
   ]
  },
  {
   "cell_type": "code",
   "execution_count": null,
   "metadata": {
    "hidden": true
   },
   "outputs": [],
   "source": [
    "# for ids in all_players_ids: \n",
    "#     player_to_pass = ids"
   ]
  },
  {
   "cell_type": "code",
   "execution_count": null,
   "metadata": {
    "hidden": true
   },
   "outputs": [],
   "source": [
    "# for f in appended.collect(): \n",
    "#         print (f)"
   ]
  },
  {
   "cell_type": "code",
   "execution_count": null,
   "metadata": {
    "hidden": true
   },
   "outputs": [],
   "source": [
    "# playersDF_spark.withColumn('newprice', dataframe]).show()"
   ]
  },
  {
   "cell_type": "code",
   "execution_count": null,
   "metadata": {
    "hidden": true
   },
   "outputs": [],
   "source": [
    "# otherPeople = spark.read.json(path)\n",
    "# otherPeople.show()\n",
    "# otherPeople.select(otherPeople[\"AST\"]).show()"
   ]
  },
  {
   "cell_type": "code",
   "execution_count": null,
   "metadata": {
    "hidden": true
   },
   "outputs": [],
   "source": [
    "# Create DataFrame manually\n",
    "# dataframe = spark.createDataFrame(path, schema=main_df_columns)\n",
    "# dataframe.show()"
   ]
  },
  {
   "cell_type": "code",
   "execution_count": null,
   "metadata": {
    "hidden": true
   },
   "outputs": [],
   "source": []
  },
  {
   "cell_type": "markdown",
   "metadata": {
    "hidden": true
   },
   "source": [
    "------------"
   ]
  },
  {
   "cell_type": "markdown",
   "metadata": {
    "collapsed": "true"
   },
   "source": [
    "## Get first 5 years of each player id."
   ]
  },
  {
   "cell_type": "code",
   "execution_count": 19,
   "metadata": {
    "ExecuteTime": {
     "end_time": "2020-09-18T04:21:04.840221Z",
     "start_time": "2020-09-18T04:21:04.830260Z"
    }
   },
   "outputs": [
    {
     "data": {
      "text/plain": [
       "4501"
      ]
     },
     "execution_count": 19,
     "metadata": {},
     "output_type": "execute_result"
    }
   ],
   "source": [
    "all_players_ids = list(all_players['id'].values.astype(str))\n",
    "len(all_players_ids)"
   ]
  },
  {
   "cell_type": "code",
   "execution_count": 20,
   "metadata": {
    "ExecuteTime": {
     "end_time": "2020-09-18T04:21:05.106240Z",
     "start_time": "2020-09-18T04:21:05.098200Z"
    }
   },
   "outputs": [
    {
     "data": {
      "text/plain": [
       "27"
      ]
     },
     "execution_count": 20,
     "metadata": {},
     "output_type": "execute_result"
    }
   ],
   "source": [
    "all_players_col = ['PLAYER_ID', 'SEASON_ID', 'LEAGUE_ID', 'TEAM_ID', 'TEAM_ABBREVIATION',\n",
    "       'PLAYER_AGE', 'GP', 'GS', 'MIN', 'FGM', 'FGA', 'FG_PCT', 'FG3M', 'FG3A',\n",
    "       'FG3_PCT', 'FTM', 'FTA', 'FT_PCT', 'OREB', 'DREB', 'REB', 'AST', 'STL',\n",
    "       'BLK', 'TOV', 'PF', 'PTS']\n",
    "len(all_players_col)"
   ]
  },
  {
   "cell_type": "code",
   "execution_count": 18,
   "metadata": {
    "ExecuteTime": {
     "end_time": "2020-09-18T04:19:34.624659Z",
     "start_time": "2020-09-18T04:19:34.602614Z"
    }
   },
   "outputs": [
    {
     "ename": "NameError",
     "evalue": "name 'player_to_pass' is not defined",
     "output_type": "error",
     "traceback": [
      "\u001b[1;31m---------------------------------------------------------------------------\u001b[0m",
      "\u001b[1;31mNameError\u001b[0m                                 Traceback (most recent call last)",
      "\u001b[1;32m<ipython-input-18-0d59043bc4d8>\u001b[0m in \u001b[0;36m<module>\u001b[1;34m\u001b[0m\n\u001b[1;32m----> 1\u001b[1;33m \u001b[0mcareer\u001b[0m \u001b[1;33m=\u001b[0m \u001b[0mplayercareerstats\u001b[0m\u001b[1;33m.\u001b[0m\u001b[0mPlayerCareerStats\u001b[0m\u001b[1;33m(\u001b[0m\u001b[0mplayer_id\u001b[0m\u001b[1;33m=\u001b[0m\u001b[0mplayer_to_pass\u001b[0m\u001b[1;33m)\u001b[0m\u001b[1;33m\u001b[0m\u001b[1;33m\u001b[0m\u001b[0m\n\u001b[0m\u001b[0;32m      2\u001b[0m \u001b[0mcareer_df\u001b[0m \u001b[1;33m=\u001b[0m \u001b[0mcareer\u001b[0m\u001b[1;33m.\u001b[0m\u001b[0mget_data_frames\u001b[0m\u001b[1;33m(\u001b[0m\u001b[1;33m)\u001b[0m\u001b[1;33m[\u001b[0m\u001b[1;36m0\u001b[0m\u001b[1;33m]\u001b[0m\u001b[1;33m\u001b[0m\u001b[1;33m\u001b[0m\u001b[0m\n\u001b[0;32m      3\u001b[0m \u001b[0mcareer_df\u001b[0m\u001b[1;33m\u001b[0m\u001b[1;33m\u001b[0m\u001b[0m\n\u001b[0;32m      4\u001b[0m \u001b[0mfirst_5_years\u001b[0m \u001b[1;33m=\u001b[0m \u001b[0mcareer_df\u001b[0m\u001b[1;33m[\u001b[0m\u001b[1;36m0\u001b[0m\u001b[1;33m:\u001b[0m\u001b[1;36m5\u001b[0m\u001b[1;33m]\u001b[0m\u001b[1;33m\u001b[0m\u001b[1;33m\u001b[0m\u001b[0m\n\u001b[0;32m      5\u001b[0m \u001b[0mfirst_5_years\u001b[0m\u001b[1;33m\u001b[0m\u001b[1;33m\u001b[0m\u001b[0m\n",
      "\u001b[1;31mNameError\u001b[0m: name 'player_to_pass' is not defined"
     ]
    }
   ],
   "source": [
    "career = playercareerstats.PlayerCareerStats(player_id=player_to_pass)\n",
    "career_df = career.get_data_frames()[0]\n",
    "career_df\n",
    "first_5_years = career_df[0:5]\n",
    "first_5_years\n",
    "main_df = main_df.append(first_5_years, ignore_index = True)\n",
    "main_df"
   ]
  },
  {
   "cell_type": "code",
   "execution_count": 17,
   "metadata": {
    "ExecuteTime": {
     "end_time": "2020-09-18T04:19:30.233553Z",
     "start_time": "2020-09-18T04:19:30.226441Z"
    }
   },
   "outputs": [],
   "source": [
    "# career_df['YIL'] = career_df.groupby(['SEASON_ID']).count()\n",
    "# career_df"
   ]
  },
  {
   "cell_type": "code",
   "execution_count": 72,
   "metadata": {
    "ExecuteTime": {
     "end_time": "2020-09-18T01:05:10.988172Z",
     "start_time": "2020-09-18T01:05:10.976201Z"
    }
   },
   "outputs": [],
   "source": [
    "# career_df['YIL'] = career_df.groupby(['PLAYER_ID','SEASON_ID','LEAGUE_ID']).transform('count')\n",
    "# career_df"
   ]
  },
  {
   "cell_type": "code",
   "execution_count": null,
   "metadata": {},
   "outputs": [],
   "source": []
  },
  {
   "cell_type": "code",
   "execution_count": 21,
   "metadata": {
    "ExecuteTime": {
     "end_time": "2020-09-18T00:35:21.163880Z",
     "start_time": "2020-09-18T00:35:18.400616Z"
    }
   },
   "outputs": [
    {
     "name": "stderr",
     "output_type": "stream",
     "text": [
      "  0%|                                                                                 | 4/4501 [00:02<41:38,  1.80it/s]"
     ]
    },
    {
     "name": "stdout",
     "output_type": "stream",
     "text": [
      "something happened\n"
     ]
    }
   ],
   "source": [
    "pbar = tqdm(total=len(all_players_ids))\n",
    "try: \n",
    "    for ids in all_players_ids: \n",
    "        player_to_pass = ids\n",
    "\n",
    "        career = playercareerstats.PlayerCareerStats(player_id=player_to_pass)\n",
    "        career_df = career.get_data_frames()[0]\n",
    "        first_5_years = career_df[0:5]\n",
    "        main_df = main_df.append(first_5_years, ignore_index = True)\n",
    "        pbar.update(1)\n",
    "    pbar.close()\n",
    "except:\n",
    "    print(\"something happened\")"
   ]
  },
  {
   "cell_type": "code",
   "execution_count": null,
   "metadata": {},
   "outputs": [],
   "source": [
    "all_players_ids"
   ]
  },
  {
   "cell_type": "code",
   "execution_count": null,
   "metadata": {
    "ExecuteTime": {
     "end_time": "2020-09-17T08:31:38.603774Z",
     "start_time": "2020-09-17T08:31:38.549363Z"
    }
   },
   "outputs": [],
   "source": [
    "five_year_all_players = main_df.sort_values(by='SEASON_ID', ascending=False).copy()\n",
    "five_year_all_players = five_year_all_players.reset_index(drop=True)\n",
    "five_year_all_players"
   ]
  },
  {
   "cell_type": "code",
   "execution_count": null,
   "metadata": {
    "ExecuteTime": {
     "end_time": "2020-09-17T08:31:40.146898Z",
     "start_time": "2020-09-17T08:31:40.090294Z"
    }
   },
   "outputs": [],
   "source": [
    "five_year_all_players_to_json = five_year_all_players.to_json(orient='records')"
   ]
  },
  {
   "cell_type": "code",
   "execution_count": null,
   "metadata": {
    "ExecuteTime": {
     "end_time": "2020-09-17T08:31:41.802203Z",
     "start_time": "2020-09-17T08:31:41.739502Z"
    }
   },
   "outputs": [],
   "source": [
    "# SAVE: Player_position\n",
    "with open(f'./_players_all_data.json', 'w') as fp:\n",
    "    json.dump(five_year_all_players_to_json, fp)"
   ]
  },
  {
   "cell_type": "markdown",
   "metadata": {},
   "source": [
    "-------------"
   ]
  },
  {
   "cell_type": "markdown",
   "metadata": {},
   "source": [
    "# Open Saved JSON"
   ]
  },
  {
   "cell_type": "code",
   "execution_count": 3,
   "metadata": {
    "ExecuteTime": {
     "end_time": "2020-09-18T04:07:33.574193Z",
     "start_time": "2020-09-18T04:07:33.442235Z"
    }
   },
   "outputs": [],
   "source": [
    "with open('./_players_all_data.json') as json_file:\n",
    "    data = json.load(json_file)"
   ]
  },
  {
   "cell_type": "code",
   "execution_count": 74,
   "metadata": {
    "ExecuteTime": {
     "end_time": "2020-09-18T01:09:47.126879Z",
     "start_time": "2020-09-18T01:09:46.903886Z"
    }
   },
   "outputs": [
    {
     "data": {
      "text/html": [
       "<div>\n",
       "<style scoped>\n",
       "    .dataframe tbody tr th:only-of-type {\n",
       "        vertical-align: middle;\n",
       "    }\n",
       "\n",
       "    .dataframe tbody tr th {\n",
       "        vertical-align: top;\n",
       "    }\n",
       "\n",
       "    .dataframe thead th {\n",
       "        text-align: right;\n",
       "    }\n",
       "</style>\n",
       "<table border=\"1\" class=\"dataframe\">\n",
       "  <thead>\n",
       "    <tr style=\"text-align: right;\">\n",
       "      <th></th>\n",
       "      <th>PLAYER_ID</th>\n",
       "      <th>SEASON_ID</th>\n",
       "      <th>LEAGUE_ID</th>\n",
       "      <th>TEAM_ID</th>\n",
       "      <th>TEAM_ABBREVIATION</th>\n",
       "      <th>PLAYER_AGE</th>\n",
       "      <th>GP</th>\n",
       "      <th>GS</th>\n",
       "      <th>MIN</th>\n",
       "      <th>FGM</th>\n",
       "      <th>FGA</th>\n",
       "      <th>FG_PCT</th>\n",
       "      <th>FG3M</th>\n",
       "      <th>FG3A</th>\n",
       "      <th>FG3_PCT</th>\n",
       "      <th>FTM</th>\n",
       "      <th>FTA</th>\n",
       "      <th>FT_PCT</th>\n",
       "      <th>OREB</th>\n",
       "      <th>DREB</th>\n",
       "      <th>REB</th>\n",
       "      <th>AST</th>\n",
       "      <th>STL</th>\n",
       "      <th>BLK</th>\n",
       "      <th>TOV</th>\n",
       "      <th>PF</th>\n",
       "      <th>PTS</th>\n",
       "    </tr>\n",
       "  </thead>\n",
       "  <tbody>\n",
       "    <tr>\n",
       "      <th>0</th>\n",
       "      <td>1629010</td>\n",
       "      <td>2019-20</td>\n",
       "      <td>0</td>\n",
       "      <td>1610612746</td>\n",
       "      <td>LAC</td>\n",
       "      <td>23</td>\n",
       "      <td>42</td>\n",
       "      <td>1.0</td>\n",
       "      <td>476.0</td>\n",
       "      <td>46</td>\n",
       "      <td>136</td>\n",
       "      <td>0.338</td>\n",
       "      <td>19.0</td>\n",
       "      <td>67.0</td>\n",
       "      <td>0.284</td>\n",
       "      <td>11</td>\n",
       "      <td>19</td>\n",
       "      <td>0.579</td>\n",
       "      <td>5.0</td>\n",
       "      <td>55.0</td>\n",
       "      <td>60.0</td>\n",
       "      <td>46</td>\n",
       "      <td>13.0</td>\n",
       "      <td>8.0</td>\n",
       "      <td>26.0</td>\n",
       "      <td>55</td>\n",
       "      <td>122</td>\n",
       "    </tr>\n",
       "    <tr>\n",
       "      <th>1</th>\n",
       "      <td>1629640</td>\n",
       "      <td>2019-20</td>\n",
       "      <td>0</td>\n",
       "      <td>1610612759</td>\n",
       "      <td>SAS</td>\n",
       "      <td>20</td>\n",
       "      <td>17</td>\n",
       "      <td>1.0</td>\n",
       "      <td>301.0</td>\n",
       "      <td>53</td>\n",
       "      <td>89</td>\n",
       "      <td>0.596</td>\n",
       "      <td>13.0</td>\n",
       "      <td>22.0</td>\n",
       "      <td>0.591</td>\n",
       "      <td>35</td>\n",
       "      <td>44</td>\n",
       "      <td>0.795</td>\n",
       "      <td>10.0</td>\n",
       "      <td>47.0</td>\n",
       "      <td>57.0</td>\n",
       "      <td>15</td>\n",
       "      <td>14.0</td>\n",
       "      <td>2.0</td>\n",
       "      <td>13.0</td>\n",
       "      <td>28</td>\n",
       "      <td>154</td>\n",
       "    </tr>\n",
       "    <tr>\n",
       "      <th>2</th>\n",
       "      <td>1628413</td>\n",
       "      <td>2019-20</td>\n",
       "      <td>0</td>\n",
       "      <td>0</td>\n",
       "      <td>TOT</td>\n",
       "      <td>24</td>\n",
       "      <td>7</td>\n",
       "      <td>0.0</td>\n",
       "      <td>47.0</td>\n",
       "      <td>4</td>\n",
       "      <td>11</td>\n",
       "      <td>0.364</td>\n",
       "      <td>0.0</td>\n",
       "      <td>4.0</td>\n",
       "      <td>0.000</td>\n",
       "      <td>2</td>\n",
       "      <td>4</td>\n",
       "      <td>0.500</td>\n",
       "      <td>3.0</td>\n",
       "      <td>6.0</td>\n",
       "      <td>9.0</td>\n",
       "      <td>0</td>\n",
       "      <td>3.0</td>\n",
       "      <td>2.0</td>\n",
       "      <td>2.0</td>\n",
       "      <td>10</td>\n",
       "      <td>10</td>\n",
       "    </tr>\n",
       "    <tr>\n",
       "      <th>3</th>\n",
       "      <td>1628984</td>\n",
       "      <td>2019-20</td>\n",
       "      <td>0</td>\n",
       "      <td>1610612766</td>\n",
       "      <td>CHA</td>\n",
       "      <td>25</td>\n",
       "      <td>63</td>\n",
       "      <td>53.0</td>\n",
       "      <td>2211.0</td>\n",
       "      <td>368</td>\n",
       "      <td>963</td>\n",
       "      <td>0.382</td>\n",
       "      <td>218.0</td>\n",
       "      <td>585.0</td>\n",
       "      <td>0.373</td>\n",
       "      <td>191</td>\n",
       "      <td>233</td>\n",
       "      <td>0.820</td>\n",
       "      <td>42.0</td>\n",
       "      <td>170.0</td>\n",
       "      <td>212.0</td>\n",
       "      <td>471</td>\n",
       "      <td>62.0</td>\n",
       "      <td>15.0</td>\n",
       "      <td>181.0</td>\n",
       "      <td>115</td>\n",
       "      <td>1145</td>\n",
       "    </tr>\n",
       "    <tr>\n",
       "      <th>4</th>\n",
       "      <td>1629648</td>\n",
       "      <td>2019-20</td>\n",
       "      <td>0</td>\n",
       "      <td>1610612765</td>\n",
       "      <td>DET</td>\n",
       "      <td>22</td>\n",
       "      <td>10</td>\n",
       "      <td>0.0</td>\n",
       "      <td>53.0</td>\n",
       "      <td>5</td>\n",
       "      <td>20</td>\n",
       "      <td>0.250</td>\n",
       "      <td>2.0</td>\n",
       "      <td>10.0</td>\n",
       "      <td>0.200</td>\n",
       "      <td>0</td>\n",
       "      <td>0</td>\n",
       "      <td>0.000</td>\n",
       "      <td>0.0</td>\n",
       "      <td>4.0</td>\n",
       "      <td>4.0</td>\n",
       "      <td>8</td>\n",
       "      <td>1.0</td>\n",
       "      <td>0.0</td>\n",
       "      <td>2.0</td>\n",
       "      <td>6</td>\n",
       "      <td>12</td>\n",
       "    </tr>\n",
       "    <tr>\n",
       "      <th>...</th>\n",
       "      <td>...</td>\n",
       "      <td>...</td>\n",
       "      <td>...</td>\n",
       "      <td>...</td>\n",
       "      <td>...</td>\n",
       "      <td>...</td>\n",
       "      <td>...</td>\n",
       "      <td>...</td>\n",
       "      <td>...</td>\n",
       "      <td>...</td>\n",
       "      <td>...</td>\n",
       "      <td>...</td>\n",
       "      <td>...</td>\n",
       "      <td>...</td>\n",
       "      <td>...</td>\n",
       "      <td>...</td>\n",
       "      <td>...</td>\n",
       "      <td>...</td>\n",
       "      <td>...</td>\n",
       "      <td>...</td>\n",
       "      <td>...</td>\n",
       "      <td>...</td>\n",
       "      <td>...</td>\n",
       "      <td>...</td>\n",
       "      <td>...</td>\n",
       "      <td>...</td>\n",
       "      <td>...</td>\n",
       "    </tr>\n",
       "    <tr>\n",
       "      <th>5536</th>\n",
       "      <td>1735</td>\n",
       "      <td>2000-01</td>\n",
       "      <td>0</td>\n",
       "      <td>1610612751</td>\n",
       "      <td>NJN</td>\n",
       "      <td>25</td>\n",
       "      <td>29</td>\n",
       "      <td>0.0</td>\n",
       "      <td>279.0</td>\n",
       "      <td>28</td>\n",
       "      <td>88</td>\n",
       "      <td>0.318</td>\n",
       "      <td>1.0</td>\n",
       "      <td>4.0</td>\n",
       "      <td>0.250</td>\n",
       "      <td>25</td>\n",
       "      <td>34</td>\n",
       "      <td>0.735</td>\n",
       "      <td>35.0</td>\n",
       "      <td>74.0</td>\n",
       "      <td>109.0</td>\n",
       "      <td>16</td>\n",
       "      <td>10.0</td>\n",
       "      <td>11.0</td>\n",
       "      <td>19.0</td>\n",
       "      <td>47</td>\n",
       "      <td>82</td>\n",
       "    </tr>\n",
       "    <tr>\n",
       "      <th>5537</th>\n",
       "      <td>2046</td>\n",
       "      <td>2000-01</td>\n",
       "      <td>0</td>\n",
       "      <td>1610612760</td>\n",
       "      <td>SEA</td>\n",
       "      <td>23</td>\n",
       "      <td>78</td>\n",
       "      <td>14.0</td>\n",
       "      <td>1524.0</td>\n",
       "      <td>189</td>\n",
       "      <td>439</td>\n",
       "      <td>0.431</td>\n",
       "      <td>18.0</td>\n",
       "      <td>67.0</td>\n",
       "      <td>0.269</td>\n",
       "      <td>67</td>\n",
       "      <td>91</td>\n",
       "      <td>0.736</td>\n",
       "      <td>72.0</td>\n",
       "      <td>177.0</td>\n",
       "      <td>249.0</td>\n",
       "      <td>63</td>\n",
       "      <td>39.0</td>\n",
       "      <td>20.0</td>\n",
       "      <td>53.0</td>\n",
       "      <td>146</td>\n",
       "      <td>463</td>\n",
       "    </tr>\n",
       "    <tr>\n",
       "      <th>5538</th>\n",
       "      <td>1918</td>\n",
       "      <td>2000-01</td>\n",
       "      <td>0</td>\n",
       "      <td>1610612742</td>\n",
       "      <td>DAL</td>\n",
       "      <td>25</td>\n",
       "      <td>4</td>\n",
       "      <td>0.0</td>\n",
       "      <td>8.0</td>\n",
       "      <td>0</td>\n",
       "      <td>4</td>\n",
       "      <td>0.000</td>\n",
       "      <td>0.0</td>\n",
       "      <td>0.0</td>\n",
       "      <td>0.000</td>\n",
       "      <td>0</td>\n",
       "      <td>0</td>\n",
       "      <td>0.000</td>\n",
       "      <td>0.0</td>\n",
       "      <td>2.0</td>\n",
       "      <td>2.0</td>\n",
       "      <td>0</td>\n",
       "      <td>0.0</td>\n",
       "      <td>0.0</td>\n",
       "      <td>0.0</td>\n",
       "      <td>2</td>\n",
       "      <td>0</td>\n",
       "    </tr>\n",
       "    <tr>\n",
       "      <th>5539</th>\n",
       "      <td>1536</td>\n",
       "      <td>2000-01</td>\n",
       "      <td>0</td>\n",
       "      <td>1610612751</td>\n",
       "      <td>NJN</td>\n",
       "      <td>23</td>\n",
       "      <td>77</td>\n",
       "      <td>40.0</td>\n",
       "      <td>1663.0</td>\n",
       "      <td>243</td>\n",
       "      <td>572</td>\n",
       "      <td>0.425</td>\n",
       "      <td>52.0</td>\n",
       "      <td>155.0</td>\n",
       "      <td>0.335</td>\n",
       "      <td>97</td>\n",
       "      <td>135</td>\n",
       "      <td>0.719</td>\n",
       "      <td>41.0</td>\n",
       "      <td>167.0</td>\n",
       "      <td>208.0</td>\n",
       "      <td>140</td>\n",
       "      <td>86.0</td>\n",
       "      <td>14.0</td>\n",
       "      <td>130.0</td>\n",
       "      <td>166</td>\n",
       "      <td>635</td>\n",
       "    </tr>\n",
       "    <tr>\n",
       "      <th>5540</th>\n",
       "      <td>1886</td>\n",
       "      <td>2000-01</td>\n",
       "      <td>0</td>\n",
       "      <td>1610612754</td>\n",
       "      <td>IND</td>\n",
       "      <td>20</td>\n",
       "      <td>59</td>\n",
       "      <td>7.0</td>\n",
       "      <td>572.0</td>\n",
       "      <td>66</td>\n",
       "      <td>186</td>\n",
       "      <td>0.355</td>\n",
       "      <td>11.0</td>\n",
       "      <td>41.0</td>\n",
       "      <td>0.268</td>\n",
       "      <td>50</td>\n",
       "      <td>68</td>\n",
       "      <td>0.735</td>\n",
       "      <td>14.0</td>\n",
       "      <td>60.0</td>\n",
       "      <td>74.0</td>\n",
       "      <td>32</td>\n",
       "      <td>7.0</td>\n",
       "      <td>28.0</td>\n",
       "      <td>42.0</td>\n",
       "      <td>73</td>\n",
       "      <td>193</td>\n",
       "    </tr>\n",
       "  </tbody>\n",
       "</table>\n",
       "<p>5541 rows × 27 columns</p>\n",
       "</div>"
      ],
      "text/plain": [
       "      PLAYER_ID SEASON_ID  LEAGUE_ID     TEAM_ID TEAM_ABBREVIATION  \\\n",
       "0       1629010   2019-20          0  1610612746               LAC   \n",
       "1       1629640   2019-20          0  1610612759               SAS   \n",
       "2       1628413   2019-20          0           0               TOT   \n",
       "3       1628984   2019-20          0  1610612766               CHA   \n",
       "4       1629648   2019-20          0  1610612765               DET   \n",
       "...         ...       ...        ...         ...               ...   \n",
       "5536       1735   2000-01          0  1610612751               NJN   \n",
       "5537       2046   2000-01          0  1610612760               SEA   \n",
       "5538       1918   2000-01          0  1610612742               DAL   \n",
       "5539       1536   2000-01          0  1610612751               NJN   \n",
       "5540       1886   2000-01          0  1610612754               IND   \n",
       "\n",
       "      PLAYER_AGE  GP    GS     MIN  FGM  FGA  FG_PCT   FG3M   FG3A  FG3_PCT  \\\n",
       "0             23  42   1.0   476.0   46  136   0.338   19.0   67.0    0.284   \n",
       "1             20  17   1.0   301.0   53   89   0.596   13.0   22.0    0.591   \n",
       "2             24   7   0.0    47.0    4   11   0.364    0.0    4.0    0.000   \n",
       "3             25  63  53.0  2211.0  368  963   0.382  218.0  585.0    0.373   \n",
       "4             22  10   0.0    53.0    5   20   0.250    2.0   10.0    0.200   \n",
       "...          ...  ..   ...     ...  ...  ...     ...    ...    ...      ...   \n",
       "5536          25  29   0.0   279.0   28   88   0.318    1.0    4.0    0.250   \n",
       "5537          23  78  14.0  1524.0  189  439   0.431   18.0   67.0    0.269   \n",
       "5538          25   4   0.0     8.0    0    4   0.000    0.0    0.0    0.000   \n",
       "5539          23  77  40.0  1663.0  243  572   0.425   52.0  155.0    0.335   \n",
       "5540          20  59   7.0   572.0   66  186   0.355   11.0   41.0    0.268   \n",
       "\n",
       "      FTM  FTA  FT_PCT  OREB   DREB    REB  AST   STL   BLK    TOV   PF   PTS  \n",
       "0      11   19   0.579   5.0   55.0   60.0   46  13.0   8.0   26.0   55   122  \n",
       "1      35   44   0.795  10.0   47.0   57.0   15  14.0   2.0   13.0   28   154  \n",
       "2       2    4   0.500   3.0    6.0    9.0    0   3.0   2.0    2.0   10    10  \n",
       "3     191  233   0.820  42.0  170.0  212.0  471  62.0  15.0  181.0  115  1145  \n",
       "4       0    0   0.000   0.0    4.0    4.0    8   1.0   0.0    2.0    6    12  \n",
       "...   ...  ...     ...   ...    ...    ...  ...   ...   ...    ...  ...   ...  \n",
       "5536   25   34   0.735  35.0   74.0  109.0   16  10.0  11.0   19.0   47    82  \n",
       "5537   67   91   0.736  72.0  177.0  249.0   63  39.0  20.0   53.0  146   463  \n",
       "5538    0    0   0.000   0.0    2.0    2.0    0   0.0   0.0    0.0    2     0  \n",
       "5539   97  135   0.719  41.0  167.0  208.0  140  86.0  14.0  130.0  166   635  \n",
       "5540   50   68   0.735  14.0   60.0   74.0   32   7.0  28.0   42.0   73   193  \n",
       "\n",
       "[5541 rows x 27 columns]"
      ]
     },
     "execution_count": 74,
     "metadata": {},
     "output_type": "execute_result"
    }
   ],
   "source": [
    "five_year_all_players = pd.read_json(data)\n",
    "twenty_years_all_players = five_year_all_players[five_year_all_players['SEASON_ID'] > '1999-98']\n",
    "twenty_years_all_players"
   ]
  },
  {
   "cell_type": "code",
   "execution_count": null,
   "metadata": {},
   "outputs": [],
   "source": []
  },
  {
   "cell_type": "code",
   "execution_count": null,
   "metadata": {
    "ExecuteTime": {
     "end_time": "2020-09-18T00:08:05.962962Z",
     "start_time": "2020-09-18T00:08:05.800469Z"
    }
   },
   "outputs": [],
   "source": [
    "import plotly.express as px\n",
    "\n",
    "\n",
    "fig = px.scatter(twenty_years_all_players, x=\"PTS\", y=\"SEASON_ID\", log_x=True, hover_name=\"PLAYER_ID\", hover_data=[\"SEASON_ID\", \"PTS\"])\n",
    "\n",
    "fig.show()"
   ]
  },
  {
   "cell_type": "code",
   "execution_count": null,
   "metadata": {},
   "outputs": [],
   "source": []
  },
  {
   "cell_type": "code",
   "execution_count": null,
   "metadata": {},
   "outputs": [],
   "source": []
  },
  {
   "cell_type": "code",
   "execution_count": null,
   "metadata": {
    "ExecuteTime": {
     "end_time": "2020-09-17T08:50:28.863905Z",
     "start_time": "2020-09-17T08:50:28.821308Z"
    }
   },
   "outputs": [],
   "source": [
    "# five_year_all_players.set_index('SEASON_ID')"
   ]
  },
  {
   "cell_type": "code",
   "execution_count": null,
   "metadata": {},
   "outputs": [],
   "source": [
    "## Save all players data to sqlite db 'all_players'\n",
    "# all_players.to_sql('all_players', con=engine)\n",
    "\n",
    "## Retreive all players from sqlite db\n",
    "# engine.execute(\"SELECT * FROM all_players\").fetchall()"
   ]
  },
  {
   "cell_type": "code",
   "execution_count": null,
   "metadata": {},
   "outputs": [],
   "source": []
  },
  {
   "cell_type": "code",
   "execution_count": null,
   "metadata": {},
   "outputs": [],
   "source": []
  }
 ],
 "metadata": {
  "kernelspec": {
   "display_name": "Python 3",
   "language": "python",
   "name": "python3"
  },
  "language_info": {
   "codemirror_mode": {
    "name": "ipython",
    "version": 3
   },
   "file_extension": ".py",
   "mimetype": "text/x-python",
   "name": "python",
   "nbconvert_exporter": "python",
   "pygments_lexer": "ipython3",
   "version": "3.7.1"
  }
 },
 "nbformat": 4,
 "nbformat_minor": 4
}
