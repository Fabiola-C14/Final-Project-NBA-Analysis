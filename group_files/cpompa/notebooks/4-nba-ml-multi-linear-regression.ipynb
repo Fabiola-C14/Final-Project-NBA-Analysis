{
 "cells": [
  {
   "cell_type": "markdown",
   "metadata": {},
   "source": [
    "## Libraries"
   ]
  },
  {
   "cell_type": "code",
   "execution_count": null,
   "metadata": {
    "ExecuteTime": {
     "end_time": "2020-09-26T00:54:16.599650Z",
     "start_time": "2020-09-26T00:54:14.787178Z"
    }
   },
   "outputs": [],
   "source": [
    "%matplotlib inline\n",
    "import matplotlib.pyplot as plt\n",
    "import numpy as np\n",
    "import pandas as pd\n",
    "\n",
    "# Dependencies and Setup\n",
    "import time\n",
    "from pprint import pprint\n",
    "import requests\n",
    "from datetime import date, timedelta, datetime\n",
    "import json\n",
    "from pprint import pprint\n",
    "from tqdm import tqdm\n",
    "from tqdm import tqdm_notebook\n",
    "# sqlite Dependencies\n",
    "# ----------------------------------\n",
    "# Imports the method used for connecting to DBs\n",
    "from sqlalchemy import create_engine\n",
    "# Allow us to declare column types\n",
    "from sqlalchemy import Column, Integer, String, Text, DateTime, Float, Boolean, ForeignKey\n",
    "from sqlalchemy.orm import relationship\n",
    "from sqlalchemy.ext.declarative import declarative_base\n",
    "from sqlalchemy.orm import Session\n",
    "import seaborn as sb"
   ]
  },
  {
   "cell_type": "code",
   "execution_count": null,
   "metadata": {
    "ExecuteTime": {
     "end_time": "2020-09-26T00:54:16.679104Z",
     "start_time": "2020-09-26T00:54:16.600649Z"
    }
   },
   "outputs": [],
   "source": [
    "from nba_api.stats.endpoints import playercareerstats, drafthistory, commonplayerinfo, playerawards"
   ]
  },
  {
   "cell_type": "markdown",
   "metadata": {},
   "source": [
    "-------------"
   ]
  },
  {
   "cell_type": "markdown",
   "metadata": {},
   "source": [
    "## Open combined data from json"
   ]
  },
  {
   "cell_type": "code",
   "execution_count": null,
   "metadata": {
    "ExecuteTime": {
     "end_time": "2020-09-26T00:54:16.819376Z",
     "start_time": "2020-09-26T00:54:16.680071Z"
    }
   },
   "outputs": [],
   "source": [
    "with open('./clean_combined_data_for_ml.json') as json_file:\n",
    "    data = json.load(json_file)"
   ]
  },
  {
   "cell_type": "code",
   "execution_count": null,
   "metadata": {
    "ExecuteTime": {
     "end_time": "2020-09-26T00:54:17.022236Z",
     "start_time": "2020-09-26T00:54:16.820376Z"
    }
   },
   "outputs": [],
   "source": [
    "# Default DF. Do not touch.\n",
    "default = pd.read_json(data).copy()"
   ]
  },
  {
   "cell_type": "code",
   "execution_count": null,
   "metadata": {
    "ExecuteTime": {
     "end_time": "2020-09-26T00:54:17.052054Z",
     "start_time": "2020-09-26T00:54:17.023087Z"
    }
   },
   "outputs": [],
   "source": [
    "#  Player positions\n",
    "all_stars = pd.read_csv('../../datasets/NBA_All_Stars_1996-2018.csv')\n",
    "all_stars = all_stars[['Year','PLAYER','PIE','Selected?']]\n",
    "all_stars = all_stars.rename(columns={'Year':'YEAR','PLAYER':'PLAYER_NAME', 'Selected?':'ALLSTAR'})"
   ]
  },
  {
   "cell_type": "code",
   "execution_count": null,
   "metadata": {
    "ExecuteTime": {
     "end_time": "2020-09-26T00:54:17.083233Z",
     "start_time": "2020-09-26T00:54:17.053733Z"
    }
   },
   "outputs": [],
   "source": [
    "with open('./injury_formatted.json') as json_file:\n",
    "    injury_data = json.load(json_file)\n",
    "injuries = pd.read_json(injury_data).copy()"
   ]
  },
  {
   "cell_type": "markdown",
   "metadata": {},
   "source": [
    "## Dataframes for all positions "
   ]
  },
  {
   "cell_type": "markdown",
   "metadata": {},
   "source": [
    "#### Key: \n",
    "\n",
    "* GP: Games Played\n",
    "* MIN: Minutes Played\n",
    "* FGM: Field Goals Made\n",
    "* FGA: Field Goals Attempted\n",
    "* FG_PCT: Field Goal Percentage\n",
    "* 3PM: 3 Point Field Goals Made\n",
    "* 3PA: 3 Point Field Goals Attempted\n",
    "* FG3_PCT: 3 Point Field Goals Percentage\n",
    "* FTM: Free Throws Made\n",
    "* FTA: Free Throws Attempted\n",
    "* FT_PCT: Free Throw Percentage\n",
    "* OREB: Offensive Rebounds\n",
    "* DREB: Defensive Rebounds\n",
    "* REB: Rebounds\n",
    "* AST: Assists\n",
    "* TOV: Turnovers\n",
    "* STL: Steals\n",
    "* BLK: Blocks\n",
    "* PF: Personal Fouls\n",
    "* DD2: Double Doubles\n",
    "* TD3: Trible Doubles\n",
    "* PTS: Points\n",
    "* YIL: Year in League\n"
   ]
  },
  {
   "cell_type": "code",
   "execution_count": null,
   "metadata": {
    "ExecuteTime": {
     "end_time": "2020-09-26T00:54:17.098554Z",
     "start_time": "2020-09-26T00:54:17.084226Z"
    }
   },
   "outputs": [],
   "source": [
    "default['YIL'].value_counts()"
   ]
  },
  {
   "cell_type": "code",
   "execution_count": null,
   "metadata": {
    "ExecuteTime": {
     "end_time": "2020-09-26T00:54:17.145546Z",
     "start_time": "2020-09-26T00:54:17.100514Z"
    },
    "scrolled": true
   },
   "outputs": [],
   "source": [
    "# default\n",
    "default = default[default['GP'] > 28]\n",
    "# SG\n",
    "# default = default[(default['POSITION'] == 'SG') & (default['GP'] > 28)]\n",
    "\n",
    "\n",
    "default = default[[ 'PLAYER_ID', 'POSITION', 'PLAYER_NAME','PHOTO', 'SEASON_ID','INFLATION','YEAR', 'PLAYER_AGE','YIL','ROUND_NUMBER','OVERALL_PICK', 'GP', 'GS',\n",
    "         'FGM', 'FGA', 'FG_PCT', 'FG3M', 'FG3A', 'FG3_PCT', 'FTM', 'FTA',\n",
    "       'FT_PCT', 'OREB', 'DREB', 'REB', 'AST', 'STL', 'BLK', 'TOV', 'PF',\n",
    "       'PTS', 'MIN']].sort_values(by='SEASON_ID', ascending=False)\n",
    "default = default.drop_duplicates(subset=['YIL','SEASON_ID','PLAYER_AGE','GP','GS','MIN'], keep='first').reset_index(drop=True)\n",
    "pd.set_option('display.max_columns', None)\n",
    "default = default.copy()\n",
    "default"
   ]
  },
  {
   "cell_type": "code",
   "execution_count": null,
   "metadata": {
    "ExecuteTime": {
     "end_time": "2020-09-26T00:54:17.176433Z",
     "start_time": "2020-09-26T00:54:17.146513Z"
    }
   },
   "outputs": [],
   "source": [
    "default[default['PLAYER_NAME'] == \"Nikola Jokic\"]"
   ]
  },
  {
   "cell_type": "markdown",
   "metadata": {},
   "source": [
    "------------"
   ]
  },
  {
   "cell_type": "code",
   "execution_count": null,
   "metadata": {},
   "outputs": [],
   "source": []
  },
  {
   "cell_type": "markdown",
   "metadata": {},
   "source": [
    "### Add PER\n",
    "PER only gives positives for scoring if you shoot a decent percentage (see picture for breakeven shooting percentages). If a player scores a ton of points but shoots a very low percentage then they would not have a positive Simple PER. \n",
    "\n",
    "'Breakeven' Shooting %: 2P = 37.5%, 3P = 28%, FT = 65%.\n",
    "\n",
    "Equation  \n",
    "Simple PER is calculated as follows: (2FG Made * 2) - (2FG Attempted *.75) + (3FG Made * 3) – (3FG Attempted * .84) + (FT Made) - (FT Attempted * -.65) + Rebounds + Assists + Blocks + Steals - Turnovers. "
   ]
  },
  {
   "cell_type": "code",
   "execution_count": null,
   "metadata": {
    "ExecuteTime": {
     "end_time": "2020-09-25T21:00:35.796146Z",
     "start_time": "2020-09-25T21:00:35.781284Z"
    }
   },
   "outputs": [],
   "source": [
    "default['PER'] = ((default['FGM'] * 2) - (default['FGA'] * .75) + (default['FG3M'] * 3) - (default['FG3A'] * .84) + (default['FTM']) - (default['FTA'] * -.65) + default['REB'] + default['AST'] + default['BLK'] + default['STL'] - default['TOV'])\n",
    "default = default.sort_values(by='PER', ascending=False).reset_index(drop=True)"
   ]
  },
  {
   "cell_type": "code",
   "execution_count": null,
   "metadata": {
    "ExecuteTime": {
     "end_time": "2020-09-25T21:00:35.844115Z",
     "start_time": "2020-09-25T21:00:35.797117Z"
    }
   },
   "outputs": [],
   "source": [
    "default_merged = pd.merge(default, all_stars, how='outer', left_on=['YEAR','PLAYER_NAME'], right_on=['YEAR','PLAYER_NAME'],suffixes=('_left', '_right'))\n",
    "default_merged = default_merged.drop(columns=['PIE']).dropna(thresh=7)\n",
    "\n",
    "default_merged[default_merged['PLAYER_NAME'] == \"Nikola Jokic\"]"
   ]
  },
  {
   "cell_type": "code",
   "execution_count": null,
   "metadata": {},
   "outputs": [],
   "source": []
  },
  {
   "cell_type": "markdown",
   "metadata": {},
   "source": [
    "## Add Injuries\n",
    "\n",
    "Injuries added to second regression  \n",
    "Needs Add PER ran first to complete. ^^"
   ]
  },
  {
   "cell_type": "code",
   "execution_count": null,
   "metadata": {
    "ExecuteTime": {
     "end_time": "2020-09-25T21:00:35.859365Z",
     "start_time": "2020-09-25T21:00:35.845084Z"
    }
   },
   "outputs": [],
   "source": [
    "injuries[injuries['PLAYER_NAME'] == \"Nikola Jokic\"]"
   ]
  },
  {
   "cell_type": "code",
   "execution_count": null,
   "metadata": {
    "ExecuteTime": {
     "end_time": "2020-09-25T21:00:35.920498Z",
     "start_time": "2020-09-25T21:00:35.860335Z"
    }
   },
   "outputs": [],
   "source": [
    "injuries_merged = pd.merge(default_merged, injuries, how=\"outer\", left_on=['YEAR','PLAYER_NAME'], right_on=['Date','PLAYER_NAME'],suffixes=('_left', '_right'))\n",
    "# \n",
    "\n",
    "injuries_merged['YEAR'] = injuries_merged['YEAR'].fillna(injuries_merged['Date'])\n",
    "injuries_merged = injuries_merged.drop(columns=['Date'])\n",
    "injuries_merged = injuries_merged.rename(columns={\"Notes\":\"INJURY_PY\"})\n",
    "\n",
    "# injuries_merged['INJURY_PY'] = injuries_merged['INJURY_PY']\n",
    "injuries_merged = injuries_merged.dropna(thresh=5)\n",
    "injuries_merged = injuries_merged.fillna(0.0)\n",
    "injuries_merged"
   ]
  },
  {
   "cell_type": "code",
   "execution_count": null,
   "metadata": {
    "ExecuteTime": {
     "end_time": "2020-09-25T21:00:35.951907Z",
     "start_time": "2020-09-25T21:00:35.923491Z"
    }
   },
   "outputs": [],
   "source": [
    "# Luka Doncic 1629029\n",
    "injuries_merged[injuries_merged['PLAYER_NAME'] == 'Nikola Jokic']"
   ]
  },
  {
   "cell_type": "code",
   "execution_count": null,
   "metadata": {
    "ExecuteTime": {
     "end_time": "2020-09-25T21:00:35.967650Z",
     "start_time": "2020-09-25T21:00:35.953876Z"
    }
   },
   "outputs": [],
   "source": [
    "injuries_merged.columns"
   ]
  },
  {
   "cell_type": "code",
   "execution_count": null,
   "metadata": {
    "ExecuteTime": {
     "end_time": "2020-09-25T21:00:35.983184Z",
     "start_time": "2020-09-25T21:00:35.968624Z"
    }
   },
   "outputs": [],
   "source": [
    "\n",
    "injuries_merged = injuries_merged[['PLAYER_ID', 'POSITION', 'PLAYER_NAME', 'PHOTO', 'SEASON_ID','INFLATION',\n",
    "       'YEAR', 'PLAYER_AGE', 'YIL', 'ROUND_NUMBER',\n",
    "       'OVERALL_PICK', 'GP', 'GS', 'FGM', 'FGA', 'FG_PCT', 'FG3M', 'FG3A',\n",
    "       'FG3_PCT', 'FTM', 'FTA', 'FT_PCT', 'OREB', 'DREB', 'REB', 'AST', 'STL',\n",
    "       'BLK', 'TOV', 'PF', 'PTS', 'PER', 'ALLSTAR', 'INJURY_PY',  'MIN']]\n"
   ]
  },
  {
   "cell_type": "code",
   "execution_count": null,
   "metadata": {
    "ExecuteTime": {
     "end_time": "2020-09-25T21:00:36.013773Z",
     "start_time": "2020-09-25T21:00:35.984144Z"
    }
   },
   "outputs": [],
   "source": [
    "injuries_merged"
   ]
  },
  {
   "cell_type": "code",
   "execution_count": null,
   "metadata": {
    "ExecuteTime": {
     "end_time": "2020-09-25T21:00:36.029130Z",
     "start_time": "2020-09-25T21:00:36.015342Z"
    }
   },
   "outputs": [],
   "source": [
    "## Dropping risidual due to no correlation with other featuers. Will use to verify testings.\n",
    "default_rank = injuries_merged.copy()\n",
    "default_rank\n",
    "default_rank['ALLSTAR'] = default_rank['ALLSTAR'].fillna(0)"
   ]
  },
  {
   "cell_type": "code",
   "execution_count": null,
   "metadata": {
    "ExecuteTime": {
     "end_time": "2020-09-26T00:54:35.311557Z",
     "start_time": "2020-09-26T00:54:35.285627Z"
    }
   },
   "outputs": [],
   "source": [
    "# Test view\n",
    "default_rank[default_rank['PLAYER_NAME'] == \"Nikola Jokic\"]"
   ]
  },
  {
   "cell_type": "code",
   "execution_count": null,
   "metadata": {},
   "outputs": [],
   "source": [
    "default_rank.columns"
   ]
  },
  {
   "cell_type": "code",
   "execution_count": null,
   "metadata": {},
   "outputs": [],
   "source": [
    "default_rank = default_rank[['PLAYER_ID', 'POSITION', 'PLAYER_NAME', 'PHOTO', 'SEASON_ID',\n",
    "       'INFLATION', 'YEAR', 'PLAYER_AGE', 'YIL', 'ROUND_NUMBER',\n",
    "       'OVERALL_PICK', 'GP', 'GS', 'FGM', 'FGA', 'FG_PCT', 'FG3M', 'FG3A',\n",
    "       'FG3_PCT', 'FTM', 'FTA', 'FT_PCT', 'OREB', 'DREB', 'REB', 'AST', 'STL',\n",
    "       'BLK', 'TOV', 'PF', 'PTS', 'PER', 'ALLSTAR', 'INJURY_PY', 'MIN']]"
   ]
  },
  {
   "cell_type": "markdown",
   "metadata": {},
   "source": [
    "### First regression"
   ]
  },
  {
   "cell_type": "code",
   "execution_count": null,
   "metadata": {
    "ExecuteTime": {
     "end_time": "2020-09-26T00:54:17.192167Z",
     "start_time": "2020-09-26T00:54:17.178428Z"
    }
   },
   "outputs": [],
   "source": [
    "# dataset = position name\n",
    "dataset = default_rank\n",
    "\n",
    "## Multiple Linear Regressions\n",
    "X = dataset.iloc[:, 8:-1].values\n",
    "y = dataset.iloc[:, -1].values"
   ]
  },
  {
   "cell_type": "code",
   "execution_count": null,
   "metadata": {
    "ExecuteTime": {
     "end_time": "2020-09-26T00:54:17.207138Z",
     "start_time": "2020-09-26T00:54:17.193180Z"
    }
   },
   "outputs": [],
   "source": [
    "X[0]"
   ]
  },
  {
   "cell_type": "code",
   "execution_count": null,
   "metadata": {
    "ExecuteTime": {
     "end_time": "2020-09-26T00:54:17.628765Z",
     "start_time": "2020-09-26T00:54:17.208136Z"
    }
   },
   "outputs": [],
   "source": [
    "## Splitting the dataset into the Training set and Test set\n",
    "from sklearn.model_selection import train_test_split\n",
    "X_train, X_test,y_train, y_test = train_test_split(X, y, test_size = 0.2, random_state = 0)"
   ]
  },
  {
   "cell_type": "code",
   "execution_count": null,
   "metadata": {
    "ExecuteTime": {
     "end_time": "2020-09-26T00:54:17.675322Z",
     "start_time": "2020-09-26T00:54:17.629762Z"
    }
   },
   "outputs": [],
   "source": [
    "## Training the Multiple Linear Regression model on the Training set\n",
    "from sklearn.linear_model import LinearRegression\n",
    "regressor = LinearRegression()\n",
    "regressor.fit(X_train, y_train)"
   ]
  },
  {
   "cell_type": "code",
   "execution_count": null,
   "metadata": {
    "ExecuteTime": {
     "end_time": "2020-09-26T00:54:17.690646Z",
     "start_time": "2020-09-26T00:54:17.676320Z"
    }
   },
   "outputs": [],
   "source": [
    "## Predicting the Test set results\n",
    "y_pred = regressor.predict(X_test)\n",
    "np.set_printoptions(precision=2)\n",
    "print(np.concatenate((y_pred.reshape(len(y_pred),1), y_test.reshape(len(y_test),1)),1))"
   ]
  },
  {
   "cell_type": "markdown",
   "metadata": {
    "ExecuteTime": {
     "end_time": "2020-09-22T04:55:40.551665Z",
     "start_time": "2020-09-22T04:55:40.543663Z"
    }
   },
   "source": [
    "Multiple linear aggression is well adapted to the dataset. "
   ]
  },
  {
   "cell_type": "code",
   "execution_count": null,
   "metadata": {
    "ExecuteTime": {
     "end_time": "2020-09-26T00:54:33.728956Z",
     "start_time": "2020-09-26T00:54:33.710612Z"
    }
   },
   "outputs": [],
   "source": [
    "## R-Square Coefficient \n",
    "from sklearn.metrics import r2_score\n",
    "r2_score(y_test, y_pred)"
   ]
  },
  {
   "cell_type": "markdown",
   "metadata": {},
   "source": [
    "SG: ~ 96%"
   ]
  },
  {
   "cell_type": "markdown",
   "metadata": {
    "ExecuteTime": {
     "end_time": "2020-09-23T09:12:57.373930Z",
     "start_time": "2020-09-23T09:12:57.365947Z"
    }
   },
   "source": [
    "## Input 21 col of values (X) to get minutes played.   \n",
    "Each value has been passed through regressor to predict how much minutes have been played. Afterwards, we will use predicted minutes played to salary with linear regression. "
   ]
  },
  {
   "cell_type": "markdown",
   "metadata": {
    "ExecuteTime": {
     "end_time": "2020-09-23T09:20:43.234846Z",
     "start_time": "2020-09-23T09:20:43.229892Z"
    }
   },
   "source": [
    "example of x passing = [5,26,64,2,120,291,0.412,40,120,0.333,69,94,0.734,17,106,123,124,70,18,53,98,349]"
   ]
  },
  {
   "cell_type": "code",
   "execution_count": null,
   "metadata": {
    "ExecuteTime": {
     "end_time": "2020-09-26T00:54:34.798318Z",
     "start_time": "2020-09-26T00:54:34.792489Z"
    },
    "scrolled": true
   },
   "outputs": [],
   "source": [
    "Prediction_result  = ('Predicted Stock Index Price: ', regressor.predict(X))\n",
    "Prediction_result"
   ]
  },
  {
   "cell_type": "code",
   "execution_count": null,
   "metadata": {
    "ExecuteTime": {
     "end_time": "2020-09-26T00:54:35.048957Z",
     "start_time": "2020-09-26T00:54:35.031028Z"
    }
   },
   "outputs": [],
   "source": [
    "# Add predicts to MIN_PREDICTIONS (MIN_PRED) column for all\n",
    "default_rank['MIN_PRED'] = Prediction_result[1]\n",
    "default_rank['MIN_PRED'] = round(default_rank['MIN_PRED'], 2)\n",
    "default_rank['RISIDUAL'] = round(default_rank['MIN_PRED']/default_rank['MIN'], 3)"
   ]
  },
  {
   "cell_type": "markdown",
   "metadata": {},
   "source": [
    "Regression 2\n",
    "### MIN_PRED will be in a dataframe with injuries, bmi rank, all risidual rankings, PLAYER_ID, PLAYER_NAME, SEASON_ID, INFLATION\n",
    "this dataframe will run another multiple linear regression. The dependent var will be salary. \n",
    "Seperating all the data by position may not be necessary. We could possibly run this model workflow on the full dataset. "
   ]
  },
  {
   "cell_type": "markdown",
   "metadata": {},
   "source": [
    "## Seperate by Position"
   ]
  },
  {
   "cell_type": "code",
   "execution_count": null,
   "metadata": {},
   "outputs": [],
   "source": [
    "# default_rank = default_rank[['PLAYER_ID', 'POSITION', 'PLAYER_NAME', 'PHOTO', 'SEASON_ID',\n",
    "#         'YEAR', 'YIL', 'ROUND_NUMBER',\n",
    "#        'OVERALL_PICK', 'GP', 'GS', 'PER', 'ALLSTAR', 'INJURY_PY', 'MIN',\n",
    "#        'MIN_PRED', 'RISIDUAL','INFLATION']]"
   ]
  },
  {
   "cell_type": "code",
   "execution_count": null,
   "metadata": {},
   "outputs": [],
   "source": [
    "default_rank = default_rank[['PLAYER_ID', 'POSITION', 'PLAYER_NAME', 'PHOTO', 'SEASON_ID',\n",
    "        'YEAR', 'PLAYER_AGE', 'YIL', 'ROUND_NUMBER',\n",
    "       'OVERALL_PICK', 'GP', 'GS', 'FGM', 'FGA', 'FG_PCT', 'FG3M', 'FG3A',\n",
    "       'FG3_PCT', 'FTM', 'FTA', 'FT_PCT', 'OREB', 'DREB', 'REB', 'AST', 'STL',\n",
    "       'BLK', 'TOV', 'PF', 'PTS', 'PER', 'ALLSTAR', 'INJURY_PY', 'MIN',\n",
    "       'MIN_PRED', 'RISIDUAL','INFLATION']]"
   ]
  },
  {
   "cell_type": "code",
   "execution_count": null,
   "metadata": {},
   "outputs": [],
   "source": [
    "position_all = default_rank.copy()"
   ]
  },
  {
   "cell_type": "code",
   "execution_count": null,
   "metadata": {
    "ExecuteTime": {
     "end_time": "2020-09-25T21:00:36.045088Z",
     "start_time": "2020-09-25T21:00:36.030129Z"
    }
   },
   "outputs": [],
   "source": [
    "\n",
    "\n",
    "position_c = default_rank[default_rank['POSITION'] == 'C']\n",
    "position_sg = default_rank[default_rank['POSITION'] == 'SG']\n",
    "position_sf = default_rank[default_rank['POSITION'] == 'SF']\n",
    "position_pf = default_rank[default_rank['POSITION'] == 'PF']\n",
    "position_pg = default_rank[default_rank['POSITION'] == 'PG']\n",
    "position_f = default_rank[default_rank['POSITION'] == 'F']\n",
    "position_g = default_rank[default_rank['POSITION'] == 'G']"
   ]
  },
  {
   "cell_type": "markdown",
   "metadata": {
    "collapsed": "true",
    "heading_collapsed": true
   },
   "source": [
    "### Position C"
   ]
  },
  {
   "cell_type": "code",
   "execution_count": null,
   "metadata": {
    "ExecuteTime": {
     "end_time": "2020-09-25T21:00:36.060349Z",
     "start_time": "2020-09-25T21:00:36.046729Z"
    },
    "hidden": true
   },
   "outputs": [],
   "source": [
    "position_c.columns"
   ]
  },
  {
   "cell_type": "code",
   "execution_count": null,
   "metadata": {
    "ExecuteTime": {
     "end_time": "2020-09-25T21:00:36.075367Z",
     "start_time": "2020-09-25T21:00:36.061352Z"
    },
    "hidden": true
   },
   "outputs": [],
   "source": [
    "position_c = position_c[['PLAYER_ID', 'POSITION', 'PLAYER_NAME','PHOTO', 'SEASON_ID', 'YEAR', 'YIL',\n",
    "       'ROUND_NUMBER', 'OVERALL_PICK', 'GP', 'GS', 'REB',\n",
    "       'AST', 'STL',  'PTS', 'MIN_PRED', 'PER', 'ALLSTAR', 'INJURY_PY',\n",
    "       'INFLATION']]\n",
    "\n",
    "\n",
    "### Position C\n",
    "dataset_c = position_c.dropna(thresh=3)\n",
    "\n",
    "# 5 YIL projection on players without 5 years in the league\n",
    "dataset_test_yil = position_c.dropna(thresh=3).copy()\n",
    "dataset_test_yil.iloc[:, 6] = 5\n",
    "x_test_yil = dataset_test_yil.iloc[:, 5:-1].values\n",
    "\n",
    "## Multiple Linear Regressions\n",
    "X = dataset_c.iloc[:, 5:-1].values\n",
    "y = dataset_c.iloc[:, -1].values"
   ]
  },
  {
   "cell_type": "code",
   "execution_count": null,
   "metadata": {
    "ExecuteTime": {
     "end_time": "2020-09-25T19:42:26.151035Z",
     "start_time": "2020-09-25T19:42:26.141034Z"
    },
    "hidden": true
   },
   "outputs": [],
   "source": []
  },
  {
   "cell_type": "code",
   "execution_count": null,
   "metadata": {
    "ExecuteTime": {
     "end_time": "2020-09-25T21:00:36.326266Z",
     "start_time": "2020-09-25T21:00:36.076416Z"
    },
    "hidden": true
   },
   "outputs": [],
   "source": [
    "## Check correlation to features\n",
    "train_data = dataset_c.iloc[:, 5:]\n",
    "# train_data['INFLATION'] = y \n",
    "\n",
    "C_mat = train_data.corr()\n",
    "fig = plt.figure(figsize = (15,15))\n",
    "\n",
    "sb.heatmap(C_mat, vmax = .8, square = True)\n",
    "plt.show()"
   ]
  },
  {
   "cell_type": "code",
   "execution_count": null,
   "metadata": {
    "ExecuteTime": {
     "end_time": "2020-09-25T21:00:36.342202Z",
     "start_time": "2020-09-25T21:00:36.327263Z"
    },
    "hidden": true
   },
   "outputs": [],
   "source": [
    "## Splitting the dataset into the Training set and Test set\n",
    "from sklearn.model_selection import train_test_split\n",
    "X_train, X_test,y_train, y_test = train_test_split(X, y, test_size = 0.20, random_state = 50)"
   ]
  },
  {
   "cell_type": "code",
   "execution_count": null,
   "metadata": {
    "ExecuteTime": {
     "end_time": "2020-09-25T21:00:36.358132Z",
     "start_time": "2020-09-25T21:00:36.343220Z"
    },
    "hidden": true
   },
   "outputs": [],
   "source": [
    "## Training the Multiple Linear Regression model on the Training set\n",
    "from sklearn.linear_model import LinearRegression\n",
    "regressor_c = LinearRegression()\n",
    "regressor_c.fit(X_train, y_train)"
   ]
  },
  {
   "cell_type": "code",
   "execution_count": null,
   "metadata": {
    "ExecuteTime": {
     "end_time": "2020-09-25T21:00:36.373405Z",
     "start_time": "2020-09-25T21:00:36.359131Z"
    },
    "hidden": true,
    "scrolled": true
   },
   "outputs": [],
   "source": [
    "## Predicting the Test set results\n",
    "y_pred = regressor_c.predict(X_test)\n",
    "np.set_printoptions(precision=2)\n",
    "print(np.concatenate((y_pred.reshape(len(y_pred),1), y_test.reshape(len(y_test),1)),1))"
   ]
  },
  {
   "cell_type": "code",
   "execution_count": null,
   "metadata": {
    "ExecuteTime": {
     "end_time": "2020-09-25T21:00:36.388921Z",
     "start_time": "2020-09-25T21:00:36.374403Z"
    },
    "hidden": true
   },
   "outputs": [],
   "source": [
    "## R-Square Coefficient \n",
    "from sklearn.metrics import r2_score\n",
    "r2_score(y_test, y_pred)"
   ]
  },
  {
   "cell_type": "code",
   "execution_count": null,
   "metadata": {
    "ExecuteTime": {
     "end_time": "2020-09-25T21:00:36.404649Z",
     "start_time": "2020-09-25T21:00:36.389921Z"
    },
    "hidden": true
   },
   "outputs": [],
   "source": [
    "x_test_yil"
   ]
  },
  {
   "cell_type": "code",
   "execution_count": null,
   "metadata": {
    "ExecuteTime": {
     "end_time": "2020-09-25T21:00:36.420586Z",
     "start_time": "2020-09-25T21:00:36.405822Z"
    },
    "hidden": true
   },
   "outputs": [],
   "source": [
    "# Prediction_result2  = ('Predicted Stock Index Price: ', regressor_c.predict(X))\n",
    "regressor_c_result2  = regressor_c.predict(X)\n",
    "regressor_c_result3  = regressor_c.predict(x_test_yil)"
   ]
  },
  {
   "cell_type": "code",
   "execution_count": null,
   "metadata": {
    "ExecuteTime": {
     "end_time": "2020-09-25T21:00:36.436284Z",
     "start_time": "2020-09-25T21:00:36.421391Z"
    },
    "hidden": true
   },
   "outputs": [],
   "source": [
    "# Add salary prediction to SALARY_PREDICTIONS (SAL_PRED) column\n",
    "# YIL DEFAULT\n",
    "position_c['SAL_PRED'] = regressor_c_result2\n",
    "position_c['SAL_PRED'] = round(position_c['SAL_PRED'], 0)\n",
    "position_c['SAL_RISIDUAL'] = round(position_c['SAL_PRED']/position_c['INFLATION'], 2)\n",
    "# YIL = 5\n",
    "position_c_5 = position_c.copy()\n",
    "position_c_5['SAL_PRED'] = regressor_c_result3\n",
    "position_c_5['SAL_PRED'] = round(position_c_5['SAL_PRED'], 0)\n",
    "position_c_5['SAL_RISIDUAL'] = round(position_c_5['SAL_PRED']/position_c_5['INFLATION'], 2)"
   ]
  },
  {
   "cell_type": "markdown",
   "metadata": {
    "heading_collapsed": true,
    "hidden": true
   },
   "source": [
    "#### Analysis on POSITION C"
   ]
  },
  {
   "cell_type": "code",
   "execution_count": null,
   "metadata": {
    "ExecuteTime": {
     "end_time": "2020-09-25T21:00:36.467341Z",
     "start_time": "2020-09-25T21:00:36.437264Z"
    },
    "hidden": true
   },
   "outputs": [],
   "source": [
    "position_c[position_c['INFLATION'] > 2].sort_values(by='SAL_RISIDUAL', ascending=False)\n",
    "position_c_5[(position_c_5['INFLATION'] > 2)&(position_c_5['YEAR'] > 2000)].sort_values(by=['PER','SAL_RISIDUAL'], ascending=False)"
   ]
  },
  {
   "cell_type": "code",
   "execution_count": null,
   "metadata": {
    "ExecuteTime": {
     "end_time": "2020-09-25T21:00:36.482180Z",
     "start_time": "2020-09-25T21:00:36.468292Z"
    },
    "hidden": true
   },
   "outputs": [],
   "source": [
    "# One player search\n",
    "# position_c_5[position_c_5['PLAYER_NAME'] == 'Karl-Anthony Towns'].sort_values(by='YEAR')"
   ]
  },
  {
   "cell_type": "code",
   "execution_count": null,
   "metadata": {
    "ExecuteTime": {
     "end_time": "2020-09-25T21:00:36.498133Z",
     "start_time": "2020-09-25T21:00:36.483065Z"
    },
    "hidden": true
   },
   "outputs": [],
   "source": [
    "# model.evaluate()"
   ]
  },
  {
   "cell_type": "markdown",
   "metadata": {
    "collapsed": "true",
    "heading_collapsed": true
   },
   "source": [
    "### position_sg"
   ]
  },
  {
   "cell_type": "code",
   "execution_count": null,
   "metadata": {
    "ExecuteTime": {
     "end_time": "2020-09-25T21:00:36.512872Z",
     "start_time": "2020-09-25T21:00:36.499138Z"
    },
    "hidden": true
   },
   "outputs": [],
   "source": [
    "default_rank.columns"
   ]
  },
  {
   "cell_type": "code",
   "execution_count": null,
   "metadata": {
    "ExecuteTime": {
     "end_time": "2020-09-25T21:00:36.528818Z",
     "start_time": "2020-09-25T21:00:36.513903Z"
    },
    "hidden": true
   },
   "outputs": [],
   "source": [
    "position_sg.columns"
   ]
  },
  {
   "cell_type": "code",
   "execution_count": null,
   "metadata": {
    "ExecuteTime": {
     "end_time": "2020-09-25T21:00:36.544857Z",
     "start_time": "2020-09-25T21:00:36.529700Z"
    },
    "hidden": true
   },
   "outputs": [],
   "source": [
    "position_sg = position_sg[['PLAYER_ID', 'POSITION', 'PLAYER_NAME', 'SEASON_ID', 'YEAR', 'YIL',\n",
    "       'ROUND_NUMBER', 'OVERALL_PICK', 'GP', 'GS', 'FGM', 'FGA', 'FG3M',\n",
    "       'AST', 'PTS', 'MIN_PRED', 'PER', 'ALLSTAR', 'INJURY_PY',\n",
    "       'INFLATION']]\n",
    "\n",
    "\n",
    "### Position SG\n",
    "dataset_sg = position_sg.dropna(thresh=3)\n",
    "\n",
    "# 5 YIL projection on players without 5 years in the league\n",
    "dataset_test_yil = position_sg.dropna(thresh=3).copy()\n",
    "dataset_test_yil.iloc[:, 6] = 5\n",
    "x_test_yil = dataset_test_yil.iloc[:, 5:-1].values\n",
    "\n",
    "## Multiple Linear Regressions\n",
    "X = dataset_sg.iloc[:, 5:-1].values\n",
    "y = dataset_sg.iloc[:, -1].values"
   ]
  },
  {
   "cell_type": "code",
   "execution_count": null,
   "metadata": {
    "ExecuteTime": {
     "end_time": "2020-09-25T21:00:36.761836Z",
     "start_time": "2020-09-25T21:00:36.545749Z"
    },
    "hidden": true
   },
   "outputs": [],
   "source": [
    "## Check correlation to features\n",
    "train_data = dataset_sg.iloc[:, 4:]\n",
    "# train_data['INFLATION'] = y \n",
    "\n",
    "C_mat = train_data.corr()\n",
    "fig = plt.figure(figsize = (15,15))\n",
    "\n",
    "sb.heatmap(C_mat, vmax = .8, square = True)\n",
    "plt.show()"
   ]
  },
  {
   "cell_type": "code",
   "execution_count": null,
   "metadata": {
    "ExecuteTime": {
     "end_time": "2020-09-25T21:00:36.776679Z",
     "start_time": "2020-09-25T21:00:36.762847Z"
    },
    "hidden": true
   },
   "outputs": [],
   "source": [
    "## Splitting the dataset into the Training set and Test set\n",
    "from sklearn.model_selection import train_test_split\n",
    "X_train, X_test,y_train, y_test = train_test_split(X, y, test_size = 0.20, random_state = 20)"
   ]
  },
  {
   "cell_type": "code",
   "execution_count": null,
   "metadata": {
    "ExecuteTime": {
     "end_time": "2020-09-25T21:00:36.792106Z",
     "start_time": "2020-09-25T21:00:36.777653Z"
    },
    "hidden": true
   },
   "outputs": [],
   "source": [
    "## Training the Multiple Linear Regression model on the Training set\n",
    "from sklearn.linear_model import LinearRegression\n",
    "regressor_sg = LinearRegression()\n",
    "regressor_sg.fit(X_train, y_train)"
   ]
  },
  {
   "cell_type": "code",
   "execution_count": null,
   "metadata": {
    "ExecuteTime": {
     "end_time": "2020-09-25T21:00:36.807248Z",
     "start_time": "2020-09-25T21:00:36.793078Z"
    },
    "hidden": true
   },
   "outputs": [],
   "source": [
    "## Predicting the Test set results\n",
    "y_pred = regressor_sg.predict(X_test)\n",
    "np.set_printoptions(precision=2)\n",
    "print(np.concatenate((y_pred.reshape(len(y_pred),1), y_test.reshape(len(y_test),1)),1))"
   ]
  },
  {
   "cell_type": "code",
   "execution_count": null,
   "metadata": {
    "ExecuteTime": {
     "end_time": "2020-09-25T21:00:36.823383Z",
     "start_time": "2020-09-25T21:00:36.808266Z"
    },
    "hidden": true
   },
   "outputs": [],
   "source": [
    "## R-Square Coefficient \n",
    "from sklearn.metrics import r2_score\n",
    "r2_score(y_test, y_pred)"
   ]
  },
  {
   "cell_type": "code",
   "execution_count": null,
   "metadata": {
    "ExecuteTime": {
     "end_time": "2020-09-25T21:00:36.838809Z",
     "start_time": "2020-09-25T21:00:36.824398Z"
    },
    "hidden": true
   },
   "outputs": [],
   "source": [
    "# Prediction_result2  = ('Predicted Stock Index Price: ', regressor_c.predict(X))\n",
    "regressor_sg_result2  = regressor_sg.predict(X)\n",
    "regressor_sg_result3  = regressor_sg.predict(x_test_yil)"
   ]
  },
  {
   "cell_type": "code",
   "execution_count": null,
   "metadata": {
    "ExecuteTime": {
     "end_time": "2020-09-25T21:00:36.854340Z",
     "start_time": "2020-09-25T21:00:36.839823Z"
    },
    "hidden": true
   },
   "outputs": [],
   "source": [
    "# Add salary prediction to SALARY_PREDICTIONS (SAL_PRED) column\n",
    "# YIL DEFAULT\n",
    "position_sg['SAL_PRED'] = regressor_sg_result2\n",
    "position_sg['SAL_PRED'] = round(position_sg['SAL_PRED'], 0)\n",
    "position_sg['SAL_RISIDUAL'] = round(position_sg['SAL_PRED']/position_sg['INFLATION'], 2)\n",
    "# YIL = 5\n",
    "position_sg_5 = position_sg.copy()\n",
    "position_sg_5['SAL_PRED'] = regressor_sg_result3\n",
    "position_sg_5['SAL_PRED'] = round(position_sg['SAL_PRED'], 0)\n",
    "position_sg_5['SAL_RISIDUAL'] = round(position_sg['SAL_PRED']/position_sg['INFLATION'], 2)"
   ]
  },
  {
   "cell_type": "markdown",
   "metadata": {
    "ExecuteTime": {
     "end_time": "2020-09-25T01:47:26.757238Z",
     "start_time": "2020-09-25T01:47:26.730141Z"
    },
    "hidden": true
   },
   "source": [
    "#### Analysis on POSITION SG"
   ]
  },
  {
   "cell_type": "code",
   "execution_count": null,
   "metadata": {
    "ExecuteTime": {
     "end_time": "2020-09-25T21:00:36.886080Z",
     "start_time": "2020-09-25T21:00:36.856131Z"
    },
    "hidden": true
   },
   "outputs": [],
   "source": [
    "position_sg[(position_sg['INFLATION'] > 2)&(position_sg_5['YEAR'] > 2000)].sort_values(by='SAL_RISIDUAL', ascending=False)\n",
    "position_sg_5[(position_sg_5['INFLATION'] > 2)&(position_sg_5['YEAR'] > 2000)].sort_values(by=['PER','SAL_RISIDUAL'], ascending=False)"
   ]
  },
  {
   "cell_type": "code",
   "execution_count": null,
   "metadata": {
    "hidden": true
   },
   "outputs": [],
   "source": []
  },
  {
   "cell_type": "code",
   "execution_count": null,
   "metadata": {
    "ExecuteTime": {
     "end_time": "2020-09-25T03:40:28.748162Z",
     "start_time": "2020-09-25T03:40:28.723853Z"
    },
    "hidden": true
   },
   "outputs": [],
   "source": []
  },
  {
   "cell_type": "markdown",
   "metadata": {},
   "source": [
    "### All"
   ]
  },
  {
   "cell_type": "code",
   "execution_count": null,
   "metadata": {},
   "outputs": [],
   "source": [
    "position_all"
   ]
  },
  {
   "cell_type": "code",
   "execution_count": null,
   "metadata": {},
   "outputs": [],
   "source": []
  },
  {
   "cell_type": "code",
   "execution_count": null,
   "metadata": {},
   "outputs": [],
   "source": []
  },
  {
   "cell_type": "code",
   "execution_count": null,
   "metadata": {
    "ExecuteTime": {
     "end_time": "2020-09-25T21:00:36.901186Z",
     "start_time": "2020-09-25T21:00:36.887142Z"
    }
   },
   "outputs": [],
   "source": [
    "# dataset = position name\n",
    "dataset2 = position_all.dropna(thresh=3)\n",
    "\n",
    "# 5 YIL projection on players without 5 years in the league\n",
    "dataset_test_yil = position_all.dropna(thresh=3).copy()\n",
    "dataset_test_yil = dataset_test_yil[(dataset_test_yil['YEAR'] > 2019) & (dataset_test_yil['YIL'] <= 3)& (dataset_test_yil['INFLATION'] > 3)]\n",
    "dataset_test_yil.iloc[:, 7] = 5\n",
    "x_test_yil = dataset_test_yil.iloc[:, 5:-1].values\n",
    "\n",
    "## Multiple Linear Regressions\n",
    "X = dataset2.iloc[:, 5:-1].values\n",
    "y = dataset2.iloc[:, -1].values"
   ]
  },
  {
   "cell_type": "code",
   "execution_count": null,
   "metadata": {},
   "outputs": [],
   "source": [
    "# dataset_test_yil = dataset_test_yil[(dataset_test_yil['YEAR'] > 2019) & (dataset_test_yil['YIL'] <= 3)& (dataset_test_yil['INFLATION'] > 3)]"
   ]
  },
  {
   "cell_type": "code",
   "execution_count": null,
   "metadata": {
    "ExecuteTime": {
     "end_time": "2020-09-26T00:49:29.224871Z",
     "start_time": "2020-09-26T00:49:29.209521Z"
    }
   },
   "outputs": [],
   "source": [
    "# dataset2.iloc[:, 6]"
   ]
  },
  {
   "cell_type": "code",
   "execution_count": null,
   "metadata": {
    "ExecuteTime": {
     "end_time": "2020-09-26T00:48:29.763827Z",
     "start_time": "2020-09-26T00:48:29.747949Z"
    }
   },
   "outputs": [],
   "source": [
    "x_test_yil[0][0]"
   ]
  },
  {
   "cell_type": "code",
   "execution_count": null,
   "metadata": {
    "ExecuteTime": {
     "end_time": "2020-09-25T21:00:37.212920Z",
     "start_time": "2020-09-25T21:00:36.917839Z"
    }
   },
   "outputs": [],
   "source": [
    "## Check correlation to features\n",
    "train_data = dataset2.iloc[:, 4:]\n",
    "# train_data['INFLATION'] = y \n",
    "\n",
    "C_mat = train_data.corr()\n",
    "fig = plt.figure(figsize = (15,15))\n",
    "\n",
    "sb.heatmap(C_mat, vmax = .8, square = True)\n",
    "plt.show()"
   ]
  },
  {
   "cell_type": "code",
   "execution_count": null,
   "metadata": {
    "ExecuteTime": {
     "end_time": "2020-09-25T21:00:37.228260Z",
     "start_time": "2020-09-25T21:00:37.213811Z"
    }
   },
   "outputs": [],
   "source": [
    "## Splitting the dataset into the Training set and Test set\n",
    "from sklearn.model_selection import train_test_split\n",
    "X_train, X_test,y_train, y_test = train_test_split(X, y, test_size = 0.10, random_state = 2)"
   ]
  },
  {
   "cell_type": "code",
   "execution_count": null,
   "metadata": {
    "ExecuteTime": {
     "end_time": "2020-09-25T21:00:37.243946Z",
     "start_time": "2020-09-25T21:00:37.229977Z"
    },
    "scrolled": true
   },
   "outputs": [],
   "source": [
    "## Training the Multiple Linear Regression model on the Training set\n",
    "from sklearn.linear_model import LinearRegression\n",
    "regressor2 = LinearRegression()\n",
    "regressor2.fit(X_train, y_train)"
   ]
  },
  {
   "cell_type": "code",
   "execution_count": null,
   "metadata": {
    "ExecuteTime": {
     "end_time": "2020-09-25T21:00:37.259077Z",
     "start_time": "2020-09-25T21:00:37.244956Z"
    },
    "scrolled": true
   },
   "outputs": [],
   "source": [
    "## Predicting the Test set results\n",
    "y_pred = regressor2.predict(X_test)\n",
    "np.set_printoptions(precision=2)\n",
    "print(np.concatenate((y_pred.reshape(len(y_pred),1), y_test.reshape(len(y_test),1)),1))"
   ]
  },
  {
   "cell_type": "code",
   "execution_count": null,
   "metadata": {
    "ExecuteTime": {
     "end_time": "2020-09-25T21:00:37.274980Z",
     "start_time": "2020-09-25T21:00:37.260077Z"
    }
   },
   "outputs": [],
   "source": [
    "## R-Square Coefficient \n",
    "from sklearn.metrics import r2_score\n",
    "r2_score(y_test, y_pred)"
   ]
  },
  {
   "cell_type": "markdown",
   "metadata": {},
   "source": [
    "##### SG: ~40% "
   ]
  },
  {
   "cell_type": "code",
   "execution_count": null,
   "metadata": {
    "ExecuteTime": {
     "end_time": "2020-09-25T21:00:37.291084Z",
     "start_time": "2020-09-25T21:00:37.276260Z"
    },
    "scrolled": true
   },
   "outputs": [],
   "source": [
    "# Prediction_result2  = ('Predicted Stock Index Price: ', regressor2.predict(X))\n",
    "Prediction_result2  = regressor2.predict(X)\n",
    "Prediction_result3  = regressor2.predict(x_test_yil)"
   ]
  },
  {
   "cell_type": "code",
   "execution_count": null,
   "metadata": {
    "ExecuteTime": {
     "end_time": "2020-09-25T21:09:30.497917Z",
     "start_time": "2020-09-25T21:09:30.481394Z"
    }
   },
   "outputs": [],
   "source": [
    "# Add salary prediction to SALARY_PREDICTIONS (SAL_PRED) column\n",
    "dataset2['SAL_PRED'] = Prediction_result2\n",
    "dataset2['SAL_PRED'] = round(dataset2['SAL_PRED'], 0)\n",
    "dataset2['SAL_RISIDUAL'] = round(dataset2['SAL_PRED']/dataset2['INFLATION'], 2)\n",
    "\n",
    "\n",
    "dataset3 = dataset_test_yil.copy()\n",
    "dataset3['SAL_PRED'] = Prediction_result3\n",
    "# *1.2 = annual increase not factored into salary before. \n",
    "# Use this info to create a min salary difference column to help with regression\n",
    "dataset3['SAL_PRED'] = round(dataset3['SAL_PRED'], 0)\n",
    "dataset3['SAL_RISIDUAL'] = round(dataset3['SAL_PRED']/dataset3['INFLATION'], 2)\n",
    "\n",
    "# dataset3['SAL_PRED'] = (dataset3['SAL_PRED']*1.19)"
   ]
  },
  {
   "cell_type": "markdown",
   "metadata": {},
   "source": [
    "## NEED\n",
    "\n",
    "Possibly create a year 3, 4,5,6 contract for first 5 years.\n",
    "Will eventually do the same for 10 year."
   ]
  },
  {
   "cell_type": "markdown",
   "metadata": {
    "ExecuteTime": {
     "end_time": "2020-09-24T23:07:35.408748Z",
     "start_time": "2020-09-24T23:07:35.394725Z"
    }
   },
   "source": [
    "### YIL = dataset default"
   ]
  },
  {
   "cell_type": "markdown",
   "metadata": {},
   "source": [
    "2020 Season. 3 Years in the league. Sorted by Predicted Salary then PER."
   ]
  },
  {
   "cell_type": "code",
   "execution_count": null,
   "metadata": {
    "ExecuteTime": {
     "end_time": "2020-09-25T21:00:37.354691Z",
     "start_time": "2020-09-25T21:00:37.308098Z"
    },
    "scrolled": true
   },
   "outputs": [],
   "source": [
    "# ds2 = dataset2[(dataset2['SEASON_ID'] == '2019-20') & (dataset2['YIL'] <= 3)].sort_values(by=['PER','YIL'], ascending=False)\n",
    "ds2 = dataset2[(dataset2['YEAR'] > 2019) & (dataset2['YIL'] <= 3)& (dataset2['INFLATION'] > 3)].sort_values(by=['SAL_PRED','PER'], ascending=False)\n",
    "_2020_yil_3_per_only_save = ds2.head(10)\n",
    "_2020_yil_3_per_only_save"
   ]
  },
  {
   "cell_type": "code",
   "execution_count": null,
   "metadata": {},
   "outputs": [],
   "source": [
    "## Save 2020_yil_3_per_only.json\n",
    "_2020_yil_3_per_only_save=_2020_yil_3_per_only_save.to_json(orient='records')\n",
    "\n",
    "# SAVE: Player_position\n",
    "with open(f'../../datasets/_2020_yil_3_per_only_save.json', 'w') as fp:\n",
    "    json.dump(_2020_yil_3_per_only_save, fp)"
   ]
  },
  {
   "cell_type": "code",
   "execution_count": null,
   "metadata": {},
   "outputs": [],
   "source": []
  },
  {
   "cell_type": "code",
   "execution_count": null,
   "metadata": {
    "ExecuteTime": {
     "end_time": "2020-09-26T00:41:55.032108Z",
     "start_time": "2020-09-26T00:41:55.008163Z"
    }
   },
   "outputs": [],
   "source": [
    "top_2020_yil_3 = ds2[['POSITION', 'PLAYER_NAME', 'YEAR', 'YIL',\n",
    "       'ROUND_NUMBER', 'OVERALL_PICK', 'MIN_PRED', 'PER', 'INJURY_PY',\n",
    "       'INFLATION', 'SAL_PRED', 'SAL_RISIDUAL']]\n",
    "top_2020_yil_3.sort_values(by=['SAL_PRED','PER', 'SAL_RISIDUAL'], ascending=False).head(10)"
   ]
  },
  {
   "cell_type": "markdown",
   "metadata": {},
   "source": [
    "### Same but all players in 20 years"
   ]
  },
  {
   "cell_type": "code",
   "execution_count": null,
   "metadata": {},
   "outputs": [],
   "source": [
    "ds2_all = dataset2[(dataset2['YIL'] <= 3)& (dataset2['INFLATION'] > 3)].sort_values(by=[\"YIL\",\"PER\"], ascending=False)\n",
    "_2020_yil_all_per_save = ds2_all.head(10)"
   ]
  },
  {
   "cell_type": "code",
   "execution_count": null,
   "metadata": {},
   "outputs": [],
   "source": [
    "## Save 2020_yil_3_per_only.json\n",
    "_2020_yil_all_per_save=_2020_yil_all_per_save.to_json(orient='records')\n",
    "\n",
    "# SAVE: Player_position\n",
    "with open(f'../../datasets/_2020_yil_all_per_save.json', 'w') as fp:\n",
    "    json.dump(_2020_yil_all_per_save, fp)"
   ]
  },
  {
   "cell_type": "code",
   "execution_count": null,
   "metadata": {
    "ExecuteTime": {
     "end_time": "2020-09-25T21:00:37.417501Z",
     "start_time": "2020-09-25T21:00:37.402758Z"
    }
   },
   "outputs": [],
   "source": [
    "# ds2 = ds2.set_index(\"PLAYER_NAME\")\n",
    "# ds2[ds2['PLAYER_ID'] == 1629029]"
   ]
  },
  {
   "cell_type": "code",
   "execution_count": null,
   "metadata": {
    "ExecuteTime": {
     "end_time": "2020-09-25T21:00:37.448648Z",
     "start_time": "2020-09-25T21:00:37.418482Z"
    }
   },
   "outputs": [],
   "source": [
    "ds2[ds2['PLAYER_NAME'] == 'Alex Caruso']"
   ]
  },
  {
   "cell_type": "code",
   "execution_count": null,
   "metadata": {
    "ExecuteTime": {
     "end_time": "2020-09-25T21:02:25.578086Z",
     "start_time": "2020-09-25T21:02:25.568082Z"
    }
   },
   "outputs": [],
   "source": [
    "#######\n",
    "## Top 20 \n",
    "# ds2.head(20)"
   ]
  },
  {
   "cell_type": "code",
   "execution_count": null,
   "metadata": {},
   "outputs": [],
   "source": []
  },
  {
   "cell_type": "code",
   "execution_count": null,
   "metadata": {
    "ExecuteTime": {
     "end_time": "2020-09-25T21:06:01.712690Z",
     "start_time": "2020-09-25T21:06:01.704692Z"
    }
   },
   "outputs": [],
   "source": [
    "type(dataset3['YIL'][0])"
   ]
  },
  {
   "cell_type": "markdown",
   "metadata": {
    "ExecuteTime": {
     "end_time": "2020-09-24T23:07:35.472221Z",
     "start_time": "2020-09-24T23:07:35.457255Z"
    }
   },
   "source": [
    "### YIL = 5"
   ]
  },
  {
   "cell_type": "code",
   "execution_count": null,
   "metadata": {},
   "outputs": [],
   "source": []
  },
  {
   "cell_type": "code",
   "execution_count": null,
   "metadata": {
    "ExecuteTime": {
     "end_time": "2020-09-26T00:47:08.635842Z",
     "start_time": "2020-09-26T00:47:08.630829Z"
    }
   },
   "outputs": [],
   "source": [
    "# ds3 = dataset3[(dataset3['YEAR']  > 2019) & (dataset3['INFLATION'] > 3) ]\n",
    "ds3 = dataset3[dataset3['INFLATION'] > 3]"
   ]
  },
  {
   "cell_type": "code",
   "execution_count": null,
   "metadata": {
    "ExecuteTime": {
     "end_time": "2020-09-26T00:47:08.961411Z",
     "start_time": "2020-09-26T00:47:08.956694Z"
    }
   },
   "outputs": [],
   "source": [
    "# ds3 = dataset3[(dataset3['YEAR'] > 2019) & (dataset3['YIL'] <= 3)& (dataset3['INFLATION'] > 3)].sort_values(by=['PER','YIL'], ascending=False)\n",
    "# ds3"
   ]
  },
  {
   "cell_type": "code",
   "execution_count": null,
   "metadata": {
    "ExecuteTime": {
     "end_time": "2020-09-26T00:47:09.317678Z",
     "start_time": "2020-09-26T00:47:09.287415Z"
    },
    "scrolled": true
   },
   "outputs": [],
   "source": [
    "top_2020_yil_5 = ds3[['POSITION', 'PLAYER_NAME', 'PHOTO','YEAR', 'YIL',\n",
    "       'ROUND_NUMBER', 'OVERALL_PICK', 'MIN_PRED', 'PER', 'INJURY_PY',\n",
    "       'INFLATION', 'SAL_PRED', 'SAL_RISIDUAL']].reset_index(drop=True)\n",
    "top_2020_yil_5"
   ]
  },
  {
   "cell_type": "code",
   "execution_count": null,
   "metadata": {
    "ExecuteTime": {
     "end_time": "2020-09-25T21:09:36.613225Z",
     "start_time": "2020-09-25T21:09:36.607014Z"
    }
   },
   "outputs": [],
   "source": [
    "# ## Save top_2020_yil_5.json\n",
    "# top_2020_yil_5_save=top_2020_yil_5.to_json(orient='records')\n",
    "\n",
    "# # SAVE: Player_position\n",
    "# with open(f'../../datasets/top_2020_yil_5.json', 'w') as fp:\n",
    "#     json.dump(top_2020_yil_5_save, fp)"
   ]
  },
  {
   "cell_type": "code",
   "execution_count": null,
   "metadata": {},
   "outputs": [],
   "source": []
  },
  {
   "cell_type": "markdown",
   "metadata": {},
   "source": [
    "# RUN HERE"
   ]
  },
  {
   "cell_type": "code",
   "execution_count": null,
   "metadata": {},
   "outputs": [],
   "source": []
  },
  {
   "cell_type": "code",
   "execution_count": null,
   "metadata": {},
   "outputs": [],
   "source": []
  },
  {
   "cell_type": "markdown",
   "metadata": {},
   "source": [
    "-------------"
   ]
  },
  {
   "cell_type": "markdown",
   "metadata": {
    "collapsed": "true",
    "heading_collapsed": true
   },
   "source": [
    "## Linear Regression "
   ]
  },
  {
   "cell_type": "code",
   "execution_count": null,
   "metadata": {
    "ExecuteTime": {
     "end_time": "2020-09-20T02:05:25.427805Z",
     "start_time": "2020-09-20T02:05:25.414839Z"
    },
    "hidden": true
   },
   "outputs": [],
   "source": [
    "# Assign the data to X and y\n",
    "\n",
    "X = twenty_years_all_players[[\"MIN\", \"GP\"]]\n",
    "y = twenty_years_all_players[\"PPGP\"].values.reshape(-1, 1)\n",
    "print(X.shape, y.shape)"
   ]
  },
  {
   "cell_type": "code",
   "execution_count": null,
   "metadata": {
    "ExecuteTime": {
     "end_time": "2020-09-20T02:05:25.756797Z",
     "start_time": "2020-09-20T02:05:25.693279Z"
    },
    "hidden": true
   },
   "outputs": [],
   "source": [
    "# Use train_test_split to create training and testing data\n",
    "\n",
    "from sklearn.model_selection import train_test_split\n",
    "\n",
    "X_train, X_test, y_train, y_test = train_test_split(X, y, random_state=42)\n",
    "\n",
    "# Create the model using LinearRegression\n",
    "\n",
    "from sklearn.linear_model import LinearRegression\n",
    "model = LinearRegression()"
   ]
  },
  {
   "cell_type": "code",
   "execution_count": null,
   "metadata": {
    "ExecuteTime": {
     "end_time": "2020-09-20T02:05:25.898248Z",
     "start_time": "2020-09-20T02:05:25.875304Z"
    },
    "hidden": true
   },
   "outputs": [],
   "source": [
    "# Fit the model to the training data and calculate the scores for the training and testing data\n",
    "\n",
    "model.fit(X_train, y_train)\n",
    "training_score = model.score(X_train, y_train)\n",
    "testing_score = model.score(X_test, y_test)\n",
    "\n",
    "\n",
    "\n",
    "print(f\"Training Score: {training_score}\")\n",
    "print(f\"Testing Score: {testing_score}\")"
   ]
  },
  {
   "cell_type": "code",
   "execution_count": null,
   "metadata": {
    "ExecuteTime": {
     "end_time": "2020-09-20T02:05:26.288096Z",
     "start_time": "2020-09-20T02:05:26.075648Z"
    },
    "hidden": true
   },
   "outputs": [],
   "source": [
    "# Plot the Residuals for the Training and Testing data\n",
    "\n",
    "# Use `model.predict()` to get a prediction array from X_train and X_test\n",
    "y_train_prediction = model.predict(X_train)\n",
    "y_test_prediction = model.predict(X_test)\n",
    "\n",
    "# Plot the residual\n",
    "plt.scatter(y_train_prediction, y_train_prediction - y_train, c=\"blue\", label=\"Training Data (Points)\")\n",
    "plt.scatter(y_test_prediction, y_test_prediction - y_test, c=\"orange\", label=\"Testing Data (MIN, GP)\")\n",
    "plt.legend()\n",
    "plt.hlines(y=0, xmin=y.min(), xmax=y.max())\n",
    "plt.title(\"Residual Plot\")\n"
   ]
  },
  {
   "cell_type": "code",
   "execution_count": null,
   "metadata": {
    "hidden": true
   },
   "outputs": [],
   "source": []
  },
  {
   "cell_type": "markdown",
   "metadata": {
    "hidden": true
   },
   "source": [
    "--------------------------"
   ]
  },
  {
   "cell_type": "markdown",
   "metadata": {
    "ExecuteTime": {
     "end_time": "2020-09-20T00:24:04.790213Z",
     "start_time": "2020-09-20T00:24:04.776250Z"
    },
    "collapsed": "true",
    "heading_collapsed": true
   },
   "source": [
    "## Logistic Regression\n",
    "* Assiging 'dummies'.        \n",
    "Creating columns for logistic regression out of categorical data in specific columns. ex: positon of player"
   ]
  },
  {
   "cell_type": "code",
   "execution_count": null,
   "metadata": {
    "ExecuteTime": {
     "end_time": "2020-09-20T01:43:10.940508Z",
     "start_time": "2020-09-20T01:43:10.924529Z"
    },
    "hidden": true
   },
   "outputs": [],
   "source": [
    "# twenty_years_all_players"
   ]
  },
  {
   "cell_type": "code",
   "execution_count": null,
   "metadata": {
    "ExecuteTime": {
     "end_time": "2020-09-20T01:43:11.109219Z",
     "start_time": "2020-09-20T01:43:11.096254Z"
    },
    "hidden": true
   },
   "outputs": [],
   "source": [
    "ml_test = twenty_years_all_players.drop(columns=['PLAYER_NAME','TEAM_ABBREVIATION','SEASON_ID'])"
   ]
  },
  {
   "cell_type": "code",
   "execution_count": null,
   "metadata": {
    "ExecuteTime": {
     "end_time": "2020-09-20T02:05:37.914808Z",
     "start_time": "2020-09-20T02:05:37.891885Z"
    },
    "hidden": true
   },
   "outputs": [],
   "source": [
    "ml_test2 = pd.get_dummies(ml_test)\n",
    "ml_test2.columns = ml_test2.columns.str.replace(' ','')\n",
    "ml_test2.head()"
   ]
  },
  {
   "cell_type": "markdown",
   "metadata": {
    "ExecuteTime": {
     "end_time": "2020-09-19T19:25:58.248942Z",
     "start_time": "2020-09-19T19:25:58.229846Z"
    },
    "hidden": true
   },
   "source": [
    "OREB: Offensive Rebounds  \n",
    "DREB: Defensive Rebounds   \n",
    "REB: Rebounds  \n",
    "AST: Assists  \n",
    "TOV: Turnovers  \n",
    "STL: Steals  \n",
    "BLK: Blocks  "
   ]
  },
  {
   "cell_type": "code",
   "execution_count": null,
   "metadata": {
    "ExecuteTime": {
     "end_time": "2020-09-20T02:05:38.658891Z",
     "start_time": "2020-09-20T02:05:38.643931Z"
    },
    "hidden": true
   },
   "outputs": [],
   "source": [
    "X = ml_test2[[\"MIN\", \"GP\"]]\n",
    "# Select the 'FEV' column for y, and then use values.reshape() to reshape it to a 2d array\n",
    "y = ml_test2[\"POSITION_C\"].values.reshape(-1, 1)"
   ]
  },
  {
   "cell_type": "code",
   "execution_count": null,
   "metadata": {
    "ExecuteTime": {
     "end_time": "2020-09-20T02:05:38.860484Z",
     "start_time": "2020-09-20T02:05:38.840538Z"
    },
    "hidden": true
   },
   "outputs": [],
   "source": [
    "from sklearn.model_selection import train_test_split\n",
    "\n",
    "X_train, X_test, y_train, y_test = train_test_split(X, y, random_state=1, test_size=0.33,)\n",
    "\n"
   ]
  },
  {
   "cell_type": "code",
   "execution_count": null,
   "metadata": {
    "ExecuteTime": {
     "end_time": "2020-09-20T02:05:39.063519Z",
     "start_time": "2020-09-20T02:05:39.049557Z"
    },
    "hidden": true
   },
   "outputs": [],
   "source": [
    "from sklearn.linear_model import LogisticRegression\n",
    "classifier = LogisticRegression()\n",
    "classifier"
   ]
  },
  {
   "cell_type": "code",
   "execution_count": null,
   "metadata": {
    "ExecuteTime": {
     "end_time": "2020-09-20T02:05:39.452773Z",
     "start_time": "2020-09-20T02:05:39.418844Z"
    },
    "hidden": true
   },
   "outputs": [],
   "source": [
    "classifier.fit(X_train, y_train)"
   ]
  },
  {
   "cell_type": "code",
   "execution_count": null,
   "metadata": {
    "ExecuteTime": {
     "end_time": "2020-09-20T02:05:40.989846Z",
     "start_time": "2020-09-20T02:05:40.970871Z"
    },
    "hidden": true
   },
   "outputs": [],
   "source": [
    "print(f\"Training Data Score: {classifier.score(X_train, y_train)}\")\n",
    "print(f\"Testing Data Score: {classifier.score(X_test, y_test)}\")"
   ]
  },
  {
   "cell_type": "code",
   "execution_count": null,
   "metadata": {
    "ExecuteTime": {
     "end_time": "2020-09-20T02:05:41.253726Z",
     "start_time": "2020-09-20T02:05:41.245774Z"
    },
    "hidden": true
   },
   "outputs": [],
   "source": []
  },
  {
   "cell_type": "code",
   "execution_count": null,
   "metadata": {
    "ExecuteTime": {
     "end_time": "2020-09-20T02:05:44.843679Z",
     "start_time": "2020-09-20T02:05:44.685611Z"
    },
    "hidden": true
   },
   "outputs": [],
   "source": [
    "# Generate a new data point (the red circle)\n",
    "import numpy as np\n",
    "new_data = np.array([[800, 36]])\n",
    "plt.scatter(X.iloc[:, 0], X.iloc[:, 1], c=y) \n",
    "plt.scatter(new_data[0, 0], new_data[0, 1], c=\"r\", marker=\"o\", s=100)"
   ]
  },
  {
   "cell_type": "code",
   "execution_count": null,
   "metadata": {
    "ExecuteTime": {
     "end_time": "2020-09-20T02:05:47.575286Z",
     "start_time": "2020-09-20T02:05:47.559325Z"
    },
    "hidden": true
   },
   "outputs": [],
   "source": [
    "# Predict the class (purple or yellow) of the new data point\n",
    "predictions = classifier.predict(new_data)\n",
    "print(\"Classes are either 0 (purple) or 1 (yellow)\")\n",
    "print(f\"The new point was classified as: {predictions}\")"
   ]
  },
  {
   "cell_type": "code",
   "execution_count": null,
   "metadata": {
    "ExecuteTime": {
     "end_time": "2020-09-20T00:10:44.418749Z",
     "start_time": "2020-09-20T00:10:44.413446Z"
    },
    "hidden": true
   },
   "outputs": [],
   "source": []
  },
  {
   "cell_type": "code",
   "execution_count": null,
   "metadata": {
    "ExecuteTime": {
     "end_time": "2020-09-20T02:05:50.508968Z",
     "start_time": "2020-09-20T02:05:50.480023Z"
    },
    "hidden": true,
    "scrolled": true
   },
   "outputs": [],
   "source": [
    "predictions = classifier.predict(X_test)\n",
    "pd.DataFrame({\"Prediction\": predictions, \"Actual\": y_test})"
   ]
  },
  {
   "cell_type": "markdown",
   "metadata": {
    "hidden": true
   },
   "source": [
    "----------"
   ]
  },
  {
   "cell_type": "markdown",
   "metadata": {
    "collapsed": "true",
    "heading_collapsed": true
   },
   "source": [
    "## TEST: DNN for regression    \n",
    "https://towardsdatascience.com/deep-neural-networks-for-regression-problems-81321897ca33"
   ]
  },
  {
   "cell_type": "code",
   "execution_count": null,
   "metadata": {
    "ExecuteTime": {
     "end_time": "2020-09-20T02:07:07.529202Z",
     "start_time": "2020-09-20T02:07:07.511246Z"
    },
    "hidden": true
   },
   "outputs": [],
   "source": [
    "X = ml_test2[[\"MIN\", \"GP\"]]\n",
    "# Select the 'FEV' column for y, and then use values.reshape() to reshape it to a 2d array\n",
    "y = ml_test2[\"POSITION_C\"].values.reshape(-1, 1)"
   ]
  },
  {
   "cell_type": "code",
   "execution_count": null,
   "metadata": {
    "ExecuteTime": {
     "end_time": "2020-09-20T02:07:07.810487Z",
     "start_time": "2020-09-20T02:07:07.796525Z"
    },
    "hidden": true
   },
   "outputs": [],
   "source": [
    "from sklearn.model_selection import train_test_split\n",
    "\n",
    "X_train, X_test, y_train, y_test = train_test_split(X, y, random_state=101, test_size=0.33)"
   ]
  },
  {
   "cell_type": "code",
   "execution_count": null,
   "metadata": {
    "hidden": true
   },
   "outputs": [],
   "source": []
  },
  {
   "cell_type": "code",
   "execution_count": null,
   "metadata": {
    "ExecuteTime": {
     "end_time": "2020-09-20T02:07:17.896210Z",
     "start_time": "2020-09-20T02:07:17.882215Z"
    },
    "hidden": true
   },
   "outputs": [],
   "source": [
    "def get_cols_with_no_nans(df,col_type):\n",
    "    '''\n",
    "    Arguments :\n",
    "    df : The dataframe to process\n",
    "    col_type : \n",
    "          num : to only get numerical columns with no nans\n",
    "          no_num : to only get nun-numerical columns with no nans\n",
    "          all : to get any columns with no nans    \n",
    "    '''\n",
    "    if (col_type == 'num'):\n",
    "        predictors = df.select_dtypes(exclude=['object'])\n",
    "    elif (col_type == 'no_num'):\n",
    "        predictors = df.select_dtypes(include=['object'])\n",
    "    elif (col_type == 'all'):\n",
    "        predictors = df\n",
    "    else :\n",
    "        print('Error : choose a type (num, no_num, all)')\n",
    "        return 0\n",
    "    cols_with_no_nans = []\n",
    "    for col in predictors.columns:\n",
    "        if not df[col].isnull().any():\n",
    "            cols_with_no_nans.append(col)\n",
    "    return cols_with_no_nans"
   ]
  },
  {
   "cell_type": "code",
   "execution_count": null,
   "metadata": {
    "ExecuteTime": {
     "end_time": "2020-09-20T02:07:18.224444Z",
     "start_time": "2020-09-20T02:07:18.207490Z"
    },
    "hidden": true
   },
   "outputs": [],
   "source": [
    "# define a function to get the columns that don’t have any missing values\n",
    "num_cols = get_cols_with_no_nans(ml_test2 , 'num')\n",
    "cat_cols = get_cols_with_no_nans(ml_test2 , 'no_num')"
   ]
  },
  {
   "cell_type": "code",
   "execution_count": null,
   "metadata": {
    "ExecuteTime": {
     "end_time": "2020-09-20T02:07:18.583850Z",
     "start_time": "2020-09-20T02:07:18.565874Z"
    },
    "hidden": true
   },
   "outputs": [],
   "source": [
    "print ('Number of numerical columns with no nan values :',len(num_cols))\n",
    "print ('Number of nun-numerical columns with no nan values :',len(cat_cols))"
   ]
  },
  {
   "cell_type": "code",
   "execution_count": null,
   "metadata": {
    "ExecuteTime": {
     "end_time": "2020-09-20T02:07:21.627215Z",
     "start_time": "2020-09-20T02:07:19.703953Z"
    },
    "hidden": true
   },
   "outputs": [],
   "source": [
    "combined = ml_test2[num_cols + cat_cols]\n",
    "combined.hist(figsize = (12,10))\n",
    "plt.show()"
   ]
  },
  {
   "cell_type": "code",
   "execution_count": null,
   "metadata": {
    "ExecuteTime": {
     "end_time": "2020-09-20T02:07:23.871714Z",
     "start_time": "2020-09-20T02:07:23.817869Z"
    },
    "hidden": true
   },
   "outputs": [],
   "source": [
    "import seaborn as sb"
   ]
  },
  {
   "cell_type": "code",
   "execution_count": null,
   "metadata": {
    "ExecuteTime": {
     "end_time": "2020-09-20T02:10:33.892373Z",
     "start_time": "2020-09-20T02:10:33.401686Z"
    },
    "hidden": true
   },
   "outputs": [],
   "source": [
    "train_data = combined[num_cols + cat_cols]\n",
    "train_data['POSITION_C'] = y \n",
    "\n",
    "C_mat = train_data.corr()\n",
    "fig = plt.figure(figsize = (15,15))\n",
    "\n",
    "sb.heatmap(C_mat, vmax = .8, square = True)\n",
    "plt.show()"
   ]
  },
  {
   "cell_type": "code",
   "execution_count": null,
   "metadata": {
    "ExecuteTime": {
     "end_time": "2020-09-20T02:10:47.160493Z",
     "start_time": "2020-09-20T02:10:47.140547Z"
    },
    "hidden": true
   },
   "outputs": [],
   "source": [
    "def oneHotEncode(df,colNames):\n",
    "    for col in colNames:\n",
    "        if( df[col].dtype == np.dtype('object')):\n",
    "            dummies = pd.get_dummies(df[col],prefix=col)\n",
    "            df = pd.concat([df,dummies],axis=1)\n",
    "\n",
    "            #drop the encoded column\n",
    "            df.drop([col],axis = 1 , inplace=True)\n",
    "    return df\n",
    "    \n",
    "\n",
    "print('There were {} columns before encoding categorical features'.format(combined.shape[1]))\n",
    "combined = oneHotEncode(combined, cat_cols)\n",
    "print('There are {} columns after encoding categorical features'.format(combined.shape[1]))"
   ]
  },
  {
   "cell_type": "code",
   "execution_count": null,
   "metadata": {
    "ExecuteTime": {
     "end_time": "2020-09-20T02:10:51.274663Z",
     "start_time": "2020-09-20T02:10:51.256738Z"
    },
    "hidden": true
   },
   "outputs": [],
   "source": [
    "def split_combined():\n",
    "    global combined\n",
    "    train = combined[:1460]\n",
    "    test = combined[1460:]\n",
    "\n",
    "    return train , test \n",
    "  \n",
    "train, test = split_combined()"
   ]
  },
  {
   "cell_type": "markdown",
   "metadata": {
    "ExecuteTime": {
     "end_time": "2020-09-20T00:55:15.851761Z",
     "start_time": "2020-09-20T00:55:15.821811Z"
    },
    "hidden": true
   },
   "source": [
    "-----------"
   ]
  },
  {
   "cell_type": "markdown",
   "metadata": {
    "collapsed": "true",
    "heading_collapsed": true
   },
   "source": [
    "## TEST: DNN.\n",
    "Sequential model, dense layers, relu as activation function for hidden layers, normal initializer as kernel_initializer. Mean absolute error as loss function. Linear as activation function for output"
   ]
  },
  {
   "cell_type": "code",
   "execution_count": null,
   "metadata": {
    "ExecuteTime": {
     "end_time": "2020-09-20T01:47:15.096641Z",
     "start_time": "2020-09-20T01:47:15.080691Z"
    },
    "hidden": true
   },
   "outputs": [],
   "source": [
    "# first, create a normal neural network with 2 inputs, 6 hidden nodes, and 2 outputs\n",
    "from tensorflow.keras.models import Sequential\n",
    "from tensorflow.keras.layers import Dense\n",
    "\n",
    "from tensorflow.keras.utils import to_categorical"
   ]
  },
  {
   "cell_type": "code",
   "execution_count": null,
   "metadata": {
    "ExecuteTime": {
     "end_time": "2020-09-20T01:47:15.774795Z",
     "start_time": "2020-09-20T01:47:15.760802Z"
    },
    "hidden": true
   },
   "outputs": [],
   "source": [
    "from sklearn.preprocessing import StandardScaler\n",
    "\n",
    "# Create a StandardScater model and fit it to the training data\n",
    "X_scaler = StandardScaler().fit(X_train)"
   ]
  },
  {
   "cell_type": "code",
   "execution_count": null,
   "metadata": {
    "ExecuteTime": {
     "end_time": "2020-09-20T01:47:15.961575Z",
     "start_time": "2020-09-20T01:47:15.954571Z"
    },
    "hidden": true
   },
   "outputs": [],
   "source": [
    "# Transform the training and testing data using the X_scaler\n",
    "\n",
    "X_train_scaled = X_scaler.transform(X_train)\n",
    "X_test_scaled = X_scaler.transform(X_test)"
   ]
  },
  {
   "cell_type": "code",
   "execution_count": null,
   "metadata": {
    "ExecuteTime": {
     "end_time": "2020-09-20T01:47:16.133274Z",
     "start_time": "2020-09-20T01:47:16.121318Z"
    },
    "hidden": true
   },
   "outputs": [],
   "source": [
    "# One-hot encoding\n",
    "y_train_categorical = to_categorical(y_train)\n",
    "y_test_categorical = to_categorical(y_test)"
   ]
  },
  {
   "cell_type": "code",
   "execution_count": null,
   "metadata": {
    "ExecuteTime": {
     "end_time": "2020-09-20T01:47:16.322028Z",
     "start_time": "2020-09-20T01:47:16.295136Z"
    },
    "hidden": true
   },
   "outputs": [],
   "source": [
    "# first, create a normal neural network with 2 inputs, 6 hidden nodes, and 2 outputs\n",
    "from tensorflow.keras.models import Sequential\n",
    "from tensorflow.keras.layers import Dense\n",
    "import tensorflow as tf\n",
    "\n",
    "model = Sequential()\n",
    "model.add(Dense(units=6, activation='relu', input_dim=2, name='hidden'))\n",
    "model.add(Dense(units=2, activation='softmax', name='output'))"
   ]
  },
  {
   "cell_type": "code",
   "execution_count": null,
   "metadata": {
    "ExecuteTime": {
     "end_time": "2020-09-20T01:47:16.522875Z",
     "start_time": "2020-09-20T01:47:16.511904Z"
    },
    "hidden": true
   },
   "outputs": [],
   "source": [
    "model.summary()"
   ]
  },
  {
   "cell_type": "code",
   "execution_count": null,
   "metadata": {
    "ExecuteTime": {
     "end_time": "2020-09-20T01:47:19.237242Z",
     "start_time": "2020-09-20T01:47:19.216296Z"
    },
    "hidden": true
   },
   "outputs": [],
   "source": [
    "# Compile the model\n",
    "model.compile(optimizer='adam',\n",
    "              loss='categorical_crossentropy',\n",
    "              metrics=['accuracy'])"
   ]
  },
  {
   "cell_type": "code",
   "execution_count": null,
   "metadata": {
    "ExecuteTime": {
     "end_time": "2020-09-20T01:47:19.531603Z",
     "start_time": "2020-09-20T01:47:19.519635Z"
    },
    "hidden": true
   },
   "outputs": [],
   "source": [
    "config = tf.compat.v1.ConfigProto()\n",
    "config.gpu_options.allow_growth = True\n",
    "session = tf.compat.v1.Session(config=config)"
   ]
  },
  {
   "cell_type": "code",
   "execution_count": null,
   "metadata": {
    "ExecuteTime": {
     "end_time": "2020-09-20T01:47:31.638205Z",
     "start_time": "2020-09-20T01:47:19.976941Z"
    },
    "hidden": true,
    "scrolled": true
   },
   "outputs": [],
   "source": [
    "# Fit the model to the training data\n",
    "model.fit(\n",
    "    X_train_scaled,\n",
    "    y_train_categorical,\n",
    "    validation_data=(X_test_scaled, y_test_categorical),\n",
    "    epochs=60,\n",
    "    shuffle=True,\n",
    "    verbose=2\n",
    ")"
   ]
  },
  {
   "cell_type": "code",
   "execution_count": null,
   "metadata": {
    "hidden": true
   },
   "outputs": [],
   "source": []
  },
  {
   "cell_type": "markdown",
   "metadata": {
    "heading_collapsed": true,
    "hidden": true
   },
   "source": [
    "### TEST: Deep Learning"
   ]
  },
  {
   "cell_type": "code",
   "execution_count": null,
   "metadata": {
    "ExecuteTime": {
     "end_time": "2020-09-20T01:50:01.730245Z",
     "start_time": "2020-09-20T01:50:01.700325Z"
    },
    "hidden": true
   },
   "outputs": [],
   "source": [
    "deep_model = Sequential(name='deep_model')\n",
    "deep_model.add(Dense(units=6, activation='relu', input_dim=2, name='hidden'))\n",
    "deep_model.add(Dense(units=6, activation='relu', name='hidden_2'))\n",
    "deep_model.add(Dense(units=2, activation='softmax', name='output'))"
   ]
  },
  {
   "cell_type": "code",
   "execution_count": null,
   "metadata": {
    "ExecuteTime": {
     "end_time": "2020-09-20T01:50:01.947967Z",
     "start_time": "2020-09-20T01:50:01.941983Z"
    },
    "hidden": true
   },
   "outputs": [],
   "source": [
    "deep_model.summary()"
   ]
  },
  {
   "cell_type": "code",
   "execution_count": null,
   "metadata": {
    "ExecuteTime": {
     "end_time": "2020-09-20T01:50:03.424741Z",
     "start_time": "2020-09-20T01:50:03.413739Z"
    },
    "hidden": true
   },
   "outputs": [],
   "source": [
    "# deep_model.compile(optimizer='adam',\n",
    "#                    loss='categorical_crossentropy',\n",
    "#                    metrics=['accuracy'])\n",
    "\n",
    "# deep_model.compile(optimizer='adam',\n",
    "#                    loss='mean_absolute_error',\n",
    "#                    metrics=['mean_absolute_error'])\n",
    "# deep_model.fit(\n",
    "#     X_train_scaled,\n",
    "#     y_train_categorical,\n",
    "#     validation_data=(X_test_scaled, y_test_categorical),\n",
    "#     epochs=100,\n",
    "#     shuffle=True,\n",
    "#     verbose=2\n",
    "# )"
   ]
  },
  {
   "cell_type": "code",
   "execution_count": null,
   "metadata": {
    "ExecuteTime": {
     "end_time": "2020-09-20T01:50:42.531947Z",
     "start_time": "2020-09-20T01:50:22.741762Z"
    },
    "hidden": true,
    "scrolled": true
   },
   "outputs": [],
   "source": [
    "deep_model.compile(optimizer='adam',\n",
    "                   loss='categorical_crossentropy',\n",
    "                   metrics=['accuracy'])\n",
    "deep_model.fit(\n",
    "    X_train_scaled,\n",
    "    y_train_categorical,\n",
    "    validation_data=(X_test_scaled, y_test_categorical),\n",
    "    epochs=100,\n",
    "    shuffle=True,\n",
    "    verbose=2\n",
    ")"
   ]
  },
  {
   "cell_type": "markdown",
   "metadata": {
    "heading_collapsed": true,
    "hidden": true
   },
   "source": [
    "### Compare the models below"
   ]
  },
  {
   "cell_type": "code",
   "execution_count": null,
   "metadata": {
    "ExecuteTime": {
     "end_time": "2020-09-20T01:48:24.740507Z",
     "start_time": "2020-09-20T01:48:24.648287Z"
    },
    "hidden": true
   },
   "outputs": [],
   "source": [
    "model_loss, model_accuracy = model.evaluate(\n",
    "    X_test_scaled, y_test_categorical, verbose=2)\n",
    "print(\n",
    "    f\"Normal Neural Network - Loss: {model_loss}, Accuracy: {model_accuracy}\")"
   ]
  },
  {
   "cell_type": "code",
   "execution_count": null,
   "metadata": {
    "ExecuteTime": {
     "end_time": "2020-09-20T01:48:24.881784Z",
     "start_time": "2020-09-20T01:48:24.741487Z"
    },
    "hidden": true
   },
   "outputs": [],
   "source": [
    "model_loss, model_accuracy = deep_model.evaluate(\n",
    "    X_test_scaled, y_test_categorical, verbose=2)\n",
    "print(f\"Deep Neural Network - Loss: {model_loss}, Accuracy: {model_accuracy}\")"
   ]
  },
  {
   "cell_type": "code",
   "execution_count": null,
   "metadata": {
    "ExecuteTime": {
     "end_time": "2020-09-20T02:12:34.334234Z",
     "start_time": "2020-09-20T02:12:34.207491Z"
    },
    "hidden": true
   },
   "outputs": [],
   "source": []
  },
  {
   "cell_type": "markdown",
   "metadata": {
    "hidden": true
   },
   "source": [
    "-----------------"
   ]
  },
  {
   "cell_type": "code",
   "execution_count": null,
   "metadata": {
    "ExecuteTime": {
     "end_time": "2020-09-20T02:14:48.898501Z",
     "start_time": "2020-09-20T02:14:48.894484Z"
    },
    "hidden": true
   },
   "outputs": [],
   "source": [
    "import tensorflow.keras as keras"
   ]
  },
  {
   "cell_type": "code",
   "execution_count": null,
   "metadata": {
    "ExecuteTime": {
     "end_time": "2020-09-20T02:15:13.726325Z",
     "start_time": "2020-09-20T02:15:13.710318Z"
    },
    "hidden": true
   },
   "outputs": [],
   "source": [
    "checkpoint_name = 'Weights-{epoch:03d}--{val_loss:.5f}.hdf5' \n",
    "checkpoint = ModelCheckpoint(checkpoint_name, monitor='val_loss', verbose = 1, save_best_only = True, mode ='auto')\n",
    "callbacks_list = [checkpoint]"
   ]
  },
  {
   "cell_type": "code",
   "execution_count": null,
   "metadata": {
    "hidden": true
   },
   "outputs": [],
   "source": []
  },
  {
   "cell_type": "code",
   "execution_count": null,
   "metadata": {
    "hidden": true
   },
   "outputs": [],
   "source": []
  },
  {
   "cell_type": "code",
   "execution_count": null,
   "metadata": {
    "hidden": true
   },
   "outputs": [],
   "source": []
  },
  {
   "cell_type": "code",
   "execution_count": null,
   "metadata": {
    "hidden": true
   },
   "outputs": [],
   "source": []
  },
  {
   "cell_type": "markdown",
   "metadata": {
    "hidden": true
   },
   "source": [
    "--------"
   ]
  },
  {
   "cell_type": "code",
   "execution_count": null,
   "metadata": {
    "ExecuteTime": {
     "end_time": "2020-09-20T02:06:19.528953Z",
     "start_time": "2020-09-20T02:06:19.513107Z"
    },
    "hidden": true
   },
   "outputs": [],
   "source": [
    "# Ridge model\n",
    "# Note: Use an alpha of .01 when creating the model for this activity\n",
    "from sklearn.linear_model import Ridge\n",
    "\n",
    "### BEGIN SOLUTION\n",
    "ridge = Ridge(alpha=.01)\n",
    "ridge.fit(X_train_scaled, y_train_scaled)\n",
    "\n",
    "predictions = ridge.predict(X_test_scaled)\n",
    "\n",
    "MSE = mean_squared_error(y_test_scaled, predictions)\n",
    "r2 = ridge.score(X_test_scaled, y_test_scaled)\n",
    "### END SOLUTION\n",
    "\n",
    "print(f\"MSE: {MSE}, R2: {r2}\")"
   ]
  },
  {
   "cell_type": "code",
   "execution_count": null,
   "metadata": {
    "ExecuteTime": {
     "end_time": "2020-09-19T19:30:50.034739Z",
     "start_time": "2020-09-19T19:30:50.025765Z"
    },
    "hidden": true
   },
   "outputs": [],
   "source": [
    "# ElasticNet model\n",
    "# Note: Use an alpha of .01 when creating the model for this activity\n",
    "from sklearn.linear_model import ElasticNet\n",
    "\n",
    "### BEGIN SOLUTION\n",
    "elasticnet = ElasticNet(alpha=.01)\n",
    "elasticnet.fit(X_train_scaled, y_train_scaled)\n",
    "\n",
    "predictions = elasticnet.predict(X_test_scaled)\n",
    "\n",
    "MSE = mean_squared_error(y_test_scaled, predictions)\n",
    "r2 = elasticnet.score(X_test_scaled, y_test_scaled)\n",
    "### END SOLUTION\n",
    "\n",
    "print(f\"MSE: {MSE}, R2: {r2}\")\n"
   ]
  },
  {
   "cell_type": "markdown",
   "metadata": {
    "hidden": true
   },
   "source": [
    "---------------"
   ]
  }
 ],
 "metadata": {
  "kernelspec": {
   "display_name": "Python 3",
   "language": "python",
   "name": "python3"
  },
  "language_info": {
   "codemirror_mode": {
    "name": "ipython",
    "version": 3
   },
   "file_extension": ".py",
   "mimetype": "text/x-python",
   "name": "python",
   "nbconvert_exporter": "python",
   "pygments_lexer": "ipython3",
   "version": "3.7.1"
  }
 },
 "nbformat": 4,
 "nbformat_minor": 4
}
