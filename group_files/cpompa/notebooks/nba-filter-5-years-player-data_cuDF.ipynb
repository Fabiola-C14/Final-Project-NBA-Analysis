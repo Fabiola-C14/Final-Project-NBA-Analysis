{
 "cells": [
  {
   "cell_type": "code",
   "execution_count": 1,
   "metadata": {
    "ExecuteTime": {
     "end_time": "2020-09-17T07:15:58.488155Z",
     "start_time": "2020-09-17T07:15:57.986925Z"
    }
   },
   "outputs": [],
   "source": [
    "# Dependencies and Setup\n",
    "import pandas as pd\n",
    "import numpy as np\n",
    "import time\n",
    "from pprint import pprint\n",
    "import requests\n",
    "from datetime import date, timedelta, datetime\n",
    "import json\n",
    "from pprint import pprint\n",
    "from tqdm import tqdm\n",
    "from tqdm import tqdm_notebook\n",
    "# sqlite Dependencies\n",
    "# ----------------------------------\n",
    "# Imports the method used for connecting to DBs\n",
    "from sqlalchemy import create_engine\n",
    "# Allow us to declare column types\n",
    "from sqlalchemy import Column, Integer, String, Text, DateTime, Float, Boolean, ForeignKey\n",
    "from sqlalchemy.orm import relationship\n",
    "from sqlalchemy.ext.declarative import declarative_base\n",
    "from sqlalchemy.orm import Session"
   ]
  },
  {
   "cell_type": "code",
   "execution_count": 2,
   "metadata": {
    "ExecuteTime": {
     "end_time": "2020-09-17T07:15:59.810625Z",
     "start_time": "2020-09-17T07:15:59.727706Z"
    }
   },
   "outputs": [],
   "source": [
    "from nba_api.stats.endpoints import playercareerstats, drafthistory, commonplayerinfo, playerawards"
   ]
  },
  {
   "cell_type": "code",
   "execution_count": 3,
   "metadata": {
    "ExecuteTime": {
     "end_time": "2020-09-17T07:16:03.914107Z",
     "start_time": "2020-09-17T07:16:03.905131Z"
    }
   },
   "outputs": [],
   "source": [
    "# cumestatsplayer,draftcombinedrillresults,playerdashboardbyteamperformance, leagueleaders, leaguedashplayerstats, draftcombinenonstationaryshooting, draftcombinestats, commonallplayers,"
   ]
  },
  {
   "cell_type": "code",
   "execution_count": 4,
   "metadata": {
    "ExecuteTime": {
     "end_time": "2020-09-17T07:16:04.287832Z",
     "start_time": "2020-09-17T07:16:04.277859Z"
    }
   },
   "outputs": [],
   "source": [
    "# pd.show_versions()"
   ]
  },
  {
   "cell_type": "markdown",
   "metadata": {},
   "source": [
    "## Static Examples"
   ]
  },
  {
   "cell_type": "code",
   "execution_count": 2,
   "metadata": {},
   "outputs": [
    {
     "ename": "CUDARuntimeError",
     "evalue": "cudaErrorInsufficientDriver: CUDA driver version is insufficient for CUDA runtime version",
     "output_type": "error",
     "traceback": [
      "\u001b[0;31m---------------------------------------------------------------------------\u001b[0m",
      "\u001b[0;31mCUDARuntimeError\u001b[0m                          Traceback (most recent call last)",
      "\u001b[0;32m<ipython-input-2-786bda220d14>\u001b[0m in \u001b[0;36m<module>\u001b[0;34m\u001b[0m\n\u001b[0;32m----> 1\u001b[0;31m \u001b[0;32mimport\u001b[0m \u001b[0mcudf\u001b[0m\u001b[0;34m,\u001b[0m \u001b[0mio\u001b[0m\u001b[0;34m,\u001b[0m \u001b[0mrequests\u001b[0m\u001b[0;34m\u001b[0m\u001b[0;34m\u001b[0m\u001b[0m\n\u001b[0m\u001b[1;32m      2\u001b[0m \u001b[0;32mfrom\u001b[0m \u001b[0mio\u001b[0m \u001b[0;32mimport\u001b[0m \u001b[0mStringIO\u001b[0m\u001b[0;34m\u001b[0m\u001b[0;34m\u001b[0m\u001b[0m\n",
      "\u001b[0;32m~/anaconda3/envs/usc_bootcamp/lib/python3.8/site-packages/cudf/__init__.py\u001b[0m in \u001b[0;36m<module>\u001b[0;34m\u001b[0m\n\u001b[1;32m      2\u001b[0m \u001b[0;32mfrom\u001b[0m \u001b[0mcudf\u001b[0m\u001b[0;34m.\u001b[0m\u001b[0mutils\u001b[0m\u001b[0;34m.\u001b[0m\u001b[0mgpu_utils\u001b[0m \u001b[0;32mimport\u001b[0m \u001b[0mvalidate_setup\u001b[0m  \u001b[0;31m# isort:skip\u001b[0m\u001b[0;34m\u001b[0m\u001b[0;34m\u001b[0m\u001b[0m\n\u001b[1;32m      3\u001b[0m \u001b[0;34m\u001b[0m\u001b[0m\n\u001b[0;32m----> 4\u001b[0;31m \u001b[0mvalidate_setup\u001b[0m\u001b[0;34m(\u001b[0m\u001b[0;34m)\u001b[0m\u001b[0;34m\u001b[0m\u001b[0;34m\u001b[0m\u001b[0m\n\u001b[0m\u001b[1;32m      5\u001b[0m \u001b[0;34m\u001b[0m\u001b[0m\n\u001b[1;32m      6\u001b[0m \u001b[0;32mimport\u001b[0m \u001b[0mcupy\u001b[0m\u001b[0;34m\u001b[0m\u001b[0;34m\u001b[0m\u001b[0m\n",
      "\u001b[0;32m~/anaconda3/envs/usc_bootcamp/lib/python3.8/site-packages/cudf/utils/gpu_utils.py\u001b[0m in \u001b[0;36mvalidate_setup\u001b[0;34m()\u001b[0m\n\u001b[1;32m     61\u001b[0m     \u001b[0;32mexcept\u001b[0m \u001b[0mCUDARuntimeError\u001b[0m \u001b[0;32mas\u001b[0m \u001b[0me\u001b[0m\u001b[0;34m:\u001b[0m\u001b[0;34m\u001b[0m\u001b[0;34m\u001b[0m\u001b[0m\n\u001b[1;32m     62\u001b[0m         \u001b[0;32mif\u001b[0m \u001b[0me\u001b[0m\u001b[0;34m.\u001b[0m\u001b[0mstatus\u001b[0m \u001b[0;32min\u001b[0m \u001b[0mnotify_caller_errors\u001b[0m\u001b[0;34m:\u001b[0m\u001b[0;34m\u001b[0m\u001b[0;34m\u001b[0m\u001b[0m\n\u001b[0;32m---> 63\u001b[0;31m             \u001b[0;32mraise\u001b[0m \u001b[0me\u001b[0m\u001b[0;34m\u001b[0m\u001b[0;34m\u001b[0m\u001b[0m\n\u001b[0m\u001b[1;32m     64\u001b[0m         \u001b[0;31m# If there is no GPU detected, set `gpus_count` to -1\u001b[0m\u001b[0;34m\u001b[0m\u001b[0;34m\u001b[0m\u001b[0;34m\u001b[0m\u001b[0m\n\u001b[1;32m     65\u001b[0m         \u001b[0mgpus_count\u001b[0m \u001b[0;34m=\u001b[0m \u001b[0;34m-\u001b[0m\u001b[0;36m1\u001b[0m\u001b[0;34m\u001b[0m\u001b[0;34m\u001b[0m\u001b[0m\n",
      "\u001b[0;32m~/anaconda3/envs/usc_bootcamp/lib/python3.8/site-packages/cudf/utils/gpu_utils.py\u001b[0m in \u001b[0;36mvalidate_setup\u001b[0;34m()\u001b[0m\n\u001b[1;32m     58\u001b[0m \u001b[0;34m\u001b[0m\u001b[0m\n\u001b[1;32m     59\u001b[0m     \u001b[0;32mtry\u001b[0m\u001b[0;34m:\u001b[0m\u001b[0;34m\u001b[0m\u001b[0;34m\u001b[0m\u001b[0m\n\u001b[0;32m---> 60\u001b[0;31m         \u001b[0mgpus_count\u001b[0m \u001b[0;34m=\u001b[0m \u001b[0mgetDeviceCount\u001b[0m\u001b[0;34m(\u001b[0m\u001b[0;34m)\u001b[0m\u001b[0;34m\u001b[0m\u001b[0;34m\u001b[0m\u001b[0m\n\u001b[0m\u001b[1;32m     61\u001b[0m     \u001b[0;32mexcept\u001b[0m \u001b[0mCUDARuntimeError\u001b[0m \u001b[0;32mas\u001b[0m \u001b[0me\u001b[0m\u001b[0;34m:\u001b[0m\u001b[0;34m\u001b[0m\u001b[0;34m\u001b[0m\u001b[0m\n\u001b[1;32m     62\u001b[0m         \u001b[0;32mif\u001b[0m \u001b[0me\u001b[0m\u001b[0;34m.\u001b[0m\u001b[0mstatus\u001b[0m \u001b[0;32min\u001b[0m \u001b[0mnotify_caller_errors\u001b[0m\u001b[0;34m:\u001b[0m\u001b[0;34m\u001b[0m\u001b[0;34m\u001b[0m\u001b[0m\n",
      "\u001b[0;32mrmm/_cuda/gpu.pyx\u001b[0m in \u001b[0;36mrmm._cuda.gpu.getDeviceCount\u001b[0;34m()\u001b[0m\n",
      "\u001b[0;31mCUDARuntimeError\u001b[0m: cudaErrorInsufficientDriver: CUDA driver version is insufficient for CUDA runtime version"
     ]
    }
   ],
   "source": [
    "import cudf, io, requests\n",
    "from io import StringIO\n"
   ]
  },
  {
   "cell_type": "code",
   "execution_count": null,
   "metadata": {},
   "outputs": [],
   "source": [
    "import cudf, io, requests\n",
    "from io import StringIO\n",
    "\n",
    "url = \"https://github.com/plotly/datasets/raw/master/tips.csv\"\n",
    "content = requests.get(url).content.decode('utf-8')\n",
    "\n",
    "tips_df = cudf.read_csv(StringIO(content))\n",
    "tips_df['tip_percentage'] = tips_df['tip'] / tips_df['total_bill'] * 100\n",
    "\n",
    "# display average tip by dining party size\n",
    "print(tips_df.groupby('size').tip_percentage.mean())"
   ]
  },
  {
   "cell_type": "code",
   "execution_count": null,
   "metadata": {},
   "outputs": [],
   "source": []
  },
  {
   "cell_type": "code",
   "execution_count": 5,
   "metadata": {
    "ExecuteTime": {
     "end_time": "2020-09-17T07:16:05.905349Z",
     "start_time": "2020-09-17T07:16:05.878419Z"
    },
    "scrolled": true
   },
   "outputs": [
    {
     "data": {
      "text/plain": [
       "[{'id': 77115,\n",
       "  'full_name': 'Aaron James',\n",
       "  'first_name': 'Aaron',\n",
       "  'last_name': 'James',\n",
       "  'is_active': False},\n",
       " {'id': 203108,\n",
       "  'full_name': 'Bernard James',\n",
       "  'first_name': 'Bernard',\n",
       "  'last_name': 'James',\n",
       "  'is_active': False},\n",
       " {'id': 202345,\n",
       "  'full_name': 'Damion James',\n",
       "  'first_name': 'Damion',\n",
       "  'last_name': 'James',\n",
       "  'is_active': False},\n",
       " {'id': 77116,\n",
       "  'full_name': 'Gene James',\n",
       "  'first_name': 'Gene',\n",
       "  'last_name': 'James',\n",
       "  'is_active': False},\n",
       " {'id': 1080,\n",
       "  'full_name': 'Henry James',\n",
       "  'first_name': 'Henry',\n",
       "  'last_name': 'James',\n",
       "  'is_active': False},\n",
       " {'id': 1744,\n",
       "  'full_name': 'Jerome James',\n",
       "  'first_name': 'Jerome',\n",
       "  'last_name': 'James',\n",
       "  'is_active': False},\n",
       " {'id': 1629713,\n",
       "  'full_name': 'Justin James',\n",
       "  'first_name': 'Justin',\n",
       "  'last_name': 'James',\n",
       "  'is_active': True},\n",
       " {'id': 2544,\n",
       "  'full_name': 'LeBron James',\n",
       "  'first_name': 'LeBron',\n",
       "  'last_name': 'James',\n",
       "  'is_active': True},\n",
       " {'id': 2229,\n",
       "  'full_name': 'Mike James',\n",
       "  'first_name': 'Mike',\n",
       "  'last_name': 'James',\n",
       "  'is_active': False},\n",
       " {'id': 1628455,\n",
       "  'full_name': 'Mike James',\n",
       "  'first_name': 'Mike',\n",
       "  'last_name': 'James',\n",
       "  'is_active': False},\n",
       " {'id': 1906,\n",
       "  'full_name': 'Tim James',\n",
       "  'first_name': 'Tim',\n",
       "  'last_name': 'James',\n",
       "  'is_active': False},\n",
       " {'id': 77412,\n",
       "  'full_name': 'Bob Love',\n",
       "  'first_name': 'Bob',\n",
       "  'last_name': 'Love',\n",
       "  'is_active': False},\n",
       " {'id': 201567,\n",
       "  'full_name': 'Kevin Love',\n",
       "  'first_name': 'Kevin',\n",
       "  'last_name': 'Love',\n",
       "  'is_active': True},\n",
       " {'id': 77413,\n",
       "  'full_name': 'Stan Love',\n",
       "  'first_name': 'Stan',\n",
       "  'last_name': 'Love',\n",
       "  'is_active': False}]"
      ]
     },
     "execution_count": 5,
     "metadata": {},
     "output_type": "execute_result"
    }
   ],
   "source": [
    "from nba_api.stats.static import players\n",
    "# Find players by full name.\n",
    "players.find_players_by_full_name('james')\n",
    "\n",
    "# Find players by first name.\n",
    "players.find_players_by_first_name('lebron')\n",
    "\n",
    "# Find players by last name.\n",
    "players.find_players_by_last_name('^(james|love)$')\n",
    "\n",
    "# Get all players.\n",
    "# players.get_players()"
   ]
  },
  {
   "cell_type": "code",
   "execution_count": null,
   "metadata": {},
   "outputs": [],
   "source": []
  },
  {
   "cell_type": "markdown",
   "metadata": {
    "heading_collapsed": true
   },
   "source": [
    "## Begin Database Connection (sqlite)"
   ]
  },
  {
   "cell_type": "code",
   "execution_count": null,
   "metadata": {
    "hidden": true
   },
   "outputs": [],
   "source": []
  },
  {
   "cell_type": "code",
   "execution_count": 20,
   "metadata": {
    "hidden": true
   },
   "outputs": [],
   "source": [
    "# Base = declarative_base()\n",
    "# engine = create_engine('sqlite:///db.sqlite', echo=False)\n",
    "# conn = engine.connect()\n",
    "# Create (if not already in existence) the tables associated with our classes.\n",
    "# Base.metadata.create_all(engine)\n",
    "# # Create a Session Object to Connect to DB\n",
    "# # ----------------------------------\n",
    "# session = Session(bind=engine)"
   ]
  },
  {
   "cell_type": "code",
   "execution_count": 21,
   "metadata": {
    "hidden": true
   },
   "outputs": [],
   "source": [
    "# Use this to clear out the db\n",
    "# ----------------------------------\n",
    "# Session.rollback(self)\n",
    "# Base.metadata.drop_all(engine)\n",
    "# session.commit()"
   ]
  },
  {
   "cell_type": "markdown",
   "metadata": {},
   "source": [
    "## List of all players\n",
    "find specific player"
   ]
  },
  {
   "cell_type": "code",
   "execution_count": 6,
   "metadata": {
    "ExecuteTime": {
     "end_time": "2020-09-17T07:17:20.346784Z",
     "start_time": "2020-09-17T07:17:20.319856Z"
    }
   },
   "outputs": [
    {
     "name": "stdout",
     "output_type": "stream",
     "text": [
      "Number of players fetched: 4501\n"
     ]
    }
   ],
   "source": [
    "from nba_api.stats.static import players\n",
    "# get_players returns a list of dictionaries, each representing a player.\n",
    "nba_players = players.get_players()\n",
    "print('Number of players fetched: {}'.format(len(nba_players)))\n",
    "nba_players[:]\n",
    "all_players = pd.DataFrame(nba_players)"
   ]
  },
  {
   "cell_type": "code",
   "execution_count": null,
   "metadata": {},
   "outputs": [],
   "source": []
  },
  {
   "cell_type": "markdown",
   "metadata": {},
   "source": [
    "### Find specific player"
   ]
  },
  {
   "cell_type": "code",
   "execution_count": 7,
   "metadata": {
    "ExecuteTime": {
     "end_time": "2020-09-17T07:17:21.109325Z",
     "start_time": "2020-09-17T07:17:21.095337Z"
    }
   },
   "outputs": [
    {
     "data": {
      "text/plain": [
       "{'id': 1495,\n",
       " 'full_name': 'Tim Duncan',\n",
       " 'first_name': 'Tim',\n",
       " 'last_name': 'Duncan',\n",
       " 'is_active': False}"
      ]
     },
     "execution_count": 7,
     "metadata": {},
     "output_type": "execute_result"
    }
   ],
   "source": [
    "## loop to find player\n",
    "player_name = [player for player in nba_players\n",
    "                   if player['full_name'] == 'Tim Duncan'][0]\n",
    "player_name"
   ]
  },
  {
   "cell_type": "markdown",
   "metadata": {},
   "source": [
    "## Get Career Stats by player id number\n",
    "Get player_id number from get_players above"
   ]
  },
  {
   "cell_type": "markdown",
   "metadata": {},
   "source": [
    "#### Key: \n",
    "\n",
    "* GP: Games Played\n",
    "* MIN: Minutes Played\n",
    "* FGM: Field Goals Made\n",
    "* FGA: Field Goals Attempted\n",
    "* FG%: Field Goal Percentage\n",
    "* 3PM: 3 Point Field Goals Made\n",
    "* 3PA: 3 Point Field Goals Attempted\n",
    "* 3P%: 3 Point Field Goals Percentage\n",
    "* FTM: Free Throws Made\n",
    "* FTA: Free Throws Attempted\n",
    "* FT%: Free Throw Percentage\n",
    "* OREB: Offensive Rebounds\n",
    "* DREB: Defensive Rebounds\n",
    "* REB: Rebounds\n",
    "* AST: Assists\n",
    "* TOV: Turnovers\n",
    "* STL: Steals\n",
    "* BLK: Blocks\n",
    "* PF: Personal Fouls\n",
    "* DD2: Double Doubles\n",
    "* TD3: Trible Doubles\n",
    "* PTS: Points\n",
    "\n",
    "\n"
   ]
  },
  {
   "cell_type": "markdown",
   "metadata": {},
   "source": [
    "example"
   ]
  },
  {
   "cell_type": "code",
   "execution_count": 8,
   "metadata": {
    "ExecuteTime": {
     "end_time": "2020-09-17T07:17:22.405989Z",
     "start_time": "2020-09-17T07:17:22.261153Z"
    }
   },
   "outputs": [],
   "source": [
    "# Display all columns\n",
    "pd.set_option('display.max_columns', 500)\n",
    "# Anthony Davis\n",
    "career = playercareerstats.PlayerCareerStats(player_id='203076')\n",
    "career_df = career.get_data_frames()[0]\n",
    "\n",
    "career_dict = career_df.to_dict('records')\n",
    "first_5_years = career_df[0:5]"
   ]
  },
  {
   "cell_type": "code",
   "execution_count": 9,
   "metadata": {
    "ExecuteTime": {
     "end_time": "2020-09-17T07:17:23.430089Z",
     "start_time": "2020-09-17T07:17:23.419119Z"
    }
   },
   "outputs": [
    {
     "data": {
      "text/plain": [
       "Index(['PLAYER_ID', 'SEASON_ID', 'LEAGUE_ID', 'TEAM_ID', 'TEAM_ABBREVIATION',\n",
       "       'PLAYER_AGE', 'GP', 'GS', 'MIN', 'FGM', 'FGA', 'FG_PCT', 'FG3M', 'FG3A',\n",
       "       'FG3_PCT', 'FTM', 'FTA', 'FT_PCT', 'OREB', 'DREB', 'REB', 'AST', 'STL',\n",
       "       'BLK', 'TOV', 'PF', 'PTS'],\n",
       "      dtype='object')"
      ]
     },
     "execution_count": 9,
     "metadata": {},
     "output_type": "execute_result"
    }
   ],
   "source": [
    "career_df.columns"
   ]
  },
  {
   "cell_type": "markdown",
   "metadata": {},
   "source": [
    "-----------"
   ]
  },
  {
   "cell_type": "markdown",
   "metadata": {
    "heading_collapsed": true
   },
   "source": [
    "#### PySpark databases "
   ]
  },
  {
   "cell_type": "code",
   "execution_count": null,
   "metadata": {
    "hidden": true
   },
   "outputs": [],
   "source": [
    "# import os\n",
    "# import findspark\n",
    "# findspark.init()"
   ]
  },
  {
   "cell_type": "code",
   "execution_count": null,
   "metadata": {
    "hidden": true
   },
   "outputs": [],
   "source": [
    "# # Start Spark session\n",
    "# from pyspark.sql import SparkSession\n",
    "# from pyspark import SparkFiles\n",
    "# spark = SparkSession.builder.appName(\"nbaStats\").getOrCreate()"
   ]
  },
  {
   "cell_type": "code",
   "execution_count": null,
   "metadata": {
    "hidden": true
   },
   "outputs": [],
   "source": [
    "# with open(\"sample.json\", \"w\") as outfile:  \n",
    "#     json.dump(career_dict, outfile) "
   ]
  },
  {
   "cell_type": "code",
   "execution_count": null,
   "metadata": {
    "hidden": true
   },
   "outputs": [],
   "source": [
    "# sc = spark.sparkContext\n",
    "# path = \"./sample.json\"\n",
    "# players_json_spark = spark.read.json(path)"
   ]
  },
  {
   "cell_type": "code",
   "execution_count": null,
   "metadata": {
    "hidden": true
   },
   "outputs": [],
   "source": [
    "# players_json_spark.printSchema()"
   ]
  },
  {
   "cell_type": "code",
   "execution_count": null,
   "metadata": {
    "hidden": true
   },
   "outputs": [],
   "source": [
    "# Creates a temporary view using the DataFrame\n",
    "# players_json_spark.createOrReplaceTempView(\"people\")"
   ]
  },
  {
   "cell_type": "code",
   "execution_count": null,
   "metadata": {
    "hidden": true
   },
   "outputs": [],
   "source": [
    "# players_json_spark.show()"
   ]
  },
  {
   "cell_type": "code",
   "execution_count": null,
   "metadata": {
    "hidden": true
   },
   "outputs": [],
   "source": [
    "# # playersDF_spark = spark.range(3).toDF(\"myCol\")\n",
    "# newRow = players_json_spark\n",
    "# appended = players_json_spark.union(newRow)\n",
    "# display(appended)"
   ]
  },
  {
   "cell_type": "code",
   "execution_count": null,
   "metadata": {
    "hidden": true
   },
   "outputs": [],
   "source": [
    "# appended.count()"
   ]
  },
  {
   "cell_type": "code",
   "execution_count": null,
   "metadata": {
    "hidden": true
   },
   "outputs": [],
   "source": [
    "# def customFunction(row):\n",
    "\n",
    "#    return (row)\n",
    "\n",
    "# sample2 = appended.rdd.map(customFunction)\n",
    "# sample2"
   ]
  },
  {
   "cell_type": "code",
   "execution_count": null,
   "metadata": {
    "hidden": true
   },
   "outputs": [],
   "source": [
    "# for ids in all_players_ids: \n",
    "#     player_to_pass = ids"
   ]
  },
  {
   "cell_type": "code",
   "execution_count": null,
   "metadata": {
    "hidden": true
   },
   "outputs": [],
   "source": [
    "# for f in appended.collect(): \n",
    "#         print (f)"
   ]
  },
  {
   "cell_type": "code",
   "execution_count": null,
   "metadata": {
    "hidden": true
   },
   "outputs": [],
   "source": [
    "# playersDF_spark.withColumn('newprice', dataframe]).show()"
   ]
  },
  {
   "cell_type": "code",
   "execution_count": null,
   "metadata": {
    "hidden": true
   },
   "outputs": [],
   "source": [
    "# otherPeople = spark.read.json(path)\n",
    "# otherPeople.show()\n",
    "# otherPeople.select(otherPeople[\"AST\"]).show()"
   ]
  },
  {
   "cell_type": "code",
   "execution_count": null,
   "metadata": {
    "hidden": true
   },
   "outputs": [],
   "source": [
    "# Create DataFrame manually\n",
    "# dataframe = spark.createDataFrame(path, schema=main_df_columns)\n",
    "# dataframe.show()"
   ]
  },
  {
   "cell_type": "code",
   "execution_count": null,
   "metadata": {
    "hidden": true
   },
   "outputs": [],
   "source": []
  },
  {
   "cell_type": "markdown",
   "metadata": {
    "hidden": true
   },
   "source": [
    "------------"
   ]
  },
  {
   "cell_type": "markdown",
   "metadata": {},
   "source": [
    "## Get first 5 years of each player id."
   ]
  },
  {
   "cell_type": "code",
   "execution_count": 10,
   "metadata": {
    "ExecuteTime": {
     "end_time": "2020-09-17T07:17:27.237084Z",
     "start_time": "2020-09-17T07:17:27.228107Z"
    }
   },
   "outputs": [
    {
     "data": {
      "text/plain": [
       "4501"
      ]
     },
     "execution_count": 10,
     "metadata": {},
     "output_type": "execute_result"
    }
   ],
   "source": [
    "all_players_ids = list(all_players['id'].values.astype(str))\n",
    "len(all_players_ids)"
   ]
  },
  {
   "cell_type": "code",
   "execution_count": 11,
   "metadata": {
    "ExecuteTime": {
     "end_time": "2020-09-17T07:17:29.302837Z",
     "start_time": "2020-09-17T07:17:29.290869Z"
    }
   },
   "outputs": [
    {
     "data": {
      "text/plain": [
       "27"
      ]
     },
     "execution_count": 11,
     "metadata": {},
     "output_type": "execute_result"
    }
   ],
   "source": [
    "all_players_col = ['PLAYER_ID', 'SEASON_ID', 'LEAGUE_ID', 'TEAM_ID', 'TEAM_ABBREVIATION',\n",
    "       'PLAYER_AGE', 'GP', 'GS', 'MIN', 'FGM', 'FGA', 'FG_PCT', 'FG3M', 'FG3A',\n",
    "       'FG3_PCT', 'FTM', 'FTA', 'FT_PCT', 'OREB', 'DREB', 'REB', 'AST', 'STL',\n",
    "       'BLK', 'TOV', 'PF', 'PTS']\n",
    "len(all_players_col)"
   ]
  },
  {
   "cell_type": "code",
   "execution_count": 12,
   "metadata": {
    "ExecuteTime": {
     "end_time": "2020-09-17T07:54:44.389988Z",
     "start_time": "2020-09-17T07:17:34.786954Z"
    }
   },
   "outputs": [
    {
     "name": "stderr",
     "output_type": "stream",
     "text": [
      " 97%|███████████████████████████████████████████████████████████████████████████▍  | 4352/4501 [36:48<01:17,  1.91it/s]"
     ]
    },
    {
     "name": "stdout",
     "output_type": "stream",
     "text": [
      "something happened\n"
     ]
    }
   ],
   "source": [
    "main_df = pd.DataFrame(columns=all_players_col)\n",
    "\n",
    "pbar = tqdm(total=len(all_players_ids))\n",
    "try: \n",
    "    for ids in all_players_ids: \n",
    "        player_to_pass = ids\n",
    "\n",
    "        career = playercareerstats.PlayerCareerStats(player_id=player_to_pass)\n",
    "        career_df = career.get_data_frames()[0]\n",
    "        first_5_years = career_df[0:5]\n",
    "        main_df = main_df.append(first_5_years, ignore_index = True)\n",
    "        pbar.update(1)\n",
    "    pbar.close()\n",
    "except:\n",
    "    print(\"something happened\")"
   ]
  },
  {
   "cell_type": "code",
   "execution_count": null,
   "metadata": {},
   "outputs": [],
   "source": [
    "all_players_ids"
   ]
  },
  {
   "cell_type": "code",
   "execution_count": 44,
   "metadata": {
    "ExecuteTime": {
     "end_time": "2020-09-17T08:31:38.603774Z",
     "start_time": "2020-09-17T08:31:38.549363Z"
    }
   },
   "outputs": [
    {
     "data": {
      "text/html": [
       "<div>\n",
       "<style scoped>\n",
       "    .dataframe tbody tr th:only-of-type {\n",
       "        vertical-align: middle;\n",
       "    }\n",
       "\n",
       "    .dataframe tbody tr th {\n",
       "        vertical-align: top;\n",
       "    }\n",
       "\n",
       "    .dataframe thead th {\n",
       "        text-align: right;\n",
       "    }\n",
       "</style>\n",
       "<table border=\"1\" class=\"dataframe\">\n",
       "  <thead>\n",
       "    <tr style=\"text-align: right;\">\n",
       "      <th></th>\n",
       "      <th>PLAYER_ID</th>\n",
       "      <th>SEASON_ID</th>\n",
       "      <th>LEAGUE_ID</th>\n",
       "      <th>TEAM_ID</th>\n",
       "      <th>TEAM_ABBREVIATION</th>\n",
       "      <th>PLAYER_AGE</th>\n",
       "      <th>GP</th>\n",
       "      <th>GS</th>\n",
       "      <th>MIN</th>\n",
       "      <th>FGM</th>\n",
       "      <th>FGA</th>\n",
       "      <th>FG_PCT</th>\n",
       "      <th>FG3M</th>\n",
       "      <th>FG3A</th>\n",
       "      <th>FG3_PCT</th>\n",
       "      <th>FTM</th>\n",
       "      <th>FTA</th>\n",
       "      <th>FT_PCT</th>\n",
       "      <th>OREB</th>\n",
       "      <th>DREB</th>\n",
       "      <th>REB</th>\n",
       "      <th>AST</th>\n",
       "      <th>STL</th>\n",
       "      <th>BLK</th>\n",
       "      <th>TOV</th>\n",
       "      <th>PF</th>\n",
       "      <th>PTS</th>\n",
       "    </tr>\n",
       "  </thead>\n",
       "  <tbody>\n",
       "    <tr>\n",
       "      <th>0</th>\n",
       "      <td>1629010</td>\n",
       "      <td>2019-20</td>\n",
       "      <td>00</td>\n",
       "      <td>1610612746</td>\n",
       "      <td>LAC</td>\n",
       "      <td>23.0</td>\n",
       "      <td>42</td>\n",
       "      <td>1</td>\n",
       "      <td>476</td>\n",
       "      <td>46</td>\n",
       "      <td>136</td>\n",
       "      <td>0.338</td>\n",
       "      <td>19</td>\n",
       "      <td>67</td>\n",
       "      <td>0.284</td>\n",
       "      <td>11</td>\n",
       "      <td>19</td>\n",
       "      <td>0.579</td>\n",
       "      <td>5</td>\n",
       "      <td>55</td>\n",
       "      <td>60</td>\n",
       "      <td>46</td>\n",
       "      <td>13</td>\n",
       "      <td>8</td>\n",
       "      <td>26</td>\n",
       "      <td>55</td>\n",
       "      <td>122</td>\n",
       "    </tr>\n",
       "    <tr>\n",
       "      <th>1</th>\n",
       "      <td>1629640</td>\n",
       "      <td>2019-20</td>\n",
       "      <td>00</td>\n",
       "      <td>1610612759</td>\n",
       "      <td>SAS</td>\n",
       "      <td>20.0</td>\n",
       "      <td>17</td>\n",
       "      <td>1</td>\n",
       "      <td>301</td>\n",
       "      <td>53</td>\n",
       "      <td>89</td>\n",
       "      <td>0.596</td>\n",
       "      <td>13</td>\n",
       "      <td>22</td>\n",
       "      <td>0.591</td>\n",
       "      <td>35</td>\n",
       "      <td>44</td>\n",
       "      <td>0.795</td>\n",
       "      <td>10</td>\n",
       "      <td>47</td>\n",
       "      <td>57</td>\n",
       "      <td>15</td>\n",
       "      <td>14</td>\n",
       "      <td>2</td>\n",
       "      <td>13</td>\n",
       "      <td>28</td>\n",
       "      <td>154</td>\n",
       "    </tr>\n",
       "    <tr>\n",
       "      <th>2</th>\n",
       "      <td>1628413</td>\n",
       "      <td>2019-20</td>\n",
       "      <td>00</td>\n",
       "      <td>0</td>\n",
       "      <td>TOT</td>\n",
       "      <td>24.0</td>\n",
       "      <td>7</td>\n",
       "      <td>0</td>\n",
       "      <td>47</td>\n",
       "      <td>4</td>\n",
       "      <td>11</td>\n",
       "      <td>0.364</td>\n",
       "      <td>0</td>\n",
       "      <td>4</td>\n",
       "      <td>0</td>\n",
       "      <td>2</td>\n",
       "      <td>4</td>\n",
       "      <td>0.5</td>\n",
       "      <td>3</td>\n",
       "      <td>6</td>\n",
       "      <td>9</td>\n",
       "      <td>0</td>\n",
       "      <td>3</td>\n",
       "      <td>2</td>\n",
       "      <td>2</td>\n",
       "      <td>10</td>\n",
       "      <td>10</td>\n",
       "    </tr>\n",
       "    <tr>\n",
       "      <th>3</th>\n",
       "      <td>1628984</td>\n",
       "      <td>2019-20</td>\n",
       "      <td>00</td>\n",
       "      <td>1610612766</td>\n",
       "      <td>CHA</td>\n",
       "      <td>25.0</td>\n",
       "      <td>63</td>\n",
       "      <td>53</td>\n",
       "      <td>2211</td>\n",
       "      <td>368</td>\n",
       "      <td>963</td>\n",
       "      <td>0.382</td>\n",
       "      <td>218</td>\n",
       "      <td>585</td>\n",
       "      <td>0.373</td>\n",
       "      <td>191</td>\n",
       "      <td>233</td>\n",
       "      <td>0.82</td>\n",
       "      <td>42</td>\n",
       "      <td>170</td>\n",
       "      <td>212</td>\n",
       "      <td>471</td>\n",
       "      <td>62</td>\n",
       "      <td>15</td>\n",
       "      <td>181</td>\n",
       "      <td>115</td>\n",
       "      <td>1145</td>\n",
       "    </tr>\n",
       "    <tr>\n",
       "      <th>4</th>\n",
       "      <td>1629648</td>\n",
       "      <td>2019-20</td>\n",
       "      <td>00</td>\n",
       "      <td>1610612765</td>\n",
       "      <td>DET</td>\n",
       "      <td>22.0</td>\n",
       "      <td>10</td>\n",
       "      <td>0</td>\n",
       "      <td>53</td>\n",
       "      <td>5</td>\n",
       "      <td>20</td>\n",
       "      <td>0.25</td>\n",
       "      <td>2</td>\n",
       "      <td>10</td>\n",
       "      <td>0.2</td>\n",
       "      <td>0</td>\n",
       "      <td>0</td>\n",
       "      <td>0</td>\n",
       "      <td>0</td>\n",
       "      <td>4</td>\n",
       "      <td>4</td>\n",
       "      <td>8</td>\n",
       "      <td>1</td>\n",
       "      <td>0</td>\n",
       "      <td>2</td>\n",
       "      <td>6</td>\n",
       "      <td>12</td>\n",
       "    </tr>\n",
       "    <tr>\n",
       "      <th>...</th>\n",
       "      <td>...</td>\n",
       "      <td>...</td>\n",
       "      <td>...</td>\n",
       "      <td>...</td>\n",
       "      <td>...</td>\n",
       "      <td>...</td>\n",
       "      <td>...</td>\n",
       "      <td>...</td>\n",
       "      <td>...</td>\n",
       "      <td>...</td>\n",
       "      <td>...</td>\n",
       "      <td>...</td>\n",
       "      <td>...</td>\n",
       "      <td>...</td>\n",
       "      <td>...</td>\n",
       "      <td>...</td>\n",
       "      <td>...</td>\n",
       "      <td>...</td>\n",
       "      <td>...</td>\n",
       "      <td>...</td>\n",
       "      <td>...</td>\n",
       "      <td>...</td>\n",
       "      <td>...</td>\n",
       "      <td>...</td>\n",
       "      <td>...</td>\n",
       "      <td>...</td>\n",
       "      <td>...</td>\n",
       "    </tr>\n",
       "    <tr>\n",
       "      <th>14637</th>\n",
       "      <td>77642</td>\n",
       "      <td>1946-47</td>\n",
       "      <td>00</td>\n",
       "      <td>1610610032</td>\n",
       "      <td>PRO</td>\n",
       "      <td>24.0</td>\n",
       "      <td>11</td>\n",
       "      <td>None</td>\n",
       "      <td>None</td>\n",
       "      <td>4</td>\n",
       "      <td>13</td>\n",
       "      <td>0.308</td>\n",
       "      <td>None</td>\n",
       "      <td>None</td>\n",
       "      <td>None</td>\n",
       "      <td>7</td>\n",
       "      <td>12</td>\n",
       "      <td>0.583</td>\n",
       "      <td>None</td>\n",
       "      <td>None</td>\n",
       "      <td>None</td>\n",
       "      <td>3</td>\n",
       "      <td>None</td>\n",
       "      <td>None</td>\n",
       "      <td>None</td>\n",
       "      <td>3</td>\n",
       "      <td>15</td>\n",
       "    </tr>\n",
       "    <tr>\n",
       "      <th>14638</th>\n",
       "      <td>78230</td>\n",
       "      <td>1946-47</td>\n",
       "      <td>00</td>\n",
       "      <td>1610610032</td>\n",
       "      <td>PRO</td>\n",
       "      <td>24.0</td>\n",
       "      <td>4</td>\n",
       "      <td>None</td>\n",
       "      <td>None</td>\n",
       "      <td>0</td>\n",
       "      <td>7</td>\n",
       "      <td>0</td>\n",
       "      <td>None</td>\n",
       "      <td>None</td>\n",
       "      <td>None</td>\n",
       "      <td>1</td>\n",
       "      <td>2</td>\n",
       "      <td>0.5</td>\n",
       "      <td>None</td>\n",
       "      <td>None</td>\n",
       "      <td>None</td>\n",
       "      <td>0</td>\n",
       "      <td>None</td>\n",
       "      <td>None</td>\n",
       "      <td>None</td>\n",
       "      <td>3</td>\n",
       "      <td>1</td>\n",
       "    </tr>\n",
       "    <tr>\n",
       "      <th>14639</th>\n",
       "      <td>78115</td>\n",
       "      <td>1946-47</td>\n",
       "      <td>00</td>\n",
       "      <td>1610612744</td>\n",
       "      <td>PHW</td>\n",
       "      <td>25.0</td>\n",
       "      <td>58</td>\n",
       "      <td>None</td>\n",
       "      <td>NaN</td>\n",
       "      <td>142</td>\n",
       "      <td>531</td>\n",
       "      <td>0.267</td>\n",
       "      <td>None</td>\n",
       "      <td>None</td>\n",
       "      <td>None</td>\n",
       "      <td>82</td>\n",
       "      <td>124</td>\n",
       "      <td>0.661</td>\n",
       "      <td>None</td>\n",
       "      <td>None</td>\n",
       "      <td>NaN</td>\n",
       "      <td>34</td>\n",
       "      <td>None</td>\n",
       "      <td>None</td>\n",
       "      <td>None</td>\n",
       "      <td>83</td>\n",
       "      <td>366</td>\n",
       "    </tr>\n",
       "    <tr>\n",
       "      <th>14640</th>\n",
       "      <td>77660</td>\n",
       "      <td>1946-47</td>\n",
       "      <td>00</td>\n",
       "      <td>1610612752</td>\n",
       "      <td>NYK</td>\n",
       "      <td>24.0</td>\n",
       "      <td>26</td>\n",
       "      <td>None</td>\n",
       "      <td>0</td>\n",
       "      <td>27</td>\n",
       "      <td>104</td>\n",
       "      <td>0.26</td>\n",
       "      <td>None</td>\n",
       "      <td>None</td>\n",
       "      <td>None</td>\n",
       "      <td>22</td>\n",
       "      <td>34</td>\n",
       "      <td>0.647</td>\n",
       "      <td>None</td>\n",
       "      <td>None</td>\n",
       "      <td>0</td>\n",
       "      <td>18</td>\n",
       "      <td>None</td>\n",
       "      <td>None</td>\n",
       "      <td>None</td>\n",
       "      <td>32</td>\n",
       "      <td>76</td>\n",
       "    </tr>\n",
       "    <tr>\n",
       "      <th>14641</th>\n",
       "      <td>76451</td>\n",
       "      <td>1946-47</td>\n",
       "      <td>00</td>\n",
       "      <td>1610610026</td>\n",
       "      <td>CLR</td>\n",
       "      <td>42.0</td>\n",
       "      <td>3</td>\n",
       "      <td>None</td>\n",
       "      <td>None</td>\n",
       "      <td>0</td>\n",
       "      <td>0</td>\n",
       "      <td>None</td>\n",
       "      <td>None</td>\n",
       "      <td>None</td>\n",
       "      <td>None</td>\n",
       "      <td>0</td>\n",
       "      <td>0</td>\n",
       "      <td>None</td>\n",
       "      <td>None</td>\n",
       "      <td>None</td>\n",
       "      <td>None</td>\n",
       "      <td>0</td>\n",
       "      <td>None</td>\n",
       "      <td>None</td>\n",
       "      <td>None</td>\n",
       "      <td>0</td>\n",
       "      <td>0</td>\n",
       "    </tr>\n",
       "  </tbody>\n",
       "</table>\n",
       "<p>14642 rows × 27 columns</p>\n",
       "</div>"
      ],
      "text/plain": [
       "      PLAYER_ID SEASON_ID LEAGUE_ID     TEAM_ID TEAM_ABBREVIATION  PLAYER_AGE  \\\n",
       "0       1629010   2019-20        00  1610612746               LAC        23.0   \n",
       "1       1629640   2019-20        00  1610612759               SAS        20.0   \n",
       "2       1628413   2019-20        00           0               TOT        24.0   \n",
       "3       1628984   2019-20        00  1610612766               CHA        25.0   \n",
       "4       1629648   2019-20        00  1610612765               DET        22.0   \n",
       "...         ...       ...       ...         ...               ...         ...   \n",
       "14637     77642   1946-47        00  1610610032               PRO        24.0   \n",
       "14638     78230   1946-47        00  1610610032               PRO        24.0   \n",
       "14639     78115   1946-47        00  1610612744               PHW        25.0   \n",
       "14640     77660   1946-47        00  1610612752               NYK        24.0   \n",
       "14641     76451   1946-47        00  1610610026               CLR        42.0   \n",
       "\n",
       "       GP    GS   MIN  FGM  FGA FG_PCT  FG3M  FG3A FG3_PCT  FTM  FTA FT_PCT  \\\n",
       "0      42     1   476   46  136  0.338    19    67   0.284   11   19  0.579   \n",
       "1      17     1   301   53   89  0.596    13    22   0.591   35   44  0.795   \n",
       "2       7     0    47    4   11  0.364     0     4       0    2    4    0.5   \n",
       "3      63    53  2211  368  963  0.382   218   585   0.373  191  233   0.82   \n",
       "4      10     0    53    5   20   0.25     2    10     0.2    0    0      0   \n",
       "...    ..   ...   ...  ...  ...    ...   ...   ...     ...  ...  ...    ...   \n",
       "14637  11  None  None    4   13  0.308  None  None    None    7   12  0.583   \n",
       "14638   4  None  None    0    7      0  None  None    None    1    2    0.5   \n",
       "14639  58  None   NaN  142  531  0.267  None  None    None   82  124  0.661   \n",
       "14640  26  None     0   27  104   0.26  None  None    None   22   34  0.647   \n",
       "14641   3  None  None    0    0   None  None  None    None    0    0   None   \n",
       "\n",
       "       OREB  DREB   REB  AST   STL   BLK   TOV   PF   PTS  \n",
       "0         5    55    60   46    13     8    26   55   122  \n",
       "1        10    47    57   15    14     2    13   28   154  \n",
       "2         3     6     9    0     3     2     2   10    10  \n",
       "3        42   170   212  471    62    15   181  115  1145  \n",
       "4         0     4     4    8     1     0     2    6    12  \n",
       "...     ...   ...   ...  ...   ...   ...   ...  ...   ...  \n",
       "14637  None  None  None    3  None  None  None    3    15  \n",
       "14638  None  None  None    0  None  None  None    3     1  \n",
       "14639  None  None   NaN   34  None  None  None   83   366  \n",
       "14640  None  None     0   18  None  None  None   32    76  \n",
       "14641  None  None  None    0  None  None  None    0     0  \n",
       "\n",
       "[14642 rows x 27 columns]"
      ]
     },
     "execution_count": 44,
     "metadata": {},
     "output_type": "execute_result"
    }
   ],
   "source": [
    "five_year_all_players = main_df.sort_values(by='SEASON_ID', ascending=False).copy()\n",
    "five_year_all_players = five_year_all_players.reset_index(drop=True)\n",
    "five_year_all_players"
   ]
  },
  {
   "cell_type": "code",
   "execution_count": 45,
   "metadata": {
    "ExecuteTime": {
     "end_time": "2020-09-17T08:31:40.146898Z",
     "start_time": "2020-09-17T08:31:40.090294Z"
    }
   },
   "outputs": [],
   "source": [
    "five_year_all_players_to_json = five_year_all_players.to_json(orient='records')"
   ]
  },
  {
   "cell_type": "code",
   "execution_count": 46,
   "metadata": {
    "ExecuteTime": {
     "end_time": "2020-09-17T08:31:41.802203Z",
     "start_time": "2020-09-17T08:31:41.739502Z"
    }
   },
   "outputs": [],
   "source": [
    "# SAVE: Player_position\n",
    "with open(f'./_players_all_data.json', 'w') as fp:\n",
    "    json.dump(five_year_all_players_to_json, fp)"
   ]
  },
  {
   "cell_type": "markdown",
   "metadata": {},
   "source": [
    "-------------"
   ]
  },
  {
   "cell_type": "code",
   "execution_count": 62,
   "metadata": {
    "ExecuteTime": {
     "end_time": "2020-09-17T08:50:28.863905Z",
     "start_time": "2020-09-17T08:50:28.821308Z"
    }
   },
   "outputs": [
    {
     "data": {
      "text/html": [
       "<div>\n",
       "<style scoped>\n",
       "    .dataframe tbody tr th:only-of-type {\n",
       "        vertical-align: middle;\n",
       "    }\n",
       "\n",
       "    .dataframe tbody tr th {\n",
       "        vertical-align: top;\n",
       "    }\n",
       "\n",
       "    .dataframe thead th {\n",
       "        text-align: right;\n",
       "    }\n",
       "</style>\n",
       "<table border=\"1\" class=\"dataframe\">\n",
       "  <thead>\n",
       "    <tr style=\"text-align: right;\">\n",
       "      <th></th>\n",
       "      <th>PLAYER_ID</th>\n",
       "      <th>LEAGUE_ID</th>\n",
       "      <th>TEAM_ID</th>\n",
       "      <th>TEAM_ABBREVIATION</th>\n",
       "      <th>PLAYER_AGE</th>\n",
       "      <th>GP</th>\n",
       "      <th>GS</th>\n",
       "      <th>MIN</th>\n",
       "      <th>FGM</th>\n",
       "      <th>FGA</th>\n",
       "      <th>FG_PCT</th>\n",
       "      <th>FG3M</th>\n",
       "      <th>FG3A</th>\n",
       "      <th>FG3_PCT</th>\n",
       "      <th>FTM</th>\n",
       "      <th>FTA</th>\n",
       "      <th>FT_PCT</th>\n",
       "      <th>OREB</th>\n",
       "      <th>DREB</th>\n",
       "      <th>REB</th>\n",
       "      <th>AST</th>\n",
       "      <th>STL</th>\n",
       "      <th>BLK</th>\n",
       "      <th>TOV</th>\n",
       "      <th>PF</th>\n",
       "      <th>PTS</th>\n",
       "    </tr>\n",
       "    <tr>\n",
       "      <th>SEASON_ID</th>\n",
       "      <th></th>\n",
       "      <th></th>\n",
       "      <th></th>\n",
       "      <th></th>\n",
       "      <th></th>\n",
       "      <th></th>\n",
       "      <th></th>\n",
       "      <th></th>\n",
       "      <th></th>\n",
       "      <th></th>\n",
       "      <th></th>\n",
       "      <th></th>\n",
       "      <th></th>\n",
       "      <th></th>\n",
       "      <th></th>\n",
       "      <th></th>\n",
       "      <th></th>\n",
       "      <th></th>\n",
       "      <th></th>\n",
       "      <th></th>\n",
       "      <th></th>\n",
       "      <th></th>\n",
       "      <th></th>\n",
       "      <th></th>\n",
       "      <th></th>\n",
       "      <th></th>\n",
       "    </tr>\n",
       "  </thead>\n",
       "  <tbody>\n",
       "    <tr>\n",
       "      <th>2019-20</th>\n",
       "      <td>1629010</td>\n",
       "      <td>00</td>\n",
       "      <td>1610612746</td>\n",
       "      <td>LAC</td>\n",
       "      <td>23.0</td>\n",
       "      <td>42</td>\n",
       "      <td>1</td>\n",
       "      <td>476</td>\n",
       "      <td>46</td>\n",
       "      <td>136</td>\n",
       "      <td>0.338</td>\n",
       "      <td>19</td>\n",
       "      <td>67</td>\n",
       "      <td>0.284</td>\n",
       "      <td>11</td>\n",
       "      <td>19</td>\n",
       "      <td>0.579</td>\n",
       "      <td>5</td>\n",
       "      <td>55</td>\n",
       "      <td>60</td>\n",
       "      <td>46</td>\n",
       "      <td>13</td>\n",
       "      <td>8</td>\n",
       "      <td>26</td>\n",
       "      <td>55</td>\n",
       "      <td>122</td>\n",
       "    </tr>\n",
       "    <tr>\n",
       "      <th>2019-20</th>\n",
       "      <td>1629640</td>\n",
       "      <td>00</td>\n",
       "      <td>1610612759</td>\n",
       "      <td>SAS</td>\n",
       "      <td>20.0</td>\n",
       "      <td>17</td>\n",
       "      <td>1</td>\n",
       "      <td>301</td>\n",
       "      <td>53</td>\n",
       "      <td>89</td>\n",
       "      <td>0.596</td>\n",
       "      <td>13</td>\n",
       "      <td>22</td>\n",
       "      <td>0.591</td>\n",
       "      <td>35</td>\n",
       "      <td>44</td>\n",
       "      <td>0.795</td>\n",
       "      <td>10</td>\n",
       "      <td>47</td>\n",
       "      <td>57</td>\n",
       "      <td>15</td>\n",
       "      <td>14</td>\n",
       "      <td>2</td>\n",
       "      <td>13</td>\n",
       "      <td>28</td>\n",
       "      <td>154</td>\n",
       "    </tr>\n",
       "    <tr>\n",
       "      <th>2019-20</th>\n",
       "      <td>1628413</td>\n",
       "      <td>00</td>\n",
       "      <td>0</td>\n",
       "      <td>TOT</td>\n",
       "      <td>24.0</td>\n",
       "      <td>7</td>\n",
       "      <td>0</td>\n",
       "      <td>47</td>\n",
       "      <td>4</td>\n",
       "      <td>11</td>\n",
       "      <td>0.364</td>\n",
       "      <td>0</td>\n",
       "      <td>4</td>\n",
       "      <td>0</td>\n",
       "      <td>2</td>\n",
       "      <td>4</td>\n",
       "      <td>0.5</td>\n",
       "      <td>3</td>\n",
       "      <td>6</td>\n",
       "      <td>9</td>\n",
       "      <td>0</td>\n",
       "      <td>3</td>\n",
       "      <td>2</td>\n",
       "      <td>2</td>\n",
       "      <td>10</td>\n",
       "      <td>10</td>\n",
       "    </tr>\n",
       "    <tr>\n",
       "      <th>2019-20</th>\n",
       "      <td>1628984</td>\n",
       "      <td>00</td>\n",
       "      <td>1610612766</td>\n",
       "      <td>CHA</td>\n",
       "      <td>25.0</td>\n",
       "      <td>63</td>\n",
       "      <td>53</td>\n",
       "      <td>2211</td>\n",
       "      <td>368</td>\n",
       "      <td>963</td>\n",
       "      <td>0.382</td>\n",
       "      <td>218</td>\n",
       "      <td>585</td>\n",
       "      <td>0.373</td>\n",
       "      <td>191</td>\n",
       "      <td>233</td>\n",
       "      <td>0.82</td>\n",
       "      <td>42</td>\n",
       "      <td>170</td>\n",
       "      <td>212</td>\n",
       "      <td>471</td>\n",
       "      <td>62</td>\n",
       "      <td>15</td>\n",
       "      <td>181</td>\n",
       "      <td>115</td>\n",
       "      <td>1145</td>\n",
       "    </tr>\n",
       "    <tr>\n",
       "      <th>2019-20</th>\n",
       "      <td>1629648</td>\n",
       "      <td>00</td>\n",
       "      <td>1610612765</td>\n",
       "      <td>DET</td>\n",
       "      <td>22.0</td>\n",
       "      <td>10</td>\n",
       "      <td>0</td>\n",
       "      <td>53</td>\n",
       "      <td>5</td>\n",
       "      <td>20</td>\n",
       "      <td>0.25</td>\n",
       "      <td>2</td>\n",
       "      <td>10</td>\n",
       "      <td>0.2</td>\n",
       "      <td>0</td>\n",
       "      <td>0</td>\n",
       "      <td>0</td>\n",
       "      <td>0</td>\n",
       "      <td>4</td>\n",
       "      <td>4</td>\n",
       "      <td>8</td>\n",
       "      <td>1</td>\n",
       "      <td>0</td>\n",
       "      <td>2</td>\n",
       "      <td>6</td>\n",
       "      <td>12</td>\n",
       "    </tr>\n",
       "    <tr>\n",
       "      <th>...</th>\n",
       "      <td>...</td>\n",
       "      <td>...</td>\n",
       "      <td>...</td>\n",
       "      <td>...</td>\n",
       "      <td>...</td>\n",
       "      <td>...</td>\n",
       "      <td>...</td>\n",
       "      <td>...</td>\n",
       "      <td>...</td>\n",
       "      <td>...</td>\n",
       "      <td>...</td>\n",
       "      <td>...</td>\n",
       "      <td>...</td>\n",
       "      <td>...</td>\n",
       "      <td>...</td>\n",
       "      <td>...</td>\n",
       "      <td>...</td>\n",
       "      <td>...</td>\n",
       "      <td>...</td>\n",
       "      <td>...</td>\n",
       "      <td>...</td>\n",
       "      <td>...</td>\n",
       "      <td>...</td>\n",
       "      <td>...</td>\n",
       "      <td>...</td>\n",
       "      <td>...</td>\n",
       "    </tr>\n",
       "    <tr>\n",
       "      <th>1946-47</th>\n",
       "      <td>77642</td>\n",
       "      <td>00</td>\n",
       "      <td>1610610032</td>\n",
       "      <td>PRO</td>\n",
       "      <td>24.0</td>\n",
       "      <td>11</td>\n",
       "      <td>None</td>\n",
       "      <td>None</td>\n",
       "      <td>4</td>\n",
       "      <td>13</td>\n",
       "      <td>0.308</td>\n",
       "      <td>None</td>\n",
       "      <td>None</td>\n",
       "      <td>None</td>\n",
       "      <td>7</td>\n",
       "      <td>12</td>\n",
       "      <td>0.583</td>\n",
       "      <td>None</td>\n",
       "      <td>None</td>\n",
       "      <td>None</td>\n",
       "      <td>3</td>\n",
       "      <td>None</td>\n",
       "      <td>None</td>\n",
       "      <td>None</td>\n",
       "      <td>3</td>\n",
       "      <td>15</td>\n",
       "    </tr>\n",
       "    <tr>\n",
       "      <th>1946-47</th>\n",
       "      <td>78230</td>\n",
       "      <td>00</td>\n",
       "      <td>1610610032</td>\n",
       "      <td>PRO</td>\n",
       "      <td>24.0</td>\n",
       "      <td>4</td>\n",
       "      <td>None</td>\n",
       "      <td>None</td>\n",
       "      <td>0</td>\n",
       "      <td>7</td>\n",
       "      <td>0</td>\n",
       "      <td>None</td>\n",
       "      <td>None</td>\n",
       "      <td>None</td>\n",
       "      <td>1</td>\n",
       "      <td>2</td>\n",
       "      <td>0.5</td>\n",
       "      <td>None</td>\n",
       "      <td>None</td>\n",
       "      <td>None</td>\n",
       "      <td>0</td>\n",
       "      <td>None</td>\n",
       "      <td>None</td>\n",
       "      <td>None</td>\n",
       "      <td>3</td>\n",
       "      <td>1</td>\n",
       "    </tr>\n",
       "    <tr>\n",
       "      <th>1946-47</th>\n",
       "      <td>78115</td>\n",
       "      <td>00</td>\n",
       "      <td>1610612744</td>\n",
       "      <td>PHW</td>\n",
       "      <td>25.0</td>\n",
       "      <td>58</td>\n",
       "      <td>None</td>\n",
       "      <td>NaN</td>\n",
       "      <td>142</td>\n",
       "      <td>531</td>\n",
       "      <td>0.267</td>\n",
       "      <td>None</td>\n",
       "      <td>None</td>\n",
       "      <td>None</td>\n",
       "      <td>82</td>\n",
       "      <td>124</td>\n",
       "      <td>0.661</td>\n",
       "      <td>None</td>\n",
       "      <td>None</td>\n",
       "      <td>NaN</td>\n",
       "      <td>34</td>\n",
       "      <td>None</td>\n",
       "      <td>None</td>\n",
       "      <td>None</td>\n",
       "      <td>83</td>\n",
       "      <td>366</td>\n",
       "    </tr>\n",
       "    <tr>\n",
       "      <th>1946-47</th>\n",
       "      <td>77660</td>\n",
       "      <td>00</td>\n",
       "      <td>1610612752</td>\n",
       "      <td>NYK</td>\n",
       "      <td>24.0</td>\n",
       "      <td>26</td>\n",
       "      <td>None</td>\n",
       "      <td>0</td>\n",
       "      <td>27</td>\n",
       "      <td>104</td>\n",
       "      <td>0.26</td>\n",
       "      <td>None</td>\n",
       "      <td>None</td>\n",
       "      <td>None</td>\n",
       "      <td>22</td>\n",
       "      <td>34</td>\n",
       "      <td>0.647</td>\n",
       "      <td>None</td>\n",
       "      <td>None</td>\n",
       "      <td>0</td>\n",
       "      <td>18</td>\n",
       "      <td>None</td>\n",
       "      <td>None</td>\n",
       "      <td>None</td>\n",
       "      <td>32</td>\n",
       "      <td>76</td>\n",
       "    </tr>\n",
       "    <tr>\n",
       "      <th>1946-47</th>\n",
       "      <td>76451</td>\n",
       "      <td>00</td>\n",
       "      <td>1610610026</td>\n",
       "      <td>CLR</td>\n",
       "      <td>42.0</td>\n",
       "      <td>3</td>\n",
       "      <td>None</td>\n",
       "      <td>None</td>\n",
       "      <td>0</td>\n",
       "      <td>0</td>\n",
       "      <td>None</td>\n",
       "      <td>None</td>\n",
       "      <td>None</td>\n",
       "      <td>None</td>\n",
       "      <td>0</td>\n",
       "      <td>0</td>\n",
       "      <td>None</td>\n",
       "      <td>None</td>\n",
       "      <td>None</td>\n",
       "      <td>None</td>\n",
       "      <td>0</td>\n",
       "      <td>None</td>\n",
       "      <td>None</td>\n",
       "      <td>None</td>\n",
       "      <td>0</td>\n",
       "      <td>0</td>\n",
       "    </tr>\n",
       "  </tbody>\n",
       "</table>\n",
       "<p>14642 rows × 26 columns</p>\n",
       "</div>"
      ],
      "text/plain": [
       "          PLAYER_ID LEAGUE_ID     TEAM_ID TEAM_ABBREVIATION  PLAYER_AGE  GP  \\\n",
       "SEASON_ID                                                                     \n",
       "2019-20     1629010        00  1610612746               LAC        23.0  42   \n",
       "2019-20     1629640        00  1610612759               SAS        20.0  17   \n",
       "2019-20     1628413        00           0               TOT        24.0   7   \n",
       "2019-20     1628984        00  1610612766               CHA        25.0  63   \n",
       "2019-20     1629648        00  1610612765               DET        22.0  10   \n",
       "...             ...       ...         ...               ...         ...  ..   \n",
       "1946-47       77642        00  1610610032               PRO        24.0  11   \n",
       "1946-47       78230        00  1610610032               PRO        24.0   4   \n",
       "1946-47       78115        00  1610612744               PHW        25.0  58   \n",
       "1946-47       77660        00  1610612752               NYK        24.0  26   \n",
       "1946-47       76451        00  1610610026               CLR        42.0   3   \n",
       "\n",
       "             GS   MIN  FGM  FGA FG_PCT  FG3M  FG3A FG3_PCT  FTM  FTA FT_PCT  \\\n",
       "SEASON_ID                                                                     \n",
       "2019-20       1   476   46  136  0.338    19    67   0.284   11   19  0.579   \n",
       "2019-20       1   301   53   89  0.596    13    22   0.591   35   44  0.795   \n",
       "2019-20       0    47    4   11  0.364     0     4       0    2    4    0.5   \n",
       "2019-20      53  2211  368  963  0.382   218   585   0.373  191  233   0.82   \n",
       "2019-20       0    53    5   20   0.25     2    10     0.2    0    0      0   \n",
       "...         ...   ...  ...  ...    ...   ...   ...     ...  ...  ...    ...   \n",
       "1946-47    None  None    4   13  0.308  None  None    None    7   12  0.583   \n",
       "1946-47    None  None    0    7      0  None  None    None    1    2    0.5   \n",
       "1946-47    None   NaN  142  531  0.267  None  None    None   82  124  0.661   \n",
       "1946-47    None     0   27  104   0.26  None  None    None   22   34  0.647   \n",
       "1946-47    None  None    0    0   None  None  None    None    0    0   None   \n",
       "\n",
       "           OREB  DREB   REB  AST   STL   BLK   TOV   PF   PTS  \n",
       "SEASON_ID                                                      \n",
       "2019-20       5    55    60   46    13     8    26   55   122  \n",
       "2019-20      10    47    57   15    14     2    13   28   154  \n",
       "2019-20       3     6     9    0     3     2     2   10    10  \n",
       "2019-20      42   170   212  471    62    15   181  115  1145  \n",
       "2019-20       0     4     4    8     1     0     2    6    12  \n",
       "...         ...   ...   ...  ...   ...   ...   ...  ...   ...  \n",
       "1946-47    None  None  None    3  None  None  None    3    15  \n",
       "1946-47    None  None  None    0  None  None  None    3     1  \n",
       "1946-47    None  None   NaN   34  None  None  None   83   366  \n",
       "1946-47    None  None     0   18  None  None  None   32    76  \n",
       "1946-47    None  None  None    0  None  None  None    0     0  \n",
       "\n",
       "[14642 rows x 26 columns]"
      ]
     },
     "execution_count": 62,
     "metadata": {},
     "output_type": "execute_result"
    }
   ],
   "source": [
    "five_year_all_players.set_index('SEASON_ID')"
   ]
  },
  {
   "cell_type": "code",
   "execution_count": null,
   "metadata": {},
   "outputs": [],
   "source": [
    "## Save all players data to sqlite db 'all_players'\n",
    "# all_players.to_sql('all_players', con=engine)\n",
    "\n",
    "## Retreive all players from sqlite db\n",
    "# engine.execute(\"SELECT * FROM all_players\").fetchall()"
   ]
  },
  {
   "cell_type": "code",
   "execution_count": null,
   "metadata": {},
   "outputs": [],
   "source": []
  },
  {
   "cell_type": "markdown",
   "metadata": {},
   "source": [
    "## Draft History"
   ]
  },
  {
   "cell_type": "code",
   "execution_count": null,
   "metadata": {},
   "outputs": [],
   "source": [
    "draft_history = drafthistory.DraftHistory()\n",
    "draft_history.get_data_frames()[0]"
   ]
  },
  {
   "cell_type": "markdown",
   "metadata": {},
   "source": [
    "## Player Awards"
   ]
  },
  {
   "cell_type": "code",
   "execution_count": null,
   "metadata": {},
   "outputs": [],
   "source": [
    "player_awards = playerawards.PlayerAwards(player_id='203076')\n",
    "player_awards.get_data_frames()[0]"
   ]
  },
  {
   "cell_type": "markdown",
   "metadata": {},
   "source": [
    "## common_player_info"
   ]
  },
  {
   "cell_type": "code",
   "execution_count": null,
   "metadata": {},
   "outputs": [],
   "source": [
    "common_player_info = commonplayerinfo.CommonPlayerInfo(player_id='203076')\n",
    "common_player_info.get_data_frames()[0]"
   ]
  },
  {
   "cell_type": "markdown",
   "metadata": {},
   "source": [
    "## common_all_players"
   ]
  },
  {
   "cell_type": "code",
   "execution_count": null,
   "metadata": {},
   "outputs": [],
   "source": [
    "common_all_players = commonallplayers.CommonAllPlayers()\n",
    "common_all_players.get_data_frames()[0]"
   ]
  },
  {
   "cell_type": "code",
   "execution_count": null,
   "metadata": {},
   "outputs": [],
   "source": []
  },
  {
   "cell_type": "code",
   "execution_count": null,
   "metadata": {},
   "outputs": [],
   "source": []
  },
  {
   "cell_type": "code",
   "execution_count": null,
   "metadata": {},
   "outputs": [],
   "source": []
  },
  {
   "cell_type": "markdown",
   "metadata": {},
   "source": [
    "------------"
   ]
  },
  {
   "cell_type": "markdown",
   "metadata": {},
   "source": [
    "Not so useful "
   ]
  },
  {
   "cell_type": "code",
   "execution_count": null,
   "metadata": {},
   "outputs": [],
   "source": []
  },
  {
   "cell_type": "code",
   "execution_count": null,
   "metadata": {},
   "outputs": [],
   "source": []
  },
  {
   "cell_type": "markdown",
   "metadata": {},
   "source": [
    "## league_dash_player_stats"
   ]
  },
  {
   "cell_type": "code",
   "execution_count": null,
   "metadata": {},
   "outputs": [],
   "source": [
    "league_dash_player_bio_stats = leaguedashplayerbiostats.LeagueDashPlayerBioStats()\n",
    "league_dash_player_bio_stats_df = league_dash_player_bio_stats.get_data_frames()[0]\n",
    "league_dash_player_bio_stats_df"
   ]
  },
  {
   "cell_type": "code",
   "execution_count": null,
   "metadata": {},
   "outputs": [],
   "source": [
    "league_dash_player_bio_stats_df.columns"
   ]
  },
  {
   "cell_type": "markdown",
   "metadata": {},
   "source": [
    "## League Leaders"
   ]
  },
  {
   "cell_type": "code",
   "execution_count": null,
   "metadata": {},
   "outputs": [],
   "source": [
    "league_leaders_df.columns"
   ]
  },
  {
   "cell_type": "code",
   "execution_count": null,
   "metadata": {},
   "outputs": [],
   "source": [
    "league_leaders = leagueleaders.LeagueLeaders()\n",
    "league_leaders_df = league_leaders.get_data_frames()[0]\n",
    "league_leaders_df"
   ]
  },
  {
   "cell_type": "markdown",
   "metadata": {},
   "source": [
    "## player_dashboard_by_team_performance\n",
    "requires player_id number"
   ]
  },
  {
   "cell_type": "code",
   "execution_count": null,
   "metadata": {},
   "outputs": [],
   "source": [
    "player_dashboard_by_team_performance = playerdashboardbyteamperformance.PlayerDashboardByTeamPerformance(player_id='203076')\n",
    "player_dashboard_by_team_performance.get_data_frames()[0]"
   ]
  },
  {
   "cell_type": "code",
   "execution_count": null,
   "metadata": {},
   "outputs": [],
   "source": []
  },
  {
   "cell_type": "code",
   "execution_count": null,
   "metadata": {},
   "outputs": [],
   "source": [
    "boxscoreadvancedv22 = drafthistory.DraftHistory()\n",
    "boxscoreadvancedv22.get_data_frames()[0]"
   ]
  },
  {
   "cell_type": "markdown",
   "metadata": {},
   "source": [
    "## Draft Combine Drill Results"
   ]
  },
  {
   "cell_type": "code",
   "execution_count": null,
   "metadata": {},
   "outputs": [],
   "source": [
    "## Draft Combine Drill Results\n",
    "draft_combine_drill = draftcombinedrillresults.DraftCombineDrillResults()\n",
    "draft_combine_drill.get_data_frames()[0]"
   ]
  },
  {
   "cell_type": "markdown",
   "metadata": {},
   "source": [
    "## Draft Combine Non Stationary Shooting"
   ]
  },
  {
   "cell_type": "code",
   "execution_count": null,
   "metadata": {},
   "outputs": [],
   "source": [
    "draft_combine_non_stationary_shooting = draftcombinenonstationaryshooting.DraftCombineNonStationaryShooting()\n",
    "draft_combine_non_stationary_shooting.get_data_frames()[0]"
   ]
  },
  {
   "cell_type": "markdown",
   "metadata": {},
   "source": [
    "## Draft Combine Stats"
   ]
  },
  {
   "cell_type": "code",
   "execution_count": null,
   "metadata": {},
   "outputs": [],
   "source": [
    "draft_combine_stats = draftcombinestats.DraftCombineStats()\n",
    "draft_combine_stats.get_data_frames()[0]"
   ]
  },
  {
   "cell_type": "code",
   "execution_count": null,
   "metadata": {},
   "outputs": [],
   "source": []
  }
 ],
 "metadata": {
  "kernelspec": {
   "display_name": "Python 3",
   "language": "python",
   "name": "python3"
  },
  "language_info": {
   "codemirror_mode": {
    "name": "ipython",
    "version": 3
   },
   "file_extension": ".py",
   "mimetype": "text/x-python",
   "name": "python",
   "nbconvert_exporter": "python",
   "pygments_lexer": "ipython3",
   "version": "3.8.5"
  }
 },
 "nbformat": 4,
 "nbformat_minor": 4
}
