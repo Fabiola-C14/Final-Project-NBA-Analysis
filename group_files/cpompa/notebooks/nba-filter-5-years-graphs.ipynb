{
 "cells": [
  {
   "cell_type": "code",
   "execution_count": 1,
   "metadata": {
    "ExecuteTime": {
     "end_time": "2020-09-19T00:28:06.869717Z",
     "start_time": "2020-09-19T00:28:06.387146Z"
    }
   },
   "outputs": [],
   "source": [
    "# Dependencies and Setup\n",
    "import pandas as pd\n",
    "import numpy as np\n",
    "import time\n",
    "from pprint import pprint\n",
    "import requests\n",
    "from datetime import date, timedelta, datetime\n",
    "import json\n",
    "from pprint import pprint\n",
    "from tqdm import tqdm\n",
    "from tqdm import tqdm_notebook\n",
    "# sqlite Dependencies\n",
    "# ----------------------------------\n",
    "# Imports the method used for connecting to DBs\n",
    "from sqlalchemy import create_engine\n",
    "# Allow us to declare column types\n",
    "from sqlalchemy import Column, Integer, String, Text, DateTime, Float, Boolean, ForeignKey\n",
    "from sqlalchemy.orm import relationship\n",
    "from sqlalchemy.ext.declarative import declarative_base\n",
    "from sqlalchemy.orm import Session"
   ]
  },
  {
   "cell_type": "code",
   "execution_count": 2,
   "metadata": {
    "ExecuteTime": {
     "end_time": "2020-09-19T00:28:06.947813Z",
     "start_time": "2020-09-19T00:28:06.870684Z"
    }
   },
   "outputs": [],
   "source": [
    "from nba_api.stats.endpoints import playercareerstats, drafthistory, commonplayerinfo, playerawards"
   ]
  },
  {
   "cell_type": "code",
   "execution_count": 3,
   "metadata": {
    "ExecuteTime": {
     "end_time": "2020-09-19T00:28:06.963613Z",
     "start_time": "2020-09-19T00:28:06.948793Z"
    }
   },
   "outputs": [],
   "source": [
    "# Not used\n",
    "# cumestatsplayer,draftcombinedrillresults,playerdashboardbyteamperformance, leagueleaders, leaguedashplayerstats, draftcombinenonstationaryshooting, draftcombinestats, commonallplayers,"
   ]
  },
  {
   "cell_type": "markdown",
   "metadata": {},
   "source": [
    "-------------"
   ]
  },
  {
   "cell_type": "markdown",
   "metadata": {},
   "source": [
    "# Open Saved JSON"
   ]
  },
  {
   "cell_type": "code",
   "execution_count": 4,
   "metadata": {
    "ExecuteTime": {
     "end_time": "2020-09-19T00:28:07.816407Z",
     "start_time": "2020-09-19T00:28:07.683626Z"
    }
   },
   "outputs": [],
   "source": [
    "with open('./_players_all_data.json') as json_file:\n",
    "    data = json.load(json_file)"
   ]
  },
  {
   "cell_type": "code",
   "execution_count": 9,
   "metadata": {
    "ExecuteTime": {
     "end_time": "2020-09-19T00:29:06.988990Z",
     "start_time": "2020-09-19T00:29:06.980984Z"
    }
   },
   "outputs": [],
   "source": [
    "#  Player positions\n",
    "player_positions = pd.read_csv('../../datasets/nba_positions.csv') "
   ]
  },
  {
   "cell_type": "code",
   "execution_count": 12,
   "metadata": {
    "ExecuteTime": {
     "end_time": "2020-09-19T00:29:37.823618Z",
     "start_time": "2020-09-19T00:29:37.616145Z"
    }
   },
   "outputs": [
    {
     "data": {
      "text/html": [
       "<div>\n",
       "<style scoped>\n",
       "    .dataframe tbody tr th:only-of-type {\n",
       "        vertical-align: middle;\n",
       "    }\n",
       "\n",
       "    .dataframe tbody tr th {\n",
       "        vertical-align: top;\n",
       "    }\n",
       "\n",
       "    .dataframe thead th {\n",
       "        text-align: right;\n",
       "    }\n",
       "</style>\n",
       "<table border=\"1\" class=\"dataframe\">\n",
       "  <thead>\n",
       "    <tr style=\"text-align: right;\">\n",
       "      <th></th>\n",
       "      <th>PLAYER_ID</th>\n",
       "      <th>SEASON_ID</th>\n",
       "      <th>LEAGUE_ID</th>\n",
       "      <th>TEAM_ID</th>\n",
       "      <th>TEAM_ABBREVIATION</th>\n",
       "      <th>PLAYER_AGE</th>\n",
       "      <th>GP</th>\n",
       "      <th>GS</th>\n",
       "      <th>MIN</th>\n",
       "      <th>FGM</th>\n",
       "      <th>...</th>\n",
       "      <th>DREB</th>\n",
       "      <th>REB</th>\n",
       "      <th>AST</th>\n",
       "      <th>STL</th>\n",
       "      <th>BLK</th>\n",
       "      <th>TOV</th>\n",
       "      <th>PF</th>\n",
       "      <th>PTS</th>\n",
       "      <th>YIL</th>\n",
       "      <th>PLAYER_NAME</th>\n",
       "    </tr>\n",
       "  </thead>\n",
       "  <tbody>\n",
       "    <tr>\n",
       "      <th>0</th>\n",
       "      <td>1628605</td>\n",
       "      <td>2019-20</td>\n",
       "      <td>0</td>\n",
       "      <td>1610612763</td>\n",
       "      <td>MEM</td>\n",
       "      <td>26</td>\n",
       "      <td>2</td>\n",
       "      <td>0.0</td>\n",
       "      <td>13.0</td>\n",
       "      <td>4</td>\n",
       "      <td>...</td>\n",
       "      <td>1.0</td>\n",
       "      <td>1.0</td>\n",
       "      <td>0</td>\n",
       "      <td>0.0</td>\n",
       "      <td>0.0</td>\n",
       "      <td>0.0</td>\n",
       "      <td>1</td>\n",
       "      <td>12</td>\n",
       "      <td>2</td>\n",
       "      <td>Dusty Hannahs</td>\n",
       "    </tr>\n",
       "    <tr>\n",
       "      <th>1</th>\n",
       "      <td>1629658</td>\n",
       "      <td>2019-20</td>\n",
       "      <td>0</td>\n",
       "      <td>1610612757</td>\n",
       "      <td>POR</td>\n",
       "      <td>21</td>\n",
       "      <td>13</td>\n",
       "      <td>0.0</td>\n",
       "      <td>103.0</td>\n",
       "      <td>15</td>\n",
       "      <td>...</td>\n",
       "      <td>18.0</td>\n",
       "      <td>32.0</td>\n",
       "      <td>4</td>\n",
       "      <td>5.0</td>\n",
       "      <td>0.0</td>\n",
       "      <td>4.0</td>\n",
       "      <td>12</td>\n",
       "      <td>38</td>\n",
       "      <td>1</td>\n",
       "      <td>Jaylen Hoard</td>\n",
       "    </tr>\n",
       "    <tr>\n",
       "      <th>2</th>\n",
       "      <td>1629682</td>\n",
       "      <td>2019-20</td>\n",
       "      <td>0</td>\n",
       "      <td>1610612738</td>\n",
       "      <td>BOS</td>\n",
       "      <td>22</td>\n",
       "      <td>11</td>\n",
       "      <td>1.0</td>\n",
       "      <td>119.0</td>\n",
       "      <td>14</td>\n",
       "      <td>...</td>\n",
       "      <td>12.0</td>\n",
       "      <td>12.0</td>\n",
       "      <td>16</td>\n",
       "      <td>10.0</td>\n",
       "      <td>2.0</td>\n",
       "      <td>15.0</td>\n",
       "      <td>13</td>\n",
       "      <td>40</td>\n",
       "      <td>1</td>\n",
       "      <td>Tremont Waters</td>\n",
       "    </tr>\n",
       "    <tr>\n",
       "      <th>3</th>\n",
       "      <td>1628407</td>\n",
       "      <td>2019-20</td>\n",
       "      <td>0</td>\n",
       "      <td>1610612766</td>\n",
       "      <td>CHA</td>\n",
       "      <td>24</td>\n",
       "      <td>39</td>\n",
       "      <td>11.0</td>\n",
       "      <td>687.0</td>\n",
       "      <td>85</td>\n",
       "      <td>...</td>\n",
       "      <td>85.0</td>\n",
       "      <td>100.0</td>\n",
       "      <td>52</td>\n",
       "      <td>23.0</td>\n",
       "      <td>2.0</td>\n",
       "      <td>37.0</td>\n",
       "      <td>52</td>\n",
       "      <td>224</td>\n",
       "      <td>3</td>\n",
       "      <td>Dwayne Bacon</td>\n",
       "    </tr>\n",
       "    <tr>\n",
       "      <th>4</th>\n",
       "      <td>1629644</td>\n",
       "      <td>2019-20</td>\n",
       "      <td>0</td>\n",
       "      <td>1610612748</td>\n",
       "      <td>MIA</td>\n",
       "      <td>21</td>\n",
       "      <td>5</td>\n",
       "      <td>0.0</td>\n",
       "      <td>26.0</td>\n",
       "      <td>3</td>\n",
       "      <td>...</td>\n",
       "      <td>4.0</td>\n",
       "      <td>5.0</td>\n",
       "      <td>1</td>\n",
       "      <td>2.0</td>\n",
       "      <td>1.0</td>\n",
       "      <td>1.0</td>\n",
       "      <td>2</td>\n",
       "      <td>7</td>\n",
       "      <td>1</td>\n",
       "      <td>KZ Okpala</td>\n",
       "    </tr>\n",
       "    <tr>\n",
       "      <th>...</th>\n",
       "      <td>...</td>\n",
       "      <td>...</td>\n",
       "      <td>...</td>\n",
       "      <td>...</td>\n",
       "      <td>...</td>\n",
       "      <td>...</td>\n",
       "      <td>...</td>\n",
       "      <td>...</td>\n",
       "      <td>...</td>\n",
       "      <td>...</td>\n",
       "      <td>...</td>\n",
       "      <td>...</td>\n",
       "      <td>...</td>\n",
       "      <td>...</td>\n",
       "      <td>...</td>\n",
       "      <td>...</td>\n",
       "      <td>...</td>\n",
       "      <td>...</td>\n",
       "      <td>...</td>\n",
       "      <td>...</td>\n",
       "      <td>...</td>\n",
       "    </tr>\n",
       "    <tr>\n",
       "      <th>5721</th>\n",
       "      <td>1051</td>\n",
       "      <td>2000-01</td>\n",
       "      <td>0</td>\n",
       "      <td>1610612750</td>\n",
       "      <td>MIN</td>\n",
       "      <td>34</td>\n",
       "      <td>70</td>\n",
       "      <td>21.0</td>\n",
       "      <td>836.0</td>\n",
       "      <td>75</td>\n",
       "      <td>...</td>\n",
       "      <td>152.0</td>\n",
       "      <td>217.0</td>\n",
       "      <td>24</td>\n",
       "      <td>26.0</td>\n",
       "      <td>49.0</td>\n",
       "      <td>25.0</td>\n",
       "      <td>93</td>\n",
       "      <td>177</td>\n",
       "      <td>5</td>\n",
       "      <td>Dean Garrett</td>\n",
       "    </tr>\n",
       "    <tr>\n",
       "      <th>5722</th>\n",
       "      <td>1727</td>\n",
       "      <td>2000-01</td>\n",
       "      <td>0</td>\n",
       "      <td>1610612753</td>\n",
       "      <td>ORL</td>\n",
       "      <td>24</td>\n",
       "      <td>76</td>\n",
       "      <td>1.0</td>\n",
       "      <td>1579.0</td>\n",
       "      <td>223</td>\n",
       "      <td>...</td>\n",
       "      <td>159.0</td>\n",
       "      <td>210.0</td>\n",
       "      <td>51</td>\n",
       "      <td>40.0</td>\n",
       "      <td>15.0</td>\n",
       "      <td>68.0</td>\n",
       "      <td>241</td>\n",
       "      <td>628</td>\n",
       "      <td>3</td>\n",
       "      <td>Pat Garrity</td>\n",
       "    </tr>\n",
       "    <tr>\n",
       "      <th>5723</th>\n",
       "      <td>1894</td>\n",
       "      <td>2000-01</td>\n",
       "      <td>0</td>\n",
       "      <td>1610612746</td>\n",
       "      <td>LAC</td>\n",
       "      <td>21</td>\n",
       "      <td>69</td>\n",
       "      <td>9.0</td>\n",
       "      <td>1361.0</td>\n",
       "      <td>225</td>\n",
       "      <td>...</td>\n",
       "      <td>203.0</td>\n",
       "      <td>291.0</td>\n",
       "      <td>82</td>\n",
       "      <td>35.0</td>\n",
       "      <td>9.0</td>\n",
       "      <td>106.0</td>\n",
       "      <td>140</td>\n",
       "      <td>690</td>\n",
       "      <td>2</td>\n",
       "      <td>Corey Maggette</td>\n",
       "    </tr>\n",
       "    <tr>\n",
       "      <th>5724</th>\n",
       "      <td>2066</td>\n",
       "      <td>2000-01</td>\n",
       "      <td>0</td>\n",
       "      <td>1610612751</td>\n",
       "      <td>NJN</td>\n",
       "      <td>23</td>\n",
       "      <td>34</td>\n",
       "      <td>0.0</td>\n",
       "      <td>223.0</td>\n",
       "      <td>18</td>\n",
       "      <td>...</td>\n",
       "      <td>31.0</td>\n",
       "      <td>53.0</td>\n",
       "      <td>1</td>\n",
       "      <td>2.0</td>\n",
       "      <td>14.0</td>\n",
       "      <td>4.0</td>\n",
       "      <td>23</td>\n",
       "      <td>46</td>\n",
       "      <td>1</td>\n",
       "      <td>Soumaila Samake</td>\n",
       "    </tr>\n",
       "    <tr>\n",
       "      <th>5725</th>\n",
       "      <td>2043</td>\n",
       "      <td>2000-01</td>\n",
       "      <td>0</td>\n",
       "      <td>1610612765</td>\n",
       "      <td>DET</td>\n",
       "      <td>23</td>\n",
       "      <td>78</td>\n",
       "      <td>8.0</td>\n",
       "      <td>1266.0</td>\n",
       "      <td>160</td>\n",
       "      <td>...</td>\n",
       "      <td>106.0</td>\n",
       "      <td>132.0</td>\n",
       "      <td>207</td>\n",
       "      <td>49.0</td>\n",
       "      <td>1.0</td>\n",
       "      <td>139.0</td>\n",
       "      <td>153</td>\n",
       "      <td>422</td>\n",
       "      <td>1</td>\n",
       "      <td>Mateen Cleaves</td>\n",
       "    </tr>\n",
       "  </tbody>\n",
       "</table>\n",
       "<p>5726 rows × 29 columns</p>\n",
       "</div>"
      ],
      "text/plain": [
       "      PLAYER_ID SEASON_ID  LEAGUE_ID     TEAM_ID TEAM_ABBREVIATION  \\\n",
       "0       1628605   2019-20          0  1610612763               MEM   \n",
       "1       1629658   2019-20          0  1610612757               POR   \n",
       "2       1629682   2019-20          0  1610612738               BOS   \n",
       "3       1628407   2019-20          0  1610612766               CHA   \n",
       "4       1629644   2019-20          0  1610612748               MIA   \n",
       "...         ...       ...        ...         ...               ...   \n",
       "5721       1051   2000-01          0  1610612750               MIN   \n",
       "5722       1727   2000-01          0  1610612753               ORL   \n",
       "5723       1894   2000-01          0  1610612746               LAC   \n",
       "5724       2066   2000-01          0  1610612751               NJN   \n",
       "5725       2043   2000-01          0  1610612765               DET   \n",
       "\n",
       "      PLAYER_AGE  GP    GS     MIN  FGM  ...   DREB    REB  AST   STL   BLK  \\\n",
       "0             26   2   0.0    13.0    4  ...    1.0    1.0    0   0.0   0.0   \n",
       "1             21  13   0.0   103.0   15  ...   18.0   32.0    4   5.0   0.0   \n",
       "2             22  11   1.0   119.0   14  ...   12.0   12.0   16  10.0   2.0   \n",
       "3             24  39  11.0   687.0   85  ...   85.0  100.0   52  23.0   2.0   \n",
       "4             21   5   0.0    26.0    3  ...    4.0    5.0    1   2.0   1.0   \n",
       "...          ...  ..   ...     ...  ...  ...    ...    ...  ...   ...   ...   \n",
       "5721          34  70  21.0   836.0   75  ...  152.0  217.0   24  26.0  49.0   \n",
       "5722          24  76   1.0  1579.0  223  ...  159.0  210.0   51  40.0  15.0   \n",
       "5723          21  69   9.0  1361.0  225  ...  203.0  291.0   82  35.0   9.0   \n",
       "5724          23  34   0.0   223.0   18  ...   31.0   53.0    1   2.0  14.0   \n",
       "5725          23  78   8.0  1266.0  160  ...  106.0  132.0  207  49.0   1.0   \n",
       "\n",
       "        TOV   PF  PTS  YIL      PLAYER_NAME  \n",
       "0       0.0    1   12    2    Dusty Hannahs  \n",
       "1       4.0   12   38    1     Jaylen Hoard  \n",
       "2      15.0   13   40    1   Tremont Waters  \n",
       "3      37.0   52  224    3     Dwayne Bacon  \n",
       "4       1.0    2    7    1        KZ Okpala  \n",
       "...     ...  ...  ...  ...              ...  \n",
       "5721   25.0   93  177    5     Dean Garrett  \n",
       "5722   68.0  241  628    3      Pat Garrity  \n",
       "5723  106.0  140  690    2   Corey Maggette  \n",
       "5724    4.0   23   46    1  Soumaila Samake  \n",
       "5725  139.0  153  422    1   Mateen Cleaves  \n",
       "\n",
       "[5726 rows x 29 columns]"
      ]
     },
     "execution_count": 12,
     "metadata": {},
     "output_type": "execute_result"
    }
   ],
   "source": [
    "five_year_all_players = pd.read_json(data)\n",
    "twenty_years_all_players = five_year_all_players[five_year_all_players['SEASON_ID'] > '1999-00']\n",
    "twenty_years_all_players"
   ]
  },
  {
   "cell_type": "markdown",
   "metadata": {},
   "source": [
    "#### Noteable Errors\n",
    "NaN is applied to position if the player position is not found with player salaries. Will fill NaN afterwards."
   ]
  },
  {
   "cell_type": "code",
   "execution_count": 13,
   "metadata": {
    "ExecuteTime": {
     "end_time": "2020-09-19T00:29:46.411117Z",
     "start_time": "2020-09-19T00:29:46.356263Z"
    }
   },
   "outputs": [
    {
     "data": {
      "text/html": [
       "<div>\n",
       "<style scoped>\n",
       "    .dataframe tbody tr th:only-of-type {\n",
       "        vertical-align: middle;\n",
       "    }\n",
       "\n",
       "    .dataframe tbody tr th {\n",
       "        vertical-align: top;\n",
       "    }\n",
       "\n",
       "    .dataframe thead th {\n",
       "        text-align: right;\n",
       "    }\n",
       "</style>\n",
       "<table border=\"1\" class=\"dataframe\">\n",
       "  <thead>\n",
       "    <tr style=\"text-align: right;\">\n",
       "      <th></th>\n",
       "      <th>PLAYER_ID</th>\n",
       "      <th>SEASON_ID</th>\n",
       "      <th>LEAGUE_ID</th>\n",
       "      <th>TEAM_ID</th>\n",
       "      <th>TEAM_ABBREVIATION</th>\n",
       "      <th>PLAYER_AGE</th>\n",
       "      <th>GP</th>\n",
       "      <th>GS</th>\n",
       "      <th>MIN</th>\n",
       "      <th>FGM</th>\n",
       "      <th>...</th>\n",
       "      <th>REB</th>\n",
       "      <th>AST</th>\n",
       "      <th>STL</th>\n",
       "      <th>BLK</th>\n",
       "      <th>TOV</th>\n",
       "      <th>PF</th>\n",
       "      <th>PTS</th>\n",
       "      <th>YIL</th>\n",
       "      <th>PLAYER_NAME</th>\n",
       "      <th>POSITION</th>\n",
       "    </tr>\n",
       "  </thead>\n",
       "  <tbody>\n",
       "    <tr>\n",
       "      <th>0</th>\n",
       "      <td>1628605</td>\n",
       "      <td>2019-20</td>\n",
       "      <td>0</td>\n",
       "      <td>1610612763</td>\n",
       "      <td>MEM</td>\n",
       "      <td>26</td>\n",
       "      <td>2</td>\n",
       "      <td>0.0</td>\n",
       "      <td>13.0</td>\n",
       "      <td>4</td>\n",
       "      <td>...</td>\n",
       "      <td>1.0</td>\n",
       "      <td>0</td>\n",
       "      <td>0.0</td>\n",
       "      <td>0.0</td>\n",
       "      <td>0.0</td>\n",
       "      <td>1</td>\n",
       "      <td>12</td>\n",
       "      <td>2</td>\n",
       "      <td>Dusty Hannahs</td>\n",
       "      <td>NaN</td>\n",
       "    </tr>\n",
       "    <tr>\n",
       "      <th>1</th>\n",
       "      <td>1629658</td>\n",
       "      <td>2019-20</td>\n",
       "      <td>0</td>\n",
       "      <td>1610612757</td>\n",
       "      <td>POR</td>\n",
       "      <td>21</td>\n",
       "      <td>13</td>\n",
       "      <td>0.0</td>\n",
       "      <td>103.0</td>\n",
       "      <td>15</td>\n",
       "      <td>...</td>\n",
       "      <td>32.0</td>\n",
       "      <td>4</td>\n",
       "      <td>5.0</td>\n",
       "      <td>0.0</td>\n",
       "      <td>4.0</td>\n",
       "      <td>12</td>\n",
       "      <td>38</td>\n",
       "      <td>1</td>\n",
       "      <td>Jaylen Hoard</td>\n",
       "      <td>NaN</td>\n",
       "    </tr>\n",
       "    <tr>\n",
       "      <th>2</th>\n",
       "      <td>1629682</td>\n",
       "      <td>2019-20</td>\n",
       "      <td>0</td>\n",
       "      <td>1610612738</td>\n",
       "      <td>BOS</td>\n",
       "      <td>22</td>\n",
       "      <td>11</td>\n",
       "      <td>1.0</td>\n",
       "      <td>119.0</td>\n",
       "      <td>14</td>\n",
       "      <td>...</td>\n",
       "      <td>12.0</td>\n",
       "      <td>16</td>\n",
       "      <td>10.0</td>\n",
       "      <td>2.0</td>\n",
       "      <td>15.0</td>\n",
       "      <td>13</td>\n",
       "      <td>40</td>\n",
       "      <td>1</td>\n",
       "      <td>Tremont Waters</td>\n",
       "      <td>NaN</td>\n",
       "    </tr>\n",
       "    <tr>\n",
       "      <th>3</th>\n",
       "      <td>1628407</td>\n",
       "      <td>2019-20</td>\n",
       "      <td>0</td>\n",
       "      <td>1610612766</td>\n",
       "      <td>CHA</td>\n",
       "      <td>24</td>\n",
       "      <td>39</td>\n",
       "      <td>11.0</td>\n",
       "      <td>687.0</td>\n",
       "      <td>85</td>\n",
       "      <td>...</td>\n",
       "      <td>100.0</td>\n",
       "      <td>52</td>\n",
       "      <td>23.0</td>\n",
       "      <td>2.0</td>\n",
       "      <td>37.0</td>\n",
       "      <td>52</td>\n",
       "      <td>224</td>\n",
       "      <td>3</td>\n",
       "      <td>Dwayne Bacon</td>\n",
       "      <td>NaN</td>\n",
       "    </tr>\n",
       "    <tr>\n",
       "      <th>4</th>\n",
       "      <td>1629644</td>\n",
       "      <td>2019-20</td>\n",
       "      <td>0</td>\n",
       "      <td>1610612748</td>\n",
       "      <td>MIA</td>\n",
       "      <td>21</td>\n",
       "      <td>5</td>\n",
       "      <td>0.0</td>\n",
       "      <td>26.0</td>\n",
       "      <td>3</td>\n",
       "      <td>...</td>\n",
       "      <td>5.0</td>\n",
       "      <td>1</td>\n",
       "      <td>2.0</td>\n",
       "      <td>1.0</td>\n",
       "      <td>1.0</td>\n",
       "      <td>2</td>\n",
       "      <td>7</td>\n",
       "      <td>1</td>\n",
       "      <td>KZ Okpala</td>\n",
       "      <td>NaN</td>\n",
       "    </tr>\n",
       "    <tr>\n",
       "      <th>...</th>\n",
       "      <td>...</td>\n",
       "      <td>...</td>\n",
       "      <td>...</td>\n",
       "      <td>...</td>\n",
       "      <td>...</td>\n",
       "      <td>...</td>\n",
       "      <td>...</td>\n",
       "      <td>...</td>\n",
       "      <td>...</td>\n",
       "      <td>...</td>\n",
       "      <td>...</td>\n",
       "      <td>...</td>\n",
       "      <td>...</td>\n",
       "      <td>...</td>\n",
       "      <td>...</td>\n",
       "      <td>...</td>\n",
       "      <td>...</td>\n",
       "      <td>...</td>\n",
       "      <td>...</td>\n",
       "      <td>...</td>\n",
       "      <td>...</td>\n",
       "    </tr>\n",
       "    <tr>\n",
       "      <th>5721</th>\n",
       "      <td>1051</td>\n",
       "      <td>2000-01</td>\n",
       "      <td>0</td>\n",
       "      <td>1610612750</td>\n",
       "      <td>MIN</td>\n",
       "      <td>34</td>\n",
       "      <td>70</td>\n",
       "      <td>21.0</td>\n",
       "      <td>836.0</td>\n",
       "      <td>75</td>\n",
       "      <td>...</td>\n",
       "      <td>217.0</td>\n",
       "      <td>24</td>\n",
       "      <td>26.0</td>\n",
       "      <td>49.0</td>\n",
       "      <td>25.0</td>\n",
       "      <td>93</td>\n",
       "      <td>177</td>\n",
       "      <td>5</td>\n",
       "      <td>Dean Garrett</td>\n",
       "      <td>NaN</td>\n",
       "    </tr>\n",
       "    <tr>\n",
       "      <th>5722</th>\n",
       "      <td>1727</td>\n",
       "      <td>2000-01</td>\n",
       "      <td>0</td>\n",
       "      <td>1610612753</td>\n",
       "      <td>ORL</td>\n",
       "      <td>24</td>\n",
       "      <td>76</td>\n",
       "      <td>1.0</td>\n",
       "      <td>1579.0</td>\n",
       "      <td>223</td>\n",
       "      <td>...</td>\n",
       "      <td>210.0</td>\n",
       "      <td>51</td>\n",
       "      <td>40.0</td>\n",
       "      <td>15.0</td>\n",
       "      <td>68.0</td>\n",
       "      <td>241</td>\n",
       "      <td>628</td>\n",
       "      <td>3</td>\n",
       "      <td>Pat Garrity</td>\n",
       "      <td>NaN</td>\n",
       "    </tr>\n",
       "    <tr>\n",
       "      <th>5723</th>\n",
       "      <td>1894</td>\n",
       "      <td>2000-01</td>\n",
       "      <td>0</td>\n",
       "      <td>1610612746</td>\n",
       "      <td>LAC</td>\n",
       "      <td>21</td>\n",
       "      <td>69</td>\n",
       "      <td>9.0</td>\n",
       "      <td>1361.0</td>\n",
       "      <td>225</td>\n",
       "      <td>...</td>\n",
       "      <td>291.0</td>\n",
       "      <td>82</td>\n",
       "      <td>35.0</td>\n",
       "      <td>9.0</td>\n",
       "      <td>106.0</td>\n",
       "      <td>140</td>\n",
       "      <td>690</td>\n",
       "      <td>2</td>\n",
       "      <td>Corey Maggette</td>\n",
       "      <td>NaN</td>\n",
       "    </tr>\n",
       "    <tr>\n",
       "      <th>5724</th>\n",
       "      <td>2066</td>\n",
       "      <td>2000-01</td>\n",
       "      <td>0</td>\n",
       "      <td>1610612751</td>\n",
       "      <td>NJN</td>\n",
       "      <td>23</td>\n",
       "      <td>34</td>\n",
       "      <td>0.0</td>\n",
       "      <td>223.0</td>\n",
       "      <td>18</td>\n",
       "      <td>...</td>\n",
       "      <td>53.0</td>\n",
       "      <td>1</td>\n",
       "      <td>2.0</td>\n",
       "      <td>14.0</td>\n",
       "      <td>4.0</td>\n",
       "      <td>23</td>\n",
       "      <td>46</td>\n",
       "      <td>1</td>\n",
       "      <td>Soumaila Samake</td>\n",
       "      <td>NaN</td>\n",
       "    </tr>\n",
       "    <tr>\n",
       "      <th>5725</th>\n",
       "      <td>2043</td>\n",
       "      <td>2000-01</td>\n",
       "      <td>0</td>\n",
       "      <td>1610612765</td>\n",
       "      <td>DET</td>\n",
       "      <td>23</td>\n",
       "      <td>78</td>\n",
       "      <td>8.0</td>\n",
       "      <td>1266.0</td>\n",
       "      <td>160</td>\n",
       "      <td>...</td>\n",
       "      <td>132.0</td>\n",
       "      <td>207</td>\n",
       "      <td>49.0</td>\n",
       "      <td>1.0</td>\n",
       "      <td>139.0</td>\n",
       "      <td>153</td>\n",
       "      <td>422</td>\n",
       "      <td>1</td>\n",
       "      <td>Mateen Cleaves</td>\n",
       "      <td>NaN</td>\n",
       "    </tr>\n",
       "  </tbody>\n",
       "</table>\n",
       "<p>7686 rows × 30 columns</p>\n",
       "</div>"
      ],
      "text/plain": [
       "      PLAYER_ID SEASON_ID  LEAGUE_ID     TEAM_ID TEAM_ABBREVIATION  \\\n",
       "0       1628605   2019-20          0  1610612763               MEM   \n",
       "1       1629658   2019-20          0  1610612757               POR   \n",
       "2       1629682   2019-20          0  1610612738               BOS   \n",
       "3       1628407   2019-20          0  1610612766               CHA   \n",
       "4       1629644   2019-20          0  1610612748               MIA   \n",
       "...         ...       ...        ...         ...               ...   \n",
       "5721       1051   2000-01          0  1610612750               MIN   \n",
       "5722       1727   2000-01          0  1610612753               ORL   \n",
       "5723       1894   2000-01          0  1610612746               LAC   \n",
       "5724       2066   2000-01          0  1610612751               NJN   \n",
       "5725       2043   2000-01          0  1610612765               DET   \n",
       "\n",
       "      PLAYER_AGE  GP    GS     MIN  FGM  ...    REB  AST   STL   BLK    TOV  \\\n",
       "0             26   2   0.0    13.0    4  ...    1.0    0   0.0   0.0    0.0   \n",
       "1             21  13   0.0   103.0   15  ...   32.0    4   5.0   0.0    4.0   \n",
       "2             22  11   1.0   119.0   14  ...   12.0   16  10.0   2.0   15.0   \n",
       "3             24  39  11.0   687.0   85  ...  100.0   52  23.0   2.0   37.0   \n",
       "4             21   5   0.0    26.0    3  ...    5.0    1   2.0   1.0    1.0   \n",
       "...          ...  ..   ...     ...  ...  ...    ...  ...   ...   ...    ...   \n",
       "5721          34  70  21.0   836.0   75  ...  217.0   24  26.0  49.0   25.0   \n",
       "5722          24  76   1.0  1579.0  223  ...  210.0   51  40.0  15.0   68.0   \n",
       "5723          21  69   9.0  1361.0  225  ...  291.0   82  35.0   9.0  106.0   \n",
       "5724          23  34   0.0   223.0   18  ...   53.0    1   2.0  14.0    4.0   \n",
       "5725          23  78   8.0  1266.0  160  ...  132.0  207  49.0   1.0  139.0   \n",
       "\n",
       "       PF  PTS  YIL      PLAYER_NAME  POSITION  \n",
       "0       1   12    2    Dusty Hannahs       NaN  \n",
       "1      12   38    1     Jaylen Hoard       NaN  \n",
       "2      13   40    1   Tremont Waters       NaN  \n",
       "3      52  224    3     Dwayne Bacon       NaN  \n",
       "4       2    7    1        KZ Okpala       NaN  \n",
       "...   ...  ...  ...              ...       ...  \n",
       "5721   93  177    5     Dean Garrett       NaN  \n",
       "5722  241  628    3      Pat Garrity       NaN  \n",
       "5723  140  690    2   Corey Maggette       NaN  \n",
       "5724   23   46    1  Soumaila Samake       NaN  \n",
       "5725  153  422    1   Mateen Cleaves       NaN  \n",
       "\n",
       "[7686 rows x 30 columns]"
      ]
     },
     "execution_count": 13,
     "metadata": {},
     "output_type": "execute_result"
    }
   ],
   "source": [
    "twenty_years_all_players = twenty_years_all_players.join(player_positions.set_index('PLAYER_NAME'), on='PLAYER_NAME')\n",
    "twenty_years_all_players.copy()"
   ]
  },
  {
   "cell_type": "code",
   "execution_count": null,
   "metadata": {},
   "outputs": [],
   "source": [
    "### DF for each year. decending\n",
    "first_year = twenty_years_all_players[twenty_years_all_players['YIL'] == 1]\n",
    "second_year = twenty_years_all_players[twenty_years_all_players['YIL'] == 2]\n",
    "third_year = twenty_years_all_players[twenty_years_all_players['YIL'] == 3]\n",
    "fourth_year = twenty_years_all_players[twenty_years_all_players['YIL'] == 4]\n",
    "fifth_year = twenty_years_all_players[twenty_years_all_players['YIL'] == 5]"
   ]
  },
  {
   "cell_type": "markdown",
   "metadata": {
    "ExecuteTime": {
     "end_time": "2020-09-19T00:17:15.961383Z",
     "start_time": "2020-09-19T00:17:15.930465Z"
    }
   },
   "source": [
    "## Plot YIL to Total Points"
   ]
  },
  {
   "cell_type": "markdown",
   "metadata": {},
   "source": [
    "First Year Total Points per Position"
   ]
  },
  {
   "cell_type": "code",
   "execution_count": 44,
   "metadata": {
    "ExecuteTime": {
     "end_time": "2020-09-19T01:04:36.948524Z",
     "start_time": "2020-09-19T01:04:36.901672Z"
    }
   },
   "outputs": [
    {
     "data": {
      "application/vnd.plotly.v1+json": {
       "config": {
        "plotlyServerURL": "https://plot.ly"
       },
       "data": [
        {
         "customdata": [
          [
           1845
          ],
          [
           1725
          ],
          [
           1654
          ],
          [
           1624
          ],
          [
           1562
          ],
          [
           1503
          ],
          [
           1441
          ],
          [
           1399
          ],
          [
           1387
          ],
          [
           1361
          ],
          [
           1258
          ],
          [
           1256
          ],
          [
           1252
          ],
          [
           1235
          ],
          [
           1151
          ],
          [
           1143
          ],
          [
           1131
          ],
          [
           1106
          ],
          [
           1106
          ],
          [
           1105
          ],
          [
           1104
          ],
          [
           1068
          ],
          [
           1054
          ],
          [
           1048
          ],
          [
           1028
          ],
          [
           991
          ],
          [
           981
          ],
          [
           975
          ],
          [
           955
          ],
          [
           944
          ],
          [
           899
          ],
          [
           880
          ],
          [
           867
          ],
          [
           864
          ],
          [
           861
          ],
          [
           846
          ],
          [
           826
          ],
          [
           821
          ],
          [
           814
          ],
          [
           810
          ],
          [
           799
          ],
          [
           796
          ],
          [
           780
          ],
          [
           769
          ],
          [
           768
          ],
          [
           753
          ],
          [
           751
          ],
          [
           748
          ],
          [
           742
          ],
          [
           741
          ],
          [
           715
          ],
          [
           711
          ],
          [
           705
          ],
          [
           662
          ],
          [
           627
          ],
          [
           599
          ],
          [
           587
          ],
          [
           587
          ],
          [
           581
          ],
          [
           565
          ],
          [
           559
          ],
          [
           543
          ],
          [
           533
          ],
          [
           525
          ],
          [
           525
          ],
          [
           511
          ],
          [
           507
          ],
          [
           501
          ],
          [
           499
          ],
          [
           498
          ],
          [
           494
          ],
          [
           494
          ],
          [
           488
          ],
          [
           487
          ],
          [
           476
          ],
          [
           476
          ],
          [
           475
          ],
          [
           463
          ],
          [
           461
          ],
          [
           436
          ],
          [
           426
          ],
          [
           388
          ],
          [
           359
          ],
          [
           353
          ],
          [
           345
          ],
          [
           304
          ],
          [
           304
          ],
          [
           283
          ],
          [
           277
          ],
          [
           265
          ],
          [
           246
          ],
          [
           243
          ],
          [
           228
          ],
          [
           227
          ],
          [
           208
          ],
          [
           201
          ],
          [
           190
          ],
          [
           180
          ],
          [
           170
          ],
          [
           165
          ],
          [
           140
          ],
          [
           131
          ],
          [
           114
          ],
          [
           109
          ],
          [
           104
          ],
          [
           78
          ],
          [
           74
          ],
          [
           56
          ],
          [
           51
          ],
          [
           33
          ],
          [
           32
          ],
          [
           13
          ],
          [
           3
          ],
          [
           0
          ]
         ],
         "hovertemplate": "<b>%{hovertext}</b><br><br>PTS=%{marker.color}<br>POSITION=%{y}<extra></extra>",
         "hovertext": [
          "Blake Griffin",
          "Carmelo Anthony",
          "LeBron James",
          "Kevin Durant",
          "Damian Lillard",
          "Karl-Anthony Towns",
          "Pau Gasol",
          "Stephen Curry",
          "Andrew Wiggins",
          "Derrick Rose",
          "Chris Paul",
          "Russell Westbrook",
          "Eric Gordon",
          "Ben Gordon",
          "Jason Richardson",
          "DeMarcus Cousins",
          "John Wall",
          "Victor Oladipo",
          "Amar'e Stoudemire",
          "Emeka Okafor",
          "Yao Ming",
          "Brook Lopez",
          "D'Angelo Russell",
          "Devin Booker",
          "Kristaps Porzingis",
          "Dwyane Wade",
          "Dwight Howard",
          "Marc Gasol",
          "Brandon Roy",
          "Kyrie Irving",
          "Kevin Love",
          "Andrei Kirilenko",
          "Anthony Davis",
          "Deron Williams",
          "Chris Bosh",
          "Rudy Gay",
          "Klay Thompson",
          "Al Horford",
          "Kenyon Martin",
          "Carlos Boozer",
          "Kemba Walker",
          "Nikola Jokic",
          "Bradley Beal",
          "Wesley Matthews",
          "Andrew Bogut",
          "James Harden",
          "Greg Monroe",
          "Harrison Barnes",
          "Richard Jefferson",
          "Andre Iguodala",
          "Josh Smith",
          "Luol Deng",
          "Tony Parker",
          "DeMar DeRozan",
          "Joel Embiid",
          "Chandler Parsons",
          "Jrue Holiday",
          "Danny Granger",
          "Joe Johnson",
          "LaMarcus Aldridge",
          "Paul Millsap",
          "Eric Bledsoe",
          "Derrick Favors",
          "Manu Ginobili",
          "Giannis Antetokounmpo",
          "Gilbert Arenas",
          "Kawhi Leonard",
          "Rajon Rondo",
          "Chris Kaman",
          "Mike Conley",
          "Tristan Thompson",
          "Roy Hibbert",
          "Joakim Noah",
          "Ryan Anderson",
          "Andre Drummond",
          "Paul George",
          "Al Jefferson",
          "Nick Collison",
          "Serge Ibaka",
          "Tyson Chandler",
          "Nicolas Batum",
          "Gordon Hayward",
          "Nikola Pekovic",
          "Derrick Favors",
          "David Lee",
          "Joe Johnson",
          "Enes Kanter",
          "Nikola Vucevic",
          "Joe Johnson",
          "Steven Adams",
          "Goran Dragic",
          "Aaron Gordon",
          "DeAndre Jordan",
          "Draymond Green",
          "Tobias Harris",
          "CJ McCollum",
          "Tyler Johnson",
          "Derrick Favors",
          "Danilo Gallinari",
          "Khris Middleton",
          "Reggie Jackson",
          "Kevin Martin",
          "Zach Randolph",
          "Jimmy Butler",
          "Rudy Gobert",
          "Otto Porter Jr.",
          "Andrew Bynum",
          "Kyle Lowry",
          "Samuel Dalembert",
          "Allen Crabbe",
          "Glen Rice",
          "Michael Redd",
          "Patrick Ewing",
          "Hassan Whiteside"
         ],
         "legendgroup": "",
         "marker": {
          "color": [
           1845,
           1725,
           1654,
           1624,
           1562,
           1503,
           1441,
           1399,
           1387,
           1361,
           1258,
           1256,
           1252,
           1235,
           1151,
           1143,
           1131,
           1106,
           1106,
           1105,
           1104,
           1068,
           1054,
           1048,
           1028,
           991,
           981,
           975,
           955,
           944,
           899,
           880,
           867,
           864,
           861,
           846,
           826,
           821,
           814,
           810,
           799,
           796,
           780,
           769,
           768,
           753,
           751,
           748,
           742,
           741,
           715,
           711,
           705,
           662,
           627,
           599,
           587,
           587,
           581,
           565,
           559,
           543,
           533,
           525,
           525,
           511,
           507,
           501,
           499,
           498,
           494,
           494,
           488,
           487,
           476,
           476,
           475,
           463,
           461,
           436,
           426,
           388,
           359,
           353,
           345,
           304,
           304,
           283,
           277,
           265,
           246,
           243,
           228,
           227,
           208,
           201,
           190,
           180,
           170,
           165,
           140,
           131,
           114,
           109,
           104,
           78,
           74,
           56,
           51,
           33,
           32,
           13,
           3,
           0
          ],
          "coloraxis": "coloraxis",
          "size": [
           1845,
           1725,
           1654,
           1624,
           1562,
           1503,
           1441,
           1399,
           1387,
           1361,
           1258,
           1256,
           1252,
           1235,
           1151,
           1143,
           1131,
           1106,
           1106,
           1105,
           1104,
           1068,
           1054,
           1048,
           1028,
           991,
           981,
           975,
           955,
           944,
           899,
           880,
           867,
           864,
           861,
           846,
           826,
           821,
           814,
           810,
           799,
           796,
           780,
           769,
           768,
           753,
           751,
           748,
           742,
           741,
           715,
           711,
           705,
           662,
           627,
           599,
           587,
           587,
           581,
           565,
           559,
           543,
           533,
           525,
           525,
           511,
           507,
           501,
           499,
           498,
           494,
           494,
           488,
           487,
           476,
           476,
           475,
           463,
           461,
           436,
           426,
           388,
           359,
           353,
           345,
           304,
           304,
           283,
           277,
           265,
           246,
           243,
           228,
           227,
           208,
           201,
           190,
           180,
           170,
           165,
           140,
           131,
           114,
           109,
           104,
           78,
           74,
           56,
           51,
           33,
           32,
           13,
           3,
           0
          ],
          "sizemode": "area",
          "sizeref": 4.6125,
          "symbol": "circle"
         },
         "mode": "markers",
         "name": "",
         "orientation": "h",
         "showlegend": false,
         "type": "scatter",
         "x": [
          1845,
          1725,
          1654,
          1624,
          1562,
          1503,
          1441,
          1399,
          1387,
          1361,
          1258,
          1256,
          1252,
          1235,
          1151,
          1143,
          1131,
          1106,
          1106,
          1105,
          1104,
          1068,
          1054,
          1048,
          1028,
          991,
          981,
          975,
          955,
          944,
          899,
          880,
          867,
          864,
          861,
          846,
          826,
          821,
          814,
          810,
          799,
          796,
          780,
          769,
          768,
          753,
          751,
          748,
          742,
          741,
          715,
          711,
          705,
          662,
          627,
          599,
          587,
          587,
          581,
          565,
          559,
          543,
          533,
          525,
          525,
          511,
          507,
          501,
          499,
          498,
          494,
          494,
          488,
          487,
          476,
          476,
          475,
          463,
          461,
          436,
          426,
          388,
          359,
          353,
          345,
          304,
          304,
          283,
          277,
          265,
          246,
          243,
          228,
          227,
          208,
          201,
          190,
          180,
          170,
          165,
          140,
          131,
          114,
          109,
          104,
          78,
          74,
          56,
          51,
          33,
          32,
          13,
          3,
          0
         ],
         "xaxis": "x",
         "y": [
          " PF",
          " PF",
          " SF",
          " SF",
          " PG",
          " C",
          " PF",
          " PG",
          " SF",
          " PG",
          " PG",
          " PG",
          " SG",
          " SG",
          " SG",
          " C",
          " PG",
          " SG",
          " C",
          " C",
          " C",
          " C",
          " SG",
          " SG",
          " PF",
          " G",
          " C",
          " C",
          " SG",
          " PG",
          " PF",
          " SF",
          " PF",
          " PG",
          " PF",
          " SF",
          " SG",
          " PF",
          " PF",
          " PF",
          " PG",
          " C",
          " SG",
          " SG",
          " C",
          " SG",
          " C",
          " SF",
          " F",
          " SG",
          " PF",
          " F",
          " G",
          " SF",
          " C",
          " SF",
          " SG",
          " SF",
          " G",
          " PF",
          " PF",
          " PG",
          " C",
          " G",
          " PF",
          " PG",
          " SF",
          " PG",
          " C",
          " PG",
          " C",
          " C",
          " C",
          " PF",
          " C",
          " SG",
          " C",
          " F",
          " C",
          " C",
          " SG",
          " SF",
          " C",
          " C",
          " PF",
          " G",
          " C",
          " C",
          " G",
          " C",
          " PG",
          " PF",
          " C",
          " PF",
          " SF",
          " SG",
          " SG",
          " C",
          " PF",
          " SF",
          " PG",
          " SG",
          " F",
          " SF",
          " C",
          " SF",
          " C",
          " PG",
          " C",
          " G",
          " SF",
          " SG",
          " C",
          " C"
         ],
         "yaxis": "y"
        }
       ],
       "layout": {
        "coloraxis": {
         "colorbar": {
          "title": {
           "text": "PTS"
          }
         },
         "colorscale": [
          [
           0,
           "#0d0887"
          ],
          [
           0.1111111111111111,
           "#46039f"
          ],
          [
           0.2222222222222222,
           "#7201a8"
          ],
          [
           0.3333333333333333,
           "#9c179e"
          ],
          [
           0.4444444444444444,
           "#bd3786"
          ],
          [
           0.5555555555555556,
           "#d8576b"
          ],
          [
           0.6666666666666666,
           "#ed7953"
          ],
          [
           0.7777777777777778,
           "#fb9f3a"
          ],
          [
           0.8888888888888888,
           "#fdca26"
          ],
          [
           1,
           "#f0f921"
          ]
         ]
        },
        "legend": {
         "itemsizing": "constant",
         "tracegroupgap": 0
        },
        "template": {
         "data": {
          "bar": [
           {
            "error_x": {
             "color": "#2a3f5f"
            },
            "error_y": {
             "color": "#2a3f5f"
            },
            "marker": {
             "line": {
              "color": "#E5ECF6",
              "width": 0.5
             }
            },
            "type": "bar"
           }
          ],
          "barpolar": [
           {
            "marker": {
             "line": {
              "color": "#E5ECF6",
              "width": 0.5
             }
            },
            "type": "barpolar"
           }
          ],
          "carpet": [
           {
            "aaxis": {
             "endlinecolor": "#2a3f5f",
             "gridcolor": "white",
             "linecolor": "white",
             "minorgridcolor": "white",
             "startlinecolor": "#2a3f5f"
            },
            "baxis": {
             "endlinecolor": "#2a3f5f",
             "gridcolor": "white",
             "linecolor": "white",
             "minorgridcolor": "white",
             "startlinecolor": "#2a3f5f"
            },
            "type": "carpet"
           }
          ],
          "choropleth": [
           {
            "colorbar": {
             "outlinewidth": 0,
             "ticks": ""
            },
            "type": "choropleth"
           }
          ],
          "contour": [
           {
            "colorbar": {
             "outlinewidth": 0,
             "ticks": ""
            },
            "colorscale": [
             [
              0,
              "#0d0887"
             ],
             [
              0.1111111111111111,
              "#46039f"
             ],
             [
              0.2222222222222222,
              "#7201a8"
             ],
             [
              0.3333333333333333,
              "#9c179e"
             ],
             [
              0.4444444444444444,
              "#bd3786"
             ],
             [
              0.5555555555555556,
              "#d8576b"
             ],
             [
              0.6666666666666666,
              "#ed7953"
             ],
             [
              0.7777777777777778,
              "#fb9f3a"
             ],
             [
              0.8888888888888888,
              "#fdca26"
             ],
             [
              1,
              "#f0f921"
             ]
            ],
            "type": "contour"
           }
          ],
          "contourcarpet": [
           {
            "colorbar": {
             "outlinewidth": 0,
             "ticks": ""
            },
            "type": "contourcarpet"
           }
          ],
          "heatmap": [
           {
            "colorbar": {
             "outlinewidth": 0,
             "ticks": ""
            },
            "colorscale": [
             [
              0,
              "#0d0887"
             ],
             [
              0.1111111111111111,
              "#46039f"
             ],
             [
              0.2222222222222222,
              "#7201a8"
             ],
             [
              0.3333333333333333,
              "#9c179e"
             ],
             [
              0.4444444444444444,
              "#bd3786"
             ],
             [
              0.5555555555555556,
              "#d8576b"
             ],
             [
              0.6666666666666666,
              "#ed7953"
             ],
             [
              0.7777777777777778,
              "#fb9f3a"
             ],
             [
              0.8888888888888888,
              "#fdca26"
             ],
             [
              1,
              "#f0f921"
             ]
            ],
            "type": "heatmap"
           }
          ],
          "heatmapgl": [
           {
            "colorbar": {
             "outlinewidth": 0,
             "ticks": ""
            },
            "colorscale": [
             [
              0,
              "#0d0887"
             ],
             [
              0.1111111111111111,
              "#46039f"
             ],
             [
              0.2222222222222222,
              "#7201a8"
             ],
             [
              0.3333333333333333,
              "#9c179e"
             ],
             [
              0.4444444444444444,
              "#bd3786"
             ],
             [
              0.5555555555555556,
              "#d8576b"
             ],
             [
              0.6666666666666666,
              "#ed7953"
             ],
             [
              0.7777777777777778,
              "#fb9f3a"
             ],
             [
              0.8888888888888888,
              "#fdca26"
             ],
             [
              1,
              "#f0f921"
             ]
            ],
            "type": "heatmapgl"
           }
          ],
          "histogram": [
           {
            "marker": {
             "colorbar": {
              "outlinewidth": 0,
              "ticks": ""
             }
            },
            "type": "histogram"
           }
          ],
          "histogram2d": [
           {
            "colorbar": {
             "outlinewidth": 0,
             "ticks": ""
            },
            "colorscale": [
             [
              0,
              "#0d0887"
             ],
             [
              0.1111111111111111,
              "#46039f"
             ],
             [
              0.2222222222222222,
              "#7201a8"
             ],
             [
              0.3333333333333333,
              "#9c179e"
             ],
             [
              0.4444444444444444,
              "#bd3786"
             ],
             [
              0.5555555555555556,
              "#d8576b"
             ],
             [
              0.6666666666666666,
              "#ed7953"
             ],
             [
              0.7777777777777778,
              "#fb9f3a"
             ],
             [
              0.8888888888888888,
              "#fdca26"
             ],
             [
              1,
              "#f0f921"
             ]
            ],
            "type": "histogram2d"
           }
          ],
          "histogram2dcontour": [
           {
            "colorbar": {
             "outlinewidth": 0,
             "ticks": ""
            },
            "colorscale": [
             [
              0,
              "#0d0887"
             ],
             [
              0.1111111111111111,
              "#46039f"
             ],
             [
              0.2222222222222222,
              "#7201a8"
             ],
             [
              0.3333333333333333,
              "#9c179e"
             ],
             [
              0.4444444444444444,
              "#bd3786"
             ],
             [
              0.5555555555555556,
              "#d8576b"
             ],
             [
              0.6666666666666666,
              "#ed7953"
             ],
             [
              0.7777777777777778,
              "#fb9f3a"
             ],
             [
              0.8888888888888888,
              "#fdca26"
             ],
             [
              1,
              "#f0f921"
             ]
            ],
            "type": "histogram2dcontour"
           }
          ],
          "mesh3d": [
           {
            "colorbar": {
             "outlinewidth": 0,
             "ticks": ""
            },
            "type": "mesh3d"
           }
          ],
          "parcoords": [
           {
            "line": {
             "colorbar": {
              "outlinewidth": 0,
              "ticks": ""
             }
            },
            "type": "parcoords"
           }
          ],
          "pie": [
           {
            "automargin": true,
            "type": "pie"
           }
          ],
          "scatter": [
           {
            "marker": {
             "colorbar": {
              "outlinewidth": 0,
              "ticks": ""
             }
            },
            "type": "scatter"
           }
          ],
          "scatter3d": [
           {
            "line": {
             "colorbar": {
              "outlinewidth": 0,
              "ticks": ""
             }
            },
            "marker": {
             "colorbar": {
              "outlinewidth": 0,
              "ticks": ""
             }
            },
            "type": "scatter3d"
           }
          ],
          "scattercarpet": [
           {
            "marker": {
             "colorbar": {
              "outlinewidth": 0,
              "ticks": ""
             }
            },
            "type": "scattercarpet"
           }
          ],
          "scattergeo": [
           {
            "marker": {
             "colorbar": {
              "outlinewidth": 0,
              "ticks": ""
             }
            },
            "type": "scattergeo"
           }
          ],
          "scattergl": [
           {
            "marker": {
             "colorbar": {
              "outlinewidth": 0,
              "ticks": ""
             }
            },
            "type": "scattergl"
           }
          ],
          "scattermapbox": [
           {
            "marker": {
             "colorbar": {
              "outlinewidth": 0,
              "ticks": ""
             }
            },
            "type": "scattermapbox"
           }
          ],
          "scatterpolar": [
           {
            "marker": {
             "colorbar": {
              "outlinewidth": 0,
              "ticks": ""
             }
            },
            "type": "scatterpolar"
           }
          ],
          "scatterpolargl": [
           {
            "marker": {
             "colorbar": {
              "outlinewidth": 0,
              "ticks": ""
             }
            },
            "type": "scatterpolargl"
           }
          ],
          "scatterternary": [
           {
            "marker": {
             "colorbar": {
              "outlinewidth": 0,
              "ticks": ""
             }
            },
            "type": "scatterternary"
           }
          ],
          "surface": [
           {
            "colorbar": {
             "outlinewidth": 0,
             "ticks": ""
            },
            "colorscale": [
             [
              0,
              "#0d0887"
             ],
             [
              0.1111111111111111,
              "#46039f"
             ],
             [
              0.2222222222222222,
              "#7201a8"
             ],
             [
              0.3333333333333333,
              "#9c179e"
             ],
             [
              0.4444444444444444,
              "#bd3786"
             ],
             [
              0.5555555555555556,
              "#d8576b"
             ],
             [
              0.6666666666666666,
              "#ed7953"
             ],
             [
              0.7777777777777778,
              "#fb9f3a"
             ],
             [
              0.8888888888888888,
              "#fdca26"
             ],
             [
              1,
              "#f0f921"
             ]
            ],
            "type": "surface"
           }
          ],
          "table": [
           {
            "cells": {
             "fill": {
              "color": "#EBF0F8"
             },
             "line": {
              "color": "white"
             }
            },
            "header": {
             "fill": {
              "color": "#C8D4E3"
             },
             "line": {
              "color": "white"
             }
            },
            "type": "table"
           }
          ]
         },
         "layout": {
          "annotationdefaults": {
           "arrowcolor": "#2a3f5f",
           "arrowhead": 0,
           "arrowwidth": 1
          },
          "coloraxis": {
           "colorbar": {
            "outlinewidth": 0,
            "ticks": ""
           }
          },
          "colorscale": {
           "diverging": [
            [
             0,
             "#8e0152"
            ],
            [
             0.1,
             "#c51b7d"
            ],
            [
             0.2,
             "#de77ae"
            ],
            [
             0.3,
             "#f1b6da"
            ],
            [
             0.4,
             "#fde0ef"
            ],
            [
             0.5,
             "#f7f7f7"
            ],
            [
             0.6,
             "#e6f5d0"
            ],
            [
             0.7,
             "#b8e186"
            ],
            [
             0.8,
             "#7fbc41"
            ],
            [
             0.9,
             "#4d9221"
            ],
            [
             1,
             "#276419"
            ]
           ],
           "sequential": [
            [
             0,
             "#0d0887"
            ],
            [
             0.1111111111111111,
             "#46039f"
            ],
            [
             0.2222222222222222,
             "#7201a8"
            ],
            [
             0.3333333333333333,
             "#9c179e"
            ],
            [
             0.4444444444444444,
             "#bd3786"
            ],
            [
             0.5555555555555556,
             "#d8576b"
            ],
            [
             0.6666666666666666,
             "#ed7953"
            ],
            [
             0.7777777777777778,
             "#fb9f3a"
            ],
            [
             0.8888888888888888,
             "#fdca26"
            ],
            [
             1,
             "#f0f921"
            ]
           ],
           "sequentialminus": [
            [
             0,
             "#0d0887"
            ],
            [
             0.1111111111111111,
             "#46039f"
            ],
            [
             0.2222222222222222,
             "#7201a8"
            ],
            [
             0.3333333333333333,
             "#9c179e"
            ],
            [
             0.4444444444444444,
             "#bd3786"
            ],
            [
             0.5555555555555556,
             "#d8576b"
            ],
            [
             0.6666666666666666,
             "#ed7953"
            ],
            [
             0.7777777777777778,
             "#fb9f3a"
            ],
            [
             0.8888888888888888,
             "#fdca26"
            ],
            [
             1,
             "#f0f921"
            ]
           ]
          },
          "colorway": [
           "#636efa",
           "#EF553B",
           "#00cc96",
           "#ab63fa",
           "#FFA15A",
           "#19d3f3",
           "#FF6692",
           "#B6E880",
           "#FF97FF",
           "#FECB52"
          ],
          "font": {
           "color": "#2a3f5f"
          },
          "geo": {
           "bgcolor": "white",
           "lakecolor": "white",
           "landcolor": "#E5ECF6",
           "showlakes": true,
           "showland": true,
           "subunitcolor": "white"
          },
          "hoverlabel": {
           "align": "left"
          },
          "hovermode": "closest",
          "mapbox": {
           "style": "light"
          },
          "paper_bgcolor": "white",
          "plot_bgcolor": "#E5ECF6",
          "polar": {
           "angularaxis": {
            "gridcolor": "white",
            "linecolor": "white",
            "ticks": ""
           },
           "bgcolor": "#E5ECF6",
           "radialaxis": {
            "gridcolor": "white",
            "linecolor": "white",
            "ticks": ""
           }
          },
          "scene": {
           "xaxis": {
            "backgroundcolor": "#E5ECF6",
            "gridcolor": "white",
            "gridwidth": 2,
            "linecolor": "white",
            "showbackground": true,
            "ticks": "",
            "zerolinecolor": "white"
           },
           "yaxis": {
            "backgroundcolor": "#E5ECF6",
            "gridcolor": "white",
            "gridwidth": 2,
            "linecolor": "white",
            "showbackground": true,
            "ticks": "",
            "zerolinecolor": "white"
           },
           "zaxis": {
            "backgroundcolor": "#E5ECF6",
            "gridcolor": "white",
            "gridwidth": 2,
            "linecolor": "white",
            "showbackground": true,
            "ticks": "",
            "zerolinecolor": "white"
           }
          },
          "shapedefaults": {
           "line": {
            "color": "#2a3f5f"
           }
          },
          "ternary": {
           "aaxis": {
            "gridcolor": "white",
            "linecolor": "white",
            "ticks": ""
           },
           "baxis": {
            "gridcolor": "white",
            "linecolor": "white",
            "ticks": ""
           },
           "bgcolor": "#E5ECF6",
           "caxis": {
            "gridcolor": "white",
            "linecolor": "white",
            "ticks": ""
           }
          },
          "title": {
           "x": 0.05
          },
          "xaxis": {
           "automargin": true,
           "gridcolor": "white",
           "linecolor": "white",
           "ticks": "",
           "title": {
            "standoff": 15
           },
           "zerolinecolor": "white",
           "zerolinewidth": 2
          },
          "yaxis": {
           "automargin": true,
           "gridcolor": "white",
           "linecolor": "white",
           "ticks": "",
           "title": {
            "standoff": 15
           },
           "zerolinecolor": "white",
           "zerolinewidth": 2
          }
         }
        },
        "title": {
         "text": "First Year Total Points per Position"
        },
        "xaxis": {
         "anchor": "y",
         "domain": [
          0,
          1
         ],
         "title": {
          "text": "PTS"
         },
         "type": "log"
        },
        "yaxis": {
         "anchor": "x",
         "domain": [
          0,
          1
         ],
         "title": {
          "text": "POSITION"
         }
        }
       }
      },
      "text/html": [
       "<div>                            <div id=\"942db970-3935-4fd8-a074-705cdd3a46dd\" class=\"plotly-graph-div\" style=\"height:525px; width:100%;\"></div>            <script type=\"text/javascript\">                require([\"plotly\"], function(Plotly) {                    window.PLOTLYENV=window.PLOTLYENV || {};                                    if (document.getElementById(\"942db970-3935-4fd8-a074-705cdd3a46dd\")) {                    Plotly.newPlot(                        \"942db970-3935-4fd8-a074-705cdd3a46dd\",                        [{\"customdata\": [[1845], [1725], [1654], [1624], [1562], [1503], [1441], [1399], [1387], [1361], [1258], [1256], [1252], [1235], [1151], [1143], [1131], [1106], [1106], [1105], [1104], [1068], [1054], [1048], [1028], [991], [981], [975], [955], [944], [899], [880], [867], [864], [861], [846], [826], [821], [814], [810], [799], [796], [780], [769], [768], [753], [751], [748], [742], [741], [715], [711], [705], [662], [627], [599], [587], [587], [581], [565], [559], [543], [533], [525], [525], [511], [507], [501], [499], [498], [494], [494], [488], [487], [476], [476], [475], [463], [461], [436], [426], [388], [359], [353], [345], [304], [304], [283], [277], [265], [246], [243], [228], [227], [208], [201], [190], [180], [170], [165], [140], [131], [114], [109], [104], [78], [74], [56], [51], [33], [32], [13], [3], [0]], \"hovertemplate\": \"<b>%{hovertext}</b><br><br>PTS=%{marker.color}<br>POSITION=%{y}<extra></extra>\", \"hovertext\": [\"Blake Griffin\", \"Carmelo Anthony\", \"LeBron James\", \"Kevin Durant\", \"Damian Lillard\", \"Karl-Anthony Towns\", \"Pau Gasol\", \"Stephen Curry\", \"Andrew Wiggins\", \"Derrick Rose\", \"Chris Paul\", \"Russell Westbrook\", \"Eric Gordon\", \"Ben Gordon\", \"Jason Richardson\", \"DeMarcus Cousins\", \"John Wall\", \"Victor Oladipo\", \"Amar'e Stoudemire\", \"Emeka Okafor\", \"Yao Ming\", \"Brook Lopez\", \"D'Angelo Russell\", \"Devin Booker\", \"Kristaps Porzingis\", \"Dwyane Wade\", \"Dwight Howard\", \"Marc Gasol\", \"Brandon Roy\", \"Kyrie Irving\", \"Kevin Love\", \"Andrei Kirilenko\", \"Anthony Davis\", \"Deron Williams\", \"Chris Bosh\", \"Rudy Gay\", \"Klay Thompson\", \"Al Horford\", \"Kenyon Martin\", \"Carlos Boozer\", \"Kemba Walker\", \"Nikola Jokic\", \"Bradley Beal\", \"Wesley Matthews\", \"Andrew Bogut\", \"James Harden\", \"Greg Monroe\", \"Harrison Barnes\", \"Richard Jefferson\", \"Andre Iguodala\", \"Josh Smith\", \"Luol Deng\", \"Tony Parker\", \"DeMar DeRozan\", \"Joel Embiid\", \"Chandler Parsons\", \"Jrue Holiday\", \"Danny Granger\", \"Joe Johnson\", \"LaMarcus Aldridge\", \"Paul Millsap\", \"Eric Bledsoe\", \"Derrick Favors\", \"Manu Ginobili\", \"Giannis Antetokounmpo\", \"Gilbert Arenas\", \"Kawhi Leonard\", \"Rajon Rondo\", \"Chris Kaman\", \"Mike Conley\", \"Tristan Thompson\", \"Roy Hibbert\", \"Joakim Noah\", \"Ryan Anderson\", \"Andre Drummond\", \"Paul George\", \"Al Jefferson\", \"Nick Collison\", \"Serge Ibaka\", \"Tyson Chandler\", \"Nicolas Batum\", \"Gordon Hayward\", \"Nikola Pekovic\", \"Derrick Favors\", \"David Lee\", \"Joe Johnson\", \"Enes Kanter\", \"Nikola Vucevic\", \"Joe Johnson\", \"Steven Adams\", \"Goran Dragic\", \"Aaron Gordon\", \"DeAndre Jordan\", \"Draymond Green\", \"Tobias Harris\", \"CJ McCollum\", \"Tyler Johnson\", \"Derrick Favors\", \"Danilo Gallinari\", \"Khris Middleton\", \"Reggie Jackson\", \"Kevin Martin\", \"Zach Randolph\", \"Jimmy Butler\", \"Rudy Gobert\", \"Otto Porter Jr.\", \"Andrew Bynum\", \"Kyle Lowry\", \"Samuel Dalembert\", \"Allen Crabbe\", \"Glen Rice\", \"Michael Redd\", \"Patrick Ewing\", \"Hassan Whiteside\"], \"legendgroup\": \"\", \"marker\": {\"color\": [1845, 1725, 1654, 1624, 1562, 1503, 1441, 1399, 1387, 1361, 1258, 1256, 1252, 1235, 1151, 1143, 1131, 1106, 1106, 1105, 1104, 1068, 1054, 1048, 1028, 991, 981, 975, 955, 944, 899, 880, 867, 864, 861, 846, 826, 821, 814, 810, 799, 796, 780, 769, 768, 753, 751, 748, 742, 741, 715, 711, 705, 662, 627, 599, 587, 587, 581, 565, 559, 543, 533, 525, 525, 511, 507, 501, 499, 498, 494, 494, 488, 487, 476, 476, 475, 463, 461, 436, 426, 388, 359, 353, 345, 304, 304, 283, 277, 265, 246, 243, 228, 227, 208, 201, 190, 180, 170, 165, 140, 131, 114, 109, 104, 78, 74, 56, 51, 33, 32, 13, 3, 0], \"coloraxis\": \"coloraxis\", \"size\": [1845, 1725, 1654, 1624, 1562, 1503, 1441, 1399, 1387, 1361, 1258, 1256, 1252, 1235, 1151, 1143, 1131, 1106, 1106, 1105, 1104, 1068, 1054, 1048, 1028, 991, 981, 975, 955, 944, 899, 880, 867, 864, 861, 846, 826, 821, 814, 810, 799, 796, 780, 769, 768, 753, 751, 748, 742, 741, 715, 711, 705, 662, 627, 599, 587, 587, 581, 565, 559, 543, 533, 525, 525, 511, 507, 501, 499, 498, 494, 494, 488, 487, 476, 476, 475, 463, 461, 436, 426, 388, 359, 353, 345, 304, 304, 283, 277, 265, 246, 243, 228, 227, 208, 201, 190, 180, 170, 165, 140, 131, 114, 109, 104, 78, 74, 56, 51, 33, 32, 13, 3, 0], \"sizemode\": \"area\", \"sizeref\": 4.6125, \"symbol\": \"circle\"}, \"mode\": \"markers\", \"name\": \"\", \"orientation\": \"h\", \"showlegend\": false, \"type\": \"scatter\", \"x\": [1845, 1725, 1654, 1624, 1562, 1503, 1441, 1399, 1387, 1361, 1258, 1256, 1252, 1235, 1151, 1143, 1131, 1106, 1106, 1105, 1104, 1068, 1054, 1048, 1028, 991, 981, 975, 955, 944, 899, 880, 867, 864, 861, 846, 826, 821, 814, 810, 799, 796, 780, 769, 768, 753, 751, 748, 742, 741, 715, 711, 705, 662, 627, 599, 587, 587, 581, 565, 559, 543, 533, 525, 525, 511, 507, 501, 499, 498, 494, 494, 488, 487, 476, 476, 475, 463, 461, 436, 426, 388, 359, 353, 345, 304, 304, 283, 277, 265, 246, 243, 228, 227, 208, 201, 190, 180, 170, 165, 140, 131, 114, 109, 104, 78, 74, 56, 51, 33, 32, 13, 3, 0], \"xaxis\": \"x\", \"y\": [\" PF\", \" PF\", \" SF\", \" SF\", \" PG\", \" C\", \" PF\", \" PG\", \" SF\", \" PG\", \" PG\", \" PG\", \" SG\", \" SG\", \" SG\", \" C\", \" PG\", \" SG\", \" C\", \" C\", \" C\", \" C\", \" SG\", \" SG\", \" PF\", \" G\", \" C\", \" C\", \" SG\", \" PG\", \" PF\", \" SF\", \" PF\", \" PG\", \" PF\", \" SF\", \" SG\", \" PF\", \" PF\", \" PF\", \" PG\", \" C\", \" SG\", \" SG\", \" C\", \" SG\", \" C\", \" SF\", \" F\", \" SG\", \" PF\", \" F\", \" G\", \" SF\", \" C\", \" SF\", \" SG\", \" SF\", \" G\", \" PF\", \" PF\", \" PG\", \" C\", \" G\", \" PF\", \" PG\", \" SF\", \" PG\", \" C\", \" PG\", \" C\", \" C\", \" C\", \" PF\", \" C\", \" SG\", \" C\", \" F\", \" C\", \" C\", \" SG\", \" SF\", \" C\", \" C\", \" PF\", \" G\", \" C\", \" C\", \" G\", \" C\", \" PG\", \" PF\", \" C\", \" PF\", \" SF\", \" SG\", \" SG\", \" C\", \" PF\", \" SF\", \" PG\", \" SG\", \" F\", \" SF\", \" C\", \" SF\", \" C\", \" PG\", \" C\", \" G\", \" SF\", \" SG\", \" C\", \" C\"], \"yaxis\": \"y\"}],                        {\"coloraxis\": {\"colorbar\": {\"title\": {\"text\": \"PTS\"}}, \"colorscale\": [[0.0, \"#0d0887\"], [0.1111111111111111, \"#46039f\"], [0.2222222222222222, \"#7201a8\"], [0.3333333333333333, \"#9c179e\"], [0.4444444444444444, \"#bd3786\"], [0.5555555555555556, \"#d8576b\"], [0.6666666666666666, \"#ed7953\"], [0.7777777777777778, \"#fb9f3a\"], [0.8888888888888888, \"#fdca26\"], [1.0, \"#f0f921\"]]}, \"legend\": {\"itemsizing\": \"constant\", \"tracegroupgap\": 0}, \"template\": {\"data\": {\"bar\": [{\"error_x\": {\"color\": \"#2a3f5f\"}, \"error_y\": {\"color\": \"#2a3f5f\"}, \"marker\": {\"line\": {\"color\": \"#E5ECF6\", \"width\": 0.5}}, \"type\": \"bar\"}], \"barpolar\": [{\"marker\": {\"line\": {\"color\": \"#E5ECF6\", \"width\": 0.5}}, \"type\": \"barpolar\"}], \"carpet\": [{\"aaxis\": {\"endlinecolor\": \"#2a3f5f\", \"gridcolor\": \"white\", \"linecolor\": \"white\", \"minorgridcolor\": \"white\", \"startlinecolor\": \"#2a3f5f\"}, \"baxis\": {\"endlinecolor\": \"#2a3f5f\", \"gridcolor\": \"white\", \"linecolor\": \"white\", \"minorgridcolor\": \"white\", \"startlinecolor\": \"#2a3f5f\"}, \"type\": \"carpet\"}], \"choropleth\": [{\"colorbar\": {\"outlinewidth\": 0, \"ticks\": \"\"}, \"type\": \"choropleth\"}], \"contour\": [{\"colorbar\": {\"outlinewidth\": 0, \"ticks\": \"\"}, \"colorscale\": [[0.0, \"#0d0887\"], [0.1111111111111111, \"#46039f\"], [0.2222222222222222, \"#7201a8\"], [0.3333333333333333, \"#9c179e\"], [0.4444444444444444, \"#bd3786\"], [0.5555555555555556, \"#d8576b\"], [0.6666666666666666, \"#ed7953\"], [0.7777777777777778, \"#fb9f3a\"], [0.8888888888888888, \"#fdca26\"], [1.0, \"#f0f921\"]], \"type\": \"contour\"}], \"contourcarpet\": [{\"colorbar\": {\"outlinewidth\": 0, \"ticks\": \"\"}, \"type\": \"contourcarpet\"}], \"heatmap\": [{\"colorbar\": {\"outlinewidth\": 0, \"ticks\": \"\"}, \"colorscale\": [[0.0, \"#0d0887\"], [0.1111111111111111, \"#46039f\"], [0.2222222222222222, \"#7201a8\"], [0.3333333333333333, \"#9c179e\"], [0.4444444444444444, \"#bd3786\"], [0.5555555555555556, \"#d8576b\"], [0.6666666666666666, \"#ed7953\"], [0.7777777777777778, \"#fb9f3a\"], [0.8888888888888888, \"#fdca26\"], [1.0, \"#f0f921\"]], \"type\": \"heatmap\"}], \"heatmapgl\": [{\"colorbar\": {\"outlinewidth\": 0, \"ticks\": \"\"}, \"colorscale\": [[0.0, \"#0d0887\"], [0.1111111111111111, \"#46039f\"], [0.2222222222222222, \"#7201a8\"], [0.3333333333333333, \"#9c179e\"], [0.4444444444444444, \"#bd3786\"], [0.5555555555555556, \"#d8576b\"], [0.6666666666666666, \"#ed7953\"], [0.7777777777777778, \"#fb9f3a\"], [0.8888888888888888, \"#fdca26\"], [1.0, \"#f0f921\"]], \"type\": \"heatmapgl\"}], \"histogram\": [{\"marker\": {\"colorbar\": {\"outlinewidth\": 0, \"ticks\": \"\"}}, \"type\": \"histogram\"}], \"histogram2d\": [{\"colorbar\": {\"outlinewidth\": 0, \"ticks\": \"\"}, \"colorscale\": [[0.0, \"#0d0887\"], [0.1111111111111111, \"#46039f\"], [0.2222222222222222, \"#7201a8\"], [0.3333333333333333, \"#9c179e\"], [0.4444444444444444, \"#bd3786\"], [0.5555555555555556, \"#d8576b\"], [0.6666666666666666, \"#ed7953\"], [0.7777777777777778, \"#fb9f3a\"], [0.8888888888888888, \"#fdca26\"], [1.0, \"#f0f921\"]], \"type\": \"histogram2d\"}], \"histogram2dcontour\": [{\"colorbar\": {\"outlinewidth\": 0, \"ticks\": \"\"}, \"colorscale\": [[0.0, \"#0d0887\"], [0.1111111111111111, \"#46039f\"], [0.2222222222222222, \"#7201a8\"], [0.3333333333333333, \"#9c179e\"], [0.4444444444444444, \"#bd3786\"], [0.5555555555555556, \"#d8576b\"], [0.6666666666666666, \"#ed7953\"], [0.7777777777777778, \"#fb9f3a\"], [0.8888888888888888, \"#fdca26\"], [1.0, \"#f0f921\"]], \"type\": \"histogram2dcontour\"}], \"mesh3d\": [{\"colorbar\": {\"outlinewidth\": 0, \"ticks\": \"\"}, \"type\": \"mesh3d\"}], \"parcoords\": [{\"line\": {\"colorbar\": {\"outlinewidth\": 0, \"ticks\": \"\"}}, \"type\": \"parcoords\"}], \"pie\": [{\"automargin\": true, \"type\": \"pie\"}], \"scatter\": [{\"marker\": {\"colorbar\": {\"outlinewidth\": 0, \"ticks\": \"\"}}, \"type\": \"scatter\"}], \"scatter3d\": [{\"line\": {\"colorbar\": {\"outlinewidth\": 0, \"ticks\": \"\"}}, \"marker\": {\"colorbar\": {\"outlinewidth\": 0, \"ticks\": \"\"}}, \"type\": \"scatter3d\"}], \"scattercarpet\": [{\"marker\": {\"colorbar\": {\"outlinewidth\": 0, \"ticks\": \"\"}}, \"type\": \"scattercarpet\"}], \"scattergeo\": [{\"marker\": {\"colorbar\": {\"outlinewidth\": 0, \"ticks\": \"\"}}, \"type\": \"scattergeo\"}], \"scattergl\": [{\"marker\": {\"colorbar\": {\"outlinewidth\": 0, \"ticks\": \"\"}}, \"type\": \"scattergl\"}], \"scattermapbox\": [{\"marker\": {\"colorbar\": {\"outlinewidth\": 0, \"ticks\": \"\"}}, \"type\": \"scattermapbox\"}], \"scatterpolar\": [{\"marker\": {\"colorbar\": {\"outlinewidth\": 0, \"ticks\": \"\"}}, \"type\": \"scatterpolar\"}], \"scatterpolargl\": [{\"marker\": {\"colorbar\": {\"outlinewidth\": 0, \"ticks\": \"\"}}, \"type\": \"scatterpolargl\"}], \"scatterternary\": [{\"marker\": {\"colorbar\": {\"outlinewidth\": 0, \"ticks\": \"\"}}, \"type\": \"scatterternary\"}], \"surface\": [{\"colorbar\": {\"outlinewidth\": 0, \"ticks\": \"\"}, \"colorscale\": [[0.0, \"#0d0887\"], [0.1111111111111111, \"#46039f\"], [0.2222222222222222, \"#7201a8\"], [0.3333333333333333, \"#9c179e\"], [0.4444444444444444, \"#bd3786\"], [0.5555555555555556, \"#d8576b\"], [0.6666666666666666, \"#ed7953\"], [0.7777777777777778, \"#fb9f3a\"], [0.8888888888888888, \"#fdca26\"], [1.0, \"#f0f921\"]], \"type\": \"surface\"}], \"table\": [{\"cells\": {\"fill\": {\"color\": \"#EBF0F8\"}, \"line\": {\"color\": \"white\"}}, \"header\": {\"fill\": {\"color\": \"#C8D4E3\"}, \"line\": {\"color\": \"white\"}}, \"type\": \"table\"}]}, \"layout\": {\"annotationdefaults\": {\"arrowcolor\": \"#2a3f5f\", \"arrowhead\": 0, \"arrowwidth\": 1}, \"coloraxis\": {\"colorbar\": {\"outlinewidth\": 0, \"ticks\": \"\"}}, \"colorscale\": {\"diverging\": [[0, \"#8e0152\"], [0.1, \"#c51b7d\"], [0.2, \"#de77ae\"], [0.3, \"#f1b6da\"], [0.4, \"#fde0ef\"], [0.5, \"#f7f7f7\"], [0.6, \"#e6f5d0\"], [0.7, \"#b8e186\"], [0.8, \"#7fbc41\"], [0.9, \"#4d9221\"], [1, \"#276419\"]], \"sequential\": [[0.0, \"#0d0887\"], [0.1111111111111111, \"#46039f\"], [0.2222222222222222, \"#7201a8\"], [0.3333333333333333, \"#9c179e\"], [0.4444444444444444, \"#bd3786\"], [0.5555555555555556, \"#d8576b\"], [0.6666666666666666, \"#ed7953\"], [0.7777777777777778, \"#fb9f3a\"], [0.8888888888888888, \"#fdca26\"], [1.0, \"#f0f921\"]], \"sequentialminus\": [[0.0, \"#0d0887\"], [0.1111111111111111, \"#46039f\"], [0.2222222222222222, \"#7201a8\"], [0.3333333333333333, \"#9c179e\"], [0.4444444444444444, \"#bd3786\"], [0.5555555555555556, \"#d8576b\"], [0.6666666666666666, \"#ed7953\"], [0.7777777777777778, \"#fb9f3a\"], [0.8888888888888888, \"#fdca26\"], [1.0, \"#f0f921\"]]}, \"colorway\": [\"#636efa\", \"#EF553B\", \"#00cc96\", \"#ab63fa\", \"#FFA15A\", \"#19d3f3\", \"#FF6692\", \"#B6E880\", \"#FF97FF\", \"#FECB52\"], \"font\": {\"color\": \"#2a3f5f\"}, \"geo\": {\"bgcolor\": \"white\", \"lakecolor\": \"white\", \"landcolor\": \"#E5ECF6\", \"showlakes\": true, \"showland\": true, \"subunitcolor\": \"white\"}, \"hoverlabel\": {\"align\": \"left\"}, \"hovermode\": \"closest\", \"mapbox\": {\"style\": \"light\"}, \"paper_bgcolor\": \"white\", \"plot_bgcolor\": \"#E5ECF6\", \"polar\": {\"angularaxis\": {\"gridcolor\": \"white\", \"linecolor\": \"white\", \"ticks\": \"\"}, \"bgcolor\": \"#E5ECF6\", \"radialaxis\": {\"gridcolor\": \"white\", \"linecolor\": \"white\", \"ticks\": \"\"}}, \"scene\": {\"xaxis\": {\"backgroundcolor\": \"#E5ECF6\", \"gridcolor\": \"white\", \"gridwidth\": 2, \"linecolor\": \"white\", \"showbackground\": true, \"ticks\": \"\", \"zerolinecolor\": \"white\"}, \"yaxis\": {\"backgroundcolor\": \"#E5ECF6\", \"gridcolor\": \"white\", \"gridwidth\": 2, \"linecolor\": \"white\", \"showbackground\": true, \"ticks\": \"\", \"zerolinecolor\": \"white\"}, \"zaxis\": {\"backgroundcolor\": \"#E5ECF6\", \"gridcolor\": \"white\", \"gridwidth\": 2, \"linecolor\": \"white\", \"showbackground\": true, \"ticks\": \"\", \"zerolinecolor\": \"white\"}}, \"shapedefaults\": {\"line\": {\"color\": \"#2a3f5f\"}}, \"ternary\": {\"aaxis\": {\"gridcolor\": \"white\", \"linecolor\": \"white\", \"ticks\": \"\"}, \"baxis\": {\"gridcolor\": \"white\", \"linecolor\": \"white\", \"ticks\": \"\"}, \"bgcolor\": \"#E5ECF6\", \"caxis\": {\"gridcolor\": \"white\", \"linecolor\": \"white\", \"ticks\": \"\"}}, \"title\": {\"x\": 0.05}, \"xaxis\": {\"automargin\": true, \"gridcolor\": \"white\", \"linecolor\": \"white\", \"ticks\": \"\", \"title\": {\"standoff\": 15}, \"zerolinecolor\": \"white\", \"zerolinewidth\": 2}, \"yaxis\": {\"automargin\": true, \"gridcolor\": \"white\", \"linecolor\": \"white\", \"ticks\": \"\", \"title\": {\"standoff\": 15}, \"zerolinecolor\": \"white\", \"zerolinewidth\": 2}}}, \"title\": {\"text\": \"First Year Total Points per Position\"}, \"xaxis\": {\"anchor\": \"y\", \"domain\": [0.0, 1.0], \"title\": {\"text\": \"PTS\"}, \"type\": \"log\"}, \"yaxis\": {\"anchor\": \"x\", \"domain\": [0.0, 1.0], \"title\": {\"text\": \"POSITION\"}}},                        {\"responsive\": true}                    ).then(function(){\n",
       "                            \n",
       "var gd = document.getElementById('942db970-3935-4fd8-a074-705cdd3a46dd');\n",
       "var x = new MutationObserver(function (mutations, observer) {{\n",
       "        var display = window.getComputedStyle(gd).display;\n",
       "        if (!display || display === 'none') {{\n",
       "            console.log([gd, 'removed!']);\n",
       "            Plotly.purge(gd);\n",
       "            observer.disconnect();\n",
       "        }}\n",
       "}});\n",
       "\n",
       "// Listen for the removal of the full notebook cells\n",
       "var notebookContainer = gd.closest('#notebook-container');\n",
       "if (notebookContainer) {{\n",
       "    x.observe(notebookContainer, {childList: true});\n",
       "}}\n",
       "\n",
       "// Listen for the clearing of the current output cell\n",
       "var outputEl = gd.closest('.output');\n",
       "if (outputEl) {{\n",
       "    x.observe(outputEl, {childList: true});\n",
       "}}\n",
       "\n",
       "                        })                };                });            </script>        </div>"
      ]
     },
     "metadata": {},
     "output_type": "display_data"
    }
   ],
   "source": [
    "import plotly.express as px\n",
    "\n",
    "fig = px.scatter(first_year, x=\"PTS\", y=\"POSITION\", log_x=True, hover_name=\"PLAYER_NAME\", hover_data=[\"PTS\"], color=\"PTS\",\n",
    "                 size='PTS', title=\"First Year Total Points per Position\")\n",
    "fig.show()"
   ]
  },
  {
   "cell_type": "markdown",
   "metadata": {},
   "source": [
    "First Year Total Points per Position"
   ]
  },
  {
   "cell_type": "code",
   "execution_count": 45,
   "metadata": {
    "ExecuteTime": {
     "end_time": "2020-09-19T01:04:38.370419Z",
     "start_time": "2020-09-19T01:04:38.276650Z"
    }
   },
   "outputs": [
    {
     "data": {
      "application/vnd.plotly.v1+json": {
       "config": {
        "plotlyServerURL": "https://plot.ly"
       },
       "data": [
        {
         "customdata": [
          [
           12
          ],
          [
           36
          ],
          [
           533
          ],
          [
           4
          ],
          [
           15
          ],
          [
           219
          ],
          [
           2
          ],
          [
           19
          ],
          [
           15
          ],
          [
           288
          ],
          [
           37
          ],
          [
           690
          ],
          [
           251
          ],
          [
           104
          ],
          [
           316
          ],
          [
           45
          ],
          [
           370
          ],
          [
           10
          ],
          [
           2
          ],
          [
           12
          ],
          [
           627
          ],
          [
           185
          ],
          [
           1331
          ],
          [
           1145
          ],
          [
           206
          ],
          [
           150
          ],
          [
           377
          ],
          [
           215
          ],
          [
           34
          ],
          [
           192
          ],
          [
           70
          ],
          [
           86
          ],
          [
           156
          ],
          [
           142
          ],
          [
           115
          ],
          [
           27
          ],
          [
           30
          ],
          [
           107
          ],
          [
           484
          ],
          [
           17
          ],
          [
           2
          ],
          [
           287
          ],
          [
           504
          ],
          [
           330
          ],
          [
           10
          ],
          [
           120
          ],
          [
           6
          ],
          [
           7
          ],
          [
           4
          ],
          [
           11
          ],
          [
           541
          ],
          [
           155
          ],
          [
           55
          ],
          [
           517
          ],
          [
           579
          ],
          [
           71
          ],
          [
           1778
          ],
          [
           990
          ],
          [
           1759
          ],
          [
           684
          ],
          [
           1349
          ],
          [
           455
          ],
          [
           58
          ],
          [
           371
          ],
          [
           389
          ],
          [
           128
          ],
          [
           492
          ],
          [
           0
          ],
          [
           128
          ],
          [
           218
          ],
          [
           107
          ],
          [
           393
          ],
          [
           843
          ],
          [
           667
          ],
          [
           136
          ],
          [
           12
          ],
          [
           53
          ],
          [
           330
          ],
          [
           40
          ],
          [
           332
          ],
          [
           3
          ],
          [
           0
          ],
          [
           466
          ],
          [
           716
          ],
          [
           590
          ],
          [
           983
          ],
          [
           487
          ],
          [
           319
          ],
          [
           197
          ],
          [
           122
          ],
          [
           3
          ],
          [
           419
          ],
          [
           8
          ],
          [
           50
          ],
          [
           318
          ],
          [
           610
          ],
          [
           218
          ],
          [
           237
          ],
          [
           465
          ],
          [
           426
          ],
          [
           279
          ],
          [
           0
          ],
          [
           758
          ],
          [
           9
          ],
          [
           346
          ],
          [
           720
          ],
          [
           62
          ],
          [
           910
          ],
          [
           1308
          ],
          [
           0
          ],
          [
           339
          ],
          [
           229
          ],
          [
           12
          ],
          [
           991
          ],
          [
           9
          ],
          [
           613
          ],
          [
           27
          ],
          [
           485
          ],
          [
           337
          ],
          [
           246
          ],
          [
           241
          ],
          [
           316
          ],
          [
           322
          ],
          [
           583
          ],
          [
           186
          ],
          [
           35
          ],
          [
           93
          ],
          [
           280
          ],
          [
           135
          ],
          [
           17
          ],
          [
           372
          ],
          [
           1399
          ],
          [
           16
          ],
          [
           513
          ],
          [
           10
          ],
          [
           47
          ],
          [
           94
          ],
          [
           974
          ],
          [
           1829
          ],
          [
           5
          ],
          [
           851
          ],
          [
           10
          ],
          [
           722
          ],
          [
           308
          ],
          [
           189
          ],
          [
           414
          ],
          [
           155
          ],
          [
           873
          ],
          [
           39
          ],
          [
           2
          ],
          [
           23
          ],
          [
           2
          ],
          [
           459
          ],
          [
           653
          ],
          [
           90
          ],
          [
           206
          ],
          [
           296
          ],
          [
           779
          ],
          [
           81
          ],
          [
           19
          ],
          [
           729
          ],
          [
           0
          ],
          [
           223
          ],
          [
           6
          ],
          [
           0
          ],
          [
           6
          ],
          [
           1337
          ],
          [
           8
          ],
          [
           35
          ],
          [
           225
          ],
          [
           1243
          ],
          [
           43
          ],
          [
           374
          ],
          [
           0
          ],
          [
           195
          ],
          [
           48
          ],
          [
           57
          ],
          [
           544
          ],
          [
           1188
          ],
          [
           990
          ],
          [
           512
          ],
          [
           469
          ],
          [
           102
          ],
          [
           284
          ],
          [
           271
          ],
          [
           86
          ],
          [
           2
          ],
          [
           663
          ],
          [
           240
          ],
          [
           12
          ],
          [
           525
          ],
          [
           418
          ],
          [
           474
          ],
          [
           66
          ],
          [
           430
          ],
          [
           158
          ],
          [
           16
          ],
          [
           136
          ],
          [
           27
          ],
          [
           43
          ],
          [
           9
          ],
          [
           0
          ],
          [
           75
          ],
          [
           531
          ],
          [
           20
          ],
          [
           100
          ],
          [
           456
          ],
          [
           1352
          ],
          [
           654
          ],
          [
           3
          ],
          [
           25
          ],
          [
           16
          ],
          [
           360
          ],
          [
           1158
          ],
          [
           4
          ],
          [
           10
          ],
          [
           273
          ],
          [
           34
          ],
          [
           59
          ],
          [
           567
          ],
          [
           14
          ],
          [
           445
          ],
          [
           312
          ],
          [
           40
          ],
          [
           26
          ],
          [
           87
          ],
          [
           8
          ],
          [
           2
          ],
          [
           2
          ],
          [
           15
          ],
          [
           17
          ],
          [
           0
          ],
          [
           589
          ],
          [
           699
          ],
          [
           1141
          ],
          [
           1445
          ],
          [
           1445
          ],
          [
           1445
          ],
          [
           524
          ],
          [
           325
          ],
          [
           151
          ],
          [
           861
          ],
          [
           555
          ],
          [
           89
          ],
          [
           338
          ],
          [
           123
          ],
          [
           254
          ],
          [
           838
          ],
          [
           57
          ],
          [
           2
          ],
          [
           1
          ],
          [
           0
          ],
          [
           656
          ],
          [
           783
          ],
          [
           554
          ],
          [
           555
          ],
          [
           625
          ],
          [
           8
          ],
          [
           949
          ],
          [
           9
          ],
          [
           152
          ],
          [
           1017
          ],
          [
           533
          ],
          [
           30
          ],
          [
           556
          ],
          [
           39
          ],
          [
           69
          ],
          [
           135
          ],
          [
           4
          ],
          [
           1079
          ],
          [
           246
          ],
          [
           111
          ],
          [
           82
          ],
          [
           34
          ],
          [
           2
          ],
          [
           36
          ],
          [
           55
          ],
          [
           128
          ],
          [
           229
          ],
          [
           5
          ],
          [
           356
          ],
          [
           61
          ],
          [
           196
          ],
          [
           52
          ],
          [
           523
          ],
          [
           0
          ],
          [
           71
          ],
          [
           38
          ],
          [
           9
          ],
          [
           353
          ],
          [
           218
          ],
          [
           34
          ],
          [
           91
          ],
          [
           161
          ],
          [
           858
          ],
          [
           299
          ],
          [
           63
          ],
          [
           1196
          ],
          [
           98
          ],
          [
           504
          ],
          [
           14
          ],
          [
           8
          ],
          [
           1726
          ],
          [
           196
          ],
          [
           1173
          ],
          [
           6
          ],
          [
           437
          ],
          [
           50
          ],
          [
           12
          ],
          [
           410
          ],
          [
           150
          ],
          [
           2
          ],
          [
           501
          ],
          [
           100
          ],
          [
           213
          ],
          [
           449
          ],
          [
           165
          ],
          [
           539
          ],
          [
           191
          ],
          [
           611
          ],
          [
           38
          ],
          [
           374
          ],
          [
           9
          ],
          [
           370
          ],
          [
           329
          ],
          [
           203
          ],
          [
           34
          ],
          [
           9
          ],
          [
           874
          ],
          [
           43
          ],
          [
           532
          ],
          [
           317
          ],
          [
           636
          ],
          [
           0
          ],
          [
           161
          ],
          [
           127
          ],
          [
           1
          ],
          [
           59
          ],
          [
           11
          ],
          [
           403
          ],
          [
           209
          ],
          [
           412
          ],
          [
           675
          ],
          [
           483
          ],
          [
           556
          ],
          [
           24
          ],
          [
           1221
          ],
          [
           1221
          ],
          [
           36
          ],
          [
           590
          ],
          [
           2061
          ],
          [
           527
          ],
          [
           35
          ],
          [
           440
          ],
          [
           1
          ],
          [
           346
          ],
          [
           142
          ],
          [
           339
          ],
          [
           984
          ],
          [
           316
          ],
          [
           54
          ],
          [
           603
          ],
          [
           106
          ],
          [
           160
          ],
          [
           68
          ],
          [
           35
          ],
          [
           0
          ],
          [
           135
          ],
          [
           559
          ],
          [
           11
          ],
          [
           318
          ],
          [
           27
          ],
          [
           13
          ],
          [
           3
          ],
          [
           719
          ],
          [
           919
          ],
          [
           345
          ],
          [
           342
          ],
          [
           749
          ],
          [
           0
          ],
          [
           3
          ],
          [
           26
          ],
          [
           65
          ],
          [
           764
          ],
          [
           778
          ],
          [
           350
          ],
          [
           747
          ],
          [
           399
          ],
          [
           465
          ],
          [
           1149
          ],
          [
           283
          ],
          [
           286
          ],
          [
           124
          ],
          [
           410
          ],
          [
           263
          ],
          [
           1150
          ],
          [
           132
          ],
          [
           200
          ],
          [
           363
          ],
          [
           7
          ],
          [
           34
          ],
          [
           578
          ],
          [
           1225
          ],
          [
           13
          ],
          [
           13
          ],
          [
           0
          ],
          [
           7
          ],
          [
           8
          ],
          [
           89
          ],
          [
           4
          ],
          [
           4
          ],
          [
           23
          ],
          [
           133
          ],
          [
           36
          ],
          [
           210
          ],
          [
           51
          ],
          [
           314
          ],
          [
           7
          ],
          [
           22
          ],
          [
           625
          ],
          [
           542
          ],
          [
           58
          ],
          [
           75
          ],
          [
           1070
          ],
          [
           887
          ],
          [
           67
          ],
          [
           777
          ],
          [
           171
          ],
          [
           558
          ],
          [
           240
          ],
          [
           29
          ],
          [
           1675
          ],
          [
           1675
          ],
          [
           8
          ],
          [
           0
          ],
          [
           31
          ],
          [
           206
          ],
          [
           203
          ],
          [
           932
          ],
          [
           70
          ],
          [
           11
          ],
          [
           134
          ],
          [
           515
          ],
          [
           374
          ],
          [
           159
          ],
          [
           617
          ],
          [
           143
          ],
          [
           16
          ],
          [
           117
          ],
          [
           60
          ],
          [
           768
          ],
          [
           1292
          ],
          [
           1292
          ],
          [
           52
          ],
          [
           278
          ],
          [
           27
          ],
          [
           22
          ],
          [
           154
          ],
          [
           512
          ],
          [
           432
          ],
          [
           1030
          ],
          [
           1030
          ],
          [
           298
          ],
          [
           729
          ],
          [
           717
          ],
          [
           153
          ],
          [
           356
          ],
          [
           472
          ],
          [
           804
          ],
          [
           656
          ],
          [
           973
          ],
          [
           470
          ],
          [
           138
          ],
          [
           254
          ],
          [
           503
          ],
          [
           69
          ],
          [
           4
          ],
          [
           65
          ],
          [
           44
          ],
          [
           57
          ],
          [
           13
          ],
          [
           66
          ],
          [
           537
          ],
          [
           537
          ],
          [
           98
          ],
          [
           201
          ],
          [
           11
          ],
          [
           626
          ],
          [
           228
          ],
          [
           168
          ],
          [
           966
          ],
          [
           613
          ],
          [
           353
          ],
          [
           153
          ],
          [
           8
          ],
          [
           142
          ],
          [
           332
          ],
          [
           0
          ],
          [
           176
          ],
          [
           77
          ],
          [
           53
          ],
          [
           46
          ],
          [
           231
          ],
          [
           686
          ],
          [
           686
          ],
          [
           243
          ],
          [
           16
          ],
          [
           126
          ],
          [
           1043
          ],
          [
           11
          ],
          [
           6
          ],
          [
           105
          ],
          [
           432
          ],
          [
           94
          ],
          [
           435
          ],
          [
           943
          ],
          [
           6
          ],
          [
           197
          ],
          [
           1
          ],
          [
           89
          ],
          [
           90
          ],
          [
           996
          ],
          [
           216
          ],
          [
           6
          ],
          [
           0
          ],
          [
           710
          ],
          [
           53
          ],
          [
           37
          ],
          [
           16
          ],
          [
           445
          ],
          [
           445
          ],
          [
           445
          ],
          [
           122
          ],
          [
           319
          ],
          [
           424
          ],
          [
           424
          ],
          [
           424
          ],
          [
           3
          ],
          [
           20
          ],
          [
           25
          ],
          [
           17
          ],
          [
           42
          ],
          [
           198
          ],
          [
           177
          ],
          [
           191
          ],
          [
           112
          ],
          [
           65
          ],
          [
           177
          ],
          [
           638
          ],
          [
           339
          ],
          [
           174
          ],
          [
           1695
          ],
          [
           1695
          ],
          [
           1695
          ],
          [
           1695
          ],
          [
           1394
          ],
          [
           1394
          ],
          [
           1394
          ],
          [
           1394
          ],
          [
           248
          ],
          [
           530
          ],
          [
           677
          ],
          [
           939
          ],
          [
           879
          ],
          [
           1095
          ],
          [
           1095
          ],
          [
           1095
          ],
          [
           1095
          ],
          [
           399
          ],
          [
           171
          ],
          [
           152
          ],
          [
           19
          ],
          [
           250
          ],
          [
           29
          ],
          [
           4
          ],
          [
           25
          ],
          [
           1
          ],
          [
           767
          ],
          [
           350
          ],
          [
           784
          ],
          [
           350
          ],
          [
           306
          ],
          [
           44
          ],
          [
           107
          ],
          [
           45
          ],
          [
           89
          ],
          [
           646
          ],
          [
           208
          ],
          [
           62
          ],
          [
           622
          ],
          [
           47
          ],
          [
           592
          ],
          [
           24
          ],
          [
           430
          ],
          [
           98
          ],
          [
           26
          ],
          [
           2
          ],
          [
           48
          ],
          [
           153
          ],
          [
           982
          ],
          [
           252
          ],
          [
           511
          ],
          [
           356
          ],
          [
           665
          ],
          [
           738
          ],
          [
           738
          ],
          [
           738
          ],
          [
           2
          ],
          [
           573
          ],
          [
           1249
          ],
          [
           1249
          ],
          [
           1249
          ],
          [
           1249
          ],
          [
           435
          ],
          [
           99
          ],
          [
           40
          ],
          [
           429
          ],
          [
           403
          ],
          [
           0
          ],
          [
           161
          ],
          [
           0
          ],
          [
           302
          ],
          [
           101
          ],
          [
           250
          ],
          [
           779
          ],
          [
           100
          ],
          [
           28
          ],
          [
           20
          ],
          [
           341
          ],
          [
           200
          ],
          [
           216
          ],
          [
           9
          ],
          [
           916
          ],
          [
           36
          ],
          [
           448
          ],
          [
           91
          ],
          [
           990
          ],
          [
           990
          ],
          [
           404
          ],
          [
           166
          ],
          [
           257
          ],
          [
           921
          ],
          [
           1113
          ],
          [
           126
          ],
          [
           451
          ],
          [
           999
          ],
          [
           0
          ],
          [
           445
          ],
          [
           8
          ],
          [
           608
          ],
          [
           452
          ],
          [
           126
          ],
          [
           421
          ],
          [
           208
          ],
          [
           81
          ],
          [
           7
          ],
          [
           22
          ],
          [
           34
          ],
          [
           56
          ],
          [
           81
          ],
          [
           30
          ],
          [
           111
          ],
          [
           78
          ],
          [
           374
          ],
          [
           0
          ],
          [
           1325
          ],
          [
           1325
          ],
          [
           1325
          ],
          [
           689
          ],
          [
           689
          ],
          [
           689
          ],
          [
           689
          ],
          [
           307
          ],
          [
           1455
          ],
          [
           110
          ],
          [
           143
          ],
          [
           104
          ],
          [
           2
          ],
          [
           37
          ],
          [
           494
          ],
          [
           394
          ],
          [
           455
          ],
          [
           58
          ],
          [
           506
          ],
          [
           506
          ],
          [
           1008
          ],
          [
           923
          ],
          [
           603
          ],
          [
           603
          ],
          [
           603
          ],
          [
           3
          ],
          [
           12
          ],
          [
           15
          ],
          [
           153
          ],
          [
           22
          ],
          [
           957
          ],
          [
           0
          ],
          [
           705
          ],
          [
           705
          ],
          [
           705
          ],
          [
           705
          ],
          [
           22
          ],
          [
           386
          ],
          [
           305
          ],
          [
           1100
          ],
          [
           265
          ],
          [
           69
          ],
          [
           5
          ],
          [
           10
          ],
          [
           506
          ],
          [
           149
          ],
          [
           1359
          ],
          [
           1359
          ],
          [
           14
          ],
          [
           136
          ],
          [
           136
          ],
          [
           136
          ],
          [
           467
          ],
          [
           467
          ],
          [
           467
          ],
          [
           15
          ],
          [
           51
          ],
          [
           20
          ],
          [
           596
          ],
          [
           465
          ],
          [
           131
          ],
          [
           1177
          ],
          [
           1177
          ],
          [
           1177
          ],
          [
           1177
          ],
          [
           1177
          ],
          [
           33
          ],
          [
           204
          ],
          [
           231
          ],
          [
           196
          ],
          [
           933
          ],
          [
           194
          ],
          [
           670
          ],
          [
           10
          ],
          [
           588
          ],
          [
           34
          ],
          [
           205
          ],
          [
           610
          ],
          [
           419
          ],
          [
           1368
          ],
          [
           1368
          ],
          [
           1368
          ],
          [
           1368
          ],
          [
           1368
          ],
          [
           1368
          ],
          [
           1368
          ],
          [
           1368
          ],
          [
           23
          ],
          [
           292
          ],
          [
           490
          ],
          [
           45
          ],
          [
           99
          ],
          [
           2
          ],
          [
           47
          ],
          [
           512
          ],
          [
           1160
          ],
          [
           1160
          ],
          [
           1076
          ],
          [
           1076
          ],
          [
           1076
          ],
          [
           97
          ],
          [
           453
          ],
          [
           484
          ],
          [
           22
          ],
          [
           34
          ],
          [
           106
          ],
          [
           239
          ],
          [
           13
          ],
          [
           399
          ],
          [
           1015
          ],
          [
           1015
          ],
          [
           0
          ],
          [
           557
          ],
          [
           37
          ],
          [
           938
          ],
          [
           186
          ],
          [
           190
          ],
          [
           556
          ],
          [
           29
          ],
          [
           29
          ],
          [
           29
          ],
          [
           29
          ],
          [
           415
          ],
          [
           782
          ],
          [
           782
          ],
          [
           782
          ],
          [
           782
          ],
          [
           782
          ],
          [
           798
          ],
          [
           798
          ],
          [
           798
          ],
          [
           798
          ],
          [
           798
          ],
          [
           798
          ],
          [
           549
          ],
          [
           23
          ],
          [
           88
          ],
          [
           13
          ],
          [
           32
          ],
          [
           589
          ],
          [
           45
          ],
          [
           580
          ],
          [
           340
          ],
          [
           60
          ],
          [
           132
          ],
          [
           27
          ],
          [
           570
          ],
          [
           106
          ],
          [
           33
          ],
          [
           173
          ],
          [
           130
          ],
          [
           77
          ],
          [
           271
          ],
          [
           202
          ],
          [
           319
          ],
          [
           9
          ],
          [
           4
          ],
          [
           21
          ],
          [
           17
          ],
          [
           8
          ],
          [
           651
          ],
          [
           651
          ],
          [
           393
          ],
          [
           239
          ],
          [
           57
          ],
          [
           210
          ],
          [
           62
          ],
          [
           81
          ],
          [
           28
          ],
          [
           34
          ],
          [
           856
          ],
          [
           674
          ],
          [
           6
          ],
          [
           569
          ],
          [
           410
          ],
          [
           572
          ],
          [
           353
          ],
          [
           21
          ],
          [
           35
          ],
          [
           55
          ],
          [
           1410
          ],
          [
           1410
          ],
          [
           1410
          ],
          [
           1410
          ],
          [
           236
          ],
          [
           279
          ],
          [
           537
          ],
          [
           111
          ],
          [
           2
          ],
          [
           32
          ],
          [
           297
          ],
          [
           331
          ],
          [
           42
          ],
          [
           1019
          ],
          [
           229
          ],
          [
           271
          ],
          [
           1012
          ],
          [
           93
          ],
          [
           91
          ],
          [
           2
          ],
          [
           25
          ],
          [
           1373
          ],
          [
           1373
          ],
          [
           1373
          ],
          [
           610
          ],
          [
           2
          ],
          [
           765
          ],
          [
           767
          ],
          [
           136
          ],
          [
           738
          ],
          [
           933
          ],
          [
           361
          ],
          [
           106
          ],
          [
           808
          ],
          [
           808
          ],
          [
           808
          ],
          [
           808
          ],
          [
           53
          ],
          [
           653
          ],
          [
           774
          ],
          [
           134
          ],
          [
           163
          ],
          [
           359
          ],
          [
           151
          ],
          [
           1300
          ],
          [
           1300
          ],
          [
           1145
          ],
          [
           1145
          ],
          [
           1145
          ],
          [
           574
          ],
          [
           998
          ],
          [
           998
          ],
          [
           998
          ],
          [
           998
          ],
          [
           998
          ],
          [
           998
          ],
          [
           998
          ],
          [
           53
          ],
          [
           0
          ],
          [
           41
          ],
          [
           39
          ],
          [
           74
          ],
          [
           323
          ],
          [
           18
          ],
          [
           185
          ],
          [
           0
          ],
          [
           10
          ],
          [
           933
          ],
          [
           1039
          ],
          [
           67
          ],
          [
           223
          ],
          [
           184
          ],
          [
           39
          ],
          [
           10
          ],
          [
           29
          ],
          [
           34
          ],
          [
           134
          ],
          [
           198
          ],
          [
           482
          ],
          [
           78
          ],
          [
           56
          ],
          [
           348
          ],
          [
           406
          ],
          [
           284
          ],
          [
           689
          ],
          [
           518
          ],
          [
           99
          ],
          [
           842
          ],
          [
           842
          ],
          [
           842
          ],
          [
           842
          ],
          [
           842
          ],
          [
           842
          ],
          [
           842
          ],
          [
           842
          ],
          [
           430
          ],
          [
           521
          ],
          [
           143
          ],
          [
           487
          ],
          [
           487
          ],
          [
           6
          ],
          [
           939
          ],
          [
           630
          ],
          [
           189
          ],
          [
           62
          ],
          [
           1619
          ],
          [
           1619
          ],
          [
           1619
          ],
          [
           1619
          ],
          [
           1619
          ],
          [
           53
          ],
          [
           453
          ],
          [
           23
          ],
          [
           12
          ],
          [
           11
          ],
          [
           1322
          ],
          [
           1322
          ],
          [
           1322
          ],
          [
           1322
          ],
          [
           1322
          ],
          [
           1322
          ],
          [
           1322
          ],
          [
           1322
          ],
          [
           233
          ],
          [
           336
          ],
          [
           336
          ],
          [
           336
          ],
          [
           336
          ],
          [
           657
          ],
          [
           40
          ],
          [
           899
          ],
          [
           1156
          ],
          [
           635
          ],
          [
           1542
          ],
          [
           1542
          ],
          [
           1542
          ],
          [
           1542
          ],
          [
           1542
          ],
          [
           1542
          ],
          [
           1432
          ],
          [
           386
          ],
          [
           59
          ],
          [
           964
          ],
          [
           946
          ],
          [
           946
          ],
          [
           946
          ],
          [
           946
          ],
          [
           774
          ],
          [
           4
          ],
          [
           25
          ],
          [
           503
          ],
          [
           29
          ],
          [
           10
          ],
          [
           532
          ],
          [
           1008
          ],
          [
           1008
          ],
          [
           1008
          ],
          [
           1008
          ],
          [
           1008
          ],
          [
           1008
          ],
          [
           1008
          ],
          [
           1008
          ],
          [
           124
          ],
          [
           141
          ],
          [
           51
          ],
          [
           90
          ],
          [
           28
          ],
          [
           28
          ],
          [
           0
          ],
          [
           539
          ],
          [
           101
          ],
          [
           1221
          ],
          [
           1221
          ],
          [
           1221
          ],
          [
           37
          ],
          [
           0
          ],
          [
           384
          ],
          [
           508
          ],
          [
           23
          ],
          [
           2
          ],
          [
           21
          ],
          [
           1045
          ],
          [
           1045
          ],
          [
           1045
          ],
          [
           1045
          ],
          [
           840
          ],
          [
           8
          ],
          [
           321
          ],
          [
           329
          ],
          [
           24
          ],
          [
           45
          ],
          [
           69
          ],
          [
           539
          ],
          [
           145
          ],
          [
           11
          ],
          [
           36
          ],
          [
           885
          ],
          [
           70
          ],
          [
           224
          ],
          [
           647
          ],
          [
           375
          ],
          [
           375
          ],
          [
           375
          ],
          [
           4
          ],
          [
           6
          ],
          [
           638
          ],
          [
           138
          ],
          [
           6
          ],
          [
           410
          ],
          [
           0
          ],
          [
           1044
          ],
          [
           537
          ],
          [
           537
          ],
          [
           43
          ],
          [
           4
          ],
          [
           196
          ],
          [
           323
          ],
          [
           209
          ],
          [
           42
          ],
          [
           10
          ],
          [
           116
          ],
          [
           11
          ],
          [
           72
          ],
          [
           15
          ],
          [
           7
          ],
          [
           46
          ],
          [
           96
          ],
          [
           5
          ],
          [
           41
          ],
          [
           876
          ],
          [
           111
          ],
          [
           4
          ],
          [
           1194
          ],
          [
           93
          ],
          [
           80
          ],
          [
           1145
          ],
          [
           0
          ],
          [
           977
          ],
          [
           15
          ],
          [
           239
          ],
          [
           1184
          ],
          [
           372
          ],
          [
           264
          ],
          [
           108
          ],
          [
           199
          ],
          [
           11
          ],
          [
           162
          ],
          [
           263
          ],
          [
           93
          ],
          [
           24
          ],
          [
           530
          ],
          [
           1290
          ],
          [
           237
          ],
          [
           70
          ],
          [
           1058
          ],
          [
           356
          ],
          [
           525
          ],
          [
           895
          ],
          [
           895
          ],
          [
           895
          ],
          [
           895
          ],
          [
           193
          ],
          [
           2
          ],
          [
           49
          ],
          [
           773
          ],
          [
           773
          ],
          [
           773
          ],
          [
           773
          ],
          [
           773
          ],
          [
           5
          ],
          [
           894
          ],
          [
           19
          ],
          [
           372
          ],
          [
           13
          ],
          [
           92
          ],
          [
           298
          ],
          [
           9
          ],
          [
           577
          ],
          [
           1871
          ],
          [
           1871
          ],
          [
           1871
          ],
          [
           1871
          ],
          [
           1871
          ],
          [
           1871
          ],
          [
           1871
          ],
          [
           1871
          ],
          [
           63
          ],
          [
           686
          ],
          [
           363
          ],
          [
           892
          ],
          [
           80
          ],
          [
           730
          ],
          [
           393
          ],
          [
           184
          ],
          [
           144
          ],
          [
           8
          ],
          [
           68
          ],
          [
           153
          ],
          [
           85
          ],
          [
           123
          ],
          [
           1416
          ],
          [
           1416
          ],
          [
           2
          ],
          [
           48
          ],
          [
           22
          ],
          [
           40
          ],
          [
           179
          ],
          [
           140
          ],
          [
           605
          ],
          [
           0
          ],
          [
           10
          ],
          [
           168
          ],
          [
           465
          ],
          [
           1632
          ],
          [
           1632
          ],
          [
           1632
          ],
          [
           1632
          ],
          [
           1632
          ],
          [
           749
          ],
          [
           56
          ],
          [
           40
          ],
          [
           4
          ],
          [
           814
          ],
          [
           445
          ],
          [
           510
          ],
          [
           661
          ],
          [
           661
          ],
          [
           661
          ],
          [
           661
          ],
          [
           661
          ],
          [
           135
          ],
          [
           180
          ],
          [
           147
          ],
          [
           35
          ],
          [
           35
          ],
          [
           791
          ],
          [
           791
          ],
          [
           791
          ],
          [
           8
          ],
          [
           4
          ],
          [
           4
          ],
          [
           313
          ],
          [
           178
          ],
          [
           15
          ],
          [
           36
          ],
          [
           51
          ],
          [
           914
          ],
          [
           224
          ],
          [
           109
          ],
          [
           727
          ],
          [
           100
          ],
          [
           146
          ],
          [
           153
          ],
          [
           1350
          ],
          [
           1350
          ],
          [
           1350
          ],
          [
           1350
          ],
          [
           1350
          ],
          [
           1350
          ],
          [
           1350
          ],
          [
           1350
          ],
          [
           1350
          ],
          [
           54
          ],
          [
           31
          ],
          [
           3
          ],
          [
           692
          ],
          [
           34
          ],
          [
           437
          ],
          [
           9
          ],
          [
           18
          ],
          [
           145
          ],
          [
           114
          ],
          [
           105
          ],
          [
           28
          ],
          [
           354
          ],
          [
           191
          ],
          [
           409
          ],
          [
           40
          ],
          [
           464
          ],
          [
           792
          ],
          [
           255
          ],
          [
           575
          ],
          [
           502
          ],
          [
           30
          ],
          [
           283
          ],
          [
           598
          ],
          [
           462
          ],
          [
           9
          ],
          [
           474
          ],
          [
           6
          ],
          [
           1297
          ],
          [
           1297
          ],
          [
           1297
          ],
          [
           1297
          ],
          [
           1297
          ],
          [
           1297
          ],
          [
           366
          ],
          [
           67
          ],
          [
           1093
          ],
          [
           574
          ],
          [
           15
          ],
          [
           243
          ],
          [
           123
          ],
          [
           502
          ],
          [
           349
          ],
          [
           111
          ],
          [
           3
          ],
          [
           17
          ],
          [
           1104
          ],
          [
           1104
          ],
          [
           1104
          ],
          [
           1104
          ],
          [
           1104
          ],
          [
           1104
          ],
          [
           1104
          ],
          [
           1104
          ],
          [
           1104
          ],
          [
           1104
          ],
          [
           1104
          ],
          [
           98
          ],
          [
           99
          ],
          [
           42
          ],
          [
           40
          ],
          [
           138
          ],
          [
           386
          ],
          [
           872
          ],
          [
           101
          ],
          [
           645
          ],
          [
           809
          ],
          [
           809
          ],
          [
           809
          ],
          [
           809
          ],
          [
           439
          ],
          [
           383
          ],
          [
           113
          ],
          [
           273
          ],
          [
           283
          ],
          [
           839
          ],
          [
           98
          ],
          [
           684
          ],
          [
           621
          ],
          [
           621
          ],
          [
           621
          ],
          [
           668
          ],
          [
           65
          ],
          [
           20
          ],
          [
           637
          ],
          [
           637
          ],
          [
           637
          ],
          [
           637
          ],
          [
           262
          ],
          [
           12
          ],
          [
           104
          ],
          [
           116
          ],
          [
           1045
          ],
          [
           63
          ],
          [
           1272
          ],
          [
           0
          ],
          [
           47
          ],
          [
           416
          ],
          [
           192
          ],
          [
           184
          ],
          [
           58
          ],
          [
           1142
          ],
          [
           1142
          ],
          [
           503
          ],
          [
           45
          ],
          [
           154
          ],
          [
           19
          ],
          [
           12
          ],
          [
           206
          ],
          [
           881
          ],
          [
           946
          ],
          [
           843
          ],
          [
           471
          ],
          [
           33
          ],
          [
           179
          ],
          [
           126
          ],
          [
           23
          ],
          [
           85
          ],
          [
           334
          ],
          [
           258
          ],
          [
           643
          ],
          [
           403
          ],
          [
           121
          ],
          [
           74
          ],
          [
           1349
          ],
          [
           464
          ],
          [
           464
          ],
          [
           464
          ],
          [
           464
          ],
          [
           464
          ],
          [
           43
          ],
          [
           1080
          ],
          [
           583
          ],
          [
           301
          ],
          [
           44
          ],
          [
           147
          ],
          [
           778
          ],
          [
           742
          ],
          [
           542
          ],
          [
           165
          ],
          [
           554
          ],
          [
           99
          ],
          [
           264
          ],
          [
           325
          ],
          [
           78
          ],
          [
           385
          ],
          [
           493
          ],
          [
           38
          ],
          [
           9
          ],
          [
           6
          ],
          [
           250
          ],
          [
           58
          ],
          [
           75
          ],
          [
           422
          ],
          [
           3
          ],
          [
           22
          ],
          [
           38
          ],
          [
           344
          ],
          [
           344
          ],
          [
           344
          ],
          [
           219
          ],
          [
           113
          ],
          [
           141
          ],
          [
           275
          ],
          [
           905
          ],
          [
           423
          ],
          [
           96
          ],
          [
           80
          ],
          [
           317
          ],
          [
           292
          ],
          [
           22
          ],
          [
           321
          ],
          [
           1063
          ],
          [
           188
          ],
          [
           73
          ],
          [
           836
          ],
          [
           536
          ],
          [
           647
          ],
          [
           352
          ],
          [
           494
          ],
          [
           1292
          ],
          [
           1292
          ],
          [
           1292
          ],
          [
           1292
          ],
          [
           1292
          ],
          [
           1292
          ],
          [
           1292
          ],
          [
           1292
          ],
          [
           1292
          ],
          [
           260
          ],
          [
           1007
          ],
          [
           1007
          ],
          [
           1007
          ],
          [
           1007
          ],
          [
           1007
          ],
          [
           1007
          ],
          [
           369
          ],
          [
           902
          ],
          [
           902
          ],
          [
           902
          ],
          [
           247
          ],
          [
           878
          ],
          [
           70
          ],
          [
           1112
          ],
          [
           1112
          ],
          [
           1112
          ],
          [
           1112
          ],
          [
           437
          ],
          [
           217
          ],
          [
           636
          ],
          [
           164
          ],
          [
           186
          ],
          [
           958
          ],
          [
           553
          ],
          [
           48
          ],
          [
           458
          ],
          [
           1361
          ],
          [
           1361
          ],
          [
           1361
          ],
          [
           1361
          ],
          [
           1361
          ],
          [
           1361
          ],
          [
           1361
          ],
          [
           1361
          ],
          [
           1361
          ],
          [
           1361
          ],
          [
           942
          ],
          [
           95
          ],
          [
           2175
          ],
          [
           2175
          ],
          [
           2175
          ],
          [
           2175
          ],
          [
           2175
          ],
          [
           2175
          ],
          [
           2175
          ],
          [
           2175
          ],
          [
           2175
          ],
          [
           2175
          ],
          [
           2175
          ],
          [
           2175
          ],
          [
           19
          ],
          [
           15
          ],
          [
           650
          ],
          [
           33
          ],
          [
           95
          ],
          [
           224
          ],
          [
           23
          ],
          [
           248
          ],
          [
           200
          ],
          [
           115
          ],
          [
           71
          ],
          [
           44
          ],
          [
           0
          ],
          [
           372
          ],
          [
           152
          ],
          [
           416
          ],
          [
           12
          ],
          [
           1854
          ],
          [
           1854
          ],
          [
           1854
          ],
          [
           1854
          ],
          [
           1854
          ],
          [
           1854
          ],
          [
           1854
          ],
          [
           1854
          ],
          [
           1854
          ],
          [
           1854
          ],
          [
           458
          ],
          [
           67
          ],
          [
           442
          ],
          [
           545
          ],
          [
           416
          ],
          [
           1206
          ],
          [
           13
          ],
          [
           688
          ],
          [
           319
          ],
          [
           41
          ],
          [
           15
          ],
          [
           26
          ],
          [
           572
          ],
          [
           117
          ],
          [
           371
          ],
          [
           814
          ],
          [
           870
          ],
          [
           314
          ],
          [
           238
          ],
          [
           714
          ],
          [
           105
          ],
          [
           229
          ],
          [
           198
          ],
          [
           9
          ],
          [
           149
          ],
          [
           824
          ],
          [
           1558
          ],
          [
           1558
          ],
          [
           1558
          ],
          [
           1558
          ],
          [
           1558
          ],
          [
           1558
          ],
          [
           1558
          ],
          [
           1558
          ],
          [
           1558
          ],
          [
           1558
          ],
          [
           1558
          ],
          [
           191
          ],
          [
           161
          ],
          [
           164
          ],
          [
           314
          ],
          [
           27
          ],
          [
           608
          ],
          [
           163
          ],
          [
           2
          ],
          [
           6
          ],
          [
           233
          ],
          [
           44
          ],
          [
           25
          ],
          [
           397
          ],
          [
           110
          ],
          [
           841
          ],
          [
           8
          ],
          [
           1162
          ],
          [
           1162
          ],
          [
           1162
          ],
          [
           1162
          ],
          [
           1162
          ],
          [
           1162
          ],
          [
           1162
          ],
          [
           138
          ],
          [
           287
          ],
          [
           1133
          ],
          [
           1133
          ],
          [
           1133
          ],
          [
           1133
          ],
          [
           1133
          ],
          [
           1133
          ],
          [
           1133
          ],
          [
           1133
          ],
          [
           118
          ],
          [
           908
          ],
          [
           207
          ],
          [
           106
          ],
          [
           464
          ],
          [
           304
          ],
          [
           1
          ],
          [
           623
          ],
          [
           682
          ],
          [
           495
          ],
          [
           60
          ],
          [
           41
          ],
          [
           22
          ],
          [
           18
          ],
          [
           14
          ],
          [
           84
          ],
          [
           1
          ],
          [
           76
          ],
          [
           8
          ],
          [
           0
          ],
          [
           150
          ],
          [
           234
          ],
          [
           559
          ],
          [
           93
          ],
          [
           50
          ],
          [
           2
          ],
          [
           251
          ],
          [
           219
          ],
          [
           175
          ],
          [
           466
          ],
          [
           652
          ],
          [
           49
          ],
          [
           29
          ],
          [
           914
          ],
          [
           46
          ],
          [
           443
          ],
          [
           32
          ],
          [
           95
          ],
          [
           2
          ],
          [
           877
          ],
          [
           157
          ],
          [
           224
          ],
          [
           987
          ],
          [
           987
          ],
          [
           987
          ],
          [
           489
          ],
          [
           338
          ],
          [
           34
          ],
          [
           21
          ],
          [
           1431
          ],
          [
           1431
          ],
          [
           1431
          ],
          [
           1431
          ],
          [
           1431
          ],
          [
           53
          ],
          [
           2
          ],
          [
           746
          ],
          [
           1
          ],
          [
           3
          ],
          [
           217
          ],
          [
           459
          ],
          [
           93
          ],
          [
           96
          ],
          [
           664
          ],
          [
           29
          ],
          [
           1013
          ],
          [
           424
          ],
          [
           22
          ],
          [
           194
          ],
          [
           53
          ],
          [
           767
          ],
          [
           145
          ],
          [
           593
          ],
          [
           664
          ],
          [
           22
          ],
          [
           173
          ],
          [
           1555
          ],
          [
           1555
          ],
          [
           1555
          ],
          [
           1555
          ],
          [
           1555
          ],
          [
           1555
          ],
          [
           1555
          ],
          [
           1555
          ],
          [
           1555
          ],
          [
           433
          ],
          [
           650
          ],
          [
           120
          ],
          [
           1282
          ],
          [
           1282
          ],
          [
           963
          ],
          [
           963
          ],
          [
           963
          ],
          [
           963
          ],
          [
           963
          ],
          [
           963
          ],
          [
           963
          ],
          [
           120
          ],
          [
           501
          ],
          [
           1269
          ],
          [
           1269
          ],
          [
           1269
          ],
          [
           1269
          ],
          [
           1269
          ],
          [
           1269
          ],
          [
           1497
          ],
          [
           1497
          ],
          [
           1497
          ],
          [
           1497
          ],
          [
           1497
          ],
          [
           923
          ],
          [
           460
          ],
          [
           771
          ],
          [
           130
          ],
          [
           305
          ],
          [
           0
          ],
          [
           566
          ],
          [
           164
          ],
          [
           803
          ],
          [
           803
          ],
          [
           803
          ],
          [
           803
          ],
          [
           803
          ],
          [
           803
          ],
          [
           803
          ],
          [
           803
          ],
          [
           803
          ],
          [
           803
          ],
          [
           756
          ],
          [
           28
          ],
          [
           0
          ],
          [
           24
          ],
          [
           342
          ],
          [
           121
          ],
          [
           691
          ],
          [
           691
          ],
          [
           691
          ],
          [
           691
          ],
          [
           691
          ],
          [
           724
          ],
          [
           45
          ],
          [
           24
          ],
          [
           182
          ],
          [
           6
          ],
          [
           119
          ],
          [
           94
          ],
          [
           1242
          ],
          [
           1242
          ],
          [
           1242
          ],
          [
           1242
          ],
          [
           650
          ],
          [
           650
          ],
          [
           650
          ],
          [
           650
          ],
          [
           650
          ],
          [
           650
          ],
          [
           650
          ],
          [
           650
          ],
          [
           650
          ],
          [
           650
          ],
          [
           182
          ],
          [
           7
          ],
          [
           5
          ],
          [
           849
          ],
          [
           180
          ],
          [
           220
          ],
          [
           80
          ],
          [
           338
          ],
          [
           42
          ],
          [
           22
          ],
          [
           132
          ],
          [
           123
          ],
          [
           9
          ],
          [
           607
          ],
          [
           65
          ],
          [
           9
          ],
          [
           198
          ],
          [
           5
          ],
          [
           931
          ],
          [
           956
          ],
          [
           254
          ],
          [
           58
          ],
          [
           58
          ],
          [
           270
          ],
          [
           232
          ],
          [
           298
          ],
          [
           38
          ],
          [
           514
          ],
          [
           26
          ],
          [
           883
          ],
          [
           400
          ],
          [
           549
          ],
          [
           602
          ],
          [
           70
          ],
          [
           54
          ],
          [
           699
          ],
          [
           1086
          ],
          [
           1086
          ],
          [
           1086
          ],
          [
           1086
          ],
          [
           1086
          ],
          [
           1086
          ],
          [
           331
          ],
          [
           1076
          ],
          [
           569
          ],
          [
           5
          ],
          [
           185
          ],
          [
           214
          ],
          [
           308
          ],
          [
           55
          ],
          [
           190
          ],
          [
           938
          ],
          [
           779
          ],
          [
           767
          ],
          [
           767
          ],
          [
           767
          ],
          [
           767
          ],
          [
           767
          ],
          [
           767
          ],
          [
           84
          ],
          [
           186
          ],
          [
           325
          ],
          [
           17
          ],
          [
           396
          ],
          [
           851
          ],
          [
           89
          ],
          [
           102
          ],
          [
           491
          ],
          [
           57
          ],
          [
           810
          ],
          [
           20
          ],
          [
           18
          ],
          [
           55
          ],
          [
           52
          ],
          [
           73
          ],
          [
           244
          ],
          [
           296
          ],
          [
           106
          ],
          [
           107
          ],
          [
           16
          ],
          [
           167
          ],
          [
           93
          ],
          [
           338
          ],
          [
           285
          ],
          [
           94
          ],
          [
           324
          ],
          [
           116
          ],
          [
           8
          ],
          [
           803
          ],
          [
           498
          ],
          [
           83
          ],
          [
           1591
          ],
          [
           1591
          ],
          [
           1369
          ],
          [
           1369
          ],
          [
           1369
          ],
          [
           1369
          ],
          [
           342
          ],
          [
           56
          ],
          [
           77
          ],
          [
           86
          ],
          [
           0
          ],
          [
           0
          ],
          [
           249
          ],
          [
           1296
          ],
          [
           461
          ],
          [
           124
          ],
          [
           119
          ],
          [
           1145
          ],
          [
           1145
          ],
          [
           1145
          ],
          [
           1145
          ],
          [
           666
          ],
          [
           193
          ],
          [
           93
          ],
          [
           260
          ],
          [
           338
          ],
          [
           907
          ],
          [
           1411
          ],
          [
           182
          ],
          [
           1131
          ],
          [
           1131
          ],
          [
           1131
          ],
          [
           1131
          ],
          [
           1131
          ],
          [
           389
          ],
          [
           251
          ],
          [
           154
          ],
          [
           101
          ],
          [
           0
          ],
          [
           101
          ],
          [
           293
          ],
          [
           112
          ],
          [
           181
          ],
          [
           483
          ],
          [
           971
          ],
          [
           1490
          ],
          [
           1490
          ],
          [
           1490
          ],
          [
           1490
          ],
          [
           1490
          ],
          [
           1490
          ],
          [
           1490
          ],
          [
           152
          ],
          [
           304
          ],
          [
           140
          ],
          [
           19
          ],
          [
           229
          ],
          [
           1304
          ],
          [
           1304
          ],
          [
           1304
          ],
          [
           1304
          ],
          [
           248
          ],
          [
           528
          ],
          [
           45
          ],
          [
           191
          ],
          [
           13
          ],
          [
           1619
          ],
          [
           690
          ]
         ],
         "hovertemplate": "<b>%{hovertext}</b><br><br>PTS=%{marker.color}<br>POSITION=%{y}<extra></extra>",
         "hovertext": [
          "Dusty Hannahs",
          "Yuta Watanabe",
          "Josh Okogie",
          "Jarrod Uthoff",
          "Jarrod Uthoff",
          "Elie Okobo",
          "Josh Gray",
          "Jarrod Uthoff",
          "Amile Jefferson",
          "Keita Bates-Diop",
          "Keita Bates-Diop",
          "Deandre Ayton",
          "Keita Bates-Diop",
          "Deonte Burton",
          "Harry Giles III",
          "Johnathan Williams",
          "Omari Spellman",
          "Jarred Vanderbilt",
          "Jarred Vanderbilt",
          "Jarred Vanderbilt",
          "Aaron Holiday",
          "Marvin Bagley III",
          "Shai Gilgeous-Alexander",
          "Devonte' Graham",
          "Brandon Goodwin",
          "Robert Williams III",
          "Shake Milton",
          "Rodions Kurucs",
          "Alize Johnson",
          "Dzanan Musa",
          "Gary Clark",
          "Gary Clark",
          "Gary Clark",
          "Chris Chiozza",
          "Chris Chiozza",
          "Chris Chiozza",
          "BJ Johnson",
          "Isaiah Hartenstein",
          "Wendell Carter Jr.",
          "Khyri Thomas",
          "Joe Chealey",
          "Jevon Carter",
          "Svi Mykhailiuk",
          "Isaac Bonga",
          "Jonah Bolden",
          "Theo Pinson",
          "Jonah Bolden",
          "Kostas Antetokounmpo",
          "Jonah Bolden",
          "Antonius Cleveland",
          "Gary Trent Jr.",
          "Allonzo Trier",
          "Thanasis Antetokounmpo",
          "Bruce Brown",
          "Anfernee Simons",
          "Ryan Broekhoff",
          "Trae Young",
          "Jaren Jackson Jr.",
          "Luka Doncic",
          "Kevin Huerter",
          "Collin Sexton",
          "De'Anthony Melton",
          "Chimezie Metu",
          "Frank Jackson",
          "Lonnie Walker IV",
          "Jacob Evans",
          "Landry Shamet",
          "Jacob Evans",
          "Jacob Evans",
          "Chandler Hutchison",
          "Drew Eubanks",
          "Moritz Wagner",
          "Miles Bridges",
          "Mikal Bridges",
          "Kenrich Williams",
          "Josh Magette",
          "Derrick Walton Jr.",
          "Grayson Allen",
          "Melvin Frazier Jr.",
          "Mo Bamba",
          "Daryl Macon",
          "J.P. Macura",
          "Jalen Brunson",
          "Troy Brown Jr.",
          "Mitchell Robinson",
          "Duncan Robinson",
          "Brad Wanamaker",
          "Jerome Robinson",
          "Jerome Robinson",
          "Jerome Robinson",
          "Derrick Walton Jr.",
          "Kevin Knox II",
          "Zhaire Smith",
          "Derrick Walton Jr.",
          "Hamidou Diallo",
          "Donte DiVincenzo",
          "Tyrone Wallace",
          "Justin Jackson",
          "Lonzo Ball",
          "Royce O'Neale",
          "Furkan Korkmaz",
          "John Holland",
          "Thomas Bryant",
          "Tyler Cavanaugh",
          "Justin Jackson",
          "Jonathan Isaac",
          "Sindarius Thornwell",
          "Josh Jackson",
          "Kyle Kuzma",
          "Andre Ingram",
          "Wes Iwundu",
          "Alex Caruso",
          "Isaiah Hicks",
          "Cedi Osman",
          "James Nunnally",
          "Luke Kennard",
          "James Nunnally",
          "Maxi Kleber",
          "Alfonzo McKinnie",
          "Frank Ntilikina",
          "Abdel Nader",
          "Dwayne Bacon",
          "Luke Kornet",
          "Justin Jackson",
          "Semi Ojeleye",
          "Malcolm Miller",
          "Chris Boucher",
          "D.J. Wilson",
          "Dillon Brooks",
          "Tony Bradley",
          "Sterling Brown",
          "De'Aaron Fox",
          "Naz Mitrou-Long",
          "Terrance Ferguson",
          "Scott Machado",
          "Devin Robinson",
          "Guerschon Yabusele",
          "Lauri Markkanen",
          "Donovan Mitchell",
          "Justin Patton",
          "Monte Morris",
          "Jaylen Morris",
          "Dennis Smith Jr.",
          "Dennis Smith Jr.",
          "Kadeem Allen",
          "Dennis Smith Jr.",
          "Markelle Fultz",
          "Jarrett Allen",
          "C.J. Williams",
          "Zhou Qi",
          "Tyler Lydon",
          "Kalin Lucas",
          "Ante Zizic",
          "Malik Monk",
          "Tyler Dorsey",
          "Tyler Dorsey",
          "Tyler Dorsey",
          "Damyean Dotson",
          "Jalen Jones",
          "PJ Dozier",
          "Bam Adebayo",
          "Kobi Simmons",
          "Jordan Bell",
          "Jawun Evans",
          "Jawun Evans",
          "Jawun Evans",
          "Ben Simmons",
          "Caleb Swanigan",
          "Caleb Swanigan",
          "TJ Leaf",
          "Jayson Tatum",
          "Caleb Swanigan",
          "Daniel Theis",
          "Ike Anigbogu",
          "Frank Mason",
          "Milos Teodosic",
          "Daniel Hamilton",
          "Ryan Arcidiacono",
          "John Collins",
          "Bogdan Bogdanovic",
          "Zach Collins",
          "OG Anunoby",
          "Johnathan Motley",
          "Ivan Rabb",
          "Chasson Randle",
          "Walt Lemon Jr.",
          "DJ Stephens",
          "Derrick White",
          "Khem Birch",
          "Davon Reed",
          "Josh Hart",
          "Antonio Blakeney",
          "Shaquille Harrison",
          "Edmond Sumner",
          "Torrey Craig",
          "Damion Lee",
          "Brice Johnson",
          "DeAndre' Bembry",
          "Brice Johnson",
          "Brice Johnson",
          "Joel Bolomboy",
          "Luis Montero",
          "Travis Wear",
          "Dragan Bender",
          "Okaro White",
          "Isaiah Whitehead",
          "Davis Bertans",
          "Jamal Murray",
          "Dejounte Murray",
          "Xavier Munford",
          "Damian Jones",
          "Demetrius Jackson",
          "Deyonta Davis",
          "Taurean Prince",
          "Tim Quarterman",
          "David Stockton",
          "Treveon Graham",
          "Jonathan Gibson",
          "Marcus Georges-Hunt",
          "Jakob Poeltl",
          "Marshall Plumlee",
          "Isaiah Taylor",
          "Quinn Cook",
          "Jack Cooley",
          "Alex Poythress",
          "Malachi Richardson",
          "Demetrius Jackson",
          "Malachi Richardson",
          "Larry Drew II",
          "Larry Drew II",
          "Larry Drew II",
          "Xavier Silas",
          "Pascal Siakam",
          "Kris Dunn",
          "Dario Saric",
          "Joel Embiid",
          "Joel Embiid",
          "Joel Embiid",
          "Tomas Satoransky",
          "Wayne Selden",
          "Henry Ellenson",
          "Domantas Sabonis",
          "Bryn Forbes",
          "Malachi Richardson",
          "Malcolm Delaney",
          "Dorian Finney-Smith",
          "Cheick Diallo",
          "Yogi Ferrell",
          "Kay Felder",
          "Kay Felder",
          "Scotty Hopson",
          "Nicolas Brussino",
          "Fred VanVleet",
          "Denzel Valentine",
          "Tyler Ulis",
          "David Nwaba",
          "Malcolm Brogdon",
          "Demetrius Jackson",
          "Brandon Ingram",
          "Georges Niang",
          "Danuel House Jr.",
          "Jaylen Brown",
          "Andrew Harrison",
          "Gary Payton II",
          "Marquese Chriss",
          "Gary Payton II",
          "Gary Payton II",
          "Willy Hernangomez",
          "Chinanu Onuaku",
          "Buddy Hield",
          "Willy Hernangomez",
          "Willy Hernangomez",
          "Juancho Hernangomez",
          "Georgios Papagiannis",
          "Georgios Papagiannis",
          "Georgios Papagiannis",
          "Kay Felder",
          "Troy Williams",
          "Patrick McCaw",
          "Troy Williams",
          "Thon Maker",
          "Derrick Jones Jr.",
          "Malik Beasley",
          "Derrick Jones Jr.",
          "Skal Labissiere",
          "Mindaugas Kuzminskas",
          "Ron Baker",
          "Wade Baldwin IV",
          "Derrick Jones Jr.",
          "Alex Abrines",
          "Paul Zipser",
          "Jake Layman",
          "Rodney McGruder",
          "Ivica Zubac",
          "Caris LeVert",
          "Timothe Luwawu-Cabarrot",
          "Marcelo Huertas",
          "Kristaps Porzingis",
          "Pat Connaughton",
          "Sam Dekker",
          "Josh Huestis",
          "Edy Tavares",
          "Devin Booker",
          "Justise Winslow",
          "Myles Turner",
          "Edy Tavares",
          "Bobby Portis",
          "Briante Weber",
          "Briante Weber",
          "Terry Rozier",
          "Delon Wright",
          "Edy Tavares",
          "Kelly Oubre Jr.",
          "Raul Neto",
          "Salah Mejri",
          "Larry Nance Jr.",
          "Jarell Martin",
          "Josh Richardson",
          "Boban Marjanovic",
          "Willie Cauley-Stein",
          "Jordan Mickey",
          "Willie Reed",
          "Lamar Patterson",
          "Jerian Grant",
          "Justin Anderson",
          "Justin Anderson",
          "Anthony Brown",
          "Anthony Brown",
          "Frank Kaminsky",
          "Anthony Brown",
          "Justin Anderson",
          "Mario Hezonja",
          "Norman Powell",
          "RJ Hunter",
          "Jordan McRae",
          "Darrun Hilliard",
          "Aaron Harrison",
          "Rakeem Christmas",
          "Axel Toupane",
          "Nemanja Bjelica",
          "Tyus Jones",
          "Dante Exum",
          "Rondae Hollis-Jefferson",
          "Jonathon Simmons",
          "T.J. McConnell",
          "Jarell Eddie",
          "Nikola Jokic",
          "Nikola Jokic",
          "Chris McCullough",
          "Jahlil Okafor",
          "Karl-Anthony Towns",
          "Montrezl Harrell",
          "Chris McCullough",
          "Trey Lyles",
          "Chris McCullough",
          "Alan Williams",
          "Rashad Vaughn",
          "Stanley Johnson",
          "D'Angelo Russell",
          "Cristiano Felicio",
          "Cameron Payne",
          "Emmanuel Mudiay",
          "Cameron Payne",
          "Cameron Payne",
          "Joe Young",
          "Christian Wood",
          "Axel Toupane",
          "Kevon Looney",
          "Richaun Holmes",
          "Axel Toupane",
          "Sean Kilpatrick",
          "Sean Kilpatrick",
          "Justin Harper",
          "Joe Harris",
          "Aaron Gordon",
          "Julius Randle",
          "Sean Kilpatrick",
          "Joe Ingles",
          "Jerami Grant",
          "Jarnell Stokes",
          "Bruno Caboclo",
          "Mitch McGary",
          "Lucas Nogueira",
          "Doug McDermott",
          "Elfrid Payton",
          "Kyle Anderson",
          "Nerlens Noel",
          "Dwight Powell",
          "Joffrey Lauvergne",
          "Rodney Hood",
          "Noah Vonleh",
          "PJ Hairston",
          "PJ Hairston",
          "PJ Hairston",
          "Jusuf Nurkic",
          "Zach LaVine",
          "Adreian Payne",
          "Johnny O'Bryant III",
          "Markel Brown",
          "Jarnell Stokes",
          "Cameron Bairstow",
          "JaMychal Green",
          "Jordan Clarkson",
          "Erick Green",
          "Erick Green",
          "Erick Green",
          "Jarnell Stokes",
          "Bryce Cotton",
          "KJ McDaniels",
          "Bryce Cotton",
          "Bryce Cotton",
          "Russ Smith",
          "Tarik Black",
          "Elijah Millsap",
          "Tim Frazier",
          "Tim Frazier",
          "Tyler Johnson",
          "Jordan Adams",
          "Cory Jefferson",
          "Langston Galloway",
          "Clint Capela",
          "Spencer Dinwiddie",
          "Damjan Rudez",
          "Jabari Parker",
          "Bojan Bogdanovic",
          "Kostas Papanikolaou",
          "Nikola Mirotic",
          "Glenn Robinson III",
          "Marcus Smart",
          "JaKarr Sampson",
          "James Young",
          "Andrew Wiggins",
          "Andrew Wiggins",
          "Eric Moreland",
          "James Ennis III",
          "Cleanthony Early",
          "Tyler Ennis",
          "Shabazz Napier",
          "Gary Harris",
          "C.J. Wilcox",
          "Shayne Whittington",
          "JaKarr Sampson",
          "T.J. Warren",
          "JaKarr Sampson",
          "James Ennis III",
          "Nik Stauskas",
          "James Ennis III",
          "James Ennis III",
          "James Michael McAdoo",
          "Devyn Marble",
          "Dennis Schroder",
          "Victor Oladipo",
          "Victor Oladipo",
          "Dwight Buycks",
          "Isaiah Canaan",
          "Arinze Onuaku",
          "Vander Blue",
          "Isaiah Canaan",
          "Shabazz Muhammad",
          "Isaiah Canaan",
          "Giannis Antetokounmpo",
          "Giannis Antetokounmpo",
          "Anthony Bennett",
          "Solomon Hill",
          "Mason Plumlee",
          "Justin Hamilton",
          "Pero Antic",
          "Cody Zeller",
          "Tim Hardaway Jr.",
          "Kelly Olynyk",
          "Trey Burke",
          "Shane Larkin",
          "Jerome Jordan",
          "Justin Holiday",
          "Ray McCallum",
          "Reggie Bullock",
          "Reggie Bullock",
          "Reggie Bullock",
          "Ian Clark",
          "Ian Clark",
          "Ian Clark",
          "Justin Hamilton",
          "Steven Adams",
          "Steven Adams",
          "Jeff Withey",
          "Festus Ezeli",
          "Glen Rice",
          "Hollis Thompson",
          "Andre Roberson",
          "Allen Crabbe",
          "Michael Carter-Williams",
          "Michael Carter-Williams",
          "Michael Carter-Williams",
          "Sergey Karasev",
          "Miroslav Raduljica",
          "Brandon Davies",
          "Ryan Kelly",
          "Seth Curry",
          "Troy Daniels",
          "Troy Daniels",
          "Troy Daniels",
          "Troy Daniels",
          "Archie Goodwin",
          "Rudy Gobert",
          "Rudy Gobert",
          "Nick Calathes",
          "Brandon Davies",
          "Brandon Davies",
          "Kentavious Caldwell-Pope",
          "Gigi Datome",
          "Gal Mekel",
          "Gigi Datome",
          "Alex Len",
          "Gigi Datome",
          "Tony Snell",
          "Robert Covington",
          "Toure' Murry",
          "Mike Muscala",
          "Ricky Ledo",
          "Ricky Ledo",
          "Ricky Ledo",
          "Ben McLemore",
          "Dewayne Dedmon",
          "Toure' Murry",
          "Toure' Murry",
          "Gorgui Dieng",
          "Jorge Gutierrez",
          "Jorge Gutierrez",
          "Jorge Gutierrez",
          "Otto Porter Jr.",
          "Otto Porter Jr.",
          "Otto Porter Jr.",
          "Lorenzo Brown",
          "Matthew Dellavedova",
          "CJ McCollum",
          "CJ McCollum",
          "CJ McCollum",
          "Jamaal Franklin",
          "Ognjen Kuzmic",
          "Nate Wolters",
          "Nate Wolters",
          "Nate Wolters",
          "Robbie Hummel",
          "Phil Pressey",
          "Doron Lamb",
          "Nando De Colo",
          "Nando De Colo",
          "Nando De Colo",
          "Evan Fournier",
          "Thomas Robinson",
          "Joel Freeland",
          "Damian Lillard",
          "Damian Lillard",
          "Damian Lillard",
          "Damian Lillard",
          "Anthony Davis",
          "Anthony Davis",
          "Anthony Davis",
          "Anthony Davis",
          "Diante Garrett",
          "Austin Rivers",
          "Brian Roberts",
          "Tony Wroten",
          "Terrence Ross",
          "Andre Drummond",
          "Andre Drummond",
          "Andre Drummond",
          "Andre Drummond",
          "Tyler Zeller",
          "Quincy Acy",
          "Quincy Acy",
          "Quincy Acy",
          "Alexey Shved",
          "Tornike Shengelia",
          "Tornike Shengelia",
          "Tornike Shengelia",
          "Mustafa Shakur",
          "Mike Scott",
          "Robert Sacre",
          "Kyle Singler",
          "Henry Sims",
          "Henry Sims",
          "Henry Sims",
          "Marquis Teague",
          "Marquis Teague",
          "Tyshawn Taylor",
          "Miles Plumlee",
          "Jeffery Taylor",
          "Marquis Teague",
          "Mirza Teletovic",
          "Victor Claver",
          "Maurice Harkless",
          "Jared Cunningham",
          "Kendall Marshall",
          "Meyers Leonard",
          "Jared Cunningham",
          "Jared Cunningham",
          "Chris Wright",
          "Chris Copeland",
          "Jared Sullinger",
          "Pablo Prigioni",
          "Draymond Green",
          "Jae Crowder",
          "Jeremy Lamb",
          "Harrison Barnes",
          "Harrison Barnes",
          "Harrison Barnes",
          "Maalik Wayns",
          "Patrick Beverley",
          "Bradley Beal",
          "Bradley Beal",
          "Bradley Beal",
          "Bradley Beal",
          "Andrew Nicholson",
          "Jarvis Varnado",
          "John Jenkins",
          "Kyle O'Quinn",
          "Kent Bazemore",
          "Jarvis Varnado",
          "Aron Baynes",
          "Darius Johnson-Odom",
          "Kent Bazemore",
          "Kent Bazemore",
          "Chris Johnson",
          "John Henson",
          "Orlando Johnson",
          "Bernard James",
          "Viacheslav Kravtsov",
          "Donatas Motiejunas",
          "Darius Miller",
          "Perry Jones III",
          "Orlando Johnson",
          "Jonas Valanciunas",
          "Arnett Moultrie",
          "Michael Kidd-Gilchrist",
          "Orlando Johnson",
          "Khris Middleton",
          "Khris Middleton",
          "Elliot Williams",
          "Will Barton",
          "Quincy Miller",
          "Terrence Jones",
          "Dion Waiters",
          "Cory Joseph",
          "Alec Burks",
          "Brandon Knight",
          "Justin Dentmon",
          "Norris Cole",
          "Tyler Honeycutt",
          "Ricky Rubio",
          "Ivan Johnson",
          "Jan Vesely",
          "Greg Smith",
          "Jordan Hamilton",
          "Donald Sloan",
          "Julyan Stone",
          "Jon Leuer",
          "Jon Leuer",
          "Jon Leuer",
          "Charles Jenkins",
          "Charles Jenkins",
          "Charles Jenkins",
          "Malcolm Lee",
          "Reggie Jackson",
          "Andrew Goudelock",
          "Kyrie Irving",
          "Kyrie Irving",
          "Kyrie Irving",
          "Kawhi Leonard",
          "Kawhi Leonard",
          "Kawhi Leonard",
          "Kawhi Leonard",
          "Greg Stiemsma",
          "Kemba Walker",
          "Nolan Smith",
          "Shelvin Mack",
          "Shelvin Mack",
          "Shelvin Mack",
          "Shelvin Mack",
          "Jimmer Fredette",
          "MarShon Brooks",
          "Lavoy Allen",
          "DeAndre Liggins",
          "Enes Kanter",
          "Enes Kanter",
          "Nikola Vucevic",
          "Kenneth Faried",
          "Tobias Harris",
          "Tobias Harris",
          "Tobias Harris",
          "Malcolm Thomas",
          "Malcolm Thomas",
          "Malcolm Thomas",
          "Gustavo Ayon",
          "Jeremy Tyler",
          "Tristan Thompson",
          "Jeremy Tyler",
          "Jimmy Butler",
          "Jimmy Butler",
          "Jimmy Butler",
          "Jimmy Butler",
          "Jeremy Tyler",
          "Bismack Biyombo",
          "Iman Shumpert",
          "Isaiah Thomas",
          "Jeremy Pargo",
          "Jeremy Pargo",
          "Terrel Harris",
          "Terrel Harris",
          "P.J. Tucker",
          "Lance Thomas",
          "Klay Thompson",
          "Klay Thompson",
          "Cory Higgins",
          "Tobias Harris",
          "Tobias Harris",
          "Tobias Harris",
          "Tobias Harris",
          "Tobias Harris",
          "Tobias Harris",
          "Terrel Harris",
          "Gustavo Ayon",
          "Josh Selby",
          "Marcus Morris Sr.",
          "Marcus Morris Sr.",
          "Marcus Morris Sr.",
          "Chandler Parsons",
          "Chandler Parsons",
          "Chandler Parsons",
          "Chandler Parsons",
          "Chandler Parsons",
          "Daniel Orton",
          "Gustavo Ayon",
          "Chris Singleton",
          "Jeremy Pargo",
          "Derrick Williams",
          "Darius Morris",
          "Markieff Morris",
          "Josh Harrellson",
          "E'Twaun Moore",
          "Jeff Ayres",
          "Omer Asik",
          "Evan Turner",
          "Trevor Booker",
          "Blake Griffin",
          "Blake Griffin",
          "Blake Griffin",
          "Blake Griffin",
          "Blake Griffin",
          "Blake Griffin",
          "Blake Griffin",
          "Blake Griffin",
          "Chris Johnson",
          "Samardo Samuels",
          "Patrick Patterson",
          "Armon Johnson",
          "Semih Erden",
          "Armon Johnson",
          "Armon Johnson",
          "Jeremy Lin",
          "DeMarcus Cousins",
          "DeMarcus Cousins",
          "John Wall",
          "John Wall",
          "John Wall",
          "Devin Ebanks",
          "Kevin Seraphin",
          "Avery Bradley",
          "Craig Brackins",
          "Damion James",
          "Lance Stephenson",
          "Xavier Henry",
          "Larry Owens",
          "Al-Farouq Aminu",
          "Greg Monroe",
          "Greg Monroe",
          "Hamady Ndiaye",
          "Gary Neal",
          "Lazar Hayward",
          "Jordan Crawford",
          "Larry Sanders",
          "James Anderson",
          "Jonas Jerebko",
          "Hassan Whiteside",
          "Hassan Whiteside",
          "Hassan Whiteside",
          "Hassan Whiteside",
          "Ed Davis",
          "Gordon Hayward",
          "Gordon Hayward",
          "Gordon Hayward",
          "Gordon Hayward",
          "Gordon Hayward",
          "Paul George",
          "Paul George",
          "Paul George",
          "Paul George",
          "Paul George",
          "Paul George",
          "Tiago Splitter",
          "Darryl Watkins",
          "Dominique Jones",
          "Andre Emmett",
          "Chris Johnson",
          "Greivis Vasquez",
          "Ish Smith",
          "Landry Fields",
          "Ekpe Udoh",
          "Luke Harangody",
          "Eric Bledsoe",
          "Ish Smith",
          "Derrick Favors",
          "Dexter Pittman",
          "Solomon Alabi",
          "Manny Harris",
          "Ekpe Udoh",
          "Ben Uzoh",
          "Quincy Pondexter",
          "Luke Babbitt",
          "Gary Forbes",
          "Christian Eyenga",
          "Ben Uzoh",
          "Jeff Adrien",
          "Christian Eyenga",
          "Christian Eyenga",
          "Nikola Pekovic",
          "Nikola Pekovic",
          "Wesley Johnson",
          "Timofey Mozgov",
          "Cole Aldrich",
          "Ekpe Udoh",
          "Jeremy Evans",
          "Ben Uzoh",
          "Trey Johnson",
          "Trey Johnson",
          "Toney Douglas",
          "DeJuan Blair",
          "Trey Johnson",
          "Taj Gibson",
          "Wayne Ellington",
          "Sam Young",
          "Patty Mills",
          "Sundiata Gaines",
          "Sundiata Gaines",
          "Sundiata Gaines",
          "DeMar DeRozan",
          "DeMar DeRozan",
          "DeMar DeRozan",
          "DeMar DeRozan",
          "Rodrigue Beaubois",
          "Jonny Flynn",
          "Austin Daye",
          "Sundiata Gaines",
          "Alonzo Gee",
          "Alonzo Gee",
          "Alonzo Gee",
          "Alonzo Gee",
          "James Johnson",
          "Brandon Jennings",
          "James Johnson",
          "James Johnson",
          "Tyreke Evans",
          "Othyus Jeffers",
          "Othyus Jeffers",
          "Othyus Jeffers",
          "Byron Mullens",
          "Stephen Curry",
          "Stephen Curry",
          "Stephen Curry",
          "Omri Casspi",
          "Garrett Temple",
          "Chase Budinger",
          "Tyler Hansbrough",
          "Jon Brockman",
          "Reggie Williams",
          "Marcus Thornton",
          "Jeff Teague",
          "Terrence Williams",
          "Serge Ibaka",
          "Serge Ibaka",
          "Serge Ibaka",
          "Serge Ibaka",
          "Hasheem Thabeet",
          "Gerald Henderson",
          "Jodie Meeks",
          "Earl Clark",
          "Earl Clark",
          "Marcus Thornton",
          "Derrick Brown",
          "Wesley Matthews",
          "Wesley Matthews",
          "Jrue Holiday",
          "Jrue Holiday",
          "Jrue Holiday",
          "Marcus Thornton",
          "James Harden",
          "James Harden",
          "James Harden",
          "James Harden",
          "James Harden",
          "James Harden",
          "James Harden",
          "Hasheem Thabeet",
          "Hasheem Thabeet",
          "Danny Green",
          "Terrence Williams",
          "DaJuan Summers",
          "AJ Price",
          "Lester Hudson",
          "Derrick Brown",
          "DeMarre Carroll",
          "DeMarre Carroll",
          "Ty Lawson",
          "Darren Collison",
          "Terrence Williams",
          "Jermaine Taylor",
          "Jermaine Taylor",
          "Jermaine Taylor",
          "DeMarre Carroll",
          "Earl Clark",
          "Derrick Brown",
          "David Andersen",
          "Dante Cunningham",
          "Dante Cunningham",
          "David Andersen",
          "David Andersen",
          "Eric Maynor",
          "Jordan Hill",
          "Dante Cunningham",
          "JJ Hickson",
          "Sonny Weems",
          "Malik Hairston",
          "Kevin Love",
          "Kevin Love",
          "Kevin Love",
          "Kevin Love",
          "Kevin Love",
          "Kevin Love",
          "Kevin Love",
          "Kevin Love",
          "Robin Lopez",
          "Mario Chalmers",
          "Darrell Arthur",
          "Ryan Anderson",
          "Ryan Anderson",
          "Will Conroy",
          "Jason Thompson",
          "Jerryd Bayless",
          "Jason Smith",
          "Hamed Haddadi",
          "Derrick Rose",
          "Derrick Rose",
          "Derrick Rose",
          "Derrick Rose",
          "Derrick Rose",
          "Kosta Koufos",
          "Luc Mbah a Moute",
          "Joey Dorsey",
          "Joey Dorsey",
          "Joey Dorsey",
          "Russell Westbrook",
          "Russell Westbrook",
          "Russell Westbrook",
          "Russell Westbrook",
          "Russell Westbrook",
          "Russell Westbrook",
          "Russell Westbrook",
          "Russell Westbrook",
          "Greg Oden",
          "DeAndre Jordan",
          "DeAndre Jordan",
          "DeAndre Jordan",
          "DeAndre Jordan",
          "Chris Douglas-Roberts",
          "Roko Ukic",
          "Anthony Morrow",
          "Michael Beasley",
          "Goran Dragic",
          "Brook Lopez",
          "Brook Lopez",
          "Brook Lopez",
          "Brook Lopez",
          "Brook Lopez",
          "Brook Lopez",
          "O.J. Mayo",
          "JaVale McGee",
          "DJ White",
          "George Hill",
          "Roy Hibbert",
          "Roy Hibbert",
          "Roy Hibbert",
          "Roy Hibbert",
          "Brandon Rush",
          "Mike Harris",
          "Mike Harris",
          "Rudy Fernandez",
          "Mike Harris",
          "Alexis Ajinca",
          "Marreese Speights",
          "Marc Gasol",
          "Marc Gasol",
          "Marc Gasol",
          "Marc Gasol",
          "Marc Gasol",
          "Marc Gasol",
          "Marc Gasol",
          "Marc Gasol",
          "Nathan Jawai",
          "Cartier Martin",
          "Cartier Martin",
          "Cartier Martin",
          "Coby Karl",
          "Coby Karl",
          "Coby Karl",
          "Anthony Tolliver",
          "Ian Mahinmi",
          "Danilo Gallinari",
          "Danilo Gallinari",
          "Danilo Gallinari",
          "Chris Richard",
          "Anthony Tolliver",
          "Anthony Randolph",
          "D.J. Augustin",
          "Darnell Jackson",
          "Darnell Jackson",
          "Darnell Jackson",
          "Eric Gordon",
          "Eric Gordon",
          "Eric Gordon",
          "Eric Gordon",
          "Ersan Ilyasova",
          "Henry Walker",
          "Henry Walker",
          "Henry Walker",
          "J.R. Giddens",
          "J.R. Giddens",
          "J.R. Giddens",
          "Anthony Tolliver",
          "Bobby Brown",
          "Othello Hunter",
          "Kyle Weaver",
          "Courtney Lee",
          "Bobby Brown",
          "Jawad Williams",
          "Donte Greene",
          "Nicolas Batum",
          "Nicolas Batum",
          "Nicolas Batum",
          "Joe Alexander",
          "Courtney Sims",
          "Carl Landry",
          "Alando Tucker",
          "Courtney Sims",
          "Will Bynum",
          "Courtney Sims",
          "Luis Scola",
          "Joakim Noah",
          "Joakim Noah",
          "Mario West",
          "Marcus Williams",
          "Aaron Gray",
          "Brandan Wright",
          "Adam Morrison",
          "Jermareo Davidson",
          "Adam Morrison",
          "Oleksiy Pecherov",
          "Cheikh Samb",
          "Alex Acker",
          "Cheikh Samb",
          "James White",
          "Dee Brown",
          "Pops Mensah-Bonsu",
          "Dee Brown",
          "Dee Brown",
          "Spencer Hawes",
          "Pops Mensah-Bonsu",
          "Cheikh Samb",
          "Al Thornton",
          "Corey Brewer",
          "Sean Williams",
          "Thaddeus Young",
          "Cheikh Samb",
          "Ramon Sessions",
          "Pops Mensah-Bonsu",
          "Marcin Gortat",
          "Wilson Chandler",
          "Jared Dudley",
          "Jared Dudley",
          "Jared Dudley",
          "Adam Morrison",
          "Hassan Adams",
          "Acie Law",
          "Will Solomon",
          "Gabe Pruitt",
          "Thomas Gardner",
          "Glen Davis",
          "Jeff Green",
          "Julian Wright",
          "Will Solomon",
          "Rodney Stuckey",
          "Dominic McGuire",
          "Yi Jianlian",
          "Mike Conley",
          "Mike Conley",
          "Mike Conley",
          "Mike Conley",
          "Will Solomon",
          "Demetris Nichols",
          "Kyrylo Fesenko",
          "Al Horford",
          "Al Horford",
          "Al Horford",
          "Al Horford",
          "Al Horford",
          "Demetris Nichols",
          "Aaron Brooks",
          "Javaris Crittenton",
          "Marco Belinelli",
          "Desmon Farmer",
          "Morris Almond",
          "Javaris Crittenton",
          "Alex Acker",
          "Jamario Moon",
          "Kevin Durant",
          "Kevin Durant",
          "Kevin Durant",
          "Kevin Durant",
          "Kevin Durant",
          "Kevin Durant",
          "Kevin Durant",
          "Kevin Durant",
          "Alex Acker",
          "Daequan Cook",
          "Arron Afflalo",
          "Nick Young",
          "Josh McRoberts",
          "C.J. Watson",
          "Jamario Moon",
          "Jamario Moon",
          "Joel Anthony",
          "Blake Ahearn",
          "Walter Herrmann",
          "Walter Herrmann",
          "Walter Herrmann",
          "Andre Owens",
          "Brandon Roy",
          "Brandon Roy",
          "Bobby Jones",
          "Bobby Jones",
          "Jorge Garbajosa",
          "Tarence Kinsey",
          "Alexander Johnson",
          "JJ Redick",
          "Daniel Gibson",
          "Jeremy Richardson",
          "Jeremy Richardson",
          "Mickael Gelabale",
          "Chris Quinn",
          "Rudy Gay",
          "Rudy Gay",
          "Rudy Gay",
          "Rudy Gay",
          "Rudy Gay",
          "Jordan Farmar",
          "Randolph Morris",
          "Bobby Jones",
          "Bobby Jones",
          "Rajon Rondo",
          "Leon Powe",
          "Randy Foye",
          "Paul Millsap",
          "Paul Millsap",
          "Paul Millsap",
          "Paul Millsap",
          "Paul Millsap",
          "Steve Novak",
          "Sergio Rodriguez",
          "Ryan Hollins",
          "Patrick O'Bryant",
          "Solomon Jones",
          "Kyle Lowry",
          "Kyle Lowry",
          "Kyle Lowry",
          "Cedric Simmons",
          "Cedric Simmons",
          "Cedric Simmons",
          "Marcus Williams",
          "Hilton Armstrong",
          "Maurice Ager",
          "Maurice Ager",
          "Maurice Ager",
          "Ronnie Brewer",
          "Renaldo Balkman",
          "Shelden Williams",
          "Craig Smith",
          "Andre Brown",
          "Shelden Williams",
          "Yakhouba Diawara",
          "LaMarcus Aldridge",
          "LaMarcus Aldridge",
          "LaMarcus Aldridge",
          "LaMarcus Aldridge",
          "LaMarcus Aldridge",
          "LaMarcus Aldridge",
          "LaMarcus Aldridge",
          "LaMarcus Aldridge",
          "LaMarcus Aldridge",
          "Paul Davis",
          "Justin Williams",
          "Justin Williams",
          "Kelenna Azubuike",
          "Justin Williams",
          "Shawne Williams",
          "Shannon Brown",
          "Lou Amundson",
          "Mardy Collins",
          "Shannon Brown",
          "Shannon Brown",
          "Marcus Vinicius",
          "Quincy Douby",
          "J.J. Barea",
          "Rodney Carney",
          "James Augustine",
          "Thabo Sefolosha",
          "Andrea Bargnani",
          "Shelden Williams",
          "Josh Boone",
          "Tyrus Thomas",
          "Mouhamed Sene",
          "Antoine Wright",
          "Linas Kleiza",
          "Charlie Villanueva",
          "Julius Hodge",
          "Francisco Garcia",
          "Julius Hodge",
          "Deron Williams",
          "Deron Williams",
          "Deron Williams",
          "Deron Williams",
          "Deron Williams",
          "Deron Williams",
          "Ike Diogu",
          "Bracey Wright",
          "Raymond Felton",
          "Martell Webster",
          "Julius Hodge",
          "Ike Diogu",
          "Ike Diogu",
          "Johan Petro",
          "Fabricio Oberto",
          "Anthony Roberson",
          "Dwayne Jones",
          "Dijon Thompson",
          "Chris Paul",
          "Chris Paul",
          "Chris Paul",
          "Chris Paul",
          "Chris Paul",
          "Chris Paul",
          "Chris Paul",
          "Chris Paul",
          "Chris Paul",
          "Chris Paul",
          "Chris Paul",
          "Alan Anderson",
          "Rawle Marshall",
          "Brandon Bass",
          "Matt Freije",
          "Maceo Baston",
          "Sarunas Jasikevicius",
          "Luther Head",
          "CJ Miles",
          "Nate Robinson",
          "Andrew Bogut",
          "Andrew Bogut",
          "Andrew Bogut",
          "Andrew Bogut",
          "Chuck Hayes",
          "Ronny Turiaf",
          "Sarunas Jasikevicius",
          "Sarunas Jasikevicius",
          "Lawrence Roberts",
          "Marvin Williams",
          "Travis Diener",
          "Channing Frye",
          "David Lee",
          "David Lee",
          "David Lee",
          "Jose Calderon",
          "Earl Barron",
          "Esteban Batista",
          "Andrew Bynum",
          "Andrew Bynum",
          "Andrew Bynum",
          "Andrew Bynum",
          "Lou Williams",
          "Josh Powell",
          "Josh Powell",
          "Josh Powell",
          "Hakim Warrick",
          "Orien Greene",
          "Monta Ellis",
          "Von Wafer",
          "Amir Johnson",
          "Sean May",
          "Ronnie Price",
          "Rashad McCants",
          "Shavlik Randolph",
          "Danny Granger",
          "Danny Granger",
          "Joey Graham",
          "Stephen Graham",
          "John Lucas III",
          "Luke Schenscher",
          "Yaroslav Korolev",
          "Andray Blatche",
          "Ryan Gomes",
          "Jarrett Jack",
          "Gerald Green",
          "Salim Stoudamire",
          "Jared Reiner",
          "Daniel Ewing",
          "Donell Taylor",
          "Wayne Simien",
          "James Singleton",
          "Jason Maxiell",
          "Andris Biedrins",
          "Sebastian Telfair",
          "Viktor Khryapa",
          "Rafael Araujo",
          "DJ Mbenga",
          "Ben Gordon",
          "Al Jefferson",
          "Al Jefferson",
          "Al Jefferson",
          "Al Jefferson",
          "Al Jefferson",
          "Awvee Storey",
          "Nenad Krstic",
          "Matt Bonner",
          "Robert Swift",
          "Ha Seung-jin",
          "Pape Sow",
          "Kevin Martin",
          "Josh Childress",
          "Kirk Snyder",
          "Trevor Ariza",
          "Devin Harris",
          "Trevor Ariza",
          "Trevor Ariza",
          "Justin Reed",
          "Andre Barrett",
          "David Harrison",
          "Nick Collison",
          "Billy Thomas",
          "Andre Barrett",
          "James Thomas",
          "Justin Reed",
          "Dorell Wright",
          "Justin Reed",
          "Bernard Robinson",
          "Pavel Podkolzin",
          "James Thomas",
          "Donta Smith",
          "Emeka Okafor",
          "Emeka Okafor",
          "Emeka Okafor",
          "Anderson Varejao",
          "Antonio Burks",
          "Pat Burke",
          "Beno Udrih",
          "Jameer Nelson",
          "JR Smith",
          "Luke Jackson",
          "Mario Kasun",
          "Quinton Ross",
          "Jackie Butler",
          "Ime Udoka",
          "Sasha Vujacic",
          "Andres Nocioni",
          "Kris Humphries",
          "Jackson Vroman",
          "Delonte West",
          "Damien Wilkins",
          "Chris Duhon",
          "Shaun Livingston",
          "Charlie Bell",
          "Dwight Howard",
          "Dwight Howard",
          "Dwight Howard",
          "Dwight Howard",
          "Dwight Howard",
          "Dwight Howard",
          "Dwight Howard",
          "Dwight Howard",
          "Dwight Howard",
          "Royal Ivey",
          "Andre Iguodala",
          "Andre Iguodala",
          "Andre Iguodala",
          "Andre Iguodala",
          "Andre Iguodala",
          "Andre Iguodala",
          "Tony Allen",
          "Josh Smith",
          "Josh Smith",
          "Josh Smith",
          "Carlos Delfino",
          "T.J. Ford",
          "John Edwards",
          "Luol Deng",
          "Luol Deng",
          "Luol Deng",
          "Luol Deng",
          "Willie Green",
          "Zoran Planinic",
          "Mickael Pietrus",
          "Richie Frahm",
          "David West",
          "Josh Howard",
          "Jarvis Hayes",
          "Smush Parker",
          "Zaza Pachulia",
          "Chris Bosh",
          "Chris Bosh",
          "Chris Bosh",
          "Chris Bosh",
          "Chris Bosh",
          "Chris Bosh",
          "Chris Bosh",
          "Chris Bosh",
          "Chris Bosh",
          "Chris Bosh",
          "Kyle Korver",
          "Ben Handlogten",
          "LeBron James",
          "LeBron James",
          "LeBron James",
          "LeBron James",
          "LeBron James",
          "LeBron James",
          "LeBron James",
          "LeBron James",
          "LeBron James",
          "LeBron James",
          "LeBron James",
          "LeBron James",
          "Aleksandar Radojevic",
          "Smush Parker",
          "Michael Sweetney",
          "Smush Parker",
          "Brandon Hunter",
          "Matt Carroll",
          "Omar Cook",
          "Francisco Elson",
          "Curtis Borchardt",
          "Maciej Lampe",
          "Maciej Lampe",
          "Maciej Lampe",
          "Linton Johnson",
          "Marcus Banks",
          "Ronald Dupree",
          "Maurice Evans",
          "Britton Johnsen",
          "Dwyane Wade",
          "Dwyane Wade",
          "Dwyane Wade",
          "Dwyane Wade",
          "Dwyane Wade",
          "Dwyane Wade",
          "Dwyane Wade",
          "Dwyane Wade",
          "Dwyane Wade",
          "Dwyane Wade",
          "Brian Cook",
          "Darko Milicic",
          "Leandro Barbosa",
          "Marquis Daniels",
          "Keith McLeod",
          "Kirk Hinrich",
          "Kaniel Dickens",
          "Jason Kapono",
          "Travis Outlaw",
          "Reece Gaines",
          "Reece Gaines",
          "Reece Gaines",
          "Chris Kaman",
          "Josh Davis",
          "James Jones",
          "Mo Williams",
          "Udonis Haslem",
          "Boris Diaw",
          "Zarko Cabarkapa",
          "Keith Bogans",
          "Theron Smith",
          "Zarko Cabarkapa",
          "Luke Walton",
          "Zarko Cabarkapa",
          "Kendrick Perkins",
          "Luke Ridnour",
          "Carmelo Anthony",
          "Carmelo Anthony",
          "Carmelo Anthony",
          "Carmelo Anthony",
          "Carmelo Anthony",
          "Carmelo Anthony",
          "Carmelo Anthony",
          "Carmelo Anthony",
          "Carmelo Anthony",
          "Carmelo Anthony",
          "Carmelo Anthony",
          "Steve Blake",
          "Raul Lopez",
          "Matt Barnes",
          "Sasha Pavlovic",
          "Ndudi Ebi",
          "Darius Songaila",
          "Junior Harrington",
          "Kirk Penney",
          "Torraye Braggs",
          "Dahntay Jones",
          "Alex Garcia",
          "Paul Grant",
          "Fred Jones",
          "J.R. Bremer",
          "Tayshaun Prince",
          "J.R. Bremer",
          "Carlos Boozer",
          "Carlos Boozer",
          "Carlos Boozer",
          "Carlos Boozer",
          "Carlos Boozer",
          "Carlos Boozer",
          "Carlos Boozer",
          "Bostjan Nachbar",
          "Dajuan Wagner",
          "Amar'e Stoudemire",
          "Amar'e Stoudemire",
          "Amar'e Stoudemire",
          "Amar'e Stoudemire",
          "Amar'e Stoudemire",
          "Amar'e Stoudemire",
          "Amar'e Stoudemire",
          "Amar'e Stoudemire",
          "J.R. Bremer",
          "Nene",
          "Jannero Pargo",
          "Nikoloz Tskitishvili",
          "Jared Jeffries",
          "Rasual Butler",
          "Cezary Trybanski",
          "Caron Butler",
          "Mehmet Okur",
          "Marko Jaric",
          "Lonny Baxter",
          "Lonny Baxter",
          "Shane Heal",
          "Jannero Pargo",
          "Jannero Pargo",
          "Chris Jefferies",
          "Cezary Trybanski",
          "Chris Jefferies",
          "Chris Jefferies",
          "Cezary Trybanski",
          "Lonny Baxter",
          "Devin Brown",
          "Chris Wilcox",
          "Marcus Haislip",
          "Mike Wilks",
          "Ryan Humphrey",
          "Lonny Baxter",
          "Frank Williams",
          "Jannero Pargo",
          "Casey Jacobsen",
          "Samuel Dalembert",
          "Dan Dickau",
          "Jamal Sampson",
          "Drew Gooden",
          "Dan Dickau",
          "John Salmons",
          "Robert Archibald",
          "Dan Dickau",
          "Leon Smith",
          "Mike Dunleavy",
          "Melvin Ely",
          "Qyntel Woods",
          "Manu Ginobili",
          "Manu Ginobili",
          "Manu Ginobili",
          "Gordan Giricek",
          "Gordan Giricek",
          "Sean Lampley",
          "Paul Shirley",
          "Yao Ming",
          "Yao Ming",
          "Yao Ming",
          "Yao Ming",
          "Yao Ming",
          "Tamar Slay",
          "Robert Archibald",
          "Jiri Welsch",
          "Robert Archibald",
          "Roger Mason Jr.",
          "Reggie Evans",
          "Kareem Rush",
          "Roger Mason Jr.",
          "Roger Mason Jr.",
          "Juan Dixon",
          "Robert Archibald",
          "Flip Murray",
          "Dan Gadzuric",
          "Dean Oliver",
          "Jeryl Sasser",
          "Oscar Torres",
          "Malik Allen",
          "Kedrick Brown",
          "Kwame Brown",
          "Eddie Griffin",
          "Soumaila Samake",
          "Speedy Claxton",
          "Pau Gasol",
          "Pau Gasol",
          "Pau Gasol",
          "Pau Gasol",
          "Pau Gasol",
          "Pau Gasol",
          "Pau Gasol",
          "Pau Gasol",
          "Pau Gasol",
          "Earl Watson",
          "Rodney White",
          "Bobby Simmons",
          "Jason Richardson",
          "Jason Richardson",
          "Andrei Kirilenko",
          "Andrei Kirilenko",
          "Andrei Kirilenko",
          "Andrei Kirilenko",
          "Andrei Kirilenko",
          "Andrei Kirilenko",
          "Andrei Kirilenko",
          "Jarron Collins",
          "Brendan Haywood",
          "Tony Parker",
          "Tony Parker",
          "Tony Parker",
          "Tony Parker",
          "Tony Parker",
          "Tony Parker",
          "Gilbert Arenas",
          "Gilbert Arenas",
          "Gilbert Arenas",
          "Gilbert Arenas",
          "Gilbert Arenas",
          "Troy Murphy",
          "Jason Collins",
          "Predrag Drobnjak",
          "Steven Hunter",
          "Chris Andersen",
          "Pepe Sanchez",
          "Jamaal Tinsley",
          "Tremaine Fowlkes",
          "Joe Johnson",
          "Joe Johnson",
          "Joe Johnson",
          "Joe Johnson",
          "Joe Johnson",
          "Joe Johnson",
          "Joe Johnson",
          "Joe Johnson",
          "Joe Johnson",
          "Joe Johnson",
          "Shane Battier",
          "Damone Brown",
          "Ruben Boumtje-Boumtje",
          "Brandon Armstrong",
          "Trenton Hassell",
          "Carlos Arroyo",
          "Tyson Chandler",
          "Tyson Chandler",
          "Tyson Chandler",
          "Tyson Chandler",
          "Tyson Chandler",
          "Vladimir Radmanovic",
          "Jeff Trepagnier",
          "Joseph Forte",
          "Etan Thomas",
          "Kirk Haston",
          "DeSagana Diop",
          "Ansu Sesay",
          "Richard Jefferson",
          "Richard Jefferson",
          "Richard Jefferson",
          "Richard Jefferson",
          "Zach Randolph",
          "Zach Randolph",
          "Zach Randolph",
          "Zach Randolph",
          "Zach Randolph",
          "Zach Randolph",
          "Zach Randolph",
          "Zach Randolph",
          "Zach Randolph",
          "Zach Randolph",
          "Terence Morris",
          "Alton Ford",
          "Ruben Wolkowyski",
          "Eddy Curry",
          "Brian Scalabrine",
          "Gerald Wallace",
          "Loren Woods",
          "Michael Bradley",
          "Primoz Brezec",
          "Jamison Brewer",
          "Kenny Satterfield",
          "Kenny Satterfield",
          "Kenny Satterfield",
          "Mike James",
          "Tierre Brown",
          "Mengke Bateer",
          "Zeljko Rebraca",
          "Mike Penberthy",
          "Desmond Mason",
          "Mike Miller",
          "Raja Bell",
          "Keyon Dooling",
          "Erick Barkley",
          "Donnell Harvey",
          "Donnell Harvey",
          "Jerome James",
          "Donnell Harvey",
          "Eddie House",
          "Jason Hart",
          "Morris Peterson",
          "Eduardo Najera",
          "Courtney Alexander",
          "DerMarr Johnson",
          "Mateen Cleaves",
          "Harold Jamison",
          "Jamaal Magloire",
          "Kenyon Martin",
          "Kenyon Martin",
          "Kenyon Martin",
          "Kenyon Martin",
          "Kenyon Martin",
          "Kenyon Martin",
          "Slava Medvedenko",
          "Quentin Richardson",
          "Chris Mihm",
          "Steve Goodrich",
          "Dalibor Bagaric",
          "Jamal Crawford",
          "Wang Zhi-zhi",
          "Olumide Oyedeji",
          "Joel Przybilla",
          "Marcus Fizer",
          "Darius Miles",
          "Michael Redd",
          "Michael Redd",
          "Michael Redd",
          "Michael Redd",
          "Michael Redd",
          "Michael Redd",
          "Marc Jackson",
          "Marc Jackson",
          "DeShawn Stevenson",
          "Brian Cardinal",
          "Hanno Mottola",
          "Lee Nailon",
          "Stephen Jackson",
          "Marc Jackson",
          "Jake Tsakalidis",
          "Jermaine Jackson",
          "Hedo Turkoglu",
          "Mamadou N'diaye",
          "Jabari Smith",
          "Jabari Smith",
          "Amal McCaskill",
          "Jabari Smith",
          "A.J. Guyton",
          "Jake Voskuhl",
          "Jason Collier",
          "Dan Langhi",
          "Jerome Moiso",
          "Mark Madsen",
          "Lavor Postell",
          "Ira Newble",
          "Art Long",
          "Mark Blount",
          "Zendon Hamilton",
          "Eddie Gill",
          "Daniel Santiago",
          "Stromile Swift",
          "Eddie Robinson",
          "Chris Herren",
          "Steve Francis",
          "Steve Francis",
          "Shawn Marion",
          "Shawn Marion",
          "Shawn Marion",
          "Shawn Marion",
          "Milt Palacio",
          "Scott Padgett",
          "Rafer Alston",
          "Derrick Dial",
          "Lari Ketner",
          "Ira Bowman",
          "Jeff Foster",
          "Andre Miller",
          "Anthony Carter",
          "Quincy Lewis",
          "Michael Ruffin",
          "Wally Szczerbiak",
          "Wally Szczerbiak",
          "Wally Szczerbiak",
          "Wally Szczerbiak",
          "James Posey",
          "Jonathan Bender",
          "Adrian Griffin",
          "Todd MacCulloch",
          "Dion Glover",
          "Metta World Peace",
          "Richard Hamilton",
          "Devean George",
          "Baron Davis",
          "Baron Davis",
          "Baron Davis",
          "Baron Davis",
          "Baron Davis",
          "Trajan Langdon",
          "Evan Eschmeyer",
          "William Avery",
          "Obinna Ekezie",
          "Obinna Ekezie",
          "Obinna Ekezie",
          "Calvin Booth",
          "Calvin Booth",
          "Calvin Booth",
          "Vonteego Cummings",
          "Chucky Atkins",
          "Elton Brand",
          "Elton Brand",
          "Elton Brand",
          "Elton Brand",
          "Elton Brand",
          "Elton Brand",
          "Elton Brand",
          "Laron Profit",
          "Jumaine Jones",
          "Cal Bowdler",
          "Chris Garner",
          "Greg Buckner",
          "Lamar Odom",
          "Lamar Odom",
          "Lamar Odom",
          "Lamar Odom",
          "Rodney Buford",
          "Kenny Thomas",
          "Tim James",
          "Ryan Bowen",
          "Jamel Thomas",
          "Jason Terry",
          "Corey Maggette"
         ],
         "legendgroup": "",
         "marker": {
          "color": [
           12,
           36,
           533,
           4,
           15,
           219,
           2,
           19,
           15,
           288,
           37,
           690,
           251,
           104,
           316,
           45,
           370,
           10,
           2,
           12,
           627,
           185,
           1331,
           1145,
           206,
           150,
           377,
           215,
           34,
           192,
           70,
           86,
           156,
           142,
           115,
           27,
           30,
           107,
           484,
           17,
           2,
           287,
           504,
           330,
           10,
           120,
           6,
           7,
           4,
           11,
           541,
           155,
           55,
           517,
           579,
           71,
           1778,
           990,
           1759,
           684,
           1349,
           455,
           58,
           371,
           389,
           128,
           492,
           0,
           128,
           218,
           107,
           393,
           843,
           667,
           136,
           12,
           53,
           330,
           40,
           332,
           3,
           0,
           466,
           716,
           590,
           983,
           487,
           319,
           197,
           122,
           3,
           419,
           8,
           50,
           318,
           610,
           218,
           237,
           465,
           426,
           279,
           0,
           758,
           9,
           346,
           720,
           62,
           910,
           1308,
           0,
           339,
           229,
           12,
           991,
           9,
           613,
           27,
           485,
           337,
           246,
           241,
           316,
           322,
           583,
           186,
           35,
           93,
           280,
           135,
           17,
           372,
           1399,
           16,
           513,
           10,
           47,
           94,
           974,
           1829,
           5,
           851,
           10,
           722,
           308,
           189,
           414,
           155,
           873,
           39,
           2,
           23,
           2,
           459,
           653,
           90,
           206,
           296,
           779,
           81,
           19,
           729,
           0,
           223,
           6,
           0,
           6,
           1337,
           8,
           35,
           225,
           1243,
           43,
           374,
           0,
           195,
           48,
           57,
           544,
           1188,
           990,
           512,
           469,
           102,
           284,
           271,
           86,
           2,
           663,
           240,
           12,
           525,
           418,
           474,
           66,
           430,
           158,
           16,
           136,
           27,
           43,
           9,
           0,
           75,
           531,
           20,
           100,
           456,
           1352,
           654,
           3,
           25,
           16,
           360,
           1158,
           4,
           10,
           273,
           34,
           59,
           567,
           14,
           445,
           312,
           40,
           26,
           87,
           8,
           2,
           2,
           15,
           17,
           0,
           589,
           699,
           1141,
           1445,
           1445,
           1445,
           524,
           325,
           151,
           861,
           555,
           89,
           338,
           123,
           254,
           838,
           57,
           2,
           1,
           0,
           656,
           783,
           554,
           555,
           625,
           8,
           949,
           9,
           152,
           1017,
           533,
           30,
           556,
           39,
           69,
           135,
           4,
           1079,
           246,
           111,
           82,
           34,
           2,
           36,
           55,
           128,
           229,
           5,
           356,
           61,
           196,
           52,
           523,
           0,
           71,
           38,
           9,
           353,
           218,
           34,
           91,
           161,
           858,
           299,
           63,
           1196,
           98,
           504,
           14,
           8,
           1726,
           196,
           1173,
           6,
           437,
           50,
           12,
           410,
           150,
           2,
           501,
           100,
           213,
           449,
           165,
           539,
           191,
           611,
           38,
           374,
           9,
           370,
           329,
           203,
           34,
           9,
           874,
           43,
           532,
           317,
           636,
           0,
           161,
           127,
           1,
           59,
           11,
           403,
           209,
           412,
           675,
           483,
           556,
           24,
           1221,
           1221,
           36,
           590,
           2061,
           527,
           35,
           440,
           1,
           346,
           142,
           339,
           984,
           316,
           54,
           603,
           106,
           160,
           68,
           35,
           0,
           135,
           559,
           11,
           318,
           27,
           13,
           3,
           719,
           919,
           345,
           342,
           749,
           0,
           3,
           26,
           65,
           764,
           778,
           350,
           747,
           399,
           465,
           1149,
           283,
           286,
           124,
           410,
           263,
           1150,
           132,
           200,
           363,
           7,
           34,
           578,
           1225,
           13,
           13,
           0,
           7,
           8,
           89,
           4,
           4,
           23,
           133,
           36,
           210,
           51,
           314,
           7,
           22,
           625,
           542,
           58,
           75,
           1070,
           887,
           67,
           777,
           171,
           558,
           240,
           29,
           1675,
           1675,
           8,
           0,
           31,
           206,
           203,
           932,
           70,
           11,
           134,
           515,
           374,
           159,
           617,
           143,
           16,
           117,
           60,
           768,
           1292,
           1292,
           52,
           278,
           27,
           22,
           154,
           512,
           432,
           1030,
           1030,
           298,
           729,
           717,
           153,
           356,
           472,
           804,
           656,
           973,
           470,
           138,
           254,
           503,
           69,
           4,
           65,
           44,
           57,
           13,
           66,
           537,
           537,
           98,
           201,
           11,
           626,
           228,
           168,
           966,
           613,
           353,
           153,
           8,
           142,
           332,
           0,
           176,
           77,
           53,
           46,
           231,
           686,
           686,
           243,
           16,
           126,
           1043,
           11,
           6,
           105,
           432,
           94,
           435,
           943,
           6,
           197,
           1,
           89,
           90,
           996,
           216,
           6,
           0,
           710,
           53,
           37,
           16,
           445,
           445,
           445,
           122,
           319,
           424,
           424,
           424,
           3,
           20,
           25,
           17,
           42,
           198,
           177,
           191,
           112,
           65,
           177,
           638,
           339,
           174,
           1695,
           1695,
           1695,
           1695,
           1394,
           1394,
           1394,
           1394,
           248,
           530,
           677,
           939,
           879,
           1095,
           1095,
           1095,
           1095,
           399,
           171,
           152,
           19,
           250,
           29,
           4,
           25,
           1,
           767,
           350,
           784,
           350,
           306,
           44,
           107,
           45,
           89,
           646,
           208,
           62,
           622,
           47,
           592,
           24,
           430,
           98,
           26,
           2,
           48,
           153,
           982,
           252,
           511,
           356,
           665,
           738,
           738,
           738,
           2,
           573,
           1249,
           1249,
           1249,
           1249,
           435,
           99,
           40,
           429,
           403,
           0,
           161,
           0,
           302,
           101,
           250,
           779,
           100,
           28,
           20,
           341,
           200,
           216,
           9,
           916,
           36,
           448,
           91,
           990,
           990,
           404,
           166,
           257,
           921,
           1113,
           126,
           451,
           999,
           0,
           445,
           8,
           608,
           452,
           126,
           421,
           208,
           81,
           7,
           22,
           34,
           56,
           81,
           30,
           111,
           78,
           374,
           0,
           1325,
           1325,
           1325,
           689,
           689,
           689,
           689,
           307,
           1455,
           110,
           143,
           104,
           2,
           37,
           494,
           394,
           455,
           58,
           506,
           506,
           1008,
           923,
           603,
           603,
           603,
           3,
           12,
           15,
           153,
           22,
           957,
           0,
           705,
           705,
           705,
           705,
           22,
           386,
           305,
           1100,
           265,
           69,
           5,
           10,
           506,
           149,
           1359,
           1359,
           14,
           136,
           136,
           136,
           467,
           467,
           467,
           15,
           51,
           20,
           596,
           465,
           131,
           1177,
           1177,
           1177,
           1177,
           1177,
           33,
           204,
           231,
           196,
           933,
           194,
           670,
           10,
           588,
           34,
           205,
           610,
           419,
           1368,
           1368,
           1368,
           1368,
           1368,
           1368,
           1368,
           1368,
           23,
           292,
           490,
           45,
           99,
           2,
           47,
           512,
           1160,
           1160,
           1076,
           1076,
           1076,
           97,
           453,
           484,
           22,
           34,
           106,
           239,
           13,
           399,
           1015,
           1015,
           0,
           557,
           37,
           938,
           186,
           190,
           556,
           29,
           29,
           29,
           29,
           415,
           782,
           782,
           782,
           782,
           782,
           798,
           798,
           798,
           798,
           798,
           798,
           549,
           23,
           88,
           13,
           32,
           589,
           45,
           580,
           340,
           60,
           132,
           27,
           570,
           106,
           33,
           173,
           130,
           77,
           271,
           202,
           319,
           9,
           4,
           21,
           17,
           8,
           651,
           651,
           393,
           239,
           57,
           210,
           62,
           81,
           28,
           34,
           856,
           674,
           6,
           569,
           410,
           572,
           353,
           21,
           35,
           55,
           1410,
           1410,
           1410,
           1410,
           236,
           279,
           537,
           111,
           2,
           32,
           297,
           331,
           42,
           1019,
           229,
           271,
           1012,
           93,
           91,
           2,
           25,
           1373,
           1373,
           1373,
           610,
           2,
           765,
           767,
           136,
           738,
           933,
           361,
           106,
           808,
           808,
           808,
           808,
           53,
           653,
           774,
           134,
           163,
           359,
           151,
           1300,
           1300,
           1145,
           1145,
           1145,
           574,
           998,
           998,
           998,
           998,
           998,
           998,
           998,
           53,
           0,
           41,
           39,
           74,
           323,
           18,
           185,
           0,
           10,
           933,
           1039,
           67,
           223,
           184,
           39,
           10,
           29,
           34,
           134,
           198,
           482,
           78,
           56,
           348,
           406,
           284,
           689,
           518,
           99,
           842,
           842,
           842,
           842,
           842,
           842,
           842,
           842,
           430,
           521,
           143,
           487,
           487,
           6,
           939,
           630,
           189,
           62,
           1619,
           1619,
           1619,
           1619,
           1619,
           53,
           453,
           23,
           12,
           11,
           1322,
           1322,
           1322,
           1322,
           1322,
           1322,
           1322,
           1322,
           233,
           336,
           336,
           336,
           336,
           657,
           40,
           899,
           1156,
           635,
           1542,
           1542,
           1542,
           1542,
           1542,
           1542,
           1432,
           386,
           59,
           964,
           946,
           946,
           946,
           946,
           774,
           4,
           25,
           503,
           29,
           10,
           532,
           1008,
           1008,
           1008,
           1008,
           1008,
           1008,
           1008,
           1008,
           124,
           141,
           51,
           90,
           28,
           28,
           0,
           539,
           101,
           1221,
           1221,
           1221,
           37,
           0,
           384,
           508,
           23,
           2,
           21,
           1045,
           1045,
           1045,
           1045,
           840,
           8,
           321,
           329,
           24,
           45,
           69,
           539,
           145,
           11,
           36,
           885,
           70,
           224,
           647,
           375,
           375,
           375,
           4,
           6,
           638,
           138,
           6,
           410,
           0,
           1044,
           537,
           537,
           43,
           4,
           196,
           323,
           209,
           42,
           10,
           116,
           11,
           72,
           15,
           7,
           46,
           96,
           5,
           41,
           876,
           111,
           4,
           1194,
           93,
           80,
           1145,
           0,
           977,
           15,
           239,
           1184,
           372,
           264,
           108,
           199,
           11,
           162,
           263,
           93,
           24,
           530,
           1290,
           237,
           70,
           1058,
           356,
           525,
           895,
           895,
           895,
           895,
           193,
           2,
           49,
           773,
           773,
           773,
           773,
           773,
           5,
           894,
           19,
           372,
           13,
           92,
           298,
           9,
           577,
           1871,
           1871,
           1871,
           1871,
           1871,
           1871,
           1871,
           1871,
           63,
           686,
           363,
           892,
           80,
           730,
           393,
           184,
           144,
           8,
           68,
           153,
           85,
           123,
           1416,
           1416,
           2,
           48,
           22,
           40,
           179,
           140,
           605,
           0,
           10,
           168,
           465,
           1632,
           1632,
           1632,
           1632,
           1632,
           749,
           56,
           40,
           4,
           814,
           445,
           510,
           661,
           661,
           661,
           661,
           661,
           135,
           180,
           147,
           35,
           35,
           791,
           791,
           791,
           8,
           4,
           4,
           313,
           178,
           15,
           36,
           51,
           914,
           224,
           109,
           727,
           100,
           146,
           153,
           1350,
           1350,
           1350,
           1350,
           1350,
           1350,
           1350,
           1350,
           1350,
           54,
           31,
           3,
           692,
           34,
           437,
           9,
           18,
           145,
           114,
           105,
           28,
           354,
           191,
           409,
           40,
           464,
           792,
           255,
           575,
           502,
           30,
           283,
           598,
           462,
           9,
           474,
           6,
           1297,
           1297,
           1297,
           1297,
           1297,
           1297,
           366,
           67,
           1093,
           574,
           15,
           243,
           123,
           502,
           349,
           111,
           3,
           17,
           1104,
           1104,
           1104,
           1104,
           1104,
           1104,
           1104,
           1104,
           1104,
           1104,
           1104,
           98,
           99,
           42,
           40,
           138,
           386,
           872,
           101,
           645,
           809,
           809,
           809,
           809,
           439,
           383,
           113,
           273,
           283,
           839,
           98,
           684,
           621,
           621,
           621,
           668,
           65,
           20,
           637,
           637,
           637,
           637,
           262,
           12,
           104,
           116,
           1045,
           63,
           1272,
           0,
           47,
           416,
           192,
           184,
           58,
           1142,
           1142,
           503,
           45,
           154,
           19,
           12,
           206,
           881,
           946,
           843,
           471,
           33,
           179,
           126,
           23,
           85,
           334,
           258,
           643,
           403,
           121,
           74,
           1349,
           464,
           464,
           464,
           464,
           464,
           43,
           1080,
           583,
           301,
           44,
           147,
           778,
           742,
           542,
           165,
           554,
           99,
           264,
           325,
           78,
           385,
           493,
           38,
           9,
           6,
           250,
           58,
           75,
           422,
           3,
           22,
           38,
           344,
           344,
           344,
           219,
           113,
           141,
           275,
           905,
           423,
           96,
           80,
           317,
           292,
           22,
           321,
           1063,
           188,
           73,
           836,
           536,
           647,
           352,
           494,
           1292,
           1292,
           1292,
           1292,
           1292,
           1292,
           1292,
           1292,
           1292,
           260,
           1007,
           1007,
           1007,
           1007,
           1007,
           1007,
           369,
           902,
           902,
           902,
           247,
           878,
           70,
           1112,
           1112,
           1112,
           1112,
           437,
           217,
           636,
           164,
           186,
           958,
           553,
           48,
           458,
           1361,
           1361,
           1361,
           1361,
           1361,
           1361,
           1361,
           1361,
           1361,
           1361,
           942,
           95,
           2175,
           2175,
           2175,
           2175,
           2175,
           2175,
           2175,
           2175,
           2175,
           2175,
           2175,
           2175,
           19,
           15,
           650,
           33,
           95,
           224,
           23,
           248,
           200,
           115,
           71,
           44,
           0,
           372,
           152,
           416,
           12,
           1854,
           1854,
           1854,
           1854,
           1854,
           1854,
           1854,
           1854,
           1854,
           1854,
           458,
           67,
           442,
           545,
           416,
           1206,
           13,
           688,
           319,
           41,
           15,
           26,
           572,
           117,
           371,
           814,
           870,
           314,
           238,
           714,
           105,
           229,
           198,
           9,
           149,
           824,
           1558,
           1558,
           1558,
           1558,
           1558,
           1558,
           1558,
           1558,
           1558,
           1558,
           1558,
           191,
           161,
           164,
           314,
           27,
           608,
           163,
           2,
           6,
           233,
           44,
           25,
           397,
           110,
           841,
           8,
           1162,
           1162,
           1162,
           1162,
           1162,
           1162,
           1162,
           138,
           287,
           1133,
           1133,
           1133,
           1133,
           1133,
           1133,
           1133,
           1133,
           118,
           908,
           207,
           106,
           464,
           304,
           1,
           623,
           682,
           495,
           60,
           41,
           22,
           18,
           14,
           84,
           1,
           76,
           8,
           0,
           150,
           234,
           559,
           93,
           50,
           2,
           251,
           219,
           175,
           466,
           652,
           49,
           29,
           914,
           46,
           443,
           32,
           95,
           2,
           877,
           157,
           224,
           987,
           987,
           987,
           489,
           338,
           34,
           21,
           1431,
           1431,
           1431,
           1431,
           1431,
           53,
           2,
           746,
           1,
           3,
           217,
           459,
           93,
           96,
           664,
           29,
           1013,
           424,
           22,
           194,
           53,
           767,
           145,
           593,
           664,
           22,
           173,
           1555,
           1555,
           1555,
           1555,
           1555,
           1555,
           1555,
           1555,
           1555,
           433,
           650,
           120,
           1282,
           1282,
           963,
           963,
           963,
           963,
           963,
           963,
           963,
           120,
           501,
           1269,
           1269,
           1269,
           1269,
           1269,
           1269,
           1497,
           1497,
           1497,
           1497,
           1497,
           923,
           460,
           771,
           130,
           305,
           0,
           566,
           164,
           803,
           803,
           803,
           803,
           803,
           803,
           803,
           803,
           803,
           803,
           756,
           28,
           0,
           24,
           342,
           121,
           691,
           691,
           691,
           691,
           691,
           724,
           45,
           24,
           182,
           6,
           119,
           94,
           1242,
           1242,
           1242,
           1242,
           650,
           650,
           650,
           650,
           650,
           650,
           650,
           650,
           650,
           650,
           182,
           7,
           5,
           849,
           180,
           220,
           80,
           338,
           42,
           22,
           132,
           123,
           9,
           607,
           65,
           9,
           198,
           5,
           931,
           956,
           254,
           58,
           58,
           270,
           232,
           298,
           38,
           514,
           26,
           883,
           400,
           549,
           602,
           70,
           54,
           699,
           1086,
           1086,
           1086,
           1086,
           1086,
           1086,
           331,
           1076,
           569,
           5,
           185,
           214,
           308,
           55,
           190,
           938,
           779,
           767,
           767,
           767,
           767,
           767,
           767,
           84,
           186,
           325,
           17,
           396,
           851,
           89,
           102,
           491,
           57,
           810,
           20,
           18,
           55,
           52,
           73,
           244,
           296,
           106,
           107,
           16,
           167,
           93,
           338,
           285,
           94,
           324,
           116,
           8,
           803,
           498,
           83,
           1591,
           1591,
           1369,
           1369,
           1369,
           1369,
           342,
           56,
           77,
           86,
           0,
           0,
           249,
           1296,
           461,
           124,
           119,
           1145,
           1145,
           1145,
           1145,
           666,
           193,
           93,
           260,
           338,
           907,
           1411,
           182,
           1131,
           1131,
           1131,
           1131,
           1131,
           389,
           251,
           154,
           101,
           0,
           101,
           293,
           112,
           181,
           483,
           971,
           1490,
           1490,
           1490,
           1490,
           1490,
           1490,
           1490,
           152,
           304,
           140,
           19,
           229,
           1304,
           1304,
           1304,
           1304,
           248,
           528,
           45,
           191,
           13,
           1619,
           690
          ],
          "coloraxis": "coloraxis",
          "size": [
           12,
           36,
           533,
           4,
           15,
           219,
           2,
           19,
           15,
           288,
           37,
           690,
           251,
           104,
           316,
           45,
           370,
           10,
           2,
           12,
           627,
           185,
           1331,
           1145,
           206,
           150,
           377,
           215,
           34,
           192,
           70,
           86,
           156,
           142,
           115,
           27,
           30,
           107,
           484,
           17,
           2,
           287,
           504,
           330,
           10,
           120,
           6,
           7,
           4,
           11,
           541,
           155,
           55,
           517,
           579,
           71,
           1778,
           990,
           1759,
           684,
           1349,
           455,
           58,
           371,
           389,
           128,
           492,
           0,
           128,
           218,
           107,
           393,
           843,
           667,
           136,
           12,
           53,
           330,
           40,
           332,
           3,
           0,
           466,
           716,
           590,
           983,
           487,
           319,
           197,
           122,
           3,
           419,
           8,
           50,
           318,
           610,
           218,
           237,
           465,
           426,
           279,
           0,
           758,
           9,
           346,
           720,
           62,
           910,
           1308,
           0,
           339,
           229,
           12,
           991,
           9,
           613,
           27,
           485,
           337,
           246,
           241,
           316,
           322,
           583,
           186,
           35,
           93,
           280,
           135,
           17,
           372,
           1399,
           16,
           513,
           10,
           47,
           94,
           974,
           1829,
           5,
           851,
           10,
           722,
           308,
           189,
           414,
           155,
           873,
           39,
           2,
           23,
           2,
           459,
           653,
           90,
           206,
           296,
           779,
           81,
           19,
           729,
           0,
           223,
           6,
           0,
           6,
           1337,
           8,
           35,
           225,
           1243,
           43,
           374,
           0,
           195,
           48,
           57,
           544,
           1188,
           990,
           512,
           469,
           102,
           284,
           271,
           86,
           2,
           663,
           240,
           12,
           525,
           418,
           474,
           66,
           430,
           158,
           16,
           136,
           27,
           43,
           9,
           0,
           75,
           531,
           20,
           100,
           456,
           1352,
           654,
           3,
           25,
           16,
           360,
           1158,
           4,
           10,
           273,
           34,
           59,
           567,
           14,
           445,
           312,
           40,
           26,
           87,
           8,
           2,
           2,
           15,
           17,
           0,
           589,
           699,
           1141,
           1445,
           1445,
           1445,
           524,
           325,
           151,
           861,
           555,
           89,
           338,
           123,
           254,
           838,
           57,
           2,
           1,
           0,
           656,
           783,
           554,
           555,
           625,
           8,
           949,
           9,
           152,
           1017,
           533,
           30,
           556,
           39,
           69,
           135,
           4,
           1079,
           246,
           111,
           82,
           34,
           2,
           36,
           55,
           128,
           229,
           5,
           356,
           61,
           196,
           52,
           523,
           0,
           71,
           38,
           9,
           353,
           218,
           34,
           91,
           161,
           858,
           299,
           63,
           1196,
           98,
           504,
           14,
           8,
           1726,
           196,
           1173,
           6,
           437,
           50,
           12,
           410,
           150,
           2,
           501,
           100,
           213,
           449,
           165,
           539,
           191,
           611,
           38,
           374,
           9,
           370,
           329,
           203,
           34,
           9,
           874,
           43,
           532,
           317,
           636,
           0,
           161,
           127,
           1,
           59,
           11,
           403,
           209,
           412,
           675,
           483,
           556,
           24,
           1221,
           1221,
           36,
           590,
           2061,
           527,
           35,
           440,
           1,
           346,
           142,
           339,
           984,
           316,
           54,
           603,
           106,
           160,
           68,
           35,
           0,
           135,
           559,
           11,
           318,
           27,
           13,
           3,
           719,
           919,
           345,
           342,
           749,
           0,
           3,
           26,
           65,
           764,
           778,
           350,
           747,
           399,
           465,
           1149,
           283,
           286,
           124,
           410,
           263,
           1150,
           132,
           200,
           363,
           7,
           34,
           578,
           1225,
           13,
           13,
           0,
           7,
           8,
           89,
           4,
           4,
           23,
           133,
           36,
           210,
           51,
           314,
           7,
           22,
           625,
           542,
           58,
           75,
           1070,
           887,
           67,
           777,
           171,
           558,
           240,
           29,
           1675,
           1675,
           8,
           0,
           31,
           206,
           203,
           932,
           70,
           11,
           134,
           515,
           374,
           159,
           617,
           143,
           16,
           117,
           60,
           768,
           1292,
           1292,
           52,
           278,
           27,
           22,
           154,
           512,
           432,
           1030,
           1030,
           298,
           729,
           717,
           153,
           356,
           472,
           804,
           656,
           973,
           470,
           138,
           254,
           503,
           69,
           4,
           65,
           44,
           57,
           13,
           66,
           537,
           537,
           98,
           201,
           11,
           626,
           228,
           168,
           966,
           613,
           353,
           153,
           8,
           142,
           332,
           0,
           176,
           77,
           53,
           46,
           231,
           686,
           686,
           243,
           16,
           126,
           1043,
           11,
           6,
           105,
           432,
           94,
           435,
           943,
           6,
           197,
           1,
           89,
           90,
           996,
           216,
           6,
           0,
           710,
           53,
           37,
           16,
           445,
           445,
           445,
           122,
           319,
           424,
           424,
           424,
           3,
           20,
           25,
           17,
           42,
           198,
           177,
           191,
           112,
           65,
           177,
           638,
           339,
           174,
           1695,
           1695,
           1695,
           1695,
           1394,
           1394,
           1394,
           1394,
           248,
           530,
           677,
           939,
           879,
           1095,
           1095,
           1095,
           1095,
           399,
           171,
           152,
           19,
           250,
           29,
           4,
           25,
           1,
           767,
           350,
           784,
           350,
           306,
           44,
           107,
           45,
           89,
           646,
           208,
           62,
           622,
           47,
           592,
           24,
           430,
           98,
           26,
           2,
           48,
           153,
           982,
           252,
           511,
           356,
           665,
           738,
           738,
           738,
           2,
           573,
           1249,
           1249,
           1249,
           1249,
           435,
           99,
           40,
           429,
           403,
           0,
           161,
           0,
           302,
           101,
           250,
           779,
           100,
           28,
           20,
           341,
           200,
           216,
           9,
           916,
           36,
           448,
           91,
           990,
           990,
           404,
           166,
           257,
           921,
           1113,
           126,
           451,
           999,
           0,
           445,
           8,
           608,
           452,
           126,
           421,
           208,
           81,
           7,
           22,
           34,
           56,
           81,
           30,
           111,
           78,
           374,
           0,
           1325,
           1325,
           1325,
           689,
           689,
           689,
           689,
           307,
           1455,
           110,
           143,
           104,
           2,
           37,
           494,
           394,
           455,
           58,
           506,
           506,
           1008,
           923,
           603,
           603,
           603,
           3,
           12,
           15,
           153,
           22,
           957,
           0,
           705,
           705,
           705,
           705,
           22,
           386,
           305,
           1100,
           265,
           69,
           5,
           10,
           506,
           149,
           1359,
           1359,
           14,
           136,
           136,
           136,
           467,
           467,
           467,
           15,
           51,
           20,
           596,
           465,
           131,
           1177,
           1177,
           1177,
           1177,
           1177,
           33,
           204,
           231,
           196,
           933,
           194,
           670,
           10,
           588,
           34,
           205,
           610,
           419,
           1368,
           1368,
           1368,
           1368,
           1368,
           1368,
           1368,
           1368,
           23,
           292,
           490,
           45,
           99,
           2,
           47,
           512,
           1160,
           1160,
           1076,
           1076,
           1076,
           97,
           453,
           484,
           22,
           34,
           106,
           239,
           13,
           399,
           1015,
           1015,
           0,
           557,
           37,
           938,
           186,
           190,
           556,
           29,
           29,
           29,
           29,
           415,
           782,
           782,
           782,
           782,
           782,
           798,
           798,
           798,
           798,
           798,
           798,
           549,
           23,
           88,
           13,
           32,
           589,
           45,
           580,
           340,
           60,
           132,
           27,
           570,
           106,
           33,
           173,
           130,
           77,
           271,
           202,
           319,
           9,
           4,
           21,
           17,
           8,
           651,
           651,
           393,
           239,
           57,
           210,
           62,
           81,
           28,
           34,
           856,
           674,
           6,
           569,
           410,
           572,
           353,
           21,
           35,
           55,
           1410,
           1410,
           1410,
           1410,
           236,
           279,
           537,
           111,
           2,
           32,
           297,
           331,
           42,
           1019,
           229,
           271,
           1012,
           93,
           91,
           2,
           25,
           1373,
           1373,
           1373,
           610,
           2,
           765,
           767,
           136,
           738,
           933,
           361,
           106,
           808,
           808,
           808,
           808,
           53,
           653,
           774,
           134,
           163,
           359,
           151,
           1300,
           1300,
           1145,
           1145,
           1145,
           574,
           998,
           998,
           998,
           998,
           998,
           998,
           998,
           53,
           0,
           41,
           39,
           74,
           323,
           18,
           185,
           0,
           10,
           933,
           1039,
           67,
           223,
           184,
           39,
           10,
           29,
           34,
           134,
           198,
           482,
           78,
           56,
           348,
           406,
           284,
           689,
           518,
           99,
           842,
           842,
           842,
           842,
           842,
           842,
           842,
           842,
           430,
           521,
           143,
           487,
           487,
           6,
           939,
           630,
           189,
           62,
           1619,
           1619,
           1619,
           1619,
           1619,
           53,
           453,
           23,
           12,
           11,
           1322,
           1322,
           1322,
           1322,
           1322,
           1322,
           1322,
           1322,
           233,
           336,
           336,
           336,
           336,
           657,
           40,
           899,
           1156,
           635,
           1542,
           1542,
           1542,
           1542,
           1542,
           1542,
           1432,
           386,
           59,
           964,
           946,
           946,
           946,
           946,
           774,
           4,
           25,
           503,
           29,
           10,
           532,
           1008,
           1008,
           1008,
           1008,
           1008,
           1008,
           1008,
           1008,
           124,
           141,
           51,
           90,
           28,
           28,
           0,
           539,
           101,
           1221,
           1221,
           1221,
           37,
           0,
           384,
           508,
           23,
           2,
           21,
           1045,
           1045,
           1045,
           1045,
           840,
           8,
           321,
           329,
           24,
           45,
           69,
           539,
           145,
           11,
           36,
           885,
           70,
           224,
           647,
           375,
           375,
           375,
           4,
           6,
           638,
           138,
           6,
           410,
           0,
           1044,
           537,
           537,
           43,
           4,
           196,
           323,
           209,
           42,
           10,
           116,
           11,
           72,
           15,
           7,
           46,
           96,
           5,
           41,
           876,
           111,
           4,
           1194,
           93,
           80,
           1145,
           0,
           977,
           15,
           239,
           1184,
           372,
           264,
           108,
           199,
           11,
           162,
           263,
           93,
           24,
           530,
           1290,
           237,
           70,
           1058,
           356,
           525,
           895,
           895,
           895,
           895,
           193,
           2,
           49,
           773,
           773,
           773,
           773,
           773,
           5,
           894,
           19,
           372,
           13,
           92,
           298,
           9,
           577,
           1871,
           1871,
           1871,
           1871,
           1871,
           1871,
           1871,
           1871,
           63,
           686,
           363,
           892,
           80,
           730,
           393,
           184,
           144,
           8,
           68,
           153,
           85,
           123,
           1416,
           1416,
           2,
           48,
           22,
           40,
           179,
           140,
           605,
           0,
           10,
           168,
           465,
           1632,
           1632,
           1632,
           1632,
           1632,
           749,
           56,
           40,
           4,
           814,
           445,
           510,
           661,
           661,
           661,
           661,
           661,
           135,
           180,
           147,
           35,
           35,
           791,
           791,
           791,
           8,
           4,
           4,
           313,
           178,
           15,
           36,
           51,
           914,
           224,
           109,
           727,
           100,
           146,
           153,
           1350,
           1350,
           1350,
           1350,
           1350,
           1350,
           1350,
           1350,
           1350,
           54,
           31,
           3,
           692,
           34,
           437,
           9,
           18,
           145,
           114,
           105,
           28,
           354,
           191,
           409,
           40,
           464,
           792,
           255,
           575,
           502,
           30,
           283,
           598,
           462,
           9,
           474,
           6,
           1297,
           1297,
           1297,
           1297,
           1297,
           1297,
           366,
           67,
           1093,
           574,
           15,
           243,
           123,
           502,
           349,
           111,
           3,
           17,
           1104,
           1104,
           1104,
           1104,
           1104,
           1104,
           1104,
           1104,
           1104,
           1104,
           1104,
           98,
           99,
           42,
           40,
           138,
           386,
           872,
           101,
           645,
           809,
           809,
           809,
           809,
           439,
           383,
           113,
           273,
           283,
           839,
           98,
           684,
           621,
           621,
           621,
           668,
           65,
           20,
           637,
           637,
           637,
           637,
           262,
           12,
           104,
           116,
           1045,
           63,
           1272,
           0,
           47,
           416,
           192,
           184,
           58,
           1142,
           1142,
           503,
           45,
           154,
           19,
           12,
           206,
           881,
           946,
           843,
           471,
           33,
           179,
           126,
           23,
           85,
           334,
           258,
           643,
           403,
           121,
           74,
           1349,
           464,
           464,
           464,
           464,
           464,
           43,
           1080,
           583,
           301,
           44,
           147,
           778,
           742,
           542,
           165,
           554,
           99,
           264,
           325,
           78,
           385,
           493,
           38,
           9,
           6,
           250,
           58,
           75,
           422,
           3,
           22,
           38,
           344,
           344,
           344,
           219,
           113,
           141,
           275,
           905,
           423,
           96,
           80,
           317,
           292,
           22,
           321,
           1063,
           188,
           73,
           836,
           536,
           647,
           352,
           494,
           1292,
           1292,
           1292,
           1292,
           1292,
           1292,
           1292,
           1292,
           1292,
           260,
           1007,
           1007,
           1007,
           1007,
           1007,
           1007,
           369,
           902,
           902,
           902,
           247,
           878,
           70,
           1112,
           1112,
           1112,
           1112,
           437,
           217,
           636,
           164,
           186,
           958,
           553,
           48,
           458,
           1361,
           1361,
           1361,
           1361,
           1361,
           1361,
           1361,
           1361,
           1361,
           1361,
           942,
           95,
           2175,
           2175,
           2175,
           2175,
           2175,
           2175,
           2175,
           2175,
           2175,
           2175,
           2175,
           2175,
           19,
           15,
           650,
           33,
           95,
           224,
           23,
           248,
           200,
           115,
           71,
           44,
           0,
           372,
           152,
           416,
           12,
           1854,
           1854,
           1854,
           1854,
           1854,
           1854,
           1854,
           1854,
           1854,
           1854,
           458,
           67,
           442,
           545,
           416,
           1206,
           13,
           688,
           319,
           41,
           15,
           26,
           572,
           117,
           371,
           814,
           870,
           314,
           238,
           714,
           105,
           229,
           198,
           9,
           149,
           824,
           1558,
           1558,
           1558,
           1558,
           1558,
           1558,
           1558,
           1558,
           1558,
           1558,
           1558,
           191,
           161,
           164,
           314,
           27,
           608,
           163,
           2,
           6,
           233,
           44,
           25,
           397,
           110,
           841,
           8,
           1162,
           1162,
           1162,
           1162,
           1162,
           1162,
           1162,
           138,
           287,
           1133,
           1133,
           1133,
           1133,
           1133,
           1133,
           1133,
           1133,
           118,
           908,
           207,
           106,
           464,
           304,
           1,
           623,
           682,
           495,
           60,
           41,
           22,
           18,
           14,
           84,
           1,
           76,
           8,
           0,
           150,
           234,
           559,
           93,
           50,
           2,
           251,
           219,
           175,
           466,
           652,
           49,
           29,
           914,
           46,
           443,
           32,
           95,
           2,
           877,
           157,
           224,
           987,
           987,
           987,
           489,
           338,
           34,
           21,
           1431,
           1431,
           1431,
           1431,
           1431,
           53,
           2,
           746,
           1,
           3,
           217,
           459,
           93,
           96,
           664,
           29,
           1013,
           424,
           22,
           194,
           53,
           767,
           145,
           593,
           664,
           22,
           173,
           1555,
           1555,
           1555,
           1555,
           1555,
           1555,
           1555,
           1555,
           1555,
           433,
           650,
           120,
           1282,
           1282,
           963,
           963,
           963,
           963,
           963,
           963,
           963,
           120,
           501,
           1269,
           1269,
           1269,
           1269,
           1269,
           1269,
           1497,
           1497,
           1497,
           1497,
           1497,
           923,
           460,
           771,
           130,
           305,
           0,
           566,
           164,
           803,
           803,
           803,
           803,
           803,
           803,
           803,
           803,
           803,
           803,
           756,
           28,
           0,
           24,
           342,
           121,
           691,
           691,
           691,
           691,
           691,
           724,
           45,
           24,
           182,
           6,
           119,
           94,
           1242,
           1242,
           1242,
           1242,
           650,
           650,
           650,
           650,
           650,
           650,
           650,
           650,
           650,
           650,
           182,
           7,
           5,
           849,
           180,
           220,
           80,
           338,
           42,
           22,
           132,
           123,
           9,
           607,
           65,
           9,
           198,
           5,
           931,
           956,
           254,
           58,
           58,
           270,
           232,
           298,
           38,
           514,
           26,
           883,
           400,
           549,
           602,
           70,
           54,
           699,
           1086,
           1086,
           1086,
           1086,
           1086,
           1086,
           331,
           1076,
           569,
           5,
           185,
           214,
           308,
           55,
           190,
           938,
           779,
           767,
           767,
           767,
           767,
           767,
           767,
           84,
           186,
           325,
           17,
           396,
           851,
           89,
           102,
           491,
           57,
           810,
           20,
           18,
           55,
           52,
           73,
           244,
           296,
           106,
           107,
           16,
           167,
           93,
           338,
           285,
           94,
           324,
           116,
           8,
           803,
           498,
           83,
           1591,
           1591,
           1369,
           1369,
           1369,
           1369,
           342,
           56,
           77,
           86,
           0,
           0,
           249,
           1296,
           461,
           124,
           119,
           1145,
           1145,
           1145,
           1145,
           666,
           193,
           93,
           260,
           338,
           907,
           1411,
           182,
           1131,
           1131,
           1131,
           1131,
           1131,
           389,
           251,
           154,
           101,
           0,
           101,
           293,
           112,
           181,
           483,
           971,
           1490,
           1490,
           1490,
           1490,
           1490,
           1490,
           1490,
           152,
           304,
           140,
           19,
           229,
           1304,
           1304,
           1304,
           1304,
           248,
           528,
           45,
           191,
           13,
           1619,
           690
          ],
          "sizemode": "area",
          "sizeref": 5.4375,
          "symbol": "circle"
         },
         "mode": "markers",
         "name": "",
         "showlegend": false,
         "type": "scattergl",
         "x": [
          12,
          36,
          533,
          4,
          15,
          219,
          2,
          19,
          15,
          288,
          37,
          690,
          251,
          104,
          316,
          45,
          370,
          10,
          2,
          12,
          627,
          185,
          1331,
          1145,
          206,
          150,
          377,
          215,
          34,
          192,
          70,
          86,
          156,
          142,
          115,
          27,
          30,
          107,
          484,
          17,
          2,
          287,
          504,
          330,
          10,
          120,
          6,
          7,
          4,
          11,
          541,
          155,
          55,
          517,
          579,
          71,
          1778,
          990,
          1759,
          684,
          1349,
          455,
          58,
          371,
          389,
          128,
          492,
          0,
          128,
          218,
          107,
          393,
          843,
          667,
          136,
          12,
          53,
          330,
          40,
          332,
          3,
          0,
          466,
          716,
          590,
          983,
          487,
          319,
          197,
          122,
          3,
          419,
          8,
          50,
          318,
          610,
          218,
          237,
          465,
          426,
          279,
          0,
          758,
          9,
          346,
          720,
          62,
          910,
          1308,
          0,
          339,
          229,
          12,
          991,
          9,
          613,
          27,
          485,
          337,
          246,
          241,
          316,
          322,
          583,
          186,
          35,
          93,
          280,
          135,
          17,
          372,
          1399,
          16,
          513,
          10,
          47,
          94,
          974,
          1829,
          5,
          851,
          10,
          722,
          308,
          189,
          414,
          155,
          873,
          39,
          2,
          23,
          2,
          459,
          653,
          90,
          206,
          296,
          779,
          81,
          19,
          729,
          0,
          223,
          6,
          0,
          6,
          1337,
          8,
          35,
          225,
          1243,
          43,
          374,
          0,
          195,
          48,
          57,
          544,
          1188,
          990,
          512,
          469,
          102,
          284,
          271,
          86,
          2,
          663,
          240,
          12,
          525,
          418,
          474,
          66,
          430,
          158,
          16,
          136,
          27,
          43,
          9,
          0,
          75,
          531,
          20,
          100,
          456,
          1352,
          654,
          3,
          25,
          16,
          360,
          1158,
          4,
          10,
          273,
          34,
          59,
          567,
          14,
          445,
          312,
          40,
          26,
          87,
          8,
          2,
          2,
          15,
          17,
          0,
          589,
          699,
          1141,
          1445,
          1445,
          1445,
          524,
          325,
          151,
          861,
          555,
          89,
          338,
          123,
          254,
          838,
          57,
          2,
          1,
          0,
          656,
          783,
          554,
          555,
          625,
          8,
          949,
          9,
          152,
          1017,
          533,
          30,
          556,
          39,
          69,
          135,
          4,
          1079,
          246,
          111,
          82,
          34,
          2,
          36,
          55,
          128,
          229,
          5,
          356,
          61,
          196,
          52,
          523,
          0,
          71,
          38,
          9,
          353,
          218,
          34,
          91,
          161,
          858,
          299,
          63,
          1196,
          98,
          504,
          14,
          8,
          1726,
          196,
          1173,
          6,
          437,
          50,
          12,
          410,
          150,
          2,
          501,
          100,
          213,
          449,
          165,
          539,
          191,
          611,
          38,
          374,
          9,
          370,
          329,
          203,
          34,
          9,
          874,
          43,
          532,
          317,
          636,
          0,
          161,
          127,
          1,
          59,
          11,
          403,
          209,
          412,
          675,
          483,
          556,
          24,
          1221,
          1221,
          36,
          590,
          2061,
          527,
          35,
          440,
          1,
          346,
          142,
          339,
          984,
          316,
          54,
          603,
          106,
          160,
          68,
          35,
          0,
          135,
          559,
          11,
          318,
          27,
          13,
          3,
          719,
          919,
          345,
          342,
          749,
          0,
          3,
          26,
          65,
          764,
          778,
          350,
          747,
          399,
          465,
          1149,
          283,
          286,
          124,
          410,
          263,
          1150,
          132,
          200,
          363,
          7,
          34,
          578,
          1225,
          13,
          13,
          0,
          7,
          8,
          89,
          4,
          4,
          23,
          133,
          36,
          210,
          51,
          314,
          7,
          22,
          625,
          542,
          58,
          75,
          1070,
          887,
          67,
          777,
          171,
          558,
          240,
          29,
          1675,
          1675,
          8,
          0,
          31,
          206,
          203,
          932,
          70,
          11,
          134,
          515,
          374,
          159,
          617,
          143,
          16,
          117,
          60,
          768,
          1292,
          1292,
          52,
          278,
          27,
          22,
          154,
          512,
          432,
          1030,
          1030,
          298,
          729,
          717,
          153,
          356,
          472,
          804,
          656,
          973,
          470,
          138,
          254,
          503,
          69,
          4,
          65,
          44,
          57,
          13,
          66,
          537,
          537,
          98,
          201,
          11,
          626,
          228,
          168,
          966,
          613,
          353,
          153,
          8,
          142,
          332,
          0,
          176,
          77,
          53,
          46,
          231,
          686,
          686,
          243,
          16,
          126,
          1043,
          11,
          6,
          105,
          432,
          94,
          435,
          943,
          6,
          197,
          1,
          89,
          90,
          996,
          216,
          6,
          0,
          710,
          53,
          37,
          16,
          445,
          445,
          445,
          122,
          319,
          424,
          424,
          424,
          3,
          20,
          25,
          17,
          42,
          198,
          177,
          191,
          112,
          65,
          177,
          638,
          339,
          174,
          1695,
          1695,
          1695,
          1695,
          1394,
          1394,
          1394,
          1394,
          248,
          530,
          677,
          939,
          879,
          1095,
          1095,
          1095,
          1095,
          399,
          171,
          152,
          19,
          250,
          29,
          4,
          25,
          1,
          767,
          350,
          784,
          350,
          306,
          44,
          107,
          45,
          89,
          646,
          208,
          62,
          622,
          47,
          592,
          24,
          430,
          98,
          26,
          2,
          48,
          153,
          982,
          252,
          511,
          356,
          665,
          738,
          738,
          738,
          2,
          573,
          1249,
          1249,
          1249,
          1249,
          435,
          99,
          40,
          429,
          403,
          0,
          161,
          0,
          302,
          101,
          250,
          779,
          100,
          28,
          20,
          341,
          200,
          216,
          9,
          916,
          36,
          448,
          91,
          990,
          990,
          404,
          166,
          257,
          921,
          1113,
          126,
          451,
          999,
          0,
          445,
          8,
          608,
          452,
          126,
          421,
          208,
          81,
          7,
          22,
          34,
          56,
          81,
          30,
          111,
          78,
          374,
          0,
          1325,
          1325,
          1325,
          689,
          689,
          689,
          689,
          307,
          1455,
          110,
          143,
          104,
          2,
          37,
          494,
          394,
          455,
          58,
          506,
          506,
          1008,
          923,
          603,
          603,
          603,
          3,
          12,
          15,
          153,
          22,
          957,
          0,
          705,
          705,
          705,
          705,
          22,
          386,
          305,
          1100,
          265,
          69,
          5,
          10,
          506,
          149,
          1359,
          1359,
          14,
          136,
          136,
          136,
          467,
          467,
          467,
          15,
          51,
          20,
          596,
          465,
          131,
          1177,
          1177,
          1177,
          1177,
          1177,
          33,
          204,
          231,
          196,
          933,
          194,
          670,
          10,
          588,
          34,
          205,
          610,
          419,
          1368,
          1368,
          1368,
          1368,
          1368,
          1368,
          1368,
          1368,
          23,
          292,
          490,
          45,
          99,
          2,
          47,
          512,
          1160,
          1160,
          1076,
          1076,
          1076,
          97,
          453,
          484,
          22,
          34,
          106,
          239,
          13,
          399,
          1015,
          1015,
          0,
          557,
          37,
          938,
          186,
          190,
          556,
          29,
          29,
          29,
          29,
          415,
          782,
          782,
          782,
          782,
          782,
          798,
          798,
          798,
          798,
          798,
          798,
          549,
          23,
          88,
          13,
          32,
          589,
          45,
          580,
          340,
          60,
          132,
          27,
          570,
          106,
          33,
          173,
          130,
          77,
          271,
          202,
          319,
          9,
          4,
          21,
          17,
          8,
          651,
          651,
          393,
          239,
          57,
          210,
          62,
          81,
          28,
          34,
          856,
          674,
          6,
          569,
          410,
          572,
          353,
          21,
          35,
          55,
          1410,
          1410,
          1410,
          1410,
          236,
          279,
          537,
          111,
          2,
          32,
          297,
          331,
          42,
          1019,
          229,
          271,
          1012,
          93,
          91,
          2,
          25,
          1373,
          1373,
          1373,
          610,
          2,
          765,
          767,
          136,
          738,
          933,
          361,
          106,
          808,
          808,
          808,
          808,
          53,
          653,
          774,
          134,
          163,
          359,
          151,
          1300,
          1300,
          1145,
          1145,
          1145,
          574,
          998,
          998,
          998,
          998,
          998,
          998,
          998,
          53,
          0,
          41,
          39,
          74,
          323,
          18,
          185,
          0,
          10,
          933,
          1039,
          67,
          223,
          184,
          39,
          10,
          29,
          34,
          134,
          198,
          482,
          78,
          56,
          348,
          406,
          284,
          689,
          518,
          99,
          842,
          842,
          842,
          842,
          842,
          842,
          842,
          842,
          430,
          521,
          143,
          487,
          487,
          6,
          939,
          630,
          189,
          62,
          1619,
          1619,
          1619,
          1619,
          1619,
          53,
          453,
          23,
          12,
          11,
          1322,
          1322,
          1322,
          1322,
          1322,
          1322,
          1322,
          1322,
          233,
          336,
          336,
          336,
          336,
          657,
          40,
          899,
          1156,
          635,
          1542,
          1542,
          1542,
          1542,
          1542,
          1542,
          1432,
          386,
          59,
          964,
          946,
          946,
          946,
          946,
          774,
          4,
          25,
          503,
          29,
          10,
          532,
          1008,
          1008,
          1008,
          1008,
          1008,
          1008,
          1008,
          1008,
          124,
          141,
          51,
          90,
          28,
          28,
          0,
          539,
          101,
          1221,
          1221,
          1221,
          37,
          0,
          384,
          508,
          23,
          2,
          21,
          1045,
          1045,
          1045,
          1045,
          840,
          8,
          321,
          329,
          24,
          45,
          69,
          539,
          145,
          11,
          36,
          885,
          70,
          224,
          647,
          375,
          375,
          375,
          4,
          6,
          638,
          138,
          6,
          410,
          0,
          1044,
          537,
          537,
          43,
          4,
          196,
          323,
          209,
          42,
          10,
          116,
          11,
          72,
          15,
          7,
          46,
          96,
          5,
          41,
          876,
          111,
          4,
          1194,
          93,
          80,
          1145,
          0,
          977,
          15,
          239,
          1184,
          372,
          264,
          108,
          199,
          11,
          162,
          263,
          93,
          24,
          530,
          1290,
          237,
          70,
          1058,
          356,
          525,
          895,
          895,
          895,
          895,
          193,
          2,
          49,
          773,
          773,
          773,
          773,
          773,
          5,
          894,
          19,
          372,
          13,
          92,
          298,
          9,
          577,
          1871,
          1871,
          1871,
          1871,
          1871,
          1871,
          1871,
          1871,
          63,
          686,
          363,
          892,
          80,
          730,
          393,
          184,
          144,
          8,
          68,
          153,
          85,
          123,
          1416,
          1416,
          2,
          48,
          22,
          40,
          179,
          140,
          605,
          0,
          10,
          168,
          465,
          1632,
          1632,
          1632,
          1632,
          1632,
          749,
          56,
          40,
          4,
          814,
          445,
          510,
          661,
          661,
          661,
          661,
          661,
          135,
          180,
          147,
          35,
          35,
          791,
          791,
          791,
          8,
          4,
          4,
          313,
          178,
          15,
          36,
          51,
          914,
          224,
          109,
          727,
          100,
          146,
          153,
          1350,
          1350,
          1350,
          1350,
          1350,
          1350,
          1350,
          1350,
          1350,
          54,
          31,
          3,
          692,
          34,
          437,
          9,
          18,
          145,
          114,
          105,
          28,
          354,
          191,
          409,
          40,
          464,
          792,
          255,
          575,
          502,
          30,
          283,
          598,
          462,
          9,
          474,
          6,
          1297,
          1297,
          1297,
          1297,
          1297,
          1297,
          366,
          67,
          1093,
          574,
          15,
          243,
          123,
          502,
          349,
          111,
          3,
          17,
          1104,
          1104,
          1104,
          1104,
          1104,
          1104,
          1104,
          1104,
          1104,
          1104,
          1104,
          98,
          99,
          42,
          40,
          138,
          386,
          872,
          101,
          645,
          809,
          809,
          809,
          809,
          439,
          383,
          113,
          273,
          283,
          839,
          98,
          684,
          621,
          621,
          621,
          668,
          65,
          20,
          637,
          637,
          637,
          637,
          262,
          12,
          104,
          116,
          1045,
          63,
          1272,
          0,
          47,
          416,
          192,
          184,
          58,
          1142,
          1142,
          503,
          45,
          154,
          19,
          12,
          206,
          881,
          946,
          843,
          471,
          33,
          179,
          126,
          23,
          85,
          334,
          258,
          643,
          403,
          121,
          74,
          1349,
          464,
          464,
          464,
          464,
          464,
          43,
          1080,
          583,
          301,
          44,
          147,
          778,
          742,
          542,
          165,
          554,
          99,
          264,
          325,
          78,
          385,
          493,
          38,
          9,
          6,
          250,
          58,
          75,
          422,
          3,
          22,
          38,
          344,
          344,
          344,
          219,
          113,
          141,
          275,
          905,
          423,
          96,
          80,
          317,
          292,
          22,
          321,
          1063,
          188,
          73,
          836,
          536,
          647,
          352,
          494,
          1292,
          1292,
          1292,
          1292,
          1292,
          1292,
          1292,
          1292,
          1292,
          260,
          1007,
          1007,
          1007,
          1007,
          1007,
          1007,
          369,
          902,
          902,
          902,
          247,
          878,
          70,
          1112,
          1112,
          1112,
          1112,
          437,
          217,
          636,
          164,
          186,
          958,
          553,
          48,
          458,
          1361,
          1361,
          1361,
          1361,
          1361,
          1361,
          1361,
          1361,
          1361,
          1361,
          942,
          95,
          2175,
          2175,
          2175,
          2175,
          2175,
          2175,
          2175,
          2175,
          2175,
          2175,
          2175,
          2175,
          19,
          15,
          650,
          33,
          95,
          224,
          23,
          248,
          200,
          115,
          71,
          44,
          0,
          372,
          152,
          416,
          12,
          1854,
          1854,
          1854,
          1854,
          1854,
          1854,
          1854,
          1854,
          1854,
          1854,
          458,
          67,
          442,
          545,
          416,
          1206,
          13,
          688,
          319,
          41,
          15,
          26,
          572,
          117,
          371,
          814,
          870,
          314,
          238,
          714,
          105,
          229,
          198,
          9,
          149,
          824,
          1558,
          1558,
          1558,
          1558,
          1558,
          1558,
          1558,
          1558,
          1558,
          1558,
          1558,
          191,
          161,
          164,
          314,
          27,
          608,
          163,
          2,
          6,
          233,
          44,
          25,
          397,
          110,
          841,
          8,
          1162,
          1162,
          1162,
          1162,
          1162,
          1162,
          1162,
          138,
          287,
          1133,
          1133,
          1133,
          1133,
          1133,
          1133,
          1133,
          1133,
          118,
          908,
          207,
          106,
          464,
          304,
          1,
          623,
          682,
          495,
          60,
          41,
          22,
          18,
          14,
          84,
          1,
          76,
          8,
          0,
          150,
          234,
          559,
          93,
          50,
          2,
          251,
          219,
          175,
          466,
          652,
          49,
          29,
          914,
          46,
          443,
          32,
          95,
          2,
          877,
          157,
          224,
          987,
          987,
          987,
          489,
          338,
          34,
          21,
          1431,
          1431,
          1431,
          1431,
          1431,
          53,
          2,
          746,
          1,
          3,
          217,
          459,
          93,
          96,
          664,
          29,
          1013,
          424,
          22,
          194,
          53,
          767,
          145,
          593,
          664,
          22,
          173,
          1555,
          1555,
          1555,
          1555,
          1555,
          1555,
          1555,
          1555,
          1555,
          433,
          650,
          120,
          1282,
          1282,
          963,
          963,
          963,
          963,
          963,
          963,
          963,
          120,
          501,
          1269,
          1269,
          1269,
          1269,
          1269,
          1269,
          1497,
          1497,
          1497,
          1497,
          1497,
          923,
          460,
          771,
          130,
          305,
          0,
          566,
          164,
          803,
          803,
          803,
          803,
          803,
          803,
          803,
          803,
          803,
          803,
          756,
          28,
          0,
          24,
          342,
          121,
          691,
          691,
          691,
          691,
          691,
          724,
          45,
          24,
          182,
          6,
          119,
          94,
          1242,
          1242,
          1242,
          1242,
          650,
          650,
          650,
          650,
          650,
          650,
          650,
          650,
          650,
          650,
          182,
          7,
          5,
          849,
          180,
          220,
          80,
          338,
          42,
          22,
          132,
          123,
          9,
          607,
          65,
          9,
          198,
          5,
          931,
          956,
          254,
          58,
          58,
          270,
          232,
          298,
          38,
          514,
          26,
          883,
          400,
          549,
          602,
          70,
          54,
          699,
          1086,
          1086,
          1086,
          1086,
          1086,
          1086,
          331,
          1076,
          569,
          5,
          185,
          214,
          308,
          55,
          190,
          938,
          779,
          767,
          767,
          767,
          767,
          767,
          767,
          84,
          186,
          325,
          17,
          396,
          851,
          89,
          102,
          491,
          57,
          810,
          20,
          18,
          55,
          52,
          73,
          244,
          296,
          106,
          107,
          16,
          167,
          93,
          338,
          285,
          94,
          324,
          116,
          8,
          803,
          498,
          83,
          1591,
          1591,
          1369,
          1369,
          1369,
          1369,
          342,
          56,
          77,
          86,
          0,
          0,
          249,
          1296,
          461,
          124,
          119,
          1145,
          1145,
          1145,
          1145,
          666,
          193,
          93,
          260,
          338,
          907,
          1411,
          182,
          1131,
          1131,
          1131,
          1131,
          1131,
          389,
          251,
          154,
          101,
          0,
          101,
          293,
          112,
          181,
          483,
          971,
          1490,
          1490,
          1490,
          1490,
          1490,
          1490,
          1490,
          152,
          304,
          140,
          19,
          229,
          1304,
          1304,
          1304,
          1304,
          248,
          528,
          45,
          191,
          13,
          1619,
          690
         ],
         "xaxis": "x",
         "y": [
          null,
          null,
          null,
          null,
          null,
          null,
          null,
          null,
          null,
          null,
          null,
          null,
          null,
          null,
          null,
          null,
          null,
          null,
          null,
          null,
          null,
          null,
          null,
          null,
          null,
          null,
          null,
          null,
          null,
          null,
          null,
          null,
          null,
          null,
          null,
          null,
          null,
          null,
          null,
          null,
          null,
          null,
          null,
          null,
          null,
          null,
          null,
          null,
          null,
          null,
          null,
          null,
          null,
          null,
          null,
          null,
          null,
          null,
          null,
          null,
          null,
          null,
          null,
          null,
          null,
          null,
          null,
          null,
          null,
          null,
          null,
          null,
          null,
          null,
          null,
          null,
          null,
          null,
          null,
          null,
          null,
          null,
          null,
          null,
          null,
          null,
          null,
          null,
          null,
          null,
          null,
          null,
          null,
          null,
          null,
          null,
          null,
          null,
          null,
          null,
          null,
          null,
          null,
          null,
          null,
          null,
          null,
          null,
          null,
          null,
          null,
          null,
          null,
          null,
          null,
          null,
          null,
          null,
          null,
          null,
          null,
          null,
          null,
          null,
          null,
          null,
          null,
          null,
          null,
          null,
          null,
          null,
          null,
          null,
          null,
          null,
          null,
          null,
          null,
          null,
          null,
          null,
          null,
          null,
          null,
          null,
          null,
          null,
          null,
          null,
          null,
          null,
          null,
          null,
          null,
          null,
          null,
          null,
          null,
          null,
          null,
          null,
          null,
          null,
          null,
          null,
          null,
          null,
          null,
          null,
          null,
          null,
          null,
          null,
          null,
          null,
          null,
          null,
          null,
          null,
          null,
          null,
          null,
          null,
          null,
          null,
          null,
          null,
          null,
          null,
          null,
          null,
          null,
          null,
          null,
          null,
          null,
          null,
          null,
          null,
          null,
          null,
          null,
          null,
          null,
          null,
          null,
          null,
          null,
          null,
          null,
          null,
          null,
          null,
          null,
          null,
          null,
          null,
          null,
          null,
          null,
          null,
          null,
          null,
          null,
          null,
          null,
          null,
          null,
          null,
          null,
          null,
          null,
          null,
          null,
          " C",
          " C",
          " C",
          null,
          null,
          null,
          null,
          null,
          null,
          null,
          null,
          null,
          null,
          null,
          null,
          null,
          null,
          null,
          null,
          null,
          null,
          null,
          null,
          null,
          null,
          null,
          null,
          null,
          null,
          null,
          null,
          null,
          null,
          null,
          null,
          null,
          null,
          null,
          null,
          null,
          null,
          null,
          null,
          null,
          null,
          null,
          null,
          null,
          null,
          null,
          null,
          null,
          null,
          null,
          null,
          null,
          null,
          null,
          null,
          null,
          null,
          null,
          " PF",
          null,
          null,
          null,
          null,
          " SG",
          null,
          null,
          null,
          null,
          null,
          null,
          null,
          null,
          null,
          null,
          null,
          null,
          null,
          null,
          null,
          null,
          null,
          null,
          null,
          null,
          null,
          null,
          null,
          null,
          null,
          null,
          null,
          null,
          null,
          null,
          null,
          null,
          null,
          null,
          null,
          null,
          null,
          null,
          null,
          null,
          null,
          null,
          null,
          " C",
          " C",
          null,
          null,
          " C",
          null,
          null,
          null,
          null,
          null,
          null,
          null,
          " SG",
          null,
          null,
          null,
          null,
          null,
          null,
          null,
          null,
          null,
          null,
          null,
          null,
          null,
          null,
          null,
          " PF",
          null,
          null,
          null,
          null,
          null,
          null,
          null,
          null,
          null,
          null,
          null,
          null,
          null,
          null,
          null,
          null,
          null,
          null,
          null,
          null,
          null,
          null,
          null,
          null,
          null,
          null,
          null,
          null,
          null,
          null,
          null,
          null,
          null,
          null,
          null,
          null,
          null,
          null,
          null,
          null,
          null,
          " SG",
          null,
          null,
          null,
          null,
          null,
          null,
          null,
          null,
          null,
          null,
          null,
          null,
          null,
          null,
          " SF",
          " SF",
          null,
          null,
          null,
          null,
          null,
          null,
          null,
          null,
          null,
          null,
          null,
          null,
          null,
          null,
          null,
          null,
          null,
          null,
          " SG",
          " SG",
          null,
          null,
          null,
          null,
          null,
          null,
          null,
          " PF",
          " PF",
          null,
          null,
          null,
          null,
          null,
          null,
          null,
          null,
          null,
          null,
          null,
          null,
          null,
          null,
          null,
          null,
          null,
          null,
          null,
          null,
          " C",
          " C",
          null,
          null,
          " SF",
          null,
          null,
          " G",
          null,
          null,
          null,
          null,
          null,
          null,
          null,
          null,
          null,
          null,
          null,
          null,
          null,
          " C",
          " C",
          null,
          null,
          null,
          null,
          null,
          null,
          null,
          null,
          null,
          null,
          null,
          null,
          null,
          null,
          null,
          null,
          null,
          null,
          null,
          null,
          null,
          null,
          null,
          null,
          " SF",
          " SF",
          " SF",
          null,
          null,
          " SG",
          " SG",
          " SG",
          null,
          null,
          null,
          null,
          null,
          null,
          null,
          null,
          null,
          null,
          null,
          null,
          null,
          null,
          " PG",
          " PG",
          " PG",
          " PG",
          " PF",
          " PF",
          " PF",
          " PF",
          null,
          null,
          null,
          null,
          null,
          " C",
          " C",
          " C",
          " C",
          null,
          null,
          null,
          null,
          null,
          null,
          null,
          null,
          null,
          null,
          null,
          null,
          null,
          null,
          null,
          null,
          null,
          null,
          null,
          null,
          null,
          null,
          null,
          null,
          null,
          null,
          null,
          null,
          null,
          null,
          null,
          null,
          null,
          " PF",
          null,
          null,
          " SF",
          " SF",
          " SF",
          null,
          null,
          " SG",
          " SG",
          " SG",
          " SG",
          null,
          null,
          null,
          null,
          null,
          null,
          null,
          null,
          null,
          null,
          null,
          null,
          null,
          null,
          null,
          null,
          null,
          null,
          null,
          null,
          null,
          null,
          null,
          " SF",
          " SF",
          null,
          null,
          null,
          null,
          null,
          null,
          null,
          null,
          null,
          null,
          null,
          null,
          null,
          null,
          null,
          null,
          null,
          null,
          null,
          null,
          null,
          null,
          null,
          null,
          null,
          " PG",
          null,
          " PG",
          " PG",
          " PG",
          " SF",
          " SF",
          " SF",
          " SF",
          null,
          " PG",
          null,
          null,
          null,
          null,
          null,
          null,
          null,
          null,
          null,
          " C",
          " C",
          " C",
          null,
          " SF",
          " SF",
          " SF",
          null,
          null,
          null,
          null,
          null,
          " C",
          null,
          " SF",
          " SF",
          " SF",
          " SF",
          null,
          null,
          null,
          null,
          null,
          null,
          null,
          null,
          null,
          null,
          " SG",
          " SG",
          null,
          " SF",
          " SF",
          " SF",
          " SF",
          " SF",
          " SF",
          null,
          null,
          null,
          null,
          null,
          null,
          " SF",
          " SF",
          " SF",
          " SF",
          " SF",
          null,
          null,
          null,
          null,
          null,
          null,
          null,
          null,
          null,
          null,
          null,
          null,
          null,
          " PF",
          " PF",
          " PF",
          " PF",
          " PF",
          " PF",
          " PF",
          " PF",
          null,
          null,
          null,
          null,
          null,
          null,
          null,
          null,
          " C",
          " C",
          " PG",
          " PG",
          " PG",
          null,
          null,
          null,
          null,
          null,
          null,
          null,
          null,
          null,
          " C",
          " C",
          null,
          null,
          null,
          null,
          null,
          null,
          null,
          " C",
          " C",
          " C",
          " C",
          null,
          " SF",
          " SF",
          " SF",
          " SF",
          " SF",
          " SG",
          " SG",
          " SG",
          " SG",
          " SG",
          " SG",
          null,
          null,
          null,
          null,
          null,
          null,
          null,
          null,
          null,
          null,
          " PG",
          null,
          " C",
          null,
          null,
          null,
          null,
          null,
          null,
          null,
          null,
          null,
          null,
          null,
          null,
          null,
          " C",
          " C",
          null,
          null,
          null,
          null,
          null,
          null,
          null,
          null,
          null,
          null,
          null,
          null,
          null,
          null,
          null,
          null,
          null,
          null,
          " SF",
          " SF",
          " SF",
          " SF",
          null,
          null,
          null,
          null,
          null,
          null,
          null,
          null,
          null,
          null,
          null,
          null,
          null,
          null,
          null,
          null,
          null,
          " PG",
          " PG",
          " PG",
          null,
          null,
          null,
          null,
          null,
          null,
          null,
          null,
          null,
          " C",
          " C",
          " C",
          " C",
          null,
          null,
          null,
          null,
          null,
          null,
          null,
          " SG",
          " SG",
          " SG",
          " SG",
          " SG",
          null,
          " SG",
          " SG",
          " SG",
          " SG",
          " SG",
          " SG",
          " SG",
          null,
          null,
          null,
          null,
          null,
          null,
          null,
          null,
          null,
          null,
          null,
          null,
          null,
          null,
          null,
          null,
          null,
          null,
          null,
          null,
          null,
          null,
          null,
          null,
          null,
          null,
          null,
          null,
          null,
          null,
          " PF",
          " PF",
          " PF",
          " PF",
          " PF",
          " PF",
          " PF",
          " PF",
          null,
          null,
          null,
          " PF",
          " PF",
          null,
          null,
          null,
          null,
          null,
          " PG",
          " PG",
          " PG",
          " PG",
          " PG",
          null,
          null,
          null,
          null,
          null,
          " PG",
          " PG",
          " PG",
          " PG",
          " PG",
          " PG",
          " PG",
          " PG",
          null,
          " C",
          " C",
          " C",
          " C",
          null,
          null,
          null,
          null,
          " PG",
          " C",
          " C",
          " C",
          " C",
          " C",
          " C",
          null,
          null,
          null,
          null,
          " C",
          " C",
          " C",
          " C",
          null,
          null,
          null,
          null,
          null,
          null,
          null,
          " C",
          " C",
          " C",
          " C",
          " C",
          " C",
          " C",
          " C",
          null,
          null,
          null,
          null,
          null,
          null,
          null,
          null,
          null,
          " PF",
          " PF",
          " PF",
          null,
          null,
          null,
          null,
          null,
          null,
          null,
          " SG",
          " SG",
          " SG",
          " SG",
          null,
          null,
          null,
          null,
          null,
          null,
          null,
          null,
          null,
          null,
          null,
          null,
          null,
          null,
          null,
          " SG",
          " SG",
          " SG",
          null,
          null,
          null,
          null,
          null,
          null,
          null,
          null,
          " C",
          " C",
          null,
          null,
          null,
          null,
          null,
          null,
          null,
          null,
          null,
          null,
          null,
          null,
          null,
          null,
          null,
          null,
          null,
          null,
          null,
          null,
          null,
          null,
          null,
          null,
          null,
          null,
          null,
          null,
          null,
          null,
          null,
          null,
          null,
          null,
          null,
          null,
          null,
          null,
          null,
          null,
          null,
          null,
          null,
          null,
          " PG",
          " PG",
          " PG",
          " PG",
          null,
          null,
          null,
          " PF",
          " PF",
          " PF",
          " PF",
          " PF",
          null,
          null,
          null,
          null,
          null,
          null,
          null,
          null,
          null,
          " SF",
          " SF",
          " SF",
          " SF",
          " SF",
          " SF",
          " SF",
          " SF",
          null,
          null,
          null,
          null,
          null,
          null,
          null,
          null,
          null,
          null,
          null,
          null,
          null,
          null,
          " SG",
          " SG",
          null,
          null,
          null,
          null,
          null,
          null,
          null,
          null,
          null,
          null,
          null,
          " SF",
          " SF",
          " SF",
          " SF",
          " SF",
          null,
          null,
          null,
          null,
          " PG",
          null,
          null,
          " PF",
          " PF",
          " PF",
          " PF",
          " PF",
          null,
          null,
          null,
          null,
          null,
          " PG",
          " PG",
          " PG",
          null,
          null,
          null,
          null,
          null,
          null,
          null,
          null,
          null,
          null,
          null,
          null,
          null,
          null,
          null,
          " PF",
          " PF",
          " PF",
          " PF",
          " PF",
          " PF",
          " PF",
          " PF",
          " PF",
          null,
          null,
          null,
          null,
          null,
          null,
          null,
          null,
          null,
          null,
          null,
          null,
          null,
          null,
          null,
          null,
          null,
          null,
          null,
          null,
          null,
          null,
          null,
          null,
          null,
          null,
          null,
          null,
          " PG",
          " PG",
          " PG",
          " PG",
          " PG",
          " PG",
          null,
          null,
          null,
          null,
          null,
          null,
          null,
          null,
          null,
          null,
          null,
          null,
          " PG",
          " PG",
          " PG",
          " PG",
          " PG",
          " PG",
          " PG",
          " PG",
          " PG",
          " PG",
          " PG",
          null,
          null,
          null,
          null,
          null,
          null,
          null,
          null,
          null,
          " C",
          " C",
          " C",
          " C",
          null,
          null,
          null,
          null,
          null,
          null,
          null,
          null,
          " PF",
          " PF",
          " PF",
          null,
          null,
          null,
          " C",
          " C",
          " C",
          " C",
          null,
          null,
          null,
          null,
          null,
          null,
          null,
          null,
          null,
          null,
          null,
          null,
          null,
          " SF",
          " SF",
          null,
          null,
          null,
          null,
          null,
          null,
          null,
          null,
          null,
          null,
          null,
          null,
          null,
          null,
          null,
          null,
          null,
          null,
          null,
          null,
          null,
          " SG",
          " C",
          " C",
          " C",
          " C",
          " C",
          null,
          null,
          null,
          null,
          null,
          null,
          " SG",
          null,
          null,
          null,
          null,
          null,
          null,
          null,
          null,
          null,
          " F",
          null,
          null,
          null,
          null,
          null,
          null,
          null,
          null,
          null,
          null,
          " C",
          " C",
          " C",
          null,
          null,
          null,
          null,
          null,
          null,
          null,
          null,
          null,
          null,
          null,
          null,
          null,
          null,
          null,
          null,
          null,
          null,
          null,
          null,
          " C",
          " C",
          " C",
          " C",
          " C",
          " C",
          " C",
          " C",
          " C",
          null,
          " SG",
          " SG",
          " SG",
          " SG",
          " SG",
          " SG",
          null,
          " PF",
          " PF",
          " PF",
          null,
          null,
          null,
          " F",
          " F",
          " F",
          " F",
          null,
          null,
          null,
          null,
          null,
          null,
          null,
          null,
          null,
          " PF",
          " PF",
          " PF",
          " PF",
          " PF",
          " PF",
          " PF",
          " PF",
          " PF",
          " PF",
          null,
          null,
          " SF",
          " SF",
          " SF",
          " SF",
          " SF",
          " SF",
          " SF",
          " SF",
          " SF",
          " SF",
          " SF",
          " SF",
          null,
          null,
          null,
          null,
          null,
          null,
          null,
          null,
          null,
          null,
          null,
          null,
          null,
          null,
          null,
          null,
          null,
          " G",
          " G",
          " G",
          " G",
          " G",
          " G",
          " G",
          " G",
          " G",
          " G",
          null,
          null,
          null,
          null,
          null,
          null,
          null,
          null,
          null,
          null,
          null,
          null,
          " C",
          null,
          null,
          null,
          null,
          null,
          null,
          null,
          null,
          null,
          null,
          null,
          null,
          null,
          " PF",
          " PF",
          " PF",
          " PF",
          " PF",
          " PF",
          " PF",
          " PF",
          " PF",
          " PF",
          " PF",
          null,
          null,
          null,
          null,
          null,
          null,
          null,
          null,
          null,
          null,
          null,
          null,
          null,
          null,
          null,
          null,
          " PF",
          " PF",
          " PF",
          " PF",
          " PF",
          " PF",
          " PF",
          null,
          null,
          " C",
          " C",
          " C",
          " C",
          " C",
          " C",
          " C",
          " C",
          null,
          null,
          null,
          null,
          null,
          null,
          null,
          null,
          null,
          null,
          null,
          null,
          null,
          null,
          null,
          null,
          null,
          null,
          null,
          null,
          null,
          null,
          null,
          null,
          null,
          null,
          null,
          null,
          null,
          null,
          " C",
          null,
          null,
          null,
          null,
          null,
          null,
          null,
          null,
          null,
          null,
          null,
          " G",
          " G",
          " G",
          null,
          null,
          null,
          null,
          " C",
          " C",
          " C",
          " C",
          " C",
          null,
          null,
          null,
          null,
          null,
          null,
          null,
          null,
          null,
          null,
          null,
          null,
          null,
          null,
          null,
          null,
          null,
          null,
          null,
          null,
          null,
          null,
          " PF",
          " PF",
          " PF",
          " PF",
          " PF",
          " PF",
          " PF",
          " PF",
          " PF",
          null,
          null,
          null,
          " SG",
          " SG",
          " SF",
          " SF",
          " SF",
          " SF",
          " SF",
          " SF",
          " SF",
          null,
          null,
          " G",
          " G",
          " G",
          " G",
          " G",
          " G",
          " PG",
          " PG",
          " PG",
          " PG",
          " PG",
          null,
          null,
          null,
          null,
          null,
          null,
          null,
          null,
          " G",
          " G",
          " G",
          " G",
          " G",
          " G",
          " G",
          " G",
          " G",
          " G",
          null,
          null,
          null,
          null,
          null,
          null,
          " C",
          " C",
          " C",
          " C",
          " C",
          null,
          null,
          null,
          null,
          null,
          null,
          null,
          " F",
          " F",
          " F",
          " F",
          " F",
          " F",
          " F",
          " F",
          " F",
          " F",
          " F",
          " F",
          " F",
          " F",
          null,
          null,
          null,
          null,
          null,
          null,
          null,
          null,
          null,
          null,
          null,
          null,
          null,
          null,
          null,
          null,
          null,
          null,
          null,
          null,
          null,
          null,
          null,
          null,
          null,
          null,
          null,
          null,
          null,
          null,
          null,
          null,
          null,
          null,
          null,
          null,
          " PF",
          " PF",
          " PF",
          " PF",
          " PF",
          " PF",
          null,
          null,
          null,
          null,
          null,
          null,
          null,
          null,
          null,
          null,
          null,
          " SG",
          " SG",
          " SG",
          " SG",
          " SG",
          " SG",
          null,
          null,
          null,
          null,
          null,
          null,
          null,
          null,
          null,
          null,
          null,
          null,
          null,
          null,
          null,
          null,
          null,
          null,
          null,
          null,
          null,
          null,
          null,
          null,
          null,
          null,
          null,
          null,
          null,
          null,
          null,
          null,
          " PG",
          " PG",
          " SG",
          " SG",
          " SG",
          " SG",
          null,
          null,
          null,
          null,
          null,
          null,
          null,
          null,
          null,
          null,
          null,
          " SG",
          " SG",
          " SG",
          " SG",
          null,
          null,
          null,
          null,
          null,
          null,
          " SG",
          null,
          " PG",
          " PG",
          " PG",
          " PG",
          " PG",
          null,
          null,
          null,
          null,
          null,
          null,
          null,
          null,
          null,
          null,
          null,
          " PF",
          " PF",
          " PF",
          " PF",
          " PF",
          " PF",
          " PF",
          null,
          null,
          null,
          null,
          null,
          " PF",
          " PF",
          " PF",
          " PF",
          null,
          null,
          null,
          null,
          null,
          null,
          null
         ],
         "yaxis": "y"
        }
       ],
       "layout": {
        "coloraxis": {
         "colorbar": {
          "title": {
           "text": "PTS"
          }
         },
         "colorscale": [
          [
           0,
           "#0d0887"
          ],
          [
           0.1111111111111111,
           "#46039f"
          ],
          [
           0.2222222222222222,
           "#7201a8"
          ],
          [
           0.3333333333333333,
           "#9c179e"
          ],
          [
           0.4444444444444444,
           "#bd3786"
          ],
          [
           0.5555555555555556,
           "#d8576b"
          ],
          [
           0.6666666666666666,
           "#ed7953"
          ],
          [
           0.7777777777777778,
           "#fb9f3a"
          ],
          [
           0.8888888888888888,
           "#fdca26"
          ],
          [
           1,
           "#f0f921"
          ]
         ]
        },
        "legend": {
         "itemsizing": "constant",
         "tracegroupgap": 0
        },
        "template": {
         "data": {
          "bar": [
           {
            "error_x": {
             "color": "#2a3f5f"
            },
            "error_y": {
             "color": "#2a3f5f"
            },
            "marker": {
             "line": {
              "color": "#E5ECF6",
              "width": 0.5
             }
            },
            "type": "bar"
           }
          ],
          "barpolar": [
           {
            "marker": {
             "line": {
              "color": "#E5ECF6",
              "width": 0.5
             }
            },
            "type": "barpolar"
           }
          ],
          "carpet": [
           {
            "aaxis": {
             "endlinecolor": "#2a3f5f",
             "gridcolor": "white",
             "linecolor": "white",
             "minorgridcolor": "white",
             "startlinecolor": "#2a3f5f"
            },
            "baxis": {
             "endlinecolor": "#2a3f5f",
             "gridcolor": "white",
             "linecolor": "white",
             "minorgridcolor": "white",
             "startlinecolor": "#2a3f5f"
            },
            "type": "carpet"
           }
          ],
          "choropleth": [
           {
            "colorbar": {
             "outlinewidth": 0,
             "ticks": ""
            },
            "type": "choropleth"
           }
          ],
          "contour": [
           {
            "colorbar": {
             "outlinewidth": 0,
             "ticks": ""
            },
            "colorscale": [
             [
              0,
              "#0d0887"
             ],
             [
              0.1111111111111111,
              "#46039f"
             ],
             [
              0.2222222222222222,
              "#7201a8"
             ],
             [
              0.3333333333333333,
              "#9c179e"
             ],
             [
              0.4444444444444444,
              "#bd3786"
             ],
             [
              0.5555555555555556,
              "#d8576b"
             ],
             [
              0.6666666666666666,
              "#ed7953"
             ],
             [
              0.7777777777777778,
              "#fb9f3a"
             ],
             [
              0.8888888888888888,
              "#fdca26"
             ],
             [
              1,
              "#f0f921"
             ]
            ],
            "type": "contour"
           }
          ],
          "contourcarpet": [
           {
            "colorbar": {
             "outlinewidth": 0,
             "ticks": ""
            },
            "type": "contourcarpet"
           }
          ],
          "heatmap": [
           {
            "colorbar": {
             "outlinewidth": 0,
             "ticks": ""
            },
            "colorscale": [
             [
              0,
              "#0d0887"
             ],
             [
              0.1111111111111111,
              "#46039f"
             ],
             [
              0.2222222222222222,
              "#7201a8"
             ],
             [
              0.3333333333333333,
              "#9c179e"
             ],
             [
              0.4444444444444444,
              "#bd3786"
             ],
             [
              0.5555555555555556,
              "#d8576b"
             ],
             [
              0.6666666666666666,
              "#ed7953"
             ],
             [
              0.7777777777777778,
              "#fb9f3a"
             ],
             [
              0.8888888888888888,
              "#fdca26"
             ],
             [
              1,
              "#f0f921"
             ]
            ],
            "type": "heatmap"
           }
          ],
          "heatmapgl": [
           {
            "colorbar": {
             "outlinewidth": 0,
             "ticks": ""
            },
            "colorscale": [
             [
              0,
              "#0d0887"
             ],
             [
              0.1111111111111111,
              "#46039f"
             ],
             [
              0.2222222222222222,
              "#7201a8"
             ],
             [
              0.3333333333333333,
              "#9c179e"
             ],
             [
              0.4444444444444444,
              "#bd3786"
             ],
             [
              0.5555555555555556,
              "#d8576b"
             ],
             [
              0.6666666666666666,
              "#ed7953"
             ],
             [
              0.7777777777777778,
              "#fb9f3a"
             ],
             [
              0.8888888888888888,
              "#fdca26"
             ],
             [
              1,
              "#f0f921"
             ]
            ],
            "type": "heatmapgl"
           }
          ],
          "histogram": [
           {
            "marker": {
             "colorbar": {
              "outlinewidth": 0,
              "ticks": ""
             }
            },
            "type": "histogram"
           }
          ],
          "histogram2d": [
           {
            "colorbar": {
             "outlinewidth": 0,
             "ticks": ""
            },
            "colorscale": [
             [
              0,
              "#0d0887"
             ],
             [
              0.1111111111111111,
              "#46039f"
             ],
             [
              0.2222222222222222,
              "#7201a8"
             ],
             [
              0.3333333333333333,
              "#9c179e"
             ],
             [
              0.4444444444444444,
              "#bd3786"
             ],
             [
              0.5555555555555556,
              "#d8576b"
             ],
             [
              0.6666666666666666,
              "#ed7953"
             ],
             [
              0.7777777777777778,
              "#fb9f3a"
             ],
             [
              0.8888888888888888,
              "#fdca26"
             ],
             [
              1,
              "#f0f921"
             ]
            ],
            "type": "histogram2d"
           }
          ],
          "histogram2dcontour": [
           {
            "colorbar": {
             "outlinewidth": 0,
             "ticks": ""
            },
            "colorscale": [
             [
              0,
              "#0d0887"
             ],
             [
              0.1111111111111111,
              "#46039f"
             ],
             [
              0.2222222222222222,
              "#7201a8"
             ],
             [
              0.3333333333333333,
              "#9c179e"
             ],
             [
              0.4444444444444444,
              "#bd3786"
             ],
             [
              0.5555555555555556,
              "#d8576b"
             ],
             [
              0.6666666666666666,
              "#ed7953"
             ],
             [
              0.7777777777777778,
              "#fb9f3a"
             ],
             [
              0.8888888888888888,
              "#fdca26"
             ],
             [
              1,
              "#f0f921"
             ]
            ],
            "type": "histogram2dcontour"
           }
          ],
          "mesh3d": [
           {
            "colorbar": {
             "outlinewidth": 0,
             "ticks": ""
            },
            "type": "mesh3d"
           }
          ],
          "parcoords": [
           {
            "line": {
             "colorbar": {
              "outlinewidth": 0,
              "ticks": ""
             }
            },
            "type": "parcoords"
           }
          ],
          "pie": [
           {
            "automargin": true,
            "type": "pie"
           }
          ],
          "scatter": [
           {
            "marker": {
             "colorbar": {
              "outlinewidth": 0,
              "ticks": ""
             }
            },
            "type": "scatter"
           }
          ],
          "scatter3d": [
           {
            "line": {
             "colorbar": {
              "outlinewidth": 0,
              "ticks": ""
             }
            },
            "marker": {
             "colorbar": {
              "outlinewidth": 0,
              "ticks": ""
             }
            },
            "type": "scatter3d"
           }
          ],
          "scattercarpet": [
           {
            "marker": {
             "colorbar": {
              "outlinewidth": 0,
              "ticks": ""
             }
            },
            "type": "scattercarpet"
           }
          ],
          "scattergeo": [
           {
            "marker": {
             "colorbar": {
              "outlinewidth": 0,
              "ticks": ""
             }
            },
            "type": "scattergeo"
           }
          ],
          "scattergl": [
           {
            "marker": {
             "colorbar": {
              "outlinewidth": 0,
              "ticks": ""
             }
            },
            "type": "scattergl"
           }
          ],
          "scattermapbox": [
           {
            "marker": {
             "colorbar": {
              "outlinewidth": 0,
              "ticks": ""
             }
            },
            "type": "scattermapbox"
           }
          ],
          "scatterpolar": [
           {
            "marker": {
             "colorbar": {
              "outlinewidth": 0,
              "ticks": ""
             }
            },
            "type": "scatterpolar"
           }
          ],
          "scatterpolargl": [
           {
            "marker": {
             "colorbar": {
              "outlinewidth": 0,
              "ticks": ""
             }
            },
            "type": "scatterpolargl"
           }
          ],
          "scatterternary": [
           {
            "marker": {
             "colorbar": {
              "outlinewidth": 0,
              "ticks": ""
             }
            },
            "type": "scatterternary"
           }
          ],
          "surface": [
           {
            "colorbar": {
             "outlinewidth": 0,
             "ticks": ""
            },
            "colorscale": [
             [
              0,
              "#0d0887"
             ],
             [
              0.1111111111111111,
              "#46039f"
             ],
             [
              0.2222222222222222,
              "#7201a8"
             ],
             [
              0.3333333333333333,
              "#9c179e"
             ],
             [
              0.4444444444444444,
              "#bd3786"
             ],
             [
              0.5555555555555556,
              "#d8576b"
             ],
             [
              0.6666666666666666,
              "#ed7953"
             ],
             [
              0.7777777777777778,
              "#fb9f3a"
             ],
             [
              0.8888888888888888,
              "#fdca26"
             ],
             [
              1,
              "#f0f921"
             ]
            ],
            "type": "surface"
           }
          ],
          "table": [
           {
            "cells": {
             "fill": {
              "color": "#EBF0F8"
             },
             "line": {
              "color": "white"
             }
            },
            "header": {
             "fill": {
              "color": "#C8D4E3"
             },
             "line": {
              "color": "white"
             }
            },
            "type": "table"
           }
          ]
         },
         "layout": {
          "annotationdefaults": {
           "arrowcolor": "#2a3f5f",
           "arrowhead": 0,
           "arrowwidth": 1
          },
          "coloraxis": {
           "colorbar": {
            "outlinewidth": 0,
            "ticks": ""
           }
          },
          "colorscale": {
           "diverging": [
            [
             0,
             "#8e0152"
            ],
            [
             0.1,
             "#c51b7d"
            ],
            [
             0.2,
             "#de77ae"
            ],
            [
             0.3,
             "#f1b6da"
            ],
            [
             0.4,
             "#fde0ef"
            ],
            [
             0.5,
             "#f7f7f7"
            ],
            [
             0.6,
             "#e6f5d0"
            ],
            [
             0.7,
             "#b8e186"
            ],
            [
             0.8,
             "#7fbc41"
            ],
            [
             0.9,
             "#4d9221"
            ],
            [
             1,
             "#276419"
            ]
           ],
           "sequential": [
            [
             0,
             "#0d0887"
            ],
            [
             0.1111111111111111,
             "#46039f"
            ],
            [
             0.2222222222222222,
             "#7201a8"
            ],
            [
             0.3333333333333333,
             "#9c179e"
            ],
            [
             0.4444444444444444,
             "#bd3786"
            ],
            [
             0.5555555555555556,
             "#d8576b"
            ],
            [
             0.6666666666666666,
             "#ed7953"
            ],
            [
             0.7777777777777778,
             "#fb9f3a"
            ],
            [
             0.8888888888888888,
             "#fdca26"
            ],
            [
             1,
             "#f0f921"
            ]
           ],
           "sequentialminus": [
            [
             0,
             "#0d0887"
            ],
            [
             0.1111111111111111,
             "#46039f"
            ],
            [
             0.2222222222222222,
             "#7201a8"
            ],
            [
             0.3333333333333333,
             "#9c179e"
            ],
            [
             0.4444444444444444,
             "#bd3786"
            ],
            [
             0.5555555555555556,
             "#d8576b"
            ],
            [
             0.6666666666666666,
             "#ed7953"
            ],
            [
             0.7777777777777778,
             "#fb9f3a"
            ],
            [
             0.8888888888888888,
             "#fdca26"
            ],
            [
             1,
             "#f0f921"
            ]
           ]
          },
          "colorway": [
           "#636efa",
           "#EF553B",
           "#00cc96",
           "#ab63fa",
           "#FFA15A",
           "#19d3f3",
           "#FF6692",
           "#B6E880",
           "#FF97FF",
           "#FECB52"
          ],
          "font": {
           "color": "#2a3f5f"
          },
          "geo": {
           "bgcolor": "white",
           "lakecolor": "white",
           "landcolor": "#E5ECF6",
           "showlakes": true,
           "showland": true,
           "subunitcolor": "white"
          },
          "hoverlabel": {
           "align": "left"
          },
          "hovermode": "closest",
          "mapbox": {
           "style": "light"
          },
          "paper_bgcolor": "white",
          "plot_bgcolor": "#E5ECF6",
          "polar": {
           "angularaxis": {
            "gridcolor": "white",
            "linecolor": "white",
            "ticks": ""
           },
           "bgcolor": "#E5ECF6",
           "radialaxis": {
            "gridcolor": "white",
            "linecolor": "white",
            "ticks": ""
           }
          },
          "scene": {
           "xaxis": {
            "backgroundcolor": "#E5ECF6",
            "gridcolor": "white",
            "gridwidth": 2,
            "linecolor": "white",
            "showbackground": true,
            "ticks": "",
            "zerolinecolor": "white"
           },
           "yaxis": {
            "backgroundcolor": "#E5ECF6",
            "gridcolor": "white",
            "gridwidth": 2,
            "linecolor": "white",
            "showbackground": true,
            "ticks": "",
            "zerolinecolor": "white"
           },
           "zaxis": {
            "backgroundcolor": "#E5ECF6",
            "gridcolor": "white",
            "gridwidth": 2,
            "linecolor": "white",
            "showbackground": true,
            "ticks": "",
            "zerolinecolor": "white"
           }
          },
          "shapedefaults": {
           "line": {
            "color": "#2a3f5f"
           }
          },
          "ternary": {
           "aaxis": {
            "gridcolor": "white",
            "linecolor": "white",
            "ticks": ""
           },
           "baxis": {
            "gridcolor": "white",
            "linecolor": "white",
            "ticks": ""
           },
           "bgcolor": "#E5ECF6",
           "caxis": {
            "gridcolor": "white",
            "linecolor": "white",
            "ticks": ""
           }
          },
          "title": {
           "x": 0.05
          },
          "xaxis": {
           "automargin": true,
           "gridcolor": "white",
           "linecolor": "white",
           "ticks": "",
           "title": {
            "standoff": 15
           },
           "zerolinecolor": "white",
           "zerolinewidth": 2
          },
          "yaxis": {
           "automargin": true,
           "gridcolor": "white",
           "linecolor": "white",
           "ticks": "",
           "title": {
            "standoff": 15
           },
           "zerolinecolor": "white",
           "zerolinewidth": 2
          }
         }
        },
        "title": {
         "text": "Second Year Total Points per Position"
        },
        "xaxis": {
         "anchor": "y",
         "domain": [
          0,
          1
         ],
         "title": {
          "text": "PTS"
         },
         "type": "log"
        },
        "yaxis": {
         "anchor": "x",
         "domain": [
          0,
          1
         ],
         "title": {
          "text": "POSITION"
         }
        }
       }
      },
      "text/html": [
       "<div>                            <div id=\"b81e6540-8165-4ed6-980e-1a7167419176\" class=\"plotly-graph-div\" style=\"height:525px; width:100%;\"></div>            <script type=\"text/javascript\">                require([\"plotly\"], function(Plotly) {                    window.PLOTLYENV=window.PLOTLYENV || {};                                    if (document.getElementById(\"b81e6540-8165-4ed6-980e-1a7167419176\")) {                    Plotly.newPlot(                        \"b81e6540-8165-4ed6-980e-1a7167419176\",                        [{\"customdata\": [[12], [36], [533], [4], [15], [219], [2], [19], [15], [288], [37], [690], [251], [104], [316], [45], [370], [10], [2], [12], [627], [185], [1331], [1145], [206], [150], [377], [215], [34], [192], [70], [86], [156], [142], [115], [27], [30], [107], [484], [17], [2], [287], [504], [330], [10], [120], [6], [7], [4], [11], [541], [155], [55], [517], [579], [71], [1778], [990], [1759], [684], [1349], [455], [58], [371], [389], [128], [492], [0], [128], [218], [107], [393], [843], [667], [136], [12], [53], [330], [40], [332], [3], [0], [466], [716], [590], [983], [487], [319], [197], [122], [3], [419], [8], [50], [318], [610], [218], [237], [465], [426], [279], [0], [758], [9], [346], [720], [62], [910], [1308], [0], [339], [229], [12], [991], [9], [613], [27], [485], [337], [246], [241], [316], [322], [583], [186], [35], [93], [280], [135], [17], [372], [1399], [16], [513], [10], [47], [94], [974], [1829], [5], [851], [10], [722], [308], [189], [414], [155], [873], [39], [2], [23], [2], [459], [653], [90], [206], [296], [779], [81], [19], [729], [0], [223], [6], [0], [6], [1337], [8], [35], [225], [1243], [43], [374], [0], [195], [48], [57], [544], [1188], [990], [512], [469], [102], [284], [271], [86], [2], [663], [240], [12], [525], [418], [474], [66], [430], [158], [16], [136], [27], [43], [9], [0], [75], [531], [20], [100], [456], [1352], [654], [3], [25], [16], [360], [1158], [4], [10], [273], [34], [59], [567], [14], [445], [312], [40], [26], [87], [8], [2], [2], [15], [17], [0], [589], [699], [1141], [1445], [1445], [1445], [524], [325], [151], [861], [555], [89], [338], [123], [254], [838], [57], [2], [1], [0], [656], [783], [554], [555], [625], [8], [949], [9], [152], [1017], [533], [30], [556], [39], [69], [135], [4], [1079], [246], [111], [82], [34], [2], [36], [55], [128], [229], [5], [356], [61], [196], [52], [523], [0], [71], [38], [9], [353], [218], [34], [91], [161], [858], [299], [63], [1196], [98], [504], [14], [8], [1726], [196], [1173], [6], [437], [50], [12], [410], [150], [2], [501], [100], [213], [449], [165], [539], [191], [611], [38], [374], [9], [370], [329], [203], [34], [9], [874], [43], [532], [317], [636], [0], [161], [127], [1], [59], [11], [403], [209], [412], [675], [483], [556], [24], [1221], [1221], [36], [590], [2061], [527], [35], [440], [1], [346], [142], [339], [984], [316], [54], [603], [106], [160], [68], [35], [0], [135], [559], [11], [318], [27], [13], [3], [719], [919], [345], [342], [749], [0], [3], [26], [65], [764], [778], [350], [747], [399], [465], [1149], [283], [286], [124], [410], [263], [1150], [132], [200], [363], [7], [34], [578], [1225], [13], [13], [0], [7], [8], [89], [4], [4], [23], [133], [36], [210], [51], [314], [7], [22], [625], [542], [58], [75], [1070], [887], [67], [777], [171], [558], [240], [29], [1675], [1675], [8], [0], [31], [206], [203], [932], [70], [11], [134], [515], [374], [159], [617], [143], [16], [117], [60], [768], [1292], [1292], [52], [278], [27], [22], [154], [512], [432], [1030], [1030], [298], [729], [717], [153], [356], [472], [804], [656], [973], [470], [138], [254], [503], [69], [4], [65], [44], [57], [13], [66], [537], [537], [98], [201], [11], [626], [228], [168], [966], [613], [353], [153], [8], [142], [332], [0], [176], [77], [53], [46], [231], [686], [686], [243], [16], [126], [1043], [11], [6], [105], [432], [94], [435], [943], [6], [197], [1], [89], [90], [996], [216], [6], [0], [710], [53], [37], [16], [445], [445], [445], [122], [319], [424], [424], [424], [3], [20], [25], [17], [42], [198], [177], [191], [112], [65], [177], [638], [339], [174], [1695], [1695], [1695], [1695], [1394], [1394], [1394], [1394], [248], [530], [677], [939], [879], [1095], [1095], [1095], [1095], [399], [171], [152], [19], [250], [29], [4], [25], [1], [767], [350], [784], [350], [306], [44], [107], [45], [89], [646], [208], [62], [622], [47], [592], [24], [430], [98], [26], [2], [48], [153], [982], [252], [511], [356], [665], [738], [738], [738], [2], [573], [1249], [1249], [1249], [1249], [435], [99], [40], [429], [403], [0], [161], [0], [302], [101], [250], [779], [100], [28], [20], [341], [200], [216], [9], [916], [36], [448], [91], [990], [990], [404], [166], [257], [921], [1113], [126], [451], [999], [0], [445], [8], [608], [452], [126], [421], [208], [81], [7], [22], [34], [56], [81], [30], [111], [78], [374], [0], [1325], [1325], [1325], [689], [689], [689], [689], [307], [1455], [110], [143], [104], [2], [37], [494], [394], [455], [58], [506], [506], [1008], [923], [603], [603], [603], [3], [12], [15], [153], [22], [957], [0], [705], [705], [705], [705], [22], [386], [305], [1100], [265], [69], [5], [10], [506], [149], [1359], [1359], [14], [136], [136], [136], [467], [467], [467], [15], [51], [20], [596], [465], [131], [1177], [1177], [1177], [1177], [1177], [33], [204], [231], [196], [933], [194], [670], [10], [588], [34], [205], [610], [419], [1368], [1368], [1368], [1368], [1368], [1368], [1368], [1368], [23], [292], [490], [45], [99], [2], [47], [512], [1160], [1160], [1076], [1076], [1076], [97], [453], [484], [22], [34], [106], [239], [13], [399], [1015], [1015], [0], [557], [37], [938], [186], [190], [556], [29], [29], [29], [29], [415], [782], [782], [782], [782], [782], [798], [798], [798], [798], [798], [798], [549], [23], [88], [13], [32], [589], [45], [580], [340], [60], [132], [27], [570], [106], [33], [173], [130], [77], [271], [202], [319], [9], [4], [21], [17], [8], [651], [651], [393], [239], [57], [210], [62], [81], [28], [34], [856], [674], [6], [569], [410], [572], [353], [21], [35], [55], [1410], [1410], [1410], [1410], [236], [279], [537], [111], [2], [32], [297], [331], [42], [1019], [229], [271], [1012], [93], [91], [2], [25], [1373], [1373], [1373], [610], [2], [765], [767], [136], [738], [933], [361], [106], [808], [808], [808], [808], [53], [653], [774], [134], [163], [359], [151], [1300], [1300], [1145], [1145], [1145], [574], [998], [998], [998], [998], [998], [998], [998], [53], [0], [41], [39], [74], [323], [18], [185], [0], [10], [933], [1039], [67], [223], [184], [39], [10], [29], [34], [134], [198], [482], [78], [56], [348], [406], [284], [689], [518], [99], [842], [842], [842], [842], [842], [842], [842], [842], [430], [521], [143], [487], [487], [6], [939], [630], [189], [62], [1619], [1619], [1619], [1619], [1619], [53], [453], [23], [12], [11], [1322], [1322], [1322], [1322], [1322], [1322], [1322], [1322], [233], [336], [336], [336], [336], [657], [40], [899], [1156], [635], [1542], [1542], [1542], [1542], [1542], [1542], [1432], [386], [59], [964], [946], [946], [946], [946], [774], [4], [25], [503], [29], [10], [532], [1008], [1008], [1008], [1008], [1008], [1008], [1008], [1008], [124], [141], [51], [90], [28], [28], [0], [539], [101], [1221], [1221], [1221], [37], [0], [384], [508], [23], [2], [21], [1045], [1045], [1045], [1045], [840], [8], [321], [329], [24], [45], [69], [539], [145], [11], [36], [885], [70], [224], [647], [375], [375], [375], [4], [6], [638], [138], [6], [410], [0], [1044], [537], [537], [43], [4], [196], [323], [209], [42], [10], [116], [11], [72], [15], [7], [46], [96], [5], [41], [876], [111], [4], [1194], [93], [80], [1145], [0], [977], [15], [239], [1184], [372], [264], [108], [199], [11], [162], [263], [93], [24], [530], [1290], [237], [70], [1058], [356], [525], [895], [895], [895], [895], [193], [2], [49], [773], [773], [773], [773], [773], [5], [894], [19], [372], [13], [92], [298], [9], [577], [1871], [1871], [1871], [1871], [1871], [1871], [1871], [1871], [63], [686], [363], [892], [80], [730], [393], [184], [144], [8], [68], [153], [85], [123], [1416], [1416], [2], [48], [22], [40], [179], [140], [605], [0], [10], [168], [465], [1632], [1632], [1632], [1632], [1632], [749], [56], [40], [4], [814], [445], [510], [661], [661], [661], [661], [661], [135], [180], [147], [35], [35], [791], [791], [791], [8], [4], [4], [313], [178], [15], [36], [51], [914], [224], [109], [727], [100], [146], [153], [1350], [1350], [1350], [1350], [1350], [1350], [1350], [1350], [1350], [54], [31], [3], [692], [34], [437], [9], [18], [145], [114], [105], [28], [354], [191], [409], [40], [464], [792], [255], [575], [502], [30], [283], [598], [462], [9], [474], [6], [1297], [1297], [1297], [1297], [1297], [1297], [366], [67], [1093], [574], [15], [243], [123], [502], [349], [111], [3], [17], [1104], [1104], [1104], [1104], [1104], [1104], [1104], [1104], [1104], [1104], [1104], [98], [99], [42], [40], [138], [386], [872], [101], [645], [809], [809], [809], [809], [439], [383], [113], [273], [283], [839], [98], [684], [621], [621], [621], [668], [65], [20], [637], [637], [637], [637], [262], [12], [104], [116], [1045], [63], [1272], [0], [47], [416], [192], [184], [58], [1142], [1142], [503], [45], [154], [19], [12], [206], [881], [946], [843], [471], [33], [179], [126], [23], [85], [334], [258], [643], [403], [121], [74], [1349], [464], [464], [464], [464], [464], [43], [1080], [583], [301], [44], [147], [778], [742], [542], [165], [554], [99], [264], [325], [78], [385], [493], [38], [9], [6], [250], [58], [75], [422], [3], [22], [38], [344], [344], [344], [219], [113], [141], [275], [905], [423], [96], [80], [317], [292], [22], [321], [1063], [188], [73], [836], [536], [647], [352], [494], [1292], [1292], [1292], [1292], [1292], [1292], [1292], [1292], [1292], [260], [1007], [1007], [1007], [1007], [1007], [1007], [369], [902], [902], [902], [247], [878], [70], [1112], [1112], [1112], [1112], [437], [217], [636], [164], [186], [958], [553], [48], [458], [1361], [1361], [1361], [1361], [1361], [1361], [1361], [1361], [1361], [1361], [942], [95], [2175], [2175], [2175], [2175], [2175], [2175], [2175], [2175], [2175], [2175], [2175], [2175], [19], [15], [650], [33], [95], [224], [23], [248], [200], [115], [71], [44], [0], [372], [152], [416], [12], [1854], [1854], [1854], [1854], [1854], [1854], [1854], [1854], [1854], [1854], [458], [67], [442], [545], [416], [1206], [13], [688], [319], [41], [15], [26], [572], [117], [371], [814], [870], [314], [238], [714], [105], [229], [198], [9], [149], [824], [1558], [1558], [1558], [1558], [1558], [1558], [1558], [1558], [1558], [1558], [1558], [191], [161], [164], [314], [27], [608], [163], [2], [6], [233], [44], [25], [397], [110], [841], [8], [1162], [1162], [1162], [1162], [1162], [1162], [1162], [138], [287], [1133], [1133], [1133], [1133], [1133], [1133], [1133], [1133], [118], [908], [207], [106], [464], [304], [1], [623], [682], [495], [60], [41], [22], [18], [14], [84], [1], [76], [8], [0], [150], [234], [559], [93], [50], [2], [251], [219], [175], [466], [652], [49], [29], [914], [46], [443], [32], [95], [2], [877], [157], [224], [987], [987], [987], [489], [338], [34], [21], [1431], [1431], [1431], [1431], [1431], [53], [2], [746], [1], [3], [217], [459], [93], [96], [664], [29], [1013], [424], [22], [194], [53], [767], [145], [593], [664], [22], [173], [1555], [1555], [1555], [1555], [1555], [1555], [1555], [1555], [1555], [433], [650], [120], [1282], [1282], [963], [963], [963], [963], [963], [963], [963], [120], [501], [1269], [1269], [1269], [1269], [1269], [1269], [1497], [1497], [1497], [1497], [1497], [923], [460], [771], [130], [305], [0], [566], [164], [803], [803], [803], [803], [803], [803], [803], [803], [803], [803], [756], [28], [0], [24], [342], [121], [691], [691], [691], [691], [691], [724], [45], [24], [182], [6], [119], [94], [1242], [1242], [1242], [1242], [650], [650], [650], [650], [650], [650], [650], [650], [650], [650], [182], [7], [5], [849], [180], [220], [80], [338], [42], [22], [132], [123], [9], [607], [65], [9], [198], [5], [931], [956], [254], [58], [58], [270], [232], [298], [38], [514], [26], [883], [400], [549], [602], [70], [54], [699], [1086], [1086], [1086], [1086], [1086], [1086], [331], [1076], [569], [5], [185], [214], [308], [55], [190], [938], [779], [767], [767], [767], [767], [767], [767], [84], [186], [325], [17], [396], [851], [89], [102], [491], [57], [810], [20], [18], [55], [52], [73], [244], [296], [106], [107], [16], [167], [93], [338], [285], [94], [324], [116], [8], [803], [498], [83], [1591], [1591], [1369], [1369], [1369], [1369], [342], [56], [77], [86], [0], [0], [249], [1296], [461], [124], [119], [1145], [1145], [1145], [1145], [666], [193], [93], [260], [338], [907], [1411], [182], [1131], [1131], [1131], [1131], [1131], [389], [251], [154], [101], [0], [101], [293], [112], [181], [483], [971], [1490], [1490], [1490], [1490], [1490], [1490], [1490], [152], [304], [140], [19], [229], [1304], [1304], [1304], [1304], [248], [528], [45], [191], [13], [1619], [690]], \"hovertemplate\": \"<b>%{hovertext}</b><br><br>PTS=%{marker.color}<br>POSITION=%{y}<extra></extra>\", \"hovertext\": [\"Dusty Hannahs\", \"Yuta Watanabe\", \"Josh Okogie\", \"Jarrod Uthoff\", \"Jarrod Uthoff\", \"Elie Okobo\", \"Josh Gray\", \"Jarrod Uthoff\", \"Amile Jefferson\", \"Keita Bates-Diop\", \"Keita Bates-Diop\", \"Deandre Ayton\", \"Keita Bates-Diop\", \"Deonte Burton\", \"Harry Giles III\", \"Johnathan Williams\", \"Omari Spellman\", \"Jarred Vanderbilt\", \"Jarred Vanderbilt\", \"Jarred Vanderbilt\", \"Aaron Holiday\", \"Marvin Bagley III\", \"Shai Gilgeous-Alexander\", \"Devonte' Graham\", \"Brandon Goodwin\", \"Robert Williams III\", \"Shake Milton\", \"Rodions Kurucs\", \"Alize Johnson\", \"Dzanan Musa\", \"Gary Clark\", \"Gary Clark\", \"Gary Clark\", \"Chris Chiozza\", \"Chris Chiozza\", \"Chris Chiozza\", \"BJ Johnson\", \"Isaiah Hartenstein\", \"Wendell Carter Jr.\", \"Khyri Thomas\", \"Joe Chealey\", \"Jevon Carter\", \"Svi Mykhailiuk\", \"Isaac Bonga\", \"Jonah Bolden\", \"Theo Pinson\", \"Jonah Bolden\", \"Kostas Antetokounmpo\", \"Jonah Bolden\", \"Antonius Cleveland\", \"Gary Trent Jr.\", \"Allonzo Trier\", \"Thanasis Antetokounmpo\", \"Bruce Brown\", \"Anfernee Simons\", \"Ryan Broekhoff\", \"Trae Young\", \"Jaren Jackson Jr.\", \"Luka Doncic\", \"Kevin Huerter\", \"Collin Sexton\", \"De'Anthony Melton\", \"Chimezie Metu\", \"Frank Jackson\", \"Lonnie Walker IV\", \"Jacob Evans\", \"Landry Shamet\", \"Jacob Evans\", \"Jacob Evans\", \"Chandler Hutchison\", \"Drew Eubanks\", \"Moritz Wagner\", \"Miles Bridges\", \"Mikal Bridges\", \"Kenrich Williams\", \"Josh Magette\", \"Derrick Walton Jr.\", \"Grayson Allen\", \"Melvin Frazier Jr.\", \"Mo Bamba\", \"Daryl Macon\", \"J.P. Macura\", \"Jalen Brunson\", \"Troy Brown Jr.\", \"Mitchell Robinson\", \"Duncan Robinson\", \"Brad Wanamaker\", \"Jerome Robinson\", \"Jerome Robinson\", \"Jerome Robinson\", \"Derrick Walton Jr.\", \"Kevin Knox II\", \"Zhaire Smith\", \"Derrick Walton Jr.\", \"Hamidou Diallo\", \"Donte DiVincenzo\", \"Tyrone Wallace\", \"Justin Jackson\", \"Lonzo Ball\", \"Royce O'Neale\", \"Furkan Korkmaz\", \"John Holland\", \"Thomas Bryant\", \"Tyler Cavanaugh\", \"Justin Jackson\", \"Jonathan Isaac\", \"Sindarius Thornwell\", \"Josh Jackson\", \"Kyle Kuzma\", \"Andre Ingram\", \"Wes Iwundu\", \"Alex Caruso\", \"Isaiah Hicks\", \"Cedi Osman\", \"James Nunnally\", \"Luke Kennard\", \"James Nunnally\", \"Maxi Kleber\", \"Alfonzo McKinnie\", \"Frank Ntilikina\", \"Abdel Nader\", \"Dwayne Bacon\", \"Luke Kornet\", \"Justin Jackson\", \"Semi Ojeleye\", \"Malcolm Miller\", \"Chris Boucher\", \"D.J. Wilson\", \"Dillon Brooks\", \"Tony Bradley\", \"Sterling Brown\", \"De'Aaron Fox\", \"Naz Mitrou-Long\", \"Terrance Ferguson\", \"Scott Machado\", \"Devin Robinson\", \"Guerschon Yabusele\", \"Lauri Markkanen\", \"Donovan Mitchell\", \"Justin Patton\", \"Monte Morris\", \"Jaylen Morris\", \"Dennis Smith Jr.\", \"Dennis Smith Jr.\", \"Kadeem Allen\", \"Dennis Smith Jr.\", \"Markelle Fultz\", \"Jarrett Allen\", \"C.J. Williams\", \"Zhou Qi\", \"Tyler Lydon\", \"Kalin Lucas\", \"Ante Zizic\", \"Malik Monk\", \"Tyler Dorsey\", \"Tyler Dorsey\", \"Tyler Dorsey\", \"Damyean Dotson\", \"Jalen Jones\", \"PJ Dozier\", \"Bam Adebayo\", \"Kobi Simmons\", \"Jordan Bell\", \"Jawun Evans\", \"Jawun Evans\", \"Jawun Evans\", \"Ben Simmons\", \"Caleb Swanigan\", \"Caleb Swanigan\", \"TJ Leaf\", \"Jayson Tatum\", \"Caleb Swanigan\", \"Daniel Theis\", \"Ike Anigbogu\", \"Frank Mason\", \"Milos Teodosic\", \"Daniel Hamilton\", \"Ryan Arcidiacono\", \"John Collins\", \"Bogdan Bogdanovic\", \"Zach Collins\", \"OG Anunoby\", \"Johnathan Motley\", \"Ivan Rabb\", \"Chasson Randle\", \"Walt Lemon Jr.\", \"DJ Stephens\", \"Derrick White\", \"Khem Birch\", \"Davon Reed\", \"Josh Hart\", \"Antonio Blakeney\", \"Shaquille Harrison\", \"Edmond Sumner\", \"Torrey Craig\", \"Damion Lee\", \"Brice Johnson\", \"DeAndre' Bembry\", \"Brice Johnson\", \"Brice Johnson\", \"Joel Bolomboy\", \"Luis Montero\", \"Travis Wear\", \"Dragan Bender\", \"Okaro White\", \"Isaiah Whitehead\", \"Davis Bertans\", \"Jamal Murray\", \"Dejounte Murray\", \"Xavier Munford\", \"Damian Jones\", \"Demetrius Jackson\", \"Deyonta Davis\", \"Taurean Prince\", \"Tim Quarterman\", \"David Stockton\", \"Treveon Graham\", \"Jonathan Gibson\", \"Marcus Georges-Hunt\", \"Jakob Poeltl\", \"Marshall Plumlee\", \"Isaiah Taylor\", \"Quinn Cook\", \"Jack Cooley\", \"Alex Poythress\", \"Malachi Richardson\", \"Demetrius Jackson\", \"Malachi Richardson\", \"Larry Drew II\", \"Larry Drew II\", \"Larry Drew II\", \"Xavier Silas\", \"Pascal Siakam\", \"Kris Dunn\", \"Dario Saric\", \"Joel Embiid\", \"Joel Embiid\", \"Joel Embiid\", \"Tomas Satoransky\", \"Wayne Selden\", \"Henry Ellenson\", \"Domantas Sabonis\", \"Bryn Forbes\", \"Malachi Richardson\", \"Malcolm Delaney\", \"Dorian Finney-Smith\", \"Cheick Diallo\", \"Yogi Ferrell\", \"Kay Felder\", \"Kay Felder\", \"Scotty Hopson\", \"Nicolas Brussino\", \"Fred VanVleet\", \"Denzel Valentine\", \"Tyler Ulis\", \"David Nwaba\", \"Malcolm Brogdon\", \"Demetrius Jackson\", \"Brandon Ingram\", \"Georges Niang\", \"Danuel House Jr.\", \"Jaylen Brown\", \"Andrew Harrison\", \"Gary Payton II\", \"Marquese Chriss\", \"Gary Payton II\", \"Gary Payton II\", \"Willy Hernangomez\", \"Chinanu Onuaku\", \"Buddy Hield\", \"Willy Hernangomez\", \"Willy Hernangomez\", \"Juancho Hernangomez\", \"Georgios Papagiannis\", \"Georgios Papagiannis\", \"Georgios Papagiannis\", \"Kay Felder\", \"Troy Williams\", \"Patrick McCaw\", \"Troy Williams\", \"Thon Maker\", \"Derrick Jones Jr.\", \"Malik Beasley\", \"Derrick Jones Jr.\", \"Skal Labissiere\", \"Mindaugas Kuzminskas\", \"Ron Baker\", \"Wade Baldwin IV\", \"Derrick Jones Jr.\", \"Alex Abrines\", \"Paul Zipser\", \"Jake Layman\", \"Rodney McGruder\", \"Ivica Zubac\", \"Caris LeVert\", \"Timothe Luwawu-Cabarrot\", \"Marcelo Huertas\", \"Kristaps Porzingis\", \"Pat Connaughton\", \"Sam Dekker\", \"Josh Huestis\", \"Edy Tavares\", \"Devin Booker\", \"Justise Winslow\", \"Myles Turner\", \"Edy Tavares\", \"Bobby Portis\", \"Briante Weber\", \"Briante Weber\", \"Terry Rozier\", \"Delon Wright\", \"Edy Tavares\", \"Kelly Oubre Jr.\", \"Raul Neto\", \"Salah Mejri\", \"Larry Nance Jr.\", \"Jarell Martin\", \"Josh Richardson\", \"Boban Marjanovic\", \"Willie Cauley-Stein\", \"Jordan Mickey\", \"Willie Reed\", \"Lamar Patterson\", \"Jerian Grant\", \"Justin Anderson\", \"Justin Anderson\", \"Anthony Brown\", \"Anthony Brown\", \"Frank Kaminsky\", \"Anthony Brown\", \"Justin Anderson\", \"Mario Hezonja\", \"Norman Powell\", \"RJ Hunter\", \"Jordan McRae\", \"Darrun Hilliard\", \"Aaron Harrison\", \"Rakeem Christmas\", \"Axel Toupane\", \"Nemanja Bjelica\", \"Tyus Jones\", \"Dante Exum\", \"Rondae Hollis-Jefferson\", \"Jonathon Simmons\", \"T.J. McConnell\", \"Jarell Eddie\", \"Nikola Jokic\", \"Nikola Jokic\", \"Chris McCullough\", \"Jahlil Okafor\", \"Karl-Anthony Towns\", \"Montrezl Harrell\", \"Chris McCullough\", \"Trey Lyles\", \"Chris McCullough\", \"Alan Williams\", \"Rashad Vaughn\", \"Stanley Johnson\", \"D'Angelo Russell\", \"Cristiano Felicio\", \"Cameron Payne\", \"Emmanuel Mudiay\", \"Cameron Payne\", \"Cameron Payne\", \"Joe Young\", \"Christian Wood\", \"Axel Toupane\", \"Kevon Looney\", \"Richaun Holmes\", \"Axel Toupane\", \"Sean Kilpatrick\", \"Sean Kilpatrick\", \"Justin Harper\", \"Joe Harris\", \"Aaron Gordon\", \"Julius Randle\", \"Sean Kilpatrick\", \"Joe Ingles\", \"Jerami Grant\", \"Jarnell Stokes\", \"Bruno Caboclo\", \"Mitch McGary\", \"Lucas Nogueira\", \"Doug McDermott\", \"Elfrid Payton\", \"Kyle Anderson\", \"Nerlens Noel\", \"Dwight Powell\", \"Joffrey Lauvergne\", \"Rodney Hood\", \"Noah Vonleh\", \"PJ Hairston\", \"PJ Hairston\", \"PJ Hairston\", \"Jusuf Nurkic\", \"Zach LaVine\", \"Adreian Payne\", \"Johnny O'Bryant III\", \"Markel Brown\", \"Jarnell Stokes\", \"Cameron Bairstow\", \"JaMychal Green\", \"Jordan Clarkson\", \"Erick Green\", \"Erick Green\", \"Erick Green\", \"Jarnell Stokes\", \"Bryce Cotton\", \"KJ McDaniels\", \"Bryce Cotton\", \"Bryce Cotton\", \"Russ Smith\", \"Tarik Black\", \"Elijah Millsap\", \"Tim Frazier\", \"Tim Frazier\", \"Tyler Johnson\", \"Jordan Adams\", \"Cory Jefferson\", \"Langston Galloway\", \"Clint Capela\", \"Spencer Dinwiddie\", \"Damjan Rudez\", \"Jabari Parker\", \"Bojan Bogdanovic\", \"Kostas Papanikolaou\", \"Nikola Mirotic\", \"Glenn Robinson III\", \"Marcus Smart\", \"JaKarr Sampson\", \"James Young\", \"Andrew Wiggins\", \"Andrew Wiggins\", \"Eric Moreland\", \"James Ennis III\", \"Cleanthony Early\", \"Tyler Ennis\", \"Shabazz Napier\", \"Gary Harris\", \"C.J. Wilcox\", \"Shayne Whittington\", \"JaKarr Sampson\", \"T.J. Warren\", \"JaKarr Sampson\", \"James Ennis III\", \"Nik Stauskas\", \"James Ennis III\", \"James Ennis III\", \"James Michael McAdoo\", \"Devyn Marble\", \"Dennis Schroder\", \"Victor Oladipo\", \"Victor Oladipo\", \"Dwight Buycks\", \"Isaiah Canaan\", \"Arinze Onuaku\", \"Vander Blue\", \"Isaiah Canaan\", \"Shabazz Muhammad\", \"Isaiah Canaan\", \"Giannis Antetokounmpo\", \"Giannis Antetokounmpo\", \"Anthony Bennett\", \"Solomon Hill\", \"Mason Plumlee\", \"Justin Hamilton\", \"Pero Antic\", \"Cody Zeller\", \"Tim Hardaway Jr.\", \"Kelly Olynyk\", \"Trey Burke\", \"Shane Larkin\", \"Jerome Jordan\", \"Justin Holiday\", \"Ray McCallum\", \"Reggie Bullock\", \"Reggie Bullock\", \"Reggie Bullock\", \"Ian Clark\", \"Ian Clark\", \"Ian Clark\", \"Justin Hamilton\", \"Steven Adams\", \"Steven Adams\", \"Jeff Withey\", \"Festus Ezeli\", \"Glen Rice\", \"Hollis Thompson\", \"Andre Roberson\", \"Allen Crabbe\", \"Michael Carter-Williams\", \"Michael Carter-Williams\", \"Michael Carter-Williams\", \"Sergey Karasev\", \"Miroslav Raduljica\", \"Brandon Davies\", \"Ryan Kelly\", \"Seth Curry\", \"Troy Daniels\", \"Troy Daniels\", \"Troy Daniels\", \"Troy Daniels\", \"Archie Goodwin\", \"Rudy Gobert\", \"Rudy Gobert\", \"Nick Calathes\", \"Brandon Davies\", \"Brandon Davies\", \"Kentavious Caldwell-Pope\", \"Gigi Datome\", \"Gal Mekel\", \"Gigi Datome\", \"Alex Len\", \"Gigi Datome\", \"Tony Snell\", \"Robert Covington\", \"Toure' Murry\", \"Mike Muscala\", \"Ricky Ledo\", \"Ricky Ledo\", \"Ricky Ledo\", \"Ben McLemore\", \"Dewayne Dedmon\", \"Toure' Murry\", \"Toure' Murry\", \"Gorgui Dieng\", \"Jorge Gutierrez\", \"Jorge Gutierrez\", \"Jorge Gutierrez\", \"Otto Porter Jr.\", \"Otto Porter Jr.\", \"Otto Porter Jr.\", \"Lorenzo Brown\", \"Matthew Dellavedova\", \"CJ McCollum\", \"CJ McCollum\", \"CJ McCollum\", \"Jamaal Franklin\", \"Ognjen Kuzmic\", \"Nate Wolters\", \"Nate Wolters\", \"Nate Wolters\", \"Robbie Hummel\", \"Phil Pressey\", \"Doron Lamb\", \"Nando De Colo\", \"Nando De Colo\", \"Nando De Colo\", \"Evan Fournier\", \"Thomas Robinson\", \"Joel Freeland\", \"Damian Lillard\", \"Damian Lillard\", \"Damian Lillard\", \"Damian Lillard\", \"Anthony Davis\", \"Anthony Davis\", \"Anthony Davis\", \"Anthony Davis\", \"Diante Garrett\", \"Austin Rivers\", \"Brian Roberts\", \"Tony Wroten\", \"Terrence Ross\", \"Andre Drummond\", \"Andre Drummond\", \"Andre Drummond\", \"Andre Drummond\", \"Tyler Zeller\", \"Quincy Acy\", \"Quincy Acy\", \"Quincy Acy\", \"Alexey Shved\", \"Tornike Shengelia\", \"Tornike Shengelia\", \"Tornike Shengelia\", \"Mustafa Shakur\", \"Mike Scott\", \"Robert Sacre\", \"Kyle Singler\", \"Henry Sims\", \"Henry Sims\", \"Henry Sims\", \"Marquis Teague\", \"Marquis Teague\", \"Tyshawn Taylor\", \"Miles Plumlee\", \"Jeffery Taylor\", \"Marquis Teague\", \"Mirza Teletovic\", \"Victor Claver\", \"Maurice Harkless\", \"Jared Cunningham\", \"Kendall Marshall\", \"Meyers Leonard\", \"Jared Cunningham\", \"Jared Cunningham\", \"Chris Wright\", \"Chris Copeland\", \"Jared Sullinger\", \"Pablo Prigioni\", \"Draymond Green\", \"Jae Crowder\", \"Jeremy Lamb\", \"Harrison Barnes\", \"Harrison Barnes\", \"Harrison Barnes\", \"Maalik Wayns\", \"Patrick Beverley\", \"Bradley Beal\", \"Bradley Beal\", \"Bradley Beal\", \"Bradley Beal\", \"Andrew Nicholson\", \"Jarvis Varnado\", \"John Jenkins\", \"Kyle O'Quinn\", \"Kent Bazemore\", \"Jarvis Varnado\", \"Aron Baynes\", \"Darius Johnson-Odom\", \"Kent Bazemore\", \"Kent Bazemore\", \"Chris Johnson\", \"John Henson\", \"Orlando Johnson\", \"Bernard James\", \"Viacheslav Kravtsov\", \"Donatas Motiejunas\", \"Darius Miller\", \"Perry Jones III\", \"Orlando Johnson\", \"Jonas Valanciunas\", \"Arnett Moultrie\", \"Michael Kidd-Gilchrist\", \"Orlando Johnson\", \"Khris Middleton\", \"Khris Middleton\", \"Elliot Williams\", \"Will Barton\", \"Quincy Miller\", \"Terrence Jones\", \"Dion Waiters\", \"Cory Joseph\", \"Alec Burks\", \"Brandon Knight\", \"Justin Dentmon\", \"Norris Cole\", \"Tyler Honeycutt\", \"Ricky Rubio\", \"Ivan Johnson\", \"Jan Vesely\", \"Greg Smith\", \"Jordan Hamilton\", \"Donald Sloan\", \"Julyan Stone\", \"Jon Leuer\", \"Jon Leuer\", \"Jon Leuer\", \"Charles Jenkins\", \"Charles Jenkins\", \"Charles Jenkins\", \"Malcolm Lee\", \"Reggie Jackson\", \"Andrew Goudelock\", \"Kyrie Irving\", \"Kyrie Irving\", \"Kyrie Irving\", \"Kawhi Leonard\", \"Kawhi Leonard\", \"Kawhi Leonard\", \"Kawhi Leonard\", \"Greg Stiemsma\", \"Kemba Walker\", \"Nolan Smith\", \"Shelvin Mack\", \"Shelvin Mack\", \"Shelvin Mack\", \"Shelvin Mack\", \"Jimmer Fredette\", \"MarShon Brooks\", \"Lavoy Allen\", \"DeAndre Liggins\", \"Enes Kanter\", \"Enes Kanter\", \"Nikola Vucevic\", \"Kenneth Faried\", \"Tobias Harris\", \"Tobias Harris\", \"Tobias Harris\", \"Malcolm Thomas\", \"Malcolm Thomas\", \"Malcolm Thomas\", \"Gustavo Ayon\", \"Jeremy Tyler\", \"Tristan Thompson\", \"Jeremy Tyler\", \"Jimmy Butler\", \"Jimmy Butler\", \"Jimmy Butler\", \"Jimmy Butler\", \"Jeremy Tyler\", \"Bismack Biyombo\", \"Iman Shumpert\", \"Isaiah Thomas\", \"Jeremy Pargo\", \"Jeremy Pargo\", \"Terrel Harris\", \"Terrel Harris\", \"P.J. Tucker\", \"Lance Thomas\", \"Klay Thompson\", \"Klay Thompson\", \"Cory Higgins\", \"Tobias Harris\", \"Tobias Harris\", \"Tobias Harris\", \"Tobias Harris\", \"Tobias Harris\", \"Tobias Harris\", \"Terrel Harris\", \"Gustavo Ayon\", \"Josh Selby\", \"Marcus Morris Sr.\", \"Marcus Morris Sr.\", \"Marcus Morris Sr.\", \"Chandler Parsons\", \"Chandler Parsons\", \"Chandler Parsons\", \"Chandler Parsons\", \"Chandler Parsons\", \"Daniel Orton\", \"Gustavo Ayon\", \"Chris Singleton\", \"Jeremy Pargo\", \"Derrick Williams\", \"Darius Morris\", \"Markieff Morris\", \"Josh Harrellson\", \"E'Twaun Moore\", \"Jeff Ayres\", \"Omer Asik\", \"Evan Turner\", \"Trevor Booker\", \"Blake Griffin\", \"Blake Griffin\", \"Blake Griffin\", \"Blake Griffin\", \"Blake Griffin\", \"Blake Griffin\", \"Blake Griffin\", \"Blake Griffin\", \"Chris Johnson\", \"Samardo Samuels\", \"Patrick Patterson\", \"Armon Johnson\", \"Semih Erden\", \"Armon Johnson\", \"Armon Johnson\", \"Jeremy Lin\", \"DeMarcus Cousins\", \"DeMarcus Cousins\", \"John Wall\", \"John Wall\", \"John Wall\", \"Devin Ebanks\", \"Kevin Seraphin\", \"Avery Bradley\", \"Craig Brackins\", \"Damion James\", \"Lance Stephenson\", \"Xavier Henry\", \"Larry Owens\", \"Al-Farouq Aminu\", \"Greg Monroe\", \"Greg Monroe\", \"Hamady Ndiaye\", \"Gary Neal\", \"Lazar Hayward\", \"Jordan Crawford\", \"Larry Sanders\", \"James Anderson\", \"Jonas Jerebko\", \"Hassan Whiteside\", \"Hassan Whiteside\", \"Hassan Whiteside\", \"Hassan Whiteside\", \"Ed Davis\", \"Gordon Hayward\", \"Gordon Hayward\", \"Gordon Hayward\", \"Gordon Hayward\", \"Gordon Hayward\", \"Paul George\", \"Paul George\", \"Paul George\", \"Paul George\", \"Paul George\", \"Paul George\", \"Tiago Splitter\", \"Darryl Watkins\", \"Dominique Jones\", \"Andre Emmett\", \"Chris Johnson\", \"Greivis Vasquez\", \"Ish Smith\", \"Landry Fields\", \"Ekpe Udoh\", \"Luke Harangody\", \"Eric Bledsoe\", \"Ish Smith\", \"Derrick Favors\", \"Dexter Pittman\", \"Solomon Alabi\", \"Manny Harris\", \"Ekpe Udoh\", \"Ben Uzoh\", \"Quincy Pondexter\", \"Luke Babbitt\", \"Gary Forbes\", \"Christian Eyenga\", \"Ben Uzoh\", \"Jeff Adrien\", \"Christian Eyenga\", \"Christian Eyenga\", \"Nikola Pekovic\", \"Nikola Pekovic\", \"Wesley Johnson\", \"Timofey Mozgov\", \"Cole Aldrich\", \"Ekpe Udoh\", \"Jeremy Evans\", \"Ben Uzoh\", \"Trey Johnson\", \"Trey Johnson\", \"Toney Douglas\", \"DeJuan Blair\", \"Trey Johnson\", \"Taj Gibson\", \"Wayne Ellington\", \"Sam Young\", \"Patty Mills\", \"Sundiata Gaines\", \"Sundiata Gaines\", \"Sundiata Gaines\", \"DeMar DeRozan\", \"DeMar DeRozan\", \"DeMar DeRozan\", \"DeMar DeRozan\", \"Rodrigue Beaubois\", \"Jonny Flynn\", \"Austin Daye\", \"Sundiata Gaines\", \"Alonzo Gee\", \"Alonzo Gee\", \"Alonzo Gee\", \"Alonzo Gee\", \"James Johnson\", \"Brandon Jennings\", \"James Johnson\", \"James Johnson\", \"Tyreke Evans\", \"Othyus Jeffers\", \"Othyus Jeffers\", \"Othyus Jeffers\", \"Byron Mullens\", \"Stephen Curry\", \"Stephen Curry\", \"Stephen Curry\", \"Omri Casspi\", \"Garrett Temple\", \"Chase Budinger\", \"Tyler Hansbrough\", \"Jon Brockman\", \"Reggie Williams\", \"Marcus Thornton\", \"Jeff Teague\", \"Terrence Williams\", \"Serge Ibaka\", \"Serge Ibaka\", \"Serge Ibaka\", \"Serge Ibaka\", \"Hasheem Thabeet\", \"Gerald Henderson\", \"Jodie Meeks\", \"Earl Clark\", \"Earl Clark\", \"Marcus Thornton\", \"Derrick Brown\", \"Wesley Matthews\", \"Wesley Matthews\", \"Jrue Holiday\", \"Jrue Holiday\", \"Jrue Holiday\", \"Marcus Thornton\", \"James Harden\", \"James Harden\", \"James Harden\", \"James Harden\", \"James Harden\", \"James Harden\", \"James Harden\", \"Hasheem Thabeet\", \"Hasheem Thabeet\", \"Danny Green\", \"Terrence Williams\", \"DaJuan Summers\", \"AJ Price\", \"Lester Hudson\", \"Derrick Brown\", \"DeMarre Carroll\", \"DeMarre Carroll\", \"Ty Lawson\", \"Darren Collison\", \"Terrence Williams\", \"Jermaine Taylor\", \"Jermaine Taylor\", \"Jermaine Taylor\", \"DeMarre Carroll\", \"Earl Clark\", \"Derrick Brown\", \"David Andersen\", \"Dante Cunningham\", \"Dante Cunningham\", \"David Andersen\", \"David Andersen\", \"Eric Maynor\", \"Jordan Hill\", \"Dante Cunningham\", \"JJ Hickson\", \"Sonny Weems\", \"Malik Hairston\", \"Kevin Love\", \"Kevin Love\", \"Kevin Love\", \"Kevin Love\", \"Kevin Love\", \"Kevin Love\", \"Kevin Love\", \"Kevin Love\", \"Robin Lopez\", \"Mario Chalmers\", \"Darrell Arthur\", \"Ryan Anderson\", \"Ryan Anderson\", \"Will Conroy\", \"Jason Thompson\", \"Jerryd Bayless\", \"Jason Smith\", \"Hamed Haddadi\", \"Derrick Rose\", \"Derrick Rose\", \"Derrick Rose\", \"Derrick Rose\", \"Derrick Rose\", \"Kosta Koufos\", \"Luc Mbah a Moute\", \"Joey Dorsey\", \"Joey Dorsey\", \"Joey Dorsey\", \"Russell Westbrook\", \"Russell Westbrook\", \"Russell Westbrook\", \"Russell Westbrook\", \"Russell Westbrook\", \"Russell Westbrook\", \"Russell Westbrook\", \"Russell Westbrook\", \"Greg Oden\", \"DeAndre Jordan\", \"DeAndre Jordan\", \"DeAndre Jordan\", \"DeAndre Jordan\", \"Chris Douglas-Roberts\", \"Roko Ukic\", \"Anthony Morrow\", \"Michael Beasley\", \"Goran Dragic\", \"Brook Lopez\", \"Brook Lopez\", \"Brook Lopez\", \"Brook Lopez\", \"Brook Lopez\", \"Brook Lopez\", \"O.J. Mayo\", \"JaVale McGee\", \"DJ White\", \"George Hill\", \"Roy Hibbert\", \"Roy Hibbert\", \"Roy Hibbert\", \"Roy Hibbert\", \"Brandon Rush\", \"Mike Harris\", \"Mike Harris\", \"Rudy Fernandez\", \"Mike Harris\", \"Alexis Ajinca\", \"Marreese Speights\", \"Marc Gasol\", \"Marc Gasol\", \"Marc Gasol\", \"Marc Gasol\", \"Marc Gasol\", \"Marc Gasol\", \"Marc Gasol\", \"Marc Gasol\", \"Nathan Jawai\", \"Cartier Martin\", \"Cartier Martin\", \"Cartier Martin\", \"Coby Karl\", \"Coby Karl\", \"Coby Karl\", \"Anthony Tolliver\", \"Ian Mahinmi\", \"Danilo Gallinari\", \"Danilo Gallinari\", \"Danilo Gallinari\", \"Chris Richard\", \"Anthony Tolliver\", \"Anthony Randolph\", \"D.J. Augustin\", \"Darnell Jackson\", \"Darnell Jackson\", \"Darnell Jackson\", \"Eric Gordon\", \"Eric Gordon\", \"Eric Gordon\", \"Eric Gordon\", \"Ersan Ilyasova\", \"Henry Walker\", \"Henry Walker\", \"Henry Walker\", \"J.R. Giddens\", \"J.R. Giddens\", \"J.R. Giddens\", \"Anthony Tolliver\", \"Bobby Brown\", \"Othello Hunter\", \"Kyle Weaver\", \"Courtney Lee\", \"Bobby Brown\", \"Jawad Williams\", \"Donte Greene\", \"Nicolas Batum\", \"Nicolas Batum\", \"Nicolas Batum\", \"Joe Alexander\", \"Courtney Sims\", \"Carl Landry\", \"Alando Tucker\", \"Courtney Sims\", \"Will Bynum\", \"Courtney Sims\", \"Luis Scola\", \"Joakim Noah\", \"Joakim Noah\", \"Mario West\", \"Marcus Williams\", \"Aaron Gray\", \"Brandan Wright\", \"Adam Morrison\", \"Jermareo Davidson\", \"Adam Morrison\", \"Oleksiy Pecherov\", \"Cheikh Samb\", \"Alex Acker\", \"Cheikh Samb\", \"James White\", \"Dee Brown\", \"Pops Mensah-Bonsu\", \"Dee Brown\", \"Dee Brown\", \"Spencer Hawes\", \"Pops Mensah-Bonsu\", \"Cheikh Samb\", \"Al Thornton\", \"Corey Brewer\", \"Sean Williams\", \"Thaddeus Young\", \"Cheikh Samb\", \"Ramon Sessions\", \"Pops Mensah-Bonsu\", \"Marcin Gortat\", \"Wilson Chandler\", \"Jared Dudley\", \"Jared Dudley\", \"Jared Dudley\", \"Adam Morrison\", \"Hassan Adams\", \"Acie Law\", \"Will Solomon\", \"Gabe Pruitt\", \"Thomas Gardner\", \"Glen Davis\", \"Jeff Green\", \"Julian Wright\", \"Will Solomon\", \"Rodney Stuckey\", \"Dominic McGuire\", \"Yi Jianlian\", \"Mike Conley\", \"Mike Conley\", \"Mike Conley\", \"Mike Conley\", \"Will Solomon\", \"Demetris Nichols\", \"Kyrylo Fesenko\", \"Al Horford\", \"Al Horford\", \"Al Horford\", \"Al Horford\", \"Al Horford\", \"Demetris Nichols\", \"Aaron Brooks\", \"Javaris Crittenton\", \"Marco Belinelli\", \"Desmon Farmer\", \"Morris Almond\", \"Javaris Crittenton\", \"Alex Acker\", \"Jamario Moon\", \"Kevin Durant\", \"Kevin Durant\", \"Kevin Durant\", \"Kevin Durant\", \"Kevin Durant\", \"Kevin Durant\", \"Kevin Durant\", \"Kevin Durant\", \"Alex Acker\", \"Daequan Cook\", \"Arron Afflalo\", \"Nick Young\", \"Josh McRoberts\", \"C.J. Watson\", \"Jamario Moon\", \"Jamario Moon\", \"Joel Anthony\", \"Blake Ahearn\", \"Walter Herrmann\", \"Walter Herrmann\", \"Walter Herrmann\", \"Andre Owens\", \"Brandon Roy\", \"Brandon Roy\", \"Bobby Jones\", \"Bobby Jones\", \"Jorge Garbajosa\", \"Tarence Kinsey\", \"Alexander Johnson\", \"JJ Redick\", \"Daniel Gibson\", \"Jeremy Richardson\", \"Jeremy Richardson\", \"Mickael Gelabale\", \"Chris Quinn\", \"Rudy Gay\", \"Rudy Gay\", \"Rudy Gay\", \"Rudy Gay\", \"Rudy Gay\", \"Jordan Farmar\", \"Randolph Morris\", \"Bobby Jones\", \"Bobby Jones\", \"Rajon Rondo\", \"Leon Powe\", \"Randy Foye\", \"Paul Millsap\", \"Paul Millsap\", \"Paul Millsap\", \"Paul Millsap\", \"Paul Millsap\", \"Steve Novak\", \"Sergio Rodriguez\", \"Ryan Hollins\", \"Patrick O'Bryant\", \"Solomon Jones\", \"Kyle Lowry\", \"Kyle Lowry\", \"Kyle Lowry\", \"Cedric Simmons\", \"Cedric Simmons\", \"Cedric Simmons\", \"Marcus Williams\", \"Hilton Armstrong\", \"Maurice Ager\", \"Maurice Ager\", \"Maurice Ager\", \"Ronnie Brewer\", \"Renaldo Balkman\", \"Shelden Williams\", \"Craig Smith\", \"Andre Brown\", \"Shelden Williams\", \"Yakhouba Diawara\", \"LaMarcus Aldridge\", \"LaMarcus Aldridge\", \"LaMarcus Aldridge\", \"LaMarcus Aldridge\", \"LaMarcus Aldridge\", \"LaMarcus Aldridge\", \"LaMarcus Aldridge\", \"LaMarcus Aldridge\", \"LaMarcus Aldridge\", \"Paul Davis\", \"Justin Williams\", \"Justin Williams\", \"Kelenna Azubuike\", \"Justin Williams\", \"Shawne Williams\", \"Shannon Brown\", \"Lou Amundson\", \"Mardy Collins\", \"Shannon Brown\", \"Shannon Brown\", \"Marcus Vinicius\", \"Quincy Douby\", \"J.J. Barea\", \"Rodney Carney\", \"James Augustine\", \"Thabo Sefolosha\", \"Andrea Bargnani\", \"Shelden Williams\", \"Josh Boone\", \"Tyrus Thomas\", \"Mouhamed Sene\", \"Antoine Wright\", \"Linas Kleiza\", \"Charlie Villanueva\", \"Julius Hodge\", \"Francisco Garcia\", \"Julius Hodge\", \"Deron Williams\", \"Deron Williams\", \"Deron Williams\", \"Deron Williams\", \"Deron Williams\", \"Deron Williams\", \"Ike Diogu\", \"Bracey Wright\", \"Raymond Felton\", \"Martell Webster\", \"Julius Hodge\", \"Ike Diogu\", \"Ike Diogu\", \"Johan Petro\", \"Fabricio Oberto\", \"Anthony Roberson\", \"Dwayne Jones\", \"Dijon Thompson\", \"Chris Paul\", \"Chris Paul\", \"Chris Paul\", \"Chris Paul\", \"Chris Paul\", \"Chris Paul\", \"Chris Paul\", \"Chris Paul\", \"Chris Paul\", \"Chris Paul\", \"Chris Paul\", \"Alan Anderson\", \"Rawle Marshall\", \"Brandon Bass\", \"Matt Freije\", \"Maceo Baston\", \"Sarunas Jasikevicius\", \"Luther Head\", \"CJ Miles\", \"Nate Robinson\", \"Andrew Bogut\", \"Andrew Bogut\", \"Andrew Bogut\", \"Andrew Bogut\", \"Chuck Hayes\", \"Ronny Turiaf\", \"Sarunas Jasikevicius\", \"Sarunas Jasikevicius\", \"Lawrence Roberts\", \"Marvin Williams\", \"Travis Diener\", \"Channing Frye\", \"David Lee\", \"David Lee\", \"David Lee\", \"Jose Calderon\", \"Earl Barron\", \"Esteban Batista\", \"Andrew Bynum\", \"Andrew Bynum\", \"Andrew Bynum\", \"Andrew Bynum\", \"Lou Williams\", \"Josh Powell\", \"Josh Powell\", \"Josh Powell\", \"Hakim Warrick\", \"Orien Greene\", \"Monta Ellis\", \"Von Wafer\", \"Amir Johnson\", \"Sean May\", \"Ronnie Price\", \"Rashad McCants\", \"Shavlik Randolph\", \"Danny Granger\", \"Danny Granger\", \"Joey Graham\", \"Stephen Graham\", \"John Lucas III\", \"Luke Schenscher\", \"Yaroslav Korolev\", \"Andray Blatche\", \"Ryan Gomes\", \"Jarrett Jack\", \"Gerald Green\", \"Salim Stoudamire\", \"Jared Reiner\", \"Daniel Ewing\", \"Donell Taylor\", \"Wayne Simien\", \"James Singleton\", \"Jason Maxiell\", \"Andris Biedrins\", \"Sebastian Telfair\", \"Viktor Khryapa\", \"Rafael Araujo\", \"DJ Mbenga\", \"Ben Gordon\", \"Al Jefferson\", \"Al Jefferson\", \"Al Jefferson\", \"Al Jefferson\", \"Al Jefferson\", \"Awvee Storey\", \"Nenad Krstic\", \"Matt Bonner\", \"Robert Swift\", \"Ha Seung-jin\", \"Pape Sow\", \"Kevin Martin\", \"Josh Childress\", \"Kirk Snyder\", \"Trevor Ariza\", \"Devin Harris\", \"Trevor Ariza\", \"Trevor Ariza\", \"Justin Reed\", \"Andre Barrett\", \"David Harrison\", \"Nick Collison\", \"Billy Thomas\", \"Andre Barrett\", \"James Thomas\", \"Justin Reed\", \"Dorell Wright\", \"Justin Reed\", \"Bernard Robinson\", \"Pavel Podkolzin\", \"James Thomas\", \"Donta Smith\", \"Emeka Okafor\", \"Emeka Okafor\", \"Emeka Okafor\", \"Anderson Varejao\", \"Antonio Burks\", \"Pat Burke\", \"Beno Udrih\", \"Jameer Nelson\", \"JR Smith\", \"Luke Jackson\", \"Mario Kasun\", \"Quinton Ross\", \"Jackie Butler\", \"Ime Udoka\", \"Sasha Vujacic\", \"Andres Nocioni\", \"Kris Humphries\", \"Jackson Vroman\", \"Delonte West\", \"Damien Wilkins\", \"Chris Duhon\", \"Shaun Livingston\", \"Charlie Bell\", \"Dwight Howard\", \"Dwight Howard\", \"Dwight Howard\", \"Dwight Howard\", \"Dwight Howard\", \"Dwight Howard\", \"Dwight Howard\", \"Dwight Howard\", \"Dwight Howard\", \"Royal Ivey\", \"Andre Iguodala\", \"Andre Iguodala\", \"Andre Iguodala\", \"Andre Iguodala\", \"Andre Iguodala\", \"Andre Iguodala\", \"Tony Allen\", \"Josh Smith\", \"Josh Smith\", \"Josh Smith\", \"Carlos Delfino\", \"T.J. Ford\", \"John Edwards\", \"Luol Deng\", \"Luol Deng\", \"Luol Deng\", \"Luol Deng\", \"Willie Green\", \"Zoran Planinic\", \"Mickael Pietrus\", \"Richie Frahm\", \"David West\", \"Josh Howard\", \"Jarvis Hayes\", \"Smush Parker\", \"Zaza Pachulia\", \"Chris Bosh\", \"Chris Bosh\", \"Chris Bosh\", \"Chris Bosh\", \"Chris Bosh\", \"Chris Bosh\", \"Chris Bosh\", \"Chris Bosh\", \"Chris Bosh\", \"Chris Bosh\", \"Kyle Korver\", \"Ben Handlogten\", \"LeBron James\", \"LeBron James\", \"LeBron James\", \"LeBron James\", \"LeBron James\", \"LeBron James\", \"LeBron James\", \"LeBron James\", \"LeBron James\", \"LeBron James\", \"LeBron James\", \"LeBron James\", \"Aleksandar Radojevic\", \"Smush Parker\", \"Michael Sweetney\", \"Smush Parker\", \"Brandon Hunter\", \"Matt Carroll\", \"Omar Cook\", \"Francisco Elson\", \"Curtis Borchardt\", \"Maciej Lampe\", \"Maciej Lampe\", \"Maciej Lampe\", \"Linton Johnson\", \"Marcus Banks\", \"Ronald Dupree\", \"Maurice Evans\", \"Britton Johnsen\", \"Dwyane Wade\", \"Dwyane Wade\", \"Dwyane Wade\", \"Dwyane Wade\", \"Dwyane Wade\", \"Dwyane Wade\", \"Dwyane Wade\", \"Dwyane Wade\", \"Dwyane Wade\", \"Dwyane Wade\", \"Brian Cook\", \"Darko Milicic\", \"Leandro Barbosa\", \"Marquis Daniels\", \"Keith McLeod\", \"Kirk Hinrich\", \"Kaniel Dickens\", \"Jason Kapono\", \"Travis Outlaw\", \"Reece Gaines\", \"Reece Gaines\", \"Reece Gaines\", \"Chris Kaman\", \"Josh Davis\", \"James Jones\", \"Mo Williams\", \"Udonis Haslem\", \"Boris Diaw\", \"Zarko Cabarkapa\", \"Keith Bogans\", \"Theron Smith\", \"Zarko Cabarkapa\", \"Luke Walton\", \"Zarko Cabarkapa\", \"Kendrick Perkins\", \"Luke Ridnour\", \"Carmelo Anthony\", \"Carmelo Anthony\", \"Carmelo Anthony\", \"Carmelo Anthony\", \"Carmelo Anthony\", \"Carmelo Anthony\", \"Carmelo Anthony\", \"Carmelo Anthony\", \"Carmelo Anthony\", \"Carmelo Anthony\", \"Carmelo Anthony\", \"Steve Blake\", \"Raul Lopez\", \"Matt Barnes\", \"Sasha Pavlovic\", \"Ndudi Ebi\", \"Darius Songaila\", \"Junior Harrington\", \"Kirk Penney\", \"Torraye Braggs\", \"Dahntay Jones\", \"Alex Garcia\", \"Paul Grant\", \"Fred Jones\", \"J.R. Bremer\", \"Tayshaun Prince\", \"J.R. Bremer\", \"Carlos Boozer\", \"Carlos Boozer\", \"Carlos Boozer\", \"Carlos Boozer\", \"Carlos Boozer\", \"Carlos Boozer\", \"Carlos Boozer\", \"Bostjan Nachbar\", \"Dajuan Wagner\", \"Amar'e Stoudemire\", \"Amar'e Stoudemire\", \"Amar'e Stoudemire\", \"Amar'e Stoudemire\", \"Amar'e Stoudemire\", \"Amar'e Stoudemire\", \"Amar'e Stoudemire\", \"Amar'e Stoudemire\", \"J.R. Bremer\", \"Nene\", \"Jannero Pargo\", \"Nikoloz Tskitishvili\", \"Jared Jeffries\", \"Rasual Butler\", \"Cezary Trybanski\", \"Caron Butler\", \"Mehmet Okur\", \"Marko Jaric\", \"Lonny Baxter\", \"Lonny Baxter\", \"Shane Heal\", \"Jannero Pargo\", \"Jannero Pargo\", \"Chris Jefferies\", \"Cezary Trybanski\", \"Chris Jefferies\", \"Chris Jefferies\", \"Cezary Trybanski\", \"Lonny Baxter\", \"Devin Brown\", \"Chris Wilcox\", \"Marcus Haislip\", \"Mike Wilks\", \"Ryan Humphrey\", \"Lonny Baxter\", \"Frank Williams\", \"Jannero Pargo\", \"Casey Jacobsen\", \"Samuel Dalembert\", \"Dan Dickau\", \"Jamal Sampson\", \"Drew Gooden\", \"Dan Dickau\", \"John Salmons\", \"Robert Archibald\", \"Dan Dickau\", \"Leon Smith\", \"Mike Dunleavy\", \"Melvin Ely\", \"Qyntel Woods\", \"Manu Ginobili\", \"Manu Ginobili\", \"Manu Ginobili\", \"Gordan Giricek\", \"Gordan Giricek\", \"Sean Lampley\", \"Paul Shirley\", \"Yao Ming\", \"Yao Ming\", \"Yao Ming\", \"Yao Ming\", \"Yao Ming\", \"Tamar Slay\", \"Robert Archibald\", \"Jiri Welsch\", \"Robert Archibald\", \"Roger Mason Jr.\", \"Reggie Evans\", \"Kareem Rush\", \"Roger Mason Jr.\", \"Roger Mason Jr.\", \"Juan Dixon\", \"Robert Archibald\", \"Flip Murray\", \"Dan Gadzuric\", \"Dean Oliver\", \"Jeryl Sasser\", \"Oscar Torres\", \"Malik Allen\", \"Kedrick Brown\", \"Kwame Brown\", \"Eddie Griffin\", \"Soumaila Samake\", \"Speedy Claxton\", \"Pau Gasol\", \"Pau Gasol\", \"Pau Gasol\", \"Pau Gasol\", \"Pau Gasol\", \"Pau Gasol\", \"Pau Gasol\", \"Pau Gasol\", \"Pau Gasol\", \"Earl Watson\", \"Rodney White\", \"Bobby Simmons\", \"Jason Richardson\", \"Jason Richardson\", \"Andrei Kirilenko\", \"Andrei Kirilenko\", \"Andrei Kirilenko\", \"Andrei Kirilenko\", \"Andrei Kirilenko\", \"Andrei Kirilenko\", \"Andrei Kirilenko\", \"Jarron Collins\", \"Brendan Haywood\", \"Tony Parker\", \"Tony Parker\", \"Tony Parker\", \"Tony Parker\", \"Tony Parker\", \"Tony Parker\", \"Gilbert Arenas\", \"Gilbert Arenas\", \"Gilbert Arenas\", \"Gilbert Arenas\", \"Gilbert Arenas\", \"Troy Murphy\", \"Jason Collins\", \"Predrag Drobnjak\", \"Steven Hunter\", \"Chris Andersen\", \"Pepe Sanchez\", \"Jamaal Tinsley\", \"Tremaine Fowlkes\", \"Joe Johnson\", \"Joe Johnson\", \"Joe Johnson\", \"Joe Johnson\", \"Joe Johnson\", \"Joe Johnson\", \"Joe Johnson\", \"Joe Johnson\", \"Joe Johnson\", \"Joe Johnson\", \"Shane Battier\", \"Damone Brown\", \"Ruben Boumtje-Boumtje\", \"Brandon Armstrong\", \"Trenton Hassell\", \"Carlos Arroyo\", \"Tyson Chandler\", \"Tyson Chandler\", \"Tyson Chandler\", \"Tyson Chandler\", \"Tyson Chandler\", \"Vladimir Radmanovic\", \"Jeff Trepagnier\", \"Joseph Forte\", \"Etan Thomas\", \"Kirk Haston\", \"DeSagana Diop\", \"Ansu Sesay\", \"Richard Jefferson\", \"Richard Jefferson\", \"Richard Jefferson\", \"Richard Jefferson\", \"Zach Randolph\", \"Zach Randolph\", \"Zach Randolph\", \"Zach Randolph\", \"Zach Randolph\", \"Zach Randolph\", \"Zach Randolph\", \"Zach Randolph\", \"Zach Randolph\", \"Zach Randolph\", \"Terence Morris\", \"Alton Ford\", \"Ruben Wolkowyski\", \"Eddy Curry\", \"Brian Scalabrine\", \"Gerald Wallace\", \"Loren Woods\", \"Michael Bradley\", \"Primoz Brezec\", \"Jamison Brewer\", \"Kenny Satterfield\", \"Kenny Satterfield\", \"Kenny Satterfield\", \"Mike James\", \"Tierre Brown\", \"Mengke Bateer\", \"Zeljko Rebraca\", \"Mike Penberthy\", \"Desmond Mason\", \"Mike Miller\", \"Raja Bell\", \"Keyon Dooling\", \"Erick Barkley\", \"Donnell Harvey\", \"Donnell Harvey\", \"Jerome James\", \"Donnell Harvey\", \"Eddie House\", \"Jason Hart\", \"Morris Peterson\", \"Eduardo Najera\", \"Courtney Alexander\", \"DerMarr Johnson\", \"Mateen Cleaves\", \"Harold Jamison\", \"Jamaal Magloire\", \"Kenyon Martin\", \"Kenyon Martin\", \"Kenyon Martin\", \"Kenyon Martin\", \"Kenyon Martin\", \"Kenyon Martin\", \"Slava Medvedenko\", \"Quentin Richardson\", \"Chris Mihm\", \"Steve Goodrich\", \"Dalibor Bagaric\", \"Jamal Crawford\", \"Wang Zhi-zhi\", \"Olumide Oyedeji\", \"Joel Przybilla\", \"Marcus Fizer\", \"Darius Miles\", \"Michael Redd\", \"Michael Redd\", \"Michael Redd\", \"Michael Redd\", \"Michael Redd\", \"Michael Redd\", \"Marc Jackson\", \"Marc Jackson\", \"DeShawn Stevenson\", \"Brian Cardinal\", \"Hanno Mottola\", \"Lee Nailon\", \"Stephen Jackson\", \"Marc Jackson\", \"Jake Tsakalidis\", \"Jermaine Jackson\", \"Hedo Turkoglu\", \"Mamadou N'diaye\", \"Jabari Smith\", \"Jabari Smith\", \"Amal McCaskill\", \"Jabari Smith\", \"A.J. Guyton\", \"Jake Voskuhl\", \"Jason Collier\", \"Dan Langhi\", \"Jerome Moiso\", \"Mark Madsen\", \"Lavor Postell\", \"Ira Newble\", \"Art Long\", \"Mark Blount\", \"Zendon Hamilton\", \"Eddie Gill\", \"Daniel Santiago\", \"Stromile Swift\", \"Eddie Robinson\", \"Chris Herren\", \"Steve Francis\", \"Steve Francis\", \"Shawn Marion\", \"Shawn Marion\", \"Shawn Marion\", \"Shawn Marion\", \"Milt Palacio\", \"Scott Padgett\", \"Rafer Alston\", \"Derrick Dial\", \"Lari Ketner\", \"Ira Bowman\", \"Jeff Foster\", \"Andre Miller\", \"Anthony Carter\", \"Quincy Lewis\", \"Michael Ruffin\", \"Wally Szczerbiak\", \"Wally Szczerbiak\", \"Wally Szczerbiak\", \"Wally Szczerbiak\", \"James Posey\", \"Jonathan Bender\", \"Adrian Griffin\", \"Todd MacCulloch\", \"Dion Glover\", \"Metta World Peace\", \"Richard Hamilton\", \"Devean George\", \"Baron Davis\", \"Baron Davis\", \"Baron Davis\", \"Baron Davis\", \"Baron Davis\", \"Trajan Langdon\", \"Evan Eschmeyer\", \"William Avery\", \"Obinna Ekezie\", \"Obinna Ekezie\", \"Obinna Ekezie\", \"Calvin Booth\", \"Calvin Booth\", \"Calvin Booth\", \"Vonteego Cummings\", \"Chucky Atkins\", \"Elton Brand\", \"Elton Brand\", \"Elton Brand\", \"Elton Brand\", \"Elton Brand\", \"Elton Brand\", \"Elton Brand\", \"Laron Profit\", \"Jumaine Jones\", \"Cal Bowdler\", \"Chris Garner\", \"Greg Buckner\", \"Lamar Odom\", \"Lamar Odom\", \"Lamar Odom\", \"Lamar Odom\", \"Rodney Buford\", \"Kenny Thomas\", \"Tim James\", \"Ryan Bowen\", \"Jamel Thomas\", \"Jason Terry\", \"Corey Maggette\"], \"legendgroup\": \"\", \"marker\": {\"color\": [12, 36, 533, 4, 15, 219, 2, 19, 15, 288, 37, 690, 251, 104, 316, 45, 370, 10, 2, 12, 627, 185, 1331, 1145, 206, 150, 377, 215, 34, 192, 70, 86, 156, 142, 115, 27, 30, 107, 484, 17, 2, 287, 504, 330, 10, 120, 6, 7, 4, 11, 541, 155, 55, 517, 579, 71, 1778, 990, 1759, 684, 1349, 455, 58, 371, 389, 128, 492, 0, 128, 218, 107, 393, 843, 667, 136, 12, 53, 330, 40, 332, 3, 0, 466, 716, 590, 983, 487, 319, 197, 122, 3, 419, 8, 50, 318, 610, 218, 237, 465, 426, 279, 0, 758, 9, 346, 720, 62, 910, 1308, 0, 339, 229, 12, 991, 9, 613, 27, 485, 337, 246, 241, 316, 322, 583, 186, 35, 93, 280, 135, 17, 372, 1399, 16, 513, 10, 47, 94, 974, 1829, 5, 851, 10, 722, 308, 189, 414, 155, 873, 39, 2, 23, 2, 459, 653, 90, 206, 296, 779, 81, 19, 729, 0, 223, 6, 0, 6, 1337, 8, 35, 225, 1243, 43, 374, 0, 195, 48, 57, 544, 1188, 990, 512, 469, 102, 284, 271, 86, 2, 663, 240, 12, 525, 418, 474, 66, 430, 158, 16, 136, 27, 43, 9, 0, 75, 531, 20, 100, 456, 1352, 654, 3, 25, 16, 360, 1158, 4, 10, 273, 34, 59, 567, 14, 445, 312, 40, 26, 87, 8, 2, 2, 15, 17, 0, 589, 699, 1141, 1445, 1445, 1445, 524, 325, 151, 861, 555, 89, 338, 123, 254, 838, 57, 2, 1, 0, 656, 783, 554, 555, 625, 8, 949, 9, 152, 1017, 533, 30, 556, 39, 69, 135, 4, 1079, 246, 111, 82, 34, 2, 36, 55, 128, 229, 5, 356, 61, 196, 52, 523, 0, 71, 38, 9, 353, 218, 34, 91, 161, 858, 299, 63, 1196, 98, 504, 14, 8, 1726, 196, 1173, 6, 437, 50, 12, 410, 150, 2, 501, 100, 213, 449, 165, 539, 191, 611, 38, 374, 9, 370, 329, 203, 34, 9, 874, 43, 532, 317, 636, 0, 161, 127, 1, 59, 11, 403, 209, 412, 675, 483, 556, 24, 1221, 1221, 36, 590, 2061, 527, 35, 440, 1, 346, 142, 339, 984, 316, 54, 603, 106, 160, 68, 35, 0, 135, 559, 11, 318, 27, 13, 3, 719, 919, 345, 342, 749, 0, 3, 26, 65, 764, 778, 350, 747, 399, 465, 1149, 283, 286, 124, 410, 263, 1150, 132, 200, 363, 7, 34, 578, 1225, 13, 13, 0, 7, 8, 89, 4, 4, 23, 133, 36, 210, 51, 314, 7, 22, 625, 542, 58, 75, 1070, 887, 67, 777, 171, 558, 240, 29, 1675, 1675, 8, 0, 31, 206, 203, 932, 70, 11, 134, 515, 374, 159, 617, 143, 16, 117, 60, 768, 1292, 1292, 52, 278, 27, 22, 154, 512, 432, 1030, 1030, 298, 729, 717, 153, 356, 472, 804, 656, 973, 470, 138, 254, 503, 69, 4, 65, 44, 57, 13, 66, 537, 537, 98, 201, 11, 626, 228, 168, 966, 613, 353, 153, 8, 142, 332, 0, 176, 77, 53, 46, 231, 686, 686, 243, 16, 126, 1043, 11, 6, 105, 432, 94, 435, 943, 6, 197, 1, 89, 90, 996, 216, 6, 0, 710, 53, 37, 16, 445, 445, 445, 122, 319, 424, 424, 424, 3, 20, 25, 17, 42, 198, 177, 191, 112, 65, 177, 638, 339, 174, 1695, 1695, 1695, 1695, 1394, 1394, 1394, 1394, 248, 530, 677, 939, 879, 1095, 1095, 1095, 1095, 399, 171, 152, 19, 250, 29, 4, 25, 1, 767, 350, 784, 350, 306, 44, 107, 45, 89, 646, 208, 62, 622, 47, 592, 24, 430, 98, 26, 2, 48, 153, 982, 252, 511, 356, 665, 738, 738, 738, 2, 573, 1249, 1249, 1249, 1249, 435, 99, 40, 429, 403, 0, 161, 0, 302, 101, 250, 779, 100, 28, 20, 341, 200, 216, 9, 916, 36, 448, 91, 990, 990, 404, 166, 257, 921, 1113, 126, 451, 999, 0, 445, 8, 608, 452, 126, 421, 208, 81, 7, 22, 34, 56, 81, 30, 111, 78, 374, 0, 1325, 1325, 1325, 689, 689, 689, 689, 307, 1455, 110, 143, 104, 2, 37, 494, 394, 455, 58, 506, 506, 1008, 923, 603, 603, 603, 3, 12, 15, 153, 22, 957, 0, 705, 705, 705, 705, 22, 386, 305, 1100, 265, 69, 5, 10, 506, 149, 1359, 1359, 14, 136, 136, 136, 467, 467, 467, 15, 51, 20, 596, 465, 131, 1177, 1177, 1177, 1177, 1177, 33, 204, 231, 196, 933, 194, 670, 10, 588, 34, 205, 610, 419, 1368, 1368, 1368, 1368, 1368, 1368, 1368, 1368, 23, 292, 490, 45, 99, 2, 47, 512, 1160, 1160, 1076, 1076, 1076, 97, 453, 484, 22, 34, 106, 239, 13, 399, 1015, 1015, 0, 557, 37, 938, 186, 190, 556, 29, 29, 29, 29, 415, 782, 782, 782, 782, 782, 798, 798, 798, 798, 798, 798, 549, 23, 88, 13, 32, 589, 45, 580, 340, 60, 132, 27, 570, 106, 33, 173, 130, 77, 271, 202, 319, 9, 4, 21, 17, 8, 651, 651, 393, 239, 57, 210, 62, 81, 28, 34, 856, 674, 6, 569, 410, 572, 353, 21, 35, 55, 1410, 1410, 1410, 1410, 236, 279, 537, 111, 2, 32, 297, 331, 42, 1019, 229, 271, 1012, 93, 91, 2, 25, 1373, 1373, 1373, 610, 2, 765, 767, 136, 738, 933, 361, 106, 808, 808, 808, 808, 53, 653, 774, 134, 163, 359, 151, 1300, 1300, 1145, 1145, 1145, 574, 998, 998, 998, 998, 998, 998, 998, 53, 0, 41, 39, 74, 323, 18, 185, 0, 10, 933, 1039, 67, 223, 184, 39, 10, 29, 34, 134, 198, 482, 78, 56, 348, 406, 284, 689, 518, 99, 842, 842, 842, 842, 842, 842, 842, 842, 430, 521, 143, 487, 487, 6, 939, 630, 189, 62, 1619, 1619, 1619, 1619, 1619, 53, 453, 23, 12, 11, 1322, 1322, 1322, 1322, 1322, 1322, 1322, 1322, 233, 336, 336, 336, 336, 657, 40, 899, 1156, 635, 1542, 1542, 1542, 1542, 1542, 1542, 1432, 386, 59, 964, 946, 946, 946, 946, 774, 4, 25, 503, 29, 10, 532, 1008, 1008, 1008, 1008, 1008, 1008, 1008, 1008, 124, 141, 51, 90, 28, 28, 0, 539, 101, 1221, 1221, 1221, 37, 0, 384, 508, 23, 2, 21, 1045, 1045, 1045, 1045, 840, 8, 321, 329, 24, 45, 69, 539, 145, 11, 36, 885, 70, 224, 647, 375, 375, 375, 4, 6, 638, 138, 6, 410, 0, 1044, 537, 537, 43, 4, 196, 323, 209, 42, 10, 116, 11, 72, 15, 7, 46, 96, 5, 41, 876, 111, 4, 1194, 93, 80, 1145, 0, 977, 15, 239, 1184, 372, 264, 108, 199, 11, 162, 263, 93, 24, 530, 1290, 237, 70, 1058, 356, 525, 895, 895, 895, 895, 193, 2, 49, 773, 773, 773, 773, 773, 5, 894, 19, 372, 13, 92, 298, 9, 577, 1871, 1871, 1871, 1871, 1871, 1871, 1871, 1871, 63, 686, 363, 892, 80, 730, 393, 184, 144, 8, 68, 153, 85, 123, 1416, 1416, 2, 48, 22, 40, 179, 140, 605, 0, 10, 168, 465, 1632, 1632, 1632, 1632, 1632, 749, 56, 40, 4, 814, 445, 510, 661, 661, 661, 661, 661, 135, 180, 147, 35, 35, 791, 791, 791, 8, 4, 4, 313, 178, 15, 36, 51, 914, 224, 109, 727, 100, 146, 153, 1350, 1350, 1350, 1350, 1350, 1350, 1350, 1350, 1350, 54, 31, 3, 692, 34, 437, 9, 18, 145, 114, 105, 28, 354, 191, 409, 40, 464, 792, 255, 575, 502, 30, 283, 598, 462, 9, 474, 6, 1297, 1297, 1297, 1297, 1297, 1297, 366, 67, 1093, 574, 15, 243, 123, 502, 349, 111, 3, 17, 1104, 1104, 1104, 1104, 1104, 1104, 1104, 1104, 1104, 1104, 1104, 98, 99, 42, 40, 138, 386, 872, 101, 645, 809, 809, 809, 809, 439, 383, 113, 273, 283, 839, 98, 684, 621, 621, 621, 668, 65, 20, 637, 637, 637, 637, 262, 12, 104, 116, 1045, 63, 1272, 0, 47, 416, 192, 184, 58, 1142, 1142, 503, 45, 154, 19, 12, 206, 881, 946, 843, 471, 33, 179, 126, 23, 85, 334, 258, 643, 403, 121, 74, 1349, 464, 464, 464, 464, 464, 43, 1080, 583, 301, 44, 147, 778, 742, 542, 165, 554, 99, 264, 325, 78, 385, 493, 38, 9, 6, 250, 58, 75, 422, 3, 22, 38, 344, 344, 344, 219, 113, 141, 275, 905, 423, 96, 80, 317, 292, 22, 321, 1063, 188, 73, 836, 536, 647, 352, 494, 1292, 1292, 1292, 1292, 1292, 1292, 1292, 1292, 1292, 260, 1007, 1007, 1007, 1007, 1007, 1007, 369, 902, 902, 902, 247, 878, 70, 1112, 1112, 1112, 1112, 437, 217, 636, 164, 186, 958, 553, 48, 458, 1361, 1361, 1361, 1361, 1361, 1361, 1361, 1361, 1361, 1361, 942, 95, 2175, 2175, 2175, 2175, 2175, 2175, 2175, 2175, 2175, 2175, 2175, 2175, 19, 15, 650, 33, 95, 224, 23, 248, 200, 115, 71, 44, 0, 372, 152, 416, 12, 1854, 1854, 1854, 1854, 1854, 1854, 1854, 1854, 1854, 1854, 458, 67, 442, 545, 416, 1206, 13, 688, 319, 41, 15, 26, 572, 117, 371, 814, 870, 314, 238, 714, 105, 229, 198, 9, 149, 824, 1558, 1558, 1558, 1558, 1558, 1558, 1558, 1558, 1558, 1558, 1558, 191, 161, 164, 314, 27, 608, 163, 2, 6, 233, 44, 25, 397, 110, 841, 8, 1162, 1162, 1162, 1162, 1162, 1162, 1162, 138, 287, 1133, 1133, 1133, 1133, 1133, 1133, 1133, 1133, 118, 908, 207, 106, 464, 304, 1, 623, 682, 495, 60, 41, 22, 18, 14, 84, 1, 76, 8, 0, 150, 234, 559, 93, 50, 2, 251, 219, 175, 466, 652, 49, 29, 914, 46, 443, 32, 95, 2, 877, 157, 224, 987, 987, 987, 489, 338, 34, 21, 1431, 1431, 1431, 1431, 1431, 53, 2, 746, 1, 3, 217, 459, 93, 96, 664, 29, 1013, 424, 22, 194, 53, 767, 145, 593, 664, 22, 173, 1555, 1555, 1555, 1555, 1555, 1555, 1555, 1555, 1555, 433, 650, 120, 1282, 1282, 963, 963, 963, 963, 963, 963, 963, 120, 501, 1269, 1269, 1269, 1269, 1269, 1269, 1497, 1497, 1497, 1497, 1497, 923, 460, 771, 130, 305, 0, 566, 164, 803, 803, 803, 803, 803, 803, 803, 803, 803, 803, 756, 28, 0, 24, 342, 121, 691, 691, 691, 691, 691, 724, 45, 24, 182, 6, 119, 94, 1242, 1242, 1242, 1242, 650, 650, 650, 650, 650, 650, 650, 650, 650, 650, 182, 7, 5, 849, 180, 220, 80, 338, 42, 22, 132, 123, 9, 607, 65, 9, 198, 5, 931, 956, 254, 58, 58, 270, 232, 298, 38, 514, 26, 883, 400, 549, 602, 70, 54, 699, 1086, 1086, 1086, 1086, 1086, 1086, 331, 1076, 569, 5, 185, 214, 308, 55, 190, 938, 779, 767, 767, 767, 767, 767, 767, 84, 186, 325, 17, 396, 851, 89, 102, 491, 57, 810, 20, 18, 55, 52, 73, 244, 296, 106, 107, 16, 167, 93, 338, 285, 94, 324, 116, 8, 803, 498, 83, 1591, 1591, 1369, 1369, 1369, 1369, 342, 56, 77, 86, 0, 0, 249, 1296, 461, 124, 119, 1145, 1145, 1145, 1145, 666, 193, 93, 260, 338, 907, 1411, 182, 1131, 1131, 1131, 1131, 1131, 389, 251, 154, 101, 0, 101, 293, 112, 181, 483, 971, 1490, 1490, 1490, 1490, 1490, 1490, 1490, 152, 304, 140, 19, 229, 1304, 1304, 1304, 1304, 248, 528, 45, 191, 13, 1619, 690], \"coloraxis\": \"coloraxis\", \"size\": [12, 36, 533, 4, 15, 219, 2, 19, 15, 288, 37, 690, 251, 104, 316, 45, 370, 10, 2, 12, 627, 185, 1331, 1145, 206, 150, 377, 215, 34, 192, 70, 86, 156, 142, 115, 27, 30, 107, 484, 17, 2, 287, 504, 330, 10, 120, 6, 7, 4, 11, 541, 155, 55, 517, 579, 71, 1778, 990, 1759, 684, 1349, 455, 58, 371, 389, 128, 492, 0, 128, 218, 107, 393, 843, 667, 136, 12, 53, 330, 40, 332, 3, 0, 466, 716, 590, 983, 487, 319, 197, 122, 3, 419, 8, 50, 318, 610, 218, 237, 465, 426, 279, 0, 758, 9, 346, 720, 62, 910, 1308, 0, 339, 229, 12, 991, 9, 613, 27, 485, 337, 246, 241, 316, 322, 583, 186, 35, 93, 280, 135, 17, 372, 1399, 16, 513, 10, 47, 94, 974, 1829, 5, 851, 10, 722, 308, 189, 414, 155, 873, 39, 2, 23, 2, 459, 653, 90, 206, 296, 779, 81, 19, 729, 0, 223, 6, 0, 6, 1337, 8, 35, 225, 1243, 43, 374, 0, 195, 48, 57, 544, 1188, 990, 512, 469, 102, 284, 271, 86, 2, 663, 240, 12, 525, 418, 474, 66, 430, 158, 16, 136, 27, 43, 9, 0, 75, 531, 20, 100, 456, 1352, 654, 3, 25, 16, 360, 1158, 4, 10, 273, 34, 59, 567, 14, 445, 312, 40, 26, 87, 8, 2, 2, 15, 17, 0, 589, 699, 1141, 1445, 1445, 1445, 524, 325, 151, 861, 555, 89, 338, 123, 254, 838, 57, 2, 1, 0, 656, 783, 554, 555, 625, 8, 949, 9, 152, 1017, 533, 30, 556, 39, 69, 135, 4, 1079, 246, 111, 82, 34, 2, 36, 55, 128, 229, 5, 356, 61, 196, 52, 523, 0, 71, 38, 9, 353, 218, 34, 91, 161, 858, 299, 63, 1196, 98, 504, 14, 8, 1726, 196, 1173, 6, 437, 50, 12, 410, 150, 2, 501, 100, 213, 449, 165, 539, 191, 611, 38, 374, 9, 370, 329, 203, 34, 9, 874, 43, 532, 317, 636, 0, 161, 127, 1, 59, 11, 403, 209, 412, 675, 483, 556, 24, 1221, 1221, 36, 590, 2061, 527, 35, 440, 1, 346, 142, 339, 984, 316, 54, 603, 106, 160, 68, 35, 0, 135, 559, 11, 318, 27, 13, 3, 719, 919, 345, 342, 749, 0, 3, 26, 65, 764, 778, 350, 747, 399, 465, 1149, 283, 286, 124, 410, 263, 1150, 132, 200, 363, 7, 34, 578, 1225, 13, 13, 0, 7, 8, 89, 4, 4, 23, 133, 36, 210, 51, 314, 7, 22, 625, 542, 58, 75, 1070, 887, 67, 777, 171, 558, 240, 29, 1675, 1675, 8, 0, 31, 206, 203, 932, 70, 11, 134, 515, 374, 159, 617, 143, 16, 117, 60, 768, 1292, 1292, 52, 278, 27, 22, 154, 512, 432, 1030, 1030, 298, 729, 717, 153, 356, 472, 804, 656, 973, 470, 138, 254, 503, 69, 4, 65, 44, 57, 13, 66, 537, 537, 98, 201, 11, 626, 228, 168, 966, 613, 353, 153, 8, 142, 332, 0, 176, 77, 53, 46, 231, 686, 686, 243, 16, 126, 1043, 11, 6, 105, 432, 94, 435, 943, 6, 197, 1, 89, 90, 996, 216, 6, 0, 710, 53, 37, 16, 445, 445, 445, 122, 319, 424, 424, 424, 3, 20, 25, 17, 42, 198, 177, 191, 112, 65, 177, 638, 339, 174, 1695, 1695, 1695, 1695, 1394, 1394, 1394, 1394, 248, 530, 677, 939, 879, 1095, 1095, 1095, 1095, 399, 171, 152, 19, 250, 29, 4, 25, 1, 767, 350, 784, 350, 306, 44, 107, 45, 89, 646, 208, 62, 622, 47, 592, 24, 430, 98, 26, 2, 48, 153, 982, 252, 511, 356, 665, 738, 738, 738, 2, 573, 1249, 1249, 1249, 1249, 435, 99, 40, 429, 403, 0, 161, 0, 302, 101, 250, 779, 100, 28, 20, 341, 200, 216, 9, 916, 36, 448, 91, 990, 990, 404, 166, 257, 921, 1113, 126, 451, 999, 0, 445, 8, 608, 452, 126, 421, 208, 81, 7, 22, 34, 56, 81, 30, 111, 78, 374, 0, 1325, 1325, 1325, 689, 689, 689, 689, 307, 1455, 110, 143, 104, 2, 37, 494, 394, 455, 58, 506, 506, 1008, 923, 603, 603, 603, 3, 12, 15, 153, 22, 957, 0, 705, 705, 705, 705, 22, 386, 305, 1100, 265, 69, 5, 10, 506, 149, 1359, 1359, 14, 136, 136, 136, 467, 467, 467, 15, 51, 20, 596, 465, 131, 1177, 1177, 1177, 1177, 1177, 33, 204, 231, 196, 933, 194, 670, 10, 588, 34, 205, 610, 419, 1368, 1368, 1368, 1368, 1368, 1368, 1368, 1368, 23, 292, 490, 45, 99, 2, 47, 512, 1160, 1160, 1076, 1076, 1076, 97, 453, 484, 22, 34, 106, 239, 13, 399, 1015, 1015, 0, 557, 37, 938, 186, 190, 556, 29, 29, 29, 29, 415, 782, 782, 782, 782, 782, 798, 798, 798, 798, 798, 798, 549, 23, 88, 13, 32, 589, 45, 580, 340, 60, 132, 27, 570, 106, 33, 173, 130, 77, 271, 202, 319, 9, 4, 21, 17, 8, 651, 651, 393, 239, 57, 210, 62, 81, 28, 34, 856, 674, 6, 569, 410, 572, 353, 21, 35, 55, 1410, 1410, 1410, 1410, 236, 279, 537, 111, 2, 32, 297, 331, 42, 1019, 229, 271, 1012, 93, 91, 2, 25, 1373, 1373, 1373, 610, 2, 765, 767, 136, 738, 933, 361, 106, 808, 808, 808, 808, 53, 653, 774, 134, 163, 359, 151, 1300, 1300, 1145, 1145, 1145, 574, 998, 998, 998, 998, 998, 998, 998, 53, 0, 41, 39, 74, 323, 18, 185, 0, 10, 933, 1039, 67, 223, 184, 39, 10, 29, 34, 134, 198, 482, 78, 56, 348, 406, 284, 689, 518, 99, 842, 842, 842, 842, 842, 842, 842, 842, 430, 521, 143, 487, 487, 6, 939, 630, 189, 62, 1619, 1619, 1619, 1619, 1619, 53, 453, 23, 12, 11, 1322, 1322, 1322, 1322, 1322, 1322, 1322, 1322, 233, 336, 336, 336, 336, 657, 40, 899, 1156, 635, 1542, 1542, 1542, 1542, 1542, 1542, 1432, 386, 59, 964, 946, 946, 946, 946, 774, 4, 25, 503, 29, 10, 532, 1008, 1008, 1008, 1008, 1008, 1008, 1008, 1008, 124, 141, 51, 90, 28, 28, 0, 539, 101, 1221, 1221, 1221, 37, 0, 384, 508, 23, 2, 21, 1045, 1045, 1045, 1045, 840, 8, 321, 329, 24, 45, 69, 539, 145, 11, 36, 885, 70, 224, 647, 375, 375, 375, 4, 6, 638, 138, 6, 410, 0, 1044, 537, 537, 43, 4, 196, 323, 209, 42, 10, 116, 11, 72, 15, 7, 46, 96, 5, 41, 876, 111, 4, 1194, 93, 80, 1145, 0, 977, 15, 239, 1184, 372, 264, 108, 199, 11, 162, 263, 93, 24, 530, 1290, 237, 70, 1058, 356, 525, 895, 895, 895, 895, 193, 2, 49, 773, 773, 773, 773, 773, 5, 894, 19, 372, 13, 92, 298, 9, 577, 1871, 1871, 1871, 1871, 1871, 1871, 1871, 1871, 63, 686, 363, 892, 80, 730, 393, 184, 144, 8, 68, 153, 85, 123, 1416, 1416, 2, 48, 22, 40, 179, 140, 605, 0, 10, 168, 465, 1632, 1632, 1632, 1632, 1632, 749, 56, 40, 4, 814, 445, 510, 661, 661, 661, 661, 661, 135, 180, 147, 35, 35, 791, 791, 791, 8, 4, 4, 313, 178, 15, 36, 51, 914, 224, 109, 727, 100, 146, 153, 1350, 1350, 1350, 1350, 1350, 1350, 1350, 1350, 1350, 54, 31, 3, 692, 34, 437, 9, 18, 145, 114, 105, 28, 354, 191, 409, 40, 464, 792, 255, 575, 502, 30, 283, 598, 462, 9, 474, 6, 1297, 1297, 1297, 1297, 1297, 1297, 366, 67, 1093, 574, 15, 243, 123, 502, 349, 111, 3, 17, 1104, 1104, 1104, 1104, 1104, 1104, 1104, 1104, 1104, 1104, 1104, 98, 99, 42, 40, 138, 386, 872, 101, 645, 809, 809, 809, 809, 439, 383, 113, 273, 283, 839, 98, 684, 621, 621, 621, 668, 65, 20, 637, 637, 637, 637, 262, 12, 104, 116, 1045, 63, 1272, 0, 47, 416, 192, 184, 58, 1142, 1142, 503, 45, 154, 19, 12, 206, 881, 946, 843, 471, 33, 179, 126, 23, 85, 334, 258, 643, 403, 121, 74, 1349, 464, 464, 464, 464, 464, 43, 1080, 583, 301, 44, 147, 778, 742, 542, 165, 554, 99, 264, 325, 78, 385, 493, 38, 9, 6, 250, 58, 75, 422, 3, 22, 38, 344, 344, 344, 219, 113, 141, 275, 905, 423, 96, 80, 317, 292, 22, 321, 1063, 188, 73, 836, 536, 647, 352, 494, 1292, 1292, 1292, 1292, 1292, 1292, 1292, 1292, 1292, 260, 1007, 1007, 1007, 1007, 1007, 1007, 369, 902, 902, 902, 247, 878, 70, 1112, 1112, 1112, 1112, 437, 217, 636, 164, 186, 958, 553, 48, 458, 1361, 1361, 1361, 1361, 1361, 1361, 1361, 1361, 1361, 1361, 942, 95, 2175, 2175, 2175, 2175, 2175, 2175, 2175, 2175, 2175, 2175, 2175, 2175, 19, 15, 650, 33, 95, 224, 23, 248, 200, 115, 71, 44, 0, 372, 152, 416, 12, 1854, 1854, 1854, 1854, 1854, 1854, 1854, 1854, 1854, 1854, 458, 67, 442, 545, 416, 1206, 13, 688, 319, 41, 15, 26, 572, 117, 371, 814, 870, 314, 238, 714, 105, 229, 198, 9, 149, 824, 1558, 1558, 1558, 1558, 1558, 1558, 1558, 1558, 1558, 1558, 1558, 191, 161, 164, 314, 27, 608, 163, 2, 6, 233, 44, 25, 397, 110, 841, 8, 1162, 1162, 1162, 1162, 1162, 1162, 1162, 138, 287, 1133, 1133, 1133, 1133, 1133, 1133, 1133, 1133, 118, 908, 207, 106, 464, 304, 1, 623, 682, 495, 60, 41, 22, 18, 14, 84, 1, 76, 8, 0, 150, 234, 559, 93, 50, 2, 251, 219, 175, 466, 652, 49, 29, 914, 46, 443, 32, 95, 2, 877, 157, 224, 987, 987, 987, 489, 338, 34, 21, 1431, 1431, 1431, 1431, 1431, 53, 2, 746, 1, 3, 217, 459, 93, 96, 664, 29, 1013, 424, 22, 194, 53, 767, 145, 593, 664, 22, 173, 1555, 1555, 1555, 1555, 1555, 1555, 1555, 1555, 1555, 433, 650, 120, 1282, 1282, 963, 963, 963, 963, 963, 963, 963, 120, 501, 1269, 1269, 1269, 1269, 1269, 1269, 1497, 1497, 1497, 1497, 1497, 923, 460, 771, 130, 305, 0, 566, 164, 803, 803, 803, 803, 803, 803, 803, 803, 803, 803, 756, 28, 0, 24, 342, 121, 691, 691, 691, 691, 691, 724, 45, 24, 182, 6, 119, 94, 1242, 1242, 1242, 1242, 650, 650, 650, 650, 650, 650, 650, 650, 650, 650, 182, 7, 5, 849, 180, 220, 80, 338, 42, 22, 132, 123, 9, 607, 65, 9, 198, 5, 931, 956, 254, 58, 58, 270, 232, 298, 38, 514, 26, 883, 400, 549, 602, 70, 54, 699, 1086, 1086, 1086, 1086, 1086, 1086, 331, 1076, 569, 5, 185, 214, 308, 55, 190, 938, 779, 767, 767, 767, 767, 767, 767, 84, 186, 325, 17, 396, 851, 89, 102, 491, 57, 810, 20, 18, 55, 52, 73, 244, 296, 106, 107, 16, 167, 93, 338, 285, 94, 324, 116, 8, 803, 498, 83, 1591, 1591, 1369, 1369, 1369, 1369, 342, 56, 77, 86, 0, 0, 249, 1296, 461, 124, 119, 1145, 1145, 1145, 1145, 666, 193, 93, 260, 338, 907, 1411, 182, 1131, 1131, 1131, 1131, 1131, 389, 251, 154, 101, 0, 101, 293, 112, 181, 483, 971, 1490, 1490, 1490, 1490, 1490, 1490, 1490, 152, 304, 140, 19, 229, 1304, 1304, 1304, 1304, 248, 528, 45, 191, 13, 1619, 690], \"sizemode\": \"area\", \"sizeref\": 5.4375, \"symbol\": \"circle\"}, \"mode\": \"markers\", \"name\": \"\", \"showlegend\": false, \"type\": \"scattergl\", \"x\": [12, 36, 533, 4, 15, 219, 2, 19, 15, 288, 37, 690, 251, 104, 316, 45, 370, 10, 2, 12, 627, 185, 1331, 1145, 206, 150, 377, 215, 34, 192, 70, 86, 156, 142, 115, 27, 30, 107, 484, 17, 2, 287, 504, 330, 10, 120, 6, 7, 4, 11, 541, 155, 55, 517, 579, 71, 1778, 990, 1759, 684, 1349, 455, 58, 371, 389, 128, 492, 0, 128, 218, 107, 393, 843, 667, 136, 12, 53, 330, 40, 332, 3, 0, 466, 716, 590, 983, 487, 319, 197, 122, 3, 419, 8, 50, 318, 610, 218, 237, 465, 426, 279, 0, 758, 9, 346, 720, 62, 910, 1308, 0, 339, 229, 12, 991, 9, 613, 27, 485, 337, 246, 241, 316, 322, 583, 186, 35, 93, 280, 135, 17, 372, 1399, 16, 513, 10, 47, 94, 974, 1829, 5, 851, 10, 722, 308, 189, 414, 155, 873, 39, 2, 23, 2, 459, 653, 90, 206, 296, 779, 81, 19, 729, 0, 223, 6, 0, 6, 1337, 8, 35, 225, 1243, 43, 374, 0, 195, 48, 57, 544, 1188, 990, 512, 469, 102, 284, 271, 86, 2, 663, 240, 12, 525, 418, 474, 66, 430, 158, 16, 136, 27, 43, 9, 0, 75, 531, 20, 100, 456, 1352, 654, 3, 25, 16, 360, 1158, 4, 10, 273, 34, 59, 567, 14, 445, 312, 40, 26, 87, 8, 2, 2, 15, 17, 0, 589, 699, 1141, 1445, 1445, 1445, 524, 325, 151, 861, 555, 89, 338, 123, 254, 838, 57, 2, 1, 0, 656, 783, 554, 555, 625, 8, 949, 9, 152, 1017, 533, 30, 556, 39, 69, 135, 4, 1079, 246, 111, 82, 34, 2, 36, 55, 128, 229, 5, 356, 61, 196, 52, 523, 0, 71, 38, 9, 353, 218, 34, 91, 161, 858, 299, 63, 1196, 98, 504, 14, 8, 1726, 196, 1173, 6, 437, 50, 12, 410, 150, 2, 501, 100, 213, 449, 165, 539, 191, 611, 38, 374, 9, 370, 329, 203, 34, 9, 874, 43, 532, 317, 636, 0, 161, 127, 1, 59, 11, 403, 209, 412, 675, 483, 556, 24, 1221, 1221, 36, 590, 2061, 527, 35, 440, 1, 346, 142, 339, 984, 316, 54, 603, 106, 160, 68, 35, 0, 135, 559, 11, 318, 27, 13, 3, 719, 919, 345, 342, 749, 0, 3, 26, 65, 764, 778, 350, 747, 399, 465, 1149, 283, 286, 124, 410, 263, 1150, 132, 200, 363, 7, 34, 578, 1225, 13, 13, 0, 7, 8, 89, 4, 4, 23, 133, 36, 210, 51, 314, 7, 22, 625, 542, 58, 75, 1070, 887, 67, 777, 171, 558, 240, 29, 1675, 1675, 8, 0, 31, 206, 203, 932, 70, 11, 134, 515, 374, 159, 617, 143, 16, 117, 60, 768, 1292, 1292, 52, 278, 27, 22, 154, 512, 432, 1030, 1030, 298, 729, 717, 153, 356, 472, 804, 656, 973, 470, 138, 254, 503, 69, 4, 65, 44, 57, 13, 66, 537, 537, 98, 201, 11, 626, 228, 168, 966, 613, 353, 153, 8, 142, 332, 0, 176, 77, 53, 46, 231, 686, 686, 243, 16, 126, 1043, 11, 6, 105, 432, 94, 435, 943, 6, 197, 1, 89, 90, 996, 216, 6, 0, 710, 53, 37, 16, 445, 445, 445, 122, 319, 424, 424, 424, 3, 20, 25, 17, 42, 198, 177, 191, 112, 65, 177, 638, 339, 174, 1695, 1695, 1695, 1695, 1394, 1394, 1394, 1394, 248, 530, 677, 939, 879, 1095, 1095, 1095, 1095, 399, 171, 152, 19, 250, 29, 4, 25, 1, 767, 350, 784, 350, 306, 44, 107, 45, 89, 646, 208, 62, 622, 47, 592, 24, 430, 98, 26, 2, 48, 153, 982, 252, 511, 356, 665, 738, 738, 738, 2, 573, 1249, 1249, 1249, 1249, 435, 99, 40, 429, 403, 0, 161, 0, 302, 101, 250, 779, 100, 28, 20, 341, 200, 216, 9, 916, 36, 448, 91, 990, 990, 404, 166, 257, 921, 1113, 126, 451, 999, 0, 445, 8, 608, 452, 126, 421, 208, 81, 7, 22, 34, 56, 81, 30, 111, 78, 374, 0, 1325, 1325, 1325, 689, 689, 689, 689, 307, 1455, 110, 143, 104, 2, 37, 494, 394, 455, 58, 506, 506, 1008, 923, 603, 603, 603, 3, 12, 15, 153, 22, 957, 0, 705, 705, 705, 705, 22, 386, 305, 1100, 265, 69, 5, 10, 506, 149, 1359, 1359, 14, 136, 136, 136, 467, 467, 467, 15, 51, 20, 596, 465, 131, 1177, 1177, 1177, 1177, 1177, 33, 204, 231, 196, 933, 194, 670, 10, 588, 34, 205, 610, 419, 1368, 1368, 1368, 1368, 1368, 1368, 1368, 1368, 23, 292, 490, 45, 99, 2, 47, 512, 1160, 1160, 1076, 1076, 1076, 97, 453, 484, 22, 34, 106, 239, 13, 399, 1015, 1015, 0, 557, 37, 938, 186, 190, 556, 29, 29, 29, 29, 415, 782, 782, 782, 782, 782, 798, 798, 798, 798, 798, 798, 549, 23, 88, 13, 32, 589, 45, 580, 340, 60, 132, 27, 570, 106, 33, 173, 130, 77, 271, 202, 319, 9, 4, 21, 17, 8, 651, 651, 393, 239, 57, 210, 62, 81, 28, 34, 856, 674, 6, 569, 410, 572, 353, 21, 35, 55, 1410, 1410, 1410, 1410, 236, 279, 537, 111, 2, 32, 297, 331, 42, 1019, 229, 271, 1012, 93, 91, 2, 25, 1373, 1373, 1373, 610, 2, 765, 767, 136, 738, 933, 361, 106, 808, 808, 808, 808, 53, 653, 774, 134, 163, 359, 151, 1300, 1300, 1145, 1145, 1145, 574, 998, 998, 998, 998, 998, 998, 998, 53, 0, 41, 39, 74, 323, 18, 185, 0, 10, 933, 1039, 67, 223, 184, 39, 10, 29, 34, 134, 198, 482, 78, 56, 348, 406, 284, 689, 518, 99, 842, 842, 842, 842, 842, 842, 842, 842, 430, 521, 143, 487, 487, 6, 939, 630, 189, 62, 1619, 1619, 1619, 1619, 1619, 53, 453, 23, 12, 11, 1322, 1322, 1322, 1322, 1322, 1322, 1322, 1322, 233, 336, 336, 336, 336, 657, 40, 899, 1156, 635, 1542, 1542, 1542, 1542, 1542, 1542, 1432, 386, 59, 964, 946, 946, 946, 946, 774, 4, 25, 503, 29, 10, 532, 1008, 1008, 1008, 1008, 1008, 1008, 1008, 1008, 124, 141, 51, 90, 28, 28, 0, 539, 101, 1221, 1221, 1221, 37, 0, 384, 508, 23, 2, 21, 1045, 1045, 1045, 1045, 840, 8, 321, 329, 24, 45, 69, 539, 145, 11, 36, 885, 70, 224, 647, 375, 375, 375, 4, 6, 638, 138, 6, 410, 0, 1044, 537, 537, 43, 4, 196, 323, 209, 42, 10, 116, 11, 72, 15, 7, 46, 96, 5, 41, 876, 111, 4, 1194, 93, 80, 1145, 0, 977, 15, 239, 1184, 372, 264, 108, 199, 11, 162, 263, 93, 24, 530, 1290, 237, 70, 1058, 356, 525, 895, 895, 895, 895, 193, 2, 49, 773, 773, 773, 773, 773, 5, 894, 19, 372, 13, 92, 298, 9, 577, 1871, 1871, 1871, 1871, 1871, 1871, 1871, 1871, 63, 686, 363, 892, 80, 730, 393, 184, 144, 8, 68, 153, 85, 123, 1416, 1416, 2, 48, 22, 40, 179, 140, 605, 0, 10, 168, 465, 1632, 1632, 1632, 1632, 1632, 749, 56, 40, 4, 814, 445, 510, 661, 661, 661, 661, 661, 135, 180, 147, 35, 35, 791, 791, 791, 8, 4, 4, 313, 178, 15, 36, 51, 914, 224, 109, 727, 100, 146, 153, 1350, 1350, 1350, 1350, 1350, 1350, 1350, 1350, 1350, 54, 31, 3, 692, 34, 437, 9, 18, 145, 114, 105, 28, 354, 191, 409, 40, 464, 792, 255, 575, 502, 30, 283, 598, 462, 9, 474, 6, 1297, 1297, 1297, 1297, 1297, 1297, 366, 67, 1093, 574, 15, 243, 123, 502, 349, 111, 3, 17, 1104, 1104, 1104, 1104, 1104, 1104, 1104, 1104, 1104, 1104, 1104, 98, 99, 42, 40, 138, 386, 872, 101, 645, 809, 809, 809, 809, 439, 383, 113, 273, 283, 839, 98, 684, 621, 621, 621, 668, 65, 20, 637, 637, 637, 637, 262, 12, 104, 116, 1045, 63, 1272, 0, 47, 416, 192, 184, 58, 1142, 1142, 503, 45, 154, 19, 12, 206, 881, 946, 843, 471, 33, 179, 126, 23, 85, 334, 258, 643, 403, 121, 74, 1349, 464, 464, 464, 464, 464, 43, 1080, 583, 301, 44, 147, 778, 742, 542, 165, 554, 99, 264, 325, 78, 385, 493, 38, 9, 6, 250, 58, 75, 422, 3, 22, 38, 344, 344, 344, 219, 113, 141, 275, 905, 423, 96, 80, 317, 292, 22, 321, 1063, 188, 73, 836, 536, 647, 352, 494, 1292, 1292, 1292, 1292, 1292, 1292, 1292, 1292, 1292, 260, 1007, 1007, 1007, 1007, 1007, 1007, 369, 902, 902, 902, 247, 878, 70, 1112, 1112, 1112, 1112, 437, 217, 636, 164, 186, 958, 553, 48, 458, 1361, 1361, 1361, 1361, 1361, 1361, 1361, 1361, 1361, 1361, 942, 95, 2175, 2175, 2175, 2175, 2175, 2175, 2175, 2175, 2175, 2175, 2175, 2175, 19, 15, 650, 33, 95, 224, 23, 248, 200, 115, 71, 44, 0, 372, 152, 416, 12, 1854, 1854, 1854, 1854, 1854, 1854, 1854, 1854, 1854, 1854, 458, 67, 442, 545, 416, 1206, 13, 688, 319, 41, 15, 26, 572, 117, 371, 814, 870, 314, 238, 714, 105, 229, 198, 9, 149, 824, 1558, 1558, 1558, 1558, 1558, 1558, 1558, 1558, 1558, 1558, 1558, 191, 161, 164, 314, 27, 608, 163, 2, 6, 233, 44, 25, 397, 110, 841, 8, 1162, 1162, 1162, 1162, 1162, 1162, 1162, 138, 287, 1133, 1133, 1133, 1133, 1133, 1133, 1133, 1133, 118, 908, 207, 106, 464, 304, 1, 623, 682, 495, 60, 41, 22, 18, 14, 84, 1, 76, 8, 0, 150, 234, 559, 93, 50, 2, 251, 219, 175, 466, 652, 49, 29, 914, 46, 443, 32, 95, 2, 877, 157, 224, 987, 987, 987, 489, 338, 34, 21, 1431, 1431, 1431, 1431, 1431, 53, 2, 746, 1, 3, 217, 459, 93, 96, 664, 29, 1013, 424, 22, 194, 53, 767, 145, 593, 664, 22, 173, 1555, 1555, 1555, 1555, 1555, 1555, 1555, 1555, 1555, 433, 650, 120, 1282, 1282, 963, 963, 963, 963, 963, 963, 963, 120, 501, 1269, 1269, 1269, 1269, 1269, 1269, 1497, 1497, 1497, 1497, 1497, 923, 460, 771, 130, 305, 0, 566, 164, 803, 803, 803, 803, 803, 803, 803, 803, 803, 803, 756, 28, 0, 24, 342, 121, 691, 691, 691, 691, 691, 724, 45, 24, 182, 6, 119, 94, 1242, 1242, 1242, 1242, 650, 650, 650, 650, 650, 650, 650, 650, 650, 650, 182, 7, 5, 849, 180, 220, 80, 338, 42, 22, 132, 123, 9, 607, 65, 9, 198, 5, 931, 956, 254, 58, 58, 270, 232, 298, 38, 514, 26, 883, 400, 549, 602, 70, 54, 699, 1086, 1086, 1086, 1086, 1086, 1086, 331, 1076, 569, 5, 185, 214, 308, 55, 190, 938, 779, 767, 767, 767, 767, 767, 767, 84, 186, 325, 17, 396, 851, 89, 102, 491, 57, 810, 20, 18, 55, 52, 73, 244, 296, 106, 107, 16, 167, 93, 338, 285, 94, 324, 116, 8, 803, 498, 83, 1591, 1591, 1369, 1369, 1369, 1369, 342, 56, 77, 86, 0, 0, 249, 1296, 461, 124, 119, 1145, 1145, 1145, 1145, 666, 193, 93, 260, 338, 907, 1411, 182, 1131, 1131, 1131, 1131, 1131, 389, 251, 154, 101, 0, 101, 293, 112, 181, 483, 971, 1490, 1490, 1490, 1490, 1490, 1490, 1490, 152, 304, 140, 19, 229, 1304, 1304, 1304, 1304, 248, 528, 45, 191, 13, 1619, 690], \"xaxis\": \"x\", \"y\": [null, null, null, null, null, null, null, null, null, null, null, null, null, null, null, null, null, null, null, null, null, null, null, null, null, null, null, null, null, null, null, null, null, null, null, null, null, null, null, null, null, null, null, null, null, null, null, null, null, null, null, null, null, null, null, null, null, null, null, null, null, null, null, null, null, null, null, null, null, null, null, null, null, null, null, null, null, null, null, null, null, null, null, null, null, null, null, null, null, null, null, null, null, null, null, null, null, null, null, null, null, null, null, null, null, null, null, null, null, null, null, null, null, null, null, null, null, null, null, null, null, null, null, null, null, null, null, null, null, null, null, null, null, null, null, null, null, null, null, null, null, null, null, null, null, null, null, null, null, null, null, null, null, null, null, null, null, null, null, null, null, null, null, null, null, null, null, null, null, null, null, null, null, null, null, null, null, null, null, null, null, null, null, null, null, null, null, null, null, null, null, null, null, null, null, null, null, null, null, null, null, null, null, null, null, null, null, null, null, null, null, null, null, null, null, null, null, null, null, null, null, null, null, null, null, null, null, null, null, null, null, null, null, null, null, \" C\", \" C\", \" C\", null, null, null, null, null, null, null, null, null, null, null, null, null, null, null, null, null, null, null, null, null, null, null, null, null, null, null, null, null, null, null, null, null, null, null, null, null, null, null, null, null, null, null, null, null, null, null, null, null, null, null, null, null, null, null, null, null, null, null, \" PF\", null, null, null, null, \" SG\", null, null, null, null, null, null, null, null, null, null, null, null, null, null, null, null, null, null, null, null, null, null, null, null, null, null, null, null, null, null, null, null, null, null, null, null, null, null, null, null, null, null, null, \" C\", \" C\", null, null, \" C\", null, null, null, null, null, null, null, \" SG\", null, null, null, null, null, null, null, null, null, null, null, null, null, null, null, \" PF\", null, null, null, null, null, null, null, null, null, null, null, null, null, null, null, null, null, null, null, null, null, null, null, null, null, null, null, null, null, null, null, null, null, null, null, null, null, null, null, null, null, \" SG\", null, null, null, null, null, null, null, null, null, null, null, null, null, null, \" SF\", \" SF\", null, null, null, null, null, null, null, null, null, null, null, null, null, null, null, null, null, null, \" SG\", \" SG\", null, null, null, null, null, null, null, \" PF\", \" PF\", null, null, null, null, null, null, null, null, null, null, null, null, null, null, null, null, null, null, null, null, \" C\", \" C\", null, null, \" SF\", null, null, \" G\", null, null, null, null, null, null, null, null, null, null, null, null, null, \" C\", \" C\", null, null, null, null, null, null, null, null, null, null, null, null, null, null, null, null, null, null, null, null, null, null, null, null, \" SF\", \" SF\", \" SF\", null, null, \" SG\", \" SG\", \" SG\", null, null, null, null, null, null, null, null, null, null, null, null, null, null, \" PG\", \" PG\", \" PG\", \" PG\", \" PF\", \" PF\", \" PF\", \" PF\", null, null, null, null, null, \" C\", \" C\", \" C\", \" C\", null, null, null, null, null, null, null, null, null, null, null, null, null, null, null, null, null, null, null, null, null, null, null, null, null, null, null, null, null, null, null, null, null, \" PF\", null, null, \" SF\", \" SF\", \" SF\", null, null, \" SG\", \" SG\", \" SG\", \" SG\", null, null, null, null, null, null, null, null, null, null, null, null, null, null, null, null, null, null, null, null, null, null, null, \" SF\", \" SF\", null, null, null, null, null, null, null, null, null, null, null, null, null, null, null, null, null, null, null, null, null, null, null, null, null, \" PG\", null, \" PG\", \" PG\", \" PG\", \" SF\", \" SF\", \" SF\", \" SF\", null, \" PG\", null, null, null, null, null, null, null, null, null, \" C\", \" C\", \" C\", null, \" SF\", \" SF\", \" SF\", null, null, null, null, null, \" C\", null, \" SF\", \" SF\", \" SF\", \" SF\", null, null, null, null, null, null, null, null, null, null, \" SG\", \" SG\", null, \" SF\", \" SF\", \" SF\", \" SF\", \" SF\", \" SF\", null, null, null, null, null, null, \" SF\", \" SF\", \" SF\", \" SF\", \" SF\", null, null, null, null, null, null, null, null, null, null, null, null, null, \" PF\", \" PF\", \" PF\", \" PF\", \" PF\", \" PF\", \" PF\", \" PF\", null, null, null, null, null, null, null, null, \" C\", \" C\", \" PG\", \" PG\", \" PG\", null, null, null, null, null, null, null, null, null, \" C\", \" C\", null, null, null, null, null, null, null, \" C\", \" C\", \" C\", \" C\", null, \" SF\", \" SF\", \" SF\", \" SF\", \" SF\", \" SG\", \" SG\", \" SG\", \" SG\", \" SG\", \" SG\", null, null, null, null, null, null, null, null, null, null, \" PG\", null, \" C\", null, null, null, null, null, null, null, null, null, null, null, null, null, \" C\", \" C\", null, null, null, null, null, null, null, null, null, null, null, null, null, null, null, null, null, null, \" SF\", \" SF\", \" SF\", \" SF\", null, null, null, null, null, null, null, null, null, null, null, null, null, null, null, null, null, \" PG\", \" PG\", \" PG\", null, null, null, null, null, null, null, null, null, \" C\", \" C\", \" C\", \" C\", null, null, null, null, null, null, null, \" SG\", \" SG\", \" SG\", \" SG\", \" SG\", null, \" SG\", \" SG\", \" SG\", \" SG\", \" SG\", \" SG\", \" SG\", null, null, null, null, null, null, null, null, null, null, null, null, null, null, null, null, null, null, null, null, null, null, null, null, null, null, null, null, null, null, \" PF\", \" PF\", \" PF\", \" PF\", \" PF\", \" PF\", \" PF\", \" PF\", null, null, null, \" PF\", \" PF\", null, null, null, null, null, \" PG\", \" PG\", \" PG\", \" PG\", \" PG\", null, null, null, null, null, \" PG\", \" PG\", \" PG\", \" PG\", \" PG\", \" PG\", \" PG\", \" PG\", null, \" C\", \" C\", \" C\", \" C\", null, null, null, null, \" PG\", \" C\", \" C\", \" C\", \" C\", \" C\", \" C\", null, null, null, null, \" C\", \" C\", \" C\", \" C\", null, null, null, null, null, null, null, \" C\", \" C\", \" C\", \" C\", \" C\", \" C\", \" C\", \" C\", null, null, null, null, null, null, null, null, null, \" PF\", \" PF\", \" PF\", null, null, null, null, null, null, null, \" SG\", \" SG\", \" SG\", \" SG\", null, null, null, null, null, null, null, null, null, null, null, null, null, null, null, \" SG\", \" SG\", \" SG\", null, null, null, null, null, null, null, null, \" C\", \" C\", null, null, null, null, null, null, null, null, null, null, null, null, null, null, null, null, null, null, null, null, null, null, null, null, null, null, null, null, null, null, null, null, null, null, null, null, null, null, null, null, null, null, null, null, \" PG\", \" PG\", \" PG\", \" PG\", null, null, null, \" PF\", \" PF\", \" PF\", \" PF\", \" PF\", null, null, null, null, null, null, null, null, null, \" SF\", \" SF\", \" SF\", \" SF\", \" SF\", \" SF\", \" SF\", \" SF\", null, null, null, null, null, null, null, null, null, null, null, null, null, null, \" SG\", \" SG\", null, null, null, null, null, null, null, null, null, null, null, \" SF\", \" SF\", \" SF\", \" SF\", \" SF\", null, null, null, null, \" PG\", null, null, \" PF\", \" PF\", \" PF\", \" PF\", \" PF\", null, null, null, null, null, \" PG\", \" PG\", \" PG\", null, null, null, null, null, null, null, null, null, null, null, null, null, null, null, \" PF\", \" PF\", \" PF\", \" PF\", \" PF\", \" PF\", \" PF\", \" PF\", \" PF\", null, null, null, null, null, null, null, null, null, null, null, null, null, null, null, null, null, null, null, null, null, null, null, null, null, null, null, null, \" PG\", \" PG\", \" PG\", \" PG\", \" PG\", \" PG\", null, null, null, null, null, null, null, null, null, null, null, null, \" PG\", \" PG\", \" PG\", \" PG\", \" PG\", \" PG\", \" PG\", \" PG\", \" PG\", \" PG\", \" PG\", null, null, null, null, null, null, null, null, null, \" C\", \" C\", \" C\", \" C\", null, null, null, null, null, null, null, null, \" PF\", \" PF\", \" PF\", null, null, null, \" C\", \" C\", \" C\", \" C\", null, null, null, null, null, null, null, null, null, null, null, null, null, \" SF\", \" SF\", null, null, null, null, null, null, null, null, null, null, null, null, null, null, null, null, null, null, null, null, null, \" SG\", \" C\", \" C\", \" C\", \" C\", \" C\", null, null, null, null, null, null, \" SG\", null, null, null, null, null, null, null, null, null, \" F\", null, null, null, null, null, null, null, null, null, null, \" C\", \" C\", \" C\", null, null, null, null, null, null, null, null, null, null, null, null, null, null, null, null, null, null, null, null, \" C\", \" C\", \" C\", \" C\", \" C\", \" C\", \" C\", \" C\", \" C\", null, \" SG\", \" SG\", \" SG\", \" SG\", \" SG\", \" SG\", null, \" PF\", \" PF\", \" PF\", null, null, null, \" F\", \" F\", \" F\", \" F\", null, null, null, null, null, null, null, null, null, \" PF\", \" PF\", \" PF\", \" PF\", \" PF\", \" PF\", \" PF\", \" PF\", \" PF\", \" PF\", null, null, \" SF\", \" SF\", \" SF\", \" SF\", \" SF\", \" SF\", \" SF\", \" SF\", \" SF\", \" SF\", \" SF\", \" SF\", null, null, null, null, null, null, null, null, null, null, null, null, null, null, null, null, null, \" G\", \" G\", \" G\", \" G\", \" G\", \" G\", \" G\", \" G\", \" G\", \" G\", null, null, null, null, null, null, null, null, null, null, null, null, \" C\", null, null, null, null, null, null, null, null, null, null, null, null, null, \" PF\", \" PF\", \" PF\", \" PF\", \" PF\", \" PF\", \" PF\", \" PF\", \" PF\", \" PF\", \" PF\", null, null, null, null, null, null, null, null, null, null, null, null, null, null, null, null, \" PF\", \" PF\", \" PF\", \" PF\", \" PF\", \" PF\", \" PF\", null, null, \" C\", \" C\", \" C\", \" C\", \" C\", \" C\", \" C\", \" C\", null, null, null, null, null, null, null, null, null, null, null, null, null, null, null, null, null, null, null, null, null, null, null, null, null, null, null, null, null, null, \" C\", null, null, null, null, null, null, null, null, null, null, null, \" G\", \" G\", \" G\", null, null, null, null, \" C\", \" C\", \" C\", \" C\", \" C\", null, null, null, null, null, null, null, null, null, null, null, null, null, null, null, null, null, null, null, null, null, null, \" PF\", \" PF\", \" PF\", \" PF\", \" PF\", \" PF\", \" PF\", \" PF\", \" PF\", null, null, null, \" SG\", \" SG\", \" SF\", \" SF\", \" SF\", \" SF\", \" SF\", \" SF\", \" SF\", null, null, \" G\", \" G\", \" G\", \" G\", \" G\", \" G\", \" PG\", \" PG\", \" PG\", \" PG\", \" PG\", null, null, null, null, null, null, null, null, \" G\", \" G\", \" G\", \" G\", \" G\", \" G\", \" G\", \" G\", \" G\", \" G\", null, null, null, null, null, null, \" C\", \" C\", \" C\", \" C\", \" C\", null, null, null, null, null, null, null, \" F\", \" F\", \" F\", \" F\", \" F\", \" F\", \" F\", \" F\", \" F\", \" F\", \" F\", \" F\", \" F\", \" F\", null, null, null, null, null, null, null, null, null, null, null, null, null, null, null, null, null, null, null, null, null, null, null, null, null, null, null, null, null, null, null, null, null, null, null, null, \" PF\", \" PF\", \" PF\", \" PF\", \" PF\", \" PF\", null, null, null, null, null, null, null, null, null, null, null, \" SG\", \" SG\", \" SG\", \" SG\", \" SG\", \" SG\", null, null, null, null, null, null, null, null, null, null, null, null, null, null, null, null, null, null, null, null, null, null, null, null, null, null, null, null, null, null, null, null, \" PG\", \" PG\", \" SG\", \" SG\", \" SG\", \" SG\", null, null, null, null, null, null, null, null, null, null, null, \" SG\", \" SG\", \" SG\", \" SG\", null, null, null, null, null, null, \" SG\", null, \" PG\", \" PG\", \" PG\", \" PG\", \" PG\", null, null, null, null, null, null, null, null, null, null, null, \" PF\", \" PF\", \" PF\", \" PF\", \" PF\", \" PF\", \" PF\", null, null, null, null, null, \" PF\", \" PF\", \" PF\", \" PF\", null, null, null, null, null, null, null], \"yaxis\": \"y\"}],                        {\"coloraxis\": {\"colorbar\": {\"title\": {\"text\": \"PTS\"}}, \"colorscale\": [[0.0, \"#0d0887\"], [0.1111111111111111, \"#46039f\"], [0.2222222222222222, \"#7201a8\"], [0.3333333333333333, \"#9c179e\"], [0.4444444444444444, \"#bd3786\"], [0.5555555555555556, \"#d8576b\"], [0.6666666666666666, \"#ed7953\"], [0.7777777777777778, \"#fb9f3a\"], [0.8888888888888888, \"#fdca26\"], [1.0, \"#f0f921\"]]}, \"legend\": {\"itemsizing\": \"constant\", \"tracegroupgap\": 0}, \"template\": {\"data\": {\"bar\": [{\"error_x\": {\"color\": \"#2a3f5f\"}, \"error_y\": {\"color\": \"#2a3f5f\"}, \"marker\": {\"line\": {\"color\": \"#E5ECF6\", \"width\": 0.5}}, \"type\": \"bar\"}], \"barpolar\": [{\"marker\": {\"line\": {\"color\": \"#E5ECF6\", \"width\": 0.5}}, \"type\": \"barpolar\"}], \"carpet\": [{\"aaxis\": {\"endlinecolor\": \"#2a3f5f\", \"gridcolor\": \"white\", \"linecolor\": \"white\", \"minorgridcolor\": \"white\", \"startlinecolor\": \"#2a3f5f\"}, \"baxis\": {\"endlinecolor\": \"#2a3f5f\", \"gridcolor\": \"white\", \"linecolor\": \"white\", \"minorgridcolor\": \"white\", \"startlinecolor\": \"#2a3f5f\"}, \"type\": \"carpet\"}], \"choropleth\": [{\"colorbar\": {\"outlinewidth\": 0, \"ticks\": \"\"}, \"type\": \"choropleth\"}], \"contour\": [{\"colorbar\": {\"outlinewidth\": 0, \"ticks\": \"\"}, \"colorscale\": [[0.0, \"#0d0887\"], [0.1111111111111111, \"#46039f\"], [0.2222222222222222, \"#7201a8\"], [0.3333333333333333, \"#9c179e\"], [0.4444444444444444, \"#bd3786\"], [0.5555555555555556, \"#d8576b\"], [0.6666666666666666, \"#ed7953\"], [0.7777777777777778, \"#fb9f3a\"], [0.8888888888888888, \"#fdca26\"], [1.0, \"#f0f921\"]], \"type\": \"contour\"}], \"contourcarpet\": [{\"colorbar\": {\"outlinewidth\": 0, \"ticks\": \"\"}, \"type\": \"contourcarpet\"}], \"heatmap\": [{\"colorbar\": {\"outlinewidth\": 0, \"ticks\": \"\"}, \"colorscale\": [[0.0, \"#0d0887\"], [0.1111111111111111, \"#46039f\"], [0.2222222222222222, \"#7201a8\"], [0.3333333333333333, \"#9c179e\"], [0.4444444444444444, \"#bd3786\"], [0.5555555555555556, \"#d8576b\"], [0.6666666666666666, \"#ed7953\"], [0.7777777777777778, \"#fb9f3a\"], [0.8888888888888888, \"#fdca26\"], [1.0, \"#f0f921\"]], \"type\": \"heatmap\"}], \"heatmapgl\": [{\"colorbar\": {\"outlinewidth\": 0, \"ticks\": \"\"}, \"colorscale\": [[0.0, \"#0d0887\"], [0.1111111111111111, \"#46039f\"], [0.2222222222222222, \"#7201a8\"], [0.3333333333333333, \"#9c179e\"], [0.4444444444444444, \"#bd3786\"], [0.5555555555555556, \"#d8576b\"], [0.6666666666666666, \"#ed7953\"], [0.7777777777777778, \"#fb9f3a\"], [0.8888888888888888, \"#fdca26\"], [1.0, \"#f0f921\"]], \"type\": \"heatmapgl\"}], \"histogram\": [{\"marker\": {\"colorbar\": {\"outlinewidth\": 0, \"ticks\": \"\"}}, \"type\": \"histogram\"}], \"histogram2d\": [{\"colorbar\": {\"outlinewidth\": 0, \"ticks\": \"\"}, \"colorscale\": [[0.0, \"#0d0887\"], [0.1111111111111111, \"#46039f\"], [0.2222222222222222, \"#7201a8\"], [0.3333333333333333, \"#9c179e\"], [0.4444444444444444, \"#bd3786\"], [0.5555555555555556, \"#d8576b\"], [0.6666666666666666, \"#ed7953\"], [0.7777777777777778, \"#fb9f3a\"], [0.8888888888888888, \"#fdca26\"], [1.0, \"#f0f921\"]], \"type\": \"histogram2d\"}], \"histogram2dcontour\": [{\"colorbar\": {\"outlinewidth\": 0, \"ticks\": \"\"}, \"colorscale\": [[0.0, \"#0d0887\"], [0.1111111111111111, \"#46039f\"], [0.2222222222222222, \"#7201a8\"], [0.3333333333333333, \"#9c179e\"], [0.4444444444444444, \"#bd3786\"], [0.5555555555555556, \"#d8576b\"], [0.6666666666666666, \"#ed7953\"], [0.7777777777777778, \"#fb9f3a\"], [0.8888888888888888, \"#fdca26\"], [1.0, \"#f0f921\"]], \"type\": \"histogram2dcontour\"}], \"mesh3d\": [{\"colorbar\": {\"outlinewidth\": 0, \"ticks\": \"\"}, \"type\": \"mesh3d\"}], \"parcoords\": [{\"line\": {\"colorbar\": {\"outlinewidth\": 0, \"ticks\": \"\"}}, \"type\": \"parcoords\"}], \"pie\": [{\"automargin\": true, \"type\": \"pie\"}], \"scatter\": [{\"marker\": {\"colorbar\": {\"outlinewidth\": 0, \"ticks\": \"\"}}, \"type\": \"scatter\"}], \"scatter3d\": [{\"line\": {\"colorbar\": {\"outlinewidth\": 0, \"ticks\": \"\"}}, \"marker\": {\"colorbar\": {\"outlinewidth\": 0, \"ticks\": \"\"}}, \"type\": \"scatter3d\"}], \"scattercarpet\": [{\"marker\": {\"colorbar\": {\"outlinewidth\": 0, \"ticks\": \"\"}}, \"type\": \"scattercarpet\"}], \"scattergeo\": [{\"marker\": {\"colorbar\": {\"outlinewidth\": 0, \"ticks\": \"\"}}, \"type\": \"scattergeo\"}], \"scattergl\": [{\"marker\": {\"colorbar\": {\"outlinewidth\": 0, \"ticks\": \"\"}}, \"type\": \"scattergl\"}], \"scattermapbox\": [{\"marker\": {\"colorbar\": {\"outlinewidth\": 0, \"ticks\": \"\"}}, \"type\": \"scattermapbox\"}], \"scatterpolar\": [{\"marker\": {\"colorbar\": {\"outlinewidth\": 0, \"ticks\": \"\"}}, \"type\": \"scatterpolar\"}], \"scatterpolargl\": [{\"marker\": {\"colorbar\": {\"outlinewidth\": 0, \"ticks\": \"\"}}, \"type\": \"scatterpolargl\"}], \"scatterternary\": [{\"marker\": {\"colorbar\": {\"outlinewidth\": 0, \"ticks\": \"\"}}, \"type\": \"scatterternary\"}], \"surface\": [{\"colorbar\": {\"outlinewidth\": 0, \"ticks\": \"\"}, \"colorscale\": [[0.0, \"#0d0887\"], [0.1111111111111111, \"#46039f\"], [0.2222222222222222, \"#7201a8\"], [0.3333333333333333, \"#9c179e\"], [0.4444444444444444, \"#bd3786\"], [0.5555555555555556, \"#d8576b\"], [0.6666666666666666, \"#ed7953\"], [0.7777777777777778, \"#fb9f3a\"], [0.8888888888888888, \"#fdca26\"], [1.0, \"#f0f921\"]], \"type\": \"surface\"}], \"table\": [{\"cells\": {\"fill\": {\"color\": \"#EBF0F8\"}, \"line\": {\"color\": \"white\"}}, \"header\": {\"fill\": {\"color\": \"#C8D4E3\"}, \"line\": {\"color\": \"white\"}}, \"type\": \"table\"}]}, \"layout\": {\"annotationdefaults\": {\"arrowcolor\": \"#2a3f5f\", \"arrowhead\": 0, \"arrowwidth\": 1}, \"coloraxis\": {\"colorbar\": {\"outlinewidth\": 0, \"ticks\": \"\"}}, \"colorscale\": {\"diverging\": [[0, \"#8e0152\"], [0.1, \"#c51b7d\"], [0.2, \"#de77ae\"], [0.3, \"#f1b6da\"], [0.4, \"#fde0ef\"], [0.5, \"#f7f7f7\"], [0.6, \"#e6f5d0\"], [0.7, \"#b8e186\"], [0.8, \"#7fbc41\"], [0.9, \"#4d9221\"], [1, \"#276419\"]], \"sequential\": [[0.0, \"#0d0887\"], [0.1111111111111111, \"#46039f\"], [0.2222222222222222, \"#7201a8\"], [0.3333333333333333, \"#9c179e\"], [0.4444444444444444, \"#bd3786\"], [0.5555555555555556, \"#d8576b\"], [0.6666666666666666, \"#ed7953\"], [0.7777777777777778, \"#fb9f3a\"], [0.8888888888888888, \"#fdca26\"], [1.0, \"#f0f921\"]], \"sequentialminus\": [[0.0, \"#0d0887\"], [0.1111111111111111, \"#46039f\"], [0.2222222222222222, \"#7201a8\"], [0.3333333333333333, \"#9c179e\"], [0.4444444444444444, \"#bd3786\"], [0.5555555555555556, \"#d8576b\"], [0.6666666666666666, \"#ed7953\"], [0.7777777777777778, \"#fb9f3a\"], [0.8888888888888888, \"#fdca26\"], [1.0, \"#f0f921\"]]}, \"colorway\": [\"#636efa\", \"#EF553B\", \"#00cc96\", \"#ab63fa\", \"#FFA15A\", \"#19d3f3\", \"#FF6692\", \"#B6E880\", \"#FF97FF\", \"#FECB52\"], \"font\": {\"color\": \"#2a3f5f\"}, \"geo\": {\"bgcolor\": \"white\", \"lakecolor\": \"white\", \"landcolor\": \"#E5ECF6\", \"showlakes\": true, \"showland\": true, \"subunitcolor\": \"white\"}, \"hoverlabel\": {\"align\": \"left\"}, \"hovermode\": \"closest\", \"mapbox\": {\"style\": \"light\"}, \"paper_bgcolor\": \"white\", \"plot_bgcolor\": \"#E5ECF6\", \"polar\": {\"angularaxis\": {\"gridcolor\": \"white\", \"linecolor\": \"white\", \"ticks\": \"\"}, \"bgcolor\": \"#E5ECF6\", \"radialaxis\": {\"gridcolor\": \"white\", \"linecolor\": \"white\", \"ticks\": \"\"}}, \"scene\": {\"xaxis\": {\"backgroundcolor\": \"#E5ECF6\", \"gridcolor\": \"white\", \"gridwidth\": 2, \"linecolor\": \"white\", \"showbackground\": true, \"ticks\": \"\", \"zerolinecolor\": \"white\"}, \"yaxis\": {\"backgroundcolor\": \"#E5ECF6\", \"gridcolor\": \"white\", \"gridwidth\": 2, \"linecolor\": \"white\", \"showbackground\": true, \"ticks\": \"\", \"zerolinecolor\": \"white\"}, \"zaxis\": {\"backgroundcolor\": \"#E5ECF6\", \"gridcolor\": \"white\", \"gridwidth\": 2, \"linecolor\": \"white\", \"showbackground\": true, \"ticks\": \"\", \"zerolinecolor\": \"white\"}}, \"shapedefaults\": {\"line\": {\"color\": \"#2a3f5f\"}}, \"ternary\": {\"aaxis\": {\"gridcolor\": \"white\", \"linecolor\": \"white\", \"ticks\": \"\"}, \"baxis\": {\"gridcolor\": \"white\", \"linecolor\": \"white\", \"ticks\": \"\"}, \"bgcolor\": \"#E5ECF6\", \"caxis\": {\"gridcolor\": \"white\", \"linecolor\": \"white\", \"ticks\": \"\"}}, \"title\": {\"x\": 0.05}, \"xaxis\": {\"automargin\": true, \"gridcolor\": \"white\", \"linecolor\": \"white\", \"ticks\": \"\", \"title\": {\"standoff\": 15}, \"zerolinecolor\": \"white\", \"zerolinewidth\": 2}, \"yaxis\": {\"automargin\": true, \"gridcolor\": \"white\", \"linecolor\": \"white\", \"ticks\": \"\", \"title\": {\"standoff\": 15}, \"zerolinecolor\": \"white\", \"zerolinewidth\": 2}}}, \"title\": {\"text\": \"Second Year Total Points per Position\"}, \"xaxis\": {\"anchor\": \"y\", \"domain\": [0.0, 1.0], \"title\": {\"text\": \"PTS\"}, \"type\": \"log\"}, \"yaxis\": {\"anchor\": \"x\", \"domain\": [0.0, 1.0], \"title\": {\"text\": \"POSITION\"}}},                        {\"responsive\": true}                    ).then(function(){\n",
       "                            \n",
       "var gd = document.getElementById('b81e6540-8165-4ed6-980e-1a7167419176');\n",
       "var x = new MutationObserver(function (mutations, observer) {{\n",
       "        var display = window.getComputedStyle(gd).display;\n",
       "        if (!display || display === 'none') {{\n",
       "            console.log([gd, 'removed!']);\n",
       "            Plotly.purge(gd);\n",
       "            observer.disconnect();\n",
       "        }}\n",
       "}});\n",
       "\n",
       "// Listen for the removal of the full notebook cells\n",
       "var notebookContainer = gd.closest('#notebook-container');\n",
       "if (notebookContainer) {{\n",
       "    x.observe(notebookContainer, {childList: true});\n",
       "}}\n",
       "\n",
       "// Listen for the clearing of the current output cell\n",
       "var outputEl = gd.closest('.output');\n",
       "if (outputEl) {{\n",
       "    x.observe(outputEl, {childList: true});\n",
       "}}\n",
       "\n",
       "                        })                };                });            </script>        </div>"
      ]
     },
     "metadata": {},
     "output_type": "display_data"
    }
   ],
   "source": [
    "import plotly.express as px\n",
    "\n",
    "fig = px.scatter(second_year, x=\"PTS\", y=\"POSITION\", log_x=True, hover_name=\"PLAYER_NAME\", hover_data=[\"PTS\"], color=\"PTS\",\n",
    "                 size='PTS', title=\"Second Year Total Points per Position\")\n",
    "fig.show()"
   ]
  },
  {
   "cell_type": "code",
   "execution_count": 35,
   "metadata": {
    "ExecuteTime": {
     "end_time": "2020-09-19T00:54:05.331809Z",
     "start_time": "2020-09-19T00:54:05.299882Z"
    }
   },
   "outputs": [
    {
     "data": {
      "text/html": [
       "<div>\n",
       "<style scoped>\n",
       "    .dataframe tbody tr th:only-of-type {\n",
       "        vertical-align: middle;\n",
       "    }\n",
       "\n",
       "    .dataframe tbody tr th {\n",
       "        vertical-align: top;\n",
       "    }\n",
       "\n",
       "    .dataframe thead th {\n",
       "        text-align: right;\n",
       "    }\n",
       "</style>\n",
       "<table border=\"1\" class=\"dataframe\">\n",
       "  <thead>\n",
       "    <tr style=\"text-align: right;\">\n",
       "      <th></th>\n",
       "      <th>PLAYER_ID</th>\n",
       "      <th>SEASON_ID</th>\n",
       "      <th>LEAGUE_ID</th>\n",
       "      <th>TEAM_ID</th>\n",
       "      <th>TEAM_ABBREVIATION</th>\n",
       "      <th>PLAYER_AGE</th>\n",
       "      <th>GP</th>\n",
       "      <th>GS</th>\n",
       "      <th>MIN</th>\n",
       "      <th>FGM</th>\n",
       "      <th>...</th>\n",
       "      <th>REB</th>\n",
       "      <th>AST</th>\n",
       "      <th>STL</th>\n",
       "      <th>BLK</th>\n",
       "      <th>TOV</th>\n",
       "      <th>PF</th>\n",
       "      <th>PTS</th>\n",
       "      <th>YIL</th>\n",
       "      <th>PLAYER_NAME</th>\n",
       "      <th>POSITION</th>\n",
       "    </tr>\n",
       "  </thead>\n",
       "  <tbody>\n",
       "    <tr>\n",
       "      <th>2995</th>\n",
       "      <td>201933</td>\n",
       "      <td>2010-11</td>\n",
       "      <td>0</td>\n",
       "      <td>1610612746</td>\n",
       "      <td>LAC</td>\n",
       "      <td>22</td>\n",
       "      <td>82</td>\n",
       "      <td>82.0</td>\n",
       "      <td>3112.0</td>\n",
       "      <td>696</td>\n",
       "      <td>...</td>\n",
       "      <td>989.0</td>\n",
       "      <td>312</td>\n",
       "      <td>63.0</td>\n",
       "      <td>45.0</td>\n",
       "      <td>223.0</td>\n",
       "      <td>252</td>\n",
       "      <td>1845</td>\n",
       "      <td>1</td>\n",
       "      <td>Blake Griffin</td>\n",
       "      <td>PF</td>\n",
       "    </tr>\n",
       "    <tr>\n",
       "      <th>4953</th>\n",
       "      <td>2546</td>\n",
       "      <td>2003-04</td>\n",
       "      <td>0</td>\n",
       "      <td>1610612743</td>\n",
       "      <td>DEN</td>\n",
       "      <td>20</td>\n",
       "      <td>82</td>\n",
       "      <td>82.0</td>\n",
       "      <td>2994.0</td>\n",
       "      <td>624</td>\n",
       "      <td>...</td>\n",
       "      <td>498.0</td>\n",
       "      <td>227</td>\n",
       "      <td>97.0</td>\n",
       "      <td>41.0</td>\n",
       "      <td>247.0</td>\n",
       "      <td>225</td>\n",
       "      <td>1725</td>\n",
       "      <td>1</td>\n",
       "      <td>Carmelo Anthony</td>\n",
       "      <td>PF</td>\n",
       "    </tr>\n",
       "    <tr>\n",
       "      <th>4863</th>\n",
       "      <td>2544</td>\n",
       "      <td>2003-04</td>\n",
       "      <td>0</td>\n",
       "      <td>1610612739</td>\n",
       "      <td>CLE</td>\n",
       "      <td>19</td>\n",
       "      <td>79</td>\n",
       "      <td>79.0</td>\n",
       "      <td>3120.0</td>\n",
       "      <td>622</td>\n",
       "      <td>...</td>\n",
       "      <td>432.0</td>\n",
       "      <td>465</td>\n",
       "      <td>130.0</td>\n",
       "      <td>58.0</td>\n",
       "      <td>273.0</td>\n",
       "      <td>149</td>\n",
       "      <td>1654</td>\n",
       "      <td>1</td>\n",
       "      <td>LeBron James</td>\n",
       "      <td>SF</td>\n",
       "    </tr>\n",
       "    <tr>\n",
       "      <th>3749</th>\n",
       "      <td>201142</td>\n",
       "      <td>2007-08</td>\n",
       "      <td>0</td>\n",
       "      <td>1610612760</td>\n",
       "      <td>SEA</td>\n",
       "      <td>19</td>\n",
       "      <td>80</td>\n",
       "      <td>80.0</td>\n",
       "      <td>2768.0</td>\n",
       "      <td>587</td>\n",
       "      <td>...</td>\n",
       "      <td>348.0</td>\n",
       "      <td>192</td>\n",
       "      <td>78.0</td>\n",
       "      <td>75.0</td>\n",
       "      <td>232.0</td>\n",
       "      <td>122</td>\n",
       "      <td>1624</td>\n",
       "      <td>1</td>\n",
       "      <td>Kevin Durant</td>\n",
       "      <td>SF</td>\n",
       "    </tr>\n",
       "    <tr>\n",
       "      <th>2403</th>\n",
       "      <td>203081</td>\n",
       "      <td>2012-13</td>\n",
       "      <td>0</td>\n",
       "      <td>1610612757</td>\n",
       "      <td>POR</td>\n",
       "      <td>22</td>\n",
       "      <td>82</td>\n",
       "      <td>82.0</td>\n",
       "      <td>3167.0</td>\n",
       "      <td>553</td>\n",
       "      <td>...</td>\n",
       "      <td>257.0</td>\n",
       "      <td>531</td>\n",
       "      <td>74.0</td>\n",
       "      <td>19.0</td>\n",
       "      <td>243.0</td>\n",
       "      <td>172</td>\n",
       "      <td>1562</td>\n",
       "      <td>1</td>\n",
       "      <td>Damian Lillard</td>\n",
       "      <td>PG</td>\n",
       "    </tr>\n",
       "    <tr>\n",
       "      <th>...</th>\n",
       "      <td>...</td>\n",
       "      <td>...</td>\n",
       "      <td>...</td>\n",
       "      <td>...</td>\n",
       "      <td>...</td>\n",
       "      <td>...</td>\n",
       "      <td>...</td>\n",
       "      <td>...</td>\n",
       "      <td>...</td>\n",
       "      <td>...</td>\n",
       "      <td>...</td>\n",
       "      <td>...</td>\n",
       "      <td>...</td>\n",
       "      <td>...</td>\n",
       "      <td>...</td>\n",
       "      <td>...</td>\n",
       "      <td>...</td>\n",
       "      <td>...</td>\n",
       "      <td>...</td>\n",
       "      <td>...</td>\n",
       "      <td>...</td>\n",
       "    </tr>\n",
       "    <tr>\n",
       "      <th>2102</th>\n",
       "      <td>203459</td>\n",
       "      <td>2013-14</td>\n",
       "      <td>0</td>\n",
       "      <td>1610612757</td>\n",
       "      <td>POR</td>\n",
       "      <td>22</td>\n",
       "      <td>15</td>\n",
       "      <td>0.0</td>\n",
       "      <td>100.0</td>\n",
       "      <td>12</td>\n",
       "      <td>...</td>\n",
       "      <td>9.0</td>\n",
       "      <td>6</td>\n",
       "      <td>2.0</td>\n",
       "      <td>1.0</td>\n",
       "      <td>3.0</td>\n",
       "      <td>10</td>\n",
       "      <td>33</td>\n",
       "      <td>1</td>\n",
       "      <td>Allen Crabbe</td>\n",
       "      <td>G</td>\n",
       "    </tr>\n",
       "    <tr>\n",
       "      <th>2034</th>\n",
       "      <td>203318</td>\n",
       "      <td>2013-14</td>\n",
       "      <td>0</td>\n",
       "      <td>1610612764</td>\n",
       "      <td>WAS</td>\n",
       "      <td>23</td>\n",
       "      <td>11</td>\n",
       "      <td>1.0</td>\n",
       "      <td>109.0</td>\n",
       "      <td>11</td>\n",
       "      <td>...</td>\n",
       "      <td>20.0</td>\n",
       "      <td>7</td>\n",
       "      <td>6.0</td>\n",
       "      <td>1.0</td>\n",
       "      <td>9.0</td>\n",
       "      <td>7</td>\n",
       "      <td>32</td>\n",
       "      <td>1</td>\n",
       "      <td>Glen Rice</td>\n",
       "      <td>SF</td>\n",
       "    </tr>\n",
       "    <tr>\n",
       "      <th>5568</th>\n",
       "      <td>2072</td>\n",
       "      <td>2000-01</td>\n",
       "      <td>0</td>\n",
       "      <td>1610612749</td>\n",
       "      <td>MIL</td>\n",
       "      <td>21</td>\n",
       "      <td>6</td>\n",
       "      <td>0.0</td>\n",
       "      <td>35.0</td>\n",
       "      <td>5</td>\n",
       "      <td>...</td>\n",
       "      <td>4.0</td>\n",
       "      <td>1</td>\n",
       "      <td>1.0</td>\n",
       "      <td>0.0</td>\n",
       "      <td>1.0</td>\n",
       "      <td>2</td>\n",
       "      <td>13</td>\n",
       "      <td>1</td>\n",
       "      <td>Michael Redd</td>\n",
       "      <td>SG</td>\n",
       "    </tr>\n",
       "    <tr>\n",
       "      <th>2902</th>\n",
       "      <td>201607</td>\n",
       "      <td>2010-11</td>\n",
       "      <td>0</td>\n",
       "      <td>1610612740</td>\n",
       "      <td>NOH</td>\n",
       "      <td>27</td>\n",
       "      <td>7</td>\n",
       "      <td>0.0</td>\n",
       "      <td>19.0</td>\n",
       "      <td>0</td>\n",
       "      <td>...</td>\n",
       "      <td>2.0</td>\n",
       "      <td>2</td>\n",
       "      <td>0.0</td>\n",
       "      <td>1.0</td>\n",
       "      <td>1.0</td>\n",
       "      <td>1</td>\n",
       "      <td>3</td>\n",
       "      <td>1</td>\n",
       "      <td>Patrick Ewing</td>\n",
       "      <td>C</td>\n",
       "    </tr>\n",
       "    <tr>\n",
       "      <th>2849</th>\n",
       "      <td>202355</td>\n",
       "      <td>2010-11</td>\n",
       "      <td>0</td>\n",
       "      <td>1610612758</td>\n",
       "      <td>SAC</td>\n",
       "      <td>22</td>\n",
       "      <td>1</td>\n",
       "      <td>0.0</td>\n",
       "      <td>2.0</td>\n",
       "      <td>0</td>\n",
       "      <td>...</td>\n",
       "      <td>0.0</td>\n",
       "      <td>0</td>\n",
       "      <td>0.0</td>\n",
       "      <td>0.0</td>\n",
       "      <td>0.0</td>\n",
       "      <td>2</td>\n",
       "      <td>0</td>\n",
       "      <td>1</td>\n",
       "      <td>Hassan Whiteside</td>\n",
       "      <td>C</td>\n",
       "    </tr>\n",
       "  </tbody>\n",
       "</table>\n",
       "<p>114 rows × 30 columns</p>\n",
       "</div>"
      ],
      "text/plain": [
       "      PLAYER_ID SEASON_ID  LEAGUE_ID     TEAM_ID TEAM_ABBREVIATION  \\\n",
       "2995     201933   2010-11          0  1610612746               LAC   \n",
       "4953       2546   2003-04          0  1610612743               DEN   \n",
       "4863       2544   2003-04          0  1610612739               CLE   \n",
       "3749     201142   2007-08          0  1610612760               SEA   \n",
       "2403     203081   2012-13          0  1610612757               POR   \n",
       "...         ...       ...        ...         ...               ...   \n",
       "2102     203459   2013-14          0  1610612757               POR   \n",
       "2034     203318   2013-14          0  1610612764               WAS   \n",
       "5568       2072   2000-01          0  1610612749               MIL   \n",
       "2902     201607   2010-11          0  1610612740               NOH   \n",
       "2849     202355   2010-11          0  1610612758               SAC   \n",
       "\n",
       "      PLAYER_AGE  GP    GS     MIN  FGM  ...    REB  AST    STL   BLK    TOV  \\\n",
       "2995          22  82  82.0  3112.0  696  ...  989.0  312   63.0  45.0  223.0   \n",
       "4953          20  82  82.0  2994.0  624  ...  498.0  227   97.0  41.0  247.0   \n",
       "4863          19  79  79.0  3120.0  622  ...  432.0  465  130.0  58.0  273.0   \n",
       "3749          19  80  80.0  2768.0  587  ...  348.0  192   78.0  75.0  232.0   \n",
       "2403          22  82  82.0  3167.0  553  ...  257.0  531   74.0  19.0  243.0   \n",
       "...          ...  ..   ...     ...  ...  ...    ...  ...    ...   ...    ...   \n",
       "2102          22  15   0.0   100.0   12  ...    9.0    6    2.0   1.0    3.0   \n",
       "2034          23  11   1.0   109.0   11  ...   20.0    7    6.0   1.0    9.0   \n",
       "5568          21   6   0.0    35.0    5  ...    4.0    1    1.0   0.0    1.0   \n",
       "2902          27   7   0.0    19.0    0  ...    2.0    2    0.0   1.0    1.0   \n",
       "2849          22   1   0.0     2.0    0  ...    0.0    0    0.0   0.0    0.0   \n",
       "\n",
       "       PF   PTS  YIL       PLAYER_NAME  POSITION  \n",
       "2995  252  1845    1     Blake Griffin        PF  \n",
       "4953  225  1725    1   Carmelo Anthony        PF  \n",
       "4863  149  1654    1      LeBron James        SF  \n",
       "3749  122  1624    1      Kevin Durant        SF  \n",
       "2403  172  1562    1    Damian Lillard        PG  \n",
       "...   ...   ...  ...               ...       ...  \n",
       "2102   10    33    1      Allen Crabbe         G  \n",
       "2034    7    32    1         Glen Rice        SF  \n",
       "5568    2    13    1      Michael Redd        SG  \n",
       "2902    1     3    1     Patrick Ewing         C  \n",
       "2849    2     0    1  Hassan Whiteside         C  \n",
       "\n",
       "[114 rows x 30 columns]"
      ]
     },
     "execution_count": 35,
     "metadata": {},
     "output_type": "execute_result"
    }
   ],
   "source": [
    "## Remove NaN . Will sway values greatly\n",
    "first_year = first_year.dropna().sort_values(by=['PTS'], ascending=False).drop_duplicates( keep='first')\n",
    "first_year"
   ]
  },
  {
   "cell_type": "code",
   "execution_count": 50,
   "metadata": {
    "ExecuteTime": {
     "end_time": "2020-09-19T01:06:32.623956Z",
     "start_time": "2020-09-19T01:06:32.608045Z"
    }
   },
   "outputs": [],
   "source": [
    "test = list(first_year.columns.values)"
   ]
  },
  {
   "cell_type": "code",
   "execution_count": 56,
   "metadata": {
    "ExecuteTime": {
     "end_time": "2020-09-19T01:16:42.323448Z",
     "start_time": "2020-09-19T01:16:42.286523Z"
    }
   },
   "outputs": [
    {
     "data": {
      "application/vnd.plotly.v1+json": {
       "config": {
        "plotlyServerURL": "https://plot.ly"
       },
       "data": [
        {
         "hovertemplate": "PTS=%{marker.color}<br>POSITION=%{theta}<extra></extra>",
         "legendgroup": "",
         "marker": {
          "color": [
           1845,
           1725,
           1654,
           1624,
           1562,
           1503,
           1441,
           1399,
           1387,
           1361,
           1258,
           1256,
           1252,
           1235,
           1151,
           1143,
           1131,
           1106,
           1106,
           1105,
           1104,
           1068,
           1054,
           1048,
           1028,
           991,
           981,
           975,
           955,
           944,
           899,
           880,
           867,
           864,
           861,
           846,
           826,
           821,
           814,
           810,
           799,
           796,
           780,
           769,
           768,
           753,
           751,
           748,
           742,
           741,
           715,
           711,
           705,
           662,
           627,
           599,
           587,
           587,
           581,
           565,
           559,
           543,
           533,
           525,
           525,
           511,
           507,
           501,
           499,
           498,
           494,
           494,
           488,
           487,
           476,
           476,
           475,
           463,
           461,
           436,
           426,
           388,
           359,
           353,
           345,
           304,
           304,
           283,
           277,
           265,
           246,
           243,
           228,
           227,
           208,
           201,
           190,
           180,
           170,
           165,
           140,
           131,
           114,
           109,
           104,
           78,
           74,
           56,
           51,
           33,
           32,
           13,
           3,
           0
          ],
          "coloraxis": "coloraxis",
          "symbol": "circle"
         },
         "mode": "markers",
         "name": "",
         "r": [
          1845,
          1725,
          1654,
          1624,
          1562,
          1503,
          1441,
          1399,
          1387,
          1361,
          1258,
          1256,
          1252,
          1235,
          1151,
          1143,
          1131,
          1106,
          1106,
          1105,
          1104,
          1068,
          1054,
          1048,
          1028,
          991,
          981,
          975,
          955,
          944,
          899,
          880,
          867,
          864,
          861,
          846,
          826,
          821,
          814,
          810,
          799,
          796,
          780,
          769,
          768,
          753,
          751,
          748,
          742,
          741,
          715,
          711,
          705,
          662,
          627,
          599,
          587,
          587,
          581,
          565,
          559,
          543,
          533,
          525,
          525,
          511,
          507,
          501,
          499,
          498,
          494,
          494,
          488,
          487,
          476,
          476,
          475,
          463,
          461,
          436,
          426,
          388,
          359,
          353,
          345,
          304,
          304,
          283,
          277,
          265,
          246,
          243,
          228,
          227,
          208,
          201,
          190,
          180,
          170,
          165,
          140,
          131,
          114,
          109,
          104,
          78,
          74,
          56,
          51,
          33,
          32,
          13,
          3,
          0
         ],
         "showlegend": false,
         "subplot": "polar",
         "theta": [
          " PF",
          " PF",
          " SF",
          " SF",
          " PG",
          " C",
          " PF",
          " PG",
          " SF",
          " PG",
          " PG",
          " PG",
          " SG",
          " SG",
          " SG",
          " C",
          " PG",
          " SG",
          " C",
          " C",
          " C",
          " C",
          " SG",
          " SG",
          " PF",
          " G",
          " C",
          " C",
          " SG",
          " PG",
          " PF",
          " SF",
          " PF",
          " PG",
          " PF",
          " SF",
          " SG",
          " PF",
          " PF",
          " PF",
          " PG",
          " C",
          " SG",
          " SG",
          " C",
          " SG",
          " C",
          " SF",
          " F",
          " SG",
          " PF",
          " F",
          " G",
          " SF",
          " C",
          " SF",
          " SG",
          " SF",
          " G",
          " PF",
          " PF",
          " PG",
          " C",
          " G",
          " PF",
          " PG",
          " SF",
          " PG",
          " C",
          " PG",
          " C",
          " C",
          " C",
          " PF",
          " C",
          " SG",
          " C",
          " F",
          " C",
          " C",
          " SG",
          " SF",
          " C",
          " C",
          " PF",
          " G",
          " C",
          " C",
          " G",
          " C",
          " PG",
          " PF",
          " C",
          " PF",
          " SF",
          " SG",
          " SG",
          " C",
          " PF",
          " SF",
          " PG",
          " SG",
          " F",
          " SF",
          " C",
          " SF",
          " C",
          " PG",
          " C",
          " G",
          " SF",
          " SG",
          " C",
          " C"
         ],
         "type": "scatterpolar"
        }
       ],
       "layout": {
        "coloraxis": {
         "colorbar": {
          "title": {
           "text": "PTS"
          }
         },
         "colorscale": [
          [
           0,
           "#0d0887"
          ],
          [
           0.1111111111111111,
           "#46039f"
          ],
          [
           0.2222222222222222,
           "#7201a8"
          ],
          [
           0.3333333333333333,
           "#9c179e"
          ],
          [
           0.4444444444444444,
           "#bd3786"
          ],
          [
           0.5555555555555556,
           "#d8576b"
          ],
          [
           0.6666666666666666,
           "#ed7953"
          ],
          [
           0.7777777777777778,
           "#fb9f3a"
          ],
          [
           0.8888888888888888,
           "#fdca26"
          ],
          [
           1,
           "#f0f921"
          ]
         ]
        },
        "legend": {
         "tracegroupgap": 0
        },
        "polar": {
         "angularaxis": {
          "direction": "clockwise",
          "rotation": 90
         },
         "domain": {
          "x": [
           0,
           1
          ],
          "y": [
           0,
           1
          ]
         }
        },
        "template": {
         "data": {
          "bar": [
           {
            "error_x": {
             "color": "#f2f5fa"
            },
            "error_y": {
             "color": "#f2f5fa"
            },
            "marker": {
             "line": {
              "color": "rgb(17,17,17)",
              "width": 0.5
             }
            },
            "type": "bar"
           }
          ],
          "barpolar": [
           {
            "marker": {
             "line": {
              "color": "rgb(17,17,17)",
              "width": 0.5
             }
            },
            "type": "barpolar"
           }
          ],
          "carpet": [
           {
            "aaxis": {
             "endlinecolor": "#A2B1C6",
             "gridcolor": "#506784",
             "linecolor": "#506784",
             "minorgridcolor": "#506784",
             "startlinecolor": "#A2B1C6"
            },
            "baxis": {
             "endlinecolor": "#A2B1C6",
             "gridcolor": "#506784",
             "linecolor": "#506784",
             "minorgridcolor": "#506784",
             "startlinecolor": "#A2B1C6"
            },
            "type": "carpet"
           }
          ],
          "choropleth": [
           {
            "colorbar": {
             "outlinewidth": 0,
             "ticks": ""
            },
            "type": "choropleth"
           }
          ],
          "contour": [
           {
            "colorbar": {
             "outlinewidth": 0,
             "ticks": ""
            },
            "colorscale": [
             [
              0,
              "#0d0887"
             ],
             [
              0.1111111111111111,
              "#46039f"
             ],
             [
              0.2222222222222222,
              "#7201a8"
             ],
             [
              0.3333333333333333,
              "#9c179e"
             ],
             [
              0.4444444444444444,
              "#bd3786"
             ],
             [
              0.5555555555555556,
              "#d8576b"
             ],
             [
              0.6666666666666666,
              "#ed7953"
             ],
             [
              0.7777777777777778,
              "#fb9f3a"
             ],
             [
              0.8888888888888888,
              "#fdca26"
             ],
             [
              1,
              "#f0f921"
             ]
            ],
            "type": "contour"
           }
          ],
          "contourcarpet": [
           {
            "colorbar": {
             "outlinewidth": 0,
             "ticks": ""
            },
            "type": "contourcarpet"
           }
          ],
          "heatmap": [
           {
            "colorbar": {
             "outlinewidth": 0,
             "ticks": ""
            },
            "colorscale": [
             [
              0,
              "#0d0887"
             ],
             [
              0.1111111111111111,
              "#46039f"
             ],
             [
              0.2222222222222222,
              "#7201a8"
             ],
             [
              0.3333333333333333,
              "#9c179e"
             ],
             [
              0.4444444444444444,
              "#bd3786"
             ],
             [
              0.5555555555555556,
              "#d8576b"
             ],
             [
              0.6666666666666666,
              "#ed7953"
             ],
             [
              0.7777777777777778,
              "#fb9f3a"
             ],
             [
              0.8888888888888888,
              "#fdca26"
             ],
             [
              1,
              "#f0f921"
             ]
            ],
            "type": "heatmap"
           }
          ],
          "heatmapgl": [
           {
            "colorbar": {
             "outlinewidth": 0,
             "ticks": ""
            },
            "colorscale": [
             [
              0,
              "#0d0887"
             ],
             [
              0.1111111111111111,
              "#46039f"
             ],
             [
              0.2222222222222222,
              "#7201a8"
             ],
             [
              0.3333333333333333,
              "#9c179e"
             ],
             [
              0.4444444444444444,
              "#bd3786"
             ],
             [
              0.5555555555555556,
              "#d8576b"
             ],
             [
              0.6666666666666666,
              "#ed7953"
             ],
             [
              0.7777777777777778,
              "#fb9f3a"
             ],
             [
              0.8888888888888888,
              "#fdca26"
             ],
             [
              1,
              "#f0f921"
             ]
            ],
            "type": "heatmapgl"
           }
          ],
          "histogram": [
           {
            "marker": {
             "colorbar": {
              "outlinewidth": 0,
              "ticks": ""
             }
            },
            "type": "histogram"
           }
          ],
          "histogram2d": [
           {
            "colorbar": {
             "outlinewidth": 0,
             "ticks": ""
            },
            "colorscale": [
             [
              0,
              "#0d0887"
             ],
             [
              0.1111111111111111,
              "#46039f"
             ],
             [
              0.2222222222222222,
              "#7201a8"
             ],
             [
              0.3333333333333333,
              "#9c179e"
             ],
             [
              0.4444444444444444,
              "#bd3786"
             ],
             [
              0.5555555555555556,
              "#d8576b"
             ],
             [
              0.6666666666666666,
              "#ed7953"
             ],
             [
              0.7777777777777778,
              "#fb9f3a"
             ],
             [
              0.8888888888888888,
              "#fdca26"
             ],
             [
              1,
              "#f0f921"
             ]
            ],
            "type": "histogram2d"
           }
          ],
          "histogram2dcontour": [
           {
            "colorbar": {
             "outlinewidth": 0,
             "ticks": ""
            },
            "colorscale": [
             [
              0,
              "#0d0887"
             ],
             [
              0.1111111111111111,
              "#46039f"
             ],
             [
              0.2222222222222222,
              "#7201a8"
             ],
             [
              0.3333333333333333,
              "#9c179e"
             ],
             [
              0.4444444444444444,
              "#bd3786"
             ],
             [
              0.5555555555555556,
              "#d8576b"
             ],
             [
              0.6666666666666666,
              "#ed7953"
             ],
             [
              0.7777777777777778,
              "#fb9f3a"
             ],
             [
              0.8888888888888888,
              "#fdca26"
             ],
             [
              1,
              "#f0f921"
             ]
            ],
            "type": "histogram2dcontour"
           }
          ],
          "mesh3d": [
           {
            "colorbar": {
             "outlinewidth": 0,
             "ticks": ""
            },
            "type": "mesh3d"
           }
          ],
          "parcoords": [
           {
            "line": {
             "colorbar": {
              "outlinewidth": 0,
              "ticks": ""
             }
            },
            "type": "parcoords"
           }
          ],
          "pie": [
           {
            "automargin": true,
            "type": "pie"
           }
          ],
          "scatter": [
           {
            "marker": {
             "line": {
              "color": "#283442"
             }
            },
            "type": "scatter"
           }
          ],
          "scatter3d": [
           {
            "line": {
             "colorbar": {
              "outlinewidth": 0,
              "ticks": ""
             }
            },
            "marker": {
             "colorbar": {
              "outlinewidth": 0,
              "ticks": ""
             }
            },
            "type": "scatter3d"
           }
          ],
          "scattercarpet": [
           {
            "marker": {
             "colorbar": {
              "outlinewidth": 0,
              "ticks": ""
             }
            },
            "type": "scattercarpet"
           }
          ],
          "scattergeo": [
           {
            "marker": {
             "colorbar": {
              "outlinewidth": 0,
              "ticks": ""
             }
            },
            "type": "scattergeo"
           }
          ],
          "scattergl": [
           {
            "marker": {
             "line": {
              "color": "#283442"
             }
            },
            "type": "scattergl"
           }
          ],
          "scattermapbox": [
           {
            "marker": {
             "colorbar": {
              "outlinewidth": 0,
              "ticks": ""
             }
            },
            "type": "scattermapbox"
           }
          ],
          "scatterpolar": [
           {
            "marker": {
             "colorbar": {
              "outlinewidth": 0,
              "ticks": ""
             }
            },
            "type": "scatterpolar"
           }
          ],
          "scatterpolargl": [
           {
            "marker": {
             "colorbar": {
              "outlinewidth": 0,
              "ticks": ""
             }
            },
            "type": "scatterpolargl"
           }
          ],
          "scatterternary": [
           {
            "marker": {
             "colorbar": {
              "outlinewidth": 0,
              "ticks": ""
             }
            },
            "type": "scatterternary"
           }
          ],
          "surface": [
           {
            "colorbar": {
             "outlinewidth": 0,
             "ticks": ""
            },
            "colorscale": [
             [
              0,
              "#0d0887"
             ],
             [
              0.1111111111111111,
              "#46039f"
             ],
             [
              0.2222222222222222,
              "#7201a8"
             ],
             [
              0.3333333333333333,
              "#9c179e"
             ],
             [
              0.4444444444444444,
              "#bd3786"
             ],
             [
              0.5555555555555556,
              "#d8576b"
             ],
             [
              0.6666666666666666,
              "#ed7953"
             ],
             [
              0.7777777777777778,
              "#fb9f3a"
             ],
             [
              0.8888888888888888,
              "#fdca26"
             ],
             [
              1,
              "#f0f921"
             ]
            ],
            "type": "surface"
           }
          ],
          "table": [
           {
            "cells": {
             "fill": {
              "color": "#506784"
             },
             "line": {
              "color": "rgb(17,17,17)"
             }
            },
            "header": {
             "fill": {
              "color": "#2a3f5f"
             },
             "line": {
              "color": "rgb(17,17,17)"
             }
            },
            "type": "table"
           }
          ]
         },
         "layout": {
          "annotationdefaults": {
           "arrowcolor": "#f2f5fa",
           "arrowhead": 0,
           "arrowwidth": 1
          },
          "coloraxis": {
           "colorbar": {
            "outlinewidth": 0,
            "ticks": ""
           }
          },
          "colorscale": {
           "diverging": [
            [
             0,
             "#8e0152"
            ],
            [
             0.1,
             "#c51b7d"
            ],
            [
             0.2,
             "#de77ae"
            ],
            [
             0.3,
             "#f1b6da"
            ],
            [
             0.4,
             "#fde0ef"
            ],
            [
             0.5,
             "#f7f7f7"
            ],
            [
             0.6,
             "#e6f5d0"
            ],
            [
             0.7,
             "#b8e186"
            ],
            [
             0.8,
             "#7fbc41"
            ],
            [
             0.9,
             "#4d9221"
            ],
            [
             1,
             "#276419"
            ]
           ],
           "sequential": [
            [
             0,
             "#0d0887"
            ],
            [
             0.1111111111111111,
             "#46039f"
            ],
            [
             0.2222222222222222,
             "#7201a8"
            ],
            [
             0.3333333333333333,
             "#9c179e"
            ],
            [
             0.4444444444444444,
             "#bd3786"
            ],
            [
             0.5555555555555556,
             "#d8576b"
            ],
            [
             0.6666666666666666,
             "#ed7953"
            ],
            [
             0.7777777777777778,
             "#fb9f3a"
            ],
            [
             0.8888888888888888,
             "#fdca26"
            ],
            [
             1,
             "#f0f921"
            ]
           ],
           "sequentialminus": [
            [
             0,
             "#0d0887"
            ],
            [
             0.1111111111111111,
             "#46039f"
            ],
            [
             0.2222222222222222,
             "#7201a8"
            ],
            [
             0.3333333333333333,
             "#9c179e"
            ],
            [
             0.4444444444444444,
             "#bd3786"
            ],
            [
             0.5555555555555556,
             "#d8576b"
            ],
            [
             0.6666666666666666,
             "#ed7953"
            ],
            [
             0.7777777777777778,
             "#fb9f3a"
            ],
            [
             0.8888888888888888,
             "#fdca26"
            ],
            [
             1,
             "#f0f921"
            ]
           ]
          },
          "colorway": [
           "#636efa",
           "#EF553B",
           "#00cc96",
           "#ab63fa",
           "#FFA15A",
           "#19d3f3",
           "#FF6692",
           "#B6E880",
           "#FF97FF",
           "#FECB52"
          ],
          "font": {
           "color": "#f2f5fa"
          },
          "geo": {
           "bgcolor": "rgb(17,17,17)",
           "lakecolor": "rgb(17,17,17)",
           "landcolor": "rgb(17,17,17)",
           "showlakes": true,
           "showland": true,
           "subunitcolor": "#506784"
          },
          "hoverlabel": {
           "align": "left"
          },
          "hovermode": "closest",
          "mapbox": {
           "style": "dark"
          },
          "paper_bgcolor": "rgb(17,17,17)",
          "plot_bgcolor": "rgb(17,17,17)",
          "polar": {
           "angularaxis": {
            "gridcolor": "#506784",
            "linecolor": "#506784",
            "ticks": ""
           },
           "bgcolor": "rgb(17,17,17)",
           "radialaxis": {
            "gridcolor": "#506784",
            "linecolor": "#506784",
            "ticks": ""
           }
          },
          "scene": {
           "xaxis": {
            "backgroundcolor": "rgb(17,17,17)",
            "gridcolor": "#506784",
            "gridwidth": 2,
            "linecolor": "#506784",
            "showbackground": true,
            "ticks": "",
            "zerolinecolor": "#C8D4E3"
           },
           "yaxis": {
            "backgroundcolor": "rgb(17,17,17)",
            "gridcolor": "#506784",
            "gridwidth": 2,
            "linecolor": "#506784",
            "showbackground": true,
            "ticks": "",
            "zerolinecolor": "#C8D4E3"
           },
           "zaxis": {
            "backgroundcolor": "rgb(17,17,17)",
            "gridcolor": "#506784",
            "gridwidth": 2,
            "linecolor": "#506784",
            "showbackground": true,
            "ticks": "",
            "zerolinecolor": "#C8D4E3"
           }
          },
          "shapedefaults": {
           "line": {
            "color": "#f2f5fa"
           }
          },
          "sliderdefaults": {
           "bgcolor": "#C8D4E3",
           "bordercolor": "rgb(17,17,17)",
           "borderwidth": 1,
           "tickwidth": 0
          },
          "ternary": {
           "aaxis": {
            "gridcolor": "#506784",
            "linecolor": "#506784",
            "ticks": ""
           },
           "baxis": {
            "gridcolor": "#506784",
            "linecolor": "#506784",
            "ticks": ""
           },
           "bgcolor": "rgb(17,17,17)",
           "caxis": {
            "gridcolor": "#506784",
            "linecolor": "#506784",
            "ticks": ""
           }
          },
          "title": {
           "x": 0.05
          },
          "updatemenudefaults": {
           "bgcolor": "#506784",
           "borderwidth": 0
          },
          "xaxis": {
           "automargin": true,
           "gridcolor": "#283442",
           "linecolor": "#506784",
           "ticks": "",
           "title": {
            "standoff": 15
           },
           "zerolinecolor": "#283442",
           "zerolinewidth": 2
          },
          "yaxis": {
           "automargin": true,
           "gridcolor": "#283442",
           "linecolor": "#506784",
           "ticks": "",
           "title": {
            "standoff": 15
           },
           "zerolinecolor": "#283442",
           "zerolinewidth": 2
          }
         }
        },
        "title": {
         "text": "First Year Total Points per Position"
        }
       }
      },
      "text/html": [
       "<div>                            <div id=\"468f74bc-be58-41f3-bbe6-69ae35c3ac44\" class=\"plotly-graph-div\" style=\"height:525px; width:100%;\"></div>            <script type=\"text/javascript\">                require([\"plotly\"], function(Plotly) {                    window.PLOTLYENV=window.PLOTLYENV || {};                                    if (document.getElementById(\"468f74bc-be58-41f3-bbe6-69ae35c3ac44\")) {                    Plotly.newPlot(                        \"468f74bc-be58-41f3-bbe6-69ae35c3ac44\",                        [{\"hovertemplate\": \"PTS=%{marker.color}<br>POSITION=%{theta}<extra></extra>\", \"legendgroup\": \"\", \"marker\": {\"color\": [1845, 1725, 1654, 1624, 1562, 1503, 1441, 1399, 1387, 1361, 1258, 1256, 1252, 1235, 1151, 1143, 1131, 1106, 1106, 1105, 1104, 1068, 1054, 1048, 1028, 991, 981, 975, 955, 944, 899, 880, 867, 864, 861, 846, 826, 821, 814, 810, 799, 796, 780, 769, 768, 753, 751, 748, 742, 741, 715, 711, 705, 662, 627, 599, 587, 587, 581, 565, 559, 543, 533, 525, 525, 511, 507, 501, 499, 498, 494, 494, 488, 487, 476, 476, 475, 463, 461, 436, 426, 388, 359, 353, 345, 304, 304, 283, 277, 265, 246, 243, 228, 227, 208, 201, 190, 180, 170, 165, 140, 131, 114, 109, 104, 78, 74, 56, 51, 33, 32, 13, 3, 0], \"coloraxis\": \"coloraxis\", \"symbol\": \"circle\"}, \"mode\": \"markers\", \"name\": \"\", \"r\": [1845, 1725, 1654, 1624, 1562, 1503, 1441, 1399, 1387, 1361, 1258, 1256, 1252, 1235, 1151, 1143, 1131, 1106, 1106, 1105, 1104, 1068, 1054, 1048, 1028, 991, 981, 975, 955, 944, 899, 880, 867, 864, 861, 846, 826, 821, 814, 810, 799, 796, 780, 769, 768, 753, 751, 748, 742, 741, 715, 711, 705, 662, 627, 599, 587, 587, 581, 565, 559, 543, 533, 525, 525, 511, 507, 501, 499, 498, 494, 494, 488, 487, 476, 476, 475, 463, 461, 436, 426, 388, 359, 353, 345, 304, 304, 283, 277, 265, 246, 243, 228, 227, 208, 201, 190, 180, 170, 165, 140, 131, 114, 109, 104, 78, 74, 56, 51, 33, 32, 13, 3, 0], \"showlegend\": false, \"subplot\": \"polar\", \"theta\": [\" PF\", \" PF\", \" SF\", \" SF\", \" PG\", \" C\", \" PF\", \" PG\", \" SF\", \" PG\", \" PG\", \" PG\", \" SG\", \" SG\", \" SG\", \" C\", \" PG\", \" SG\", \" C\", \" C\", \" C\", \" C\", \" SG\", \" SG\", \" PF\", \" G\", \" C\", \" C\", \" SG\", \" PG\", \" PF\", \" SF\", \" PF\", \" PG\", \" PF\", \" SF\", \" SG\", \" PF\", \" PF\", \" PF\", \" PG\", \" C\", \" SG\", \" SG\", \" C\", \" SG\", \" C\", \" SF\", \" F\", \" SG\", \" PF\", \" F\", \" G\", \" SF\", \" C\", \" SF\", \" SG\", \" SF\", \" G\", \" PF\", \" PF\", \" PG\", \" C\", \" G\", \" PF\", \" PG\", \" SF\", \" PG\", \" C\", \" PG\", \" C\", \" C\", \" C\", \" PF\", \" C\", \" SG\", \" C\", \" F\", \" C\", \" C\", \" SG\", \" SF\", \" C\", \" C\", \" PF\", \" G\", \" C\", \" C\", \" G\", \" C\", \" PG\", \" PF\", \" C\", \" PF\", \" SF\", \" SG\", \" SG\", \" C\", \" PF\", \" SF\", \" PG\", \" SG\", \" F\", \" SF\", \" C\", \" SF\", \" C\", \" PG\", \" C\", \" G\", \" SF\", \" SG\", \" C\", \" C\"], \"type\": \"scatterpolar\"}],                        {\"coloraxis\": {\"colorbar\": {\"title\": {\"text\": \"PTS\"}}, \"colorscale\": [[0.0, \"#0d0887\"], [0.1111111111111111, \"#46039f\"], [0.2222222222222222, \"#7201a8\"], [0.3333333333333333, \"#9c179e\"], [0.4444444444444444, \"#bd3786\"], [0.5555555555555556, \"#d8576b\"], [0.6666666666666666, \"#ed7953\"], [0.7777777777777778, \"#fb9f3a\"], [0.8888888888888888, \"#fdca26\"], [1.0, \"#f0f921\"]]}, \"legend\": {\"tracegroupgap\": 0}, \"polar\": {\"angularaxis\": {\"direction\": \"clockwise\", \"rotation\": 90}, \"domain\": {\"x\": [0.0, 1.0], \"y\": [0.0, 1.0]}}, \"template\": {\"data\": {\"bar\": [{\"error_x\": {\"color\": \"#f2f5fa\"}, \"error_y\": {\"color\": \"#f2f5fa\"}, \"marker\": {\"line\": {\"color\": \"rgb(17,17,17)\", \"width\": 0.5}}, \"type\": \"bar\"}], \"barpolar\": [{\"marker\": {\"line\": {\"color\": \"rgb(17,17,17)\", \"width\": 0.5}}, \"type\": \"barpolar\"}], \"carpet\": [{\"aaxis\": {\"endlinecolor\": \"#A2B1C6\", \"gridcolor\": \"#506784\", \"linecolor\": \"#506784\", \"minorgridcolor\": \"#506784\", \"startlinecolor\": \"#A2B1C6\"}, \"baxis\": {\"endlinecolor\": \"#A2B1C6\", \"gridcolor\": \"#506784\", \"linecolor\": \"#506784\", \"minorgridcolor\": \"#506784\", \"startlinecolor\": \"#A2B1C6\"}, \"type\": \"carpet\"}], \"choropleth\": [{\"colorbar\": {\"outlinewidth\": 0, \"ticks\": \"\"}, \"type\": \"choropleth\"}], \"contour\": [{\"colorbar\": {\"outlinewidth\": 0, \"ticks\": \"\"}, \"colorscale\": [[0.0, \"#0d0887\"], [0.1111111111111111, \"#46039f\"], [0.2222222222222222, \"#7201a8\"], [0.3333333333333333, \"#9c179e\"], [0.4444444444444444, \"#bd3786\"], [0.5555555555555556, \"#d8576b\"], [0.6666666666666666, \"#ed7953\"], [0.7777777777777778, \"#fb9f3a\"], [0.8888888888888888, \"#fdca26\"], [1.0, \"#f0f921\"]], \"type\": \"contour\"}], \"contourcarpet\": [{\"colorbar\": {\"outlinewidth\": 0, \"ticks\": \"\"}, \"type\": \"contourcarpet\"}], \"heatmap\": [{\"colorbar\": {\"outlinewidth\": 0, \"ticks\": \"\"}, \"colorscale\": [[0.0, \"#0d0887\"], [0.1111111111111111, \"#46039f\"], [0.2222222222222222, \"#7201a8\"], [0.3333333333333333, \"#9c179e\"], [0.4444444444444444, \"#bd3786\"], [0.5555555555555556, \"#d8576b\"], [0.6666666666666666, \"#ed7953\"], [0.7777777777777778, \"#fb9f3a\"], [0.8888888888888888, \"#fdca26\"], [1.0, \"#f0f921\"]], \"type\": \"heatmap\"}], \"heatmapgl\": [{\"colorbar\": {\"outlinewidth\": 0, \"ticks\": \"\"}, \"colorscale\": [[0.0, \"#0d0887\"], [0.1111111111111111, \"#46039f\"], [0.2222222222222222, \"#7201a8\"], [0.3333333333333333, \"#9c179e\"], [0.4444444444444444, \"#bd3786\"], [0.5555555555555556, \"#d8576b\"], [0.6666666666666666, \"#ed7953\"], [0.7777777777777778, \"#fb9f3a\"], [0.8888888888888888, \"#fdca26\"], [1.0, \"#f0f921\"]], \"type\": \"heatmapgl\"}], \"histogram\": [{\"marker\": {\"colorbar\": {\"outlinewidth\": 0, \"ticks\": \"\"}}, \"type\": \"histogram\"}], \"histogram2d\": [{\"colorbar\": {\"outlinewidth\": 0, \"ticks\": \"\"}, \"colorscale\": [[0.0, \"#0d0887\"], [0.1111111111111111, \"#46039f\"], [0.2222222222222222, \"#7201a8\"], [0.3333333333333333, \"#9c179e\"], [0.4444444444444444, \"#bd3786\"], [0.5555555555555556, \"#d8576b\"], [0.6666666666666666, \"#ed7953\"], [0.7777777777777778, \"#fb9f3a\"], [0.8888888888888888, \"#fdca26\"], [1.0, \"#f0f921\"]], \"type\": \"histogram2d\"}], \"histogram2dcontour\": [{\"colorbar\": {\"outlinewidth\": 0, \"ticks\": \"\"}, \"colorscale\": [[0.0, \"#0d0887\"], [0.1111111111111111, \"#46039f\"], [0.2222222222222222, \"#7201a8\"], [0.3333333333333333, \"#9c179e\"], [0.4444444444444444, \"#bd3786\"], [0.5555555555555556, \"#d8576b\"], [0.6666666666666666, \"#ed7953\"], [0.7777777777777778, \"#fb9f3a\"], [0.8888888888888888, \"#fdca26\"], [1.0, \"#f0f921\"]], \"type\": \"histogram2dcontour\"}], \"mesh3d\": [{\"colorbar\": {\"outlinewidth\": 0, \"ticks\": \"\"}, \"type\": \"mesh3d\"}], \"parcoords\": [{\"line\": {\"colorbar\": {\"outlinewidth\": 0, \"ticks\": \"\"}}, \"type\": \"parcoords\"}], \"pie\": [{\"automargin\": true, \"type\": \"pie\"}], \"scatter\": [{\"marker\": {\"line\": {\"color\": \"#283442\"}}, \"type\": \"scatter\"}], \"scatter3d\": [{\"line\": {\"colorbar\": {\"outlinewidth\": 0, \"ticks\": \"\"}}, \"marker\": {\"colorbar\": {\"outlinewidth\": 0, \"ticks\": \"\"}}, \"type\": \"scatter3d\"}], \"scattercarpet\": [{\"marker\": {\"colorbar\": {\"outlinewidth\": 0, \"ticks\": \"\"}}, \"type\": \"scattercarpet\"}], \"scattergeo\": [{\"marker\": {\"colorbar\": {\"outlinewidth\": 0, \"ticks\": \"\"}}, \"type\": \"scattergeo\"}], \"scattergl\": [{\"marker\": {\"line\": {\"color\": \"#283442\"}}, \"type\": \"scattergl\"}], \"scattermapbox\": [{\"marker\": {\"colorbar\": {\"outlinewidth\": 0, \"ticks\": \"\"}}, \"type\": \"scattermapbox\"}], \"scatterpolar\": [{\"marker\": {\"colorbar\": {\"outlinewidth\": 0, \"ticks\": \"\"}}, \"type\": \"scatterpolar\"}], \"scatterpolargl\": [{\"marker\": {\"colorbar\": {\"outlinewidth\": 0, \"ticks\": \"\"}}, \"type\": \"scatterpolargl\"}], \"scatterternary\": [{\"marker\": {\"colorbar\": {\"outlinewidth\": 0, \"ticks\": \"\"}}, \"type\": \"scatterternary\"}], \"surface\": [{\"colorbar\": {\"outlinewidth\": 0, \"ticks\": \"\"}, \"colorscale\": [[0.0, \"#0d0887\"], [0.1111111111111111, \"#46039f\"], [0.2222222222222222, \"#7201a8\"], [0.3333333333333333, \"#9c179e\"], [0.4444444444444444, \"#bd3786\"], [0.5555555555555556, \"#d8576b\"], [0.6666666666666666, \"#ed7953\"], [0.7777777777777778, \"#fb9f3a\"], [0.8888888888888888, \"#fdca26\"], [1.0, \"#f0f921\"]], \"type\": \"surface\"}], \"table\": [{\"cells\": {\"fill\": {\"color\": \"#506784\"}, \"line\": {\"color\": \"rgb(17,17,17)\"}}, \"header\": {\"fill\": {\"color\": \"#2a3f5f\"}, \"line\": {\"color\": \"rgb(17,17,17)\"}}, \"type\": \"table\"}]}, \"layout\": {\"annotationdefaults\": {\"arrowcolor\": \"#f2f5fa\", \"arrowhead\": 0, \"arrowwidth\": 1}, \"coloraxis\": {\"colorbar\": {\"outlinewidth\": 0, \"ticks\": \"\"}}, \"colorscale\": {\"diverging\": [[0, \"#8e0152\"], [0.1, \"#c51b7d\"], [0.2, \"#de77ae\"], [0.3, \"#f1b6da\"], [0.4, \"#fde0ef\"], [0.5, \"#f7f7f7\"], [0.6, \"#e6f5d0\"], [0.7, \"#b8e186\"], [0.8, \"#7fbc41\"], [0.9, \"#4d9221\"], [1, \"#276419\"]], \"sequential\": [[0.0, \"#0d0887\"], [0.1111111111111111, \"#46039f\"], [0.2222222222222222, \"#7201a8\"], [0.3333333333333333, \"#9c179e\"], [0.4444444444444444, \"#bd3786\"], [0.5555555555555556, \"#d8576b\"], [0.6666666666666666, \"#ed7953\"], [0.7777777777777778, \"#fb9f3a\"], [0.8888888888888888, \"#fdca26\"], [1.0, \"#f0f921\"]], \"sequentialminus\": [[0.0, \"#0d0887\"], [0.1111111111111111, \"#46039f\"], [0.2222222222222222, \"#7201a8\"], [0.3333333333333333, \"#9c179e\"], [0.4444444444444444, \"#bd3786\"], [0.5555555555555556, \"#d8576b\"], [0.6666666666666666, \"#ed7953\"], [0.7777777777777778, \"#fb9f3a\"], [0.8888888888888888, \"#fdca26\"], [1.0, \"#f0f921\"]]}, \"colorway\": [\"#636efa\", \"#EF553B\", \"#00cc96\", \"#ab63fa\", \"#FFA15A\", \"#19d3f3\", \"#FF6692\", \"#B6E880\", \"#FF97FF\", \"#FECB52\"], \"font\": {\"color\": \"#f2f5fa\"}, \"geo\": {\"bgcolor\": \"rgb(17,17,17)\", \"lakecolor\": \"rgb(17,17,17)\", \"landcolor\": \"rgb(17,17,17)\", \"showlakes\": true, \"showland\": true, \"subunitcolor\": \"#506784\"}, \"hoverlabel\": {\"align\": \"left\"}, \"hovermode\": \"closest\", \"mapbox\": {\"style\": \"dark\"}, \"paper_bgcolor\": \"rgb(17,17,17)\", \"plot_bgcolor\": \"rgb(17,17,17)\", \"polar\": {\"angularaxis\": {\"gridcolor\": \"#506784\", \"linecolor\": \"#506784\", \"ticks\": \"\"}, \"bgcolor\": \"rgb(17,17,17)\", \"radialaxis\": {\"gridcolor\": \"#506784\", \"linecolor\": \"#506784\", \"ticks\": \"\"}}, \"scene\": {\"xaxis\": {\"backgroundcolor\": \"rgb(17,17,17)\", \"gridcolor\": \"#506784\", \"gridwidth\": 2, \"linecolor\": \"#506784\", \"showbackground\": true, \"ticks\": \"\", \"zerolinecolor\": \"#C8D4E3\"}, \"yaxis\": {\"backgroundcolor\": \"rgb(17,17,17)\", \"gridcolor\": \"#506784\", \"gridwidth\": 2, \"linecolor\": \"#506784\", \"showbackground\": true, \"ticks\": \"\", \"zerolinecolor\": \"#C8D4E3\"}, \"zaxis\": {\"backgroundcolor\": \"rgb(17,17,17)\", \"gridcolor\": \"#506784\", \"gridwidth\": 2, \"linecolor\": \"#506784\", \"showbackground\": true, \"ticks\": \"\", \"zerolinecolor\": \"#C8D4E3\"}}, \"shapedefaults\": {\"line\": {\"color\": \"#f2f5fa\"}}, \"sliderdefaults\": {\"bgcolor\": \"#C8D4E3\", \"bordercolor\": \"rgb(17,17,17)\", \"borderwidth\": 1, \"tickwidth\": 0}, \"ternary\": {\"aaxis\": {\"gridcolor\": \"#506784\", \"linecolor\": \"#506784\", \"ticks\": \"\"}, \"baxis\": {\"gridcolor\": \"#506784\", \"linecolor\": \"#506784\", \"ticks\": \"\"}, \"bgcolor\": \"rgb(17,17,17)\", \"caxis\": {\"gridcolor\": \"#506784\", \"linecolor\": \"#506784\", \"ticks\": \"\"}}, \"title\": {\"x\": 0.05}, \"updatemenudefaults\": {\"bgcolor\": \"#506784\", \"borderwidth\": 0}, \"xaxis\": {\"automargin\": true, \"gridcolor\": \"#283442\", \"linecolor\": \"#506784\", \"ticks\": \"\", \"title\": {\"standoff\": 15}, \"zerolinecolor\": \"#283442\", \"zerolinewidth\": 2}, \"yaxis\": {\"automargin\": true, \"gridcolor\": \"#283442\", \"linecolor\": \"#506784\", \"ticks\": \"\", \"title\": {\"standoff\": 15}, \"zerolinecolor\": \"#283442\", \"zerolinewidth\": 2}}}, \"title\": {\"text\": \"First Year Total Points per Position\"}},                        {\"responsive\": true}                    ).then(function(){\n",
       "                            \n",
       "var gd = document.getElementById('468f74bc-be58-41f3-bbe6-69ae35c3ac44');\n",
       "var x = new MutationObserver(function (mutations, observer) {{\n",
       "        var display = window.getComputedStyle(gd).display;\n",
       "        if (!display || display === 'none') {{\n",
       "            console.log([gd, 'removed!']);\n",
       "            Plotly.purge(gd);\n",
       "            observer.disconnect();\n",
       "        }}\n",
       "}});\n",
       "\n",
       "// Listen for the removal of the full notebook cells\n",
       "var notebookContainer = gd.closest('#notebook-container');\n",
       "if (notebookContainer) {{\n",
       "    x.observe(notebookContainer, {childList: true});\n",
       "}}\n",
       "\n",
       "// Listen for the clearing of the current output cell\n",
       "var outputEl = gd.closest('.output');\n",
       "if (outputEl) {{\n",
       "    x.observe(outputEl, {childList: true});\n",
       "}}\n",
       "\n",
       "                        })                };                });            </script>        </div>"
      ]
     },
     "metadata": {},
     "output_type": "display_data"
    }
   ],
   "source": [
    "fig = px.scatter_polar(first_year, r=\"PTS\", theta=\"POSITION\", color=\"PTS\",\n",
    "                    template=\"plotly_dark\", title=\"First Year Total Points per Position\")\n",
    "fig.show()"
   ]
  },
  {
   "cell_type": "code",
   "execution_count": 27,
   "metadata": {
    "ExecuteTime": {
     "end_time": "2020-09-19T00:40:35.049248Z",
     "start_time": "2020-09-19T00:40:34.603294Z"
    }
   },
   "outputs": [
    {
     "data": {
      "application/vnd.plotly.v1+json": {
       "config": {
        "plotlyServerURL": "https://plot.ly"
       },
       "data": [
        {
         "hovertemplate": "PTS=%{r}<br>POSITION=%{theta}<extra></extra>",
         "legendgroup": "627",
         "line": {
          "color": "#f0f921",
          "dash": "solid"
         },
         "mode": "lines",
         "name": "627",
         "r": [
          627,
          627,
          627,
          627
         ],
         "showlegend": true,
         "subplot": "polar",
         "theta": [
          " C",
          " C",
          " C",
          " C"
         ],
         "type": "scatterpolar"
        },
        {
         "hovertemplate": "PTS=%{r}<br>POSITION=%{theta}<extra></extra>",
         "legendgroup": "1028",
         "line": {
          "color": "#fdca26",
          "dash": "solid"
         },
         "mode": "lines",
         "name": "1028",
         "r": [
          1028,
          1028
         ],
         "showlegend": true,
         "subplot": "polar",
         "theta": [
          " PF",
          " PF"
         ],
         "type": "scatterpolar"
        },
        {
         "hovertemplate": "PTS=%{r}<br>POSITION=%{theta}<extra></extra>",
         "legendgroup": "1503",
         "line": {
          "color": "#fb9f3a",
          "dash": "solid"
         },
         "mode": "lines",
         "name": "1503",
         "r": [
          1503,
          1503
         ],
         "showlegend": true,
         "subplot": "polar",
         "theta": [
          " C",
          " C"
         ],
         "type": "scatterpolar"
        },
        {
         "hovertemplate": "PTS=%{r}<br>POSITION=%{theta}<extra></extra>",
         "legendgroup": "796",
         "line": {
          "color": "#ed7953",
          "dash": "solid"
         },
         "mode": "lines",
         "name": "796",
         "r": [
          796,
          796,
          796
         ],
         "showlegend": true,
         "subplot": "polar",
         "theta": [
          " C",
          " C",
          " C"
         ],
         "type": "scatterpolar"
        },
        {
         "hovertemplate": "PTS=%{r}<br>POSITION=%{theta}<extra></extra>",
         "legendgroup": "1048",
         "line": {
          "color": "#d8576b",
          "dash": "solid"
         },
         "mode": "lines",
         "name": "1048",
         "r": [
          1048,
          1048
         ],
         "showlegend": true,
         "subplot": "polar",
         "theta": [
          " SG",
          " SG"
         ],
         "type": "scatterpolar"
        },
        {
         "hovertemplate": "PTS=%{r}<br>POSITION=%{theta}<extra></extra>",
         "legendgroup": "1054",
         "line": {
          "color": "#bd3786",
          "dash": "solid"
         },
         "mode": "lines",
         "name": "1054",
         "r": [
          1054,
          1054
         ],
         "showlegend": true,
         "subplot": "polar",
         "theta": [
          " SG",
          " SG"
         ],
         "type": "scatterpolar"
        },
        {
         "hovertemplate": "PTS=%{r}<br>POSITION=%{theta}<extra></extra>",
         "legendgroup": "190",
         "line": {
          "color": "#9c179e",
          "dash": "solid"
         },
         "mode": "lines",
         "name": "190",
         "r": [
          190,
          190
         ],
         "showlegend": true,
         "subplot": "polar",
         "theta": [
          " SG",
          " SG"
         ],
         "type": "scatterpolar"
        },
        {
         "hovertemplate": "PTS=%{r}<br>POSITION=%{theta}<extra></extra>",
         "legendgroup": "1387",
         "line": {
          "color": "#7201a8",
          "dash": "solid"
         },
         "mode": "lines",
         "name": "1387",
         "r": [
          1387,
          1387,
          1387
         ],
         "showlegend": true,
         "subplot": "polar",
         "theta": [
          " SF",
          " SF",
          " SF"
         ],
         "type": "scatterpolar"
        },
        {
         "hovertemplate": "PTS=%{r}<br>POSITION=%{theta}<extra></extra>",
         "legendgroup": "243",
         "line": {
          "color": "#46039f",
          "dash": "solid"
         },
         "mode": "lines",
         "name": "243",
         "r": [
          243,
          243
         ],
         "showlegend": true,
         "subplot": "polar",
         "theta": [
          " PF",
          " PF"
         ],
         "type": "scatterpolar"
        },
        {
         "hovertemplate": "PTS=%{r}<br>POSITION=%{theta}<extra></extra>",
         "legendgroup": "265",
         "line": {
          "color": "#0d0887",
          "dash": "solid"
         },
         "mode": "lines",
         "name": "265",
         "r": [
          265,
          265,
          265
         ],
         "showlegend": true,
         "subplot": "polar",
         "theta": [
          " C",
          " C",
          " C"
         ],
         "type": "scatterpolar"
        },
        {
         "hovertemplate": "PTS=%{r}<br>POSITION=%{theta}<extra></extra>",
         "legendgroup": "32",
         "line": {
          "color": "#f0f921",
          "dash": "solid"
         },
         "mode": "lines",
         "name": "32",
         "r": [
          32,
          32
         ],
         "showlegend": true,
         "subplot": "polar",
         "theta": [
          " SF",
          " SF"
         ],
         "type": "scatterpolar"
        },
        {
         "hovertemplate": "PTS=%{r}<br>POSITION=%{theta}<extra></extra>",
         "legendgroup": "525",
         "line": {
          "color": "#fdca26",
          "dash": "solid"
         },
         "mode": "lines",
         "name": "525",
         "r": [
          525,
          525,
          525,
          525,
          525,
          525
         ],
         "showlegend": true,
         "subplot": "polar",
         "theta": [
          " PF",
          " PF",
          " G",
          " G",
          " G",
          " PF"
         ],
         "type": "scatterpolar"
        },
        {
         "hovertemplate": "PTS=%{r}<br>POSITION=%{theta}<extra></extra>",
         "legendgroup": "78",
         "line": {
          "color": "#fb9f3a",
          "dash": "solid"
         },
         "mode": "lines",
         "name": "78",
         "r": [
          78,
          78,
          78,
          78
         ],
         "showlegend": true,
         "subplot": "polar",
         "theta": [
          " SF",
          " SF",
          " SF",
          " SF"
         ],
         "type": "scatterpolar"
        },
        {
         "hovertemplate": "PTS=%{r}<br>POSITION=%{theta}<extra></extra>",
         "legendgroup": "104",
         "line": {
          "color": "#ed7953",
          "dash": "solid"
         },
         "mode": "lines",
         "name": "104",
         "r": [
          104,
          104,
          104
         ],
         "showlegend": true,
         "subplot": "polar",
         "theta": [
          " C",
          " C",
          " C"
         ],
         "type": "scatterpolar"
        },
        {
         "hovertemplate": "PTS=%{r}<br>POSITION=%{theta}<extra></extra>",
         "legendgroup": "33",
         "line": {
          "color": "#d8576b",
          "dash": "solid"
         },
         "mode": "lines",
         "name": "33",
         "r": [
          33,
          33
         ],
         "showlegend": true,
         "subplot": "polar",
         "theta": [
          " G",
          " G"
         ],
         "type": "scatterpolar"
        },
        {
         "hovertemplate": "PTS=%{r}<br>POSITION=%{theta}<extra></extra>",
         "legendgroup": "201",
         "line": {
          "color": "#bd3786",
          "dash": "solid"
         },
         "mode": "lines",
         "name": "201",
         "r": [
          201,
          201,
          201,
          201
         ],
         "showlegend": true,
         "subplot": "polar",
         "theta": [
          " SG",
          " SG",
          " SG",
          " SG"
         ],
         "type": "scatterpolar"
        },
        {
         "hovertemplate": "PTS=%{r}<br>POSITION=%{theta}<extra></extra>",
         "legendgroup": "1106",
         "line": {
          "color": "#9c179e",
          "dash": "solid"
         },
         "mode": "lines",
         "name": "1106",
         "r": [
          1106,
          1106,
          1106,
          1106,
          1106,
          1106,
          1106,
          1106,
          1106,
          1106,
          1106
         ],
         "showlegend": true,
         "subplot": "polar",
         "theta": [
          " SG",
          " SG",
          " C",
          " C",
          " C",
          " C",
          " C",
          " C",
          " C",
          " C",
          " SG"
         ],
         "type": "scatterpolar"
        },
        {
         "hovertemplate": "PTS=%{r}<br>POSITION=%{theta}<extra></extra>",
         "legendgroup": "780",
         "line": {
          "color": "#7201a8",
          "dash": "solid"
         },
         "mode": "lines",
         "name": "780",
         "r": [
          780,
          780,
          780,
          780,
          780
         ],
         "showlegend": true,
         "subplot": "polar",
         "theta": [
          " SG",
          " SG",
          " SG",
          " SG",
          " SG"
         ],
         "type": "scatterpolar"
        },
        {
         "hovertemplate": "PTS=%{r}<br>POSITION=%{theta}<extra></extra>",
         "legendgroup": "227",
         "line": {
          "color": "#46039f",
          "dash": "solid"
         },
         "mode": "lines",
         "name": "227",
         "r": [
          227,
          227
         ],
         "showlegend": true,
         "subplot": "polar",
         "theta": [
          " PF",
          " PF"
         ],
         "type": "scatterpolar"
        },
        {
         "hovertemplate": "PTS=%{r}<br>POSITION=%{theta}<extra></extra>",
         "legendgroup": "867",
         "line": {
          "color": "#0d0887",
          "dash": "solid"
         },
         "mode": "lines",
         "name": "867",
         "r": [
          867,
          867,
          867,
          867,
          867
         ],
         "showlegend": true,
         "subplot": "polar",
         "theta": [
          " PF",
          " PF",
          " PF",
          " PF",
          " PF"
         ],
         "type": "scatterpolar"
        },
        {
         "hovertemplate": "PTS=%{r}<br>POSITION=%{theta}<extra></extra>",
         "legendgroup": "165",
         "line": {
          "color": "#f0f921",
          "dash": "solid"
         },
         "mode": "lines",
         "name": "165",
         "r": [
          165,
          165,
          165
         ],
         "showlegend": true,
         "subplot": "polar",
         "theta": [
          " SF",
          " SF",
          " SF"
         ],
         "type": "scatterpolar"
        },
        {
         "hovertemplate": "PTS=%{r}<br>POSITION=%{theta}<extra></extra>",
         "legendgroup": "1562",
         "line": {
          "color": "#fdca26",
          "dash": "solid"
         },
         "mode": "lines",
         "name": "1562",
         "r": [
          1562,
          1562,
          1562,
          1562,
          1562
         ],
         "showlegend": true,
         "subplot": "polar",
         "theta": [
          " PG",
          " PG",
          " PG",
          " PG",
          " PG"
         ],
         "type": "scatterpolar"
        },
        {
         "hovertemplate": "PTS=%{r}<br>POSITION=%{theta}<extra></extra>",
         "legendgroup": "748",
         "line": {
          "color": "#fb9f3a",
          "dash": "solid"
         },
         "mode": "lines",
         "name": "748",
         "r": [
          748,
          748,
          748,
          748
         ],
         "showlegend": true,
         "subplot": "polar",
         "theta": [
          " SF",
          " SF",
          " SF",
          " SF"
         ],
         "type": "scatterpolar"
        },
        {
         "hovertemplate": "PTS=%{r}<br>POSITION=%{theta}<extra></extra>",
         "legendgroup": "476",
         "line": {
          "color": "#ed7953",
          "dash": "solid"
         },
         "mode": "lines",
         "name": "476",
         "r": [
          476,
          476,
          476,
          476,
          476,
          476,
          476,
          476,
          476,
          476,
          476
         ],
         "showlegend": true,
         "subplot": "polar",
         "theta": [
          " C",
          " C",
          " C",
          " C",
          " SG",
          " SG",
          " SG",
          " SG",
          " SG",
          " SG",
          " C"
         ],
         "type": "scatterpolar"
        },
        {
         "hovertemplate": "PTS=%{r}<br>POSITION=%{theta}<extra></extra>",
         "legendgroup": "826",
         "line": {
          "color": "#d8576b",
          "dash": "solid"
         },
         "mode": "lines",
         "name": "826",
         "r": [
          826,
          826,
          826
         ],
         "showlegend": true,
         "subplot": "polar",
         "theta": [
          " SG",
          " SG",
          " SG"
         ],
         "type": "scatterpolar"
        },
        {
         "hovertemplate": "PTS=%{r}<br>POSITION=%{theta}<extra></extra>",
         "legendgroup": "494",
         "line": {
          "color": "#bd3786",
          "dash": "solid"
         },
         "mode": "lines",
         "name": "494",
         "r": [
          494,
          494,
          494,
          494,
          494,
          494
         ],
         "showlegend": true,
         "subplot": "polar",
         "theta": [
          " C",
          " C",
          " C",
          " C",
          " C",
          " C"
         ],
         "type": "scatterpolar"
        },
        {
         "hovertemplate": "PTS=%{r}<br>POSITION=%{theta}<extra></extra>",
         "legendgroup": "304",
         "line": {
          "color": "#9c179e",
          "dash": "solid"
         },
         "mode": "lines",
         "name": "304",
         "r": [
          304,
          304,
          304,
          304,
          304,
          304,
          304,
          304,
          304,
          304,
          304,
          304,
          304
         ],
         "showlegend": true,
         "subplot": "polar",
         "theta": [
          " C",
          " C",
          " G",
          " G",
          " G",
          " G",
          " G",
          " G",
          " G",
          " G",
          " G",
          " G",
          " C"
         ],
         "type": "scatterpolar"
        },
        {
         "hovertemplate": "PTS=%{r}<br>POSITION=%{theta}<extra></extra>",
         "legendgroup": "283",
         "line": {
          "color": "#7201a8",
          "dash": "solid"
         },
         "mode": "lines",
         "name": "283",
         "r": [
          283,
          283
         ],
         "showlegend": true,
         "subplot": "polar",
         "theta": [
          " C",
          " C"
         ],
         "type": "scatterpolar"
        },
        {
         "hovertemplate": "PTS=%{r}<br>POSITION=%{theta}<extra></extra>",
         "legendgroup": "799",
         "line": {
          "color": "#46039f",
          "dash": "solid"
         },
         "mode": "lines",
         "name": "799",
         "r": [
          799,
          799
         ],
         "showlegend": true,
         "subplot": "polar",
         "theta": [
          " PG",
          " PG"
         ],
         "type": "scatterpolar"
        },
        {
         "hovertemplate": "PTS=%{r}<br>POSITION=%{theta}<extra></extra>",
         "legendgroup": "507",
         "line": {
          "color": "#0d0887",
          "dash": "solid"
         },
         "mode": "lines",
         "name": "507",
         "r": [
          507,
          507,
          507,
          507,
          507
         ],
         "showlegend": true,
         "subplot": "polar",
         "theta": [
          " SF",
          " SF",
          " SF",
          " SF",
          " SF"
         ],
         "type": "scatterpolar"
        },
        {
         "hovertemplate": "PTS=%{r}<br>POSITION=%{theta}<extra></extra>",
         "legendgroup": "140",
         "line": {
          "color": "#f0f921",
          "dash": "solid"
         },
         "mode": "lines",
         "name": "140",
         "r": [
          140,
          140
         ],
         "showlegend": true,
         "subplot": "polar",
         "theta": [
          " PG",
          " PG"
         ],
         "type": "scatterpolar"
        },
        {
         "hovertemplate": "PTS=%{r}<br>POSITION=%{theta}<extra></extra>",
         "legendgroup": "944",
         "line": {
          "color": "#fdca26",
          "dash": "solid"
         },
         "mode": "lines",
         "name": "944",
         "r": [
          944,
          944,
          944,
          944
         ],
         "showlegend": true,
         "subplot": "polar",
         "theta": [
          " PG",
          " PG",
          " PG",
          " PG"
         ],
         "type": "scatterpolar"
        },
        {
         "hovertemplate": "PTS=%{r}<br>POSITION=%{theta}<extra></extra>",
         "legendgroup": "599",
         "line": {
          "color": "#fb9f3a",
          "dash": "solid"
         },
         "mode": "lines",
         "name": "599",
         "r": [
          599,
          599,
          599,
          599,
          599,
          599
         ],
         "showlegend": true,
         "subplot": "polar",
         "theta": [
          " SF",
          " SF",
          " SF",
          " SF",
          " SF",
          " SF"
         ],
         "type": "scatterpolar"
        },
        {
         "hovertemplate": "PTS=%{r}<br>POSITION=%{theta}<extra></extra>",
         "legendgroup": "208",
         "line": {
          "color": "#ed7953",
          "dash": "solid"
         },
         "mode": "lines",
         "name": "208",
         "r": [
          208,
          208,
          208,
          208
         ],
         "showlegend": true,
         "subplot": "polar",
         "theta": [
          " SF",
          " SF",
          " SF",
          " SF"
         ],
         "type": "scatterpolar"
        },
        {
         "hovertemplate": "PTS=%{r}<br>POSITION=%{theta}<extra></extra>",
         "legendgroup": "109",
         "line": {
          "color": "#d8576b",
          "dash": "solid"
         },
         "mode": "lines",
         "name": "109",
         "r": [
          109,
          109,
          109,
          109,
          109
         ],
         "showlegend": true,
         "subplot": "polar",
         "theta": [
          " SF",
          " SF",
          " SF",
          " SF",
          " SF"
         ],
         "type": "scatterpolar"
        },
        {
         "hovertemplate": "PTS=%{r}<br>POSITION=%{theta}<extra></extra>",
         "legendgroup": "543",
         "line": {
          "color": "#bd3786",
          "dash": "solid"
         },
         "mode": "lines",
         "name": "543",
         "r": [
          543,
          543
         ],
         "showlegend": true,
         "subplot": "polar",
         "theta": [
          " PG",
          " PG"
         ],
         "type": "scatterpolar"
        },
        {
         "hovertemplate": "PTS=%{r}<br>POSITION=%{theta}<extra></extra>",
         "legendgroup": "533",
         "line": {
          "color": "#9c179e",
          "dash": "solid"
         },
         "mode": "lines",
         "name": "533",
         "r": [
          533,
          533
         ],
         "showlegend": true,
         "subplot": "polar",
         "theta": [
          " C",
          " C"
         ],
         "type": "scatterpolar"
        },
        {
         "hovertemplate": "PTS=%{r}<br>POSITION=%{theta}<extra></extra>",
         "legendgroup": "751",
         "line": {
          "color": "#7201a8",
          "dash": "solid"
         },
         "mode": "lines",
         "name": "751",
         "r": [
          751,
          751,
          751
         ],
         "showlegend": true,
         "subplot": "polar",
         "theta": [
          " C",
          " C",
          " C"
         ],
         "type": "scatterpolar"
        },
        {
         "hovertemplate": "PTS=%{r}<br>POSITION=%{theta}<extra></extra>",
         "legendgroup": "180",
         "line": {
          "color": "#46039f",
          "dash": "solid"
         },
         "mode": "lines",
         "name": "180",
         "r": [
          180,
          180
         ],
         "showlegend": true,
         "subplot": "polar",
         "theta": [
          " C",
          " C"
         ],
         "type": "scatterpolar"
        },
        {
         "hovertemplate": "PTS=%{r}<br>POSITION=%{theta}<extra></extra>",
         "legendgroup": "353",
         "line": {
          "color": "#0d0887",
          "dash": "solid"
         },
         "mode": "lines",
         "name": "353",
         "r": [
          353,
          353
         ],
         "showlegend": true,
         "subplot": "polar",
         "theta": [
          " C",
          " C"
         ],
         "type": "scatterpolar"
        },
        {
         "hovertemplate": "PTS=%{r}<br>POSITION=%{theta}<extra></extra>",
         "legendgroup": "0",
         "line": {
          "color": "#f0f921",
          "dash": "solid"
         },
         "mode": "lines",
         "name": "0",
         "r": [
          0,
          0,
          0,
          0,
          0
         ],
         "showlegend": true,
         "subplot": "polar",
         "theta": [
          " C",
          " C",
          " C",
          " C",
          " C"
         ],
         "type": "scatterpolar"
        },
        {
         "hovertemplate": "PTS=%{r}<br>POSITION=%{theta}<extra></extra>",
         "legendgroup": "3",
         "line": {
          "color": "#fdca26",
          "dash": "solid"
         },
         "mode": "lines",
         "name": "3",
         "r": [
          3,
          3
         ],
         "showlegend": true,
         "subplot": "polar",
         "theta": [
          " C",
          " C"
         ],
         "type": "scatterpolar"
        },
        {
         "hovertemplate": "PTS=%{r}<br>POSITION=%{theta}<extra></extra>",
         "legendgroup": "359",
         "line": {
          "color": "#fb9f3a",
          "dash": "solid"
         },
         "mode": "lines",
         "name": "359",
         "r": [
          359,
          359,
          359
         ],
         "showlegend": true,
         "subplot": "polar",
         "theta": [
          " C",
          " C",
          " C"
         ],
         "type": "scatterpolar"
        },
        {
         "hovertemplate": "PTS=%{r}<br>POSITION=%{theta}<extra></extra>",
         "legendgroup": "388",
         "line": {
          "color": "#ed7953",
          "dash": "solid"
         },
         "mode": "lines",
         "name": "388",
         "r": [
          388,
          388,
          388,
          388,
          388,
          388
         ],
         "showlegend": true,
         "subplot": "polar",
         "theta": [
          " SF",
          " SF",
          " SF",
          " SF",
          " SF",
          " SF"
         ],
         "type": "scatterpolar"
        },
        {
         "hovertemplate": "PTS=%{r}<br>POSITION=%{theta}<extra></extra>",
         "legendgroup": "1845",
         "line": {
          "color": "#d8576b",
          "dash": "solid"
         },
         "mode": "lines",
         "name": "1845",
         "r": [
          1845,
          1845,
          1845,
          1845,
          1845,
          1845,
          1845,
          1845,
          1845
         ],
         "showlegend": true,
         "subplot": "polar",
         "theta": [
          " PF",
          " PF",
          " PF",
          " PF",
          " PF",
          " PF",
          " PF",
          " PF",
          " PF"
         ],
         "type": "scatterpolar"
        },
        {
         "hovertemplate": "PTS=%{r}<br>POSITION=%{theta}<extra></extra>",
         "legendgroup": "1143",
         "line": {
          "color": "#bd3786",
          "dash": "solid"
         },
         "mode": "lines",
         "name": "1143",
         "r": [
          1143,
          1143,
          1143
         ],
         "showlegend": true,
         "subplot": "polar",
         "theta": [
          " C",
          " C",
          " C"
         ],
         "type": "scatterpolar"
        },
        {
         "hovertemplate": "PTS=%{r}<br>POSITION=%{theta}<extra></extra>",
         "legendgroup": "1131",
         "line": {
          "color": "#9c179e",
          "dash": "solid"
         },
         "mode": "lines",
         "name": "1131",
         "r": [
          1131,
          1131,
          1131,
          1131
         ],
         "showlegend": true,
         "subplot": "polar",
         "theta": [
          " PG",
          " PG",
          " PG",
          " PG"
         ],
         "type": "scatterpolar"
        },
        {
         "hovertemplate": "PTS=%{r}<br>POSITION=%{theta}<extra></extra>",
         "legendgroup": "1399",
         "line": {
          "color": "#7201a8",
          "dash": "solid"
         },
         "mode": "lines",
         "name": "1399",
         "r": [
          1399,
          1399,
          1399,
          1399
         ],
         "showlegend": true,
         "subplot": "polar",
         "theta": [
          " PG",
          " PG",
          " PG",
          " PG"
         ],
         "type": "scatterpolar"
        },
        {
         "hovertemplate": "PTS=%{r}<br>POSITION=%{theta}<extra></extra>",
         "legendgroup": "769",
         "line": {
          "color": "#46039f",
          "dash": "solid"
         },
         "mode": "lines",
         "name": "769",
         "r": [
          769,
          769,
          769
         ],
         "showlegend": true,
         "subplot": "polar",
         "theta": [
          " SG",
          " SG",
          " SG"
         ],
         "type": "scatterpolar"
        },
        {
         "hovertemplate": "PTS=%{r}<br>POSITION=%{theta}<extra></extra>",
         "legendgroup": "587",
         "line": {
          "color": "#0d0887",
          "dash": "solid"
         },
         "mode": "lines",
         "name": "587",
         "r": [
          587,
          587,
          587,
          587,
          587,
          587
         ],
         "showlegend": true,
         "subplot": "polar",
         "theta": [
          " SG",
          " SG",
          " SG",
          " SF",
          " SF",
          " SG"
         ],
         "type": "scatterpolar"
        },
        {
         "hovertemplate": "PTS=%{r}<br>POSITION=%{theta}<extra></extra>",
         "legendgroup": "753",
         "line": {
          "color": "#f0f921",
          "dash": "solid"
         },
         "mode": "lines",
         "name": "753",
         "r": [
          753,
          753,
          753,
          753,
          753,
          753,
          753,
          753
         ],
         "showlegend": true,
         "subplot": "polar",
         "theta": [
          " SG",
          " SG",
          " SG",
          " SG",
          " SG",
          " SG",
          " SG",
          " SG"
         ],
         "type": "scatterpolar"
        },
        {
         "hovertemplate": "PTS=%{r}<br>POSITION=%{theta}<extra></extra>",
         "legendgroup": "461",
         "line": {
          "color": "#fdca26",
          "dash": "solid"
         },
         "mode": "lines",
         "name": "461",
         "r": [
          461,
          461,
          461,
          461,
          461
         ],
         "showlegend": true,
         "subplot": "polar",
         "theta": [
          " C",
          " C",
          " C",
          " C",
          " C"
         ],
         "type": "scatterpolar"
        },
        {
         "hovertemplate": "PTS=%{r}<br>POSITION=%{theta}<extra></extra>",
         "legendgroup": "662",
         "line": {
          "color": "#fb9f3a",
          "dash": "solid"
         },
         "mode": "lines",
         "name": "662",
         "r": [
          662,
          662,
          662,
          662,
          662
         ],
         "showlegend": true,
         "subplot": "polar",
         "theta": [
          " SF",
          " SF",
          " SF",
          " SF",
          " SF"
         ],
         "type": "scatterpolar"
        },
        {
         "hovertemplate": "PTS=%{r}<br>POSITION=%{theta}<extra></extra>",
         "legendgroup": "426",
         "line": {
          "color": "#ed7953",
          "dash": "solid"
         },
         "mode": "lines",
         "name": "426",
         "r": [
          426,
          426,
          426,
          426
         ],
         "showlegend": true,
         "subplot": "polar",
         "theta": [
          " SG",
          " SG",
          " SG",
          " SG"
         ],
         "type": "scatterpolar"
        },
        {
         "hovertemplate": "PTS=%{r}<br>POSITION=%{theta}<extra></extra>",
         "legendgroup": "1068",
         "line": {
          "color": "#d8576b",
          "dash": "solid"
         },
         "mode": "lines",
         "name": "1068",
         "r": [
          1068,
          1068,
          1068,
          1068,
          1068,
          1068,
          1068
         ],
         "showlegend": true,
         "subplot": "polar",
         "theta": [
          " C",
          " C",
          " C",
          " C",
          " C",
          " C",
          " C"
         ],
         "type": "scatterpolar"
        },
        {
         "hovertemplate": "PTS=%{r}<br>POSITION=%{theta}<extra></extra>",
         "legendgroup": "1256",
         "line": {
          "color": "#bd3786",
          "dash": "solid"
         },
         "mode": "lines",
         "name": "1256",
         "r": [
          1256,
          1256,
          1256,
          1256,
          1256,
          1256,
          1256,
          1256,
          1256
         ],
         "showlegend": true,
         "subplot": "polar",
         "theta": [
          " PG",
          " PG",
          " PG",
          " PG",
          " PG",
          " PG",
          " PG",
          " PG",
          " PG"
         ],
         "type": "scatterpolar"
        },
        {
         "hovertemplate": "PTS=%{r}<br>POSITION=%{theta}<extra></extra>",
         "legendgroup": "246",
         "line": {
          "color": "#9c179e",
          "dash": "solid"
         },
         "mode": "lines",
         "name": "246",
         "r": [
          246,
          246
         ],
         "showlegend": true,
         "subplot": "polar",
         "theta": [
          " PG",
          " PG"
         ],
         "type": "scatterpolar"
        },
        {
         "hovertemplate": "PTS=%{r}<br>POSITION=%{theta}<extra></extra>",
         "legendgroup": "1252",
         "line": {
          "color": "#7201a8",
          "dash": "solid"
         },
         "mode": "lines",
         "name": "1252",
         "r": [
          1252,
          1252,
          1252,
          1252,
          1252
         ],
         "showlegend": true,
         "subplot": "polar",
         "theta": [
          " SG",
          " SG",
          " SG",
          " SG",
          " SG"
         ],
         "type": "scatterpolar"
        },
        {
         "hovertemplate": "PTS=%{r}<br>POSITION=%{theta}<extra></extra>",
         "legendgroup": "1361",
         "line": {
          "color": "#46039f",
          "dash": "solid"
         },
         "mode": "lines",
         "name": "1361",
         "r": [
          1361,
          1361,
          1361,
          1361,
          1361,
          1361
         ],
         "showlegend": true,
         "subplot": "polar",
         "theta": [
          " PG",
          " PG",
          " PG",
          " PG",
          " PG",
          " PG"
         ],
         "type": "scatterpolar"
        },
        {
         "hovertemplate": "PTS=%{r}<br>POSITION=%{theta}<extra></extra>",
         "legendgroup": "899",
         "line": {
          "color": "#0d0887",
          "dash": "solid"
         },
         "mode": "lines",
         "name": "899",
         "r": [
          899,
          899,
          899,
          899,
          899,
          899,
          899,
          899,
          899
         ],
         "showlegend": true,
         "subplot": "polar",
         "theta": [
          " PF",
          " PF",
          " PF",
          " PF",
          " PF",
          " PF",
          " PF",
          " PF",
          " PF"
         ],
         "type": "scatterpolar"
        },
        {
         "hovertemplate": "PTS=%{r}<br>POSITION=%{theta}<extra></extra>",
         "legendgroup": "170",
         "line": {
          "color": "#f0f921",
          "dash": "solid"
         },
         "mode": "lines",
         "name": "170",
         "r": [
          170,
          170,
          170,
          170
         ],
         "showlegend": true,
         "subplot": "polar",
         "theta": [
          " PF",
          " PF",
          " PF",
          " PF"
         ],
         "type": "scatterpolar"
        },
        {
         "hovertemplate": "PTS=%{r}<br>POSITION=%{theta}<extra></extra>",
         "legendgroup": "975",
         "line": {
          "color": "#fdca26",
          "dash": "solid"
         },
         "mode": "lines",
         "name": "975",
         "r": [
          975,
          975,
          975,
          975,
          975,
          975,
          975,
          975,
          975
         ],
         "showlegend": true,
         "subplot": "polar",
         "theta": [
          " C",
          " C",
          " C",
          " C",
          " C",
          " C",
          " C",
          " C",
          " C"
         ],
         "type": "scatterpolar"
        },
        {
         "hovertemplate": "PTS=%{r}<br>POSITION=%{theta}<extra></extra>",
         "legendgroup": "487",
         "line": {
          "color": "#fb9f3a",
          "dash": "solid"
         },
         "mode": "lines",
         "name": "487",
         "r": [
          487,
          487,
          487
         ],
         "showlegend": true,
         "subplot": "polar",
         "theta": [
          " PF",
          " PF",
          " PF"
         ],
         "type": "scatterpolar"
        },
        {
         "hovertemplate": "PTS=%{r}<br>POSITION=%{theta}<extra></extra>",
         "legendgroup": "228",
         "line": {
          "color": "#ed7953",
          "dash": "solid"
         },
         "mode": "lines",
         "name": "228",
         "r": [
          228,
          228,
          228,
          228,
          228
         ],
         "showlegend": true,
         "subplot": "polar",
         "theta": [
          " C",
          " C",
          " C",
          " C",
          " C"
         ],
         "type": "scatterpolar"
        },
        {
         "hovertemplate": "PTS=%{r}<br>POSITION=%{theta}<extra></extra>",
         "legendgroup": "488",
         "line": {
          "color": "#d8576b",
          "dash": "solid"
         },
         "mode": "lines",
         "name": "488",
         "r": [
          488,
          488,
          488
         ],
         "showlegend": true,
         "subplot": "polar",
         "theta": [
          " C",
          " C",
          " C"
         ],
         "type": "scatterpolar"
        },
        {
         "hovertemplate": "PTS=%{r}<br>POSITION=%{theta}<extra></extra>",
         "legendgroup": "821",
         "line": {
          "color": "#bd3786",
          "dash": "solid"
         },
         "mode": "lines",
         "name": "821",
         "r": [
          821,
          821,
          821,
          821,
          821,
          821
         ],
         "showlegend": true,
         "subplot": "polar",
         "theta": [
          " PF",
          " PF",
          " PF",
          " PF",
          " PF",
          " PF"
         ],
         "type": "scatterpolar"
        },
        {
         "hovertemplate": "PTS=%{r}<br>POSITION=%{theta}<extra></extra>",
         "legendgroup": "1624",
         "line": {
          "color": "#9c179e",
          "dash": "solid"
         },
         "mode": "lines",
         "name": "1624",
         "r": [
          1624,
          1624,
          1624,
          1624,
          1624,
          1624,
          1624,
          1624,
          1624
         ],
         "showlegend": true,
         "subplot": "polar",
         "theta": [
          " SF",
          " SF",
          " SF",
          " SF",
          " SF",
          " SF",
          " SF",
          " SF",
          " SF"
         ],
         "type": "scatterpolar"
        },
        {
         "hovertemplate": "PTS=%{r}<br>POSITION=%{theta}<extra></extra>",
         "legendgroup": "498",
         "line": {
          "color": "#7201a8",
          "dash": "solid"
         },
         "mode": "lines",
         "name": "498",
         "r": [
          498,
          498,
          498,
          498,
          498
         ],
         "showlegend": true,
         "subplot": "polar",
         "theta": [
          " PG",
          " PG",
          " PG",
          " PG",
          " PG"
         ],
         "type": "scatterpolar"
        },
        {
         "hovertemplate": "PTS=%{r}<br>POSITION=%{theta}<extra></extra>",
         "legendgroup": "56",
         "line": {
          "color": "#46039f",
          "dash": "solid"
         },
         "mode": "lines",
         "name": "56",
         "r": [
          56,
          56,
          56,
          56
         ],
         "showlegend": true,
         "subplot": "polar",
         "theta": [
          " PG",
          " PG",
          " PG",
          " PG"
         ],
         "type": "scatterpolar"
        },
        {
         "hovertemplate": "PTS=%{r}<br>POSITION=%{theta}<extra></extra>",
         "legendgroup": "559",
         "line": {
          "color": "#0d0887",
          "dash": "solid"
         },
         "mode": "lines",
         "name": "559",
         "r": [
          559,
          559,
          559,
          559,
          559,
          559
         ],
         "showlegend": true,
         "subplot": "polar",
         "theta": [
          " PF",
          " PF",
          " PF",
          " PF",
          " PF",
          " PF"
         ],
         "type": "scatterpolar"
        },
        {
         "hovertemplate": "PTS=%{r}<br>POSITION=%{theta}<extra></extra>",
         "legendgroup": "501",
         "line": {
          "color": "#f0f921",
          "dash": "solid"
         },
         "mode": "lines",
         "name": "501",
         "r": [
          501,
          501
         ],
         "showlegend": true,
         "subplot": "polar",
         "theta": [
          " PG",
          " PG"
         ],
         "type": "scatterpolar"
        },
        {
         "hovertemplate": "PTS=%{r}<br>POSITION=%{theta}<extra></extra>",
         "legendgroup": "955",
         "line": {
          "color": "#fdca26",
          "dash": "solid"
         },
         "mode": "lines",
         "name": "955",
         "r": [
          955,
          955,
          955
         ],
         "showlegend": true,
         "subplot": "polar",
         "theta": [
          " SG",
          " SG",
          " SG"
         ],
         "type": "scatterpolar"
        },
        {
         "hovertemplate": "PTS=%{r}<br>POSITION=%{theta}<extra></extra>",
         "legendgroup": "565",
         "line": {
          "color": "#fb9f3a",
          "dash": "solid"
         },
         "mode": "lines",
         "name": "565",
         "r": [
          565,
          565,
          565,
          565,
          565,
          565,
          565,
          565,
          565,
          565
         ],
         "showlegend": true,
         "subplot": "polar",
         "theta": [
          " PF",
          " PF",
          " PF",
          " PF",
          " PF",
          " PF",
          " PF",
          " PF",
          " PF",
          " PF"
         ],
         "type": "scatterpolar"
        },
        {
         "hovertemplate": "PTS=%{r}<br>POSITION=%{theta}<extra></extra>",
         "legendgroup": "846",
         "line": {
          "color": "#ed7953",
          "dash": "solid"
         },
         "mode": "lines",
         "name": "846",
         "r": [
          846,
          846,
          846,
          846,
          846,
          846
         ],
         "showlegend": true,
         "subplot": "polar",
         "theta": [
          " SF",
          " SF",
          " SF",
          " SF",
          " SF",
          " SF"
         ],
         "type": "scatterpolar"
        },
        {
         "hovertemplate": "PTS=%{r}<br>POSITION=%{theta}<extra></extra>",
         "legendgroup": "1258",
         "line": {
          "color": "#d8576b",
          "dash": "solid"
         },
         "mode": "lines",
         "name": "1258",
         "r": [
          1258,
          1258,
          1258,
          1258,
          1258,
          1258,
          1258,
          1258,
          1258,
          1258,
          1258,
          1258
         ],
         "showlegend": true,
         "subplot": "polar",
         "theta": [
          " PG",
          " PG",
          " PG",
          " PG",
          " PG",
          " PG",
          " PG",
          " PG",
          " PG",
          " PG",
          " PG",
          " PG"
         ],
         "type": "scatterpolar"
        },
        {
         "hovertemplate": "PTS=%{r}<br>POSITION=%{theta}<extra></extra>",
         "legendgroup": "345",
         "line": {
          "color": "#bd3786",
          "dash": "solid"
         },
         "mode": "lines",
         "name": "345",
         "r": [
          345,
          345,
          345,
          345
         ],
         "showlegend": true,
         "subplot": "polar",
         "theta": [
          " PF",
          " PF",
          " PF",
          " PF"
         ],
         "type": "scatterpolar"
        },
        {
         "hovertemplate": "PTS=%{r}<br>POSITION=%{theta}<extra></extra>",
         "legendgroup": "74",
         "line": {
          "color": "#9c179e",
          "dash": "solid"
         },
         "mode": "lines",
         "name": "74",
         "r": [
          74,
          74,
          74,
          74,
          74
         ],
         "showlegend": true,
         "subplot": "polar",
         "theta": [
          " C",
          " C",
          " C",
          " C",
          " C"
         ],
         "type": "scatterpolar"
        },
        {
         "hovertemplate": "PTS=%{r}<br>POSITION=%{theta}<extra></extra>",
         "legendgroup": "864",
         "line": {
          "color": "#7201a8",
          "dash": "solid"
         },
         "mode": "lines",
         "name": "864",
         "r": [
          864,
          864,
          864,
          864,
          864,
          864,
          864
         ],
         "showlegend": true,
         "subplot": "polar",
         "theta": [
          " PG",
          " PG",
          " PG",
          " PG",
          " PG",
          " PG",
          " PG"
         ],
         "type": "scatterpolar"
        },
        {
         "hovertemplate": "PTS=%{r}<br>POSITION=%{theta}<extra></extra>",
         "legendgroup": "768",
         "line": {
          "color": "#46039f",
          "dash": "solid"
         },
         "mode": "lines",
         "name": "768",
         "r": [
          768,
          768,
          768,
          768,
          768
         ],
         "showlegend": true,
         "subplot": "polar",
         "theta": [
          " C",
          " C",
          " C",
          " C",
          " C"
         ],
         "type": "scatterpolar"
        },
        {
         "hovertemplate": "PTS=%{r}<br>POSITION=%{theta}<extra></extra>",
         "legendgroup": "463",
         "line": {
          "color": "#0d0887",
          "dash": "solid"
         },
         "mode": "lines",
         "name": "463",
         "r": [
          463,
          463
         ],
         "showlegend": true,
         "subplot": "polar",
         "theta": [
          " F",
          " F"
         ],
         "type": "scatterpolar"
        },
        {
         "hovertemplate": "PTS=%{r}<br>POSITION=%{theta}<extra></extra>",
         "legendgroup": "981",
         "line": {
          "color": "#f0f921",
          "dash": "solid"
         },
         "mode": "lines",
         "name": "981",
         "r": [
          981,
          981,
          981,
          981,
          981,
          981,
          981,
          981,
          981,
          981
         ],
         "showlegend": true,
         "subplot": "polar",
         "theta": [
          " C",
          " C",
          " C",
          " C",
          " C",
          " C",
          " C",
          " C",
          " C",
          " C"
         ],
         "type": "scatterpolar"
        },
        {
         "hovertemplate": "PTS=%{r}<br>POSITION=%{theta}<extra></extra>",
         "legendgroup": "475",
         "line": {
          "color": "#fdca26",
          "dash": "solid"
         },
         "mode": "lines",
         "name": "475",
         "r": [
          475,
          475,
          475,
          475,
          475,
          475
         ],
         "showlegend": true,
         "subplot": "polar",
         "theta": [
          " C",
          " C",
          " C",
          " C",
          " C",
          " C"
         ],
         "type": "scatterpolar"
        },
        {
         "hovertemplate": "PTS=%{r}<br>POSITION=%{theta}<extra></extra>",
         "legendgroup": "741",
         "line": {
          "color": "#fb9f3a",
          "dash": "solid"
         },
         "mode": "lines",
         "name": "741",
         "r": [
          741,
          741,
          741,
          741,
          741,
          741,
          741
         ],
         "showlegend": true,
         "subplot": "polar",
         "theta": [
          " SG",
          " SG",
          " SG",
          " SG",
          " SG",
          " SG",
          " SG"
         ],
         "type": "scatterpolar"
        },
        {
         "hovertemplate": "PTS=%{r}<br>POSITION=%{theta}<extra></extra>",
         "legendgroup": "131",
         "line": {
          "color": "#ed7953",
          "dash": "solid"
         },
         "mode": "lines",
         "name": "131",
         "r": [
          131,
          131
         ],
         "showlegend": true,
         "subplot": "polar",
         "theta": [
          " SG",
          " SG"
         ],
         "type": "scatterpolar"
        },
        {
         "hovertemplate": "PTS=%{r}<br>POSITION=%{theta}<extra></extra>",
         "legendgroup": "715",
         "line": {
          "color": "#d8576b",
          "dash": "solid"
         },
         "mode": "lines",
         "name": "715",
         "r": [
          715,
          715,
          715,
          715
         ],
         "showlegend": true,
         "subplot": "polar",
         "theta": [
          " PF",
          " PF",
          " PF",
          " PF"
         ],
         "type": "scatterpolar"
        },
        {
         "hovertemplate": "PTS=%{r}<br>POSITION=%{theta}<extra></extra>",
         "legendgroup": "1235",
         "line": {
          "color": "#bd3786",
          "dash": "solid"
         },
         "mode": "lines",
         "name": "1235",
         "r": [
          1235,
          1235
         ],
         "showlegend": true,
         "subplot": "polar",
         "theta": [
          " SG",
          " SG"
         ],
         "type": "scatterpolar"
        },
        {
         "hovertemplate": "PTS=%{r}<br>POSITION=%{theta}<extra></extra>",
         "legendgroup": "711",
         "line": {
          "color": "#9c179e",
          "dash": "solid"
         },
         "mode": "lines",
         "name": "711",
         "r": [
          711,
          711,
          711,
          711,
          711
         ],
         "showlegend": true,
         "subplot": "polar",
         "theta": [
          " F",
          " F",
          " F",
          " F",
          " F"
         ],
         "type": "scatterpolar"
        },
        {
         "hovertemplate": "PTS=%{r}<br>POSITION=%{theta}<extra></extra>",
         "legendgroup": "1105",
         "line": {
          "color": "#7201a8",
          "dash": "solid"
         },
         "mode": "lines",
         "name": "1105",
         "r": [
          1105,
          1105,
          1105,
          1105
         ],
         "showlegend": true,
         "subplot": "polar",
         "theta": [
          " C",
          " C",
          " C",
          " C"
         ],
         "type": "scatterpolar"
        },
        {
         "hovertemplate": "PTS=%{r}<br>POSITION=%{theta}<extra></extra>",
         "legendgroup": "499",
         "line": {
          "color": "#46039f",
          "dash": "solid"
         },
         "mode": "lines",
         "name": "499",
         "r": [
          499,
          499
         ],
         "showlegend": true,
         "subplot": "polar",
         "theta": [
          " C",
          " C"
         ],
         "type": "scatterpolar"
        },
        {
         "hovertemplate": "PTS=%{r}<br>POSITION=%{theta}<extra></extra>",
         "legendgroup": "991",
         "line": {
          "color": "#0d0887",
          "dash": "solid"
         },
         "mode": "lines",
         "name": "991",
         "r": [
          991,
          991,
          991,
          991,
          991,
          991,
          991,
          991,
          991,
          991,
          991
         ],
         "showlegend": true,
         "subplot": "polar",
         "theta": [
          " G",
          " G",
          " G",
          " G",
          " G",
          " G",
          " G",
          " G",
          " G",
          " G",
          " G"
         ],
         "type": "scatterpolar"
        },
        {
         "hovertemplate": "PTS=%{r}<br>POSITION=%{theta}<extra></extra>",
         "legendgroup": "861",
         "line": {
          "color": "#f0f921",
          "dash": "solid"
         },
         "mode": "lines",
         "name": "861",
         "r": [
          861,
          861,
          861,
          861,
          861,
          861,
          861,
          861,
          861,
          861,
          861
         ],
         "showlegend": true,
         "subplot": "polar",
         "theta": [
          " PF",
          " PF",
          " PF",
          " PF",
          " PF",
          " PF",
          " PF",
          " PF",
          " PF",
          " PF",
          " PF"
         ],
         "type": "scatterpolar"
        },
        {
         "hovertemplate": "PTS=%{r}<br>POSITION=%{theta}<extra></extra>",
         "legendgroup": "1654",
         "line": {
          "color": "#fdca26",
          "dash": "solid"
         },
         "mode": "lines",
         "name": "1654",
         "r": [
          1654,
          1654,
          1654,
          1654,
          1654,
          1654,
          1654,
          1654,
          1654,
          1654,
          1654,
          1654,
          1654
         ],
         "showlegend": true,
         "subplot": "polar",
         "theta": [
          " SF",
          " SF",
          " SF",
          " SF",
          " SF",
          " SF",
          " SF",
          " SF",
          " SF",
          " SF",
          " SF",
          " SF",
          " SF"
         ],
         "type": "scatterpolar"
        },
        {
         "hovertemplate": "PTS=%{r}<br>POSITION=%{theta}<extra></extra>",
         "legendgroup": "1725",
         "line": {
          "color": "#fb9f3a",
          "dash": "solid"
         },
         "mode": "lines",
         "name": "1725",
         "r": [
          1725,
          1725,
          1725,
          1725,
          1725,
          1725,
          1725,
          1725,
          1725,
          1725,
          1725,
          1725
         ],
         "showlegend": true,
         "subplot": "polar",
         "theta": [
          " PF",
          " PF",
          " PF",
          " PF",
          " PF",
          " PF",
          " PF",
          " PF",
          " PF",
          " PF",
          " PF",
          " PF"
         ],
         "type": "scatterpolar"
        },
        {
         "hovertemplate": "PTS=%{r}<br>POSITION=%{theta}<extra></extra>",
         "legendgroup": "810",
         "line": {
          "color": "#ed7953",
          "dash": "solid"
         },
         "mode": "lines",
         "name": "810",
         "r": [
          810,
          810,
          810,
          810,
          810,
          810,
          810,
          810
         ],
         "showlegend": true,
         "subplot": "polar",
         "theta": [
          " PF",
          " PF",
          " PF",
          " PF",
          " PF",
          " PF",
          " PF",
          " PF"
         ],
         "type": "scatterpolar"
        },
        {
         "hovertemplate": "PTS=%{r}<br>POSITION=%{theta}<extra></extra>",
         "legendgroup": "1104",
         "line": {
          "color": "#d8576b",
          "dash": "solid"
         },
         "mode": "lines",
         "name": "1104",
         "r": [
          1104,
          1104,
          1104,
          1104,
          1104,
          1104
         ],
         "showlegend": true,
         "subplot": "polar",
         "theta": [
          " C",
          " C",
          " C",
          " C",
          " C",
          " C"
         ],
         "type": "scatterpolar"
        },
        {
         "hovertemplate": "PTS=%{r}<br>POSITION=%{theta}<extra></extra>",
         "legendgroup": "742",
         "line": {
          "color": "#bd3786",
          "dash": "solid"
         },
         "mode": "lines",
         "name": "742",
         "r": [
          742,
          742,
          742,
          742,
          742
         ],
         "showlegend": true,
         "subplot": "polar",
         "theta": [
          " F",
          " F",
          " F",
          " F",
          " F"
         ],
         "type": "scatterpolar"
        },
        {
         "hovertemplate": "PTS=%{r}<br>POSITION=%{theta}<extra></extra>",
         "legendgroup": "436",
         "line": {
          "color": "#9c179e",
          "dash": "solid"
         },
         "mode": "lines",
         "name": "436",
         "r": [
          436,
          436,
          436,
          436,
          436,
          436
         ],
         "showlegend": true,
         "subplot": "polar",
         "theta": [
          " C",
          " C",
          " C",
          " C",
          " C",
          " C"
         ],
         "type": "scatterpolar"
        },
        {
         "hovertemplate": "PTS=%{r}<br>POSITION=%{theta}<extra></extra>",
         "legendgroup": "880",
         "line": {
          "color": "#7201a8",
          "dash": "solid"
         },
         "mode": "lines",
         "name": "880",
         "r": [
          880,
          880,
          880,
          880,
          880,
          880,
          880,
          880
         ],
         "showlegend": true,
         "subplot": "polar",
         "theta": [
          " SF",
          " SF",
          " SF",
          " SF",
          " SF",
          " SF",
          " SF",
          " SF"
         ],
         "type": "scatterpolar"
        },
        {
         "hovertemplate": "PTS=%{r}<br>POSITION=%{theta}<extra></extra>",
         "legendgroup": "705",
         "line": {
          "color": "#46039f",
          "dash": "solid"
         },
         "mode": "lines",
         "name": "705",
         "r": [
          705,
          705,
          705,
          705,
          705,
          705,
          705
         ],
         "showlegend": true,
         "subplot": "polar",
         "theta": [
          " G",
          " G",
          " G",
          " G",
          " G",
          " G",
          " G"
         ],
         "type": "scatterpolar"
        },
        {
         "hovertemplate": "PTS=%{r}<br>POSITION=%{theta}<extra></extra>",
         "legendgroup": "581",
         "line": {
          "color": "#0d0887",
          "dash": "solid"
         },
         "mode": "lines",
         "name": "581",
         "r": [
          581,
          581,
          581,
          581,
          581,
          581,
          581,
          581,
          581,
          581,
          581
         ],
         "showlegend": true,
         "subplot": "polar",
         "theta": [
          " G",
          " G",
          " G",
          " G",
          " G",
          " G",
          " G",
          " G",
          " G",
          " G",
          " G"
         ],
         "type": "scatterpolar"
        },
        {
         "hovertemplate": "PTS=%{r}<br>POSITION=%{theta}<extra></extra>",
         "legendgroup": "51",
         "line": {
          "color": "#f0f921",
          "dash": "solid"
         },
         "mode": "lines",
         "name": "51",
         "r": [
          51,
          51
         ],
         "showlegend": true,
         "subplot": "polar",
         "theta": [
          " C",
          " C"
         ],
         "type": "scatterpolar"
        },
        {
         "hovertemplate": "PTS=%{r}<br>POSITION=%{theta}<extra></extra>",
         "legendgroup": "114",
         "line": {
          "color": "#fdca26",
          "dash": "solid"
         },
         "mode": "lines",
         "name": "114",
         "r": [
          114,
          114,
          114,
          114,
          114,
          114,
          114,
          114,
          114,
          114,
          114
         ],
         "showlegend": true,
         "subplot": "polar",
         "theta": [
          " F",
          " F",
          " F",
          " F",
          " F",
          " F",
          " F",
          " F",
          " F",
          " F",
          " F"
         ],
         "type": "scatterpolar"
        },
        {
         "hovertemplate": "PTS=%{r}<br>POSITION=%{theta}<extra></extra>",
         "legendgroup": "277",
         "line": {
          "color": "#fb9f3a",
          "dash": "solid"
         },
         "mode": "lines",
         "name": "277",
         "r": [
          277,
          277,
          277,
          277,
          277,
          277,
          277,
          277,
          277,
          277,
          277
         ],
         "showlegend": true,
         "subplot": "polar",
         "theta": [
          " G",
          " G",
          " G",
          " G",
          " G",
          " G",
          " G",
          " G",
          " G",
          " G",
          " G"
         ],
         "type": "scatterpolar"
        },
        {
         "hovertemplate": "PTS=%{r}<br>POSITION=%{theta}<extra></extra>",
         "legendgroup": "511",
         "line": {
          "color": "#ed7953",
          "dash": "solid"
         },
         "mode": "lines",
         "name": "511",
         "r": [
          511,
          511,
          511,
          511,
          511,
          511
         ],
         "showlegend": true,
         "subplot": "polar",
         "theta": [
          " PG",
          " PG",
          " PG",
          " PG",
          " PG",
          " PG"
         ],
         "type": "scatterpolar"
        },
        {
         "hovertemplate": "PTS=%{r}<br>POSITION=%{theta}<extra></extra>",
         "legendgroup": "1151",
         "line": {
          "color": "#d8576b",
          "dash": "solid"
         },
         "mode": "lines",
         "name": "1151",
         "r": [
          1151,
          1151,
          1151
         ],
         "showlegend": true,
         "subplot": "polar",
         "theta": [
          " SG",
          " SG",
          " SG"
         ],
         "type": "scatterpolar"
        },
        {
         "hovertemplate": "PTS=%{r}<br>POSITION=%{theta}<extra></extra>",
         "legendgroup": "1441",
         "line": {
          "color": "#bd3786",
          "dash": "solid"
         },
         "mode": "lines",
         "name": "1441",
         "r": [
          1441,
          1441,
          1441,
          1441,
          1441,
          1441,
          1441,
          1441,
          1441,
          1441
         ],
         "showlegend": true,
         "subplot": "polar",
         "theta": [
          " PF",
          " PF",
          " PF",
          " PF",
          " PF",
          " PF",
          " PF",
          " PF",
          " PF",
          " PF"
         ],
         "type": "scatterpolar"
        },
        {
         "hovertemplate": "PTS=%{r}<br>POSITION=%{theta}<extra></extra>",
         "legendgroup": "13",
         "line": {
          "color": "#9c179e",
          "dash": "solid"
         },
         "mode": "lines",
         "name": "13",
         "r": [
          13,
          13,
          13,
          13,
          13,
          13,
          13
         ],
         "showlegend": true,
         "subplot": "polar",
         "theta": [
          " SG",
          " SG",
          " SG",
          " SG",
          " SG",
          " SG",
          " SG"
         ],
         "type": "scatterpolar"
        },
        {
         "hovertemplate": "PTS=%{r}<br>POSITION=%{theta}<extra></extra>",
         "legendgroup": "814",
         "line": {
          "color": "#7201a8",
          "dash": "solid"
         },
         "mode": "lines",
         "name": "814",
         "r": [
          814,
          814,
          814,
          814,
          814,
          814,
          814
         ],
         "showlegend": true,
         "subplot": "polar",
         "theta": [
          " PF",
          " PF",
          " PF",
          " PF",
          " PF",
          " PF",
          " PF"
         ],
         "type": "scatterpolar"
        }
       ],
       "layout": {
        "legend": {
         "title": {
          "text": "PTS"
         },
         "tracegroupgap": 0
        },
        "margin": {
         "t": 60
        },
        "polar": {
         "angularaxis": {
          "direction": "clockwise",
          "rotation": 90
         },
         "domain": {
          "x": [
           0,
           1
          ],
          "y": [
           0,
           1
          ]
         },
         "radialaxis": {
          "categoryarray": [
           627,
           1028,
           1503,
           796,
           1048,
           1054,
           190,
           1387,
           243,
           265,
           32,
           525,
           78,
           104,
           33,
           201,
           1106,
           780,
           227,
           867,
           165,
           1562,
           748,
           476,
           826,
           494,
           304,
           283,
           799,
           507,
           140,
           944,
           599,
           208,
           109,
           543,
           533,
           751,
           180,
           353,
           0,
           3,
           359,
           388,
           1845,
           1143,
           1131,
           1399,
           769,
           587,
           753,
           461,
           662,
           426,
           1068,
           1256,
           246,
           1252,
           1361,
           899,
           170,
           975,
           487,
           228,
           488,
           821,
           1624,
           498,
           56,
           559,
           501,
           955,
           565,
           846,
           1258,
           345,
           74,
           864,
           768,
           463,
           981,
           475,
           741,
           131,
           715,
           1235,
           711,
           1105,
           499,
           991,
           861,
           1654,
           1725,
           810,
           1104,
           742,
           436,
           880,
           705,
           581,
           51,
           114,
           277,
           511,
           1151,
           1441,
           13,
           814
          ],
          "categoryorder": "array"
         }
        },
        "template": {
         "data": {
          "bar": [
           {
            "error_x": {
             "color": "#f2f5fa"
            },
            "error_y": {
             "color": "#f2f5fa"
            },
            "marker": {
             "line": {
              "color": "rgb(17,17,17)",
              "width": 0.5
             }
            },
            "type": "bar"
           }
          ],
          "barpolar": [
           {
            "marker": {
             "line": {
              "color": "rgb(17,17,17)",
              "width": 0.5
             }
            },
            "type": "barpolar"
           }
          ],
          "carpet": [
           {
            "aaxis": {
             "endlinecolor": "#A2B1C6",
             "gridcolor": "#506784",
             "linecolor": "#506784",
             "minorgridcolor": "#506784",
             "startlinecolor": "#A2B1C6"
            },
            "baxis": {
             "endlinecolor": "#A2B1C6",
             "gridcolor": "#506784",
             "linecolor": "#506784",
             "minorgridcolor": "#506784",
             "startlinecolor": "#A2B1C6"
            },
            "type": "carpet"
           }
          ],
          "choropleth": [
           {
            "colorbar": {
             "outlinewidth": 0,
             "ticks": ""
            },
            "type": "choropleth"
           }
          ],
          "contour": [
           {
            "colorbar": {
             "outlinewidth": 0,
             "ticks": ""
            },
            "colorscale": [
             [
              0,
              "#0d0887"
             ],
             [
              0.1111111111111111,
              "#46039f"
             ],
             [
              0.2222222222222222,
              "#7201a8"
             ],
             [
              0.3333333333333333,
              "#9c179e"
             ],
             [
              0.4444444444444444,
              "#bd3786"
             ],
             [
              0.5555555555555556,
              "#d8576b"
             ],
             [
              0.6666666666666666,
              "#ed7953"
             ],
             [
              0.7777777777777778,
              "#fb9f3a"
             ],
             [
              0.8888888888888888,
              "#fdca26"
             ],
             [
              1,
              "#f0f921"
             ]
            ],
            "type": "contour"
           }
          ],
          "contourcarpet": [
           {
            "colorbar": {
             "outlinewidth": 0,
             "ticks": ""
            },
            "type": "contourcarpet"
           }
          ],
          "heatmap": [
           {
            "colorbar": {
             "outlinewidth": 0,
             "ticks": ""
            },
            "colorscale": [
             [
              0,
              "#0d0887"
             ],
             [
              0.1111111111111111,
              "#46039f"
             ],
             [
              0.2222222222222222,
              "#7201a8"
             ],
             [
              0.3333333333333333,
              "#9c179e"
             ],
             [
              0.4444444444444444,
              "#bd3786"
             ],
             [
              0.5555555555555556,
              "#d8576b"
             ],
             [
              0.6666666666666666,
              "#ed7953"
             ],
             [
              0.7777777777777778,
              "#fb9f3a"
             ],
             [
              0.8888888888888888,
              "#fdca26"
             ],
             [
              1,
              "#f0f921"
             ]
            ],
            "type": "heatmap"
           }
          ],
          "heatmapgl": [
           {
            "colorbar": {
             "outlinewidth": 0,
             "ticks": ""
            },
            "colorscale": [
             [
              0,
              "#0d0887"
             ],
             [
              0.1111111111111111,
              "#46039f"
             ],
             [
              0.2222222222222222,
              "#7201a8"
             ],
             [
              0.3333333333333333,
              "#9c179e"
             ],
             [
              0.4444444444444444,
              "#bd3786"
             ],
             [
              0.5555555555555556,
              "#d8576b"
             ],
             [
              0.6666666666666666,
              "#ed7953"
             ],
             [
              0.7777777777777778,
              "#fb9f3a"
             ],
             [
              0.8888888888888888,
              "#fdca26"
             ],
             [
              1,
              "#f0f921"
             ]
            ],
            "type": "heatmapgl"
           }
          ],
          "histogram": [
           {
            "marker": {
             "colorbar": {
              "outlinewidth": 0,
              "ticks": ""
             }
            },
            "type": "histogram"
           }
          ],
          "histogram2d": [
           {
            "colorbar": {
             "outlinewidth": 0,
             "ticks": ""
            },
            "colorscale": [
             [
              0,
              "#0d0887"
             ],
             [
              0.1111111111111111,
              "#46039f"
             ],
             [
              0.2222222222222222,
              "#7201a8"
             ],
             [
              0.3333333333333333,
              "#9c179e"
             ],
             [
              0.4444444444444444,
              "#bd3786"
             ],
             [
              0.5555555555555556,
              "#d8576b"
             ],
             [
              0.6666666666666666,
              "#ed7953"
             ],
             [
              0.7777777777777778,
              "#fb9f3a"
             ],
             [
              0.8888888888888888,
              "#fdca26"
             ],
             [
              1,
              "#f0f921"
             ]
            ],
            "type": "histogram2d"
           }
          ],
          "histogram2dcontour": [
           {
            "colorbar": {
             "outlinewidth": 0,
             "ticks": ""
            },
            "colorscale": [
             [
              0,
              "#0d0887"
             ],
             [
              0.1111111111111111,
              "#46039f"
             ],
             [
              0.2222222222222222,
              "#7201a8"
             ],
             [
              0.3333333333333333,
              "#9c179e"
             ],
             [
              0.4444444444444444,
              "#bd3786"
             ],
             [
              0.5555555555555556,
              "#d8576b"
             ],
             [
              0.6666666666666666,
              "#ed7953"
             ],
             [
              0.7777777777777778,
              "#fb9f3a"
             ],
             [
              0.8888888888888888,
              "#fdca26"
             ],
             [
              1,
              "#f0f921"
             ]
            ],
            "type": "histogram2dcontour"
           }
          ],
          "mesh3d": [
           {
            "colorbar": {
             "outlinewidth": 0,
             "ticks": ""
            },
            "type": "mesh3d"
           }
          ],
          "parcoords": [
           {
            "line": {
             "colorbar": {
              "outlinewidth": 0,
              "ticks": ""
             }
            },
            "type": "parcoords"
           }
          ],
          "pie": [
           {
            "automargin": true,
            "type": "pie"
           }
          ],
          "scatter": [
           {
            "marker": {
             "line": {
              "color": "#283442"
             }
            },
            "type": "scatter"
           }
          ],
          "scatter3d": [
           {
            "line": {
             "colorbar": {
              "outlinewidth": 0,
              "ticks": ""
             }
            },
            "marker": {
             "colorbar": {
              "outlinewidth": 0,
              "ticks": ""
             }
            },
            "type": "scatter3d"
           }
          ],
          "scattercarpet": [
           {
            "marker": {
             "colorbar": {
              "outlinewidth": 0,
              "ticks": ""
             }
            },
            "type": "scattercarpet"
           }
          ],
          "scattergeo": [
           {
            "marker": {
             "colorbar": {
              "outlinewidth": 0,
              "ticks": ""
             }
            },
            "type": "scattergeo"
           }
          ],
          "scattergl": [
           {
            "marker": {
             "line": {
              "color": "#283442"
             }
            },
            "type": "scattergl"
           }
          ],
          "scattermapbox": [
           {
            "marker": {
             "colorbar": {
              "outlinewidth": 0,
              "ticks": ""
             }
            },
            "type": "scattermapbox"
           }
          ],
          "scatterpolar": [
           {
            "marker": {
             "colorbar": {
              "outlinewidth": 0,
              "ticks": ""
             }
            },
            "type": "scatterpolar"
           }
          ],
          "scatterpolargl": [
           {
            "marker": {
             "colorbar": {
              "outlinewidth": 0,
              "ticks": ""
             }
            },
            "type": "scatterpolargl"
           }
          ],
          "scatterternary": [
           {
            "marker": {
             "colorbar": {
              "outlinewidth": 0,
              "ticks": ""
             }
            },
            "type": "scatterternary"
           }
          ],
          "surface": [
           {
            "colorbar": {
             "outlinewidth": 0,
             "ticks": ""
            },
            "colorscale": [
             [
              0,
              "#0d0887"
             ],
             [
              0.1111111111111111,
              "#46039f"
             ],
             [
              0.2222222222222222,
              "#7201a8"
             ],
             [
              0.3333333333333333,
              "#9c179e"
             ],
             [
              0.4444444444444444,
              "#bd3786"
             ],
             [
              0.5555555555555556,
              "#d8576b"
             ],
             [
              0.6666666666666666,
              "#ed7953"
             ],
             [
              0.7777777777777778,
              "#fb9f3a"
             ],
             [
              0.8888888888888888,
              "#fdca26"
             ],
             [
              1,
              "#f0f921"
             ]
            ],
            "type": "surface"
           }
          ],
          "table": [
           {
            "cells": {
             "fill": {
              "color": "#506784"
             },
             "line": {
              "color": "rgb(17,17,17)"
             }
            },
            "header": {
             "fill": {
              "color": "#2a3f5f"
             },
             "line": {
              "color": "rgb(17,17,17)"
             }
            },
            "type": "table"
           }
          ]
         },
         "layout": {
          "annotationdefaults": {
           "arrowcolor": "#f2f5fa",
           "arrowhead": 0,
           "arrowwidth": 1
          },
          "coloraxis": {
           "colorbar": {
            "outlinewidth": 0,
            "ticks": ""
           }
          },
          "colorscale": {
           "diverging": [
            [
             0,
             "#8e0152"
            ],
            [
             0.1,
             "#c51b7d"
            ],
            [
             0.2,
             "#de77ae"
            ],
            [
             0.3,
             "#f1b6da"
            ],
            [
             0.4,
             "#fde0ef"
            ],
            [
             0.5,
             "#f7f7f7"
            ],
            [
             0.6,
             "#e6f5d0"
            ],
            [
             0.7,
             "#b8e186"
            ],
            [
             0.8,
             "#7fbc41"
            ],
            [
             0.9,
             "#4d9221"
            ],
            [
             1,
             "#276419"
            ]
           ],
           "sequential": [
            [
             0,
             "#0d0887"
            ],
            [
             0.1111111111111111,
             "#46039f"
            ],
            [
             0.2222222222222222,
             "#7201a8"
            ],
            [
             0.3333333333333333,
             "#9c179e"
            ],
            [
             0.4444444444444444,
             "#bd3786"
            ],
            [
             0.5555555555555556,
             "#d8576b"
            ],
            [
             0.6666666666666666,
             "#ed7953"
            ],
            [
             0.7777777777777778,
             "#fb9f3a"
            ],
            [
             0.8888888888888888,
             "#fdca26"
            ],
            [
             1,
             "#f0f921"
            ]
           ],
           "sequentialminus": [
            [
             0,
             "#0d0887"
            ],
            [
             0.1111111111111111,
             "#46039f"
            ],
            [
             0.2222222222222222,
             "#7201a8"
            ],
            [
             0.3333333333333333,
             "#9c179e"
            ],
            [
             0.4444444444444444,
             "#bd3786"
            ],
            [
             0.5555555555555556,
             "#d8576b"
            ],
            [
             0.6666666666666666,
             "#ed7953"
            ],
            [
             0.7777777777777778,
             "#fb9f3a"
            ],
            [
             0.8888888888888888,
             "#fdca26"
            ],
            [
             1,
             "#f0f921"
            ]
           ]
          },
          "colorway": [
           "#636efa",
           "#EF553B",
           "#00cc96",
           "#ab63fa",
           "#FFA15A",
           "#19d3f3",
           "#FF6692",
           "#B6E880",
           "#FF97FF",
           "#FECB52"
          ],
          "font": {
           "color": "#f2f5fa"
          },
          "geo": {
           "bgcolor": "rgb(17,17,17)",
           "lakecolor": "rgb(17,17,17)",
           "landcolor": "rgb(17,17,17)",
           "showlakes": true,
           "showland": true,
           "subunitcolor": "#506784"
          },
          "hoverlabel": {
           "align": "left"
          },
          "hovermode": "closest",
          "mapbox": {
           "style": "dark"
          },
          "paper_bgcolor": "rgb(17,17,17)",
          "plot_bgcolor": "rgb(17,17,17)",
          "polar": {
           "angularaxis": {
            "gridcolor": "#506784",
            "linecolor": "#506784",
            "ticks": ""
           },
           "bgcolor": "rgb(17,17,17)",
           "radialaxis": {
            "gridcolor": "#506784",
            "linecolor": "#506784",
            "ticks": ""
           }
          },
          "scene": {
           "xaxis": {
            "backgroundcolor": "rgb(17,17,17)",
            "gridcolor": "#506784",
            "gridwidth": 2,
            "linecolor": "#506784",
            "showbackground": true,
            "ticks": "",
            "zerolinecolor": "#C8D4E3"
           },
           "yaxis": {
            "backgroundcolor": "rgb(17,17,17)",
            "gridcolor": "#506784",
            "gridwidth": 2,
            "linecolor": "#506784",
            "showbackground": true,
            "ticks": "",
            "zerolinecolor": "#C8D4E3"
           },
           "zaxis": {
            "backgroundcolor": "rgb(17,17,17)",
            "gridcolor": "#506784",
            "gridwidth": 2,
            "linecolor": "#506784",
            "showbackground": true,
            "ticks": "",
            "zerolinecolor": "#C8D4E3"
           }
          },
          "shapedefaults": {
           "line": {
            "color": "#f2f5fa"
           }
          },
          "sliderdefaults": {
           "bgcolor": "#C8D4E3",
           "bordercolor": "rgb(17,17,17)",
           "borderwidth": 1,
           "tickwidth": 0
          },
          "ternary": {
           "aaxis": {
            "gridcolor": "#506784",
            "linecolor": "#506784",
            "ticks": ""
           },
           "baxis": {
            "gridcolor": "#506784",
            "linecolor": "#506784",
            "ticks": ""
           },
           "bgcolor": "rgb(17,17,17)",
           "caxis": {
            "gridcolor": "#506784",
            "linecolor": "#506784",
            "ticks": ""
           }
          },
          "title": {
           "x": 0.05
          },
          "updatemenudefaults": {
           "bgcolor": "#506784",
           "borderwidth": 0
          },
          "xaxis": {
           "automargin": true,
           "gridcolor": "#283442",
           "linecolor": "#506784",
           "ticks": "",
           "title": {
            "standoff": 15
           },
           "zerolinecolor": "#283442",
           "zerolinewidth": 2
          },
          "yaxis": {
           "automargin": true,
           "gridcolor": "#283442",
           "linecolor": "#506784",
           "ticks": "",
           "title": {
            "standoff": 15
           },
           "zerolinecolor": "#283442",
           "zerolinewidth": 2
          }
         }
        }
       }
      },
      "text/html": [
       "<div>                            <div id=\"fc0bfa2f-27dc-4fca-8b20-5f218934872c\" class=\"plotly-graph-div\" style=\"height:525px; width:100%;\"></div>            <script type=\"text/javascript\">                require([\"plotly\"], function(Plotly) {                    window.PLOTLYENV=window.PLOTLYENV || {};                                    if (document.getElementById(\"fc0bfa2f-27dc-4fca-8b20-5f218934872c\")) {                    Plotly.newPlot(                        \"fc0bfa2f-27dc-4fca-8b20-5f218934872c\",                        [{\"hovertemplate\": \"PTS=%{r}<br>POSITION=%{theta}<extra></extra>\", \"legendgroup\": \"627\", \"line\": {\"color\": \"#f0f921\", \"dash\": \"solid\"}, \"mode\": \"lines\", \"name\": \"627\", \"r\": [627, 627, 627, 627], \"showlegend\": true, \"subplot\": \"polar\", \"theta\": [\" C\", \" C\", \" C\", \" C\"], \"type\": \"scatterpolar\"}, {\"hovertemplate\": \"PTS=%{r}<br>POSITION=%{theta}<extra></extra>\", \"legendgroup\": \"1028\", \"line\": {\"color\": \"#fdca26\", \"dash\": \"solid\"}, \"mode\": \"lines\", \"name\": \"1028\", \"r\": [1028, 1028], \"showlegend\": true, \"subplot\": \"polar\", \"theta\": [\" PF\", \" PF\"], \"type\": \"scatterpolar\"}, {\"hovertemplate\": \"PTS=%{r}<br>POSITION=%{theta}<extra></extra>\", \"legendgroup\": \"1503\", \"line\": {\"color\": \"#fb9f3a\", \"dash\": \"solid\"}, \"mode\": \"lines\", \"name\": \"1503\", \"r\": [1503, 1503], \"showlegend\": true, \"subplot\": \"polar\", \"theta\": [\" C\", \" C\"], \"type\": \"scatterpolar\"}, {\"hovertemplate\": \"PTS=%{r}<br>POSITION=%{theta}<extra></extra>\", \"legendgroup\": \"796\", \"line\": {\"color\": \"#ed7953\", \"dash\": \"solid\"}, \"mode\": \"lines\", \"name\": \"796\", \"r\": [796, 796, 796], \"showlegend\": true, \"subplot\": \"polar\", \"theta\": [\" C\", \" C\", \" C\"], \"type\": \"scatterpolar\"}, {\"hovertemplate\": \"PTS=%{r}<br>POSITION=%{theta}<extra></extra>\", \"legendgroup\": \"1048\", \"line\": {\"color\": \"#d8576b\", \"dash\": \"solid\"}, \"mode\": \"lines\", \"name\": \"1048\", \"r\": [1048, 1048], \"showlegend\": true, \"subplot\": \"polar\", \"theta\": [\" SG\", \" SG\"], \"type\": \"scatterpolar\"}, {\"hovertemplate\": \"PTS=%{r}<br>POSITION=%{theta}<extra></extra>\", \"legendgroup\": \"1054\", \"line\": {\"color\": \"#bd3786\", \"dash\": \"solid\"}, \"mode\": \"lines\", \"name\": \"1054\", \"r\": [1054, 1054], \"showlegend\": true, \"subplot\": \"polar\", \"theta\": [\" SG\", \" SG\"], \"type\": \"scatterpolar\"}, {\"hovertemplate\": \"PTS=%{r}<br>POSITION=%{theta}<extra></extra>\", \"legendgroup\": \"190\", \"line\": {\"color\": \"#9c179e\", \"dash\": \"solid\"}, \"mode\": \"lines\", \"name\": \"190\", \"r\": [190, 190], \"showlegend\": true, \"subplot\": \"polar\", \"theta\": [\" SG\", \" SG\"], \"type\": \"scatterpolar\"}, {\"hovertemplate\": \"PTS=%{r}<br>POSITION=%{theta}<extra></extra>\", \"legendgroup\": \"1387\", \"line\": {\"color\": \"#7201a8\", \"dash\": \"solid\"}, \"mode\": \"lines\", \"name\": \"1387\", \"r\": [1387, 1387, 1387], \"showlegend\": true, \"subplot\": \"polar\", \"theta\": [\" SF\", \" SF\", \" SF\"], \"type\": \"scatterpolar\"}, {\"hovertemplate\": \"PTS=%{r}<br>POSITION=%{theta}<extra></extra>\", \"legendgroup\": \"243\", \"line\": {\"color\": \"#46039f\", \"dash\": \"solid\"}, \"mode\": \"lines\", \"name\": \"243\", \"r\": [243, 243], \"showlegend\": true, \"subplot\": \"polar\", \"theta\": [\" PF\", \" PF\"], \"type\": \"scatterpolar\"}, {\"hovertemplate\": \"PTS=%{r}<br>POSITION=%{theta}<extra></extra>\", \"legendgroup\": \"265\", \"line\": {\"color\": \"#0d0887\", \"dash\": \"solid\"}, \"mode\": \"lines\", \"name\": \"265\", \"r\": [265, 265, 265], \"showlegend\": true, \"subplot\": \"polar\", \"theta\": [\" C\", \" C\", \" C\"], \"type\": \"scatterpolar\"}, {\"hovertemplate\": \"PTS=%{r}<br>POSITION=%{theta}<extra></extra>\", \"legendgroup\": \"32\", \"line\": {\"color\": \"#f0f921\", \"dash\": \"solid\"}, \"mode\": \"lines\", \"name\": \"32\", \"r\": [32, 32], \"showlegend\": true, \"subplot\": \"polar\", \"theta\": [\" SF\", \" SF\"], \"type\": \"scatterpolar\"}, {\"hovertemplate\": \"PTS=%{r}<br>POSITION=%{theta}<extra></extra>\", \"legendgroup\": \"525\", \"line\": {\"color\": \"#fdca26\", \"dash\": \"solid\"}, \"mode\": \"lines\", \"name\": \"525\", \"r\": [525, 525, 525, 525, 525, 525], \"showlegend\": true, \"subplot\": \"polar\", \"theta\": [\" PF\", \" PF\", \" G\", \" G\", \" G\", \" PF\"], \"type\": \"scatterpolar\"}, {\"hovertemplate\": \"PTS=%{r}<br>POSITION=%{theta}<extra></extra>\", \"legendgroup\": \"78\", \"line\": {\"color\": \"#fb9f3a\", \"dash\": \"solid\"}, \"mode\": \"lines\", \"name\": \"78\", \"r\": [78, 78, 78, 78], \"showlegend\": true, \"subplot\": \"polar\", \"theta\": [\" SF\", \" SF\", \" SF\", \" SF\"], \"type\": \"scatterpolar\"}, {\"hovertemplate\": \"PTS=%{r}<br>POSITION=%{theta}<extra></extra>\", \"legendgroup\": \"104\", \"line\": {\"color\": \"#ed7953\", \"dash\": \"solid\"}, \"mode\": \"lines\", \"name\": \"104\", \"r\": [104, 104, 104], \"showlegend\": true, \"subplot\": \"polar\", \"theta\": [\" C\", \" C\", \" C\"], \"type\": \"scatterpolar\"}, {\"hovertemplate\": \"PTS=%{r}<br>POSITION=%{theta}<extra></extra>\", \"legendgroup\": \"33\", \"line\": {\"color\": \"#d8576b\", \"dash\": \"solid\"}, \"mode\": \"lines\", \"name\": \"33\", \"r\": [33, 33], \"showlegend\": true, \"subplot\": \"polar\", \"theta\": [\" G\", \" G\"], \"type\": \"scatterpolar\"}, {\"hovertemplate\": \"PTS=%{r}<br>POSITION=%{theta}<extra></extra>\", \"legendgroup\": \"201\", \"line\": {\"color\": \"#bd3786\", \"dash\": \"solid\"}, \"mode\": \"lines\", \"name\": \"201\", \"r\": [201, 201, 201, 201], \"showlegend\": true, \"subplot\": \"polar\", \"theta\": [\" SG\", \" SG\", \" SG\", \" SG\"], \"type\": \"scatterpolar\"}, {\"hovertemplate\": \"PTS=%{r}<br>POSITION=%{theta}<extra></extra>\", \"legendgroup\": \"1106\", \"line\": {\"color\": \"#9c179e\", \"dash\": \"solid\"}, \"mode\": \"lines\", \"name\": \"1106\", \"r\": [1106, 1106, 1106, 1106, 1106, 1106, 1106, 1106, 1106, 1106, 1106], \"showlegend\": true, \"subplot\": \"polar\", \"theta\": [\" SG\", \" SG\", \" C\", \" C\", \" C\", \" C\", \" C\", \" C\", \" C\", \" C\", \" SG\"], \"type\": \"scatterpolar\"}, {\"hovertemplate\": \"PTS=%{r}<br>POSITION=%{theta}<extra></extra>\", \"legendgroup\": \"780\", \"line\": {\"color\": \"#7201a8\", \"dash\": \"solid\"}, \"mode\": \"lines\", \"name\": \"780\", \"r\": [780, 780, 780, 780, 780], \"showlegend\": true, \"subplot\": \"polar\", \"theta\": [\" SG\", \" SG\", \" SG\", \" SG\", \" SG\"], \"type\": \"scatterpolar\"}, {\"hovertemplate\": \"PTS=%{r}<br>POSITION=%{theta}<extra></extra>\", \"legendgroup\": \"227\", \"line\": {\"color\": \"#46039f\", \"dash\": \"solid\"}, \"mode\": \"lines\", \"name\": \"227\", \"r\": [227, 227], \"showlegend\": true, \"subplot\": \"polar\", \"theta\": [\" PF\", \" PF\"], \"type\": \"scatterpolar\"}, {\"hovertemplate\": \"PTS=%{r}<br>POSITION=%{theta}<extra></extra>\", \"legendgroup\": \"867\", \"line\": {\"color\": \"#0d0887\", \"dash\": \"solid\"}, \"mode\": \"lines\", \"name\": \"867\", \"r\": [867, 867, 867, 867, 867], \"showlegend\": true, \"subplot\": \"polar\", \"theta\": [\" PF\", \" PF\", \" PF\", \" PF\", \" PF\"], \"type\": \"scatterpolar\"}, {\"hovertemplate\": \"PTS=%{r}<br>POSITION=%{theta}<extra></extra>\", \"legendgroup\": \"165\", \"line\": {\"color\": \"#f0f921\", \"dash\": \"solid\"}, \"mode\": \"lines\", \"name\": \"165\", \"r\": [165, 165, 165], \"showlegend\": true, \"subplot\": \"polar\", \"theta\": [\" SF\", \" SF\", \" SF\"], \"type\": \"scatterpolar\"}, {\"hovertemplate\": \"PTS=%{r}<br>POSITION=%{theta}<extra></extra>\", \"legendgroup\": \"1562\", \"line\": {\"color\": \"#fdca26\", \"dash\": \"solid\"}, \"mode\": \"lines\", \"name\": \"1562\", \"r\": [1562, 1562, 1562, 1562, 1562], \"showlegend\": true, \"subplot\": \"polar\", \"theta\": [\" PG\", \" PG\", \" PG\", \" PG\", \" PG\"], \"type\": \"scatterpolar\"}, {\"hovertemplate\": \"PTS=%{r}<br>POSITION=%{theta}<extra></extra>\", \"legendgroup\": \"748\", \"line\": {\"color\": \"#fb9f3a\", \"dash\": \"solid\"}, \"mode\": \"lines\", \"name\": \"748\", \"r\": [748, 748, 748, 748], \"showlegend\": true, \"subplot\": \"polar\", \"theta\": [\" SF\", \" SF\", \" SF\", \" SF\"], \"type\": \"scatterpolar\"}, {\"hovertemplate\": \"PTS=%{r}<br>POSITION=%{theta}<extra></extra>\", \"legendgroup\": \"476\", \"line\": {\"color\": \"#ed7953\", \"dash\": \"solid\"}, \"mode\": \"lines\", \"name\": \"476\", \"r\": [476, 476, 476, 476, 476, 476, 476, 476, 476, 476, 476], \"showlegend\": true, \"subplot\": \"polar\", \"theta\": [\" C\", \" C\", \" C\", \" C\", \" SG\", \" SG\", \" SG\", \" SG\", \" SG\", \" SG\", \" C\"], \"type\": \"scatterpolar\"}, {\"hovertemplate\": \"PTS=%{r}<br>POSITION=%{theta}<extra></extra>\", \"legendgroup\": \"826\", \"line\": {\"color\": \"#d8576b\", \"dash\": \"solid\"}, \"mode\": \"lines\", \"name\": \"826\", \"r\": [826, 826, 826], \"showlegend\": true, \"subplot\": \"polar\", \"theta\": [\" SG\", \" SG\", \" SG\"], \"type\": \"scatterpolar\"}, {\"hovertemplate\": \"PTS=%{r}<br>POSITION=%{theta}<extra></extra>\", \"legendgroup\": \"494\", \"line\": {\"color\": \"#bd3786\", \"dash\": \"solid\"}, \"mode\": \"lines\", \"name\": \"494\", \"r\": [494, 494, 494, 494, 494, 494], \"showlegend\": true, \"subplot\": \"polar\", \"theta\": [\" C\", \" C\", \" C\", \" C\", \" C\", \" C\"], \"type\": \"scatterpolar\"}, {\"hovertemplate\": \"PTS=%{r}<br>POSITION=%{theta}<extra></extra>\", \"legendgroup\": \"304\", \"line\": {\"color\": \"#9c179e\", \"dash\": \"solid\"}, \"mode\": \"lines\", \"name\": \"304\", \"r\": [304, 304, 304, 304, 304, 304, 304, 304, 304, 304, 304, 304, 304], \"showlegend\": true, \"subplot\": \"polar\", \"theta\": [\" C\", \" C\", \" G\", \" G\", \" G\", \" G\", \" G\", \" G\", \" G\", \" G\", \" G\", \" G\", \" C\"], \"type\": \"scatterpolar\"}, {\"hovertemplate\": \"PTS=%{r}<br>POSITION=%{theta}<extra></extra>\", \"legendgroup\": \"283\", \"line\": {\"color\": \"#7201a8\", \"dash\": \"solid\"}, \"mode\": \"lines\", \"name\": \"283\", \"r\": [283, 283], \"showlegend\": true, \"subplot\": \"polar\", \"theta\": [\" C\", \" C\"], \"type\": \"scatterpolar\"}, {\"hovertemplate\": \"PTS=%{r}<br>POSITION=%{theta}<extra></extra>\", \"legendgroup\": \"799\", \"line\": {\"color\": \"#46039f\", \"dash\": \"solid\"}, \"mode\": \"lines\", \"name\": \"799\", \"r\": [799, 799], \"showlegend\": true, \"subplot\": \"polar\", \"theta\": [\" PG\", \" PG\"], \"type\": \"scatterpolar\"}, {\"hovertemplate\": \"PTS=%{r}<br>POSITION=%{theta}<extra></extra>\", \"legendgroup\": \"507\", \"line\": {\"color\": \"#0d0887\", \"dash\": \"solid\"}, \"mode\": \"lines\", \"name\": \"507\", \"r\": [507, 507, 507, 507, 507], \"showlegend\": true, \"subplot\": \"polar\", \"theta\": [\" SF\", \" SF\", \" SF\", \" SF\", \" SF\"], \"type\": \"scatterpolar\"}, {\"hovertemplate\": \"PTS=%{r}<br>POSITION=%{theta}<extra></extra>\", \"legendgroup\": \"140\", \"line\": {\"color\": \"#f0f921\", \"dash\": \"solid\"}, \"mode\": \"lines\", \"name\": \"140\", \"r\": [140, 140], \"showlegend\": true, \"subplot\": \"polar\", \"theta\": [\" PG\", \" PG\"], \"type\": \"scatterpolar\"}, {\"hovertemplate\": \"PTS=%{r}<br>POSITION=%{theta}<extra></extra>\", \"legendgroup\": \"944\", \"line\": {\"color\": \"#fdca26\", \"dash\": \"solid\"}, \"mode\": \"lines\", \"name\": \"944\", \"r\": [944, 944, 944, 944], \"showlegend\": true, \"subplot\": \"polar\", \"theta\": [\" PG\", \" PG\", \" PG\", \" PG\"], \"type\": \"scatterpolar\"}, {\"hovertemplate\": \"PTS=%{r}<br>POSITION=%{theta}<extra></extra>\", \"legendgroup\": \"599\", \"line\": {\"color\": \"#fb9f3a\", \"dash\": \"solid\"}, \"mode\": \"lines\", \"name\": \"599\", \"r\": [599, 599, 599, 599, 599, 599], \"showlegend\": true, \"subplot\": \"polar\", \"theta\": [\" SF\", \" SF\", \" SF\", \" SF\", \" SF\", \" SF\"], \"type\": \"scatterpolar\"}, {\"hovertemplate\": \"PTS=%{r}<br>POSITION=%{theta}<extra></extra>\", \"legendgroup\": \"208\", \"line\": {\"color\": \"#ed7953\", \"dash\": \"solid\"}, \"mode\": \"lines\", \"name\": \"208\", \"r\": [208, 208, 208, 208], \"showlegend\": true, \"subplot\": \"polar\", \"theta\": [\" SF\", \" SF\", \" SF\", \" SF\"], \"type\": \"scatterpolar\"}, {\"hovertemplate\": \"PTS=%{r}<br>POSITION=%{theta}<extra></extra>\", \"legendgroup\": \"109\", \"line\": {\"color\": \"#d8576b\", \"dash\": \"solid\"}, \"mode\": \"lines\", \"name\": \"109\", \"r\": [109, 109, 109, 109, 109], \"showlegend\": true, \"subplot\": \"polar\", \"theta\": [\" SF\", \" SF\", \" SF\", \" SF\", \" SF\"], \"type\": \"scatterpolar\"}, {\"hovertemplate\": \"PTS=%{r}<br>POSITION=%{theta}<extra></extra>\", \"legendgroup\": \"543\", \"line\": {\"color\": \"#bd3786\", \"dash\": \"solid\"}, \"mode\": \"lines\", \"name\": \"543\", \"r\": [543, 543], \"showlegend\": true, \"subplot\": \"polar\", \"theta\": [\" PG\", \" PG\"], \"type\": \"scatterpolar\"}, {\"hovertemplate\": \"PTS=%{r}<br>POSITION=%{theta}<extra></extra>\", \"legendgroup\": \"533\", \"line\": {\"color\": \"#9c179e\", \"dash\": \"solid\"}, \"mode\": \"lines\", \"name\": \"533\", \"r\": [533, 533], \"showlegend\": true, \"subplot\": \"polar\", \"theta\": [\" C\", \" C\"], \"type\": \"scatterpolar\"}, {\"hovertemplate\": \"PTS=%{r}<br>POSITION=%{theta}<extra></extra>\", \"legendgroup\": \"751\", \"line\": {\"color\": \"#7201a8\", \"dash\": \"solid\"}, \"mode\": \"lines\", \"name\": \"751\", \"r\": [751, 751, 751], \"showlegend\": true, \"subplot\": \"polar\", \"theta\": [\" C\", \" C\", \" C\"], \"type\": \"scatterpolar\"}, {\"hovertemplate\": \"PTS=%{r}<br>POSITION=%{theta}<extra></extra>\", \"legendgroup\": \"180\", \"line\": {\"color\": \"#46039f\", \"dash\": \"solid\"}, \"mode\": \"lines\", \"name\": \"180\", \"r\": [180, 180], \"showlegend\": true, \"subplot\": \"polar\", \"theta\": [\" C\", \" C\"], \"type\": \"scatterpolar\"}, {\"hovertemplate\": \"PTS=%{r}<br>POSITION=%{theta}<extra></extra>\", \"legendgroup\": \"353\", \"line\": {\"color\": \"#0d0887\", \"dash\": \"solid\"}, \"mode\": \"lines\", \"name\": \"353\", \"r\": [353, 353], \"showlegend\": true, \"subplot\": \"polar\", \"theta\": [\" C\", \" C\"], \"type\": \"scatterpolar\"}, {\"hovertemplate\": \"PTS=%{r}<br>POSITION=%{theta}<extra></extra>\", \"legendgroup\": \"0\", \"line\": {\"color\": \"#f0f921\", \"dash\": \"solid\"}, \"mode\": \"lines\", \"name\": \"0\", \"r\": [0, 0, 0, 0, 0], \"showlegend\": true, \"subplot\": \"polar\", \"theta\": [\" C\", \" C\", \" C\", \" C\", \" C\"], \"type\": \"scatterpolar\"}, {\"hovertemplate\": \"PTS=%{r}<br>POSITION=%{theta}<extra></extra>\", \"legendgroup\": \"3\", \"line\": {\"color\": \"#fdca26\", \"dash\": \"solid\"}, \"mode\": \"lines\", \"name\": \"3\", \"r\": [3, 3], \"showlegend\": true, \"subplot\": \"polar\", \"theta\": [\" C\", \" C\"], \"type\": \"scatterpolar\"}, {\"hovertemplate\": \"PTS=%{r}<br>POSITION=%{theta}<extra></extra>\", \"legendgroup\": \"359\", \"line\": {\"color\": \"#fb9f3a\", \"dash\": \"solid\"}, \"mode\": \"lines\", \"name\": \"359\", \"r\": [359, 359, 359], \"showlegend\": true, \"subplot\": \"polar\", \"theta\": [\" C\", \" C\", \" C\"], \"type\": \"scatterpolar\"}, {\"hovertemplate\": \"PTS=%{r}<br>POSITION=%{theta}<extra></extra>\", \"legendgroup\": \"388\", \"line\": {\"color\": \"#ed7953\", \"dash\": \"solid\"}, \"mode\": \"lines\", \"name\": \"388\", \"r\": [388, 388, 388, 388, 388, 388], \"showlegend\": true, \"subplot\": \"polar\", \"theta\": [\" SF\", \" SF\", \" SF\", \" SF\", \" SF\", \" SF\"], \"type\": \"scatterpolar\"}, {\"hovertemplate\": \"PTS=%{r}<br>POSITION=%{theta}<extra></extra>\", \"legendgroup\": \"1845\", \"line\": {\"color\": \"#d8576b\", \"dash\": \"solid\"}, \"mode\": \"lines\", \"name\": \"1845\", \"r\": [1845, 1845, 1845, 1845, 1845, 1845, 1845, 1845, 1845], \"showlegend\": true, \"subplot\": \"polar\", \"theta\": [\" PF\", \" PF\", \" PF\", \" PF\", \" PF\", \" PF\", \" PF\", \" PF\", \" PF\"], \"type\": \"scatterpolar\"}, {\"hovertemplate\": \"PTS=%{r}<br>POSITION=%{theta}<extra></extra>\", \"legendgroup\": \"1143\", \"line\": {\"color\": \"#bd3786\", \"dash\": \"solid\"}, \"mode\": \"lines\", \"name\": \"1143\", \"r\": [1143, 1143, 1143], \"showlegend\": true, \"subplot\": \"polar\", \"theta\": [\" C\", \" C\", \" C\"], \"type\": \"scatterpolar\"}, {\"hovertemplate\": \"PTS=%{r}<br>POSITION=%{theta}<extra></extra>\", \"legendgroup\": \"1131\", \"line\": {\"color\": \"#9c179e\", \"dash\": \"solid\"}, \"mode\": \"lines\", \"name\": \"1131\", \"r\": [1131, 1131, 1131, 1131], \"showlegend\": true, \"subplot\": \"polar\", \"theta\": [\" PG\", \" PG\", \" PG\", \" PG\"], \"type\": \"scatterpolar\"}, {\"hovertemplate\": \"PTS=%{r}<br>POSITION=%{theta}<extra></extra>\", \"legendgroup\": \"1399\", \"line\": {\"color\": \"#7201a8\", \"dash\": \"solid\"}, \"mode\": \"lines\", \"name\": \"1399\", \"r\": [1399, 1399, 1399, 1399], \"showlegend\": true, \"subplot\": \"polar\", \"theta\": [\" PG\", \" PG\", \" PG\", \" PG\"], \"type\": \"scatterpolar\"}, {\"hovertemplate\": \"PTS=%{r}<br>POSITION=%{theta}<extra></extra>\", \"legendgroup\": \"769\", \"line\": {\"color\": \"#46039f\", \"dash\": \"solid\"}, \"mode\": \"lines\", \"name\": \"769\", \"r\": [769, 769, 769], \"showlegend\": true, \"subplot\": \"polar\", \"theta\": [\" SG\", \" SG\", \" SG\"], \"type\": \"scatterpolar\"}, {\"hovertemplate\": \"PTS=%{r}<br>POSITION=%{theta}<extra></extra>\", \"legendgroup\": \"587\", \"line\": {\"color\": \"#0d0887\", \"dash\": \"solid\"}, \"mode\": \"lines\", \"name\": \"587\", \"r\": [587, 587, 587, 587, 587, 587], \"showlegend\": true, \"subplot\": \"polar\", \"theta\": [\" SG\", \" SG\", \" SG\", \" SF\", \" SF\", \" SG\"], \"type\": \"scatterpolar\"}, {\"hovertemplate\": \"PTS=%{r}<br>POSITION=%{theta}<extra></extra>\", \"legendgroup\": \"753\", \"line\": {\"color\": \"#f0f921\", \"dash\": \"solid\"}, \"mode\": \"lines\", \"name\": \"753\", \"r\": [753, 753, 753, 753, 753, 753, 753, 753], \"showlegend\": true, \"subplot\": \"polar\", \"theta\": [\" SG\", \" SG\", \" SG\", \" SG\", \" SG\", \" SG\", \" SG\", \" SG\"], \"type\": \"scatterpolar\"}, {\"hovertemplate\": \"PTS=%{r}<br>POSITION=%{theta}<extra></extra>\", \"legendgroup\": \"461\", \"line\": {\"color\": \"#fdca26\", \"dash\": \"solid\"}, \"mode\": \"lines\", \"name\": \"461\", \"r\": [461, 461, 461, 461, 461], \"showlegend\": true, \"subplot\": \"polar\", \"theta\": [\" C\", \" C\", \" C\", \" C\", \" C\"], \"type\": \"scatterpolar\"}, {\"hovertemplate\": \"PTS=%{r}<br>POSITION=%{theta}<extra></extra>\", \"legendgroup\": \"662\", \"line\": {\"color\": \"#fb9f3a\", \"dash\": \"solid\"}, \"mode\": \"lines\", \"name\": \"662\", \"r\": [662, 662, 662, 662, 662], \"showlegend\": true, \"subplot\": \"polar\", \"theta\": [\" SF\", \" SF\", \" SF\", \" SF\", \" SF\"], \"type\": \"scatterpolar\"}, {\"hovertemplate\": \"PTS=%{r}<br>POSITION=%{theta}<extra></extra>\", \"legendgroup\": \"426\", \"line\": {\"color\": \"#ed7953\", \"dash\": \"solid\"}, \"mode\": \"lines\", \"name\": \"426\", \"r\": [426, 426, 426, 426], \"showlegend\": true, \"subplot\": \"polar\", \"theta\": [\" SG\", \" SG\", \" SG\", \" SG\"], \"type\": \"scatterpolar\"}, {\"hovertemplate\": \"PTS=%{r}<br>POSITION=%{theta}<extra></extra>\", \"legendgroup\": \"1068\", \"line\": {\"color\": \"#d8576b\", \"dash\": \"solid\"}, \"mode\": \"lines\", \"name\": \"1068\", \"r\": [1068, 1068, 1068, 1068, 1068, 1068, 1068], \"showlegend\": true, \"subplot\": \"polar\", \"theta\": [\" C\", \" C\", \" C\", \" C\", \" C\", \" C\", \" C\"], \"type\": \"scatterpolar\"}, {\"hovertemplate\": \"PTS=%{r}<br>POSITION=%{theta}<extra></extra>\", \"legendgroup\": \"1256\", \"line\": {\"color\": \"#bd3786\", \"dash\": \"solid\"}, \"mode\": \"lines\", \"name\": \"1256\", \"r\": [1256, 1256, 1256, 1256, 1256, 1256, 1256, 1256, 1256], \"showlegend\": true, \"subplot\": \"polar\", \"theta\": [\" PG\", \" PG\", \" PG\", \" PG\", \" PG\", \" PG\", \" PG\", \" PG\", \" PG\"], \"type\": \"scatterpolar\"}, {\"hovertemplate\": \"PTS=%{r}<br>POSITION=%{theta}<extra></extra>\", \"legendgroup\": \"246\", \"line\": {\"color\": \"#9c179e\", \"dash\": \"solid\"}, \"mode\": \"lines\", \"name\": \"246\", \"r\": [246, 246], \"showlegend\": true, \"subplot\": \"polar\", \"theta\": [\" PG\", \" PG\"], \"type\": \"scatterpolar\"}, {\"hovertemplate\": \"PTS=%{r}<br>POSITION=%{theta}<extra></extra>\", \"legendgroup\": \"1252\", \"line\": {\"color\": \"#7201a8\", \"dash\": \"solid\"}, \"mode\": \"lines\", \"name\": \"1252\", \"r\": [1252, 1252, 1252, 1252, 1252], \"showlegend\": true, \"subplot\": \"polar\", \"theta\": [\" SG\", \" SG\", \" SG\", \" SG\", \" SG\"], \"type\": \"scatterpolar\"}, {\"hovertemplate\": \"PTS=%{r}<br>POSITION=%{theta}<extra></extra>\", \"legendgroup\": \"1361\", \"line\": {\"color\": \"#46039f\", \"dash\": \"solid\"}, \"mode\": \"lines\", \"name\": \"1361\", \"r\": [1361, 1361, 1361, 1361, 1361, 1361], \"showlegend\": true, \"subplot\": \"polar\", \"theta\": [\" PG\", \" PG\", \" PG\", \" PG\", \" PG\", \" PG\"], \"type\": \"scatterpolar\"}, {\"hovertemplate\": \"PTS=%{r}<br>POSITION=%{theta}<extra></extra>\", \"legendgroup\": \"899\", \"line\": {\"color\": \"#0d0887\", \"dash\": \"solid\"}, \"mode\": \"lines\", \"name\": \"899\", \"r\": [899, 899, 899, 899, 899, 899, 899, 899, 899], \"showlegend\": true, \"subplot\": \"polar\", \"theta\": [\" PF\", \" PF\", \" PF\", \" PF\", \" PF\", \" PF\", \" PF\", \" PF\", \" PF\"], \"type\": \"scatterpolar\"}, {\"hovertemplate\": \"PTS=%{r}<br>POSITION=%{theta}<extra></extra>\", \"legendgroup\": \"170\", \"line\": {\"color\": \"#f0f921\", \"dash\": \"solid\"}, \"mode\": \"lines\", \"name\": \"170\", \"r\": [170, 170, 170, 170], \"showlegend\": true, \"subplot\": \"polar\", \"theta\": [\" PF\", \" PF\", \" PF\", \" PF\"], \"type\": \"scatterpolar\"}, {\"hovertemplate\": \"PTS=%{r}<br>POSITION=%{theta}<extra></extra>\", \"legendgroup\": \"975\", \"line\": {\"color\": \"#fdca26\", \"dash\": \"solid\"}, \"mode\": \"lines\", \"name\": \"975\", \"r\": [975, 975, 975, 975, 975, 975, 975, 975, 975], \"showlegend\": true, \"subplot\": \"polar\", \"theta\": [\" C\", \" C\", \" C\", \" C\", \" C\", \" C\", \" C\", \" C\", \" C\"], \"type\": \"scatterpolar\"}, {\"hovertemplate\": \"PTS=%{r}<br>POSITION=%{theta}<extra></extra>\", \"legendgroup\": \"487\", \"line\": {\"color\": \"#fb9f3a\", \"dash\": \"solid\"}, \"mode\": \"lines\", \"name\": \"487\", \"r\": [487, 487, 487], \"showlegend\": true, \"subplot\": \"polar\", \"theta\": [\" PF\", \" PF\", \" PF\"], \"type\": \"scatterpolar\"}, {\"hovertemplate\": \"PTS=%{r}<br>POSITION=%{theta}<extra></extra>\", \"legendgroup\": \"228\", \"line\": {\"color\": \"#ed7953\", \"dash\": \"solid\"}, \"mode\": \"lines\", \"name\": \"228\", \"r\": [228, 228, 228, 228, 228], \"showlegend\": true, \"subplot\": \"polar\", \"theta\": [\" C\", \" C\", \" C\", \" C\", \" C\"], \"type\": \"scatterpolar\"}, {\"hovertemplate\": \"PTS=%{r}<br>POSITION=%{theta}<extra></extra>\", \"legendgroup\": \"488\", \"line\": {\"color\": \"#d8576b\", \"dash\": \"solid\"}, \"mode\": \"lines\", \"name\": \"488\", \"r\": [488, 488, 488], \"showlegend\": true, \"subplot\": \"polar\", \"theta\": [\" C\", \" C\", \" C\"], \"type\": \"scatterpolar\"}, {\"hovertemplate\": \"PTS=%{r}<br>POSITION=%{theta}<extra></extra>\", \"legendgroup\": \"821\", \"line\": {\"color\": \"#bd3786\", \"dash\": \"solid\"}, \"mode\": \"lines\", \"name\": \"821\", \"r\": [821, 821, 821, 821, 821, 821], \"showlegend\": true, \"subplot\": \"polar\", \"theta\": [\" PF\", \" PF\", \" PF\", \" PF\", \" PF\", \" PF\"], \"type\": \"scatterpolar\"}, {\"hovertemplate\": \"PTS=%{r}<br>POSITION=%{theta}<extra></extra>\", \"legendgroup\": \"1624\", \"line\": {\"color\": \"#9c179e\", \"dash\": \"solid\"}, \"mode\": \"lines\", \"name\": \"1624\", \"r\": [1624, 1624, 1624, 1624, 1624, 1624, 1624, 1624, 1624], \"showlegend\": true, \"subplot\": \"polar\", \"theta\": [\" SF\", \" SF\", \" SF\", \" SF\", \" SF\", \" SF\", \" SF\", \" SF\", \" SF\"], \"type\": \"scatterpolar\"}, {\"hovertemplate\": \"PTS=%{r}<br>POSITION=%{theta}<extra></extra>\", \"legendgroup\": \"498\", \"line\": {\"color\": \"#7201a8\", \"dash\": \"solid\"}, \"mode\": \"lines\", \"name\": \"498\", \"r\": [498, 498, 498, 498, 498], \"showlegend\": true, \"subplot\": \"polar\", \"theta\": [\" PG\", \" PG\", \" PG\", \" PG\", \" PG\"], \"type\": \"scatterpolar\"}, {\"hovertemplate\": \"PTS=%{r}<br>POSITION=%{theta}<extra></extra>\", \"legendgroup\": \"56\", \"line\": {\"color\": \"#46039f\", \"dash\": \"solid\"}, \"mode\": \"lines\", \"name\": \"56\", \"r\": [56, 56, 56, 56], \"showlegend\": true, \"subplot\": \"polar\", \"theta\": [\" PG\", \" PG\", \" PG\", \" PG\"], \"type\": \"scatterpolar\"}, {\"hovertemplate\": \"PTS=%{r}<br>POSITION=%{theta}<extra></extra>\", \"legendgroup\": \"559\", \"line\": {\"color\": \"#0d0887\", \"dash\": \"solid\"}, \"mode\": \"lines\", \"name\": \"559\", \"r\": [559, 559, 559, 559, 559, 559], \"showlegend\": true, \"subplot\": \"polar\", \"theta\": [\" PF\", \" PF\", \" PF\", \" PF\", \" PF\", \" PF\"], \"type\": \"scatterpolar\"}, {\"hovertemplate\": \"PTS=%{r}<br>POSITION=%{theta}<extra></extra>\", \"legendgroup\": \"501\", \"line\": {\"color\": \"#f0f921\", \"dash\": \"solid\"}, \"mode\": \"lines\", \"name\": \"501\", \"r\": [501, 501], \"showlegend\": true, \"subplot\": \"polar\", \"theta\": [\" PG\", \" PG\"], \"type\": \"scatterpolar\"}, {\"hovertemplate\": \"PTS=%{r}<br>POSITION=%{theta}<extra></extra>\", \"legendgroup\": \"955\", \"line\": {\"color\": \"#fdca26\", \"dash\": \"solid\"}, \"mode\": \"lines\", \"name\": \"955\", \"r\": [955, 955, 955], \"showlegend\": true, \"subplot\": \"polar\", \"theta\": [\" SG\", \" SG\", \" SG\"], \"type\": \"scatterpolar\"}, {\"hovertemplate\": \"PTS=%{r}<br>POSITION=%{theta}<extra></extra>\", \"legendgroup\": \"565\", \"line\": {\"color\": \"#fb9f3a\", \"dash\": \"solid\"}, \"mode\": \"lines\", \"name\": \"565\", \"r\": [565, 565, 565, 565, 565, 565, 565, 565, 565, 565], \"showlegend\": true, \"subplot\": \"polar\", \"theta\": [\" PF\", \" PF\", \" PF\", \" PF\", \" PF\", \" PF\", \" PF\", \" PF\", \" PF\", \" PF\"], \"type\": \"scatterpolar\"}, {\"hovertemplate\": \"PTS=%{r}<br>POSITION=%{theta}<extra></extra>\", \"legendgroup\": \"846\", \"line\": {\"color\": \"#ed7953\", \"dash\": \"solid\"}, \"mode\": \"lines\", \"name\": \"846\", \"r\": [846, 846, 846, 846, 846, 846], \"showlegend\": true, \"subplot\": \"polar\", \"theta\": [\" SF\", \" SF\", \" SF\", \" SF\", \" SF\", \" SF\"], \"type\": \"scatterpolar\"}, {\"hovertemplate\": \"PTS=%{r}<br>POSITION=%{theta}<extra></extra>\", \"legendgroup\": \"1258\", \"line\": {\"color\": \"#d8576b\", \"dash\": \"solid\"}, \"mode\": \"lines\", \"name\": \"1258\", \"r\": [1258, 1258, 1258, 1258, 1258, 1258, 1258, 1258, 1258, 1258, 1258, 1258], \"showlegend\": true, \"subplot\": \"polar\", \"theta\": [\" PG\", \" PG\", \" PG\", \" PG\", \" PG\", \" PG\", \" PG\", \" PG\", \" PG\", \" PG\", \" PG\", \" PG\"], \"type\": \"scatterpolar\"}, {\"hovertemplate\": \"PTS=%{r}<br>POSITION=%{theta}<extra></extra>\", \"legendgroup\": \"345\", \"line\": {\"color\": \"#bd3786\", \"dash\": \"solid\"}, \"mode\": \"lines\", \"name\": \"345\", \"r\": [345, 345, 345, 345], \"showlegend\": true, \"subplot\": \"polar\", \"theta\": [\" PF\", \" PF\", \" PF\", \" PF\"], \"type\": \"scatterpolar\"}, {\"hovertemplate\": \"PTS=%{r}<br>POSITION=%{theta}<extra></extra>\", \"legendgroup\": \"74\", \"line\": {\"color\": \"#9c179e\", \"dash\": \"solid\"}, \"mode\": \"lines\", \"name\": \"74\", \"r\": [74, 74, 74, 74, 74], \"showlegend\": true, \"subplot\": \"polar\", \"theta\": [\" C\", \" C\", \" C\", \" C\", \" C\"], \"type\": \"scatterpolar\"}, {\"hovertemplate\": \"PTS=%{r}<br>POSITION=%{theta}<extra></extra>\", \"legendgroup\": \"864\", \"line\": {\"color\": \"#7201a8\", \"dash\": \"solid\"}, \"mode\": \"lines\", \"name\": \"864\", \"r\": [864, 864, 864, 864, 864, 864, 864], \"showlegend\": true, \"subplot\": \"polar\", \"theta\": [\" PG\", \" PG\", \" PG\", \" PG\", \" PG\", \" PG\", \" PG\"], \"type\": \"scatterpolar\"}, {\"hovertemplate\": \"PTS=%{r}<br>POSITION=%{theta}<extra></extra>\", \"legendgroup\": \"768\", \"line\": {\"color\": \"#46039f\", \"dash\": \"solid\"}, \"mode\": \"lines\", \"name\": \"768\", \"r\": [768, 768, 768, 768, 768], \"showlegend\": true, \"subplot\": \"polar\", \"theta\": [\" C\", \" C\", \" C\", \" C\", \" C\"], \"type\": \"scatterpolar\"}, {\"hovertemplate\": \"PTS=%{r}<br>POSITION=%{theta}<extra></extra>\", \"legendgroup\": \"463\", \"line\": {\"color\": \"#0d0887\", \"dash\": \"solid\"}, \"mode\": \"lines\", \"name\": \"463\", \"r\": [463, 463], \"showlegend\": true, \"subplot\": \"polar\", \"theta\": [\" F\", \" F\"], \"type\": \"scatterpolar\"}, {\"hovertemplate\": \"PTS=%{r}<br>POSITION=%{theta}<extra></extra>\", \"legendgroup\": \"981\", \"line\": {\"color\": \"#f0f921\", \"dash\": \"solid\"}, \"mode\": \"lines\", \"name\": \"981\", \"r\": [981, 981, 981, 981, 981, 981, 981, 981, 981, 981], \"showlegend\": true, \"subplot\": \"polar\", \"theta\": [\" C\", \" C\", \" C\", \" C\", \" C\", \" C\", \" C\", \" C\", \" C\", \" C\"], \"type\": \"scatterpolar\"}, {\"hovertemplate\": \"PTS=%{r}<br>POSITION=%{theta}<extra></extra>\", \"legendgroup\": \"475\", \"line\": {\"color\": \"#fdca26\", \"dash\": \"solid\"}, \"mode\": \"lines\", \"name\": \"475\", \"r\": [475, 475, 475, 475, 475, 475], \"showlegend\": true, \"subplot\": \"polar\", \"theta\": [\" C\", \" C\", \" C\", \" C\", \" C\", \" C\"], \"type\": \"scatterpolar\"}, {\"hovertemplate\": \"PTS=%{r}<br>POSITION=%{theta}<extra></extra>\", \"legendgroup\": \"741\", \"line\": {\"color\": \"#fb9f3a\", \"dash\": \"solid\"}, \"mode\": \"lines\", \"name\": \"741\", \"r\": [741, 741, 741, 741, 741, 741, 741], \"showlegend\": true, \"subplot\": \"polar\", \"theta\": [\" SG\", \" SG\", \" SG\", \" SG\", \" SG\", \" SG\", \" SG\"], \"type\": \"scatterpolar\"}, {\"hovertemplate\": \"PTS=%{r}<br>POSITION=%{theta}<extra></extra>\", \"legendgroup\": \"131\", \"line\": {\"color\": \"#ed7953\", \"dash\": \"solid\"}, \"mode\": \"lines\", \"name\": \"131\", \"r\": [131, 131], \"showlegend\": true, \"subplot\": \"polar\", \"theta\": [\" SG\", \" SG\"], \"type\": \"scatterpolar\"}, {\"hovertemplate\": \"PTS=%{r}<br>POSITION=%{theta}<extra></extra>\", \"legendgroup\": \"715\", \"line\": {\"color\": \"#d8576b\", \"dash\": \"solid\"}, \"mode\": \"lines\", \"name\": \"715\", \"r\": [715, 715, 715, 715], \"showlegend\": true, \"subplot\": \"polar\", \"theta\": [\" PF\", \" PF\", \" PF\", \" PF\"], \"type\": \"scatterpolar\"}, {\"hovertemplate\": \"PTS=%{r}<br>POSITION=%{theta}<extra></extra>\", \"legendgroup\": \"1235\", \"line\": {\"color\": \"#bd3786\", \"dash\": \"solid\"}, \"mode\": \"lines\", \"name\": \"1235\", \"r\": [1235, 1235], \"showlegend\": true, \"subplot\": \"polar\", \"theta\": [\" SG\", \" SG\"], \"type\": \"scatterpolar\"}, {\"hovertemplate\": \"PTS=%{r}<br>POSITION=%{theta}<extra></extra>\", \"legendgroup\": \"711\", \"line\": {\"color\": \"#9c179e\", \"dash\": \"solid\"}, \"mode\": \"lines\", \"name\": \"711\", \"r\": [711, 711, 711, 711, 711], \"showlegend\": true, \"subplot\": \"polar\", \"theta\": [\" F\", \" F\", \" F\", \" F\", \" F\"], \"type\": \"scatterpolar\"}, {\"hovertemplate\": \"PTS=%{r}<br>POSITION=%{theta}<extra></extra>\", \"legendgroup\": \"1105\", \"line\": {\"color\": \"#7201a8\", \"dash\": \"solid\"}, \"mode\": \"lines\", \"name\": \"1105\", \"r\": [1105, 1105, 1105, 1105], \"showlegend\": true, \"subplot\": \"polar\", \"theta\": [\" C\", \" C\", \" C\", \" C\"], \"type\": \"scatterpolar\"}, {\"hovertemplate\": \"PTS=%{r}<br>POSITION=%{theta}<extra></extra>\", \"legendgroup\": \"499\", \"line\": {\"color\": \"#46039f\", \"dash\": \"solid\"}, \"mode\": \"lines\", \"name\": \"499\", \"r\": [499, 499], \"showlegend\": true, \"subplot\": \"polar\", \"theta\": [\" C\", \" C\"], \"type\": \"scatterpolar\"}, {\"hovertemplate\": \"PTS=%{r}<br>POSITION=%{theta}<extra></extra>\", \"legendgroup\": \"991\", \"line\": {\"color\": \"#0d0887\", \"dash\": \"solid\"}, \"mode\": \"lines\", \"name\": \"991\", \"r\": [991, 991, 991, 991, 991, 991, 991, 991, 991, 991, 991], \"showlegend\": true, \"subplot\": \"polar\", \"theta\": [\" G\", \" G\", \" G\", \" G\", \" G\", \" G\", \" G\", \" G\", \" G\", \" G\", \" G\"], \"type\": \"scatterpolar\"}, {\"hovertemplate\": \"PTS=%{r}<br>POSITION=%{theta}<extra></extra>\", \"legendgroup\": \"861\", \"line\": {\"color\": \"#f0f921\", \"dash\": \"solid\"}, \"mode\": \"lines\", \"name\": \"861\", \"r\": [861, 861, 861, 861, 861, 861, 861, 861, 861, 861, 861], \"showlegend\": true, \"subplot\": \"polar\", \"theta\": [\" PF\", \" PF\", \" PF\", \" PF\", \" PF\", \" PF\", \" PF\", \" PF\", \" PF\", \" PF\", \" PF\"], \"type\": \"scatterpolar\"}, {\"hovertemplate\": \"PTS=%{r}<br>POSITION=%{theta}<extra></extra>\", \"legendgroup\": \"1654\", \"line\": {\"color\": \"#fdca26\", \"dash\": \"solid\"}, \"mode\": \"lines\", \"name\": \"1654\", \"r\": [1654, 1654, 1654, 1654, 1654, 1654, 1654, 1654, 1654, 1654, 1654, 1654, 1654], \"showlegend\": true, \"subplot\": \"polar\", \"theta\": [\" SF\", \" SF\", \" SF\", \" SF\", \" SF\", \" SF\", \" SF\", \" SF\", \" SF\", \" SF\", \" SF\", \" SF\", \" SF\"], \"type\": \"scatterpolar\"}, {\"hovertemplate\": \"PTS=%{r}<br>POSITION=%{theta}<extra></extra>\", \"legendgroup\": \"1725\", \"line\": {\"color\": \"#fb9f3a\", \"dash\": \"solid\"}, \"mode\": \"lines\", \"name\": \"1725\", \"r\": [1725, 1725, 1725, 1725, 1725, 1725, 1725, 1725, 1725, 1725, 1725, 1725], \"showlegend\": true, \"subplot\": \"polar\", \"theta\": [\" PF\", \" PF\", \" PF\", \" PF\", \" PF\", \" PF\", \" PF\", \" PF\", \" PF\", \" PF\", \" PF\", \" PF\"], \"type\": \"scatterpolar\"}, {\"hovertemplate\": \"PTS=%{r}<br>POSITION=%{theta}<extra></extra>\", \"legendgroup\": \"810\", \"line\": {\"color\": \"#ed7953\", \"dash\": \"solid\"}, \"mode\": \"lines\", \"name\": \"810\", \"r\": [810, 810, 810, 810, 810, 810, 810, 810], \"showlegend\": true, \"subplot\": \"polar\", \"theta\": [\" PF\", \" PF\", \" PF\", \" PF\", \" PF\", \" PF\", \" PF\", \" PF\"], \"type\": \"scatterpolar\"}, {\"hovertemplate\": \"PTS=%{r}<br>POSITION=%{theta}<extra></extra>\", \"legendgroup\": \"1104\", \"line\": {\"color\": \"#d8576b\", \"dash\": \"solid\"}, \"mode\": \"lines\", \"name\": \"1104\", \"r\": [1104, 1104, 1104, 1104, 1104, 1104], \"showlegend\": true, \"subplot\": \"polar\", \"theta\": [\" C\", \" C\", \" C\", \" C\", \" C\", \" C\"], \"type\": \"scatterpolar\"}, {\"hovertemplate\": \"PTS=%{r}<br>POSITION=%{theta}<extra></extra>\", \"legendgroup\": \"742\", \"line\": {\"color\": \"#bd3786\", \"dash\": \"solid\"}, \"mode\": \"lines\", \"name\": \"742\", \"r\": [742, 742, 742, 742, 742], \"showlegend\": true, \"subplot\": \"polar\", \"theta\": [\" F\", \" F\", \" F\", \" F\", \" F\"], \"type\": \"scatterpolar\"}, {\"hovertemplate\": \"PTS=%{r}<br>POSITION=%{theta}<extra></extra>\", \"legendgroup\": \"436\", \"line\": {\"color\": \"#9c179e\", \"dash\": \"solid\"}, \"mode\": \"lines\", \"name\": \"436\", \"r\": [436, 436, 436, 436, 436, 436], \"showlegend\": true, \"subplot\": \"polar\", \"theta\": [\" C\", \" C\", \" C\", \" C\", \" C\", \" C\"], \"type\": \"scatterpolar\"}, {\"hovertemplate\": \"PTS=%{r}<br>POSITION=%{theta}<extra></extra>\", \"legendgroup\": \"880\", \"line\": {\"color\": \"#7201a8\", \"dash\": \"solid\"}, \"mode\": \"lines\", \"name\": \"880\", \"r\": [880, 880, 880, 880, 880, 880, 880, 880], \"showlegend\": true, \"subplot\": \"polar\", \"theta\": [\" SF\", \" SF\", \" SF\", \" SF\", \" SF\", \" SF\", \" SF\", \" SF\"], \"type\": \"scatterpolar\"}, {\"hovertemplate\": \"PTS=%{r}<br>POSITION=%{theta}<extra></extra>\", \"legendgroup\": \"705\", \"line\": {\"color\": \"#46039f\", \"dash\": \"solid\"}, \"mode\": \"lines\", \"name\": \"705\", \"r\": [705, 705, 705, 705, 705, 705, 705], \"showlegend\": true, \"subplot\": \"polar\", \"theta\": [\" G\", \" G\", \" G\", \" G\", \" G\", \" G\", \" G\"], \"type\": \"scatterpolar\"}, {\"hovertemplate\": \"PTS=%{r}<br>POSITION=%{theta}<extra></extra>\", \"legendgroup\": \"581\", \"line\": {\"color\": \"#0d0887\", \"dash\": \"solid\"}, \"mode\": \"lines\", \"name\": \"581\", \"r\": [581, 581, 581, 581, 581, 581, 581, 581, 581, 581, 581], \"showlegend\": true, \"subplot\": \"polar\", \"theta\": [\" G\", \" G\", \" G\", \" G\", \" G\", \" G\", \" G\", \" G\", \" G\", \" G\", \" G\"], \"type\": \"scatterpolar\"}, {\"hovertemplate\": \"PTS=%{r}<br>POSITION=%{theta}<extra></extra>\", \"legendgroup\": \"51\", \"line\": {\"color\": \"#f0f921\", \"dash\": \"solid\"}, \"mode\": \"lines\", \"name\": \"51\", \"r\": [51, 51], \"showlegend\": true, \"subplot\": \"polar\", \"theta\": [\" C\", \" C\"], \"type\": \"scatterpolar\"}, {\"hovertemplate\": \"PTS=%{r}<br>POSITION=%{theta}<extra></extra>\", \"legendgroup\": \"114\", \"line\": {\"color\": \"#fdca26\", \"dash\": \"solid\"}, \"mode\": \"lines\", \"name\": \"114\", \"r\": [114, 114, 114, 114, 114, 114, 114, 114, 114, 114, 114], \"showlegend\": true, \"subplot\": \"polar\", \"theta\": [\" F\", \" F\", \" F\", \" F\", \" F\", \" F\", \" F\", \" F\", \" F\", \" F\", \" F\"], \"type\": \"scatterpolar\"}, {\"hovertemplate\": \"PTS=%{r}<br>POSITION=%{theta}<extra></extra>\", \"legendgroup\": \"277\", \"line\": {\"color\": \"#fb9f3a\", \"dash\": \"solid\"}, \"mode\": \"lines\", \"name\": \"277\", \"r\": [277, 277, 277, 277, 277, 277, 277, 277, 277, 277, 277], \"showlegend\": true, \"subplot\": \"polar\", \"theta\": [\" G\", \" G\", \" G\", \" G\", \" G\", \" G\", \" G\", \" G\", \" G\", \" G\", \" G\"], \"type\": \"scatterpolar\"}, {\"hovertemplate\": \"PTS=%{r}<br>POSITION=%{theta}<extra></extra>\", \"legendgroup\": \"511\", \"line\": {\"color\": \"#ed7953\", \"dash\": \"solid\"}, \"mode\": \"lines\", \"name\": \"511\", \"r\": [511, 511, 511, 511, 511, 511], \"showlegend\": true, \"subplot\": \"polar\", \"theta\": [\" PG\", \" PG\", \" PG\", \" PG\", \" PG\", \" PG\"], \"type\": \"scatterpolar\"}, {\"hovertemplate\": \"PTS=%{r}<br>POSITION=%{theta}<extra></extra>\", \"legendgroup\": \"1151\", \"line\": {\"color\": \"#d8576b\", \"dash\": \"solid\"}, \"mode\": \"lines\", \"name\": \"1151\", \"r\": [1151, 1151, 1151], \"showlegend\": true, \"subplot\": \"polar\", \"theta\": [\" SG\", \" SG\", \" SG\"], \"type\": \"scatterpolar\"}, {\"hovertemplate\": \"PTS=%{r}<br>POSITION=%{theta}<extra></extra>\", \"legendgroup\": \"1441\", \"line\": {\"color\": \"#bd3786\", \"dash\": \"solid\"}, \"mode\": \"lines\", \"name\": \"1441\", \"r\": [1441, 1441, 1441, 1441, 1441, 1441, 1441, 1441, 1441, 1441], \"showlegend\": true, \"subplot\": \"polar\", \"theta\": [\" PF\", \" PF\", \" PF\", \" PF\", \" PF\", \" PF\", \" PF\", \" PF\", \" PF\", \" PF\"], \"type\": \"scatterpolar\"}, {\"hovertemplate\": \"PTS=%{r}<br>POSITION=%{theta}<extra></extra>\", \"legendgroup\": \"13\", \"line\": {\"color\": \"#9c179e\", \"dash\": \"solid\"}, \"mode\": \"lines\", \"name\": \"13\", \"r\": [13, 13, 13, 13, 13, 13, 13], \"showlegend\": true, \"subplot\": \"polar\", \"theta\": [\" SG\", \" SG\", \" SG\", \" SG\", \" SG\", \" SG\", \" SG\"], \"type\": \"scatterpolar\"}, {\"hovertemplate\": \"PTS=%{r}<br>POSITION=%{theta}<extra></extra>\", \"legendgroup\": \"814\", \"line\": {\"color\": \"#7201a8\", \"dash\": \"solid\"}, \"mode\": \"lines\", \"name\": \"814\", \"r\": [814, 814, 814, 814, 814, 814, 814], \"showlegend\": true, \"subplot\": \"polar\", \"theta\": [\" PF\", \" PF\", \" PF\", \" PF\", \" PF\", \" PF\", \" PF\"], \"type\": \"scatterpolar\"}],                        {\"legend\": {\"title\": {\"text\": \"PTS\"}, \"tracegroupgap\": 0}, \"margin\": {\"t\": 60}, \"polar\": {\"angularaxis\": {\"direction\": \"clockwise\", \"rotation\": 90}, \"domain\": {\"x\": [0.0, 1.0], \"y\": [0.0, 1.0]}, \"radialaxis\": {\"categoryarray\": [627, 1028, 1503, 796, 1048, 1054, 190, 1387, 243, 265, 32, 525, 78, 104, 33, 201, 1106, 780, 227, 867, 165, 1562, 748, 476, 826, 494, 304, 283, 799, 507, 140, 944, 599, 208, 109, 543, 533, 751, 180, 353, 0, 3, 359, 388, 1845, 1143, 1131, 1399, 769, 587, 753, 461, 662, 426, 1068, 1256, 246, 1252, 1361, 899, 170, 975, 487, 228, 488, 821, 1624, 498, 56, 559, 501, 955, 565, 846, 1258, 345, 74, 864, 768, 463, 981, 475, 741, 131, 715, 1235, 711, 1105, 499, 991, 861, 1654, 1725, 810, 1104, 742, 436, 880, 705, 581, 51, 114, 277, 511, 1151, 1441, 13, 814], \"categoryorder\": \"array\"}}, \"template\": {\"data\": {\"bar\": [{\"error_x\": {\"color\": \"#f2f5fa\"}, \"error_y\": {\"color\": \"#f2f5fa\"}, \"marker\": {\"line\": {\"color\": \"rgb(17,17,17)\", \"width\": 0.5}}, \"type\": \"bar\"}], \"barpolar\": [{\"marker\": {\"line\": {\"color\": \"rgb(17,17,17)\", \"width\": 0.5}}, \"type\": \"barpolar\"}], \"carpet\": [{\"aaxis\": {\"endlinecolor\": \"#A2B1C6\", \"gridcolor\": \"#506784\", \"linecolor\": \"#506784\", \"minorgridcolor\": \"#506784\", \"startlinecolor\": \"#A2B1C6\"}, \"baxis\": {\"endlinecolor\": \"#A2B1C6\", \"gridcolor\": \"#506784\", \"linecolor\": \"#506784\", \"minorgridcolor\": \"#506784\", \"startlinecolor\": \"#A2B1C6\"}, \"type\": \"carpet\"}], \"choropleth\": [{\"colorbar\": {\"outlinewidth\": 0, \"ticks\": \"\"}, \"type\": \"choropleth\"}], \"contour\": [{\"colorbar\": {\"outlinewidth\": 0, \"ticks\": \"\"}, \"colorscale\": [[0.0, \"#0d0887\"], [0.1111111111111111, \"#46039f\"], [0.2222222222222222, \"#7201a8\"], [0.3333333333333333, \"#9c179e\"], [0.4444444444444444, \"#bd3786\"], [0.5555555555555556, \"#d8576b\"], [0.6666666666666666, \"#ed7953\"], [0.7777777777777778, \"#fb9f3a\"], [0.8888888888888888, \"#fdca26\"], [1.0, \"#f0f921\"]], \"type\": \"contour\"}], \"contourcarpet\": [{\"colorbar\": {\"outlinewidth\": 0, \"ticks\": \"\"}, \"type\": \"contourcarpet\"}], \"heatmap\": [{\"colorbar\": {\"outlinewidth\": 0, \"ticks\": \"\"}, \"colorscale\": [[0.0, \"#0d0887\"], [0.1111111111111111, \"#46039f\"], [0.2222222222222222, \"#7201a8\"], [0.3333333333333333, \"#9c179e\"], [0.4444444444444444, \"#bd3786\"], [0.5555555555555556, \"#d8576b\"], [0.6666666666666666, \"#ed7953\"], [0.7777777777777778, \"#fb9f3a\"], [0.8888888888888888, \"#fdca26\"], [1.0, \"#f0f921\"]], \"type\": \"heatmap\"}], \"heatmapgl\": [{\"colorbar\": {\"outlinewidth\": 0, \"ticks\": \"\"}, \"colorscale\": [[0.0, \"#0d0887\"], [0.1111111111111111, \"#46039f\"], [0.2222222222222222, \"#7201a8\"], [0.3333333333333333, \"#9c179e\"], [0.4444444444444444, \"#bd3786\"], [0.5555555555555556, \"#d8576b\"], [0.6666666666666666, \"#ed7953\"], [0.7777777777777778, \"#fb9f3a\"], [0.8888888888888888, \"#fdca26\"], [1.0, \"#f0f921\"]], \"type\": \"heatmapgl\"}], \"histogram\": [{\"marker\": {\"colorbar\": {\"outlinewidth\": 0, \"ticks\": \"\"}}, \"type\": \"histogram\"}], \"histogram2d\": [{\"colorbar\": {\"outlinewidth\": 0, \"ticks\": \"\"}, \"colorscale\": [[0.0, \"#0d0887\"], [0.1111111111111111, \"#46039f\"], [0.2222222222222222, \"#7201a8\"], [0.3333333333333333, \"#9c179e\"], [0.4444444444444444, \"#bd3786\"], [0.5555555555555556, \"#d8576b\"], [0.6666666666666666, \"#ed7953\"], [0.7777777777777778, \"#fb9f3a\"], [0.8888888888888888, \"#fdca26\"], [1.0, \"#f0f921\"]], \"type\": \"histogram2d\"}], \"histogram2dcontour\": [{\"colorbar\": {\"outlinewidth\": 0, \"ticks\": \"\"}, \"colorscale\": [[0.0, \"#0d0887\"], [0.1111111111111111, \"#46039f\"], [0.2222222222222222, \"#7201a8\"], [0.3333333333333333, \"#9c179e\"], [0.4444444444444444, \"#bd3786\"], [0.5555555555555556, \"#d8576b\"], [0.6666666666666666, \"#ed7953\"], [0.7777777777777778, \"#fb9f3a\"], [0.8888888888888888, \"#fdca26\"], [1.0, \"#f0f921\"]], \"type\": \"histogram2dcontour\"}], \"mesh3d\": [{\"colorbar\": {\"outlinewidth\": 0, \"ticks\": \"\"}, \"type\": \"mesh3d\"}], \"parcoords\": [{\"line\": {\"colorbar\": {\"outlinewidth\": 0, \"ticks\": \"\"}}, \"type\": \"parcoords\"}], \"pie\": [{\"automargin\": true, \"type\": \"pie\"}], \"scatter\": [{\"marker\": {\"line\": {\"color\": \"#283442\"}}, \"type\": \"scatter\"}], \"scatter3d\": [{\"line\": {\"colorbar\": {\"outlinewidth\": 0, \"ticks\": \"\"}}, \"marker\": {\"colorbar\": {\"outlinewidth\": 0, \"ticks\": \"\"}}, \"type\": \"scatter3d\"}], \"scattercarpet\": [{\"marker\": {\"colorbar\": {\"outlinewidth\": 0, \"ticks\": \"\"}}, \"type\": \"scattercarpet\"}], \"scattergeo\": [{\"marker\": {\"colorbar\": {\"outlinewidth\": 0, \"ticks\": \"\"}}, \"type\": \"scattergeo\"}], \"scattergl\": [{\"marker\": {\"line\": {\"color\": \"#283442\"}}, \"type\": \"scattergl\"}], \"scattermapbox\": [{\"marker\": {\"colorbar\": {\"outlinewidth\": 0, \"ticks\": \"\"}}, \"type\": \"scattermapbox\"}], \"scatterpolar\": [{\"marker\": {\"colorbar\": {\"outlinewidth\": 0, \"ticks\": \"\"}}, \"type\": \"scatterpolar\"}], \"scatterpolargl\": [{\"marker\": {\"colorbar\": {\"outlinewidth\": 0, \"ticks\": \"\"}}, \"type\": \"scatterpolargl\"}], \"scatterternary\": [{\"marker\": {\"colorbar\": {\"outlinewidth\": 0, \"ticks\": \"\"}}, \"type\": \"scatterternary\"}], \"surface\": [{\"colorbar\": {\"outlinewidth\": 0, \"ticks\": \"\"}, \"colorscale\": [[0.0, \"#0d0887\"], [0.1111111111111111, \"#46039f\"], [0.2222222222222222, \"#7201a8\"], [0.3333333333333333, \"#9c179e\"], [0.4444444444444444, \"#bd3786\"], [0.5555555555555556, \"#d8576b\"], [0.6666666666666666, \"#ed7953\"], [0.7777777777777778, \"#fb9f3a\"], [0.8888888888888888, \"#fdca26\"], [1.0, \"#f0f921\"]], \"type\": \"surface\"}], \"table\": [{\"cells\": {\"fill\": {\"color\": \"#506784\"}, \"line\": {\"color\": \"rgb(17,17,17)\"}}, \"header\": {\"fill\": {\"color\": \"#2a3f5f\"}, \"line\": {\"color\": \"rgb(17,17,17)\"}}, \"type\": \"table\"}]}, \"layout\": {\"annotationdefaults\": {\"arrowcolor\": \"#f2f5fa\", \"arrowhead\": 0, \"arrowwidth\": 1}, \"coloraxis\": {\"colorbar\": {\"outlinewidth\": 0, \"ticks\": \"\"}}, \"colorscale\": {\"diverging\": [[0, \"#8e0152\"], [0.1, \"#c51b7d\"], [0.2, \"#de77ae\"], [0.3, \"#f1b6da\"], [0.4, \"#fde0ef\"], [0.5, \"#f7f7f7\"], [0.6, \"#e6f5d0\"], [0.7, \"#b8e186\"], [0.8, \"#7fbc41\"], [0.9, \"#4d9221\"], [1, \"#276419\"]], \"sequential\": [[0.0, \"#0d0887\"], [0.1111111111111111, \"#46039f\"], [0.2222222222222222, \"#7201a8\"], [0.3333333333333333, \"#9c179e\"], [0.4444444444444444, \"#bd3786\"], [0.5555555555555556, \"#d8576b\"], [0.6666666666666666, \"#ed7953\"], [0.7777777777777778, \"#fb9f3a\"], [0.8888888888888888, \"#fdca26\"], [1.0, \"#f0f921\"]], \"sequentialminus\": [[0.0, \"#0d0887\"], [0.1111111111111111, \"#46039f\"], [0.2222222222222222, \"#7201a8\"], [0.3333333333333333, \"#9c179e\"], [0.4444444444444444, \"#bd3786\"], [0.5555555555555556, \"#d8576b\"], [0.6666666666666666, \"#ed7953\"], [0.7777777777777778, \"#fb9f3a\"], [0.8888888888888888, \"#fdca26\"], [1.0, \"#f0f921\"]]}, \"colorway\": [\"#636efa\", \"#EF553B\", \"#00cc96\", \"#ab63fa\", \"#FFA15A\", \"#19d3f3\", \"#FF6692\", \"#B6E880\", \"#FF97FF\", \"#FECB52\"], \"font\": {\"color\": \"#f2f5fa\"}, \"geo\": {\"bgcolor\": \"rgb(17,17,17)\", \"lakecolor\": \"rgb(17,17,17)\", \"landcolor\": \"rgb(17,17,17)\", \"showlakes\": true, \"showland\": true, \"subunitcolor\": \"#506784\"}, \"hoverlabel\": {\"align\": \"left\"}, \"hovermode\": \"closest\", \"mapbox\": {\"style\": \"dark\"}, \"paper_bgcolor\": \"rgb(17,17,17)\", \"plot_bgcolor\": \"rgb(17,17,17)\", \"polar\": {\"angularaxis\": {\"gridcolor\": \"#506784\", \"linecolor\": \"#506784\", \"ticks\": \"\"}, \"bgcolor\": \"rgb(17,17,17)\", \"radialaxis\": {\"gridcolor\": \"#506784\", \"linecolor\": \"#506784\", \"ticks\": \"\"}}, \"scene\": {\"xaxis\": {\"backgroundcolor\": \"rgb(17,17,17)\", \"gridcolor\": \"#506784\", \"gridwidth\": 2, \"linecolor\": \"#506784\", \"showbackground\": true, \"ticks\": \"\", \"zerolinecolor\": \"#C8D4E3\"}, \"yaxis\": {\"backgroundcolor\": \"rgb(17,17,17)\", \"gridcolor\": \"#506784\", \"gridwidth\": 2, \"linecolor\": \"#506784\", \"showbackground\": true, \"ticks\": \"\", \"zerolinecolor\": \"#C8D4E3\"}, \"zaxis\": {\"backgroundcolor\": \"rgb(17,17,17)\", \"gridcolor\": \"#506784\", \"gridwidth\": 2, \"linecolor\": \"#506784\", \"showbackground\": true, \"ticks\": \"\", \"zerolinecolor\": \"#C8D4E3\"}}, \"shapedefaults\": {\"line\": {\"color\": \"#f2f5fa\"}}, \"sliderdefaults\": {\"bgcolor\": \"#C8D4E3\", \"bordercolor\": \"rgb(17,17,17)\", \"borderwidth\": 1, \"tickwidth\": 0}, \"ternary\": {\"aaxis\": {\"gridcolor\": \"#506784\", \"linecolor\": \"#506784\", \"ticks\": \"\"}, \"baxis\": {\"gridcolor\": \"#506784\", \"linecolor\": \"#506784\", \"ticks\": \"\"}, \"bgcolor\": \"rgb(17,17,17)\", \"caxis\": {\"gridcolor\": \"#506784\", \"linecolor\": \"#506784\", \"ticks\": \"\"}}, \"title\": {\"x\": 0.05}, \"updatemenudefaults\": {\"bgcolor\": \"#506784\", \"borderwidth\": 0}, \"xaxis\": {\"automargin\": true, \"gridcolor\": \"#283442\", \"linecolor\": \"#506784\", \"ticks\": \"\", \"title\": {\"standoff\": 15}, \"zerolinecolor\": \"#283442\", \"zerolinewidth\": 2}, \"yaxis\": {\"automargin\": true, \"gridcolor\": \"#283442\", \"linecolor\": \"#506784\", \"ticks\": \"\", \"title\": {\"standoff\": 15}, \"zerolinecolor\": \"#283442\", \"zerolinewidth\": 2}}}},                        {\"responsive\": true}                    ).then(function(){\n",
       "                            \n",
       "var gd = document.getElementById('fc0bfa2f-27dc-4fca-8b20-5f218934872c');\n",
       "var x = new MutationObserver(function (mutations, observer) {{\n",
       "        var display = window.getComputedStyle(gd).display;\n",
       "        if (!display || display === 'none') {{\n",
       "            console.log([gd, 'removed!']);\n",
       "            Plotly.purge(gd);\n",
       "            observer.disconnect();\n",
       "        }}\n",
       "}});\n",
       "\n",
       "// Listen for the removal of the full notebook cells\n",
       "var notebookContainer = gd.closest('#notebook-container');\n",
       "if (notebookContainer) {{\n",
       "    x.observe(notebookContainer, {childList: true});\n",
       "}}\n",
       "\n",
       "// Listen for the clearing of the current output cell\n",
       "var outputEl = gd.closest('.output');\n",
       "if (outputEl) {{\n",
       "    x.observe(outputEl, {childList: true});\n",
       "}}\n",
       "\n",
       "                        })                };                });            </script>        </div>"
      ]
     },
     "metadata": {},
     "output_type": "display_data"
    }
   ],
   "source": [
    "import plotly.express as px\n",
    "df = px.data.wind()\n",
    "fig = px.line_polar(first_year, r=\"PTS\", theta=\"POSITION\", color=\"PTS\", line_close=True,\n",
    "                    color_discrete_sequence=px.colors.sequential.Plasma_r,\n",
    "                    template=\"plotly_dark\",)\n",
    "fig.show()"
   ]
  },
  {
   "cell_type": "markdown",
   "metadata": {},
   "source": [
    "https://plotly.com/python/polar-chart/"
   ]
  },
  {
   "cell_type": "code",
   "execution_count": 25,
   "metadata": {
    "ExecuteTime": {
     "end_time": "2020-09-19T00:40:28.281920Z",
     "start_time": "2020-09-19T00:40:28.266961Z"
    }
   },
   "outputs": [],
   "source": [
    "# import plotly.express as px\n",
    "# df = px.data.wind()\n",
    "# fig = px.line_polar(twenty_years_all_players, r=\"PTS\", theta=\"POSITION\", color=\"YIL\", line_close=True,\n",
    "#                     color_discrete_sequence=px.colors.sequential.Plasma_r,\n",
    "#                     template=\"plotly_dark\",)\n",
    "# fig.show()"
   ]
  },
  {
   "cell_type": "code",
   "execution_count": 26,
   "metadata": {
    "ExecuteTime": {
     "end_time": "2020-09-19T00:40:31.232732Z",
     "start_time": "2020-09-19T00:40:31.220765Z"
    }
   },
   "outputs": [],
   "source": [
    "# df = px.data.wind()\n",
    "# df"
   ]
  },
  {
   "cell_type": "code",
   "execution_count": null,
   "metadata": {},
   "outputs": [],
   "source": []
  },
  {
   "cell_type": "code",
   "execution_count": null,
   "metadata": {},
   "outputs": [],
   "source": []
  },
  {
   "cell_type": "code",
   "execution_count": null,
   "metadata": {},
   "outputs": [],
   "source": []
  },
  {
   "cell_type": "code",
   "execution_count": null,
   "metadata": {},
   "outputs": [],
   "source": []
  }
 ],
 "metadata": {
  "kernelspec": {
   "display_name": "Python 3",
   "language": "python",
   "name": "python3"
  },
  "language_info": {
   "codemirror_mode": {
    "name": "ipython",
    "version": 3
   },
   "file_extension": ".py",
   "mimetype": "text/x-python",
   "name": "python",
   "nbconvert_exporter": "python",
   "pygments_lexer": "ipython3",
   "version": "3.7.1"
  }
 },
 "nbformat": 4,
 "nbformat_minor": 4
}
