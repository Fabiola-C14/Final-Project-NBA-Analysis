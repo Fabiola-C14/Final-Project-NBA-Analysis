{
 "cells": [
  {
   "cell_type": "markdown",
   "metadata": {},
   "source": [
    "## Libraries"
   ]
  },
  {
   "cell_type": "code",
   "execution_count": 1,
   "metadata": {
    "ExecuteTime": {
     "end_time": "2020-10-02T03:25:33.859851Z",
     "start_time": "2020-10-02T03:25:33.209036Z"
    }
   },
   "outputs": [],
   "source": [
    "%matplotlib inline\n",
    "import matplotlib.pyplot as plt\n",
    "import numpy as np\n",
    "import pandas as pd\n",
    "\n",
    "# Dependencies and Setup\n",
    "import time\n",
    "from pprint import pprint\n",
    "import requests\n",
    "from datetime import date, timedelta, datetime\n",
    "import json\n",
    "from pprint import pprint\n",
    "from tqdm import tqdm\n",
    "from tqdm import tqdm_notebook\n",
    "# sqlite Dependencies\n",
    "# ----------------------------------\n",
    "# Allow us to declare column types\n",
    "from sqlalchemy import Column, Integer, String, Text, DateTime, Float, Boolean, ForeignKey\n",
    "from sqlalchemy.orm import relationship\n",
    "from sqlalchemy.ext.declarative import declarative_base\n",
    "from sqlalchemy.orm import Session\n",
    "# Go to existing database with automap_base\n",
    "from sqlalchemy.ext.automap import automap_base\n",
    "# Work through mapper to use python code\n",
    "from sqlalchemy.orm import Session, relationship\n",
    "# Inspect with python\n",
    "from sqlalchemy import create_engine, inspect\n",
    "from config import APIKEY"
   ]
  },
  {
   "cell_type": "code",
   "execution_count": 2,
   "metadata": {
    "ExecuteTime": {
     "end_time": "2020-10-02T03:25:33.937962Z",
     "start_time": "2020-10-02T03:25:33.860889Z"
    }
   },
   "outputs": [],
   "source": [
    "from nba_api.stats.endpoints import playercareerstats, drafthistory, commonplayerinfo, playerawards"
   ]
  },
  {
   "cell_type": "code",
   "execution_count": 3,
   "metadata": {
    "ExecuteTime": {
     "end_time": "2020-10-02T03:25:33.954032Z",
     "start_time": "2020-10-02T03:25:33.938962Z"
    }
   },
   "outputs": [],
   "source": [
    "# Not used\n",
    "# cumestatsplayer,draftcombinedrillresults,playerdashboardbyteamperformance, leagueleaders, leaguedashplayerstats, draftcombinenonstationaryshooting, draftcombinestats, commonallplayers,"
   ]
  },
  {
   "cell_type": "markdown",
   "metadata": {},
   "source": [
    "-------------"
   ]
  },
  {
   "cell_type": "markdown",
   "metadata": {},
   "source": [
    "## All_Data import\n",
    "Will only need to run once since its 20 years of data and does not change as much."
   ]
  },
  {
   "cell_type": "code",
   "execution_count": 4,
   "metadata": {
    "ExecuteTime": {
     "end_time": "2020-10-02T03:25:33.969861Z",
     "start_time": "2020-10-02T03:25:33.955032Z"
    }
   },
   "outputs": [],
   "source": [
    "with open('../../datasets/_2020_yil_all_per_save.json') as json_file:\n",
    "    data_all = json.load(json_file)"
   ]
  },
  {
   "cell_type": "code",
   "execution_count": 5,
   "metadata": {
    "ExecuteTime": {
     "end_time": "2020-10-02T03:25:33.985421Z",
     "start_time": "2020-10-02T03:25:33.970855Z"
    }
   },
   "outputs": [],
   "source": [
    "import locale"
   ]
  },
  {
   "cell_type": "code",
   "execution_count": 6,
   "metadata": {
    "ExecuteTime": {
     "end_time": "2020-10-02T03:25:34.016619Z",
     "start_time": "2020-10-02T03:25:33.986380Z"
    }
   },
   "outputs": [],
   "source": [
    "all_data_logs = pd.read_json(data_all).copy()\n",
    "all_data_logs\n",
    "\n",
    "new_values_once = []\n",
    "for value in all_data_logs['INFLATION']:\n",
    "    sala = value\n",
    "    locale.setlocale(locale.LC_ALL, '')\n",
    "    val = locale.currency(sala, symbol=False, grouping=True)\n",
    "    new_values_once.append(val)\n",
    "all_data_logs['INFLATION'] = new_values_once\n",
    "\n",
    "new_values_SAL_PRED_once = []\n",
    "for value in all_data_logs['SAL_PRED']:\n",
    "    sala = value\n",
    "    locale.setlocale(locale.LC_ALL, '')\n",
    "    val = locale.currency(sala, symbol=False, grouping=True)\n",
    "    new_values_SAL_PRED_once.append(val)\n",
    "all_data_logs['SAL_PRED'] = new_values_SAL_PRED_once\n"
   ]
  },
  {
   "cell_type": "code",
   "execution_count": null,
   "metadata": {},
   "outputs": [],
   "source": []
  },
  {
   "cell_type": "code",
   "execution_count": 7,
   "metadata": {
    "ExecuteTime": {
     "end_time": "2020-10-02T03:25:34.031694Z",
     "start_time": "2020-10-02T03:25:34.017657Z"
    }
   },
   "outputs": [],
   "source": [
    "# Create Weather and Earthquake Classes\n",
    "# ----------------------------------\n",
    "# Sets an object to utilize the default declarative base in SQL Alchemy\n",
    "Base = declarative_base()"
   ]
  },
  {
   "cell_type": "code",
   "execution_count": 8,
   "metadata": {
    "ExecuteTime": {
     "end_time": "2020-10-02T03:25:34.047515Z",
     "start_time": "2020-10-02T03:25:34.033688Z"
    }
   },
   "outputs": [],
   "source": [
    "# Use this to clear out the db\n",
    "# ----------------------------------\n",
    "# # Session.rollback(self)\n",
    "# Base.metadata.drop_all(engine)\n",
    "# session.commit()"
   ]
  },
  {
   "cell_type": "code",
   "execution_count": 9,
   "metadata": {
    "ExecuteTime": {
     "end_time": "2020-10-02T03:25:34.063409Z",
     "start_time": "2020-10-02T03:25:34.048252Z"
    }
   },
   "outputs": [],
   "source": [
    "## Class base template to upload to sqlite\n",
    "class TopAllYil5(Base):\n",
    "    __tablename__ = 'topAllYil5'\n",
    " \n",
    "    id = Column(Integer, primary_key=True)\n",
    "    POSITION = Column(String(3))\n",
    "    PLAYER_NAME = Column(String(70))\n",
    "    PHOTO = Column(String())\n",
    "    YEAR = Column(Float)\n",
    "    YIL = Column(Float)\n",
    "    ROUND_NUMBER = Column(Float)\n",
    "    OVERALL_PICK = Column(Float)\n",
    "    MIN_PRED = Column(Float)\n",
    "    PER = Column(Float)\n",
    "    INJURY_PY = Column(Float)\n",
    "    INFLATION = Column(String(70))\n",
    "    SAL_PRED = Column(String(70))\n",
    "    SAL_RISIDUAL = Column(Float)\n"
   ]
  },
  {
   "cell_type": "code",
   "execution_count": 10,
   "metadata": {
    "ExecuteTime": {
     "end_time": "2020-10-02T03:25:34.079267Z",
     "start_time": "2020-10-02T03:25:34.064304Z"
    }
   },
   "outputs": [],
   "source": [
    "# Create Database Connection\n",
    "# ----------------------------------\n",
    "# Creates a connection to our DB\n",
    "# Engine opens the door. Conn is the walk through sign\n",
    "engine = create_engine(\"sqlite:///db.sqlite\")\n",
    "conn = engine.connect()\n",
    "# Create a \"Metadata\" Layer That Abstracts our SQL Database\n",
    "# ----------------------------------\n",
    "# Create (if not already in existence) the tables associated with our classes.\n",
    "Base.metadata.create_all(engine)\n",
    "# Create a Session Object to Connect to DB\n",
    "# ----------------------------------\n",
    "session = Session(bind=engine)"
   ]
  },
  {
   "cell_type": "code",
   "execution_count": 11,
   "metadata": {
    "ExecuteTime": {
     "end_time": "2020-10-02T03:25:34.095360Z",
     "start_time": "2020-10-02T03:25:34.080294Z"
    }
   },
   "outputs": [],
   "source": [
    "# Function: Add Weather Series to sql\n",
    "def addToSQL(all_logs):\n",
    "    x=0\n",
    "    while x <= (len(all_logs) - 1):\n",
    "#         try: \n",
    "        TopAll_Yil5 = TopAllYil5(\n",
    "            POSITION = all_logs[\"POSITION\"][x],\n",
    "            PLAYER_NAME = all_logs[\"PLAYER_NAME\"][x],\n",
    "            PHOTO = all_logs['PHOTO'][x],\n",
    "            YEAR = all_logs[\"YEAR\"][x],\n",
    "            YIL = all_logs[\"YIL\"][x],\n",
    "            ROUND_NUMBER = all_logs[\"ROUND_NUMBER\"][x],\n",
    "            OVERALL_PICK = all_logs[\"OVERALL_PICK\"][x],\n",
    "            MIN_PRED = all_logs[\"MIN_PRED\"][x],\n",
    "            PER = all_logs[\"PER\"][x],\n",
    "            INJURY_PY = all_logs[\"INJURY_PY\"][x],\n",
    "            INFLATION = all_logs[\"INFLATION\"][x],\n",
    "            SAL_PRED = all_logs[\"SAL_PRED\"][x],\n",
    "            SAL_RISIDUAL = all_logs[\"SAL_RISIDUAL\"][x],\n",
    "                )\n",
    "        x+=1\n",
    "#         except OperationalError as e:\n",
    "#             pass\n",
    "            \n",
    "        # Add Records to the Appropriate DB\n",
    "        # ----------------------------------\n",
    "        # Use the SQL ALchemy methods to run simple \"INSERT\" statements using the classes and objects  \n",
    "        session.add(TopAll_Yil5)\n",
    "        # session.add(earthquake_data)\n",
    "        session.commit()\n",
    "    return 'Complete: Uploaded to SQLite DB'"
   ]
  },
  {
   "cell_type": "code",
   "execution_count": 12,
   "metadata": {
    "ExecuteTime": {
     "end_time": "2020-10-02T03:25:34.205815Z",
     "start_time": "2020-10-02T03:25:34.096238Z"
    }
   },
   "outputs": [
    {
     "data": {
      "text/plain": [
       "'Complete: Uploaded to SQLite DB'"
      ]
     },
     "execution_count": 12,
     "metadata": {},
     "output_type": "execute_result"
    }
   ],
   "source": [
    "addToSQL(all_data_logs)"
   ]
  },
  {
   "cell_type": "code",
   "execution_count": null,
   "metadata": {},
   "outputs": [],
   "source": []
  },
  {
   "cell_type": "code",
   "execution_count": null,
   "metadata": {},
   "outputs": [],
   "source": []
  },
  {
   "cell_type": "markdown",
   "metadata": {},
   "source": [
    "## Open Saved JSON"
   ]
  },
  {
   "cell_type": "code",
   "execution_count": 13,
   "metadata": {
    "ExecuteTime": {
     "end_time": "2020-10-02T03:25:34.221774Z",
     "start_time": "2020-10-02T03:25:34.206783Z"
    }
   },
   "outputs": [],
   "source": [
    "with open('../../datasets/_2020_yil_3_per_only_save.json') as json_file:\n",
    "    data = json.load(json_file)"
   ]
  },
  {
   "cell_type": "code",
   "execution_count": 14,
   "metadata": {
    "ExecuteTime": {
     "end_time": "2020-10-02T03:25:34.237699Z",
     "start_time": "2020-10-02T03:25:34.222739Z"
    }
   },
   "outputs": [],
   "source": [
    "import locale"
   ]
  },
  {
   "cell_type": "code",
   "execution_count": 15,
   "metadata": {
    "ExecuteTime": {
     "end_time": "2020-10-02T03:25:34.268943Z",
     "start_time": "2020-10-02T03:25:34.238546Z"
    }
   },
   "outputs": [],
   "source": [
    "all_logs = pd.read_json(data).copy()\n",
    "all_logs\n",
    "\n",
    "new_values = []\n",
    "for value in all_logs['INFLATION']:\n",
    "    sala = value\n",
    "    locale.setlocale(locale.LC_ALL, '')\n",
    "    val = locale.currency(sala, symbol=False, grouping=True)\n",
    "    new_values.append(val)\n",
    "all_logs['INFLATION'] = new_values\n",
    "\n",
    "new_values_SAL_PRED = []\n",
    "for value in all_logs['SAL_PRED']:\n",
    "    sala = value\n",
    "    locale.setlocale(locale.LC_ALL, '')\n",
    "    val = locale.currency(sala, symbol=False, grouping=True)\n",
    "    new_values_SAL_PRED.append(val)\n",
    "all_logs['SAL_PRED'] = new_values_SAL_PRED\n",
    "\n"
   ]
  },
  {
   "cell_type": "code",
   "execution_count": 16,
   "metadata": {
    "ExecuteTime": {
     "end_time": "2020-10-02T03:25:34.300834Z",
     "start_time": "2020-10-02T03:25:34.269913Z"
    }
   },
   "outputs": [
    {
     "data": {
      "text/html": [
       "<div>\n",
       "<style scoped>\n",
       "    .dataframe tbody tr th:only-of-type {\n",
       "        vertical-align: middle;\n",
       "    }\n",
       "\n",
       "    .dataframe tbody tr th {\n",
       "        vertical-align: top;\n",
       "    }\n",
       "\n",
       "    .dataframe thead th {\n",
       "        text-align: right;\n",
       "    }\n",
       "</style>\n",
       "<table border=\"1\" class=\"dataframe\">\n",
       "  <thead>\n",
       "    <tr style=\"text-align: right;\">\n",
       "      <th></th>\n",
       "      <th>PLAYER_ID</th>\n",
       "      <th>POSITION</th>\n",
       "      <th>PLAYER_NAME</th>\n",
       "      <th>PHOTO</th>\n",
       "      <th>SEASON_ID</th>\n",
       "      <th>YEAR</th>\n",
       "      <th>PLAYER_AGE</th>\n",
       "      <th>YIL</th>\n",
       "      <th>ROUND_NUMBER</th>\n",
       "      <th>OVERALL_PICK</th>\n",
       "      <th>...</th>\n",
       "      <th>PTS</th>\n",
       "      <th>PER</th>\n",
       "      <th>ALLSTAR</th>\n",
       "      <th>INJURY_PY</th>\n",
       "      <th>MIN</th>\n",
       "      <th>MIN_PRED</th>\n",
       "      <th>RISIDUAL</th>\n",
       "      <th>INFLATION</th>\n",
       "      <th>SAL_PRED</th>\n",
       "      <th>SAL_RISIDUAL</th>\n",
       "    </tr>\n",
       "  </thead>\n",
       "  <tbody>\n",
       "    <tr>\n",
       "      <th>0</th>\n",
       "      <td>1629029</td>\n",
       "      <td>SG</td>\n",
       "      <td>Luka Doncic</td>\n",
       "      <td>https://s3-us-west-2.amazonaws.com/static.fant...</td>\n",
       "      <td>2019-20</td>\n",
       "      <td>2020</td>\n",
       "      <td>21</td>\n",
       "      <td>2</td>\n",
       "      <td>1</td>\n",
       "      <td>3</td>\n",
       "      <td>...</td>\n",
       "      <td>1759</td>\n",
       "      <td>1997.61</td>\n",
       "      <td>0</td>\n",
       "      <td>0</td>\n",
       "      <td>2047</td>\n",
       "      <td>2666.25</td>\n",
       "      <td>1.303</td>\n",
       "      <td>7,683,360.00</td>\n",
       "      <td>8,993,686.00</td>\n",
       "      <td>1.17</td>\n",
       "    </tr>\n",
       "    <tr>\n",
       "      <th>1</th>\n",
       "      <td>1628369</td>\n",
       "      <td>PF</td>\n",
       "      <td>Jayson Tatum</td>\n",
       "      <td>https://s3-us-west-2.amazonaws.com/static.fant...</td>\n",
       "      <td>2019-20</td>\n",
       "      <td>2020</td>\n",
       "      <td>22</td>\n",
       "      <td>3</td>\n",
       "      <td>1</td>\n",
       "      <td>3</td>\n",
       "      <td>...</td>\n",
       "      <td>1547</td>\n",
       "      <td>1469.99</td>\n",
       "      <td>0</td>\n",
       "      <td>1</td>\n",
       "      <td>2265</td>\n",
       "      <td>2676.47</td>\n",
       "      <td>1.182</td>\n",
       "      <td>7,830,000.00</td>\n",
       "      <td>8,241,704.00</td>\n",
       "      <td>1.05</td>\n",
       "    </tr>\n",
       "    <tr>\n",
       "      <th>2</th>\n",
       "      <td>1629027</td>\n",
       "      <td>PG</td>\n",
       "      <td>Trae Young</td>\n",
       "      <td>https://s3-us-west-2.amazonaws.com/static.fant...</td>\n",
       "      <td>2019-20</td>\n",
       "      <td>2020</td>\n",
       "      <td>21</td>\n",
       "      <td>2</td>\n",
       "      <td>1</td>\n",
       "      <td>5</td>\n",
       "      <td>...</td>\n",
       "      <td>1778</td>\n",
       "      <td>1736.48</td>\n",
       "      <td>0</td>\n",
       "      <td>2</td>\n",
       "      <td>2120</td>\n",
       "      <td>2471.17</td>\n",
       "      <td>1.166</td>\n",
       "      <td>6,273,000.00</td>\n",
       "      <td>8,143,110.00</td>\n",
       "      <td>1.30</td>\n",
       "    </tr>\n",
       "    <tr>\n",
       "      <th>3</th>\n",
       "      <td>1628378</td>\n",
       "      <td>SG</td>\n",
       "      <td>Donovan Mitchell</td>\n",
       "      <td>https://s3-us-west-2.amazonaws.com/static.fant...</td>\n",
       "      <td>2019-20</td>\n",
       "      <td>2020</td>\n",
       "      <td>23</td>\n",
       "      <td>3</td>\n",
       "      <td>1</td>\n",
       "      <td>13</td>\n",
       "      <td>...</td>\n",
       "      <td>1655</td>\n",
       "      <td>1304.48</td>\n",
       "      <td>0</td>\n",
       "      <td>0</td>\n",
       "      <td>2364</td>\n",
       "      <td>2697.30</td>\n",
       "      <td>1.141</td>\n",
       "      <td>3,635,760.00</td>\n",
       "      <td>7,309,705.00</td>\n",
       "      <td>2.01</td>\n",
       "    </tr>\n",
       "    <tr>\n",
       "      <th>4</th>\n",
       "      <td>1628389</td>\n",
       "      <td>PF</td>\n",
       "      <td>Bam Adebayo</td>\n",
       "      <td>https://s3-us-west-2.amazonaws.com/static.fant...</td>\n",
       "      <td>2019-20</td>\n",
       "      <td>2020</td>\n",
       "      <td>22</td>\n",
       "      <td>3</td>\n",
       "      <td>1</td>\n",
       "      <td>14</td>\n",
       "      <td>...</td>\n",
       "      <td>1146</td>\n",
       "      <td>1868.04</td>\n",
       "      <td>0</td>\n",
       "      <td>0</td>\n",
       "      <td>2417</td>\n",
       "      <td>2474.03</td>\n",
       "      <td>1.024</td>\n",
       "      <td>3,454,080.00</td>\n",
       "      <td>7,209,036.00</td>\n",
       "      <td>2.09</td>\n",
       "    </tr>\n",
       "    <tr>\n",
       "      <th>5</th>\n",
       "      <td>1628368</td>\n",
       "      <td>PG</td>\n",
       "      <td>De'Aaron Fox</td>\n",
       "      <td>https://s3-us-west-2.amazonaws.com/static.fant...</td>\n",
       "      <td>2019-20</td>\n",
       "      <td>2020</td>\n",
       "      <td>22</td>\n",
       "      <td>3</td>\n",
       "      <td>1</td>\n",
       "      <td>5</td>\n",
       "      <td>...</td>\n",
       "      <td>1077</td>\n",
       "      <td>1125.65</td>\n",
       "      <td>0</td>\n",
       "      <td>0</td>\n",
       "      <td>1634</td>\n",
       "      <td>1893.99</td>\n",
       "      <td>1.159</td>\n",
       "      <td>6,392,760.00</td>\n",
       "      <td>6,329,290.00</td>\n",
       "      <td>0.99</td>\n",
       "    </tr>\n",
       "    <tr>\n",
       "      <th>6</th>\n",
       "      <td>1628366</td>\n",
       "      <td>PG</td>\n",
       "      <td>Lonzo Ball</td>\n",
       "      <td>https://s3-us-west-2.amazonaws.com/static.fant...</td>\n",
       "      <td>2019-20</td>\n",
       "      <td>2020</td>\n",
       "      <td>22</td>\n",
       "      <td>3</td>\n",
       "      <td>1</td>\n",
       "      <td>2</td>\n",
       "      <td>...</td>\n",
       "      <td>745</td>\n",
       "      <td>997.35</td>\n",
       "      <td>0</td>\n",
       "      <td>0</td>\n",
       "      <td>2025</td>\n",
       "      <td>2060.38</td>\n",
       "      <td>1.017</td>\n",
       "      <td>8,719,320.00</td>\n",
       "      <td>6,284,409.00</td>\n",
       "      <td>0.72</td>\n",
       "    </tr>\n",
       "    <tr>\n",
       "      <th>7</th>\n",
       "      <td>1627732</td>\n",
       "      <td>PG</td>\n",
       "      <td>Ben Simmons</td>\n",
       "      <td>https://s3-us-west-2.amazonaws.com/static.fant...</td>\n",
       "      <td>2019-20</td>\n",
       "      <td>2020</td>\n",
       "      <td>23</td>\n",
       "      <td>3</td>\n",
       "      <td>1</td>\n",
       "      <td>1</td>\n",
       "      <td>...</td>\n",
       "      <td>937</td>\n",
       "      <td>1494.57</td>\n",
       "      <td>0</td>\n",
       "      <td>0</td>\n",
       "      <td>2017</td>\n",
       "      <td>2138.20</td>\n",
       "      <td>1.060</td>\n",
       "      <td>8,113,930.00</td>\n",
       "      <td>6,086,913.00</td>\n",
       "      <td>0.75</td>\n",
       "    </tr>\n",
       "    <tr>\n",
       "      <th>8</th>\n",
       "      <td>1628381</td>\n",
       "      <td>PF</td>\n",
       "      <td>John Collins</td>\n",
       "      <td>./static/images/stock-headshot.png</td>\n",
       "      <td>2019-20</td>\n",
       "      <td>2020</td>\n",
       "      <td>22</td>\n",
       "      <td>3</td>\n",
       "      <td>1</td>\n",
       "      <td>19</td>\n",
       "      <td>...</td>\n",
       "      <td>885</td>\n",
       "      <td>1021.27</td>\n",
       "      <td>0</td>\n",
       "      <td>0</td>\n",
       "      <td>1363</td>\n",
       "      <td>1443.69</td>\n",
       "      <td>1.059</td>\n",
       "      <td>2,686,560.00</td>\n",
       "      <td>5,700,371.00</td>\n",
       "      <td>2.12</td>\n",
       "    </tr>\n",
       "    <tr>\n",
       "      <th>9</th>\n",
       "      <td>1628984</td>\n",
       "      <td>PG</td>\n",
       "      <td>Devonte' Graham</td>\n",
       "      <td>./static/images/stock-headshot.png</td>\n",
       "      <td>2019-20</td>\n",
       "      <td>2020</td>\n",
       "      <td>25</td>\n",
       "      <td>2</td>\n",
       "      <td>2</td>\n",
       "      <td>34</td>\n",
       "      <td>...</td>\n",
       "      <td>1145</td>\n",
       "      <td>1097.80</td>\n",
       "      <td>0</td>\n",
       "      <td>0</td>\n",
       "      <td>2211</td>\n",
       "      <td>2248.52</td>\n",
       "      <td>1.017</td>\n",
       "      <td>1,416,852.00</td>\n",
       "      <td>5,598,380.00</td>\n",
       "      <td>3.95</td>\n",
       "    </tr>\n",
       "  </tbody>\n",
       "</table>\n",
       "<p>10 rows × 39 columns</p>\n",
       "</div>"
      ],
      "text/plain": [
       "   PLAYER_ID POSITION       PLAYER_NAME  \\\n",
       "0    1629029       SG       Luka Doncic   \n",
       "1    1628369       PF      Jayson Tatum   \n",
       "2    1629027       PG        Trae Young   \n",
       "3    1628378       SG  Donovan Mitchell   \n",
       "4    1628389       PF       Bam Adebayo   \n",
       "5    1628368       PG      De'Aaron Fox   \n",
       "6    1628366       PG        Lonzo Ball   \n",
       "7    1627732       PG       Ben Simmons   \n",
       "8    1628381       PF      John Collins   \n",
       "9    1628984       PG   Devonte' Graham   \n",
       "\n",
       "                                               PHOTO SEASON_ID  YEAR  \\\n",
       "0  https://s3-us-west-2.amazonaws.com/static.fant...   2019-20  2020   \n",
       "1  https://s3-us-west-2.amazonaws.com/static.fant...   2019-20  2020   \n",
       "2  https://s3-us-west-2.amazonaws.com/static.fant...   2019-20  2020   \n",
       "3  https://s3-us-west-2.amazonaws.com/static.fant...   2019-20  2020   \n",
       "4  https://s3-us-west-2.amazonaws.com/static.fant...   2019-20  2020   \n",
       "5  https://s3-us-west-2.amazonaws.com/static.fant...   2019-20  2020   \n",
       "6  https://s3-us-west-2.amazonaws.com/static.fant...   2019-20  2020   \n",
       "7  https://s3-us-west-2.amazonaws.com/static.fant...   2019-20  2020   \n",
       "8                 ./static/images/stock-headshot.png   2019-20  2020   \n",
       "9                 ./static/images/stock-headshot.png   2019-20  2020   \n",
       "\n",
       "   PLAYER_AGE  YIL  ROUND_NUMBER  OVERALL_PICK  ...   PTS      PER  ALLSTAR  \\\n",
       "0          21    2             1             3  ...  1759  1997.61        0   \n",
       "1          22    3             1             3  ...  1547  1469.99        0   \n",
       "2          21    2             1             5  ...  1778  1736.48        0   \n",
       "3          23    3             1            13  ...  1655  1304.48        0   \n",
       "4          22    3             1            14  ...  1146  1868.04        0   \n",
       "5          22    3             1             5  ...  1077  1125.65        0   \n",
       "6          22    3             1             2  ...   745   997.35        0   \n",
       "7          23    3             1             1  ...   937  1494.57        0   \n",
       "8          22    3             1            19  ...   885  1021.27        0   \n",
       "9          25    2             2            34  ...  1145  1097.80        0   \n",
       "\n",
       "   INJURY_PY   MIN  MIN_PRED  RISIDUAL     INFLATION      SAL_PRED  \\\n",
       "0          0  2047   2666.25     1.303  7,683,360.00  8,993,686.00   \n",
       "1          1  2265   2676.47     1.182  7,830,000.00  8,241,704.00   \n",
       "2          2  2120   2471.17     1.166  6,273,000.00  8,143,110.00   \n",
       "3          0  2364   2697.30     1.141  3,635,760.00  7,309,705.00   \n",
       "4          0  2417   2474.03     1.024  3,454,080.00  7,209,036.00   \n",
       "5          0  1634   1893.99     1.159  6,392,760.00  6,329,290.00   \n",
       "6          0  2025   2060.38     1.017  8,719,320.00  6,284,409.00   \n",
       "7          0  2017   2138.20     1.060  8,113,930.00  6,086,913.00   \n",
       "8          0  1363   1443.69     1.059  2,686,560.00  5,700,371.00   \n",
       "9          0  2211   2248.52     1.017  1,416,852.00  5,598,380.00   \n",
       "\n",
       "   SAL_RISIDUAL  \n",
       "0          1.17  \n",
       "1          1.05  \n",
       "2          1.30  \n",
       "3          2.01  \n",
       "4          2.09  \n",
       "5          0.99  \n",
       "6          0.72  \n",
       "7          0.75  \n",
       "8          2.12  \n",
       "9          3.95  \n",
       "\n",
       "[10 rows x 39 columns]"
      ]
     },
     "execution_count": 16,
     "metadata": {},
     "output_type": "execute_result"
    }
   ],
   "source": [
    "all_logs"
   ]
  },
  {
   "cell_type": "code",
   "execution_count": 17,
   "metadata": {
    "ExecuteTime": {
     "end_time": "2020-10-02T03:25:34.316818Z",
     "start_time": "2020-10-02T03:25:34.301832Z"
    }
   },
   "outputs": [],
   "source": [
    "# Create Weather and Earthquake Classes\n",
    "# ----------------------------------\n",
    "# Sets an object to utilize the default declarative base in SQL Alchemy\n",
    "Base = declarative_base()"
   ]
  },
  {
   "cell_type": "code",
   "execution_count": 18,
   "metadata": {
    "ExecuteTime": {
     "end_time": "2020-10-02T03:25:34.332775Z",
     "start_time": "2020-10-02T03:25:34.317788Z"
    }
   },
   "outputs": [],
   "source": [
    "# Use this to clear out the db\n",
    "# ----------------------------------\n",
    "# # Session.rollback(self)\n",
    "# Base.metadata.drop_all(engine)\n",
    "# session.commit()"
   ]
  },
  {
   "cell_type": "code",
   "execution_count": 19,
   "metadata": {
    "ExecuteTime": {
     "end_time": "2020-10-02T03:25:34.348774Z",
     "start_time": "2020-10-02T03:25:34.333772Z"
    }
   },
   "outputs": [],
   "source": [
    "## Class base template to upload to sqlite\n",
    "class Top2020Yil5(Base):\n",
    "    __tablename__ = 'top2020Yil5'\n",
    " \n",
    "    id = Column(Integer, primary_key=True)\n",
    "    POSITION = Column(String(3))\n",
    "    PLAYER_NAME = Column(String(70))\n",
    "    PHOTO = Column(String())\n",
    "    YEAR = Column(Float)\n",
    "    YIL = Column(Float)\n",
    "    ROUND_NUMBER = Column(Float)\n",
    "    OVERALL_PICK = Column(Float)\n",
    "    MIN_PRED = Column(Float)\n",
    "    PER = Column(Float)\n",
    "    INJURY_PY = Column(Float)\n",
    "    INFLATION = Column(String(70))\n",
    "    SAL_PRED = Column(String(70))\n",
    "    SAL_RISIDUAL = Column(Float)\n"
   ]
  },
  {
   "cell_type": "code",
   "execution_count": 20,
   "metadata": {
    "ExecuteTime": {
     "end_time": "2020-10-02T03:25:34.364706Z",
     "start_time": "2020-10-02T03:25:34.349770Z"
    }
   },
   "outputs": [],
   "source": [
    "# Create Database Connection\n",
    "# ----------------------------------\n",
    "# Creates a connection to our DB\n",
    "# Engine opens the door. Conn is the walk through sign\n",
    "engine = create_engine(\"sqlite:///db.sqlite\")\n",
    "conn = engine.connect()\n",
    "# Create a \"Metadata\" Layer That Abstracts our SQL Database\n",
    "# ----------------------------------\n",
    "# Create (if not already in existence) the tables associated with our classes.\n",
    "Base.metadata.create_all(engine)\n",
    "# Create a Session Object to Connect to DB\n",
    "# ----------------------------------\n",
    "session = Session(bind=engine)"
   ]
  },
  {
   "cell_type": "code",
   "execution_count": 21,
   "metadata": {
    "ExecuteTime": {
     "end_time": "2020-10-02T03:25:34.380662Z",
     "start_time": "2020-10-02T03:25:34.365725Z"
    }
   },
   "outputs": [],
   "source": [
    "# session.add(top_2020_yil_5)"
   ]
  },
  {
   "cell_type": "code",
   "execution_count": 22,
   "metadata": {
    "ExecuteTime": {
     "end_time": "2020-10-02T03:25:34.396619Z",
     "start_time": "2020-10-02T03:25:34.381660Z"
    }
   },
   "outputs": [],
   "source": [
    "# session.commit()"
   ]
  },
  {
   "cell_type": "code",
   "execution_count": 23,
   "metadata": {
    "ExecuteTime": {
     "end_time": "2020-10-02T03:25:34.412577Z",
     "start_time": "2020-10-02T03:25:34.398614Z"
    }
   },
   "outputs": [],
   "source": [
    "# # Create Database Connection\n",
    "# # ----------------------------------\n",
    "# # Creates a connection to our DB\n",
    "# # Engine opens the door. Conn is the walk through sign\n",
    "# engine = create_engine(\"sqlite:///db.sqlite\")\n",
    "# conn = engine.connect()\n",
    "# # Create a \"Metadata\" Layer That Abstracts our SQL Database\n",
    "# # ----------------------------------\n",
    "# # Create (if not already in existence) the tables associated with our classes.\n",
    "# Base.metadata.create_all(engine)\n",
    "# # Create a Session Object to Connect to DB\n",
    "# # ----------------------------------\n",
    "# session = Session(bind=engine)"
   ]
  },
  {
   "cell_type": "code",
   "execution_count": 24,
   "metadata": {
    "ExecuteTime": {
     "end_time": "2020-10-02T03:25:34.427537Z",
     "start_time": "2020-10-02T03:25:34.414572Z"
    }
   },
   "outputs": [],
   "source": [
    "# Function: Add Weather Series to sql\n",
    "def addToSQL(all_logs):\n",
    "    x=0\n",
    "    while x <= (len(all_logs) - 1):\n",
    "        try: \n",
    "            Top2020_Yil5 = Top2020Yil5(\n",
    "                POSITION = all_logs[\"POSITION\"][x],\n",
    "                PLAYER_NAME = all_logs[\"PLAYER_NAME\"][x],\n",
    "                PHOTO = all_logs['PHOTO'][x],\n",
    "                YEAR = all_logs[\"YEAR\"][x],\n",
    "                YIL = all_logs[\"YIL\"][x],\n",
    "                ROUND_NUMBER = all_logs[\"ROUND_NUMBER\"][x],\n",
    "                OVERALL_PICK = all_logs[\"OVERALL_PICK\"][x],\n",
    "                MIN_PRED = all_logs[\"MIN_PRED\"][x],\n",
    "                PER = all_logs[\"PER\"][x],\n",
    "                INJURY_PY = all_logs[\"INJURY_PY\"][x],\n",
    "                INFLATION = all_logs[\"INFLATION\"][x],\n",
    "                SAL_PRED = all_logs[\"SAL_PRED\"][x],\n",
    "                SAL_RISIDUAL = all_logs[\"SAL_RISIDUAL\"][x],\n",
    "                \n",
    "                )\n",
    "            x+=1\n",
    "        except OperationalError:\n",
    "            pass\n",
    "            \n",
    "        # Add Records to the Appropriate DB\n",
    "        # ----------------------------------\n",
    "        # Use the SQL ALchemy methods to run simple \"INSERT\" statements using the classes and objects  \n",
    "        session.add(Top2020_Yil5)\n",
    "        # session.add(earthquake_data)\n",
    "        session.commit()\n",
    "    return 'Complete: Uploaded to SQLite DB'"
   ]
  },
  {
   "cell_type": "code",
   "execution_count": 25,
   "metadata": {
    "ExecuteTime": {
     "end_time": "2020-10-02T03:25:34.536543Z",
     "start_time": "2020-10-02T03:25:34.428566Z"
    }
   },
   "outputs": [
    {
     "data": {
      "text/plain": [
       "'Complete: Uploaded to SQLite DB'"
      ]
     },
     "execution_count": 25,
     "metadata": {},
     "output_type": "execute_result"
    }
   ],
   "source": [
    "addToSQL(all_logs)"
   ]
  },
  {
   "cell_type": "code",
   "execution_count": null,
   "metadata": {
    "ExecuteTime": {
     "end_time": "2020-09-25T19:00:56.225315Z",
     "start_time": "2020-09-25T19:00:56.192164Z"
    }
   },
   "outputs": [],
   "source": []
  },
  {
   "cell_type": "code",
   "execution_count": 26,
   "metadata": {
    "ExecuteTime": {
     "end_time": "2020-10-02T03:25:34.552464Z",
     "start_time": "2020-10-02T03:25:34.537505Z"
    }
   },
   "outputs": [],
   "source": [
    "# Python SQL toolkit and Object Relational Mapper\n",
    "import sqlalchemy\n",
    "# Go to existing database with automap_base\n",
    "from sqlalchemy.ext.automap import automap_base\n",
    "# Work through mapper to use python code\n",
    "from sqlalchemy.orm import Session\n",
    "# Inspect with python\n",
    "from sqlalchemy import create_engine, inspect\n",
    "from sqlalchemy import desc\n"
   ]
  },
  {
   "cell_type": "code",
   "execution_count": 27,
   "metadata": {
    "ExecuteTime": {
     "end_time": "2020-10-02T03:25:34.583852Z",
     "start_time": "2020-10-02T03:25:34.553462Z"
    }
   },
   "outputs": [],
   "source": [
    "Base = automap_base()\n",
    "Base.prepare(engine, reflect=True)\n",
    "# Check db table names\n",
    "Base.classes.keys()\n",
    "data_from_db = Base.classes.top2020Yil5\n",
    "data_container = session.query(data_from_db).limit(10)\n",
    "analysis_container = []\n"
   ]
  },
  {
   "cell_type": "code",
   "execution_count": 28,
   "metadata": {
    "ExecuteTime": {
     "end_time": "2020-10-02T03:25:34.599881Z",
     "start_time": "2020-10-02T03:25:34.584810Z"
    }
   },
   "outputs": [],
   "source": [
    "for data in data_container:\n",
    "    # get specific data from db\n",
    "    container = {\n",
    "        'POSITION': data.POSITION,\n",
    "        'PLAYER_NAME': data.PLAYER_NAME,\n",
    "        'PHOTO': data.PHOTO,\n",
    "        'YEAR': data.YEAR,\n",
    "        'YIL': data.YIL,\n",
    "        'ROUND_NUMBER': data.ROUND_NUMBER,\n",
    "        'OVERALL_PICK': data.OVERALL_PICK,\n",
    "        'MIN_PRED': data.MIN_PRED,\n",
    "        'PER': data.PER,\n",
    "        'INJURY_PY': data.INJURY_PY,\n",
    "        'INFLATION': data.INFLATION,\n",
    "        'SAL_PRED': data.SAL_PRED,\n",
    "        'SAL_RISIDUAL': data.SAL_RISIDUAL,\n",
    "        \n",
    "#         \"date\": data.date,\n",
    "#         \"magnitude\": data.magnitude,\n",
    "#         \"maxtemp\": data.maxtemp,\n",
    "#         \"mintemp\": data.mintemp,\n",
    "# #         \"avgtemp\": data.avgtemp,\n",
    "#         \"lat\": data.lat,\n",
    "        }\n",
    "    analysis_container.append(container)\n",
    "\n",
    "# Create df for parsing    \n",
    "temp_df = pd.DataFrame(analysis_container)"
   ]
  },
  {
   "cell_type": "code",
   "execution_count": 29,
   "metadata": {
    "ExecuteTime": {
     "end_time": "2020-10-02T03:25:34.615529Z",
     "start_time": "2020-10-02T03:25:34.600567Z"
    }
   },
   "outputs": [
    {
     "data": {
      "text/html": [
       "<div>\n",
       "<style scoped>\n",
       "    .dataframe tbody tr th:only-of-type {\n",
       "        vertical-align: middle;\n",
       "    }\n",
       "\n",
       "    .dataframe tbody tr th {\n",
       "        vertical-align: top;\n",
       "    }\n",
       "\n",
       "    .dataframe thead th {\n",
       "        text-align: right;\n",
       "    }\n",
       "</style>\n",
       "<table border=\"1\" class=\"dataframe\">\n",
       "  <thead>\n",
       "    <tr style=\"text-align: right;\">\n",
       "      <th></th>\n",
       "      <th>POSITION</th>\n",
       "      <th>PLAYER_NAME</th>\n",
       "      <th>PHOTO</th>\n",
       "      <th>YEAR</th>\n",
       "      <th>YIL</th>\n",
       "      <th>ROUND_NUMBER</th>\n",
       "      <th>OVERALL_PICK</th>\n",
       "      <th>MIN_PRED</th>\n",
       "      <th>PER</th>\n",
       "      <th>INJURY_PY</th>\n",
       "      <th>INFLATION</th>\n",
       "      <th>SAL_PRED</th>\n",
       "      <th>SAL_RISIDUAL</th>\n",
       "    </tr>\n",
       "  </thead>\n",
       "  <tbody>\n",
       "    <tr>\n",
       "      <th>0</th>\n",
       "      <td>SG</td>\n",
       "      <td>Luka Doncic</td>\n",
       "      <td>https://s3-us-west-2.amazonaws.com/static.fant...</td>\n",
       "      <td>2020.0</td>\n",
       "      <td>2.0</td>\n",
       "      <td>1.0</td>\n",
       "      <td>3.0</td>\n",
       "      <td>2666.25</td>\n",
       "      <td>1997.61</td>\n",
       "      <td>0.0</td>\n",
       "      <td>7,683,360.00</td>\n",
       "      <td>8,993,686.00</td>\n",
       "      <td>1.17</td>\n",
       "    </tr>\n",
       "    <tr>\n",
       "      <th>1</th>\n",
       "      <td>PF</td>\n",
       "      <td>Jayson Tatum</td>\n",
       "      <td>https://s3-us-west-2.amazonaws.com/static.fant...</td>\n",
       "      <td>2020.0</td>\n",
       "      <td>3.0</td>\n",
       "      <td>1.0</td>\n",
       "      <td>3.0</td>\n",
       "      <td>2676.47</td>\n",
       "      <td>1469.99</td>\n",
       "      <td>1.0</td>\n",
       "      <td>7,830,000.00</td>\n",
       "      <td>8,241,704.00</td>\n",
       "      <td>1.05</td>\n",
       "    </tr>\n",
       "    <tr>\n",
       "      <th>2</th>\n",
       "      <td>PG</td>\n",
       "      <td>Trae Young</td>\n",
       "      <td>https://s3-us-west-2.amazonaws.com/static.fant...</td>\n",
       "      <td>2020.0</td>\n",
       "      <td>2.0</td>\n",
       "      <td>1.0</td>\n",
       "      <td>5.0</td>\n",
       "      <td>2471.17</td>\n",
       "      <td>1736.48</td>\n",
       "      <td>2.0</td>\n",
       "      <td>6,273,000.00</td>\n",
       "      <td>8,143,110.00</td>\n",
       "      <td>1.30</td>\n",
       "    </tr>\n",
       "    <tr>\n",
       "      <th>3</th>\n",
       "      <td>SG</td>\n",
       "      <td>Donovan Mitchell</td>\n",
       "      <td>https://s3-us-west-2.amazonaws.com/static.fant...</td>\n",
       "      <td>2020.0</td>\n",
       "      <td>3.0</td>\n",
       "      <td>1.0</td>\n",
       "      <td>13.0</td>\n",
       "      <td>2697.30</td>\n",
       "      <td>1304.48</td>\n",
       "      <td>0.0</td>\n",
       "      <td>3,635,760.00</td>\n",
       "      <td>7,309,705.00</td>\n",
       "      <td>2.01</td>\n",
       "    </tr>\n",
       "    <tr>\n",
       "      <th>4</th>\n",
       "      <td>PF</td>\n",
       "      <td>Bam Adebayo</td>\n",
       "      <td>https://s3-us-west-2.amazonaws.com/static.fant...</td>\n",
       "      <td>2020.0</td>\n",
       "      <td>3.0</td>\n",
       "      <td>1.0</td>\n",
       "      <td>14.0</td>\n",
       "      <td>2474.03</td>\n",
       "      <td>1868.04</td>\n",
       "      <td>0.0</td>\n",
       "      <td>3,454,080.00</td>\n",
       "      <td>7,209,036.00</td>\n",
       "      <td>2.09</td>\n",
       "    </tr>\n",
       "    <tr>\n",
       "      <th>5</th>\n",
       "      <td>PG</td>\n",
       "      <td>De'Aaron Fox</td>\n",
       "      <td>https://s3-us-west-2.amazonaws.com/static.fant...</td>\n",
       "      <td>2020.0</td>\n",
       "      <td>3.0</td>\n",
       "      <td>1.0</td>\n",
       "      <td>5.0</td>\n",
       "      <td>1893.99</td>\n",
       "      <td>1125.65</td>\n",
       "      <td>0.0</td>\n",
       "      <td>6,392,760.00</td>\n",
       "      <td>6,329,290.00</td>\n",
       "      <td>0.99</td>\n",
       "    </tr>\n",
       "    <tr>\n",
       "      <th>6</th>\n",
       "      <td>PG</td>\n",
       "      <td>Lonzo Ball</td>\n",
       "      <td>https://s3-us-west-2.amazonaws.com/static.fant...</td>\n",
       "      <td>2020.0</td>\n",
       "      <td>3.0</td>\n",
       "      <td>1.0</td>\n",
       "      <td>2.0</td>\n",
       "      <td>2060.38</td>\n",
       "      <td>997.35</td>\n",
       "      <td>0.0</td>\n",
       "      <td>8,719,320.00</td>\n",
       "      <td>6,284,409.00</td>\n",
       "      <td>0.72</td>\n",
       "    </tr>\n",
       "    <tr>\n",
       "      <th>7</th>\n",
       "      <td>PG</td>\n",
       "      <td>Ben Simmons</td>\n",
       "      <td>https://s3-us-west-2.amazonaws.com/static.fant...</td>\n",
       "      <td>2020.0</td>\n",
       "      <td>3.0</td>\n",
       "      <td>1.0</td>\n",
       "      <td>1.0</td>\n",
       "      <td>2138.20</td>\n",
       "      <td>1494.57</td>\n",
       "      <td>0.0</td>\n",
       "      <td>8,113,930.00</td>\n",
       "      <td>6,086,913.00</td>\n",
       "      <td>0.75</td>\n",
       "    </tr>\n",
       "    <tr>\n",
       "      <th>8</th>\n",
       "      <td>PF</td>\n",
       "      <td>John Collins</td>\n",
       "      <td>./static/images/stock-headshot.png</td>\n",
       "      <td>2020.0</td>\n",
       "      <td>3.0</td>\n",
       "      <td>1.0</td>\n",
       "      <td>19.0</td>\n",
       "      <td>1443.69</td>\n",
       "      <td>1021.27</td>\n",
       "      <td>0.0</td>\n",
       "      <td>2,686,560.00</td>\n",
       "      <td>5,700,371.00</td>\n",
       "      <td>2.12</td>\n",
       "    </tr>\n",
       "    <tr>\n",
       "      <th>9</th>\n",
       "      <td>PG</td>\n",
       "      <td>Devonte' Graham</td>\n",
       "      <td>./static/images/stock-headshot.png</td>\n",
       "      <td>2020.0</td>\n",
       "      <td>2.0</td>\n",
       "      <td>2.0</td>\n",
       "      <td>34.0</td>\n",
       "      <td>2248.52</td>\n",
       "      <td>1097.80</td>\n",
       "      <td>0.0</td>\n",
       "      <td>1,416,852.00</td>\n",
       "      <td>5,598,380.00</td>\n",
       "      <td>3.95</td>\n",
       "    </tr>\n",
       "  </tbody>\n",
       "</table>\n",
       "</div>"
      ],
      "text/plain": [
       "  POSITION       PLAYER_NAME  \\\n",
       "0       SG       Luka Doncic   \n",
       "1       PF      Jayson Tatum   \n",
       "2       PG        Trae Young   \n",
       "3       SG  Donovan Mitchell   \n",
       "4       PF       Bam Adebayo   \n",
       "5       PG      De'Aaron Fox   \n",
       "6       PG        Lonzo Ball   \n",
       "7       PG       Ben Simmons   \n",
       "8       PF      John Collins   \n",
       "9       PG   Devonte' Graham   \n",
       "\n",
       "                                               PHOTO    YEAR  YIL  \\\n",
       "0  https://s3-us-west-2.amazonaws.com/static.fant...  2020.0  2.0   \n",
       "1  https://s3-us-west-2.amazonaws.com/static.fant...  2020.0  3.0   \n",
       "2  https://s3-us-west-2.amazonaws.com/static.fant...  2020.0  2.0   \n",
       "3  https://s3-us-west-2.amazonaws.com/static.fant...  2020.0  3.0   \n",
       "4  https://s3-us-west-2.amazonaws.com/static.fant...  2020.0  3.0   \n",
       "5  https://s3-us-west-2.amazonaws.com/static.fant...  2020.0  3.0   \n",
       "6  https://s3-us-west-2.amazonaws.com/static.fant...  2020.0  3.0   \n",
       "7  https://s3-us-west-2.amazonaws.com/static.fant...  2020.0  3.0   \n",
       "8                 ./static/images/stock-headshot.png  2020.0  3.0   \n",
       "9                 ./static/images/stock-headshot.png  2020.0  2.0   \n",
       "\n",
       "   ROUND_NUMBER  OVERALL_PICK  MIN_PRED      PER  INJURY_PY     INFLATION  \\\n",
       "0           1.0           3.0   2666.25  1997.61        0.0  7,683,360.00   \n",
       "1           1.0           3.0   2676.47  1469.99        1.0  7,830,000.00   \n",
       "2           1.0           5.0   2471.17  1736.48        2.0  6,273,000.00   \n",
       "3           1.0          13.0   2697.30  1304.48        0.0  3,635,760.00   \n",
       "4           1.0          14.0   2474.03  1868.04        0.0  3,454,080.00   \n",
       "5           1.0           5.0   1893.99  1125.65        0.0  6,392,760.00   \n",
       "6           1.0           2.0   2060.38   997.35        0.0  8,719,320.00   \n",
       "7           1.0           1.0   2138.20  1494.57        0.0  8,113,930.00   \n",
       "8           1.0          19.0   1443.69  1021.27        0.0  2,686,560.00   \n",
       "9           2.0          34.0   2248.52  1097.80        0.0  1,416,852.00   \n",
       "\n",
       "       SAL_PRED  SAL_RISIDUAL  \n",
       "0  8,993,686.00          1.17  \n",
       "1  8,241,704.00          1.05  \n",
       "2  8,143,110.00          1.30  \n",
       "3  7,309,705.00          2.01  \n",
       "4  7,209,036.00          2.09  \n",
       "5  6,329,290.00          0.99  \n",
       "6  6,284,409.00          0.72  \n",
       "7  6,086,913.00          0.75  \n",
       "8  5,700,371.00          2.12  \n",
       "9  5,598,380.00          3.95  "
      ]
     },
     "execution_count": 29,
     "metadata": {},
     "output_type": "execute_result"
    }
   ],
   "source": [
    "temp_df"
   ]
  },
  {
   "cell_type": "code",
   "execution_count": null,
   "metadata": {},
   "outputs": [],
   "source": []
  },
  {
   "cell_type": "markdown",
   "metadata": {},
   "source": [
    "------------"
   ]
  },
  {
   "cell_type": "code",
   "execution_count": null,
   "metadata": {},
   "outputs": [],
   "source": []
  },
  {
   "cell_type": "code",
   "execution_count": null,
   "metadata": {},
   "outputs": [],
   "source": []
  },
  {
   "cell_type": "code",
   "execution_count": null,
   "metadata": {},
   "outputs": [],
   "source": []
  },
  {
   "cell_type": "markdown",
   "metadata": {},
   "source": [
    "## UPDATE_DATA"
   ]
  },
  {
   "cell_type": "code",
   "execution_count": 30,
   "metadata": {
    "ExecuteTime": {
     "end_time": "2020-10-02T03:25:52.595421Z",
     "start_time": "2020-10-02T03:25:52.570488Z"
    }
   },
   "outputs": [],
   "source": [
    "def top2020_yil_5():\n",
    "    # Sets an object to utilize the default declarative base in SQL Alchemy\n",
    "    Base = declarative_base()\n",
    "    Base_all = declarative_base()\n",
    "    ## Class base template to upload to sqlite\n",
    "    class Top2020Yil5(Base):\n",
    "        __tablename__ = 'top2020Yil5'\n",
    " \n",
    "        id = Column(Integer, primary_key=True)\n",
    "        POSITION = Column(String(3))\n",
    "        PLAYER_NAME = Column(String(70))\n",
    "        PHOTO = Column(String())\n",
    "        YEAR = Column(Float)\n",
    "        YIL = Column(Float)\n",
    "        ROUND_NUMBER = Column(Float)\n",
    "        OVERALL_PICK = Column(Float)\n",
    "        MIN_PRED = Column(Float)\n",
    "        PER = Column(Float)\n",
    "        INJURY_PY = Column(Float)\n",
    "        INFLATION = Column(String(170))\n",
    "        SAL_PRED = Column(String(170))\n",
    "        SAL_RISIDUAL = Column(Float)\n",
    "\n",
    "        \n",
    "    class TopAllYil5(Base_all):\n",
    "        __tablename__ = 'topAllYil5'\n",
    "\n",
    "        id = Column(Integer, primary_key=True)\n",
    "        POSITION = Column(String(3))\n",
    "        PLAYER_NAME = Column(String(70))\n",
    "        PHOTO = Column(String())\n",
    "        YEAR = Column(Float)\n",
    "        YIL = Column(Float)\n",
    "        ROUND_NUMBER = Column(Float)\n",
    "        OVERALL_PICK = Column(Float)\n",
    "        MIN_PRED = Column(Float)\n",
    "        PER = Column(Float)\n",
    "        INJURY_PY = Column(Float)\n",
    "        INFLATION = Column(String(70))\n",
    "        SAL_PRED = Column(String(70))\n",
    "        SAL_RISIDUAL = Column(Float)\n",
    "\n",
    "    # Create Database Connection\n",
    "    # ----------------------------------\n",
    "    # Creates a connection to our DB\n",
    "    # Engine opens the door. Conn is the walk through sign\n",
    "    engine = create_engine(\"sqlite:///db.sqlite\")\n",
    "    conn = engine.connect()\n",
    "    # Create a \"Metadata\" Layer That Abstracts our SQL Database\n",
    "    # ----------------------------------\n",
    "    # Create (if not already in existence) the tables associated with our classes.\n",
    "    Base.metadata.create_all(engine)\n",
    "    Base_all.metadata.create_all(engine)\n",
    "    # Create a Session Object to Connect to DB\n",
    "    # ----------------------------------\n",
    "    session = Session(bind=engine)\n",
    "    both_sets = {}\n",
    "    def parseDataAndFormat():\n",
    "        Base = automap_base()\n",
    "        Base_all = automap_base()\n",
    "        \n",
    "        Base.prepare(engine, reflect=True)\n",
    "        Base_all.prepare(engine, reflect=True)\n",
    "        \n",
    "        # Check db table names\n",
    "        Base.classes.keys()\n",
    "        data_from_db = Base.classes.top2020Yil5\n",
    "        all_stats_db = Base_all.classes.topAllYil5\n",
    "        \n",
    "        data_container = session.query(data_from_db).limit(10)\n",
    "        data_container_all = session.query(all_stats_db).limit(10)\n",
    "        \n",
    "        \n",
    "        analysis_container = []\n",
    "        analysis_container_all = []\n",
    "        \n",
    "        for data in data_container:\n",
    "            # get specific data from db\n",
    "            container = {\n",
    "                'POSITION': data.POSITION,\n",
    "                'PLAYER_NAME': data.PLAYER_NAME,\n",
    "                'PHOTO': data.PHOTO,\n",
    "                'YEAR': data.YEAR,\n",
    "                'YIL': data.YIL,\n",
    "                'ROUND_NUMBER': data.ROUND_NUMBER,\n",
    "                'OVERALL_PICK': data.OVERALL_PICK,\n",
    "                'MIN_PRED': data.MIN_PRED,\n",
    "                'PER': data.PER,\n",
    "                'INJURY_PY': data.INJURY_PY,\n",
    "                'INFLATION': data.INFLATION,\n",
    "                'SAL_PRED': data.SAL_PRED,\n",
    "                'SAL_RISIDUAL': data.SAL_RISIDUAL,\n",
    "                }\n",
    "            analysis_container.append(container)\n",
    "            \n",
    "        for data in data_container_all:\n",
    "            # get specific data from db\n",
    "            container2 = {\n",
    "                'POSITION': data.POSITION,\n",
    "                'PLAYER_NAME': data.PLAYER_NAME,\n",
    "                'PHOTO': data.PHOTO,\n",
    "                'YEAR': data.YEAR,\n",
    "                'YIL': data.YIL,\n",
    "                'ROUND_NUMBER': data.ROUND_NUMBER,\n",
    "                'OVERALL_PICK': data.OVERALL_PICK,\n",
    "                'MIN_PRED': data.MIN_PRED,\n",
    "                'PER': data.PER,\n",
    "                'INJURY_PY': data.INJURY_PY,\n",
    "                'INFLATION': data.INFLATION,\n",
    "                'SAL_PRED': data.SAL_PRED,\n",
    "                'SAL_RISIDUAL': data.SAL_RISIDUAL,\n",
    "                }\n",
    "            analysis_container_all.append(container2)\n",
    "            \n",
    "        both_sets = {\n",
    "            'current': analysis_container,\n",
    "            'historic': analysis_container_all\n",
    "            }\n",
    "        return both_sets\n",
    "\n",
    "    analysis_container = parseDataAndFormat()\n",
    "    # Return results\n",
    "    return analysis_container"
   ]
  },
  {
   "cell_type": "code",
   "execution_count": 31,
   "metadata": {
    "ExecuteTime": {
     "end_time": "2020-10-02T03:25:53.122479Z",
     "start_time": "2020-10-02T03:25:53.093548Z"
    }
   },
   "outputs": [
    {
     "data": {
      "text/plain": [
       "[{'POSITION': 'SF',\n",
       "  'PLAYER_NAME': 'LeBron James',\n",
       "  'PHOTO': 'https://s3-us-west-2.amazonaws.com/static.fantasydata.com/headshots/nba/low-res/20000571.png',\n",
       "  'YEAR': 2006.0,\n",
       "  'YIL': 3.0,\n",
       "  'ROUND_NUMBER': 1.0,\n",
       "  'OVERALL_PICK': 1.0,\n",
       "  'MIN_PRED': 3555.26,\n",
       "  'PER': 2581.49,\n",
       "  'INJURY_PY': 0.0,\n",
       "  'INFLATION': '5,756,777.00',\n",
       "  'SAL_PRED': '9,793,533.00',\n",
       "  'SAL_RISIDUAL': 1.7000000000000002},\n",
       " {'POSITION': 'SF',\n",
       "  'PLAYER_NAME': 'Kevin Durant',\n",
       "  'PHOTO': 'https://s3-us-west-2.amazonaws.com/static.fantasydata.com/headshots/nba/low-res/20000884.png',\n",
       "  'YEAR': 2010.0,\n",
       "  'YIL': 3.0,\n",
       "  'ROUND_NUMBER': 1.0,\n",
       "  'OVERALL_PICK': 2.0,\n",
       "  'MIN_PRED': 3225.07,\n",
       "  'PER': 2507.16,\n",
       "  'INJURY_PY': 0.0,\n",
       "  'INFLATION': '5,523,948.00',\n",
       "  'SAL_PRED': '9,864,132.00',\n",
       "  'SAL_RISIDUAL': 1.79},\n",
       " {'POSITION': 'C',\n",
       "  'PLAYER_NAME': 'Karl-Anthony Towns',\n",
       "  'PHOTO': 'https://s3-us-west-2.amazonaws.com/static.fantasydata.com/headshots/nba/low-res/20001431.png',\n",
       "  'YEAR': 2018.0,\n",
       "  'YIL': 3.0,\n",
       "  'ROUND_NUMBER': 1.0,\n",
       "  'OVERALL_PICK': 1.0,\n",
       "  'MIN_PRED': 3060.82,\n",
       "  'PER': 2356.9,\n",
       "  'INJURY_PY': 0.0,\n",
       "  'INFLATION': '6,216,840.00',\n",
       "  'SAL_PRED': '10,179,893.00',\n",
       "  'SAL_RISIDUAL': 1.6400000000000001},\n",
       " {'POSITION': 'G',\n",
       "  'PLAYER_NAME': 'Dwyane Wade',\n",
       "  'PHOTO': './static/images/stock-headshot.png',\n",
       "  'YEAR': 2006.0,\n",
       "  'YIL': 3.0,\n",
       "  'ROUND_NUMBER': 1.0,\n",
       "  'OVERALL_PICK': 5.0,\n",
       "  'MIN_PRED': 3083.92,\n",
       "  'PER': 2333.36,\n",
       "  'INJURY_PY': 0.0,\n",
       "  'INFLATION': '3,776,469.00',\n",
       "  'SAL_PRED': '8,062,352.00',\n",
       "  'SAL_RISIDUAL': 2.13},\n",
       " {'POSITION': 'C',\n",
       "  'PLAYER_NAME': 'Dwight Howard',\n",
       "  'PHOTO': 'https://s3-us-west-2.amazonaws.com/static.fantasydata.com/headshots/nba/low-res/20000543.png',\n",
       "  'YEAR': 2007.0,\n",
       "  'YIL': 3.0,\n",
       "  'ROUND_NUMBER': 1.0,\n",
       "  'OVERALL_PICK': 1.0,\n",
       "  'MIN_PRED': 2635.31,\n",
       "  'PER': 2296.47,\n",
       "  'INJURY_PY': 0.0,\n",
       "  'INFLATION': '5,821,305.00',\n",
       "  'SAL_PRED': '8,768,436.00',\n",
       "  'SAL_RISIDUAL': 1.51},\n",
       " {'POSITION': 'C',\n",
       "  'PLAYER_NAME': 'Joel Embiid',\n",
       "  'PHOTO': 'https://s3-us-west-2.amazonaws.com/static.fantasydata.com/headshots/nba/low-res/20000726.png',\n",
       "  'YEAR': 2019.0,\n",
       "  'YIL': 3.0,\n",
       "  'ROUND_NUMBER': 1.0,\n",
       "  'OVERALL_PICK': 3.0,\n",
       "  'MIN_PRED': 2683.05,\n",
       "  'PER': 2267.68,\n",
       "  'INJURY_PY': 4.0,\n",
       "  'INFLATION': '25,467,250.00',\n",
       "  'SAL_PRED': '11,217,745.00',\n",
       "  'SAL_RISIDUAL': 0.44},\n",
       " {'POSITION': 'PF',\n",
       "  'PLAYER_NAME': 'Kevin Love',\n",
       "  'PHOTO': 'https://s3-us-west-2.amazonaws.com/static.fantasydata.com/headshots/nba/low-res/20000572.png',\n",
       "  'YEAR': 2011.0,\n",
       "  'YIL': 3.0,\n",
       "  'ROUND_NUMBER': 1.0,\n",
       "  'OVERALL_PICK': 5.0,\n",
       "  'MIN_PRED': 2641.85,\n",
       "  'PER': 2243.61,\n",
       "  'INJURY_PY': 3.0,\n",
       "  'INFLATION': '4,061,534.00',\n",
       "  'SAL_PRED': '8,368,670.00',\n",
       "  'SAL_RISIDUAL': 2.06},\n",
       " {'POSITION': 'PF',\n",
       "  'PLAYER_NAME': 'Elton Brand',\n",
       "  'PHOTO': './static/images/stock-headshot.png',\n",
       "  'YEAR': 2002.0,\n",
       "  'YIL': 3.0,\n",
       "  'ROUND_NUMBER': 2.0,\n",
       "  'OVERALL_PICK': 61.0,\n",
       "  'MIN_PRED': 2905.02,\n",
       "  'PER': 2222.1,\n",
       "  'INJURY_PY': 0.0,\n",
       "  'INFLATION': '5,418,551.00',\n",
       "  'SAL_PRED': '4,874,117.00',\n",
       "  'SAL_RISIDUAL': 0.9},\n",
       " {'POSITION': 'PG',\n",
       "  'PLAYER_NAME': 'Chris Paul',\n",
       "  'PHOTO': 'https://s3-us-west-2.amazonaws.com/static.fantasydata.com/headshots/nba/low-res/20000664.png',\n",
       "  'YEAR': 2008.0,\n",
       "  'YIL': 3.0,\n",
       "  'ROUND_NUMBER': 1.0,\n",
       "  'OVERALL_PICK': 4.0,\n",
       "  'MIN_PRED': 3478.95,\n",
       "  'PER': 2210.09,\n",
       "  'INJURY_PY': 0.0,\n",
       "  'INFLATION': '4,217,279.00',\n",
       "  'SAL_PRED': '6,744,195.00',\n",
       "  'SAL_RISIDUAL': 1.6},\n",
       " {'POSITION': 'F',\n",
       "  'PLAYER_NAME': 'Dirk Nowitzki',\n",
       "  'PHOTO': './static/images/stock-headshot.png',\n",
       "  'YEAR': 2001.0,\n",
       "  'YIL': 3.0,\n",
       "  'ROUND_NUMBER': 2.0,\n",
       "  'OVERALL_PICK': 61.0,\n",
       "  'MIN_PRED': 3034.98,\n",
       "  'PER': 2123.85,\n",
       "  'INJURY_PY': 0.0,\n",
       "  'INFLATION': '2,400,475.00',\n",
       "  'SAL_PRED': '6,962,895.00',\n",
       "  'SAL_RISIDUAL': 2.9}]"
      ]
     },
     "execution_count": 31,
     "metadata": {},
     "output_type": "execute_result"
    }
   ],
   "source": [
    "test = top2020_yil_5()\n",
    "test['historic']"
   ]
  },
  {
   "cell_type": "code",
   "execution_count": null,
   "metadata": {},
   "outputs": [],
   "source": []
  },
  {
   "cell_type": "code",
   "execution_count": null,
   "metadata": {},
   "outputs": [],
   "source": []
  },
  {
   "cell_type": "code",
   "execution_count": null,
   "metadata": {},
   "outputs": [],
   "source": []
  },
  {
   "cell_type": "code",
   "execution_count": null,
   "metadata": {},
   "outputs": [],
   "source": []
  },
  {
   "cell_type": "code",
   "execution_count": null,
   "metadata": {},
   "outputs": [],
   "source": []
  },
  {
   "cell_type": "code",
   "execution_count": null,
   "metadata": {},
   "outputs": [],
   "source": []
  },
  {
   "cell_type": "code",
   "execution_count": null,
   "metadata": {},
   "outputs": [],
   "source": []
  },
  {
   "cell_type": "code",
   "execution_count": null,
   "metadata": {},
   "outputs": [],
   "source": []
  },
  {
   "cell_type": "code",
   "execution_count": null,
   "metadata": {},
   "outputs": [],
   "source": []
  },
  {
   "cell_type": "code",
   "execution_count": null,
   "metadata": {},
   "outputs": [],
   "source": []
  },
  {
   "cell_type": "code",
   "execution_count": null,
   "metadata": {},
   "outputs": [],
   "source": []
  },
  {
   "cell_type": "code",
   "execution_count": null,
   "metadata": {},
   "outputs": [],
   "source": []
  }
 ],
 "metadata": {
  "kernelspec": {
   "display_name": "Python 3",
   "language": "python",
   "name": "python3"
  },
  "language_info": {
   "codemirror_mode": {
    "name": "ipython",
    "version": 3
   },
   "file_extension": ".py",
   "mimetype": "text/x-python",
   "name": "python",
   "nbconvert_exporter": "python",
   "pygments_lexer": "ipython3",
   "version": "3.7.1"
  }
 },
 "nbformat": 4,
 "nbformat_minor": 4
}
