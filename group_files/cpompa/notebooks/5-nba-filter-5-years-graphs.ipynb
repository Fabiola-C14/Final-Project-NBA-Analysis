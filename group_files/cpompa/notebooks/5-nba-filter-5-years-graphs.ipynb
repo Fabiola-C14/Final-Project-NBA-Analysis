{
 "cells": [
  {
   "cell_type": "code",
   "execution_count": null,
   "metadata": {
    "ExecuteTime": {
     "end_time": "2020-09-19T18:30:59.521840Z",
     "start_time": "2020-09-19T18:30:58.992406Z"
    }
   },
   "outputs": [],
   "source": [
    "# Dependencies and Setup\n",
    "import pandas as pd\n",
    "import numpy as np\n",
    "import time\n",
    "from pprint import pprint\n",
    "import requests\n",
    "from datetime import date, timedelta, datetime\n",
    "import json\n",
    "from pprint import pprint\n",
    "from tqdm import tqdm\n",
    "from tqdm import tqdm_notebook\n",
    "# sqlite Dependencies\n",
    "# ----------------------------------\n",
    "# Imports the method used for connecting to DBs\n",
    "from sqlalchemy import create_engine\n",
    "# Allow us to declare column types\n",
    "from sqlalchemy import Column, Integer, String, Text, DateTime, Float, Boolean, ForeignKey\n",
    "from sqlalchemy.orm import relationship\n",
    "from sqlalchemy.ext.declarative import declarative_base\n",
    "from sqlalchemy.orm import Session"
   ]
  },
  {
   "cell_type": "code",
   "execution_count": null,
   "metadata": {
    "ExecuteTime": {
     "end_time": "2020-09-19T18:30:59.646540Z",
     "start_time": "2020-09-19T18:30:59.522825Z"
    }
   },
   "outputs": [],
   "source": [
    "from nba_api.stats.endpoints import playercareerstats, drafthistory, commonplayerinfo, playerawards"
   ]
  },
  {
   "cell_type": "code",
   "execution_count": null,
   "metadata": {
    "ExecuteTime": {
     "end_time": "2020-09-19T18:31:02.819317Z",
     "start_time": "2020-09-19T18:31:02.802445Z"
    }
   },
   "outputs": [],
   "source": [
    "# Not used\n",
    "# cumestatsplayer,draftcombinedrillresults,playerdashboardbyteamperformance, leagueleaders, leaguedashplayerstats, draftcombinenonstationaryshooting, draftcombinestats, commonallplayers,"
   ]
  },
  {
   "cell_type": "markdown",
   "metadata": {},
   "source": [
    "-------------"
   ]
  },
  {
   "cell_type": "markdown",
   "metadata": {},
   "source": [
    "# Open Saved JSON"
   ]
  },
  {
   "cell_type": "code",
   "execution_count": null,
   "metadata": {
    "ExecuteTime": {
     "end_time": "2020-09-19T18:31:03.739055Z",
     "start_time": "2020-09-19T18:31:03.610113Z"
    }
   },
   "outputs": [],
   "source": [
    "with open('./_players_all_data.json') as json_file:\n",
    "    data = json.load(json_file)"
   ]
  },
  {
   "cell_type": "code",
   "execution_count": null,
   "metadata": {
    "ExecuteTime": {
     "end_time": "2020-09-19T18:31:05.251917Z",
     "start_time": "2020-09-19T18:31:05.235772Z"
    }
   },
   "outputs": [],
   "source": [
    "#  Player positions\n",
    "player_positions = pd.read_csv('../../datasets/nba_positions_no_team.csv') "
   ]
  },
  {
   "cell_type": "code",
   "execution_count": null,
   "metadata": {
    "ExecuteTime": {
     "end_time": "2020-09-19T18:32:19.230354Z",
     "start_time": "2020-09-19T18:32:18.903007Z"
    }
   },
   "outputs": [],
   "source": [
    "five_year_all_players = pd.read_json(data)\n",
    "twenty_years_all_players_raw = five_year_all_players[five_year_all_players['SEASON_ID'] > '1999-00']\n",
    "twenty_years_all_players_raw = twenty_years_all_players_raw.join(player_positions.set_index('PLAYER_NAME'), on='PLAYER_NAME')\n",
    "twenty_years_all_players_raw = twenty_years_all_players_raw.dropna(how='any').sort_values(by=['PTS'], ascending=False).drop_duplicates( keep='first').reset_index(drop=True)\n",
    "twenty_years_all_players_raw['PPGP'] = round(twenty_years_all_players_raw['PTS'] / twenty_years_all_players_raw['GP'], 2)\n",
    "twenty_years_all_players = twenty_years_all_players_raw.copy()\n",
    "twenty_years_all_players"
   ]
  },
  {
   "cell_type": "code",
   "execution_count": null,
   "metadata": {
    "ExecuteTime": {
     "end_time": "2020-09-19T06:02:13.631468Z",
     "start_time": "2020-09-19T06:02:13.599553Z"
    }
   },
   "outputs": [],
   "source": []
  },
  {
   "cell_type": "code",
   "execution_count": null,
   "metadata": {
    "ExecuteTime": {
     "end_time": "2020-09-19T18:32:19.307838Z",
     "start_time": "2020-09-19T18:32:19.295870Z"
    }
   },
   "outputs": [],
   "source": [
    "### DF for each year. decending\n",
    "first_year = twenty_years_all_players[twenty_years_all_players['YIL'] == 1]\n",
    "second_year = twenty_years_all_players[twenty_years_all_players['YIL'] == 2]\n",
    "third_year = twenty_years_all_players[twenty_years_all_players['YIL'] == 3]\n",
    "fourth_year = twenty_years_all_players[twenty_years_all_players['YIL'] == 4]\n",
    "fifth_year = twenty_years_all_players[twenty_years_all_players['YIL'] == 5]"
   ]
  },
  {
   "cell_type": "markdown",
   "metadata": {
    "ExecuteTime": {
     "end_time": "2020-09-19T00:17:15.961383Z",
     "start_time": "2020-09-19T00:17:15.930465Z"
    }
   },
   "source": [
    "## Plot YIL to Total Points"
   ]
  },
  {
   "cell_type": "markdown",
   "metadata": {},
   "source": [
    "First Year Total Points per Position"
   ]
  },
  {
   "cell_type": "code",
   "execution_count": null,
   "metadata": {
    "ExecuteTime": {
     "end_time": "2020-09-19T05:03:47.882702Z",
     "start_time": "2020-09-19T05:03:47.811861Z"
    }
   },
   "outputs": [],
   "source": []
  },
  {
   "cell_type": "code",
   "execution_count": null,
   "metadata": {
    "ExecuteTime": {
     "end_time": "2020-09-19T18:32:21.705300Z",
     "start_time": "2020-09-19T18:32:20.378402Z"
    }
   },
   "outputs": [],
   "source": [
    "import plotly.express as px\n",
    "\n",
    "fig = px.scatter(twenty_years_all_players, x=\"MIN\", y=\"PPGP\", log_x=True, hover_name=\"PLAYER_NAME\", hover_data=[\"PTS\", 'PPGP', 'SEASON_ID', 'TEAM_ABBREVIATION'], color=\"YIL\",\n",
    "                 size='PTS', title=\"First Year Total Points per Position\")\n",
    "fig.show()"
   ]
  },
  {
   "cell_type": "markdown",
   "metadata": {},
   "source": [
    "Second Year Total Points per Position"
   ]
  },
  {
   "cell_type": "code",
   "execution_count": null,
   "metadata": {
    "ExecuteTime": {
     "end_time": "2020-09-19T06:20:14.239183Z",
     "start_time": "2020-09-19T06:20:14.159396Z"
    }
   },
   "outputs": [],
   "source": [
    "import plotly.express as px\n",
    "\n",
    "fig = px.scatter(second_year, x=\"PTS\", y=\"POSITION\", log_x=True, hover_name=\"PLAYER_NAME\", hover_data=[\"PTS\"], color=\"PTS\",\n",
    "                 size='PTS', title=\"Second Year Total Points per Position\")\n",
    "fig.show()"
   ]
  },
  {
   "cell_type": "code",
   "execution_count": null,
   "metadata": {
    "ExecuteTime": {
     "end_time": "2020-09-19T05:06:28.137080Z",
     "start_time": "2020-09-19T05:06:28.123960Z"
    }
   },
   "outputs": [],
   "source": [
    "## Remove NaN . Will sway values greatly\n",
    "# first_year = first_year.dropna().sort_values(by=['PTS'], ascending=False).drop_duplicates( keep='first')\n",
    "# first_year"
   ]
  },
  {
   "cell_type": "code",
   "execution_count": null,
   "metadata": {
    "ExecuteTime": {
     "end_time": "2020-09-19T05:06:28.522252Z",
     "start_time": "2020-09-19T05:06:28.518261Z"
    }
   },
   "outputs": [],
   "source": [
    "test = list(first_year.columns.values)"
   ]
  },
  {
   "cell_type": "code",
   "execution_count": null,
   "metadata": {
    "ExecuteTime": {
     "end_time": "2020-09-19T05:06:28.812252Z",
     "start_time": "2020-09-19T05:06:28.745405Z"
    }
   },
   "outputs": [],
   "source": [
    "fig = px.scatter_polar(first_year, r=\"PTS\", theta=\"POSITION\", color=\"PTS\",\n",
    "                    template=\"plotly_dark\", title=\"First Year Total Points per Position\")\n",
    "fig.show()"
   ]
  },
  {
   "cell_type": "code",
   "execution_count": null,
   "metadata": {
    "ExecuteTime": {
     "end_time": "2020-09-19T05:06:37.205329Z",
     "start_time": "2020-09-19T05:06:37.187376Z"
    }
   },
   "outputs": [],
   "source": [
    "twenty_years_all_players[['YIL','PTS','STL','BLK','REB','MIN','AST','TOV']].columns"
   ]
  },
  {
   "cell_type": "code",
   "execution_count": null,
   "metadata": {
    "ExecuteTime": {
     "end_time": "2020-09-19T05:08:48.186470Z",
     "start_time": "2020-09-19T05:08:47.406843Z"
    }
   },
   "outputs": [],
   "source": [
    "import plotly.express as px\n",
    "df = px.data.stocks()\n",
    "fig = px.line(twenty_years_all_players, x=\"MIN\", y=twenty_years_all_players[['YIL','PTS','STL','BLK','REB','MIN','AST','TOV']].columns,\n",
    "              hover_data={\"PLAYER_NAME\"},\n",
    "              title='custom tick labels',\n",
    "             color=\"YIL\")\n",
    "# fig.update_xaxes(\n",
    "#     dtick=\"M1\",\n",
    "#     tickformat=\"%b\\n%Y\")\n",
    "fig.show()"
   ]
  },
  {
   "cell_type": "markdown",
   "metadata": {},
   "source": [
    "https://plotly.com/python/polar-chart/"
   ]
  },
  {
   "cell_type": "code",
   "execution_count": null,
   "metadata": {
    "ExecuteTime": {
     "end_time": "2020-09-19T00:40:28.281920Z",
     "start_time": "2020-09-19T00:40:28.266961Z"
    }
   },
   "outputs": [],
   "source": [
    "# import plotly.express as px\n",
    "# df = px.data.wind()\n",
    "# fig = px.line_polar(twenty_years_all_players, r=\"PTS\", theta=\"POSITION\", color=\"YIL\", line_close=True,\n",
    "#                     color_discrete_sequence=px.colors.sequential.Plasma_r,\n",
    "#                     template=\"plotly_dark\",)\n",
    "# fig.show()"
   ]
  },
  {
   "cell_type": "code",
   "execution_count": null,
   "metadata": {
    "ExecuteTime": {
     "end_time": "2020-09-19T00:40:31.232732Z",
     "start_time": "2020-09-19T00:40:31.220765Z"
    }
   },
   "outputs": [],
   "source": [
    "# df = px.data.wind()\n",
    "# df"
   ]
  },
  {
   "cell_type": "code",
   "execution_count": null,
   "metadata": {},
   "outputs": [],
   "source": []
  },
  {
   "cell_type": "code",
   "execution_count": null,
   "metadata": {},
   "outputs": [],
   "source": []
  },
  {
   "cell_type": "code",
   "execution_count": null,
   "metadata": {},
   "outputs": [],
   "source": []
  },
  {
   "cell_type": "code",
   "execution_count": null,
   "metadata": {},
   "outputs": [],
   "source": []
  }
 ],
 "metadata": {
  "kernelspec": {
   "display_name": "Python 3",
   "language": "python",
   "name": "python3"
  },
  "language_info": {
   "codemirror_mode": {
    "name": "ipython",
    "version": 3
   },
   "file_extension": ".py",
   "mimetype": "text/x-python",
   "name": "python",
   "nbconvert_exporter": "python",
   "pygments_lexer": "ipython3",
   "version": "3.7.1"
  }
 },
 "nbformat": 4,
 "nbformat_minor": 4
}
