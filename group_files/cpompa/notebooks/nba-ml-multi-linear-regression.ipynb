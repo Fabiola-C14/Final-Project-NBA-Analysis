{
 "cells": [
  {
   "cell_type": "markdown",
   "metadata": {},
   "source": [
    "## Libraries"
   ]
  },
  {
   "cell_type": "code",
   "execution_count": 1,
   "metadata": {
    "ExecuteTime": {
     "end_time": "2020-09-23T07:41:44.024237Z",
     "start_time": "2020-09-23T07:41:43.309033Z"
    }
   },
   "outputs": [],
   "source": [
    "%matplotlib inline\n",
    "import matplotlib.pyplot as plt\n",
    "import numpy as np\n",
    "import pandas as pd\n",
    "\n",
    "# Dependencies and Setup\n",
    "import time\n",
    "from pprint import pprint\n",
    "import requests\n",
    "from datetime import date, timedelta, datetime\n",
    "import json\n",
    "from pprint import pprint\n",
    "from tqdm import tqdm\n",
    "from tqdm import tqdm_notebook\n",
    "# sqlite Dependencies\n",
    "# ----------------------------------\n",
    "# Imports the method used for connecting to DBs\n",
    "from sqlalchemy import create_engine\n",
    "# Allow us to declare column types\n",
    "from sqlalchemy import Column, Integer, String, Text, DateTime, Float, Boolean, ForeignKey\n",
    "from sqlalchemy.orm import relationship\n",
    "from sqlalchemy.ext.declarative import declarative_base\n",
    "from sqlalchemy.orm import Session"
   ]
  },
  {
   "cell_type": "code",
   "execution_count": 2,
   "metadata": {
    "ExecuteTime": {
     "end_time": "2020-09-23T07:41:44.102742Z",
     "start_time": "2020-09-23T07:41:44.025236Z"
    }
   },
   "outputs": [],
   "source": [
    "from nba_api.stats.endpoints import playercareerstats, drafthistory, commonplayerinfo, playerawards"
   ]
  },
  {
   "cell_type": "markdown",
   "metadata": {},
   "source": [
    "-------------"
   ]
  },
  {
   "cell_type": "markdown",
   "metadata": {},
   "source": [
    "## Open combined data from json"
   ]
  },
  {
   "cell_type": "code",
   "execution_count": 33,
   "metadata": {
    "ExecuteTime": {
     "end_time": "2020-09-23T08:26:36.203959Z",
     "start_time": "2020-09-23T08:26:35.933565Z"
    }
   },
   "outputs": [],
   "source": [
    "with open('./clean_combined_data_for_ml.json') as json_file:\n",
    "    data = json.load(json_file)"
   ]
  },
  {
   "cell_type": "code",
   "execution_count": 34,
   "metadata": {
    "ExecuteTime": {
     "end_time": "2020-09-23T08:26:36.697247Z",
     "start_time": "2020-09-23T08:26:36.257331Z"
    }
   },
   "outputs": [],
   "source": [
    "# Default DF. Do not touch.\n",
    "default = pd.read_json(data).copy()"
   ]
  },
  {
   "cell_type": "markdown",
   "metadata": {},
   "source": [
    "## Dataframes for all positions "
   ]
  },
  {
   "cell_type": "markdown",
   "metadata": {},
   "source": [
    "#### Key: \n",
    "\n",
    "* GP: Games Played\n",
    "* MIN: Minutes Played\n",
    "* FGM: Field Goals Made\n",
    "* FGA: Field Goals Attempted\n",
    "* FG_PCT: Field Goal Percentage\n",
    "* 3PM: 3 Point Field Goals Made\n",
    "* 3PA: 3 Point Field Goals Attempted\n",
    "* FG3_PCT: 3 Point Field Goals Percentage\n",
    "* FTM: Free Throws Made\n",
    "* FTA: Free Throws Attempted\n",
    "* FT_PCT: Free Throw Percentage\n",
    "* OREB: Offensive Rebounds\n",
    "* DREB: Defensive Rebounds\n",
    "* REB: Rebounds\n",
    "* AST: Assists\n",
    "* TOV: Turnovers\n",
    "* STL: Steals\n",
    "* BLK: Blocks\n",
    "* PF: Personal Fouls\n",
    "* DD2: Double Doubles\n",
    "* TD3: Trible Doubles\n",
    "* PTS: Points\n",
    "* YIL: Year in League\n"
   ]
  },
  {
   "cell_type": "code",
   "execution_count": null,
   "metadata": {},
   "outputs": [],
   "source": []
  },
  {
   "cell_type": "code",
   "execution_count": null,
   "metadata": {},
   "outputs": [],
   "source": []
  },
  {
   "cell_type": "code",
   "execution_count": null,
   "metadata": {},
   "outputs": [],
   "source": []
  },
  {
   "cell_type": "code",
   "execution_count": 89,
   "metadata": {
    "ExecuteTime": {
     "end_time": "2020-09-23T09:12:05.604861Z",
     "start_time": "2020-09-23T09:12:05.563970Z"
    }
   },
   "outputs": [
    {
     "data": {
      "text/html": [
       "<div>\n",
       "<style scoped>\n",
       "    .dataframe tbody tr th:only-of-type {\n",
       "        vertical-align: middle;\n",
       "    }\n",
       "\n",
       "    .dataframe tbody tr th {\n",
       "        vertical-align: top;\n",
       "    }\n",
       "\n",
       "    .dataframe thead th {\n",
       "        text-align: right;\n",
       "    }\n",
       "</style>\n",
       "<table border=\"1\" class=\"dataframe\">\n",
       "  <thead>\n",
       "    <tr style=\"text-align: right;\">\n",
       "      <th></th>\n",
       "      <th>PLAYER_ID</th>\n",
       "      <th>PLAYER_NAME</th>\n",
       "      <th>SEASON_ID</th>\n",
       "      <th>INFLATION</th>\n",
       "      <th>YEAR</th>\n",
       "      <th>YIL</th>\n",
       "      <th>PLAYER_AGE</th>\n",
       "      <th>GP</th>\n",
       "      <th>GS</th>\n",
       "      <th>FGM</th>\n",
       "      <th>FGA</th>\n",
       "      <th>FG_PCT</th>\n",
       "      <th>FG3M</th>\n",
       "      <th>FG3A</th>\n",
       "      <th>FG3_PCT</th>\n",
       "      <th>FTM</th>\n",
       "      <th>FTA</th>\n",
       "      <th>FT_PCT</th>\n",
       "      <th>OREB</th>\n",
       "      <th>DREB</th>\n",
       "      <th>REB</th>\n",
       "      <th>AST</th>\n",
       "      <th>STL</th>\n",
       "      <th>BLK</th>\n",
       "      <th>TOV</th>\n",
       "      <th>PF</th>\n",
       "      <th>PTS</th>\n",
       "      <th>MIN</th>\n",
       "    </tr>\n",
       "  </thead>\n",
       "  <tbody>\n",
       "    <tr>\n",
       "      <th>0</th>\n",
       "      <td>1629013</td>\n",
       "      <td>Landry Shamet</td>\n",
       "      <td>2019-20</td>\n",
       "      <td>1703649</td>\n",
       "      <td>2019</td>\n",
       "      <td>2</td>\n",
       "      <td>23</td>\n",
       "      <td>53</td>\n",
       "      <td>30</td>\n",
       "      <td>158</td>\n",
       "      <td>391</td>\n",
       "      <td>0.404</td>\n",
       "      <td>111</td>\n",
       "      <td>296</td>\n",
       "      <td>0.375</td>\n",
       "      <td>65</td>\n",
       "      <td>76</td>\n",
       "      <td>0.855</td>\n",
       "      <td>6</td>\n",
       "      <td>94</td>\n",
       "      <td>100</td>\n",
       "      <td>99</td>\n",
       "      <td>20</td>\n",
       "      <td>10</td>\n",
       "      <td>42</td>\n",
       "      <td>142</td>\n",
       "      <td>492</td>\n",
       "      <td>1452</td>\n",
       "    </tr>\n",
       "    <tr>\n",
       "      <th>1</th>\n",
       "      <td>1627936</td>\n",
       "      <td>Alex Caruso</td>\n",
       "      <td>2019-20</td>\n",
       "      <td>556745</td>\n",
       "      <td>2017</td>\n",
       "      <td>3</td>\n",
       "      <td>26</td>\n",
       "      <td>64</td>\n",
       "      <td>2</td>\n",
       "      <td>120</td>\n",
       "      <td>291</td>\n",
       "      <td>0.412</td>\n",
       "      <td>40</td>\n",
       "      <td>120</td>\n",
       "      <td>0.333</td>\n",
       "      <td>69</td>\n",
       "      <td>94</td>\n",
       "      <td>0.734</td>\n",
       "      <td>17</td>\n",
       "      <td>106</td>\n",
       "      <td>123</td>\n",
       "      <td>124</td>\n",
       "      <td>70</td>\n",
       "      <td>18</td>\n",
       "      <td>53</td>\n",
       "      <td>98</td>\n",
       "      <td>349</td>\n",
       "      <td>1175</td>\n",
       "    </tr>\n",
       "    <tr>\n",
       "      <th>2</th>\n",
       "      <td>1629741</td>\n",
       "      <td>Marko Guduric</td>\n",
       "      <td>2019-20</td>\n",
       "      <td>2625000</td>\n",
       "      <td>2020</td>\n",
       "      <td>1</td>\n",
       "      <td>25</td>\n",
       "      <td>44</td>\n",
       "      <td>0</td>\n",
       "      <td>62</td>\n",
       "      <td>157</td>\n",
       "      <td>0.395</td>\n",
       "      <td>25</td>\n",
       "      <td>83</td>\n",
       "      <td>0.301</td>\n",
       "      <td>24</td>\n",
       "      <td>26</td>\n",
       "      <td>0.923</td>\n",
       "      <td>14</td>\n",
       "      <td>59</td>\n",
       "      <td>73</td>\n",
       "      <td>45</td>\n",
       "      <td>12</td>\n",
       "      <td>8</td>\n",
       "      <td>36</td>\n",
       "      <td>34</td>\n",
       "      <td>173</td>\n",
       "      <td>484</td>\n",
       "    </tr>\n",
       "    <tr>\n",
       "      <th>3</th>\n",
       "      <td>1629680</td>\n",
       "      <td>Matisse Thybulle</td>\n",
       "      <td>2019-20</td>\n",
       "      <td>2582160</td>\n",
       "      <td>2020</td>\n",
       "      <td>1</td>\n",
       "      <td>23</td>\n",
       "      <td>65</td>\n",
       "      <td>14</td>\n",
       "      <td>112</td>\n",
       "      <td>265</td>\n",
       "      <td>0.423</td>\n",
       "      <td>56</td>\n",
       "      <td>157</td>\n",
       "      <td>0.357</td>\n",
       "      <td>25</td>\n",
       "      <td>41</td>\n",
       "      <td>0.610</td>\n",
       "      <td>44</td>\n",
       "      <td>63</td>\n",
       "      <td>107</td>\n",
       "      <td>79</td>\n",
       "      <td>93</td>\n",
       "      <td>47</td>\n",
       "      <td>51</td>\n",
       "      <td>141</td>\n",
       "      <td>305</td>\n",
       "      <td>1287</td>\n",
       "    </tr>\n",
       "    <tr>\n",
       "      <th>4</th>\n",
       "      <td>1629673</td>\n",
       "      <td>Jordan Poole</td>\n",
       "      <td>2019-20</td>\n",
       "      <td>1964760</td>\n",
       "      <td>2020</td>\n",
       "      <td>1</td>\n",
       "      <td>21</td>\n",
       "      <td>57</td>\n",
       "      <td>14</td>\n",
       "      <td>167</td>\n",
       "      <td>502</td>\n",
       "      <td>0.333</td>\n",
       "      <td>74</td>\n",
       "      <td>265</td>\n",
       "      <td>0.279</td>\n",
       "      <td>95</td>\n",
       "      <td>119</td>\n",
       "      <td>0.798</td>\n",
       "      <td>9</td>\n",
       "      <td>109</td>\n",
       "      <td>118</td>\n",
       "      <td>134</td>\n",
       "      <td>35</td>\n",
       "      <td>10</td>\n",
       "      <td>74</td>\n",
       "      <td>94</td>\n",
       "      <td>503</td>\n",
       "      <td>1274</td>\n",
       "    </tr>\n",
       "    <tr>\n",
       "      <th>...</th>\n",
       "      <td>...</td>\n",
       "      <td>...</td>\n",
       "      <td>...</td>\n",
       "      <td>...</td>\n",
       "      <td>...</td>\n",
       "      <td>...</td>\n",
       "      <td>...</td>\n",
       "      <td>...</td>\n",
       "      <td>...</td>\n",
       "      <td>...</td>\n",
       "      <td>...</td>\n",
       "      <td>...</td>\n",
       "      <td>...</td>\n",
       "      <td>...</td>\n",
       "      <td>...</td>\n",
       "      <td>...</td>\n",
       "      <td>...</td>\n",
       "      <td>...</td>\n",
       "      <td>...</td>\n",
       "      <td>...</td>\n",
       "      <td>...</td>\n",
       "      <td>...</td>\n",
       "      <td>...</td>\n",
       "      <td>...</td>\n",
       "      <td>...</td>\n",
       "      <td>...</td>\n",
       "      <td>...</td>\n",
       "      <td>...</td>\n",
       "    </tr>\n",
       "    <tr>\n",
       "      <th>559</th>\n",
       "      <td>1749</td>\n",
       "      <td>Cuttino Mobley</td>\n",
       "      <td>2000-01</td>\n",
       "      <td>10240158</td>\n",
       "      <td>2013</td>\n",
       "      <td>3</td>\n",
       "      <td>25</td>\n",
       "      <td>79</td>\n",
       "      <td>49</td>\n",
       "      <td>527</td>\n",
       "      <td>1214</td>\n",
       "      <td>0.434</td>\n",
       "      <td>90</td>\n",
       "      <td>252</td>\n",
       "      <td>0.357</td>\n",
       "      <td>394</td>\n",
       "      <td>474</td>\n",
       "      <td>0.831</td>\n",
       "      <td>83</td>\n",
       "      <td>314</td>\n",
       "      <td>397</td>\n",
       "      <td>195</td>\n",
       "      <td>84</td>\n",
       "      <td>26</td>\n",
       "      <td>165</td>\n",
       "      <td>169</td>\n",
       "      <td>1538</td>\n",
       "      <td>3006</td>\n",
       "    </tr>\n",
       "    <tr>\n",
       "      <th>560</th>\n",
       "      <td>1901</td>\n",
       "      <td>Dion Glover</td>\n",
       "      <td>2000-01</td>\n",
       "      <td>1302198</td>\n",
       "      <td>2000</td>\n",
       "      <td>2</td>\n",
       "      <td>22</td>\n",
       "      <td>57</td>\n",
       "      <td>7</td>\n",
       "      <td>141</td>\n",
       "      <td>336</td>\n",
       "      <td>0.420</td>\n",
       "      <td>9</td>\n",
       "      <td>46</td>\n",
       "      <td>0.196</td>\n",
       "      <td>47</td>\n",
       "      <td>69</td>\n",
       "      <td>0.681</td>\n",
       "      <td>39</td>\n",
       "      <td>92</td>\n",
       "      <td>131</td>\n",
       "      <td>69</td>\n",
       "      <td>49</td>\n",
       "      <td>10</td>\n",
       "      <td>54</td>\n",
       "      <td>92</td>\n",
       "      <td>338</td>\n",
       "      <td>931</td>\n",
       "    </tr>\n",
       "    <tr>\n",
       "      <th>561</th>\n",
       "      <td>2037</td>\n",
       "      <td>Jamal Crawford</td>\n",
       "      <td>2000-01</td>\n",
       "      <td>5773987</td>\n",
       "      <td>2015</td>\n",
       "      <td>1</td>\n",
       "      <td>21</td>\n",
       "      <td>61</td>\n",
       "      <td>8</td>\n",
       "      <td>107</td>\n",
       "      <td>304</td>\n",
       "      <td>0.352</td>\n",
       "      <td>41</td>\n",
       "      <td>117</td>\n",
       "      <td>0.350</td>\n",
       "      <td>27</td>\n",
       "      <td>34</td>\n",
       "      <td>0.794</td>\n",
       "      <td>9</td>\n",
       "      <td>80</td>\n",
       "      <td>89</td>\n",
       "      <td>141</td>\n",
       "      <td>43</td>\n",
       "      <td>14</td>\n",
       "      <td>85</td>\n",
       "      <td>68</td>\n",
       "      <td>282</td>\n",
       "      <td>1050</td>\n",
       "    </tr>\n",
       "    <tr>\n",
       "      <th>562</th>\n",
       "      <td>2050</td>\n",
       "      <td>Morris Peterson</td>\n",
       "      <td>2000-01</td>\n",
       "      <td>1273258</td>\n",
       "      <td>2001</td>\n",
       "      <td>1</td>\n",
       "      <td>23</td>\n",
       "      <td>80</td>\n",
       "      <td>49</td>\n",
       "      <td>290</td>\n",
       "      <td>673</td>\n",
       "      <td>0.431</td>\n",
       "      <td>63</td>\n",
       "      <td>165</td>\n",
       "      <td>0.382</td>\n",
       "      <td>104</td>\n",
       "      <td>145</td>\n",
       "      <td>0.717</td>\n",
       "      <td>112</td>\n",
       "      <td>147</td>\n",
       "      <td>259</td>\n",
       "      <td>105</td>\n",
       "      <td>63</td>\n",
       "      <td>20</td>\n",
       "      <td>78</td>\n",
       "      <td>164</td>\n",
       "      <td>747</td>\n",
       "      <td>1811</td>\n",
       "    </tr>\n",
       "    <tr>\n",
       "      <th>563</th>\n",
       "      <td>1559</td>\n",
       "      <td>Adrian Griffin</td>\n",
       "      <td>2000-01</td>\n",
       "      <td>706105</td>\n",
       "      <td>2001</td>\n",
       "      <td>2</td>\n",
       "      <td>26</td>\n",
       "      <td>44</td>\n",
       "      <td>0</td>\n",
       "      <td>33</td>\n",
       "      <td>97</td>\n",
       "      <td>0.340</td>\n",
       "      <td>9</td>\n",
       "      <td>26</td>\n",
       "      <td>0.346</td>\n",
       "      <td>18</td>\n",
       "      <td>24</td>\n",
       "      <td>0.750</td>\n",
       "      <td>27</td>\n",
       "      <td>60</td>\n",
       "      <td>87</td>\n",
       "      <td>27</td>\n",
       "      <td>18</td>\n",
       "      <td>5</td>\n",
       "      <td>18</td>\n",
       "      <td>45</td>\n",
       "      <td>93</td>\n",
       "      <td>376</td>\n",
       "    </tr>\n",
       "  </tbody>\n",
       "</table>\n",
       "<p>564 rows × 28 columns</p>\n",
       "</div>"
      ],
      "text/plain": [
       "     PLAYER_ID       PLAYER_NAME SEASON_ID  INFLATION  YEAR  YIL  PLAYER_AGE  \\\n",
       "0      1629013     Landry Shamet   2019-20    1703649  2019    2          23   \n",
       "1      1627936       Alex Caruso   2019-20     556745  2017    3          26   \n",
       "2      1629741     Marko Guduric   2019-20    2625000  2020    1          25   \n",
       "3      1629680  Matisse Thybulle   2019-20    2582160  2020    1          23   \n",
       "4      1629673      Jordan Poole   2019-20    1964760  2020    1          21   \n",
       "..         ...               ...       ...        ...   ...  ...         ...   \n",
       "559       1749    Cuttino Mobley   2000-01   10240158  2013    3          25   \n",
       "560       1901       Dion Glover   2000-01    1302198  2000    2          22   \n",
       "561       2037    Jamal Crawford   2000-01    5773987  2015    1          21   \n",
       "562       2050   Morris Peterson   2000-01    1273258  2001    1          23   \n",
       "563       1559    Adrian Griffin   2000-01     706105  2001    2          26   \n",
       "\n",
       "     GP  GS  FGM   FGA  FG_PCT  FG3M  FG3A  FG3_PCT  FTM  FTA  FT_PCT  OREB  \\\n",
       "0    53  30  158   391   0.404   111   296    0.375   65   76   0.855     6   \n",
       "1    64   2  120   291   0.412    40   120    0.333   69   94   0.734    17   \n",
       "2    44   0   62   157   0.395    25    83    0.301   24   26   0.923    14   \n",
       "3    65  14  112   265   0.423    56   157    0.357   25   41   0.610    44   \n",
       "4    57  14  167   502   0.333    74   265    0.279   95  119   0.798     9   \n",
       "..   ..  ..  ...   ...     ...   ...   ...      ...  ...  ...     ...   ...   \n",
       "559  79  49  527  1214   0.434    90   252    0.357  394  474   0.831    83   \n",
       "560  57   7  141   336   0.420     9    46    0.196   47   69   0.681    39   \n",
       "561  61   8  107   304   0.352    41   117    0.350   27   34   0.794     9   \n",
       "562  80  49  290   673   0.431    63   165    0.382  104  145   0.717   112   \n",
       "563  44   0   33    97   0.340     9    26    0.346   18   24   0.750    27   \n",
       "\n",
       "     DREB  REB  AST  STL  BLK  TOV   PF   PTS   MIN  \n",
       "0      94  100   99   20   10   42  142   492  1452  \n",
       "1     106  123  124   70   18   53   98   349  1175  \n",
       "2      59   73   45   12    8   36   34   173   484  \n",
       "3      63  107   79   93   47   51  141   305  1287  \n",
       "4     109  118  134   35   10   74   94   503  1274  \n",
       "..    ...  ...  ...  ...  ...  ...  ...   ...   ...  \n",
       "559   314  397  195   84   26  165  169  1538  3006  \n",
       "560    92  131   69   49   10   54   92   338   931  \n",
       "561    80   89  141   43   14   85   68   282  1050  \n",
       "562   147  259  105   63   20   78  164   747  1811  \n",
       "563    60   87   27   18    5   18   45    93   376  \n",
       "\n",
       "[564 rows x 28 columns]"
      ]
     },
     "execution_count": 89,
     "metadata": {},
     "output_type": "execute_result"
    }
   ],
   "source": [
    "# SG\n",
    "sg = default[(default['POSITION'] == 'SG') & (default['GP'] > 40)]\n",
    "sg = sg.drop(columns=['POSITION'])\n",
    "sg = sg[[ 'PLAYER_ID', 'PLAYER_NAME', 'SEASON_ID','INFLATION','YEAR','YIL', 'PLAYER_AGE', 'GP', 'GS',\n",
    "         'FGM', 'FGA', 'FG_PCT', 'FG3M', 'FG3A', 'FG3_PCT', 'FTM', 'FTA',\n",
    "       'FT_PCT', 'OREB', 'DREB', 'REB', 'AST', 'STL', 'BLK', 'TOV', 'PF',\n",
    "       'PTS', 'MIN']].sort_values(by='SEASON_ID', ascending=False)\n",
    "sg = sg.drop_duplicates(subset=['SEASON_ID','PLAYER_AGE','GP','GS','MIN'], keep='first').reset_index(drop=True)\n",
    "pd.set_option('display.max_columns', None)\n",
    "sg.copy()"
   ]
  },
  {
   "cell_type": "code",
   "execution_count": 45,
   "metadata": {
    "ExecuteTime": {
     "end_time": "2020-09-23T08:27:31.524206Z",
     "start_time": "2020-09-23T08:27:31.505270Z"
    }
   },
   "outputs": [],
   "source": [
    "# C\n",
    "c = default[(default['POSITION'] == 'C') & (default['GP'] > 40)]"
   ]
  },
  {
   "cell_type": "code",
   "execution_count": 46,
   "metadata": {
    "ExecuteTime": {
     "end_time": "2020-09-23T08:27:31.790369Z",
     "start_time": "2020-09-23T08:27:31.752145Z"
    }
   },
   "outputs": [],
   "source": [
    "# SF\n",
    "sf = default[default['POSITION'] == 'SF']\n",
    "# PF\n",
    "pf = default[default['POSITION'] == 'PF']\n",
    "# PG\n",
    "pg = default[default['POSITION'] == 'PG']\n",
    "# G\n",
    "g = default[default['POSITION'] == 'G']\n",
    "# F\n",
    "f = default[default['POSITION'] == 'F']"
   ]
  },
  {
   "cell_type": "markdown",
   "metadata": {},
   "source": [
    "------------"
   ]
  },
  {
   "cell_type": "code",
   "execution_count": 90,
   "metadata": {
    "ExecuteTime": {
     "end_time": "2020-09-23T09:12:46.671288Z",
     "start_time": "2020-09-23T09:12:46.658321Z"
    }
   },
   "outputs": [],
   "source": [
    "# dataset = position name\n",
    "dataset = sg\n",
    "\n",
    "## Multiple Linear Regressions\n",
    "X = dataset.iloc[:, 5:-1].values\n",
    "y = dataset.iloc[:, -1].values"
   ]
  },
  {
   "cell_type": "code",
   "execution_count": 92,
   "metadata": {
    "ExecuteTime": {
     "end_time": "2020-09-23T09:12:54.550844Z",
     "start_time": "2020-09-23T09:12:54.543863Z"
    }
   },
   "outputs": [],
   "source": [
    "## Splitting the dataset into the Training set and Test set\n",
    "from sklearn.model_selection import train_test_split\n",
    "X_train, X_test,y_train, y_test = train_test_split(X, y, test_size = 0.3, random_state = 0)"
   ]
  },
  {
   "cell_type": "code",
   "execution_count": 93,
   "metadata": {
    "ExecuteTime": {
     "end_time": "2020-09-23T09:12:54.769821Z",
     "start_time": "2020-09-23T09:12:54.758850Z"
    }
   },
   "outputs": [
    {
     "data": {
      "text/plain": [
       "LinearRegression()"
      ]
     },
     "execution_count": 93,
     "metadata": {},
     "output_type": "execute_result"
    }
   ],
   "source": [
    "## Training the Multiple Linear Regression model on the Training set\n",
    "from sklearn.linear_model import LinearRegression\n",
    "regressor = LinearRegression()\n",
    "regressor.fit(X_train, y_train)"
   ]
  },
  {
   "cell_type": "code",
   "execution_count": 94,
   "metadata": {
    "ExecuteTime": {
     "end_time": "2020-09-23T09:12:55.003853Z",
     "start_time": "2020-09-23T09:12:54.993881Z"
    }
   },
   "outputs": [
    {
     "name": "stdout",
     "output_type": "stream",
     "text": [
      "[[1720.87 1756.  ]\n",
      " [2728.42 3113.  ]\n",
      " [1378.   1457.  ]\n",
      " [2332.45 2245.  ]\n",
      " [1759.14 1912.  ]\n",
      " [2798.61 2901.  ]\n",
      " [1283.38 1283.  ]\n",
      " [ 340.29  359.  ]\n",
      " [2074.68 2185.  ]\n",
      " [ 438.52  578.  ]\n",
      " [1219.97 1188.  ]\n",
      " [1832.92 1966.  ]\n",
      " [2561.15 2397.  ]\n",
      " [1635.79 1791.  ]\n",
      " [2205.99 2291.  ]\n",
      " [1555.04 1530.  ]\n",
      " [1342.95 1139.  ]\n",
      " [1861.29 1780.  ]\n",
      " [1450.73 1495.  ]\n",
      " [2616.87 2566.  ]\n",
      " [1686.42 1494.  ]\n",
      " [1711.66 1760.  ]\n",
      " [ 807.21  679.  ]\n",
      " [1362.01 1234.  ]\n",
      " [2145.31 2133.  ]\n",
      " [ 805.87  896.  ]\n",
      " [1562.93 1766.  ]\n",
      " [1267.39 1360.  ]\n",
      " [1782.89 1738.  ]\n",
      " [1888.12 1879.  ]\n",
      " [2925.62 2777.  ]\n",
      " [1793.73 1843.  ]\n",
      " [1691.72 1704.  ]\n",
      " [1474.43 1417.  ]\n",
      " [ 851.65  813.  ]\n",
      " [ 821.03  807.  ]\n",
      " [1416.89 1517.  ]\n",
      " [1045.42 1177.  ]\n",
      " [3060.31 2877.  ]\n",
      " [1834.79 1791.  ]\n",
      " [2487.23 2458.  ]\n",
      " [2678.17 3086.  ]\n",
      " [ 477.29  427.  ]\n",
      " [1356.12 1368.  ]\n",
      " [2213.76 2159.  ]\n",
      " [2636.77 2667.  ]\n",
      " [1614.02 1553.  ]\n",
      " [ 302.07  268.  ]\n",
      " [ 583.03  269.  ]\n",
      " [2452.74 2379.  ]\n",
      " [1979.68 1990.  ]\n",
      " [ 379.15  455.  ]\n",
      " [1405.37 1488.  ]\n",
      " [1074.49  988.  ]\n",
      " [1640.92 1771.  ]\n",
      " [1898.6  1912.  ]\n",
      " [ 994.39 1068.  ]\n",
      " [1326.05 1190.  ]\n",
      " [1401.91 1209.  ]\n",
      " [1944.22 2037.  ]\n",
      " [1502.43 1546.  ]\n",
      " [1018.31 1034.  ]\n",
      " [ 883.33 1037.  ]\n",
      " [1957.61 2288.  ]\n",
      " [1476.11 1423.  ]\n",
      " [ 518.2   499.  ]\n",
      " [2770.84 2945.  ]\n",
      " [1701.74 1608.  ]\n",
      " [1510.11 1713.  ]\n",
      " [2304.61 2389.  ]\n",
      " [2610.24 2758.  ]\n",
      " [2736.39 2455.  ]\n",
      " [1506.92 1828.  ]\n",
      " [1868.18 2269.  ]\n",
      " [ 802.55  767.  ]\n",
      " [2856.7  2638.  ]\n",
      " [ 674.89  719.  ]\n",
      " [1775.12 1766.  ]\n",
      " [1214.54  935.  ]\n",
      " [1945.57 1811.  ]\n",
      " [1802.23 1856.  ]\n",
      " [1619.94 1745.  ]\n",
      " [1982.13 1888.  ]\n",
      " [1396.48 1258.  ]\n",
      " [3017.61 2839.  ]\n",
      " [1580.7  1449.  ]\n",
      " [1866.12 1947.  ]\n",
      " [3079.95 2552.  ]\n",
      " [2751.65 2697.  ]\n",
      " [2362.32 2520.  ]\n",
      " [2569.94 2601.  ]\n",
      " [2219.43 2437.  ]\n",
      " [ 947.88  988.  ]\n",
      " [1194.18 1384.  ]\n",
      " [3012.76 3269.  ]\n",
      " [ 919.15 1016.  ]\n",
      " [2275.04 2305.  ]\n",
      " [ 878.78  967.  ]\n",
      " [1529.   1673.  ]\n",
      " [1319.24 1315.  ]\n",
      " [2830.34 2818.  ]\n",
      " [1104.12  996.  ]\n",
      " [1848.14 1862.  ]\n",
      " [ 602.82  649.  ]\n",
      " [1428.24 1614.  ]\n",
      " [1621.53 1516.  ]\n",
      " [1219.46 1230.  ]\n",
      " [1205.48 1156.  ]\n",
      " [1631.56 1681.  ]\n",
      " [2233.08 2337.  ]\n",
      " [2189.43 2259.  ]\n",
      " [1822.3  1776.  ]\n",
      " [1260.26 1264.  ]\n",
      " [1169.52 1175.  ]\n",
      " [2085.78 2092.  ]\n",
      " [1168.74 1067.  ]\n",
      " [1728.67 1579.  ]\n",
      " [2867.99 2811.  ]\n",
      " [1936.81 1888.  ]\n",
      " [1200.96 1199.  ]\n",
      " [ 839.36  761.  ]\n",
      " [ 560.93  533.  ]\n",
      " [1815.53 1864.  ]\n",
      " [2388.42 2494.  ]\n",
      " [2509.77 2242.  ]\n",
      " [1428.69 1143.  ]\n",
      " [ 673.55  636.  ]\n",
      " [ 737.81  745.  ]\n",
      " [2253.9  2223.  ]\n",
      " [ 972.6   931.  ]\n",
      " [ 736.22  699.  ]\n",
      " [ 851.44  884.  ]\n",
      " [1715.75 1821.  ]\n",
      " [ 821.31  854.  ]\n",
      " [2210.31 2152.  ]\n",
      " [ 916.11 1050.  ]\n",
      " [1921.31 2025.  ]\n",
      " [ 755.68  692.  ]\n",
      " [1030.62  984.  ]\n",
      " [1023.25  978.  ]\n",
      " [2852.82 2684.  ]\n",
      " [1177.68 1236.  ]\n",
      " [1942.69 2018.  ]\n",
      " [2123.19 2196.  ]\n",
      " [2844.68 2926.  ]\n",
      " [ 775.51  886.  ]\n",
      " [1256.15 1161.  ]\n",
      " [2387.15 2522.  ]\n",
      " [2719.27 2512.  ]\n",
      " [2743.36 2704.  ]\n",
      " [1394.56 1306.  ]\n",
      " [1136.35  911.  ]\n",
      " [3299.18 3087.  ]\n",
      " [3062.08 3131.  ]\n",
      " [2595.48 2709.  ]\n",
      " [2334.4  2350.  ]\n",
      " [ 677.14  713.  ]\n",
      " [ 375.93  407.  ]\n",
      " [1057.26 1114.  ]\n",
      " [1971.9  2049.  ]\n",
      " [1430.46 1330.  ]\n",
      " [2131.98 2375.  ]\n",
      " [1994.12 1913.  ]\n",
      " [2104.33 2024.  ]\n",
      " [1897.24 2015.  ]\n",
      " [1344.75 1174.  ]\n",
      " [1851.43 1939.  ]\n",
      " [1925.85 1919.  ]\n",
      " [2698.23 2318.  ]\n",
      " [1556.47 1368.  ]]\n"
     ]
    }
   ],
   "source": [
    "## Predicting the Test set results\n",
    "y_pred = regressor.predict(X_test)\n",
    "np.set_printoptions(precision=2)\n",
    "print(np.concatenate((y_pred.reshape(len(y_pred),1), y_test.reshape(len(y_test),1)),1))"
   ]
  },
  {
   "cell_type": "markdown",
   "metadata": {
    "ExecuteTime": {
     "end_time": "2020-09-22T04:55:40.551665Z",
     "start_time": "2020-09-22T04:55:40.543663Z"
    }
   },
   "source": [
    "Multiple linear aggression is well adapted to the dataset. "
   ]
  },
  {
   "cell_type": "code",
   "execution_count": 95,
   "metadata": {
    "ExecuteTime": {
     "end_time": "2020-09-23T09:12:56.355828Z",
     "start_time": "2020-09-23T09:12:56.336847Z"
    }
   },
   "outputs": [
    {
     "data": {
      "text/plain": [
       "0.9620428882046579"
      ]
     },
     "execution_count": 95,
     "metadata": {},
     "output_type": "execute_result"
    }
   ],
   "source": [
    "## R-Square Coefficient \n",
    "from sklearn.metrics import r2_score\n",
    "r2_score(y_test, y_pred)"
   ]
  },
  {
   "cell_type": "markdown",
   "metadata": {
    "ExecuteTime": {
     "end_time": "2020-09-23T09:12:57.373930Z",
     "start_time": "2020-09-23T09:12:57.365947Z"
    }
   },
   "source": [
    "## Input 21 col of values (X) to get minutes played.   \n",
    "Each value has been passed through regressor to predict how much minutes have been played. Afterwards, we will use predicted minutes played to salary with linear regression. "
   ]
  },
  {
   "cell_type": "markdown",
   "metadata": {
    "ExecuteTime": {
     "end_time": "2020-09-23T09:20:43.234846Z",
     "start_time": "2020-09-23T09:20:43.229892Z"
    }
   },
   "source": [
    "example of x passing = [5,26,64,2,120,291,0.412,40,120,0.333,69,94,0.734,17,106,123,124,70,18,53,98,349]"
   ]
  },
  {
   "cell_type": "code",
   "execution_count": 135,
   "metadata": {
    "ExecuteTime": {
     "end_time": "2020-09-23T09:38:49.781260Z",
     "start_time": "2020-09-23T09:38:49.765302Z"
    }
   },
   "outputs": [],
   "source": [
    "Prediction_result  = ('Predicted Stock Index Price: ', regressor.predict(X))"
   ]
  },
  {
   "cell_type": "code",
   "execution_count": 140,
   "metadata": {
    "ExecuteTime": {
     "end_time": "2020-09-23T09:39:20.596648Z",
     "start_time": "2020-09-23T09:39:20.578694Z"
    }
   },
   "outputs": [],
   "source": [
    "# Add predicts to MIN_PREDICTIONS (MIN_PRED) column\n",
    "sg['MIN_PRED'] = Prediction_result[1]\n",
    "sg['MIN_PRED'] = round(sg['MIN_PRED'], 2)"
   ]
  },
  {
   "cell_type": "code",
   "execution_count": 151,
   "metadata": {
    "ExecuteTime": {
     "end_time": "2020-09-23T09:44:01.267961Z",
     "start_time": "2020-09-23T09:44:01.264001Z"
    }
   },
   "outputs": [],
   "source": [
    "sg['RISIDUAL'] = sg['MIN_PRED']/sg['MIN']\n"
   ]
  },
  {
   "cell_type": "code",
   "execution_count": 154,
   "metadata": {
    "ExecuteTime": {
     "end_time": "2020-09-23T09:50:01.114792Z",
     "start_time": "2020-09-23T09:50:01.089859Z"
    }
   },
   "outputs": [
    {
     "data": {
      "text/html": [
       "<div>\n",
       "<style scoped>\n",
       "    .dataframe tbody tr th:only-of-type {\n",
       "        vertical-align: middle;\n",
       "    }\n",
       "\n",
       "    .dataframe tbody tr th {\n",
       "        vertical-align: top;\n",
       "    }\n",
       "\n",
       "    .dataframe thead th {\n",
       "        text-align: right;\n",
       "    }\n",
       "</style>\n",
       "<table border=\"1\" class=\"dataframe\">\n",
       "  <thead>\n",
       "    <tr style=\"text-align: right;\">\n",
       "      <th></th>\n",
       "      <th>PLAYER_ID</th>\n",
       "      <th>PLAYER_NAME</th>\n",
       "      <th>SEASON_ID</th>\n",
       "      <th>INFLATION</th>\n",
       "      <th>YEAR</th>\n",
       "      <th>YIL</th>\n",
       "      <th>PLAYER_AGE</th>\n",
       "      <th>GP</th>\n",
       "      <th>GS</th>\n",
       "      <th>FGM</th>\n",
       "      <th>FGA</th>\n",
       "      <th>FG_PCT</th>\n",
       "      <th>FG3M</th>\n",
       "      <th>FG3A</th>\n",
       "      <th>FG3_PCT</th>\n",
       "      <th>FTM</th>\n",
       "      <th>FTA</th>\n",
       "      <th>FT_PCT</th>\n",
       "      <th>OREB</th>\n",
       "      <th>DREB</th>\n",
       "      <th>REB</th>\n",
       "      <th>AST</th>\n",
       "      <th>STL</th>\n",
       "      <th>BLK</th>\n",
       "      <th>TOV</th>\n",
       "      <th>PF</th>\n",
       "      <th>PTS</th>\n",
       "      <th>MIN</th>\n",
       "      <th>MIN_PRED</th>\n",
       "      <th>RISIDUAL</th>\n",
       "    </tr>\n",
       "  </thead>\n",
       "  <tbody>\n",
       "    <tr>\n",
       "      <th>1</th>\n",
       "      <td>1627936</td>\n",
       "      <td>Alex Caruso</td>\n",
       "      <td>2019-20</td>\n",
       "      <td>556745</td>\n",
       "      <td>2017</td>\n",
       "      <td>3</td>\n",
       "      <td>26</td>\n",
       "      <td>64</td>\n",
       "      <td>2</td>\n",
       "      <td>120</td>\n",
       "      <td>291</td>\n",
       "      <td>0.412</td>\n",
       "      <td>40</td>\n",
       "      <td>120</td>\n",
       "      <td>0.333</td>\n",
       "      <td>69</td>\n",
       "      <td>94</td>\n",
       "      <td>0.734</td>\n",
       "      <td>17</td>\n",
       "      <td>106</td>\n",
       "      <td>123</td>\n",
       "      <td>124</td>\n",
       "      <td>70</td>\n",
       "      <td>18</td>\n",
       "      <td>53</td>\n",
       "      <td>98</td>\n",
       "      <td>349</td>\n",
       "      <td>1175</td>\n",
       "      <td>1169.52</td>\n",
       "      <td>0.995336</td>\n",
       "    </tr>\n",
       "  </tbody>\n",
       "</table>\n",
       "</div>"
      ],
      "text/plain": [
       "   PLAYER_ID  PLAYER_NAME SEASON_ID  INFLATION  YEAR  YIL  PLAYER_AGE  GP  GS  \\\n",
       "1    1627936  Alex Caruso   2019-20     556745  2017    3          26  64   2   \n",
       "\n",
       "   FGM  FGA  FG_PCT  FG3M  FG3A  FG3_PCT  FTM  FTA  FT_PCT  OREB  DREB  REB  \\\n",
       "1  120  291   0.412    40   120    0.333   69   94   0.734    17   106  123   \n",
       "\n",
       "   AST  STL  BLK  TOV  PF  PTS   MIN  MIN_PRED  RISIDUAL  \n",
       "1  124   70   18   53  98  349  1175   1169.52  0.995336  "
      ]
     },
     "execution_count": 154,
     "metadata": {},
     "output_type": "execute_result"
    }
   ],
   "source": [
    "sg[sg['PLAYER_NAME'] == \"Alex Caruso\"]"
   ]
  },
  {
   "cell_type": "code",
   "execution_count": null,
   "metadata": {},
   "outputs": [],
   "source": []
  },
  {
   "cell_type": "markdown",
   "metadata": {},
   "source": [
    "Regression 2\n",
    "### MIN_PRED will be in a dataframe with injuries, bmi rank, all risidual rankings, PLAYER_ID, PLAYER_NAME, SEASON_ID, INFLATION\n",
    "this dataframe will run another multiple linear regression. The dependent var will be salary. \n",
    "Seperating all the data by position may not be necessary. We could possibly run this model workflow on the full dataset. "
   ]
  },
  {
   "cell_type": "code",
   "execution_count": 274,
   "metadata": {
    "ExecuteTime": {
     "end_time": "2020-09-23T10:14:32.937232Z",
     "start_time": "2020-09-23T10:14:32.916258Z"
    }
   },
   "outputs": [
    {
     "data": {
      "text/html": [
       "<div>\n",
       "<style scoped>\n",
       "    .dataframe tbody tr th:only-of-type {\n",
       "        vertical-align: middle;\n",
       "    }\n",
       "\n",
       "    .dataframe tbody tr th {\n",
       "        vertical-align: top;\n",
       "    }\n",
       "\n",
       "    .dataframe thead th {\n",
       "        text-align: right;\n",
       "    }\n",
       "</style>\n",
       "<table border=\"1\" class=\"dataframe\">\n",
       "  <thead>\n",
       "    <tr style=\"text-align: right;\">\n",
       "      <th></th>\n",
       "      <th>PLAYER_ID</th>\n",
       "      <th>PLAYER_NAME</th>\n",
       "      <th>SEASON_ID</th>\n",
       "      <th>YEAR</th>\n",
       "      <th>REB</th>\n",
       "      <th>AST</th>\n",
       "      <th>STL</th>\n",
       "      <th>MIN_PRED</th>\n",
       "      <th>INFLATION</th>\n",
       "    </tr>\n",
       "  </thead>\n",
       "  <tbody>\n",
       "    <tr>\n",
       "      <th>0</th>\n",
       "      <td>1629013</td>\n",
       "      <td>Landry Shamet</td>\n",
       "      <td>2019-20</td>\n",
       "      <td>2019</td>\n",
       "      <td>100</td>\n",
       "      <td>99</td>\n",
       "      <td>20</td>\n",
       "      <td>1285.30</td>\n",
       "      <td>1703649</td>\n",
       "    </tr>\n",
       "    <tr>\n",
       "      <th>1</th>\n",
       "      <td>1627936</td>\n",
       "      <td>Alex Caruso</td>\n",
       "      <td>2019-20</td>\n",
       "      <td>2017</td>\n",
       "      <td>123</td>\n",
       "      <td>124</td>\n",
       "      <td>70</td>\n",
       "      <td>1169.52</td>\n",
       "      <td>556745</td>\n",
       "    </tr>\n",
       "    <tr>\n",
       "      <th>2</th>\n",
       "      <td>1629741</td>\n",
       "      <td>Marko Guduric</td>\n",
       "      <td>2019-20</td>\n",
       "      <td>2020</td>\n",
       "      <td>73</td>\n",
       "      <td>45</td>\n",
       "      <td>12</td>\n",
       "      <td>508.47</td>\n",
       "      <td>2625000</td>\n",
       "    </tr>\n",
       "    <tr>\n",
       "      <th>3</th>\n",
       "      <td>1629680</td>\n",
       "      <td>Matisse Thybulle</td>\n",
       "      <td>2019-20</td>\n",
       "      <td>2020</td>\n",
       "      <td>107</td>\n",
       "      <td>79</td>\n",
       "      <td>93</td>\n",
       "      <td>1220.42</td>\n",
       "      <td>2582160</td>\n",
       "    </tr>\n",
       "    <tr>\n",
       "      <th>4</th>\n",
       "      <td>1629673</td>\n",
       "      <td>Jordan Poole</td>\n",
       "      <td>2019-20</td>\n",
       "      <td>2020</td>\n",
       "      <td>118</td>\n",
       "      <td>134</td>\n",
       "      <td>35</td>\n",
       "      <td>1146.32</td>\n",
       "      <td>1964760</td>\n",
       "    </tr>\n",
       "    <tr>\n",
       "      <th>...</th>\n",
       "      <td>...</td>\n",
       "      <td>...</td>\n",
       "      <td>...</td>\n",
       "      <td>...</td>\n",
       "      <td>...</td>\n",
       "      <td>...</td>\n",
       "      <td>...</td>\n",
       "      <td>...</td>\n",
       "      <td>...</td>\n",
       "    </tr>\n",
       "    <tr>\n",
       "      <th>559</th>\n",
       "      <td>1749</td>\n",
       "      <td>Cuttino Mobley</td>\n",
       "      <td>2000-01</td>\n",
       "      <td>2013</td>\n",
       "      <td>397</td>\n",
       "      <td>195</td>\n",
       "      <td>84</td>\n",
       "      <td>2614.98</td>\n",
       "      <td>10240158</td>\n",
       "    </tr>\n",
       "    <tr>\n",
       "      <th>560</th>\n",
       "      <td>1901</td>\n",
       "      <td>Dion Glover</td>\n",
       "      <td>2000-01</td>\n",
       "      <td>2000</td>\n",
       "      <td>131</td>\n",
       "      <td>69</td>\n",
       "      <td>49</td>\n",
       "      <td>972.60</td>\n",
       "      <td>1302198</td>\n",
       "    </tr>\n",
       "    <tr>\n",
       "      <th>561</th>\n",
       "      <td>2037</td>\n",
       "      <td>Jamal Crawford</td>\n",
       "      <td>2000-01</td>\n",
       "      <td>2015</td>\n",
       "      <td>89</td>\n",
       "      <td>141</td>\n",
       "      <td>43</td>\n",
       "      <td>916.11</td>\n",
       "      <td>5773987</td>\n",
       "    </tr>\n",
       "    <tr>\n",
       "      <th>562</th>\n",
       "      <td>2050</td>\n",
       "      <td>Morris Peterson</td>\n",
       "      <td>2000-01</td>\n",
       "      <td>2001</td>\n",
       "      <td>259</td>\n",
       "      <td>105</td>\n",
       "      <td>63</td>\n",
       "      <td>1945.57</td>\n",
       "      <td>1273258</td>\n",
       "    </tr>\n",
       "    <tr>\n",
       "      <th>563</th>\n",
       "      <td>1559</td>\n",
       "      <td>Adrian Griffin</td>\n",
       "      <td>2000-01</td>\n",
       "      <td>2001</td>\n",
       "      <td>87</td>\n",
       "      <td>27</td>\n",
       "      <td>18</td>\n",
       "      <td>424.84</td>\n",
       "      <td>706105</td>\n",
       "    </tr>\n",
       "  </tbody>\n",
       "</table>\n",
       "<p>564 rows × 9 columns</p>\n",
       "</div>"
      ],
      "text/plain": [
       "     PLAYER_ID       PLAYER_NAME SEASON_ID  YEAR  REB  AST  STL  MIN_PRED  \\\n",
       "0      1629013     Landry Shamet   2019-20  2019  100   99   20   1285.30   \n",
       "1      1627936       Alex Caruso   2019-20  2017  123  124   70   1169.52   \n",
       "2      1629741     Marko Guduric   2019-20  2020   73   45   12    508.47   \n",
       "3      1629680  Matisse Thybulle   2019-20  2020  107   79   93   1220.42   \n",
       "4      1629673      Jordan Poole   2019-20  2020  118  134   35   1146.32   \n",
       "..         ...               ...       ...   ...  ...  ...  ...       ...   \n",
       "559       1749    Cuttino Mobley   2000-01  2013  397  195   84   2614.98   \n",
       "560       1901       Dion Glover   2000-01  2000  131   69   49    972.60   \n",
       "561       2037    Jamal Crawford   2000-01  2015   89  141   43    916.11   \n",
       "562       2050   Morris Peterson   2000-01  2001  259  105   63   1945.57   \n",
       "563       1559    Adrian Griffin   2000-01  2001   87   27   18    424.84   \n",
       "\n",
       "     INFLATION  \n",
       "0      1703649  \n",
       "1       556745  \n",
       "2      2625000  \n",
       "3      2582160  \n",
       "4      1964760  \n",
       "..         ...  \n",
       "559   10240158  \n",
       "560    1302198  \n",
       "561    5773987  \n",
       "562    1273258  \n",
       "563     706105  \n",
       "\n",
       "[564 rows x 9 columns]"
      ]
     },
     "execution_count": 274,
     "metadata": {},
     "output_type": "execute_result"
    }
   ],
   "source": [
    "## Dropping risidual due to no correlation with other featuers. Will use to verify testings.\n",
    "sg_rank = sg.copy()\n",
    "sg_rank = sg_rank[['PLAYER_ID', 'PLAYER_NAME', 'SEASON_ID', 'YEAR', 'REB','AST','STL', 'MIN_PRED', 'INFLATION']]\n",
    "sg_rank"
   ]
  },
  {
   "cell_type": "code",
   "execution_count": 275,
   "metadata": {
    "ExecuteTime": {
     "end_time": "2020-09-23T10:14:33.217717Z",
     "start_time": "2020-09-23T10:14:33.207766Z"
    }
   },
   "outputs": [],
   "source": [
    "# dataset = position name\n",
    "dataset2 = sg_rank\n",
    "\n",
    "## Multiple Linear Regressions\n",
    "X = dataset2.iloc[:, 4:-1].values\n",
    "y = dataset2.iloc[:, -1].values"
   ]
  },
  {
   "cell_type": "code",
   "execution_count": 276,
   "metadata": {
    "ExecuteTime": {
     "end_time": "2020-09-23T10:14:33.467154Z",
     "start_time": "2020-09-23T10:14:33.448180Z"
    }
   },
   "outputs": [
    {
     "data": {
      "text/plain": [
       "array([[ 100.  ,   99.  ,   20.  , 1285.3 ],\n",
       "       [ 123.  ,  124.  ,   70.  , 1169.52],\n",
       "       [  73.  ,   45.  ,   12.  ,  508.47],\n",
       "       ...,\n",
       "       [  89.  ,  141.  ,   43.  ,  916.11],\n",
       "       [ 259.  ,  105.  ,   63.  , 1945.57],\n",
       "       [  87.  ,   27.  ,   18.  ,  424.84]])"
      ]
     },
     "execution_count": 276,
     "metadata": {},
     "output_type": "execute_result"
    }
   ],
   "source": [
    "X"
   ]
  },
  {
   "cell_type": "code",
   "execution_count": 277,
   "metadata": {
    "ExecuteTime": {
     "end_time": "2020-09-23T10:14:33.809690Z",
     "start_time": "2020-09-23T10:14:33.670065Z"
    }
   },
   "outputs": [
    {
     "data": {
      "image/png": "[encoded data removed]",
      "text/plain": [
       "<Figure size 1080x1080 with 2 Axes>"
      ]
     },
     "metadata": {
      "needs_background": "light"
     },
     "output_type": "display_data"
    }
   ],
   "source": [
    "## Check correlation to features\n",
    "train_data = dataset2.iloc[:, 4:]\n",
    "# train_data['INFLATION'] = y \n",
    "\n",
    "C_mat = train_data.corr()\n",
    "fig = plt.figure(figsize = (15,15))\n",
    "\n",
    "sb.heatmap(C_mat, vmax = .8, square = True)\n",
    "plt.show()"
   ]
  },
  {
   "cell_type": "code",
   "execution_count": 306,
   "metadata": {
    "ExecuteTime": {
     "end_time": "2020-09-23T10:15:43.093161Z",
     "start_time": "2020-09-23T10:15:43.075209Z"
    }
   },
   "outputs": [],
   "source": [
    "## Splitting the dataset into the Training set and Test set\n",
    "from sklearn.model_selection import train_test_split\n",
    "X_train, X_test,y_train, y_test = train_test_split(X, y, test_size = 0.2, random_state = 50)"
   ]
  },
  {
   "cell_type": "code",
   "execution_count": 307,
   "metadata": {
    "ExecuteTime": {
     "end_time": "2020-09-23T10:15:43.323867Z",
     "start_time": "2020-09-23T10:15:43.310846Z"
    }
   },
   "outputs": [
    {
     "data": {
      "text/plain": [
       "LinearRegression()"
      ]
     },
     "execution_count": 307,
     "metadata": {},
     "output_type": "execute_result"
    }
   ],
   "source": [
    "## Training the Multiple Linear Regression model on the Training set\n",
    "from sklearn.linear_model import LinearRegression\n",
    "regressor2 = LinearRegression()\n",
    "regressor2.fit(X_train, y_train)"
   ]
  },
  {
   "cell_type": "code",
   "execution_count": 308,
   "metadata": {
    "ExecuteTime": {
     "end_time": "2020-09-23T10:15:43.493455Z",
     "start_time": "2020-09-23T10:15:43.482455Z"
    }
   },
   "outputs": [
    {
     "name": "stdout",
     "output_type": "stream",
     "text": [
      "[[8.58e+06 5.05e+06]\n",
      " [3.37e+06 8.16e+05]\n",
      " [1.66e+06 1.00e+06]\n",
      " [4.19e+06 5.20e+05]\n",
      " [5.89e+06 4.50e+06]\n",
      " [6.41e+06 7.06e+06]\n",
      " [3.48e+06 9.91e+05]\n",
      " [5.60e+06 4.84e+06]\n",
      " [2.13e+06 1.42e+06]\n",
      " [6.76e+06 1.20e+07]\n",
      " [3.91e+06 3.57e+06]\n",
      " [7.58e+06 2.93e+06]\n",
      " [6.06e+06 1.23e+07]\n",
      " [4.12e+05 2.12e+06]\n",
      " [3.53e+06 3.91e+06]\n",
      " [1.44e+06 1.38e+06]\n",
      " [1.82e+06 2.55e+06]\n",
      " [6.57e+06 9.54e+05]\n",
      " [6.36e+06 2.46e+06]\n",
      " [4.67e+06 3.17e+06]\n",
      " [8.03e+06 5.27e+05]\n",
      " [1.11e+07 5.13e+06]\n",
      " [6.06e+06 7.00e+06]\n",
      " [5.79e+06 2.12e+05]\n",
      " [7.16e+06 1.40e+07]\n",
      " [3.73e+06 1.13e+06]\n",
      " [6.39e+06 1.42e+07]\n",
      " [4.36e+05 2.25e+06]\n",
      " [1.11e+07 4.81e+06]\n",
      " [6.52e+06 2.88e+06]\n",
      " [6.22e+06 1.40e+07]\n",
      " [3.50e+06 1.42e+06]\n",
      " [6.28e+06 8.53e+06]\n",
      " [2.51e+06 9.38e+05]\n",
      " [6.80e+05 5.11e+05]\n",
      " [8.79e+06 1.72e+07]\n",
      " [2.96e+06 8.41e+05]\n",
      " [8.60e+06 2.66e+06]\n",
      " [9.68e+06 8.99e+05]\n",
      " [3.48e+06 3.11e+06]\n",
      " [4.80e+06 1.62e+07]\n",
      " [8.26e+06 1.90e+07]\n",
      " [2.70e+06 7.53e+04]\n",
      " [8.12e+06 1.15e+07]\n",
      " [9.45e+05 1.38e+06]\n",
      " [1.31e+06 1.57e+06]\n",
      " [1.86e+06 5.27e+06]\n",
      " [1.02e+06 1.52e+06]\n",
      " [1.89e+06 1.05e+07]\n",
      " [7.16e+06 5.61e+06]\n",
      " [5.47e+06 5.95e+06]\n",
      " [1.76e+06 6.54e+05]\n",
      " [3.22e+06 2.66e+06]\n",
      " [4.00e+06 1.96e+07]\n",
      " [4.12e+06 1.51e+06]\n",
      " [5.95e+06 1.36e+06]\n",
      " [6.34e+06 6.53e+06]\n",
      " [8.46e+06 2.73e+07]\n",
      " [5.38e+06 9.80e+05]\n",
      " [3.20e+06 5.11e+05]\n",
      " [3.12e+06 9.34e+05]\n",
      " [4.87e+06 9.34e+05]\n",
      " [9.65e+06 5.54e+06]\n",
      " [4.49e+06 1.01e+07]\n",
      " [3.74e+06 3.35e+06]\n",
      " [8.71e+06 5.56e+06]\n",
      " [1.17e+06 1.35e+07]\n",
      " [8.85e+06 3.66e+06]\n",
      " [2.59e+06 5.57e+05]\n",
      " [8.19e+06 1.62e+06]\n",
      " [8.86e+06 4.54e+06]\n",
      " [8.62e+06 4.66e+06]\n",
      " [1.05e+06 2.24e+04]\n",
      " [2.31e+06 6.63e+06]\n",
      " [6.91e+06 5.34e+06]\n",
      " [3.87e+06 4.47e+06]\n",
      " [3.07e+06 1.60e+05]\n",
      " [3.35e+06 5.17e+05]\n",
      " [5.57e+06 8.65e+06]\n",
      " [9.26e+06 1.21e+07]\n",
      " [3.26e+06 1.13e+06]\n",
      " [3.17e+06 1.29e+06]\n",
      " [2.90e+06 3.43e+06]\n",
      " [4.17e+06 5.81e+06]\n",
      " [2.79e+06 3.45e+06]\n",
      " [1.29e+06 2.03e+06]\n",
      " [4.43e+06 2.76e+06]\n",
      " [3.33e+06 1.98e+06]\n",
      " [4.09e+06 1.47e+06]\n",
      " [2.78e+06 2.69e+06]\n",
      " [6.79e+05 3.05e+06]\n",
      " [4.48e+06 1.68e+06]\n",
      " [3.36e+06 5.18e+05]\n",
      " [2.41e+06 2.75e+06]\n",
      " [3.89e+06 5.57e+05]\n",
      " [8.57e+06 1.20e+07]\n",
      " [6.11e+06 2.96e+06]\n",
      " [7.45e+06 8.65e+06]\n",
      " [8.09e+06 1.27e+07]\n",
      " [1.17e+06 1.58e+06]\n",
      " [4.87e+06 2.56e+06]\n",
      " [5.86e+06 4.30e+06]\n",
      " [4.45e+06 3.75e+06]\n",
      " [5.70e+06 2.59e+06]\n",
      " [2.10e+06 8.86e+06]\n",
      " [3.31e+06 6.80e+05]\n",
      " [4.87e+06 2.64e+05]\n",
      " [5.60e+06 3.29e+06]\n",
      " [6.52e+06 7.29e+06]\n",
      " [1.08e+07 1.65e+07]\n",
      " [6.75e+06 2.94e+06]\n",
      " [6.28e+06 1.21e+06]\n",
      " [3.00e+06 5.40e+06]\n",
      " [8.91e+06 5.90e+06]\n",
      " [4.18e+06 2.73e+07]\n",
      " [9.01e+05 1.00e+06]\n",
      " [5.43e+06 1.21e+06]\n",
      " [8.33e+06 2.10e+07]\n",
      " [5.50e+06 5.94e+06]\n",
      " [4.77e+06 3.58e+06]\n",
      " [2.03e+06 1.62e+06]\n",
      " [4.15e+06 5.33e+06]\n",
      " [8.03e+06 1.72e+07]\n",
      " [2.57e+06 5.86e+04]\n",
      " [8.38e+06 1.43e+07]\n",
      " [5.44e+06 1.78e+07]\n",
      " [2.78e+06 5.12e+06]\n",
      " [2.90e+06 8.84e+05]\n",
      " [7.54e+06 3.05e+06]\n",
      " [2.32e+06 4.82e+06]\n",
      " [1.01e+07 1.11e+07]\n",
      " [1.95e+06 2.00e+07]\n",
      " [7.83e+06 8.09e+06]\n",
      " [3.55e+06 3.64e+06]\n",
      " [9.63e+06 1.71e+07]\n",
      " [1.80e+06 9.21e+05]\n",
      " [1.83e+06 5.09e+04]\n",
      " [5.15e+06 9.08e+06]\n",
      " [4.64e+06 9.03e+05]\n",
      " [1.16e+07 2.67e+06]\n",
      " [7.22e+06 1.62e+06]\n",
      " [6.69e+06 6.67e+06]\n",
      " [8.45e+06 6.99e+06]\n",
      " [1.06e+07 3.43e+06]\n",
      " [3.99e+06 8.84e+05]\n",
      " [3.39e+06 9.67e+05]\n",
      " [3.38e+06 2.08e+06]\n",
      " [1.05e+07 1.95e+07]\n",
      " [6.32e+06 2.27e+07]\n",
      " [7.91e+06 3.31e+06]\n",
      " [6.50e+06 4.86e+06]\n",
      " [8.63e+06 5.49e+05]\n",
      " [4.89e+06 6.72e+06]\n",
      " [1.45e+06 5.91e+03]\n",
      " [6.81e+06 5.29e+05]\n",
      " [3.40e+06 6.54e+05]\n",
      " [4.55e+06 5.27e+05]\n",
      " [4.95e+06 1.68e+06]\n",
      " [4.21e+06 3.04e+06]\n",
      " [7.16e+06 1.96e+07]\n",
      " [3.72e+06 1.20e+07]\n",
      " [3.55e+06 2.79e+06]\n",
      " [5.88e+06 1.27e+06]\n",
      " [7.07e+06 2.56e+06]\n",
      " [5.22e+06 1.42e+06]\n",
      " [1.40e+06 2.73e+06]\n",
      " [2.70e+06 8.00e+06]\n",
      " [4.48e+06 1.33e+06]\n",
      " [4.78e+06 3.75e+06]\n",
      " [5.15e+06 2.25e+06]]\n"
     ]
    }
   ],
   "source": [
    "## Predicting the Test set results\n",
    "y_pred = regressor2.predict(X_test)\n",
    "np.set_printoptions(precision=2)\n",
    "print(np.concatenate((y_pred.reshape(len(y_pred),1), y_test.reshape(len(y_test),1)),1))"
   ]
  },
  {
   "cell_type": "code",
   "execution_count": 309,
   "metadata": {
    "ExecuteTime": {
     "end_time": "2020-09-23T10:15:43.865679Z",
     "start_time": "2020-09-23T10:15:43.860692Z"
    }
   },
   "outputs": [
    {
     "data": {
      "text/plain": [
       "0.1341718088204915"
      ]
     },
     "execution_count": 309,
     "metadata": {},
     "output_type": "execute_result"
    }
   ],
   "source": [
    "## R-Square Coefficient \n",
    "from sklearn.metrics import r2_score\n",
    "r2_score(y_test, y_pred)"
   ]
  },
  {
   "cell_type": "code",
   "execution_count": null,
   "metadata": {},
   "outputs": [],
   "source": []
  },
  {
   "cell_type": "code",
   "execution_count": null,
   "metadata": {},
   "outputs": [],
   "source": []
  },
  {
   "cell_type": "code",
   "execution_count": null,
   "metadata": {},
   "outputs": [],
   "source": []
  },
  {
   "cell_type": "code",
   "execution_count": null,
   "metadata": {},
   "outputs": [],
   "source": []
  },
  {
   "cell_type": "code",
   "execution_count": null,
   "metadata": {},
   "outputs": [],
   "source": []
  },
  {
   "cell_type": "code",
   "execution_count": null,
   "metadata": {},
   "outputs": [],
   "source": []
  },
  {
   "cell_type": "code",
   "execution_count": null,
   "metadata": {},
   "outputs": [],
   "source": []
  },
  {
   "cell_type": "code",
   "execution_count": null,
   "metadata": {},
   "outputs": [],
   "source": []
  },
  {
   "cell_type": "code",
   "execution_count": null,
   "metadata": {},
   "outputs": [],
   "source": []
  },
  {
   "cell_type": "code",
   "execution_count": null,
   "metadata": {},
   "outputs": [],
   "source": []
  },
  {
   "cell_type": "code",
   "execution_count": null,
   "metadata": {},
   "outputs": [],
   "source": []
  },
  {
   "cell_type": "code",
   "execution_count": null,
   "metadata": {},
   "outputs": [],
   "source": []
  },
  {
   "cell_type": "code",
   "execution_count": null,
   "metadata": {},
   "outputs": [],
   "source": []
  },
  {
   "cell_type": "code",
   "execution_count": null,
   "metadata": {},
   "outputs": [],
   "source": []
  },
  {
   "cell_type": "markdown",
   "metadata": {},
   "source": [
    "## Heatmap to display correlations of all features"
   ]
  },
  {
   "cell_type": "code",
   "execution_count": 56,
   "metadata": {
    "ExecuteTime": {
     "end_time": "2020-09-23T08:28:36.673409Z",
     "start_time": "2020-09-23T08:28:36.667431Z"
    }
   },
   "outputs": [],
   "source": [
    "import seaborn as sb"
   ]
  },
  {
   "cell_type": "code",
   "execution_count": 57,
   "metadata": {
    "ExecuteTime": {
     "end_time": "2020-09-23T08:28:36.861446Z",
     "start_time": "2020-09-23T08:28:36.840505Z"
    }
   },
   "outputs": [
    {
     "data": {
      "text/html": [
       "<div>\n",
       "<style scoped>\n",
       "    .dataframe tbody tr th:only-of-type {\n",
       "        vertical-align: middle;\n",
       "    }\n",
       "\n",
       "    .dataframe tbody tr th {\n",
       "        vertical-align: top;\n",
       "    }\n",
       "\n",
       "    .dataframe thead th {\n",
       "        text-align: right;\n",
       "    }\n",
       "</style>\n",
       "<table border=\"1\" class=\"dataframe\">\n",
       "  <thead>\n",
       "    <tr style=\"text-align: right;\">\n",
       "      <th></th>\n",
       "      <th>YEAR</th>\n",
       "      <th>PLAYER_AGE</th>\n",
       "      <th>GP</th>\n",
       "      <th>GS</th>\n",
       "      <th>FGM</th>\n",
       "      <th>FGA</th>\n",
       "      <th>FG_PCT</th>\n",
       "      <th>FG3M</th>\n",
       "      <th>FG3A</th>\n",
       "      <th>FG3_PCT</th>\n",
       "      <th>...</th>\n",
       "      <th>OREB</th>\n",
       "      <th>DREB</th>\n",
       "      <th>REB</th>\n",
       "      <th>AST</th>\n",
       "      <th>STL</th>\n",
       "      <th>BLK</th>\n",
       "      <th>TOV</th>\n",
       "      <th>PF</th>\n",
       "      <th>PTS</th>\n",
       "      <th>MIN</th>\n",
       "    </tr>\n",
       "  </thead>\n",
       "  <tbody>\n",
       "    <tr>\n",
       "      <th>0</th>\n",
       "      <td>2019</td>\n",
       "      <td>23</td>\n",
       "      <td>53</td>\n",
       "      <td>30</td>\n",
       "      <td>158</td>\n",
       "      <td>391</td>\n",
       "      <td>0.404</td>\n",
       "      <td>111</td>\n",
       "      <td>296</td>\n",
       "      <td>0.375</td>\n",
       "      <td>...</td>\n",
       "      <td>6</td>\n",
       "      <td>94</td>\n",
       "      <td>100</td>\n",
       "      <td>99</td>\n",
       "      <td>20</td>\n",
       "      <td>10</td>\n",
       "      <td>42</td>\n",
       "      <td>142</td>\n",
       "      <td>492</td>\n",
       "      <td>1452</td>\n",
       "    </tr>\n",
       "    <tr>\n",
       "      <th>1</th>\n",
       "      <td>2017</td>\n",
       "      <td>26</td>\n",
       "      <td>64</td>\n",
       "      <td>2</td>\n",
       "      <td>120</td>\n",
       "      <td>291</td>\n",
       "      <td>0.412</td>\n",
       "      <td>40</td>\n",
       "      <td>120</td>\n",
       "      <td>0.333</td>\n",
       "      <td>...</td>\n",
       "      <td>17</td>\n",
       "      <td>106</td>\n",
       "      <td>123</td>\n",
       "      <td>124</td>\n",
       "      <td>70</td>\n",
       "      <td>18</td>\n",
       "      <td>53</td>\n",
       "      <td>98</td>\n",
       "      <td>349</td>\n",
       "      <td>1175</td>\n",
       "    </tr>\n",
       "    <tr>\n",
       "      <th>2</th>\n",
       "      <td>2020</td>\n",
       "      <td>25</td>\n",
       "      <td>44</td>\n",
       "      <td>0</td>\n",
       "      <td>62</td>\n",
       "      <td>157</td>\n",
       "      <td>0.395</td>\n",
       "      <td>25</td>\n",
       "      <td>83</td>\n",
       "      <td>0.301</td>\n",
       "      <td>...</td>\n",
       "      <td>14</td>\n",
       "      <td>59</td>\n",
       "      <td>73</td>\n",
       "      <td>45</td>\n",
       "      <td>12</td>\n",
       "      <td>8</td>\n",
       "      <td>36</td>\n",
       "      <td>34</td>\n",
       "      <td>173</td>\n",
       "      <td>484</td>\n",
       "    </tr>\n",
       "    <tr>\n",
       "      <th>3</th>\n",
       "      <td>2020</td>\n",
       "      <td>23</td>\n",
       "      <td>65</td>\n",
       "      <td>14</td>\n",
       "      <td>112</td>\n",
       "      <td>265</td>\n",
       "      <td>0.423</td>\n",
       "      <td>56</td>\n",
       "      <td>157</td>\n",
       "      <td>0.357</td>\n",
       "      <td>...</td>\n",
       "      <td>44</td>\n",
       "      <td>63</td>\n",
       "      <td>107</td>\n",
       "      <td>79</td>\n",
       "      <td>93</td>\n",
       "      <td>47</td>\n",
       "      <td>51</td>\n",
       "      <td>141</td>\n",
       "      <td>305</td>\n",
       "      <td>1287</td>\n",
       "    </tr>\n",
       "    <tr>\n",
       "      <th>4</th>\n",
       "      <td>2020</td>\n",
       "      <td>21</td>\n",
       "      <td>57</td>\n",
       "      <td>14</td>\n",
       "      <td>167</td>\n",
       "      <td>502</td>\n",
       "      <td>0.333</td>\n",
       "      <td>74</td>\n",
       "      <td>265</td>\n",
       "      <td>0.279</td>\n",
       "      <td>...</td>\n",
       "      <td>9</td>\n",
       "      <td>109</td>\n",
       "      <td>118</td>\n",
       "      <td>134</td>\n",
       "      <td>35</td>\n",
       "      <td>10</td>\n",
       "      <td>74</td>\n",
       "      <td>94</td>\n",
       "      <td>503</td>\n",
       "      <td>1274</td>\n",
       "    </tr>\n",
       "    <tr>\n",
       "      <th>...</th>\n",
       "      <td>...</td>\n",
       "      <td>...</td>\n",
       "      <td>...</td>\n",
       "      <td>...</td>\n",
       "      <td>...</td>\n",
       "      <td>...</td>\n",
       "      <td>...</td>\n",
       "      <td>...</td>\n",
       "      <td>...</td>\n",
       "      <td>...</td>\n",
       "      <td>...</td>\n",
       "      <td>...</td>\n",
       "      <td>...</td>\n",
       "      <td>...</td>\n",
       "      <td>...</td>\n",
       "      <td>...</td>\n",
       "      <td>...</td>\n",
       "      <td>...</td>\n",
       "      <td>...</td>\n",
       "      <td>...</td>\n",
       "      <td>...</td>\n",
       "    </tr>\n",
       "    <tr>\n",
       "      <th>559</th>\n",
       "      <td>2013</td>\n",
       "      <td>25</td>\n",
       "      <td>79</td>\n",
       "      <td>49</td>\n",
       "      <td>527</td>\n",
       "      <td>1214</td>\n",
       "      <td>0.434</td>\n",
       "      <td>90</td>\n",
       "      <td>252</td>\n",
       "      <td>0.357</td>\n",
       "      <td>...</td>\n",
       "      <td>83</td>\n",
       "      <td>314</td>\n",
       "      <td>397</td>\n",
       "      <td>195</td>\n",
       "      <td>84</td>\n",
       "      <td>26</td>\n",
       "      <td>165</td>\n",
       "      <td>169</td>\n",
       "      <td>1538</td>\n",
       "      <td>3006</td>\n",
       "    </tr>\n",
       "    <tr>\n",
       "      <th>560</th>\n",
       "      <td>2000</td>\n",
       "      <td>22</td>\n",
       "      <td>57</td>\n",
       "      <td>7</td>\n",
       "      <td>141</td>\n",
       "      <td>336</td>\n",
       "      <td>0.420</td>\n",
       "      <td>9</td>\n",
       "      <td>46</td>\n",
       "      <td>0.196</td>\n",
       "      <td>...</td>\n",
       "      <td>39</td>\n",
       "      <td>92</td>\n",
       "      <td>131</td>\n",
       "      <td>69</td>\n",
       "      <td>49</td>\n",
       "      <td>10</td>\n",
       "      <td>54</td>\n",
       "      <td>92</td>\n",
       "      <td>338</td>\n",
       "      <td>931</td>\n",
       "    </tr>\n",
       "    <tr>\n",
       "      <th>561</th>\n",
       "      <td>2015</td>\n",
       "      <td>21</td>\n",
       "      <td>61</td>\n",
       "      <td>8</td>\n",
       "      <td>107</td>\n",
       "      <td>304</td>\n",
       "      <td>0.352</td>\n",
       "      <td>41</td>\n",
       "      <td>117</td>\n",
       "      <td>0.350</td>\n",
       "      <td>...</td>\n",
       "      <td>9</td>\n",
       "      <td>80</td>\n",
       "      <td>89</td>\n",
       "      <td>141</td>\n",
       "      <td>43</td>\n",
       "      <td>14</td>\n",
       "      <td>85</td>\n",
       "      <td>68</td>\n",
       "      <td>282</td>\n",
       "      <td>1050</td>\n",
       "    </tr>\n",
       "    <tr>\n",
       "      <th>562</th>\n",
       "      <td>2001</td>\n",
       "      <td>23</td>\n",
       "      <td>80</td>\n",
       "      <td>49</td>\n",
       "      <td>290</td>\n",
       "      <td>673</td>\n",
       "      <td>0.431</td>\n",
       "      <td>63</td>\n",
       "      <td>165</td>\n",
       "      <td>0.382</td>\n",
       "      <td>...</td>\n",
       "      <td>112</td>\n",
       "      <td>147</td>\n",
       "      <td>259</td>\n",
       "      <td>105</td>\n",
       "      <td>63</td>\n",
       "      <td>20</td>\n",
       "      <td>78</td>\n",
       "      <td>164</td>\n",
       "      <td>747</td>\n",
       "      <td>1811</td>\n",
       "    </tr>\n",
       "    <tr>\n",
       "      <th>563</th>\n",
       "      <td>2001</td>\n",
       "      <td>26</td>\n",
       "      <td>44</td>\n",
       "      <td>0</td>\n",
       "      <td>33</td>\n",
       "      <td>97</td>\n",
       "      <td>0.340</td>\n",
       "      <td>9</td>\n",
       "      <td>26</td>\n",
       "      <td>0.346</td>\n",
       "      <td>...</td>\n",
       "      <td>27</td>\n",
       "      <td>60</td>\n",
       "      <td>87</td>\n",
       "      <td>27</td>\n",
       "      <td>18</td>\n",
       "      <td>5</td>\n",
       "      <td>18</td>\n",
       "      <td>45</td>\n",
       "      <td>93</td>\n",
       "      <td>376</td>\n",
       "    </tr>\n",
       "  </tbody>\n",
       "</table>\n",
       "<p>564 rows × 23 columns</p>\n",
       "</div>"
      ],
      "text/plain": [
       "     YEAR  PLAYER_AGE  GP  GS  FGM   FGA  FG_PCT  FG3M  FG3A  FG3_PCT  ...  \\\n",
       "0    2019          23  53  30  158   391   0.404   111   296    0.375  ...   \n",
       "1    2017          26  64   2  120   291   0.412    40   120    0.333  ...   \n",
       "2    2020          25  44   0   62   157   0.395    25    83    0.301  ...   \n",
       "3    2020          23  65  14  112   265   0.423    56   157    0.357  ...   \n",
       "4    2020          21  57  14  167   502   0.333    74   265    0.279  ...   \n",
       "..    ...         ...  ..  ..  ...   ...     ...   ...   ...      ...  ...   \n",
       "559  2013          25  79  49  527  1214   0.434    90   252    0.357  ...   \n",
       "560  2000          22  57   7  141   336   0.420     9    46    0.196  ...   \n",
       "561  2015          21  61   8  107   304   0.352    41   117    0.350  ...   \n",
       "562  2001          23  80  49  290   673   0.431    63   165    0.382  ...   \n",
       "563  2001          26  44   0   33    97   0.340     9    26    0.346  ...   \n",
       "\n",
       "     OREB  DREB  REB  AST  STL  BLK  TOV   PF   PTS   MIN  \n",
       "0       6    94  100   99   20   10   42  142   492  1452  \n",
       "1      17   106  123  124   70   18   53   98   349  1175  \n",
       "2      14    59   73   45   12    8   36   34   173   484  \n",
       "3      44    63  107   79   93   47   51  141   305  1287  \n",
       "4       9   109  118  134   35   10   74   94   503  1274  \n",
       "..    ...   ...  ...  ...  ...  ...  ...  ...   ...   ...  \n",
       "559    83   314  397  195   84   26  165  169  1538  3006  \n",
       "560    39    92  131   69   49   10   54   92   338   931  \n",
       "561     9    80   89  141   43   14   85   68   282  1050  \n",
       "562   112   147  259  105   63   20   78  164   747  1811  \n",
       "563    27    60   87   27   18    5   18   45    93   376  \n",
       "\n",
       "[564 rows x 23 columns]"
      ]
     },
     "execution_count": 57,
     "metadata": {},
     "output_type": "execute_result"
    }
   ],
   "source": [
    "dataset.iloc[:, 5:]"
   ]
  },
  {
   "cell_type": "code",
   "execution_count": 58,
   "metadata": {
    "ExecuteTime": {
     "end_time": "2020-09-23T08:28:38.199762Z",
     "start_time": "2020-09-23T08:28:37.883619Z"
    }
   },
   "outputs": [
    {
     "data": {
      "image/png": "[encoded data removed]",
      "text/plain": [
       "<Figure size 1080x1080 with 2 Axes>"
      ]
     },
     "metadata": {
      "needs_background": "light"
     },
     "output_type": "display_data"
    }
   ],
   "source": [
    "train_data = dataset.iloc[:, 6:]\n",
    "# train_data['INFLATION'] = y \n",
    "\n",
    "C_mat = train_data.corr()\n",
    "fig = plt.figure(figsize = (15,15))\n",
    "\n",
    "sb.heatmap(C_mat, vmax = .8, square = True)\n",
    "plt.show()"
   ]
  },
  {
   "cell_type": "markdown",
   "metadata": {},
   "source": [
    "After reviewing which feature has most impact to one another, Year has little to no coorilation for other featuers other than Inflation. Inflation already calculates year difference. Additionally, Player age has little to no coorilation with other features besides FG_PCT, FG3_PCT, and FT_PCT."
   ]
  },
  {
   "cell_type": "code",
   "execution_count": null,
   "metadata": {},
   "outputs": [],
   "source": []
  },
  {
   "cell_type": "code",
   "execution_count": null,
   "metadata": {},
   "outputs": [],
   "source": []
  },
  {
   "cell_type": "code",
   "execution_count": null,
   "metadata": {},
   "outputs": [],
   "source": []
  },
  {
   "cell_type": "code",
   "execution_count": null,
   "metadata": {},
   "outputs": [],
   "source": []
  },
  {
   "cell_type": "code",
   "execution_count": null,
   "metadata": {},
   "outputs": [],
   "source": []
  },
  {
   "cell_type": "code",
   "execution_count": null,
   "metadata": {},
   "outputs": [],
   "source": []
  },
  {
   "cell_type": "code",
   "execution_count": null,
   "metadata": {},
   "outputs": [],
   "source": []
  },
  {
   "cell_type": "code",
   "execution_count": null,
   "metadata": {},
   "outputs": [],
   "source": []
  },
  {
   "cell_type": "code",
   "execution_count": null,
   "metadata": {},
   "outputs": [],
   "source": []
  },
  {
   "cell_type": "code",
   "execution_count": null,
   "metadata": {},
   "outputs": [],
   "source": []
  },
  {
   "cell_type": "code",
   "execution_count": null,
   "metadata": {},
   "outputs": [],
   "source": []
  },
  {
   "cell_type": "code",
   "execution_count": null,
   "metadata": {},
   "outputs": [],
   "source": []
  },
  {
   "cell_type": "code",
   "execution_count": null,
   "metadata": {},
   "outputs": [],
   "source": []
  },
  {
   "cell_type": "code",
   "execution_count": null,
   "metadata": {},
   "outputs": [],
   "source": []
  },
  {
   "cell_type": "code",
   "execution_count": null,
   "metadata": {},
   "outputs": [],
   "source": []
  },
  {
   "cell_type": "code",
   "execution_count": null,
   "metadata": {},
   "outputs": [],
   "source": []
  },
  {
   "cell_type": "code",
   "execution_count": null,
   "metadata": {},
   "outputs": [],
   "source": []
  },
  {
   "cell_type": "code",
   "execution_count": null,
   "metadata": {},
   "outputs": [],
   "source": []
  },
  {
   "cell_type": "code",
   "execution_count": null,
   "metadata": {},
   "outputs": [],
   "source": []
  },
  {
   "cell_type": "code",
   "execution_count": null,
   "metadata": {},
   "outputs": [],
   "source": []
  },
  {
   "cell_type": "markdown",
   "metadata": {
    "heading_collapsed": true
   },
   "source": [
    "## Linear Regression "
   ]
  },
  {
   "cell_type": "code",
   "execution_count": null,
   "metadata": {
    "ExecuteTime": {
     "end_time": "2020-09-20T02:05:25.427805Z",
     "start_time": "2020-09-20T02:05:25.414839Z"
    },
    "hidden": true
   },
   "outputs": [],
   "source": [
    "# Assign the data to X and y\n",
    "\n",
    "X = twenty_years_all_players[[\"MIN\", \"GP\"]]\n",
    "y = twenty_years_all_players[\"PPGP\"].values.reshape(-1, 1)\n",
    "print(X.shape, y.shape)"
   ]
  },
  {
   "cell_type": "code",
   "execution_count": null,
   "metadata": {
    "ExecuteTime": {
     "end_time": "2020-09-20T02:05:25.756797Z",
     "start_time": "2020-09-20T02:05:25.693279Z"
    },
    "hidden": true
   },
   "outputs": [],
   "source": [
    "# Use train_test_split to create training and testing data\n",
    "\n",
    "from sklearn.model_selection import train_test_split\n",
    "\n",
    "X_train, X_test, y_train, y_test = train_test_split(X, y, random_state=42)\n",
    "\n",
    "# Create the model using LinearRegression\n",
    "\n",
    "from sklearn.linear_model import LinearRegression\n",
    "model = LinearRegression()"
   ]
  },
  {
   "cell_type": "code",
   "execution_count": null,
   "metadata": {
    "ExecuteTime": {
     "end_time": "2020-09-20T02:05:25.898248Z",
     "start_time": "2020-09-20T02:05:25.875304Z"
    },
    "hidden": true
   },
   "outputs": [],
   "source": [
    "# Fit the model to the training data and calculate the scores for the training and testing data\n",
    "\n",
    "model.fit(X_train, y_train)\n",
    "training_score = model.score(X_train, y_train)\n",
    "testing_score = model.score(X_test, y_test)\n",
    "\n",
    "\n",
    "\n",
    "print(f\"Training Score: {training_score}\")\n",
    "print(f\"Testing Score: {testing_score}\")"
   ]
  },
  {
   "cell_type": "code",
   "execution_count": null,
   "metadata": {
    "ExecuteTime": {
     "end_time": "2020-09-20T02:05:26.288096Z",
     "start_time": "2020-09-20T02:05:26.075648Z"
    },
    "hidden": true
   },
   "outputs": [],
   "source": [
    "# Plot the Residuals for the Training and Testing data\n",
    "\n",
    "# Use `model.predict()` to get a prediction array from X_train and X_test\n",
    "y_train_prediction = model.predict(X_train)\n",
    "y_test_prediction = model.predict(X_test)\n",
    "\n",
    "# Plot the residual\n",
    "plt.scatter(y_train_prediction, y_train_prediction - y_train, c=\"blue\", label=\"Training Data (Points)\")\n",
    "plt.scatter(y_test_prediction, y_test_prediction - y_test, c=\"orange\", label=\"Testing Data (MIN, GP)\")\n",
    "plt.legend()\n",
    "plt.hlines(y=0, xmin=y.min(), xmax=y.max())\n",
    "plt.title(\"Residual Plot\")\n"
   ]
  },
  {
   "cell_type": "code",
   "execution_count": null,
   "metadata": {
    "hidden": true
   },
   "outputs": [],
   "source": []
  },
  {
   "cell_type": "markdown",
   "metadata": {
    "hidden": true
   },
   "source": [
    "--------------------------"
   ]
  },
  {
   "cell_type": "markdown",
   "metadata": {
    "ExecuteTime": {
     "end_time": "2020-09-20T00:24:04.790213Z",
     "start_time": "2020-09-20T00:24:04.776250Z"
    }
   },
   "source": [
    "## Logistic Regression\n",
    "* Assiging 'dummies'.        \n",
    "Creating columns for logistic regression out of categorical data in specific columns. ex: positon of player"
   ]
  },
  {
   "cell_type": "code",
   "execution_count": null,
   "metadata": {
    "ExecuteTime": {
     "end_time": "2020-09-20T01:43:10.940508Z",
     "start_time": "2020-09-20T01:43:10.924529Z"
    }
   },
   "outputs": [],
   "source": [
    "# twenty_years_all_players"
   ]
  },
  {
   "cell_type": "code",
   "execution_count": null,
   "metadata": {
    "ExecuteTime": {
     "end_time": "2020-09-20T01:43:11.109219Z",
     "start_time": "2020-09-20T01:43:11.096254Z"
    }
   },
   "outputs": [],
   "source": [
    "ml_test = twenty_years_all_players.drop(columns=['PLAYER_NAME','TEAM_ABBREVIATION','SEASON_ID'])"
   ]
  },
  {
   "cell_type": "code",
   "execution_count": null,
   "metadata": {
    "ExecuteTime": {
     "end_time": "2020-09-20T02:05:37.914808Z",
     "start_time": "2020-09-20T02:05:37.891885Z"
    }
   },
   "outputs": [],
   "source": [
    "ml_test2 = pd.get_dummies(ml_test)\n",
    "ml_test2.columns = ml_test2.columns.str.replace(' ','')\n",
    "ml_test2.head()"
   ]
  },
  {
   "cell_type": "markdown",
   "metadata": {
    "ExecuteTime": {
     "end_time": "2020-09-19T19:25:58.248942Z",
     "start_time": "2020-09-19T19:25:58.229846Z"
    }
   },
   "source": [
    "OREB: Offensive Rebounds  \n",
    "DREB: Defensive Rebounds   \n",
    "REB: Rebounds  \n",
    "AST: Assists  \n",
    "TOV: Turnovers  \n",
    "STL: Steals  \n",
    "BLK: Blocks  "
   ]
  },
  {
   "cell_type": "code",
   "execution_count": null,
   "metadata": {
    "ExecuteTime": {
     "end_time": "2020-09-20T02:05:38.658891Z",
     "start_time": "2020-09-20T02:05:38.643931Z"
    }
   },
   "outputs": [],
   "source": [
    "X = ml_test2[[\"MIN\", \"GP\"]]\n",
    "# Select the 'FEV' column for y, and then use values.reshape() to reshape it to a 2d array\n",
    "y = ml_test2[\"POSITION_C\"].values.reshape(-1, 1)"
   ]
  },
  {
   "cell_type": "code",
   "execution_count": null,
   "metadata": {
    "ExecuteTime": {
     "end_time": "2020-09-20T02:05:38.860484Z",
     "start_time": "2020-09-20T02:05:38.840538Z"
    }
   },
   "outputs": [],
   "source": [
    "from sklearn.model_selection import train_test_split\n",
    "\n",
    "X_train, X_test, y_train, y_test = train_test_split(X, y, random_state=1, test_size=0.33,)\n",
    "\n"
   ]
  },
  {
   "cell_type": "code",
   "execution_count": null,
   "metadata": {
    "ExecuteTime": {
     "end_time": "2020-09-20T02:05:39.063519Z",
     "start_time": "2020-09-20T02:05:39.049557Z"
    }
   },
   "outputs": [],
   "source": [
    "from sklearn.linear_model import LogisticRegression\n",
    "classifier = LogisticRegression()\n",
    "classifier"
   ]
  },
  {
   "cell_type": "code",
   "execution_count": null,
   "metadata": {
    "ExecuteTime": {
     "end_time": "2020-09-20T02:05:39.452773Z",
     "start_time": "2020-09-20T02:05:39.418844Z"
    }
   },
   "outputs": [],
   "source": [
    "classifier.fit(X_train, y_train)"
   ]
  },
  {
   "cell_type": "code",
   "execution_count": null,
   "metadata": {
    "ExecuteTime": {
     "end_time": "2020-09-20T02:05:40.989846Z",
     "start_time": "2020-09-20T02:05:40.970871Z"
    }
   },
   "outputs": [],
   "source": [
    "print(f\"Training Data Score: {classifier.score(X_train, y_train)}\")\n",
    "print(f\"Testing Data Score: {classifier.score(X_test, y_test)}\")"
   ]
  },
  {
   "cell_type": "code",
   "execution_count": null,
   "metadata": {
    "ExecuteTime": {
     "end_time": "2020-09-20T02:05:41.253726Z",
     "start_time": "2020-09-20T02:05:41.245774Z"
    }
   },
   "outputs": [],
   "source": []
  },
  {
   "cell_type": "code",
   "execution_count": null,
   "metadata": {
    "ExecuteTime": {
     "end_time": "2020-09-20T02:05:44.843679Z",
     "start_time": "2020-09-20T02:05:44.685611Z"
    }
   },
   "outputs": [],
   "source": [
    "# Generate a new data point (the red circle)\n",
    "import numpy as np\n",
    "new_data = np.array([[800, 36]])\n",
    "plt.scatter(X.iloc[:, 0], X.iloc[:, 1], c=y) \n",
    "plt.scatter(new_data[0, 0], new_data[0, 1], c=\"r\", marker=\"o\", s=100)"
   ]
  },
  {
   "cell_type": "code",
   "execution_count": null,
   "metadata": {
    "ExecuteTime": {
     "end_time": "2020-09-20T02:05:47.575286Z",
     "start_time": "2020-09-20T02:05:47.559325Z"
    }
   },
   "outputs": [],
   "source": [
    "# Predict the class (purple or yellow) of the new data point\n",
    "predictions = classifier.predict(new_data)\n",
    "print(\"Classes are either 0 (purple) or 1 (yellow)\")\n",
    "print(f\"The new point was classified as: {predictions}\")"
   ]
  },
  {
   "cell_type": "code",
   "execution_count": null,
   "metadata": {
    "ExecuteTime": {
     "end_time": "2020-09-20T00:10:44.418749Z",
     "start_time": "2020-09-20T00:10:44.413446Z"
    }
   },
   "outputs": [],
   "source": []
  },
  {
   "cell_type": "code",
   "execution_count": null,
   "metadata": {
    "ExecuteTime": {
     "end_time": "2020-09-20T02:05:50.508968Z",
     "start_time": "2020-09-20T02:05:50.480023Z"
    },
    "scrolled": true
   },
   "outputs": [],
   "source": [
    "predictions = classifier.predict(X_test)\n",
    "pd.DataFrame({\"Prediction\": predictions, \"Actual\": y_test})"
   ]
  },
  {
   "cell_type": "markdown",
   "metadata": {},
   "source": [
    "----------"
   ]
  },
  {
   "cell_type": "markdown",
   "metadata": {
    "heading_collapsed": true
   },
   "source": [
    "## TEST: DNN for regression    \n",
    "https://towardsdatascience.com/deep-neural-networks-for-regression-problems-81321897ca33"
   ]
  },
  {
   "cell_type": "code",
   "execution_count": null,
   "metadata": {
    "ExecuteTime": {
     "end_time": "2020-09-20T02:07:07.529202Z",
     "start_time": "2020-09-20T02:07:07.511246Z"
    },
    "hidden": true
   },
   "outputs": [],
   "source": [
    "X = ml_test2[[\"MIN\", \"GP\"]]\n",
    "# Select the 'FEV' column for y, and then use values.reshape() to reshape it to a 2d array\n",
    "y = ml_test2[\"POSITION_C\"].values.reshape(-1, 1)"
   ]
  },
  {
   "cell_type": "code",
   "execution_count": null,
   "metadata": {
    "ExecuteTime": {
     "end_time": "2020-09-20T02:07:07.810487Z",
     "start_time": "2020-09-20T02:07:07.796525Z"
    },
    "hidden": true
   },
   "outputs": [],
   "source": [
    "from sklearn.model_selection import train_test_split\n",
    "\n",
    "X_train, X_test, y_train, y_test = train_test_split(X, y, random_state=101, test_size=0.33)"
   ]
  },
  {
   "cell_type": "code",
   "execution_count": null,
   "metadata": {
    "hidden": true
   },
   "outputs": [],
   "source": []
  },
  {
   "cell_type": "code",
   "execution_count": null,
   "metadata": {
    "ExecuteTime": {
     "end_time": "2020-09-20T02:07:17.896210Z",
     "start_time": "2020-09-20T02:07:17.882215Z"
    },
    "hidden": true
   },
   "outputs": [],
   "source": [
    "def get_cols_with_no_nans(df,col_type):\n",
    "    '''\n",
    "    Arguments :\n",
    "    df : The dataframe to process\n",
    "    col_type : \n",
    "          num : to only get numerical columns with no nans\n",
    "          no_num : to only get nun-numerical columns with no nans\n",
    "          all : to get any columns with no nans    \n",
    "    '''\n",
    "    if (col_type == 'num'):\n",
    "        predictors = df.select_dtypes(exclude=['object'])\n",
    "    elif (col_type == 'no_num'):\n",
    "        predictors = df.select_dtypes(include=['object'])\n",
    "    elif (col_type == 'all'):\n",
    "        predictors = df\n",
    "    else :\n",
    "        print('Error : choose a type (num, no_num, all)')\n",
    "        return 0\n",
    "    cols_with_no_nans = []\n",
    "    for col in predictors.columns:\n",
    "        if not df[col].isnull().any():\n",
    "            cols_with_no_nans.append(col)\n",
    "    return cols_with_no_nans"
   ]
  },
  {
   "cell_type": "code",
   "execution_count": null,
   "metadata": {
    "ExecuteTime": {
     "end_time": "2020-09-20T02:07:18.224444Z",
     "start_time": "2020-09-20T02:07:18.207490Z"
    },
    "hidden": true
   },
   "outputs": [],
   "source": [
    "# define a function to get the columns that don’t have any missing values\n",
    "num_cols = get_cols_with_no_nans(ml_test2 , 'num')\n",
    "cat_cols = get_cols_with_no_nans(ml_test2 , 'no_num')"
   ]
  },
  {
   "cell_type": "code",
   "execution_count": null,
   "metadata": {
    "ExecuteTime": {
     "end_time": "2020-09-20T02:07:18.583850Z",
     "start_time": "2020-09-20T02:07:18.565874Z"
    },
    "hidden": true
   },
   "outputs": [],
   "source": [
    "print ('Number of numerical columns with no nan values :',len(num_cols))\n",
    "print ('Number of nun-numerical columns with no nan values :',len(cat_cols))"
   ]
  },
  {
   "cell_type": "code",
   "execution_count": null,
   "metadata": {
    "ExecuteTime": {
     "end_time": "2020-09-20T02:07:21.627215Z",
     "start_time": "2020-09-20T02:07:19.703953Z"
    },
    "hidden": true
   },
   "outputs": [],
   "source": [
    "combined = ml_test2[num_cols + cat_cols]\n",
    "combined.hist(figsize = (12,10))\n",
    "plt.show()"
   ]
  },
  {
   "cell_type": "code",
   "execution_count": null,
   "metadata": {
    "ExecuteTime": {
     "end_time": "2020-09-20T02:07:23.871714Z",
     "start_time": "2020-09-20T02:07:23.817869Z"
    },
    "hidden": true
   },
   "outputs": [],
   "source": [
    "import seaborn as sb"
   ]
  },
  {
   "cell_type": "code",
   "execution_count": null,
   "metadata": {
    "ExecuteTime": {
     "end_time": "2020-09-20T02:10:33.892373Z",
     "start_time": "2020-09-20T02:10:33.401686Z"
    },
    "hidden": true
   },
   "outputs": [],
   "source": [
    "train_data = combined[num_cols + cat_cols]\n",
    "train_data['POSITION_C'] = y \n",
    "\n",
    "C_mat = train_data.corr()\n",
    "fig = plt.figure(figsize = (15,15))\n",
    "\n",
    "sb.heatmap(C_mat, vmax = .8, square = True)\n",
    "plt.show()"
   ]
  },
  {
   "cell_type": "code",
   "execution_count": null,
   "metadata": {
    "ExecuteTime": {
     "end_time": "2020-09-20T02:10:47.160493Z",
     "start_time": "2020-09-20T02:10:47.140547Z"
    },
    "hidden": true
   },
   "outputs": [],
   "source": [
    "def oneHotEncode(df,colNames):\n",
    "    for col in colNames:\n",
    "        if( df[col].dtype == np.dtype('object')):\n",
    "            dummies = pd.get_dummies(df[col],prefix=col)\n",
    "            df = pd.concat([df,dummies],axis=1)\n",
    "\n",
    "            #drop the encoded column\n",
    "            df.drop([col],axis = 1 , inplace=True)\n",
    "    return df\n",
    "    \n",
    "\n",
    "print('There were {} columns before encoding categorical features'.format(combined.shape[1]))\n",
    "combined = oneHotEncode(combined, cat_cols)\n",
    "print('There are {} columns after encoding categorical features'.format(combined.shape[1]))"
   ]
  },
  {
   "cell_type": "code",
   "execution_count": null,
   "metadata": {
    "ExecuteTime": {
     "end_time": "2020-09-20T02:10:51.274663Z",
     "start_time": "2020-09-20T02:10:51.256738Z"
    },
    "hidden": true
   },
   "outputs": [],
   "source": [
    "def split_combined():\n",
    "    global combined\n",
    "    train = combined[:1460]\n",
    "    test = combined[1460:]\n",
    "\n",
    "    return train , test \n",
    "  \n",
    "train, test = split_combined()"
   ]
  },
  {
   "cell_type": "markdown",
   "metadata": {
    "ExecuteTime": {
     "end_time": "2020-09-20T00:55:15.851761Z",
     "start_time": "2020-09-20T00:55:15.821811Z"
    },
    "hidden": true
   },
   "source": [
    "-----------"
   ]
  },
  {
   "cell_type": "markdown",
   "metadata": {
    "heading_collapsed": true
   },
   "source": [
    "## TEST: DNN.\n",
    "Sequential model, dense layers, relu as activation function for hidden layers, normal initializer as kernel_initializer. Mean absolute error as loss function. Linear as activation function for output"
   ]
  },
  {
   "cell_type": "code",
   "execution_count": null,
   "metadata": {
    "ExecuteTime": {
     "end_time": "2020-09-20T01:47:15.096641Z",
     "start_time": "2020-09-20T01:47:15.080691Z"
    },
    "hidden": true
   },
   "outputs": [],
   "source": [
    "# first, create a normal neural network with 2 inputs, 6 hidden nodes, and 2 outputs\n",
    "from tensorflow.keras.models import Sequential\n",
    "from tensorflow.keras.layers import Dense\n",
    "\n",
    "from tensorflow.keras.utils import to_categorical"
   ]
  },
  {
   "cell_type": "code",
   "execution_count": null,
   "metadata": {
    "ExecuteTime": {
     "end_time": "2020-09-20T01:47:15.774795Z",
     "start_time": "2020-09-20T01:47:15.760802Z"
    },
    "hidden": true
   },
   "outputs": [],
   "source": [
    "from sklearn.preprocessing import StandardScaler\n",
    "\n",
    "# Create a StandardScater model and fit it to the training data\n",
    "X_scaler = StandardScaler().fit(X_train)"
   ]
  },
  {
   "cell_type": "code",
   "execution_count": null,
   "metadata": {
    "ExecuteTime": {
     "end_time": "2020-09-20T01:47:15.961575Z",
     "start_time": "2020-09-20T01:47:15.954571Z"
    },
    "hidden": true
   },
   "outputs": [],
   "source": [
    "# Transform the training and testing data using the X_scaler\n",
    "\n",
    "X_train_scaled = X_scaler.transform(X_train)\n",
    "X_test_scaled = X_scaler.transform(X_test)"
   ]
  },
  {
   "cell_type": "code",
   "execution_count": null,
   "metadata": {
    "ExecuteTime": {
     "end_time": "2020-09-20T01:47:16.133274Z",
     "start_time": "2020-09-20T01:47:16.121318Z"
    },
    "hidden": true
   },
   "outputs": [],
   "source": [
    "# One-hot encoding\n",
    "y_train_categorical = to_categorical(y_train)\n",
    "y_test_categorical = to_categorical(y_test)"
   ]
  },
  {
   "cell_type": "code",
   "execution_count": null,
   "metadata": {
    "ExecuteTime": {
     "end_time": "2020-09-20T01:47:16.322028Z",
     "start_time": "2020-09-20T01:47:16.295136Z"
    },
    "hidden": true
   },
   "outputs": [],
   "source": [
    "# first, create a normal neural network with 2 inputs, 6 hidden nodes, and 2 outputs\n",
    "from tensorflow.keras.models import Sequential\n",
    "from tensorflow.keras.layers import Dense\n",
    "import tensorflow as tf\n",
    "\n",
    "model = Sequential()\n",
    "model.add(Dense(units=6, activation='relu', input_dim=2, name='hidden'))\n",
    "model.add(Dense(units=2, activation='softmax', name='output'))"
   ]
  },
  {
   "cell_type": "code",
   "execution_count": null,
   "metadata": {
    "ExecuteTime": {
     "end_time": "2020-09-20T01:47:16.522875Z",
     "start_time": "2020-09-20T01:47:16.511904Z"
    },
    "hidden": true
   },
   "outputs": [],
   "source": [
    "model.summary()"
   ]
  },
  {
   "cell_type": "code",
   "execution_count": null,
   "metadata": {
    "ExecuteTime": {
     "end_time": "2020-09-20T01:47:19.237242Z",
     "start_time": "2020-09-20T01:47:19.216296Z"
    },
    "hidden": true
   },
   "outputs": [],
   "source": [
    "# Compile the model\n",
    "model.compile(optimizer='adam',\n",
    "              loss='categorical_crossentropy',\n",
    "              metrics=['accuracy'])"
   ]
  },
  {
   "cell_type": "code",
   "execution_count": null,
   "metadata": {
    "ExecuteTime": {
     "end_time": "2020-09-20T01:47:19.531603Z",
     "start_time": "2020-09-20T01:47:19.519635Z"
    },
    "hidden": true
   },
   "outputs": [],
   "source": [
    "config = tf.compat.v1.ConfigProto()\n",
    "config.gpu_options.allow_growth = True\n",
    "session = tf.compat.v1.Session(config=config)"
   ]
  },
  {
   "cell_type": "code",
   "execution_count": null,
   "metadata": {
    "ExecuteTime": {
     "end_time": "2020-09-20T01:47:31.638205Z",
     "start_time": "2020-09-20T01:47:19.976941Z"
    },
    "hidden": true,
    "scrolled": true
   },
   "outputs": [],
   "source": [
    "# Fit the model to the training data\n",
    "model.fit(\n",
    "    X_train_scaled,\n",
    "    y_train_categorical,\n",
    "    validation_data=(X_test_scaled, y_test_categorical),\n",
    "    epochs=60,\n",
    "    shuffle=True,\n",
    "    verbose=2\n",
    ")"
   ]
  },
  {
   "cell_type": "code",
   "execution_count": null,
   "metadata": {
    "hidden": true
   },
   "outputs": [],
   "source": []
  },
  {
   "cell_type": "markdown",
   "metadata": {
    "heading_collapsed": true,
    "hidden": true
   },
   "source": [
    "### TEST: Deep Learning"
   ]
  },
  {
   "cell_type": "code",
   "execution_count": null,
   "metadata": {
    "ExecuteTime": {
     "end_time": "2020-09-20T01:50:01.730245Z",
     "start_time": "2020-09-20T01:50:01.700325Z"
    },
    "hidden": true
   },
   "outputs": [],
   "source": [
    "deep_model = Sequential(name='deep_model')\n",
    "deep_model.add(Dense(units=6, activation='relu', input_dim=2, name='hidden'))\n",
    "deep_model.add(Dense(units=6, activation='relu', name='hidden_2'))\n",
    "deep_model.add(Dense(units=2, activation='softmax', name='output'))"
   ]
  },
  {
   "cell_type": "code",
   "execution_count": null,
   "metadata": {
    "ExecuteTime": {
     "end_time": "2020-09-20T01:50:01.947967Z",
     "start_time": "2020-09-20T01:50:01.941983Z"
    },
    "hidden": true
   },
   "outputs": [],
   "source": [
    "deep_model.summary()"
   ]
  },
  {
   "cell_type": "code",
   "execution_count": null,
   "metadata": {
    "ExecuteTime": {
     "end_time": "2020-09-20T01:50:03.424741Z",
     "start_time": "2020-09-20T01:50:03.413739Z"
    },
    "hidden": true
   },
   "outputs": [],
   "source": [
    "# deep_model.compile(optimizer='adam',\n",
    "#                    loss='categorical_crossentropy',\n",
    "#                    metrics=['accuracy'])\n",
    "\n",
    "# deep_model.compile(optimizer='adam',\n",
    "#                    loss='mean_absolute_error',\n",
    "#                    metrics=['mean_absolute_error'])\n",
    "# deep_model.fit(\n",
    "#     X_train_scaled,\n",
    "#     y_train_categorical,\n",
    "#     validation_data=(X_test_scaled, y_test_categorical),\n",
    "#     epochs=100,\n",
    "#     shuffle=True,\n",
    "#     verbose=2\n",
    "# )"
   ]
  },
  {
   "cell_type": "code",
   "execution_count": null,
   "metadata": {
    "ExecuteTime": {
     "end_time": "2020-09-20T01:50:42.531947Z",
     "start_time": "2020-09-20T01:50:22.741762Z"
    },
    "hidden": true,
    "scrolled": true
   },
   "outputs": [],
   "source": [
    "deep_model.compile(optimizer='adam',\n",
    "                   loss='categorical_crossentropy',\n",
    "                   metrics=['accuracy'])\n",
    "deep_model.fit(\n",
    "    X_train_scaled,\n",
    "    y_train_categorical,\n",
    "    validation_data=(X_test_scaled, y_test_categorical),\n",
    "    epochs=100,\n",
    "    shuffle=True,\n",
    "    verbose=2\n",
    ")"
   ]
  },
  {
   "cell_type": "markdown",
   "metadata": {
    "heading_collapsed": true,
    "hidden": true
   },
   "source": [
    "### Compare the models below"
   ]
  },
  {
   "cell_type": "code",
   "execution_count": null,
   "metadata": {
    "ExecuteTime": {
     "end_time": "2020-09-20T01:48:24.740507Z",
     "start_time": "2020-09-20T01:48:24.648287Z"
    },
    "hidden": true
   },
   "outputs": [],
   "source": [
    "model_loss, model_accuracy = model.evaluate(\n",
    "    X_test_scaled, y_test_categorical, verbose=2)\n",
    "print(\n",
    "    f\"Normal Neural Network - Loss: {model_loss}, Accuracy: {model_accuracy}\")"
   ]
  },
  {
   "cell_type": "code",
   "execution_count": null,
   "metadata": {
    "ExecuteTime": {
     "end_time": "2020-09-20T01:48:24.881784Z",
     "start_time": "2020-09-20T01:48:24.741487Z"
    },
    "hidden": true
   },
   "outputs": [],
   "source": [
    "model_loss, model_accuracy = deep_model.evaluate(\n",
    "    X_test_scaled, y_test_categorical, verbose=2)\n",
    "print(f\"Deep Neural Network - Loss: {model_loss}, Accuracy: {model_accuracy}\")"
   ]
  },
  {
   "cell_type": "code",
   "execution_count": null,
   "metadata": {
    "ExecuteTime": {
     "end_time": "2020-09-20T02:12:34.334234Z",
     "start_time": "2020-09-20T02:12:34.207491Z"
    },
    "hidden": true
   },
   "outputs": [],
   "source": []
  },
  {
   "cell_type": "markdown",
   "metadata": {
    "hidden": true
   },
   "source": [
    "-----------------"
   ]
  },
  {
   "cell_type": "code",
   "execution_count": null,
   "metadata": {
    "ExecuteTime": {
     "end_time": "2020-09-20T02:14:48.898501Z",
     "start_time": "2020-09-20T02:14:48.894484Z"
    },
    "hidden": true
   },
   "outputs": [],
   "source": [
    "import tensorflow.keras as keras"
   ]
  },
  {
   "cell_type": "code",
   "execution_count": null,
   "metadata": {
    "ExecuteTime": {
     "end_time": "2020-09-20T02:15:13.726325Z",
     "start_time": "2020-09-20T02:15:13.710318Z"
    },
    "hidden": true
   },
   "outputs": [],
   "source": [
    "checkpoint_name = 'Weights-{epoch:03d}--{val_loss:.5f}.hdf5' \n",
    "checkpoint = ModelCheckpoint(checkpoint_name, monitor='val_loss', verbose = 1, save_best_only = True, mode ='auto')\n",
    "callbacks_list = [checkpoint]"
   ]
  },
  {
   "cell_type": "code",
   "execution_count": null,
   "metadata": {
    "hidden": true
   },
   "outputs": [],
   "source": []
  },
  {
   "cell_type": "code",
   "execution_count": null,
   "metadata": {
    "hidden": true
   },
   "outputs": [],
   "source": []
  },
  {
   "cell_type": "code",
   "execution_count": null,
   "metadata": {
    "hidden": true
   },
   "outputs": [],
   "source": []
  },
  {
   "cell_type": "code",
   "execution_count": null,
   "metadata": {
    "hidden": true
   },
   "outputs": [],
   "source": []
  },
  {
   "cell_type": "markdown",
   "metadata": {
    "hidden": true
   },
   "source": [
    "--------"
   ]
  },
  {
   "cell_type": "code",
   "execution_count": null,
   "metadata": {
    "ExecuteTime": {
     "end_time": "2020-09-20T02:06:19.528953Z",
     "start_time": "2020-09-20T02:06:19.513107Z"
    },
    "hidden": true
   },
   "outputs": [],
   "source": [
    "# Ridge model\n",
    "# Note: Use an alpha of .01 when creating the model for this activity\n",
    "from sklearn.linear_model import Ridge\n",
    "\n",
    "### BEGIN SOLUTION\n",
    "ridge = Ridge(alpha=.01)\n",
    "ridge.fit(X_train_scaled, y_train_scaled)\n",
    "\n",
    "predictions = ridge.predict(X_test_scaled)\n",
    "\n",
    "MSE = mean_squared_error(y_test_scaled, predictions)\n",
    "r2 = ridge.score(X_test_scaled, y_test_scaled)\n",
    "### END SOLUTION\n",
    "\n",
    "print(f\"MSE: {MSE}, R2: {r2}\")"
   ]
  },
  {
   "cell_type": "code",
   "execution_count": null,
   "metadata": {
    "ExecuteTime": {
     "end_time": "2020-09-19T19:30:50.034739Z",
     "start_time": "2020-09-19T19:30:50.025765Z"
    },
    "hidden": true
   },
   "outputs": [],
   "source": [
    "# ElasticNet model\n",
    "# Note: Use an alpha of .01 when creating the model for this activity\n",
    "from sklearn.linear_model import ElasticNet\n",
    "\n",
    "### BEGIN SOLUTION\n",
    "elasticnet = ElasticNet(alpha=.01)\n",
    "elasticnet.fit(X_train_scaled, y_train_scaled)\n",
    "\n",
    "predictions = elasticnet.predict(X_test_scaled)\n",
    "\n",
    "MSE = mean_squared_error(y_test_scaled, predictions)\n",
    "r2 = elasticnet.score(X_test_scaled, y_test_scaled)\n",
    "### END SOLUTION\n",
    "\n",
    "print(f\"MSE: {MSE}, R2: {r2}\")\n"
   ]
  },
  {
   "cell_type": "markdown",
   "metadata": {
    "hidden": true
   },
   "source": [
    "---------------"
   ]
  }
 ],
 "metadata": {
  "kernelspec": {
   "display_name": "Python 3",
   "language": "python",
   "name": "python3"
  },
  "language_info": {
   "codemirror_mode": {
    "name": "ipython",
    "version": 3
   },
   "file_extension": ".py",
   "mimetype": "text/x-python",
   "name": "python",
   "nbconvert_exporter": "python",
   "pygments_lexer": "ipython3",
   "version": "3.7.1"
  }
 },
 "nbformat": 4,
 "nbformat_minor": 4
}
