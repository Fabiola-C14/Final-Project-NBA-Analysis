{
 "cells": [
  {
   "cell_type": "markdown",
   "metadata": {},
   "source": [
    "## Libraries"
   ]
  },
  {
   "cell_type": "code",
   "execution_count": 23,
   "metadata": {
    "ExecuteTime": {
     "end_time": "2020-09-23T01:16:54.800736Z",
     "start_time": "2020-09-23T01:16:54.781769Z"
    }
   },
   "outputs": [],
   "source": [
    "%matplotlib inline\n",
    "import matplotlib.pyplot as plt\n",
    "import numpy as np\n",
    "import pandas as pd\n",
    "\n",
    "# Dependencies and Setup\n",
    "import time\n",
    "from pprint import pprint\n",
    "import requests\n",
    "from datetime import date, timedelta, datetime\n",
    "import json\n",
    "from pprint import pprint\n",
    "from tqdm import tqdm\n",
    "from tqdm import tqdm_notebook\n",
    "# sqlite Dependencies\n",
    "# ----------------------------------\n",
    "# Imports the method used for connecting to DBs\n",
    "from sqlalchemy import create_engine\n",
    "# Allow us to declare column types\n",
    "from sqlalchemy import Column, Integer, String, Text, DateTime, Float, Boolean, ForeignKey\n",
    "from sqlalchemy.orm import relationship\n",
    "from sqlalchemy.ext.declarative import declarative_base\n",
    "from sqlalchemy.orm import Session"
   ]
  },
  {
   "cell_type": "code",
   "execution_count": 24,
   "metadata": {
    "ExecuteTime": {
     "end_time": "2020-09-23T01:16:54.971125Z",
     "start_time": "2020-09-23T01:16:54.955325Z"
    }
   },
   "outputs": [],
   "source": [
    "from nba_api.stats.endpoints import playercareerstats, drafthistory, commonplayerinfo, playerawards"
   ]
  },
  {
   "cell_type": "code",
   "execution_count": 3,
   "metadata": {
    "ExecuteTime": {
     "end_time": "2020-09-22T03:03:36.891746Z",
     "start_time": "2020-09-22T03:03:36.877759Z"
    }
   },
   "outputs": [],
   "source": [
    "# Not used\n",
    "# cumestatsplayer,draftcombinedrillresults,playerdashboardbyteamperformance, leagueleaders, leaguedashplayerstats, draftcombinenonstationaryshooting, draftcombinestats, commonallplayers,"
   ]
  },
  {
   "cell_type": "markdown",
   "metadata": {},
   "source": [
    "-------------"
   ]
  },
  {
   "cell_type": "markdown",
   "metadata": {
    "heading_collapsed": true
   },
   "source": [
    "## Open Saved JSON"
   ]
  },
  {
   "cell_type": "code",
   "execution_count": 46,
   "metadata": {
    "ExecuteTime": {
     "end_time": "2020-09-22T03:13:44.769448Z",
     "start_time": "2020-09-22T03:13:44.642612Z"
    },
    "hidden": true
   },
   "outputs": [],
   "source": [
    "with open('./_players_all_data.json') as json_file:\n",
    "    data = json.load(json_file)"
   ]
  },
  {
   "cell_type": "code",
   "execution_count": 47,
   "metadata": {
    "ExecuteTime": {
     "end_time": "2020-09-22T03:13:44.942406Z",
     "start_time": "2020-09-22T03:13:44.927445Z"
    },
    "hidden": true
   },
   "outputs": [],
   "source": [
    "#  Player positions\n",
    "player_positions = pd.read_csv('../../datasets/nba_positions_no_team.csv') "
   ]
  },
  {
   "cell_type": "markdown",
   "metadata": {
    "hidden": true
   },
   "source": [
    "--------------"
   ]
  },
  {
   "cell_type": "markdown",
   "metadata": {
    "hidden": true
   },
   "source": [
    "#### Key: \n",
    "\n",
    "* GP: Games Played\n",
    "* MIN: Minutes Played\n",
    "* FGM: Field Goals Made\n",
    "* FGA: Field Goals Attempted\n",
    "* FG%: Field Goal Percentage\n",
    "* 3PM: 3 Point Field Goals Made\n",
    "* 3PA: 3 Point Field Goals Attempted\n",
    "* 3P%: 3 Point Field Goals Percentage\n",
    "* FTM: Free Throws Made\n",
    "* FTA: Free Throws Attempted\n",
    "* FT%: Free Throw Percentage\n",
    "* OREB: Offensive Rebounds\n",
    "* DREB: Defensive Rebounds\n",
    "* REB: Rebounds\n",
    "* AST: Assists\n",
    "* TOV: Turnovers\n",
    "* STL: Steals\n",
    "* BLK: Blocks\n",
    "* PF: Personal Fouls\n",
    "* DD2: Double Doubles\n",
    "* TD3: Trible Doubles\n",
    "* PTS: Points\n",
    "* YIL: Year in League\n",
    "\n",
    "\n"
   ]
  },
  {
   "cell_type": "markdown",
   "metadata": {
    "heading_collapsed": true
   },
   "source": [
    "## Clean df and add columns"
   ]
  },
  {
   "cell_type": "markdown",
   "metadata": {
    "hidden": true
   },
   "source": [
    "add Points Per Games Played (PPGP), add position"
   ]
  },
  {
   "cell_type": "code",
   "execution_count": 48,
   "metadata": {
    "ExecuteTime": {
     "end_time": "2020-09-22T03:13:48.811967Z",
     "start_time": "2020-09-22T03:13:48.797977Z"
    },
    "hidden": true
   },
   "outputs": [],
   "source": [
    "# df1.merge(df2, left_on='lkey', right_on='rkey',\n",
    "\n",
    "#           suffixes=('_left', '_right'))"
   ]
  },
  {
   "cell_type": "code",
   "execution_count": 49,
   "metadata": {
    "ExecuteTime": {
     "end_time": "2020-09-22T03:13:49.375997Z",
     "start_time": "2020-09-22T03:13:49.107523Z"
    },
    "hidden": true,
    "scrolled": true
   },
   "outputs": [],
   "source": [
    "five_year_all_players = pd.read_json(data)\n",
    "twenty_years_all_players_raw = five_year_all_players[five_year_all_players['SEASON_ID'] > '1999-00']\n",
    "twenty_years_all_players_raw = twenty_years_all_players_raw.merge(player_positions, left_on='PLAYER_NAME', right_on='PLAYER_NAME',suffixes=('_left', '_right')).drop_duplicates( keep='first').reset_index(drop=True).dropna(how='any')\n",
    "twenty_years_all_players_raw['PPGP'] = round(twenty_years_all_players_raw['PTS'] / twenty_years_all_players_raw['GP'], 2)\n",
    "twenty_years_all_players_raw['POSITION'] = twenty_years_all_players_raw['POSITION'].str.strip()"
   ]
  },
  {
   "cell_type": "code",
   "execution_count": 52,
   "metadata": {
    "ExecuteTime": {
     "end_time": "2020-09-22T03:14:10.178948Z",
     "start_time": "2020-09-22T03:14:10.168975Z"
    },
    "hidden": true
   },
   "outputs": [
    {
     "data": {
      "text/plain": [
       "SG    985\n",
       "C     985\n",
       "SF    858\n",
       "PF    856\n",
       "PG    824\n",
       "G     449\n",
       "F     360\n",
       "GF      5\n",
       "NA      5\n",
       "Name: POSITION, dtype: int64"
      ]
     },
     "execution_count": 52,
     "metadata": {},
     "output_type": "execute_result"
    }
   ],
   "source": [
    "# Create seperate dataframes for each position\n",
    "twenty_years_all_players_raw['POSITION'].value_counts()"
   ]
  },
  {
   "cell_type": "markdown",
   "metadata": {
    "heading_collapsed": true
   },
   "source": [
    "## Save combined data to json"
   ]
  },
  {
   "cell_type": "code",
   "execution_count": 53,
   "metadata": {
    "ExecuteTime": {
     "end_time": "2020-09-22T03:16:26.489752Z",
     "start_time": "2020-09-22T03:16:26.433856Z"
    },
    "hidden": true
   },
   "outputs": [],
   "source": [
    "twenty_years_all_players_raw=twenty_years_all_players_raw.to_json(orient='records')\n",
    "\n",
    "# SAVE: Player_position\n",
    "with open(f'./clean_combined_data_for_ml.json', 'w') as fp:\n",
    "    json.dump(twenty_years_all_players_raw, fp)"
   ]
  },
  {
   "cell_type": "markdown",
   "metadata": {},
   "source": [
    "## Open combined data from json"
   ]
  },
  {
   "cell_type": "code",
   "execution_count": 25,
   "metadata": {
    "ExecuteTime": {
     "end_time": "2020-09-23T01:16:57.381622Z",
     "start_time": "2020-09-23T01:16:57.317777Z"
    }
   },
   "outputs": [],
   "source": [
    "with open('./clean_combined_data_for_ml.json') as json_file:\n",
    "    data = json.load(json_file)"
   ]
  },
  {
   "cell_type": "code",
   "execution_count": 26,
   "metadata": {
    "ExecuteTime": {
     "end_time": "2020-09-23T01:16:57.581359Z",
     "start_time": "2020-09-23T01:16:57.493934Z"
    }
   },
   "outputs": [],
   "source": [
    "# Default DF. Do not touch.\n",
    "default = pd.read_json(data).copy()"
   ]
  },
  {
   "cell_type": "markdown",
   "metadata": {},
   "source": [
    "## Dataframes for all positions "
   ]
  },
  {
   "cell_type": "markdown",
   "metadata": {},
   "source": [
    "#### Key: \n",
    "\n",
    "* GP: Games Played\n",
    "* MIN: Minutes Played\n",
    "* FGM: Field Goals Made\n",
    "* FGA: Field Goals Attempted\n",
    "* FG_PCT: Field Goal Percentage\n",
    "* 3PM: 3 Point Field Goals Made\n",
    "* 3PA: 3 Point Field Goals Attempted\n",
    "* FG3_PCT: 3 Point Field Goals Percentage\n",
    "* FTM: Free Throws Made\n",
    "* FTA: Free Throws Attempted\n",
    "* FT_PCT: Free Throw Percentage\n",
    "* OREB: Offensive Rebounds\n",
    "* DREB: Defensive Rebounds\n",
    "* REB: Rebounds\n",
    "* AST: Assists\n",
    "* TOV: Turnovers\n",
    "* STL: Steals\n",
    "* BLK: Blocks\n",
    "* PF: Personal Fouls\n",
    "* DD2: Double Doubles\n",
    "* TD3: Trible Doubles\n",
    "* PTS: Points\n",
    "* YIL: Year in League\n"
   ]
  },
  {
   "cell_type": "code",
   "execution_count": 27,
   "metadata": {
    "ExecuteTime": {
     "end_time": "2020-09-23T01:17:05.118459Z",
     "start_time": "2020-09-23T01:17:05.101294Z"
    }
   },
   "outputs": [],
   "source": [
    "# SG\n",
    "sg = default[(default['POSITION'] == 'SG') & (default['GP'] > 40)]\n",
    "sg = sg.drop(columns=['PLAYER_NAME','POSITION'])"
   ]
  },
  {
   "cell_type": "code",
   "execution_count": 28,
   "metadata": {
    "ExecuteTime": {
     "end_time": "2020-09-23T01:17:05.383053Z",
     "start_time": "2020-09-23T01:17:05.349742Z"
    }
   },
   "outputs": [
    {
     "data": {
      "text/html": [
       "<div>\n",
       "<style scoped>\n",
       "    .dataframe tbody tr th:only-of-type {\n",
       "        vertical-align: middle;\n",
       "    }\n",
       "\n",
       "    .dataframe tbody tr th {\n",
       "        vertical-align: top;\n",
       "    }\n",
       "\n",
       "    .dataframe thead th {\n",
       "        text-align: right;\n",
       "    }\n",
       "</style>\n",
       "<table border=\"1\" class=\"dataframe\">\n",
       "  <thead>\n",
       "    <tr style=\"text-align: right;\">\n",
       "      <th></th>\n",
       "      <th>PLAYER_ID</th>\n",
       "      <th>SEASON_ID</th>\n",
       "      <th>LEAGUE_ID</th>\n",
       "      <th>TEAM_ID</th>\n",
       "      <th>TEAM_ABBREVIATION</th>\n",
       "      <th>PLAYER_AGE</th>\n",
       "      <th>GP</th>\n",
       "      <th>GS</th>\n",
       "      <th>MIN</th>\n",
       "      <th>FGM</th>\n",
       "      <th>...</th>\n",
       "      <th>REB</th>\n",
       "      <th>AST</th>\n",
       "      <th>STL</th>\n",
       "      <th>BLK</th>\n",
       "      <th>TOV</th>\n",
       "      <th>PF</th>\n",
       "      <th>PTS</th>\n",
       "      <th>YIL</th>\n",
       "      <th>PPGP</th>\n",
       "      <th>FG3_PCT</th>\n",
       "    </tr>\n",
       "  </thead>\n",
       "  <tbody>\n",
       "    <tr>\n",
       "      <th>1</th>\n",
       "      <td>2574</td>\n",
       "      <td>2006-07</td>\n",
       "      <td>0</td>\n",
       "      <td>1610612748</td>\n",
       "      <td>MIA</td>\n",
       "      <td>26</td>\n",
       "      <td>67</td>\n",
       "      <td>35</td>\n",
       "      <td>1767</td>\n",
       "      <td>278</td>\n",
       "      <td>...</td>\n",
       "      <td>180</td>\n",
       "      <td>81</td>\n",
       "      <td>38</td>\n",
       "      <td>2</td>\n",
       "      <td>70</td>\n",
       "      <td>135</td>\n",
       "      <td>730</td>\n",
       "      <td>4</td>\n",
       "      <td>10.90</td>\n",
       "      <td>0.514</td>\n",
       "    </tr>\n",
       "    <tr>\n",
       "      <th>2</th>\n",
       "      <td>2574</td>\n",
       "      <td>2007-08</td>\n",
       "      <td>0</td>\n",
       "      <td>1610612761</td>\n",
       "      <td>TOR</td>\n",
       "      <td>27</td>\n",
       "      <td>81</td>\n",
       "      <td>7</td>\n",
       "      <td>1530</td>\n",
       "      <td>243</td>\n",
       "      <td>...</td>\n",
       "      <td>120</td>\n",
       "      <td>65</td>\n",
       "      <td>34</td>\n",
       "      <td>2</td>\n",
       "      <td>58</td>\n",
       "      <td>131</td>\n",
       "      <td>580</td>\n",
       "      <td>5</td>\n",
       "      <td>7.16</td>\n",
       "      <td>0.483</td>\n",
       "    </tr>\n",
       "    <tr>\n",
       "      <th>3</th>\n",
       "      <td>2574</td>\n",
       "      <td>2003-04</td>\n",
       "      <td>0</td>\n",
       "      <td>1610612739</td>\n",
       "      <td>CLE</td>\n",
       "      <td>23</td>\n",
       "      <td>41</td>\n",
       "      <td>3</td>\n",
       "      <td>427</td>\n",
       "      <td>52</td>\n",
       "      <td>...</td>\n",
       "      <td>55</td>\n",
       "      <td>14</td>\n",
       "      <td>13</td>\n",
       "      <td>2</td>\n",
       "      <td>21</td>\n",
       "      <td>41</td>\n",
       "      <td>145</td>\n",
       "      <td>1</td>\n",
       "      <td>3.54</td>\n",
       "      <td>0.477</td>\n",
       "    </tr>\n",
       "    <tr>\n",
       "      <th>4</th>\n",
       "      <td>200789</td>\n",
       "      <td>2009-10</td>\n",
       "      <td>0</td>\n",
       "      <td>1610612739</td>\n",
       "      <td>CLE</td>\n",
       "      <td>24</td>\n",
       "      <td>56</td>\n",
       "      <td>10</td>\n",
       "      <td>1068</td>\n",
       "      <td>125</td>\n",
       "      <td>...</td>\n",
       "      <td>73</td>\n",
       "      <td>70</td>\n",
       "      <td>25</td>\n",
       "      <td>7</td>\n",
       "      <td>36</td>\n",
       "      <td>79</td>\n",
       "      <td>355</td>\n",
       "      <td>4</td>\n",
       "      <td>6.34</td>\n",
       "      <td>0.477</td>\n",
       "    </tr>\n",
       "    <tr>\n",
       "      <th>5</th>\n",
       "      <td>1629744</td>\n",
       "      <td>2019-20</td>\n",
       "      <td>0</td>\n",
       "      <td>1610612761</td>\n",
       "      <td>TOR</td>\n",
       "      <td>25</td>\n",
       "      <td>41</td>\n",
       "      <td>1</td>\n",
       "      <td>440</td>\n",
       "      <td>73</td>\n",
       "      <td>...</td>\n",
       "      <td>61</td>\n",
       "      <td>22</td>\n",
       "      <td>10</td>\n",
       "      <td>1</td>\n",
       "      <td>16</td>\n",
       "      <td>38</td>\n",
       "      <td>202</td>\n",
       "      <td>1</td>\n",
       "      <td>4.93</td>\n",
       "      <td>0.475</td>\n",
       "    </tr>\n",
       "    <tr>\n",
       "      <th>...</th>\n",
       "      <td>...</td>\n",
       "      <td>...</td>\n",
       "      <td>...</td>\n",
       "      <td>...</td>\n",
       "      <td>...</td>\n",
       "      <td>...</td>\n",
       "      <td>...</td>\n",
       "      <td>...</td>\n",
       "      <td>...</td>\n",
       "      <td>...</td>\n",
       "      <td>...</td>\n",
       "      <td>...</td>\n",
       "      <td>...</td>\n",
       "      <td>...</td>\n",
       "      <td>...</td>\n",
       "      <td>...</td>\n",
       "      <td>...</td>\n",
       "      <td>...</td>\n",
       "      <td>...</td>\n",
       "      <td>...</td>\n",
       "      <td>...</td>\n",
       "    </tr>\n",
       "    <tr>\n",
       "      <th>559</th>\n",
       "      <td>201603</td>\n",
       "      <td>2009-10</td>\n",
       "      <td>0</td>\n",
       "      <td>1610612761</td>\n",
       "      <td>TOR</td>\n",
       "      <td>23</td>\n",
       "      <td>69</td>\n",
       "      <td>19</td>\n",
       "      <td>1368</td>\n",
       "      <td>236</td>\n",
       "      <td>...</td>\n",
       "      <td>192</td>\n",
       "      <td>101</td>\n",
       "      <td>39</td>\n",
       "      <td>25</td>\n",
       "      <td>65</td>\n",
       "      <td>126</td>\n",
       "      <td>518</td>\n",
       "      <td>2</td>\n",
       "      <td>7.51</td>\n",
       "      <td>0.133</td>\n",
       "    </tr>\n",
       "    <tr>\n",
       "      <th>560</th>\n",
       "      <td>2774</td>\n",
       "      <td>2005-06</td>\n",
       "      <td>0</td>\n",
       "      <td>1610612766</td>\n",
       "      <td>CHA</td>\n",
       "      <td>25</td>\n",
       "      <td>66</td>\n",
       "      <td>18</td>\n",
       "      <td>1303</td>\n",
       "      <td>157</td>\n",
       "      <td>...</td>\n",
       "      <td>219</td>\n",
       "      <td>77</td>\n",
       "      <td>81</td>\n",
       "      <td>10</td>\n",
       "      <td>74</td>\n",
       "      <td>141</td>\n",
       "      <td>422</td>\n",
       "      <td>2</td>\n",
       "      <td>6.39</td>\n",
       "      <td>0.095</td>\n",
       "    </tr>\n",
       "    <tr>\n",
       "      <th>561</th>\n",
       "      <td>2052</td>\n",
       "      <td>2001-02</td>\n",
       "      <td>0</td>\n",
       "      <td>1610612762</td>\n",
       "      <td>UTA</td>\n",
       "      <td>21</td>\n",
       "      <td>67</td>\n",
       "      <td>23</td>\n",
       "      <td>1131</td>\n",
       "      <td>143</td>\n",
       "      <td>...</td>\n",
       "      <td>131</td>\n",
       "      <td>116</td>\n",
       "      <td>29</td>\n",
       "      <td>24</td>\n",
       "      <td>68</td>\n",
       "      <td>82</td>\n",
       "      <td>325</td>\n",
       "      <td>2</td>\n",
       "      <td>4.85</td>\n",
       "      <td>0.080</td>\n",
       "    </tr>\n",
       "    <tr>\n",
       "      <th>562</th>\n",
       "      <td>2208</td>\n",
       "      <td>2002-03</td>\n",
       "      <td>0</td>\n",
       "      <td>1610612738</td>\n",
       "      <td>BOS</td>\n",
       "      <td>22</td>\n",
       "      <td>51</td>\n",
       "      <td>5</td>\n",
       "      <td>667</td>\n",
       "      <td>61</td>\n",
       "      <td>...</td>\n",
       "      <td>140</td>\n",
       "      <td>20</td>\n",
       "      <td>34</td>\n",
       "      <td>13</td>\n",
       "      <td>23</td>\n",
       "      <td>68</td>\n",
       "      <td>145</td>\n",
       "      <td>2</td>\n",
       "      <td>2.84</td>\n",
       "      <td>0.077</td>\n",
       "    </tr>\n",
       "    <tr>\n",
       "      <th>563</th>\n",
       "      <td>201238</td>\n",
       "      <td>2007-08</td>\n",
       "      <td>0</td>\n",
       "      <td>1610612737</td>\n",
       "      <td>ATL</td>\n",
       "      <td>24</td>\n",
       "      <td>64</td>\n",
       "      <td>2</td>\n",
       "      <td>269</td>\n",
       "      <td>21</td>\n",
       "      <td>...</td>\n",
       "      <td>48</td>\n",
       "      <td>13</td>\n",
       "      <td>12</td>\n",
       "      <td>4</td>\n",
       "      <td>9</td>\n",
       "      <td>61</td>\n",
       "      <td>59</td>\n",
       "      <td>1</td>\n",
       "      <td>0.92</td>\n",
       "      <td>0.000</td>\n",
       "    </tr>\n",
       "  </tbody>\n",
       "</table>\n",
       "<p>563 rows × 29 columns</p>\n",
       "</div>"
      ],
      "text/plain": [
       "     PLAYER_ID SEASON_ID  LEAGUE_ID     TEAM_ID TEAM_ABBREVIATION  PLAYER_AGE  \\\n",
       "1         2574   2006-07          0  1610612748               MIA          26   \n",
       "2         2574   2007-08          0  1610612761               TOR          27   \n",
       "3         2574   2003-04          0  1610612739               CLE          23   \n",
       "4       200789   2009-10          0  1610612739               CLE          24   \n",
       "5      1629744   2019-20          0  1610612761               TOR          25   \n",
       "..         ...       ...        ...         ...               ...         ...   \n",
       "559     201603   2009-10          0  1610612761               TOR          23   \n",
       "560       2774   2005-06          0  1610612766               CHA          25   \n",
       "561       2052   2001-02          0  1610612762               UTA          21   \n",
       "562       2208   2002-03          0  1610612738               BOS          22   \n",
       "563     201238   2007-08          0  1610612737               ATL          24   \n",
       "\n",
       "     GP  GS   MIN  FGM  ...  REB  AST  STL  BLK  TOV   PF  PTS  YIL   PPGP  \\\n",
       "1    67  35  1767  278  ...  180   81   38    2   70  135  730    4  10.90   \n",
       "2    81   7  1530  243  ...  120   65   34    2   58  131  580    5   7.16   \n",
       "3    41   3   427   52  ...   55   14   13    2   21   41  145    1   3.54   \n",
       "4    56  10  1068  125  ...   73   70   25    7   36   79  355    4   6.34   \n",
       "5    41   1   440   73  ...   61   22   10    1   16   38  202    1   4.93   \n",
       "..   ..  ..   ...  ...  ...  ...  ...  ...  ...  ...  ...  ...  ...    ...   \n",
       "559  69  19  1368  236  ...  192  101   39   25   65  126  518    2   7.51   \n",
       "560  66  18  1303  157  ...  219   77   81   10   74  141  422    2   6.39   \n",
       "561  67  23  1131  143  ...  131  116   29   24   68   82  325    2   4.85   \n",
       "562  51   5   667   61  ...  140   20   34   13   23   68  145    2   2.84   \n",
       "563  64   2   269   21  ...   48   13   12    4    9   61   59    1   0.92   \n",
       "\n",
       "     FG3_PCT  \n",
       "1      0.514  \n",
       "2      0.483  \n",
       "3      0.477  \n",
       "4      0.477  \n",
       "5      0.475  \n",
       "..       ...  \n",
       "559    0.133  \n",
       "560    0.095  \n",
       "561    0.080  \n",
       "562    0.077  \n",
       "563    0.000  \n",
       "\n",
       "[563 rows x 29 columns]"
      ]
     },
     "execution_count": 28,
     "metadata": {},
     "output_type": "execute_result"
    }
   ],
   "source": [
    "sg = sg[['PLAYER_ID', 'SEASON_ID', 'LEAGUE_ID', 'TEAM_ID', 'TEAM_ABBREVIATION',\n",
    "       'PLAYER_AGE', 'GP', 'GS', 'MIN', 'FGM', 'FGA', 'FG_PCT', 'FG3M', 'FG3A',\n",
    "        'FTM', 'FTA', 'FT_PCT', 'OREB', 'DREB', 'REB', 'AST', 'STL',\n",
    "       'BLK', 'TOV', 'PF', 'PTS', 'YIL', 'PPGP','FG3_PCT']] .sort_values(by='FG3_PCT', ascending=False).reset_index(drop=True)\n",
    "sg = sg.drop(sg.index[0])\n",
    "sg.copy()"
   ]
  },
  {
   "cell_type": "code",
   "execution_count": 8,
   "metadata": {
    "ExecuteTime": {
     "end_time": "2020-09-22T19:55:10.651066Z",
     "start_time": "2020-09-22T19:55:10.637030Z"
    }
   },
   "outputs": [],
   "source": [
    "# C\n",
    "c = default[(default['POSITION'] == 'C') & (default['GP'] > 40)]\n",
    "c = c.drop(columns=['PLAYER_NAME','POSITION'])"
   ]
  },
  {
   "cell_type": "code",
   "execution_count": 37,
   "metadata": {
    "ExecuteTime": {
     "end_time": "2020-09-22T03:58:13.511215Z",
     "start_time": "2020-09-22T03:58:13.502212Z"
    }
   },
   "outputs": [],
   "source": [
    "# sg.iloc[:, 5:-1].values"
   ]
  },
  {
   "cell_type": "code",
   "execution_count": 9,
   "metadata": {
    "ExecuteTime": {
     "end_time": "2020-09-22T19:55:11.647592Z",
     "start_time": "2020-09-22T19:55:11.626832Z"
    }
   },
   "outputs": [],
   "source": [
    "# SF\n",
    "sf = default[default['POSITION'] == 'SF']\n",
    "# PF\n",
    "pf = default[default['POSITION'] == 'PF']\n",
    "# PG\n",
    "pg = default[default['POSITION'] == 'PG']\n",
    "# G\n",
    "g = default[default['POSITION'] == 'G']\n",
    "# F\n",
    "f = default[default['POSITION'] == 'F']"
   ]
  },
  {
   "cell_type": "markdown",
   "metadata": {},
   "source": [
    "------------"
   ]
  },
  {
   "cell_type": "code",
   "execution_count": 10,
   "metadata": {
    "ExecuteTime": {
     "end_time": "2020-09-22T19:55:12.864350Z",
     "start_time": "2020-09-22T19:55:12.855396Z"
    }
   },
   "outputs": [],
   "source": [
    "# dataset = position name\n",
    "dataset = sg\n",
    "\n",
    "## Multiple Linear Regressions\n",
    "X = dataset.iloc[:, 5:-1].values\n",
    "y = dataset.iloc[:, -1].values"
   ]
  },
  {
   "cell_type": "code",
   "execution_count": 11,
   "metadata": {
    "ExecuteTime": {
     "end_time": "2020-09-22T19:55:13.208194Z",
     "start_time": "2020-09-22T19:55:13.194158Z"
    },
    "scrolled": true
   },
   "outputs": [
    {
     "data": {
      "text/plain": [
       "array([0.514, 0.483, 0.477, 0.477, 0.475, 0.467, 0.465, 0.461, 0.456,\n",
       "       0.455, 0.452, 0.45 , 0.446, 0.444, 0.444, 0.441, 0.441, 0.44 ,\n",
       "       0.44 , 0.439, 0.438, 0.438, 0.437, 0.437, 0.436, 0.435, 0.433,\n",
       "       0.431, 0.43 , 0.429, 0.427, 0.426, 0.425, 0.423, 0.423, 0.422,\n",
       "       0.422, 0.421, 0.421, 0.42 , 0.42 , 0.419, 0.418, 0.417, 0.417,\n",
       "       0.417, 0.417, 0.415, 0.415, 0.415, 0.415, 0.414, 0.414, 0.414,\n",
       "       0.413, 0.412, 0.412, 0.412, 0.412, 0.411, 0.41 , 0.41 , 0.41 ,\n",
       "       0.409, 0.409, 0.408, 0.407, 0.407, 0.407, 0.407, 0.407, 0.406,\n",
       "       0.405, 0.405, 0.405, 0.405, 0.405, 0.404, 0.404, 0.404, 0.404,\n",
       "       0.403, 0.403, 0.403, 0.402, 0.402, 0.402, 0.402, 0.402, 0.401,\n",
       "       0.401, 0.4  , 0.4  , 0.4  , 0.399, 0.399, 0.399, 0.398, 0.398,\n",
       "       0.398, 0.397, 0.397, 0.397, 0.397, 0.397, 0.396, 0.396, 0.396,\n",
       "       0.395, 0.395, 0.395, 0.395, 0.395, 0.394, 0.393, 0.393, 0.393,\n",
       "       0.392, 0.391, 0.391, 0.391, 0.391, 0.391, 0.39 , 0.39 , 0.39 ,\n",
       "       0.39 , 0.39 , 0.39 , 0.39 , 0.389, 0.389, 0.389, 0.389, 0.388,\n",
       "       0.388, 0.388, 0.388, 0.388, 0.387, 0.387, 0.387, 0.387, 0.386,\n",
       "       0.386, 0.386, 0.386, 0.386, 0.386, 0.385, 0.385, 0.385, 0.385,\n",
       "       0.385, 0.384, 0.384, 0.384, 0.384, 0.383, 0.383, 0.383, 0.383,\n",
       "       0.383, 0.383, 0.383, 0.382, 0.382, 0.382, 0.382, 0.382, 0.382,\n",
       "       0.381, 0.381, 0.38 , 0.38 , 0.38 , 0.38 , 0.38 , 0.38 , 0.378,\n",
       "       0.378, 0.378, 0.378, 0.378, 0.377, 0.377, 0.377, 0.377, 0.377,\n",
       "       0.376, 0.376, 0.375, 0.375, 0.375, 0.375, 0.375, 0.374, 0.374,\n",
       "       0.373, 0.373, 0.373, 0.373, 0.372, 0.372, 0.372, 0.372, 0.372,\n",
       "       0.372, 0.372, 0.372, 0.371, 0.371, 0.371, 0.371, 0.371, 0.371,\n",
       "       0.37 , 0.37 , 0.37 , 0.37 , 0.369, 0.369, 0.369, 0.369, 0.368,\n",
       "       0.368, 0.368, 0.368, 0.368, 0.368, 0.368, 0.368, 0.367, 0.367,\n",
       "       0.367, 0.367, 0.366, 0.366, 0.365, 0.365, 0.365, 0.365, 0.365,\n",
       "       0.365, 0.364, 0.364, 0.364, 0.364, 0.364, 0.364, 0.364, 0.364,\n",
       "       0.364, 0.364, 0.364, 0.364, 0.363, 0.363, 0.363, 0.363, 0.363,\n",
       "       0.362, 0.362, 0.362, 0.361, 0.361, 0.361, 0.361, 0.361, 0.36 ,\n",
       "       0.36 , 0.36 , 0.36 , 0.359, 0.359, 0.358, 0.358, 0.357, 0.357,\n",
       "       0.357, 0.357, 0.357, 0.356, 0.356, 0.356, 0.356, 0.356, 0.356,\n",
       "       0.355, 0.355, 0.355, 0.355, 0.354, 0.354, 0.354, 0.354, 0.354,\n",
       "       0.354, 0.354, 0.353, 0.353, 0.352, 0.352, 0.352, 0.352, 0.352,\n",
       "       0.352, 0.351, 0.351, 0.351, 0.35 , 0.35 , 0.35 , 0.35 , 0.35 ,\n",
       "       0.35 , 0.35 , 0.35 , 0.349, 0.348, 0.348, 0.348, 0.347, 0.347,\n",
       "       0.347, 0.347, 0.346, 0.346, 0.346, 0.346, 0.346, 0.346, 0.346,\n",
       "       0.345, 0.345, 0.345, 0.345, 0.344, 0.344, 0.344, 0.344, 0.344,\n",
       "       0.344, 0.343, 0.343, 0.343, 0.343, 0.342, 0.342, 0.342, 0.342,\n",
       "       0.341, 0.341, 0.341, 0.341, 0.341, 0.34 , 0.34 , 0.34 , 0.34 ,\n",
       "       0.34 , 0.34 , 0.34 , 0.339, 0.339, 0.339, 0.338, 0.338, 0.338,\n",
       "       0.338, 0.337, 0.337, 0.336, 0.336, 0.336, 0.335, 0.335, 0.333,\n",
       "       0.333, 0.333, 0.333, 0.333, 0.333, 0.333, 0.333, 0.333, 0.333,\n",
       "       0.332, 0.332, 0.332, 0.332, 0.332, 0.331, 0.331, 0.33 , 0.33 ,\n",
       "       0.33 , 0.33 , 0.33 , 0.33 , 0.329, 0.329, 0.329, 0.327, 0.327,\n",
       "       0.327, 0.327, 0.326, 0.326, 0.326, 0.325, 0.325, 0.324, 0.324,\n",
       "       0.324, 0.324, 0.324, 0.324, 0.324, 0.324, 0.324, 0.324, 0.323,\n",
       "       0.322, 0.321, 0.321, 0.32 , 0.32 , 0.32 , 0.32 , 0.319, 0.319,\n",
       "       0.318, 0.318, 0.317, 0.317, 0.317, 0.317, 0.316, 0.316, 0.316,\n",
       "       0.315, 0.314, 0.313, 0.313, 0.311, 0.311, 0.311, 0.311, 0.31 ,\n",
       "       0.31 , 0.31 , 0.31 , 0.309, 0.309, 0.307, 0.306, 0.306, 0.305,\n",
       "       0.304, 0.303, 0.303, 0.301, 0.3  , 0.299, 0.299, 0.298, 0.298,\n",
       "       0.298, 0.297, 0.297, 0.296, 0.296, 0.296, 0.294, 0.293, 0.292,\n",
       "       0.289, 0.288, 0.288, 0.288, 0.286, 0.286, 0.286, 0.286, 0.286,\n",
       "       0.285, 0.285, 0.285, 0.285, 0.284, 0.284, 0.283, 0.282, 0.282,\n",
       "       0.281, 0.281, 0.28 , 0.279, 0.279, 0.279, 0.279, 0.278, 0.274,\n",
       "       0.273, 0.273, 0.273, 0.273, 0.273, 0.271, 0.27 , 0.269, 0.267,\n",
       "       0.265, 0.265, 0.265, 0.263, 0.263, 0.259, 0.258, 0.256, 0.256,\n",
       "       0.256, 0.256, 0.256, 0.25 , 0.25 , 0.25 , 0.247, 0.245, 0.243,\n",
       "       0.24 , 0.234, 0.233, 0.232, 0.231, 0.231, 0.231, 0.224, 0.222,\n",
       "       0.213, 0.211, 0.211, 0.211, 0.204, 0.2  , 0.2  , 0.2  , 0.196,\n",
       "       0.194, 0.194, 0.191, 0.187, 0.182, 0.167, 0.143, 0.143, 0.139,\n",
       "       0.133, 0.095, 0.08 , 0.077, 0.   ])"
      ]
     },
     "execution_count": 11,
     "metadata": {},
     "output_type": "execute_result"
    }
   ],
   "source": [
    "y"
   ]
  },
  {
   "cell_type": "code",
   "execution_count": 19,
   "metadata": {
    "ExecuteTime": {
     "end_time": "2020-09-22T21:41:06.742555Z",
     "start_time": "2020-09-22T21:41:06.723967Z"
    }
   },
   "outputs": [],
   "source": [
    "## Splitting the dataset into the Training set and Test set\n",
    "from sklearn.model_selection import train_test_split\n",
    "X_train, X_test, y_train, y_test = train_test_split(X, y, test_size = 0.3, random_state = 0)"
   ]
  },
  {
   "cell_type": "code",
   "execution_count": 20,
   "metadata": {
    "ExecuteTime": {
     "end_time": "2020-09-22T21:41:06.943112Z",
     "start_time": "2020-09-22T21:41:06.929145Z"
    }
   },
   "outputs": [
    {
     "data": {
      "text/plain": [
       "LinearRegression()"
      ]
     },
     "execution_count": 20,
     "metadata": {},
     "output_type": "execute_result"
    }
   ],
   "source": [
    "## Training the Multiple Linear Regression model on the Training set\n",
    "from sklearn.linear_model import LinearRegression\n",
    "regressor = LinearRegression()\n",
    "regressor.fit(X_train, y_train)"
   ]
  },
  {
   "cell_type": "code",
   "execution_count": 21,
   "metadata": {
    "ExecuteTime": {
     "end_time": "2020-09-22T21:41:07.162856Z",
     "start_time": "2020-09-22T21:41:07.145896Z"
    }
   },
   "outputs": [
    {
     "name": "stdout",
     "output_type": "stream",
     "text": [
      "[[0.3  0.27]\n",
      " [0.3  0.33]\n",
      " [0.42 0.41]\n",
      " [0.3  0.28]\n",
      " [0.32 0.33]\n",
      " [0.35 0.36]\n",
      " [0.28 0.27]\n",
      " [0.34 0.35]\n",
      " [0.37 0.37]\n",
      " [0.3  0.27]\n",
      " [0.34 0.37]\n",
      " [0.32 0.32]\n",
      " [0.41 0.4 ]\n",
      " [0.44 0.42]\n",
      " [0.42 0.4 ]\n",
      " [0.32 0.35]\n",
      " [0.37 0.38]\n",
      " [0.35 0.37]\n",
      " [0.28 0.26]\n",
      " [0.35 0.36]\n",
      " [0.37 0.36]\n",
      " [0.35 0.36]\n",
      " [0.39 0.38]\n",
      " [0.36 0.38]\n",
      " [0.34 0.38]\n",
      " [0.34 0.36]\n",
      " [0.4  0.4 ]\n",
      " [0.32 0.33]\n",
      " [0.48 0.41]\n",
      " [0.33 0.27]\n",
      " [0.3  0.34]\n",
      " [0.36 0.45]\n",
      " [0.37 0.38]\n",
      " [0.32 0.32]\n",
      " [0.32 0.23]\n",
      " [0.29 0.27]\n",
      " [0.34 0.31]\n",
      " [0.32 0.33]\n",
      " [0.31 0.13]\n",
      " [0.38 0.4 ]\n",
      " [0.32 0.36]\n",
      " [0.28 0.31]\n",
      " [0.33 0.28]\n",
      " [0.34 0.36]\n",
      " [0.31 0.14]\n",
      " [0.32 0.32]\n",
      " [0.3  0.33]\n",
      " [0.32 0.36]\n",
      " [0.33 0.33]\n",
      " [0.3  0.28]\n",
      " [0.45 0.44]\n",
      " [0.34 0.37]\n",
      " [0.34 0.34]\n",
      " [0.35 0.35]\n",
      " [0.34 0.36]\n",
      " [0.52 0.44]\n",
      " [0.31 0.35]\n",
      " [0.3  0.28]\n",
      " [0.32 0.27]\n",
      " [0.34 0.3 ]\n",
      " [0.32 0.32]\n",
      " [0.39 0.42]\n",
      " [0.3  0.31]\n",
      " [0.31 0.26]\n",
      " [0.37 0.38]\n",
      " [0.28 0.3 ]\n",
      " [0.32 0.25]\n",
      " [0.26 0.29]\n",
      " [0.33 0.33]\n",
      " [0.44 0.4 ]\n",
      " [0.32 0.33]\n",
      " [0.45 0.42]\n",
      " [0.42 0.39]\n",
      " [0.34 0.28]\n",
      " [0.45 0.44]\n",
      " [0.38 0.39]\n",
      " [0.39 0.4 ]\n",
      " [0.33 0.38]\n",
      " [0.3  0.31]\n",
      " [0.34 0.34]\n",
      " [0.34 0.41]\n",
      " [0.29 0.23]\n",
      " [0.34 0.35]\n",
      " [0.43 0.4 ]\n",
      " [0.35 0.36]\n",
      " [0.36 0.36]\n",
      " [0.34 0.35]\n",
      " [0.39 0.4 ]\n",
      " [0.31 0.35]\n",
      " [0.33 0.34]\n",
      " [0.38 0.37]\n",
      " [0.34 0.37]\n",
      " [0.4  0.39]\n",
      " [0.32 0.27]\n",
      " [0.3  0.17]\n",
      " [0.31 0.33]\n",
      " [0.34 0.29]\n",
      " [0.32 0.33]\n",
      " [0.32 0.35]\n",
      " [0.35 0.36]\n",
      " [0.24 0.2 ]\n",
      " [0.33 0.35]\n",
      " [0.35 0.4 ]\n",
      " [0.33 0.38]\n",
      " [0.3  0.32]\n",
      " [0.32 0.35]\n",
      " [0.41 0.48]\n",
      " [0.3  0.22]\n",
      " [0.36 0.35]\n",
      " [0.61 0.45]\n",
      " [0.33 0.34]\n",
      " [0.36 0.39]\n",
      " [0.38 0.38]\n",
      " [0.31 0.31]\n",
      " [0.33 0.35]\n",
      " [0.4  0.39]\n",
      " [0.36 0.37]\n",
      " [0.42 0.41]\n",
      " [0.35 0.34]\n",
      " [0.32 0.35]\n",
      " [0.34 0.36]\n",
      " [0.32 0.35]\n",
      " [0.36 0.38]\n",
      " [0.31 0.  ]\n",
      " [0.34 0.34]\n",
      " [0.4  0.39]\n",
      " [0.48 0.43]\n",
      " [0.33 0.34]\n",
      " [0.32 0.32]\n",
      " [0.37 0.36]\n",
      " [0.33 0.34]\n",
      " [0.38 0.4 ]\n",
      " [0.37 0.37]\n",
      " [0.36 0.35]\n",
      " [0.33 0.38]\n",
      " [0.38 0.41]\n",
      " [0.31 0.32]\n",
      " [0.41 0.39]\n",
      " [0.32 0.32]\n",
      " [0.3  0.34]\n",
      " [0.34 0.36]\n",
      " [0.36 0.37]\n",
      " [0.28 0.32]\n",
      " [0.38 0.39]\n",
      " [0.34 0.37]\n",
      " [0.38 0.46]\n",
      " [0.27 0.28]\n",
      " [0.29 0.26]\n",
      " [0.32 0.33]\n",
      " [0.31 0.2 ]\n",
      " [0.34 0.35]\n",
      " [0.34 0.33]\n",
      " [0.36 0.4 ]\n",
      " [0.43 0.4 ]\n",
      " [0.36 0.37]\n",
      " [0.33 0.39]\n",
      " [0.41 0.41]\n",
      " [0.55 0.43]\n",
      " [0.39 0.38]\n",
      " [0.41 0.42]\n",
      " [0.43 0.4 ]\n",
      " [0.33 0.34]\n",
      " [0.28 0.27]\n",
      " [0.33 0.35]\n",
      " [0.33 0.32]\n",
      " [0.31 0.41]\n",
      " [0.39 0.39]\n",
      " [0.37 0.41]\n",
      " [0.41 0.47]]\n"
     ]
    }
   ],
   "source": [
    "## Predicting the Test set results\n",
    "y_pred = regressor.predict(X_test)\n",
    "np.set_printoptions(precision=2)\n",
    "print(np.concatenate((y_pred.reshape(len(y_pred),1), y_test.reshape(len(y_test),1)),1))"
   ]
  },
  {
   "cell_type": "markdown",
   "metadata": {
    "ExecuteTime": {
     "end_time": "2020-09-22T04:55:40.551665Z",
     "start_time": "2020-09-22T04:55:40.543663Z"
    }
   },
   "source": [
    "Multiple linear aggression is well adapted to the dataset. "
   ]
  },
  {
   "cell_type": "code",
   "execution_count": 22,
   "metadata": {
    "ExecuteTime": {
     "end_time": "2020-09-22T21:41:08.558223Z",
     "start_time": "2020-09-22T21:41:08.552136Z"
    }
   },
   "outputs": [
    {
     "data": {
      "text/plain": [
       "0.4332583153207932"
      ]
     },
     "execution_count": 22,
     "metadata": {},
     "output_type": "execute_result"
    }
   ],
   "source": [
    "## R-Square Coefficient \n",
    "from sklearn.metrics import r2_score\n",
    "r2_score(y_test, y_pred)"
   ]
  },
  {
   "cell_type": "code",
   "execution_count": null,
   "metadata": {
    "ExecuteTime": {
     "end_time": "2020-09-22T19:55:23.554835Z",
     "start_time": "2020-09-22T19:55:23.492088Z"
    }
   },
   "outputs": [],
   "source": []
  },
  {
   "cell_type": "code",
   "execution_count": null,
   "metadata": {},
   "outputs": [],
   "source": []
  },
  {
   "cell_type": "code",
   "execution_count": null,
   "metadata": {},
   "outputs": [],
   "source": []
  },
  {
   "cell_type": "code",
   "execution_count": null,
   "metadata": {},
   "outputs": [],
   "source": []
  },
  {
   "cell_type": "markdown",
   "metadata": {
    "heading_collapsed": true
   },
   "source": [
    "## Linear Regression "
   ]
  },
  {
   "cell_type": "code",
   "execution_count": null,
   "metadata": {
    "ExecuteTime": {
     "end_time": "2020-09-20T02:05:25.427805Z",
     "start_time": "2020-09-20T02:05:25.414839Z"
    },
    "hidden": true
   },
   "outputs": [],
   "source": [
    "# Assign the data to X and y\n",
    "\n",
    "X = twenty_years_all_players[[\"MIN\", \"GP\"]]\n",
    "y = twenty_years_all_players[\"PPGP\"].values.reshape(-1, 1)\n",
    "print(X.shape, y.shape)"
   ]
  },
  {
   "cell_type": "code",
   "execution_count": null,
   "metadata": {
    "ExecuteTime": {
     "end_time": "2020-09-20T02:05:25.756797Z",
     "start_time": "2020-09-20T02:05:25.693279Z"
    },
    "hidden": true
   },
   "outputs": [],
   "source": [
    "# Use train_test_split to create training and testing data\n",
    "\n",
    "from sklearn.model_selection import train_test_split\n",
    "\n",
    "X_train, X_test, y_train, y_test = train_test_split(X, y, random_state=42)\n",
    "\n",
    "# Create the model using LinearRegression\n",
    "\n",
    "from sklearn.linear_model import LinearRegression\n",
    "model = LinearRegression()"
   ]
  },
  {
   "cell_type": "code",
   "execution_count": null,
   "metadata": {
    "ExecuteTime": {
     "end_time": "2020-09-20T02:05:25.898248Z",
     "start_time": "2020-09-20T02:05:25.875304Z"
    },
    "hidden": true
   },
   "outputs": [],
   "source": [
    "# Fit the model to the training data and calculate the scores for the training and testing data\n",
    "\n",
    "model.fit(X_train, y_train)\n",
    "training_score = model.score(X_train, y_train)\n",
    "testing_score = model.score(X_test, y_test)\n",
    "\n",
    "\n",
    "\n",
    "print(f\"Training Score: {training_score}\")\n",
    "print(f\"Testing Score: {testing_score}\")"
   ]
  },
  {
   "cell_type": "code",
   "execution_count": null,
   "metadata": {
    "ExecuteTime": {
     "end_time": "2020-09-20T02:05:26.288096Z",
     "start_time": "2020-09-20T02:05:26.075648Z"
    },
    "hidden": true
   },
   "outputs": [],
   "source": [
    "# Plot the Residuals for the Training and Testing data\n",
    "\n",
    "# Use `model.predict()` to get a prediction array from X_train and X_test\n",
    "y_train_prediction = model.predict(X_train)\n",
    "y_test_prediction = model.predict(X_test)\n",
    "\n",
    "# Plot the residual\n",
    "plt.scatter(y_train_prediction, y_train_prediction - y_train, c=\"blue\", label=\"Training Data (Points)\")\n",
    "plt.scatter(y_test_prediction, y_test_prediction - y_test, c=\"orange\", label=\"Testing Data (MIN, GP)\")\n",
    "plt.legend()\n",
    "plt.hlines(y=0, xmin=y.min(), xmax=y.max())\n",
    "plt.title(\"Residual Plot\")\n"
   ]
  },
  {
   "cell_type": "code",
   "execution_count": null,
   "metadata": {
    "hidden": true
   },
   "outputs": [],
   "source": []
  },
  {
   "cell_type": "markdown",
   "metadata": {
    "hidden": true
   },
   "source": [
    "--------------------------"
   ]
  },
  {
   "cell_type": "markdown",
   "metadata": {
    "ExecuteTime": {
     "end_time": "2020-09-20T00:24:04.790213Z",
     "start_time": "2020-09-20T00:24:04.776250Z"
    },
    "heading_collapsed": true
   },
   "source": [
    "## Logistic Regression\n",
    "* Assiging 'dummies'.        \n",
    "Creating columns for logistic regression out of categorical data in specific columns. ex: positon of player"
   ]
  },
  {
   "cell_type": "code",
   "execution_count": null,
   "metadata": {
    "ExecuteTime": {
     "end_time": "2020-09-20T01:43:10.940508Z",
     "start_time": "2020-09-20T01:43:10.924529Z"
    },
    "hidden": true
   },
   "outputs": [],
   "source": [
    "# twenty_years_all_players"
   ]
  },
  {
   "cell_type": "code",
   "execution_count": null,
   "metadata": {
    "ExecuteTime": {
     "end_time": "2020-09-20T01:43:11.109219Z",
     "start_time": "2020-09-20T01:43:11.096254Z"
    },
    "hidden": true
   },
   "outputs": [],
   "source": [
    "ml_test = twenty_years_all_players.drop(columns=['PLAYER_NAME','TEAM_ABBREVIATION','SEASON_ID'])"
   ]
  },
  {
   "cell_type": "code",
   "execution_count": null,
   "metadata": {
    "ExecuteTime": {
     "end_time": "2020-09-20T02:05:37.914808Z",
     "start_time": "2020-09-20T02:05:37.891885Z"
    },
    "hidden": true
   },
   "outputs": [],
   "source": [
    "ml_test2 = pd.get_dummies(ml_test)\n",
    "ml_test2.columns = ml_test2.columns.str.replace(' ','')\n",
    "ml_test2.head()"
   ]
  },
  {
   "cell_type": "markdown",
   "metadata": {
    "ExecuteTime": {
     "end_time": "2020-09-19T19:25:58.248942Z",
     "start_time": "2020-09-19T19:25:58.229846Z"
    },
    "hidden": true
   },
   "source": [
    "OREB: Offensive Rebounds  \n",
    "DREB: Defensive Rebounds   \n",
    "REB: Rebounds  \n",
    "AST: Assists  \n",
    "TOV: Turnovers  \n",
    "STL: Steals  \n",
    "BLK: Blocks  "
   ]
  },
  {
   "cell_type": "code",
   "execution_count": null,
   "metadata": {
    "ExecuteTime": {
     "end_time": "2020-09-20T02:05:38.658891Z",
     "start_time": "2020-09-20T02:05:38.643931Z"
    },
    "hidden": true
   },
   "outputs": [],
   "source": [
    "X = ml_test2[[\"MIN\", \"GP\"]]\n",
    "# Select the 'FEV' column for y, and then use values.reshape() to reshape it to a 2d array\n",
    "y = ml_test2[\"POSITION_C\"].values.reshape(-1, 1)"
   ]
  },
  {
   "cell_type": "code",
   "execution_count": null,
   "metadata": {
    "ExecuteTime": {
     "end_time": "2020-09-20T02:05:38.860484Z",
     "start_time": "2020-09-20T02:05:38.840538Z"
    },
    "hidden": true
   },
   "outputs": [],
   "source": [
    "from sklearn.model_selection import train_test_split\n",
    "\n",
    "X_train, X_test, y_train, y_test = train_test_split(X, y, random_state=1, test_size=0.33,)\n",
    "\n"
   ]
  },
  {
   "cell_type": "code",
   "execution_count": null,
   "metadata": {
    "ExecuteTime": {
     "end_time": "2020-09-20T02:05:39.063519Z",
     "start_time": "2020-09-20T02:05:39.049557Z"
    },
    "hidden": true
   },
   "outputs": [],
   "source": [
    "from sklearn.linear_model import LogisticRegression\n",
    "classifier = LogisticRegression()\n",
    "classifier"
   ]
  },
  {
   "cell_type": "code",
   "execution_count": null,
   "metadata": {
    "ExecuteTime": {
     "end_time": "2020-09-20T02:05:39.452773Z",
     "start_time": "2020-09-20T02:05:39.418844Z"
    },
    "hidden": true
   },
   "outputs": [],
   "source": [
    "classifier.fit(X_train, y_train)"
   ]
  },
  {
   "cell_type": "code",
   "execution_count": null,
   "metadata": {
    "ExecuteTime": {
     "end_time": "2020-09-20T02:05:40.989846Z",
     "start_time": "2020-09-20T02:05:40.970871Z"
    },
    "hidden": true
   },
   "outputs": [],
   "source": [
    "print(f\"Training Data Score: {classifier.score(X_train, y_train)}\")\n",
    "print(f\"Testing Data Score: {classifier.score(X_test, y_test)}\")"
   ]
  },
  {
   "cell_type": "code",
   "execution_count": null,
   "metadata": {
    "ExecuteTime": {
     "end_time": "2020-09-20T02:05:41.253726Z",
     "start_time": "2020-09-20T02:05:41.245774Z"
    },
    "hidden": true
   },
   "outputs": [],
   "source": []
  },
  {
   "cell_type": "code",
   "execution_count": null,
   "metadata": {
    "ExecuteTime": {
     "end_time": "2020-09-20T02:05:44.843679Z",
     "start_time": "2020-09-20T02:05:44.685611Z"
    },
    "hidden": true
   },
   "outputs": [],
   "source": [
    "# Generate a new data point (the red circle)\n",
    "import numpy as np\n",
    "new_data = np.array([[800, 36]])\n",
    "plt.scatter(X.iloc[:, 0], X.iloc[:, 1], c=y) \n",
    "plt.scatter(new_data[0, 0], new_data[0, 1], c=\"r\", marker=\"o\", s=100)"
   ]
  },
  {
   "cell_type": "code",
   "execution_count": null,
   "metadata": {
    "ExecuteTime": {
     "end_time": "2020-09-20T02:05:47.575286Z",
     "start_time": "2020-09-20T02:05:47.559325Z"
    },
    "hidden": true
   },
   "outputs": [],
   "source": [
    "# Predict the class (purple or yellow) of the new data point\n",
    "predictions = classifier.predict(new_data)\n",
    "print(\"Classes are either 0 (purple) or 1 (yellow)\")\n",
    "print(f\"The new point was classified as: {predictions}\")"
   ]
  },
  {
   "cell_type": "code",
   "execution_count": null,
   "metadata": {
    "ExecuteTime": {
     "end_time": "2020-09-20T00:10:44.418749Z",
     "start_time": "2020-09-20T00:10:44.413446Z"
    },
    "hidden": true
   },
   "outputs": [],
   "source": []
  },
  {
   "cell_type": "code",
   "execution_count": null,
   "metadata": {
    "ExecuteTime": {
     "end_time": "2020-09-20T02:05:50.508968Z",
     "start_time": "2020-09-20T02:05:50.480023Z"
    },
    "hidden": true,
    "scrolled": true
   },
   "outputs": [],
   "source": [
    "predictions = classifier.predict(X_test)\n",
    "pd.DataFrame({\"Prediction\": predictions, \"Actual\": y_test})"
   ]
  },
  {
   "cell_type": "markdown",
   "metadata": {
    "hidden": true
   },
   "source": [
    "----------"
   ]
  },
  {
   "cell_type": "markdown",
   "metadata": {
    "heading_collapsed": true
   },
   "source": [
    "## TEST: DNN for regression    \n",
    "https://towardsdatascience.com/deep-neural-networks-for-regression-problems-81321897ca33"
   ]
  },
  {
   "cell_type": "code",
   "execution_count": null,
   "metadata": {
    "ExecuteTime": {
     "end_time": "2020-09-20T02:07:07.529202Z",
     "start_time": "2020-09-20T02:07:07.511246Z"
    },
    "hidden": true
   },
   "outputs": [],
   "source": [
    "X = ml_test2[[\"MIN\", \"GP\"]]\n",
    "# Select the 'FEV' column for y, and then use values.reshape() to reshape it to a 2d array\n",
    "y = ml_test2[\"POSITION_C\"].values.reshape(-1, 1)"
   ]
  },
  {
   "cell_type": "code",
   "execution_count": null,
   "metadata": {
    "ExecuteTime": {
     "end_time": "2020-09-20T02:07:07.810487Z",
     "start_time": "2020-09-20T02:07:07.796525Z"
    },
    "hidden": true
   },
   "outputs": [],
   "source": [
    "from sklearn.model_selection import train_test_split\n",
    "\n",
    "X_train, X_test, y_train, y_test = train_test_split(X, y, random_state=101, test_size=0.33)"
   ]
  },
  {
   "cell_type": "code",
   "execution_count": null,
   "metadata": {
    "hidden": true
   },
   "outputs": [],
   "source": []
  },
  {
   "cell_type": "code",
   "execution_count": null,
   "metadata": {
    "ExecuteTime": {
     "end_time": "2020-09-20T02:07:17.896210Z",
     "start_time": "2020-09-20T02:07:17.882215Z"
    },
    "hidden": true
   },
   "outputs": [],
   "source": [
    "def get_cols_with_no_nans(df,col_type):\n",
    "    '''\n",
    "    Arguments :\n",
    "    df : The dataframe to process\n",
    "    col_type : \n",
    "          num : to only get numerical columns with no nans\n",
    "          no_num : to only get nun-numerical columns with no nans\n",
    "          all : to get any columns with no nans    \n",
    "    '''\n",
    "    if (col_type == 'num'):\n",
    "        predictors = df.select_dtypes(exclude=['object'])\n",
    "    elif (col_type == 'no_num'):\n",
    "        predictors = df.select_dtypes(include=['object'])\n",
    "    elif (col_type == 'all'):\n",
    "        predictors = df\n",
    "    else :\n",
    "        print('Error : choose a type (num, no_num, all)')\n",
    "        return 0\n",
    "    cols_with_no_nans = []\n",
    "    for col in predictors.columns:\n",
    "        if not df[col].isnull().any():\n",
    "            cols_with_no_nans.append(col)\n",
    "    return cols_with_no_nans"
   ]
  },
  {
   "cell_type": "code",
   "execution_count": null,
   "metadata": {
    "ExecuteTime": {
     "end_time": "2020-09-20T02:07:18.224444Z",
     "start_time": "2020-09-20T02:07:18.207490Z"
    },
    "hidden": true
   },
   "outputs": [],
   "source": [
    "# define a function to get the columns that don’t have any missing values\n",
    "num_cols = get_cols_with_no_nans(ml_test2 , 'num')\n",
    "cat_cols = get_cols_with_no_nans(ml_test2 , 'no_num')"
   ]
  },
  {
   "cell_type": "code",
   "execution_count": null,
   "metadata": {
    "ExecuteTime": {
     "end_time": "2020-09-20T02:07:18.583850Z",
     "start_time": "2020-09-20T02:07:18.565874Z"
    },
    "hidden": true
   },
   "outputs": [],
   "source": [
    "print ('Number of numerical columns with no nan values :',len(num_cols))\n",
    "print ('Number of nun-numerical columns with no nan values :',len(cat_cols))"
   ]
  },
  {
   "cell_type": "code",
   "execution_count": null,
   "metadata": {
    "ExecuteTime": {
     "end_time": "2020-09-20T02:07:21.627215Z",
     "start_time": "2020-09-20T02:07:19.703953Z"
    },
    "hidden": true
   },
   "outputs": [],
   "source": [
    "combined = ml_test2[num_cols + cat_cols]\n",
    "combined.hist(figsize = (12,10))\n",
    "plt.show()"
   ]
  },
  {
   "cell_type": "code",
   "execution_count": null,
   "metadata": {
    "ExecuteTime": {
     "end_time": "2020-09-20T02:07:23.871714Z",
     "start_time": "2020-09-20T02:07:23.817869Z"
    },
    "hidden": true
   },
   "outputs": [],
   "source": [
    "import seaborn as sb"
   ]
  },
  {
   "cell_type": "code",
   "execution_count": null,
   "metadata": {
    "ExecuteTime": {
     "end_time": "2020-09-20T02:10:33.892373Z",
     "start_time": "2020-09-20T02:10:33.401686Z"
    },
    "hidden": true
   },
   "outputs": [],
   "source": [
    "train_data = combined[num_cols + cat_cols]\n",
    "train_data['POSITION_C'] = y \n",
    "\n",
    "C_mat = train_data.corr()\n",
    "fig = plt.figure(figsize = (15,15))\n",
    "\n",
    "sb.heatmap(C_mat, vmax = .8, square = True)\n",
    "plt.show()"
   ]
  },
  {
   "cell_type": "code",
   "execution_count": null,
   "metadata": {
    "ExecuteTime": {
     "end_time": "2020-09-20T02:10:47.160493Z",
     "start_time": "2020-09-20T02:10:47.140547Z"
    },
    "hidden": true
   },
   "outputs": [],
   "source": [
    "def oneHotEncode(df,colNames):\n",
    "    for col in colNames:\n",
    "        if( df[col].dtype == np.dtype('object')):\n",
    "            dummies = pd.get_dummies(df[col],prefix=col)\n",
    "            df = pd.concat([df,dummies],axis=1)\n",
    "\n",
    "            #drop the encoded column\n",
    "            df.drop([col],axis = 1 , inplace=True)\n",
    "    return df\n",
    "    \n",
    "\n",
    "print('There were {} columns before encoding categorical features'.format(combined.shape[1]))\n",
    "combined = oneHotEncode(combined, cat_cols)\n",
    "print('There are {} columns after encoding categorical features'.format(combined.shape[1]))"
   ]
  },
  {
   "cell_type": "code",
   "execution_count": null,
   "metadata": {
    "ExecuteTime": {
     "end_time": "2020-09-20T02:10:51.274663Z",
     "start_time": "2020-09-20T02:10:51.256738Z"
    },
    "hidden": true
   },
   "outputs": [],
   "source": [
    "def split_combined():\n",
    "    global combined\n",
    "    train = combined[:1460]\n",
    "    test = combined[1460:]\n",
    "\n",
    "    return train , test \n",
    "  \n",
    "train, test = split_combined()"
   ]
  },
  {
   "cell_type": "markdown",
   "metadata": {
    "ExecuteTime": {
     "end_time": "2020-09-20T00:55:15.851761Z",
     "start_time": "2020-09-20T00:55:15.821811Z"
    },
    "hidden": true
   },
   "source": [
    "-----------"
   ]
  },
  {
   "cell_type": "markdown",
   "metadata": {
    "heading_collapsed": true
   },
   "source": [
    "## TEST: DNN.\n",
    "Sequential model, dense layers, relu as activation function for hidden layers, normal initializer as kernel_initializer. Mean absolute error as loss function. Linear as activation function for output"
   ]
  },
  {
   "cell_type": "code",
   "execution_count": null,
   "metadata": {
    "ExecuteTime": {
     "end_time": "2020-09-20T01:47:15.096641Z",
     "start_time": "2020-09-20T01:47:15.080691Z"
    },
    "hidden": true
   },
   "outputs": [],
   "source": [
    "# first, create a normal neural network with 2 inputs, 6 hidden nodes, and 2 outputs\n",
    "from tensorflow.keras.models import Sequential\n",
    "from tensorflow.keras.layers import Dense\n",
    "\n",
    "from tensorflow.keras.utils import to_categorical"
   ]
  },
  {
   "cell_type": "code",
   "execution_count": null,
   "metadata": {
    "ExecuteTime": {
     "end_time": "2020-09-20T01:47:15.774795Z",
     "start_time": "2020-09-20T01:47:15.760802Z"
    },
    "hidden": true
   },
   "outputs": [],
   "source": [
    "from sklearn.preprocessing import StandardScaler\n",
    "\n",
    "# Create a StandardScater model and fit it to the training data\n",
    "X_scaler = StandardScaler().fit(X_train)"
   ]
  },
  {
   "cell_type": "code",
   "execution_count": null,
   "metadata": {
    "ExecuteTime": {
     "end_time": "2020-09-20T01:47:15.961575Z",
     "start_time": "2020-09-20T01:47:15.954571Z"
    },
    "hidden": true
   },
   "outputs": [],
   "source": [
    "# Transform the training and testing data using the X_scaler\n",
    "\n",
    "X_train_scaled = X_scaler.transform(X_train)\n",
    "X_test_scaled = X_scaler.transform(X_test)"
   ]
  },
  {
   "cell_type": "code",
   "execution_count": null,
   "metadata": {
    "ExecuteTime": {
     "end_time": "2020-09-20T01:47:16.133274Z",
     "start_time": "2020-09-20T01:47:16.121318Z"
    },
    "hidden": true
   },
   "outputs": [],
   "source": [
    "# One-hot encoding\n",
    "y_train_categorical = to_categorical(y_train)\n",
    "y_test_categorical = to_categorical(y_test)"
   ]
  },
  {
   "cell_type": "code",
   "execution_count": null,
   "metadata": {
    "ExecuteTime": {
     "end_time": "2020-09-20T01:47:16.322028Z",
     "start_time": "2020-09-20T01:47:16.295136Z"
    },
    "hidden": true
   },
   "outputs": [],
   "source": [
    "# first, create a normal neural network with 2 inputs, 6 hidden nodes, and 2 outputs\n",
    "from tensorflow.keras.models import Sequential\n",
    "from tensorflow.keras.layers import Dense\n",
    "import tensorflow as tf\n",
    "\n",
    "model = Sequential()\n",
    "model.add(Dense(units=6, activation='relu', input_dim=2, name='hidden'))\n",
    "model.add(Dense(units=2, activation='softmax', name='output'))"
   ]
  },
  {
   "cell_type": "code",
   "execution_count": null,
   "metadata": {
    "ExecuteTime": {
     "end_time": "2020-09-20T01:47:16.522875Z",
     "start_time": "2020-09-20T01:47:16.511904Z"
    },
    "hidden": true
   },
   "outputs": [],
   "source": [
    "model.summary()"
   ]
  },
  {
   "cell_type": "code",
   "execution_count": null,
   "metadata": {
    "ExecuteTime": {
     "end_time": "2020-09-20T01:47:19.237242Z",
     "start_time": "2020-09-20T01:47:19.216296Z"
    },
    "hidden": true
   },
   "outputs": [],
   "source": [
    "# Compile the model\n",
    "model.compile(optimizer='adam',\n",
    "              loss='categorical_crossentropy',\n",
    "              metrics=['accuracy'])"
   ]
  },
  {
   "cell_type": "code",
   "execution_count": null,
   "metadata": {
    "ExecuteTime": {
     "end_time": "2020-09-20T01:47:19.531603Z",
     "start_time": "2020-09-20T01:47:19.519635Z"
    },
    "hidden": true
   },
   "outputs": [],
   "source": [
    "config = tf.compat.v1.ConfigProto()\n",
    "config.gpu_options.allow_growth = True\n",
    "session = tf.compat.v1.Session(config=config)"
   ]
  },
  {
   "cell_type": "code",
   "execution_count": null,
   "metadata": {
    "ExecuteTime": {
     "end_time": "2020-09-20T01:47:31.638205Z",
     "start_time": "2020-09-20T01:47:19.976941Z"
    },
    "hidden": true,
    "scrolled": true
   },
   "outputs": [],
   "source": [
    "# Fit the model to the training data\n",
    "model.fit(\n",
    "    X_train_scaled,\n",
    "    y_train_categorical,\n",
    "    validation_data=(X_test_scaled, y_test_categorical),\n",
    "    epochs=60,\n",
    "    shuffle=True,\n",
    "    verbose=2\n",
    ")"
   ]
  },
  {
   "cell_type": "code",
   "execution_count": null,
   "metadata": {
    "hidden": true
   },
   "outputs": [],
   "source": []
  },
  {
   "cell_type": "markdown",
   "metadata": {
    "hidden": true
   },
   "source": [
    "### TEST: Deep Learning"
   ]
  },
  {
   "cell_type": "code",
   "execution_count": null,
   "metadata": {
    "ExecuteTime": {
     "end_time": "2020-09-20T01:50:01.730245Z",
     "start_time": "2020-09-20T01:50:01.700325Z"
    },
    "hidden": true
   },
   "outputs": [],
   "source": [
    "deep_model = Sequential(name='deep_model')\n",
    "deep_model.add(Dense(units=6, activation='relu', input_dim=2, name='hidden'))\n",
    "deep_model.add(Dense(units=6, activation='relu', name='hidden_2'))\n",
    "deep_model.add(Dense(units=2, activation='softmax', name='output'))"
   ]
  },
  {
   "cell_type": "code",
   "execution_count": null,
   "metadata": {
    "ExecuteTime": {
     "end_time": "2020-09-20T01:50:01.947967Z",
     "start_time": "2020-09-20T01:50:01.941983Z"
    },
    "hidden": true
   },
   "outputs": [],
   "source": [
    "deep_model.summary()"
   ]
  },
  {
   "cell_type": "code",
   "execution_count": null,
   "metadata": {
    "ExecuteTime": {
     "end_time": "2020-09-20T01:50:03.424741Z",
     "start_time": "2020-09-20T01:50:03.413739Z"
    },
    "hidden": true
   },
   "outputs": [],
   "source": [
    "# deep_model.compile(optimizer='adam',\n",
    "#                    loss='categorical_crossentropy',\n",
    "#                    metrics=['accuracy'])\n",
    "\n",
    "# deep_model.compile(optimizer='adam',\n",
    "#                    loss='mean_absolute_error',\n",
    "#                    metrics=['mean_absolute_error'])\n",
    "# deep_model.fit(\n",
    "#     X_train_scaled,\n",
    "#     y_train_categorical,\n",
    "#     validation_data=(X_test_scaled, y_test_categorical),\n",
    "#     epochs=100,\n",
    "#     shuffle=True,\n",
    "#     verbose=2\n",
    "# )"
   ]
  },
  {
   "cell_type": "code",
   "execution_count": null,
   "metadata": {
    "ExecuteTime": {
     "end_time": "2020-09-20T01:50:42.531947Z",
     "start_time": "2020-09-20T01:50:22.741762Z"
    },
    "hidden": true,
    "scrolled": true
   },
   "outputs": [],
   "source": [
    "deep_model.compile(optimizer='adam',\n",
    "                   loss='categorical_crossentropy',\n",
    "                   metrics=['accuracy'])\n",
    "deep_model.fit(\n",
    "    X_train_scaled,\n",
    "    y_train_categorical,\n",
    "    validation_data=(X_test_scaled, y_test_categorical),\n",
    "    epochs=100,\n",
    "    shuffle=True,\n",
    "    verbose=2\n",
    ")"
   ]
  },
  {
   "cell_type": "markdown",
   "metadata": {
    "hidden": true
   },
   "source": [
    "### Compare the models below"
   ]
  },
  {
   "cell_type": "code",
   "execution_count": null,
   "metadata": {
    "ExecuteTime": {
     "end_time": "2020-09-20T01:48:24.740507Z",
     "start_time": "2020-09-20T01:48:24.648287Z"
    },
    "hidden": true
   },
   "outputs": [],
   "source": [
    "model_loss, model_accuracy = model.evaluate(\n",
    "    X_test_scaled, y_test_categorical, verbose=2)\n",
    "print(\n",
    "    f\"Normal Neural Network - Loss: {model_loss}, Accuracy: {model_accuracy}\")"
   ]
  },
  {
   "cell_type": "code",
   "execution_count": null,
   "metadata": {
    "ExecuteTime": {
     "end_time": "2020-09-20T01:48:24.881784Z",
     "start_time": "2020-09-20T01:48:24.741487Z"
    },
    "hidden": true
   },
   "outputs": [],
   "source": [
    "model_loss, model_accuracy = deep_model.evaluate(\n",
    "    X_test_scaled, y_test_categorical, verbose=2)\n",
    "print(f\"Deep Neural Network - Loss: {model_loss}, Accuracy: {model_accuracy}\")"
   ]
  },
  {
   "cell_type": "code",
   "execution_count": null,
   "metadata": {
    "ExecuteTime": {
     "end_time": "2020-09-20T02:12:34.334234Z",
     "start_time": "2020-09-20T02:12:34.207491Z"
    },
    "hidden": true
   },
   "outputs": [],
   "source": []
  },
  {
   "cell_type": "markdown",
   "metadata": {
    "hidden": true
   },
   "source": [
    "-----------------"
   ]
  },
  {
   "cell_type": "code",
   "execution_count": null,
   "metadata": {
    "ExecuteTime": {
     "end_time": "2020-09-20T02:14:48.898501Z",
     "start_time": "2020-09-20T02:14:48.894484Z"
    },
    "hidden": true
   },
   "outputs": [],
   "source": [
    "import tensorflow.keras as keras"
   ]
  },
  {
   "cell_type": "code",
   "execution_count": null,
   "metadata": {
    "ExecuteTime": {
     "end_time": "2020-09-20T02:15:13.726325Z",
     "start_time": "2020-09-20T02:15:13.710318Z"
    },
    "hidden": true
   },
   "outputs": [],
   "source": [
    "checkpoint_name = 'Weights-{epoch:03d}--{val_loss:.5f}.hdf5' \n",
    "checkpoint = ModelCheckpoint(checkpoint_name, monitor='val_loss', verbose = 1, save_best_only = True, mode ='auto')\n",
    "callbacks_list = [checkpoint]"
   ]
  },
  {
   "cell_type": "code",
   "execution_count": null,
   "metadata": {
    "ExecuteTime": {
     "end_time": "2020-09-20T02:18:56.123465Z",
     "start_time": "2020-09-20T02:18:56.102530Z"
    },
    "hidden": true
   },
   "outputs": [],
   "source": []
  },
  {
   "cell_type": "code",
   "execution_count": null,
   "metadata": {
    "hidden": true
   },
   "outputs": [],
   "source": []
  },
  {
   "cell_type": "code",
   "execution_count": null,
   "metadata": {
    "hidden": true
   },
   "outputs": [],
   "source": []
  },
  {
   "cell_type": "code",
   "execution_count": null,
   "metadata": {
    "hidden": true
   },
   "outputs": [],
   "source": []
  },
  {
   "cell_type": "code",
   "execution_count": null,
   "metadata": {
    "hidden": true
   },
   "outputs": [],
   "source": []
  },
  {
   "cell_type": "markdown",
   "metadata": {
    "hidden": true
   },
   "source": [
    "--------"
   ]
  },
  {
   "cell_type": "markdown",
   "metadata": {
    "hidden": true
   },
   "source": [
    "### Mean Square Error"
   ]
  },
  {
   "cell_type": "code",
   "execution_count": null,
   "metadata": {
    "ExecuteTime": {
     "end_time": "2020-09-20T02:06:18.905944Z",
     "start_time": "2020-09-20T02:06:18.888963Z"
    },
    "hidden": true
   },
   "outputs": [],
   "source": [
    "# Used X_test_scaled, y_test_scaled, and model.predict(X_test_scaled) to calculate MSE and R2\n",
    "\n",
    "from sklearn.metrics import mean_squared_error\n",
    "\n",
    "MSE = mean_squared_error(y_test_scaled, y_test_prediction)\n",
    "r2 = model.score(X_test_scaled, y_test_scaled)\n",
    "\n",
    "print(f\"MSE: {MSE}, R2: {r2}\")"
   ]
  },
  {
   "cell_type": "code",
   "execution_count": null,
   "metadata": {
    "ExecuteTime": {
     "end_time": "2020-09-20T02:06:19.419698Z",
     "start_time": "2020-09-20T02:06:19.395763Z"
    },
    "hidden": true
   },
   "outputs": [],
   "source": [
    "# LASSO model\n",
    "# Note: Use an alpha of .01 when creating the model for this activity\n",
    "from sklearn.linear_model import Lasso\n",
    "\n",
    "lasso = Lasso(alpha=.01)\n",
    "\n",
    "lasso.fit(X_train_scaled, y_train_scaled)\n",
    "\n",
    "predictions = lasso.predict(X_test_scaled)\n",
    "\n",
    "MSE = mean_squared_error(y_test_scaled, predictions)\n",
    "r2 = lasso.score(X_test_scaled, y_test_scaled)\n",
    "\n",
    "print(f\"MSE: {MSE}, R2: {r2}\")"
   ]
  },
  {
   "cell_type": "code",
   "execution_count": null,
   "metadata": {
    "ExecuteTime": {
     "end_time": "2020-09-20T02:06:19.528953Z",
     "start_time": "2020-09-20T02:06:19.513107Z"
    },
    "hidden": true
   },
   "outputs": [],
   "source": [
    "# Ridge model\n",
    "# Note: Use an alpha of .01 when creating the model for this activity\n",
    "from sklearn.linear_model import Ridge\n",
    "\n",
    "### BEGIN SOLUTION\n",
    "ridge = Ridge(alpha=.01)\n",
    "ridge.fit(X_train_scaled, y_train_scaled)\n",
    "\n",
    "predictions = ridge.predict(X_test_scaled)\n",
    "\n",
    "MSE = mean_squared_error(y_test_scaled, predictions)\n",
    "r2 = ridge.score(X_test_scaled, y_test_scaled)\n",
    "### END SOLUTION\n",
    "\n",
    "print(f\"MSE: {MSE}, R2: {r2}\")"
   ]
  },
  {
   "cell_type": "code",
   "execution_count": null,
   "metadata": {
    "ExecuteTime": {
     "end_time": "2020-09-19T19:30:50.034739Z",
     "start_time": "2020-09-19T19:30:50.025765Z"
    },
    "hidden": true
   },
   "outputs": [],
   "source": [
    "# ElasticNet model\n",
    "# Note: Use an alpha of .01 when creating the model for this activity\n",
    "from sklearn.linear_model import ElasticNet\n",
    "\n",
    "### BEGIN SOLUTION\n",
    "elasticnet = ElasticNet(alpha=.01)\n",
    "elasticnet.fit(X_train_scaled, y_train_scaled)\n",
    "\n",
    "predictions = elasticnet.predict(X_test_scaled)\n",
    "\n",
    "MSE = mean_squared_error(y_test_scaled, predictions)\n",
    "r2 = elasticnet.score(X_test_scaled, y_test_scaled)\n",
    "### END SOLUTION\n",
    "\n",
    "print(f\"MSE: {MSE}, R2: {r2}\")\n"
   ]
  },
  {
   "cell_type": "markdown",
   "metadata": {
    "hidden": true
   },
   "source": [
    "---------------"
   ]
  },
  {
   "cell_type": "markdown",
   "metadata": {
    "heading_collapsed": true
   },
   "source": [
    "## YIL variables"
   ]
  },
  {
   "cell_type": "code",
   "execution_count": null,
   "metadata": {
    "ExecuteTime": {
     "end_time": "2020-09-20T02:06:26.224140Z",
     "start_time": "2020-09-20T02:06:26.202225Z"
    },
    "hidden": true
   },
   "outputs": [],
   "source": [
    "### DF for each year. decending\n",
    "first_year = twenty_years_all_players[twenty_years_all_players['YIL'] == 1]\n",
    "second_year = twenty_years_all_players[twenty_years_all_players['YIL'] == 2]\n",
    "third_year = twenty_years_all_players[twenty_years_all_players['YIL'] == 3]\n",
    "fourth_year = twenty_years_all_players[twenty_years_all_players['YIL'] == 4]\n",
    "fifth_year = twenty_years_all_players[twenty_years_all_players['YIL'] == 5]"
   ]
  },
  {
   "cell_type": "markdown",
   "metadata": {
    "ExecuteTime": {
     "end_time": "2020-09-19T00:17:15.961383Z",
     "start_time": "2020-09-19T00:17:15.930465Z"
    },
    "heading_collapsed": true
   },
   "source": [
    "## Plot YIL to Total Points"
   ]
  },
  {
   "cell_type": "markdown",
   "metadata": {
    "hidden": true
   },
   "source": [
    "First Year Total Points per Position"
   ]
  },
  {
   "cell_type": "code",
   "execution_count": null,
   "metadata": {
    "ExecuteTime": {
     "end_time": "2020-09-19T05:03:47.882702Z",
     "start_time": "2020-09-19T05:03:47.811861Z"
    },
    "hidden": true
   },
   "outputs": [],
   "source": []
  },
  {
   "cell_type": "code",
   "execution_count": null,
   "metadata": {
    "ExecuteTime": {
     "end_time": "2020-09-20T00:56:21.920370Z",
     "start_time": "2020-09-20T00:56:21.715883Z"
    },
    "hidden": true
   },
   "outputs": [],
   "source": [
    "import plotly.express as px\n",
    "\n",
    "fig = px.scatter(twenty_years_all_players, x=\"MIN\", y=\"PTS\", log_x=True, hover_name=\"PLAYER_NAME\", hover_data=[\"PTS\", 'SEASON_ID', 'TEAM_ABBREVIATION'], color=\"YIL\",\n",
    "                 size='PTS', title=\"First Year Total Points per Position\")\n",
    "fig.show()"
   ]
  },
  {
   "cell_type": "markdown",
   "metadata": {
    "hidden": true
   },
   "source": [
    "Second Year Total Points per Position"
   ]
  },
  {
   "cell_type": "code",
   "execution_count": null,
   "metadata": {
    "ExecuteTime": {
     "end_time": "2020-09-20T00:56:30.150076Z",
     "start_time": "2020-09-20T00:56:30.074485Z"
    },
    "hidden": true
   },
   "outputs": [],
   "source": [
    "import plotly.express as px\n",
    "\n",
    "fig = px.scatter(second_year, x=\"PTS\", y=\"POSITION\", log_x=True, hover_name=\"PLAYER_NAME\", hover_data=[\"PTS\"], color=\"PTS\",\n",
    "                 size='PTS', title=\"Second Year Total Points per Position\")\n",
    "fig.show()"
   ]
  },
  {
   "cell_type": "code",
   "execution_count": null,
   "metadata": {
    "ExecuteTime": {
     "end_time": "2020-09-20T00:56:35.385535Z",
     "start_time": "2020-09-20T00:56:35.370574Z"
    },
    "hidden": true
   },
   "outputs": [],
   "source": [
    "test = list(first_year.columns.values)"
   ]
  },
  {
   "cell_type": "code",
   "execution_count": null,
   "metadata": {
    "ExecuteTime": {
     "end_time": "2020-09-20T00:56:35.665638Z",
     "start_time": "2020-09-20T00:56:35.570518Z"
    },
    "hidden": true
   },
   "outputs": [],
   "source": [
    "fig = px.scatter_polar(first_year, r=\"PTS\", theta=\"POSITION\", color=\"PTS\",\n",
    "                    template=\"plotly_dark\", title=\"First Year Total Points per Position\")\n",
    "fig.show()"
   ]
  },
  {
   "cell_type": "code",
   "execution_count": null,
   "metadata": {
    "ExecuteTime": {
     "end_time": "2020-09-20T00:56:35.869794Z",
     "start_time": "2020-09-20T00:56:35.859821Z"
    },
    "hidden": true
   },
   "outputs": [],
   "source": [
    "twenty_years_all_players[['YIL','PTS','STL','BLK','REB','MIN','AST','TOV']].columns"
   ]
  },
  {
   "cell_type": "markdown",
   "metadata": {
    "hidden": true
   },
   "source": [
    "https://plotly.com/python/polar-chart/"
   ]
  },
  {
   "cell_type": "code",
   "execution_count": null,
   "metadata": {
    "ExecuteTime": {
     "end_time": "2020-09-20T00:02:37.169654Z",
     "start_time": "2020-09-20T00:02:37.154696Z"
    },
    "hidden": true
   },
   "outputs": [],
   "source": [
    "# import plotly.express as px\n",
    "# df = px.data.wind()\n",
    "# fig = px.line_polar(twenty_years_all_players, r=\"PTS\", theta=\"POSITION\", color=\"YIL\", line_close=True,\n",
    "#                     color_discrete_sequence=px.colors.sequential.Plasma_r,\n",
    "#                     template=\"plotly_dark\",)\n",
    "# fig.show()"
   ]
  },
  {
   "cell_type": "code",
   "execution_count": null,
   "metadata": {
    "ExecuteTime": {
     "end_time": "2020-09-19T00:40:31.232732Z",
     "start_time": "2020-09-19T00:40:31.220765Z"
    },
    "hidden": true
   },
   "outputs": [],
   "source": [
    "# df = px.data.wind()\n",
    "# df"
   ]
  },
  {
   "cell_type": "code",
   "execution_count": null,
   "metadata": {
    "hidden": true
   },
   "outputs": [],
   "source": []
  },
  {
   "cell_type": "code",
   "execution_count": null,
   "metadata": {
    "hidden": true
   },
   "outputs": [],
   "source": []
  },
  {
   "cell_type": "code",
   "execution_count": null,
   "metadata": {
    "hidden": true
   },
   "outputs": [],
   "source": []
  },
  {
   "cell_type": "code",
   "execution_count": null,
   "metadata": {
    "hidden": true
   },
   "outputs": [],
   "source": []
  }
 ],
 "metadata": {
  "kernelspec": {
   "display_name": "Python 3",
   "language": "python",
   "name": "python3"
  },
  "language_info": {
   "codemirror_mode": {
    "name": "ipython",
    "version": 3
   },
   "file_extension": ".py",
   "mimetype": "text/x-python",
   "name": "python",
   "nbconvert_exporter": "python",
   "pygments_lexer": "ipython3",
   "version": "3.7.1"
  }
 },
 "nbformat": 4,
 "nbformat_minor": 4
}
