{
 "cells": [
  {
   "cell_type": "markdown",
   "metadata": {},
   "source": [
    "## Libraries"
   ]
  },
  {
   "cell_type": "code",
   "execution_count": 1,
   "metadata": {
    "ExecuteTime": {
     "end_time": "2020-09-24T02:41:42.560788Z",
     "start_time": "2020-09-24T02:41:41.519868Z"
    }
   },
   "outputs": [],
   "source": [
    "%matplotlib inline\n",
    "import matplotlib.pyplot as plt\n",
    "import numpy as np\n",
    "import pandas as pd\n",
    "\n",
    "# Dependencies and Setup\n",
    "import time\n",
    "from pprint import pprint\n",
    "import requests\n",
    "from datetime import date, timedelta, datetime\n",
    "import json\n",
    "from pprint import pprint\n",
    "from tqdm import tqdm\n",
    "from tqdm import tqdm_notebook\n",
    "# sqlite Dependencies\n",
    "# ----------------------------------\n",
    "# Imports the method used for connecting to DBs\n",
    "from sqlalchemy import create_engine\n",
    "# Allow us to declare column types\n",
    "from sqlalchemy import Column, Integer, String, Text, DateTime, Float, Boolean, ForeignKey\n",
    "from sqlalchemy.orm import relationship\n",
    "from sqlalchemy.ext.declarative import declarative_base\n",
    "from sqlalchemy.orm import Session\n",
    "import seaborn as sb"
   ]
  },
  {
   "cell_type": "code",
   "execution_count": 2,
   "metadata": {
    "ExecuteTime": {
     "end_time": "2020-09-24T02:41:42.637454Z",
     "start_time": "2020-09-24T02:41:42.561816Z"
    }
   },
   "outputs": [],
   "source": [
    "from nba_api.stats.endpoints import playercareerstats, drafthistory, commonplayerinfo, playerawards"
   ]
  },
  {
   "cell_type": "markdown",
   "metadata": {},
   "source": [
    "-------------"
   ]
  },
  {
   "cell_type": "markdown",
   "metadata": {},
   "source": [
    "## Open combined data from json"
   ]
  },
  {
   "cell_type": "code",
   "execution_count": 3,
   "metadata": {
    "ExecuteTime": {
     "end_time": "2020-09-24T02:41:42.917394Z",
     "start_time": "2020-09-24T02:41:42.638443Z"
    }
   },
   "outputs": [],
   "source": [
    "with open('./clean_combined_data_for_ml.json') as json_file:\n",
    "    data = json.load(json_file)"
   ]
  },
  {
   "cell_type": "code",
   "execution_count": 4,
   "metadata": {
    "ExecuteTime": {
     "end_time": "2020-09-24T02:41:43.367659Z",
     "start_time": "2020-09-24T02:41:42.918362Z"
    }
   },
   "outputs": [],
   "source": [
    "# Default DF. Do not touch.\n",
    "default = pd.read_json(data).copy()"
   ]
  },
  {
   "cell_type": "code",
   "execution_count": 5,
   "metadata": {
    "ExecuteTime": {
     "end_time": "2020-09-24T02:41:43.398600Z",
     "start_time": "2020-09-24T02:41:43.369538Z"
    }
   },
   "outputs": [],
   "source": [
    "#  Player positions\n",
    "all_stars = pd.read_csv('../../datasets/NBA_All_Stars_1996-2018.csv')\n",
    "all_stars = all_stars[['Year','PLAYER','PIE','Selected?']]\n",
    "all_stars = all_stars.rename(columns={'Year':'YEAR','PLAYER':'PLAYER_NAME', 'Selected?':'ALLSTAR'})"
   ]
  },
  {
   "cell_type": "markdown",
   "metadata": {},
   "source": [
    "## Dataframes for all positions "
   ]
  },
  {
   "cell_type": "markdown",
   "metadata": {},
   "source": [
    "#### Key: \n",
    "\n",
    "* GP: Games Played\n",
    "* MIN: Minutes Played\n",
    "* FGM: Field Goals Made\n",
    "* FGA: Field Goals Attempted\n",
    "* FG_PCT: Field Goal Percentage\n",
    "* 3PM: 3 Point Field Goals Made\n",
    "* 3PA: 3 Point Field Goals Attempted\n",
    "* FG3_PCT: 3 Point Field Goals Percentage\n",
    "* FTM: Free Throws Made\n",
    "* FTA: Free Throws Attempted\n",
    "* FT_PCT: Free Throw Percentage\n",
    "* OREB: Offensive Rebounds\n",
    "* DREB: Defensive Rebounds\n",
    "* REB: Rebounds\n",
    "* AST: Assists\n",
    "* TOV: Turnovers\n",
    "* STL: Steals\n",
    "* BLK: Blocks\n",
    "* PF: Personal Fouls\n",
    "* DD2: Double Doubles\n",
    "* TD3: Trible Doubles\n",
    "* PTS: Points\n",
    "* YIL: Year in League\n"
   ]
  },
  {
   "cell_type": "code",
   "execution_count": 6,
   "metadata": {
    "ExecuteTime": {
     "end_time": "2020-09-24T02:41:43.414429Z",
     "start_time": "2020-09-24T02:41:43.399443Z"
    }
   },
   "outputs": [],
   "source": [
    "# With Default dataframe"
   ]
  },
  {
   "cell_type": "code",
   "execution_count": 7,
   "metadata": {
    "ExecuteTime": {
     "end_time": "2020-09-24T02:41:43.476595Z",
     "start_time": "2020-09-24T02:41:43.416421Z"
    }
   },
   "outputs": [
    {
     "data": {
      "text/html": [
       "<div>\n",
       "<style scoped>\n",
       "    .dataframe tbody tr th:only-of-type {\n",
       "        vertical-align: middle;\n",
       "    }\n",
       "\n",
       "    .dataframe tbody tr th {\n",
       "        vertical-align: top;\n",
       "    }\n",
       "\n",
       "    .dataframe thead th {\n",
       "        text-align: right;\n",
       "    }\n",
       "</style>\n",
       "<table border=\"1\" class=\"dataframe\">\n",
       "  <thead>\n",
       "    <tr style=\"text-align: right;\">\n",
       "      <th></th>\n",
       "      <th>PLAYER_ID</th>\n",
       "      <th>POSITION</th>\n",
       "      <th>PLAYER_NAME</th>\n",
       "      <th>SEASON_ID</th>\n",
       "      <th>INFLATION</th>\n",
       "      <th>YEAR</th>\n",
       "      <th>YIL</th>\n",
       "      <th>PLAYER_AGE</th>\n",
       "      <th>GP</th>\n",
       "      <th>GS</th>\n",
       "      <th>FGM</th>\n",
       "      <th>FGA</th>\n",
       "      <th>FG_PCT</th>\n",
       "      <th>FG3M</th>\n",
       "      <th>FG3A</th>\n",
       "      <th>FG3_PCT</th>\n",
       "      <th>FTM</th>\n",
       "      <th>FTA</th>\n",
       "      <th>FT_PCT</th>\n",
       "      <th>OREB</th>\n",
       "      <th>DREB</th>\n",
       "      <th>REB</th>\n",
       "      <th>AST</th>\n",
       "      <th>STL</th>\n",
       "      <th>BLK</th>\n",
       "      <th>TOV</th>\n",
       "      <th>PF</th>\n",
       "      <th>PTS</th>\n",
       "      <th>MIN</th>\n",
       "    </tr>\n",
       "  </thead>\n",
       "  <tbody>\n",
       "    <tr>\n",
       "      <th>0</th>\n",
       "      <td>1628407</td>\n",
       "      <td>SG</td>\n",
       "      <td>Dwayne Bacon</td>\n",
       "      <td>2019-20</td>\n",
       "      <td>1618520</td>\n",
       "      <td>2020</td>\n",
       "      <td>3</td>\n",
       "      <td>24</td>\n",
       "      <td>39</td>\n",
       "      <td>11</td>\n",
       "      <td>85</td>\n",
       "      <td>244</td>\n",
       "      <td>0.348</td>\n",
       "      <td>19</td>\n",
       "      <td>67</td>\n",
       "      <td>0.284</td>\n",
       "      <td>35</td>\n",
       "      <td>53</td>\n",
       "      <td>0.660</td>\n",
       "      <td>15</td>\n",
       "      <td>85</td>\n",
       "      <td>100</td>\n",
       "      <td>52</td>\n",
       "      <td>23</td>\n",
       "      <td>2</td>\n",
       "      <td>37</td>\n",
       "      <td>52</td>\n",
       "      <td>224</td>\n",
       "      <td>687</td>\n",
       "    </tr>\n",
       "    <tr>\n",
       "      <th>1</th>\n",
       "      <td>1627756</td>\n",
       "      <td>SG</td>\n",
       "      <td>Denzel Valentine</td>\n",
       "      <td>2019-20</td>\n",
       "      <td>2280600</td>\n",
       "      <td>2018</td>\n",
       "      <td>3</td>\n",
       "      <td>26</td>\n",
       "      <td>36</td>\n",
       "      <td>5</td>\n",
       "      <td>97</td>\n",
       "      <td>237</td>\n",
       "      <td>0.409</td>\n",
       "      <td>46</td>\n",
       "      <td>137</td>\n",
       "      <td>0.336</td>\n",
       "      <td>6</td>\n",
       "      <td>8</td>\n",
       "      <td>0.750</td>\n",
       "      <td>9</td>\n",
       "      <td>65</td>\n",
       "      <td>74</td>\n",
       "      <td>43</td>\n",
       "      <td>26</td>\n",
       "      <td>6</td>\n",
       "      <td>26</td>\n",
       "      <td>51</td>\n",
       "      <td>246</td>\n",
       "      <td>488</td>\n",
       "    </tr>\n",
       "    <tr>\n",
       "      <th>2</th>\n",
       "      <td>1629130</td>\n",
       "      <td>SG</td>\n",
       "      <td>Duncan Robinson</td>\n",
       "      <td>2019-20</td>\n",
       "      <td>1416852</td>\n",
       "      <td>2020</td>\n",
       "      <td>2</td>\n",
       "      <td>26</td>\n",
       "      <td>73</td>\n",
       "      <td>68</td>\n",
       "      <td>323</td>\n",
       "      <td>687</td>\n",
       "      <td>0.470</td>\n",
       "      <td>270</td>\n",
       "      <td>606</td>\n",
       "      <td>0.446</td>\n",
       "      <td>67</td>\n",
       "      <td>72</td>\n",
       "      <td>0.931</td>\n",
       "      <td>10</td>\n",
       "      <td>222</td>\n",
       "      <td>232</td>\n",
       "      <td>102</td>\n",
       "      <td>35</td>\n",
       "      <td>19</td>\n",
       "      <td>70</td>\n",
       "      <td>193</td>\n",
       "      <td>983</td>\n",
       "      <td>2166</td>\n",
       "    </tr>\n",
       "    <tr>\n",
       "      <th>3</th>\n",
       "      <td>1629010</td>\n",
       "      <td>SG</td>\n",
       "      <td>Jerome Robinson</td>\n",
       "      <td>2019-20</td>\n",
       "      <td>3567720</td>\n",
       "      <td>2020</td>\n",
       "      <td>2</td>\n",
       "      <td>23</td>\n",
       "      <td>63</td>\n",
       "      <td>6</td>\n",
       "      <td>115</td>\n",
       "      <td>310</td>\n",
       "      <td>0.371</td>\n",
       "      <td>49</td>\n",
       "      <td>153</td>\n",
       "      <td>0.320</td>\n",
       "      <td>40</td>\n",
       "      <td>57</td>\n",
       "      <td>0.702</td>\n",
       "      <td>13</td>\n",
       "      <td>116</td>\n",
       "      <td>129</td>\n",
       "      <td>87</td>\n",
       "      <td>28</td>\n",
       "      <td>17</td>\n",
       "      <td>49</td>\n",
       "      <td>112</td>\n",
       "      <td>319</td>\n",
       "      <td>979</td>\n",
       "    </tr>\n",
       "    <tr>\n",
       "      <th>4</th>\n",
       "      <td>1629010</td>\n",
       "      <td>SG</td>\n",
       "      <td>Jerome Robinson</td>\n",
       "      <td>2019-20</td>\n",
       "      <td>3567720</td>\n",
       "      <td>2020</td>\n",
       "      <td>2</td>\n",
       "      <td>23</td>\n",
       "      <td>42</td>\n",
       "      <td>1</td>\n",
       "      <td>46</td>\n",
       "      <td>136</td>\n",
       "      <td>0.338</td>\n",
       "      <td>19</td>\n",
       "      <td>67</td>\n",
       "      <td>0.284</td>\n",
       "      <td>11</td>\n",
       "      <td>19</td>\n",
       "      <td>0.579</td>\n",
       "      <td>5</td>\n",
       "      <td>55</td>\n",
       "      <td>60</td>\n",
       "      <td>46</td>\n",
       "      <td>13</td>\n",
       "      <td>8</td>\n",
       "      <td>26</td>\n",
       "      <td>55</td>\n",
       "      <td>122</td>\n",
       "      <td>476</td>\n",
       "    </tr>\n",
       "    <tr>\n",
       "      <th>...</th>\n",
       "      <td>...</td>\n",
       "      <td>...</td>\n",
       "      <td>...</td>\n",
       "      <td>...</td>\n",
       "      <td>...</td>\n",
       "      <td>...</td>\n",
       "      <td>...</td>\n",
       "      <td>...</td>\n",
       "      <td>...</td>\n",
       "      <td>...</td>\n",
       "      <td>...</td>\n",
       "      <td>...</td>\n",
       "      <td>...</td>\n",
       "      <td>...</td>\n",
       "      <td>...</td>\n",
       "      <td>...</td>\n",
       "      <td>...</td>\n",
       "      <td>...</td>\n",
       "      <td>...</td>\n",
       "      <td>...</td>\n",
       "      <td>...</td>\n",
       "      <td>...</td>\n",
       "      <td>...</td>\n",
       "      <td>...</td>\n",
       "      <td>...</td>\n",
       "      <td>...</td>\n",
       "      <td>...</td>\n",
       "      <td>...</td>\n",
       "      <td>...</td>\n",
       "    </tr>\n",
       "    <tr>\n",
       "      <th>671</th>\n",
       "      <td>2042</td>\n",
       "      <td>SG</td>\n",
       "      <td>Courtney Alexander</td>\n",
       "      <td>2000-01</td>\n",
       "      <td>2079821</td>\n",
       "      <td>2003</td>\n",
       "      <td>1</td>\n",
       "      <td>24</td>\n",
       "      <td>65</td>\n",
       "      <td>24</td>\n",
       "      <td>239</td>\n",
       "      <td>573</td>\n",
       "      <td>0.417</td>\n",
       "      <td>17</td>\n",
       "      <td>46</td>\n",
       "      <td>0.370</td>\n",
       "      <td>123</td>\n",
       "      <td>150</td>\n",
       "      <td>0.820</td>\n",
       "      <td>42</td>\n",
       "      <td>101</td>\n",
       "      <td>143</td>\n",
       "      <td>62</td>\n",
       "      <td>45</td>\n",
       "      <td>5</td>\n",
       "      <td>75</td>\n",
       "      <td>139</td>\n",
       "      <td>618</td>\n",
       "      <td>472</td>\n",
       "    </tr>\n",
       "    <tr>\n",
       "      <th>672</th>\n",
       "      <td>2067</td>\n",
       "      <td>SG</td>\n",
       "      <td>Eddie House</td>\n",
       "      <td>2000-01</td>\n",
       "      <td>1749443</td>\n",
       "      <td>2008</td>\n",
       "      <td>1</td>\n",
       "      <td>23</td>\n",
       "      <td>50</td>\n",
       "      <td>0</td>\n",
       "      <td>104</td>\n",
       "      <td>247</td>\n",
       "      <td>0.421</td>\n",
       "      <td>19</td>\n",
       "      <td>55</td>\n",
       "      <td>0.345</td>\n",
       "      <td>24</td>\n",
       "      <td>35</td>\n",
       "      <td>0.686</td>\n",
       "      <td>5</td>\n",
       "      <td>37</td>\n",
       "      <td>42</td>\n",
       "      <td>52</td>\n",
       "      <td>13</td>\n",
       "      <td>0</td>\n",
       "      <td>35</td>\n",
       "      <td>58</td>\n",
       "      <td>251</td>\n",
       "      <td>550</td>\n",
       "    </tr>\n",
       "    <tr>\n",
       "      <th>673</th>\n",
       "      <td>1559</td>\n",
       "      <td>SG</td>\n",
       "      <td>Adrian Griffin</td>\n",
       "      <td>2000-01</td>\n",
       "      <td>706105</td>\n",
       "      <td>2001</td>\n",
       "      <td>2</td>\n",
       "      <td>26</td>\n",
       "      <td>44</td>\n",
       "      <td>0</td>\n",
       "      <td>33</td>\n",
       "      <td>97</td>\n",
       "      <td>0.340</td>\n",
       "      <td>9</td>\n",
       "      <td>26</td>\n",
       "      <td>0.346</td>\n",
       "      <td>18</td>\n",
       "      <td>24</td>\n",
       "      <td>0.750</td>\n",
       "      <td>27</td>\n",
       "      <td>60</td>\n",
       "      <td>87</td>\n",
       "      <td>27</td>\n",
       "      <td>18</td>\n",
       "      <td>5</td>\n",
       "      <td>18</td>\n",
       "      <td>45</td>\n",
       "      <td>93</td>\n",
       "      <td>376</td>\n",
       "    </tr>\n",
       "    <tr>\n",
       "      <th>674</th>\n",
       "      <td>1761</td>\n",
       "      <td>SG</td>\n",
       "      <td>Greg Buckner</td>\n",
       "      <td>2000-01</td>\n",
       "      <td>1559670</td>\n",
       "      <td>2001</td>\n",
       "      <td>2</td>\n",
       "      <td>24</td>\n",
       "      <td>37</td>\n",
       "      <td>9</td>\n",
       "      <td>84</td>\n",
       "      <td>192</td>\n",
       "      <td>0.438</td>\n",
       "      <td>2</td>\n",
       "      <td>7</td>\n",
       "      <td>0.286</td>\n",
       "      <td>59</td>\n",
       "      <td>81</td>\n",
       "      <td>0.728</td>\n",
       "      <td>60</td>\n",
       "      <td>97</td>\n",
       "      <td>157</td>\n",
       "      <td>49</td>\n",
       "      <td>33</td>\n",
       "      <td>9</td>\n",
       "      <td>27</td>\n",
       "      <td>118</td>\n",
       "      <td>229</td>\n",
       "      <td>820</td>\n",
       "    </tr>\n",
       "    <tr>\n",
       "      <th>675</th>\n",
       "      <td>1749</td>\n",
       "      <td>SG</td>\n",
       "      <td>Cuttino Mobley</td>\n",
       "      <td>2000-01</td>\n",
       "      <td>10240158</td>\n",
       "      <td>2013</td>\n",
       "      <td>3</td>\n",
       "      <td>25</td>\n",
       "      <td>79</td>\n",
       "      <td>49</td>\n",
       "      <td>527</td>\n",
       "      <td>1214</td>\n",
       "      <td>0.434</td>\n",
       "      <td>90</td>\n",
       "      <td>252</td>\n",
       "      <td>0.357</td>\n",
       "      <td>394</td>\n",
       "      <td>474</td>\n",
       "      <td>0.831</td>\n",
       "      <td>83</td>\n",
       "      <td>314</td>\n",
       "      <td>397</td>\n",
       "      <td>195</td>\n",
       "      <td>84</td>\n",
       "      <td>26</td>\n",
       "      <td>165</td>\n",
       "      <td>169</td>\n",
       "      <td>1538</td>\n",
       "      <td>3006</td>\n",
       "    </tr>\n",
       "  </tbody>\n",
       "</table>\n",
       "<p>676 rows × 29 columns</p>\n",
       "</div>"
      ],
      "text/plain": [
       "     PLAYER_ID POSITION         PLAYER_NAME SEASON_ID  INFLATION  YEAR  YIL  \\\n",
       "0      1628407       SG        Dwayne Bacon   2019-20    1618520  2020    3   \n",
       "1      1627756       SG    Denzel Valentine   2019-20    2280600  2018    3   \n",
       "2      1629130       SG     Duncan Robinson   2019-20    1416852  2020    2   \n",
       "3      1629010       SG     Jerome Robinson   2019-20    3567720  2020    2   \n",
       "4      1629010       SG     Jerome Robinson   2019-20    3567720  2020    2   \n",
       "..         ...      ...                 ...       ...        ...   ...  ...   \n",
       "671       2042       SG  Courtney Alexander   2000-01    2079821  2003    1   \n",
       "672       2067       SG         Eddie House   2000-01    1749443  2008    1   \n",
       "673       1559       SG      Adrian Griffin   2000-01     706105  2001    2   \n",
       "674       1761       SG        Greg Buckner   2000-01    1559670  2001    2   \n",
       "675       1749       SG      Cuttino Mobley   2000-01   10240158  2013    3   \n",
       "\n",
       "     PLAYER_AGE  GP  GS  FGM   FGA  FG_PCT  FG3M  FG3A  FG3_PCT  FTM  FTA  \\\n",
       "0            24  39  11   85   244   0.348    19    67    0.284   35   53   \n",
       "1            26  36   5   97   237   0.409    46   137    0.336    6    8   \n",
       "2            26  73  68  323   687   0.470   270   606    0.446   67   72   \n",
       "3            23  63   6  115   310   0.371    49   153    0.320   40   57   \n",
       "4            23  42   1   46   136   0.338    19    67    0.284   11   19   \n",
       "..          ...  ..  ..  ...   ...     ...   ...   ...      ...  ...  ...   \n",
       "671          24  65  24  239   573   0.417    17    46    0.370  123  150   \n",
       "672          23  50   0  104   247   0.421    19    55    0.345   24   35   \n",
       "673          26  44   0   33    97   0.340     9    26    0.346   18   24   \n",
       "674          24  37   9   84   192   0.438     2     7    0.286   59   81   \n",
       "675          25  79  49  527  1214   0.434    90   252    0.357  394  474   \n",
       "\n",
       "     FT_PCT  OREB  DREB  REB  AST  STL  BLK  TOV   PF   PTS   MIN  \n",
       "0     0.660    15    85  100   52   23    2   37   52   224   687  \n",
       "1     0.750     9    65   74   43   26    6   26   51   246   488  \n",
       "2     0.931    10   222  232  102   35   19   70  193   983  2166  \n",
       "3     0.702    13   116  129   87   28   17   49  112   319   979  \n",
       "4     0.579     5    55   60   46   13    8   26   55   122   476  \n",
       "..      ...   ...   ...  ...  ...  ...  ...  ...  ...   ...   ...  \n",
       "671   0.820    42   101  143   62   45    5   75  139   618   472  \n",
       "672   0.686     5    37   42   52   13    0   35   58   251   550  \n",
       "673   0.750    27    60   87   27   18    5   18   45    93   376  \n",
       "674   0.728    60    97  157   49   33    9   27  118   229   820  \n",
       "675   0.831    83   314  397  195   84   26  165  169  1538  3006  \n",
       "\n",
       "[676 rows x 29 columns]"
      ]
     },
     "execution_count": 7,
     "metadata": {},
     "output_type": "execute_result"
    }
   ],
   "source": [
    "# default\n",
    "# default = default[default['GP'] > 40]\n",
    "# SG\n",
    "default = default[(default['POSITION'] == 'SG') & (default['GP'] > 28)]\n",
    "\n",
    "\n",
    "default = default[[ 'PLAYER_ID', 'POSITION', 'PLAYER_NAME', 'SEASON_ID','INFLATION','YEAR','YIL', 'PLAYER_AGE', 'GP', 'GS',\n",
    "         'FGM', 'FGA', 'FG_PCT', 'FG3M', 'FG3A', 'FG3_PCT', 'FTM', 'FTA',\n",
    "       'FT_PCT', 'OREB', 'DREB', 'REB', 'AST', 'STL', 'BLK', 'TOV', 'PF',\n",
    "       'PTS', 'MIN']].sort_values(by='SEASON_ID', ascending=False)\n",
    "default = default.drop_duplicates(subset=['SEASON_ID','PLAYER_AGE','GP','GS','MIN'], keep='first').reset_index(drop=True)\n",
    "pd.set_option('display.max_columns', None)\n",
    "default = default.copy()\n",
    "default"
   ]
  },
  {
   "cell_type": "code",
   "execution_count": 8,
   "metadata": {
    "ExecuteTime": {
     "end_time": "2020-09-24T02:41:43.492552Z",
     "start_time": "2020-09-24T02:41:43.478590Z"
    }
   },
   "outputs": [],
   "source": [
    "# # SG\n",
    "# sg = default[(default['POSITION'] == 'SG') & (default['GP'] > 40)]\n",
    "# # sg = sg.drop(columns=['POSITION'])\n",
    "# sg = sg[[ 'PLAYER_ID', 'PLAYER_NAME', 'SEASON_ID','INFLATION', 'PLAYER_AGE','YEAR','YIL', 'GP', 'GS',\n",
    "#          'FGM', 'FGA', 'FG_PCT', 'FG3M', 'FG3A', 'FG3_PCT', 'FTM', 'FTA',\n",
    "#        'FT_PCT', 'OREB', 'DREB', 'REB', 'AST', 'STL', 'BLK', 'TOV', 'PF',\n",
    "#        'PTS', 'MIN']].sort_values(by='SEASON_ID', ascending=False)\n",
    "# sg = sg.drop_duplicates(subset=['SEASON_ID','PLAYER_AGE','GP','GS','MIN'], keep='first').reset_index(drop=True)\n",
    "# pd.set_option('display.max_columns', None)\n",
    "# sg.copy()"
   ]
  },
  {
   "cell_type": "markdown",
   "metadata": {},
   "source": [
    "------------"
   ]
  },
  {
   "cell_type": "code",
   "execution_count": 9,
   "metadata": {
    "ExecuteTime": {
     "end_time": "2020-09-24T02:41:43.508593Z",
     "start_time": "2020-09-24T02:41:43.494547Z"
    }
   },
   "outputs": [],
   "source": [
    "# dataset = position name\n",
    "dataset = default\n",
    "\n",
    "## Multiple Linear Regressions\n",
    "X = dataset.iloc[:, 8:-1].values\n",
    "y = dataset.iloc[:, -1].values"
   ]
  },
  {
   "cell_type": "code",
   "execution_count": 10,
   "metadata": {
    "ExecuteTime": {
     "end_time": "2020-09-24T02:41:43.523559Z",
     "start_time": "2020-09-24T02:41:43.509605Z"
    }
   },
   "outputs": [
    {
     "data": {
      "text/plain": [
       "array([[  39.,   11.,   85., ...,   37.,   52.,  224.],\n",
       "       [  36.,    5.,   97., ...,   26.,   51.,  246.],\n",
       "       [  73.,   68.,  323., ...,   70.,  193.,  983.],\n",
       "       ...,\n",
       "       [  44.,    0.,   33., ...,   18.,   45.,   93.],\n",
       "       [  37.,    9.,   84., ...,   27.,  118.,  229.],\n",
       "       [  79.,   49.,  527., ...,  165.,  169., 1538.]])"
      ]
     },
     "execution_count": 10,
     "metadata": {},
     "output_type": "execute_result"
    }
   ],
   "source": [
    "X"
   ]
  },
  {
   "cell_type": "code",
   "execution_count": 11,
   "metadata": {
    "ExecuteTime": {
     "end_time": "2020-09-24T02:41:43.897591Z",
     "start_time": "2020-09-24T02:41:43.525555Z"
    }
   },
   "outputs": [],
   "source": [
    "## Splitting the dataset into the Training set and Test set\n",
    "from sklearn.model_selection import train_test_split\n",
    "X_train, X_test,y_train, y_test = train_test_split(X, y, test_size = 0.3, random_state = 0)"
   ]
  },
  {
   "cell_type": "code",
   "execution_count": 12,
   "metadata": {
    "ExecuteTime": {
     "end_time": "2020-09-24T02:41:43.942756Z",
     "start_time": "2020-09-24T02:41:43.898771Z"
    }
   },
   "outputs": [
    {
     "data": {
      "text/plain": [
       "LinearRegression()"
      ]
     },
     "execution_count": 12,
     "metadata": {},
     "output_type": "execute_result"
    }
   ],
   "source": [
    "## Training the Multiple Linear Regression model on the Training set\n",
    "from sklearn.linear_model import LinearRegression\n",
    "regressor = LinearRegression()\n",
    "regressor.fit(X_train, y_train)"
   ]
  },
  {
   "cell_type": "code",
   "execution_count": 13,
   "metadata": {
    "ExecuteTime": {
     "end_time": "2020-09-24T02:41:43.958857Z",
     "start_time": "2020-09-24T02:41:43.943731Z"
    }
   },
   "outputs": [
    {
     "name": "stdout",
     "output_type": "stream",
     "text": [
      "[[1839.3  1858.  ]\n",
      " [2134.03 1962.  ]\n",
      " [2129.5  2189.  ]\n",
      " [1677.28 1708.  ]\n",
      " [1777.71 1454.  ]\n",
      " [ 528.67  710.  ]\n",
      " [ 867.27  884.  ]\n",
      " [ 568.94  440.  ]\n",
      " [1257.64 1173.  ]\n",
      " [ 304.48  285.  ]\n",
      " [1177.31 1301.  ]\n",
      " [1860.71 2269.  ]\n",
      " [ 949.83 1107.  ]\n",
      " [1230.21 1053.  ]\n",
      " [1715.78 1993.  ]\n",
      " [ 516.93  427.  ]\n",
      " [1563.36 1522.  ]\n",
      " [ 457.53  400.  ]\n",
      " [1383.05 1372.  ]\n",
      " [ 893.6   726.  ]\n",
      " [1974.57 1947.  ]\n",
      " [1786.39 1583.  ]\n",
      " [3259.92 3129.  ]\n",
      " [1119.06 1157.  ]\n",
      " [ 344.91  368.  ]\n",
      " [2017.3  1990.  ]\n",
      " [ 502.87  578.  ]\n",
      " [ 936.49  805.  ]\n",
      " [ 553.75  472.  ]\n",
      " [3138.02 2552.  ]\n",
      " [1622.69 1478.  ]\n",
      " [1013.25 1050.  ]\n",
      " [ 538.76  535.  ]\n",
      " [1497.44 1550.  ]\n",
      " [1917.73 2004.  ]\n",
      " [1517.62  472.  ]\n",
      " [2568.94 2634.  ]\n",
      " [1154.67 1037.  ]\n",
      " [1075.2   876.  ]\n",
      " [2367.15 2316.  ]\n",
      " [ 509.11  527.  ]\n",
      " [ 843.35  813.  ]\n",
      " [2837.3  2848.  ]\n",
      " [ 698.13  797.  ]\n",
      " [2023.38 1992.  ]\n",
      " [ 269.95  338.  ]\n",
      " [1167.33 1199.  ]\n",
      " [1579.04 1723.  ]\n",
      " [ 827.69  679.  ]\n",
      " [ 737.48  870.  ]\n",
      " [2726.61 2792.  ]\n",
      " [ 366.64  392.  ]\n",
      " [2551.33 2789.  ]\n",
      " [ 929.8   882.  ]\n",
      " [ 829.32  973.  ]\n",
      " [ 303.51  268.  ]\n",
      " [1839.62 1879.  ]\n",
      " [ 677.21  583.  ]\n",
      " [1812.6  1966.  ]\n",
      " [2317.84 2305.  ]\n",
      " [1385.96 1506.  ]\n",
      " [1498.07 1732.  ]\n",
      " [ 950.46 1050.  ]\n",
      " [1199.31 1384.  ]\n",
      " [2190.62 2164.  ]\n",
      " [   3.85  204.  ]\n",
      " [1104.65 1162.  ]\n",
      " [1994.52 2015.  ]\n",
      " [3409.97 2898.  ]\n",
      " [2148.05 2108.  ]\n",
      " [1182.8  1259.  ]\n",
      " [ 420.66  416.  ]\n",
      " [ 559.6   277.  ]\n",
      " [1701.49 1894.  ]\n",
      " [ 769.57 1064.  ]\n",
      " [1011.41  905.  ]\n",
      " [ 671.08  789.  ]\n",
      " [1436.64 1506.  ]\n",
      " [2312.41 2563.  ]\n",
      " [ 815.06  767.  ]\n",
      " [ 630.97  622.  ]\n",
      " [2321.04 2389.  ]\n",
      " [ 628.51  468.  ]\n",
      " [1467.63 1559.  ]\n",
      " [  52.95  154.  ]\n",
      " [2150.49 2200.  ]\n",
      " [ 638.83  591.  ]\n",
      " [ 613.33  269.  ]\n",
      " [1931.02 2033.  ]\n",
      " [2402.27 2578.  ]\n",
      " [ 256.15  239.  ]\n",
      " [3046.57 3131.  ]\n",
      " [2692.51 2364.  ]\n",
      " [2183.48 2196.  ]\n",
      " [ 732.56  650.  ]\n",
      " [1395.37 1279.  ]\n",
      " [1010.02  857.  ]\n",
      " [ 268.96  299.  ]\n",
      " [1446.01 1143.  ]\n",
      " [1194.38  935.  ]\n",
      " [2280.51 1958.  ]\n",
      " [2071.93 2107.  ]\n",
      " [1164.56 1274.  ]\n",
      " [ 404.21  402.  ]\n",
      " [ 815.32  820.  ]\n",
      " [1200.34 1422.  ]\n",
      " [2994.84 2955.  ]\n",
      " [1923.12 1928.  ]\n",
      " [1227.   1062.  ]\n",
      " [3461.91 2976.  ]\n",
      " [ 806.21  877.  ]\n",
      " [1960.22 1878.  ]\n",
      " [2029.19 2177.  ]\n",
      " [2345.33 2522.  ]\n",
      " [2782.62 2704.  ]\n",
      " [1103.22 1276.  ]\n",
      " [2260.32 2234.  ]\n",
      " [3027.36 2839.  ]\n",
      " [ 438.97  317.  ]\n",
      " [ 611.64  488.  ]\n",
      " [1362.35 1449.  ]\n",
      " [ 247.03  322.  ]\n",
      " [2751.68 2725.  ]\n",
      " [3607.44 3375.  ]\n",
      " [2852.57 2999.  ]\n",
      " [1026.86  969.  ]\n",
      " [1941.86 1888.  ]\n",
      " [ 775.8   915.  ]\n",
      " [1648.79 1520.  ]\n",
      " [ 761.47  665.  ]\n",
      " [1989.15 2037.  ]\n",
      " [1586.44 1730.  ]\n",
      " [1953.49 1931.  ]\n",
      " [2265.03 2223.  ]\n",
      " [ 472.85  376.  ]\n",
      " [ 587.86  477.  ]\n",
      " [1570.53 1791.  ]\n",
      " [1863.51 1879.  ]\n",
      " [1647.35 1765.  ]\n",
      " [ 318.7   395.  ]\n",
      " [1566.79 1368.  ]\n",
      " [ 737.44  713.  ]\n",
      " [1080.33 1177.  ]\n",
      " [ 590.    636.  ]\n",
      " [2313.3  2807.  ]\n",
      " [3135.78 2859.  ]\n",
      " [2406.63 2461.  ]\n",
      " [2167.35 2133.  ]\n",
      " [ 736.6   836.  ]\n",
      " [1214.19 1237.  ]\n",
      " [1275.25 1237.  ]\n",
      " [ 276.14  241.  ]\n",
      " [1880.71 1912.  ]\n",
      " [1451.86 1286.  ]\n",
      " [ 566.69  603.  ]\n",
      " [2008.95 1888.  ]\n",
      " [1150.1  1039.  ]\n",
      " [1183.55 1175.  ]\n",
      " [2285.52 2439.  ]\n",
      " [ 637.8   619.  ]\n",
      " [1364.13 1227.  ]\n",
      " [ 580.54  585.  ]\n",
      " [2988.02 2448.  ]\n",
      " [3087.82 2598.  ]\n",
      " [ 478.1   554.  ]\n",
      " [1329.64 1437.  ]\n",
      " [1365.15 1265.  ]\n",
      " [ 300.68  342.  ]\n",
      " [1018.81 1145.  ]\n",
      " [1191.62 1143.  ]\n",
      " [1842.27 1913.  ]\n",
      " [2908.81 2640.  ]\n",
      " [2735.75 2512.  ]\n",
      " [2225.91 2259.  ]\n",
      " [1429.54 1510.  ]\n",
      " [ 526.41  484.  ]\n",
      " [ 601.47  399.  ]\n",
      " [ 869.16  908.  ]\n",
      " [1604.54 1671.  ]\n",
      " [2921.56 2818.  ]\n",
      " [ 605.21  505.  ]\n",
      " [ 216.82  245.  ]\n",
      " [2578.39 2397.  ]\n",
      " [ 827.17  872.  ]\n",
      " [1049.65  862.  ]\n",
      " [2950.44 2903.  ]\n",
      " [1638.03 1639.  ]\n",
      " [2262.45 2337.  ]\n",
      " [1741.45 1705.  ]\n",
      " [1945.51 2052.  ]\n",
      " [ 515.05  397.  ]\n",
      " [2595.58 2628.  ]\n",
      " [1970.48 1811.  ]\n",
      " [1499.87 1530.  ]\n",
      " [ 448.44  397.  ]\n",
      " [2958.77 2615.  ]\n",
      " [2058.08 1962.  ]\n",
      " [1818.44 1738.  ]\n",
      " [ 297.86  421.  ]\n",
      " [1611.36 1833.  ]\n",
      " [2629.95 2848.  ]\n",
      " [1654.7  1745.  ]\n",
      " [ 513.08  603.  ]]\n"
     ]
    }
   ],
   "source": [
    "## Predicting the Test set results\n",
    "y_pred = regressor.predict(X_test)\n",
    "np.set_printoptions(precision=2)\n",
    "print(np.concatenate((y_pred.reshape(len(y_pred),1), y_test.reshape(len(y_test),1)),1))"
   ]
  },
  {
   "cell_type": "markdown",
   "metadata": {
    "ExecuteTime": {
     "end_time": "2020-09-22T04:55:40.551665Z",
     "start_time": "2020-09-22T04:55:40.543663Z"
    }
   },
   "source": [
    "Multiple linear aggression is well adapted to the dataset. "
   ]
  },
  {
   "cell_type": "code",
   "execution_count": 14,
   "metadata": {
    "ExecuteTime": {
     "end_time": "2020-09-24T02:41:43.974824Z",
     "start_time": "2020-09-24T02:41:43.959831Z"
    }
   },
   "outputs": [
    {
     "data": {
      "text/plain": [
       "0.9546529028820148"
      ]
     },
     "execution_count": 14,
     "metadata": {},
     "output_type": "execute_result"
    }
   ],
   "source": [
    "## R-Square Coefficient \n",
    "from sklearn.metrics import r2_score\n",
    "r2_score(y_test, y_pred)"
   ]
  },
  {
   "cell_type": "markdown",
   "metadata": {},
   "source": [
    "SG: ~ 96%"
   ]
  },
  {
   "cell_type": "markdown",
   "metadata": {
    "ExecuteTime": {
     "end_time": "2020-09-23T09:12:57.373930Z",
     "start_time": "2020-09-23T09:12:57.365947Z"
    }
   },
   "source": [
    "## Input 21 col of values (X) to get minutes played.   \n",
    "Each value has been passed through regressor to predict how much minutes have been played. Afterwards, we will use predicted minutes played to salary with linear regression. "
   ]
  },
  {
   "cell_type": "markdown",
   "metadata": {
    "ExecuteTime": {
     "end_time": "2020-09-23T09:20:43.234846Z",
     "start_time": "2020-09-23T09:20:43.229892Z"
    }
   },
   "source": [
    "example of x passing = [5,26,64,2,120,291,0.412,40,120,0.333,69,94,0.734,17,106,123,124,70,18,53,98,349]"
   ]
  },
  {
   "cell_type": "code",
   "execution_count": 15,
   "metadata": {
    "ExecuteTime": {
     "end_time": "2020-09-24T02:41:43.989955Z",
     "start_time": "2020-09-24T02:41:43.975810Z"
    },
    "scrolled": true
   },
   "outputs": [
    {
     "data": {
      "text/plain": [
       "('Predicted Stock Index Price: ',\n",
       " array([ 622.73,  611.64, 2208.7 , 1026.48,  418.65, 1517.62,  526.41,\n",
       "        1260.12,  936.49,  455.43, 1164.56,  253.8 , 1183.55, 1163.09,\n",
       "         568.94, 2735.75,  666.32, 2692.51,  815.06,  505.34,  240.95,\n",
       "        1648.79, 2472.36,  579.34, 2088.53, 2572.38, 1640.87, 1089.99,\n",
       "        1266.88,  308.48,  362.68, 2134.03, 1764.74,  846.6 ,  736.6 ,\n",
       "        2615.94,  832.83, 1362.35, 1342.45, 1413.19,  638.83, 1402.62,\n",
       "        1023.96,  291.47, 1694.95,  775.8 , 1527.42, 1343.74, 1385.96,\n",
       "        1467.63,  344.91, 1634.76, 1104.65, 1264.85,  330.11,  628.51,\n",
       "        1520.8 , 1090.16,  728.55, 1690.55, 1707.41,  760.51, 1960.22,\n",
       "        2129.12,    3.85,  779.  , 1329.64, 2025.2 , 1497.44, 1950.72,\n",
       "        1585.6 ,  670.13, 1033.89, 1030.27, 1979.56,  420.66, 1974.57,\n",
       "        1953.49, 2988.02, 2190.62, 1150.81,  507.68, 1026.4 , 2392.63,\n",
       "        1360.04, 1917.73,  356.35, 2639.42, 1088.05, 2571.12, 1638.03,\n",
       "        1688.23, 3087.82, 2331.55,  632.25,  931.83,  556.91, 2618.  ,\n",
       "        1175.16,  822.04,  454.59, 1863.51,  263.56,  827.69, 1754.83,\n",
       "         499.17,  751.79, 1126.61, 2496.08, 2958.77, 2503.14, 1413.79,\n",
       "        3022.33, 3138.02, 2576.43,  565.54, 1930.32, 2150.73, 1945.51,\n",
       "         814.11,  882.85, 1577.64, 2317.84,  839.2 ,  739.23, 2180.71,\n",
       "        1333.33, 1227.  , 2203.54, 2375.64,  559.86, 1325.27, 1681.56,\n",
       "        1811.44, 2609.8 , 2129.51,  503.94, 1215.49, 2131.88,  959.38,\n",
       "         677.21, 1414.28, 1013.25, 1660.9 ,  737.44, 2192.57, 2913.49,\n",
       "        1975.26, 1437.03, 1332.38, 2818.88, 1078.56, 2083.38, 1178.52,\n",
       "        2996.96, 1566.79, 2428.67, 2260.32,  815.56, 1364.13, 1433.32,\n",
       "        2265.03, 2029.19, 1284.55,  912.96, 2008.95,  441.  , 2069.36,\n",
       "        2902.38, 1341.64, 1275.25, 1964.11,  460.21,  424.08, 1751.12,\n",
       "         304.48,  720.79,  288.99, 1462.67, 1775.73, 2644.49,  698.13,\n",
       "        2988.18,  451.39, 2814.6 , 1311.17,  749.12, 1931.02, 1677.28,\n",
       "        1209.59,  297.86, 1584.15,  999.82,  318.7 ,  748.14, 1277.7 ,\n",
       "        2225.91,  185.55,  816.61,  708.72, 2285.52, 2498.37, 2551.33,\n",
       "        1587.35, 2148.05,  949.83,  925.8 , 2054.78,  702.11,  817.8 ,\n",
       "         513.08,  631.55,  728.25, 1580.89, 2071.93, 1200.34,  731.76,\n",
       "         784.14,  266.75, 1309.42,  542.39, 2734.25,  515.05, 1453.82,\n",
       "         977.43, 2672.69, 2066.88, 1600.78, 1068.73, 2517.03,  538.76,\n",
       "        1451.86, 1455.56, 1119.06, 2944.63,  671.08, 3409.97,  869.79,\n",
       "         644.15, 2406.63, 1436.64, 1923.24,  247.03, 2058.08, 2731.39,\n",
       "         345.91, 1126.47,  688.3 ,  206.25, 1132.37,  869.16, 1257.64,\n",
       "        1647.35, 2850.41, 1614.02, 1522.68, 2543.85, 2016.59, 1194.15,\n",
       "        1933.48, 1608.16,  601.47,  578.77, 1675.83, 2218.13, 1728.51,\n",
       "         366.64, 1786.39,  312.85,  476.29, 2461.25, 2167.35, 2313.3 ,\n",
       "        2805.18,  350.99,  484.65,  883.58, 3241.73,  448.44, 2834.35,\n",
       "        2252.21, 1248.32, 1438.74, 2279.06, 1903.35,  502.87,  544.03,\n",
       "        2880.97, 1155.92,  670.06, 1764.4 , 2717.55, 3145.57, 1109.09,\n",
       "         637.8 ,  291.43, 1552.96,  622.53,  911.98, 1654.7 , 1279.9 ,\n",
       "         606.58,  635.01,  269.95,  433.54, 1769.96,  528.67, 1567.53,\n",
       "         944.3 , 1454.  , 1812.6 , 1533.12,  829.32,  303.51, 1619.64,\n",
       "         566.69, 1570.53, 2183.48, 1741.45, 2280.51,  452.35, 2157.46,\n",
       "        1735.53, 1718.05,  646.35, 1701.49, 1705.7 , 1563.36,  965.51,\n",
       "        1202.61,  509.11,  867.27, 1714.05, 2340.07, 2345.33, 1584.5 ,\n",
       "         773.53, 1719.45, 2027.33, 1710.57, 1867.56, 1265.7 , 1365.15,\n",
       "        1085.98,  630.42, 1394.39, 1628.89,  490.01, 1445.13, 2006.65,\n",
       "        2699.01, 1216.56, 2129.5 , 1711.93, 2851.94, 1579.04,  438.97,\n",
       "        2247.77,  827.17, 1261.85, 1683.4 , 1661.21, 1684.51, 1010.02,\n",
       "        1879.72,  256.15, 2782.28, 1880.71, 2343.95, 2617.17,  632.8 ,\n",
       "         284.18,  953.99,  372.63, 1586.44, 2798.27, 1958.55, 1848.38,\n",
       "         939.78,  383.46, 1199.31, 2221.79, 1798.45, 1150.47, 1373.02,\n",
       "        1818.44, 1984.91,  880.65, 2258.01, 1167.33,  559.6 , 1640.24,\n",
       "         817.05,  656.17,  330.88, 2852.57, 1890.26, 2950.03, 1877.79,\n",
       "        1911.18,  590.  , 2888.51,  580.54, 1506.13, 1777.71, 1922.85,\n",
       "        1611.36, 1521.86,  497.75, 2356.86, 1014.24, 2406.32,  999.49,\n",
       "         929.8 , 1715.78, 2950.44, 2238.57, 1782.4 , 1585.17,  404.21,\n",
       "         276.14, 3228.73, 2310.45, 2056.22, 1395.37, 2568.94, 2505.06,\n",
       "        1499.87, 1103.22,  387.17, 2046.65,  341.83,  364.58, 1182.8 ,\n",
       "        1471.26, 1075.2 ,  570.92, 1193.65, 1470.99,   52.95,  613.33,\n",
       "        1845.85, 1348.54,  376.46, 1493.55,  829.19, 1843.05, 2923.27,\n",
       "         682.64, 1923.12, 2127.33, 2726.61, 1150.1 , 1839.62,  862.27,\n",
       "        1194.38, 1828.23, 2521.92, 1536.19,  703.87, 1080.33,  961.34,\n",
       "         395.37,  630.97, 1353.74, 1994.52, 1976.55, 1302.85, 3027.36,\n",
       "        1703.76, 1835.92, 1604.54, 2257.7 , 1498.07, 1383.05, 1052.62,\n",
       "        2949.09, 2921.56,  782.56, 1490.5 ,  478.1 ,  737.48, 2782.62,\n",
       "         935.46, 1119.66, 1310.44,  268.13, 2629.95,  486.4 , 1989.15,\n",
       "        1597.28,  725.26, 2008.32,  960.52, 1444.  , 1329.76, 2402.27,\n",
       "         451.52, 2312.41, 2964.99, 1491.53,  300.68, 2994.84,  821.13,\n",
       "         769.57, 2281.31,  843.35, 1760.46, 1414.38, 1582.53, 1478.16,\n",
       "        1208.84, 2027.38, 1304.87, 1438.01,  190.81,  534.16, 1615.01,\n",
       "        1042.07, 1177.31, 1027.09, 1542.61, 2741.85, 1842.27, 2582.84,\n",
       "        1153.03,  817.89,  893.6 , 1709.97,  761.47, 1769.98, 2614.4 ,\n",
       "        2588.1 , 2837.3 , 2458.41,  714.29,  540.94, 1381.35, 1214.19,\n",
       "        2597.58, 2751.68,  964.87,  444.52,  333.23,  444.98,  351.15,\n",
       "         806.21,  538.2 , 1860.71,  452.34, 1864.19,  498.28, 1230.21,\n",
       "         732.56, 1207.83, 1670.89,  412.27, 3025.28, 1049.65, 2662.46,\n",
       "        1718.28, 1199.31, 1355.56, 1011.41, 1839.3 , 2121.96,  425.37,\n",
       "         605.21, 1461.18, 3323.05, 3110.43,  709.7 ,  781.51, 1370.54,\n",
       "        1298.38, 1026.86,  548.64, 2103.99, 2811.35, 1215.7 , 1352.8 ,\n",
       "        1206.23, 2860.46,  539.61, 2737.31, 2262.45,  744.61, 1622.69,\n",
       "        1154.67, 1446.01,  719.71, 1429.54,  516.93, 1077.87,  836.36,\n",
       "        2622.96, 1543.84, 2081.08, 1509.58, 2571.82, 1100.09, 3046.57,\n",
       "        3607.44, 2908.81, 1716.23, 1636.73,  669.81, 1615.85,  838.22,\n",
       "        2367.15, 2067.44, 1153.48, 2578.39, 1279.7 , 1360.24,  666.48,\n",
       "        1941.86, 1402.28, 2784.7 ,  837.59, 1018.81, 2023.38, 2778.45,\n",
       "        2084.81, 1246.73, 1781.38,  587.86,  268.96, 2874.43, 2605.  ,\n",
       "        3236.67, 1081.08, 1191.62, 1089.17, 3406.19, 1787.31, 1950.7 ,\n",
       "        1843.13, 1327.71, 2629.88, 2595.58, 2150.49, 1246.39,  947.53,\n",
       "        2017.3 , 1570.51,  216.82, 2747.64, 1486.48,  615.87,  180.6 ,\n",
       "        1224.24, 3461.91, 2321.04,  551.37,  950.46, 2957.56, 1862.65,\n",
       "        3259.92, 3211.74,  243.04, 1181.95, 2643.89, 1970.48,  291.53,\n",
       "        2461.84, 2119.98,  553.75, 3135.78, 1015.44,  457.53, 1517.62,\n",
       "         656.05,  472.85,  815.32, 2687.35]))"
      ]
     },
     "execution_count": 15,
     "metadata": {},
     "output_type": "execute_result"
    }
   ],
   "source": [
    "Prediction_result  = ('Predicted Stock Index Price: ', regressor.predict(X))\n",
    "Prediction_result"
   ]
  },
  {
   "cell_type": "code",
   "execution_count": 16,
   "metadata": {
    "ExecuteTime": {
     "end_time": "2020-09-24T02:41:44.005549Z",
     "start_time": "2020-09-24T02:41:43.990926Z"
    }
   },
   "outputs": [],
   "source": [
    "# Add predicts to MIN_PREDICTIONS (MIN_PRED) column\n",
    "default['MIN_PRED'] = Prediction_result[1]\n",
    "default['MIN_PRED'] = round(default['MIN_PRED'], 2)\n",
    "default['RISIDUAL'] = round(default['MIN_PRED']/default['MIN'], 3)"
   ]
  },
  {
   "cell_type": "code",
   "execution_count": 17,
   "metadata": {
    "ExecuteTime": {
     "end_time": "2020-09-24T02:41:44.036681Z",
     "start_time": "2020-09-24T02:41:44.006572Z"
    }
   },
   "outputs": [
    {
     "data": {
      "text/html": [
       "<div>\n",
       "<style scoped>\n",
       "    .dataframe tbody tr th:only-of-type {\n",
       "        vertical-align: middle;\n",
       "    }\n",
       "\n",
       "    .dataframe tbody tr th {\n",
       "        vertical-align: top;\n",
       "    }\n",
       "\n",
       "    .dataframe thead th {\n",
       "        text-align: right;\n",
       "    }\n",
       "</style>\n",
       "<table border=\"1\" class=\"dataframe\">\n",
       "  <thead>\n",
       "    <tr style=\"text-align: right;\">\n",
       "      <th></th>\n",
       "      <th>PLAYER_ID</th>\n",
       "      <th>POSITION</th>\n",
       "      <th>PLAYER_NAME</th>\n",
       "      <th>SEASON_ID</th>\n",
       "      <th>INFLATION</th>\n",
       "      <th>YEAR</th>\n",
       "      <th>YIL</th>\n",
       "      <th>PLAYER_AGE</th>\n",
       "      <th>GP</th>\n",
       "      <th>GS</th>\n",
       "      <th>FGM</th>\n",
       "      <th>FGA</th>\n",
       "      <th>FG_PCT</th>\n",
       "      <th>FG3M</th>\n",
       "      <th>FG3A</th>\n",
       "      <th>FG3_PCT</th>\n",
       "      <th>FTM</th>\n",
       "      <th>FTA</th>\n",
       "      <th>FT_PCT</th>\n",
       "      <th>OREB</th>\n",
       "      <th>DREB</th>\n",
       "      <th>REB</th>\n",
       "      <th>AST</th>\n",
       "      <th>STL</th>\n",
       "      <th>BLK</th>\n",
       "      <th>TOV</th>\n",
       "      <th>PF</th>\n",
       "      <th>PTS</th>\n",
       "      <th>MIN</th>\n",
       "      <th>MIN_PRED</th>\n",
       "      <th>RISIDUAL</th>\n",
       "    </tr>\n",
       "  </thead>\n",
       "  <tbody>\n",
       "    <tr>\n",
       "      <th>12</th>\n",
       "      <td>1627936</td>\n",
       "      <td>SG</td>\n",
       "      <td>Alex Caruso</td>\n",
       "      <td>2019-20</td>\n",
       "      <td>2750000</td>\n",
       "      <td>2020</td>\n",
       "      <td>3</td>\n",
       "      <td>26</td>\n",
       "      <td>64</td>\n",
       "      <td>2</td>\n",
       "      <td>120</td>\n",
       "      <td>291</td>\n",
       "      <td>0.412</td>\n",
       "      <td>40</td>\n",
       "      <td>120</td>\n",
       "      <td>0.333</td>\n",
       "      <td>69</td>\n",
       "      <td>94</td>\n",
       "      <td>0.734</td>\n",
       "      <td>17</td>\n",
       "      <td>106</td>\n",
       "      <td>123</td>\n",
       "      <td>124</td>\n",
       "      <td>70</td>\n",
       "      <td>18</td>\n",
       "      <td>53</td>\n",
       "      <td>98</td>\n",
       "      <td>349</td>\n",
       "      <td>1175</td>\n",
       "      <td>1183.55</td>\n",
       "      <td>1.007</td>\n",
       "    </tr>\n",
       "    <tr>\n",
       "      <th>136</th>\n",
       "      <td>1627936</td>\n",
       "      <td>SG</td>\n",
       "      <td>Alex Caruso</td>\n",
       "      <td>2017-18</td>\n",
       "      <td>556745</td>\n",
       "      <td>2017</td>\n",
       "      <td>1</td>\n",
       "      <td>24</td>\n",
       "      <td>37</td>\n",
       "      <td>7</td>\n",
       "      <td>50</td>\n",
       "      <td>116</td>\n",
       "      <td>0.431</td>\n",
       "      <td>13</td>\n",
       "      <td>43</td>\n",
       "      <td>0.302</td>\n",
       "      <td>21</td>\n",
       "      <td>30</td>\n",
       "      <td>0.700</td>\n",
       "      <td>15</td>\n",
       "      <td>50</td>\n",
       "      <td>65</td>\n",
       "      <td>75</td>\n",
       "      <td>23</td>\n",
       "      <td>10</td>\n",
       "      <td>42</td>\n",
       "      <td>52</td>\n",
       "      <td>134</td>\n",
       "      <td>562</td>\n",
       "      <td>503.94</td>\n",
       "      <td>0.897</td>\n",
       "    </tr>\n",
       "  </tbody>\n",
       "</table>\n",
       "</div>"
      ],
      "text/plain": [
       "     PLAYER_ID POSITION  PLAYER_NAME SEASON_ID  INFLATION  YEAR  YIL  \\\n",
       "12     1627936       SG  Alex Caruso   2019-20    2750000  2020    3   \n",
       "136    1627936       SG  Alex Caruso   2017-18     556745  2017    1   \n",
       "\n",
       "     PLAYER_AGE  GP  GS  FGM  FGA  FG_PCT  FG3M  FG3A  FG3_PCT  FTM  FTA  \\\n",
       "12           26  64   2  120  291   0.412    40   120    0.333   69   94   \n",
       "136          24  37   7   50  116   0.431    13    43    0.302   21   30   \n",
       "\n",
       "     FT_PCT  OREB  DREB  REB  AST  STL  BLK  TOV  PF  PTS   MIN  MIN_PRED  \\\n",
       "12    0.734    17   106  123  124   70   18   53  98  349  1175   1183.55   \n",
       "136   0.700    15    50   65   75   23   10   42  52  134   562    503.94   \n",
       "\n",
       "     RISIDUAL  \n",
       "12      1.007  \n",
       "136     0.897  "
      ]
     },
     "execution_count": 17,
     "metadata": {},
     "output_type": "execute_result"
    }
   ],
   "source": [
    "# Test view\n",
    "default[default['PLAYER_NAME'] == \"Alex Caruso\"]"
   ]
  },
  {
   "cell_type": "markdown",
   "metadata": {},
   "source": [
    "### Add PER\n",
    "PER only gives positives for scoring if you shoot a decent percentage (see picture for breakeven shooting percentages). If a player scores a ton of points but shoots a very low percentage then they would not have a positive Simple PER. \n",
    "\n",
    "'Breakeven' Shooting %: 2P = 37.5%, 3P = 28%, FT = 65%.\n",
    "\n",
    "Equation  \n",
    "Simple PER is calculated as follows: (2FG Made * 2) - (2FG Attempted *.75) + (3FG Made * 3) – (3FG Attempted * .84) + (FT Made) - (FT Attempted * -.65) + Rebounds + Assists + Blocks + Steals - Turnovers. "
   ]
  },
  {
   "cell_type": "code",
   "execution_count": 18,
   "metadata": {
    "ExecuteTime": {
     "end_time": "2020-09-24T02:41:44.051624Z",
     "start_time": "2020-09-24T02:41:44.038657Z"
    }
   },
   "outputs": [],
   "source": [
    "default['PER'] = ((default['FGM'] * 2) - (default['FGA'] * .75) + (default['FG3M'] * 3) - (default['FG3A'] * .84) + (default['FTM']) - (default['FTA'] * -.65) + default['REB'] + default['AST'] + default['BLK'] + default['STL'] - default['TOV'])\n",
    "default = default.sort_values(by='PER', ascending=False).reset_index(drop=True)"
   ]
  },
  {
   "cell_type": "code",
   "execution_count": 19,
   "metadata": {
    "ExecuteTime": {
     "end_time": "2020-09-24T02:41:44.081911Z",
     "start_time": "2020-09-24T02:41:44.052621Z"
    }
   },
   "outputs": [
    {
     "data": {
      "text/html": [
       "<div>\n",
       "<style scoped>\n",
       "    .dataframe tbody tr th:only-of-type {\n",
       "        vertical-align: middle;\n",
       "    }\n",
       "\n",
       "    .dataframe tbody tr th {\n",
       "        vertical-align: top;\n",
       "    }\n",
       "\n",
       "    .dataframe thead th {\n",
       "        text-align: right;\n",
       "    }\n",
       "</style>\n",
       "<table border=\"1\" class=\"dataframe\">\n",
       "  <thead>\n",
       "    <tr style=\"text-align: right;\">\n",
       "      <th></th>\n",
       "      <th>PLAYER_ID</th>\n",
       "      <th>POSITION</th>\n",
       "      <th>PLAYER_NAME</th>\n",
       "      <th>SEASON_ID</th>\n",
       "      <th>INFLATION</th>\n",
       "      <th>YEAR</th>\n",
       "      <th>YIL</th>\n",
       "      <th>PLAYER_AGE</th>\n",
       "      <th>GP</th>\n",
       "      <th>GS</th>\n",
       "      <th>FGM</th>\n",
       "      <th>FGA</th>\n",
       "      <th>FG_PCT</th>\n",
       "      <th>FG3M</th>\n",
       "      <th>FG3A</th>\n",
       "      <th>FG3_PCT</th>\n",
       "      <th>FTM</th>\n",
       "      <th>FTA</th>\n",
       "      <th>FT_PCT</th>\n",
       "      <th>OREB</th>\n",
       "      <th>DREB</th>\n",
       "      <th>REB</th>\n",
       "      <th>AST</th>\n",
       "      <th>STL</th>\n",
       "      <th>BLK</th>\n",
       "      <th>TOV</th>\n",
       "      <th>PF</th>\n",
       "      <th>PTS</th>\n",
       "      <th>MIN</th>\n",
       "      <th>MIN_PRED</th>\n",
       "      <th>RISIDUAL</th>\n",
       "      <th>PER</th>\n",
       "      <th>PIE</th>\n",
       "      <th>ALLSTAR</th>\n",
       "    </tr>\n",
       "  </thead>\n",
       "  <tbody>\n",
       "    <tr>\n",
       "      <th>1</th>\n",
       "      <td>1503</td>\n",
       "      <td>SG</td>\n",
       "      <td>Tracy McGrady</td>\n",
       "      <td>2001-02</td>\n",
       "      <td>953783</td>\n",
       "      <td>2011</td>\n",
       "      <td>5</td>\n",
       "      <td>23</td>\n",
       "      <td>76</td>\n",
       "      <td>76</td>\n",
       "      <td>715</td>\n",
       "      <td>1586</td>\n",
       "      <td>0.451</td>\n",
       "      <td>103</td>\n",
       "      <td>283</td>\n",
       "      <td>0.364</td>\n",
       "      <td>415</td>\n",
       "      <td>555</td>\n",
       "      <td>0.748</td>\n",
       "      <td>150</td>\n",
       "      <td>447</td>\n",
       "      <td>597</td>\n",
       "      <td>400</td>\n",
       "      <td>119</td>\n",
       "      <td>73</td>\n",
       "      <td>189</td>\n",
       "      <td>139</td>\n",
       "      <td>1948</td>\n",
       "      <td>2912</td>\n",
       "      <td>3236.67</td>\n",
       "      <td>1.111</td>\n",
       "      <td>2087.53</td>\n",
       "      <td>15.2</td>\n",
       "      <td>0</td>\n",
       "    </tr>\n",
       "  </tbody>\n",
       "</table>\n",
       "</div>"
      ],
      "text/plain": [
       "   PLAYER_ID POSITION    PLAYER_NAME SEASON_ID  INFLATION  YEAR  YIL  \\\n",
       "1       1503       SG  Tracy McGrady   2001-02     953783  2011    5   \n",
       "\n",
       "   PLAYER_AGE  GP  GS  FGM   FGA  FG_PCT  FG3M  FG3A  FG3_PCT  FTM  FTA  \\\n",
       "1          23  76  76  715  1586   0.451   103   283    0.364  415  555   \n",
       "\n",
       "   FT_PCT  OREB  DREB  REB  AST  STL  BLK  TOV   PF   PTS   MIN  MIN_PRED  \\\n",
       "1   0.748   150   447  597  400  119   73  189  139  1948  2912   3236.67   \n",
       "\n",
       "   RISIDUAL      PER   PIE  ALLSTAR  \n",
       "1     1.111  2087.53  15.2        0  "
      ]
     },
     "execution_count": 19,
     "metadata": {},
     "output_type": "execute_result"
    }
   ],
   "source": [
    "default_merged = pd.merge(default, all_stars, left_on=['YEAR','PLAYER_NAME'], right_on=['YEAR','PLAYER_NAME'],suffixes=('_left', '_right'))\n",
    "# .drop_duplicates( keep='first').reset_index(drop=True).dropna(how='any')\n",
    "\n",
    "default_merged[default_merged['PLAYER_NAME'] == \"Tracy McGrady\"]"
   ]
  },
  {
   "cell_type": "markdown",
   "metadata": {},
   "source": [
    "Regression 2\n",
    "### MIN_PRED will be in a dataframe with injuries, bmi rank, all risidual rankings, PLAYER_ID, PLAYER_NAME, SEASON_ID, INFLATION\n",
    "this dataframe will run another multiple linear regression. The dependent var will be salary. \n",
    "Seperating all the data by position may not be necessary. We could possibly run this model workflow on the full dataset. "
   ]
  },
  {
   "cell_type": "code",
   "execution_count": 115,
   "metadata": {
    "ExecuteTime": {
     "end_time": "2020-09-24T02:45:34.085460Z",
     "start_time": "2020-09-24T02:45:34.072559Z"
    }
   },
   "outputs": [],
   "source": [
    "## Dropping risidual due to no correlation with other featuers. Will use to verify testings.\n",
    "default_rank = default_merged.copy()\n",
    "default_rank = default_rank[['SEASON_ID','POSITION','PLAYER_ID', 'PLAYER_NAME','YEAR','YIL', 'MIN','PER','PIE','ALLSTAR', 'INFLATION']]\n",
    "default_rank = default_rank.sort_values(by=\"PIE\", ascending=False)"
   ]
  },
  {
   "cell_type": "code",
   "execution_count": 116,
   "metadata": {
    "ExecuteTime": {
     "end_time": "2020-09-24T02:45:34.288687Z",
     "start_time": "2020-09-24T02:45:34.275723Z"
    }
   },
   "outputs": [],
   "source": [
    "# dataset = position name\n",
    "dataset2 = default_rank\n",
    "\n",
    "## Multiple Linear Regressions\n",
    "X = dataset2.iloc[:, 4:-1].values\n",
    "y = dataset2.iloc[:, -1].values"
   ]
  },
  {
   "cell_type": "code",
   "execution_count": 117,
   "metadata": {
    "ExecuteTime": {
     "end_time": "2020-09-24T02:45:34.489517Z",
     "start_time": "2020-09-24T02:45:34.471494Z"
    }
   },
   "outputs": [
    {
     "data": {
      "text/plain": [
       "array([[ 2.02e+03,  2.00e+00,  2.19e+03,  1.10e+03,  1.96e+01,  1.00e+00],\n",
       "       [ 2.01e+03,  2.00e+00,  2.42e+03,  9.89e+02,  1.72e+01,  0.00e+00],\n",
       "       [ 2.02e+03,  2.00e+00,  1.96e+03,  9.77e+02,  1.63e+01,  1.00e+00],\n",
       "       ...,\n",
       "       [ 2.01e+03,  4.00e+00,  1.50e+03,  5.03e+02, -1.50e+00,  0.00e+00],\n",
       "       [ 2.01e+03,  3.00e+00,  8.51e+02,  1.40e+02, -4.50e+00,  0.00e+00],\n",
       "       [ 2.01e+03,  4.00e+00,  1.38e+03,  4.51e+02, -6.60e+00,  0.00e+00]])"
      ]
     },
     "execution_count": 117,
     "metadata": {},
     "output_type": "execute_result"
    }
   ],
   "source": [
    "X"
   ]
  },
  {
   "cell_type": "code",
   "execution_count": 118,
   "metadata": {
    "ExecuteTime": {
     "end_time": "2020-09-24T02:45:34.864391Z",
     "start_time": "2020-09-24T02:45:34.693306Z"
    }
   },
   "outputs": [
    {
     "data": {
      "image/png": "[encoded data removed]",
      "text/plain": [
       "<Figure size 1080x1080 with 2 Axes>"
      ]
     },
     "metadata": {
      "needs_background": "light"
     },
     "output_type": "display_data"
    }
   ],
   "source": [
    "## Check correlation to features\n",
    "train_data = dataset2.iloc[:, 5:]\n",
    "# train_data['INFLATION'] = y \n",
    "\n",
    "C_mat = train_data.corr()\n",
    "fig = plt.figure(figsize = (15,15))\n",
    "\n",
    "sb.heatmap(C_mat, vmax = .8, square = True)\n",
    "plt.show()"
   ]
  },
  {
   "cell_type": "code",
   "execution_count": 127,
   "metadata": {
    "ExecuteTime": {
     "end_time": "2020-09-24T02:45:47.207538Z",
     "start_time": "2020-09-24T02:45:47.203577Z"
    }
   },
   "outputs": [],
   "source": [
    "## Splitting the dataset into the Training set and Test set\n",
    "from sklearn.model_selection import train_test_split\n",
    "X_train, X_test,y_train, y_test = train_test_split(X, y, test_size = 0.25, random_state = 40)"
   ]
  },
  {
   "cell_type": "code",
   "execution_count": 128,
   "metadata": {
    "ExecuteTime": {
     "end_time": "2020-09-24T02:45:47.408626Z",
     "start_time": "2020-09-24T02:45:47.398714Z"
    },
    "scrolled": true
   },
   "outputs": [
    {
     "data": {
      "text/plain": [
       "LinearRegression()"
      ]
     },
     "execution_count": 128,
     "metadata": {},
     "output_type": "execute_result"
    }
   ],
   "source": [
    "## Training the Multiple Linear Regression model on the Training set\n",
    "from sklearn.linear_model import LinearRegression\n",
    "regressor2 = LinearRegression()\n",
    "regressor2.fit(X_train, y_train)"
   ]
  },
  {
   "cell_type": "code",
   "execution_count": 129,
   "metadata": {
    "ExecuteTime": {
     "end_time": "2020-09-24T02:45:47.640973Z",
     "start_time": "2020-09-24T02:45:47.624964Z"
    },
    "scrolled": true
   },
   "outputs": [
    {
     "name": "stdout",
     "output_type": "stream",
     "text": [
      "[[  450917.02  4352938.  ]\n",
      " [ 4227218.98  5025967.  ]\n",
      " [ 1447931.96    58611.  ]\n",
      " [ 3189562.     799342.  ]\n",
      " [ 5924334.72  1167647.  ]\n",
      " [  707435.51   498198.  ]\n",
      " [ 8881170.98  3609979.  ]\n",
      " [ 4041518.    7560000.  ]\n",
      " [ 4097895.26  1264358.  ]\n",
      " [ 3576844.85   969651.  ]\n",
      " [ 5965924.53  2144809.  ]\n",
      " [ 5317870.28  2226249.  ]\n",
      " [ 2712269.93  1680585.  ]\n",
      " [ 4646209.44  4333203.  ]\n",
      " [ 3591585.86  4648225.  ]\n",
      " [ 3148529.85  1556944.  ]\n",
      " [ 6014833.34 16058872.  ]\n",
      " [ 4052835.19  5765462.  ]\n",
      " [ 4719454.03  1609512.  ]\n",
      " [ 1637485.63  2253474.  ]\n",
      " [ 2706982.5    681999.  ]\n",
      " [ 1707747.23   840760.  ]\n",
      " [ 3453104.67  1273258.  ]\n",
      " [ 3466325.21  3789805.  ]\n",
      " [ 4519314.4   4858846.  ]\n",
      " [ 6305917.63 13732333.  ]\n",
      " [ 5498542.86  7000000.  ]\n",
      " [ 4791935.39 14136364.  ]\n",
      " [ 6210069.07  1167647.  ]\n",
      " [ 4085752.71  7000000.  ]\n",
      " [ 4627744.79  2226249.  ]\n",
      " [ 2278707.55  6717735.  ]\n",
      " [ 4027796.03  6671571.  ]\n",
      " [ 4637812.59  2395291.  ]\n",
      " [ 4757638.54  5852300.  ]\n",
      " [ 3330944.39   517476.  ]\n",
      " [ 6718367.86  2641945.  ]\n",
      " [ 2244975.83  2665805.  ]\n",
      " [ 7117050.67  2458628.  ]\n",
      " [ 3297509.23  3708065.  ]\n",
      " [ 3633213.92  1983446.  ]\n",
      " [ 3405624.46  3178341.  ]\n",
      " [ 4630503.96 21379300.  ]\n",
      " [10208455.98 28299399.  ]\n",
      " [ 3558112.67   517476.  ]\n",
      " [ 3601954.31  1569600.  ]\n",
      " [ 3028489.17  1609512.  ]\n",
      " [ 3663627.89   537495.  ]\n",
      " [ 3398012.49  6679112.  ]\n",
      " [ 7053817.4  13732333.  ]\n",
      " [ 8322023.33 17945709.  ]\n",
      " [ 4432820.36  6277491.  ]\n",
      " [ 4209981.54  5376075.  ]\n",
      " [ 3020916.65  1709584.  ]\n",
      " [ 3157791.13   804407.  ]\n",
      " [  644716.33  2335600.  ]\n",
      " [ 2902967.85   592851.  ]\n",
      " [ 3697043.03  1409747.  ]\n",
      " [ 1768282.66  1555296.  ]\n",
      " [ 3257914.34  2422284.  ]\n",
      " [ 5390622.39  5726187.  ]\n",
      " [ 4186500.26  2275643.  ]\n",
      " [ 5172725.27  4496758.  ]\n",
      " [ 5122567.64   211836.  ]\n",
      " [ 3883843.26  1341948.  ]\n",
      " [ 3974807.96  2335671.  ]\n",
      " [ 2454727.01   901708.  ]\n",
      " [ 3622961.4    549377.  ]\n",
      " [ 4414662.63   526945.  ]\n",
      " [  638880.26  1302198.  ]\n",
      " [ 3470845.08   528700.  ]\n",
      " [ 1321520.55  1870187.  ]\n",
      " [ 5908454.04  2356520.  ]\n",
      " [ 3744720.98  3628426.  ]\n",
      " [ 3939725.28  9008005.  ]\n",
      " [ 4643158.2    895998.  ]\n",
      " [ 4622276.73 14260424.  ]\n",
      " [ 2213889.54  6246680.  ]\n",
      " [ 9890597.27  6273893.  ]\n",
      " [ 5328316.24  4858846.  ]\n",
      " [ 2140116.76  3113926.  ]\n",
      " [ 2163491.22   799341.  ]\n",
      " [ 3684806.36  2820940.  ]\n",
      " [ 4159466.66  2812989.  ]\n",
      " [ 2387690.26  3113926.  ]\n",
      " [ 3986894.39  1516014.  ]\n",
      " [ 1677162.56   560506.  ]\n",
      " [ 5598894.23  5765462.  ]]\n"
     ]
    }
   ],
   "source": [
    "## Predicting the Test set results\n",
    "y_pred = regressor2.predict(X_test)\n",
    "np.set_printoptions(precision=2)\n",
    "print(np.concatenate((y_pred.reshape(len(y_pred),1), y_test.reshape(len(y_test),1)),1))"
   ]
  },
  {
   "cell_type": "code",
   "execution_count": 130,
   "metadata": {
    "ExecuteTime": {
     "end_time": "2020-09-24T02:45:47.873007Z",
     "start_time": "2020-09-24T02:45:47.854580Z"
    }
   },
   "outputs": [
    {
     "data": {
      "text/plain": [
       "0.24411913585708322"
      ]
     },
     "execution_count": 130,
     "metadata": {},
     "output_type": "execute_result"
    }
   ],
   "source": [
    "## R-Square Coefficient \n",
    "from sklearn.metrics import r2_score\n",
    "r2_score(y_test, y_pred)"
   ]
  },
  {
   "cell_type": "markdown",
   "metadata": {},
   "source": [
    "##### SG: ~40% "
   ]
  },
  {
   "cell_type": "code",
   "execution_count": 131,
   "metadata": {
    "ExecuteTime": {
     "end_time": "2020-09-24T02:45:56.686547Z",
     "start_time": "2020-09-24T02:45:56.673652Z"
    },
    "scrolled": true
   },
   "outputs": [
    {
     "data": {
      "text/plain": [
       "array([10208455.98,  6525962.25,  9155738.55,  8881170.98,  8093924.65,\n",
       "       10061781.4 ,  8322023.33,  7094571.36,  7832778.35,  5498542.86,\n",
       "        5908454.04,  9890597.27,  6210069.07,  5924334.72,  4926664.01,\n",
       "        7558129.89,  8296582.1 ,  5126174.34,  6014833.34,  6786026.51,\n",
       "        7117050.67,  5172725.27,  9190810.47,  6718367.86,  4839549.59,\n",
       "        6222483.52,  6305917.63,  7053817.4 ,  3939725.28,  5962705.56,\n",
       "        5452059.14,  5679221.55,  5244073.3 ,  6141447.79,  2798015.69,\n",
       "        4408124.57,  5372396.8 ,  5390622.39,  5111981.41,  4622276.73,\n",
       "        4712227.11,  5090634.63,  5104921.24,  4757638.54,  5815138.81,\n",
       "        5893501.24,  5641310.02,  6207008.73,  5044512.02,  4414662.63,\n",
       "        4563296.95,  4097895.26,  3488406.99,  3697043.03,  4438139.41,\n",
       "        7581159.09,  4947180.07,  3850150.32,  5774036.83,  4806239.06,\n",
       "        4489672.06,  3108135.86,  3157791.13,  3241268.54,  5411386.93,\n",
       "        3633213.92,  5189055.67,  5092053.04,  5612079.83,  5731373.  ,\n",
       "        4657621.57,  5750189.65,  4325111.79,  4027765.23,  3926373.54,\n",
       "        4417530.89,  3554779.55,  5122567.64,  5773606.39,  4180793.2 ,\n",
       "        4060955.14,  5558355.48,  3706817.52,  4099327.32,  4240009.28,\n",
       "        5448897.26,  5236387.19,  5036185.33,  5178587.26,  4430754.34,\n",
       "        4186500.26,  4840737.57,  4480660.03,  5430709.24,  4722206.17,\n",
       "        4339165.76,  4314496.91,  4669249.63,  4479197.6 ,  3798560.68,\n",
       "        3883843.26,  4131548.14,  4159466.66,  5965924.53,  5031233.39,\n",
       "        5842178.62,  4791935.39,  4164201.82,  5207423.11,  3170896.12,\n",
       "        5689197.08,  3942938.32,  4630503.96,  4967265.84,  6510031.54,\n",
       "        3840386.19,  3956131.22,  3402411.64,  4227218.98,  4532398.39,\n",
       "        6007939.81,  5025503.31,  2487243.85,  4747978.33,  2732021.75,\n",
       "        5283462.7 ,  3398012.49,  4250555.78,  4168170.23,  4617837.63,\n",
       "        4685455.47,  5742491.98,  3986894.39,  3330944.39,  4738498.13,\n",
       "        5328316.24,  4519314.4 ,  5707051.09,  5558132.96,  4052835.19,\n",
       "        5598894.23,  3047880.29,  3453104.67,  3660047.86,  4481174.21,\n",
       "        1650259.64,  2386925.09,  3684806.36,  2798244.93,  3200084.18,\n",
       "        3086848.32,  3974807.96,  4637812.59,  4764578.59,  4627744.79,\n",
       "        4200137.74,  4878297.27,  5317870.28,  5417175.56,  4251965.62,\n",
       "        4470947.47,  3729763.85,  3558112.67,  4003529.92,  4654347.54,\n",
       "        2617493.24,  4765408.35,  3716970.03,  4041518.  ,  5321700.55,\n",
       "        2140116.76,  4005913.61,  3744720.98,  3224625.44,  3106032.52,\n",
       "        3470845.08,  4198180.32,  4432820.36,  2354174.23,  3351756.05,\n",
       "        2710628.01,  4586834.49,  5132295.93,  4406671.72,  5271520.32,\n",
       "        4209981.54,  3471612.28,  4830142.68,  2865108.28,  4714699.98,\n",
       "        3601954.31,  3261744.88,  3302164.36,  5130618.35,  3368386.92,\n",
       "        3195935.78,  6208818.27,  3013774.37,  4457575.6 ,  3076407.69,\n",
       "        3566930.55,  2956368.04,  4449990.92,  4203015.82,  4075648.23,\n",
       "        4542336.32,  3025318.16,  3878976.54,  4646209.44,  4455331.91,\n",
       "        3943737.85,  2049460.75,  4302413.26,  3463691.71,  4582553.74,\n",
       "        3466325.21,  2253530.26,  5377817.32,  2615706.82,  2581834.83,\n",
       "        4431036.56,  2454727.01,  2691734.35,  2138394.91,  4407221.18,\n",
       "        3663627.89,  4230006.48,  2929794.29,  3059344.84,  2278707.55,\n",
       "        2774139.01,  3961003.94,  3591585.86,  4535148.  ,  5105364.37,\n",
       "        3420184.18,  2691338.74,  3622961.4 ,  1488692.48,  2843092.54,\n",
       "        2902967.85,  1443264.9 ,  2027346.17,  1641216.68,  3257914.34,\n",
       "        3520366.56,  2802817.71,  2405716.21,  2380334.58,  3331134.85,\n",
       "        4567812.97,  4076227.  ,  3028489.17,  3576844.85,  3189562.  ,\n",
       "        4719454.03,  2387690.26,  3182958.71,  2853020.22,  3196774.34,\n",
       "        4027796.03,  3297509.23,  2986268.35,  3599177.72,  3148529.85,\n",
       "        4085752.71,  3535437.11,  4151215.52,  3213708.42,  3976898.06,\n",
       "        2485974.33,  3529753.12,  2346131.84,  2712269.93,  3605300.51,\n",
       "        3803735.04,  3145663.3 ,  2213889.54,  3020916.65,  5070147.1 ,\n",
       "        2247722.33,  2726520.05,  2330682.09,  2371149.16,  4643158.2 ,\n",
       "        3919539.03,  1221719.72,  1402869.86,  2163491.22,  1080237.43,\n",
       "        3405624.46,  1321520.55,  2518132.03,  1871489.2 ,  2265372.18,\n",
       "        2004829.36,  1637485.63,  3682754.53,  3469866.09,  2706982.5 ,\n",
       "        3688535.37,  2161290.41,  1384203.76,  1168908.12,  3045743.01,\n",
       "        2821308.8 ,  4263606.7 ,  1707747.23,  2116495.82,  1600760.22,\n",
       "        1677162.56,  3222254.69,  2696370.35,  2800804.89,  3788920.48,\n",
       "        2413544.75,  1605333.66,  1524119.26,  1504089.11,  2631534.42,\n",
       "        3200224.13,  1338269.89,  2443152.29,  3239995.82,  2308690.9 ,\n",
       "        2296595.32,  3043584.07,  3285472.34,  3043066.18,  2111859.83,\n",
       "        1876637.32,  2244975.83,  2386071.73,  1964991.99,  1447931.96,\n",
       "          36092.38,  -141346.43,  3015627.69,   951060.81,   644716.33,\n",
       "         707435.51,  1768282.66,   638880.26,  -291226.02,  -451231.69,\n",
       "        1345602.97,  1617370.38,   450917.02,   598781.51,  -421889.98,\n",
       "        -529038.05])"
      ]
     },
     "execution_count": 131,
     "metadata": {},
     "output_type": "execute_result"
    }
   ],
   "source": [
    "# Prediction_result2  = ('Predicted Stock Index Price: ', regressor2.predict(X))\n",
    "Prediction_result2  = regressor2.predict(X)\n",
    "Prediction_result2"
   ]
  },
  {
   "cell_type": "code",
   "execution_count": 132,
   "metadata": {
    "ExecuteTime": {
     "end_time": "2020-09-24T02:45:57.864711Z",
     "start_time": "2020-09-24T02:45:57.854678Z"
    }
   },
   "outputs": [],
   "source": [
    "# Add salary prediction to SALARY_PREDICTIONS (SAL_PRED) column\n",
    "dataset2['SAL_PRED'] = Prediction_result2\n",
    "dataset2['SAL_PRED'] = round(dataset2['SAL_PRED'], 0)\n",
    "dataset2['SAL_RISIDUAL'] = round(dataset2['SAL_PRED']/dataset2['INFLATION'], 2)"
   ]
  },
  {
   "cell_type": "code",
   "execution_count": 133,
   "metadata": {
    "ExecuteTime": {
     "end_time": "2020-09-24T02:45:58.347884Z",
     "start_time": "2020-09-24T02:45:58.316026Z"
    }
   },
   "outputs": [
    {
     "data": {
      "text/html": [
       "<div>\n",
       "<style scoped>\n",
       "    .dataframe tbody tr th:only-of-type {\n",
       "        vertical-align: middle;\n",
       "    }\n",
       "\n",
       "    .dataframe tbody tr th {\n",
       "        vertical-align: top;\n",
       "    }\n",
       "\n",
       "    .dataframe thead th {\n",
       "        text-align: right;\n",
       "    }\n",
       "</style>\n",
       "<table border=\"1\" class=\"dataframe\">\n",
       "  <thead>\n",
       "    <tr style=\"text-align: right;\">\n",
       "      <th></th>\n",
       "      <th>SEASON_ID</th>\n",
       "      <th>POSITION</th>\n",
       "      <th>PLAYER_ID</th>\n",
       "      <th>PLAYER_NAME</th>\n",
       "      <th>YEAR</th>\n",
       "      <th>YIL</th>\n",
       "      <th>MIN</th>\n",
       "      <th>PER</th>\n",
       "      <th>PIE</th>\n",
       "      <th>ALLSTAR</th>\n",
       "      <th>INFLATION</th>\n",
       "      <th>SAL_PRED</th>\n",
       "      <th>SAL_RISIDUAL</th>\n",
       "    </tr>\n",
       "  </thead>\n",
       "  <tbody>\n",
       "    <tr>\n",
       "      <th>59</th>\n",
       "      <td>2010-11</td>\n",
       "      <td>SG</td>\n",
       "      <td>201935</td>\n",
       "      <td>James Harden</td>\n",
       "      <td>2018</td>\n",
       "      <td>2</td>\n",
       "      <td>2189</td>\n",
       "      <td>1102.79</td>\n",
       "      <td>19.6</td>\n",
       "      <td>1</td>\n",
       "      <td>28299399</td>\n",
       "      <td>10208456.0</td>\n",
       "      <td>0.36</td>\n",
       "    </tr>\n",
       "    <tr>\n",
       "      <th>85</th>\n",
       "      <td>2005-06</td>\n",
       "      <td>SG</td>\n",
       "      <td>2753</td>\n",
       "      <td>Delonte West</td>\n",
       "      <td>2010</td>\n",
       "      <td>2</td>\n",
       "      <td>2418</td>\n",
       "      <td>988.53</td>\n",
       "      <td>17.2</td>\n",
       "      <td>0</td>\n",
       "      <td>4899071</td>\n",
       "      <td>6525962.0</td>\n",
       "      <td>1.33</td>\n",
       "    </tr>\n",
       "    <tr>\n",
       "      <th>88</th>\n",
       "      <td>2011-12</td>\n",
       "      <td>SG</td>\n",
       "      <td>202331</td>\n",
       "      <td>Paul George</td>\n",
       "      <td>2018</td>\n",
       "      <td>2</td>\n",
       "      <td>1958</td>\n",
       "      <td>977.49</td>\n",
       "      <td>16.3</td>\n",
       "      <td>1</td>\n",
       "      <td>19508958</td>\n",
       "      <td>9155739.0</td>\n",
       "      <td>0.47</td>\n",
       "    </tr>\n",
       "    <tr>\n",
       "      <th>3</th>\n",
       "      <td>2008-09</td>\n",
       "      <td>SG</td>\n",
       "      <td>200750</td>\n",
       "      <td>Brandon Roy</td>\n",
       "      <td>2009</td>\n",
       "      <td>3</td>\n",
       "      <td>2903</td>\n",
       "      <td>1813.95</td>\n",
       "      <td>15.4</td>\n",
       "      <td>1</td>\n",
       "      <td>3609979</td>\n",
       "      <td>8881171.0</td>\n",
       "      <td>2.46</td>\n",
       "    </tr>\n",
       "    <tr>\n",
       "      <th>1</th>\n",
       "      <td>2001-02</td>\n",
       "      <td>SG</td>\n",
       "      <td>1503</td>\n",
       "      <td>Tracy McGrady</td>\n",
       "      <td>2011</td>\n",
       "      <td>5</td>\n",
       "      <td>2912</td>\n",
       "      <td>2087.53</td>\n",
       "      <td>15.2</td>\n",
       "      <td>0</td>\n",
       "      <td>953783</td>\n",
       "      <td>8093925.0</td>\n",
       "      <td>8.49</td>\n",
       "    </tr>\n",
       "    <tr>\n",
       "      <th>...</th>\n",
       "      <td>...</td>\n",
       "      <td>...</td>\n",
       "      <td>...</td>\n",
       "      <td>...</td>\n",
       "      <td>...</td>\n",
       "      <td>...</td>\n",
       "      <td>...</td>\n",
       "      <td>...</td>\n",
       "      <td>...</td>\n",
       "      <td>...</td>\n",
       "      <td>...</td>\n",
       "      <td>...</td>\n",
       "      <td>...</td>\n",
       "    </tr>\n",
       "    <tr>\n",
       "      <th>311</th>\n",
       "      <td>2012-13</td>\n",
       "      <td>SG</td>\n",
       "      <td>202333</td>\n",
       "      <td>Xavier Henry</td>\n",
       "      <td>2014</td>\n",
       "      <td>3</td>\n",
       "      <td>625</td>\n",
       "      <td>224.81</td>\n",
       "      <td>0.0</td>\n",
       "      <td>0</td>\n",
       "      <td>937973</td>\n",
       "      <td>1617370.0</td>\n",
       "      <td>1.72</td>\n",
       "    </tr>\n",
       "    <tr>\n",
       "      <th>342</th>\n",
       "      <td>2006-07</td>\n",
       "      <td>SG</td>\n",
       "      <td>2427</td>\n",
       "      <td>Roger Mason Jr.</td>\n",
       "      <td>2010</td>\n",
       "      <td>3</td>\n",
       "      <td>492</td>\n",
       "      <td>101.47</td>\n",
       "      <td>-1.5</td>\n",
       "      <td>0</td>\n",
       "      <td>4352938</td>\n",
       "      <td>450917.0</td>\n",
       "      <td>0.10</td>\n",
       "    </tr>\n",
       "    <tr>\n",
       "      <th>228</th>\n",
       "      <td>2012-13</td>\n",
       "      <td>SG</td>\n",
       "      <td>101187</td>\n",
       "      <td>Alan Anderson</td>\n",
       "      <td>2006</td>\n",
       "      <td>4</td>\n",
       "      <td>1495</td>\n",
       "      <td>503.15</td>\n",
       "      <td>-1.5</td>\n",
       "      <td>0</td>\n",
       "      <td>496686</td>\n",
       "      <td>598782.0</td>\n",
       "      <td>1.21</td>\n",
       "    </tr>\n",
       "    <tr>\n",
       "      <th>329</th>\n",
       "      <td>2008-09</td>\n",
       "      <td>SG</td>\n",
       "      <td>200821</td>\n",
       "      <td>Yakhouba Diawara</td>\n",
       "      <td>2009</td>\n",
       "      <td>3</td>\n",
       "      <td>851</td>\n",
       "      <td>139.68</td>\n",
       "      <td>-4.5</td>\n",
       "      <td>0</td>\n",
       "      <td>1024152</td>\n",
       "      <td>-421890.0</td>\n",
       "      <td>-0.41</td>\n",
       "    </tr>\n",
       "    <tr>\n",
       "      <th>249</th>\n",
       "      <td>2006-07</td>\n",
       "      <td>SG</td>\n",
       "      <td>2592</td>\n",
       "      <td>James Jones</td>\n",
       "      <td>2008</td>\n",
       "      <td>4</td>\n",
       "      <td>1376</td>\n",
       "      <td>450.73</td>\n",
       "      <td>-6.6</td>\n",
       "      <td>0</td>\n",
       "      <td>3382258</td>\n",
       "      <td>-529038.0</td>\n",
       "      <td>-0.16</td>\n",
       "    </tr>\n",
       "  </tbody>\n",
       "</table>\n",
       "<p>351 rows × 13 columns</p>\n",
       "</div>"
      ],
      "text/plain": [
       "    SEASON_ID POSITION  PLAYER_ID       PLAYER_NAME  YEAR  YIL   MIN      PER  \\\n",
       "59    2010-11       SG     201935      James Harden  2018    2  2189  1102.79   \n",
       "85    2005-06       SG       2753      Delonte West  2010    2  2418   988.53   \n",
       "88    2011-12       SG     202331       Paul George  2018    2  1958   977.49   \n",
       "3     2008-09       SG     200750       Brandon Roy  2009    3  2903  1813.95   \n",
       "1     2001-02       SG       1503     Tracy McGrady  2011    5  2912  2087.53   \n",
       "..        ...      ...        ...               ...   ...  ...   ...      ...   \n",
       "311   2012-13       SG     202333      Xavier Henry  2014    3   625   224.81   \n",
       "342   2006-07       SG       2427   Roger Mason Jr.  2010    3   492   101.47   \n",
       "228   2012-13       SG     101187     Alan Anderson  2006    4  1495   503.15   \n",
       "329   2008-09       SG     200821  Yakhouba Diawara  2009    3   851   139.68   \n",
       "249   2006-07       SG       2592       James Jones  2008    4  1376   450.73   \n",
       "\n",
       "      PIE  ALLSTAR  INFLATION    SAL_PRED  SAL_RISIDUAL  \n",
       "59   19.6        1   28299399  10208456.0          0.36  \n",
       "85   17.2        0    4899071   6525962.0          1.33  \n",
       "88   16.3        1   19508958   9155739.0          0.47  \n",
       "3    15.4        1    3609979   8881171.0          2.46  \n",
       "1    15.2        0     953783   8093925.0          8.49  \n",
       "..    ...      ...        ...         ...           ...  \n",
       "311   0.0        0     937973   1617370.0          1.72  \n",
       "342  -1.5        0    4352938    450917.0          0.10  \n",
       "228  -1.5        0     496686    598782.0          1.21  \n",
       "329  -4.5        0    1024152   -421890.0         -0.41  \n",
       "249  -6.6        0    3382258   -529038.0         -0.16  \n",
       "\n",
       "[351 rows x 13 columns]"
      ]
     },
     "execution_count": 133,
     "metadata": {},
     "output_type": "execute_result"
    }
   ],
   "source": [
    "dataset2"
   ]
  },
  {
   "cell_type": "code",
   "execution_count": 41,
   "metadata": {
    "ExecuteTime": {
     "end_time": "2020-09-24T02:42:52.202630Z",
     "start_time": "2020-09-24T02:42:52.177759Z"
    }
   },
   "outputs": [
    {
     "data": {
      "text/html": [
       "<div>\n",
       "<style scoped>\n",
       "    .dataframe tbody tr th:only-of-type {\n",
       "        vertical-align: middle;\n",
       "    }\n",
       "\n",
       "    .dataframe tbody tr th {\n",
       "        vertical-align: top;\n",
       "    }\n",
       "\n",
       "    .dataframe thead th {\n",
       "        text-align: right;\n",
       "    }\n",
       "</style>\n",
       "<table border=\"1\" class=\"dataframe\">\n",
       "  <thead>\n",
       "    <tr style=\"text-align: right;\">\n",
       "      <th></th>\n",
       "      <th>SEASON_ID</th>\n",
       "      <th>POSITION</th>\n",
       "      <th>PLAYER_ID</th>\n",
       "      <th>PLAYER_NAME</th>\n",
       "      <th>YEAR</th>\n",
       "      <th>YIL</th>\n",
       "      <th>MIN</th>\n",
       "      <th>PER</th>\n",
       "      <th>PIE</th>\n",
       "      <th>ALLSTAR</th>\n",
       "      <th>INFLATION</th>\n",
       "      <th>SAL_PRED</th>\n",
       "      <th>SAL_RISIDUAL</th>\n",
       "    </tr>\n",
       "  </thead>\n",
       "  <tbody>\n",
       "    <tr>\n",
       "      <th>59</th>\n",
       "      <td>2010-11</td>\n",
       "      <td>SG</td>\n",
       "      <td>201935</td>\n",
       "      <td>James Harden</td>\n",
       "      <td>2018</td>\n",
       "      <td>2</td>\n",
       "      <td>2189</td>\n",
       "      <td>1102.79</td>\n",
       "      <td>19.6</td>\n",
       "      <td>1</td>\n",
       "      <td>28299399</td>\n",
       "      <td>12109628.0</td>\n",
       "      <td>0.43</td>\n",
       "    </tr>\n",
       "    <tr>\n",
       "      <th>0</th>\n",
       "      <td>2012-13</td>\n",
       "      <td>SG</td>\n",
       "      <td>201935</td>\n",
       "      <td>James Harden</td>\n",
       "      <td>2013</td>\n",
       "      <td>4</td>\n",
       "      <td>2985</td>\n",
       "      <td>2203.81</td>\n",
       "      <td>14.4</td>\n",
       "      <td>1</td>\n",
       "      <td>6273893</td>\n",
       "      <td>10368330.0</td>\n",
       "      <td>1.65</td>\n",
       "    </tr>\n",
       "  </tbody>\n",
       "</table>\n",
       "</div>"
      ],
      "text/plain": [
       "   SEASON_ID POSITION  PLAYER_ID   PLAYER_NAME  YEAR  YIL   MIN      PER  \\\n",
       "59   2010-11       SG     201935  James Harden  2018    2  2189  1102.79   \n",
       "0    2012-13       SG     201935  James Harden  2013    4  2985  2203.81   \n",
       "\n",
       "     PIE  ALLSTAR  INFLATION    SAL_PRED  SAL_RISIDUAL  \n",
       "59  19.6        1   28299399  12109628.0          0.43  \n",
       "0   14.4        1    6273893  10368330.0          1.65  "
      ]
     },
     "execution_count": 41,
     "metadata": {},
     "output_type": "execute_result"
    }
   ],
   "source": [
    "dataset2[dataset2['PLAYER_NAME'] == 'James Harden'].sort_values(by='YIL')"
   ]
  },
  {
   "cell_type": "code",
   "execution_count": null,
   "metadata": {},
   "outputs": [],
   "source": []
  },
  {
   "cell_type": "code",
   "execution_count": null,
   "metadata": {},
   "outputs": [],
   "source": []
  },
  {
   "cell_type": "code",
   "execution_count": null,
   "metadata": {},
   "outputs": [],
   "source": []
  },
  {
   "cell_type": "code",
   "execution_count": null,
   "metadata": {},
   "outputs": [],
   "source": []
  },
  {
   "cell_type": "markdown",
   "metadata": {},
   "source": [
    "## Heatmap to display correlations of all features"
   ]
  },
  {
   "cell_type": "code",
   "execution_count": null,
   "metadata": {
    "ExecuteTime": {
     "end_time": "2020-09-23T08:28:36.673409Z",
     "start_time": "2020-09-23T08:28:36.667431Z"
    }
   },
   "outputs": [],
   "source": [
    "import seaborn as sb"
   ]
  },
  {
   "cell_type": "code",
   "execution_count": null,
   "metadata": {
    "ExecuteTime": {
     "end_time": "2020-09-23T08:28:36.861446Z",
     "start_time": "2020-09-23T08:28:36.840505Z"
    }
   },
   "outputs": [],
   "source": [
    "dataset.iloc[:, 5:]"
   ]
  },
  {
   "cell_type": "code",
   "execution_count": null,
   "metadata": {
    "ExecuteTime": {
     "end_time": "2020-09-23T08:28:38.199762Z",
     "start_time": "2020-09-23T08:28:37.883619Z"
    }
   },
   "outputs": [],
   "source": [
    "train_data = dataset.iloc[:, 6:]\n",
    "# train_data['INFLATION'] = y \n",
    "\n",
    "C_mat = train_data.corr()\n",
    "fig = plt.figure(figsize = (15,15))\n",
    "\n",
    "sb.heatmap(C_mat, vmax = .8, square = True)\n",
    "plt.show()"
   ]
  },
  {
   "cell_type": "markdown",
   "metadata": {},
   "source": [
    "After reviewing which feature has most impact to one another, Year has little to no coorilation for other featuers other than Inflation. Inflation already calculates year difference. Additionally, Player age has little to no coorilation with other features besides FG_PCT, FG3_PCT, and FT_PCT."
   ]
  },
  {
   "cell_type": "code",
   "execution_count": null,
   "metadata": {},
   "outputs": [],
   "source": []
  },
  {
   "cell_type": "code",
   "execution_count": null,
   "metadata": {},
   "outputs": [],
   "source": []
  },
  {
   "cell_type": "code",
   "execution_count": null,
   "metadata": {},
   "outputs": [],
   "source": []
  },
  {
   "cell_type": "code",
   "execution_count": null,
   "metadata": {},
   "outputs": [],
   "source": []
  },
  {
   "cell_type": "code",
   "execution_count": null,
   "metadata": {},
   "outputs": [],
   "source": []
  },
  {
   "cell_type": "code",
   "execution_count": null,
   "metadata": {},
   "outputs": [],
   "source": []
  },
  {
   "cell_type": "code",
   "execution_count": null,
   "metadata": {},
   "outputs": [],
   "source": []
  },
  {
   "cell_type": "code",
   "execution_count": null,
   "metadata": {},
   "outputs": [],
   "source": []
  },
  {
   "cell_type": "code",
   "execution_count": null,
   "metadata": {},
   "outputs": [],
   "source": []
  },
  {
   "cell_type": "code",
   "execution_count": null,
   "metadata": {},
   "outputs": [],
   "source": []
  },
  {
   "cell_type": "code",
   "execution_count": null,
   "metadata": {},
   "outputs": [],
   "source": []
  },
  {
   "cell_type": "code",
   "execution_count": null,
   "metadata": {},
   "outputs": [],
   "source": []
  },
  {
   "cell_type": "code",
   "execution_count": null,
   "metadata": {},
   "outputs": [],
   "source": []
  },
  {
   "cell_type": "code",
   "execution_count": null,
   "metadata": {},
   "outputs": [],
   "source": []
  },
  {
   "cell_type": "code",
   "execution_count": null,
   "metadata": {},
   "outputs": [],
   "source": []
  },
  {
   "cell_type": "code",
   "execution_count": null,
   "metadata": {},
   "outputs": [],
   "source": []
  },
  {
   "cell_type": "code",
   "execution_count": null,
   "metadata": {},
   "outputs": [],
   "source": []
  },
  {
   "cell_type": "code",
   "execution_count": null,
   "metadata": {},
   "outputs": [],
   "source": []
  },
  {
   "cell_type": "code",
   "execution_count": null,
   "metadata": {},
   "outputs": [],
   "source": []
  },
  {
   "cell_type": "code",
   "execution_count": null,
   "metadata": {},
   "outputs": [],
   "source": []
  },
  {
   "cell_type": "markdown",
   "metadata": {
    "heading_collapsed": true
   },
   "source": [
    "## Linear Regression "
   ]
  },
  {
   "cell_type": "code",
   "execution_count": null,
   "metadata": {
    "ExecuteTime": {
     "end_time": "2020-09-20T02:05:25.427805Z",
     "start_time": "2020-09-20T02:05:25.414839Z"
    },
    "hidden": true
   },
   "outputs": [],
   "source": [
    "# Assign the data to X and y\n",
    "\n",
    "X = twenty_years_all_players[[\"MIN\", \"GP\"]]\n",
    "y = twenty_years_all_players[\"PPGP\"].values.reshape(-1, 1)\n",
    "print(X.shape, y.shape)"
   ]
  },
  {
   "cell_type": "code",
   "execution_count": null,
   "metadata": {
    "ExecuteTime": {
     "end_time": "2020-09-20T02:05:25.756797Z",
     "start_time": "2020-09-20T02:05:25.693279Z"
    },
    "hidden": true
   },
   "outputs": [],
   "source": [
    "# Use train_test_split to create training and testing data\n",
    "\n",
    "from sklearn.model_selection import train_test_split\n",
    "\n",
    "X_train, X_test, y_train, y_test = train_test_split(X, y, random_state=42)\n",
    "\n",
    "# Create the model using LinearRegression\n",
    "\n",
    "from sklearn.linear_model import LinearRegression\n",
    "model = LinearRegression()"
   ]
  },
  {
   "cell_type": "code",
   "execution_count": null,
   "metadata": {
    "ExecuteTime": {
     "end_time": "2020-09-20T02:05:25.898248Z",
     "start_time": "2020-09-20T02:05:25.875304Z"
    },
    "hidden": true
   },
   "outputs": [],
   "source": [
    "# Fit the model to the training data and calculate the scores for the training and testing data\n",
    "\n",
    "model.fit(X_train, y_train)\n",
    "training_score = model.score(X_train, y_train)\n",
    "testing_score = model.score(X_test, y_test)\n",
    "\n",
    "\n",
    "\n",
    "print(f\"Training Score: {training_score}\")\n",
    "print(f\"Testing Score: {testing_score}\")"
   ]
  },
  {
   "cell_type": "code",
   "execution_count": null,
   "metadata": {
    "ExecuteTime": {
     "end_time": "2020-09-20T02:05:26.288096Z",
     "start_time": "2020-09-20T02:05:26.075648Z"
    },
    "hidden": true
   },
   "outputs": [],
   "source": [
    "# Plot the Residuals for the Training and Testing data\n",
    "\n",
    "# Use `model.predict()` to get a prediction array from X_train and X_test\n",
    "y_train_prediction = model.predict(X_train)\n",
    "y_test_prediction = model.predict(X_test)\n",
    "\n",
    "# Plot the residual\n",
    "plt.scatter(y_train_prediction, y_train_prediction - y_train, c=\"blue\", label=\"Training Data (Points)\")\n",
    "plt.scatter(y_test_prediction, y_test_prediction - y_test, c=\"orange\", label=\"Testing Data (MIN, GP)\")\n",
    "plt.legend()\n",
    "plt.hlines(y=0, xmin=y.min(), xmax=y.max())\n",
    "plt.title(\"Residual Plot\")\n"
   ]
  },
  {
   "cell_type": "code",
   "execution_count": null,
   "metadata": {
    "hidden": true
   },
   "outputs": [],
   "source": []
  },
  {
   "cell_type": "markdown",
   "metadata": {
    "hidden": true
   },
   "source": [
    "--------------------------"
   ]
  },
  {
   "cell_type": "markdown",
   "metadata": {
    "ExecuteTime": {
     "end_time": "2020-09-20T00:24:04.790213Z",
     "start_time": "2020-09-20T00:24:04.776250Z"
    }
   },
   "source": [
    "## Logistic Regression\n",
    "* Assiging 'dummies'.        \n",
    "Creating columns for logistic regression out of categorical data in specific columns. ex: positon of player"
   ]
  },
  {
   "cell_type": "code",
   "execution_count": null,
   "metadata": {
    "ExecuteTime": {
     "end_time": "2020-09-20T01:43:10.940508Z",
     "start_time": "2020-09-20T01:43:10.924529Z"
    }
   },
   "outputs": [],
   "source": [
    "# twenty_years_all_players"
   ]
  },
  {
   "cell_type": "code",
   "execution_count": null,
   "metadata": {
    "ExecuteTime": {
     "end_time": "2020-09-20T01:43:11.109219Z",
     "start_time": "2020-09-20T01:43:11.096254Z"
    }
   },
   "outputs": [],
   "source": [
    "ml_test = twenty_years_all_players.drop(columns=['PLAYER_NAME','TEAM_ABBREVIATION','SEASON_ID'])"
   ]
  },
  {
   "cell_type": "code",
   "execution_count": null,
   "metadata": {
    "ExecuteTime": {
     "end_time": "2020-09-20T02:05:37.914808Z",
     "start_time": "2020-09-20T02:05:37.891885Z"
    }
   },
   "outputs": [],
   "source": [
    "ml_test2 = pd.get_dummies(ml_test)\n",
    "ml_test2.columns = ml_test2.columns.str.replace(' ','')\n",
    "ml_test2.head()"
   ]
  },
  {
   "cell_type": "markdown",
   "metadata": {
    "ExecuteTime": {
     "end_time": "2020-09-19T19:25:58.248942Z",
     "start_time": "2020-09-19T19:25:58.229846Z"
    }
   },
   "source": [
    "OREB: Offensive Rebounds  \n",
    "DREB: Defensive Rebounds   \n",
    "REB: Rebounds  \n",
    "AST: Assists  \n",
    "TOV: Turnovers  \n",
    "STL: Steals  \n",
    "BLK: Blocks  "
   ]
  },
  {
   "cell_type": "code",
   "execution_count": null,
   "metadata": {
    "ExecuteTime": {
     "end_time": "2020-09-20T02:05:38.658891Z",
     "start_time": "2020-09-20T02:05:38.643931Z"
    }
   },
   "outputs": [],
   "source": [
    "X = ml_test2[[\"MIN\", \"GP\"]]\n",
    "# Select the 'FEV' column for y, and then use values.reshape() to reshape it to a 2d array\n",
    "y = ml_test2[\"POSITION_C\"].values.reshape(-1, 1)"
   ]
  },
  {
   "cell_type": "code",
   "execution_count": null,
   "metadata": {
    "ExecuteTime": {
     "end_time": "2020-09-20T02:05:38.860484Z",
     "start_time": "2020-09-20T02:05:38.840538Z"
    }
   },
   "outputs": [],
   "source": [
    "from sklearn.model_selection import train_test_split\n",
    "\n",
    "X_train, X_test, y_train, y_test = train_test_split(X, y, random_state=1, test_size=0.33,)\n",
    "\n"
   ]
  },
  {
   "cell_type": "code",
   "execution_count": null,
   "metadata": {
    "ExecuteTime": {
     "end_time": "2020-09-20T02:05:39.063519Z",
     "start_time": "2020-09-20T02:05:39.049557Z"
    }
   },
   "outputs": [],
   "source": [
    "from sklearn.linear_model import LogisticRegression\n",
    "classifier = LogisticRegression()\n",
    "classifier"
   ]
  },
  {
   "cell_type": "code",
   "execution_count": null,
   "metadata": {
    "ExecuteTime": {
     "end_time": "2020-09-20T02:05:39.452773Z",
     "start_time": "2020-09-20T02:05:39.418844Z"
    }
   },
   "outputs": [],
   "source": [
    "classifier.fit(X_train, y_train)"
   ]
  },
  {
   "cell_type": "code",
   "execution_count": null,
   "metadata": {
    "ExecuteTime": {
     "end_time": "2020-09-20T02:05:40.989846Z",
     "start_time": "2020-09-20T02:05:40.970871Z"
    }
   },
   "outputs": [],
   "source": [
    "print(f\"Training Data Score: {classifier.score(X_train, y_train)}\")\n",
    "print(f\"Testing Data Score: {classifier.score(X_test, y_test)}\")"
   ]
  },
  {
   "cell_type": "code",
   "execution_count": null,
   "metadata": {
    "ExecuteTime": {
     "end_time": "2020-09-20T02:05:41.253726Z",
     "start_time": "2020-09-20T02:05:41.245774Z"
    }
   },
   "outputs": [],
   "source": []
  },
  {
   "cell_type": "code",
   "execution_count": null,
   "metadata": {
    "ExecuteTime": {
     "end_time": "2020-09-20T02:05:44.843679Z",
     "start_time": "2020-09-20T02:05:44.685611Z"
    }
   },
   "outputs": [],
   "source": [
    "# Generate a new data point (the red circle)\n",
    "import numpy as np\n",
    "new_data = np.array([[800, 36]])\n",
    "plt.scatter(X.iloc[:, 0], X.iloc[:, 1], c=y) \n",
    "plt.scatter(new_data[0, 0], new_data[0, 1], c=\"r\", marker=\"o\", s=100)"
   ]
  },
  {
   "cell_type": "code",
   "execution_count": null,
   "metadata": {
    "ExecuteTime": {
     "end_time": "2020-09-20T02:05:47.575286Z",
     "start_time": "2020-09-20T02:05:47.559325Z"
    }
   },
   "outputs": [],
   "source": [
    "# Predict the class (purple or yellow) of the new data point\n",
    "predictions = classifier.predict(new_data)\n",
    "print(\"Classes are either 0 (purple) or 1 (yellow)\")\n",
    "print(f\"The new point was classified as: {predictions}\")"
   ]
  },
  {
   "cell_type": "code",
   "execution_count": null,
   "metadata": {
    "ExecuteTime": {
     "end_time": "2020-09-20T00:10:44.418749Z",
     "start_time": "2020-09-20T00:10:44.413446Z"
    }
   },
   "outputs": [],
   "source": []
  },
  {
   "cell_type": "code",
   "execution_count": null,
   "metadata": {
    "ExecuteTime": {
     "end_time": "2020-09-20T02:05:50.508968Z",
     "start_time": "2020-09-20T02:05:50.480023Z"
    },
    "scrolled": true
   },
   "outputs": [],
   "source": [
    "predictions = classifier.predict(X_test)\n",
    "pd.DataFrame({\"Prediction\": predictions, \"Actual\": y_test})"
   ]
  },
  {
   "cell_type": "markdown",
   "metadata": {},
   "source": [
    "----------"
   ]
  },
  {
   "cell_type": "markdown",
   "metadata": {
    "heading_collapsed": true
   },
   "source": [
    "## TEST: DNN for regression    \n",
    "https://towardsdatascience.com/deep-neural-networks-for-regression-problems-81321897ca33"
   ]
  },
  {
   "cell_type": "code",
   "execution_count": null,
   "metadata": {
    "ExecuteTime": {
     "end_time": "2020-09-20T02:07:07.529202Z",
     "start_time": "2020-09-20T02:07:07.511246Z"
    },
    "hidden": true
   },
   "outputs": [],
   "source": [
    "X = ml_test2[[\"MIN\", \"GP\"]]\n",
    "# Select the 'FEV' column for y, and then use values.reshape() to reshape it to a 2d array\n",
    "y = ml_test2[\"POSITION_C\"].values.reshape(-1, 1)"
   ]
  },
  {
   "cell_type": "code",
   "execution_count": null,
   "metadata": {
    "ExecuteTime": {
     "end_time": "2020-09-20T02:07:07.810487Z",
     "start_time": "2020-09-20T02:07:07.796525Z"
    },
    "hidden": true
   },
   "outputs": [],
   "source": [
    "from sklearn.model_selection import train_test_split\n",
    "\n",
    "X_train, X_test, y_train, y_test = train_test_split(X, y, random_state=101, test_size=0.33)"
   ]
  },
  {
   "cell_type": "code",
   "execution_count": null,
   "metadata": {
    "hidden": true
   },
   "outputs": [],
   "source": []
  },
  {
   "cell_type": "code",
   "execution_count": null,
   "metadata": {
    "ExecuteTime": {
     "end_time": "2020-09-20T02:07:17.896210Z",
     "start_time": "2020-09-20T02:07:17.882215Z"
    },
    "hidden": true
   },
   "outputs": [],
   "source": [
    "def get_cols_with_no_nans(df,col_type):\n",
    "    '''\n",
    "    Arguments :\n",
    "    df : The dataframe to process\n",
    "    col_type : \n",
    "          num : to only get numerical columns with no nans\n",
    "          no_num : to only get nun-numerical columns with no nans\n",
    "          all : to get any columns with no nans    \n",
    "    '''\n",
    "    if (col_type == 'num'):\n",
    "        predictors = df.select_dtypes(exclude=['object'])\n",
    "    elif (col_type == 'no_num'):\n",
    "        predictors = df.select_dtypes(include=['object'])\n",
    "    elif (col_type == 'all'):\n",
    "        predictors = df\n",
    "    else :\n",
    "        print('Error : choose a type (num, no_num, all)')\n",
    "        return 0\n",
    "    cols_with_no_nans = []\n",
    "    for col in predictors.columns:\n",
    "        if not df[col].isnull().any():\n",
    "            cols_with_no_nans.append(col)\n",
    "    return cols_with_no_nans"
   ]
  },
  {
   "cell_type": "code",
   "execution_count": null,
   "metadata": {
    "ExecuteTime": {
     "end_time": "2020-09-20T02:07:18.224444Z",
     "start_time": "2020-09-20T02:07:18.207490Z"
    },
    "hidden": true
   },
   "outputs": [],
   "source": [
    "# define a function to get the columns that don’t have any missing values\n",
    "num_cols = get_cols_with_no_nans(ml_test2 , 'num')\n",
    "cat_cols = get_cols_with_no_nans(ml_test2 , 'no_num')"
   ]
  },
  {
   "cell_type": "code",
   "execution_count": null,
   "metadata": {
    "ExecuteTime": {
     "end_time": "2020-09-20T02:07:18.583850Z",
     "start_time": "2020-09-20T02:07:18.565874Z"
    },
    "hidden": true
   },
   "outputs": [],
   "source": [
    "print ('Number of numerical columns with no nan values :',len(num_cols))\n",
    "print ('Number of nun-numerical columns with no nan values :',len(cat_cols))"
   ]
  },
  {
   "cell_type": "code",
   "execution_count": null,
   "metadata": {
    "ExecuteTime": {
     "end_time": "2020-09-20T02:07:21.627215Z",
     "start_time": "2020-09-20T02:07:19.703953Z"
    },
    "hidden": true
   },
   "outputs": [],
   "source": [
    "combined = ml_test2[num_cols + cat_cols]\n",
    "combined.hist(figsize = (12,10))\n",
    "plt.show()"
   ]
  },
  {
   "cell_type": "code",
   "execution_count": null,
   "metadata": {
    "ExecuteTime": {
     "end_time": "2020-09-20T02:07:23.871714Z",
     "start_time": "2020-09-20T02:07:23.817869Z"
    },
    "hidden": true
   },
   "outputs": [],
   "source": [
    "import seaborn as sb"
   ]
  },
  {
   "cell_type": "code",
   "execution_count": null,
   "metadata": {
    "ExecuteTime": {
     "end_time": "2020-09-20T02:10:33.892373Z",
     "start_time": "2020-09-20T02:10:33.401686Z"
    },
    "hidden": true
   },
   "outputs": [],
   "source": [
    "train_data = combined[num_cols + cat_cols]\n",
    "train_data['POSITION_C'] = y \n",
    "\n",
    "C_mat = train_data.corr()\n",
    "fig = plt.figure(figsize = (15,15))\n",
    "\n",
    "sb.heatmap(C_mat, vmax = .8, square = True)\n",
    "plt.show()"
   ]
  },
  {
   "cell_type": "code",
   "execution_count": null,
   "metadata": {
    "ExecuteTime": {
     "end_time": "2020-09-20T02:10:47.160493Z",
     "start_time": "2020-09-20T02:10:47.140547Z"
    },
    "hidden": true
   },
   "outputs": [],
   "source": [
    "def oneHotEncode(df,colNames):\n",
    "    for col in colNames:\n",
    "        if( df[col].dtype == np.dtype('object')):\n",
    "            dummies = pd.get_dummies(df[col],prefix=col)\n",
    "            df = pd.concat([df,dummies],axis=1)\n",
    "\n",
    "            #drop the encoded column\n",
    "            df.drop([col],axis = 1 , inplace=True)\n",
    "    return df\n",
    "    \n",
    "\n",
    "print('There were {} columns before encoding categorical features'.format(combined.shape[1]))\n",
    "combined = oneHotEncode(combined, cat_cols)\n",
    "print('There are {} columns after encoding categorical features'.format(combined.shape[1]))"
   ]
  },
  {
   "cell_type": "code",
   "execution_count": null,
   "metadata": {
    "ExecuteTime": {
     "end_time": "2020-09-20T02:10:51.274663Z",
     "start_time": "2020-09-20T02:10:51.256738Z"
    },
    "hidden": true
   },
   "outputs": [],
   "source": [
    "def split_combined():\n",
    "    global combined\n",
    "    train = combined[:1460]\n",
    "    test = combined[1460:]\n",
    "\n",
    "    return train , test \n",
    "  \n",
    "train, test = split_combined()"
   ]
  },
  {
   "cell_type": "markdown",
   "metadata": {
    "ExecuteTime": {
     "end_time": "2020-09-20T00:55:15.851761Z",
     "start_time": "2020-09-20T00:55:15.821811Z"
    },
    "hidden": true
   },
   "source": [
    "-----------"
   ]
  },
  {
   "cell_type": "markdown",
   "metadata": {
    "heading_collapsed": true
   },
   "source": [
    "## TEST: DNN.\n",
    "Sequential model, dense layers, relu as activation function for hidden layers, normal initializer as kernel_initializer. Mean absolute error as loss function. Linear as activation function for output"
   ]
  },
  {
   "cell_type": "code",
   "execution_count": null,
   "metadata": {
    "ExecuteTime": {
     "end_time": "2020-09-20T01:47:15.096641Z",
     "start_time": "2020-09-20T01:47:15.080691Z"
    },
    "hidden": true
   },
   "outputs": [],
   "source": [
    "# first, create a normal neural network with 2 inputs, 6 hidden nodes, and 2 outputs\n",
    "from tensorflow.keras.models import Sequential\n",
    "from tensorflow.keras.layers import Dense\n",
    "\n",
    "from tensorflow.keras.utils import to_categorical"
   ]
  },
  {
   "cell_type": "code",
   "execution_count": null,
   "metadata": {
    "ExecuteTime": {
     "end_time": "2020-09-20T01:47:15.774795Z",
     "start_time": "2020-09-20T01:47:15.760802Z"
    },
    "hidden": true
   },
   "outputs": [],
   "source": [
    "from sklearn.preprocessing import StandardScaler\n",
    "\n",
    "# Create a StandardScater model and fit it to the training data\n",
    "X_scaler = StandardScaler().fit(X_train)"
   ]
  },
  {
   "cell_type": "code",
   "execution_count": null,
   "metadata": {
    "ExecuteTime": {
     "end_time": "2020-09-20T01:47:15.961575Z",
     "start_time": "2020-09-20T01:47:15.954571Z"
    },
    "hidden": true
   },
   "outputs": [],
   "source": [
    "# Transform the training and testing data using the X_scaler\n",
    "\n",
    "X_train_scaled = X_scaler.transform(X_train)\n",
    "X_test_scaled = X_scaler.transform(X_test)"
   ]
  },
  {
   "cell_type": "code",
   "execution_count": null,
   "metadata": {
    "ExecuteTime": {
     "end_time": "2020-09-20T01:47:16.133274Z",
     "start_time": "2020-09-20T01:47:16.121318Z"
    },
    "hidden": true
   },
   "outputs": [],
   "source": [
    "# One-hot encoding\n",
    "y_train_categorical = to_categorical(y_train)\n",
    "y_test_categorical = to_categorical(y_test)"
   ]
  },
  {
   "cell_type": "code",
   "execution_count": null,
   "metadata": {
    "ExecuteTime": {
     "end_time": "2020-09-20T01:47:16.322028Z",
     "start_time": "2020-09-20T01:47:16.295136Z"
    },
    "hidden": true
   },
   "outputs": [],
   "source": [
    "# first, create a normal neural network with 2 inputs, 6 hidden nodes, and 2 outputs\n",
    "from tensorflow.keras.models import Sequential\n",
    "from tensorflow.keras.layers import Dense\n",
    "import tensorflow as tf\n",
    "\n",
    "model = Sequential()\n",
    "model.add(Dense(units=6, activation='relu', input_dim=2, name='hidden'))\n",
    "model.add(Dense(units=2, activation='softmax', name='output'))"
   ]
  },
  {
   "cell_type": "code",
   "execution_count": null,
   "metadata": {
    "ExecuteTime": {
     "end_time": "2020-09-20T01:47:16.522875Z",
     "start_time": "2020-09-20T01:47:16.511904Z"
    },
    "hidden": true
   },
   "outputs": [],
   "source": [
    "model.summary()"
   ]
  },
  {
   "cell_type": "code",
   "execution_count": null,
   "metadata": {
    "ExecuteTime": {
     "end_time": "2020-09-20T01:47:19.237242Z",
     "start_time": "2020-09-20T01:47:19.216296Z"
    },
    "hidden": true
   },
   "outputs": [],
   "source": [
    "# Compile the model\n",
    "model.compile(optimizer='adam',\n",
    "              loss='categorical_crossentropy',\n",
    "              metrics=['accuracy'])"
   ]
  },
  {
   "cell_type": "code",
   "execution_count": null,
   "metadata": {
    "ExecuteTime": {
     "end_time": "2020-09-20T01:47:19.531603Z",
     "start_time": "2020-09-20T01:47:19.519635Z"
    },
    "hidden": true
   },
   "outputs": [],
   "source": [
    "config = tf.compat.v1.ConfigProto()\n",
    "config.gpu_options.allow_growth = True\n",
    "session = tf.compat.v1.Session(config=config)"
   ]
  },
  {
   "cell_type": "code",
   "execution_count": null,
   "metadata": {
    "ExecuteTime": {
     "end_time": "2020-09-20T01:47:31.638205Z",
     "start_time": "2020-09-20T01:47:19.976941Z"
    },
    "hidden": true,
    "scrolled": true
   },
   "outputs": [],
   "source": [
    "# Fit the model to the training data\n",
    "model.fit(\n",
    "    X_train_scaled,\n",
    "    y_train_categorical,\n",
    "    validation_data=(X_test_scaled, y_test_categorical),\n",
    "    epochs=60,\n",
    "    shuffle=True,\n",
    "    verbose=2\n",
    ")"
   ]
  },
  {
   "cell_type": "code",
   "execution_count": null,
   "metadata": {
    "hidden": true
   },
   "outputs": [],
   "source": []
  },
  {
   "cell_type": "markdown",
   "metadata": {
    "heading_collapsed": true,
    "hidden": true
   },
   "source": [
    "### TEST: Deep Learning"
   ]
  },
  {
   "cell_type": "code",
   "execution_count": null,
   "metadata": {
    "ExecuteTime": {
     "end_time": "2020-09-20T01:50:01.730245Z",
     "start_time": "2020-09-20T01:50:01.700325Z"
    },
    "hidden": true
   },
   "outputs": [],
   "source": [
    "deep_model = Sequential(name='deep_model')\n",
    "deep_model.add(Dense(units=6, activation='relu', input_dim=2, name='hidden'))\n",
    "deep_model.add(Dense(units=6, activation='relu', name='hidden_2'))\n",
    "deep_model.add(Dense(units=2, activation='softmax', name='output'))"
   ]
  },
  {
   "cell_type": "code",
   "execution_count": null,
   "metadata": {
    "ExecuteTime": {
     "end_time": "2020-09-20T01:50:01.947967Z",
     "start_time": "2020-09-20T01:50:01.941983Z"
    },
    "hidden": true
   },
   "outputs": [],
   "source": [
    "deep_model.summary()"
   ]
  },
  {
   "cell_type": "code",
   "execution_count": null,
   "metadata": {
    "ExecuteTime": {
     "end_time": "2020-09-20T01:50:03.424741Z",
     "start_time": "2020-09-20T01:50:03.413739Z"
    },
    "hidden": true
   },
   "outputs": [],
   "source": [
    "# deep_model.compile(optimizer='adam',\n",
    "#                    loss='categorical_crossentropy',\n",
    "#                    metrics=['accuracy'])\n",
    "\n",
    "# deep_model.compile(optimizer='adam',\n",
    "#                    loss='mean_absolute_error',\n",
    "#                    metrics=['mean_absolute_error'])\n",
    "# deep_model.fit(\n",
    "#     X_train_scaled,\n",
    "#     y_train_categorical,\n",
    "#     validation_data=(X_test_scaled, y_test_categorical),\n",
    "#     epochs=100,\n",
    "#     shuffle=True,\n",
    "#     verbose=2\n",
    "# )"
   ]
  },
  {
   "cell_type": "code",
   "execution_count": null,
   "metadata": {
    "ExecuteTime": {
     "end_time": "2020-09-20T01:50:42.531947Z",
     "start_time": "2020-09-20T01:50:22.741762Z"
    },
    "hidden": true,
    "scrolled": true
   },
   "outputs": [],
   "source": [
    "deep_model.compile(optimizer='adam',\n",
    "                   loss='categorical_crossentropy',\n",
    "                   metrics=['accuracy'])\n",
    "deep_model.fit(\n",
    "    X_train_scaled,\n",
    "    y_train_categorical,\n",
    "    validation_data=(X_test_scaled, y_test_categorical),\n",
    "    epochs=100,\n",
    "    shuffle=True,\n",
    "    verbose=2\n",
    ")"
   ]
  },
  {
   "cell_type": "markdown",
   "metadata": {
    "heading_collapsed": true,
    "hidden": true
   },
   "source": [
    "### Compare the models below"
   ]
  },
  {
   "cell_type": "code",
   "execution_count": null,
   "metadata": {
    "ExecuteTime": {
     "end_time": "2020-09-20T01:48:24.740507Z",
     "start_time": "2020-09-20T01:48:24.648287Z"
    },
    "hidden": true
   },
   "outputs": [],
   "source": [
    "model_loss, model_accuracy = model.evaluate(\n",
    "    X_test_scaled, y_test_categorical, verbose=2)\n",
    "print(\n",
    "    f\"Normal Neural Network - Loss: {model_loss}, Accuracy: {model_accuracy}\")"
   ]
  },
  {
   "cell_type": "code",
   "execution_count": null,
   "metadata": {
    "ExecuteTime": {
     "end_time": "2020-09-20T01:48:24.881784Z",
     "start_time": "2020-09-20T01:48:24.741487Z"
    },
    "hidden": true
   },
   "outputs": [],
   "source": [
    "model_loss, model_accuracy = deep_model.evaluate(\n",
    "    X_test_scaled, y_test_categorical, verbose=2)\n",
    "print(f\"Deep Neural Network - Loss: {model_loss}, Accuracy: {model_accuracy}\")"
   ]
  },
  {
   "cell_type": "code",
   "execution_count": null,
   "metadata": {
    "ExecuteTime": {
     "end_time": "2020-09-20T02:12:34.334234Z",
     "start_time": "2020-09-20T02:12:34.207491Z"
    },
    "hidden": true
   },
   "outputs": [],
   "source": []
  },
  {
   "cell_type": "markdown",
   "metadata": {
    "hidden": true
   },
   "source": [
    "-----------------"
   ]
  },
  {
   "cell_type": "code",
   "execution_count": null,
   "metadata": {
    "ExecuteTime": {
     "end_time": "2020-09-20T02:14:48.898501Z",
     "start_time": "2020-09-20T02:14:48.894484Z"
    },
    "hidden": true
   },
   "outputs": [],
   "source": [
    "import tensorflow.keras as keras"
   ]
  },
  {
   "cell_type": "code",
   "execution_count": null,
   "metadata": {
    "ExecuteTime": {
     "end_time": "2020-09-20T02:15:13.726325Z",
     "start_time": "2020-09-20T02:15:13.710318Z"
    },
    "hidden": true
   },
   "outputs": [],
   "source": [
    "checkpoint_name = 'Weights-{epoch:03d}--{val_loss:.5f}.hdf5' \n",
    "checkpoint = ModelCheckpoint(checkpoint_name, monitor='val_loss', verbose = 1, save_best_only = True, mode ='auto')\n",
    "callbacks_list = [checkpoint]"
   ]
  },
  {
   "cell_type": "code",
   "execution_count": null,
   "metadata": {
    "hidden": true
   },
   "outputs": [],
   "source": []
  },
  {
   "cell_type": "code",
   "execution_count": null,
   "metadata": {
    "hidden": true
   },
   "outputs": [],
   "source": []
  },
  {
   "cell_type": "code",
   "execution_count": null,
   "metadata": {
    "hidden": true
   },
   "outputs": [],
   "source": []
  },
  {
   "cell_type": "code",
   "execution_count": null,
   "metadata": {
    "hidden": true
   },
   "outputs": [],
   "source": []
  },
  {
   "cell_type": "markdown",
   "metadata": {
    "hidden": true
   },
   "source": [
    "--------"
   ]
  },
  {
   "cell_type": "code",
   "execution_count": null,
   "metadata": {
    "ExecuteTime": {
     "end_time": "2020-09-20T02:06:19.528953Z",
     "start_time": "2020-09-20T02:06:19.513107Z"
    },
    "hidden": true
   },
   "outputs": [],
   "source": [
    "# Ridge model\n",
    "# Note: Use an alpha of .01 when creating the model for this activity\n",
    "from sklearn.linear_model import Ridge\n",
    "\n",
    "### BEGIN SOLUTION\n",
    "ridge = Ridge(alpha=.01)\n",
    "ridge.fit(X_train_scaled, y_train_scaled)\n",
    "\n",
    "predictions = ridge.predict(X_test_scaled)\n",
    "\n",
    "MSE = mean_squared_error(y_test_scaled, predictions)\n",
    "r2 = ridge.score(X_test_scaled, y_test_scaled)\n",
    "### END SOLUTION\n",
    "\n",
    "print(f\"MSE: {MSE}, R2: {r2}\")"
   ]
  },
  {
   "cell_type": "code",
   "execution_count": null,
   "metadata": {
    "ExecuteTime": {
     "end_time": "2020-09-19T19:30:50.034739Z",
     "start_time": "2020-09-19T19:30:50.025765Z"
    },
    "hidden": true
   },
   "outputs": [],
   "source": [
    "# ElasticNet model\n",
    "# Note: Use an alpha of .01 when creating the model for this activity\n",
    "from sklearn.linear_model import ElasticNet\n",
    "\n",
    "### BEGIN SOLUTION\n",
    "elasticnet = ElasticNet(alpha=.01)\n",
    "elasticnet.fit(X_train_scaled, y_train_scaled)\n",
    "\n",
    "predictions = elasticnet.predict(X_test_scaled)\n",
    "\n",
    "MSE = mean_squared_error(y_test_scaled, predictions)\n",
    "r2 = elasticnet.score(X_test_scaled, y_test_scaled)\n",
    "### END SOLUTION\n",
    "\n",
    "print(f\"MSE: {MSE}, R2: {r2}\")\n"
   ]
  },
  {
   "cell_type": "markdown",
   "metadata": {
    "hidden": true
   },
   "source": [
    "---------------"
   ]
  }
 ],
 "metadata": {
  "kernelspec": {
   "display_name": "Python 3",
   "language": "python",
   "name": "python3"
  },
  "language_info": {
   "codemirror_mode": {
    "name": "ipython",
    "version": 3
   },
   "file_extension": ".py",
   "mimetype": "text/x-python",
   "name": "python",
   "nbconvert_exporter": "python",
   "pygments_lexer": "ipython3",
   "version": "3.7.1"
  }
 },
 "nbformat": 4,
 "nbformat_minor": 4
}
