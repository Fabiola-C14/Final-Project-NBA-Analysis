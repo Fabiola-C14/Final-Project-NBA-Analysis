{
 "cells": [
  {
   "cell_type": "markdown",
   "metadata": {},
   "source": [
    "## Libraries"
   ]
  },
  {
   "cell_type": "code",
   "execution_count": null,
   "metadata": {},
   "outputs": [],
   "source": []
  },
  {
   "cell_type": "code",
   "execution_count": null,
   "metadata": {
    "ExecuteTime": {
     "end_time": "2020-09-25T07:58:58.914546Z",
     "start_time": "2020-09-25T07:58:58.204293Z"
    }
   },
   "outputs": [],
   "source": [
    "%matplotlib inline\n",
    "import matplotlib.pyplot as plt\n",
    "import numpy as np\n",
    "import pandas as pd\n",
    "\n",
    "# Dependencies and Setup\n",
    "import time\n",
    "from pprint import pprint\n",
    "import requests\n",
    "from datetime import date, timedelta, datetime\n",
    "import json\n",
    "from pprint import pprint\n",
    "from tqdm import tqdm\n",
    "from tqdm import tqdm_notebook\n",
    "# sqlite Dependencies\n",
    "# ----------------------------------\n",
    "# Allow us to declare column types\n",
    "from sqlalchemy import Column, Integer, String, Text, DateTime, Float, Boolean, ForeignKey\n",
    "from sqlalchemy.orm import relationship\n",
    "from sqlalchemy.ext.declarative import declarative_base\n",
    "from sqlalchemy.orm import Session\n",
    "# Go to existing database with automap_base\n",
    "from sqlalchemy.ext.automap import automap_base\n",
    "# Work through mapper to use python code\n",
    "from sqlalchemy.orm import Session, relationship\n",
    "# Inspect with python\n",
    "from sqlalchemy import create_engine, inspect\n",
    "from config import APIKEY"
   ]
  },
  {
   "cell_type": "code",
   "execution_count": null,
   "metadata": {
    "ExecuteTime": {
     "end_time": "2020-09-25T07:58:58.993557Z",
     "start_time": "2020-09-25T07:58:58.916208Z"
    }
   },
   "outputs": [],
   "source": [
    "from nba_api.stats.endpoints import playercareerstats, drafthistory, commonplayerinfo, playerawards"
   ]
  },
  {
   "cell_type": "code",
   "execution_count": null,
   "metadata": {
    "ExecuteTime": {
     "end_time": "2020-09-25T07:58:59.008499Z",
     "start_time": "2020-09-25T07:58:58.994563Z"
    }
   },
   "outputs": [],
   "source": [
    "# Not used\n",
    "# cumestatsplayer,draftcombinedrillresults,playerdashboardbyteamperformance, leagueleaders, leaguedashplayerstats, draftcombinenonstationaryshooting, draftcombinestats, commonallplayers,"
   ]
  },
  {
   "cell_type": "markdown",
   "metadata": {},
   "source": [
    "-------------"
   ]
  },
  {
   "cell_type": "markdown",
   "metadata": {},
   "source": [
    "## Open Saved JSON"
   ]
  },
  {
   "cell_type": "code",
   "execution_count": null,
   "metadata": {
    "ExecuteTime": {
     "end_time": "2020-09-25T08:00:53.502528Z",
     "start_time": "2020-09-25T08:00:53.494562Z"
    }
   },
   "outputs": [],
   "source": [
    "with open('../../datasets/top_2020_yil_5.json') as json_file:\n",
    "    data = json.load(json_file)"
   ]
  },
  {
   "cell_type": "code",
   "execution_count": null,
   "metadata": {
    "ExecuteTime": {
     "end_time": "2020-09-25T08:00:53.767658Z",
     "start_time": "2020-09-25T08:00:53.740739Z"
    }
   },
   "outputs": [],
   "source": [
    "all_logs = pd.read_json(data).copy()\n",
    "all_logs"
   ]
  },
  {
   "cell_type": "code",
   "execution_count": null,
   "metadata": {
    "ExecuteTime": {
     "end_time": "2020-09-25T08:03:33.449942Z",
     "start_time": "2020-09-25T08:03:33.437974Z"
    }
   },
   "outputs": [],
   "source": [
    "# Create Weather and Earthquake Classes\n",
    "# ----------------------------------\n",
    "# Sets an object to utilize the default declarative base in SQL Alchemy\n",
    "Base = declarative_base()"
   ]
  },
  {
   "cell_type": "code",
   "execution_count": null,
   "metadata": {
    "ExecuteTime": {
     "end_time": "2020-09-25T08:03:33.794444Z",
     "start_time": "2020-09-25T08:03:33.777489Z"
    }
   },
   "outputs": [],
   "source": [
    "# Use this to clear out the db\n",
    "# ----------------------------------\n",
    "# # Session.rollback(self)\n",
    "# Base.metadata.drop_all(engine)\n",
    "# session.commit()"
   ]
  },
  {
   "cell_type": "code",
   "execution_count": null,
   "metadata": {
    "ExecuteTime": {
     "end_time": "2020-09-25T08:03:35.066652Z",
     "start_time": "2020-09-25T08:03:35.053686Z"
    }
   },
   "outputs": [],
   "source": [
    "## Class base template to upload to sqlite\n",
    "class top2020Yil5(Base):\n",
    "    __tablename__ = 'top_2020_yil_5'\n",
    " \n",
    "    id = Column(Integer, primary_key=True)\n",
    "    POSITION = Column(String(3))\n",
    "    PLAYER_NAME = Column(String(70))\n",
    "    YEAR = Column(Float)\n",
    "    YIL = Column(Float)\n",
    "    ROUND_NUMBER = Column(Float)\n",
    "    OVERALL_PICK = Column(Float)\n",
    "    MIN_PRED = Column(Float)\n",
    "    PER = Column(Float)\n",
    "    INJURY_PY = Column(Float)\n",
    "    INFLATION = Column(Float)\n",
    "    SAL_PRED = Column(Float)\n",
    "    SAL_RISIDUAL = Column(Float)\n"
   ]
  },
  {
   "cell_type": "code",
   "execution_count": null,
   "metadata": {},
   "outputs": [],
   "source": [
    "# Create Database Connection\n",
    "# ----------------------------------\n",
    "# Creates a connection to our DB\n",
    "# Engine opens the door. Conn is the walk through sign\n",
    "engine = create_engine(\"sqlite:///db.sqlite\")\n",
    "conn = engine.connect()\n",
    "# Create a \"Metadata\" Layer That Abstracts our SQL Database\n",
    "# ----------------------------------\n",
    "# Create (if not already in existence) the tables associated with our classes.\n",
    "# Base.metadata.create_all(engine)\n",
    "# Create a Session Object to Connect to DB\n",
    "# ----------------------------------\n",
    "session = Session(bind=engine)"
   ]
  },
  {
   "cell_type": "code",
   "execution_count": null,
   "metadata": {
    "ExecuteTime": {
     "end_time": "2020-09-25T08:02:30.862203Z",
     "start_time": "2020-09-25T08:02:30.840500Z"
    }
   },
   "outputs": [],
   "source": [
    "session.add(top_2020_yil_5)"
   ]
  },
  {
   "cell_type": "code",
   "execution_count": null,
   "metadata": {
    "ExecuteTime": {
     "end_time": "2020-09-25T08:01:26.202261Z",
     "start_time": "2020-09-25T08:01:26.185332Z"
    }
   },
   "outputs": [],
   "source": [
    "session.commit()"
   ]
  },
  {
   "cell_type": "code",
   "execution_count": null,
   "metadata": {},
   "outputs": [],
   "source": [
    "# # Create Database Connection\n",
    "# # ----------------------------------\n",
    "# # Creates a connection to our DB\n",
    "# # Engine opens the door. Conn is the walk through sign\n",
    "# engine = create_engine(\"sqlite:///db.sqlite\")\n",
    "# conn = engine.connect()\n",
    "# # Create a \"Metadata\" Layer That Abstracts our SQL Database\n",
    "# # ----------------------------------\n",
    "# # Create (if not already in existence) the tables associated with our classes.\n",
    "# Base.metadata.create_all(engine)\n",
    "# # Create a Session Object to Connect to DB\n",
    "# # ----------------------------------\n",
    "# session = Session(bind=engine)"
   ]
  },
  {
   "cell_type": "code",
   "execution_count": null,
   "metadata": {},
   "outputs": [],
   "source": [
    "## Function: Add Weather Series to sql\n",
    "# def addToSQL(all_logs):\n",
    "#     x=0\n",
    "#     while x <= (len(all_logs) - 1):\n",
    "#         try: \n",
    "#             weather_data = WeatherSeries(\n",
    "#                 city = all_logs[\"city\"][x],\n",
    "#                 country = all_logs[\"country\"][x],\n",
    "#                 region = all_logs[\"region\"][x],\n",
    "#                 avgtemp = all_logs[\"avgtemp\"][x],\n",
    "#                 date = all_logs[\"date\"][x],\n",
    "#                 date_epoch = all_logs[\"date_epoch\"][x],\n",
    "#                 maxtemp = all_logs[\"maxtemp\"][x],\n",
    "#                 mintemp = all_logs[\"mintemp\"][x],\n",
    "#                 sunhour = all_logs[\"sunhour\"][x],\n",
    "#                 totalsnow = all_logs[\"totalsnow\"][x],\n",
    "#                 uv_index = all_logs[\"uv_index\"][x],\n",
    "#                 magnitude = all_logs[\"magnitude\"][x],\n",
    "#                 place = all_logs[\"place\"][x],\n",
    "#                 lat = all_logs[\"lat\"][x],\n",
    "#                 long = all_logs[\"long\"][x],\n",
    "#                 )\n",
    "#             x+=1\n",
    "#         except OperationalError:\n",
    "#             pass\n",
    "            \n",
    "#         # Add Records to the Appropriate DB\n",
    "#         # ----------------------------------\n",
    "#         # Use the SQL ALchemy methods to run simple \"INSERT\" statements using the classes and objects  \n",
    "#         session.add(weather_data)\n",
    "#         # session.add(earthquake_data)\n",
    "#         session.commit()\n",
    "#     return 'Complete: Uploaded to SQLite DB'"
   ]
  },
  {
   "cell_type": "code",
   "execution_count": null,
   "metadata": {},
   "outputs": [],
   "source": []
  },
  {
   "cell_type": "code",
   "execution_count": null,
   "metadata": {
    "ExecuteTime": {
     "end_time": "2020-09-25T08:00:33.736280Z",
     "start_time": "2020-09-25T08:00:33.719325Z"
    }
   },
   "outputs": [],
   "source": [
    "Base = automap_base()\n",
    "Base.prepare(engine, reflect=True)\n",
    "# Check db table names\n",
    "Base.classes.keys()\n",
    "# weather_table = Base.classes.top2020Yil5\n",
    "# weather_container = session.query(top_2020_yil_5).limit(10)\n",
    "# weather_data = []"
   ]
  },
  {
   "cell_type": "code",
   "execution_count": null,
   "metadata": {},
   "outputs": [],
   "source": []
  },
  {
   "cell_type": "code",
   "execution_count": null,
   "metadata": {},
   "outputs": [],
   "source": []
  },
  {
   "cell_type": "code",
   "execution_count": null,
   "metadata": {},
   "outputs": [],
   "source": []
  },
  {
   "cell_type": "markdown",
   "metadata": {},
   "source": [
    "------------"
   ]
  }
 ],
 "metadata": {
  "kernelspec": {
   "display_name": "Python 3",
   "language": "python",
   "name": "python3"
  },
  "language_info": {
   "codemirror_mode": {
    "name": "ipython",
    "version": 3
   },
   "file_extension": ".py",
   "mimetype": "text/x-python",
   "name": "python",
   "nbconvert_exporter": "python",
   "pygments_lexer": "ipython3",
   "version": "3.7.1"
  }
 },
 "nbformat": 4,
 "nbformat_minor": 4
}
