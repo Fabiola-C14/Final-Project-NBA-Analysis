{
 "cells": [
  {
   "cell_type": "markdown",
   "metadata": {},
   "source": [
    "## Libraries"
   ]
  },
  {
   "cell_type": "code",
   "execution_count": null,
   "metadata": {
    "ExecuteTime": {
     "end_time": "2020-09-23T06:34:04.214229Z",
     "start_time": "2020-09-23T06:34:03.526222Z"
    }
   },
   "outputs": [],
   "source": [
    "%matplotlib inline\n",
    "import matplotlib.pyplot as plt\n",
    "import numpy as np\n",
    "import pandas as pd\n",
    "\n",
    "# Dependencies and Setup\n",
    "import time\n",
    "from pprint import pprint\n",
    "import requests\n",
    "from datetime import date, timedelta, datetime\n",
    "import json\n",
    "from pprint import pprint\n",
    "from tqdm import tqdm\n",
    "from tqdm import tqdm_notebook\n",
    "# sqlite Dependencies\n",
    "# ----------------------------------\n",
    "# Imports the method used for connecting to DBs\n",
    "from sqlalchemy import create_engine\n",
    "# Allow us to declare column types\n",
    "from sqlalchemy import Column, Integer, String, Text, DateTime, Float, Boolean, ForeignKey\n",
    "from sqlalchemy.orm import relationship\n",
    "from sqlalchemy.ext.declarative import declarative_base\n",
    "from sqlalchemy.orm import Session"
   ]
  },
  {
   "cell_type": "code",
   "execution_count": null,
   "metadata": {
    "ExecuteTime": {
     "end_time": "2020-09-23T06:34:04.292199Z",
     "start_time": "2020-09-23T06:34:04.215227Z"
    }
   },
   "outputs": [],
   "source": [
    "from nba_api.stats.endpoints import playercareerstats, drafthistory, commonplayerinfo, playerawards"
   ]
  },
  {
   "cell_type": "code",
   "execution_count": null,
   "metadata": {
    "ExecuteTime": {
     "end_time": "2020-09-23T06:34:04.308163Z",
     "start_time": "2020-09-23T06:34:04.293173Z"
    }
   },
   "outputs": [],
   "source": [
    "# Not used\n",
    "# cumestatsplayer,draftcombinedrillresults,playerdashboardbyteamperformance, leagueleaders, leaguedashplayerstats, draftcombinenonstationaryshooting, draftcombinestats, commonallplayers,"
   ]
  },
  {
   "cell_type": "markdown",
   "metadata": {},
   "source": [
    "-------------"
   ]
  },
  {
   "cell_type": "markdown",
   "metadata": {},
   "source": [
    "## Open Saved JSON"
   ]
  },
  {
   "cell_type": "code",
   "execution_count": null,
   "metadata": {
    "ExecuteTime": {
     "end_time": "2020-09-23T07:10:13.654224Z",
     "start_time": "2020-09-23T07:10:13.508908Z"
    }
   },
   "outputs": [],
   "source": [
    "with open('./_players_all_data.json') as json_file:\n",
    "    data = json.load(json_file)"
   ]
  },
  {
   "cell_type": "code",
   "execution_count": null,
   "metadata": {
    "ExecuteTime": {
     "end_time": "2020-09-23T07:10:13.730905Z",
     "start_time": "2020-09-23T07:10:13.707207Z"
    }
   },
   "outputs": [],
   "source": [
    "#  Player salaries by year and inflation. Position\n",
    "player_positions = pd.read_csv('../../datasets/nba_salaries.csv') "
   ]
  },
  {
   "cell_type": "markdown",
   "metadata": {},
   "source": [
    "--------------"
   ]
  },
  {
   "cell_type": "markdown",
   "metadata": {},
   "source": [
    "#### Key: \n",
    "\n",
    "* GP: Games Played\n",
    "* MIN: Minutes Played\n",
    "* FGM: Field Goals Made\n",
    "* FGA: Field Goals Attempted\n",
    "* FG%: Field Goal Percentage\n",
    "* 3PM: 3 Point Field Goals Made\n",
    "* 3PA: 3 Point Field Goals Attempted\n",
    "* 3P%: 3 Point Field Goals Percentage\n",
    "* FTM: Free Throws Made\n",
    "* FTA: Free Throws Attempted\n",
    "* FT%: Free Throw Percentage\n",
    "* OREB: Offensive Rebounds\n",
    "* DREB: Defensive Rebounds\n",
    "* REB: Rebounds\n",
    "* AST: Assists\n",
    "* TOV: Turnovers\n",
    "* STL: Steals\n",
    "* BLK: Blocks\n",
    "* PF: Personal Fouls\n",
    "* DD2: Double Doubles\n",
    "* TD3: Trible Doubles\n",
    "* PTS: Points\n",
    "* YIL: Year in League\n",
    "\n",
    "\n"
   ]
  },
  {
   "cell_type": "markdown",
   "metadata": {
    "heading_collapsed": true
   },
   "source": [
    "## Clean df and add columns"
   ]
  },
  {
   "cell_type": "markdown",
   "metadata": {
    "hidden": true
   },
   "source": [
    "add Points Per Games Played (PPGP), add position"
   ]
  },
  {
   "cell_type": "code",
   "execution_count": null,
   "metadata": {
    "ExecuteTime": {
     "end_time": "2020-09-23T07:10:14.666175Z",
     "start_time": "2020-09-23T07:10:14.657199Z"
    },
    "hidden": true
   },
   "outputs": [],
   "source": [
    "# df1.merge(df2, left_on='lkey', right_on='rkey',\n",
    "\n",
    "#           suffixes=('_left', '_right'))"
   ]
  },
  {
   "cell_type": "code",
   "execution_count": null,
   "metadata": {
    "ExecuteTime": {
     "end_time": "2020-09-23T07:10:14.882163Z",
     "start_time": "2020-09-23T07:10:14.871168Z"
    },
    "hidden": true
   },
   "outputs": [],
   "source": [
    "player_positions = player_positions.rename(columns={'Player':'PLAYER_NAME'}) "
   ]
  },
  {
   "cell_type": "code",
   "execution_count": null,
   "metadata": {
    "ExecuteTime": {
     "end_time": "2020-09-23T07:10:15.507959Z",
     "start_time": "2020-09-23T07:10:15.277086Z"
    },
    "hidden": true
   },
   "outputs": [],
   "source": [
    "five_year_all_players = pd.read_json(data)\n",
    "five_year_all_players = five_year_all_players.drop(columns=['LEAGUE_ID','TEAM_ID','TEAM_ABBREVIATION'])"
   ]
  },
  {
   "cell_type": "code",
   "execution_count": null,
   "metadata": {
    "ExecuteTime": {
     "end_time": "2020-09-23T07:10:20.242671Z",
     "start_time": "2020-09-23T07:10:20.114646Z"
    },
    "hidden": true,
    "scrolled": true
   },
   "outputs": [],
   "source": [
    "twenty_years_all_players_raw = five_year_all_players[five_year_all_players['SEASON_ID'] > '1999-00']\n",
    "twenty_years_all_players_raw = twenty_years_all_players_raw.merge(player_positions, left_on='PLAYER_NAME', right_on='PLAYER_NAME',suffixes=('_left', '_right')).drop_duplicates( keep='first').reset_index(drop=True).dropna(how='any')\n",
    "twenty_years_all_players_raw['PPGP'] = round(twenty_years_all_players_raw['PTS'] / twenty_years_all_players_raw['GP'], 2)\n",
    "twenty_years_all_players_raw = twenty_years_all_players_raw.rename(str.upper, axis='columns')\n",
    "twenty_years_all_players_raw['POSITION'] = twenty_years_all_players_raw['POSITION'].str.strip()\n",
    "twenty_years_all_players_raw = twenty_years_all_players_raw[(twenty_years_all_players_raw.POSITION != 'GF') & (twenty_years_all_players_raw.POSITION != 'NA')]\n",
    "twenty_years_all_players_raw = twenty_years_all_players_raw[['YEAR','PLAYER_ID','POSITION', 'PLAYER_NAME','SEASON_ID','YIL', 'PLAYER_AGE', 'GP', 'GS', 'MIN', 'FGM', 'FGA',\n",
    "       'FG_PCT', 'FG3M', 'FG3A', 'FG3_PCT', 'FTM', 'FTA', 'FT_PCT', 'OREB',\n",
    "       'DREB', 'REB', 'AST', 'STL', 'BLK', 'TOV', 'PF', 'PTS', 'PPGP', 'INFLATION']]"
   ]
  },
  {
   "cell_type": "markdown",
   "metadata": {
    "heading_collapsed": true
   },
   "source": [
    "## Save combined data to json"
   ]
  },
  {
   "cell_type": "code",
   "execution_count": null,
   "metadata": {
    "ExecuteTime": {
     "end_time": "2020-09-23T07:12:55.842136Z",
     "start_time": "2020-09-23T07:12:55.829163Z"
    },
    "hidden": true
   },
   "outputs": [],
   "source": [
    "twenty_years_all_players_raw=twenty_years_all_players_raw.to_json(orient='records')\n",
    "\n",
    "# SAVE: Player_position\n",
    "with open(f'./clean_combined_data_for_ml.json', 'w') as fp:\n",
    "    json.dump(twenty_years_all_players_raw, fp)"
   ]
  },
  {
   "cell_type": "markdown",
   "metadata": {},
   "source": [
    "## Open combined data from json"
   ]
  },
  {
   "cell_type": "code",
   "execution_count": null,
   "metadata": {
    "ExecuteTime": {
     "end_time": "2020-09-23T07:13:02.625265Z",
     "start_time": "2020-09-23T07:13:02.346898Z"
    }
   },
   "outputs": [],
   "source": [
    "with open('./clean_combined_data_for_ml.json') as json_file:\n",
    "    data = json.load(json_file)"
   ]
  },
  {
   "cell_type": "code",
   "execution_count": null,
   "metadata": {
    "ExecuteTime": {
     "end_time": "2020-09-23T07:13:03.190007Z",
     "start_time": "2020-09-23T07:13:02.715176Z"
    }
   },
   "outputs": [],
   "source": [
    "# Default DF. Do not touch.\n",
    "default = pd.read_json(data).copy()"
   ]
  },
  {
   "cell_type": "markdown",
   "metadata": {},
   "source": [
    "## Dataframes for all positions "
   ]
  },
  {
   "cell_type": "code",
   "execution_count": null,
   "metadata": {
    "ExecuteTime": {
     "end_time": "2020-09-23T07:13:34.306064Z",
     "start_time": "2020-09-23T07:13:34.283141Z"
    }
   },
   "outputs": [],
   "source": [
    "# SG\n",
    "sg = default[default['POSITION'] == 'SG']"
   ]
  },
  {
   "cell_type": "code",
   "execution_count": null,
   "metadata": {
    "ExecuteTime": {
     "end_time": "2020-09-22T03:18:18.362663Z",
     "start_time": "2020-09-22T03:18:18.348698Z"
    }
   },
   "outputs": [],
   "source": [
    "# C\n",
    "c = default[default['POSITION'] == 'C']"
   ]
  },
  {
   "cell_type": "code",
   "execution_count": null,
   "metadata": {
    "ExecuteTime": {
     "end_time": "2020-09-22T03:18:18.533015Z",
     "start_time": "2020-09-22T03:18:18.523065Z"
    }
   },
   "outputs": [],
   "source": [
    "# SF\n",
    "sf = default[default['POSITION'] == 'SF']"
   ]
  },
  {
   "cell_type": "code",
   "execution_count": null,
   "metadata": {
    "ExecuteTime": {
     "end_time": "2020-09-22T03:18:18.689767Z",
     "start_time": "2020-09-22T03:18:18.684751Z"
    }
   },
   "outputs": [],
   "source": [
    "# PF\n",
    "pf = default[default['POSITION'] == 'PF']"
   ]
  },
  {
   "cell_type": "code",
   "execution_count": null,
   "metadata": {
    "ExecuteTime": {
     "end_time": "2020-09-22T03:18:18.861702Z",
     "start_time": "2020-09-22T03:18:18.846714Z"
    }
   },
   "outputs": [],
   "source": [
    "# PG\n",
    "pg = default[default['POSITION'] == 'PG']"
   ]
  },
  {
   "cell_type": "code",
   "execution_count": null,
   "metadata": {
    "ExecuteTime": {
     "end_time": "2020-09-22T03:18:19.020703Z",
     "start_time": "2020-09-22T03:18:19.007714Z"
    }
   },
   "outputs": [],
   "source": [
    "# G\n",
    "g = default[default['POSITION'] == 'G']"
   ]
  },
  {
   "cell_type": "code",
   "execution_count": null,
   "metadata": {
    "ExecuteTime": {
     "end_time": "2020-09-22T03:18:19.191577Z",
     "start_time": "2020-09-22T03:18:19.175590Z"
    }
   },
   "outputs": [],
   "source": [
    "# F\n",
    "f = default[default['POSITION'] == 'F']"
   ]
  },
  {
   "cell_type": "markdown",
   "metadata": {},
   "source": [
    "------------"
   ]
  }
 ],
 "metadata": {
  "kernelspec": {
   "display_name": "Python 3",
   "language": "python",
   "name": "python3"
  },
  "language_info": {
   "codemirror_mode": {
    "name": "ipython",
    "version": 3
   },
   "file_extension": ".py",
   "mimetype": "text/x-python",
   "name": "python",
   "nbconvert_exporter": "python",
   "pygments_lexer": "ipython3",
   "version": "3.7.1"
  }
 },
 "nbformat": 4,
 "nbformat_minor": 4
}
