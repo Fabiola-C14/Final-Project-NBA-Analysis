{
 "cells": [
  {
   "cell_type": "markdown",
   "metadata": {},
   "source": [
    "## Libraries"
   ]
  },
  {
   "cell_type": "code",
<<<<<<< HEAD
   "execution_count": null,
   "metadata": {
    "ExecuteTime": {
     "end_time": "2020-09-23T06:34:04.214229Z",
     "start_time": "2020-09-23T06:34:03.526222Z"
=======
   "execution_count": 3,
   "metadata": {
    "ExecuteTime": {
     "end_time": "2020-09-24T03:11:38.916531Z",
     "start_time": "2020-09-24T03:11:38.899603Z"
>>>>>>> 21f43be9f6e77ee89f1a6640d6086f6dbadff98e
    }
   },
   "outputs": [],
   "source": [
    "%matplotlib inline\n",
    "import matplotlib.pyplot as plt\n",
    "import numpy as np\n",
    "import pandas as pd\n",
    "\n",
    "# Dependencies and Setup\n",
    "import time\n",
    "from pprint import pprint\n",
    "import requests\n",
    "from datetime import date, timedelta, datetime\n",
    "import json\n",
    "from pprint import pprint\n",
    "from tqdm import tqdm\n",
    "from tqdm import tqdm_notebook\n",
    "# sqlite Dependencies\n",
    "# ----------------------------------\n",
    "# Imports the method used for connecting to DBs\n",
    "from sqlalchemy import create_engine\n",
    "# Allow us to declare column types\n",
    "from sqlalchemy import Column, Integer, String, Text, DateTime, Float, Boolean, ForeignKey\n",
    "from sqlalchemy.orm import relationship\n",
    "from sqlalchemy.ext.declarative import declarative_base\n",
    "from sqlalchemy.orm import Session\n",
    "from config import APIKEY"
   ]
  },
  {
   "cell_type": "code",
   "execution_count": null,
   "metadata": {
    "ExecuteTime": {
     "end_time": "2020-09-23T06:34:04.292199Z",
     "start_time": "2020-09-23T06:34:04.215227Z"
    }
   },
   "outputs": [],
   "source": [
    "from nba_api.stats.endpoints import playercareerstats, drafthistory, commonplayerinfo, playerawards"
   ]
  },
  {
   "cell_type": "code",
   "execution_count": null,
   "metadata": {
    "ExecuteTime": {
     "end_time": "2020-09-23T06:34:04.308163Z",
     "start_time": "2020-09-23T06:34:04.293173Z"
    }
   },
   "outputs": [],
   "source": [
    "# Not used\n",
    "# cumestatsplayer,draftcombinedrillresults,playerdashboardbyteamperformance, leagueleaders, leaguedashplayerstats, draftcombinenonstationaryshooting, draftcombinestats, commonallplayers,"
   ]
  },
  {
   "cell_type": "markdown",
   "metadata": {},
   "source": [
    "-------------"
   ]
  },
  {
   "cell_type": "code",
   "execution_count": null,
   "metadata": {},
   "outputs": [],
   "source": []
  },
  {
   "cell_type": "code",
   "execution_count": 7,
   "metadata": {
    "ExecuteTime": {
     "end_time": "2020-09-24T03:15:34.070823Z",
     "start_time": "2020-09-24T03:15:33.572494Z"
    }
   },
   "outputs": [
    {
     "name": "stdout",
     "output_type": "stream",
     "text": [
      "{\"league\":{\"id\":\"4353138d-4c22-4396-95d8-5f587d2df25c\",\"name\":\"NBA\",\"alias\":\"NBA\"},\"teams\":[{\"id\":\"583ecae2-fb46-11e1-82cb-f4ce4684ea4c\",\"name\":\"Lakers\",\"market\":\"Los Angeles\",\"sr_id\":\"sr:team:3427\",\"reference\":\"1610612747\",\"players\":[{\"id\":\"0afbe608-940a-4d5d-a1f7-468718c67d91\",\"full_name\":\"LeBron James Sr.\",\"first_name\":\"LeBron\",\"last_name\":\"James\",\"position\":\"F-G\",\"primary_position\":\"PG\",\"jersey_number\":\"23\",\"name_suffix\":\"Sr.\",\"sr_id\":\"sr:player:608028\",\"reference\":\"2544\",\"injuries\":[{\"id\":\"cb933dbd-7115-40b1-afdc-1c2d3e2ae4e9\",\"comment\":\"James is listed as PROBABLE for Thursday's (Sept. 24) game.\",\"desc\":\"Groin\",\"status\":\"Day To Day\",\"start_date\":\"2020-09-23\",\"update_date\":\"2020-09-23\"}]},{\"id\":\"1bf4b5c7-e31d-4c22-9d89-7b909e3cb43c\",\"full_name\":\"Dion Waiters\",\"first_name\":\"Dion\",\"last_name\":\"Waiters\",\"position\":\"G\",\"primary_position\":\"SG\",\"jersey_number\":\"18\",\"sr_id\":\"sr:player:607376\",\"reference\":\"203079\",\"injuries\":[{\"id\":\"1290dea5-51e9-4d7a-af2f-a5a2c418e1ef\",\"comment\":\"Waiters is listed as DOUBTFUL for Thursday's (Sept. 24) game.\",\"desc\":\"Groin\",\"status\":\"Day To Day\",\"start_date\":\"2020-09-07\",\"update_date\":\"2020-09-23\"}]},{\"id\":\"478e5e20-5d59-402f-a901-b8e78f3e9508\",\"full_name\":\"Danny Green Jr.\",\"first_name\":\"Danny\",\"last_name\":\"Green\",\"position\":\"G-F\",\"primary_position\":\"SG\",\"jersey_number\":\"14\",\"name_suffix\":\"Jr.\",\"sr_id\":\"sr:player:607862\",\"reference\":\"201980\",\"injuries\":[{\"id\":\"a77dab71-0612-4cd3-83c7-5a1b9aca23ff\",\"comment\":\"Green is probable for Thursday's (Sep. 24) game against Denver.\",\"desc\":\"Finger\",\"status\":\"Day To Day\",\"start_date\":\"2020-09-23\",\"update_date\":\"2020-09-23\"}]},{\"id\":\"8936c15e-f9d5-4b9a-80b9-8f6b7dcf7a17\",\"full_name\":\"Alex Caruso\",\"first_name\":\"Alex\",\"last_name\":\"Caruso\",\"position\":\"G\",\"primary_position\":\"PG\",\"jersey_number\":\"4\",\"sr_id\":\"sr:player:1239222\",\"reference\":\"1627936\",\"injuries\":[{\"id\":\"b0664e3b-bd75-4d78-ae9e-4d7a4c909793\",\"comment\":\"Caruso is probable for Thursday's (Sep. 24) game against Denver.\",\"desc\":\"Wrist\",\"status\":\"Day To Day\",\"start_date\":\"2020-09-23\",\"update_date\":\"2020-09-23\"}]},{\"id\":\"b23917d2-bb0d-49fa-a384-80d994561d0c\",\"full_name\":\"Avery Bradley Jr.\",\"first_name\":\"Avery\",\"last_name\":\"Bradley\",\"position\":\"G\",\"primary_position\":\"SG\",\"jersey_number\":\"11\",\"name_suffix\":\"Jr.\",\"sr_id\":\"sr:player:608100\",\"reference\":\"202340\",\"injuries\":[{\"id\":\"c660cba7-42f2-4a06-af8d-4e90a19b978c\",\"comment\":\"Bradley will not play in the restart of the NBA season in Orlando, according to Adrian Wojnarowski of ESPN.\",\"desc\":\"Personal\",\"status\":\"Out\",\"start_date\":\"2020-06-23\",\"update_date\":\"2020-06-23\"}]}]},{\"id\":\"583ec773-fb46-11e1-82cb-f4ce4684ea4c\",\"name\":\"Cavaliers\",\"market\":\"Cleveland\",\"sr_id\":\"sr:team:3432\",\"reference\":\"1610612739\",\"players\":[{\"id\":\"0d187d04-4cd9-44b3-9a29-408fac5b011e\",\"full_name\":\"Dante Exum\",\"first_name\":\"Dante\",\"last_name\":\"Exum\",\"position\":\"G\",\"primary_position\":\"SG\",\"jersey_number\":\"1\",\"sr_id\":\"sr:player:607872\",\"reference\":\"203957\",\"injuries\":[{\"id\":\"5726320e-7b30-4371-a9ba-19cc68263cd6\",\"comment\":\"Exum is expected to miss an extended period of time, according to a report from Chris Fedor of Cleveland.com.\",\"desc\":\"Ankle\",\"status\":\"Out\",\"start_date\":\"2020-02-24\",\"update_date\":\"2020-02-26\"}]},{\"id\":\"870310f0-9480-453a-8b33-a62f283c5eda\",\"full_name\":\"Dylan Windler\",\"first_name\":\"Dylan\",\"last_name\":\"Windler\",\"position\":\"G-F\",\"primary_position\":\"SG\",\"jersey_number\":\"9\",\"sr_id\":\"sr:player:1166108\",\"reference\":\"1629685\",\"injuries\":[{\"id\":\"f54cc50d-4c3a-463f-90a9-2e2901d171ef\",\"comment\":\"The Cavaliers announced G-F Dylan Windler will miss the remainder of the season.\",\"desc\":\"Leg\",\"status\":\"Out For Season\",\"start_date\":\"2019-12-13\",\"update_date\":\"2020-01-13\"}]}]},{\"id\":\"583eca88-fb46-11e1-82cb-f4ce4684ea4c\",\"name\":\"Grizzlies\",\"market\":\"Memphis\",\"sr_id\":\"sr:team:3415\",\"reference\":\"1610612763\",\"players\":[{\"id\":\"0e6ddc9f-4a7b-4d48-8033-998103edfb32\",\"full_name\":\"Justise Winslow\",\"first_name\":\"Justise\",\"last_name\":\"Winslow\",\"position\":\"F-G\",\"primary_position\":\"SF\",\"jersey_number\":\"7\",\"sr_id\":\"sr:player:852032\",\"reference\":\"1626159\",\"injuries\":[{\"id\":\"bd2c528f-12ff-451f-83c4-9418884e45b4\",\"comment\":\"The Grizzlies announced that Winslow will miss the rest of the season as he recovers from a hip injury.\",\"desc\":\"Hip\",\"status\":\"Out For Season\",\"start_date\":\"2020-07-21\",\"update_date\":\"2020-07-21\"}]},{\"id\":\"3e492a6a-ed3c-499d-b3f5-ff68ca16f6fd\",\"full_name\":\"Jaren Jackson Jr.\",\"first_name\":\"Jaren\",\"last_name\":\"Jackson\",\"position\":\"F-C\",\"primary_position\":\"C\",\"jersey_number\":\"13\",\"name_suffix\":\"Jr.\",\"sr_id\":\"sr:player:1316824\",\"reference\":\"1628991\",\"injuries\":[{\"id\":\"f9897e2c-a1b2-4910-ac18-f60c1e8a5fe1\",\"comment\":\"Jackson suffered a torn meniscus and will miss the rest of the season.\",\"desc\":\"Meniscus\",\"status\":\"Out For Season\",\"start_date\":\"2020-08-04\",\"update_date\":\"2020-08-04\"}]}]},{\"id\":\"583ec928-fb46-11e1-82cb-f4ce4684ea4c\",\"name\":\"Pistons\",\"market\":\"Detroit\",\"sr_id\":\"sr:team:3424\",\"reference\":\"1610612765\",\"players\":[{\"id\":\"18358040-89d8-4e25-a6a6-9e209c26fb3a\",\"full_name\":\"Blake Griffin\",\"first_name\":\"Blake\",\"last_name\":\"Griffin\",\"position\":\"F\",\"primary_position\":\"PF\",\"jersey_number\":\"23\",\"sr_id\":\"sr:player:607958\",\"reference\":\"201933\",\"injuries\":[{\"id\":\"31650168-48eb-47cc-bce7-9e023349c4a5\",\"comment\":\"Griffin said he's not 100 percent yet, but he keeps making progress and is hoping to be ready for next season, according to Omari Sankofa II of The Detroit Free Press.\",\"desc\":\"Knee\",\"status\":\"Out\",\"start_date\":\"2019-12-29\",\"update_date\":\"2020-06-12\"}]},{\"id\":\"a537047d-c29f-4dfe-99b0-3bac4e258dc7\",\"full_name\":\"Luke Kennard\",\"first_name\":\"Luke\",\"last_name\":\"Kennard\",\"position\":\"G\",\"primary_position\":\"SG\",\"jersey_number\":\"5\",\"sr_id\":\"sr:player:1126375\",\"reference\":\"1628379\",\"injuries\":[{\"id\":\"e280306d-822f-4ec6-bf57-8b37140d72f3\",\"comment\":\"Kennard is still a ways away from getting back on the court, according to Rod Beard of The Detroit News.\",\"desc\":\"Knees\",\"status\":\"Out\",\"start_date\":\"2019-12-19\",\"update_date\":\"2020-02-19\"}]}]},{\"id\":\"583ecea6-fb46-11e1-82cb-f4ce4684ea4c\",\"name\":\"Heat\",\"market\":\"Miami\",\"sr_id\":\"sr:team:3435\",\"reference\":\"1610612748\",\"players\":[{\"id\":\"1d4905d6-a6b4-4b45-8a90-91ed03440d0f\",\"full_name\":\"Gabe Vincent\",\"first_name\":\"Gabe\",\"last_name\":\"Vincent\",\"position\":\"G\",\"primary_position\":\"PG\",\"jersey_number\":\"2\",\"sr_id\":\"sr:player:1612346\",\"reference\":\"1629216\",\"injuries\":[{\"id\":\"e6988afe-0ca3-4ca1-8057-345a716ed71e\",\"comment\":\"Vincent is OUT for Wednesday's (Sep. 23) game against Boston.\",\"desc\":\"Right knee\",\"status\":\"Out\",\"start_date\":\"2020-09-22\",\"update_date\":\"2020-09-23\"}]},{\"id\":\"77dc9e11-c422-4c1b-9545-0f487095891e\",\"full_name\":\"KZ Okpala\",\"first_name\":\"KZ\",\"last_name\":\"Okpala\",\"position\":\"F-G\",\"primary_position\":\"SF\",\"jersey_number\":\"4\",\"sr_id\":\"sr:player:1320614\",\"reference\":\"1629644\",\"injuries\":[{\"id\":\"724ef31d-fa1a-4398-9b3e-74dc4c51fec7\",\"comment\":\"Okpala has not played since Feb. 7 against Sacramento.\",\"desc\":\"Personal\",\"status\":\"Out\",\"start_date\":\"2020-08-08\",\"update_date\":\"2020-08-10\"}]},{\"id\":\"cc48bc62-dcd4-4522-8b65-c8588b06169d\",\"full_name\":\"Chris Silva\",\"first_name\":\"Chris\",\"last_name\":\"Silva\",\"position\":\"F\",\"primary_position\":\"PF\",\"jersey_number\":\"30\",\"sr_id\":\"sr:player:1889964\",\"reference\":\"1629735\",\"injuries\":[{\"id\":\"02b65332-28ec-4d46-986b-1c09ed1033dc\",\"comment\":\"Silva has a stress fracture in his left pubic bone and is out indefinitely, according to Ira Winderman of the South Florida Sun Sentinel.\",\"desc\":\"Groin\",\"status\":\"Out\",\"start_date\":\"2020-08-23\",\"update_date\":\"2020-08-29\"}]}]},{\"id\":\"583ec7cd-fb46-11e1-82cb-f4ce4684ea4c\",\"name\":\"Pacers\",\"market\":\"Indiana\",\"sr_id\":\"sr:team:3419\",\"reference\":\"1610612754\",\"players\":[{\"id\":\"22038780-8c50-4211-a99e-656d983e5207\",\"full_name\":\"Domantas Sabonis\",\"first_name\":\"Domantas\",\"last_name\":\"Sabonis\",\"position\":\"F-C\",\"primary_position\":\"C\",\"jersey_number\":\"11\",\"sr_id\":\"sr:player:996309\",\"reference\":\"1627734\",\"injuries\":[{\"id\":\"ffc7326e-d303-47ff-a53a-aeda5714b60e\",\"comment\":\"Sabonis is not close to returning to action, according to a report from Scott Agness of VigilantSports.com.\",\"desc\":\"Foot\",\"status\":\"Out\",\"start_date\":\"2020-07-24\",\"update_date\":\"2020-08-06\"}]},{\"id\":\"8d80f6fc-a7ac-48cf-bcd8-516d57acbbfe\",\"full_name\":\"Jeremy Lamb\",\"first_name\":\"Jeremy\",\"last_name\":\"Lamb\",\"position\":\"G-F\",\"primary_position\":\"SG\",\"jersey_number\":\"26\",\"sr_id\":\"sr:player:607662\",\"reference\":\"203087\",\"injuries\":[{\"id\":\"840cc67b-6cf3-453e-a0d1-57f1f12a19d8\",\"comment\":\"Lamb is recovering from a torn ACL and will not play again this season, according to Michael McCleary of the Indianapolis Star.\",\"desc\":\"Knee\",\"status\":\"Out For Season\",\"start_date\":\"2020-02-24\",\"update_date\":\"2020-07-23\"}]}]},{\"id\":\"583ec9d6-fb46-11e1-82cb-f4ce4684ea4c\",\"name\":\"Nets\",\"market\":\"Brooklyn\",\"sr_id\":\"sr:team:3436\",\"reference\":\"1610612751\",\"players\":[{\"id\":\"288519dc-eae8-4daf-afa4-c86322b7460e\",\"full_name\":\"Nicolas Claxton\",\"first_name\":\"Nicolas\",\"last_name\":\"Claxton\",\"position\":\"F-C\",\"primary_position\":\"PF\",\"jersey_number\":\"33\",\"sr_id\":\"sr:player:1307666\",\"reference\":\"1629651\",\"injuries\":[{\"id\":\"935c8204-569a-4434-96b6-26a8ad9df076\",\"comment\":\"The Nets announced that Claxton is recovering from surgery on his left shoulder. He will not play again this season, but is expected to be ready for the start of the 2020-2021 season.\",\"desc\":\"Shoulder\",\"status\":\"Out For Season\",\"start_date\":\"2020-07-23\",\"update_date\":\"2020-07-23\"}]},{\"id\":\"53f2fa48-e61b-49fb-843d-8a3e872257eb\",\"full_name\":\"Kevin Durant\",\"first_name\":\"Kevin\",\"last_name\":\"Durant\",\"position\":\"F\",\"primary_position\":\"SF\",\"jersey_number\":\"7\",\"sr_id\":\"sr:player:607556\",\"reference\":\"201142\",\"injuries\":[{\"id\":\"237e1ece-22e8-4f32-92d6-1e0d8e156d51\",\"comment\":\"Durant confirmed that he will not return this season as he recovers from an Achilles injury, according to Chris Haynes of Yahoo Sports.\",\"desc\":\"Achilles\",\"status\":\"Out For Season\",\"start_date\":\"2019-06-10\",\"update_date\":\"2020-07-23\"}]},{\"id\":\"dd146010-902b-4ad7-b98c-650d0363a2f0\",\"full_name\":\"Kyrie Irving\",\"first_name\":\"Kyrie\",\"last_name\":\"Irving\",\"position\":\"G\",\"primary_position\":\"PG\",\"jersey_number\":\"11\",\"sr_id\":\"sr:player:608268\",\"reference\":\"202681\",\"injuries\":[{\"id\":\"fa37b8c0-e867-4e73-b128-c7912ac66a35\",\"comment\":\"Irving will not return this season as he recovers from an injury to his right shoulder, according to Adrian Wojnarowski of ESPN.\",\"desc\":\"Shoulder\",\"status\":\"Out For Season\",\"start_date\":\"2020-02-18\",\"update_date\":\"2020-07-23\"}]}]},{\"id\":\"583eccfa-fb46-11e1-82cb-f4ce4684ea4c\",\"name\":\"Celtics\",\"market\":\"Boston\",\"sr_id\":\"sr:team:3422\",\"reference\":\"1610612738\",\"players\":[{\"id\":\"2a890c03-d0d5-4eec-a488-d2cc34fa2ade\",\"full_name\":\"Vincent Poirier\",\"first_name\":\"Vincent\",\"last_name\":\"Poirier\",\"position\":\"C-F\",\"primary_position\":\"C\",\"jersey_number\":\"77\",\"sr_id\":\"sr:player:1795438\",\"reference\":\"1629738\",\"injuries\":[{\"id\":\"32eaa5c2-e3b8-4e22-9dff-9d583a41cd61\",\"comment\":\"Poirier is out for Friday's (Sep. 11) game against Toronto.\",\"desc\":\"Personal\",\"status\":\"Out\",\"start_date\":\"2020-09-03\",\"update_date\":\"2020-09-10\"}]},{\"id\":\"cfca106e-f7a4-4ea3-a805-4505a3bf74c6\",\"full_name\":\"Romeo Langford\",\"first_name\":\"Romeo\",\"last_name\":\"Langford\",\"position\":\"G-F\",\"primary_position\":\"SG\",\"jersey_number\":\"45\",\"sr_id\":\"sr:player:1770176\",\"reference\":\"1629641\",\"injuries\":[{\"id\":\"2f489174-580b-4aa2-bd06-b2fc50fc6f20\",\"comment\":\"Langford underwent surgery on his right wrist and will miss the rest of the 2019-2020 season.\",\"desc\":\"Right adductor strain\",\"status\":\"Out For Season\",\"start_date\":\"2020-09-18\",\"update_date\":\"2020-09-22\"}]}]},{\"id\":\"583ecd4f-fb46-11e1-82cb-f4ce4684ea4c\",\"name\":\"Spurs\",\"market\":\"San Antonio\",\"sr_id\":\"sr:team:3429\",\"reference\":\"1610612759\",\"players\":[{\"id\":\"3157a0b5-1b4c-46d1-934c-ac2df3810950\",\"full_name\":\"LaMarcus Aldridge\",\"first_name\":\"LaMarcus\",\"last_name\":\"Aldridge\",\"position\":\"C-F\",\"primary_position\":\"C\",\"jersey_number\":\"12\",\"sr_id\":\"sr:player:607670\",\"reference\":\"200746\",\"injuries\":[{\"id\":\"80d378bd-5d36-468a-a445-597f7bb667fa\",\"comment\":\"Aldridge had surgery on his right shoulder and will miss the rest of the season, according to Shams Charania of The Athletic.\",\"desc\":\"Shoulder\",\"status\":\"Out For Season\",\"start_date\":\"2020-06-08\",\"update_date\":\"2020-06-08\"}]},{\"id\":\"55f10af0-4b71-4693-aa82-435e958ab560\",\"full_name\":\"Trey Lyles\",\"first_name\":\"Trey\",\"last_name\":\"Lyles\",\"position\":\"F\",\"primary_position\":\"PF\",\"jersey_number\":\"41\",\"sr_id\":\"sr:player:852130\",\"reference\":\"1626168\",\"injuries\":[{\"id\":\"1bc01a1d-8167-4b60-92ec-5a68daec341e\",\"comment\":\"Lyles will not play again this season as he recovers from an appendectomy, according to Paul Garcia of projectspurs.com.\",\"desc\":\"Appendicitis\",\"status\":\"Out For Season\",\"start_date\":\"2020-07-17\",\"update_date\":\"2020-07-15\"}]}]},{\"id\":\"583ec87d-fb46-11e1-82cb-f4ce4684ea4c\",\"name\":\"76ers\",\"market\":\"Philadelphia\",\"sr_id\":\"sr:team:3420\",\"reference\":\"1610612755\",\"players\":[{\"id\":\"318debd7-dab6-4d4e-8849-03c4c701a7c8\",\"full_name\":\"Ben Simmons\",\"first_name\":\"Ben\",\"last_name\":\"Simmons\",\"position\":\"G-F\",\"primary_position\":\"PG\",\"jersey_number\":\"25\",\"sr_id\":\"sr:player:996289\",\"reference\":\"1627732\",\"injuries\":[{\"id\":\"a02724b5-1420-477e-90ea-26b1f74a6a8b\",\"comment\":\"Simmons had surgery on his left knee, according to Adrian Wojnarowski of ESPN. He will most likely miss the rest of the season.\",\"desc\":\"Knee\",\"status\":\"Out For Season\",\"start_date\":\"2020-08-05\",\"update_date\":\"2020-08-10\"}]}]},{\"id\":\"583ed056-fb46-11e1-82cb-f4ce4684ea4c\",\"name\":\"Trail Blazers\",\"market\":\"Portland\",\"sr_id\":\"sr:team:3414\",\"reference\":\"1610612757\",\"players\":[{\"id\":\"5382cf43-3a79-4a5a-a7fd-153906fe65dd\",\"full_name\":\"Damian Lillard Sr.\",\"first_name\":\"Damian\",\"last_name\":\"Lillard\",\"position\":\"G\",\"primary_position\":\"PG\",\"jersey_number\":\"0\",\"name_suffix\":\"Sr.\",\"sr_id\":\"sr:player:607552\",\"reference\":\"203081\",\"injuries\":[{\"id\":\"a05eef2c-3b32-49f1-a7a3-9963ff70622e\",\"comment\":\"Lillard is leaving the Orlando bubble for further examination on his knee.\",\"desc\":\"Knee\",\"status\":\"Out\",\"start_date\":\"2020-08-24\",\"update_date\":\"2020-08-26\"}]},{\"id\":\"b5310b38-a378-464f-b344-928adee0ed00\",\"full_name\":\"Zach Collins\",\"first_name\":\"Zach\",\"last_name\":\"Collins\",\"position\":\"F-C\",\"primary_position\":\"PF\",\"jersey_number\":\"33\",\"sr_id\":\"sr:player:1141194\",\"reference\":\"1628380\",\"injuries\":[{\"id\":\"e72f0617-29b9-4a99-8551-6c9dc81159b5\",\"comment\":\"The Blazers announced that Collins will undergo season-ending ankle surgery.\",\"desc\":\"Ankle\",\"status\":\"Out For Season\",\"start_date\":\"2020-08-15\",\"update_date\":\"2020-08-21\"}]},{\"id\":\"d38f8754-7ecb-4791-a350-f67e5c4c785a\",\"full_name\":\"Rodney Hood\",\"first_name\":\"Rodney\",\"last_name\":\"Hood\",\"position\":\"G-F\",\"primary_position\":\"SF\",\"jersey_number\":\"5\",\"sr_id\":\"sr:player:607550\",\"reference\":\"203918\",\"injuries\":[{\"id\":\"16d72b18-a028-4fed-8687-25b4cb471bde\",\"comment\":\"Hood is making progress as he recovers from left Achilles surgery, but the Trail Blazers say he will not play again this season.\",\"desc\":\"Achilles\",\"status\":\"Out For Season\",\"start_date\":\"2019-12-06\",\"update_date\":\"2020-07-23\"}]}]},{\"id\":\"583ec5fd-fb46-11e1-82cb-f4ce4684ea4c\",\"name\":\"Bulls\",\"market\":\"Chicago\",\"sr_id\":\"sr:team:3409\",\"reference\":\"1610612741\",\"players\":[{\"id\":\"56c796d6-74d3-4881-9166-7f528e2b67f6\",\"full_name\":\"Kris Dunn\",\"first_name\":\"Kris\",\"last_name\":\"Dunn\",\"position\":\"G\",\"primary_position\":\"PG\",\"jersey_number\":\"32\",\"sr_id\":\"sr:player:996325\",\"reference\":\"1627739\",\"injuries\":[{\"id\":\"db81d72f-406e-4bf3-8bd7-74c2d22b7a2b\",\"comment\":\"Dunn is rehabbing from a sprained right MCL injury, according to K.C. Johnson of NBS Sports Chicago. It's not clear if he will be ready for the 2020-2021 season.\",\"desc\":\"Knee\",\"status\":\"Out\",\"start_date\":\"2020-01-31\",\"update_date\":\"2020-05-29\"}]},{\"id\":\"5d9dd021-537d-478d-8540-2d2708f356f4\",\"full_name\":\"Chandler Hutchison\",\"first_name\":\"Chandler\",\"last_name\":\"Hutchison\",\"position\":\"F-G\",\"primary_position\":\"SF\",\"jersey_number\":\"15\",\"sr_id\":\"sr:player:1499273\",\"reference\":\"1628990\",\"injuries\":[{\"id\":\"8dadfba1-cd2f-400c-8c36-590232da85e2\",\"comment\":\"The Bulls announced that Hutchison will take the next 12-16 weeks to recover after having surgery on his right shoulder.\",\"desc\":\"Shoulder\",\"status\":\"Out For Season\",\"start_date\":\"2020-02-19\",\"update_date\":\"2020-03-11\"}]},{\"id\":\"f6aff1dc-15b9-4c89-a2fb-746f4cf78890\",\"full_name\":\"Max Strus\",\"first_name\":\"Max\",\"last_name\":\"Strus\",\"position\":\"G-F\",\"primary_position\":\"SG\",\"jersey_number\":\"28\",\"sr_id\":\"sr:player:1853516\",\"reference\":\"1629622\",\"injuries\":[{\"id\":\"7fef6530-249b-4044-b75f-cd87d93db118\",\"comment\":\"The Bulls announced that Strus is recovering from a torn ACL and bone bruise and is expected to miss the next 8-12 months.\",\"desc\":\"Knee\",\"status\":\"Out For Season\",\"start_date\":\"2019-12-19\",\"update_date\":\"2019-12-19\"}]}]},{\"id\":\"583ec8d4-fb46-11e1-82cb-f4ce4684ea4c\",\"name\":\"Wizards\",\"market\":\"Washington\",\"sr_id\":\"sr:team:3431\",\"reference\":\"1610612764\",\"players\":[{\"id\":\"6769d1ca-0581-48b0-b487-b5c87b8f696e\",\"full_name\":\"John Wall Jr.\",\"first_name\":\"John\",\"last_name\":\"Wall\",\"position\":\"G\",\"primary_position\":\"PG\",\"jersey_number\":\"2\",\"name_suffix\":\"Jr.\",\"sr_id\":\"sr:player:607514\",\"reference\":\"202322\",\"injuries\":[{\"id\":\"a68f5df0-ae26-43fc-905c-2b831708d543\",\"comment\":\"The Wizards announced that Wall will not play again this season and will continue to work as he prepares to return next season.\",\"desc\":\"Left Torn Achilles\",\"status\":\"Out For Season\",\"start_date\":\"2018-12-28\",\"update_date\":\"2020-07-23\"}]},{\"id\":\"ff461754-ad20-4eeb-af02-2b46cc980b24\",\"full_name\":\"Bradley Beal\",\"first_name\":\"Bradley\",\"last_name\":\"Beal\",\"position\":\"G\",\"primary_position\":\"SG\",\"jersey_number\":\"3\",\"sr_id\":\"sr:player:607418\",\"reference\":\"203078\",\"injuries\":[{\"id\":\"b3fe04e6-e32e-4935-a9bc-61b5792efb43\",\"comment\":\"Beal is not slated to play again this season as he recovers from a right rotator cuff injury, according to Ohm Youngmisuk of ESPN.\",\"desc\":\"Shoulder\",\"status\":\"Out For Season\",\"start_date\":\"2020-07-23\",\"update_date\":\"2020-07-23\"}]}]},{\"id\":\"583ed157-fb46-11e1-82cb-f4ce4684ea4c\",\"name\":\"Magic\",\"market\":\"Orlando\",\"sr_id\":\"sr:team:3437\",\"reference\":\"1610612753\",\"players\":[{\"id\":\"776679a3-c1d8-4463-99b1-61024008a3ed\",\"full_name\":\"Jonathan Isaac\",\"first_name\":\"Jonathan\",\"last_name\":\"Isaac\",\"position\":\"F\",\"primary_position\":\"SF\",\"jersey_number\":\"1\",\"sr_id\":\"sr:player:1141192\",\"reference\":\"1628371\",\"injuries\":[{\"id\":\"0e495d1b-4d65-41ff-9b91-b7ef977ad769\",\"comment\":\"Magic president Jeff Weltman announced that Isaac will miss the 2020-2021 NBA season.\",\"desc\":\"ACL\",\"status\":\"Out For Season\",\"start_date\":\"2020-08-02\",\"update_date\":\"2020-08-31\"}]},{\"id\":\"a6bf9402-7f41-49a9-ab28-fe0bdffb5060\",\"full_name\":\"Mo Bamba\",\"first_name\":\"Mo\",\"last_name\":\"Bamba\",\"position\":\"C\",\"primary_position\":\"C\",\"jersey_number\":\"5\",\"sr_id\":\"sr:player:1427411\",\"reference\":\"1628964\",\"injuries\":[{\"id\":\"6b122480-f6a3-4937-b5a9-a433972138bb\",\"comment\":\"The Magic announced that Bamba will miss the rest of the season for testing relating to his situation with the coronavirus.\",\"desc\":\"Post-Covid Evaluation\",\"status\":\"Out For Season\",\"start_date\":\"2020-08-15\",\"update_date\":\"2020-08-18\"}]}]},{\"id\":\"583ece50-fb46-11e1-82cb-f4ce4684ea4c\",\"name\":\"Jazz\",\"market\":\"Utah\",\"sr_id\":\"sr:team:3434\",\"reference\":\"1610612762\",\"players\":[{\"id\":\"7ff02e19-e829-4e56-9a34-233a71fce76c\",\"full_name\":\"Bojan Bogdanovic\",\"first_name\":\"Bojan\",\"last_name\":\"Bogdanovic\",\"position\":\"F\",\"primary_position\":\"SF\",\"jersey_number\":\"44\",\"sr_id\":\"sr:player:608136\",\"reference\":\"202711\",\"injuries\":[{\"id\":\"11a51fce-39c3-4850-8c3d-2e2076d341c5\",\"comment\":\"The Jazz announced that Bogdanovic had season-ending surgery on his right wrist in May. The hope is that he's ready to return next season.\",\"desc\":\"Right Wrist\",\"status\":\"Out For Season\",\"start_date\":\"2020-05-18\",\"update_date\":\"2020-06-01\"}]}]},{\"id\":\"583ed102-fb46-11e1-82cb-f4ce4684ea4c\",\"name\":\"Nuggets\",\"market\":\"Denver\",\"sr_id\":\"sr:team:3417\",\"reference\":\"1610612743\",\"players\":[{\"id\":\"85e1279a-77c4-49a7-bfa0-7699e64b581f\",\"full_name\":\"Will Barton\",\"first_name\":\"Will\",\"last_name\":\"Barton\",\"position\":\"F\",\"primary_position\":\"SF\",\"jersey_number\":\"5\",\"sr_id\":\"sr:player:607628\",\"reference\":\"203115\",\"injuries\":[{\"id\":\"a97752eb-2335-4b5d-a268-6a7e3f208d82\",\"comment\":\"Barton is leaving the Orlando bubble to rehab his right knee, according to Mike Singer of the Denver Post.\",\"desc\":\"Knee\",\"status\":\"Out\",\"start_date\":\"2020-07-31\",\"update_date\":\"2020-08-19\"}]},{\"id\":\"957e63a8-d87d-47d2-89cc-416afa292d80\",\"full_name\":\"Vlatko Cancar\",\"first_name\":\"Vlatko\",\"last_name\":\"Cancar\",\"position\":\"F\",\"primary_position\":\"SF\",\"jersey_number\":\"31\",\"sr_id\":\"sr:player:1143456\",\"reference\":\"1628427\",\"injuries\":[{\"id\":\"df6ec02b-167e-4a5d-a4ef-8408a70ef820\",\"comment\":\"Cancar is out with a broken foot and it's unclear whether he'll return this season.\",\"desc\":\"Foot\",\"status\":\"Out\",\"start_date\":\"2020-07-31\",\"update_date\":\"2020-07-31\"}]}]},{\"id\":\"583ec97e-fb46-11e1-82cb-f4ce4684ea4c\",\"name\":\"Hornets\",\"market\":\"Charlotte\",\"sr_id\":\"sr:team:3430\",\"reference\":\"1610612766\",\"players\":[{\"id\":\"89797d2a-8257-4b70-bc98-3bb0cec9dac0\",\"full_name\":\"Ray Spalding\",\"first_name\":\"Ray\",\"last_name\":\"Spalding\",\"position\":\"F\",\"primary_position\":\"PF\",\"jersey_number\":\"26\",\"sr_id\":\"sr:player:1172648\",\"reference\":\"1629034\",\"injuries\":[{\"id\":\"13e47428-c35e-4ad1-9aed-e5fe78b5b878\",\"comment\":\"The Hornets announced that Spalding had surgery on his left knee. It's not clear if he will be ready for the start of 2020-2021 NBA season.\",\"desc\":\"Knee\",\"status\":\"Out\",\"start_date\":\"2020-06-12\",\"update_date\":\"2020-06-12\"}]}]},{\"id\":\"583ecf50-fb46-11e1-82cb-f4ce4684ea4c\",\"name\":\"Mavericks\",\"market\":\"Dallas\",\"sr_id\":\"sr:team:3411\",\"reference\":\"1610612742\",\"players\":[{\"id\":\"8d3edba8-9004-4199-9328-cc2208e8b0d3\",\"full_name\":\"Jalen Brunson\",\"first_name\":\"Jalen\",\"last_name\":\"Brunson\",\"position\":\"G\",\"primary_position\":\"PG\",\"jersey_number\":\"13\",\"sr_id\":\"sr:player:1159266\",\"reference\":\"1628973\",\"injuries\":[{\"id\":\"fdca4bc7-fa4c-4e13-8e01-470279cf0291\",\"comment\":\"The Mavericks announced that Brunson is recovering from surgery on his right shoulder. He will not play again this season.\",\"desc\":\"Shoulder\",\"status\":\"Out For Season\",\"start_date\":\"2020-02-22\",\"update_date\":\"2020-07-17\"}]},{\"id\":\"a465418b-0933-40b4-8f01-253d046872e1\",\"full_name\":\"Dwight Powell\",\"first_name\":\"Dwight\",\"last_name\":\"Powell\",\"position\":\"F-C\",\"primary_position\":\"C\",\"jersey_number\":\"7\",\"sr_id\":\"sr:player:608166\",\"reference\":\"203939\",\"injuries\":[{\"id\":\"51681dd7-5036-486c-a0b6-a85af7a312e4\",\"comment\":\"The Mavs announced that Powell will not play again this season.\",\"desc\":\"Achilles\",\"status\":\"Out For Season\",\"start_date\":\"2020-01-21\",\"update_date\":\"2020-07-23\"}]}]},{\"id\":\"583ecb8f-fb46-11e1-82cb-f4ce4684ea4c\",\"name\":\"Hawks\",\"market\":\"Atlanta\",\"sr_id\":\"sr:team:3423\",\"reference\":\"1610612737\",\"players\":[{\"id\":\"a10131d5-a2b6-45a5-bde1-f6c4cdfd328a\",\"full_name\":\"Skal Labissiere\",\"first_name\":\"Skal\",\"last_name\":\"Labissiere\",\"position\":\"F-C\",\"primary_position\":\"PF\",\"jersey_number\":\"7\",\"sr_id\":\"sr:player:981335\",\"reference\":\"1627746\",\"injuries\":[{\"id\":\"5387e6db-d4bb-4740-bd1b-8902b7a6e9a2\",\"comment\":\"The Hawks announced that Labissiere is progressing in rehab and will be re-evaluated in two weeks.\",\"desc\":\"Knee\",\"status\":\"Out\",\"start_date\":\"2019-12-28\",\"update_date\":\"2020-03-04\"}]},{\"id\":\"c37dafbb-a269-41f6-813f-bdb4da388203\",\"full_name\":\"Clint Capela\",\"first_name\":\"Clint\",\"last_name\":\"Capela\",\"position\":\"C\",\"primary_position\":\"C\",\"jersey_number\":\"17\",\"sr_id\":\"sr:player:607898\",\"reference\":\"203991\",\"injuries\":[{\"id\":\"3c49bbfe-7892-496d-afec-2accf4a2a7f5\",\"comment\":\"Capela is not at full strength yet, but he is making progress, according to Chris Kirschner The Athletic.\",\"desc\":\"Heel\",\"status\":\"Out\",\"start_date\":\"2020-02-08\",\"update_date\":\"2020-06-12\"}]}]},{\"id\":\"583ecfff-fb46-11e1-82cb-f4ce4684ea4c\",\"name\":\"Thunder\",\"market\":\"Oklahoma City\",\"sr_id\":\"sr:team:3418\",\"reference\":\"1610612760\",\"players\":[{\"id\":\"bde20b39-128b-4224-a36c-e23abc623446\",\"full_name\":\"Isaiah Roby\",\"first_name\":\"Isaiah\",\"last_name\":\"Roby\",\"position\":\"F\",\"primary_position\":\"SF\",\"jersey_number\":\"22\",\"sr_id\":\"sr:player:1159790\",\"reference\":\"1629676\",\"injuries\":[{\"id\":\"377e44a7-c3fd-4fb2-afac-d3045897d7a3\",\"comment\":\"Roby will not play again this season as he recovers from surgery on his foot, according to Joe Mussatto of The Oklahoman.\",\"desc\":\"Foot\",\"status\":\"Out For Season\",\"start_date\":\"2020-07-08\",\"update_date\":\"2020-07-08\"}]}]},{\"id\":\"583ed0ac-fb46-11e1-82cb-f4ce4684ea4c\",\"name\":\"Kings\",\"market\":\"Sacramento\",\"sr_id\":\"sr:team:3413\",\"reference\":\"1610612758\",\"players\":[{\"id\":\"e86c1439-4ef0-4530-9c41-c3a682962eb3\",\"full_name\":\"Marvin Bagley III\",\"first_name\":\"Marvin\",\"last_name\":\"Bagley\",\"position\":\"F\",\"primary_position\":\"PF\",\"jersey_number\":\"35\",\"name_suffix\":\"III\",\"sr_id\":\"sr:player:1255696\",\"reference\":\"1628963\",\"injuries\":[{\"id\":\"ac4b0772-1055-4140-99e6-cb6e33cfd161\",\"comment\":\"The Kings announced that Bagley underwent an MRI on his right foot and will miss the rest of the season.\",\"desc\":\"Foot\",\"status\":\"Out For Season\",\"start_date\":\"2020-07-20\",\"update_date\":\"2020-07-21\"}]}]},{\"id\":\"583ec825-fb46-11e1-82cb-f4ce4684ea4c\",\"name\":\"Warriors\",\"market\":\"Golden State\",\"sr_id\":\"sr:team:3428\",\"reference\":\"1610612744\",\"players\":[{\"id\":\"ebb50069-6fdf-4c07-9a21-a63d5c814536\",\"full_name\":\"Kevon Looney\",\"first_name\":\"Kevon\",\"last_name\":\"Looney\",\"position\":\"F-C\",\"primary_position\":\"C\",\"jersey_number\":\"5\",\"sr_id\":\"sr:player:852188\",\"reference\":\"1626172\",\"injuries\":[{\"id\":\"ffe8a156-128a-4aad-8706-482516746932\",\"comment\":\"The Warriors announced that Looney had core muscle surgery. He will miss the rest of the 2019-2020 season.\",\"desc\":\"Left Hip\",\"status\":\"Out For Season\",\"start_date\":\"2020-03-01\",\"update_date\":\"2020-06-17\"}]}]},{\"id\":\"583ecc9a-fb46-11e1-82cb-f4ce4684ea4c\",\"name\":\"Pelicans\",\"market\":\"New Orleans\",\"sr_id\":\"sr:team:5539\",\"reference\":\"1610612740\",\"players\":[{\"id\":\"ef98a67f-6d45-45af-be21-23fc07eb3f17\",\"full_name\":\"Darius Miller\",\"first_name\":\"Darius\",\"last_name\":\"Miller\",\"position\":\"F\",\"primary_position\":\"SF\",\"jersey_number\":\"21\",\"sr_id\":\"sr:player:608134\",\"reference\":\"203121\",\"injuries\":[{\"id\":\"d9661528-de48-4949-803f-07d89865795e\",\"comment\":\"The Pelicans announced that Miller will continue his rehab on his right Achilles and he will not play again this season.\",\"desc\":\"Achilles\",\"status\":\"Out For Season\",\"start_date\":\"2019-10-21\",\"update_date\":\"2020-07-10\"}]}]},{\"id\":\"583ecb3a-fb46-11e1-82cb-f4ce4684ea4c\",\"name\":\"Rockets\",\"market\":\"Houston\",\"sr_id\":\"sr:team:3412\",\"reference\":\"1610612745\",\"players\":[{\"id\":\"fe9b0c91-5964-4681-8f1b-e76b5d912b23\",\"full_name\":\"David Nwaba\",\"first_name\":\"David\",\"last_name\":\"Nwaba\",\"position\":\"G-F\",\"primary_position\":\"SG\",\"jersey_number\":\"0\",\"sr_id\":\"sr:player:1108475\",\"reference\":\"1628021\",\"injuries\":[{\"id\":\"1844a14c-9946-4597-98e9-5bdc7252b849\",\"comment\":\"Nwaba is recovering from an Achilles injury and will not play in the NBA season restart in Orlando, according to Shams Charania of The Athletic.\",\"desc\":\"Achilles\",\"status\":\"Out For Season\",\"start_date\":\"2020-06-23\",\"update_date\":\"2020-06-23\"}]}]}]}\n"
     ]
    }
   ],
   "source": [
    "import http.client\n",
    "\n",
    "conn = http.client.HTTPSConnection(\"api.sportradar.us\")\n",
    "\n",
    "conn.request(\"GET\", f\"/nba/trial/v7/en/league/injuries.json?api_key={APIKEY}\")\n",
    "\n",
    "res = conn.getresponse()\n",
    "data = res.read()\n",
    "\n",
    "print(data.decode(\"utf-8\"))"
   ]
  },
  {
   "cell_type": "markdown",
   "metadata": {},
   "source": [
    "## Open Saved JSON"
   ]
  },
  {
   "cell_type": "code",
<<<<<<< HEAD
   "execution_count": null,
   "metadata": {
    "ExecuteTime": {
     "end_time": "2020-09-23T07:10:13.654224Z",
     "start_time": "2020-09-23T07:10:13.508908Z"
=======
   "execution_count": 8,
   "metadata": {
    "ExecuteTime": {
     "end_time": "2020-09-24T03:15:42.253726Z",
     "start_time": "2020-09-24T03:15:42.102081Z"
>>>>>>> 21f43be9f6e77ee89f1a6640d6086f6dbadff98e
    }
   },
   "outputs": [],
   "source": [
    "with open('./_players_all_data.json') as json_file:\n",
    "    data = json.load(json_file)"
   ]
  },
  {
   "cell_type": "code",
   "execution_count": null,
   "metadata": {
    "ExecuteTime": {
     "end_time": "2020-09-23T07:10:13.730905Z",
     "start_time": "2020-09-23T07:10:13.707207Z"
    }
   },
   "outputs": [],
   "source": [
    "#  Player salaries by year and inflation. Position\n",
    "player_positions = pd.read_csv('../../datasets/nba_salaries.csv') "
   ]
  },
  {
   "cell_type": "markdown",
   "metadata": {},
   "source": [
    "--------------"
   ]
  },
  {
   "cell_type": "markdown",
   "metadata": {},
   "source": [
    "#### Key: \n",
    "\n",
    "* GP: Games Played\n",
    "* MIN: Minutes Played\n",
    "* FGM: Field Goals Made\n",
    "* FGA: Field Goals Attempted\n",
    "* FG%: Field Goal Percentage\n",
    "* 3PM: 3 Point Field Goals Made\n",
    "* 3PA: 3 Point Field Goals Attempted\n",
    "* 3P%: 3 Point Field Goals Percentage\n",
    "* FTM: Free Throws Made\n",
    "* FTA: Free Throws Attempted\n",
    "* FT%: Free Throw Percentage\n",
    "* OREB: Offensive Rebounds\n",
    "* DREB: Defensive Rebounds\n",
    "* REB: Rebounds\n",
    "* AST: Assists\n",
    "* TOV: Turnovers\n",
    "* STL: Steals\n",
    "* BLK: Blocks\n",
    "* PF: Personal Fouls\n",
    "* DD2: Double Doubles\n",
    "* TD3: Trible Doubles\n",
    "* PTS: Points\n",
    "* YIL: Year in League\n",
    "\n",
    "\n"
   ]
  },
  {
   "cell_type": "markdown",
   "metadata": {
    "heading_collapsed": true
   },
   "source": [
    "## Clean df and add columns"
   ]
  },
  {
   "cell_type": "markdown",
   "metadata": {
    "hidden": true
   },
   "source": [
    "add Points Per Games Played (PPGP), add position"
   ]
  },
  {
   "cell_type": "code",
   "execution_count": null,
   "metadata": {
    "ExecuteTime": {
     "end_time": "2020-09-23T07:10:14.666175Z",
     "start_time": "2020-09-23T07:10:14.657199Z"
    },
    "hidden": true
   },
   "outputs": [],
   "source": [
    "# df1.merge(df2, left_on='lkey', right_on='rkey',\n",
    "\n",
    "#           suffixes=('_left', '_right'))"
   ]
  },
  {
   "cell_type": "code",
   "execution_count": null,
   "metadata": {
    "ExecuteTime": {
     "end_time": "2020-09-23T07:10:14.882163Z",
     "start_time": "2020-09-23T07:10:14.871168Z"
    },
    "hidden": true
   },
   "outputs": [],
   "source": [
    "player_positions = player_positions.rename(columns={'Player':'PLAYER_NAME'}) "
   ]
  },
  {
   "cell_type": "code",
   "execution_count": null,
   "metadata": {
    "ExecuteTime": {
     "end_time": "2020-09-23T07:10:15.507959Z",
     "start_time": "2020-09-23T07:10:15.277086Z"
    },
    "hidden": true
   },
   "outputs": [],
   "source": [
    "five_year_all_players = pd.read_json(data)\n",
    "five_year_all_players = five_year_all_players.drop(columns=['LEAGUE_ID','TEAM_ID','TEAM_ABBREVIATION'])"
   ]
  },
  {
   "cell_type": "code",
   "execution_count": null,
   "metadata": {
    "ExecuteTime": {
     "end_time": "2020-09-23T07:10:20.242671Z",
     "start_time": "2020-09-23T07:10:20.114646Z"
    },
    "hidden": true,
    "scrolled": true
   },
   "outputs": [],
   "source": [
    "twenty_years_all_players_raw = five_year_all_players[five_year_all_players['SEASON_ID'] > '1999-00']\n",
    "twenty_years_all_players_raw = twenty_years_all_players_raw.merge(player_positions, left_on='PLAYER_NAME', right_on='PLAYER_NAME',suffixes=('_left', '_right')).drop_duplicates( keep='first').reset_index(drop=True).dropna(how='any')\n",
    "twenty_years_all_players_raw['PPGP'] = round(twenty_years_all_players_raw['PTS'] / twenty_years_all_players_raw['GP'], 2)\n",
    "twenty_years_all_players_raw = twenty_years_all_players_raw.rename(str.upper, axis='columns')\n",
    "twenty_years_all_players_raw['POSITION'] = twenty_years_all_players_raw['POSITION'].str.strip()\n",
    "twenty_years_all_players_raw = twenty_years_all_players_raw[(twenty_years_all_players_raw.POSITION != 'GF') & (twenty_years_all_players_raw.POSITION != 'NA')]\n",
    "twenty_years_all_players_raw = twenty_years_all_players_raw[['YEAR','PLAYER_ID','POSITION', 'PLAYER_NAME','SEASON_ID','YIL', 'PLAYER_AGE', 'GP', 'GS', 'MIN', 'FGM', 'FGA',\n",
    "       'FG_PCT', 'FG3M', 'FG3A', 'FG3_PCT', 'FTM', 'FTA', 'FT_PCT', 'OREB',\n",
    "       'DREB', 'REB', 'AST', 'STL', 'BLK', 'TOV', 'PF', 'PTS', 'PPGP', 'INFLATION']]"
   ]
  },
  {
   "cell_type": "markdown",
   "metadata": {
    "heading_collapsed": true
   },
   "source": [
    "## Save combined data to json"
   ]
  },
  {
   "cell_type": "code",
   "execution_count": null,
   "metadata": {
    "ExecuteTime": {
     "end_time": "2020-09-23T07:12:55.842136Z",
     "start_time": "2020-09-23T07:12:55.829163Z"
    },
    "hidden": true
   },
   "outputs": [],
   "source": [
    "twenty_years_all_players_raw=twenty_years_all_players_raw.to_json(orient='records')\n",
    "\n",
    "# SAVE: Player_position\n",
    "with open(f'./clean_combined_data_for_ml.json', 'w') as fp:\n",
    "    json.dump(twenty_years_all_players_raw, fp)"
   ]
  },
  {
   "cell_type": "markdown",
   "metadata": {},
   "source": [
    "## Open combined data from json"
   ]
  },
  {
   "cell_type": "code",
   "execution_count": null,
   "metadata": {
    "ExecuteTime": {
     "end_time": "2020-09-23T07:13:02.625265Z",
     "start_time": "2020-09-23T07:13:02.346898Z"
    }
   },
   "outputs": [],
   "source": [
    "with open('./clean_combined_data_for_ml.json') as json_file:\n",
    "    data = json.load(json_file)"
   ]
  },
  {
   "cell_type": "code",
   "execution_count": null,
   "metadata": {
    "ExecuteTime": {
     "end_time": "2020-09-23T07:13:03.190007Z",
     "start_time": "2020-09-23T07:13:02.715176Z"
    }
   },
   "outputs": [],
   "source": [
    "# Default DF. Do not touch.\n",
    "default = pd.read_json(data).copy()"
   ]
  },
  {
   "cell_type": "markdown",
   "metadata": {},
   "source": [
    "## Dataframes for all positions "
   ]
  },
  {
   "cell_type": "code",
   "execution_count": null,
   "metadata": {
    "ExecuteTime": {
     "end_time": "2020-09-23T07:13:34.306064Z",
     "start_time": "2020-09-23T07:13:34.283141Z"
    }
   },
   "outputs": [],
   "source": [
    "# SG\n",
    "sg = default[default['POSITION'] == 'SG']"
   ]
  },
  {
   "cell_type": "code",
   "execution_count": null,
   "metadata": {
    "ExecuteTime": {
     "end_time": "2020-09-22T03:18:18.362663Z",
     "start_time": "2020-09-22T03:18:18.348698Z"
    }
   },
   "outputs": [],
   "source": [
    "# C\n",
    "c = default[default['POSITION'] == 'C']"
   ]
  },
  {
   "cell_type": "code",
   "execution_count": null,
   "metadata": {
    "ExecuteTime": {
     "end_time": "2020-09-22T03:18:18.533015Z",
     "start_time": "2020-09-22T03:18:18.523065Z"
    }
   },
   "outputs": [],
   "source": [
    "# SF\n",
    "sf = default[default['POSITION'] == 'SF']"
   ]
  },
  {
   "cell_type": "code",
   "execution_count": null,
   "metadata": {
    "ExecuteTime": {
     "end_time": "2020-09-22T03:18:18.689767Z",
     "start_time": "2020-09-22T03:18:18.684751Z"
    }
   },
   "outputs": [],
   "source": [
    "# PF\n",
    "pf = default[default['POSITION'] == 'PF']"
   ]
  },
  {
   "cell_type": "code",
   "execution_count": null,
   "metadata": {
    "ExecuteTime": {
     "end_time": "2020-09-22T03:18:18.861702Z",
     "start_time": "2020-09-22T03:18:18.846714Z"
    }
   },
   "outputs": [],
   "source": [
    "# PG\n",
    "pg = default[default['POSITION'] == 'PG']"
   ]
  },
  {
   "cell_type": "code",
   "execution_count": null,
   "metadata": {
    "ExecuteTime": {
     "end_time": "2020-09-22T03:18:19.020703Z",
     "start_time": "2020-09-22T03:18:19.007714Z"
    }
   },
   "outputs": [],
   "source": [
    "# G\n",
    "g = default[default['POSITION'] == 'G']"
   ]
  },
  {
   "cell_type": "code",
   "execution_count": null,
   "metadata": {
    "ExecuteTime": {
     "end_time": "2020-09-22T03:18:19.191577Z",
     "start_time": "2020-09-22T03:18:19.175590Z"
    }
   },
   "outputs": [],
   "source": [
    "# F\n",
    "f = default[default['POSITION'] == 'F']"
   ]
  },
  {
   "cell_type": "markdown",
   "metadata": {},
   "source": [
    "------------"
   ]
  }
 ],
 "metadata": {
  "kernelspec": {
   "display_name": "Python 3",
   "language": "python",
   "name": "python3"
  },
  "language_info": {
   "codemirror_mode": {
    "name": "ipython",
    "version": 3
   },
   "file_extension": ".py",
   "mimetype": "text/x-python",
   "name": "python",
   "nbconvert_exporter": "python",
   "pygments_lexer": "ipython3",
   "version": "3.7.1"
  }
 },
 "nbformat": 4,
 "nbformat_minor": 4
}
