{
 "cells": [
  {
   "cell_type": "markdown",
   "metadata": {},
   "source": [
    "## Libraries"
   ]
  },
  {
   "cell_type": "code",
   "execution_count": null,
   "metadata": {
    "ExecuteTime": {
     "end_time": "2020-09-24T23:06:37.926820Z",
     "start_time": "2020-09-24T23:06:37.247335Z"
    }
   },
   "outputs": [],
   "source": [
    "%matplotlib inline\n",
    "import matplotlib.pyplot as plt\n",
    "import numpy as np\n",
    "import pandas as pd\n",
    "\n",
    "# Dependencies and Setup\n",
    "import time\n",
    "from pprint import pprint\n",
    "import requests\n",
    "from datetime import date, timedelta, datetime\n",
    "import json\n",
    "from pprint import pprint\n",
    "from tqdm import tqdm\n",
    "from tqdm import tqdm_notebook\n",
    "# sqlite Dependencies\n",
    "# ----------------------------------\n",
    "# Imports the method used for connecting to DBs\n",
    "from sqlalchemy import create_engine\n",
    "# Allow us to declare column types\n",
    "from sqlalchemy import Column, Integer, String, Text, DateTime, Float, Boolean, ForeignKey\n",
    "from sqlalchemy.orm import relationship\n",
    "from sqlalchemy.ext.declarative import declarative_base\n",
    "from sqlalchemy.orm import Session\n",
    "from config import APIKEY"
   ]
  },
  {
   "cell_type": "code",
   "execution_count": null,
   "metadata": {
    "ExecuteTime": {
     "end_time": "2020-09-24T23:06:38.004009Z",
     "start_time": "2020-09-24T23:06:37.927791Z"
    }
   },
   "outputs": [],
   "source": [
    "from nba_api.stats.endpoints import playercareerstats, drafthistory, commonplayerinfo, playerawards"
   ]
  },
  {
   "cell_type": "code",
   "execution_count": null,
   "metadata": {
    "ExecuteTime": {
     "end_time": "2020-09-24T23:06:38.019047Z",
     "start_time": "2020-09-24T23:06:38.004967Z"
    }
   },
   "outputs": [],
   "source": [
    "# Not used\n",
    "# cumestatsplayer,draftcombinedrillresults,playerdashboardbyteamperformance, leagueleaders, leaguedashplayerstats, draftcombinenonstationaryshooting, draftcombinestats, commonallplayers,"
   ]
  },
  {
   "cell_type": "markdown",
   "metadata": {},
   "source": [
    "-------------"
   ]
  },
  {
   "cell_type": "code",
   "execution_count": null,
   "metadata": {
    "ExecuteTime": {
     "end_time": "2020-09-24T23:06:38.234415Z",
     "start_time": "2020-09-24T23:06:38.020008Z"
    }
   },
   "outputs": [],
   "source": [
    "# Display all columns\n",
    "pd.set_option('display.max_columns', 500)\n",
    "# Anthony Davis\n",
    "draft_data = drafthistory.DraftHistory()\n",
    "draft_history_filtered = draft_data.get_data_frames()[0]\n",
    "draft_history_filtered['SEASON'] = draft_history_filtered['SEASON'].astype(int)\n",
    "draft_history_filtered = draft_history_filtered[draft_history_filtered['SEASON'] >= 2000]\n",
    "draft_history_filtered = draft_history_filtered[['PERSON_ID','ROUND_NUMBER','OVERALL_PICK']]\n",
    "draft_history_filtered['ROUND_NUMBER'] = draft_history_filtered['ROUND_NUMBER'].fillna(2)\n",
    "draft_history_filtered['OVERALL_PICK'] = draft_history_filtered['OVERALL_PICK'].fillna(61)"
   ]
  },
  {
   "cell_type": "code",
   "execution_count": null,
   "metadata": {
    "ExecuteTime": {
     "end_time": "2020-09-24T23:06:38.250006Z",
     "start_time": "2020-09-24T23:06:38.234975Z"
    }
   },
   "outputs": [],
   "source": [
    "draft_history_filtered"
   ]
  },
  {
   "cell_type": "code",
   "execution_count": null,
   "metadata": {
    "ExecuteTime": {
     "end_time": "2020-09-24T23:06:38.265168Z",
     "start_time": "2020-09-24T23:06:38.250976Z"
    }
   },
   "outputs": [],
   "source": [
    "draft_history_filtered['ROUND_NUMBER'] = draft_history_filtered['ROUND_NUMBER'].fillna(2)\n",
    "draft_history_filtered['ALLSTAR'] = draft_history_filtered['OVERALL_PICK'].fillna(61)"
   ]
  },
  {
   "cell_type": "markdown",
   "metadata": {},
   "source": [
    "### Injury"
   ]
  },
  {
   "cell_type": "code",
   "execution_count": null,
   "metadata": {
    "ExecuteTime": {
     "end_time": "2020-09-24T23:06:38.296205Z",
     "start_time": "2020-09-24T23:06:38.266155Z"
    }
   },
   "outputs": [],
   "source": [
    "# Injury clean\n",
    "injuries = pd.read_csv('../../datasets/injuries_2010_2020.csv')\n",
    "# injuries[\"PLAYER_NAME\"] = injuries[\"Acquired\"] +\" \"+ injuries[\"Relinquished\"]\n",
    "injuries[\"PLAYER_NAME\"] = injuries['Relinquished'].combine_first(injuries['Acquired'])\n",
    "injuries = injuries.drop(columns=['Acquired', 'Relinquished','Team'])\n",
    "injuries = injuries[['Date','PLAYER_NAME','Notes']]\n",
    "injuries.copy()"
   ]
  },
  {
   "cell_type": "markdown",
   "metadata": {},
   "source": [
    "## Open Saved JSON"
   ]
  },
  {
   "cell_type": "code",
   "execution_count": null,
   "metadata": {
    "ExecuteTime": {
     "end_time": "2020-09-24T23:06:38.419501Z",
     "start_time": "2020-09-24T23:06:38.298174Z"
    }
   },
   "outputs": [],
   "source": [
    "with open('./_players_all_data.json') as json_file:\n",
    "    data = json.load(json_file)"
   ]
  },
  {
   "cell_type": "code",
   "execution_count": null,
   "metadata": {
    "ExecuteTime": {
     "end_time": "2020-09-24T23:06:38.435594Z",
     "start_time": "2020-09-24T23:06:38.420382Z"
    }
   },
   "outputs": [],
   "source": [
    "#  Player positions\n",
    "player_positions = pd.read_csv('../../datasets/nba_positions_no_team.csv') "
   ]
  },
  {
   "cell_type": "code",
   "execution_count": null,
   "metadata": {
    "ExecuteTime": {
     "end_time": "2020-09-24T23:06:38.451695Z",
     "start_time": "2020-09-24T23:06:38.436518Z"
    }
   },
   "outputs": [],
   "source": [
    "#  Player nba_salaries\n",
    "nba_salaries = pd.read_csv('../../datasets/nba_salaries.csv') "
   ]
  },
  {
   "cell_type": "markdown",
   "metadata": {},
   "source": [
    "--------------"
   ]
  },
  {
   "cell_type": "markdown",
   "metadata": {},
   "source": [
    "#### Key: \n",
    "\n",
    "* GP: Games Played\n",
    "* MIN: Minutes Played\n",
    "* FGM: Field Goals Made\n",
    "* FGA: Field Goals Attempted\n",
    "* FG%: Field Goal Percentage\n",
    "* 3PM: 3 Point Field Goals Made\n",
    "* 3PA: 3 Point Field Goals Attempted\n",
    "* 3P%: 3 Point Field Goals Percentage\n",
    "* FTM: Free Throws Made\n",
    "* FTA: Free Throws Attempted\n",
    "* FT%: Free Throw Percentage\n",
    "* OREB: Offensive Rebounds\n",
    "* DREB: Defensive Rebounds\n",
    "* REB: Rebounds\n",
    "* AST: Assists\n",
    "* TOV: Turnovers\n",
    "* STL: Steals\n",
    "* BLK: Blocks\n",
    "* PF: Personal Fouls\n",
    "* DD2: Double Doubles\n",
    "* TD3: Trible Doubles\n",
    "* PTS: Points\n",
    "* YIL: Year in League\n",
    "\n",
    "\n"
   ]
  },
  {
   "cell_type": "markdown",
   "metadata": {},
   "source": [
    "## Clean df and add columns"
   ]
  },
  {
   "cell_type": "markdown",
   "metadata": {},
   "source": [
    "add Points Per Games Played (PPGP), add position"
   ]
  },
  {
   "cell_type": "code",
   "execution_count": null,
   "metadata": {
    "ExecuteTime": {
     "end_time": "2020-09-24T23:06:38.467656Z",
     "start_time": "2020-09-24T23:06:38.452693Z"
    }
   },
   "outputs": [],
   "source": [
    "# df1.merge(df2, left_on='lkey', right_on='rkey',\n",
    "\n",
    "#           suffixes=('_left', '_right'))"
   ]
  },
  {
   "cell_type": "code",
   "execution_count": null,
   "metadata": {
    "ExecuteTime": {
     "end_time": "2020-09-24T23:06:38.746358Z",
     "start_time": "2020-09-24T23:06:38.468630Z"
    },
    "scrolled": true
   },
   "outputs": [],
   "source": [
    "five_year_all_players = pd.read_json(data)\n",
    "twenty_years_all_players_raw = five_year_all_players[five_year_all_players['SEASON_ID'] > '1999-00']\n",
    "twenty_years_all_players_raw = twenty_years_all_players_raw.merge(player_positions, how=\"inner\", left_on='PLAYER_NAME', right_on='PLAYER_NAME',suffixes=('_left', '_right')).drop_duplicates(keep='first').reset_index(drop=True)\n",
    "# .dropna(how='any')\n",
    "twenty_years_all_players_raw['PPGP'] = round(twenty_years_all_players_raw['PTS'] / twenty_years_all_players_raw['GP'], 2)\n",
    "twenty_years_all_players_raw['POSITION'] = twenty_years_all_players_raw['POSITION'].str.strip()\n",
    "twenty_years_all_players_raw = twenty_years_all_players_raw[(twenty_years_all_players_raw['POSITION'] != 'GF') & (twenty_years_all_players_raw['POSITION'] != 'NA')]"
   ]
  },
  {
   "cell_type": "code",
   "execution_count": null,
   "metadata": {
    "ExecuteTime": {
     "end_time": "2020-09-24T23:06:38.777522Z",
     "start_time": "2020-09-24T23:06:38.747243Z"
    }
   },
   "outputs": [],
   "source": [
    "twenty_years_all_players_raw[twenty_years_all_players_raw['PLAYER_NAME'] == 'Alex Caruso']"
   ]
  },
  {
   "cell_type": "code",
   "execution_count": null,
   "metadata": {
    "ExecuteTime": {
     "end_time": "2020-09-24T23:06:38.823953Z",
     "start_time": "2020-09-24T23:06:38.779516Z"
    }
   },
   "outputs": [],
   "source": [
    "format_year = []\n",
    "contract_year = []\n",
    "for year in twenty_years_all_players_raw['SEASON_ID']:\n",
    "    contract = int(year[:-3])\n",
    "    fix_year = year[-2:]\n",
    "    new_year = int(\"20\" + fix_year)\n",
    "    contract_year.append(contract)\n",
    "    format_year.append(new_year) \n",
    "    \n",
    "twenty_years_all_players_raw['YEAR'] = format_year\n",
    "# twenty_years_all_players_raw['CYEAR'] = contract_year\n",
    "twenty_years_all_players_raw.copy()"
   ]
  },
  {
   "cell_type": "markdown",
   "metadata": {},
   "source": [
    "### NBA Salary add"
   ]
  },
  {
   "cell_type": "code",
   "execution_count": null,
   "metadata": {
    "ExecuteTime": {
     "end_time": "2020-09-24T23:06:38.839950Z",
     "start_time": "2020-09-24T23:06:38.825155Z"
    }
   },
   "outputs": [],
   "source": [
    "# Rename salary columns\n",
    "nba_salaries = nba_salaries.rename(columns={\"Year\":\"YEAR\",\"Player\":\"PLAYER_NAME\",\"Position\":\"POSITION\",\"Salary\":\"SALARY\",\"Inflation\":\"INFLATION\",})"
   ]
  },
  {
   "cell_type": "code",
   "execution_count": null,
   "metadata": {
    "ExecuteTime": {
     "end_time": "2020-09-24T23:06:39.554954Z",
     "start_time": "2020-09-24T23:06:39.533527Z"
    }
   },
   "outputs": [],
   "source": [
    "nba_salaries[nba_salaries['PLAYER_NAME'] == 'Alex Caruso']"
   ]
  },
  {
   "cell_type": "code",
   "execution_count": null,
   "metadata": {
    "ExecuteTime": {
     "end_time": "2020-09-24T23:06:40.052863Z",
     "start_time": "2020-09-24T23:06:39.961075Z"
    }
   },
   "outputs": [],
   "source": [
    "# Merge df and clean\n",
    "twenty_years_all_players_raw = twenty_years_all_players_raw.merge(nba_salaries, how=\"outer\", left_on=['YEAR','PLAYER_NAME'], right_on=['YEAR','PLAYER_NAME'],suffixes=('_left', '_right')).drop_duplicates( keep='first').reset_index(drop=True)\n",
    "# .dropna(how='any')\n",
    "twenty_years_all_players_raw = twenty_years_all_players_raw.rename(columns={\"POSITION_left\":\"POSITION\"})\n",
    "twenty_years_all_players_raw['POSITION'] = twenty_years_all_players_raw['POSITION'].fillna(twenty_years_all_players_raw['POSITION_right'])\n",
    "twenty_years_all_players_raw = twenty_years_all_players_raw.drop(columns=['POSITION_right'])     \n",
    "twenty_years_all_players_raw = twenty_years_all_players_raw.dropna(thresh=5).fillna(0)\n",
    "twenty_years_all_players_raw"
   ]
  },
  {
   "cell_type": "code",
   "execution_count": null,
   "metadata": {
    "ExecuteTime": {
     "end_time": "2020-09-24T23:06:45.114969Z",
     "start_time": "2020-09-24T23:06:45.111406Z"
    }
   },
   "outputs": [],
   "source": [
    "# twenty_years_all_players_raw2 = twenty_years_all_players_raw.copy()\n",
    "# twenty_years_all_players_raw2"
   ]
  },
  {
   "cell_type": "code",
   "execution_count": null,
   "metadata": {
    "ExecuteTime": {
     "end_time": "2020-09-24T23:06:45.380191Z",
     "start_time": "2020-09-24T23:06:45.364098Z"
    }
   },
   "outputs": [],
   "source": [
    "# names = twenty_years_all_players_raw2.loc[:, 'PLAYER_NAME']"
   ]
  },
  {
   "cell_type": "code",
   "execution_count": null,
   "metadata": {
    "ExecuteTime": {
     "end_time": "2020-09-24T23:06:45.689926Z",
     "start_time": "2020-09-24T23:06:45.672971Z"
    }
   },
   "outputs": [],
   "source": [
    "# for test in names:\n",
    "# #     twenty_years_all_players_raw2.loc[:, 'PLAYER_NAME':'SALARY']\n",
    "#     print(test)"
   ]
  },
  {
   "cell_type": "code",
   "execution_count": null,
   "metadata": {
    "ExecuteTime": {
     "end_time": "2020-09-24T23:06:45.969893Z",
     "start_time": "2020-09-24T23:06:45.962884Z"
    },
    "scrolled": true
   },
   "outputs": [],
   "source": [
    "# for player in twenty_years_all_players_raw2['PLAYER_NAME']:\n",
    "#     lowest_sal = twenty_years_all_players_raw2[twenty_years_all_players_raw2['PLAYER_NAME'] == player]['SALARY'].min()\n",
    "#     twenty_years_all_players_raw2.loc[:,-6] == player]['SALARY'] = twenty_years_all_players_raw2[twenty_years_all_players_raw2['PLAYER_NAME'] == player]['SALARY'].fillna(lowest_sal)\n",
    "\n",
    "# twenty_years_all_players_raw2\n",
    "# twenty_years_all_players_raw2[twenty_years_all_players_raw2['PLAYER_NAME'] == 'Alex Caruso']"
   ]
  },
  {
   "cell_type": "code",
   "execution_count": null,
   "metadata": {
    "ExecuteTime": {
     "end_time": "2020-09-24T23:06:46.367713Z",
     "start_time": "2020-09-24T23:06:46.283634Z"
    }
   },
   "outputs": [],
   "source": [
    "draft_history_pass = twenty_years_all_players_raw.merge(draft_history_filtered, how=\"outer\", left_on='PLAYER_ID', right_on='PERSON_ID',suffixes=('_left', '_right')).drop_duplicates( keep='first').dropna(thresh=5).reset_index(drop=True)\n",
    "draft_history_pass = draft_history_pass.drop(columns=\"PERSON_ID\")\n",
    "draft_history_pass['ROUND_NUMBER'] = draft_history_pass['ROUND_NUMBER'].fillna(2)\n",
    "draft_history_pass['OVERALL_PICK'] = draft_history_pass['OVERALL_PICK'].fillna(61)\n",
    "draft_history_pass['ALLSTAR'] = draft_history_pass['ALLSTAR'].fillna(0)\n",
    "draft_history_pass"
   ]
  },
  {
   "cell_type": "code",
   "execution_count": null,
   "metadata": {},
   "outputs": [],
   "source": []
  },
  {
   "cell_type": "markdown",
   "metadata": {},
   "source": [
    "## Save combined data to json"
   ]
  },
  {
   "cell_type": "code",
   "execution_count": null,
   "metadata": {
    "ExecuteTime": {
     "end_time": "2020-09-24T23:06:50.937996Z",
     "start_time": "2020-09-24T23:06:50.836499Z"
    }
   },
   "outputs": [],
   "source": [
    "draft_history_pass=draft_history_pass.to_json(orient='records')\n",
    "\n",
    "# SAVE: Player_position\n",
    "with open(f'./clean_combined_data_for_ml.json', 'w') as fp:\n",
    "    json.dump(draft_history_pass, fp)"
   ]
  },
  {
   "cell_type": "markdown",
   "metadata": {},
   "source": [
    "## Open combined data from json"
   ]
  },
  {
   "cell_type": "code",
   "execution_count": null,
   "metadata": {
    "ExecuteTime": {
     "end_time": "2020-09-24T23:06:52.218471Z",
     "start_time": "2020-09-24T23:06:52.100376Z"
    }
   },
   "outputs": [],
   "source": [
    "with open('./clean_combined_data_for_ml.json') as json_file:\n",
    "    data = json.load(json_file)"
   ]
  },
  {
   "cell_type": "code",
   "execution_count": null,
   "metadata": {
    "ExecuteTime": {
     "end_time": "2020-09-24T23:06:52.546773Z",
     "start_time": "2020-09-24T23:06:52.354000Z"
    }
   },
   "outputs": [],
   "source": [
    "# Default DF. Do not touch.\n",
    "default = pd.read_json(data).copy()\n",
    "default[default['SEASON_ID'] == '2019-20']"
   ]
  },
  {
   "cell_type": "code",
   "execution_count": null,
   "metadata": {
    "ExecuteTime": {
     "end_time": "2020-09-24T23:52:28.949419Z",
     "start_time": "2020-09-24T23:52:28.919507Z"
    }
   },
   "outputs": [],
   "source": [
    "default[default['PLAYER_NAME'] == 'Nikola Jokic']"
   ]
  },
  {
   "cell_type": "markdown",
   "metadata": {},
   "source": [
    "-------------"
   ]
  },
  {
   "cell_type": "markdown",
   "metadata": {},
   "source": [
    "### Clean injuries"
   ]
  },
  {
   "cell_type": "code",
   "execution_count": null,
   "metadata": {
    "ExecuteTime": {
     "end_time": "2020-09-24T23:05:56.062018Z",
     "start_time": "2020-09-24T23:05:55.134Z"
    }
   },
   "outputs": [],
   "source": [
    "import datetime\n",
    "\n",
    "dnp = injuries[injuries['Notes'] != 'returned to lineup' ]\n",
    "string = dnp['Date']\n",
    "\n",
    "new_dates = []\n",
    "for datee in dnp['Date']:\n",
    "    date_time_obj = datetime.datetime.strptime(datee, '%m/%d/%Y')\n",
    "    only_year = date_time_obj.year\n",
    "    new_dates.append(only_year)"
   ]
  },
  {
   "cell_type": "code",
   "execution_count": null,
   "metadata": {
    "ExecuteTime": {
     "end_time": "2020-09-24T23:05:56.063015Z",
     "start_time": "2020-09-24T23:05:55.137Z"
    }
   },
   "outputs": [],
   "source": [
    "dnp['Date'] = new_dates\n",
    "dnp"
   ]
  },
  {
   "cell_type": "code",
   "execution_count": null,
   "metadata": {
    "ExecuteTime": {
     "end_time": "2020-09-24T23:05:56.063973Z",
     "start_time": "2020-09-24T23:05:55.138Z"
    }
   },
   "outputs": [],
   "source": [
    "\n",
    "dnp_clean = dnp.groupby(['PLAYER_NAME','Date']).count().sort_values(\"Date\").reset_index()"
   ]
  },
  {
   "cell_type": "code",
   "execution_count": null,
   "metadata": {
    "ExecuteTime": {
     "end_time": "2020-09-24T23:05:56.063973Z",
     "start_time": "2020-09-24T23:05:55.139Z"
    }
   },
   "outputs": [],
   "source": [
    "# only_year = date_time_obj.year"
   ]
  },
  {
   "cell_type": "code",
   "execution_count": null,
   "metadata": {
    "ExecuteTime": {
     "end_time": "2020-09-24T04:32:00.842230Z",
     "start_time": "2020-09-24T04:32:00.830258Z"
    }
   },
   "outputs": [],
   "source": []
  },
  {
   "cell_type": "code",
   "execution_count": null,
   "metadata": {
    "ExecuteTime": {
     "end_time": "2020-09-24T04:31:02.156612Z",
     "start_time": "2020-09-24T04:31:02.138917Z"
    }
   },
   "outputs": [],
   "source": []
  },
  {
   "cell_type": "code",
   "execution_count": null,
   "metadata": {
    "ExecuteTime": {
     "end_time": "2020-09-24T23:05:56.064970Z",
     "start_time": "2020-09-24T23:05:55.143Z"
    }
   },
   "outputs": [],
   "source": [
    "dnp_clean=dnp_clean.to_json(orient='records')\n",
    "\n",
    "# SAVE: Player_position\n",
    "with open(f'./injury_formatted.json', 'w') as fp:\n",
    "    json.dump(dnp_clean, fp)"
   ]
  },
  {
   "cell_type": "code",
   "execution_count": null,
   "metadata": {},
   "outputs": [],
   "source": []
  },
  {
   "cell_type": "code",
   "execution_count": null,
   "metadata": {},
   "outputs": [],
   "source": []
  },
  {
   "cell_type": "code",
   "execution_count": null,
   "metadata": {},
   "outputs": [],
   "source": []
  },
  {
   "cell_type": "code",
   "execution_count": null,
   "metadata": {},
   "outputs": [],
   "source": []
  },
  {
   "cell_type": "code",
   "execution_count": null,
   "metadata": {},
   "outputs": [],
   "source": []
  },
  {
   "cell_type": "code",
   "execution_count": null,
   "metadata": {},
   "outputs": [],
   "source": []
  },
  {
   "cell_type": "code",
   "execution_count": null,
   "metadata": {},
   "outputs": [],
   "source": []
  },
  {
   "cell_type": "code",
   "execution_count": null,
   "metadata": {},
   "outputs": [],
   "source": []
  },
  {
   "cell_type": "code",
   "execution_count": null,
   "metadata": {},
   "outputs": [],
   "source": []
  },
  {
   "cell_type": "code",
   "execution_count": null,
   "metadata": {},
   "outputs": [],
   "source": []
  },
  {
   "cell_type": "code",
   "execution_count": null,
   "metadata": {},
   "outputs": [],
   "source": []
  },
  {
   "cell_type": "code",
   "execution_count": null,
   "metadata": {},
   "outputs": [],
   "source": []
  },
  {
   "cell_type": "code",
   "execution_count": null,
   "metadata": {},
   "outputs": [],
   "source": []
  },
  {
   "cell_type": "markdown",
   "metadata": {},
   "source": [
    "------------"
   ]
  }
 ],
 "metadata": {
  "kernelspec": {
   "display_name": "Python 3",
   "language": "python",
   "name": "python3"
  },
  "language_info": {
   "codemirror_mode": {
    "name": "ipython",
    "version": 3
   },
   "file_extension": ".py",
   "mimetype": "text/x-python",
   "name": "python",
   "nbconvert_exporter": "python",
   "pygments_lexer": "ipython3",
   "version": "3.7.1"
  }
 },
 "nbformat": 4,
 "nbformat_minor": 4
}
