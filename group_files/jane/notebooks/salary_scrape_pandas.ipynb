{
 "cells": [
  {
   "cell_type": "code",
   "execution_count": 1,
   "metadata": {},
   "outputs": [],
   "source": [
    "# Import libraries\n",
    "import pandas as pd"
   ]
  },
  {
   "cell_type": "markdown",
   "metadata": {},
   "source": [
    "### Scrape 2020 Player Salaries"
   ]
  },
  {
   "cell_type": "code",
   "execution_count": 2,
   "metadata": {},
   "outputs": [],
   "source": [
    "# Loop through all pages for URL and scrape tables\n",
    "\n",
    "# Set range for pages\n",
    "pages = []\n",
    "\n",
    "for i in range(2, 19):\n",
    "    pages.append(i)\n",
    "\n",
    "# Scrape tables for 2020 page 1\n",
    "url_2020 = 'http://www.espn.com/nba/salaries/_/seasontype/3'\n",
    "tables_2020 = pd.read_html(url_2020)[0]\n",
    "tables_2020['year'] = '2020'\n",
    "\n",
    "# # Set variable for dataframe\n",
    "tables_2020_pgs_df = pd.DataFrame()\n",
    "\n",
    "# # Set URL variable for all other pages\n",
    "for page in pages:\n",
    "    url_2020_pgs = f'http://www.espn.com/nba/salaries/_/page/{page}/seasontype/3'\n",
    "    tables_2020_pgs = pd.read_html(url_2020_pgs)[0]\n",
    "    tables_2020_pgs['year'] = '2020'\n",
    "    tables_2020_pgs_df = pd.concat(axis = 0, objs=[tables_2020_pgs, tables_2020_pgs_df])\n",
    "    "
   ]
  },
  {
   "cell_type": "code",
   "execution_count": 3,
   "metadata": {},
   "outputs": [
    {
     "data": {
      "text/plain": [
       "44"
      ]
     },
     "execution_count": 3,
     "metadata": {},
     "output_type": "execute_result"
    }
   ],
   "source": [
    "len(tables_2020)"
   ]
  },
  {
   "cell_type": "code",
   "execution_count": 4,
   "metadata": {},
   "outputs": [
    {
     "data": {
      "text/plain": [
       "541"
      ]
     },
     "execution_count": 4,
     "metadata": {},
     "output_type": "execute_result"
    }
   ],
   "source": [
    "len(tables_2020_pgs_df)"
   ]
  },
  {
   "cell_type": "markdown",
   "metadata": {},
   "source": [
    "### Scrape all other years"
   ]
  },
  {
   "cell_type": "code",
   "execution_count": 5,
   "metadata": {},
   "outputs": [
    {
     "data": {
      "text/plain": [
       "[2000,\n",
       " 2001,\n",
       " 2002,\n",
       " 2003,\n",
       " 2004,\n",
       " 2005,\n",
       " 2006,\n",
       " 2007,\n",
       " 2008,\n",
       " 2009,\n",
       " 2010,\n",
       " 2011,\n",
       " 2012,\n",
       " 2013,\n",
       " 2014,\n",
       " 2015,\n",
       " 2016,\n",
       " 2017,\n",
       " 2018,\n",
       " 2019]"
      ]
     },
     "execution_count": 5,
     "metadata": {},
     "output_type": "execute_result"
    }
   ],
   "source": [
    "years = []\n",
    "\n",
    "for i in range(2000, 2020):\n",
    "    years.append(i)\n",
    "years"
   ]
  },
  {
   "cell_type": "code",
   "execution_count": 6,
   "metadata": {},
   "outputs": [],
   "source": [
    "# tables_all_others = []\n",
    "tables_all_others_df = pd.DataFrame()\n",
    "\n",
    "# Scrape tables for all other years - page 1\n",
    "for year in years:\n",
    "    url_all_others = f'http://www.espn.com/nba/salaries/_/year/{year}/seasontype/3'\n",
    "    tables_all_others = pd.read_html(url_all_others)[0]\n",
    "    tables_all_others['year'] = year\n",
    "    tables_all_others_df = pd.concat(axis = 0, objs=[tables_all_others, tables_all_others_df])\n",
    "\n"
   ]
  },
  {
   "cell_type": "code",
   "execution_count": 7,
   "metadata": {},
   "outputs": [
    {
     "data": {
      "text/plain": [
       "880"
      ]
     },
     "execution_count": 7,
     "metadata": {},
     "output_type": "execute_result"
    }
   ],
   "source": [
    "len(tables_all_others_df)"
   ]
  },
  {
   "cell_type": "code",
   "execution_count": 8,
   "metadata": {},
   "outputs": [],
   "source": [
    "years = []\n",
    "\n",
    "for i in range(2000, 2020):\n",
    "    years.append(i)\n",
    "\n",
    "tables_all_others_pgs_df = pd.DataFrame()\n",
    "\n",
    "# Scrape tables for all other years - all other pages\n",
    "for year in years:\n",
    "    for page in pages:\n",
    "        url_all_others_pgs = f'http://www.espn.com/nba/salaries/_/year/{year}/page/{page}/seasontype/3'\n",
    "        tables_all_others_pgs = pd.read_html(url_all_others_pgs)[0]\n",
    "        tables_all_others_pgs['year'] = year\n",
    "        tables_all_others_pgs_df = pd.concat(axis = 0, objs=[tables_all_others_pgs, tables_all_others_pgs_df])\n"
   ]
  },
  {
   "cell_type": "code",
   "execution_count": 9,
   "metadata": {},
   "outputs": [
    {
     "data": {
      "text/plain": [
       "9077"
      ]
     },
     "execution_count": 9,
     "metadata": {},
     "output_type": "execute_result"
    }
   ],
   "source": [
    "len(tables_all_others_pgs_df)"
   ]
  },
  {
   "cell_type": "code",
   "execution_count": 10,
   "metadata": {},
   "outputs": [
    {
     "data": {
      "text/plain": [
       "10542"
      ]
     },
     "execution_count": 10,
     "metadata": {},
     "output_type": "execute_result"
    }
   ],
   "source": [
    "# Concat all dataframes\n",
    "all_salaries_df = pd.concat(axis = 0, objs=[tables_2020, tables_2020_pgs_df, tables_all_others_df, tables_all_others_pgs_df])\n",
    "len(all_salaries_df)"
   ]
  },
  {
   "cell_type": "code",
   "execution_count": 11,
   "metadata": {},
   "outputs": [
    {
     "name": "stderr",
     "output_type": "stream",
     "text": [
      "/Applications/anaconda3/lib/python3.7/site-packages/ipykernel_launcher.py:14: FutureWarning: Columnar iteration over characters will be deprecated in future releases.\n",
      "  \n"
     ]
    }
   ],
   "source": [
    "# Clean dataframe\n",
    "\n",
    "# Add column headers\n",
    "all_salaries_df.columns = ['Rank', 'Player_Position', 'Team', 'Salary', 'Year']\n",
    "\n",
    "# Drop na\n",
    "all_salaries_df = all_salaries_df.dropna()\n",
    "\n",
    "# Drop extra rows\n",
    "drop_row = all_salaries_df[ (all_salaries_df['Rank'] == 'RK') & (all_salaries_df['Player_Position'] == 'NAME') & (all_salaries_df['Team'] == 'TEAM') & (all_salaries_df['Salary'] == 'SALARY')].index\n",
    "all_salaries_df.drop(drop_row, inplace=True)\n",
    "\n",
    "# Split Player_Position into 2 columns\n",
    "all_salaries_df['Player'], all_salaries_df['Position'] = all_salaries_df['Player_Position'].str.split(',', 1).str\n",
    "\n",
    "\n",
    "\n",
    "# Convert salary to interger\n",
    "all_salaries_df['Salary'] = all_salaries_df['Salary'].replace('[\\$,]','',regex=True).astype(int)\n",
    "all_salaries_df['Rank'] = all_salaries_df['Rank'].astype(int)\n",
    "all_salaries_df['Year'] = all_salaries_df['Year'].astype(int)"
   ]
  },
  {
   "cell_type": "code",
   "execution_count": 12,
   "metadata": {},
   "outputs": [
    {
     "data": {
      "text/plain": [
       "9456"
      ]
     },
     "execution_count": 12,
     "metadata": {},
     "output_type": "execute_result"
    }
   ],
   "source": [
    "len(all_salaries_df)"
   ]
  },
  {
   "cell_type": "code",
   "execution_count": 13,
   "metadata": {},
   "outputs": [],
   "source": [
    "# Drop Player_Position column\n",
    "all_salaries_df = all_salaries_df.drop('Player_Position', axis = 1)\n"
   ]
  },
  {
   "cell_type": "code",
   "execution_count": 14,
   "metadata": {},
   "outputs": [],
   "source": [
    "all_salaries_df = all_salaries_df.sort_values(['Year', 'Rank'], ascending = (False, True))\n",
    "                                              "
   ]
  },
  {
   "cell_type": "markdown",
   "metadata": {},
   "source": [
    "## Adjust salary for inflation"
   ]
  },
  {
   "cell_type": "code",
   "execution_count": 15,
   "metadata": {},
   "outputs": [
    {
     "name": "stdout",
     "output_type": "stream",
     "text": [
      "Collecting cpi\n",
      "  Downloading cpi-0.1.16-py2.py3-none-any.whl (25.5 MB)\n",
      "\u001b[K     |████████████████████████████████| 25.5 MB 66 kB/s  eta 0:00:012   |█▉                              | 1.4 MB 1.7 MB/s eta 0:00:14     |████████████████▎               | 12.9 MB 10.1 MB/s eta 0:00:02     |████████████████▊               | 13.3 MB 10.1 MB/s eta 0:00:02     |███████████████████▊            | 15.7 MB 4.6 MB/s eta 0:00:03     |█████████████████████████▉      | 20.6 MB 9.3 MB/s eta 0:00:01\n",
      "\u001b[?25hRequirement already satisfied: pandas>=0.23.1 in /Applications/anaconda3/lib/python3.7/site-packages (from cpi) (1.0.3)\n",
      "Requirement already satisfied: requests>=2.20.0 in /Applications/anaconda3/lib/python3.7/site-packages (from cpi) (2.23.0)\n",
      "Requirement already satisfied: click>=6.7 in /Applications/anaconda3/lib/python3.7/site-packages (from cpi) (7.1.1)\n",
      "Requirement already satisfied: python-dateutil>=2.7.3 in /Applications/anaconda3/lib/python3.7/site-packages (from cpi) (2.8.1)\n",
      "Requirement already satisfied: pytz>=2017.2 in /Applications/anaconda3/lib/python3.7/site-packages (from pandas>=0.23.1->cpi) (2020.1)\n",
      "Requirement already satisfied: numpy>=1.13.3 in /Applications/anaconda3/lib/python3.7/site-packages (from pandas>=0.23.1->cpi) (1.18.1)\n",
      "Requirement already satisfied: idna<3,>=2.5 in /Applications/anaconda3/lib/python3.7/site-packages (from requests>=2.20.0->cpi) (2.9)\n",
      "Requirement already satisfied: certifi>=2017.4.17 in /Applications/anaconda3/lib/python3.7/site-packages (from requests>=2.20.0->cpi) (2020.6.20)\n",
      "Requirement already satisfied: chardet<4,>=3.0.2 in /Applications/anaconda3/lib/python3.7/site-packages (from requests>=2.20.0->cpi) (3.0.4)\n",
      "Requirement already satisfied: urllib3!=1.25.0,!=1.25.1,<1.26,>=1.21.1 in /Applications/anaconda3/lib/python3.7/site-packages (from requests>=2.20.0->cpi) (1.25.8)\n",
      "Requirement already satisfied: six>=1.5 in /Applications/anaconda3/lib/python3.7/site-packages (from python-dateutil>=2.7.3->cpi) (1.12.0)\n",
      "Installing collected packages: cpi\n",
      "Successfully installed cpi-0.1.16\n",
      "\u001b[33mWARNING: You are using pip version 20.2.1; however, version 20.2.3 is available.\n",
      "You should consider upgrading via the '/Applications/anaconda3/bin/python -m pip install --upgrade pip' command.\u001b[0m\n"
     ]
    }
   ],
   "source": [
    "!pip install cpi"
   ]
  },
  {
   "cell_type": "code",
   "execution_count": 17,
   "metadata": {},
   "outputs": [
    {
     "data": {
      "text/plain": [
       "1041.9377593360996"
      ]
     },
     "execution_count": 17,
     "metadata": {},
     "output_type": "execute_result"
    }
   ],
   "source": [
    "import cpi\n"
   ]
  },
  {
   "cell_type": "code",
   "execution_count": 74,
   "metadata": {},
   "outputs": [],
   "source": [
    "adjusted_salaries_df = all_salaries_df.loc[(all_salaries_df['Year'] != 2020)&(all_salaries_df['Year'] != 2019)]\n"
   ]
  },
  {
   "cell_type": "code",
   "execution_count": 75,
   "metadata": {},
   "outputs": [
    {
     "name": "stderr",
     "output_type": "stream",
     "text": [
      "/Applications/anaconda3/lib/python3.7/site-packages/ipykernel_launcher.py:1: SettingWithCopyWarning: \n",
      "A value is trying to be set on a copy of a slice from a DataFrame.\n",
      "Try using .loc[row_indexer,col_indexer] = value instead\n",
      "\n",
      "See the caveats in the documentation: https://pandas.pydata.org/pandas-docs/stable/user_guide/indexing.html#returning-a-view-versus-a-copy\n",
      "  \"\"\"Entry point for launching an IPython kernel.\n"
     ]
    }
   ],
   "source": [
    "adjusted_salaries_df['Inflation'] = adjusted_salaries_df.apply(lambda x: cpi.inflate(x.Salary, x.Year), axis=1)\n"
   ]
  },
  {
   "cell_type": "code",
   "execution_count": 76,
   "metadata": {},
   "outputs": [
    {
     "name": "stderr",
     "output_type": "stream",
     "text": [
      "/Applications/anaconda3/lib/python3.7/site-packages/ipykernel_launcher.py:1: SettingWithCopyWarning: \n",
      "A value is trying to be set on a copy of a slice from a DataFrame.\n",
      "Try using .loc[row_indexer,col_indexer] = value instead\n",
      "\n",
      "See the caveats in the documentation: https://pandas.pydata.org/pandas-docs/stable/user_guide/indexing.html#returning-a-view-versus-a-copy\n",
      "  \"\"\"Entry point for launching an IPython kernel.\n"
     ]
    },
    {
     "data": {
      "text/html": [
       "<div>\n",
       "<style scoped>\n",
       "    .dataframe tbody tr th:only-of-type {\n",
       "        vertical-align: middle;\n",
       "    }\n",
       "\n",
       "    .dataframe tbody tr th {\n",
       "        vertical-align: top;\n",
       "    }\n",
       "\n",
       "    .dataframe thead th {\n",
       "        text-align: right;\n",
       "    }\n",
       "</style>\n",
       "<table border=\"1\" class=\"dataframe\">\n",
       "  <thead>\n",
       "    <tr style=\"text-align: right;\">\n",
       "      <th></th>\n",
       "      <th>Rank</th>\n",
       "      <th>Team</th>\n",
       "      <th>Salary</th>\n",
       "      <th>Year</th>\n",
       "      <th>Player</th>\n",
       "      <th>Position</th>\n",
       "      <th>Inflation</th>\n",
       "    </tr>\n",
       "  </thead>\n",
       "  <tbody>\n",
       "    <tr>\n",
       "      <th>36</th>\n",
       "      <td>153</td>\n",
       "      <td>Indiana Pacers</td>\n",
       "      <td>745000</td>\n",
       "      <td>2000</td>\n",
       "      <td>Al Harrington</td>\n",
       "      <td>PF</td>\n",
       "      <td>1086380</td>\n",
       "    </tr>\n",
       "    <tr>\n",
       "      <th>37</th>\n",
       "      <td>154</td>\n",
       "      <td>Miami Heat</td>\n",
       "      <td>728000</td>\n",
       "      <td>2000</td>\n",
       "      <td>Tim James</td>\n",
       "      <td>F</td>\n",
       "      <td>1061590</td>\n",
       "    </tr>\n",
       "    <tr>\n",
       "      <th>38</th>\n",
       "      <td>155</td>\n",
       "      <td>Philadelphia 76ers</td>\n",
       "      <td>684000</td>\n",
       "      <td>2000</td>\n",
       "      <td>Jumaine Jones</td>\n",
       "      <td>SF</td>\n",
       "      <td>997428</td>\n",
       "    </tr>\n",
       "    <tr>\n",
       "      <th>39</th>\n",
       "      <td>156</td>\n",
       "      <td>Utah Jazz</td>\n",
       "      <td>679000</td>\n",
       "      <td>2000</td>\n",
       "      <td>Scott Padgett</td>\n",
       "      <td>PF</td>\n",
       "      <td>990137</td>\n",
       "    </tr>\n",
       "    <tr>\n",
       "      <th>40</th>\n",
       "      <td>157</td>\n",
       "      <td>Milwaukee Bucks</td>\n",
       "      <td>301000</td>\n",
       "      <td>2000</td>\n",
       "      <td>Rafer Alston</td>\n",
       "      <td>PG</td>\n",
       "      <td>438926</td>\n",
       "    </tr>\n",
       "  </tbody>\n",
       "</table>\n",
       "</div>"
      ],
      "text/plain": [
       "    Rank                Team  Salary  Year         Player Position  Inflation\n",
       "36   153      Indiana Pacers  745000  2000  Al Harrington       PF    1086380\n",
       "37   154          Miami Heat  728000  2000      Tim James        F    1061590\n",
       "38   155  Philadelphia 76ers  684000  2000  Jumaine Jones       SF     997428\n",
       "39   156           Utah Jazz  679000  2000  Scott Padgett       PF     990137\n",
       "40   157     Milwaukee Bucks  301000  2000   Rafer Alston       PG     438926"
      ]
     },
     "execution_count": 76,
     "metadata": {},
     "output_type": "execute_result"
    }
   ],
   "source": [
    "adjusted_salaries_df['Inflation'] = adjusted_salaries_df['Inflation'].astype(int)\n",
    "adjusted_salaries_df.tail()"
   ]
  },
  {
   "cell_type": "code",
   "execution_count": 77,
   "metadata": {},
   "outputs": [
    {
     "name": "stderr",
     "output_type": "stream",
     "text": [
      "/Applications/anaconda3/lib/python3.7/site-packages/ipykernel_launcher.py:2: SettingWithCopyWarning: \n",
      "A value is trying to be set on a copy of a slice from a DataFrame.\n",
      "Try using .loc[row_indexer,col_indexer] = value instead\n",
      "\n",
      "See the caveats in the documentation: https://pandas.pydata.org/pandas-docs/stable/user_guide/indexing.html#returning-a-view-versus-a-copy\n",
      "  \n"
     ]
    }
   ],
   "source": [
    "current_salaries_df = all_salaries_df.loc[(all_salaries_df['Year'] == 2020)|(all_salaries_df['Year'] == 2019)]\n",
    "current_salaries_df['Inflation'] = current_salaries_df['Salary']\n"
   ]
  },
  {
   "cell_type": "code",
   "execution_count": 78,
   "metadata": {},
   "outputs": [],
   "source": [
    "final_salaries_df = pd.concat([current_salaries_df, adjusted_salaries_df], axis=0).reset_index(drop=True)"
   ]
  },
  {
   "cell_type": "code",
   "execution_count": 82,
   "metadata": {},
   "outputs": [
    {
     "data": {
      "text/html": [
       "<div>\n",
       "<style scoped>\n",
       "    .dataframe tbody tr th:only-of-type {\n",
       "        vertical-align: middle;\n",
       "    }\n",
       "\n",
       "    .dataframe tbody tr th {\n",
       "        vertical-align: top;\n",
       "    }\n",
       "\n",
       "    .dataframe thead th {\n",
       "        text-align: right;\n",
       "    }\n",
       "</style>\n",
       "<table border=\"1\" class=\"dataframe\">\n",
       "  <thead>\n",
       "    <tr style=\"text-align: right;\">\n",
       "      <th></th>\n",
       "      <th>Rank</th>\n",
       "      <th>Team</th>\n",
       "      <th>Player</th>\n",
       "      <th>Position</th>\n",
       "      <th>Salary</th>\n",
       "      <th>Inflation</th>\n",
       "    </tr>\n",
       "  </thead>\n",
       "  <tbody>\n",
       "    <tr>\n",
       "      <th>0</th>\n",
       "      <td>1</td>\n",
       "      <td>Golden State Warriors</td>\n",
       "      <td>Stephen Curry</td>\n",
       "      <td>PG</td>\n",
       "      <td>40231758</td>\n",
       "      <td>40231758</td>\n",
       "    </tr>\n",
       "    <tr>\n",
       "      <th>1</th>\n",
       "      <td>2</td>\n",
       "      <td>Oklahoma City Thunder</td>\n",
       "      <td>Chris Paul</td>\n",
       "      <td>PG</td>\n",
       "      <td>38506482</td>\n",
       "      <td>38506482</td>\n",
       "    </tr>\n",
       "    <tr>\n",
       "      <th>2</th>\n",
       "      <td>3</td>\n",
       "      <td>Houston Rockets</td>\n",
       "      <td>Russell Westbrook</td>\n",
       "      <td>PG</td>\n",
       "      <td>38506482</td>\n",
       "      <td>38506482</td>\n",
       "    </tr>\n",
       "    <tr>\n",
       "      <th>3</th>\n",
       "      <td>4</td>\n",
       "      <td>Washington Wizards</td>\n",
       "      <td>John Wall</td>\n",
       "      <td>PG</td>\n",
       "      <td>38199000</td>\n",
       "      <td>38199000</td>\n",
       "    </tr>\n",
       "    <tr>\n",
       "      <th>4</th>\n",
       "      <td>5</td>\n",
       "      <td>Brooklyn Nets</td>\n",
       "      <td>Kevin Durant</td>\n",
       "      <td>SF</td>\n",
       "      <td>38199000</td>\n",
       "      <td>38199000</td>\n",
       "    </tr>\n",
       "    <tr>\n",
       "      <th>...</th>\n",
       "      <td>...</td>\n",
       "      <td>...</td>\n",
       "      <td>...</td>\n",
       "      <td>...</td>\n",
       "      <td>...</td>\n",
       "      <td>...</td>\n",
       "    </tr>\n",
       "    <tr>\n",
       "      <th>9451</th>\n",
       "      <td>153</td>\n",
       "      <td>Indiana Pacers</td>\n",
       "      <td>Al Harrington</td>\n",
       "      <td>PF</td>\n",
       "      <td>745000</td>\n",
       "      <td>1086380</td>\n",
       "    </tr>\n",
       "    <tr>\n",
       "      <th>9452</th>\n",
       "      <td>154</td>\n",
       "      <td>Miami Heat</td>\n",
       "      <td>Tim James</td>\n",
       "      <td>F</td>\n",
       "      <td>728000</td>\n",
       "      <td>1061590</td>\n",
       "    </tr>\n",
       "    <tr>\n",
       "      <th>9453</th>\n",
       "      <td>155</td>\n",
       "      <td>Philadelphia 76ers</td>\n",
       "      <td>Jumaine Jones</td>\n",
       "      <td>SF</td>\n",
       "      <td>684000</td>\n",
       "      <td>997428</td>\n",
       "    </tr>\n",
       "    <tr>\n",
       "      <th>9454</th>\n",
       "      <td>156</td>\n",
       "      <td>Utah Jazz</td>\n",
       "      <td>Scott Padgett</td>\n",
       "      <td>PF</td>\n",
       "      <td>679000</td>\n",
       "      <td>990137</td>\n",
       "    </tr>\n",
       "    <tr>\n",
       "      <th>9455</th>\n",
       "      <td>157</td>\n",
       "      <td>Milwaukee Bucks</td>\n",
       "      <td>Rafer Alston</td>\n",
       "      <td>PG</td>\n",
       "      <td>301000</td>\n",
       "      <td>438926</td>\n",
       "    </tr>\n",
       "  </tbody>\n",
       "</table>\n",
       "<p>9456 rows × 6 columns</p>\n",
       "</div>"
      ],
      "text/plain": [
       "      Rank                   Team             Player Position    Salary  \\\n",
       "0        1  Golden State Warriors      Stephen Curry       PG  40231758   \n",
       "1        2  Oklahoma City Thunder         Chris Paul       PG  38506482   \n",
       "2        3        Houston Rockets  Russell Westbrook       PG  38506482   \n",
       "3        4     Washington Wizards          John Wall       PG  38199000   \n",
       "4        5          Brooklyn Nets       Kevin Durant       SF  38199000   \n",
       "...    ...                    ...                ...      ...       ...   \n",
       "9451   153         Indiana Pacers      Al Harrington       PF    745000   \n",
       "9452   154             Miami Heat          Tim James        F    728000   \n",
       "9453   155     Philadelphia 76ers      Jumaine Jones       SF    684000   \n",
       "9454   156              Utah Jazz      Scott Padgett       PF    679000   \n",
       "9455   157        Milwaukee Bucks       Rafer Alston       PG    301000   \n",
       "\n",
       "      Inflation  \n",
       "0      40231758  \n",
       "1      38506482  \n",
       "2      38506482  \n",
       "3      38199000  \n",
       "4      38199000  \n",
       "...         ...  \n",
       "9451    1086380  \n",
       "9452    1061590  \n",
       "9453     997428  \n",
       "9454     990137  \n",
       "9455     438926  \n",
       "\n",
       "[9456 rows x 6 columns]"
      ]
     },
     "execution_count": 82,
     "metadata": {},
     "output_type": "execute_result"
    }
   ],
   "source": [
    "final_salaries_df = final_salaries_df[['Rank', 'Team', 'Player', 'Position', 'Salary', 'Inflation']]\n",
    "final_salaries_df"
   ]
  },
  {
   "cell_type": "markdown",
   "metadata": {},
   "source": [
    "## Save to csv"
   ]
  },
  {
   "cell_type": "code",
   "execution_count": 83,
   "metadata": {},
   "outputs": [],
   "source": [
    "final_salaries_df.to_csv('nba_salaries.csv', index=False)"
   ]
  },
  {
   "cell_type": "code",
   "execution_count": null,
   "metadata": {},
   "outputs": [],
   "source": []
  }
 ],
 "metadata": {
  "kernelspec": {
   "display_name": "Python 3",
   "language": "python",
   "name": "python3"
  },
  "language_info": {
   "codemirror_mode": {
    "name": "ipython",
    "version": 3
   },
   "file_extension": ".py",
   "mimetype": "text/x-python",
   "name": "python",
   "nbconvert_exporter": "python",
   "pygments_lexer": "ipython3",
   "version": "3.7.7"
  }
 },
 "nbformat": 4,
 "nbformat_minor": 4
}
