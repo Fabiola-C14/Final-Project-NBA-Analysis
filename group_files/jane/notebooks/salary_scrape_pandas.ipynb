{
 "cells": [
  {
   "cell_type": "code",
   "execution_count": 1,
   "metadata": {},
   "outputs": [],
   "source": [
    "# Import libraries\n",
    "import pandas as pd"
   ]
  },
  {
   "cell_type": "markdown",
   "metadata": {},
   "source": [
    "### Scrape 2020 Player Salaries"
   ]
  },
  {
   "cell_type": "code",
   "execution_count": 2,
   "metadata": {},
   "outputs": [],
   "source": [
    "# Loop through all pages for URL and scrape tables\n",
    "\n",
    "# Set range for pages\n",
    "pages = []\n",
    "\n",
    "for i in range(2, 19):\n",
    "    pages.append(i)\n",
    "\n",
    "# Scrape tables for 2020 page 1\n",
    "url_2020 = 'http://www.espn.com/nba/salaries/_/seasontype/3'\n",
    "tables_2020 = pd.read_html(url_2020)[0]\n",
    "tables_2020['year'] = '2020'\n",
    "\n",
    "# # Set variable for dataframe\n",
    "tables_2020_pgs_df = pd.DataFrame()\n",
    "\n",
    "# # Set URL variable for all other pages\n",
    "for page in pages:\n",
    "    url_2020_pgs = f'http://www.espn.com/nba/salaries/_/page/{page}/seasontype/3'\n",
    "    tables_2020_pgs = pd.read_html(url_2020_pgs)[0]\n",
    "    tables_2020_pgs['year'] = '2020'\n",
    "    tables_2020_pgs_df = pd.concat(axis = 0, objs=[tables_2020_pgs, tables_2020_pgs_df])\n",
    "    "
   ]
  },
  {
   "cell_type": "code",
   "execution_count": 3,
   "metadata": {},
   "outputs": [
    {
     "data": {
      "text/plain": [
       "44"
      ]
     },
     "execution_count": 3,
     "metadata": {},
     "output_type": "execute_result"
    }
   ],
   "source": [
    "len(tables_2020)"
   ]
  },
  {
   "cell_type": "code",
   "execution_count": 4,
   "metadata": {},
   "outputs": [
    {
     "data": {
      "text/plain": [
       "541"
      ]
     },
     "execution_count": 4,
     "metadata": {},
     "output_type": "execute_result"
    }
   ],
   "source": [
    "len(tables_2020_pgs_df)"
   ]
  },
  {
   "cell_type": "markdown",
   "metadata": {},
   "source": [
    "### Scrape all other years"
   ]
  },
  {
   "cell_type": "code",
   "execution_count": 5,
   "metadata": {},
   "outputs": [
    {
     "data": {
      "text/plain": [
       "[2000,\n",
       " 2001,\n",
       " 2002,\n",
       " 2003,\n",
       " 2004,\n",
       " 2005,\n",
       " 2006,\n",
       " 2007,\n",
       " 2008,\n",
       " 2009,\n",
       " 2010,\n",
       " 2011,\n",
       " 2012,\n",
       " 2013,\n",
       " 2014,\n",
       " 2015,\n",
       " 2016,\n",
       " 2017,\n",
       " 2018,\n",
       " 2019]"
      ]
     },
     "execution_count": 5,
     "metadata": {},
     "output_type": "execute_result"
    }
   ],
   "source": [
    "years = []\n",
    "\n",
    "for i in range(2000, 2020):\n",
    "    years.append(i)\n",
    "years"
   ]
  },
  {
   "cell_type": "code",
   "execution_count": 6,
   "metadata": {},
   "outputs": [],
   "source": [
    "# tables_all_others = []\n",
    "tables_all_others_df = pd.DataFrame()\n",
    "\n",
    "# Scrape tables for all other years - page 1\n",
    "for year in years:\n",
    "    url_all_others = f'http://www.espn.com/nba/salaries/_/year/{year}/seasontype/3'\n",
    "    tables_all_others = pd.read_html(url_all_others)[0]\n",
    "    tables_all_others['year'] = year\n",
    "    tables_all_others_df = pd.concat(axis = 0, objs=[tables_all_others, tables_all_others_df])\n",
    "\n"
   ]
  },
  {
   "cell_type": "code",
   "execution_count": 7,
   "metadata": {},
   "outputs": [
    {
     "data": {
      "text/plain": [
       "880"
      ]
     },
     "execution_count": 7,
     "metadata": {},
     "output_type": "execute_result"
    }
   ],
   "source": [
    "len(tables_all_others_df)"
   ]
  },
  {
   "cell_type": "code",
   "execution_count": 8,
   "metadata": {},
   "outputs": [],
   "source": [
    "years = []\n",
    "\n",
    "for i in range(2000, 2020):\n",
    "    years.append(i)\n",
    "\n",
    "tables_all_others_pgs_df = pd.DataFrame()\n",
    "\n",
    "# Scrape tables for all other years - all other pages\n",
    "for year in years:\n",
    "    for page in pages:\n",
    "        url_all_others_pgs = f'http://www.espn.com/nba/salaries/_/year/{year}/page/{page}/seasontype/3'\n",
    "        tables_all_others_pgs = pd.read_html(url_all_others_pgs)[0]\n",
    "        tables_all_others_pgs['year'] = year\n",
    "        tables_all_others_pgs_df = pd.concat(axis = 0, objs=[tables_all_others_pgs, tables_all_others_pgs_df])\n"
   ]
  },
  {
   "cell_type": "code",
   "execution_count": 9,
   "metadata": {},
   "outputs": [
    {
     "data": {
      "text/plain": [
       "9077"
      ]
     },
     "execution_count": 9,
     "metadata": {},
     "output_type": "execute_result"
    }
   ],
   "source": [
    "len(tables_all_others_pgs_df)"
   ]
  },
  {
   "cell_type": "code",
   "execution_count": 10,
   "metadata": {},
   "outputs": [
    {
     "data": {
      "text/plain": [
       "10542"
      ]
     },
     "execution_count": 10,
     "metadata": {},
     "output_type": "execute_result"
    }
   ],
   "source": [
    "# Concat all dataframes\n",
    "all_salaries_df = pd.concat(axis = 0, objs=[tables_2020, tables_2020_pgs_df, tables_all_others_df, tables_all_others_pgs_df])\n",
    "len(all_salaries_df)"
   ]
  },
  {
   "cell_type": "code",
   "execution_count": 11,
   "metadata": {},
   "outputs": [
    {
     "name": "stderr",
     "output_type": "stream",
     "text": [
      "/Applications/anaconda3/lib/python3.7/site-packages/ipykernel_launcher.py:14: FutureWarning: Columnar iteration over characters will be deprecated in future releases.\n",
      "  \n"
     ]
    }
   ],
   "source": [
    "# Clean dataframe\n",
    "\n",
    "# Add column headers\n",
    "all_salaries_df.columns = ['Rank', 'Player_Position', 'Team', 'Salary', 'Year']\n",
    "\n",
    "# Drop na\n",
    "all_salaries_df = all_salaries_df.dropna()\n",
    "\n",
    "# Drop extra rows\n",
    "drop_row = all_salaries_df[ (all_salaries_df['Rank'] == 'RK') & (all_salaries_df['Player_Position'] == 'NAME') & (all_salaries_df['Team'] == 'TEAM') & (all_salaries_df['Salary'] == 'SALARY')].index\n",
    "all_salaries_df.drop(drop_row, inplace=True)\n",
    "\n",
    "# Split Player_Position into 2 columns\n",
    "all_salaries_df['Player'], all_salaries_df['Position'] = all_salaries_df['Player_Position'].str.split(',', 1).str\n",
    "\n",
    "\n",
    "\n",
    "# Convert salary to interger\n",
    "all_salaries_df['Salary'] = all_salaries_df['Salary'].replace('[\\$,]','',regex=True).astype(int)\n",
    "all_salaries_df['Rank'] = all_salaries_df['Rank'].astype(int)\n",
    "all_salaries_df['Year'] = all_salaries_df['Year'].astype(int)"
   ]
  },
  {
   "cell_type": "code",
   "execution_count": 12,
   "metadata": {},
   "outputs": [
    {
     "data": {
      "text/plain": [
       "9456"
      ]
     },
     "execution_count": 12,
     "metadata": {},
     "output_type": "execute_result"
    }
   ],
   "source": [
    "len(all_salaries_df)"
   ]
  },
  {
   "cell_type": "code",
   "execution_count": 13,
   "metadata": {},
   "outputs": [],
   "source": [
    "# Drop Player_Position column\n",
    "all_salaries_df = all_salaries_df.drop('Player_Position', axis = 1)\n"
   ]
  },
  {
   "cell_type": "code",
   "execution_count": 14,
   "metadata": {},
   "outputs": [
    {
     "data": {
      "text/html": [
       "<div>\n",
       "<style scoped>\n",
       "    .dataframe tbody tr th:only-of-type {\n",
       "        vertical-align: middle;\n",
       "    }\n",
       "\n",
       "    .dataframe tbody tr th {\n",
       "        vertical-align: top;\n",
       "    }\n",
       "\n",
       "    .dataframe thead th {\n",
       "        text-align: right;\n",
       "    }\n",
       "</style>\n",
       "<table border=\"1\" class=\"dataframe\">\n",
       "  <thead>\n",
       "    <tr style=\"text-align: right;\">\n",
       "      <th></th>\n",
       "      <th>Rank</th>\n",
       "      <th>Team</th>\n",
       "      <th>Salary</th>\n",
       "      <th>Year</th>\n",
       "      <th>Player</th>\n",
       "      <th>Position</th>\n",
       "    </tr>\n",
       "  </thead>\n",
       "  <tbody>\n",
       "    <tr>\n",
       "      <th>1</th>\n",
       "      <td>1</td>\n",
       "      <td>Golden State Warriors</td>\n",
       "      <td>40231758</td>\n",
       "      <td>2020</td>\n",
       "      <td>Stephen Curry</td>\n",
       "      <td>PG</td>\n",
       "    </tr>\n",
       "    <tr>\n",
       "      <th>2</th>\n",
       "      <td>2</td>\n",
       "      <td>Oklahoma City Thunder</td>\n",
       "      <td>38506482</td>\n",
       "      <td>2020</td>\n",
       "      <td>Chris Paul</td>\n",
       "      <td>PG</td>\n",
       "    </tr>\n",
       "    <tr>\n",
       "      <th>3</th>\n",
       "      <td>3</td>\n",
       "      <td>Houston Rockets</td>\n",
       "      <td>38506482</td>\n",
       "      <td>2020</td>\n",
       "      <td>Russell Westbrook</td>\n",
       "      <td>PG</td>\n",
       "    </tr>\n",
       "    <tr>\n",
       "      <th>4</th>\n",
       "      <td>4</td>\n",
       "      <td>Washington Wizards</td>\n",
       "      <td>38199000</td>\n",
       "      <td>2020</td>\n",
       "      <td>John Wall</td>\n",
       "      <td>PG</td>\n",
       "    </tr>\n",
       "    <tr>\n",
       "      <th>5</th>\n",
       "      <td>5</td>\n",
       "      <td>Brooklyn Nets</td>\n",
       "      <td>38199000</td>\n",
       "      <td>2020</td>\n",
       "      <td>Kevin Durant</td>\n",
       "      <td>SF</td>\n",
       "    </tr>\n",
       "    <tr>\n",
       "      <th>6</th>\n",
       "      <td>6</td>\n",
       "      <td>Houston Rockets</td>\n",
       "      <td>38199000</td>\n",
       "      <td>2020</td>\n",
       "      <td>James Harden</td>\n",
       "      <td>SG</td>\n",
       "    </tr>\n",
       "    <tr>\n",
       "      <th>7</th>\n",
       "      <td>7</td>\n",
       "      <td>Los Angeles Lakers</td>\n",
       "      <td>37436858</td>\n",
       "      <td>2020</td>\n",
       "      <td>LeBron James</td>\n",
       "      <td>SF</td>\n",
       "    </tr>\n",
       "    <tr>\n",
       "      <th>8</th>\n",
       "      <td>8</td>\n",
       "      <td>Toronto Raptors</td>\n",
       "      <td>34996296</td>\n",
       "      <td>2020</td>\n",
       "      <td>Kyle Lowry</td>\n",
       "      <td>PG</td>\n",
       "    </tr>\n",
       "    <tr>\n",
       "      <th>9</th>\n",
       "      <td>9</td>\n",
       "      <td>Detroit Pistons</td>\n",
       "      <td>34449964</td>\n",
       "      <td>2020</td>\n",
       "      <td>Blake Griffin</td>\n",
       "      <td>PF</td>\n",
       "    </tr>\n",
       "    <tr>\n",
       "      <th>10</th>\n",
       "      <td>10</td>\n",
       "      <td>Philadelphia 76ers</td>\n",
       "      <td>32742000</td>\n",
       "      <td>2020</td>\n",
       "      <td>Tobias Harris</td>\n",
       "      <td>SF</td>\n",
       "    </tr>\n",
       "    <tr>\n",
       "      <th>12</th>\n",
       "      <td>11</td>\n",
       "      <td>Miami Heat</td>\n",
       "      <td>32742000</td>\n",
       "      <td>2020</td>\n",
       "      <td>Jimmy Butler</td>\n",
       "      <td>SF</td>\n",
       "    </tr>\n",
       "    <tr>\n",
       "      <th>13</th>\n",
       "      <td>12</td>\n",
       "      <td>LA Clippers</td>\n",
       "      <td>32742000</td>\n",
       "      <td>2020</td>\n",
       "      <td>Kawhi Leonard</td>\n",
       "      <td>SF</td>\n",
       "    </tr>\n",
       "    <tr>\n",
       "      <th>14</th>\n",
       "      <td>13</td>\n",
       "      <td>Golden State Warriors</td>\n",
       "      <td>32742000</td>\n",
       "      <td>2020</td>\n",
       "      <td>Klay Thompson</td>\n",
       "      <td>SG</td>\n",
       "    </tr>\n",
       "    <tr>\n",
       "      <th>15</th>\n",
       "      <td>14</td>\n",
       "      <td>Boston Celtics</td>\n",
       "      <td>32742000</td>\n",
       "      <td>2020</td>\n",
       "      <td>Kemba Walker</td>\n",
       "      <td>PG</td>\n",
       "    </tr>\n",
       "    <tr>\n",
       "      <th>16</th>\n",
       "      <td>15</td>\n",
       "      <td>Boston Celtics</td>\n",
       "      <td>32700690</td>\n",
       "      <td>2020</td>\n",
       "      <td>Gordon Hayward</td>\n",
       "      <td>SF</td>\n",
       "    </tr>\n",
       "    <tr>\n",
       "      <th>17</th>\n",
       "      <td>16</td>\n",
       "      <td>Utah Jazz</td>\n",
       "      <td>32511624</td>\n",
       "      <td>2020</td>\n",
       "      <td>Mike Conley</td>\n",
       "      <td>PG</td>\n",
       "    </tr>\n",
       "    <tr>\n",
       "      <th>18</th>\n",
       "      <td>17</td>\n",
       "      <td>Brooklyn Nets</td>\n",
       "      <td>31742000</td>\n",
       "      <td>2020</td>\n",
       "      <td>Kyrie Irving</td>\n",
       "      <td>PG</td>\n",
       "    </tr>\n",
       "    <tr>\n",
       "      <th>19</th>\n",
       "      <td>18</td>\n",
       "      <td>Milwaukee Bucks</td>\n",
       "      <td>30603448</td>\n",
       "      <td>2020</td>\n",
       "      <td>Khris Middleton</td>\n",
       "      <td>SF</td>\n",
       "    </tr>\n",
       "    <tr>\n",
       "      <th>20</th>\n",
       "      <td>19</td>\n",
       "      <td>LA Clippers</td>\n",
       "      <td>30560700</td>\n",
       "      <td>2020</td>\n",
       "      <td>Paul George</td>\n",
       "      <td>SG</td>\n",
       "    </tr>\n",
       "    <tr>\n",
       "      <th>21</th>\n",
       "      <td>20</td>\n",
       "      <td>Denver Nuggets</td>\n",
       "      <td>30350000</td>\n",
       "      <td>2020</td>\n",
       "      <td>Paul Millsap</td>\n",
       "      <td>PF</td>\n",
       "    </tr>\n",
       "    <tr>\n",
       "      <th>23</th>\n",
       "      <td>21</td>\n",
       "      <td>Portland Trail Blazers</td>\n",
       "      <td>29802321</td>\n",
       "      <td>2020</td>\n",
       "      <td>Damian Lillard</td>\n",
       "      <td>PG</td>\n",
       "    </tr>\n",
       "    <tr>\n",
       "      <th>24</th>\n",
       "      <td>22</td>\n",
       "      <td>Cleveland Cavaliers</td>\n",
       "      <td>28942830</td>\n",
       "      <td>2020</td>\n",
       "      <td>Kevin Love</td>\n",
       "      <td>PF</td>\n",
       "    </tr>\n",
       "    <tr>\n",
       "      <th>25</th>\n",
       "      <td>23</td>\n",
       "      <td>Philadelphia 76ers</td>\n",
       "      <td>28000000</td>\n",
       "      <td>2020</td>\n",
       "      <td>Al Horford</td>\n",
       "      <td>PF</td>\n",
       "    </tr>\n",
       "    <tr>\n",
       "      <th>26</th>\n",
       "      <td>24</td>\n",
       "      <td>Orlando Magic</td>\n",
       "      <td>28000000</td>\n",
       "      <td>2020</td>\n",
       "      <td>Nikola Vucevic</td>\n",
       "      <td>C</td>\n",
       "    </tr>\n",
       "    <tr>\n",
       "      <th>27</th>\n",
       "      <td>25</td>\n",
       "      <td>San Antonio Spurs</td>\n",
       "      <td>27739975</td>\n",
       "      <td>2020</td>\n",
       "      <td>DeMar DeRozan</td>\n",
       "      <td>SF</td>\n",
       "    </tr>\n",
       "    <tr>\n",
       "      <th>28</th>\n",
       "      <td>26</td>\n",
       "      <td>Portland Trail Blazers</td>\n",
       "      <td>27556959</td>\n",
       "      <td>2020</td>\n",
       "      <td>CJ McCollum</td>\n",
       "      <td>SG</td>\n",
       "    </tr>\n",
       "    <tr>\n",
       "      <th>29</th>\n",
       "      <td>27</td>\n",
       "      <td>Philadelphia 76ers</td>\n",
       "      <td>27504630</td>\n",
       "      <td>2020</td>\n",
       "      <td>Joel Embiid</td>\n",
       "      <td>C</td>\n",
       "    </tr>\n",
       "    <tr>\n",
       "      <th>30</th>\n",
       "      <td>28</td>\n",
       "      <td>Minnesota Timberwolves</td>\n",
       "      <td>27504630</td>\n",
       "      <td>2020</td>\n",
       "      <td>Andrew Wiggins</td>\n",
       "      <td>SF</td>\n",
       "    </tr>\n",
       "    <tr>\n",
       "      <th>31</th>\n",
       "      <td>29</td>\n",
       "      <td>Denver Nuggets</td>\n",
       "      <td>27504630</td>\n",
       "      <td>2020</td>\n",
       "      <td>Nikola Jokic</td>\n",
       "      <td>C</td>\n",
       "    </tr>\n",
       "    <tr>\n",
       "      <th>32</th>\n",
       "      <td>30</td>\n",
       "      <td>Phoenix Suns</td>\n",
       "      <td>27285000</td>\n",
       "      <td>2020</td>\n",
       "      <td>Devin Booker</td>\n",
       "      <td>SG</td>\n",
       "    </tr>\n",
       "  </tbody>\n",
       "</table>\n",
       "</div>"
      ],
      "text/plain": [
       "    Rank                    Team    Salary  Year             Player Position\n",
       "1      1   Golden State Warriors  40231758  2020      Stephen Curry       PG\n",
       "2      2   Oklahoma City Thunder  38506482  2020         Chris Paul       PG\n",
       "3      3         Houston Rockets  38506482  2020  Russell Westbrook       PG\n",
       "4      4      Washington Wizards  38199000  2020          John Wall       PG\n",
       "5      5           Brooklyn Nets  38199000  2020       Kevin Durant       SF\n",
       "6      6         Houston Rockets  38199000  2020       James Harden       SG\n",
       "7      7      Los Angeles Lakers  37436858  2020       LeBron James       SF\n",
       "8      8         Toronto Raptors  34996296  2020         Kyle Lowry       PG\n",
       "9      9         Detroit Pistons  34449964  2020      Blake Griffin       PF\n",
       "10    10      Philadelphia 76ers  32742000  2020      Tobias Harris       SF\n",
       "12    11              Miami Heat  32742000  2020       Jimmy Butler       SF\n",
       "13    12             LA Clippers  32742000  2020      Kawhi Leonard       SF\n",
       "14    13   Golden State Warriors  32742000  2020      Klay Thompson       SG\n",
       "15    14          Boston Celtics  32742000  2020       Kemba Walker       PG\n",
       "16    15          Boston Celtics  32700690  2020     Gordon Hayward       SF\n",
       "17    16               Utah Jazz  32511624  2020        Mike Conley       PG\n",
       "18    17           Brooklyn Nets  31742000  2020       Kyrie Irving       PG\n",
       "19    18         Milwaukee Bucks  30603448  2020    Khris Middleton       SF\n",
       "20    19             LA Clippers  30560700  2020        Paul George       SG\n",
       "21    20          Denver Nuggets  30350000  2020       Paul Millsap       PF\n",
       "23    21  Portland Trail Blazers  29802321  2020     Damian Lillard       PG\n",
       "24    22     Cleveland Cavaliers  28942830  2020         Kevin Love       PF\n",
       "25    23      Philadelphia 76ers  28000000  2020         Al Horford       PF\n",
       "26    24           Orlando Magic  28000000  2020     Nikola Vucevic        C\n",
       "27    25       San Antonio Spurs  27739975  2020      DeMar DeRozan       SF\n",
       "28    26  Portland Trail Blazers  27556959  2020        CJ McCollum       SG\n",
       "29    27      Philadelphia 76ers  27504630  2020        Joel Embiid        C\n",
       "30    28  Minnesota Timberwolves  27504630  2020     Andrew Wiggins       SF\n",
       "31    29          Denver Nuggets  27504630  2020       Nikola Jokic        C\n",
       "32    30            Phoenix Suns  27285000  2020       Devin Booker       SG"
      ]
     },
     "execution_count": 14,
     "metadata": {},
     "output_type": "execute_result"
    }
   ],
   "source": [
    "all_salaries_df = all_salaries_df.sort_values(['Year', 'Rank'], ascending = (False, True))\n",
    "                                              \n",
    "all_salaries_df.head(30)"
   ]
  },
  {
   "cell_type": "code",
   "execution_count": 15,
   "metadata": {},
   "outputs": [],
   "source": [
    "all_salaries_df.to_csv('nba_salaries.csv', index=False)"
   ]
  },
  {
   "cell_type": "code",
   "execution_count": null,
   "metadata": {},
   "outputs": [],
   "source": []
  }
 ],
 "metadata": {
  "kernelspec": {
   "display_name": "Python 3",
   "language": "python",
   "name": "python3"
  },
  "language_info": {
   "codemirror_mode": {
    "name": "ipython",
    "version": 3
   },
   "file_extension": ".py",
   "mimetype": "text/x-python",
   "name": "python",
   "nbconvert_exporter": "python",
   "pygments_lexer": "ipython3",
   "version": "3.7.7"
  }
 },
 "nbformat": 4,
 "nbformat_minor": 4
}
